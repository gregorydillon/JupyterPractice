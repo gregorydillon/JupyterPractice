{
 "cells": [
  {
   "cell_type": "code",
   "execution_count": 1,
   "metadata": {
    "collapsed": true
   },
   "outputs": [],
   "source": [
    "import numpy as np\n",
    "import pandas as pd\n"
   ]
  },
  {
   "cell_type": "code",
   "execution_count": 14,
   "metadata": {
    "collapsed": true
   },
   "outputs": [],
   "source": [
    "# Clearchannel Example"
   ]
  },
  {
   "cell_type": "code",
   "execution_count": 10,
   "metadata": {
    "collapsed": false
   },
   "outputs": [
    {
     "data": {
      "text/plain": [
       "'https://data.sfgov.org/resource/af6r-k7g6.csv?$limit=50000'"
      ]
     },
     "execution_count": 10,
     "metadata": {},
     "output_type": "execute_result"
    }
   ],
   "source": [
    "url = 'https://data.sfgov.org/resource/af6r-k7g6.csv'\n",
    "limit = '?$limit=50000'\n",
    "url = url+limit\n",
    "url"
   ]
  },
  {
   "cell_type": "code",
   "execution_count": 11,
   "metadata": {
    "collapsed": false
   },
   "outputs": [],
   "source": [
    "df=pd.read_csv(url)"
   ]
  },
  {
   "cell_type": "code",
   "execution_count": 12,
   "metadata": {
    "collapsed": false
   },
   "outputs": [
    {
     "data": {
      "text/html": [
       "<div>\n",
       "<table border=\"1\" class=\"dataframe\">\n",
       "  <thead>\n",
       "    <tr style=\"text-align: right;\">\n",
       "      <th></th>\n",
       "      <th>CaseID</th>\n",
       "      <th>Opened</th>\n",
       "      <th>Closed</th>\n",
       "      <th>Updated</th>\n",
       "      <th>Status</th>\n",
       "      <th>Status Notes</th>\n",
       "      <th>Responsible Agency</th>\n",
       "      <th>Category</th>\n",
       "      <th>Request Type</th>\n",
       "      <th>Request Details</th>\n",
       "      <th>Address</th>\n",
       "      <th>Supervisor District</th>\n",
       "      <th>Neighborhood</th>\n",
       "      <th>Point</th>\n",
       "      <th>Source</th>\n",
       "      <th>Media URL</th>\n",
       "    </tr>\n",
       "  </thead>\n",
       "  <tbody>\n",
       "    <tr>\n",
       "      <th>0</th>\n",
       "      <td>6594677</td>\n",
       "      <td>12/04/2016 08:14:06 PM</td>\n",
       "      <td>NaN</td>\n",
       "      <td>12/04/2016 08:16:40 PM</td>\n",
       "      <td>Open</td>\n",
       "      <td>Open</td>\n",
       "      <td>Clear Channel - Transit Queue</td>\n",
       "      <td>Damaged Property</td>\n",
       "      <td>Damaged Transit_Shelter_Platform_Hazardous</td>\n",
       "      <td>Transit_Shelter_Platform_Hazardous</td>\n",
       "      <td>Intersection of 3RD ST and 23RD ST</td>\n",
       "      <td>10.0</td>\n",
       "      <td>Central Waterfront</td>\n",
       "      <td>(37.755389865731, -122.388001027676)</td>\n",
       "      <td>Voice In</td>\n",
       "      <td>NaN</td>\n",
       "    </tr>\n",
       "    <tr>\n",
       "      <th>1</th>\n",
       "      <td>6594184</td>\n",
       "      <td>12/04/2016 04:16:43 PM</td>\n",
       "      <td>NaN</td>\n",
       "      <td>12/04/2016 04:16:43 PM</td>\n",
       "      <td>Open</td>\n",
       "      <td>Open</td>\n",
       "      <td>Clear Channel - Transit Queue</td>\n",
       "      <td>Graffiti Public Property</td>\n",
       "      <td>Not_Offensive Graffiti on Public Property</td>\n",
       "      <td>Transit_Shelter_Platform - Not_Offensive</td>\n",
       "      <td>Intersection of HAYES ST and PIERCE ST</td>\n",
       "      <td>5.0</td>\n",
       "      <td>Alamo Square</td>\n",
       "      <td>(37.7754168579205, -122.434483333177)</td>\n",
       "      <td>Open311</td>\n",
       "      <td>http://mobile311.sfgov.org/media/san_francisco...</td>\n",
       "    </tr>\n",
       "    <tr>\n",
       "      <th>2</th>\n",
       "      <td>6594119</td>\n",
       "      <td>12/04/2016 03:47:50 PM</td>\n",
       "      <td>NaN</td>\n",
       "      <td>12/04/2016 03:47:50 PM</td>\n",
       "      <td>Open</td>\n",
       "      <td>Open</td>\n",
       "      <td>Clear Channel - Transit Queue</td>\n",
       "      <td>Street and Sidewalk Cleaning</td>\n",
       "      <td>Transit_shelter_platform</td>\n",
       "      <td>Transit_shelter_platform</td>\n",
       "      <td>Intersection of 19TH ST and SHOTWELL ST</td>\n",
       "      <td>9.0</td>\n",
       "      <td>Mission</td>\n",
       "      <td>(37.7604332780234, -122.415928819083)</td>\n",
       "      <td>Web Self Service</td>\n",
       "      <td>http://mobile311.sfgov.org/media/san_francisco...</td>\n",
       "    </tr>\n",
       "    <tr>\n",
       "      <th>3</th>\n",
       "      <td>6594027</td>\n",
       "      <td>12/04/2016 03:14:10 PM</td>\n",
       "      <td>NaN</td>\n",
       "      <td>12/04/2016 03:15:07 PM</td>\n",
       "      <td>Open</td>\n",
       "      <td>Open</td>\n",
       "      <td>Clear Channel - Transit Queue</td>\n",
       "      <td>Graffiti Public Property</td>\n",
       "      <td>Not_Offensive Graffiti on Public Property</td>\n",
       "      <td>Transit_Shelter_Platform - Not_Offensive</td>\n",
       "      <td>Intersection of BACON ST and GOETTINGEN ST</td>\n",
       "      <td>9.0</td>\n",
       "      <td>Portola</td>\n",
       "      <td>(37.7268583972661, -122.406565235904)</td>\n",
       "      <td>Voice In</td>\n",
       "      <td>NaN</td>\n",
       "    </tr>\n",
       "    <tr>\n",
       "      <th>4</th>\n",
       "      <td>6593822</td>\n",
       "      <td>12/04/2016 02:04:57 PM</td>\n",
       "      <td>NaN</td>\n",
       "      <td>12/04/2016 02:04:57 PM</td>\n",
       "      <td>Open</td>\n",
       "      <td>Open</td>\n",
       "      <td>Clear Channel - Transit Queue</td>\n",
       "      <td>Damaged Property</td>\n",
       "      <td>Damaged Transit_Shelter_Platform</td>\n",
       "      <td>Transit_Shelter_Platform</td>\n",
       "      <td>1158 POTRERO AVE, SAN FRANCISCO, CA, 94110</td>\n",
       "      <td>9.0</td>\n",
       "      <td>Mission</td>\n",
       "      <td>(37.753654550936, -122.406622025646)</td>\n",
       "      <td>Open311</td>\n",
       "      <td>http://mobile311.sfgov.org/media/san_francisco...</td>\n",
       "    </tr>\n",
       "  </tbody>\n",
       "</table>\n",
       "</div>"
      ],
      "text/plain": [
       "    CaseID                  Opened Closed                 Updated Status  \\\n",
       "0  6594677  12/04/2016 08:14:06 PM    NaN  12/04/2016 08:16:40 PM   Open   \n",
       "1  6594184  12/04/2016 04:16:43 PM    NaN  12/04/2016 04:16:43 PM   Open   \n",
       "2  6594119  12/04/2016 03:47:50 PM    NaN  12/04/2016 03:47:50 PM   Open   \n",
       "3  6594027  12/04/2016 03:14:10 PM    NaN  12/04/2016 03:15:07 PM   Open   \n",
       "4  6593822  12/04/2016 02:04:57 PM    NaN  12/04/2016 02:04:57 PM   Open   \n",
       "\n",
       "  Status Notes             Responsible Agency                      Category  \\\n",
       "0         Open  Clear Channel - Transit Queue              Damaged Property   \n",
       "1         Open  Clear Channel - Transit Queue      Graffiti Public Property   \n",
       "2         Open  Clear Channel - Transit Queue  Street and Sidewalk Cleaning   \n",
       "3         Open  Clear Channel - Transit Queue      Graffiti Public Property   \n",
       "4         Open  Clear Channel - Transit Queue              Damaged Property   \n",
       "\n",
       "                                 Request Type  \\\n",
       "0  Damaged Transit_Shelter_Platform_Hazardous   \n",
       "1   Not_Offensive Graffiti on Public Property   \n",
       "2                    Transit_shelter_platform   \n",
       "3   Not_Offensive Graffiti on Public Property   \n",
       "4            Damaged Transit_Shelter_Platform   \n",
       "\n",
       "                            Request Details  \\\n",
       "0        Transit_Shelter_Platform_Hazardous   \n",
       "1  Transit_Shelter_Platform - Not_Offensive   \n",
       "2                  Transit_shelter_platform   \n",
       "3  Transit_Shelter_Platform - Not_Offensive   \n",
       "4                  Transit_Shelter_Platform   \n",
       "\n",
       "                                      Address  Supervisor District  \\\n",
       "0          Intersection of 3RD ST and 23RD ST                 10.0   \n",
       "1      Intersection of HAYES ST and PIERCE ST                  5.0   \n",
       "2     Intersection of 19TH ST and SHOTWELL ST                  9.0   \n",
       "3  Intersection of BACON ST and GOETTINGEN ST                  9.0   \n",
       "4  1158 POTRERO AVE, SAN FRANCISCO, CA, 94110                  9.0   \n",
       "\n",
       "         Neighborhood                                  Point  \\\n",
       "0  Central Waterfront   (37.755389865731, -122.388001027676)   \n",
       "1        Alamo Square  (37.7754168579205, -122.434483333177)   \n",
       "2             Mission  (37.7604332780234, -122.415928819083)   \n",
       "3             Portola  (37.7268583972661, -122.406565235904)   \n",
       "4             Mission   (37.753654550936, -122.406622025646)   \n",
       "\n",
       "             Source                                          Media URL  \n",
       "0          Voice In                                                NaN  \n",
       "1           Open311  http://mobile311.sfgov.org/media/san_francisco...  \n",
       "2  Web Self Service  http://mobile311.sfgov.org/media/san_francisco...  \n",
       "3          Voice In                                                NaN  \n",
       "4           Open311  http://mobile311.sfgov.org/media/san_francisco...  "
      ]
     },
     "execution_count": 12,
     "metadata": {},
     "output_type": "execute_result"
    }
   ],
   "source": [
    "df.head(5)"
   ]
  },
  {
   "cell_type": "code",
   "execution_count": 13,
   "metadata": {
    "collapsed": false
   },
   "outputs": [
    {
     "data": {
      "text/plain": [
       "9827"
      ]
     },
     "execution_count": 13,
     "metadata": {},
     "output_type": "execute_result"
    }
   ],
   "source": [
    "len(df)"
   ]
  },
  {
   "cell_type": "code",
   "execution_count": null,
   "metadata": {
    "collapsed": true
   },
   "outputs": [],
   "source": []
  }
 ],
 "metadata": {
  "kernelspec": {
   "display_name": "Python 3",
   "language": "python",
   "name": "python3"
  },
  "language_info": {
   "codemirror_mode": {
    "name": "ipython",
    "version": 3
   },
   "file_extension": ".py",
   "mimetype": "text/x-python",
   "name": "python",
   "nbconvert_exporter": "python",
   "pygments_lexer": "ipython3",
   "version": "3.5.2"
  }
 },
 "nbformat": 4,
 "nbformat_minor": 1
}
