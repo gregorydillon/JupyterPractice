{
 "cells": [
  {
   "cell_type": "markdown",
   "metadata": {},
   "source": [
    "\n",
    "\n",
    "Question to answer, geographically, how do the locations of encampments compare to the reports for behavior"
   ]
  },
  {
   "cell_type": "markdown",
   "metadata": {
    "collapsed": true
   },
   "source": [
    "The source of the information is from the San Francisco Open Data Portal\n",
    "On that portal, I've created a dataset of Encampments\n",
    "https://data.sfgov.org/profile/Gregory/xm4t-k5h4?q=encampment&sortBy=relevance&utf8=%E2%9C%93\n"
   ]
  },
  {
   "cell_type": "markdown",
   "metadata": {},
   "source": [
    "# San Francisco Homeless with Video\n",
    "\n",
    "\n"
   ]
  },
  {
   "cell_type": "markdown",
   "metadata": {},
   "source": [
    "\n",
    "Import Libraries & get url\n"
   ]
  },
  {
   "cell_type": "code",
   "execution_count": 2,
   "metadata": {
    "collapsed": false
   },
   "outputs": [],
   "source": [
    "import numpy as np\n",
    "import pandas as pd\n",
    "import matplotlib.pyplot as plt\n",
    "\n",
    "%matplotlib inline\n",
    "\n",
    "\n"
   ]
  },
  {
   "cell_type": "markdown",
   "metadata": {},
   "source": [
    "## Get yesterday variable in bash and format it for url"
   ]
  },
  {
   "cell_type": "code",
   "execution_count": 3,
   "metadata": {
    "collapsed": false
   },
   "outputs": [
    {
     "name": "stdout",
     "output_type": "stream",
     "text": [
      "['2016-12-19'] ['2016-12-18'] ['2016-12-13']\n",
      "['2016-12-18']\n",
      "'2016-12-18'\n"
     ]
    }
   ],
   "source": [
    "#date format 'year-mm-dd'\n",
    "# date -d \"2 weeks ago\"\n",
    "\n",
    "yesterday = !date -d \"yesterday 13:00 \" '+%Y-%m-%d'\n",
    "\n",
    "twoDaysAgo = !date -d \"2 days ago 13:00 \" '+%Y-%m-%d'\n",
    "oneWeekAgo = !date -d \"1 week ago 13:00 \" '+%Y-%m-%d'\n",
    "\n",
    "beginDate = twoDaysAgo\n",
    "print(yesterday, twoDaysAgo, oneWeekAgo)\n",
    "print(beginDate)\n",
    "startdate = str(beginDate)[1:-1]\n",
    "print(startdate)\n",
    "\n",
    "\n",
    "#hard code option\n",
    "#startdate = \"'2016-12-09'\""
   ]
  },
  {
   "cell_type": "markdown",
   "metadata": {},
   "source": [
    "### get url"
   ]
  },
  {
   "cell_type": "code",
   "execution_count": 4,
   "metadata": {
    "collapsed": false
   },
   "outputs": [
    {
     "name": "stdout",
     "output_type": "stream",
     "text": [
      "https://data.sfgov.org/resource/gbya-e2d3.csv?$where=opened>='2016-12-18'\n"
     ]
    }
   ],
   "source": [
    "#url = 'https://data.sfgov.org/resource/gbya-e2d3.csv' // homeless\n",
    "url = 'https://data.sfgov.org/resource/gbya-e2d3.csv'\n",
    "#url = 'https://data.sfgov.org/resource/rme2-xgvs.csv'// graffiti\n",
    "modify= \"?$where=opened\"\n",
    "operator = '>='\n",
    "#date format 'year-mm-dd'\n",
    "\n",
    "\n",
    "url = url + modify + operator + str(startdate)\n",
    "print(url)\n"
   ]
  },
  {
   "cell_type": "code",
   "execution_count": 5,
   "metadata": {
    "collapsed": false
   },
   "outputs": [],
   "source": [
    "#df1 = pd.read_csv(url)\n",
    "#df2 = pd.read_csv(url2)\n",
    "#df =  pd.concat([df1,df2])"
   ]
  },
  {
   "cell_type": "markdown",
   "metadata": {},
   "source": [
    "## Set Display Column with wider so no problem with Media URL series"
   ]
  },
  {
   "cell_type": "code",
   "execution_count": 6,
   "metadata": {
    "collapsed": false
   },
   "outputs": [],
   "source": [
    "pd.options.display.max_colwidth=115"
   ]
  },
  {
   "cell_type": "markdown",
   "metadata": {},
   "source": [
    "## Setup to display images - working, work to do"
   ]
  },
  {
   "cell_type": "code",
   "execution_count": 7,
   "metadata": {
    "collapsed": false
   },
   "outputs": [],
   "source": [
    "from IPython.display import Image\n",
    "from IPython.core.display import HTML \n",
    "from IPython.core.display import Image, display\n",
    "\n"
   ]
  },
  {
   "cell_type": "markdown",
   "metadata": {},
   "source": [
    "## create data frame"
   ]
  },
  {
   "cell_type": "code",
   "execution_count": 8,
   "metadata": {
    "collapsed": true
   },
   "outputs": [],
   "source": [
    "df = pd.read_csv(url)"
   ]
  },
  {
   "cell_type": "code",
   "execution_count": 9,
   "metadata": {
    "collapsed": false
   },
   "outputs": [
    {
     "data": {
      "text/plain": [
       "(39, 16)"
      ]
     },
     "execution_count": 9,
     "metadata": {},
     "output_type": "execute_result"
    }
   ],
   "source": [
    "df.shape"
   ]
  },
  {
   "cell_type": "markdown",
   "metadata": {},
   "source": [
    "#### wow, 5 days > 1000 reports"
   ]
  },
  {
   "cell_type": "code",
   "execution_count": 10,
   "metadata": {
    "collapsed": false
   },
   "outputs": [
    {
     "data": {
      "text/html": [
       "<div>\n",
       "<table border=\"1\" class=\"dataframe\">\n",
       "  <thead>\n",
       "    <tr style=\"text-align: right;\">\n",
       "      <th></th>\n",
       "      <th>CaseID</th>\n",
       "      <th>Opened</th>\n",
       "      <th>Closed</th>\n",
       "      <th>Updated</th>\n",
       "      <th>Status</th>\n",
       "      <th>Status Notes</th>\n",
       "      <th>Responsible Agency</th>\n",
       "      <th>Category</th>\n",
       "      <th>Request Type</th>\n",
       "      <th>Request Details</th>\n",
       "      <th>Address</th>\n",
       "      <th>Supervisor District</th>\n",
       "      <th>Neighborhood</th>\n",
       "      <th>Point</th>\n",
       "      <th>Source</th>\n",
       "      <th>Media URL</th>\n",
       "    </tr>\n",
       "  </thead>\n",
       "  <tbody>\n",
       "    <tr>\n",
       "      <th>0</th>\n",
       "      <td>6640512</td>\n",
       "      <td>12/18/2016 11:13:26 PM</td>\n",
       "      <td>NaN</td>\n",
       "      <td>12/18/2016 11:13:26 PM</td>\n",
       "      <td>Open</td>\n",
       "      <td>accepted</td>\n",
       "      <td>DPW Ops Queue</td>\n",
       "      <td>Street and Sidewalk Cleaning</td>\n",
       "      <td>Illegal Encampment</td>\n",
       "      <td>Encampment Cleanup</td>\n",
       "      <td>Intersection of LEAVENWORTH ST and SUTTER ST</td>\n",
       "      <td>3</td>\n",
       "      <td>Lower Nob Hill</td>\n",
       "      <td>(37.7883877916853, -122.41518523659)</td>\n",
       "      <td>Open311</td>\n",
       "      <td>http://mobile311.sfgov.org/media/san_francisco/report/photos/585788913da153f1b6e80b78/report.jpg</td>\n",
       "    </tr>\n",
       "    <tr>\n",
       "      <th>1</th>\n",
       "      <td>6640498</td>\n",
       "      <td>12/18/2016 10:32:05 PM</td>\n",
       "      <td>NaN</td>\n",
       "      <td>12/18/2016 10:52:20 PM</td>\n",
       "      <td>Open</td>\n",
       "      <td>accepted</td>\n",
       "      <td>DPW Ops Queue</td>\n",
       "      <td>Street and Sidewalk Cleaning</td>\n",
       "      <td>Illegal Encampment</td>\n",
       "      <td>Encampment Cleanup</td>\n",
       "      <td>1500 SOUTH VAN NESS AVE, SAN FRANCISCO, CA, 94110</td>\n",
       "      <td>9</td>\n",
       "      <td>Mission</td>\n",
       "      <td>(37.7489895689, -122.416097672246)</td>\n",
       "      <td>Voice In</td>\n",
       "      <td>NaN</td>\n",
       "    </tr>\n",
       "    <tr>\n",
       "      <th>2</th>\n",
       "      <td>6640495</td>\n",
       "      <td>12/18/2016 10:28:23 PM</td>\n",
       "      <td>NaN</td>\n",
       "      <td>12/18/2016 10:28:23 PM</td>\n",
       "      <td>Open</td>\n",
       "      <td>accepted</td>\n",
       "      <td>DPW Ops Queue</td>\n",
       "      <td>Street and Sidewalk Cleaning</td>\n",
       "      <td>Illegal Encampment</td>\n",
       "      <td>Encampment Cleanup</td>\n",
       "      <td>Intersection of BEALE ST and HARRISON ST</td>\n",
       "      <td>6</td>\n",
       "      <td>Rincon Hill</td>\n",
       "      <td>(37.7874551164624, -122.391179585987)</td>\n",
       "      <td>Open311</td>\n",
       "      <td>NaN</td>\n",
       "    </tr>\n",
       "  </tbody>\n",
       "</table>\n",
       "</div>"
      ],
      "text/plain": [
       "    CaseID                  Opened Closed                 Updated Status  \\\n",
       "0  6640512  12/18/2016 11:13:26 PM    NaN  12/18/2016 11:13:26 PM   Open   \n",
       "1  6640498  12/18/2016 10:32:05 PM    NaN  12/18/2016 10:52:20 PM   Open   \n",
       "2  6640495  12/18/2016 10:28:23 PM    NaN  12/18/2016 10:28:23 PM   Open   \n",
       "\n",
       "  Status Notes Responsible Agency                      Category  \\\n",
       "0     accepted      DPW Ops Queue  Street and Sidewalk Cleaning   \n",
       "1     accepted      DPW Ops Queue  Street and Sidewalk Cleaning   \n",
       "2     accepted      DPW Ops Queue  Street and Sidewalk Cleaning   \n",
       "\n",
       "         Request Type     Request Details  \\\n",
       "0  Illegal Encampment  Encampment Cleanup   \n",
       "1  Illegal Encampment  Encampment Cleanup   \n",
       "2  Illegal Encampment  Encampment Cleanup   \n",
       "\n",
       "                                             Address  Supervisor District  \\\n",
       "0       Intersection of LEAVENWORTH ST and SUTTER ST                    3   \n",
       "1  1500 SOUTH VAN NESS AVE, SAN FRANCISCO, CA, 94110                    9   \n",
       "2           Intersection of BEALE ST and HARRISON ST                    6   \n",
       "\n",
       "     Neighborhood                                  Point    Source  \\\n",
       "0  Lower Nob Hill   (37.7883877916853, -122.41518523659)   Open311   \n",
       "1         Mission     (37.7489895689, -122.416097672246)  Voice In   \n",
       "2     Rincon Hill  (37.7874551164624, -122.391179585987)   Open311   \n",
       "\n",
       "                                                                                          Media URL  \n",
       "0  http://mobile311.sfgov.org/media/san_francisco/report/photos/585788913da153f1b6e80b78/report.jpg  \n",
       "1                                                                                               NaN  \n",
       "2                                                                                               NaN  "
      ]
     },
     "execution_count": 10,
     "metadata": {},
     "output_type": "execute_result"
    }
   ],
   "source": [
    "df.head(3)"
   ]
  },
  {
   "cell_type": "code",
   "execution_count": 11,
   "metadata": {
    "collapsed": false
   },
   "outputs": [],
   "source": [
    "df['Opened'] = pd.to_datetime(df['Opened'])\n",
    "df['Closed'] = pd.to_datetime(df['Closed'])\n",
    "df['Updated'] = pd.to_datetime(df['Updated'])"
   ]
  },
  {
   "cell_type": "code",
   "execution_count": 12,
   "metadata": {
    "collapsed": false
   },
   "outputs": [
    {
     "data": {
      "text/html": [
       "<div>\n",
       "<table border=\"1\" class=\"dataframe\">\n",
       "  <thead>\n",
       "    <tr style=\"text-align: right;\">\n",
       "      <th></th>\n",
       "      <th>CaseID</th>\n",
       "      <th>Opened</th>\n",
       "      <th>Closed</th>\n",
       "      <th>Updated</th>\n",
       "      <th>Status</th>\n",
       "      <th>Status Notes</th>\n",
       "      <th>Responsible Agency</th>\n",
       "      <th>Category</th>\n",
       "      <th>Request Type</th>\n",
       "      <th>Request Details</th>\n",
       "      <th>Address</th>\n",
       "      <th>Supervisor District</th>\n",
       "      <th>Neighborhood</th>\n",
       "      <th>Point</th>\n",
       "      <th>Source</th>\n",
       "      <th>Media URL</th>\n",
       "    </tr>\n",
       "  </thead>\n",
       "  <tbody>\n",
       "    <tr>\n",
       "      <th>0</th>\n",
       "      <td>6640512</td>\n",
       "      <td>2016-12-18 23:13:26</td>\n",
       "      <td>NaT</td>\n",
       "      <td>2016-12-18 23:13:26</td>\n",
       "      <td>Open</td>\n",
       "      <td>accepted</td>\n",
       "      <td>DPW Ops Queue</td>\n",
       "      <td>Street and Sidewalk Cleaning</td>\n",
       "      <td>Illegal Encampment</td>\n",
       "      <td>Encampment Cleanup</td>\n",
       "      <td>Intersection of LEAVENWORTH ST and SUTTER ST</td>\n",
       "      <td>3</td>\n",
       "      <td>Lower Nob Hill</td>\n",
       "      <td>(37.7883877916853, -122.41518523659)</td>\n",
       "      <td>Open311</td>\n",
       "      <td>http://mobile311.sfgov.org/media/san_francisco/report/photos/585788913da153f1b6e80b78/report.jpg</td>\n",
       "    </tr>\n",
       "    <tr>\n",
       "      <th>1</th>\n",
       "      <td>6640498</td>\n",
       "      <td>2016-12-18 22:32:05</td>\n",
       "      <td>NaT</td>\n",
       "      <td>2016-12-18 22:52:20</td>\n",
       "      <td>Open</td>\n",
       "      <td>accepted</td>\n",
       "      <td>DPW Ops Queue</td>\n",
       "      <td>Street and Sidewalk Cleaning</td>\n",
       "      <td>Illegal Encampment</td>\n",
       "      <td>Encampment Cleanup</td>\n",
       "      <td>1500 SOUTH VAN NESS AVE, SAN FRANCISCO, CA, 94110</td>\n",
       "      <td>9</td>\n",
       "      <td>Mission</td>\n",
       "      <td>(37.7489895689, -122.416097672246)</td>\n",
       "      <td>Voice In</td>\n",
       "      <td>NaN</td>\n",
       "    </tr>\n",
       "    <tr>\n",
       "      <th>2</th>\n",
       "      <td>6640495</td>\n",
       "      <td>2016-12-18 22:28:23</td>\n",
       "      <td>NaT</td>\n",
       "      <td>2016-12-18 22:28:23</td>\n",
       "      <td>Open</td>\n",
       "      <td>accepted</td>\n",
       "      <td>DPW Ops Queue</td>\n",
       "      <td>Street and Sidewalk Cleaning</td>\n",
       "      <td>Illegal Encampment</td>\n",
       "      <td>Encampment Cleanup</td>\n",
       "      <td>Intersection of BEALE ST and HARRISON ST</td>\n",
       "      <td>6</td>\n",
       "      <td>Rincon Hill</td>\n",
       "      <td>(37.7874551164624, -122.391179585987)</td>\n",
       "      <td>Open311</td>\n",
       "      <td>NaN</td>\n",
       "    </tr>\n",
       "  </tbody>\n",
       "</table>\n",
       "</div>"
      ],
      "text/plain": [
       "    CaseID              Opened Closed             Updated Status Status Notes  \\\n",
       "0  6640512 2016-12-18 23:13:26    NaT 2016-12-18 23:13:26   Open     accepted   \n",
       "1  6640498 2016-12-18 22:32:05    NaT 2016-12-18 22:52:20   Open     accepted   \n",
       "2  6640495 2016-12-18 22:28:23    NaT 2016-12-18 22:28:23   Open     accepted   \n",
       "\n",
       "  Responsible Agency                      Category        Request Type  \\\n",
       "0      DPW Ops Queue  Street and Sidewalk Cleaning  Illegal Encampment   \n",
       "1      DPW Ops Queue  Street and Sidewalk Cleaning  Illegal Encampment   \n",
       "2      DPW Ops Queue  Street and Sidewalk Cleaning  Illegal Encampment   \n",
       "\n",
       "      Request Details                                            Address  \\\n",
       "0  Encampment Cleanup       Intersection of LEAVENWORTH ST and SUTTER ST   \n",
       "1  Encampment Cleanup  1500 SOUTH VAN NESS AVE, SAN FRANCISCO, CA, 94110   \n",
       "2  Encampment Cleanup           Intersection of BEALE ST and HARRISON ST   \n",
       "\n",
       "   Supervisor District    Neighborhood                                  Point  \\\n",
       "0                    3  Lower Nob Hill   (37.7883877916853, -122.41518523659)   \n",
       "1                    9         Mission     (37.7489895689, -122.416097672246)   \n",
       "2                    6     Rincon Hill  (37.7874551164624, -122.391179585987)   \n",
       "\n",
       "     Source  \\\n",
       "0   Open311   \n",
       "1  Voice In   \n",
       "2   Open311   \n",
       "\n",
       "                                                                                          Media URL  \n",
       "0  http://mobile311.sfgov.org/media/san_francisco/report/photos/585788913da153f1b6e80b78/report.jpg  \n",
       "1                                                                                               NaN  \n",
       "2                                                                                               NaN  "
      ]
     },
     "execution_count": 12,
     "metadata": {},
     "output_type": "execute_result"
    }
   ],
   "source": [
    "df.head(3)"
   ]
  },
  {
   "cell_type": "code",
   "execution_count": 13,
   "metadata": {
    "collapsed": false
   },
   "outputs": [
    {
     "name": "stderr",
     "output_type": "stream",
     "text": [
      "/home/gdillon/.local/lib/python3.5/site-packages/matplotlib/axes/_base.py:2782: UserWarning: Attempting to set identical left==right results\n",
      "in singular transformations; automatically expanding.\n",
      "left=18.0, right=18.0\n",
      "  'left=%s, right=%s') % (left, right))\n"
     ]
    },
    {
     "data": {
      "text/plain": [
       "<matplotlib.axes._subplots.AxesSubplot at 0x7f6970261be0>"
      ]
     },
     "execution_count": 13,
     "metadata": {},
     "output_type": "execute_result"
    },
    {
     "data": {
      "image/png": "[encoded data removed]",
      "text/plain": [
       "<matplotlib.figure.Figure at 0x7f6970261ef0>"
      ]
     },
     "metadata": {},
     "output_type": "display_data"
    }
   ],
   "source": [
    "df.Closed.dt.day.value_counts().sort_index().plot()"
   ]
  },
  {
   "cell_type": "code",
   "execution_count": 14,
   "metadata": {
    "collapsed": false,
    "scrolled": true
   },
   "outputs": [
    {
     "name": "stderr",
     "output_type": "stream",
     "text": [
      "/home/gdillon/.local/lib/python3.5/site-packages/matplotlib/axes/_base.py:2782: UserWarning: Attempting to set identical left==right results\n",
      "in singular transformations; automatically expanding.\n",
      "left=18.0, right=18.0\n",
      "  'left=%s, right=%s') % (left, right))\n"
     ]
    },
    {
     "data": {
      "text/plain": [
       "<matplotlib.axes._subplots.AxesSubplot at 0x7f697015d7b8>"
      ]
     },
     "execution_count": 14,
     "metadata": {},
     "output_type": "execute_result"
    },
    {
     "data": {
      "image/png": "[encoded data removed]",
      "text/plain": [
       "<matplotlib.figure.Figure at 0x7f6970261e80>"
      ]
     },
     "metadata": {},
     "output_type": "display_data"
    }
   ],
   "source": [
    "df.Opened.dt.day.value_counts().sort_index().plot()"
   ]
  },
  {
   "cell_type": "code",
   "execution_count": 15,
   "metadata": {
    "collapsed": false
   },
   "outputs": [
    {
     "name": "stderr",
     "output_type": "stream",
     "text": [
      "/home/gdillon/.local/lib/python3.5/site-packages/matplotlib/axes/_base.py:2782: UserWarning: Attempting to set identical left==right results\n",
      "in singular transformations; automatically expanding.\n",
      "left=6.0, right=6.0\n",
      "  'left=%s, right=%s') % (left, right))\n"
     ]
    },
    {
     "data": {
      "text/plain": [
       "<matplotlib.axes._subplots.AxesSubplot at 0x7f696e0deeb8>"
      ]
     },
     "execution_count": 15,
     "metadata": {},
     "output_type": "execute_result"
    },
    {
     "data": {
      "image/png": "[encoded data removed]",
      "text/plain": [
       "<matplotlib.figure.Figure at 0x7f696e0e6e10>"
      ]
     },
     "metadata": {},
     "output_type": "display_data"
    }
   ],
   "source": [
    "df.Closed.dt.weekday.value_counts().sort_index().plot()"
   ]
  },
  {
   "cell_type": "code",
   "execution_count": 16,
   "metadata": {
    "collapsed": false
   },
   "outputs": [
    {
     "data": {
      "text/plain": [
       "Index(['CaseID', 'Opened', 'Closed', 'Updated', 'Status', 'Status Notes',\n",
       "       'Responsible Agency', 'Category', 'Request Type', 'Request Details',\n",
       "       'Address', 'Supervisor District', 'Neighborhood', 'Point', 'Source',\n",
       "       'Media URL'],\n",
       "      dtype='object')"
      ]
     },
     "execution_count": 16,
     "metadata": {},
     "output_type": "execute_result"
    }
   ],
   "source": [
    "df.columns"
   ]
  },
  {
   "cell_type": "code",
   "execution_count": 17,
   "metadata": {
    "collapsed": false
   },
   "outputs": [
    {
     "data": {
      "text/plain": [
       "Encampment Cleanup    39\n",
       "Name: Request Details, dtype: int64"
      ]
     },
     "execution_count": 17,
     "metadata": {},
     "output_type": "execute_result"
    }
   ],
   "source": [
    "\n",
    "df['Request Details'].value_counts()\n"
   ]
  },
  {
   "cell_type": "code",
   "execution_count": 18,
   "metadata": {
    "collapsed": false
   },
   "outputs": [
    {
     "data": {
      "text/plain": [
       "1      1\n",
       "3      4\n",
       "5      2\n",
       "6     14\n",
       "8      5\n",
       "9     11\n",
       "10     1\n",
       "11     1\n",
       "Name: Supervisor District, dtype: int64"
      ]
     },
     "execution_count": 18,
     "metadata": {},
     "output_type": "execute_result"
    }
   ],
   "source": [
    "df['Supervisor District'].value_counts().sort_index()\n",
    "\n"
   ]
  },
  {
   "cell_type": "code",
   "execution_count": 19,
   "metadata": {
    "collapsed": false
   },
   "outputs": [
    {
     "data": {
      "text/plain": [
       "Mission               10\n",
       "South of Market        7\n",
       "Financial District     3\n",
       "Castro                 3\n",
       "Rincon Hill            3\n",
       "North Beach            2\n",
       "Dolores Heights        1\n",
       "Outer Richmond         1\n",
       "Lower Nob Hill         1\n",
       "Merced Heights         1\n",
       "Golden Gate Park       1\n",
       "Holly Park             1\n",
       "Showplace Square       1\n",
       "Tenderloin             1\n",
       "Corona Heights         1\n",
       "Central Waterfront     1\n",
       "Name: Neighborhood, dtype: int64"
      ]
     },
     "execution_count": 19,
     "metadata": {},
     "output_type": "execute_result"
    }
   ],
   "source": [
    "df.Neighborhood.value_counts()"
   ]
  },
  {
   "cell_type": "code",
   "execution_count": 20,
   "metadata": {
    "collapsed": false
   },
   "outputs": [
    {
     "data": {
      "text/html": [
       "<div>\n",
       "<table border=\"1\" class=\"dataframe\">\n",
       "  <thead>\n",
       "    <tr style=\"text-align: right;\">\n",
       "      <th></th>\n",
       "      <th>CaseID</th>\n",
       "      <th>Opened</th>\n",
       "      <th>Closed</th>\n",
       "      <th>Updated</th>\n",
       "      <th>Status</th>\n",
       "      <th>Status Notes</th>\n",
       "      <th>Responsible Agency</th>\n",
       "      <th>Category</th>\n",
       "      <th>Request Type</th>\n",
       "      <th>Request Details</th>\n",
       "      <th>Address</th>\n",
       "      <th>Supervisor District</th>\n",
       "      <th>Neighborhood</th>\n",
       "      <th>Point</th>\n",
       "      <th>Source</th>\n",
       "      <th>Media URL</th>\n",
       "    </tr>\n",
       "  </thead>\n",
       "  <tbody>\n",
       "    <tr>\n",
       "      <th>1</th>\n",
       "      <td>6640498</td>\n",
       "      <td>2016-12-18 22:32:05</td>\n",
       "      <td>NaT</td>\n",
       "      <td>2016-12-18 22:52:20</td>\n",
       "      <td>Open</td>\n",
       "      <td>accepted</td>\n",
       "      <td>DPW Ops Queue</td>\n",
       "      <td>Street and Sidewalk Cleaning</td>\n",
       "      <td>Illegal Encampment</td>\n",
       "      <td>Encampment Cleanup</td>\n",
       "      <td>1500 SOUTH VAN NESS AVE, SAN FRANCISCO, CA, 94110</td>\n",
       "      <td>9</td>\n",
       "      <td>Mission</td>\n",
       "      <td>(37.7489895689, -122.416097672246)</td>\n",
       "      <td>Voice In</td>\n",
       "      <td>NaN</td>\n",
       "    </tr>\n",
       "    <tr>\n",
       "      <th>7</th>\n",
       "      <td>6640324</td>\n",
       "      <td>2016-12-18 19:36:37</td>\n",
       "      <td>2016-12-18 20:39:46</td>\n",
       "      <td>2016-12-18 20:39:46</td>\n",
       "      <td>Closed</td>\n",
       "      <td>Case is Invalid - Invaild SR. No contact info and Photo doesn't show what the issue is.</td>\n",
       "      <td>311 Supervisor Queue</td>\n",
       "      <td>Street and Sidewalk Cleaning</td>\n",
       "      <td>Illegal Encampment</td>\n",
       "      <td>Encampment Cleanup</td>\n",
       "      <td>3435 26TH ST, SAN FRANCISCO, CA, 94110</td>\n",
       "      <td>9</td>\n",
       "      <td>Mission</td>\n",
       "      <td>(37.748881957958, -122.418944321796)</td>\n",
       "      <td>Open311</td>\n",
       "      <td>http://mobile311.sfgov.org/media/san_francisco/report/photos/585755be3da153f1b6e80a4f/report.jpg</td>\n",
       "    </tr>\n",
       "    <tr>\n",
       "      <th>17</th>\n",
       "      <td>6639677</td>\n",
       "      <td>2016-12-18 13:56:52</td>\n",
       "      <td>2016-12-18 18:40:19</td>\n",
       "      <td>2016-12-18 18:40:19</td>\n",
       "      <td>Closed</td>\n",
       "      <td>Area Cleaned -</td>\n",
       "      <td>DPW Ops Queue</td>\n",
       "      <td>Street and Sidewalk Cleaning</td>\n",
       "      <td>Illegal Encampment</td>\n",
       "      <td>Encampment Cleanup</td>\n",
       "      <td>2132 FOLSOM ST, SAN FRANCISCO, CA, 94110</td>\n",
       "      <td>9</td>\n",
       "      <td>Mission</td>\n",
       "      <td>(37.763157528337, -122.415241067614)</td>\n",
       "      <td>Open311</td>\n",
       "      <td>http://mobile311.sfgov.org/media/san_francisco/report/photos/5857061c3da153f1b6e8030f/report.jpg</td>\n",
       "    </tr>\n",
       "    <tr>\n",
       "      <th>19</th>\n",
       "      <td>6639568</td>\n",
       "      <td>2016-12-18 13:10:32</td>\n",
       "      <td>NaT</td>\n",
       "      <td>2016-12-18 13:10:32</td>\n",
       "      <td>Open</td>\n",
       "      <td>in progress</td>\n",
       "      <td>DPW Ops Queue</td>\n",
       "      <td>Street and Sidewalk Cleaning</td>\n",
       "      <td>Illegal Encampment</td>\n",
       "      <td>Encampment Cleanup</td>\n",
       "      <td>490 SOUTH VAN NESS AVE, SAN FRANCISCO, CA, 94103</td>\n",
       "      <td>9</td>\n",
       "      <td>Mission</td>\n",
       "      <td>(37.765511320074, -122.417678769023)</td>\n",
       "      <td>Open311</td>\n",
       "      <td>NaN</td>\n",
       "    </tr>\n",
       "    <tr>\n",
       "      <th>22</th>\n",
       "      <td>6639323</td>\n",
       "      <td>2016-12-18 11:22:15</td>\n",
       "      <td>NaT</td>\n",
       "      <td>2016-12-18 11:24:09</td>\n",
       "      <td>Open</td>\n",
       "      <td>accepted</td>\n",
       "      <td>DPW Ops Queue</td>\n",
       "      <td>Street and Sidewalk Cleaning</td>\n",
       "      <td>Illegal Encampment</td>\n",
       "      <td>Encampment Cleanup</td>\n",
       "      <td>Intersection of CALEDONIA ST and 15TH ST</td>\n",
       "      <td>9</td>\n",
       "      <td>Mission</td>\n",
       "      <td>(37.7665704473143, -122.421531181949)</td>\n",
       "      <td>Voice In</td>\n",
       "      <td>NaN</td>\n",
       "    </tr>\n",
       "    <tr>\n",
       "      <th>23</th>\n",
       "      <td>6639267</td>\n",
       "      <td>2016-12-18 11:09:03</td>\n",
       "      <td>2016-12-18 13:45:07</td>\n",
       "      <td>2016-12-18 13:45:07</td>\n",
       "      <td>Closed</td>\n",
       "      <td>Area Cleaned -</td>\n",
       "      <td>DPW Ops Queue</td>\n",
       "      <td>Street and Sidewalk Cleaning</td>\n",
       "      <td>Illegal Encampment</td>\n",
       "      <td>Encampment Cleanup</td>\n",
       "      <td>2850 CESAR CHAVEZ ST, SAN FRANCISCO, CA, 94110</td>\n",
       "      <td>9</td>\n",
       "      <td>Mission</td>\n",
       "      <td>(37.748886738082, -122.406675527324)</td>\n",
       "      <td>Open311</td>\n",
       "      <td>NaN</td>\n",
       "    </tr>\n",
       "    <tr>\n",
       "      <th>24</th>\n",
       "      <td>6639262</td>\n",
       "      <td>2016-12-18 11:07:42</td>\n",
       "      <td>NaT</td>\n",
       "      <td>2016-12-18 11:07:42</td>\n",
       "      <td>Open</td>\n",
       "      <td>accepted</td>\n",
       "      <td>DPW Ops Queue</td>\n",
       "      <td>Street and Sidewalk Cleaning</td>\n",
       "      <td>Illegal Encampment</td>\n",
       "      <td>Encampment Cleanup</td>\n",
       "      <td>1368 POTRERO AVE, SAN FRANCISCO, CA, 94110</td>\n",
       "      <td>9</td>\n",
       "      <td>Mission</td>\n",
       "      <td>(37.750798757193, -122.406169364537)</td>\n",
       "      <td>Open311</td>\n",
       "      <td>NaN</td>\n",
       "    </tr>\n",
       "    <tr>\n",
       "      <th>26</th>\n",
       "      <td>6639212</td>\n",
       "      <td>2016-12-18 10:50:46</td>\n",
       "      <td>NaT</td>\n",
       "      <td>2016-12-18 10:50:46</td>\n",
       "      <td>Open</td>\n",
       "      <td>accepted</td>\n",
       "      <td>DPW Ops Queue</td>\n",
       "      <td>Street and Sidewalk Cleaning</td>\n",
       "      <td>Illegal Encampment</td>\n",
       "      <td>Encampment Cleanup</td>\n",
       "      <td>Intersection of 14TH ST and TRAINOR ST</td>\n",
       "      <td>9</td>\n",
       "      <td>Mission</td>\n",
       "      <td>(37.7686021036354, -122.414540135493)</td>\n",
       "      <td>Open311</td>\n",
       "      <td>NaN</td>\n",
       "    </tr>\n",
       "    <tr>\n",
       "      <th>27</th>\n",
       "      <td>6639204</td>\n",
       "      <td>2016-12-18 10:47:44</td>\n",
       "      <td>NaT</td>\n",
       "      <td>2016-12-18 10:47:44</td>\n",
       "      <td>Open</td>\n",
       "      <td>accepted</td>\n",
       "      <td>DPW Ops Queue</td>\n",
       "      <td>Street and Sidewalk Cleaning</td>\n",
       "      <td>Illegal Encampment</td>\n",
       "      <td>Encampment Cleanup</td>\n",
       "      <td>Intersection of DIVISION ST and FLORIDA ST</td>\n",
       "      <td>9</td>\n",
       "      <td>Mission</td>\n",
       "      <td>(37.7686928417827, -122.411758944213)</td>\n",
       "      <td>Open311</td>\n",
       "      <td>http://mobile311.sfgov.org/media/san_francisco/report/photos/5856d9c93da153f1b6e7fcf8/report.jpg</td>\n",
       "    </tr>\n",
       "    <tr>\n",
       "      <th>30</th>\n",
       "      <td>6638918</td>\n",
       "      <td>2016-12-18 08:43:51</td>\n",
       "      <td>NaT</td>\n",
       "      <td>2016-12-18 08:43:51</td>\n",
       "      <td>Open</td>\n",
       "      <td>accepted</td>\n",
       "      <td>DPW Ops Queue</td>\n",
       "      <td>Street and Sidewalk Cleaning</td>\n",
       "      <td>Illegal Encampment</td>\n",
       "      <td>Encampment Cleanup</td>\n",
       "      <td>Intersection of 13TH ST and SOUTH VAN NESS AVE</td>\n",
       "      <td>6</td>\n",
       "      <td>Mission</td>\n",
       "      <td>(37.7698151022261, -122.417753270894)</td>\n",
       "      <td>Open311</td>\n",
       "      <td>NaN</td>\n",
       "    </tr>\n",
       "  </tbody>\n",
       "</table>\n",
       "</div>"
      ],
      "text/plain": [
       "     CaseID              Opened              Closed             Updated  \\\n",
       "1   6640498 2016-12-18 22:32:05                 NaT 2016-12-18 22:52:20   \n",
       "7   6640324 2016-12-18 19:36:37 2016-12-18 20:39:46 2016-12-18 20:39:46   \n",
       "17  6639677 2016-12-18 13:56:52 2016-12-18 18:40:19 2016-12-18 18:40:19   \n",
       "19  6639568 2016-12-18 13:10:32                 NaT 2016-12-18 13:10:32   \n",
       "22  6639323 2016-12-18 11:22:15                 NaT 2016-12-18 11:24:09   \n",
       "23  6639267 2016-12-18 11:09:03 2016-12-18 13:45:07 2016-12-18 13:45:07   \n",
       "24  6639262 2016-12-18 11:07:42                 NaT 2016-12-18 11:07:42   \n",
       "26  6639212 2016-12-18 10:50:46                 NaT 2016-12-18 10:50:46   \n",
       "27  6639204 2016-12-18 10:47:44                 NaT 2016-12-18 10:47:44   \n",
       "30  6638918 2016-12-18 08:43:51                 NaT 2016-12-18 08:43:51   \n",
       "\n",
       "    Status  \\\n",
       "1     Open   \n",
       "7   Closed   \n",
       "17  Closed   \n",
       "19    Open   \n",
       "22    Open   \n",
       "23  Closed   \n",
       "24    Open   \n",
       "26    Open   \n",
       "27    Open   \n",
       "30    Open   \n",
       "\n",
       "                                                                               Status Notes  \\\n",
       "1                                                                                  accepted   \n",
       "7   Case is Invalid - Invaild SR. No contact info and Photo doesn't show what the issue is.   \n",
       "17                                                                           Area Cleaned -   \n",
       "19                                                                              in progress   \n",
       "22                                                                                 accepted   \n",
       "23                                                                           Area Cleaned -   \n",
       "24                                                                                 accepted   \n",
       "26                                                                                 accepted   \n",
       "27                                                                                 accepted   \n",
       "30                                                                                 accepted   \n",
       "\n",
       "      Responsible Agency                      Category        Request Type  \\\n",
       "1          DPW Ops Queue  Street and Sidewalk Cleaning  Illegal Encampment   \n",
       "7   311 Supervisor Queue  Street and Sidewalk Cleaning  Illegal Encampment   \n",
       "17         DPW Ops Queue  Street and Sidewalk Cleaning  Illegal Encampment   \n",
       "19         DPW Ops Queue  Street and Sidewalk Cleaning  Illegal Encampment   \n",
       "22         DPW Ops Queue  Street and Sidewalk Cleaning  Illegal Encampment   \n",
       "23         DPW Ops Queue  Street and Sidewalk Cleaning  Illegal Encampment   \n",
       "24         DPW Ops Queue  Street and Sidewalk Cleaning  Illegal Encampment   \n",
       "26         DPW Ops Queue  Street and Sidewalk Cleaning  Illegal Encampment   \n",
       "27         DPW Ops Queue  Street and Sidewalk Cleaning  Illegal Encampment   \n",
       "30         DPW Ops Queue  Street and Sidewalk Cleaning  Illegal Encampment   \n",
       "\n",
       "       Request Details                                            Address  \\\n",
       "1   Encampment Cleanup  1500 SOUTH VAN NESS AVE, SAN FRANCISCO, CA, 94110   \n",
       "7   Encampment Cleanup             3435 26TH ST, SAN FRANCISCO, CA, 94110   \n",
       "17  Encampment Cleanup           2132 FOLSOM ST, SAN FRANCISCO, CA, 94110   \n",
       "19  Encampment Cleanup   490 SOUTH VAN NESS AVE, SAN FRANCISCO, CA, 94103   \n",
       "22  Encampment Cleanup           Intersection of CALEDONIA ST and 15TH ST   \n",
       "23  Encampment Cleanup     2850 CESAR CHAVEZ ST, SAN FRANCISCO, CA, 94110   \n",
       "24  Encampment Cleanup         1368 POTRERO AVE, SAN FRANCISCO, CA, 94110   \n",
       "26  Encampment Cleanup             Intersection of 14TH ST and TRAINOR ST   \n",
       "27  Encampment Cleanup         Intersection of DIVISION ST and FLORIDA ST   \n",
       "30  Encampment Cleanup     Intersection of 13TH ST and SOUTH VAN NESS AVE   \n",
       "\n",
       "    Supervisor District Neighborhood                                  Point  \\\n",
       "1                     9      Mission     (37.7489895689, -122.416097672246)   \n",
       "7                     9      Mission   (37.748881957958, -122.418944321796)   \n",
       "17                    9      Mission   (37.763157528337, -122.415241067614)   \n",
       "19                    9      Mission   (37.765511320074, -122.417678769023)   \n",
       "22                    9      Mission  (37.7665704473143, -122.421531181949)   \n",
       "23                    9      Mission   (37.748886738082, -122.406675527324)   \n",
       "24                    9      Mission   (37.750798757193, -122.406169364537)   \n",
       "26                    9      Mission  (37.7686021036354, -122.414540135493)   \n",
       "27                    9      Mission  (37.7686928417827, -122.411758944213)   \n",
       "30                    6      Mission  (37.7698151022261, -122.417753270894)   \n",
       "\n",
       "      Source  \\\n",
       "1   Voice In   \n",
       "7    Open311   \n",
       "17   Open311   \n",
       "19   Open311   \n",
       "22  Voice In   \n",
       "23   Open311   \n",
       "24   Open311   \n",
       "26   Open311   \n",
       "27   Open311   \n",
       "30   Open311   \n",
       "\n",
       "                                                                                           Media URL  \n",
       "1                                                                                                NaN  \n",
       "7   http://mobile311.sfgov.org/media/san_francisco/report/photos/585755be3da153f1b6e80a4f/report.jpg  \n",
       "17  http://mobile311.sfgov.org/media/san_francisco/report/photos/5857061c3da153f1b6e8030f/report.jpg  \n",
       "19                                                                                               NaN  \n",
       "22                                                                                               NaN  \n",
       "23                                                                                               NaN  \n",
       "24                                                                                               NaN  \n",
       "26                                                                                               NaN  \n",
       "27  http://mobile311.sfgov.org/media/san_francisco/report/photos/5856d9c93da153f1b6e7fcf8/report.jpg  \n",
       "30                                                                                               NaN  "
      ]
     },
     "execution_count": 20,
     "metadata": {},
     "output_type": "execute_result"
    }
   ],
   "source": [
    "df[df.Neighborhood == 'Mission']"
   ]
  },
  {
   "cell_type": "markdown",
   "metadata": {},
   "source": [
    "\n",
    "### Get rid of NaN entries and display images\n",
    "\n",
    "Need Help  https://youtu.be/2AFGPdNn4FM?t=8m"
   ]
  },
  {
   "cell_type": "code",
   "execution_count": 21,
   "metadata": {
    "collapsed": true
   },
   "outputs": [],
   "source": [
    "#hl_images = df[df['Media URL'].notnull() ]['Media URL']\n",
    "\n"
   ]
  },
  {
   "cell_type": "markdown",
   "metadata": {},
   "source": [
    "## limit the data frame to just one neighborhood or just one supervisor district"
   ]
  },
  {
   "cell_type": "code",
   "execution_count": 22,
   "metadata": {
    "collapsed": false
   },
   "outputs": [
    {
     "name": "stdout",
     "output_type": "stream",
     "text": [
      "0    http://mobile311.sfgov.org/media/san_francisco/report/photos/585788913da153f1b6e80b78/report.jpg\n",
      "1                                                                                                 NaN\n",
      "2                                                                                                 NaN\n",
      "3    http://mobile311.sfgov.org/media/san_francisco/report/photos/5856b4e43da153f1b6e7f8f7/report.jpg\n",
      "Name: Media URL, dtype: object\n"
     ]
    }
   ],
   "source": [
    "\n",
    "peskin = df[df['Supervisor District']==3]['Media URL']\n",
    "peskin = peskin.reset_index(drop=True)\n",
    "print(peskin[:])\n"
   ]
  },
  {
   "cell_type": "code",
   "execution_count": 23,
   "metadata": {
    "collapsed": false
   },
   "outputs": [
    {
     "name": "stdout",
     "output_type": "stream",
     "text": [
      "0    http://mobile311.sfgov.org/media/san_francisco/report/photos/585788913da153f1b6e80b78/report.jpg\n",
      "1                                                                                                 NaN\n",
      "2                                                                                                 NaN\n",
      "3    http://mobile311.sfgov.org/media/san_francisco/report/photos/5856b4e43da153f1b6e7f8f7/report.jpg\n",
      "Name: Media URL, dtype: object\n"
     ]
    }
   ],
   "source": [
    "print(peskin[:])"
   ]
  },
  {
   "cell_type": "markdown",
   "metadata": {
    "collapsed": true
   },
   "source": [
    "# The whole City"
   ]
  },
  {
   "cell_type": "code",
   "execution_count": 24,
   "metadata": {
    "collapsed": false
   },
   "outputs": [
    {
     "name": "stdout",
     "output_type": "stream",
     "text": [
      "0                    http://mobile311.sfgov.org/media/san_francisco/report/photos/585788913da153f1b6e80b78/report.jpg\n",
      "1                    http://mobile311.sfgov.org/media/san_francisco/report/photos/585755be3da153f1b6e80a4f/report.jpg\n",
      "2     http://mobile311.sfgov.org/media/san_francisco/report/photos/58574b943da153f1b6e8095f/photo_20161218_185216.jpg\n",
      "3                    http://mobile311.sfgov.org/media/san_francisco/report/photos/585746c43da153f1b6e80924/report.jpg\n",
      "4                    http://mobile311.sfgov.org/media/san_francisco/report/photos/585732363da153f1b6e807a1/report.jpg\n",
      "5                    http://mobile311.sfgov.org/media/san_francisco/report/photos/5857321d3da153f1b6e80797/report.jpg\n",
      "6     http://mobile311.sfgov.org/media/san_francisco/report/photos/585711433da153f1b6e80422/photo_20161218_144315.jpg\n",
      "7                    http://mobile311.sfgov.org/media/san_francisco/report/photos/5857061c3da153f1b6e8030f/report.jpg\n",
      "8                    http://mobile311.sfgov.org/media/san_francisco/report/photos/5856e4e23da153f1b6e7ff52/report.jpg\n",
      "9     http://mobile311.sfgov.org/media/san_francisco/report/photos/5856e4783da153f1b6e7ff44/photo_20161218_113255.jpg\n",
      "10    http://mobile311.sfgov.org/media/san_francisco/report/photos/5856de3c3da153f1b6e7fdcb/photo_20161218_110608.jpg\n",
      "11                   http://mobile311.sfgov.org/media/san_francisco/report/photos/5856d9c93da153f1b6e7fcf8/report.jpg\n",
      "12    http://mobile311.sfgov.org/media/san_francisco/report/photos/5856d8cf3da153f1b6e7fcd1/photo_20161218_104248.jpg\n",
      "13                   http://mobile311.sfgov.org/media/san_francisco/report/photos/5856bbc23da153f1b6e7f9a8/report.jpg\n",
      "14                   http://mobile311.sfgov.org/media/san_francisco/report/photos/5856b4e43da153f1b6e7f8f7/report.jpg\n",
      "15                   http://mobile311.sfgov.org/media/san_francisco/report/photos/5856af6e3da153f1b6e7f8c0/report.jpg\n",
      "16                   http://mobile311.sfgov.org/media/san_francisco/report/photos/5856a63b3da153f1b6e7f862/report.jpg\n",
      "Name: Media URL, dtype: object\n"
     ]
    }
   ],
   "source": [
    "\n",
    "images = df[df['Media URL'].notnull() ]['Media URL']\n",
    "images = images.reset_index(drop=True)\n",
    "print(images[:])\n"
   ]
  },
  {
   "cell_type": "code",
   "execution_count": 31,
   "metadata": {
    "collapsed": false
   },
   "outputs": [
    {
     "data": {
      "text/plain": [
       "91"
      ]
     },
     "execution_count": 31,
     "metadata": {},
     "output_type": "execute_result"
    }
   ],
   "source": [
    "len(images)"
   ]
  },
  {
   "cell_type": "code",
   "execution_count": 32,
   "metadata": {
    "collapsed": false
   },
   "outputs": [
    {
     "data": {
      "text/plain": [
       "'http://mobile311.sfgov.org/media/san_francisco/report/photos/585751663da153f1b6e809d9/photo_20161218_191703.jpg'"
      ]
     },
     "execution_count": 32,
     "metadata": {},
     "output_type": "execute_result"
    }
   ],
   "source": [
    "images[0]"
   ]
  },
  {
   "cell_type": "code",
   "execution_count": 25,
   "metadata": {
    "collapsed": false,
    "scrolled": false
   },
   "outputs": [
    {
     "name": "stdout",
     "output_type": "stream",
     "text": [
      "http://mobile311.sfgov.org/media/san_francisco/report/photos/58574b943da153f1b6e8095f/photo_20161218_185216.jpg\n"
     ]
    },
    {
     "data": {
      "image/jpeg": "[encoded data removed]",
      "text/plain": [
       "<IPython.core.display.Image object>"
      ]
     },
     "execution_count": 25,
     "metadata": {},
     "output_type": "execute_result"
    }
   ],
   "source": [
    "print(images[2])\n",
    "Image(images[2])\n"
   ]
  },
  {
   "cell_type": "code",
   "execution_count": 26,
   "metadata": {
    "collapsed": false
   },
   "outputs": [
    {
     "name": "stdout",
     "output_type": "stream",
     "text": [
      "/home/gdillon/JupyterPractice/homeless_SF311\r\n"
     ]
    }
   ],
   "source": [
    "!pwd"
   ]
  },
  {
   "cell_type": "code",
   "execution_count": 27,
   "metadata": {
    "collapsed": false
   },
   "outputs": [],
   "source": [
    "images[:1000].to_csv(\"./imagelist.txt\", index=False)"
   ]
  },
  {
   "cell_type": "code",
   "execution_count": 28,
   "metadata": {
    "collapsed": false
   },
   "outputs": [
    {
     "name": "stdout",
     "output_type": "stream",
     "text": [
      "--2016-12-20 12:18:54--  http://mobile311.sfgov.org/media/san_francisco/report/photos/585788913da153f1b6e80b78/report.jpg\n",
      "Resolving mobile311.sfgov.org (mobile311.sfgov.org)... 54.144.250.241\n",
      "Connecting to mobile311.sfgov.org (mobile311.sfgov.org)|54.144.250.241|:80... connected.\n",
      "HTTP request sent, awaiting response... 200 OK\n",
      "Length: 133140 (130K) [image/jpeg]\n",
      "Saving to: 'report.jpg'\n",
      "\n",
      "report.jpg          100%[===================>] 130.02K   836KB/s    in 0.2s    \n",
      "\n",
      "2016-12-20 12:18:54 (836 KB/s) - 'report.jpg' saved [133140/133140]\n",
      "\n",
      "--2016-12-20 12:18:54--  http://mobile311.sfgov.org/media/san_francisco/report/photos/585755be3da153f1b6e80a4f/report.jpg\n",
      "Reusing existing connection to mobile311.sfgov.org:80.\n",
      "HTTP request sent, awaiting response... 200 OK\n",
      "Length: 51996 (51K) [image/jpeg]\n",
      "Saving to: 'report.jpg.1'\n",
      "\n",
      "report.jpg.1        100%[===================>]  50.78K  --.-KB/s    in 0s      \n",
      "\n",
      "2016-12-20 12:18:54 (243 MB/s) - 'report.jpg.1' saved [51996/51996]\n",
      "\n",
      "--2016-12-20 12:18:54--  http://mobile311.sfgov.org/media/san_francisco/report/photos/58574b943da153f1b6e8095f/photo_20161218_185216.jpg\n",
      "Reusing existing connection to mobile311.sfgov.org:80.\n",
      "HTTP request sent, awaiting response... 200 OK\n",
      "Length: 136979 (134K) [image/jpeg]\n",
      "Saving to: 'photo_20161218_185216.jpg'\n",
      "\n",
      "photo_20161218_1852 100%[===================>] 133.77K  --.-KB/s    in 0.04s   \n",
      "\n",
      "2016-12-20 12:18:54 (3.27 MB/s) - 'photo_20161218_185216.jpg' saved [136979/136979]\n",
      "\n",
      "--2016-12-20 12:18:54--  http://mobile311.sfgov.org/media/san_francisco/report/photos/585746c43da153f1b6e80924/report.jpg\n",
      "Reusing existing connection to mobile311.sfgov.org:80.\n",
      "HTTP request sent, awaiting response... 200 OK\n",
      "Length: 270818 (264K) [image/jpeg]\n",
      "Saving to: 'report.jpg.2'\n",
      "\n",
      "report.jpg.2        100%[===================>] 264.47K  --.-KB/s    in 0.08s   \n",
      "\n",
      "2016-12-20 12:18:54 (3.36 MB/s) - 'report.jpg.2' saved [270818/270818]\n",
      "\n",
      "--2016-12-20 12:18:54--  http://mobile311.sfgov.org/media/san_francisco/report/photos/585732363da153f1b6e807a1/report.jpg\n",
      "Reusing existing connection to mobile311.sfgov.org:80.\n",
      "HTTP request sent, awaiting response... 200 OK\n",
      "Length: 190281 (186K) [image/jpeg]\n",
      "Saving to: 'report.jpg.3'\n",
      "\n",
      "report.jpg.3        100%[===================>] 185.82K  --.-KB/s    in 0.001s  \n",
      "\n",
      "2016-12-20 12:18:54 (219 MB/s) - 'report.jpg.3' saved [190281/190281]\n",
      "\n",
      "--2016-12-20 12:18:54--  http://mobile311.sfgov.org/media/san_francisco/report/photos/5857321d3da153f1b6e80797/report.jpg\n",
      "Reusing existing connection to mobile311.sfgov.org:80.\n",
      "HTTP request sent, awaiting response... 200 OK\n",
      "Length: 132135 (129K) [image/jpeg]\n",
      "Saving to: 'report.jpg.4'\n",
      "\n",
      "report.jpg.4        100%[===================>] 129.04K  --.-KB/s    in 0.001s  \n",
      "\n",
      "2016-12-20 12:18:54 (252 MB/s) - 'report.jpg.4' saved [132135/132135]\n",
      "\n",
      "--2016-12-20 12:18:54--  http://mobile311.sfgov.org/media/san_francisco/report/photos/585711433da153f1b6e80422/photo_20161218_144315.jpg\n",
      "Reusing existing connection to mobile311.sfgov.org:80.\n",
      "HTTP request sent, awaiting response... 200 OK\n",
      "Length: 153254 (150K) [image/jpeg]\n",
      "Saving to: 'photo_20161218_144315.jpg'\n",
      "\n",
      "photo_20161218_1443 100%[===================>] 149.66K  --.-KB/s    in 0.001s  \n",
      "\n",
      "2016-12-20 12:18:54 (246 MB/s) - 'photo_20161218_144315.jpg' saved [153254/153254]\n",
      "\n",
      "--2016-12-20 12:18:54--  http://mobile311.sfgov.org/media/san_francisco/report/photos/5857061c3da153f1b6e8030f/report.jpg\n",
      "Reusing existing connection to mobile311.sfgov.org:80.\n",
      "HTTP request sent, awaiting response... 200 OK\n",
      "Length: 361759 (353K) [image/jpeg]\n",
      "Saving to: 'report.jpg.5'\n",
      "\n",
      "report.jpg.5        100%[===================>] 353.28K  --.-KB/s    in 0.04s   \n",
      "\n",
      "2016-12-20 12:18:55 (9.18 MB/s) - 'report.jpg.5' saved [361759/361759]\n",
      "\n",
      "--2016-12-20 12:18:55--  http://mobile311.sfgov.org/media/san_francisco/report/photos/5856e4e23da153f1b6e7ff52/report.jpg\n",
      "Reusing existing connection to mobile311.sfgov.org:80.\n",
      "HTTP request sent, awaiting response... 200 OK\n",
      "Length: 264694 (258K) [image/jpeg]\n",
      "Saving to: 'report.jpg.6'\n",
      "\n",
      "report.jpg.6        100%[===================>] 258.49K  --.-KB/s    in 0.003s  \n",
      "\n",
      "2016-12-20 12:18:55 (81.9 MB/s) - 'report.jpg.6' saved [264694/264694]\n",
      "\n",
      "--2016-12-20 12:18:55--  http://mobile311.sfgov.org/media/san_francisco/report/photos/5856e4783da153f1b6e7ff44/photo_20161218_113255.jpg\n",
      "Reusing existing connection to mobile311.sfgov.org:80.\n",
      "HTTP request sent, awaiting response... 200 OK\n",
      "Length: 80409 (79K) [image/jpeg]\n",
      "Saving to: 'photo_20161218_113255.jpg'\n",
      "\n",
      "photo_20161218_1132 100%[===================>]  78.52K  --.-KB/s    in 0.001s  \n",
      "\n",
      "2016-12-20 12:18:55 (58.4 MB/s) - 'photo_20161218_113255.jpg' saved [80409/80409]\n",
      "\n",
      "--2016-12-20 12:18:55--  http://mobile311.sfgov.org/media/san_francisco/report/photos/5856de3c3da153f1b6e7fdcb/photo_20161218_110608.jpg\n",
      "Reusing existing connection to mobile311.sfgov.org:80.\n",
      "HTTP request sent, awaiting response... 200 OK\n",
      "Length: 357182 (349K) [image/jpeg]\n",
      "Saving to: 'photo_20161218_110608.jpg'\n",
      "\n",
      "photo_20161218_1106 100%[===================>] 348.81K  --.-KB/s    in 0.001s  \n",
      "\n",
      "2016-12-20 12:18:55 (299 MB/s) - 'photo_20161218_110608.jpg' saved [357182/357182]\n",
      "\n",
      "--2016-12-20 12:18:55--  http://mobile311.sfgov.org/media/san_francisco/report/photos/5856d9c93da153f1b6e7fcf8/report.jpg\n",
      "Reusing existing connection to mobile311.sfgov.org:80.\n",
      "HTTP request sent, awaiting response... 200 OK\n",
      "Length: 197301 (193K) [image/jpeg]\n",
      "Saving to: 'report.jpg.7'\n",
      "\n",
      "report.jpg.7        100%[===================>] 192.68K  --.-KB/s    in 0.002s  \n",
      "\n",
      "2016-12-20 12:18:55 (82.8 MB/s) - 'report.jpg.7' saved [197301/197301]\n",
      "\n",
      "--2016-12-20 12:18:55--  http://mobile311.sfgov.org/media/san_francisco/report/photos/5856d8cf3da153f1b6e7fcd1/photo_20161218_104248.jpg\n",
      "Reusing existing connection to mobile311.sfgov.org:80.\n",
      "HTTP request sent, awaiting response... 200 OK\n",
      "Length: 196850 (192K) [image/jpeg]\n",
      "Saving to: 'photo_20161218_104248.jpg'\n",
      "\n",
      "photo_20161218_1042 100%[===================>] 192.24K  --.-KB/s    in 0.002s  \n",
      "\n",
      "2016-12-20 12:18:55 (109 MB/s) - 'photo_20161218_104248.jpg' saved [196850/196850]\n",
      "\n",
      "--2016-12-20 12:18:55--  http://mobile311.sfgov.org/media/san_francisco/report/photos/5856bbc23da153f1b6e7f9a8/report.jpg\n",
      "Reusing existing connection to mobile311.sfgov.org:80.\n",
      "HTTP request sent, awaiting response... 200 OK\n",
      "Length: 523665 (511K) [image/jpeg]\n",
      "Saving to: 'report.jpg.8'\n",
      "\n",
      "report.jpg.8        100%[===================>] 511.39K  --.-KB/s    in 0.003s  \n",
      "\n",
      "2016-12-20 12:18:55 (193 MB/s) - 'report.jpg.8' saved [523665/523665]\n",
      "\n",
      "--2016-12-20 12:18:55--  http://mobile311.sfgov.org/media/san_francisco/report/photos/5856b4e43da153f1b6e7f8f7/report.jpg\n",
      "Reusing existing connection to mobile311.sfgov.org:80.\n",
      "HTTP request sent, awaiting response... 200 OK\n",
      "Length: 153152 (150K) [image/jpeg]\n",
      "Saving to: 'report.jpg.9'\n",
      "\n",
      "report.jpg.9        100%[===================>] 149.56K  --.-KB/s    in 0.001s  \n",
      "\n",
      "2016-12-20 12:18:55 (273 MB/s) - 'report.jpg.9' saved [153152/153152]\n",
      "\n",
      "--2016-12-20 12:18:55--  http://mobile311.sfgov.org/media/san_francisco/report/photos/5856af6e3da153f1b6e7f8c0/report.jpg\n",
      "Reusing existing connection to mobile311.sfgov.org:80.\n",
      "HTTP request sent, awaiting response... 200 OK\n",
      "Length: 175817 (172K) [image/jpeg]\n",
      "Saving to: 'report.jpg.10'\n",
      "\n",
      "report.jpg.10       100%[===================>] 171.70K  --.-KB/s    in 0s      \n",
      "\n",
      "2016-12-20 12:18:55 (337 MB/s) - 'report.jpg.10' saved [175817/175817]\n",
      "\n",
      "--2016-12-20 12:18:55--  http://mobile311.sfgov.org/media/san_francisco/report/photos/5856a63b3da153f1b6e7f862/report.jpg\n",
      "Reusing existing connection to mobile311.sfgov.org:80.\n",
      "HTTP request sent, awaiting response... 200 OK\n",
      "Length: 82918 (81K) [image/jpeg]\n",
      "Saving to: 'report.jpg.11'\n",
      "\n",
      "report.jpg.11       100%[===================>]  80.97K  --.-KB/s    in 0s      \n",
      "\n",
      "2016-12-20 12:18:55 (308 MB/s) - 'report.jpg.11' saved [82918/82918]\n",
      "\n",
      "FINISHED --2016-12-20 12:18:55--\n",
      "Total wall clock time: 1.3s\n",
      "Downloaded: 17 files, 3.3M in 0.3s (10.1 MB/s)\n",
      "ffmpeg version 2.8.8-0ubuntu0.16.04.1 Copyright (c) 2000-2016 the FFmpeg developers\n",
      "  built with gcc 5.4.0 (Ubuntu 5.4.0-6ubuntu1~16.04.2) 20160609\n",
      "  configuration: --prefix=/usr --extra-version=0ubuntu0.16.04.1 --build-suffix=-ffmpeg --toolchain=hardened --libdir=/usr/lib/x86_64-linux-gnu --incdir=/usr/include/x86_64-linux-gnu --cc=cc --cxx=g++ --enable-gpl --enable-shared --disable-stripping --disable-decoder=libopenjpeg --disable-decoder=libschroedinger --enable-avresample --enable-avisynth --enable-gnutls --enable-ladspa --enable-libass --enable-libbluray --enable-libbs2b --enable-libcaca --enable-libcdio --enable-libflite --enable-libfontconfig --enable-libfreetype --enable-libfribidi --enable-libgme --enable-libgsm --enable-libmodplug --enable-libmp3lame --enable-libopenjpeg --enable-libopus --enable-libpulse --enable-librtmp --enable-libschroedinger --enable-libshine --enable-libsnappy --enable-libsoxr --enable-libspeex --enable-libssh --enable-libtheora --enable-libtwolame --enable-libvorbis --enable-libvpx --enable-libwavpack --enable-libwebp --enable-libx265 --enable-libxvid --enable-libzvbi --enable-openal --enable-opengl --enable-x11grab --enable-libdc1394 --enable-libiec61883 --enable-libzmq --enable-frei0r --enable-libx264 --enable-libopencv\n",
      "  libavutil      54. 31.100 / 54. 31.100\n",
      "  libavcodec     56. 60.100 / 56. 60.100\n",
      "  libavformat    56. 40.101 / 56. 40.101\n",
      "  libavdevice    56.  4.100 / 56.  4.100\n",
      "  libavfilter     5. 40.101 /  5. 40.101\n",
      "  libavresample   2.  1.  0 /  2.  1.  0\n",
      "  libswscale      3.  1.101 /  3.  1.101\n",
      "  libswresample   1.  2.101 /  1.  2.101\n",
      "  libpostproc    53.  3.100 / 53.  3.100\n",
      "\u001b[0;36m[mjpeg @ 0x24e6de0] \u001b[0mChangeing bps to 8\n",
      "Input #0, image2, from '%04d.jpg':\n",
      "  Duration: 00:00:17.00, start: 0.000000, bitrate: N/A\n",
      "    Stream #0:0: Video: mjpeg, yuvj420p(pc, bt470bg/unknown/unknown), 864x1536 [SAR 1:1 DAR 9:16], 1 fps, 1 tbr, 1 tbn, 1 tbc\n",
      "\u001b[1;34m[swscaler @ 0x251a2e0] \u001b[0m\u001b[0;33mdeprecated pixel format used, make sure you did set range correctly\n",
      "\u001b[0m\u001b[1;36m[libvpx-vp9 @ 0x24e7ec0] \u001b[0mv1.5.0\n",
      "Output #0, webm, to '../video.webm':\n",
      "  Metadata:\n",
      "    encoder         : Lavf56.40.101\n",
      "    Stream #0:0: Video: vp9 (libvpx-vp9), yuv420p, 864x1536 [SAR 1:1 DAR 9:16], q=-1--1, 200 kb/s, 1 fps, 1k tbn, 1 tbc\n",
      "    Metadata:\n",
      "      encoder         : Lavc56.60.100 libvpx-vp9\n",
      "Stream mapping:\n",
      "  Stream #0:0 -> #0:0 (mjpeg (native) -> vp9 (libvpx-vp9))\n",
      "Press [q] to stop, [?] for help\n",
      "Input stream #0:0 frame changed from size:864x1536 fmt:yuvj420p to size:1536x1137 fmt:yuvj420p\n",
      "\u001b[1;34m[swscaler @ 0x251a2e0] \u001b[0m\u001b[0;33mdeprecated pixel format used, make sure you did set range correctly\n",
      "\u001b[0mInput stream #0:0 frame changed from size:1536x1137 fmt:yuvj420p to size:1536x869 fmt:yuvj420p\n",
      "\u001b[1;34m[swscaler @ 0x251a2e0] \u001b[0m\u001b[0;33mdeprecated pixel format used, make sure you did set range correctly\n",
      "\u001b[0mInput stream #0:0 frame changed from size:1536x869 fmt:yuvj420p to size:1536x1152 fmt:yuvj420p\n",
      "\u001b[1;34m[swscaler @ 0x251a2e0] \u001b[0m\u001b[0;33mdeprecated pixel format used, make sure you did set range correctly\n",
      "\u001b[0mInput stream #0:0 frame changed from size:1536x1152 fmt:yuvj420p to size:1152x1536 fmt:yuvj420p\n",
      "\u001b[1;34m[swscaler @ 0x251a2e0] \u001b[0m\u001b[0;33mdeprecated pixel format used, make sure you did set range correctly\n",
      "\u001b[0mInput stream #0:0 frame changed from size:1152x1536 fmt:yuvj420p to size:1536x1152 fmt:yuvj420p\n",
      "\u001b[1;34m[swscaler @ 0x343ebc0] \u001b[0m\u001b[0;33mdeprecated pixel format used, make sure you did set range correctly\n",
      "\u001b[0mInput stream #0:0 frame changed from size:1536x1152 fmt:yuvj420p to size:1152x1536 fmt:yuvj420p\n",
      "\u001b[1;34m[swscaler @ 0x343eba0] \u001b[0m\u001b[0;33mdeprecated pixel format used, make sure you did set range correctly\n",
      "\u001b[0mInput stream #0:0 frame changed from size:1152x1536 fmt:yuvj420p to size:1536x1152 fmt:yuvj420p\n",
      "\u001b[1;34m[swscaler @ 0x251a2e0] \u001b[0m\u001b[0;33mdeprecated pixel format used, make sure you did set range correctly\n",
      "\u001b[0mInput stream #0:0 frame changed from size:1536x1152 fmt:yuvj420p to size:1152x1536 fmt:yuvj420p\n",
      "\u001b[1;34m[swscaler @ 0x251a2e0] \u001b[0m\u001b[0;33mdeprecated pixel format used, make sure you did set range correctly\n",
      "frame=   17 fps=0.3 q=0.0 Lsize=     796kB time=00:00:17.00 bitrate= 383.5kbits/s    \n",
      "video:795kB audio:0kB subtitle:0kB other streams:0kB global headers:0kB muxing overhead: 0.079091%\n",
      "yes: standard output: Broken pipe\n"
     ]
    }
   ],
   "source": [
    "!yes| bash vidCreate.sh "
   ]
  },
  {
   "cell_type": "code",
   "execution_count": null,
   "metadata": {
    "collapsed": false
   },
   "outputs": [],
   "source": [
    "!ls -la\n"
   ]
  },
  {
   "cell_type": "code",
   "execution_count": null,
   "metadata": {
    "collapsed": true
   },
   "outputs": [],
   "source": []
  },
  {
   "cell_type": "code",
   "execution_count": null,
   "metadata": {
    "collapsed": true
   },
   "outputs": [],
   "source": []
  },
  {
   "cell_type": "code",
   "execution_count": null,
   "metadata": {
    "collapsed": true
   },
   "outputs": [],
   "source": []
  },
  {
   "cell_type": "code",
   "execution_count": null,
   "metadata": {
    "collapsed": true
   },
   "outputs": [],
   "source": []
  },
  {
   "cell_type": "code",
   "execution_count": null,
   "metadata": {
    "collapsed": true
   },
   "outputs": [],
   "source": []
  }
 ],
 "metadata": {
  "kernelspec": {
   "display_name": "Python 3",
   "language": "python",
   "name": "python3"
  },
  "language_info": {
   "codemirror_mode": {
    "name": "ipython",
    "version": 3
   },
   "file_extension": ".py",
   "mimetype": "text/x-python",
   "name": "python",
   "nbconvert_exporter": "python",
   "pygments_lexer": "ipython3",
   "version": "3.5.2"
  }
 },
 "nbformat": 4,
 "nbformat_minor": 1
}
