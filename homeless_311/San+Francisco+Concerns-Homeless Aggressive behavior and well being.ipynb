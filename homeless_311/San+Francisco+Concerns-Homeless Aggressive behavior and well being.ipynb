{
 "cells": [
  {
   "cell_type": "markdown",
   "metadata": {},
   "source": [
    "Question to answer, geographically, how do the locations of encampments compare to the reports for behavior"
   ]
  },
  {
   "cell_type": "markdown",
   "metadata": {
    "collapsed": true
   },
   "source": [
    "The source of the information is from the San Francisco Open Data Portal\n",
    "On that portal, I've created a dataset of Encampments\n",
    "https://data.sfgov.org/profile/Gregory/xm4t-k5h4?q=encampment&sortBy=relevance&utf8=%E2%9C%93\n"
   ]
  },
  {
   "cell_type": "markdown",
   "metadata": {},
   "source": [
    "# San Francisco Homeless Aggressive behavior and well being\n"
   ]
  },
  {
   "cell_type": "markdown",
   "metadata": {},
   "source": [
    "\n",
    "Import Libraries & get url\n"
   ]
  },
  {
   "cell_type": "code",
   "execution_count": 2,
   "metadata": {
    "collapsed": false
   },
   "outputs": [],
   "source": [
    "import numpy as np\n",
    "import pandas as pd\n",
    "import matplotlib.pyplot as plt\n",
    "\n",
    "%matplotlib inline\n",
    "\n",
    "\n"
   ]
  },
  {
   "cell_type": "markdown",
   "metadata": {},
   "source": [
    "## Set Display Column with wider so no problem with Media URL series"
   ]
  },
  {
   "cell_type": "code",
   "execution_count": 3,
   "metadata": {
    "collapsed": false
   },
   "outputs": [],
   "source": [
    "pd.options.display.max_colwidth=115"
   ]
  },
  {
   "cell_type": "markdown",
   "metadata": {},
   "source": [
    "## Setup to display images - working, work to do"
   ]
  },
  {
   "cell_type": "code",
   "execution_count": 4,
   "metadata": {
    "collapsed": false
   },
   "outputs": [],
   "source": [
    "from IPython.display import Image\n",
    "from IPython.core.display import HTML \n",
    "from IPython.core.display import Image, display"
   ]
  },
  {
   "cell_type": "markdown",
   "metadata": {},
   "source": [
    "### get url"
   ]
  },
  {
   "cell_type": "code",
   "execution_count": 5,
   "metadata": {
    "collapsed": true
   },
   "outputs": [],
   "source": [
    "\n",
    "#url = 'https://data.sfgov.org/resource/gbya-e2d3.csv'\n",
    "#url = 'https://data.sfgov.org/resource/gbya-e2d3.csv'\n",
    "url = 'https://data.sfgov.org/resource/s2hm-pruk.csv'"
   ]
  },
  {
   "cell_type": "code",
   "execution_count": 6,
   "metadata": {
    "collapsed": false
   },
   "outputs": [],
   "source": [
    "df = pd.read_csv(url)\n"
   ]
  },
  {
   "cell_type": "code",
   "execution_count": 7,
   "metadata": {
    "collapsed": false
   },
   "outputs": [
    {
     "data": {
      "text/html": [
       "<div>\n",
       "<table border=\"1\" class=\"dataframe\">\n",
       "  <thead>\n",
       "    <tr style=\"text-align: right;\">\n",
       "      <th></th>\n",
       "      <th>CaseID</th>\n",
       "      <th>Opened</th>\n",
       "      <th>Closed</th>\n",
       "      <th>Updated</th>\n",
       "      <th>Status</th>\n",
       "      <th>Status Notes</th>\n",
       "      <th>Responsible Agency</th>\n",
       "      <th>Category</th>\n",
       "      <th>Request Type</th>\n",
       "      <th>Request Details</th>\n",
       "      <th>Address</th>\n",
       "      <th>Supervisor District</th>\n",
       "      <th>Neighborhood</th>\n",
       "      <th>Point</th>\n",
       "      <th>Source</th>\n",
       "      <th>Media URL</th>\n",
       "    </tr>\n",
       "  </thead>\n",
       "  <tbody>\n",
       "    <tr>\n",
       "      <th>0</th>\n",
       "      <td>6606463</td>\n",
       "      <td>12/07/2016 07:44:11 PM</td>\n",
       "      <td>NaN</td>\n",
       "      <td>12/08/2016 01:51:56 AM</td>\n",
       "      <td>Open</td>\n",
       "      <td>closed</td>\n",
       "      <td>Police - Homeless Concerns Queue</td>\n",
       "      <td>General Requests</td>\n",
       "      <td>homeless_concerns - aggressive_behavior - request_for_service</td>\n",
       "      <td>homeless_concerns - aggressive_behavior - request_for_service</td>\n",
       "      <td>Intersection of BEALE ST and BRYANT ST</td>\n",
       "      <td>6.0</td>\n",
       "      <td>Rincon Hill</td>\n",
       "      <td>(37.7862236994829, -122.389636728846)</td>\n",
       "      <td>Open311</td>\n",
       "      <td>NaN</td>\n",
       "    </tr>\n",
       "    <tr>\n",
       "      <th>1</th>\n",
       "      <td>6606435</td>\n",
       "      <td>12/07/2016 07:40:57 PM</td>\n",
       "      <td>12/07/2016 08:29:35 PM</td>\n",
       "      <td>12/07/2016 08:29:35 PM</td>\n",
       "      <td>Closed</td>\n",
       "      <td>Case Resolved - Police Officer responded to request under CAD # 163423218. Individual(s) not found at location ...</td>\n",
       "      <td>Police - Homeless Concerns Queue</td>\n",
       "      <td>General Requests</td>\n",
       "      <td>homeless_concerns - wellbeing_check - request_for_service</td>\n",
       "      <td>homeless_concerns - wellbeing_check - request_for_service</td>\n",
       "      <td>930 COLUMBUS AVE, SAN FRANCISCO, CA, 94133</td>\n",
       "      <td>3.0</td>\n",
       "      <td>North Beach</td>\n",
       "      <td>(37.803104945971, -122.413926622677)</td>\n",
       "      <td>Open311</td>\n",
       "      <td>NaN</td>\n",
       "    </tr>\n",
       "    <tr>\n",
       "      <th>2</th>\n",
       "      <td>6606430</td>\n",
       "      <td>12/07/2016 07:40:33 PM</td>\n",
       "      <td>12/07/2016 11:06:06 PM</td>\n",
       "      <td>12/07/2016 11:06:06 PM</td>\n",
       "      <td>Closed</td>\n",
       "      <td>Case Resolved - Police Officer responded to request under CAD # 163423217. Individual(s) not found at location ...</td>\n",
       "      <td>Police - Homeless Concerns Queue</td>\n",
       "      <td>General Requests</td>\n",
       "      <td>homeless_concerns - wellbeing_check - request_for_service</td>\n",
       "      <td>homeless_concerns - wellbeing_check - request_for_service</td>\n",
       "      <td>635 ELLIS ST, SAN FRANCISCO, CA, 94109</td>\n",
       "      <td>6.0</td>\n",
       "      <td>Tenderloin</td>\n",
       "      <td>(37.784249072507, -122.416661124093)</td>\n",
       "      <td>Open311</td>\n",
       "      <td>NaN</td>\n",
       "    </tr>\n",
       "  </tbody>\n",
       "</table>\n",
       "</div>"
      ],
      "text/plain": [
       "    CaseID                  Opened                  Closed  \\\n",
       "0  6606463  12/07/2016 07:44:11 PM                     NaN   \n",
       "1  6606435  12/07/2016 07:40:57 PM  12/07/2016 08:29:35 PM   \n",
       "2  6606430  12/07/2016 07:40:33 PM  12/07/2016 11:06:06 PM   \n",
       "\n",
       "                  Updated  Status  \\\n",
       "0  12/08/2016 01:51:56 AM    Open   \n",
       "1  12/07/2016 08:29:35 PM  Closed   \n",
       "2  12/07/2016 11:06:06 PM  Closed   \n",
       "\n",
       "                                                                                                         Status Notes  \\\n",
       "0                                                                                                              closed   \n",
       "1  Case Resolved - Police Officer responded to request under CAD # 163423218. Individual(s) not found at location ...   \n",
       "2  Case Resolved - Police Officer responded to request under CAD # 163423217. Individual(s) not found at location ...   \n",
       "\n",
       "                 Responsible Agency          Category  \\\n",
       "0  Police - Homeless Concerns Queue  General Requests   \n",
       "1  Police - Homeless Concerns Queue  General Requests   \n",
       "2  Police - Homeless Concerns Queue  General Requests   \n",
       "\n",
       "                                                    Request Type  \\\n",
       "0  homeless_concerns - aggressive_behavior - request_for_service   \n",
       "1      homeless_concerns - wellbeing_check - request_for_service   \n",
       "2      homeless_concerns - wellbeing_check - request_for_service   \n",
       "\n",
       "                                                 Request Details  \\\n",
       "0  homeless_concerns - aggressive_behavior - request_for_service   \n",
       "1      homeless_concerns - wellbeing_check - request_for_service   \n",
       "2      homeless_concerns - wellbeing_check - request_for_service   \n",
       "\n",
       "                                      Address  Supervisor District  \\\n",
       "0      Intersection of BEALE ST and BRYANT ST                  6.0   \n",
       "1  930 COLUMBUS AVE, SAN FRANCISCO, CA, 94133                  3.0   \n",
       "2      635 ELLIS ST, SAN FRANCISCO, CA, 94109                  6.0   \n",
       "\n",
       "  Neighborhood                                  Point   Source  Media URL  \n",
       "0  Rincon Hill  (37.7862236994829, -122.389636728846)  Open311        NaN  \n",
       "1  North Beach   (37.803104945971, -122.413926622677)  Open311        NaN  \n",
       "2   Tenderloin   (37.784249072507, -122.416661124093)  Open311        NaN  "
      ]
     },
     "execution_count": 7,
     "metadata": {},
     "output_type": "execute_result"
    }
   ],
   "source": [
    "df.head(3)"
   ]
  },
  {
   "cell_type": "code",
   "execution_count": 8,
   "metadata": {
    "collapsed": false
   },
   "outputs": [],
   "source": [
    "df['Opened'] = pd.to_datetime(df['Opened'])\n",
    "df['Closed'] = pd.to_datetime(df['Closed'])\n",
    "df['Updated'] = pd.to_datetime(df['Updated'])"
   ]
  },
  {
   "cell_type": "code",
   "execution_count": 9,
   "metadata": {
    "collapsed": false
   },
   "outputs": [
    {
     "data": {
      "text/html": [
       "<div>\n",
       "<table border=\"1\" class=\"dataframe\">\n",
       "  <thead>\n",
       "    <tr style=\"text-align: right;\">\n",
       "      <th></th>\n",
       "      <th>CaseID</th>\n",
       "      <th>Opened</th>\n",
       "      <th>Closed</th>\n",
       "      <th>Updated</th>\n",
       "      <th>Status</th>\n",
       "      <th>Status Notes</th>\n",
       "      <th>Responsible Agency</th>\n",
       "      <th>Category</th>\n",
       "      <th>Request Type</th>\n",
       "      <th>Request Details</th>\n",
       "      <th>Address</th>\n",
       "      <th>Supervisor District</th>\n",
       "      <th>Neighborhood</th>\n",
       "      <th>Point</th>\n",
       "      <th>Source</th>\n",
       "      <th>Media URL</th>\n",
       "    </tr>\n",
       "  </thead>\n",
       "  <tbody>\n",
       "    <tr>\n",
       "      <th>0</th>\n",
       "      <td>6606463</td>\n",
       "      <td>2016-12-07 19:44:11</td>\n",
       "      <td>NaT</td>\n",
       "      <td>2016-12-08 01:51:56</td>\n",
       "      <td>Open</td>\n",
       "      <td>closed</td>\n",
       "      <td>Police - Homeless Concerns Queue</td>\n",
       "      <td>General Requests</td>\n",
       "      <td>homeless_concerns - aggressive_behavior - request_for_service</td>\n",
       "      <td>homeless_concerns - aggressive_behavior - request_for_service</td>\n",
       "      <td>Intersection of BEALE ST and BRYANT ST</td>\n",
       "      <td>6.0</td>\n",
       "      <td>Rincon Hill</td>\n",
       "      <td>(37.7862236994829, -122.389636728846)</td>\n",
       "      <td>Open311</td>\n",
       "      <td>NaN</td>\n",
       "    </tr>\n",
       "    <tr>\n",
       "      <th>1</th>\n",
       "      <td>6606435</td>\n",
       "      <td>2016-12-07 19:40:57</td>\n",
       "      <td>2016-12-07 20:29:35</td>\n",
       "      <td>2016-12-07 20:29:35</td>\n",
       "      <td>Closed</td>\n",
       "      <td>Case Resolved - Police Officer responded to request under CAD # 163423218. Individual(s) not found at location ...</td>\n",
       "      <td>Police - Homeless Concerns Queue</td>\n",
       "      <td>General Requests</td>\n",
       "      <td>homeless_concerns - wellbeing_check - request_for_service</td>\n",
       "      <td>homeless_concerns - wellbeing_check - request_for_service</td>\n",
       "      <td>930 COLUMBUS AVE, SAN FRANCISCO, CA, 94133</td>\n",
       "      <td>3.0</td>\n",
       "      <td>North Beach</td>\n",
       "      <td>(37.803104945971, -122.413926622677)</td>\n",
       "      <td>Open311</td>\n",
       "      <td>NaN</td>\n",
       "    </tr>\n",
       "    <tr>\n",
       "      <th>2</th>\n",
       "      <td>6606430</td>\n",
       "      <td>2016-12-07 19:40:33</td>\n",
       "      <td>2016-12-07 23:06:06</td>\n",
       "      <td>2016-12-07 23:06:06</td>\n",
       "      <td>Closed</td>\n",
       "      <td>Case Resolved - Police Officer responded to request under CAD # 163423217. Individual(s) not found at location ...</td>\n",
       "      <td>Police - Homeless Concerns Queue</td>\n",
       "      <td>General Requests</td>\n",
       "      <td>homeless_concerns - wellbeing_check - request_for_service</td>\n",
       "      <td>homeless_concerns - wellbeing_check - request_for_service</td>\n",
       "      <td>635 ELLIS ST, SAN FRANCISCO, CA, 94109</td>\n",
       "      <td>6.0</td>\n",
       "      <td>Tenderloin</td>\n",
       "      <td>(37.784249072507, -122.416661124093)</td>\n",
       "      <td>Open311</td>\n",
       "      <td>NaN</td>\n",
       "    </tr>\n",
       "  </tbody>\n",
       "</table>\n",
       "</div>"
      ],
      "text/plain": [
       "    CaseID              Opened              Closed             Updated  \\\n",
       "0  6606463 2016-12-07 19:44:11                 NaT 2016-12-08 01:51:56   \n",
       "1  6606435 2016-12-07 19:40:57 2016-12-07 20:29:35 2016-12-07 20:29:35   \n",
       "2  6606430 2016-12-07 19:40:33 2016-12-07 23:06:06 2016-12-07 23:06:06   \n",
       "\n",
       "   Status  \\\n",
       "0    Open   \n",
       "1  Closed   \n",
       "2  Closed   \n",
       "\n",
       "                                                                                                         Status Notes  \\\n",
       "0                                                                                                              closed   \n",
       "1  Case Resolved - Police Officer responded to request under CAD # 163423218. Individual(s) not found at location ...   \n",
       "2  Case Resolved - Police Officer responded to request under CAD # 163423217. Individual(s) not found at location ...   \n",
       "\n",
       "                 Responsible Agency          Category  \\\n",
       "0  Police - Homeless Concerns Queue  General Requests   \n",
       "1  Police - Homeless Concerns Queue  General Requests   \n",
       "2  Police - Homeless Concerns Queue  General Requests   \n",
       "\n",
       "                                                    Request Type  \\\n",
       "0  homeless_concerns - aggressive_behavior - request_for_service   \n",
       "1      homeless_concerns - wellbeing_check - request_for_service   \n",
       "2      homeless_concerns - wellbeing_check - request_for_service   \n",
       "\n",
       "                                                 Request Details  \\\n",
       "0  homeless_concerns - aggressive_behavior - request_for_service   \n",
       "1      homeless_concerns - wellbeing_check - request_for_service   \n",
       "2      homeless_concerns - wellbeing_check - request_for_service   \n",
       "\n",
       "                                      Address  Supervisor District  \\\n",
       "0      Intersection of BEALE ST and BRYANT ST                  6.0   \n",
       "1  930 COLUMBUS AVE, SAN FRANCISCO, CA, 94133                  3.0   \n",
       "2      635 ELLIS ST, SAN FRANCISCO, CA, 94109                  6.0   \n",
       "\n",
       "  Neighborhood                                  Point   Source  Media URL  \n",
       "0  Rincon Hill  (37.7862236994829, -122.389636728846)  Open311        NaN  \n",
       "1  North Beach   (37.803104945971, -122.413926622677)  Open311        NaN  \n",
       "2   Tenderloin   (37.784249072507, -122.416661124093)  Open311        NaN  "
      ]
     },
     "execution_count": 9,
     "metadata": {},
     "output_type": "execute_result"
    }
   ],
   "source": [
    "df.head(3)"
   ]
  },
  {
   "cell_type": "code",
   "execution_count": 10,
   "metadata": {
    "collapsed": false
   },
   "outputs": [
    {
     "data": {
      "text/plain": [
       "1.0     51\n",
       "2.0     69\n",
       "3.0     58\n",
       "4.0     60\n",
       "5.0     53\n",
       "6.0     50\n",
       "7.0     52\n",
       "8.0     29\n",
       "9.0     24\n",
       "10.0    23\n",
       "11.0    47\n",
       "12.0    23\n",
       "13.0    26\n",
       "14.0    28\n",
       "15.0    36\n",
       "16.0    28\n",
       "17.0    25\n",
       "18.0    20\n",
       "19.0     6\n",
       "20.0    14\n",
       "21.0    24\n",
       "22.0    19\n",
       "23.0    28\n",
       "24.0    14\n",
       "25.0    11\n",
       "26.0    12\n",
       "27.0    25\n",
       "28.0    32\n",
       "29.0    33\n",
       "30.0    36\n",
       "31.0    14\n",
       "Name: Closed, dtype: int64"
      ]
     },
     "execution_count": 10,
     "metadata": {},
     "output_type": "execute_result"
    }
   ],
   "source": [
    "df.Closed.dt.day.value_counts().sort_index()"
   ]
  },
  {
   "cell_type": "code",
   "execution_count": 11,
   "metadata": {
    "collapsed": false
   },
   "outputs": [
    {
     "data": {
      "text/plain": [
       "1     52\n",
       "2     67\n",
       "3     65\n",
       "4     53\n",
       "5     56\n",
       "6     55\n",
       "7     48\n",
       "8     25\n",
       "9     28\n",
       "10    25\n",
       "11    48\n",
       "12    21\n",
       "13    30\n",
       "14    35\n",
       "15    28\n",
       "16    28\n",
       "17    23\n",
       "18    24\n",
       "19     6\n",
       "20    12\n",
       "21    27\n",
       "22    23\n",
       "23    31\n",
       "24    12\n",
       "25    11\n",
       "26    12\n",
       "27    28\n",
       "28    43\n",
       "29    28\n",
       "30    40\n",
       "31    16\n",
       "Name: Opened, dtype: int64"
      ]
     },
     "execution_count": 11,
     "metadata": {},
     "output_type": "execute_result"
    }
   ],
   "source": [
    "df.Opened.dt.day.value_counts().sort_index()"
   ]
  },
  {
   "cell_type": "code",
   "execution_count": 12,
   "metadata": {
    "collapsed": false
   },
   "outputs": [
    {
     "data": {
      "text/plain": [
       "<matplotlib.axes._subplots.AxesSubplot at 0x7f98c3a16828>"
      ]
     },
     "execution_count": 12,
     "metadata": {},
     "output_type": "execute_result"
    },
    {
     "data": {
      "image/png": "[encoded data removed]",
      "text/plain": [
       "<matplotlib.figure.Figure at 0x7f98c2ece0b8>"
      ]
     },
     "metadata": {},
     "output_type": "display_data"
    }
   ],
   "source": [
    "df.Opened.dt.weekday.value_counts().sort_index().plot()"
   ]
  },
  {
   "cell_type": "code",
   "execution_count": 13,
   "metadata": {
    "collapsed": false
   },
   "outputs": [
    {
     "data": {
      "text/plain": [
       "Index(['CaseID', 'Opened', 'Closed', 'Updated', 'Status', 'Status Notes',\n",
       "       'Responsible Agency', 'Category', 'Request Type', 'Request Details',\n",
       "       'Address', 'Supervisor District', 'Neighborhood', 'Point', 'Source',\n",
       "       'Media URL'],\n",
       "      dtype='object')"
      ]
     },
     "execution_count": 13,
     "metadata": {},
     "output_type": "execute_result"
    }
   ],
   "source": [
    "df.columns"
   ]
  },
  {
   "cell_type": "code",
   "execution_count": 24,
   "metadata": {
    "collapsed": false
   },
   "outputs": [
    {
     "data": {
      "text/plain": [
       "homeless_concerns - aggressive_behavior - request_for_service    548\n",
       "homeless_concerns - wellbeing_check - request_for_service        309\n",
       "homeless_concerns - homeless_other - request_for_service         142\n",
       "homeless_concerns - homeless_other - complaint                     1\n",
       "Name: Request Details, dtype: int64"
      ]
     },
     "execution_count": 24,
     "metadata": {},
     "output_type": "execute_result"
    }
   ],
   "source": [
    "\n",
    "df['Request Details'].value_counts()\n"
   ]
  },
  {
   "cell_type": "code",
   "execution_count": 26,
   "metadata": {
    "collapsed": false
   },
   "outputs": [
    {
     "data": {
      "text/plain": [
       "Police - Homeless Concerns Queue                     930\n",
       "DPW Ops Queue                                         38\n",
       "Mayors Office of Neighborhood Services - G            14\n",
       "311 Supervisor Queue                                  11\n",
       "RPD Park Service Area 6 Queue                          3\n",
       "DPW - Bureau of Street Environmental Services - G      1\n",
       "HSA - Housing and Homeless - G                         1\n",
       "SFMTA - Parking Enforcement - G                        1\n",
       "RPD Park Service Area 5 Queue                          1\n",
       "Name: Responsible Agency, dtype: int64"
      ]
     },
     "execution_count": 26,
     "metadata": {},
     "output_type": "execute_result"
    }
   ],
   "source": [
    "df['Responsible Agency'].value_counts()"
   ]
  },
  {
   "cell_type": "code",
   "execution_count": 27,
   "metadata": {
    "collapsed": false
   },
   "outputs": [
    {
     "data": {
      "text/plain": [
       "count                                                             1000\n",
       "unique                                                             804\n",
       "top       Case Resolved - Unknown CAD Disposition, Default to Resolved\n",
       "freq                                                               122\n",
       "Name: Status Notes, dtype: object"
      ]
     },
     "execution_count": 27,
     "metadata": {},
     "output_type": "execute_result"
    }
   ],
   "source": [
    "df['Status Notes'].describe()"
   ]
  },
  {
   "cell_type": "code",
   "execution_count": 15,
   "metadata": {
    "collapsed": false
   },
   "outputs": [
    {
     "data": {
      "text/plain": [
       "Case Resolved - Unknown CAD Disposition, Default to Resolved                                                                122\n",
       "Insufficient Information - Insufficient infomation provided for action to be taken.                                          19\n",
       "Case Resolved - Fire Department's medical staff engaged.                                                                     18\n",
       "accepted                                                                                                                     16\n",
       "sent                                                                                                                          8\n",
       "Case Resolved - Contacted SFPD                                                                                                5\n",
       "open                                                                                                                          5\n",
       "Case Resolved - 10-98                                                                                                         5\n",
       "Case Resolved - duplicate                                                                                                     2\n",
       "Case Resolved -                                                                                                               2\n",
       "Case Transferred - Case was transferred to the police department.                                                             2\n",
       "Case Resolved - ADVISE SFPD                                                                                                   2\n",
       "Case Resolved - 1098                                                                                                          2\n",
       "Case Resolved - Completed                                                                                                     2\n",
       "Case Resolved - Police Officer responded to request under CAD # 163152413. Issue was addressed.                               1\n",
       "Case Resolved - Police Officer responded to request under CAD # 163033624. Individual(s) not found at location provided.      1\n",
       "Case Resolved - Police Officer responded to request under CAD # 163372077. Individual(s) not found at location provided.      1\n",
       "Case Resolved - incomplete not enough info                                                                                    1\n",
       "Case Resolved - Police Officer responded to request under CAD # 163232136. Advised of violation.                              1\n",
       "Case Resolved - Police Officer responded to request under CAD # 163414222. Individual(s) not found at location provided.      1\n",
       "Case Resolved - Police Officer responded to request under CAD # 163121785. Individual(s) have been admonished.                1\n",
       "Case Resolved - Police Officer responded to request under CAD # 163392690. Individual(s) not found at location provided.      1\n",
       "Case Resolved - Police Officer responded to request under CAD # 163372772. Issue was addressed.                               1\n",
       "Case Resolved - Police Officer responded to request under CAD # 163323661. Advised of violation.                              1\n",
       "Case Resolved - Police Officer responded to request under CAD # 163140723. Advised of violation.                              1\n",
       "Case Resolved - Police Officer responded to request under CAD # 163193393. Individual(s) not found at location provided.      1\n",
       "Case Resolved - Police Officer responded to request under CAD # 163403360. Advised of violation.                              1\n",
       "Case Resolved - Police Officer responded to request under CAD # 163193354. Individual(s) not found at location provided.      1\n",
       "Case Resolved - Police Officer responded to request under CAD # 163360935. Individual(s) not found at location provided.      1\n",
       "Case Resolved - Police Officer responded to request under CAD # 163122821. Situation has been abated.                         1\n",
       "                                                                                                                           ... \n",
       "Case Resolved - Police Officer responded to request under CAD # 163321441. Individual(s) not found at location provided.      1\n",
       "Case Resolved - Police Officer responded to request under CAD # 163070235. Issue was addressed.                               1\n",
       "Case Resolved - See CAD# 163193889 for details.                                                                               1\n",
       "Case Resolved - Police Officer responded to request under CAD # 163112296. Individual(s) not found at location provided.      1\n",
       "Case Resolved - Police Officer responded to request under CAD # 163161544. Issue was addressed.                               1\n",
       "Case Resolved - Police Officer responded to request under CAD # 163130129. Individual(s) not found at location provided.      1\n",
       "Case Resolved - Police Officer responded to request under CAD # 163282397. Individual(s) not found at location provided.      1\n",
       "Case Resolved - Police Officer responded to request under CAD # 163083487. Individual(s) not found at location provided.      1\n",
       "Case Resolved - Police Officer responded to request under CAD # 163241241. Individual(s) not found at location provided.      1\n",
       "Case Resolved - Police Officer responded to request under CAD # 163231527. Individual(s) not found at location provided.      1\n",
       "Case Resolved - Police Officer responded to request under CAD # 163422084. Individual(s) not found at location provided.      1\n",
       "Case Resolved - Police Officer responded to request under CAD # 163212117. Issue was addressed.                               1\n",
       "Case Resolved - Police Officer responded to request under CAD # 163161649. Issue was addressed.                               1\n",
       "Case Resolved - Police Officer responded to request under CAD # 163141528. Individual(s) not found at location provided.      1\n",
       "Case Resolved - Police Officer responded to request under CAD # 163130960. Issue was addressed.                               1\n",
       "Case Resolved - Police Officer responded to request under CAD # 163120058. Individual(s) not found at location provided.      1\n",
       "Case Resolved - Police Officer responded to request under CAD # 163311650. Individual(s) not found at location provided.      1\n",
       "Case Resolved - Police Officer responded to request under CAD # 163382024. Individual(s) not found at location provided.      1\n",
       "Case Resolved - Police Officer responded to request under CAD # 163112597. Individual(s) not found at location provided.      1\n",
       "Case Resolved - Police Officer responded to request under CAD # 163290284. Individual(s) not found at location provided.      1\n",
       "Case Resolved - Police Officer responded to request under CAD # 163052578. Advised of violation.                              1\n",
       "Case Resolved - Police Officer responded to request under CAD # 163392726. Issue was addressed.                               1\n",
       "Case Resolved - See CAD# 163113924 for details.                                                                               1\n",
       "Case Resolved - not enough info/ incomplete can not process                                                                   1\n",
       "Case Resolved - Exact location or specific cornere needed please                                                              1\n",
       "Case Resolved - Police Officer responded to request under CAD # 163190039. Individual(s) not found at location provided.      1\n",
       "Case Resolved - Police Officer responded to request under CAD # 163261008. Advised of violation.                              1\n",
       "Case Resolved - Police Officer responded to request under CAD # 163071826. Individual(s) not found at location provided.      1\n",
       "Case Resolved - Police Officer responded to request under CAD # 163351851. Individual(s) not found at location provided.      1\n",
       "Case Resolved - Police Officer responded to request under CAD # 163171459. Individual(s) not found at location provided.      1\n",
       "Name: Status Notes, dtype: int64"
      ]
     },
     "execution_count": 15,
     "metadata": {},
     "output_type": "execute_result"
    }
   ],
   "source": [
    "df['Status Notes'].value_counts()"
   ]
  },
  {
   "cell_type": "code",
   "execution_count": 16,
   "metadata": {
    "collapsed": false
   },
   "outputs": [
    {
     "data": {
      "text/plain": [
       "-1.0       1\n",
       " 1.0      61\n",
       " 2.0      24\n",
       " 3.0     109\n",
       " 4.0      11\n",
       " 5.0      93\n",
       " 6.0     278\n",
       " 7.0       2\n",
       " 8.0     129\n",
       " 9.0     126\n",
       " 10.0    159\n",
       " 11.0      4\n",
       "Name: Supervisor District, dtype: int64"
      ]
     },
     "execution_count": 16,
     "metadata": {},
     "output_type": "execute_result"
    }
   ],
   "source": [
    "df['Supervisor District'].value_counts().sort_index()\n",
    "\n"
   ]
  },
  {
   "cell_type": "code",
   "execution_count": 17,
   "metadata": {
    "collapsed": false
   },
   "outputs": [
    {
     "data": {
      "text/plain": [
       "South of Market             163\n",
       "Potrero Hill                127\n",
       "Mission                     121\n",
       "Castro                       75\n",
       "Financial District           43\n",
       "Civic Center                 42\n",
       "Lower Nob Hill               32\n",
       "Sutro Heights                28\n",
       "Haight Ashbury               27\n",
       "Tenderloin                   25\n",
       "Rincon Hill                  23\n",
       "Mission Dolores              18\n",
       "Outer Richmond               16\n",
       "Showplace Square             15\n",
       "Polk Gulch                   13\n",
       "Mission Bay                  11\n",
       "Hayes Valley                 10\n",
       "Japantown                     9\n",
       "Duboce Triangle               8\n",
       "Lower Pacific Heights         8\n",
       "Cathedral Hill                8\n",
       "Golden Gate Park              8\n",
       "Russian Hill                  7\n",
       "Inner Richmond                7\n",
       "Bernal Heights                7\n",
       "North Beach                   6\n",
       "Marina                        6\n",
       "Nob Hill                      6\n",
       "Inner Sunset                  6\n",
       "South Beach                   6\n",
       "                           ... \n",
       "Lower Haight                  4\n",
       "Eureka Valley                 4\n",
       "Buena Vista                   3\n",
       "Fisherman's Wharf             3\n",
       "Mint Hill                     3\n",
       "Parkside                      3\n",
       "Pacific Heights               3\n",
       "Corona Heights                3\n",
       "Dolores Heights               3\n",
       "Northern Waterfront           2\n",
       "Western Addition              2\n",
       "Noe Valley                    2\n",
       "Union Street                  2\n",
       "Chinatown                     2\n",
       "Excelsior                     2\n",
       "Dogpatch                      2\n",
       "Parnassus Heights             2\n",
       "Produce Market                2\n",
       "Cow Hollow                    2\n",
       "Little Hollywood              1\n",
       "Telegraph Hill                1\n",
       "Peralta Heights               1\n",
       "Portola                       1\n",
       "Ingleside                     1\n",
       "Upper Market                  1\n",
       "Ashbury Heights               1\n",
       "Presidio Terrace              1\n",
       "Ingleside Terraces            1\n",
       "Merced Heights                1\n",
       "Aquatic Park / Ft. Mason      1\n",
       "Name: Neighborhood, dtype: int64"
      ]
     },
     "execution_count": 17,
     "metadata": {},
     "output_type": "execute_result"
    }
   ],
   "source": [
    "df.Neighborhood.value_counts()"
   ]
  },
  {
   "cell_type": "code",
   "execution_count": 18,
   "metadata": {
    "collapsed": false
   },
   "outputs": [
    {
     "data": {
      "text/html": [
       "<div>\n",
       "<table border=\"1\" class=\"dataframe\">\n",
       "  <thead>\n",
       "    <tr style=\"text-align: right;\">\n",
       "      <th></th>\n",
       "      <th>CaseID</th>\n",
       "      <th>Opened</th>\n",
       "      <th>Closed</th>\n",
       "      <th>Updated</th>\n",
       "      <th>Status</th>\n",
       "      <th>Status Notes</th>\n",
       "      <th>Responsible Agency</th>\n",
       "      <th>Category</th>\n",
       "      <th>Request Type</th>\n",
       "      <th>Request Details</th>\n",
       "      <th>Address</th>\n",
       "      <th>Supervisor District</th>\n",
       "      <th>Neighborhood</th>\n",
       "      <th>Point</th>\n",
       "      <th>Source</th>\n",
       "      <th>Media URL</th>\n",
       "    </tr>\n",
       "  </thead>\n",
       "  <tbody>\n",
       "    <tr>\n",
       "      <th>20</th>\n",
       "      <td>6602753</td>\n",
       "      <td>2016-12-06 18:45:17</td>\n",
       "      <td>2016-12-07 00:36:57</td>\n",
       "      <td>2016-12-07 00:36:57</td>\n",
       "      <td>Closed</td>\n",
       "      <td>Case Resolved - Police Officer responded to request under CAD # 163413223. Advised of violation.</td>\n",
       "      <td>Police - Homeless Concerns Queue</td>\n",
       "      <td>General Requests</td>\n",
       "      <td>homeless_concerns - aggressive_behavior - request_for_service</td>\n",
       "      <td>homeless_concerns - aggressive_behavior - request_for_service</td>\n",
       "      <td>580 YORK ST, SAN FRANCISCO, CA, 94110</td>\n",
       "      <td>10.0</td>\n",
       "      <td>Mission</td>\n",
       "      <td>(37.762111439113, -122.409379734077)</td>\n",
       "      <td>Open311</td>\n",
       "      <td>NaN</td>\n",
       "    </tr>\n",
       "    <tr>\n",
       "      <th>21</th>\n",
       "      <td>6602750</td>\n",
       "      <td>2016-12-06 18:43:45</td>\n",
       "      <td>2016-12-07 00:35:17</td>\n",
       "      <td>2016-12-07 00:35:17</td>\n",
       "      <td>Closed</td>\n",
       "      <td>Case Resolved - Police Officer responded to request under CAD # 163413182. Individual(s) not found at location ...</td>\n",
       "      <td>Police - Homeless Concerns Queue</td>\n",
       "      <td>General Requests</td>\n",
       "      <td>homeless_concerns - aggressive_behavior - request_for_service</td>\n",
       "      <td>homeless_concerns - aggressive_behavior - request_for_service</td>\n",
       "      <td>2048 BRYANT ST, SAN FRANCISCO, CA, 94110</td>\n",
       "      <td>9.0</td>\n",
       "      <td>Mission</td>\n",
       "      <td>(37.761130420644, -122.410127826554)</td>\n",
       "      <td>Open311</td>\n",
       "      <td>NaN</td>\n",
       "    </tr>\n",
       "    <tr>\n",
       "      <th>43</th>\n",
       "      <td>6600084</td>\n",
       "      <td>2016-12-06 08:36:40</td>\n",
       "      <td>2016-12-06 12:27:06</td>\n",
       "      <td>2016-12-06 12:27:06</td>\n",
       "      <td>Closed</td>\n",
       "      <td>Case Resolved - Police Officer responded to request under CAD # 163410875. Individual(s) not found at location ...</td>\n",
       "      <td>Police - Homeless Concerns Queue</td>\n",
       "      <td>General Requests</td>\n",
       "      <td>homeless_concerns - wellbeing_check - request_for_service</td>\n",
       "      <td>homeless_concerns - wellbeing_check - request_for_service</td>\n",
       "      <td>2953 22ND ST, SAN FRANCISCO, CA, 94110</td>\n",
       "      <td>9.0</td>\n",
       "      <td>Mission</td>\n",
       "      <td>(37.755706539151, -122.413364408083)</td>\n",
       "      <td>Open311</td>\n",
       "      <td>NaN</td>\n",
       "    </tr>\n",
       "    <tr>\n",
       "      <th>72</th>\n",
       "      <td>6595866</td>\n",
       "      <td>2016-12-05 09:07:47</td>\n",
       "      <td>2016-12-05 12:08:41</td>\n",
       "      <td>2016-12-05 12:08:41</td>\n",
       "      <td>Closed</td>\n",
       "      <td>Case Resolved - Police Officer responded to request under CAD # 163401104. Advised of violation.</td>\n",
       "      <td>Police - Homeless Concerns Queue</td>\n",
       "      <td>General Requests</td>\n",
       "      <td>homeless_concerns - wellbeing_check - request_for_service</td>\n",
       "      <td>homeless_concerns - wellbeing_check - request_for_service</td>\n",
       "      <td>Intersection of ERIE ST and MISSION ST</td>\n",
       "      <td>9.0</td>\n",
       "      <td>Mission</td>\n",
       "      <td>(37.7690454018668, -122.420032143074)</td>\n",
       "      <td>Web Self Service</td>\n",
       "      <td>NaN</td>\n",
       "    </tr>\n",
       "    <tr>\n",
       "      <th>73</th>\n",
       "      <td>6595863</td>\n",
       "      <td>2016-12-05 09:07:31</td>\n",
       "      <td>NaT</td>\n",
       "      <td>2016-12-05 09:07:31</td>\n",
       "      <td>Open</td>\n",
       "      <td>accepted</td>\n",
       "      <td>Police - Homeless Concerns Queue</td>\n",
       "      <td>General Requests</td>\n",
       "      <td>homeless_concerns - wellbeing_check - request_for_service</td>\n",
       "      <td>homeless_concerns - wellbeing_check - request_for_service</td>\n",
       "      <td>1799 MISSION ST, SAN FRANCISCO, CA, 94103</td>\n",
       "      <td>9.0</td>\n",
       "      <td>Mission</td>\n",
       "      <td>(37.768299648276, -122.419913931934)</td>\n",
       "      <td>Web Self Service</td>\n",
       "      <td>NaN</td>\n",
       "    </tr>\n",
       "    <tr>\n",
       "      <th>80</th>\n",
       "      <td>6595393</td>\n",
       "      <td>2016-12-05 07:52:15</td>\n",
       "      <td>2016-12-05 10:00:43</td>\n",
       "      <td>2016-12-05 10:00:43</td>\n",
       "      <td>Closed</td>\n",
       "      <td>Case Resolved - Police Officer responded to request under CAD # 163400712. Issue was addressed.</td>\n",
       "      <td>Police - Homeless Concerns Queue</td>\n",
       "      <td>General Requests</td>\n",
       "      <td>homeless_concerns - wellbeing_check - request_for_service</td>\n",
       "      <td>homeless_concerns - wellbeing_check - request_for_service</td>\n",
       "      <td>Intersection of 20TH ST and FLORIDA ST</td>\n",
       "      <td>9.0</td>\n",
       "      <td>Mission</td>\n",
       "      <td>(37.7591338604323, -122.410758686679)</td>\n",
       "      <td>Open311</td>\n",
       "      <td>NaN</td>\n",
       "    </tr>\n",
       "    <tr>\n",
       "      <th>86</th>\n",
       "      <td>6594478</td>\n",
       "      <td>2016-12-04 18:06:36</td>\n",
       "      <td>2016-12-04 23:55:43</td>\n",
       "      <td>2016-12-04 23:55:43</td>\n",
       "      <td>Closed</td>\n",
       "      <td>Case Resolved - Police Officer responded to request under CAD # 163393093. Individual(s) not found at location ...</td>\n",
       "      <td>Police - Homeless Concerns Queue</td>\n",
       "      <td>General Requests</td>\n",
       "      <td>homeless_concerns - aggressive_behavior - request_for_service</td>\n",
       "      <td>homeless_concerns - aggressive_behavior - request_for_service</td>\n",
       "      <td>2048 BRYANT ST, SAN FRANCISCO, CA, 94110</td>\n",
       "      <td>9.0</td>\n",
       "      <td>Mission</td>\n",
       "      <td>(37.761130420644, -122.410127826554)</td>\n",
       "      <td>Open311</td>\n",
       "      <td>NaN</td>\n",
       "    </tr>\n",
       "    <tr>\n",
       "      <th>94</th>\n",
       "      <td>6593656</td>\n",
       "      <td>2016-12-04 13:10:01</td>\n",
       "      <td>2016-12-04 23:59:00</td>\n",
       "      <td>2016-12-04 23:59:00</td>\n",
       "      <td>Closed</td>\n",
       "      <td>Case Resolved - Police Officer responded to request under CAD # 163392819. Issue was addressed.</td>\n",
       "      <td>Police - Homeless Concerns Queue</td>\n",
       "      <td>General Requests</td>\n",
       "      <td>homeless_concerns - aggressive_behavior - request_for_service</td>\n",
       "      <td>homeless_concerns - aggressive_behavior - request_for_service</td>\n",
       "      <td>Intersection of 18TH ST and FLORIDA ST</td>\n",
       "      <td>9.0</td>\n",
       "      <td>Mission</td>\n",
       "      <td>(37.7617009755953, -122.411090102877)</td>\n",
       "      <td>Open311</td>\n",
       "      <td>NaN</td>\n",
       "    </tr>\n",
       "  </tbody>\n",
       "</table>\n",
       "</div>"
      ],
      "text/plain": [
       "     CaseID              Opened              Closed             Updated  \\\n",
       "20  6602753 2016-12-06 18:45:17 2016-12-07 00:36:57 2016-12-07 00:36:57   \n",
       "21  6602750 2016-12-06 18:43:45 2016-12-07 00:35:17 2016-12-07 00:35:17   \n",
       "43  6600084 2016-12-06 08:36:40 2016-12-06 12:27:06 2016-12-06 12:27:06   \n",
       "72  6595866 2016-12-05 09:07:47 2016-12-05 12:08:41 2016-12-05 12:08:41   \n",
       "73  6595863 2016-12-05 09:07:31                 NaT 2016-12-05 09:07:31   \n",
       "80  6595393 2016-12-05 07:52:15 2016-12-05 10:00:43 2016-12-05 10:00:43   \n",
       "86  6594478 2016-12-04 18:06:36 2016-12-04 23:55:43 2016-12-04 23:55:43   \n",
       "94  6593656 2016-12-04 13:10:01 2016-12-04 23:59:00 2016-12-04 23:59:00   \n",
       "\n",
       "    Status  \\\n",
       "20  Closed   \n",
       "21  Closed   \n",
       "43  Closed   \n",
       "72  Closed   \n",
       "73    Open   \n",
       "80  Closed   \n",
       "86  Closed   \n",
       "94  Closed   \n",
       "\n",
       "                                                                                                          Status Notes  \\\n",
       "20                    Case Resolved - Police Officer responded to request under CAD # 163413223. Advised of violation.   \n",
       "21  Case Resolved - Police Officer responded to request under CAD # 163413182. Individual(s) not found at location ...   \n",
       "43  Case Resolved - Police Officer responded to request under CAD # 163410875. Individual(s) not found at location ...   \n",
       "72                    Case Resolved - Police Officer responded to request under CAD # 163401104. Advised of violation.   \n",
       "73                                                                                                            accepted   \n",
       "80                     Case Resolved - Police Officer responded to request under CAD # 163400712. Issue was addressed.   \n",
       "86  Case Resolved - Police Officer responded to request under CAD # 163393093. Individual(s) not found at location ...   \n",
       "94                     Case Resolved - Police Officer responded to request under CAD # 163392819. Issue was addressed.   \n",
       "\n",
       "                  Responsible Agency          Category  \\\n",
       "20  Police - Homeless Concerns Queue  General Requests   \n",
       "21  Police - Homeless Concerns Queue  General Requests   \n",
       "43  Police - Homeless Concerns Queue  General Requests   \n",
       "72  Police - Homeless Concerns Queue  General Requests   \n",
       "73  Police - Homeless Concerns Queue  General Requests   \n",
       "80  Police - Homeless Concerns Queue  General Requests   \n",
       "86  Police - Homeless Concerns Queue  General Requests   \n",
       "94  Police - Homeless Concerns Queue  General Requests   \n",
       "\n",
       "                                                     Request Type  \\\n",
       "20  homeless_concerns - aggressive_behavior - request_for_service   \n",
       "21  homeless_concerns - aggressive_behavior - request_for_service   \n",
       "43      homeless_concerns - wellbeing_check - request_for_service   \n",
       "72      homeless_concerns - wellbeing_check - request_for_service   \n",
       "73      homeless_concerns - wellbeing_check - request_for_service   \n",
       "80      homeless_concerns - wellbeing_check - request_for_service   \n",
       "86  homeless_concerns - aggressive_behavior - request_for_service   \n",
       "94  homeless_concerns - aggressive_behavior - request_for_service   \n",
       "\n",
       "                                                  Request Details  \\\n",
       "20  homeless_concerns - aggressive_behavior - request_for_service   \n",
       "21  homeless_concerns - aggressive_behavior - request_for_service   \n",
       "43      homeless_concerns - wellbeing_check - request_for_service   \n",
       "72      homeless_concerns - wellbeing_check - request_for_service   \n",
       "73      homeless_concerns - wellbeing_check - request_for_service   \n",
       "80      homeless_concerns - wellbeing_check - request_for_service   \n",
       "86  homeless_concerns - aggressive_behavior - request_for_service   \n",
       "94  homeless_concerns - aggressive_behavior - request_for_service   \n",
       "\n",
       "                                      Address  Supervisor District  \\\n",
       "20      580 YORK ST, SAN FRANCISCO, CA, 94110                 10.0   \n",
       "21   2048 BRYANT ST, SAN FRANCISCO, CA, 94110                  9.0   \n",
       "43     2953 22ND ST, SAN FRANCISCO, CA, 94110                  9.0   \n",
       "72     Intersection of ERIE ST and MISSION ST                  9.0   \n",
       "73  1799 MISSION ST, SAN FRANCISCO, CA, 94103                  9.0   \n",
       "80     Intersection of 20TH ST and FLORIDA ST                  9.0   \n",
       "86   2048 BRYANT ST, SAN FRANCISCO, CA, 94110                  9.0   \n",
       "94     Intersection of 18TH ST and FLORIDA ST                  9.0   \n",
       "\n",
       "   Neighborhood                                  Point            Source  \\\n",
       "20      Mission   (37.762111439113, -122.409379734077)           Open311   \n",
       "21      Mission   (37.761130420644, -122.410127826554)           Open311   \n",
       "43      Mission   (37.755706539151, -122.413364408083)           Open311   \n",
       "72      Mission  (37.7690454018668, -122.420032143074)  Web Self Service   \n",
       "73      Mission   (37.768299648276, -122.419913931934)  Web Self Service   \n",
       "80      Mission  (37.7591338604323, -122.410758686679)           Open311   \n",
       "86      Mission   (37.761130420644, -122.410127826554)           Open311   \n",
       "94      Mission  (37.7617009755953, -122.411090102877)           Open311   \n",
       "\n",
       "    Media URL  \n",
       "20        NaN  \n",
       "21        NaN  \n",
       "43        NaN  \n",
       "72        NaN  \n",
       "73        NaN  \n",
       "80        NaN  \n",
       "86        NaN  \n",
       "94        NaN  "
      ]
     },
     "execution_count": 18,
     "metadata": {},
     "output_type": "execute_result"
    }
   ],
   "source": [
    "df[df.Neighborhood == 'Mission'].head(8)"
   ]
  },
  {
   "cell_type": "markdown",
   "metadata": {},
   "source": [
    "\n",
    "### Get rid of NaN entries and display images\n",
    "\n",
    "Need Help  https://youtu.be/2AFGPdNn4FM?t=8m"
   ]
  },
  {
   "cell_type": "code",
   "execution_count": 19,
   "metadata": {
    "collapsed": false
   },
   "outputs": [],
   "source": [
    "from IPython.display import Image\n",
    "from IPython.core.display import HTML \n",
    "\n"
   ]
  },
  {
   "cell_type": "code",
   "execution_count": 20,
   "metadata": {
    "collapsed": true
   },
   "outputs": [],
   "source": [
    "hl_images = df[df['Media URL'].notnull() ]['Media URL']\n"
   ]
  },
  {
   "cell_type": "code",
   "execution_count": 21,
   "metadata": {
    "collapsed": true
   },
   "outputs": [],
   "source": [
    "#hl_images = df[df['Media URL'].notnull() ]"
   ]
  },
  {
   "cell_type": "code",
   "execution_count": 22,
   "metadata": {
    "collapsed": false
   },
   "outputs": [
    {
     "data": {
      "text/plain": [
       "Series([], Name: Media URL, dtype: float64)"
      ]
     },
     "execution_count": 22,
     "metadata": {},
     "output_type": "execute_result"
    }
   ],
   "source": [
    "hl_images.head(4)"
   ]
  },
  {
   "cell_type": "code",
   "execution_count": 23,
   "metadata": {
    "collapsed": false
   },
   "outputs": [
    {
     "ename": "IndexError",
     "evalue": "index out of bounds",
     "output_type": "error",
     "traceback": [
      "\u001b[0;31m---------------------------------------------------------------------------\u001b[0m",
      "\u001b[0;31mKeyError\u001b[0m                                  Traceback (most recent call last)",
      "\u001b[0;32m/opt/conda/lib/python3.5/site-packages/pandas/indexes/base.py\u001b[0m in \u001b[0;36mget_value\u001b[0;34m(self, series, key)\u001b[0m\n\u001b[1;32m   1979\u001b[0m             return self._engine.get_value(s, k,\n\u001b[0;32m-> 1980\u001b[0;31m                                           tz=getattr(series.dtype, 'tz', None))\n\u001b[0m\u001b[1;32m   1981\u001b[0m         \u001b[0;32mexcept\u001b[0m \u001b[0mKeyError\u001b[0m \u001b[0;32mas\u001b[0m \u001b[0me1\u001b[0m\u001b[0;34m:\u001b[0m\u001b[0;34m\u001b[0m\u001b[0m\n",
      "\u001b[0;32mpandas/index.pyx\u001b[0m in \u001b[0;36mpandas.index.IndexEngine.get_value (pandas/index.c:3332)\u001b[0;34m()\u001b[0m\n",
      "\u001b[0;32mpandas/index.pyx\u001b[0m in \u001b[0;36mpandas.index.IndexEngine.get_value (pandas/index.c:3035)\u001b[0;34m()\u001b[0m\n",
      "\u001b[0;32mpandas/index.pyx\u001b[0m in \u001b[0;36mpandas.index.IndexEngine.get_loc (pandas/index.c:4018)\u001b[0;34m()\u001b[0m\n",
      "\u001b[0;32mpandas/hashtable.pyx\u001b[0m in \u001b[0;36mpandas.hashtable.Int64HashTable.get_item (pandas/hashtable.c:6610)\u001b[0;34m()\u001b[0m\n",
      "\u001b[0;32mpandas/hashtable.pyx\u001b[0m in \u001b[0;36mpandas.hashtable.Int64HashTable.get_item (pandas/hashtable.c:6554)\u001b[0;34m()\u001b[0m\n",
      "\u001b[0;31mKeyError\u001b[0m: 0",
      "\nDuring handling of the above exception, another exception occurred:\n",
      "\u001b[0;31mIndexError\u001b[0m                                Traceback (most recent call last)",
      "\u001b[0;32m<ipython-input-23-91127aaca84a>\u001b[0m in \u001b[0;36m<module>\u001b[0;34m()\u001b[0m\n\u001b[0;32m----> 1\u001b[0;31m \u001b[0mprint\u001b[0m\u001b[0;34m(\u001b[0m\u001b[0mhl_images\u001b[0m\u001b[0;34m[\u001b[0m\u001b[0;36m0\u001b[0m\u001b[0;34m]\u001b[0m\u001b[0;34m)\u001b[0m\u001b[0;34m\u001b[0m\u001b[0m\n\u001b[0m\u001b[1;32m      2\u001b[0m \u001b[0mImage\u001b[0m\u001b[0;34m(\u001b[0m\u001b[0mhl_images\u001b[0m\u001b[0;34m[\u001b[0m\u001b[0;36m0\u001b[0m\u001b[0;34m]\u001b[0m\u001b[0;34m)\u001b[0m\u001b[0;34m\u001b[0m\u001b[0m\n",
      "\u001b[0;32m/opt/conda/lib/python3.5/site-packages/pandas/core/series.py\u001b[0m in \u001b[0;36m__getitem__\u001b[0;34m(self, key)\u001b[0m\n\u001b[1;32m    581\u001b[0m         \u001b[0mkey\u001b[0m \u001b[0;34m=\u001b[0m \u001b[0mcom\u001b[0m\u001b[0;34m.\u001b[0m\u001b[0m_apply_if_callable\u001b[0m\u001b[0;34m(\u001b[0m\u001b[0mkey\u001b[0m\u001b[0;34m,\u001b[0m \u001b[0mself\u001b[0m\u001b[0;34m)\u001b[0m\u001b[0;34m\u001b[0m\u001b[0m\n\u001b[1;32m    582\u001b[0m         \u001b[0;32mtry\u001b[0m\u001b[0;34m:\u001b[0m\u001b[0;34m\u001b[0m\u001b[0m\n\u001b[0;32m--> 583\u001b[0;31m             \u001b[0mresult\u001b[0m \u001b[0;34m=\u001b[0m \u001b[0mself\u001b[0m\u001b[0;34m.\u001b[0m\u001b[0mindex\u001b[0m\u001b[0;34m.\u001b[0m\u001b[0mget_value\u001b[0m\u001b[0;34m(\u001b[0m\u001b[0mself\u001b[0m\u001b[0;34m,\u001b[0m \u001b[0mkey\u001b[0m\u001b[0;34m)\u001b[0m\u001b[0;34m\u001b[0m\u001b[0m\n\u001b[0m\u001b[1;32m    584\u001b[0m \u001b[0;34m\u001b[0m\u001b[0m\n\u001b[1;32m    585\u001b[0m             \u001b[0;32mif\u001b[0m \u001b[0;32mnot\u001b[0m \u001b[0mlib\u001b[0m\u001b[0;34m.\u001b[0m\u001b[0misscalar\u001b[0m\u001b[0;34m(\u001b[0m\u001b[0mresult\u001b[0m\u001b[0;34m)\u001b[0m\u001b[0;34m:\u001b[0m\u001b[0;34m\u001b[0m\u001b[0m\n",
      "\u001b[0;32m/opt/conda/lib/python3.5/site-packages/pandas/indexes/base.py\u001b[0m in \u001b[0;36mget_value\u001b[0;34m(self, series, key)\u001b[0m\n\u001b[1;32m   1984\u001b[0m \u001b[0;34m\u001b[0m\u001b[0m\n\u001b[1;32m   1985\u001b[0m             \u001b[0;32mtry\u001b[0m\u001b[0;34m:\u001b[0m\u001b[0;34m\u001b[0m\u001b[0m\n\u001b[0;32m-> 1986\u001b[0;31m                 \u001b[0;32mreturn\u001b[0m \u001b[0mtslib\u001b[0m\u001b[0;34m.\u001b[0m\u001b[0mget_value_box\u001b[0m\u001b[0;34m(\u001b[0m\u001b[0ms\u001b[0m\u001b[0;34m,\u001b[0m \u001b[0mkey\u001b[0m\u001b[0;34m)\u001b[0m\u001b[0;34m\u001b[0m\u001b[0m\n\u001b[0m\u001b[1;32m   1987\u001b[0m             \u001b[0;32mexcept\u001b[0m \u001b[0mIndexError\u001b[0m\u001b[0;34m:\u001b[0m\u001b[0;34m\u001b[0m\u001b[0m\n\u001b[1;32m   1988\u001b[0m                 \u001b[0;32mraise\u001b[0m\u001b[0;34m\u001b[0m\u001b[0m\n",
      "\u001b[0;32mpandas/tslib.pyx\u001b[0m in \u001b[0;36mpandas.tslib.get_value_box (pandas/tslib.c:17017)\u001b[0;34m()\u001b[0m\n",
      "\u001b[0;32mpandas/tslib.pyx\u001b[0m in \u001b[0;36mpandas.tslib.get_value_box (pandas/tslib.c:16774)\u001b[0;34m()\u001b[0m\n",
      "\u001b[0;31mIndexError\u001b[0m: index out of bounds"
     ]
    }
   ],
   "source": [
    "print(hl_images[0])\n",
    "Image(hl_images[0])\n"
   ]
  },
  {
   "cell_type": "code",
   "execution_count": null,
   "metadata": {
    "collapsed": true
   },
   "outputs": [],
   "source": []
  },
  {
   "cell_type": "code",
   "execution_count": null,
   "metadata": {
    "collapsed": true
   },
   "outputs": [],
   "source": []
  }
 ],
 "metadata": {
  "kernelspec": {
   "display_name": "Python 3",
   "language": "python",
   "name": "python3"
  },
  "language_info": {
   "codemirror_mode": {
    "name": "ipython",
    "version": 3
   },
   "file_extension": ".py",
   "mimetype": "text/x-python",
   "name": "python",
   "nbconvert_exporter": "python",
   "pygments_lexer": "ipython3",
   "version": "3.5.2"
  }
 },
 "nbformat": 4,
 "nbformat_minor": 1
}
