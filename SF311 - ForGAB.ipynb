{
 "cells": [
  {
   "cell_type": "code",
   "execution_count": 1,
   "metadata": {
    "collapsed": false
   },
   "outputs": [],
   "source": [
    "import numpy as np\n",
    "import pandas as pd\n",
    "import matplotlib.pyplot as plt\n",
    "\n",
    "%matplotlib inline"
   ]
  },
  {
   "cell_type": "code",
   "execution_count": 2,
   "metadata": {
    "collapsed": false
   },
   "outputs": [],
   "source": [
    "#All Graffiti Currently Set for one year, but limit is 50, 000\n",
    "'''\n",
    "https://data.sfgov.org/resource/rme2-xgvs.json\n",
    "The graffiti_url is the target URL\n",
    "and could be swapped out, and the code should still run\n",
    "'''\n",
    "graffiti_url = 'https://data.sfgov.org/resource/rme2-xgvs.json'\n",
    "target_url=graffiti_url"
   ]
  },
  {
   "cell_type": "code",
   "execution_count": 3,
   "metadata": {
    "collapsed": false
   },
   "outputs": [
    {
     "data": {
      "text/plain": [
       "'https://data.sfgov.org/resource/rme2-xgvs.csv'"
      ]
     },
     "execution_count": 3,
     "metadata": {},
     "output_type": "execute_result"
    }
   ],
   "source": [
    "url0 = str(target_url)[:-4]+'csv'\n",
    "url0"
   ]
  },
  {
   "cell_type": "code",
   "execution_count": 4,
   "metadata": {
    "collapsed": false
   },
   "outputs": [
    {
     "name": "stdout",
     "output_type": "stream",
     "text": [
      "https://data.sfgov.org/resource/rme2-xgvs.csv?$limit=50000\n",
      "https://data.sfgov.org/resource/rme2-xgvs.csv?$limit=50000&$offset=50000\n"
     ]
    }
   ],
   "source": [
    "\n",
    "limit = '?$limit=50000'\n",
    "offset = '&$offset=50000'\n",
    "url1 = url0+limit\n",
    "print (url1)\n",
    "\n",
    "url2 = url1 + offset\n",
    "print (url2)"
   ]
  },
  {
   "cell_type": "code",
   "execution_count": 5,
   "metadata": {
    "collapsed": false
   },
   "outputs": [],
   "source": [
    "df1  = pd.read_csv(url1)\n",
    "df2 = pd.read_csv(url2)"
   ]
  },
  {
   "cell_type": "code",
   "execution_count": 6,
   "metadata": {
    "collapsed": false
   },
   "outputs": [
    {
     "data": {
      "text/html": [
       "<div>\n",
       "<table border=\"1\" class=\"dataframe\">\n",
       "  <thead>\n",
       "    <tr style=\"text-align: right;\">\n",
       "      <th></th>\n",
       "      <th>CaseID</th>\n",
       "      <th>Opened</th>\n",
       "      <th>Closed</th>\n",
       "      <th>Updated</th>\n",
       "      <th>Status</th>\n",
       "      <th>Status Notes</th>\n",
       "      <th>Responsible Agency</th>\n",
       "      <th>Category</th>\n",
       "      <th>Request Type</th>\n",
       "      <th>Request Details</th>\n",
       "      <th>Address</th>\n",
       "      <th>Supervisor District</th>\n",
       "      <th>Neighborhood</th>\n",
       "      <th>Point</th>\n",
       "      <th>Source</th>\n",
       "      <th>Media URL</th>\n",
       "    </tr>\n",
       "  </thead>\n",
       "  <tbody>\n",
       "    <tr>\n",
       "      <th>0</th>\n",
       "      <td>6594908</td>\n",
       "      <td>12/04/2016 11:41:37 PM</td>\n",
       "      <td>NaN</td>\n",
       "      <td>12/04/2016 11:41:37 PM</td>\n",
       "      <td>Open</td>\n",
       "      <td>Open</td>\n",
       "      <td>US Postal Service Maintenance Queue</td>\n",
       "      <td>Graffiti Public Property</td>\n",
       "      <td>Not_Offensive Graffiti on Public Property</td>\n",
       "      <td>Mail_box - Not_Offensive</td>\n",
       "      <td>Intersection of PACIFIC AVE and SANSOME ST</td>\n",
       "      <td>3.0</td>\n",
       "      <td>North Beach</td>\n",
       "      <td>(37.7975049039537, -122.402040854067)</td>\n",
       "      <td>Open311</td>\n",
       "      <td>http://mobile311.sfgov.org/media/san_francisco...</td>\n",
       "    </tr>\n",
       "  </tbody>\n",
       "</table>\n",
       "</div>"
      ],
      "text/plain": [
       "    CaseID                  Opened Closed                 Updated Status  \\\n",
       "0  6594908  12/04/2016 11:41:37 PM    NaN  12/04/2016 11:41:37 PM   Open   \n",
       "\n",
       "  Status Notes                   Responsible Agency                  Category  \\\n",
       "0         Open  US Postal Service Maintenance Queue  Graffiti Public Property   \n",
       "\n",
       "                                Request Type           Request Details  \\\n",
       "0  Not_Offensive Graffiti on Public Property  Mail_box - Not_Offensive   \n",
       "\n",
       "                                      Address  Supervisor District  \\\n",
       "0  Intersection of PACIFIC AVE and SANSOME ST                  3.0   \n",
       "\n",
       "  Neighborhood                                  Point   Source  \\\n",
       "0  North Beach  (37.7975049039537, -122.402040854067)  Open311   \n",
       "\n",
       "                                           Media URL  \n",
       "0  http://mobile311.sfgov.org/media/san_francisco...  "
      ]
     },
     "execution_count": 6,
     "metadata": {},
     "output_type": "execute_result"
    }
   ],
   "source": [
    "df1.head(1)"
   ]
  },
  {
   "cell_type": "code",
   "execution_count": 7,
   "metadata": {
    "collapsed": false
   },
   "outputs": [
    {
     "data": {
      "text/html": [
       "<div>\n",
       "<table border=\"1\" class=\"dataframe\">\n",
       "  <thead>\n",
       "    <tr style=\"text-align: right;\">\n",
       "      <th></th>\n",
       "      <th>CaseID</th>\n",
       "      <th>Opened</th>\n",
       "      <th>Closed</th>\n",
       "      <th>Updated</th>\n",
       "      <th>Status</th>\n",
       "      <th>Status Notes</th>\n",
       "      <th>Responsible Agency</th>\n",
       "      <th>Category</th>\n",
       "      <th>Request Type</th>\n",
       "      <th>Request Details</th>\n",
       "      <th>Address</th>\n",
       "      <th>Supervisor District</th>\n",
       "      <th>Neighborhood</th>\n",
       "      <th>Point</th>\n",
       "      <th>Source</th>\n",
       "      <th>Media URL</th>\n",
       "    </tr>\n",
       "  </thead>\n",
       "  <tbody>\n",
       "    <tr>\n",
       "      <th>0</th>\n",
       "      <td>5669343</td>\n",
       "      <td>03/15/2016 09:45:04 PM</td>\n",
       "      <td>04/28/2016 09:15:13 AM</td>\n",
       "      <td>04/28/2016 09:15:13 AM</td>\n",
       "      <td>Closed</td>\n",
       "      <td>Resolved - Addressed</td>\n",
       "      <td>DPT Meter_Bike Queue</td>\n",
       "      <td>Graffiti Public Property</td>\n",
       "      <td>Not_Offensive Graffiti on Public Property</td>\n",
       "      <td>Parking_meter - Not_Offensive</td>\n",
       "      <td>Intersection of 10TH ST and HOWARD ST</td>\n",
       "      <td>6</td>\n",
       "      <td>South of Market</td>\n",
       "      <td>(37.7740432481341, -122.414367549633)</td>\n",
       "      <td>Open311</td>\n",
       "      <td>http://mobile311.sfgov.org/media/san_francisco...</td>\n",
       "    </tr>\n",
       "  </tbody>\n",
       "</table>\n",
       "</div>"
      ],
      "text/plain": [
       "    CaseID                  Opened                  Closed  \\\n",
       "0  5669343  03/15/2016 09:45:04 PM  04/28/2016 09:15:13 AM   \n",
       "\n",
       "                  Updated  Status          Status Notes    Responsible Agency  \\\n",
       "0  04/28/2016 09:15:13 AM  Closed  Resolved - Addressed  DPT Meter_Bike Queue   \n",
       "\n",
       "                   Category                               Request Type  \\\n",
       "0  Graffiti Public Property  Not_Offensive Graffiti on Public Property   \n",
       "\n",
       "                 Request Details                                Address  \\\n",
       "0  Parking_meter - Not_Offensive  Intersection of 10TH ST and HOWARD ST   \n",
       "\n",
       "   Supervisor District     Neighborhood  \\\n",
       "0                    6  South of Market   \n",
       "\n",
       "                                   Point   Source  \\\n",
       "0  (37.7740432481341, -122.414367549633)  Open311   \n",
       "\n",
       "                                           Media URL  \n",
       "0  http://mobile311.sfgov.org/media/san_francisco...  "
      ]
     },
     "execution_count": 7,
     "metadata": {},
     "output_type": "execute_result"
    }
   ],
   "source": [
    "df2.head(1)"
   ]
  },
  {
   "cell_type": "code",
   "execution_count": 8,
   "metadata": {
    "collapsed": false
   },
   "outputs": [
    {
     "data": {
      "text/plain": [
       "18069"
      ]
     },
     "execution_count": 8,
     "metadata": {},
     "output_type": "execute_result"
    }
   ],
   "source": [
    "len(df2)"
   ]
  },
  {
   "cell_type": "markdown",
   "metadata": {},
   "source": [
    "Pick reports within circle, dataframe named 'dflocation''"
   ]
  },
  {
   "cell_type": "code",
   "execution_count": null,
   "metadata": {
    "collapsed": false
   },
   "outputs": [],
   "source": [
    "'''url = 'https://data.sfgov.org/resource/hca6-em76.csv'\n",
    "url = url + '?'\n",
    "#limit = '?$limit=50000'\n",
    "#url = url+limit\n",
    "#https://data.seattle.gov/resource/pu5n-trf4.json?$where=within_circle(incident_location, 47.59815, -122.334540, 500)\n",
    "'''\n",
    "latlon = '37.761877, -122.419378 ' \n",
    "circle = '?$where=within_circle(point, '+latlon+ ', 50)'\n",
    "loc_url = url0 + circle\n",
    "\n",
    "loc_url"
   ]
  },
  {
   "cell_type": "code",
   "execution_count": null,
   "metadata": {
    "collapsed": false
   },
   "outputs": [],
   "source": [
    "dflocation=pd.read_csv(loc_url)"
   ]
  },
  {
   "cell_type": "code",
   "execution_count": null,
   "metadata": {
    "collapsed": false
   },
   "outputs": [],
   "source": [
    "df_at_location.head(3)"
   ]
  },
  {
   "cell_type": "markdown",
   "metadata": {
    "collapsed": true
   },
   "source": [
    "# Vertically stack the two dataFrames"
   ]
  },
  {
   "cell_type": "code",
   "execution_count": 9,
   "metadata": {
    "collapsed": false
   },
   "outputs": [],
   "source": [
    "frames = [df1,df2]"
   ]
  },
  {
   "cell_type": "code",
   "execution_count": 10,
   "metadata": {
    "collapsed": false
   },
   "outputs": [],
   "source": [
    "df = pd.concat(frames)"
   ]
  },
  {
   "cell_type": "code",
   "execution_count": 11,
   "metadata": {
    "collapsed": false
   },
   "outputs": [
    {
     "data": {
      "text/plain": [
       "(68069, 16)"
      ]
     },
     "execution_count": 11,
     "metadata": {},
     "output_type": "execute_result"
    }
   ],
   "source": [
    "df.shape\n"
   ]
  },
  {
   "cell_type": "markdown",
   "metadata": {},
   "source": [
    "# Convert the time series into pandas time version"
   ]
  },
  {
   "cell_type": "code",
   "execution_count": 12,
   "metadata": {
    "collapsed": false
   },
   "outputs": [
    {
     "data": {
      "text/plain": [
       "Index(['CaseID', 'Opened', 'Closed', 'Updated', 'Status', 'Status Notes',\n",
       "       'Responsible Agency', 'Category', 'Request Type', 'Request Details',\n",
       "       'Address', 'Supervisor District', 'Neighborhood', 'Point', 'Source',\n",
       "       'Media URL'],\n",
       "      dtype='object')"
      ]
     },
     "execution_count": 12,
     "metadata": {},
     "output_type": "execute_result"
    }
   ],
   "source": [
    "df.columns"
   ]
  },
  {
   "cell_type": "code",
   "execution_count": 13,
   "metadata": {
    "collapsed": true
   },
   "outputs": [],
   "source": [
    "timeCols = ['Opened', 'Closed', 'Updated']"
   ]
  },
  {
   "cell_type": "code",
   "execution_count": 22,
   "metadata": {
    "collapsed": false
   },
   "outputs": [
    {
     "data": {
      "text/plain": [
       "Open311              51751\n",
       "Integrated Agency     7796\n",
       "Web Self Service      4228\n",
       "Voice In              4106\n",
       "Twitter                188\n",
       "Name: Source, dtype: int64"
      ]
     },
     "execution_count": 22,
     "metadata": {},
     "output_type": "execute_result"
    }
   ],
   "source": [
    "df.Source.value_counts()\n"
   ]
  },
  {
   "cell_type": "code",
   "execution_count": 24,
   "metadata": {
    "collapsed": false
   },
   "outputs": [
    {
     "data": {
      "text/plain": [
       " 9.0     12974\n",
       " 3.0     11366\n",
       " 5.0     11142\n",
       " 6.0      9168\n",
       " 8.0      8046\n",
       " 1.0      4515\n",
       " 10.0     3701\n",
       " 2.0      2234\n",
       " 11.0     1644\n",
       " 4.0      1308\n",
       " 7.0      1196\n",
       " 0.0       743\n",
       "-1.0         6\n",
       "Name: Supervisor District, dtype: int64"
      ]
     },
     "execution_count": 24,
     "metadata": {},
     "output_type": "execute_result"
    }
   ],
   "source": [
    "df['Supervisor District'].value_counts()"
   ]
  },
  {
   "cell_type": "code",
   "execution_count": null,
   "metadata": {
    "collapsed": true
   },
   "outputs": [],
   "source": [
    "# df['Supervisor District'].value_counts()  // order this"
   ]
  },
  {
   "cell_type": "code",
   "execution_count": 27,
   "metadata": {
    "collapsed": false
   },
   "outputs": [
    {
     "data": {
      "text/plain": [
       "Case Resolved -                                                               10346\n",
       "accepted                                                                       7668\n",
       "Scheduled -                                                                    3473\n",
       "Open                                                                           2558\n",
       "Case Transferred - Per process - cases are closed 5 days after assignment.     1970\n",
       "Case Resolved - meter shop has closed this request                             1804\n",
       "Case is a Duplicate -                                                          1330\n",
       "Case Resolved - Graffiti removed                                               1212\n",
       "Case Completed - resolved:                                                     1111\n",
       "Case Completed - Case Resolved:                                                 863\n",
       "Name: Status Notes, dtype: int64"
      ]
     },
     "execution_count": 27,
     "metadata": {},
     "output_type": "execute_result"
    }
   ],
   "source": [
    "df['Status Notes'].value_counts().head(10)"
   ]
  },
  {
   "cell_type": "code",
   "execution_count": 28,
   "metadata": {
    "collapsed": false
   },
   "outputs": [
    {
     "data": {
      "text/plain": [
       "Closed    56341\n",
       "Open      11728\n",
       "Name: Status, dtype: int64"
      ]
     },
     "execution_count": 28,
     "metadata": {},
     "output_type": "execute_result"
    }
   ],
   "source": [
    "df['Status'].value_counts().head()"
   ]
  },
  {
   "cell_type": "code",
   "execution_count": 31,
   "metadata": {
    "collapsed": false
   },
   "outputs": [
    {
     "data": {
      "text/plain": [
       "DPW Ops Queue                          45139\n",
       "US Postal Service Maintenance Queue     4871\n",
       "Clear Channel - Transit Queue           3651\n",
       "DPT Meter_Bike Queue                    2977\n",
       "Name: Responsible Agency, dtype: int64"
      ]
     },
     "execution_count": 31,
     "metadata": {},
     "output_type": "execute_result"
    }
   ],
   "source": [
    "df['Responsible Agency'].value_counts().head(4)"
   ]
  },
  {
   "cell_type": "code",
   "execution_count": 33,
   "metadata": {
    "collapsed": false
   },
   "outputs": [
    {
     "data": {
      "text/plain": [
       "Graffiti Public Property     41754\n",
       "Graffiti Private Property    26315\n",
       "Name: Category, dtype: int64"
      ]
     },
     "execution_count": 33,
     "metadata": {},
     "output_type": "execute_result"
    }
   ],
   "source": [
    "df.Category.value_counts().head()"
   ]
  },
  {
   "cell_type": "code",
   "execution_count": 35,
   "metadata": {
    "collapsed": false
   },
   "outputs": [
    {
     "data": {
      "text/plain": [
       "Not_Offensive Graffiti on Public Property                 24374\n",
       "Not_Offensive Graffiti on Private Property                21082\n",
       "Offensive Graffiti on Public Property                     16955\n",
       "Offensive Graffiti on Private Property                     5150\n",
       "offensive Graffiti on Public Property                       425\n",
       "Post_Abatement_Inspection Graffiti on Private Property       83\n",
       "Name: Request Type, dtype: int64"
      ]
     },
     "execution_count": 35,
     "metadata": {},
     "output_type": "execute_result"
    }
   ],
   "source": [
    "df['Request Type'].value_counts().head(10)"
   ]
  },
  {
   "cell_type": "code",
   "execution_count": 37,
   "metadata": {
    "collapsed": false
   },
   "outputs": [
    {
     "data": {
      "text/plain": [
       "Building_other - Not_Offensive                      8420\n",
       "Building_commercial - Not_Offensive                 7043\n",
       "Other_enter_additional_details_below - Offensive    6516\n",
       "Pole - Not_Offensive                                5197\n",
       "Sidewalk_in_front_of_property - Not_Offensive       3518\n",
       "Signal_box - Not_Offensive                          3370\n",
       "Mail_box - Not_Offensive                            3090\n",
       "Transit_Shelter_Platform - Not_Offensive            2898\n",
       "Pole - Offensive                                    2661\n",
       "Parking_meter - Not_Offensive                       2439\n",
       "Building_commercial - Offensive                     2321\n",
       "Building_residential - Not_Offensive                2101\n",
       "Mail_box - Offensive                                1523\n",
       "Sidewalk_in_front_of_property - Offensive           1521\n",
       "Signal_box - Offensive                              1411\n",
       "Fire_hydrant - Not_Offensive                        1369\n",
       "News_rack - Not_Offensive                           1257\n",
       "Sidewalk_structure - Not_Offensive                  1170\n",
       "City_receptacle - Not_Offensive                     1129\n",
       "Building_residential - Offensive                    1005\n",
       "Name: Request Details, dtype: int64"
      ]
     },
     "execution_count": 37,
     "metadata": {},
     "output_type": "execute_result"
    }
   ],
   "source": [
    "df['Request Details'].value_counts().head(20)"
   ]
  },
  {
   "cell_type": "code",
   "execution_count": 38,
   "metadata": {
    "collapsed": false
   },
   "outputs": [
    {
     "data": {
      "text/plain": [
       "Not associated with a specific address         750\n",
       "Intersection of 18TH ST and MISSION ST         386\n",
       "Intersection of 19TH ST and MISSION ST         298\n",
       "1435 FOLSOM ST, SAN FRANCISCO, CA, 94103       260\n",
       "Intersection of 20TH ST and MISSION ST         243\n",
       "2178 MISSION ST, SAN FRANCISCO, CA, 94110      229\n",
       "Intersection of 19TH ST and VALENCIA ST        191\n",
       "Intersection of 17TH ST and MISSION ST         184\n",
       "Intersection of 19TH ST and LEXINGTON ST       147\n",
       "Intersection of 20TH ST and SAN CARLOS ST      144\n",
       "Intersection of CALIFORNIA ST and GRANT AVE    133\n",
       "Intersection of 19TH ST and SAN CARLOS ST      131\n",
       "Intersection of CLAY ST and POWELL ST          124\n",
       "Intersection of 18TH ST and VALENCIA ST        124\n",
       "2266 MISSION ST, SAN FRANCISCO, CA, 94110      120\n",
       "921 HOWARD ST, SAN FRANCISCO, CA, 94103        119\n",
       "4134 GEARY BLVD, SAN FRANCISCO, CA, 94118      119\n",
       "744 WASHINGTON ST, SAN FRANCISCO, CA, 94108    118\n",
       "416 DOLORES ST, SAN FRANCISCO, CA, 94110       116\n",
       "149 10TH ST, SAN FRANCISCO, CA, 94103          116\n",
       "Name: Address, dtype: int64"
      ]
     },
     "execution_count": 38,
     "metadata": {},
     "output_type": "execute_result"
    }
   ],
   "source": [
    "df['Address'].value_counts().head(20)"
   ]
  },
  {
   "cell_type": "code",
   "execution_count": 40,
   "metadata": {
    "collapsed": false
   },
   "outputs": [
    {
     "data": {
      "text/plain": [
       "Open311              51751\n",
       "Integrated Agency     7796\n",
       "Web Self Service      4228\n",
       "Voice In              4106\n",
       "Twitter                188\n",
       "Name: Source, dtype: int64"
      ]
     },
     "execution_count": 40,
     "metadata": {},
     "output_type": "execute_result"
    }
   ],
   "source": [
    "df['Source'].value_counts().head(6)"
   ]
  },
  {
   "cell_type": "code",
   "execution_count": 42,
   "metadata": {
    "collapsed": false
   },
   "outputs": [
    {
     "data": {
      "text/plain": [
       "count                                                 48585\n",
       "unique                                                48509\n",
       "top       http://mobile311.sfgov.org/media/san_francisco...\n",
       "freq                                                     14\n",
       "Name: Media URL, dtype: object"
      ]
     },
     "execution_count": 42,
     "metadata": {},
     "output_type": "execute_result"
    }
   ],
   "source": [
    "df['Media URL'].describe()"
   ]
  },
  {
   "cell_type": "code",
   "execution_count": 44,
   "metadata": {
    "collapsed": false
   },
   "outputs": [
    {
     "data": {
      "text/plain": [
       "count                                     67315\n",
       "unique                                    18294\n",
       "top       (37.7618358043403, -122.419359315196)\n",
       "freq                                        400\n",
       "Name: Point, dtype: object"
      ]
     },
     "execution_count": 44,
     "metadata": {},
     "output_type": "execute_result"
    }
   ],
   "source": [
    "df['Point'].describe()"
   ]
  },
  {
   "cell_type": "code",
   "execution_count": null,
   "metadata": {
    "collapsed": true
   },
   "outputs": [],
   "source": [
    "\n",
    "\n",
    "\n"
   ]
  },
  {
   "cell_type": "code",
   "execution_count": null,
   "metadata": {
    "collapsed": true
   },
   "outputs": [],
   "source": []
  },
  {
   "cell_type": "code",
   "execution_count": null,
   "metadata": {
    "collapsed": true
   },
   "outputs": [],
   "source": []
  },
  {
   "cell_type": "code",
   "execution_count": null,
   "metadata": {
    "collapsed": true
   },
   "outputs": [],
   "source": []
  },
  {
   "cell_type": "code",
   "execution_count": null,
   "metadata": {
    "collapsed": true
   },
   "outputs": [],
   "source": []
  },
  {
   "cell_type": "code",
   "execution_count": null,
   "metadata": {
    "collapsed": true
   },
   "outputs": [],
   "source": []
  },
  {
   "cell_type": "code",
   "execution_count": null,
   "metadata": {
    "collapsed": true
   },
   "outputs": [],
   "source": []
  },
  {
   "cell_type": "code",
   "execution_count": null,
   "metadata": {
    "collapsed": true
   },
   "outputs": [],
   "source": []
  },
  {
   "cell_type": "code",
   "execution_count": null,
   "metadata": {
    "collapsed": true
   },
   "outputs": [],
   "source": []
  },
  {
   "cell_type": "code",
   "execution_count": null,
   "metadata": {
    "collapsed": true
   },
   "outputs": [],
   "source": []
  },
  {
   "cell_type": "code",
   "execution_count": 46,
   "metadata": {
    "collapsed": false
   },
   "outputs": [],
   "source": [
    "import pandas as pd\n",
    "\n",
    "urlX = 'https://data.sfgov.org/resource/rme2-xgvs.json'\n",
    "\n",
    "\n",
    "# load JSON as DataFrame\n",
    "json_data=pd.read_json(urlX).T\n",
    "\n",
    "# to CSV\n",
    "json_data.to_csv(\"geocoded.csv\")"
   ]
  },
  {
   "cell_type": "code",
   "execution_count": null,
   "metadata": {
    "collapsed": true
   },
   "outputs": [],
   "source": []
  }
 ],
 "metadata": {
  "kernelspec": {
   "display_name": "Python 3",
   "language": "python",
   "name": "python3"
  },
  "language_info": {
   "codemirror_mode": {
    "name": "ipython",
    "version": 3
   },
   "file_extension": ".py",
   "mimetype": "text/x-python",
   "name": "python",
   "nbconvert_exporter": "python",
   "pygments_lexer": "ipython3",
   "version": "3.5.2"
  }
 },
 "nbformat": 4,
 "nbformat_minor": 1
}
