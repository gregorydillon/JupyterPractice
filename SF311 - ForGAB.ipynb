{
 "cells": [
  {
   "cell_type": "code",
   "execution_count": 3,
   "metadata": {
    "collapsed": false
   },
   "outputs": [
    {
     "name": "stderr",
     "output_type": "stream",
     "text": [
      "/home/gdillon/.local/lib/python3.5/site-packages/matplotlib/font_manager.py:273: UserWarning: Matplotlib is building the font cache using fc-list. This may take a moment.\n",
      "  warnings.warn('Matplotlib is building the font cache using fc-list. This may take a moment.')\n",
      "/home/gdillon/.local/lib/python3.5/site-packages/matplotlib/font_manager.py:273: UserWarning: Matplotlib is building the font cache using fc-list. This may take a moment.\n",
      "  warnings.warn('Matplotlib is building the font cache using fc-list. This may take a moment.')\n"
     ]
    }
   ],
   "source": [
    "import numpy as np\n",
    "import pandas as pd\n",
    "import matplotlib.pyplot as plt\n",
    "\n",
    "%matplotlib inline"
   ]
  },
  {
   "cell_type": "code",
   "execution_count": 4,
   "metadata": {
    "collapsed": false
   },
   "outputs": [],
   "source": [
    "#All Graffiti Currently Set for one year, but limit is 50, 000\n",
    "'''\n",
    "https://data.sfgov.org/resource/rme2-xgvs.json\n",
    "The graffiti_url is the target URL\n",
    "and could be swapped out, and the code should still run\n",
    "'''\n",
    "graffiti_url = 'https://data.sfgov.org/resource/rme2-xgvs.json'\n",
    "target_url=graffiti_url"
   ]
  },
  {
   "cell_type": "code",
   "execution_count": 5,
   "metadata": {
    "collapsed": false
   },
   "outputs": [
    {
     "data": {
      "text/plain": [
       "'https://data.sfgov.org/resource/rme2-xgvs.csv'"
      ]
     },
     "execution_count": 5,
     "metadata": {},
     "output_type": "execute_result"
    }
   ],
   "source": [
    "url0 = str(target_url)[:-4]+'csv'\n",
    "url0"
   ]
  },
  {
   "cell_type": "code",
   "execution_count": 6,
   "metadata": {
    "collapsed": false
   },
   "outputs": [
    {
     "name": "stdout",
     "output_type": "stream",
     "text": [
      "https://data.sfgov.org/resource/rme2-xgvs.csv?$limit=50000\n",
      "https://data.sfgov.org/resource/rme2-xgvs.csv?$limit=50000&$offset=50000\n"
     ]
    }
   ],
   "source": [
    "\n",
    "limit = '?$limit=50000'\n",
    "offset = '&$offset=50000'\n",
    "url1 = url0+limit\n",
    "print (url1)\n",
    "\n",
    "url2 = url1 + offset\n",
    "print (url2)"
   ]
  },
  {
   "cell_type": "code",
   "execution_count": 7,
   "metadata": {
    "collapsed": false
   },
   "outputs": [],
   "source": [
    "df1  = pd.read_csv(url1)\n",
    "df2 = pd.read_csv(url2)"
   ]
  },
  {
   "cell_type": "code",
   "execution_count": 8,
   "metadata": {
    "collapsed": false
   },
   "outputs": [
    {
     "data": {
      "text/html": [
       "<div>\n",
       "<table border=\"1\" class=\"dataframe\">\n",
       "  <thead>\n",
       "    <tr style=\"text-align: right;\">\n",
       "      <th></th>\n",
       "      <th>CaseID</th>\n",
       "      <th>Opened</th>\n",
       "      <th>Closed</th>\n",
       "      <th>Updated</th>\n",
       "      <th>Status</th>\n",
       "      <th>Status Notes</th>\n",
       "      <th>Responsible Agency</th>\n",
       "      <th>Category</th>\n",
       "      <th>Request Type</th>\n",
       "      <th>Request Details</th>\n",
       "      <th>Address</th>\n",
       "      <th>Supervisor District</th>\n",
       "      <th>Neighborhood</th>\n",
       "      <th>Point</th>\n",
       "      <th>Source</th>\n",
       "      <th>Media URL</th>\n",
       "    </tr>\n",
       "  </thead>\n",
       "  <tbody>\n",
       "    <tr>\n",
       "      <th>0</th>\n",
       "      <td>6603129</td>\n",
       "      <td>12/06/2016 11:39:33 PM</td>\n",
       "      <td>NaN</td>\n",
       "      <td>12/06/2016 11:39:33 PM</td>\n",
       "      <td>Open</td>\n",
       "      <td>Open</td>\n",
       "      <td>US Postal Service Maintenance Queue</td>\n",
       "      <td>Graffiti Public Property</td>\n",
       "      <td>Not_Offensive Graffiti on Public Property</td>\n",
       "      <td>Mail_box - Not_Offensive</td>\n",
       "      <td>Intersection of GRANT AVE and PINE ST</td>\n",
       "      <td>3.0</td>\n",
       "      <td>Chinatown</td>\n",
       "      <td>(37.7914981137873, -122.405741994024)</td>\n",
       "      <td>Open311</td>\n",
       "      <td>http://mobile311.sfgov.org/media/san_francisco...</td>\n",
       "    </tr>\n",
       "  </tbody>\n",
       "</table>\n",
       "</div>"
      ],
      "text/plain": [
       "    CaseID                  Opened Closed                 Updated Status  \\\n",
       "0  6603129  12/06/2016 11:39:33 PM    NaN  12/06/2016 11:39:33 PM   Open   \n",
       "\n",
       "  Status Notes                   Responsible Agency                  Category  \\\n",
       "0         Open  US Postal Service Maintenance Queue  Graffiti Public Property   \n",
       "\n",
       "                                Request Type           Request Details  \\\n",
       "0  Not_Offensive Graffiti on Public Property  Mail_box - Not_Offensive   \n",
       "\n",
       "                                 Address  Supervisor District Neighborhood  \\\n",
       "0  Intersection of GRANT AVE and PINE ST                  3.0    Chinatown   \n",
       "\n",
       "                                   Point   Source  \\\n",
       "0  (37.7914981137873, -122.405741994024)  Open311   \n",
       "\n",
       "                                           Media URL  \n",
       "0  http://mobile311.sfgov.org/media/san_francisco...  "
      ]
     },
     "execution_count": 8,
     "metadata": {},
     "output_type": "execute_result"
    }
   ],
   "source": [
    "df1.head(1)"
   ]
  },
  {
   "cell_type": "code",
   "execution_count": 9,
   "metadata": {
    "collapsed": false
   },
   "outputs": [
    {
     "data": {
      "text/html": [
       "<div>\n",
       "<table border=\"1\" class=\"dataframe\">\n",
       "  <thead>\n",
       "    <tr style=\"text-align: right;\">\n",
       "      <th></th>\n",
       "      <th>CaseID</th>\n",
       "      <th>Opened</th>\n",
       "      <th>Closed</th>\n",
       "      <th>Updated</th>\n",
       "      <th>Status</th>\n",
       "      <th>Status Notes</th>\n",
       "      <th>Responsible Agency</th>\n",
       "      <th>Category</th>\n",
       "      <th>Request Type</th>\n",
       "      <th>Request Details</th>\n",
       "      <th>Address</th>\n",
       "      <th>Supervisor District</th>\n",
       "      <th>Neighborhood</th>\n",
       "      <th>Point</th>\n",
       "      <th>Source</th>\n",
       "      <th>Media URL</th>\n",
       "    </tr>\n",
       "  </thead>\n",
       "  <tbody>\n",
       "    <tr>\n",
       "      <th>0</th>\n",
       "      <td>5679653</td>\n",
       "      <td>03/18/2016 05:44:57 PM</td>\n",
       "      <td>03/21/2016 10:11:52 AM</td>\n",
       "      <td>03/21/2016 10:11:52 AM</td>\n",
       "      <td>Closed</td>\n",
       "      <td>Case Resolved - SES Graffiti Crew  - Paint - B...</td>\n",
       "      <td>DPW Ops Queue</td>\n",
       "      <td>Graffiti Public Property</td>\n",
       "      <td>Not_Offensive Graffiti on Public Property</td>\n",
       "      <td>Signal_box - Not_Offensive</td>\n",
       "      <td>Intersection of UNION ST and COLUMBUS AVE</td>\n",
       "      <td>3</td>\n",
       "      <td>North Beach</td>\n",
       "      <td>(37.8003153874987, -122.410206654458)</td>\n",
       "      <td>Twitter</td>\n",
       "      <td>NaN</td>\n",
       "    </tr>\n",
       "  </tbody>\n",
       "</table>\n",
       "</div>"
      ],
      "text/plain": [
       "    CaseID                  Opened                  Closed  \\\n",
       "0  5679653  03/18/2016 05:44:57 PM  03/21/2016 10:11:52 AM   \n",
<<<<<<< HEAD
       "\n",
       "                  Updated  Status  \\\n",
       "0  03/21/2016 10:11:52 AM  Closed   \n",
       "\n",
=======
       "\n",
       "                  Updated  Status  \\\n",
       "0  03/21/2016 10:11:52 AM  Closed   \n",
       "\n",
>>>>>>> a7945c400cb43eb71ed49e5265af5616006b2d40
       "                                        Status Notes Responsible Agency  \\\n",
       "0  Case Resolved - SES Graffiti Crew  - Paint - B...      DPW Ops Queue   \n",
       "\n",
       "                   Category                               Request Type  \\\n",
       "0  Graffiti Public Property  Not_Offensive Graffiti on Public Property   \n",
       "\n",
       "              Request Details                                    Address  \\\n",
       "0  Signal_box - Not_Offensive  Intersection of UNION ST and COLUMBUS AVE   \n",
<<<<<<< HEAD
       "\n",
       "   Supervisor District Neighborhood                                  Point  \\\n",
       "0                    3  North Beach  (37.8003153874987, -122.410206654458)   \n",
       "\n",
=======
       "\n",
       "   Supervisor District Neighborhood                                  Point  \\\n",
       "0                    3  North Beach  (37.8003153874987, -122.410206654458)   \n",
       "\n",
>>>>>>> a7945c400cb43eb71ed49e5265af5616006b2d40
       "    Source Media URL  \n",
       "0  Twitter       NaN  "
      ]
     },
     "execution_count": 9,
     "metadata": {},
     "output_type": "execute_result"
    }
   ],
   "source": [
    "df2.head(1)"
   ]
  },
  {
   "cell_type": "code",
   "execution_count": 10,
   "metadata": {
    "collapsed": false
   },
   "outputs": [
    {
     "data": {
      "text/plain": [
       "18650"
      ]
     },
     "execution_count": 10,
     "metadata": {},
     "output_type": "execute_result"
    }
   ],
   "source": [
    "len(df2)"
   ]
  },
  {
   "cell_type": "markdown",
   "metadata": {},
   "source": [
    "Pick reports within circle, dataframe named 'dflocation''"
   ]
  },
  {
   "cell_type": "code",
<<<<<<< HEAD
   "execution_count": 9,
=======
   "execution_count": 30,
>>>>>>> a7945c400cb43eb71ed49e5265af5616006b2d40
   "metadata": {
    "collapsed": false
   },
   "outputs": [
    {
<<<<<<< HEAD
     "data": {
      "text/plain": [
       "'https://data.sfgov.org/resource/rme2-xgvs.csv?$where=within_circle(point, 37.761877, -122.419378 , 50)'"
      ]
     },
     "execution_count": 9,
=======
     "name": "stdout",
     "output_type": "stream",
     "text": [
      "37.761877,-122.419378\n"
     ]
    },
    {
     "data": {
      "text/plain": [
       "'https://data.sfgov.org/resource/rme2-xgvs.csv?$where=within_circle(point,37.761877,-122.419378,50)'"
      ]
     },
     "execution_count": 30,
>>>>>>> a7945c400cb43eb71ed49e5265af5616006b2d40
     "metadata": {},
     "output_type": "execute_result"
    }
   ],
   "source": [
    "'''url = 'https://data.sfgov.org/resource/hca6-em76.csv'\n",
    "url = url + '?'\n",
    "#limit = '?$limit=50000'\n",
    "#url = url+limit\n",
    "#https://data.seattle.gov/resource/pu5n-trf4.json?$where=within_circle(incident_location, 47.59815, -122.334540, 500)\n",
    "'''\n",
    "latlon = '37.761877, -122.419378 ' \n",
    "latlon = latlon.replace(' ','').strip()\n",
    "print(latlon)\n",
    "circle = '?$where=within_circle(point,'+latlon+',50)'\n",
    "loc_url = url0 + circle\n",
    "\n",
    "loc_url"
   ]
  },
  {
   "cell_type": "code",
<<<<<<< HEAD
   "execution_count": 10,
=======
   "execution_count": 31,
>>>>>>> a7945c400cb43eb71ed49e5265af5616006b2d40
   "metadata": {
    "collapsed": false
   },
   "outputs": [
    {
     "ename": "HTTPError",
     "evalue": "HTTP Error 400: Bad request",
     "output_type": "error",
     "traceback": [
      "\u001b[0;31m---------------------------------------------------------------------------\u001b[0m",
      "\u001b[0;31mHTTPError\u001b[0m                                 Traceback (most recent call last)",
      "\u001b[0;32m<ipython-input-10-2ba35e352745>\u001b[0m in \u001b[0;36m<module>\u001b[0;34m()\u001b[0m\n\u001b[0;32m----> 1\u001b[0;31m \u001b[0mdflocation\u001b[0m\u001b[0;34m=\u001b[0m\u001b[0mpd\u001b[0m\u001b[0;34m.\u001b[0m\u001b[0mread_csv\u001b[0m\u001b[0;34m(\u001b[0m\u001b[0mloc_url\u001b[0m\u001b[0;34m)\u001b[0m\u001b[0;34m\u001b[0m\u001b[0m\n\u001b[0m",
      "\u001b[0;32m/opt/conda/lib/python3.5/site-packages/pandas/io/parsers.py\u001b[0m in \u001b[0;36mparser_f\u001b[0;34m(filepath_or_buffer, sep, delimiter, header, names, index_col, usecols, squeeze, prefix, mangle_dupe_cols, dtype, engine, converters, true_values, false_values, skipinitialspace, skiprows, skipfooter, nrows, na_values, keep_default_na, na_filter, verbose, skip_blank_lines, parse_dates, infer_datetime_format, keep_date_col, date_parser, dayfirst, iterator, chunksize, compression, thousands, decimal, lineterminator, quotechar, quoting, escapechar, comment, encoding, dialect, tupleize_cols, error_bad_lines, warn_bad_lines, skip_footer, doublequote, delim_whitespace, as_recarray, compact_ints, use_unsigned, low_memory, buffer_lines, memory_map, float_precision)\u001b[0m\n\u001b[1;32m    560\u001b[0m                     skip_blank_lines=skip_blank_lines)\n\u001b[1;32m    561\u001b[0m \u001b[0;34m\u001b[0m\u001b[0m\n\u001b[0;32m--> 562\u001b[0;31m         \u001b[0;32mreturn\u001b[0m \u001b[0m_read\u001b[0m\u001b[0;34m(\u001b[0m\u001b[0mfilepath_or_buffer\u001b[0m\u001b[0;34m,\u001b[0m \u001b[0mkwds\u001b[0m\u001b[0;34m)\u001b[0m\u001b[0;34m\u001b[0m\u001b[0m\n\u001b[0m\u001b[1;32m    563\u001b[0m \u001b[0;34m\u001b[0m\u001b[0m\n\u001b[1;32m    564\u001b[0m     \u001b[0mparser_f\u001b[0m\u001b[0;34m.\u001b[0m\u001b[0m__name__\u001b[0m \u001b[0;34m=\u001b[0m \u001b[0mname\u001b[0m\u001b[0;34m\u001b[0m\u001b[0m\n",
      "\u001b[0;32m/opt/conda/lib/python3.5/site-packages/pandas/io/parsers.py\u001b[0m in \u001b[0;36m_read\u001b[0;34m(filepath_or_buffer, kwds)\u001b[0m\n\u001b[1;32m    299\u001b[0m     filepath_or_buffer, _, compression = get_filepath_or_buffer(\n\u001b[1;32m    300\u001b[0m         \u001b[0mfilepath_or_buffer\u001b[0m\u001b[0;34m,\u001b[0m \u001b[0mencoding\u001b[0m\u001b[0;34m,\u001b[0m\u001b[0;34m\u001b[0m\u001b[0m\n\u001b[0;32m--> 301\u001b[0;31m         compression=kwds.get('compression', None))\n\u001b[0m\u001b[1;32m    302\u001b[0m     kwds['compression'] = (inferred_compression if compression == 'infer'\n\u001b[1;32m    303\u001b[0m                            else compression)\n",
      "\u001b[0;32m/opt/conda/lib/python3.5/site-packages/pandas/io/common.py\u001b[0m in \u001b[0;36mget_filepath_or_buffer\u001b[0;34m(filepath_or_buffer, encoding, compression)\u001b[0m\n\u001b[1;32m    306\u001b[0m \u001b[0;34m\u001b[0m\u001b[0m\n\u001b[1;32m    307\u001b[0m     \u001b[0;32mif\u001b[0m \u001b[0m_is_url\u001b[0m\u001b[0;34m(\u001b[0m\u001b[0mfilepath_or_buffer\u001b[0m\u001b[0;34m)\u001b[0m\u001b[0;34m:\u001b[0m\u001b[0;34m\u001b[0m\u001b[0m\n\u001b[0;32m--> 308\u001b[0;31m         \u001b[0mreq\u001b[0m \u001b[0;34m=\u001b[0m \u001b[0m_urlopen\u001b[0m\u001b[0;34m(\u001b[0m\u001b[0mstr\u001b[0m\u001b[0;34m(\u001b[0m\u001b[0mfilepath_or_buffer\u001b[0m\u001b[0;34m)\u001b[0m\u001b[0;34m)\u001b[0m\u001b[0;34m\u001b[0m\u001b[0m\n\u001b[0m\u001b[1;32m    309\u001b[0m         \u001b[0;32mif\u001b[0m \u001b[0mcompression\u001b[0m \u001b[0;34m==\u001b[0m \u001b[0;34m'infer'\u001b[0m\u001b[0;34m:\u001b[0m\u001b[0;34m\u001b[0m\u001b[0m\n\u001b[1;32m    310\u001b[0m             \u001b[0mcontent_encoding\u001b[0m \u001b[0;34m=\u001b[0m \u001b[0mreq\u001b[0m\u001b[0;34m.\u001b[0m\u001b[0mheaders\u001b[0m\u001b[0;34m.\u001b[0m\u001b[0mget\u001b[0m\u001b[0;34m(\u001b[0m\u001b[0;34m'Content-Encoding'\u001b[0m\u001b[0;34m,\u001b[0m \u001b[0;32mNone\u001b[0m\u001b[0;34m)\u001b[0m\u001b[0;34m\u001b[0m\u001b[0m\n",
      "\u001b[0;32m/opt/conda/lib/python3.5/urllib/request.py\u001b[0m in \u001b[0;36murlopen\u001b[0;34m(url, data, timeout, cafile, capath, cadefault, context)\u001b[0m\n\u001b[1;32m    161\u001b[0m     \u001b[0;32melse\u001b[0m\u001b[0;34m:\u001b[0m\u001b[0;34m\u001b[0m\u001b[0m\n\u001b[1;32m    162\u001b[0m         \u001b[0mopener\u001b[0m \u001b[0;34m=\u001b[0m \u001b[0m_opener\u001b[0m\u001b[0;34m\u001b[0m\u001b[0m\n\u001b[0;32m--> 163\u001b[0;31m     \u001b[0;32mreturn\u001b[0m \u001b[0mopener\u001b[0m\u001b[0;34m.\u001b[0m\u001b[0mopen\u001b[0m\u001b[0;34m(\u001b[0m\u001b[0murl\u001b[0m\u001b[0;34m,\u001b[0m \u001b[0mdata\u001b[0m\u001b[0;34m,\u001b[0m \u001b[0mtimeout\u001b[0m\u001b[0;34m)\u001b[0m\u001b[0;34m\u001b[0m\u001b[0m\n\u001b[0m\u001b[1;32m    164\u001b[0m \u001b[0;34m\u001b[0m\u001b[0m\n\u001b[1;32m    165\u001b[0m \u001b[0;32mdef\u001b[0m \u001b[0minstall_opener\u001b[0m\u001b[0;34m(\u001b[0m\u001b[0mopener\u001b[0m\u001b[0;34m)\u001b[0m\u001b[0;34m:\u001b[0m\u001b[0;34m\u001b[0m\u001b[0m\n",
      "\u001b[0;32m/opt/conda/lib/python3.5/urllib/request.py\u001b[0m in \u001b[0;36mopen\u001b[0;34m(self, fullurl, data, timeout)\u001b[0m\n\u001b[1;32m    470\u001b[0m         \u001b[0;32mfor\u001b[0m \u001b[0mprocessor\u001b[0m \u001b[0;32min\u001b[0m \u001b[0mself\u001b[0m\u001b[0;34m.\u001b[0m\u001b[0mprocess_response\u001b[0m\u001b[0;34m.\u001b[0m\u001b[0mget\u001b[0m\u001b[0;34m(\u001b[0m\u001b[0mprotocol\u001b[0m\u001b[0;34m,\u001b[0m \u001b[0;34m[\u001b[0m\u001b[0;34m]\u001b[0m\u001b[0;34m)\u001b[0m\u001b[0;34m:\u001b[0m\u001b[0;34m\u001b[0m\u001b[0m\n\u001b[1;32m    471\u001b[0m             \u001b[0mmeth\u001b[0m \u001b[0;34m=\u001b[0m \u001b[0mgetattr\u001b[0m\u001b[0;34m(\u001b[0m\u001b[0mprocessor\u001b[0m\u001b[0;34m,\u001b[0m \u001b[0mmeth_name\u001b[0m\u001b[0;34m)\u001b[0m\u001b[0;34m\u001b[0m\u001b[0m\n\u001b[0;32m--> 472\u001b[0;31m             \u001b[0mresponse\u001b[0m \u001b[0;34m=\u001b[0m \u001b[0mmeth\u001b[0m\u001b[0;34m(\u001b[0m\u001b[0mreq\u001b[0m\u001b[0;34m,\u001b[0m \u001b[0mresponse\u001b[0m\u001b[0;34m)\u001b[0m\u001b[0;34m\u001b[0m\u001b[0m\n\u001b[0m\u001b[1;32m    473\u001b[0m \u001b[0;34m\u001b[0m\u001b[0m\n\u001b[1;32m    474\u001b[0m         \u001b[0;32mreturn\u001b[0m \u001b[0mresponse\u001b[0m\u001b[0;34m\u001b[0m\u001b[0m\n",
      "\u001b[0;32m/opt/conda/lib/python3.5/urllib/request.py\u001b[0m in \u001b[0;36mhttp_response\u001b[0;34m(self, request, response)\u001b[0m\n\u001b[1;32m    580\u001b[0m         \u001b[0;32mif\u001b[0m \u001b[0;32mnot\u001b[0m \u001b[0;34m(\u001b[0m\u001b[0;36m200\u001b[0m \u001b[0;34m<=\u001b[0m \u001b[0mcode\u001b[0m \u001b[0;34m<\u001b[0m \u001b[0;36m300\u001b[0m\u001b[0;34m)\u001b[0m\u001b[0;34m:\u001b[0m\u001b[0;34m\u001b[0m\u001b[0m\n\u001b[1;32m    581\u001b[0m             response = self.parent.error(\n\u001b[0;32m--> 582\u001b[0;31m                 'http', request, response, code, msg, hdrs)\n\u001b[0m\u001b[1;32m    583\u001b[0m \u001b[0;34m\u001b[0m\u001b[0m\n\u001b[1;32m    584\u001b[0m         \u001b[0;32mreturn\u001b[0m \u001b[0mresponse\u001b[0m\u001b[0;34m\u001b[0m\u001b[0m\n",
      "\u001b[0;32m/opt/conda/lib/python3.5/urllib/request.py\u001b[0m in \u001b[0;36merror\u001b[0;34m(self, proto, *args)\u001b[0m\n\u001b[1;32m    508\u001b[0m         \u001b[0;32mif\u001b[0m \u001b[0mhttp_err\u001b[0m\u001b[0;34m:\u001b[0m\u001b[0;34m\u001b[0m\u001b[0m\n\u001b[1;32m    509\u001b[0m             \u001b[0margs\u001b[0m \u001b[0;34m=\u001b[0m \u001b[0;34m(\u001b[0m\u001b[0mdict\u001b[0m\u001b[0;34m,\u001b[0m \u001b[0;34m'default'\u001b[0m\u001b[0;34m,\u001b[0m \u001b[0;34m'http_error_default'\u001b[0m\u001b[0;34m)\u001b[0m \u001b[0;34m+\u001b[0m \u001b[0morig_args\u001b[0m\u001b[0;34m\u001b[0m\u001b[0m\n\u001b[0;32m--> 510\u001b[0;31m             \u001b[0;32mreturn\u001b[0m \u001b[0mself\u001b[0m\u001b[0;34m.\u001b[0m\u001b[0m_call_chain\u001b[0m\u001b[0;34m(\u001b[0m\u001b[0;34m*\u001b[0m\u001b[0margs\u001b[0m\u001b[0;34m)\u001b[0m\u001b[0;34m\u001b[0m\u001b[0m\n\u001b[0m\u001b[1;32m    511\u001b[0m \u001b[0;34m\u001b[0m\u001b[0m\n\u001b[1;32m    512\u001b[0m \u001b[0;31m# XXX probably also want an abstract factory that knows when it makes\u001b[0m\u001b[0;34m\u001b[0m\u001b[0;34m\u001b[0m\u001b[0m\n",
      "\u001b[0;32m/opt/conda/lib/python3.5/urllib/request.py\u001b[0m in \u001b[0;36m_call_chain\u001b[0;34m(self, chain, kind, meth_name, *args)\u001b[0m\n\u001b[1;32m    442\u001b[0m         \u001b[0;32mfor\u001b[0m \u001b[0mhandler\u001b[0m \u001b[0;32min\u001b[0m \u001b[0mhandlers\u001b[0m\u001b[0;34m:\u001b[0m\u001b[0;34m\u001b[0m\u001b[0m\n\u001b[1;32m    443\u001b[0m             \u001b[0mfunc\u001b[0m \u001b[0;34m=\u001b[0m \u001b[0mgetattr\u001b[0m\u001b[0;34m(\u001b[0m\u001b[0mhandler\u001b[0m\u001b[0;34m,\u001b[0m \u001b[0mmeth_name\u001b[0m\u001b[0;34m)\u001b[0m\u001b[0;34m\u001b[0m\u001b[0m\n\u001b[0;32m--> 444\u001b[0;31m             \u001b[0mresult\u001b[0m \u001b[0;34m=\u001b[0m \u001b[0mfunc\u001b[0m\u001b[0;34m(\u001b[0m\u001b[0;34m*\u001b[0m\u001b[0margs\u001b[0m\u001b[0;34m)\u001b[0m\u001b[0;34m\u001b[0m\u001b[0m\n\u001b[0m\u001b[1;32m    445\u001b[0m             \u001b[0;32mif\u001b[0m \u001b[0mresult\u001b[0m \u001b[0;32mis\u001b[0m \u001b[0;32mnot\u001b[0m \u001b[0;32mNone\u001b[0m\u001b[0;34m:\u001b[0m\u001b[0;34m\u001b[0m\u001b[0m\n\u001b[1;32m    446\u001b[0m                 \u001b[0;32mreturn\u001b[0m \u001b[0mresult\u001b[0m\u001b[0;34m\u001b[0m\u001b[0m\n",
      "\u001b[0;32m/opt/conda/lib/python3.5/urllib/request.py\u001b[0m in \u001b[0;36mhttp_error_default\u001b[0;34m(self, req, fp, code, msg, hdrs)\u001b[0m\n\u001b[1;32m    588\u001b[0m \u001b[0;32mclass\u001b[0m \u001b[0mHTTPDefaultErrorHandler\u001b[0m\u001b[0;34m(\u001b[0m\u001b[0mBaseHandler\u001b[0m\u001b[0;34m)\u001b[0m\u001b[0;34m:\u001b[0m\u001b[0;34m\u001b[0m\u001b[0m\n\u001b[1;32m    589\u001b[0m     \u001b[0;32mdef\u001b[0m \u001b[0mhttp_error_default\u001b[0m\u001b[0;34m(\u001b[0m\u001b[0mself\u001b[0m\u001b[0;34m,\u001b[0m \u001b[0mreq\u001b[0m\u001b[0;34m,\u001b[0m \u001b[0mfp\u001b[0m\u001b[0;34m,\u001b[0m \u001b[0mcode\u001b[0m\u001b[0;34m,\u001b[0m \u001b[0mmsg\u001b[0m\u001b[0;34m,\u001b[0m \u001b[0mhdrs\u001b[0m\u001b[0;34m)\u001b[0m\u001b[0;34m:\u001b[0m\u001b[0;34m\u001b[0m\u001b[0m\n\u001b[0;32m--> 590\u001b[0;31m         \u001b[0;32mraise\u001b[0m \u001b[0mHTTPError\u001b[0m\u001b[0;34m(\u001b[0m\u001b[0mreq\u001b[0m\u001b[0;34m.\u001b[0m\u001b[0mfull_url\u001b[0m\u001b[0;34m,\u001b[0m \u001b[0mcode\u001b[0m\u001b[0;34m,\u001b[0m \u001b[0mmsg\u001b[0m\u001b[0;34m,\u001b[0m \u001b[0mhdrs\u001b[0m\u001b[0;34m,\u001b[0m \u001b[0mfp\u001b[0m\u001b[0;34m)\u001b[0m\u001b[0;34m\u001b[0m\u001b[0m\n\u001b[0m\u001b[1;32m    591\u001b[0m \u001b[0;34m\u001b[0m\u001b[0m\n\u001b[1;32m    592\u001b[0m \u001b[0;32mclass\u001b[0m \u001b[0mHTTPRedirectHandler\u001b[0m\u001b[0;34m(\u001b[0m\u001b[0mBaseHandler\u001b[0m\u001b[0;34m)\u001b[0m\u001b[0;34m:\u001b[0m\u001b[0;34m\u001b[0m\u001b[0m\n",
      "\u001b[0;31mHTTPError\u001b[0m: HTTP Error 400: Bad request"
     ]
    }
   ],
   "source": [
    "dflocation=pd.read_csv(loc_url)"
   ]
  },
  {
   "cell_type": "code",
<<<<<<< HEAD
   "execution_count": 11,
=======
   "execution_count": 33,
>>>>>>> a7945c400cb43eb71ed49e5265af5616006b2d40
   "metadata": {
    "collapsed": false
   },
   "outputs": [
    {
<<<<<<< HEAD
     "ename": "NameError",
     "evalue": "name 'df_at_location' is not defined",
     "output_type": "error",
     "traceback": [
      "\u001b[0;31m---------------------------------------------------------------------------\u001b[0m",
      "\u001b[0;31mNameError\u001b[0m                                 Traceback (most recent call last)",
      "\u001b[0;32m<ipython-input-11-ccc1f235919b>\u001b[0m in \u001b[0;36m<module>\u001b[0;34m()\u001b[0m\n\u001b[0;32m----> 1\u001b[0;31m \u001b[0mdf_at_location\u001b[0m\u001b[0;34m.\u001b[0m\u001b[0mhead\u001b[0m\u001b[0;34m(\u001b[0m\u001b[0;36m3\u001b[0m\u001b[0;34m)\u001b[0m\u001b[0;34m\u001b[0m\u001b[0m\n\u001b[0m",
      "\u001b[0;31mNameError\u001b[0m: name 'df_at_location' is not defined"
     ]
=======
     "data": {
      "text/html": [
       "<div>\n",
       "<table border=\"1\" class=\"dataframe\">\n",
       "  <thead>\n",
       "    <tr style=\"text-align: right;\">\n",
       "      <th></th>\n",
       "      <th>CaseID</th>\n",
       "      <th>Opened</th>\n",
       "      <th>Closed</th>\n",
       "      <th>Updated</th>\n",
       "      <th>Status</th>\n",
       "      <th>Status Notes</th>\n",
       "      <th>Responsible Agency</th>\n",
       "      <th>Category</th>\n",
       "      <th>Request Type</th>\n",
       "      <th>Request Details</th>\n",
       "      <th>Address</th>\n",
       "      <th>Supervisor District</th>\n",
       "      <th>Neighborhood</th>\n",
       "      <th>Point</th>\n",
       "      <th>Source</th>\n",
       "      <th>Media URL</th>\n",
       "    </tr>\n",
       "  </thead>\n",
       "  <tbody>\n",
       "    <tr>\n",
       "      <th>0</th>\n",
       "      <td>6601571</td>\n",
       "      <td>12/06/2016 12:39:23 PM</td>\n",
       "      <td>NaN</td>\n",
       "      <td>12/07/2016 01:11:56 AM</td>\n",
       "      <td>Open</td>\n",
       "      <td>closed</td>\n",
       "      <td>DPW BSM Queue</td>\n",
       "      <td>Graffiti Public Property</td>\n",
       "      <td>Not_Offensive Graffiti on Public Property</td>\n",
       "      <td>News_rack - Not_Offensive</td>\n",
       "      <td>Intersection of 18TH ST and MISSION ST</td>\n",
       "      <td>9</td>\n",
       "      <td>Mission</td>\n",
       "      <td>(37.7618358043403, -122.419359315196)</td>\n",
       "      <td>Open311</td>\n",
       "      <td>http://mobile311.sfgov.org/media/san_francisco...</td>\n",
       "    </tr>\n",
       "    <tr>\n",
       "      <th>1</th>\n",
       "      <td>6600132</td>\n",
       "      <td>12/06/2016 08:42:41 AM</td>\n",
       "      <td>NaN</td>\n",
       "      <td>12/06/2016 08:42:41 AM</td>\n",
       "      <td>Open</td>\n",
       "      <td>Open</td>\n",
       "      <td>Clear Channel - Transit Queue</td>\n",
       "      <td>Graffiti Public Property</td>\n",
       "      <td>Not_Offensive Graffiti on Public Property</td>\n",
       "      <td>Transit_Shelter_Platform - Not_Offensive</td>\n",
       "      <td>Intersection of 18TH ST and MISSION ST</td>\n",
       "      <td>9</td>\n",
       "      <td>Mission</td>\n",
       "      <td>(37.7618358043403, -122.419359315196)</td>\n",
       "      <td>Open311</td>\n",
       "      <td>http://mobile311.sfgov.org/media/san_francisco...</td>\n",
       "    </tr>\n",
       "    <tr>\n",
       "      <th>2</th>\n",
       "      <td>6600028</td>\n",
       "      <td>12/06/2016 08:25:50 AM</td>\n",
       "      <td>NaN</td>\n",
       "      <td>12/06/2016 04:13:53 PM</td>\n",
       "      <td>Open</td>\n",
       "      <td>accepted</td>\n",
       "      <td>DPW BSM Queue</td>\n",
       "      <td>Graffiti Private Property</td>\n",
       "      <td>Not_Offensive Graffiti on Private Property</td>\n",
       "      <td>Building_commercial - Not_Offensive</td>\n",
       "      <td>2172 MISSION ST, SAN FRANCISCO, CA, 94110</td>\n",
       "      <td>9</td>\n",
       "      <td>Mission</td>\n",
       "      <td>(37.762253612186, -122.419559792544)</td>\n",
       "      <td>Open311</td>\n",
       "      <td>http://mobile311.sfgov.org/media/san_francisco...</td>\n",
       "    </tr>\n",
       "  </tbody>\n",
       "</table>\n",
       "</div>"
      ],
      "text/plain": [
       "    CaseID                  Opened Closed                 Updated Status  \\\n",
       "0  6601571  12/06/2016 12:39:23 PM    NaN  12/07/2016 01:11:56 AM   Open   \n",
       "1  6600132  12/06/2016 08:42:41 AM    NaN  12/06/2016 08:42:41 AM   Open   \n",
       "2  6600028  12/06/2016 08:25:50 AM    NaN  12/06/2016 04:13:53 PM   Open   \n",
       "\n",
       "  Status Notes             Responsible Agency                   Category  \\\n",
       "0       closed                  DPW BSM Queue   Graffiti Public Property   \n",
       "1         Open  Clear Channel - Transit Queue   Graffiti Public Property   \n",
       "2     accepted                  DPW BSM Queue  Graffiti Private Property   \n",
       "\n",
       "                                 Request Type  \\\n",
       "0   Not_Offensive Graffiti on Public Property   \n",
       "1   Not_Offensive Graffiti on Public Property   \n",
       "2  Not_Offensive Graffiti on Private Property   \n",
       "\n",
       "                            Request Details  \\\n",
       "0                 News_rack - Not_Offensive   \n",
       "1  Transit_Shelter_Platform - Not_Offensive   \n",
       "2       Building_commercial - Not_Offensive   \n",
       "\n",
       "                                     Address  Supervisor District  \\\n",
       "0     Intersection of 18TH ST and MISSION ST                    9   \n",
       "1     Intersection of 18TH ST and MISSION ST                    9   \n",
       "2  2172 MISSION ST, SAN FRANCISCO, CA, 94110                    9   \n",
       "\n",
       "  Neighborhood                                  Point   Source  \\\n",
       "0      Mission  (37.7618358043403, -122.419359315196)  Open311   \n",
       "1      Mission  (37.7618358043403, -122.419359315196)  Open311   \n",
       "2      Mission   (37.762253612186, -122.419559792544)  Open311   \n",
       "\n",
       "                                           Media URL  \n",
       "0  http://mobile311.sfgov.org/media/san_francisco...  \n",
       "1  http://mobile311.sfgov.org/media/san_francisco...  \n",
       "2  http://mobile311.sfgov.org/media/san_francisco...  "
      ]
     },
     "execution_count": 33,
     "metadata": {},
     "output_type": "execute_result"
>>>>>>> a7945c400cb43eb71ed49e5265af5616006b2d40
    }
   ],
   "source": [
    "dflocation.head(3)"
   ]
  },
  {
   "cell_type": "markdown",
   "metadata": {
    "collapsed": true
   },
   "source": [
    "# Vertically stack the two dataFrames"
   ]
  },
  {
   "cell_type": "code",
   "execution_count": 34,
   "metadata": {
    "collapsed": false
   },
   "outputs": [],
   "source": [
    "frames = [df1,df2]"
   ]
  },
  {
   "cell_type": "code",
   "execution_count": 35,
   "metadata": {
    "collapsed": false
   },
   "outputs": [],
   "source": [
    "df = pd.concat(frames)"
   ]
  },
  {
   "cell_type": "code",
   "execution_count": 36,
   "metadata": {
    "collapsed": false
   },
   "outputs": [
    {
     "data": {
      "text/plain": [
       "(68650, 16)"
      ]
     },
     "execution_count": 36,
     "metadata": {},
     "output_type": "execute_result"
    }
   ],
   "source": [
    "df.shape\n"
   ]
  },
  {
   "cell_type": "markdown",
   "metadata": {},
   "source": [
    "# Convert the time series into pandas time version"
   ]
  },
  {
   "cell_type": "code",
   "execution_count": 37,
   "metadata": {
    "collapsed": false
   },
   "outputs": [
    {
     "data": {
      "text/plain": [
       "Index(['CaseID', 'Opened', 'Closed', 'Updated', 'Status', 'Status Notes',\n",
       "       'Responsible Agency', 'Category', 'Request Type', 'Request Details',\n",
       "       'Address', 'Supervisor District', 'Neighborhood', 'Point', 'Source',\n",
       "       'Media URL'],\n",
       "      dtype='object')"
      ]
     },
     "execution_count": 37,
     "metadata": {},
     "output_type": "execute_result"
    }
   ],
   "source": [
    "df.columns"
   ]
  },
  {
   "cell_type": "code",
   "execution_count": 38,
   "metadata": {
    "collapsed": true
   },
   "outputs": [],
   "source": [
    "timeCols = ['Opened', 'Closed', 'Updated']"
   ]
  },
  {
   "cell_type": "code",
   "execution_count": 39,
   "metadata": {
    "collapsed": false
   },
   "outputs": [
    {
     "data": {
      "text/plain": [
       "Open311              52240\n",
       "Integrated Agency     7811\n",
       "Web Self Service      4267\n",
       "Voice In              4142\n",
       "Twitter                190\n",
       "Name: Source, dtype: int64"
      ]
     },
     "execution_count": 39,
     "metadata": {},
     "output_type": "execute_result"
    }
   ],
   "source": [
    "df.Source.value_counts()\n"
   ]
  },
  {
   "cell_type": "code",
   "execution_count": 40,
   "metadata": {
    "collapsed": false
   },
   "outputs": [
    {
     "data": {
      "text/plain": [
       " 9.0     13045\n",
       " 3.0     11439\n",
       " 5.0     11222\n",
       " 6.0      9228\n",
       " 8.0      8184\n",
       " 1.0      4522\n",
       " 10.0     3759\n",
       " 2.0      2246\n",
       " 11.0     1701\n",
       " 4.0      1310\n",
       " 7.0      1218\n",
       " 0.0       743\n",
       "-1.0         6\n",
       "Name: Supervisor District, dtype: int64"
      ]
     },
     "execution_count": 40,
     "metadata": {},
     "output_type": "execute_result"
    }
   ],
   "source": [
    "df['Supervisor District'].value_counts()"
   ]
  },
  {
   "cell_type": "code",
   "execution_count": 41,
   "metadata": {
    "collapsed": true
   },
   "outputs": [],
   "source": [
    "# df['Supervisor District'].value_counts()  // order this"
   ]
  },
  {
   "cell_type": "code",
   "execution_count": 42,
   "metadata": {
    "collapsed": false
   },
   "outputs": [
    {
     "data": {
      "text/plain": [
       "Case Resolved -                                                               10393\n",
       "accepted                                                                       7801\n",
       "Scheduled -                                                                    3473\n",
       "Open                                                                           2666\n",
       "Case Transferred - Per process - cases are closed 5 days after assignment.     1992\n",
       "Case Resolved - meter shop has closed this request                             1818\n",
       "Case is a Duplicate -                                                          1332\n",
       "Case Resolved - Graffiti removed                                               1212\n",
       "Case Completed - resolved:                                                     1111\n",
       "Case Completed - Case Resolved:                                                 863\n",
       "Name: Status Notes, dtype: int64"
      ]
     },
     "execution_count": 42,
     "metadata": {},
     "output_type": "execute_result"
    }
   ],
   "source": [
    "df['Status Notes'].value_counts().head(10)"
   ]
  },
  {
   "cell_type": "code",
   "execution_count": 43,
   "metadata": {
    "collapsed": false
   },
   "outputs": [
    {
     "data": {
      "text/plain": [
       "Closed    56658\n",
       "Open      11992\n",
       "Name: Status, dtype: int64"
      ]
     },
     "execution_count": 43,
     "metadata": {},
     "output_type": "execute_result"
    }
   ],
   "source": [
    "df['Status'].value_counts().head()"
   ]
  },
  {
   "cell_type": "code",
   "execution_count": 44,
   "metadata": {
    "collapsed": false
   },
   "outputs": [
    {
     "data": {
      "text/plain": [
       "DPW Ops Queue                          45504\n",
       "US Postal Service Maintenance Queue     4919\n",
       "Clear Channel - Transit Queue           3695\n",
       "DPT Meter_Bike Queue                    2999\n",
       "Name: Responsible Agency, dtype: int64"
      ]
     },
     "execution_count": 44,
     "metadata": {},
     "output_type": "execute_result"
    }
   ],
   "source": [
    "df['Responsible Agency'].value_counts().head(4)"
   ]
  },
  {
   "cell_type": "code",
   "execution_count": 45,
   "metadata": {
    "collapsed": false
   },
   "outputs": [
    {
     "data": {
      "text/plain": [
       "Graffiti Public Property     42148\n",
       "Graffiti Private Property    26502\n",
       "Name: Category, dtype: int64"
      ]
     },
     "execution_count": 45,
     "metadata": {},
     "output_type": "execute_result"
    }
   ],
   "source": [
    "df.Category.value_counts().head()"
   ]
  },
  {
   "cell_type": "code",
   "execution_count": 46,
   "metadata": {
    "collapsed": false
   },
   "outputs": [
    {
     "data": {
      "text/plain": [
       "Not_Offensive Graffiti on Public Property                 24589\n",
       "Not_Offensive Graffiti on Private Property                21210\n",
       "Offensive Graffiti on Public Property                     17134\n",
       "Offensive Graffiti on Private Property                     5209\n",
       "offensive Graffiti on Public Property                       425\n",
       "Post_Abatement_Inspection Graffiti on Private Property       83\n",
       "Name: Request Type, dtype: int64"
      ]
     },
     "execution_count": 46,
     "metadata": {},
     "output_type": "execute_result"
    }
   ],
   "source": [
    "df['Request Type'].value_counts().head(10)"
   ]
  },
  {
   "cell_type": "code",
   "execution_count": 47,
   "metadata": {
    "collapsed": false
   },
   "outputs": [
    {
     "data": {
      "text/plain": [
       "Building_other - Not_Offensive                      8441\n",
       "Building_commercial - Not_Offensive                 7108\n",
       "Other_enter_additional_details_below - Offensive    6601\n",
       "Pole - Not_Offensive                                5234\n",
       "Sidewalk_in_front_of_property - Not_Offensive       3541\n",
       "Signal_box - Not_Offensive                          3405\n",
       "Mail_box - Not_Offensive                            3122\n",
       "Transit_Shelter_Platform - Not_Offensive            2929\n",
       "Pole - Offensive                                    2687\n",
       "Parking_meter - Not_Offensive                       2460\n",
       "Building_commercial - Offensive                     2338\n",
       "Building_residential - Not_Offensive                2120\n",
       "Sidewalk_in_front_of_property - Offensive           1552\n",
       "Mail_box - Offensive                                1537\n",
       "Signal_box - Offensive                              1424\n",
       "Fire_hydrant - Not_Offensive                        1377\n",
       "News_rack - Not_Offensive                           1268\n",
       "Sidewalk_structure - Not_Offensive                  1181\n",
       "City_receptacle - Not_Offensive                     1132\n",
       "Building_residential - Offensive                    1016\n",
       "Name: Request Details, dtype: int64"
      ]
     },
     "execution_count": 47,
     "metadata": {},
     "output_type": "execute_result"
    }
   ],
   "source": [
    "df['Request Details'].value_counts().head(20)"
   ]
  },
  {
   "cell_type": "code",
   "execution_count": 48,
   "metadata": {
    "collapsed": false
   },
   "outputs": [
    {
     "data": {
      "text/plain": [
       "Not associated with a specific address         751\n",
       "Intersection of 18TH ST and MISSION ST         390\n",
       "Intersection of 19TH ST and MISSION ST         298\n",
       "1435 FOLSOM ST, SAN FRANCISCO, CA, 94103       260\n",
       "Intersection of 20TH ST and MISSION ST         245\n",
       "2178 MISSION ST, SAN FRANCISCO, CA, 94110      229\n",
       "Intersection of 19TH ST and VALENCIA ST        192\n",
       "Intersection of 17TH ST and MISSION ST         186\n",
       "Intersection of 19TH ST and LEXINGTON ST       148\n",
       "Intersection of 20TH ST and SAN CARLOS ST      146\n",
       "Intersection of CALIFORNIA ST and GRANT AVE    135\n",
       "Intersection of 19TH ST and SAN CARLOS ST      131\n",
       "Intersection of CLAY ST and POWELL ST          125\n",
       "Intersection of 18TH ST and VALENCIA ST        124\n",
       "2266 MISSION ST, SAN FRANCISCO, CA, 94110      120\n",
       "921 HOWARD ST, SAN FRANCISCO, CA, 94103        119\n",
       "4134 GEARY BLVD, SAN FRANCISCO, CA, 94118      119\n",
       "744 WASHINGTON ST, SAN FRANCISCO, CA, 94108    118\n",
       "416 DOLORES ST, SAN FRANCISCO, CA, 94110       117\n",
       "149 10TH ST, SAN FRANCISCO, CA, 94103          116\n",
       "Name: Address, dtype: int64"
      ]
     },
     "execution_count": 48,
     "metadata": {},
     "output_type": "execute_result"
    }
   ],
   "source": [
    "df['Address'].value_counts().head(20)"
   ]
  },
  {
   "cell_type": "code",
   "execution_count": 49,
   "metadata": {
    "collapsed": false
   },
   "outputs": [
    {
     "data": {
      "text/plain": [
       "Open311              52240\n",
       "Integrated Agency     7811\n",
       "Web Self Service      4267\n",
       "Voice In              4142\n",
       "Twitter                190\n",
       "Name: Source, dtype: int64"
      ]
     },
     "execution_count": 49,
     "metadata": {},
     "output_type": "execute_result"
    }
   ],
   "source": [
    "df['Source'].value_counts().head(6)"
   ]
  },
  {
   "cell_type": "code",
   "execution_count": 50,
   "metadata": {
    "collapsed": false
   },
   "outputs": [
    {
     "data": {
      "text/plain": [
       "count                                                 49050\n",
       "unique                                                48974\n",
       "top       http://mobile311.sfgov.org/media/san_francisco...\n",
       "freq                                                     14\n",
       "Name: Media URL, dtype: object"
      ]
     },
     "execution_count": 50,
     "metadata": {},
     "output_type": "execute_result"
    }
   ],
   "source": [
    "df['Media URL'].describe()"
   ]
  },
  {
   "cell_type": "code",
   "execution_count": 51,
   "metadata": {
    "collapsed": false
   },
   "outputs": [
    {
     "data": {
      "text/plain": [
       "count                                     67895\n",
       "unique                                    18411\n",
       "top       (37.7618358043403, -122.419359315196)\n",
       "freq                                        404\n",
       "Name: Point, dtype: object"
      ]
     },
     "execution_count": 51,
     "metadata": {},
     "output_type": "execute_result"
    }
   ],
   "source": [
    "df['Point'].describe()"
   ]
  },
  {
   "cell_type": "code",
   "execution_count": null,
   "metadata": {
    "collapsed": true
   },
   "outputs": [],
   "source": [
    "\n",
    "\n",
    "\n"
   ]
  },
  {
   "cell_type": "code",
   "execution_count": null,
   "metadata": {
    "collapsed": true
   },
   "outputs": [],
   "source": []
  },
  {
   "cell_type": "code",
   "execution_count": null,
   "metadata": {
    "collapsed": true
   },
   "outputs": [],
   "source": []
  },
  {
   "cell_type": "code",
   "execution_count": null,
   "metadata": {
    "collapsed": true
   },
   "outputs": [],
   "source": []
  },
  {
   "cell_type": "code",
   "execution_count": null,
   "metadata": {
    "collapsed": true
   },
   "outputs": [],
   "source": []
  },
  {
   "cell_type": "code",
   "execution_count": null,
   "metadata": {
    "collapsed": true
   },
   "outputs": [],
   "source": []
  },
  {
   "cell_type": "code",
   "execution_count": null,
   "metadata": {
    "collapsed": true
   },
   "outputs": [],
   "source": []
  },
  {
   "cell_type": "code",
   "execution_count": null,
   "metadata": {
    "collapsed": true
   },
   "outputs": [],
   "source": []
  },
  {
   "cell_type": "code",
   "execution_count": null,
   "metadata": {
    "collapsed": true
   },
   "outputs": [],
   "source": []
  },
  {
   "cell_type": "code",
   "execution_count": null,
   "metadata": {
    "collapsed": true
   },
   "outputs": [],
   "source": []
  },
  {
   "cell_type": "code",
   "execution_count": 46,
   "metadata": {
    "collapsed": false
   },
   "outputs": [],
   "source": [
    "import pandas as pd\n",
    "\n",
    "urlX = 'https://data.sfgov.org/resource/rme2-xgvs.json'\n",
    "\n",
    "\n",
    "# load JSON as DataFrame\n",
    "json_data=pd.read_json(urlX).T\n",
    "\n",
    "# to CSV\n",
    "json_data.to_csv(\"geocoded.csv\")"
   ]
  },
  {
   "cell_type": "code",
   "execution_count": null,
   "metadata": {
    "collapsed": true
   },
   "outputs": [],
   "source": []
  }
 ],
 "metadata": {
  "kernelspec": {
   "display_name": "Python 3",
   "language": "python",
   "name": "python3"
  },
  "language_info": {
   "codemirror_mode": {
    "name": "ipython",
    "version": 3
   },
   "file_extension": ".py",
   "mimetype": "text/x-python",
   "name": "python",
   "nbconvert_exporter": "python",
   "pygments_lexer": "ipython3",
   "version": "3.5.2"
  }
 },
 "nbformat": 4,
 "nbformat_minor": 1
}
