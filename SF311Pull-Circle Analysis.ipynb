{
 "cells": [
  {
   "cell_type": "code",
   "execution_count": 10,
   "metadata": {
    "collapsed": true
   },
   "outputs": [],
   "source": [
    "import numpy as np\n",
    "import pandas as pd\n"
   ]
  },
  {
   "cell_type": "code",
   "execution_count": 30,
   "metadata": {
    "collapsed": true
   },
   "outputs": [],
   "source": [
    "latlon = '37.73789,-122.50372'"
   ]
  },
  {
   "cell_type": "code",
   "execution_count": 31,
   "metadata": {
    "collapsed": true
   },
   "outputs": [],
   "source": [
    "#  Graffiti since 2016\n",
    "#  https://data.sfgov.org/resource/rme2-xgvs.json"
   ]
  },
  {
   "cell_type": "code",
   "execution_count": 32,
   "metadata": {
    "collapsed": false
   },
   "outputs": [
    {
     "data": {
      "text/plain": [
       "'https://data.sfgov.org/resource/rme2-xgvs.csv'"
      ]
     },
     "execution_count": 32,
     "metadata": {},
     "output_type": "execute_result"
    }
   ],
   "source": [
    "#url = 'https://data.sfgov.org/resource/hca6-em76.csv'\n",
    "url = 'https://data.sfgov.org/resource/rme2-xgvs.csv'\n",
    "#limit = '?$limit=50000'\n",
    "#url = url+limit\n",
    "#url\n",
    "url"
   ]
  },
  {
   "cell_type": "code",
   "execution_count": 33,
   "metadata": {
    "collapsed": false
   },
   "outputs": [
    {
     "data": {
      "text/html": [
       "<div>\n",
       "<table border=\"1\" class=\"dataframe\">\n",
       "  <thead>\n",
       "    <tr style=\"text-align: right;\">\n",
       "      <th></th>\n",
       "      <th>CaseID</th>\n",
       "      <th>Opened</th>\n",
       "      <th>Closed</th>\n",
       "      <th>Updated</th>\n",
       "      <th>Status</th>\n",
       "      <th>Status Notes</th>\n",
       "      <th>Responsible Agency</th>\n",
       "      <th>Category</th>\n",
       "      <th>Request Type</th>\n",
       "      <th>Request Details</th>\n",
       "      <th>Address</th>\n",
       "      <th>Supervisor District</th>\n",
       "      <th>Neighborhood</th>\n",
       "      <th>Point</th>\n",
       "      <th>Source</th>\n",
       "      <th>Media URL</th>\n",
       "    </tr>\n",
       "  </thead>\n",
       "  <tbody>\n",
       "    <tr>\n",
       "      <th>0</th>\n",
       "      <td>6599440</td>\n",
       "      <td>12/05/2016 11:35:46 PM</td>\n",
       "      <td>NaN</td>\n",
       "      <td>12/05/2016 11:37:49 PM</td>\n",
       "      <td>Open</td>\n",
       "      <td>Open</td>\n",
       "      <td>Clear Channel - Transit Queue</td>\n",
       "      <td>Graffiti Public Property</td>\n",
       "      <td>Not_Offensive Graffiti on Public Property</td>\n",
       "      <td>Transit_Shelter_Platform - Not_Offensive</td>\n",
       "      <td>Intersection of 25TH AVE and CALIFORNIA ST</td>\n",
       "      <td>1.0</td>\n",
       "      <td>Outer Richmond</td>\n",
       "      <td>(37.7838821828959, -122.485010935157)</td>\n",
       "      <td>Voice In</td>\n",
       "      <td>NaN</td>\n",
       "    </tr>\n",
       "    <tr>\n",
       "      <th>1</th>\n",
       "      <td>6599379</td>\n",
       "      <td>12/05/2016 10:32:43 PM</td>\n",
       "      <td>NaN</td>\n",
       "      <td>12/05/2016 10:32:43 PM</td>\n",
       "      <td>Open</td>\n",
       "      <td>Open</td>\n",
       "      <td>US Postal Service Maintenance Queue</td>\n",
       "      <td>Graffiti Public Property</td>\n",
       "      <td>Not_Offensive Graffiti on Public Property</td>\n",
       "      <td>Mail_box - Not_Offensive</td>\n",
       "      <td>Intersection of 10TH ST and STEVENSON ST</td>\n",
       "      <td>6.0</td>\n",
       "      <td>South of Market</td>\n",
       "      <td>(37.7760757586829, -122.416915813751)</td>\n",
       "      <td>Open311</td>\n",
       "      <td>NaN</td>\n",
       "    </tr>\n",
       "  </tbody>\n",
       "</table>\n",
       "</div>"
      ],
      "text/plain": [
       "    CaseID                  Opened Closed                 Updated Status  \\\n",
       "0  6599440  12/05/2016 11:35:46 PM    NaN  12/05/2016 11:37:49 PM   Open   \n",
       "1  6599379  12/05/2016 10:32:43 PM    NaN  12/05/2016 10:32:43 PM   Open   \n",
       "\n",
       "  Status Notes                   Responsible Agency                  Category  \\\n",
       "0         Open        Clear Channel - Transit Queue  Graffiti Public Property   \n",
       "1         Open  US Postal Service Maintenance Queue  Graffiti Public Property   \n",
       "\n",
       "                                Request Type  \\\n",
       "0  Not_Offensive Graffiti on Public Property   \n",
       "1  Not_Offensive Graffiti on Public Property   \n",
       "\n",
       "                            Request Details  \\\n",
       "0  Transit_Shelter_Platform - Not_Offensive   \n",
       "1                  Mail_box - Not_Offensive   \n",
       "\n",
       "                                      Address  Supervisor District  \\\n",
       "0  Intersection of 25TH AVE and CALIFORNIA ST                  1.0   \n",
       "1    Intersection of 10TH ST and STEVENSON ST                  6.0   \n",
       "\n",
       "      Neighborhood                                  Point    Source Media URL  \n",
       "0   Outer Richmond  (37.7838821828959, -122.485010935157)  Voice In       NaN  \n",
       "1  South of Market  (37.7760757586829, -122.416915813751)   Open311       NaN  "
      ]
     },
     "execution_count": 33,
     "metadata": {},
     "output_type": "execute_result"
    }
   ],
   "source": [
    "df=pd.read_csv(url)\n",
    "df.head(2)"
   ]
  },
  {
   "cell_type": "code",
   "execution_count": 34,
   "metadata": {
    "collapsed": false
   },
   "outputs": [
    {
     "name": "stdout",
     "output_type": "stream",
     "text": [
      "1000\n"
     ]
    },
    {
     "data": {
      "text/plain": [
       "(1000, 16)"
      ]
     },
     "execution_count": 34,
     "metadata": {},
     "output_type": "execute_result"
    }
   ],
   "source": [
    "print(len(df))\n",
    "df.shape"
   ]
  },
  {
   "cell_type": "code",
   "execution_count": 35,
   "metadata": {
    "collapsed": true
   },
   "outputs": [],
   "source": [
    "# Modify SoQL url for within circle inquiry"
   ]
  },
  {
   "cell_type": "code",
   "execution_count": 36,
   "metadata": {
    "collapsed": false
   },
   "outputs": [
    {
     "data": {
      "text/plain": [
       "'https://data.sfgov.org/resource/rme2-xgvs.csv?$where=within_circle(point,37.73789,-122.50372,50)'"
      ]
     },
     "execution_count": 36,
     "metadata": {},
     "output_type": "execute_result"
    }
   ],
   "source": [
    "\n",
    "url = url + '?'\n",
    "#limit = '?$limit=50000'\n",
    "#url = url+limit\n",
    "#https://data.seattle.gov/resource/pu5n-trf4.json?$where=within_circle(incident_location, 47.59815, -122.334540, 500)\n",
    "#latlon = '37.761877, -122.419378 ' \n",
    "circle = '$where=within_circle(point,'+latlon+ ',50)'\n",
    "url = url + circle\n",
    "\n",
    "url"
   ]
  },
  {
   "cell_type": "code",
   "execution_count": 46,
   "metadata": {
    "collapsed": false
   },
   "outputs": [],
   "source": [
    "df = pd.read_csv(url,sep=',')"
   ]
  },
  {
   "cell_type": "code",
   "execution_count": 47,
   "metadata": {
    "collapsed": false
   },
   "outputs": [
    {
     "data": {
      "text/html": [
       "<div>\n",
       "<table border=\"1\" class=\"dataframe\">\n",
       "  <thead>\n",
       "    <tr style=\"text-align: right;\">\n",
       "      <th></th>\n",
       "      <th>CaseID</th>\n",
       "      <th>Opened</th>\n",
       "      <th>Closed</th>\n",
       "      <th>Updated</th>\n",
       "      <th>Status</th>\n",
       "      <th>Status Notes</th>\n",
       "      <th>Responsible Agency</th>\n",
       "      <th>Category</th>\n",
       "      <th>Request Type</th>\n",
       "      <th>Request Details</th>\n",
       "      <th>Address</th>\n",
       "      <th>Supervisor District</th>\n",
       "      <th>Neighborhood</th>\n",
       "      <th>Point</th>\n",
       "      <th>Source</th>\n",
       "      <th>Media URL</th>\n",
       "    </tr>\n",
       "  </thead>\n",
       "  <tbody>\n",
       "    <tr>\n",
       "      <th>0</th>\n",
       "      <td>6573455</td>\n",
       "      <td>11/28/2016 04:03:09 PM</td>\n",
       "      <td>12/05/2016 10:30:03 PM</td>\n",
       "      <td>12/05/2016 10:30:03 PM</td>\n",
       "      <td>Closed</td>\n",
       "      <td>Case Transferred - Per process - cases are clo...</td>\n",
       "      <td>311 Service Request Queue - Hold</td>\n",
       "      <td>Graffiti Public Property</td>\n",
       "      <td>Offensive Graffiti on Public Property</td>\n",
       "      <td>Other_enter_additional_details_below - Offensive</td>\n",
       "      <td>3421 VICENTE ST, SAN FRANCISCO, CA, 94116</td>\n",
       "      <td>4</td>\n",
       "      <td>NaN</td>\n",
       "      <td>(37.737831051, -122.503720566)</td>\n",
       "      <td>Open311</td>\n",
       "      <td>http://mobile311.sfgov.org/media/san_francisco...</td>\n",
       "    </tr>\n",
       "    <tr>\n",
       "      <th>1</th>\n",
       "      <td>6512846</td>\n",
       "      <td>11/09/2016 08:54:38 AM</td>\n",
       "      <td>11/09/2016 09:30:35 AM</td>\n",
       "      <td>11/09/2016 09:30:35 AM</td>\n",
       "      <td>Closed</td>\n",
       "      <td>Case Transferred - Reported online at graffiti...</td>\n",
       "      <td>311 Supervisor Queue</td>\n",
       "      <td>Graffiti Public Property</td>\n",
       "      <td>Offensive Graffiti on Public Property</td>\n",
       "      <td>Other_enter_additional_details_below - Offensive</td>\n",
       "      <td>3421 VICENTE ST, SAN FRANCISCO, CA, 94116</td>\n",
       "      <td>4</td>\n",
       "      <td>NaN</td>\n",
       "      <td>(37.737831051, -122.503720566)</td>\n",
       "      <td>Open311</td>\n",
       "      <td>http://mobile311.sfgov.org/media/san_francisco...</td>\n",
       "    </tr>\n",
       "    <tr>\n",
       "      <th>2</th>\n",
       "      <td>6434681</td>\n",
       "      <td>10/18/2016 02:51:06 PM</td>\n",
       "      <td>NaN</td>\n",
       "      <td>10/18/2016 02:51:06 PM</td>\n",
       "      <td>Open</td>\n",
       "      <td>Open</td>\n",
       "      <td>US Postal Service Maintenance Queue</td>\n",
       "      <td>Graffiti Public Property</td>\n",
       "      <td>Not_Offensive Graffiti on Public Property</td>\n",
       "      <td>Mail_box - Not_Offensive</td>\n",
       "      <td>3402 VICENTE ST, SAN FRANCISCO, CA, 94116</td>\n",
       "      <td>4</td>\n",
       "      <td>Outer Sunset</td>\n",
       "      <td>(37.738150314403, -122.503344824895)</td>\n",
       "      <td>Open311</td>\n",
       "      <td>http://mobile311.sfgov.org/media/san_francisco...</td>\n",
       "    </tr>\n",
       "    <tr>\n",
       "      <th>3</th>\n",
       "      <td>6429754</td>\n",
       "      <td>10/17/2016 01:39:39 PM</td>\n",
       "      <td>10/17/2016 02:57:15 PM</td>\n",
       "      <td>10/17/2016 02:57:15 PM</td>\n",
       "      <td>Closed</td>\n",
       "      <td>Case Transferred - Transferred to ATT.</td>\n",
       "      <td>311 Supervisor Queue</td>\n",
       "      <td>Graffiti Public Property</td>\n",
       "      <td>Offensive Graffiti on Public Property</td>\n",
       "      <td>Other_enter_additional_details_below - Offensive</td>\n",
       "      <td>2601 45TH AVE, SAN FRANCISCO, CA, 94116</td>\n",
       "      <td>4</td>\n",
       "      <td>Parkside</td>\n",
       "      <td>(37.737949481767, -122.50341655967)</td>\n",
       "      <td>Open311</td>\n",
       "      <td>http://mobile311.sfgov.org/media/san_francisco...</td>\n",
       "    </tr>\n",
       "    <tr>\n",
       "      <th>4</th>\n",
       "      <td>6353849</td>\n",
       "      <td>09/26/2016 06:29:13 PM</td>\n",
       "      <td>10/03/2016 10:30:31 PM</td>\n",
       "      <td>10/03/2016 10:30:31 PM</td>\n",
       "      <td>Closed</td>\n",
       "      <td>Case Transferred - Per process - cases are clo...</td>\n",
       "      <td>311 Service Request Queue - Hold</td>\n",
       "      <td>Graffiti Public Property</td>\n",
       "      <td>Offensive Graffiti on Public Property</td>\n",
       "      <td>Other_enter_additional_details_below - Offensive</td>\n",
       "      <td>Intersection of 45TH AVE and VICENTE ST</td>\n",
       "      <td>4</td>\n",
       "      <td>Parkside</td>\n",
       "      <td>(37.7380977013515, -122.503288459812)</td>\n",
       "      <td>Open311</td>\n",
       "      <td>http://mobile311.sfgov.org/media/san_francisco...</td>\n",
       "    </tr>\n",
       "  </tbody>\n",
       "</table>\n",
       "</div>"
      ],
      "text/plain": [
       "    CaseID                  Opened                  Closed  \\\n",
       "0  6573455  11/28/2016 04:03:09 PM  12/05/2016 10:30:03 PM   \n",
       "1  6512846  11/09/2016 08:54:38 AM  11/09/2016 09:30:35 AM   \n",
       "2  6434681  10/18/2016 02:51:06 PM                     NaN   \n",
       "3  6429754  10/17/2016 01:39:39 PM  10/17/2016 02:57:15 PM   \n",
       "4  6353849  09/26/2016 06:29:13 PM  10/03/2016 10:30:31 PM   \n",
       "\n",
       "                  Updated  Status  \\\n",
       "0  12/05/2016 10:30:03 PM  Closed   \n",
       "1  11/09/2016 09:30:35 AM  Closed   \n",
       "2  10/18/2016 02:51:06 PM    Open   \n",
       "3  10/17/2016 02:57:15 PM  Closed   \n",
       "4  10/03/2016 10:30:31 PM  Closed   \n",
       "\n",
       "                                        Status Notes  \\\n",
       "0  Case Transferred - Per process - cases are clo...   \n",
       "1  Case Transferred - Reported online at graffiti...   \n",
       "2                                               Open   \n",
       "3             Case Transferred - Transferred to ATT.   \n",
       "4  Case Transferred - Per process - cases are clo...   \n",
       "\n",
       "                    Responsible Agency                  Category  \\\n",
       "0     311 Service Request Queue - Hold  Graffiti Public Property   \n",
       "1                 311 Supervisor Queue  Graffiti Public Property   \n",
       "2  US Postal Service Maintenance Queue  Graffiti Public Property   \n",
       "3                 311 Supervisor Queue  Graffiti Public Property   \n",
       "4     311 Service Request Queue - Hold  Graffiti Public Property   \n",
       "\n",
       "                                Request Type  \\\n",
       "0      Offensive Graffiti on Public Property   \n",
       "1      Offensive Graffiti on Public Property   \n",
       "2  Not_Offensive Graffiti on Public Property   \n",
       "3      Offensive Graffiti on Public Property   \n",
       "4      Offensive Graffiti on Public Property   \n",
       "\n",
       "                                    Request Details  \\\n",
       "0  Other_enter_additional_details_below - Offensive   \n",
       "1  Other_enter_additional_details_below - Offensive   \n",
       "2                          Mail_box - Not_Offensive   \n",
       "3  Other_enter_additional_details_below - Offensive   \n",
       "4  Other_enter_additional_details_below - Offensive   \n",
       "\n",
       "                                     Address  Supervisor District  \\\n",
       "0  3421 VICENTE ST, SAN FRANCISCO, CA, 94116                    4   \n",
       "1  3421 VICENTE ST, SAN FRANCISCO, CA, 94116                    4   \n",
       "2  3402 VICENTE ST, SAN FRANCISCO, CA, 94116                    4   \n",
       "3    2601 45TH AVE, SAN FRANCISCO, CA, 94116                    4   \n",
       "4    Intersection of 45TH AVE and VICENTE ST                    4   \n",
       "\n",
       "   Neighborhood                                  Point   Source  \\\n",
       "0           NaN         (37.737831051, -122.503720566)  Open311   \n",
       "1           NaN         (37.737831051, -122.503720566)  Open311   \n",
       "2  Outer Sunset   (37.738150314403, -122.503344824895)  Open311   \n",
       "3      Parkside    (37.737949481767, -122.50341655967)  Open311   \n",
       "4      Parkside  (37.7380977013515, -122.503288459812)  Open311   \n",
       "\n",
       "                                           Media URL  \n",
       "0  http://mobile311.sfgov.org/media/san_francisco...  \n",
       "1  http://mobile311.sfgov.org/media/san_francisco...  \n",
       "2  http://mobile311.sfgov.org/media/san_francisco...  \n",
       "3  http://mobile311.sfgov.org/media/san_francisco...  \n",
       "4  http://mobile311.sfgov.org/media/san_francisco...  "
      ]
     },
     "execution_count": 47,
     "metadata": {},
     "output_type": "execute_result"
    }
   ],
   "source": [
    "df.head()"
   ]
  },
  {
   "cell_type": "code",
   "execution_count": 48,
   "metadata": {
    "collapsed": false
   },
   "outputs": [
    {
     "data": {
      "text/html": [
       "<div>\n",
       "<table border=\"1\" class=\"dataframe\">\n",
       "  <thead>\n",
       "    <tr style=\"text-align: right;\">\n",
       "      <th></th>\n",
       "      <th>CaseID</th>\n",
       "      <th>Opened</th>\n",
       "      <th>Closed</th>\n",
       "      <th>Updated</th>\n",
       "      <th>Status</th>\n",
       "      <th>Status Notes</th>\n",
       "      <th>Responsible Agency</th>\n",
       "      <th>Category</th>\n",
       "      <th>Request Type</th>\n",
       "      <th>Request Details</th>\n",
       "      <th>Address</th>\n",
       "      <th>Supervisor District</th>\n",
       "      <th>Neighborhood</th>\n",
       "      <th>Point</th>\n",
       "      <th>Source</th>\n",
       "      <th>Media URL</th>\n",
       "    </tr>\n",
       "  </thead>\n",
       "  <tbody>\n",
       "    <tr>\n",
       "      <th>0</th>\n",
       "      <td>6573455</td>\n",
       "      <td>11/28/2016 04:03:09 PM</td>\n",
       "      <td>12/05/2016 10:30:03 PM</td>\n",
       "      <td>12/05/2016 10:30:03 PM</td>\n",
       "      <td>Closed</td>\n",
       "      <td>Case Transferred - Per process - cases are clo...</td>\n",
       "      <td>311 Service Request Queue - Hold</td>\n",
       "      <td>Graffiti Public Property</td>\n",
       "      <td>Offensive Graffiti on Public Property</td>\n",
       "      <td>Other_enter_additional_details_below - Offensive</td>\n",
       "      <td>3421 VICENTE ST, SAN FRANCISCO, CA, 94116</td>\n",
       "      <td>4</td>\n",
       "      <td>NaN</td>\n",
       "      <td>(37.737831051, -122.503720566)</td>\n",
       "      <td>Open311</td>\n",
       "      <td>http://mobile311.sfgov.org/media/san_francisco...</td>\n",
       "    </tr>\n",
       "    <tr>\n",
       "      <th>1</th>\n",
       "      <td>6512846</td>\n",
       "      <td>11/09/2016 08:54:38 AM</td>\n",
       "      <td>11/09/2016 09:30:35 AM</td>\n",
       "      <td>11/09/2016 09:30:35 AM</td>\n",
       "      <td>Closed</td>\n",
       "      <td>Case Transferred - Reported online at graffiti...</td>\n",
       "      <td>311 Supervisor Queue</td>\n",
       "      <td>Graffiti Public Property</td>\n",
       "      <td>Offensive Graffiti on Public Property</td>\n",
       "      <td>Other_enter_additional_details_below - Offensive</td>\n",
       "      <td>3421 VICENTE ST, SAN FRANCISCO, CA, 94116</td>\n",
       "      <td>4</td>\n",
       "      <td>NaN</td>\n",
       "      <td>(37.737831051, -122.503720566)</td>\n",
       "      <td>Open311</td>\n",
       "      <td>http://mobile311.sfgov.org/media/san_francisco...</td>\n",
       "    </tr>\n",
       "    <tr>\n",
       "      <th>2</th>\n",
       "      <td>6434681</td>\n",
       "      <td>10/18/2016 02:51:06 PM</td>\n",
       "      <td>NaN</td>\n",
       "      <td>10/18/2016 02:51:06 PM</td>\n",
       "      <td>Open</td>\n",
       "      <td>Open</td>\n",
       "      <td>US Postal Service Maintenance Queue</td>\n",
       "      <td>Graffiti Public Property</td>\n",
       "      <td>Not_Offensive Graffiti on Public Property</td>\n",
       "      <td>Mail_box - Not_Offensive</td>\n",
       "      <td>3402 VICENTE ST, SAN FRANCISCO, CA, 94116</td>\n",
       "      <td>4</td>\n",
       "      <td>Outer Sunset</td>\n",
       "      <td>(37.738150314403, -122.503344824895)</td>\n",
       "      <td>Open311</td>\n",
       "      <td>http://mobile311.sfgov.org/media/san_francisco...</td>\n",
       "    </tr>\n",
       "    <tr>\n",
       "      <th>3</th>\n",
       "      <td>6429754</td>\n",
       "      <td>10/17/2016 01:39:39 PM</td>\n",
       "      <td>10/17/2016 02:57:15 PM</td>\n",
       "      <td>10/17/2016 02:57:15 PM</td>\n",
       "      <td>Closed</td>\n",
       "      <td>Case Transferred - Transferred to ATT.</td>\n",
       "      <td>311 Supervisor Queue</td>\n",
       "      <td>Graffiti Public Property</td>\n",
       "      <td>Offensive Graffiti on Public Property</td>\n",
       "      <td>Other_enter_additional_details_below - Offensive</td>\n",
       "      <td>2601 45TH AVE, SAN FRANCISCO, CA, 94116</td>\n",
       "      <td>4</td>\n",
       "      <td>Parkside</td>\n",
       "      <td>(37.737949481767, -122.50341655967)</td>\n",
       "      <td>Open311</td>\n",
       "      <td>http://mobile311.sfgov.org/media/san_francisco...</td>\n",
       "    </tr>\n",
       "    <tr>\n",
       "      <th>4</th>\n",
       "      <td>6353849</td>\n",
       "      <td>09/26/2016 06:29:13 PM</td>\n",
       "      <td>10/03/2016 10:30:31 PM</td>\n",
       "      <td>10/03/2016 10:30:31 PM</td>\n",
       "      <td>Closed</td>\n",
       "      <td>Case Transferred - Per process - cases are clo...</td>\n",
       "      <td>311 Service Request Queue - Hold</td>\n",
       "      <td>Graffiti Public Property</td>\n",
       "      <td>Offensive Graffiti on Public Property</td>\n",
       "      <td>Other_enter_additional_details_below - Offensive</td>\n",
       "      <td>Intersection of 45TH AVE and VICENTE ST</td>\n",
       "      <td>4</td>\n",
       "      <td>Parkside</td>\n",
       "      <td>(37.7380977013515, -122.503288459812)</td>\n",
       "      <td>Open311</td>\n",
       "      <td>http://mobile311.sfgov.org/media/san_francisco...</td>\n",
       "    </tr>\n",
       "  </tbody>\n",
       "</table>\n",
       "</div>"
      ],
      "text/plain": [
       "    CaseID                  Opened                  Closed  \\\n",
       "0  6573455  11/28/2016 04:03:09 PM  12/05/2016 10:30:03 PM   \n",
       "1  6512846  11/09/2016 08:54:38 AM  11/09/2016 09:30:35 AM   \n",
       "2  6434681  10/18/2016 02:51:06 PM                     NaN   \n",
       "3  6429754  10/17/2016 01:39:39 PM  10/17/2016 02:57:15 PM   \n",
       "4  6353849  09/26/2016 06:29:13 PM  10/03/2016 10:30:31 PM   \n",
       "\n",
       "                  Updated  Status  \\\n",
       "0  12/05/2016 10:30:03 PM  Closed   \n",
       "1  11/09/2016 09:30:35 AM  Closed   \n",
       "2  10/18/2016 02:51:06 PM    Open   \n",
       "3  10/17/2016 02:57:15 PM  Closed   \n",
       "4  10/03/2016 10:30:31 PM  Closed   \n",
       "\n",
       "                                        Status Notes  \\\n",
       "0  Case Transferred - Per process - cases are clo...   \n",
       "1  Case Transferred - Reported online at graffiti...   \n",
       "2                                               Open   \n",
       "3             Case Transferred - Transferred to ATT.   \n",
       "4  Case Transferred - Per process - cases are clo...   \n",
       "\n",
       "                    Responsible Agency                  Category  \\\n",
       "0     311 Service Request Queue - Hold  Graffiti Public Property   \n",
       "1                 311 Supervisor Queue  Graffiti Public Property   \n",
       "2  US Postal Service Maintenance Queue  Graffiti Public Property   \n",
       "3                 311 Supervisor Queue  Graffiti Public Property   \n",
       "4     311 Service Request Queue - Hold  Graffiti Public Property   \n",
       "\n",
       "                                Request Type  \\\n",
       "0      Offensive Graffiti on Public Property   \n",
       "1      Offensive Graffiti on Public Property   \n",
       "2  Not_Offensive Graffiti on Public Property   \n",
       "3      Offensive Graffiti on Public Property   \n",
       "4      Offensive Graffiti on Public Property   \n",
       "\n",
       "                                    Request Details  \\\n",
       "0  Other_enter_additional_details_below - Offensive   \n",
       "1  Other_enter_additional_details_below - Offensive   \n",
       "2                          Mail_box - Not_Offensive   \n",
       "3  Other_enter_additional_details_below - Offensive   \n",
       "4  Other_enter_additional_details_below - Offensive   \n",
       "\n",
       "                                     Address  Supervisor District  \\\n",
       "0  3421 VICENTE ST, SAN FRANCISCO, CA, 94116                    4   \n",
       "1  3421 VICENTE ST, SAN FRANCISCO, CA, 94116                    4   \n",
       "2  3402 VICENTE ST, SAN FRANCISCO, CA, 94116                    4   \n",
       "3    2601 45TH AVE, SAN FRANCISCO, CA, 94116                    4   \n",
       "4    Intersection of 45TH AVE and VICENTE ST                    4   \n",
       "\n",
       "   Neighborhood                                  Point   Source  \\\n",
       "0           NaN         (37.737831051, -122.503720566)  Open311   \n",
       "1           NaN         (37.737831051, -122.503720566)  Open311   \n",
       "2  Outer Sunset   (37.738150314403, -122.503344824895)  Open311   \n",
       "3      Parkside    (37.737949481767, -122.50341655967)  Open311   \n",
       "4      Parkside  (37.7380977013515, -122.503288459812)  Open311   \n",
       "\n",
       "                                           Media URL  \n",
       "0  http://mobile311.sfgov.org/media/san_francisco...  \n",
       "1  http://mobile311.sfgov.org/media/san_francisco...  \n",
       "2  http://mobile311.sfgov.org/media/san_francisco...  \n",
       "3  http://mobile311.sfgov.org/media/san_francisco...  \n",
       "4  http://mobile311.sfgov.org/media/san_francisco...  "
      ]
     },
     "execution_count": 48,
     "metadata": {},
     "output_type": "execute_result"
    }
   ],
   "source": [
    "df = pd.read_table(url, sep = ',')\n",
    "df.head()"
   ]
  },
  {
   "cell_type": "code",
   "execution_count": null,
   "metadata": {
    "collapsed": true
   },
   "outputs": [],
   "source": []
  },
  {
   "cell_type": "code",
   "execution_count": null,
   "metadata": {
    "collapsed": true
   },
   "outputs": [],
   "source": []
  }
 ],
 "metadata": {
  "kernelspec": {
   "display_name": "Python 3",
   "language": "python",
   "name": "python3"
  },
  "language_info": {
   "codemirror_mode": {
    "name": "ipython",
    "version": 3
   },
   "file_extension": ".py",
   "mimetype": "text/x-python",
   "name": "python",
   "nbconvert_exporter": "python",
   "pygments_lexer": "ipython3",
   "version": "3.5.2"
  }
 },
 "nbformat": 4,
 "nbformat_minor": 1
}
