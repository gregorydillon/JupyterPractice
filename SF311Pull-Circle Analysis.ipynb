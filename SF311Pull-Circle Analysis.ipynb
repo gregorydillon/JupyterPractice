{
 "cells": [
  {
   "cell_type": "code",
   "execution_count": 1,
   "metadata": {
    "collapsed": true
   },
   "outputs": [],
   "source": [
    "import numpy as np\n",
    "import pandas as pd\n"
   ]
  },
  {
   "cell_type": "code",
   "execution_count": 2,
   "metadata": {
    "collapsed": false
   },
   "outputs": [],
   "source": [
    "#latlon = '37.73789,-122.50372' \n",
    "# 3421 Vincente \n",
    "latlon = '37.761333,-122.428372'\n",
    "# 18th and Church\n",
    "#latlon = '37.761851, -122.419378'\n",
    "# 18th and Mission"
   ]
  },
  {
   "cell_type": "code",
   "execution_count": 3,
   "metadata": {
    "collapsed": true
   },
   "outputs": [],
   "source": [
    "#  Graffiti since 2016\n",
    "#  https://data.sfgov.org/resource/rme2-xgvs.json"
   ]
  },
  {
   "cell_type": "code",
   "execution_count": 4,
   "metadata": {
    "collapsed": false
   },
   "outputs": [
    {
     "data": {
      "text/plain": [
       "'https://data.sfgov.org/resource/rme2-xgvs.csv'"
      ]
     },
     "execution_count": 4,
     "metadata": {},
     "output_type": "execute_result"
    }
   ],
   "source": [
    "#url = 'https://data.sfgov.org/resource/hca6-em76.csv'\n",
    "url = 'https://data.sfgov.org/resource/rme2-xgvs.csv'\n",
    "#limit = '?$limit=50000'\n",
    "#url = url+limit\n",
    "#url\n",
    "url"
   ]
  },
  {
   "cell_type": "code",
   "execution_count": 5,
   "metadata": {
    "collapsed": false
   },
   "outputs": [
    {
     "data": {
      "text/html": [
       "<div>\n",
       "<table border=\"1\" class=\"dataframe\">\n",
       "  <thead>\n",
       "    <tr style=\"text-align: right;\">\n",
       "      <th></th>\n",
       "      <th>CaseID</th>\n",
       "      <th>Opened</th>\n",
       "      <th>Closed</th>\n",
       "      <th>Updated</th>\n",
       "      <th>Status</th>\n",
       "      <th>Status Notes</th>\n",
       "      <th>Responsible Agency</th>\n",
       "      <th>Category</th>\n",
       "      <th>Request Type</th>\n",
       "      <th>Request Details</th>\n",
       "      <th>Address</th>\n",
       "      <th>Supervisor District</th>\n",
       "      <th>Neighborhood</th>\n",
       "      <th>Point</th>\n",
       "      <th>Source</th>\n",
       "      <th>Media URL</th>\n",
       "    </tr>\n",
       "  </thead>\n",
       "  <tbody>\n",
       "    <tr>\n",
       "      <th>0</th>\n",
       "      <td>6599440</td>\n",
       "      <td>12/05/2016 11:35:46 PM</td>\n",
       "      <td>NaN</td>\n",
       "      <td>12/05/2016 11:37:49 PM</td>\n",
       "      <td>Open</td>\n",
       "      <td>Open</td>\n",
       "      <td>Clear Channel - Transit Queue</td>\n",
       "      <td>Graffiti Public Property</td>\n",
       "      <td>Not_Offensive Graffiti on Public Property</td>\n",
       "      <td>Transit_Shelter_Platform - Not_Offensive</td>\n",
       "      <td>Intersection of 25TH AVE and CALIFORNIA ST</td>\n",
       "      <td>1.0</td>\n",
       "      <td>Outer Richmond</td>\n",
       "      <td>(37.7838821828959, -122.485010935157)</td>\n",
       "      <td>Voice In</td>\n",
       "      <td>NaN</td>\n",
       "    </tr>\n",
       "    <tr>\n",
       "      <th>1</th>\n",
       "      <td>6599379</td>\n",
       "      <td>12/05/2016 10:32:43 PM</td>\n",
       "      <td>NaN</td>\n",
       "      <td>12/05/2016 10:32:43 PM</td>\n",
       "      <td>Open</td>\n",
       "      <td>Open</td>\n",
       "      <td>US Postal Service Maintenance Queue</td>\n",
       "      <td>Graffiti Public Property</td>\n",
       "      <td>Not_Offensive Graffiti on Public Property</td>\n",
       "      <td>Mail_box - Not_Offensive</td>\n",
       "      <td>Intersection of 10TH ST and STEVENSON ST</td>\n",
       "      <td>6.0</td>\n",
       "      <td>South of Market</td>\n",
       "      <td>(37.7760757586829, -122.416915813751)</td>\n",
       "      <td>Open311</td>\n",
       "      <td>NaN</td>\n",
       "    </tr>\n",
       "  </tbody>\n",
       "</table>\n",
       "</div>"
      ],
      "text/plain": [
       "    CaseID                  Opened Closed                 Updated Status  \\\n",
       "0  6599440  12/05/2016 11:35:46 PM    NaN  12/05/2016 11:37:49 PM   Open   \n",
       "1  6599379  12/05/2016 10:32:43 PM    NaN  12/05/2016 10:32:43 PM   Open   \n",
       "\n",
       "  Status Notes                   Responsible Agency                  Category  \\\n",
       "0         Open        Clear Channel - Transit Queue  Graffiti Public Property   \n",
       "1         Open  US Postal Service Maintenance Queue  Graffiti Public Property   \n",
       "\n",
       "                                Request Type  \\\n",
       "0  Not_Offensive Graffiti on Public Property   \n",
       "1  Not_Offensive Graffiti on Public Property   \n",
       "\n",
       "                            Request Details  \\\n",
       "0  Transit_Shelter_Platform - Not_Offensive   \n",
       "1                  Mail_box - Not_Offensive   \n",
       "\n",
       "                                      Address  Supervisor District  \\\n",
       "0  Intersection of 25TH AVE and CALIFORNIA ST                  1.0   \n",
       "1    Intersection of 10TH ST and STEVENSON ST                  6.0   \n",
       "\n",
       "      Neighborhood                                  Point    Source Media URL  \n",
       "0   Outer Richmond  (37.7838821828959, -122.485010935157)  Voice In       NaN  \n",
       "1  South of Market  (37.7760757586829, -122.416915813751)   Open311       NaN  "
      ]
     },
     "execution_count": 5,
     "metadata": {},
     "output_type": "execute_result"
    }
   ],
   "source": [
    "df=pd.read_csv(url)\n",
    "df.head(2)"
   ]
  },
  {
   "cell_type": "code",
   "execution_count": 6,
   "metadata": {
    "collapsed": false
   },
   "outputs": [
    {
     "name": "stdout",
     "output_type": "stream",
     "text": [
      "1000\n"
     ]
    },
    {
     "data": {
      "text/plain": [
       "(1000, 16)"
      ]
     },
     "execution_count": 6,
     "metadata": {},
     "output_type": "execute_result"
    }
   ],
   "source": [
    "print(len(df))\n",
    "df.shape"
   ]
  },
  {
   "cell_type": "code",
   "execution_count": 7,
   "metadata": {
    "collapsed": true
   },
   "outputs": [],
   "source": [
    "# Modify SoQL url for within circle inquiry"
   ]
  },
  {
   "cell_type": "code",
   "execution_count": 8,
   "metadata": {
    "collapsed": false
   },
   "outputs": [
    {
     "data": {
      "text/plain": [
       "'https://data.sfgov.org/resource/rme2-xgvs.csv?$where=within_circle(point,37.761333,-122.428372,50)'"
      ]
     },
     "execution_count": 8,
     "metadata": {},
     "output_type": "execute_result"
    }
   ],
   "source": [
    "\n",
    "url = url + '?'\n",
    "#limit = '?$limit=50000'\n",
    "#url = url+limit\n",
    "#https://data.seattle.gov/resource/pu5n-trf4.json?$where=within_circle(incident_location, 47.59815, -122.334540, 500)\n",
    "#latlon = '37.761877, -122.419378 ' \n",
    "circle = '$where=within_circle(point,'+latlon+ ',50)'\n",
    "url = url + circle\n",
    "\n",
    "url"
   ]
  },
  {
   "cell_type": "code",
   "execution_count": 9,
   "metadata": {
    "collapsed": false
   },
   "outputs": [],
   "source": [
    "df = pd.read_csv(url,sep=',')"
   ]
  },
  {
   "cell_type": "code",
   "execution_count": null,
   "metadata": {
    "collapsed": true
   },
   "outputs": [],
   "source": [
    "df.to_"
   ]
  },
  {
   "cell_type": "code",
   "execution_count": 10,
   "metadata": {
    "collapsed": false
   },
   "outputs": [
    {
     "data": {
      "text/html": [
       "<div>\n",
       "<table border=\"1\" class=\"dataframe\">\n",
       "  <thead>\n",
       "    <tr style=\"text-align: right;\">\n",
       "      <th></th>\n",
       "      <th>CaseID</th>\n",
       "      <th>Opened</th>\n",
       "      <th>Closed</th>\n",
       "      <th>Updated</th>\n",
       "      <th>Status</th>\n",
       "      <th>Status Notes</th>\n",
       "      <th>Responsible Agency</th>\n",
       "      <th>Category</th>\n",
       "      <th>Request Type</th>\n",
       "      <th>Request Details</th>\n",
       "      <th>Address</th>\n",
       "      <th>Supervisor District</th>\n",
       "      <th>Neighborhood</th>\n",
       "      <th>Point</th>\n",
       "      <th>Source</th>\n",
       "      <th>Media URL</th>\n",
       "    </tr>\n",
       "  </thead>\n",
       "  <tbody>\n",
       "    <tr>\n",
       "      <th>0</th>\n",
       "      <td>6598547</td>\n",
       "      <td>12/05/2016 03:50:30 PM</td>\n",
       "      <td>NaN</td>\n",
       "      <td>12/05/2016 03:50:30 PM</td>\n",
       "      <td>Open</td>\n",
       "      <td>accepted</td>\n",
       "      <td>DPW Ops Queue</td>\n",
       "      <td>Graffiti Private Property</td>\n",
       "      <td>Not_Offensive Graffiti on Private Property</td>\n",
       "      <td>Building_other - Not_Offensive</td>\n",
       "      <td>Intersection of 18TH ST and CHURCH ST</td>\n",
       "      <td>8</td>\n",
       "      <td>Mission Dolores</td>\n",
       "      <td>(37.7612895823341, -122.428354118317)</td>\n",
       "      <td>Open311</td>\n",
       "      <td>http://mobile311.sfgov.org/media/san_francisco...</td>\n",
       "    </tr>\n",
       "    <tr>\n",
       "      <th>1</th>\n",
       "      <td>6590597</td>\n",
       "      <td>12/03/2016 08:56:00 AM</td>\n",
       "      <td>NaN</td>\n",
       "      <td>12/03/2016 08:56:00 AM</td>\n",
       "      <td>Open</td>\n",
       "      <td>accepted</td>\n",
       "      <td>DPW Ops Queue</td>\n",
       "      <td>Graffiti Private Property</td>\n",
       "      <td>Not_Offensive Graffiti on Private Property</td>\n",
       "      <td>Building_other - Not_Offensive</td>\n",
       "      <td>Intersection of 18TH ST and CHURCH ST</td>\n",
       "      <td>8</td>\n",
       "      <td>Mission Dolores</td>\n",
       "      <td>(37.7612895823341, -122.428354118317)</td>\n",
       "      <td>Open311</td>\n",
       "      <td>http://mobile311.sfgov.org/media/san_francisco...</td>\n",
       "    </tr>\n",
       "    <tr>\n",
       "      <th>2</th>\n",
       "      <td>6590590</td>\n",
       "      <td>12/03/2016 08:54:02 AM</td>\n",
       "      <td>NaN</td>\n",
       "      <td>12/03/2016 08:58:23 AM</td>\n",
       "      <td>Open</td>\n",
       "      <td>open</td>\n",
       "      <td>DPW Ops Queue</td>\n",
       "      <td>Graffiti Public Property</td>\n",
       "      <td>Not_Offensive Graffiti on Public Property</td>\n",
       "      <td>Signal_box - Not_Offensive</td>\n",
       "      <td>Intersection of 18TH ST and CHURCH ST</td>\n",
       "      <td>8</td>\n",
       "      <td>Mission Dolores</td>\n",
       "      <td>(37.7612895823341, -122.428354118317)</td>\n",
       "      <td>Open311</td>\n",
       "      <td>http://mobile311.sfgov.org/media/san_francisco...</td>\n",
       "    </tr>\n",
       "    <tr>\n",
       "      <th>3</th>\n",
       "      <td>6590586</td>\n",
       "      <td>12/03/2016 08:52:46 AM</td>\n",
       "      <td>NaN</td>\n",
       "      <td>12/03/2016 09:08:55 AM</td>\n",
       "      <td>Open</td>\n",
       "      <td>accepted</td>\n",
       "      <td>DPW Ops Queue</td>\n",
       "      <td>Graffiti Public Property</td>\n",
       "      <td>Not_Offensive Graffiti on Public Property</td>\n",
       "      <td>Signal_box - Not_Offensive</td>\n",
       "      <td>586 CHURCH ST, SAN FRANCISCO, CA, 94114</td>\n",
       "      <td>8</td>\n",
       "      <td>Mission Dolores</td>\n",
       "      <td>(37.761469775816, -122.428569714336)</td>\n",
       "      <td>Open311</td>\n",
       "      <td>http://mobile311.sfgov.org/media/san_francisco...</td>\n",
       "    </tr>\n",
       "    <tr>\n",
       "      <th>4</th>\n",
       "      <td>6583496</td>\n",
       "      <td>12/01/2016 09:33:46 AM</td>\n",
       "      <td>NaN</td>\n",
       "      <td>12/01/2016 09:33:46 AM</td>\n",
       "      <td>Open</td>\n",
       "      <td>accepted</td>\n",
       "      <td>DPW Ops Queue</td>\n",
       "      <td>Graffiti Public Property</td>\n",
       "      <td>Offensive Graffiti on Public Property</td>\n",
       "      <td>Signal_box - Offensive</td>\n",
       "      <td>Intersection of 18TH ST and CHURCH ST</td>\n",
       "      <td>8</td>\n",
       "      <td>Mission Dolores</td>\n",
       "      <td>(37.7612895823341, -122.428354118317)</td>\n",
       "      <td>Open311</td>\n",
       "      <td>http://mobile311.sfgov.org/media/san_francisco...</td>\n",
       "    </tr>\n",
       "  </tbody>\n",
       "</table>\n",
       "</div>"
      ],
      "text/plain": [
       "    CaseID                  Opened Closed                 Updated Status  \\\n",
       "0  6598547  12/05/2016 03:50:30 PM    NaN  12/05/2016 03:50:30 PM   Open   \n",
       "1  6590597  12/03/2016 08:56:00 AM    NaN  12/03/2016 08:56:00 AM   Open   \n",
       "2  6590590  12/03/2016 08:54:02 AM    NaN  12/03/2016 08:58:23 AM   Open   \n",
       "3  6590586  12/03/2016 08:52:46 AM    NaN  12/03/2016 09:08:55 AM   Open   \n",
       "4  6583496  12/01/2016 09:33:46 AM    NaN  12/01/2016 09:33:46 AM   Open   \n",
       "\n",
       "  Status Notes Responsible Agency                   Category  \\\n",
       "0     accepted      DPW Ops Queue  Graffiti Private Property   \n",
       "1     accepted      DPW Ops Queue  Graffiti Private Property   \n",
       "2         open      DPW Ops Queue   Graffiti Public Property   \n",
       "3     accepted      DPW Ops Queue   Graffiti Public Property   \n",
       "4     accepted      DPW Ops Queue   Graffiti Public Property   \n",
       "\n",
       "                                 Request Type                 Request Details  \\\n",
       "0  Not_Offensive Graffiti on Private Property  Building_other - Not_Offensive   \n",
       "1  Not_Offensive Graffiti on Private Property  Building_other - Not_Offensive   \n",
       "2   Not_Offensive Graffiti on Public Property      Signal_box - Not_Offensive   \n",
       "3   Not_Offensive Graffiti on Public Property      Signal_box - Not_Offensive   \n",
       "4       Offensive Graffiti on Public Property          Signal_box - Offensive   \n",
       "\n",
       "                                   Address  Supervisor District  \\\n",
       "0    Intersection of 18TH ST and CHURCH ST                    8   \n",
       "1    Intersection of 18TH ST and CHURCH ST                    8   \n",
       "2    Intersection of 18TH ST and CHURCH ST                    8   \n",
       "3  586 CHURCH ST, SAN FRANCISCO, CA, 94114                    8   \n",
       "4    Intersection of 18TH ST and CHURCH ST                    8   \n",
       "\n",
       "      Neighborhood                                  Point   Source  \\\n",
       "0  Mission Dolores  (37.7612895823341, -122.428354118317)  Open311   \n",
       "1  Mission Dolores  (37.7612895823341, -122.428354118317)  Open311   \n",
       "2  Mission Dolores  (37.7612895823341, -122.428354118317)  Open311   \n",
       "3  Mission Dolores   (37.761469775816, -122.428569714336)  Open311   \n",
       "4  Mission Dolores  (37.7612895823341, -122.428354118317)  Open311   \n",
       "\n",
       "                                           Media URL  \n",
       "0  http://mobile311.sfgov.org/media/san_francisco...  \n",
       "1  http://mobile311.sfgov.org/media/san_francisco...  \n",
       "2  http://mobile311.sfgov.org/media/san_francisco...  \n",
       "3  http://mobile311.sfgov.org/media/san_francisco...  \n",
       "4  http://mobile311.sfgov.org/media/san_francisco...  "
      ]
     },
     "execution_count": 10,
     "metadata": {},
     "output_type": "execute_result"
    }
   ],
   "source": [
    "df.head()"
   ]
  },
  {
   "cell_type": "code",
   "execution_count": 11,
   "metadata": {
    "collapsed": false
   },
   "outputs": [
    {
     "data": {
      "text/html": [
       "<div>\n",
       "<table border=\"1\" class=\"dataframe\">\n",
       "  <thead>\n",
       "    <tr style=\"text-align: right;\">\n",
       "      <th></th>\n",
       "      <th>CaseID</th>\n",
       "      <th>Opened</th>\n",
       "      <th>Closed</th>\n",
       "      <th>Updated</th>\n",
       "      <th>Status</th>\n",
       "      <th>Status Notes</th>\n",
       "      <th>Responsible Agency</th>\n",
       "      <th>Category</th>\n",
       "      <th>Request Type</th>\n",
       "      <th>Request Details</th>\n",
       "      <th>Address</th>\n",
       "      <th>Supervisor District</th>\n",
       "      <th>Neighborhood</th>\n",
       "      <th>Point</th>\n",
       "      <th>Source</th>\n",
       "      <th>Media URL</th>\n",
       "    </tr>\n",
       "  </thead>\n",
       "  <tbody>\n",
       "    <tr>\n",
       "      <th>0</th>\n",
       "      <td>6598547</td>\n",
       "      <td>12/05/2016 03:50:30 PM</td>\n",
       "      <td>NaN</td>\n",
       "      <td>12/05/2016 03:50:30 PM</td>\n",
       "      <td>Open</td>\n",
       "      <td>accepted</td>\n",
       "      <td>DPW Ops Queue</td>\n",
       "      <td>Graffiti Private Property</td>\n",
       "      <td>Not_Offensive Graffiti on Private Property</td>\n",
       "      <td>Building_other - Not_Offensive</td>\n",
       "      <td>Intersection of 18TH ST and CHURCH ST</td>\n",
       "      <td>8</td>\n",
       "      <td>Mission Dolores</td>\n",
       "      <td>(37.7612895823341, -122.428354118317)</td>\n",
       "      <td>Open311</td>\n",
       "      <td>http://mobile311.sfgov.org/media/san_francisco...</td>\n",
       "    </tr>\n",
       "    <tr>\n",
       "      <th>1</th>\n",
       "      <td>6590597</td>\n",
       "      <td>12/03/2016 08:56:00 AM</td>\n",
       "      <td>NaN</td>\n",
       "      <td>12/03/2016 08:56:00 AM</td>\n",
       "      <td>Open</td>\n",
       "      <td>accepted</td>\n",
       "      <td>DPW Ops Queue</td>\n",
       "      <td>Graffiti Private Property</td>\n",
       "      <td>Not_Offensive Graffiti on Private Property</td>\n",
       "      <td>Building_other - Not_Offensive</td>\n",
       "      <td>Intersection of 18TH ST and CHURCH ST</td>\n",
       "      <td>8</td>\n",
       "      <td>Mission Dolores</td>\n",
       "      <td>(37.7612895823341, -122.428354118317)</td>\n",
       "      <td>Open311</td>\n",
       "      <td>http://mobile311.sfgov.org/media/san_francisco...</td>\n",
       "    </tr>\n",
       "    <tr>\n",
       "      <th>2</th>\n",
       "      <td>6590590</td>\n",
       "      <td>12/03/2016 08:54:02 AM</td>\n",
       "      <td>NaN</td>\n",
       "      <td>12/03/2016 08:58:23 AM</td>\n",
       "      <td>Open</td>\n",
       "      <td>open</td>\n",
       "      <td>DPW Ops Queue</td>\n",
       "      <td>Graffiti Public Property</td>\n",
       "      <td>Not_Offensive Graffiti on Public Property</td>\n",
       "      <td>Signal_box - Not_Offensive</td>\n",
       "      <td>Intersection of 18TH ST and CHURCH ST</td>\n",
       "      <td>8</td>\n",
       "      <td>Mission Dolores</td>\n",
       "      <td>(37.7612895823341, -122.428354118317)</td>\n",
       "      <td>Open311</td>\n",
       "      <td>http://mobile311.sfgov.org/media/san_francisco...</td>\n",
       "    </tr>\n",
       "    <tr>\n",
       "      <th>3</th>\n",
       "      <td>6590586</td>\n",
       "      <td>12/03/2016 08:52:46 AM</td>\n",
       "      <td>NaN</td>\n",
       "      <td>12/03/2016 09:08:55 AM</td>\n",
       "      <td>Open</td>\n",
       "      <td>accepted</td>\n",
       "      <td>DPW Ops Queue</td>\n",
       "      <td>Graffiti Public Property</td>\n",
       "      <td>Not_Offensive Graffiti on Public Property</td>\n",
       "      <td>Signal_box - Not_Offensive</td>\n",
       "      <td>586 CHURCH ST, SAN FRANCISCO, CA, 94114</td>\n",
       "      <td>8</td>\n",
       "      <td>Mission Dolores</td>\n",
       "      <td>(37.761469775816, -122.428569714336)</td>\n",
       "      <td>Open311</td>\n",
       "      <td>http://mobile311.sfgov.org/media/san_francisco...</td>\n",
       "    </tr>\n",
       "    <tr>\n",
       "      <th>4</th>\n",
       "      <td>6583496</td>\n",
       "      <td>12/01/2016 09:33:46 AM</td>\n",
       "      <td>NaN</td>\n",
       "      <td>12/01/2016 09:33:46 AM</td>\n",
       "      <td>Open</td>\n",
       "      <td>accepted</td>\n",
       "      <td>DPW Ops Queue</td>\n",
       "      <td>Graffiti Public Property</td>\n",
       "      <td>Offensive Graffiti on Public Property</td>\n",
       "      <td>Signal_box - Offensive</td>\n",
       "      <td>Intersection of 18TH ST and CHURCH ST</td>\n",
       "      <td>8</td>\n",
       "      <td>Mission Dolores</td>\n",
       "      <td>(37.7612895823341, -122.428354118317)</td>\n",
       "      <td>Open311</td>\n",
       "      <td>http://mobile311.sfgov.org/media/san_francisco...</td>\n",
       "    </tr>\n",
       "  </tbody>\n",
       "</table>\n",
       "</div>"
      ],
      "text/plain": [
       "    CaseID                  Opened Closed                 Updated Status  \\\n",
       "0  6598547  12/05/2016 03:50:30 PM    NaN  12/05/2016 03:50:30 PM   Open   \n",
       "1  6590597  12/03/2016 08:56:00 AM    NaN  12/03/2016 08:56:00 AM   Open   \n",
       "2  6590590  12/03/2016 08:54:02 AM    NaN  12/03/2016 08:58:23 AM   Open   \n",
       "3  6590586  12/03/2016 08:52:46 AM    NaN  12/03/2016 09:08:55 AM   Open   \n",
       "4  6583496  12/01/2016 09:33:46 AM    NaN  12/01/2016 09:33:46 AM   Open   \n",
       "\n",
       "  Status Notes Responsible Agency                   Category  \\\n",
       "0     accepted      DPW Ops Queue  Graffiti Private Property   \n",
       "1     accepted      DPW Ops Queue  Graffiti Private Property   \n",
       "2         open      DPW Ops Queue   Graffiti Public Property   \n",
       "3     accepted      DPW Ops Queue   Graffiti Public Property   \n",
       "4     accepted      DPW Ops Queue   Graffiti Public Property   \n",
       "\n",
       "                                 Request Type                 Request Details  \\\n",
       "0  Not_Offensive Graffiti on Private Property  Building_other - Not_Offensive   \n",
       "1  Not_Offensive Graffiti on Private Property  Building_other - Not_Offensive   \n",
       "2   Not_Offensive Graffiti on Public Property      Signal_box - Not_Offensive   \n",
       "3   Not_Offensive Graffiti on Public Property      Signal_box - Not_Offensive   \n",
       "4       Offensive Graffiti on Public Property          Signal_box - Offensive   \n",
       "\n",
       "                                   Address  Supervisor District  \\\n",
       "0    Intersection of 18TH ST and CHURCH ST                    8   \n",
       "1    Intersection of 18TH ST and CHURCH ST                    8   \n",
       "2    Intersection of 18TH ST and CHURCH ST                    8   \n",
       "3  586 CHURCH ST, SAN FRANCISCO, CA, 94114                    8   \n",
       "4    Intersection of 18TH ST and CHURCH ST                    8   \n",
       "\n",
       "      Neighborhood                                  Point   Source  \\\n",
       "0  Mission Dolores  (37.7612895823341, -122.428354118317)  Open311   \n",
       "1  Mission Dolores  (37.7612895823341, -122.428354118317)  Open311   \n",
       "2  Mission Dolores  (37.7612895823341, -122.428354118317)  Open311   \n",
       "3  Mission Dolores   (37.761469775816, -122.428569714336)  Open311   \n",
       "4  Mission Dolores  (37.7612895823341, -122.428354118317)  Open311   \n",
       "\n",
       "                                           Media URL  \n",
       "0  http://mobile311.sfgov.org/media/san_francisco...  \n",
       "1  http://mobile311.sfgov.org/media/san_francisco...  \n",
       "2  http://mobile311.sfgov.org/media/san_francisco...  \n",
       "3  http://mobile311.sfgov.org/media/san_francisco...  \n",
       "4  http://mobile311.sfgov.org/media/san_francisco...  "
      ]
     },
     "execution_count": 11,
     "metadata": {},
     "output_type": "execute_result"
    }
   ],
   "source": [
    "df = pd.read_table(url, sep = ',')\n",
    "df.head()"
   ]
  },
  {
   "cell_type": "code",
   "execution_count": null,
   "metadata": {
    "collapsed": true
   },
   "outputs": [],
   "source": []
  },
  {
   "cell_type": "code",
   "execution_count": null,
   "metadata": {
    "collapsed": true
   },
   "outputs": [],
   "source": []
  }
 ],
 "metadata": {
  "kernelspec": {
   "display_name": "Python 3",
   "language": "python",
   "name": "python3"
  },
  "language_info": {
   "codemirror_mode": {
    "name": "ipython",
    "version": 3
   },
   "file_extension": ".py",
   "mimetype": "text/x-python",
   "name": "python",
   "nbconvert_exporter": "python",
   "pygments_lexer": "ipython3",
   "version": "3.5.2"
  }
 },
 "nbformat": 4,
 "nbformat_minor": 1
}
