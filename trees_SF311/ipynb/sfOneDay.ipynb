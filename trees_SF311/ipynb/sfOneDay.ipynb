{
 "cells": [
  {
   "cell_type": "markdown",
   "metadata": {},
   "source": [
    "\n",
    "\n",
    "Question to answer, geographically, how do the locations of encampments compare to the reports for behavior"
   ]
  },
  {
   "cell_type": "markdown",
   "metadata": {
    "collapsed": true
   },
   "source": [
    "The source of the information is from the San Francisco Open Data Portal\n",
    "On that portal, I've created a dataset of Encampments\n",
    "https://data.sfgov.org/profile/Gregory/xm4t-k5h4?q=encampment&sortBy=relevance&utf8=%E2%9C%93\n"
   ]
  },
  {
   "cell_type": "markdown",
   "metadata": {},
   "source": [
    "# San Francisco Graffiti with Video\n",
    "\n",
    "\n"
   ]
  },
  {
   "cell_type": "markdown",
   "metadata": {},
   "source": [
    "\n",
    "Import Libraries & get url\n"
   ]
  },
  {
   "cell_type": "code",
   "execution_count": 1,
   "metadata": {
    "collapsed": false
   },
   "outputs": [],
   "source": [
    "import numpy as np\n",
    "import pandas as pd\n",
    "import matplotlib.pyplot as plt\n",
    "\n",
    "%matplotlib inline\n",
    "\n",
    "\n"
   ]
  },
  {
   "cell_type": "markdown",
   "metadata": {},
   "source": [
    "## Get yesterday variable in bash and format it for url"
   ]
  },
  {
   "cell_type": "code",
   "execution_count": 3,
   "metadata": {
    "collapsed": false
   },
   "outputs": [
    {
     "name": "stdout",
     "output_type": "stream",
     "text": [
      "['2016-12-18'] ['2016-12-17'] ['2016-12-12'] ['2016-12-17']\n"
     ]
    }
   ],
   "source": [
    "#date format 'year-mm-dd'\n",
    "# date -d \"2 weeks ago\"\n",
    "\n",
    "yesterday = !date -d \"yesterday 13:00 \" '+%Y-%m-%d'\n",
    "\n",
    "twoDaysAgo = !date -d \"2 days ago 13:00 \" '+%Y-%m-%d'\n",
    "oneWeekAgo = !date -d \"1 week ago 13:00 \" '+%Y-%m-%d'\n",
    "\n",
    "beginDate = twoDaysAgo\n",
    "print(yesterday, twoDaysAgo, oneWeekAgo, beginDate)\n",
    "startdate = str(beginDate)[1:-1]\n",
    "\n",
    "\n",
    "\n",
    "#hard code option\n",
    "startdate = \"'2016-12-09'\""
   ]
  },
  {
   "cell_type": "markdown",
   "metadata": {},
   "source": [
    "### get url"
   ]
  },
  {
   "cell_type": "code",
   "execution_count": 11,
   "metadata": {
    "collapsed": false
   },
   "outputs": [
    {
     "name": "stdout",
     "output_type": "stream",
     "text": [
      "https://data.sfgov.org/resource/7xfp-iv9k.csv?$where=opened>='2016-12-09'\n"
     ]
    }
   ],
   "source": [
    "#url = 'https://data.sfgov.org/resource/gbya-e2d3.csv' // homeless\n",
    "#url = 'https://data.sfgov.org/resource/gbya-e2d3.csv'\n",
    "#url = 'https://data.sfgov.org/resource/7xfp-iv9k.csv' // trees\n",
    "url = 'https://data.sfgov.org/resource/7xfp-iv9k.csv'\n",
    "#url = 'https://data.sfgov.org/resource/rme2-xgvs.csv'  // graffiti\n",
    "modify= \"?$where=opened\"\n",
    "operator = '>='\n",
    "#date format 'year-mm-dd'\n",
    "\n",
    "\n",
    "url = url + modify + operator + str(startdate)\n",
    "print(url)\n"
   ]
  },
  {
   "cell_type": "code",
   "execution_count": 12,
   "metadata": {
    "collapsed": false
   },
   "outputs": [],
   "source": [
    "#df1 = pd.read_csv(url)\n",
    "#df2 = pd.read_csv(url2)\n",
    "#df =  pd.concat([df1,df2])"
   ]
  },
  {
   "cell_type": "markdown",
   "metadata": {},
   "source": [
    "## Set Display Column with wider so no problem with Media URL series"
   ]
  },
  {
   "cell_type": "code",
   "execution_count": 13,
   "metadata": {
    "collapsed": false
   },
   "outputs": [],
   "source": [
    "pd.options.display.max_colwidth=115"
   ]
  },
  {
   "cell_type": "markdown",
   "metadata": {},
   "source": [
    "## Setup to display images - working, work to do"
   ]
  },
  {
   "cell_type": "code",
   "execution_count": 14,
   "metadata": {
    "collapsed": false
   },
   "outputs": [],
   "source": [
    "from IPython.display import Image\n",
    "from IPython.core.display import HTML \n",
    "from IPython.core.display import Image, display\n",
    "\n"
   ]
  },
  {
   "cell_type": "markdown",
   "metadata": {},
   "source": [
    "## create data frame"
   ]
  },
  {
   "cell_type": "code",
   "execution_count": 15,
   "metadata": {
    "collapsed": false
   },
   "outputs": [],
   "source": [
    "df = pd.read_csv(url)"
   ]
  },
  {
   "cell_type": "code",
   "execution_count": 16,
   "metadata": {
    "collapsed": false
   },
   "outputs": [
    {
     "data": {
      "text/plain": [
       "(189, 16)"
      ]
     },
     "execution_count": 16,
     "metadata": {},
     "output_type": "execute_result"
    }
   ],
   "source": [
    "df.shape"
   ]
  },
  {
   "cell_type": "markdown",
   "metadata": {},
   "source": [
    "#### wow, 5 days > 1000 reports"
   ]
  },
  {
   "cell_type": "code",
   "execution_count": 17,
   "metadata": {
    "collapsed": false
   },
   "outputs": [
    {
     "data": {
      "text/html": [
       "<div>\n",
       "<table border=\"1\" class=\"dataframe\">\n",
       "  <thead>\n",
       "    <tr style=\"text-align: right;\">\n",
       "      <th></th>\n",
       "      <th>CaseID</th>\n",
       "      <th>Opened</th>\n",
       "      <th>Closed</th>\n",
       "      <th>Updated</th>\n",
       "      <th>Status</th>\n",
       "      <th>Status Notes</th>\n",
       "      <th>Responsible Agency</th>\n",
       "      <th>Category</th>\n",
       "      <th>Request Type</th>\n",
       "      <th>Request Details</th>\n",
       "      <th>Address</th>\n",
       "      <th>Supervisor District</th>\n",
       "      <th>Neighborhood</th>\n",
       "      <th>Point</th>\n",
       "      <th>Source</th>\n",
       "      <th>Media URL</th>\n",
       "    </tr>\n",
       "  </thead>\n",
       "  <tbody>\n",
       "    <tr>\n",
       "      <th>0</th>\n",
       "      <td>6638585</td>\n",
       "      <td>12/17/2016 08:51:38 PM</td>\n",
       "      <td>NaN</td>\n",
       "      <td>12/17/2016 08:51:38 PM</td>\n",
       "      <td>Open</td>\n",
       "      <td>accepted</td>\n",
       "      <td>DPW Ops Queue</td>\n",
       "      <td>Tree Maintenance</td>\n",
       "      <td>Trees - Tree_Other</td>\n",
       "      <td>Other</td>\n",
       "      <td>555 40TH AVE, SAN FRANCISCO, CA, 94121</td>\n",
       "      <td>1.0</td>\n",
       "      <td>NaN</td>\n",
       "      <td>(37.778243152, -122.501054054)</td>\n",
       "      <td>Open311</td>\n",
       "      <td>NaN</td>\n",
       "    </tr>\n",
       "    <tr>\n",
       "      <th>1</th>\n",
       "      <td>6638180</td>\n",
       "      <td>12/17/2016 04:09:47 PM</td>\n",
       "      <td>NaN</td>\n",
       "      <td>12/17/2016 04:09:47 PM</td>\n",
       "      <td>Open</td>\n",
       "      <td>accepted</td>\n",
       "      <td>DPW Ops Queue</td>\n",
       "      <td>Tree Maintenance</td>\n",
       "      <td>Trees - Damaged_Tree</td>\n",
       "      <td>Damaged_vandalism</td>\n",
       "      <td>211 ARKANSAS ST, SAN FRANCISCO, CA, 94107</td>\n",
       "      <td>10.0</td>\n",
       "      <td>Potrero Hill</td>\n",
       "      <td>(37.763598830238, -122.398428836462)</td>\n",
       "      <td>Open311</td>\n",
       "      <td>http://mobile311.sfgov.org/media/san_francisco/report/photos/5855d3c53da153f1b6e7f281/report.jpg</td>\n",
       "    </tr>\n",
       "    <tr>\n",
       "      <th>2</th>\n",
       "      <td>6637873</td>\n",
       "      <td>12/17/2016 02:19:31 PM</td>\n",
       "      <td>NaN</td>\n",
       "      <td>12/17/2016 02:21:14 PM</td>\n",
       "      <td>Open</td>\n",
       "      <td>accepted</td>\n",
       "      <td>DPW Ops Queue</td>\n",
       "      <td>Tree Maintenance</td>\n",
       "      <td>Trees - Damaged_Tree</td>\n",
       "      <td>Fallen_tree</td>\n",
       "      <td>Intersection of 2ND ST and TEHAMA ST</td>\n",
       "      <td>6.0</td>\n",
       "      <td>South of Market</td>\n",
       "      <td>(37.7863385950627, -122.397704566464)</td>\n",
       "      <td>Voice In</td>\n",
       "      <td>NaN</td>\n",
       "    </tr>\n",
       "  </tbody>\n",
       "</table>\n",
       "</div>"
      ],
      "text/plain": [
       "    CaseID                  Opened Closed                 Updated Status  \\\n",
       "0  6638585  12/17/2016 08:51:38 PM    NaN  12/17/2016 08:51:38 PM   Open   \n",
       "1  6638180  12/17/2016 04:09:47 PM    NaN  12/17/2016 04:09:47 PM   Open   \n",
       "2  6637873  12/17/2016 02:19:31 PM    NaN  12/17/2016 02:21:14 PM   Open   \n",
       "\n",
       "  Status Notes Responsible Agency          Category          Request Type  \\\n",
       "0     accepted      DPW Ops Queue  Tree Maintenance    Trees - Tree_Other   \n",
       "1     accepted      DPW Ops Queue  Tree Maintenance  Trees - Damaged_Tree   \n",
       "2     accepted      DPW Ops Queue  Tree Maintenance  Trees - Damaged_Tree   \n",
       "\n",
       "     Request Details                                    Address  \\\n",
       "0              Other     555 40TH AVE, SAN FRANCISCO, CA, 94121   \n",
       "1  Damaged_vandalism  211 ARKANSAS ST, SAN FRANCISCO, CA, 94107   \n",
       "2        Fallen_tree       Intersection of 2ND ST and TEHAMA ST   \n",
       "\n",
       "   Supervisor District     Neighborhood  \\\n",
       "0                  1.0              NaN   \n",
       "1                 10.0     Potrero Hill   \n",
       "2                  6.0  South of Market   \n",
       "\n",
       "                                   Point    Source  \\\n",
       "0         (37.778243152, -122.501054054)   Open311   \n",
       "1   (37.763598830238, -122.398428836462)   Open311   \n",
       "2  (37.7863385950627, -122.397704566464)  Voice In   \n",
       "\n",
       "                                                                                          Media URL  \n",
       "0                                                                                               NaN  \n",
       "1  http://mobile311.sfgov.org/media/san_francisco/report/photos/5855d3c53da153f1b6e7f281/report.jpg  \n",
       "2                                                                                               NaN  "
      ]
     },
     "execution_count": 17,
     "metadata": {},
     "output_type": "execute_result"
    }
   ],
   "source": [
    "df.head(3)"
   ]
  },
  {
   "cell_type": "code",
   "execution_count": 18,
   "metadata": {
    "collapsed": false
   },
   "outputs": [],
   "source": [
    "df['Opened'] = pd.to_datetime(df['Opened'])\n",
    "df['Closed'] = pd.to_datetime(df['Closed'])\n",
    "df['Updated'] = pd.to_datetime(df['Updated'])"
   ]
  },
  {
   "cell_type": "code",
   "execution_count": 19,
   "metadata": {
    "collapsed": false
   },
   "outputs": [
    {
     "data": {
      "text/html": [
       "<div>\n",
       "<table border=\"1\" class=\"dataframe\">\n",
       "  <thead>\n",
       "    <tr style=\"text-align: right;\">\n",
       "      <th></th>\n",
       "      <th>CaseID</th>\n",
       "      <th>Opened</th>\n",
       "      <th>Closed</th>\n",
       "      <th>Updated</th>\n",
       "      <th>Status</th>\n",
       "      <th>Status Notes</th>\n",
       "      <th>Responsible Agency</th>\n",
       "      <th>Category</th>\n",
       "      <th>Request Type</th>\n",
       "      <th>Request Details</th>\n",
       "      <th>Address</th>\n",
       "      <th>Supervisor District</th>\n",
       "      <th>Neighborhood</th>\n",
       "      <th>Point</th>\n",
       "      <th>Source</th>\n",
       "      <th>Media URL</th>\n",
       "    </tr>\n",
       "  </thead>\n",
       "  <tbody>\n",
       "    <tr>\n",
       "      <th>0</th>\n",
       "      <td>6638585</td>\n",
       "      <td>2016-12-17 20:51:38</td>\n",
       "      <td>NaT</td>\n",
       "      <td>2016-12-17 20:51:38</td>\n",
       "      <td>Open</td>\n",
       "      <td>accepted</td>\n",
       "      <td>DPW Ops Queue</td>\n",
       "      <td>Tree Maintenance</td>\n",
       "      <td>Trees - Tree_Other</td>\n",
       "      <td>Other</td>\n",
       "      <td>555 40TH AVE, SAN FRANCISCO, CA, 94121</td>\n",
       "      <td>1.0</td>\n",
       "      <td>NaN</td>\n",
       "      <td>(37.778243152, -122.501054054)</td>\n",
       "      <td>Open311</td>\n",
       "      <td>NaN</td>\n",
       "    </tr>\n",
       "    <tr>\n",
       "      <th>1</th>\n",
       "      <td>6638180</td>\n",
       "      <td>2016-12-17 16:09:47</td>\n",
       "      <td>NaT</td>\n",
       "      <td>2016-12-17 16:09:47</td>\n",
       "      <td>Open</td>\n",
       "      <td>accepted</td>\n",
       "      <td>DPW Ops Queue</td>\n",
       "      <td>Tree Maintenance</td>\n",
       "      <td>Trees - Damaged_Tree</td>\n",
       "      <td>Damaged_vandalism</td>\n",
       "      <td>211 ARKANSAS ST, SAN FRANCISCO, CA, 94107</td>\n",
       "      <td>10.0</td>\n",
       "      <td>Potrero Hill</td>\n",
       "      <td>(37.763598830238, -122.398428836462)</td>\n",
       "      <td>Open311</td>\n",
       "      <td>http://mobile311.sfgov.org/media/san_francisco/report/photos/5855d3c53da153f1b6e7f281/report.jpg</td>\n",
       "    </tr>\n",
       "    <tr>\n",
       "      <th>2</th>\n",
       "      <td>6637873</td>\n",
       "      <td>2016-12-17 14:19:31</td>\n",
       "      <td>NaT</td>\n",
       "      <td>2016-12-17 14:21:14</td>\n",
       "      <td>Open</td>\n",
       "      <td>accepted</td>\n",
       "      <td>DPW Ops Queue</td>\n",
       "      <td>Tree Maintenance</td>\n",
       "      <td>Trees - Damaged_Tree</td>\n",
       "      <td>Fallen_tree</td>\n",
       "      <td>Intersection of 2ND ST and TEHAMA ST</td>\n",
       "      <td>6.0</td>\n",
       "      <td>South of Market</td>\n",
       "      <td>(37.7863385950627, -122.397704566464)</td>\n",
       "      <td>Voice In</td>\n",
       "      <td>NaN</td>\n",
       "    </tr>\n",
       "  </tbody>\n",
       "</table>\n",
       "</div>"
      ],
      "text/plain": [
       "    CaseID              Opened Closed             Updated Status Status Notes  \\\n",
       "0  6638585 2016-12-17 20:51:38    NaT 2016-12-17 20:51:38   Open     accepted   \n",
       "1  6638180 2016-12-17 16:09:47    NaT 2016-12-17 16:09:47   Open     accepted   \n",
       "2  6637873 2016-12-17 14:19:31    NaT 2016-12-17 14:21:14   Open     accepted   \n",
       "\n",
       "  Responsible Agency          Category          Request Type  \\\n",
       "0      DPW Ops Queue  Tree Maintenance    Trees - Tree_Other   \n",
       "1      DPW Ops Queue  Tree Maintenance  Trees - Damaged_Tree   \n",
       "2      DPW Ops Queue  Tree Maintenance  Trees - Damaged_Tree   \n",
       "\n",
       "     Request Details                                    Address  \\\n",
       "0              Other     555 40TH AVE, SAN FRANCISCO, CA, 94121   \n",
       "1  Damaged_vandalism  211 ARKANSAS ST, SAN FRANCISCO, CA, 94107   \n",
       "2        Fallen_tree       Intersection of 2ND ST and TEHAMA ST   \n",
       "\n",
       "   Supervisor District     Neighborhood  \\\n",
       "0                  1.0              NaN   \n",
       "1                 10.0     Potrero Hill   \n",
       "2                  6.0  South of Market   \n",
       "\n",
       "                                   Point    Source  \\\n",
       "0         (37.778243152, -122.501054054)   Open311   \n",
       "1   (37.763598830238, -122.398428836462)   Open311   \n",
       "2  (37.7863385950627, -122.397704566464)  Voice In   \n",
       "\n",
       "                                                                                          Media URL  \n",
       "0                                                                                               NaN  \n",
       "1  http://mobile311.sfgov.org/media/san_francisco/report/photos/5855d3c53da153f1b6e7f281/report.jpg  \n",
       "2                                                                                               NaN  "
      ]
     },
     "execution_count": 19,
     "metadata": {},
     "output_type": "execute_result"
    }
   ],
   "source": [
    "df.head(3)"
   ]
  },
  {
   "cell_type": "code",
   "execution_count": 20,
   "metadata": {
    "collapsed": false
   },
   "outputs": [
    {
     "data": {
      "text/plain": [
       "<matplotlib.axes._subplots.AxesSubplot at 0x7faa0b54a898>"
      ]
     },
     "execution_count": 20,
     "metadata": {},
     "output_type": "execute_result"
    },
    {
     "data": {
      "image/png": "[encoded data removed]",
      "text/plain": [
       "<matplotlib.figure.Figure at 0x7faa0b54ab00>"
      ]
     },
     "metadata": {},
     "output_type": "display_data"
    }
   ],
   "source": [
    "df.Closed.dt.day.value_counts().sort_index().plot()"
   ]
  },
  {
   "cell_type": "code",
   "execution_count": 21,
   "metadata": {
    "collapsed": false,
    "scrolled": true
   },
   "outputs": [
    {
     "data": {
      "text/plain": [
       "<matplotlib.axes._subplots.AxesSubplot at 0x7faa09413f28>"
      ]
     },
     "execution_count": 21,
     "metadata": {},
     "output_type": "execute_result"
    },
    {
     "data": {
      "image/png": "[encoded data removed]",
      "text/plain": [
       "<matplotlib.figure.Figure at 0x7faa0b500d68>"
      ]
     },
     "metadata": {},
     "output_type": "display_data"
    }
   ],
   "source": [
    "df.Opened.dt.day.value_counts().sort_index().plot()"
   ]
  },
  {
   "cell_type": "code",
   "execution_count": 22,
   "metadata": {
    "collapsed": false
   },
   "outputs": [
    {
     "data": {
      "text/plain": [
       "<matplotlib.axes._subplots.AxesSubplot at 0x7faa0944c240>"
      ]
     },
     "execution_count": 22,
     "metadata": {},
     "output_type": "execute_result"
    },
    {
     "data": {
      "image/png": "[encoded data removed]",
      "text/plain": [
       "<matplotlib.figure.Figure at 0x7faa094070f0>"
      ]
     },
     "metadata": {},
     "output_type": "display_data"
    }
   ],
   "source": [
    "df.Closed.dt.weekday.value_counts().sort_index().plot()"
   ]
  },
  {
   "cell_type": "code",
   "execution_count": 23,
   "metadata": {
    "collapsed": false
   },
   "outputs": [
    {
     "data": {
      "text/plain": [
       "Index(['CaseID', 'Opened', 'Closed', 'Updated', 'Status', 'Status Notes',\n",
       "       'Responsible Agency', 'Category', 'Request Type', 'Request Details',\n",
       "       'Address', 'Supervisor District', 'Neighborhood', 'Point', 'Source',\n",
       "       'Media URL'],\n",
       "      dtype='object')"
      ]
     },
     "execution_count": 23,
     "metadata": {},
     "output_type": "execute_result"
    }
   ],
   "source": [
    "df.columns"
   ]
  },
  {
   "cell_type": "code",
   "execution_count": 24,
   "metadata": {
    "collapsed": false
   },
   "outputs": [
    {
     "data": {
      "text/plain": [
       "Other                                   46\n",
       "Fallen_tree                             35\n",
       "Damaged_vandalism                       33\n",
       "Pruning_request                         22\n",
       "Hanging_limb                            10\n",
       "About_to_fall                            9\n",
       "Blocking_signs                           7\n",
       "Near_communication_line                  4\n",
       "Hitting_window_or_building               4\n",
       "Restake_tree                             3\n",
       "Other_enter_additional_details_below     3\n",
       "Lifted_sidewalk_tree_roots               2\n",
       "Blocking_sidewalk                        2\n",
       "Blocking_street_lights                   2\n",
       "Dead_tree                                2\n",
       "Weeding                                  1\n",
       "Property_damage                          1\n",
       "Empty_tree_basin                         1\n",
       "Sewer_damage_tree_roots                  1\n",
       "Shrubbery_blocking_visibility            1\n",
       "Name: Request Details, dtype: int64"
      ]
     },
     "execution_count": 24,
     "metadata": {},
     "output_type": "execute_result"
    }
   ],
   "source": [
    "\n",
    "df['Request Details'].value_counts()\n"
   ]
  },
  {
   "cell_type": "code",
   "execution_count": 25,
   "metadata": {
    "collapsed": false
   },
   "outputs": [
    {
     "data": {
      "text/plain": [
       "-1.0      1\n",
       " 1.0     13\n",
       " 2.0     13\n",
       " 3.0     16\n",
       " 4.0      3\n",
       " 5.0     15\n",
       " 6.0     13\n",
       " 7.0     20\n",
       " 8.0     25\n",
       " 9.0     24\n",
       " 10.0    14\n",
       " 11.0    31\n",
       "Name: Supervisor District, dtype: int64"
      ]
     },
     "execution_count": 25,
     "metadata": {},
     "output_type": "execute_result"
    }
   ],
   "source": [
    "df['Supervisor District'].value_counts().sort_index()\n",
    "\n"
   ]
  },
  {
   "cell_type": "code",
   "execution_count": 26,
   "metadata": {
    "collapsed": false
   },
   "outputs": [
    {
     "data": {
      "text/plain": [
       "Cayuga                     16\n",
       "Mission                    15\n",
       "South of Market             6\n",
       "Mission Dolores             5\n",
       "Downtown / Union Square     5\n",
       "Financial District          4\n",
       "Inner Richmond              4\n",
       "Bayview                     4\n",
       "Outer Richmond              4\n",
       "Outer Sunset                3\n",
       "Golden Gate Park            3\n",
       "Tenderloin                  3\n",
       "Inner Sunset                3\n",
       "Sunnyside                   3\n",
       "Noe Valley                  3\n",
       "Pacific Heights             3\n",
       "Castro                      3\n",
       "Glen Park                   3\n",
       "Potrero Hill                3\n",
       "Lower Haight                3\n",
       "Ashbury Heights             2\n",
       "Forest Hill                 2\n",
       "Fairmount                   2\n",
       "Lakeshore                   2\n",
       "Presidio Heights            2\n",
       "Dolores Heights             2\n",
       "North Beach                 2\n",
       "Lower Nob Hill              2\n",
       "Peralta Heights             2\n",
       "Panhandle                   2\n",
       "                           ..\n",
       "Stonestown                  2\n",
       "Holly Park                  2\n",
       "Merced Heights              1\n",
       "Miraloma Park               1\n",
       "Laguna Honda                1\n",
       "St. Mary's Park             1\n",
       "Hunters Point               1\n",
       "Mission Terrace             1\n",
       "Westwood Highlands          1\n",
       "Nob Hill                    1\n",
       "Apparel City                1\n",
       "Upper Market                1\n",
       "Showplace Square            1\n",
       "Portola                     1\n",
       "Union Street                1\n",
       "Presidio Terrace            1\n",
       "Cow Hollow                  1\n",
       "Mt. Davidson Manor          1\n",
       "Golden Gate Heights         1\n",
       "Little Hollywood            1\n",
       "Rincon Hill                 1\n",
       "Ingleside Terraces          1\n",
       "Lone Mountain               1\n",
       "Marina                      1\n",
       "Monterey Heights            1\n",
       "Eureka Valley               1\n",
       "Polk Gulch                  1\n",
       "Parkmerced                  1\n",
       "Mission Bay                 1\n",
       "Forest Knolls               1\n",
       "Name: Neighborhood, dtype: int64"
      ]
     },
     "execution_count": 26,
     "metadata": {},
     "output_type": "execute_result"
    }
   ],
   "source": [
    "df.Neighborhood.value_counts()"
   ]
  },
  {
   "cell_type": "code",
   "execution_count": 27,
   "metadata": {
    "collapsed": false
   },
   "outputs": [
    {
     "data": {
      "text/html": [
       "<div>\n",
       "<table border=\"1\" class=\"dataframe\">\n",
       "  <thead>\n",
       "    <tr style=\"text-align: right;\">\n",
       "      <th></th>\n",
       "      <th>CaseID</th>\n",
       "      <th>Opened</th>\n",
       "      <th>Closed</th>\n",
       "      <th>Updated</th>\n",
       "      <th>Status</th>\n",
       "      <th>Status Notes</th>\n",
       "      <th>Responsible Agency</th>\n",
       "      <th>Category</th>\n",
       "      <th>Request Type</th>\n",
       "      <th>Request Details</th>\n",
       "      <th>Address</th>\n",
       "      <th>Supervisor District</th>\n",
       "      <th>Neighborhood</th>\n",
       "      <th>Point</th>\n",
       "      <th>Source</th>\n",
       "      <th>Media URL</th>\n",
       "    </tr>\n",
       "  </thead>\n",
       "  <tbody>\n",
       "    <tr>\n",
       "      <th>7</th>\n",
       "      <td>6637390</td>\n",
       "      <td>2016-12-17 11:13:30</td>\n",
       "      <td>NaT</td>\n",
       "      <td>2016-12-17 11:13:30</td>\n",
       "      <td>Open</td>\n",
       "      <td>accepted</td>\n",
       "      <td>DPW Ops Queue</td>\n",
       "      <td>Tree Maintenance</td>\n",
       "      <td>Trees - Damaged_Tree</td>\n",
       "      <td>Damaged_vandalism</td>\n",
       "      <td>8 SAN CARLOS ST, SAN FRANCISCO, CA, 94110</td>\n",
       "      <td>9.0</td>\n",
       "      <td>Mission</td>\n",
       "      <td>(37.762499324207, -122.420323239761)</td>\n",
       "      <td>Open311</td>\n",
       "      <td>http://mobile311.sfgov.org/media/san_francisco/report/photos/58558e553da153f1b6e7e9d0/photo_20161217_111253.jpg</td>\n",
       "    </tr>\n",
       "    <tr>\n",
       "      <th>35</th>\n",
       "      <td>6634241</td>\n",
       "      <td>2016-12-16 10:07:05</td>\n",
       "      <td>NaT</td>\n",
       "      <td>2016-12-16 10:25:06</td>\n",
       "      <td>Open</td>\n",
       "      <td>open</td>\n",
       "      <td>DPW BUF Queue</td>\n",
       "      <td>Tree Maintenance</td>\n",
       "      <td>Trees - Landscaping</td>\n",
       "      <td>Shrubbery_blocking_visibility</td>\n",
       "      <td>Intersection of HORACE ST and 25TH ST</td>\n",
       "      <td>9.0</td>\n",
       "      <td>Mission</td>\n",
       "      <td>(37.7508685263238, -122.414490007799)</td>\n",
       "      <td>Voice In</td>\n",
       "      <td>NaN</td>\n",
       "    </tr>\n",
       "    <tr>\n",
       "      <th>38</th>\n",
       "      <td>6634193</td>\n",
       "      <td>2016-12-16 09:57:11</td>\n",
       "      <td>NaT</td>\n",
       "      <td>2016-12-16 09:59:42</td>\n",
       "      <td>Open</td>\n",
       "      <td>accepted</td>\n",
       "      <td>DPW Ops Queue</td>\n",
       "      <td>Tree Maintenance</td>\n",
       "      <td>Trees - Damaged_Tree</td>\n",
       "      <td>About_to_fall</td>\n",
       "      <td>2966 FOLSOM ST, SAN FRANCISCO, CA, 94110</td>\n",
       "      <td>9.0</td>\n",
       "      <td>Mission</td>\n",
       "      <td>(37.749879180352, -122.414029710012)</td>\n",
       "      <td>Voice In</td>\n",
       "      <td>NaN</td>\n",
       "    </tr>\n",
       "    <tr>\n",
       "      <th>42</th>\n",
       "      <td>6633652</td>\n",
       "      <td>2016-12-16 07:58:51</td>\n",
       "      <td>NaT</td>\n",
       "      <td>2016-12-16 09:25:58</td>\n",
       "      <td>Open</td>\n",
       "      <td>accepted</td>\n",
       "      <td>DPW Ops Queue</td>\n",
       "      <td>Tree Maintenance</td>\n",
       "      <td>Trees - Damaged_Tree</td>\n",
       "      <td>Hanging_limb</td>\n",
       "      <td>2239 BRYANT ST, SAN FRANCISCO, CA, 94110</td>\n",
       "      <td>9.0</td>\n",
       "      <td>Mission</td>\n",
       "      <td>(37.758581559367, -122.409532732667)</td>\n",
       "      <td>Voice In</td>\n",
       "      <td>NaN</td>\n",
       "    </tr>\n",
       "    <tr>\n",
       "      <th>96</th>\n",
       "      <td>6623542</td>\n",
       "      <td>2016-12-13 10:29:01</td>\n",
       "      <td>NaT</td>\n",
       "      <td>2016-12-13 10:29:01</td>\n",
       "      <td>Open</td>\n",
       "      <td>open</td>\n",
       "      <td>DPW Ops Queue</td>\n",
       "      <td>Tree Maintenance</td>\n",
       "      <td>Trees - Landscaping</td>\n",
       "      <td>Other</td>\n",
       "      <td>Intersection of 18TH ST and CAPP ST</td>\n",
       "      <td>9.0</td>\n",
       "      <td>Mission</td>\n",
       "      <td>(37.7619015858826, -122.418271439265)</td>\n",
       "      <td>Open311</td>\n",
       "      <td>http://mobile311.sfgov.org/media/san_francisco/report/photos/58503de33da19793c74ce8ac/photo_20161213_102836.jpg</td>\n",
       "    </tr>\n",
       "    <tr>\n",
       "      <th>97</th>\n",
       "      <td>6623459</td>\n",
       "      <td>2016-12-13 10:16:29</td>\n",
       "      <td>NaT</td>\n",
       "      <td>2016-12-13 11:27:24</td>\n",
       "      <td>Open</td>\n",
       "      <td>accepted</td>\n",
       "      <td>DPW Ops Queue</td>\n",
       "      <td>Tree Maintenance</td>\n",
       "      <td>Trees - Landscaping</td>\n",
       "      <td>Other</td>\n",
       "      <td>1096 TREAT AVE, SAN FRANCISCO, CA, 94110</td>\n",
       "      <td>9.0</td>\n",
       "      <td>Mission</td>\n",
       "      <td>(37.752647054459, -122.413071338511)</td>\n",
       "      <td>Open311</td>\n",
       "      <td>http://mobile311.sfgov.org/media/san_francisco/report/photos/58503af23da19793c74ce775/photo_20161213_101613.jpg</td>\n",
       "    </tr>\n",
       "    <tr>\n",
       "      <th>98</th>\n",
       "      <td>6623438</td>\n",
       "      <td>2016-12-13 10:13:44</td>\n",
       "      <td>NaT</td>\n",
       "      <td>2016-12-13 11:27:19</td>\n",
       "      <td>Open</td>\n",
       "      <td>accepted</td>\n",
       "      <td>DPW Ops Queue</td>\n",
       "      <td>Tree Maintenance</td>\n",
       "      <td>Trees - Landscaping</td>\n",
       "      <td>Other</td>\n",
       "      <td>3049 24TH ST, SAN FRANCISCO, CA, 94110</td>\n",
       "      <td>9.0</td>\n",
       "      <td>Mission</td>\n",
       "      <td>(37.752429274045, -122.413238981762)</td>\n",
       "      <td>Open311</td>\n",
       "      <td>http://mobile311.sfgov.org/media/san_francisco/report/photos/58503a4a3da19793c74ce70f/photo_20161213_101307.jpg</td>\n",
       "    </tr>\n",
       "    <tr>\n",
       "      <th>99</th>\n",
       "      <td>6623399</td>\n",
       "      <td>2016-12-13 10:08:31</td>\n",
       "      <td>NaT</td>\n",
       "      <td>2016-12-13 11:14:18</td>\n",
       "      <td>Open</td>\n",
       "      <td>open</td>\n",
       "      <td>DPW Ops Queue</td>\n",
       "      <td>Tree Maintenance</td>\n",
       "      <td>Trees - Landscaping</td>\n",
       "      <td>Other</td>\n",
       "      <td>3122 24TH ST, SAN FRANCISCO, CA, 94110</td>\n",
       "      <td>9.0</td>\n",
       "      <td>Mission</td>\n",
       "      <td>(37.752585078288, -122.414595528776)</td>\n",
       "      <td>Open311</td>\n",
       "      <td>http://mobile311.sfgov.org/media/san_francisco/report/photos/585039153da19793c74ce668/photo_20161213_100807.jpg</td>\n",
       "    </tr>\n",
       "    <tr>\n",
       "      <th>100</th>\n",
       "      <td>6623312</td>\n",
       "      <td>2016-12-13 09:56:53</td>\n",
       "      <td>NaT</td>\n",
       "      <td>2016-12-13 09:56:53</td>\n",
       "      <td>Open</td>\n",
       "      <td>open</td>\n",
       "      <td>DPW Ops Queue</td>\n",
       "      <td>Tree Maintenance</td>\n",
       "      <td>Trees - Landscaping</td>\n",
       "      <td>Other</td>\n",
       "      <td>Intersection of 24TH ST and LILAC ST</td>\n",
       "      <td>9.0</td>\n",
       "      <td>Mission</td>\n",
       "      <td>(37.7522712511524, -122.417876793921)</td>\n",
       "      <td>Open311</td>\n",
       "      <td>http://mobile311.sfgov.org/media/san_francisco/report/photos/5850365b3da19793c74ce4f1/photo_20161213_095624.jpg</td>\n",
       "    </tr>\n",
       "    <tr>\n",
       "      <th>138</th>\n",
       "      <td>6616803</td>\n",
       "      <td>2016-12-11 12:47:16</td>\n",
       "      <td>NaT</td>\n",
       "      <td>2016-12-11 12:47:16</td>\n",
       "      <td>Open</td>\n",
       "      <td>accepted</td>\n",
       "      <td>DPW Ops Queue</td>\n",
       "      <td>Tree Maintenance</td>\n",
       "      <td>Trees - Landscaping</td>\n",
       "      <td>Other</td>\n",
       "      <td>2761 16TH ST, SAN FRANCISCO, CA, 94103</td>\n",
       "      <td>9.0</td>\n",
       "      <td>Mission</td>\n",
       "      <td>(37.765312317273, -122.414434026033)</td>\n",
       "      <td>Open311</td>\n",
       "      <td>http://mobile311.sfgov.org/media/san_francisco/report/photos/584dbb4d3da19793c74c9ae8/photo_20161211_124700.jpg</td>\n",
       "    </tr>\n",
       "    <tr>\n",
       "      <th>139</th>\n",
       "      <td>6616746</td>\n",
       "      <td>2016-12-11 12:33:55</td>\n",
       "      <td>NaT</td>\n",
       "      <td>2016-12-11 12:33:55</td>\n",
       "      <td>Open</td>\n",
       "      <td>accepted</td>\n",
       "      <td>DPW Ops Queue</td>\n",
       "      <td>Tree Maintenance</td>\n",
       "      <td>Trees - Tree_Other</td>\n",
       "      <td>Other</td>\n",
       "      <td>2921 16TH ST, SAN FRANCISCO, CA, 94103</td>\n",
       "      <td>9.0</td>\n",
       "      <td>Mission</td>\n",
       "      <td>(37.765044756777, -122.417953486681)</td>\n",
       "      <td>Open311</td>\n",
       "      <td>http://mobile311.sfgov.org/media/san_francisco/report/photos/584db8273da19793c74c99ce/photo_20161211_123334.jpg</td>\n",
       "    </tr>\n",
       "    <tr>\n",
       "      <th>140</th>\n",
       "      <td>6616736</td>\n",
       "      <td>2016-12-11 12:30:44</td>\n",
       "      <td>NaT</td>\n",
       "      <td>2016-12-11 12:30:45</td>\n",
       "      <td>Open</td>\n",
       "      <td>accepted</td>\n",
       "      <td>DPW Ops Queue</td>\n",
       "      <td>Tree Maintenance</td>\n",
       "      <td>Trees - Damaged_Tree</td>\n",
       "      <td>Damaged_vandalism</td>\n",
       "      <td>Intersection of 16TH ST and MISSION ST</td>\n",
       "      <td>9.0</td>\n",
       "      <td>Mission</td>\n",
       "      <td>(37.7650512510466, -122.419669041689)</td>\n",
       "      <td>Open311</td>\n",
       "      <td>http://mobile311.sfgov.org/media/san_francisco/report/photos/584db76b3da19793c74c99b0/photo_20161211_123023.jpg</td>\n",
       "    </tr>\n",
       "    <tr>\n",
       "      <th>174</th>\n",
       "      <td>6611709</td>\n",
       "      <td>2016-12-09 12:32:34</td>\n",
       "      <td>2016-12-17 12:15:50</td>\n",
       "      <td>2016-12-17 12:15:50</td>\n",
       "      <td>Closed</td>\n",
       "      <td>Case Resolved -</td>\n",
       "      <td>DPW Ops Queue</td>\n",
       "      <td>Tree Maintenance</td>\n",
       "      <td>Trees - Damaged_Tree</td>\n",
       "      <td>Damaged_vandalism</td>\n",
       "      <td>Intersection of 15TH ST and ALABAMA ST</td>\n",
       "      <td>9.0</td>\n",
       "      <td>Mission</td>\n",
       "      <td>(37.7667702763273, -122.412537857022)</td>\n",
       "      <td>Open311</td>\n",
       "      <td>http://mobile311.sfgov.org/media/san_francisco/report/photos/584b14d13da19793c74c6764/photo_20161209_123220.jpg</td>\n",
       "    </tr>\n",
       "    <tr>\n",
       "      <th>184</th>\n",
       "      <td>6610357</td>\n",
       "      <td>2016-12-09 08:11:05</td>\n",
       "      <td>2016-12-13 01:15:12</td>\n",
       "      <td>2016-12-13 01:15:12</td>\n",
       "      <td>Closed</td>\n",
       "      <td>Case Resolved - done cmp 1098</td>\n",
       "      <td>DPW Ops Queue</td>\n",
       "      <td>Tree Maintenance</td>\n",
       "      <td>Trees - Damaged_Tree</td>\n",
       "      <td>Fallen_tree</td>\n",
       "      <td>Intersection of 24TH ST and BRYANT ST</td>\n",
       "      <td>9.0</td>\n",
       "      <td>Mission</td>\n",
       "      <td>(37.7527956454801, -122.40912982931)</td>\n",
       "      <td>Voice In</td>\n",
       "      <td>NaN</td>\n",
       "    </tr>\n",
       "    <tr>\n",
       "      <th>185</th>\n",
       "      <td>6610240</td>\n",
       "      <td>2016-12-09 07:01:23</td>\n",
       "      <td>2016-12-09 12:40:11</td>\n",
       "      <td>2016-12-09 12:40:11</td>\n",
       "      <td>Closed</td>\n",
       "      <td>Case Resolved -</td>\n",
       "      <td>DPW Ops Queue</td>\n",
       "      <td>Tree Maintenance</td>\n",
       "      <td>Trees - Damaged_Tree</td>\n",
       "      <td>Hanging_limb</td>\n",
       "      <td>2850 24TH ST, SAN FRANCISCO, CA, 94110</td>\n",
       "      <td>9.0</td>\n",
       "      <td>Mission</td>\n",
       "      <td>(37.752912838924, -122.409377271758)</td>\n",
       "      <td>Voice In</td>\n",
       "      <td>NaN</td>\n",
       "    </tr>\n",
       "  </tbody>\n",
       "</table>\n",
       "</div>"
      ],
      "text/plain": [
       "      CaseID              Opened              Closed             Updated  \\\n",
       "7    6637390 2016-12-17 11:13:30                 NaT 2016-12-17 11:13:30   \n",
       "35   6634241 2016-12-16 10:07:05                 NaT 2016-12-16 10:25:06   \n",
       "38   6634193 2016-12-16 09:57:11                 NaT 2016-12-16 09:59:42   \n",
       "42   6633652 2016-12-16 07:58:51                 NaT 2016-12-16 09:25:58   \n",
       "96   6623542 2016-12-13 10:29:01                 NaT 2016-12-13 10:29:01   \n",
       "97   6623459 2016-12-13 10:16:29                 NaT 2016-12-13 11:27:24   \n",
       "98   6623438 2016-12-13 10:13:44                 NaT 2016-12-13 11:27:19   \n",
       "99   6623399 2016-12-13 10:08:31                 NaT 2016-12-13 11:14:18   \n",
       "100  6623312 2016-12-13 09:56:53                 NaT 2016-12-13 09:56:53   \n",
       "138  6616803 2016-12-11 12:47:16                 NaT 2016-12-11 12:47:16   \n",
       "139  6616746 2016-12-11 12:33:55                 NaT 2016-12-11 12:33:55   \n",
       "140  6616736 2016-12-11 12:30:44                 NaT 2016-12-11 12:30:45   \n",
       "174  6611709 2016-12-09 12:32:34 2016-12-17 12:15:50 2016-12-17 12:15:50   \n",
       "184  6610357 2016-12-09 08:11:05 2016-12-13 01:15:12 2016-12-13 01:15:12   \n",
       "185  6610240 2016-12-09 07:01:23 2016-12-09 12:40:11 2016-12-09 12:40:11   \n",
       "\n",
       "     Status                   Status Notes Responsible Agency  \\\n",
       "7      Open                       accepted      DPW Ops Queue   \n",
       "35     Open                           open      DPW BUF Queue   \n",
       "38     Open                       accepted      DPW Ops Queue   \n",
       "42     Open                       accepted      DPW Ops Queue   \n",
       "96     Open                           open      DPW Ops Queue   \n",
       "97     Open                       accepted      DPW Ops Queue   \n",
       "98     Open                       accepted      DPW Ops Queue   \n",
       "99     Open                           open      DPW Ops Queue   \n",
       "100    Open                           open      DPW Ops Queue   \n",
       "138    Open                       accepted      DPW Ops Queue   \n",
       "139    Open                       accepted      DPW Ops Queue   \n",
       "140    Open                       accepted      DPW Ops Queue   \n",
       "174  Closed                Case Resolved -      DPW Ops Queue   \n",
       "184  Closed  Case Resolved - done cmp 1098      DPW Ops Queue   \n",
       "185  Closed                Case Resolved -      DPW Ops Queue   \n",
       "\n",
       "             Category          Request Type                Request Details  \\\n",
       "7    Tree Maintenance  Trees - Damaged_Tree              Damaged_vandalism   \n",
       "35   Tree Maintenance   Trees - Landscaping  Shrubbery_blocking_visibility   \n",
       "38   Tree Maintenance  Trees - Damaged_Tree                  About_to_fall   \n",
       "42   Tree Maintenance  Trees - Damaged_Tree                   Hanging_limb   \n",
       "96   Tree Maintenance   Trees - Landscaping                          Other   \n",
       "97   Tree Maintenance   Trees - Landscaping                          Other   \n",
       "98   Tree Maintenance   Trees - Landscaping                          Other   \n",
       "99   Tree Maintenance   Trees - Landscaping                          Other   \n",
       "100  Tree Maintenance   Trees - Landscaping                          Other   \n",
       "138  Tree Maintenance   Trees - Landscaping                          Other   \n",
       "139  Tree Maintenance    Trees - Tree_Other                          Other   \n",
       "140  Tree Maintenance  Trees - Damaged_Tree              Damaged_vandalism   \n",
       "174  Tree Maintenance  Trees - Damaged_Tree              Damaged_vandalism   \n",
       "184  Tree Maintenance  Trees - Damaged_Tree                    Fallen_tree   \n",
       "185  Tree Maintenance  Trees - Damaged_Tree                   Hanging_limb   \n",
       "\n",
       "                                       Address  Supervisor District  \\\n",
       "7    8 SAN CARLOS ST, SAN FRANCISCO, CA, 94110                  9.0   \n",
       "35       Intersection of HORACE ST and 25TH ST                  9.0   \n",
       "38    2966 FOLSOM ST, SAN FRANCISCO, CA, 94110                  9.0   \n",
       "42    2239 BRYANT ST, SAN FRANCISCO, CA, 94110                  9.0   \n",
       "96         Intersection of 18TH ST and CAPP ST                  9.0   \n",
       "97    1096 TREAT AVE, SAN FRANCISCO, CA, 94110                  9.0   \n",
       "98      3049 24TH ST, SAN FRANCISCO, CA, 94110                  9.0   \n",
       "99      3122 24TH ST, SAN FRANCISCO, CA, 94110                  9.0   \n",
       "100       Intersection of 24TH ST and LILAC ST                  9.0   \n",
       "138     2761 16TH ST, SAN FRANCISCO, CA, 94103                  9.0   \n",
       "139     2921 16TH ST, SAN FRANCISCO, CA, 94103                  9.0   \n",
       "140     Intersection of 16TH ST and MISSION ST                  9.0   \n",
       "174     Intersection of 15TH ST and ALABAMA ST                  9.0   \n",
       "184      Intersection of 24TH ST and BRYANT ST                  9.0   \n",
       "185     2850 24TH ST, SAN FRANCISCO, CA, 94110                  9.0   \n",
       "\n",
       "    Neighborhood                                  Point    Source  \\\n",
       "7        Mission   (37.762499324207, -122.420323239761)   Open311   \n",
       "35       Mission  (37.7508685263238, -122.414490007799)  Voice In   \n",
       "38       Mission   (37.749879180352, -122.414029710012)  Voice In   \n",
       "42       Mission   (37.758581559367, -122.409532732667)  Voice In   \n",
       "96       Mission  (37.7619015858826, -122.418271439265)   Open311   \n",
       "97       Mission   (37.752647054459, -122.413071338511)   Open311   \n",
       "98       Mission   (37.752429274045, -122.413238981762)   Open311   \n",
       "99       Mission   (37.752585078288, -122.414595528776)   Open311   \n",
       "100      Mission  (37.7522712511524, -122.417876793921)   Open311   \n",
       "138      Mission   (37.765312317273, -122.414434026033)   Open311   \n",
       "139      Mission   (37.765044756777, -122.417953486681)   Open311   \n",
       "140      Mission  (37.7650512510466, -122.419669041689)   Open311   \n",
       "174      Mission  (37.7667702763273, -122.412537857022)   Open311   \n",
       "184      Mission   (37.7527956454801, -122.40912982931)  Voice In   \n",
       "185      Mission   (37.752912838924, -122.409377271758)  Voice In   \n",
       "\n",
       "                                                                                                           Media URL  \n",
       "7    http://mobile311.sfgov.org/media/san_francisco/report/photos/58558e553da153f1b6e7e9d0/photo_20161217_111253.jpg  \n",
       "35                                                                                                               NaN  \n",
       "38                                                                                                               NaN  \n",
       "42                                                                                                               NaN  \n",
       "96   http://mobile311.sfgov.org/media/san_francisco/report/photos/58503de33da19793c74ce8ac/photo_20161213_102836.jpg  \n",
       "97   http://mobile311.sfgov.org/media/san_francisco/report/photos/58503af23da19793c74ce775/photo_20161213_101613.jpg  \n",
       "98   http://mobile311.sfgov.org/media/san_francisco/report/photos/58503a4a3da19793c74ce70f/photo_20161213_101307.jpg  \n",
       "99   http://mobile311.sfgov.org/media/san_francisco/report/photos/585039153da19793c74ce668/photo_20161213_100807.jpg  \n",
       "100  http://mobile311.sfgov.org/media/san_francisco/report/photos/5850365b3da19793c74ce4f1/photo_20161213_095624.jpg  \n",
       "138  http://mobile311.sfgov.org/media/san_francisco/report/photos/584dbb4d3da19793c74c9ae8/photo_20161211_124700.jpg  \n",
       "139  http://mobile311.sfgov.org/media/san_francisco/report/photos/584db8273da19793c74c99ce/photo_20161211_123334.jpg  \n",
       "140  http://mobile311.sfgov.org/media/san_francisco/report/photos/584db76b3da19793c74c99b0/photo_20161211_123023.jpg  \n",
       "174  http://mobile311.sfgov.org/media/san_francisco/report/photos/584b14d13da19793c74c6764/photo_20161209_123220.jpg  \n",
       "184                                                                                                              NaN  \n",
       "185                                                                                                              NaN  "
      ]
     },
     "execution_count": 27,
     "metadata": {},
     "output_type": "execute_result"
    }
   ],
   "source": [
    "df[df.Neighborhood == 'Mission']"
   ]
  },
  {
   "cell_type": "markdown",
   "metadata": {},
   "source": [
    "\n",
    "### Get rid of NaN entries and display images\n",
    "\n",
    "Need Help  https://youtu.be/2AFGPdNn4FM?t=8m"
   ]
  },
  {
   "cell_type": "code",
   "execution_count": 28,
   "metadata": {
    "collapsed": true
   },
   "outputs": [],
   "source": [
    "#hl_images = df[df['Media URL'].notnull() ]['Media URL']\n",
    "\n"
   ]
  },
  {
   "cell_type": "code",
   "execution_count": null,
   "metadata": {
    "collapsed": true
   },
   "outputs": [],
   "source": []
  },
  {
   "cell_type": "markdown",
   "metadata": {},
   "source": [
    "## limit the data frame to just one neighborhood or just one supervisor district"
   ]
  },
  {
   "cell_type": "code",
   "execution_count": 40,
   "metadata": {
    "collapsed": false
   },
   "outputs": [
    {
     "name": "stdout",
     "output_type": "stream",
     "text": [
      "0     NaN\n",
      "1     NaN\n",
      "2     NaN\n",
      "3     NaN\n",
      "4     NaN\n",
      "5     NaN\n",
      "6     NaN\n",
      "7     NaN\n",
      "8     NaN\n",
      "9     NaN\n",
      "10    NaN\n",
      "11    NaN\n",
      "12    NaN\n",
      "13    NaN\n",
      "14    NaN\n",
      "15    NaN\n",
      "Name: Media URL, dtype: object\n"
     ]
    }
   ],
   "source": [
    "\n",
    "peskin = df[df['Supervisor District']==3]['Media URL']\n",
    "peskin = peskin.reset_index(drop=True)\n",
    "print(peskin[:])\n"
   ]
  },
  {
   "cell_type": "code",
   "execution_count": 41,
   "metadata": {
    "collapsed": false
   },
   "outputs": [
    {
     "name": "stdout",
     "output_type": "stream",
     "text": [
      "0     NaN\n",
      "1     NaN\n",
      "2     NaN\n",
      "3     NaN\n",
      "4     NaN\n",
      "5     NaN\n",
      "6     NaN\n",
      "7     NaN\n",
      "8     NaN\n",
      "9     NaN\n",
      "10    NaN\n",
      "11    NaN\n",
      "12    NaN\n",
      "13    NaN\n",
      "14    NaN\n",
      "15    NaN\n",
      "Name: Media URL, dtype: object\n"
     ]
    }
   ],
   "source": [
    "print(peskin[:])"
   ]
  },
  {
   "cell_type": "markdown",
   "metadata": {
    "collapsed": true
   },
   "source": [
    "# The whole City"
   ]
  },
  {
   "cell_type": "code",
   "execution_count": 42,
   "metadata": {
    "collapsed": false
   },
   "outputs": [
    {
     "name": "stdout",
     "output_type": "stream",
     "text": [
      "0                    http://mobile311.sfgov.org/media/san_francisco/report/photos/5855d3c53da153f1b6e7f281/report.jpg\n",
      "1                    http://mobile311.sfgov.org/media/san_francisco/report/photos/585592303da153f1b6e7ea62/report.jpg\n",
      "2     http://mobile311.sfgov.org/media/san_francisco/report/photos/58558e553da153f1b6e7e9d0/photo_20161217_111253.jpg\n",
      "3     http://mobile311.sfgov.org/media/san_francisco/report/photos/585581f63da153f1b6e7e79b/photo_20161217_102015.jpg\n",
      "4                    http://mobile311.sfgov.org/media/san_francisco/report/photos/585574fc3da153f1b6e7e5d6/report.jpg\n",
      "5             http://mobile311.sfgov.org/media/san_francisco/report/photos/585574453da153f1b6e7e59f/1481995257453.jpg\n",
      "6                    http://mobile311.sfgov.org/media/san_francisco/report/photos/58548a0a3da153f1b6e7de06/report.jpg\n",
      "7                    http://mobile311.sfgov.org/media/san_francisco/report/photos/5854525f3da153f1b6e7d80f/report.jpg\n",
      "8                    http://mobile311.sfgov.org/media/san_francisco/report/photos/58543aaa3da153f1b6e7d5e6/report.jpg\n",
      "9                    http://mobile311.sfgov.org/media/san_francisco/report/photos/58542c663da153f1b6e7d35f/report.jpg\n",
      "10      http://mobile311.sfgov.org/media/san_francisco/report/photos/585386043da153f1b6e7c8c5/IMG_20161215_212625.jpg\n",
      "11                   http://mobile311.sfgov.org/media/san_francisco/report/photos/585320ae3da153f1b6e7c2dc/report.jpg\n",
      "12             http://mobile311.sfgov.org/media/san_francisco/report/photos/5852db2c3da153f1b6e7ba7a/Chris_branch.jpg\n",
      "13    http://mobile311.sfgov.org/media/san_francisco/report/photos/5851e2833da19793c74d25e7/photo_20161214_162305.jpg\n",
      "14    http://mobile311.sfgov.org/media/san_francisco/report/photos/5851934c3da19793c74d144f/photo_20161214_104501.jpg\n",
      "15                   http://mobile311.sfgov.org/media/san_francisco/report/photos/585189773da19793c74d11fa/report.jpg\n",
      "16    http://mobile311.sfgov.org/media/san_francisco/report/photos/5851768a3da19793c74d0b92/photo_20161214_084201.jpg\n",
      "17    http://mobile311.sfgov.org/media/san_francisco/report/photos/5850ad953da19793c74d022a/photo_20161213_182252.jpg\n",
      "18                 http://mobile311.sfgov.org/media/san_francisco/report/photos/58508cf93da19793c74cfe04/IMG_1798.JPG\n",
      "19    http://mobile311.sfgov.org/media/san_francisco/report/photos/5850488f3da19793c74ced9c/photo_20161213_111357.jpg\n",
      "20    http://mobile311.sfgov.org/media/san_francisco/report/photos/58503de33da19793c74ce8ac/photo_20161213_102836.jpg\n",
      "21    http://mobile311.sfgov.org/media/san_francisco/report/photos/58503af23da19793c74ce775/photo_20161213_101613.jpg\n",
      "22    http://mobile311.sfgov.org/media/san_francisco/report/photos/58503a4a3da19793c74ce70f/photo_20161213_101307.jpg\n",
      "23    http://mobile311.sfgov.org/media/san_francisco/report/photos/585039153da19793c74ce668/photo_20161213_100807.jpg\n",
      "24    http://mobile311.sfgov.org/media/san_francisco/report/photos/5850365b3da19793c74ce4f1/photo_20161213_095624.jpg\n",
      "25                   http://mobile311.sfgov.org/media/san_francisco/report/photos/585026763da19793c74cdf00/report.jpg\n",
      "26                   http://mobile311.sfgov.org/media/san_francisco/report/photos/584f30323da19793c74cc81d/report.jpg\n",
      "27                   http://mobile311.sfgov.org/media/san_francisco/report/photos/584f077d3da19793c74cbff1/report.jpg\n",
      "28    http://mobile311.sfgov.org/media/san_francisco/report/photos/584f07793da19793c74cbfe5/photo_20161212_122356.jpg\n",
      "29                   http://mobile311.sfgov.org/media/san_francisco/report/photos/584f073c3da19793c74cbfc0/report.jpg\n",
      "                                                           ...                                                       \n",
      "32    http://mobile311.sfgov.org/media/san_francisco/report/photos/584f02483da19793c74cbd64/photo_20161212_120127.jpg\n",
      "33    http://mobile311.sfgov.org/media/san_francisco/report/photos/584f01783da19793c74cbd28/photo_20161212_115739.jpg\n",
      "34    http://mobile311.sfgov.org/media/san_francisco/report/photos/584f00a03da19793c74cbcdc/photo_20161212_115336.jpg\n",
      "35                   http://mobile311.sfgov.org/media/san_francisco/report/photos/584eff043da19793c74cbc13/report.jpg\n",
      "36    http://mobile311.sfgov.org/media/san_francisco/report/photos/584efe423da19793c74cbb7a/photo_20161212_114504.jpg\n",
      "37                   http://mobile311.sfgov.org/media/san_francisco/report/photos/584efd5d3da19793c74cbad8/report.jpg\n",
      "38                   http://mobile311.sfgov.org/media/san_francisco/report/photos/584efad13da19793c74cb93e/report.jpg\n",
      "39    http://mobile311.sfgov.org/media/san_francisco/report/photos/584ef9fb3da19793c74cb8c1/photo_20161212_112557.jpg\n",
      "40    http://mobile311.sfgov.org/media/san_francisco/report/photos/584ef8ce3da19793c74cb86f/photo_20161212_112054.jpg\n",
      "41    http://mobile311.sfgov.org/media/san_francisco/report/photos/584ef73f3da19793c74cb7e7/photo_20161212_111457.jpg\n",
      "42    http://mobile311.sfgov.org/media/san_francisco/report/photos/584ef6313da19793c74cb7b4/photo_20161212_110948.jpg\n",
      "43                   http://mobile311.sfgov.org/media/san_francisco/report/photos/584ef0843da19793c74cb5f4/report.jpg\n",
      "44                   http://mobile311.sfgov.org/media/san_francisco/report/photos/584eefcb3da19793c74cb5c2/report.jpg\n",
      "45    http://mobile311.sfgov.org/media/san_francisco/report/photos/584eeea83da19793c74cb57b/photo_20161212_103626.jpg\n",
      "46    http://mobile311.sfgov.org/media/san_francisco/report/photos/584eed593da19793c74cb4d3/photo_20161212_103153.jpg\n",
      "47    http://mobile311.sfgov.org/media/san_francisco/report/photos/584ebab93da19793c74ca84b/photo_20161212_065636.jpg\n",
      "48                   http://mobile311.sfgov.org/media/san_francisco/report/photos/584e19383da19793c74ca2f0/report.jpg\n",
      "49                   http://mobile311.sfgov.org/media/san_francisco/report/photos/584dc5583da19793c74c9cfc/report.jpg\n",
      "50    http://mobile311.sfgov.org/media/san_francisco/report/photos/584dbb4d3da19793c74c9ae8/photo_20161211_124700.jpg\n",
      "51    http://mobile311.sfgov.org/media/san_francisco/report/photos/584db8273da19793c74c99ce/photo_20161211_123334.jpg\n",
      "52    http://mobile311.sfgov.org/media/san_francisco/report/photos/584db76b3da19793c74c99b0/photo_20161211_123023.jpg\n",
      "53                   http://mobile311.sfgov.org/media/san_francisco/report/photos/584cb8ef3da19793c74c8b6c/report.jpg\n",
      "54                 http://mobile311.sfgov.org/media/san_francisco/report/photos/584ca7ed3da19793c74c870c/IMG_9538.JPG\n",
      "55                   http://mobile311.sfgov.org/media/san_francisco/report/photos/584c6a393da19793c74c812f/report.jpg\n",
      "56                   http://mobile311.sfgov.org/media/san_francisco/report/photos/584af40f3da19793c74c61f0/report.jpg\n",
      "57                                                                                  http://pic.twitter.com/uTAgnByAiP\n",
      "58                   http://mobile311.sfgov.org/media/san_francisco/report/photos/584b2f2a3da19793c74c6b98/report.jpg\n",
      "59    http://mobile311.sfgov.org/media/san_francisco/report/photos/584b14d13da19793c74c6764/photo_20161209_123220.jpg\n",
      "60    http://mobile311.sfgov.org/media/san_francisco/report/photos/584ae8033da19793c74c5d6e/photo_20161209_092108.jpg\n",
      "61                   http://mobile311.sfgov.org/media/san_francisco/report/photos/584ae6ce3da19793c74c5cab/report.jpg\n",
      "Name: Media URL, dtype: object\n"
     ]
    }
   ],
   "source": [
    "\n",
    "images = df[df['Media URL'].notnull() ]['Media URL']\n",
    "images = images.reset_index(drop=True)\n",
    "print(images[:])\n"
   ]
  },
  {
   "cell_type": "code",
   "execution_count": 32,
   "metadata": {
    "collapsed": false
   },
   "outputs": [
    {
     "data": {
      "text/plain": [
       "62"
      ]
     },
     "execution_count": 32,
     "metadata": {},
     "output_type": "execute_result"
    }
   ],
   "source": [
    "len(images)"
   ]
  },
  {
   "cell_type": "code",
   "execution_count": 33,
   "metadata": {
    "collapsed": false
   },
   "outputs": [
    {
     "data": {
      "text/plain": [
       "'http://mobile311.sfgov.org/media/san_francisco/report/photos/5855d3c53da153f1b6e7f281/report.jpg'"
      ]
     },
     "execution_count": 33,
     "metadata": {},
     "output_type": "execute_result"
    }
   ],
   "source": [
    "images[0]"
   ]
  },
  {
   "cell_type": "code",
   "execution_count": 34,
   "metadata": {
    "collapsed": false,
    "scrolled": false
   },
   "outputs": [
    {
     "name": "stdout",
     "output_type": "stream",
     "text": [
      "http://mobile311.sfgov.org/media/san_francisco/report/photos/58503de33da19793c74ce8ac/photo_20161213_102836.jpg\n"
     ]
    },
    {
     "data": {
      "image/jpeg": "[encoded data removed]",
      "text/plain": [
       "<IPython.core.display.Image object>"
      ]
     },
     "execution_count": 34,
     "metadata": {},
     "output_type": "execute_result"
    }
   ],
   "source": [
    "print(images[20])\n",
    "Image(images[20])\n"
   ]
  },
  {
   "cell_type": "code",
   "execution_count": 35,
   "metadata": {
    "collapsed": false
   },
   "outputs": [
    {
     "name": "stdout",
     "output_type": "stream",
     "text": [
      "/home/gdillon/JupyterPractice/trees_SF311/ipynb\r\n"
     ]
    }
   ],
   "source": [
    "!pwd"
   ]
  },
  {
   "cell_type": "code",
   "execution_count": 43,
   "metadata": {
    "collapsed": false
   },
   "outputs": [],
   "source": [
    "images[:1000].to_csv(\"./imagelist.txt\", index=False)"
   ]
  },
  {
   "cell_type": "code",
   "execution_count": 44,
   "metadata": {
    "collapsed": false
   },
   "outputs": [
    {
     "name": "stdout",
     "output_type": "stream",
     "text": [
      "bash: ./ipynb/vidCreate.sh: No such file or directory\r\n",
      "yes: standard output: Broken pipe\r\n"
     ]
    }
   ],
   "source": [
    "!yes| bash ./ipynb/vidCreate.sh"
   ]
  },
  {
   "cell_type": "code",
   "execution_count": 28,
   "metadata": {
    "collapsed": false
   },
   "outputs": [
    {
     "data": {
      "text/plain": [
       "'\\nHad problems with this code, running standalone\\n\\n%cd assets/\\n!wget -i ../imagelist.txt\\n\\n!sleep 30\\n#%ls | gawk \\'BEGIN{ a=1 }{ printf \"mv \"%s\" %04d.jpg\\n\", $0, a++ }\\' | bash\\n#!sleep 10\\n#!convert -delay 50 *.jpg out.mp4\\n%cd ..\\n'"
      ]
     },
     "execution_count": 28,
     "metadata": {},
     "output_type": "execute_result"
    }
   ],
   "source": [
    "'''\n",
    "Had problems with this code, running standalone\n",
    "\n",
    "%cd assets/\n",
    "!wget -i ../imagelist.txt\n",
    "\n",
    "!sleep 30\n",
    "#%ls | gawk 'BEGIN{ a=1 }{ printf \"mv \\\"%s\\\" %04d.jpg\\n\", $0, a++ }' | bash\n",
    "#!sleep 10\n",
    "#!convert -delay 50 *.jpg out.mp4\n",
    "%cd ..\n",
    "'''"
   ]
  },
  {
   "cell_type": "code",
   "execution_count": 29,
   "metadata": {
    "collapsed": false,
    "scrolled": true
   },
   "outputs": [],
   "source": [
    "#!convert -delay 50 *.jpg out.mp4\n"
   ]
  },
  {
   "cell_type": "code",
   "execution_count": 54,
   "metadata": {
    "collapsed": false
   },
   "outputs": [
    {
     "name": "stdout",
     "output_type": "stream",
     "text": [
      "total 15904\r\n",
      "drwxrwxr-x 5 gdillon gdillon     4096 Dec 13 14:24 .\r\n",
      "drwxrwxr-x 8 gdillon gdillon     4096 Dec 13 10:41 ..\r\n",
      "drwxrwxr-x 2 gdillon gdillon     4096 Dec 12 20:08 .ipynb_checkpoints\r\n",
      "-rw-rw-r-- 1 gdillon gdillon    19266 Dec 12 21:21 ImportTablefromWikipedia.ipynb\r\n",
      "-rw-rw-r-- 1 gdillon gdillon    98418 Dec 12 19:54 SF311 Annual .ipynb\r\n",
      "-rw-rw-r-- 1 gdillon gdillon   276804 Dec 13 13:48 San+Fran +Graffiti pull one day.ipynb\r\n",
      "-rw-rw-r-- 1 gdillon gdillon   562269 Dec  9 10:22 San+Francisco+Graffiti with Video.ipynb\r\n",
      "drwxrwxr-x 2 gdillon gdillon    36864 Dec 10 22:21 assets\r\n",
      "-rw-rw-r-- 1 gdillon gdillon     3712 Dec 13 14:23 imagelist.txt\r\n",
      "drwxrwxr-x 2 gdillon gdillon    12288 Dec 13 14:23 input\r\n",
      "-rw-rw-r-- 1 gdillon gdillon      168 Dec  9 16:49 pipevid.sh\r\n",
      "-rw-rw-r-- 1 gdillon gdillon   430884 Dec 13 14:24 sfOneDay.ipynb\r\n",
      "-rw-rw-r-- 1 gdillon gdillon      223 Dec 11 00:00 vidCreate.sh\r\n",
      "-rw-rw-r-- 1 gdillon gdillon 14110852 Dec 13 14:23 video.gif\r\n",
      "-rw-rw-r-- 1 gdillon gdillon   693865 Dec 10 23:57 video.webm\r\n"
     ]
    }
   ],
   "source": [
    "!ls -la\n"
   ]
  },
  {
   "cell_type": "code",
   "execution_count": 31,
   "metadata": {
    "collapsed": false
   },
   "outputs": [
    {
     "data": {
      "image/png": "report2.jpg",
      "text/plain": [
       "<IPython.core.display.Image object>"
      ]
     },
     "execution_count": 31,
     "metadata": {},
     "output_type": "execute_result"
    }
   ],
   "source": [
    "Image('report2.jpg')"
   ]
  },
  {
   "cell_type": "code",
   "execution_count": null,
   "metadata": {
    "collapsed": true
   },
   "outputs": [],
   "source": []
  },
  {
   "cell_type": "code",
   "execution_count": null,
   "metadata": {
    "collapsed": true
   },
   "outputs": [],
   "source": []
  },
  {
   "cell_type": "code",
   "execution_count": null,
   "metadata": {
    "collapsed": true
   },
   "outputs": [],
   "source": []
  },
  {
   "cell_type": "code",
   "execution_count": null,
   "metadata": {
    "collapsed": true
   },
   "outputs": [],
   "source": []
  },
  {
   "cell_type": "code",
   "execution_count": null,
   "metadata": {
    "collapsed": true
   },
   "outputs": [],
   "source": []
  }
 ],
 "metadata": {
  "kernelspec": {
   "display_name": "Python 3",
   "language": "python",
   "name": "python3"
  },
  "language_info": {
   "codemirror_mode": {
    "name": "ipython",
    "version": 3
   },
   "file_extension": ".py",
   "mimetype": "text/x-python",
   "name": "python",
   "nbconvert_exporter": "python",
   "pygments_lexer": "ipython3",
   "version": "3.5.2"
  }
 },
 "nbformat": 4,
 "nbformat_minor": 1
}
