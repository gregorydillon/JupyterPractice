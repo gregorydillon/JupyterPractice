{
 "cells": [
  {
   "cell_type": "markdown",
   "metadata": {},
   "source": [
    "Question to answer, geographically, how do the locations of encampments compare to the reports for behavior"
   ]
  },
  {
   "cell_type": "markdown",
   "metadata": {
    "collapsed": true
   },
   "source": [
    "The source of the information is from the San Francisco Open Data Portal\n",
    "On that portal, I've created a dataset of Encampments\n",
    "https://data.sfgov.org/profile/Gregory/xm4t-k5h4?q=encampment&sortBy=relevance&utf8=%E2%9C%93\n"
   ]
  },
  {
   "cell_type": "markdown",
   "metadata": {},
   "source": [
    "# San Francisco Poop\n"
   ]
  },
  {
   "cell_type": "markdown",
   "metadata": {},
   "source": [
    "\n",
    "Import Libraries & get url\n"
   ]
  },
  {
   "cell_type": "code",
   "execution_count": 1,
   "metadata": {
    "collapsed": true
   },
   "outputs": [],
   "source": [
    "url = 'https://data.sfgov.org/resource/knuv-efkr.csv'"
   ]
  },
  {
   "cell_type": "code",
   "execution_count": 2,
   "metadata": {
    "collapsed": false
   },
   "outputs": [],
   "source": [
    "import numpy as np\n",
    "import pandas as pd\n",
    "import matplotlib.pyplot as plt\n",
    "\n",
    "%matplotlib inline\n",
    "\n",
    "\n"
   ]
  },
  {
   "cell_type": "markdown",
   "metadata": {},
   "source": [
    "## Set Display Column with wider so no problem with Media URL series"
   ]
  },
  {
   "cell_type": "code",
   "execution_count": 3,
   "metadata": {
    "collapsed": false
   },
   "outputs": [],
   "source": [
    "pd.options.display.max_colwidth=115"
   ]
  },
  {
   "cell_type": "markdown",
   "metadata": {},
   "source": [
    "## Setup to display images - working, work to do"
   ]
  },
  {
   "cell_type": "code",
   "execution_count": 4,
   "metadata": {
    "collapsed": false
   },
   "outputs": [],
   "source": [
    "#from IPython.display import Image\n",
    "#from IPython.core.display import HTML \n",
    "#from IPython.core.display import Image, display\n",
    "\n"
   ]
  },
  {
   "cell_type": "code",
   "execution_count": 22,
   "metadata": {
    "collapsed": true
   },
   "outputs": [],
   "source": [
    "from PIL import Image"
   ]
  },
  {
   "cell_type": "code",
   "execution_count": null,
   "metadata": {
    "collapsed": true
   },
   "outputs": [],
   "source": [
    "Image.Image"
   ]
  },
  {
   "cell_type": "markdown",
   "metadata": {},
   "source": [
    "### get url"
   ]
  },
  {
   "cell_type": "code",
   "execution_count": 6,
   "metadata": {
    "collapsed": false
   },
   "outputs": [],
   "source": [
    "df = pd.read_csv(url)\n"
   ]
  },
  {
   "cell_type": "code",
   "execution_count": 7,
   "metadata": {
    "collapsed": false
   },
   "outputs": [
    {
     "data": {
      "text/html": [
       "<div>\n",
       "<table border=\"1\" class=\"dataframe\">\n",
       "  <thead>\n",
       "    <tr style=\"text-align: right;\">\n",
       "      <th></th>\n",
       "      <th>CaseID</th>\n",
       "      <th>Opened</th>\n",
       "      <th>Closed</th>\n",
       "      <th>Updated</th>\n",
       "      <th>Status</th>\n",
       "      <th>Status Notes</th>\n",
       "      <th>Responsible Agency</th>\n",
       "      <th>Category</th>\n",
       "      <th>Request Type</th>\n",
       "      <th>Request Details</th>\n",
       "      <th>Address</th>\n",
       "      <th>Supervisor District</th>\n",
       "      <th>Neighborhood</th>\n",
       "      <th>Point</th>\n",
       "      <th>Source</th>\n",
       "      <th>Media URL</th>\n",
       "    </tr>\n",
       "  </thead>\n",
       "  <tbody>\n",
       "    <tr>\n",
       "      <th>0</th>\n",
       "      <td>6606706</td>\n",
       "      <td>12/07/2016 11:36:19 PM</td>\n",
       "      <td>NaN</td>\n",
       "      <td>12/07/2016 11:36:19 PM</td>\n",
       "      <td>Open</td>\n",
       "      <td>accepted</td>\n",
       "      <td>DPW Ops Queue</td>\n",
       "      <td>Street and Sidewalk Cleaning</td>\n",
       "      <td>Hazardous Materials</td>\n",
       "      <td>Human Waste</td>\n",
       "      <td>Intersection of DUBOCE AVE and NOE ST</td>\n",
       "      <td>8.0</td>\n",
       "      <td>Duboce Triangle</td>\n",
       "      <td>(37.7691784266852, -122.433572372998)</td>\n",
       "      <td>Open311</td>\n",
       "      <td>http://mobile311.sfgov.org/media/san_francisco/report/photos/58490d663da19793c74c3854/report.jpg</td>\n",
       "    </tr>\n",
       "    <tr>\n",
       "      <th>1</th>\n",
       "      <td>6606662</td>\n",
       "      <td>12/07/2016 10:42:38 PM</td>\n",
       "      <td>NaN</td>\n",
       "      <td>12/07/2016 10:42:38 PM</td>\n",
       "      <td>Open</td>\n",
       "      <td>open</td>\n",
       "      <td>DPW Ops Queue</td>\n",
       "      <td>Street and Sidewalk Cleaning</td>\n",
       "      <td>Hazardous Materials</td>\n",
       "      <td>Human Waste</td>\n",
       "      <td>250 CLARA ST, SAN FRANCISCO, CA, 94107</td>\n",
       "      <td>6.0</td>\n",
       "      <td>South of Market</td>\n",
       "      <td>(37.778699872824, -122.403449455704)</td>\n",
       "      <td>Open311</td>\n",
       "      <td>http://mobile311.sfgov.org/media/san_francisco/report/photos/584900d33da19793c74c3831/photo_20161207_223513.jpg</td>\n",
       "    </tr>\n",
       "    <tr>\n",
       "      <th>2</th>\n",
       "      <td>6606591</td>\n",
       "      <td>12/07/2016 09:20:09 PM</td>\n",
       "      <td>NaN</td>\n",
       "      <td>12/07/2016 09:20:09 PM</td>\n",
       "      <td>Open</td>\n",
       "      <td>accepted</td>\n",
       "      <td>DPW Ops Queue</td>\n",
       "      <td>Street and Sidewalk Cleaning</td>\n",
       "      <td>Hazardous Materials</td>\n",
       "      <td>Human Waste</td>\n",
       "      <td>Intersection of BRYANT ST and MAIN ST</td>\n",
       "      <td>6.0</td>\n",
       "      <td>South Beach</td>\n",
       "      <td>(37.7868986102984, -122.38877960071)</td>\n",
       "      <td>Open311</td>\n",
       "      <td>NaN</td>\n",
       "    </tr>\n",
       "  </tbody>\n",
       "</table>\n",
       "</div>"
      ],
      "text/plain": [
       "    CaseID                  Opened Closed                 Updated Status  \\\n",
       "0  6606706  12/07/2016 11:36:19 PM    NaN  12/07/2016 11:36:19 PM   Open   \n",
       "1  6606662  12/07/2016 10:42:38 PM    NaN  12/07/2016 10:42:38 PM   Open   \n",
       "2  6606591  12/07/2016 09:20:09 PM    NaN  12/07/2016 09:20:09 PM   Open   \n",
       "\n",
       "  Status Notes Responsible Agency                      Category  \\\n",
       "0     accepted      DPW Ops Queue  Street and Sidewalk Cleaning   \n",
       "1         open      DPW Ops Queue  Street and Sidewalk Cleaning   \n",
       "2     accepted      DPW Ops Queue  Street and Sidewalk Cleaning   \n",
       "\n",
       "          Request Type Request Details  \\\n",
       "0  Hazardous Materials     Human Waste   \n",
       "1  Hazardous Materials     Human Waste   \n",
       "2  Hazardous Materials     Human Waste   \n",
       "\n",
       "                                  Address  Supervisor District  \\\n",
       "0   Intersection of DUBOCE AVE and NOE ST                  8.0   \n",
       "1  250 CLARA ST, SAN FRANCISCO, CA, 94107                  6.0   \n",
       "2   Intersection of BRYANT ST and MAIN ST                  6.0   \n",
       "\n",
       "      Neighborhood                                  Point   Source  \\\n",
       "0  Duboce Triangle  (37.7691784266852, -122.433572372998)  Open311   \n",
       "1  South of Market   (37.778699872824, -122.403449455704)  Open311   \n",
       "2      South Beach   (37.7868986102984, -122.38877960071)  Open311   \n",
       "\n",
       "                                                                                                         Media URL  \n",
       "0                 http://mobile311.sfgov.org/media/san_francisco/report/photos/58490d663da19793c74c3854/report.jpg  \n",
       "1  http://mobile311.sfgov.org/media/san_francisco/report/photos/584900d33da19793c74c3831/photo_20161207_223513.jpg  \n",
       "2                                                                                                              NaN  "
      ]
     },
     "execution_count": 7,
     "metadata": {},
     "output_type": "execute_result"
    }
   ],
   "source": [
    "df.head(3)"
   ]
  },
  {
   "cell_type": "code",
   "execution_count": 8,
   "metadata": {
    "collapsed": false
   },
   "outputs": [],
   "source": [
    "df['Opened'] = pd.to_datetime(df['Opened'])\n",
    "df['Closed'] = pd.to_datetime(df['Closed'])\n",
    "df['Updated'] = pd.to_datetime(df['Updated'])"
   ]
  },
  {
   "cell_type": "code",
   "execution_count": 9,
   "metadata": {
    "collapsed": false
   },
   "outputs": [
    {
     "data": {
      "text/html": [
       "<div>\n",
       "<table border=\"1\" class=\"dataframe\">\n",
       "  <thead>\n",
       "    <tr style=\"text-align: right;\">\n",
       "      <th></th>\n",
       "      <th>CaseID</th>\n",
       "      <th>Opened</th>\n",
       "      <th>Closed</th>\n",
       "      <th>Updated</th>\n",
       "      <th>Status</th>\n",
       "      <th>Status Notes</th>\n",
       "      <th>Responsible Agency</th>\n",
       "      <th>Category</th>\n",
       "      <th>Request Type</th>\n",
       "      <th>Request Details</th>\n",
       "      <th>Address</th>\n",
       "      <th>Supervisor District</th>\n",
       "      <th>Neighborhood</th>\n",
       "      <th>Point</th>\n",
       "      <th>Source</th>\n",
       "      <th>Media URL</th>\n",
       "    </tr>\n",
       "  </thead>\n",
       "  <tbody>\n",
       "    <tr>\n",
       "      <th>0</th>\n",
       "      <td>6606706</td>\n",
       "      <td>2016-12-07 23:36:19</td>\n",
       "      <td>NaT</td>\n",
       "      <td>2016-12-07 23:36:19</td>\n",
       "      <td>Open</td>\n",
       "      <td>accepted</td>\n",
       "      <td>DPW Ops Queue</td>\n",
       "      <td>Street and Sidewalk Cleaning</td>\n",
       "      <td>Hazardous Materials</td>\n",
       "      <td>Human Waste</td>\n",
       "      <td>Intersection of DUBOCE AVE and NOE ST</td>\n",
       "      <td>8.0</td>\n",
       "      <td>Duboce Triangle</td>\n",
       "      <td>(37.7691784266852, -122.433572372998)</td>\n",
       "      <td>Open311</td>\n",
       "      <td>http://mobile311.sfgov.org/media/san_francisco/report/photos/58490d663da19793c74c3854/report.jpg</td>\n",
       "    </tr>\n",
       "    <tr>\n",
       "      <th>1</th>\n",
       "      <td>6606662</td>\n",
       "      <td>2016-12-07 22:42:38</td>\n",
       "      <td>NaT</td>\n",
       "      <td>2016-12-07 22:42:38</td>\n",
       "      <td>Open</td>\n",
       "      <td>open</td>\n",
       "      <td>DPW Ops Queue</td>\n",
       "      <td>Street and Sidewalk Cleaning</td>\n",
       "      <td>Hazardous Materials</td>\n",
       "      <td>Human Waste</td>\n",
       "      <td>250 CLARA ST, SAN FRANCISCO, CA, 94107</td>\n",
       "      <td>6.0</td>\n",
       "      <td>South of Market</td>\n",
       "      <td>(37.778699872824, -122.403449455704)</td>\n",
       "      <td>Open311</td>\n",
       "      <td>http://mobile311.sfgov.org/media/san_francisco/report/photos/584900d33da19793c74c3831/photo_20161207_223513.jpg</td>\n",
       "    </tr>\n",
       "    <tr>\n",
       "      <th>2</th>\n",
       "      <td>6606591</td>\n",
       "      <td>2016-12-07 21:20:09</td>\n",
       "      <td>NaT</td>\n",
       "      <td>2016-12-07 21:20:09</td>\n",
       "      <td>Open</td>\n",
       "      <td>accepted</td>\n",
       "      <td>DPW Ops Queue</td>\n",
       "      <td>Street and Sidewalk Cleaning</td>\n",
       "      <td>Hazardous Materials</td>\n",
       "      <td>Human Waste</td>\n",
       "      <td>Intersection of BRYANT ST and MAIN ST</td>\n",
       "      <td>6.0</td>\n",
       "      <td>South Beach</td>\n",
       "      <td>(37.7868986102984, -122.38877960071)</td>\n",
       "      <td>Open311</td>\n",
       "      <td>NaN</td>\n",
       "    </tr>\n",
       "  </tbody>\n",
       "</table>\n",
       "</div>"
      ],
      "text/plain": [
       "    CaseID              Opened Closed             Updated Status Status Notes  \\\n",
       "0  6606706 2016-12-07 23:36:19    NaT 2016-12-07 23:36:19   Open     accepted   \n",
       "1  6606662 2016-12-07 22:42:38    NaT 2016-12-07 22:42:38   Open         open   \n",
       "2  6606591 2016-12-07 21:20:09    NaT 2016-12-07 21:20:09   Open     accepted   \n",
       "\n",
       "  Responsible Agency                      Category         Request Type  \\\n",
       "0      DPW Ops Queue  Street and Sidewalk Cleaning  Hazardous Materials   \n",
       "1      DPW Ops Queue  Street and Sidewalk Cleaning  Hazardous Materials   \n",
       "2      DPW Ops Queue  Street and Sidewalk Cleaning  Hazardous Materials   \n",
       "\n",
       "  Request Details                                 Address  \\\n",
       "0     Human Waste   Intersection of DUBOCE AVE and NOE ST   \n",
       "1     Human Waste  250 CLARA ST, SAN FRANCISCO, CA, 94107   \n",
       "2     Human Waste   Intersection of BRYANT ST and MAIN ST   \n",
       "\n",
       "   Supervisor District     Neighborhood  \\\n",
       "0                  8.0  Duboce Triangle   \n",
       "1                  6.0  South of Market   \n",
       "2                  6.0      South Beach   \n",
       "\n",
       "                                   Point   Source  \\\n",
       "0  (37.7691784266852, -122.433572372998)  Open311   \n",
       "1   (37.778699872824, -122.403449455704)  Open311   \n",
       "2   (37.7868986102984, -122.38877960071)  Open311   \n",
       "\n",
       "                                                                                                         Media URL  \n",
       "0                 http://mobile311.sfgov.org/media/san_francisco/report/photos/58490d663da19793c74c3854/report.jpg  \n",
       "1  http://mobile311.sfgov.org/media/san_francisco/report/photos/584900d33da19793c74c3831/photo_20161207_223513.jpg  \n",
       "2                                                                                                              NaN  "
      ]
     },
     "execution_count": 9,
     "metadata": {},
     "output_type": "execute_result"
    }
   ],
   "source": [
    "df.head(3)"
   ]
  },
  {
   "cell_type": "code",
   "execution_count": 10,
   "metadata": {
    "collapsed": false
   },
   "outputs": [
    {
     "data": {
      "text/plain": [
       "1.0     89\n",
       "2.0     54\n",
       "3.0     42\n",
       "4.0     31\n",
       "5.0     49\n",
       "6.0     72\n",
       "7.0     61\n",
       "8.0     14\n",
       "18.0    16\n",
       "19.0     4\n",
       "20.0    12\n",
       "21.0    11\n",
       "22.0    24\n",
       "23.0    14\n",
       "24.0    14\n",
       "25.0    16\n",
       "26.0    34\n",
       "27.0    68\n",
       "28.0    15\n",
       "29.0    30\n",
       "30.0    66\n",
       "Name: Closed, dtype: int64"
      ]
     },
     "execution_count": 10,
     "metadata": {},
     "output_type": "execute_result"
    }
   ],
   "source": [
    "df.Closed.dt.day.value_counts().sort_index()"
   ]
  },
  {
   "cell_type": "code",
   "execution_count": 11,
   "metadata": {
    "collapsed": false
   },
   "outputs": [
    {
     "data": {
      "text/plain": [
       "1     64\n",
       "2     36\n",
       "3     47\n",
       "4     41\n",
       "5     86\n",
       "6     71\n",
       "7     50\n",
       "18    50\n",
       "19    17\n",
       "20    19\n",
       "21    67\n",
       "22    68\n",
       "23    47\n",
       "24    14\n",
       "25    48\n",
       "26    27\n",
       "27    37\n",
       "28    71\n",
       "29    75\n",
       "30    65\n",
       "Name: Opened, dtype: int64"
      ]
     },
     "execution_count": 11,
     "metadata": {},
     "output_type": "execute_result"
    }
   ],
   "source": [
    "df.Opened.dt.day.value_counts().sort_index()"
   ]
  },
  {
   "cell_type": "code",
   "execution_count": 12,
   "metadata": {
    "collapsed": false
   },
   "outputs": [
    {
     "data": {
      "text/plain": [
       "<matplotlib.axes._subplots.AxesSubplot at 0x7f7917c1bcc0>"
      ]
     },
     "execution_count": 12,
     "metadata": {},
     "output_type": "execute_result"
    },
    {
     "data": {
      "image/png": "[encoded data removed]",
      "text/plain": [
       "<matplotlib.figure.Figure at 0x7f791727d400>"
      ]
     },
     "metadata": {},
     "output_type": "display_data"
    }
   ],
   "source": [
    "df.Opened.dt.weekday.value_counts().sort_index().plot()"
   ]
  },
  {
   "cell_type": "code",
   "execution_count": 13,
   "metadata": {
    "collapsed": false
   },
   "outputs": [
    {
     "data": {
      "text/plain": [
       "Index(['CaseID', 'Opened', 'Closed', 'Updated', 'Status', 'Status Notes',\n",
       "       'Responsible Agency', 'Category', 'Request Type', 'Request Details',\n",
       "       'Address', 'Supervisor District', 'Neighborhood', 'Point', 'Source',\n",
       "       'Media URL'],\n",
       "      dtype='object')"
      ]
     },
     "execution_count": 13,
     "metadata": {},
     "output_type": "execute_result"
    }
   ],
   "source": [
    "df.columns"
   ]
  },
  {
   "cell_type": "code",
   "execution_count": 14,
   "metadata": {
    "collapsed": false
   },
   "outputs": [
    {
     "data": {
      "text/plain": [
       "Human Waste    1000\n",
       "Name: Request Details, dtype: int64"
      ]
     },
     "execution_count": 14,
     "metadata": {},
     "output_type": "execute_result"
    }
   ],
   "source": [
    "\n",
    "df['Request Details'].value_counts()\n"
   ]
  },
  {
   "cell_type": "code",
   "execution_count": 15,
   "metadata": {
    "collapsed": false
   },
   "outputs": [
    {
     "data": {
      "text/plain": [
       "-1.0       1\n",
       " 1.0      21\n",
       " 2.0      27\n",
       " 3.0     126\n",
       " 4.0      11\n",
       " 5.0      81\n",
       " 6.0     444\n",
       " 7.0       5\n",
       " 8.0      81\n",
       " 9.0     119\n",
       " 10.0     66\n",
       " 11.0     16\n",
       "Name: Supervisor District, dtype: int64"
      ]
     },
     "execution_count": 15,
     "metadata": {},
     "output_type": "execute_result"
    }
   ],
   "source": [
    "df['Supervisor District'].value_counts().sort_index()\n",
    "\n"
   ]
  },
  {
   "cell_type": "code",
   "execution_count": 16,
   "metadata": {
    "collapsed": false
   },
   "outputs": [
    {
     "data": {
      "text/plain": [
       "Tenderloin                 181\n",
       "South of Market            167\n",
       "Mission                    119\n",
       "Civic Center                60\n",
       "Lower Nob Hill              44\n",
       "Potrero Hill                24\n",
       "Lower Haight                22\n",
       "Chinatown                   18\n",
       "Downtown / Union Square     18\n",
       "Mission Dolores             17\n",
       "Inner Richmond              17\n",
       "Showplace Square            17\n",
       "North Beach                 15\n",
       "Castro                      14\n",
       "Hayes Valley                14\n",
       "Polk Gulch                  14\n",
       "Marina                      12\n",
       "Duboce Triangle             11\n",
       "Haight Ashbury              11\n",
       "Financial District          11\n",
       "Rincon Hill                 10\n",
       "Bernal Heights              10\n",
       "Mission Bay                 10\n",
       "Outer Sunset                 9\n",
       "Eureka Valley                9\n",
       "Nob Hill                     9\n",
       "Mint Hill                    8\n",
       "Dolores Heights              8\n",
       "Excelsior                    8\n",
       "South Beach                  7\n",
       "                          ... \n",
       "Union Street                 4\n",
       "Produce Market               4\n",
       "Outer Mission                4\n",
       "Cathedral Hill               4\n",
       "Russian Hill                 4\n",
       "Portola                      4\n",
       "Northern Waterfront          3\n",
       "Fisherman's Wharf            3\n",
       "Apparel City                 3\n",
       "Cayuga                       3\n",
       "Bayview                      3\n",
       "Telegraph Hill               2\n",
       "Parkside                     2\n",
       "Cole Valley                  2\n",
       "Oceanview                    2\n",
       "West Portal                  2\n",
       "Corona Heights               2\n",
       "Central Waterfront           2\n",
       "Peralta Heights              1\n",
       "Glen Park                    1\n",
       "Cow Hollow                   1\n",
       "Buena Vista                  1\n",
       "Mt. Davidson Manor           1\n",
       "Lone Mountain                1\n",
       "Ashbury Heights              1\n",
       "Lakeshore                    1\n",
       "Panhandle                    1\n",
       "Alamo Square                 1\n",
       "Outer Richmond               1\n",
       "Bret Harte                   1\n",
       "Name: Neighborhood, dtype: int64"
      ]
     },
     "execution_count": 16,
     "metadata": {},
     "output_type": "execute_result"
    }
   ],
   "source": [
    "df.Neighborhood.value_counts()"
   ]
  },
  {
   "cell_type": "code",
   "execution_count": 17,
   "metadata": {
    "collapsed": false
   },
   "outputs": [
    {
     "data": {
      "text/html": [
       "<div>\n",
       "<table border=\"1\" class=\"dataframe\">\n",
       "  <thead>\n",
       "    <tr style=\"text-align: right;\">\n",
       "      <th></th>\n",
       "      <th>CaseID</th>\n",
       "      <th>Opened</th>\n",
       "      <th>Closed</th>\n",
       "      <th>Updated</th>\n",
       "      <th>Status</th>\n",
       "      <th>Status Notes</th>\n",
       "      <th>Responsible Agency</th>\n",
       "      <th>Category</th>\n",
       "      <th>Request Type</th>\n",
       "      <th>Request Details</th>\n",
       "      <th>Address</th>\n",
       "      <th>Supervisor District</th>\n",
       "      <th>Neighborhood</th>\n",
       "      <th>Point</th>\n",
       "      <th>Source</th>\n",
       "      <th>Media URL</th>\n",
       "    </tr>\n",
       "  </thead>\n",
       "  <tbody>\n",
       "    <tr>\n",
       "      <th>3</th>\n",
       "      <td>6606485</td>\n",
       "      <td>2016-12-07 19:55:06</td>\n",
       "      <td>NaT</td>\n",
       "      <td>2016-12-07 19:55:06</td>\n",
       "      <td>Open</td>\n",
       "      <td>accepted</td>\n",
       "      <td>DPW Ops Queue</td>\n",
       "      <td>Street and Sidewalk Cleaning</td>\n",
       "      <td>Hazardous Materials</td>\n",
       "      <td>Human Waste</td>\n",
       "      <td>289 SAN JOSE AVE, SAN FRANCISCO, CA, 94110</td>\n",
       "      <td>8.0</td>\n",
       "      <td>Mission</td>\n",
       "      <td>(37.750655078038, -122.42138846194)</td>\n",
       "      <td>Open311</td>\n",
       "      <td>NaN</td>\n",
       "    </tr>\n",
       "    <tr>\n",
       "      <th>11</th>\n",
       "      <td>6605677</td>\n",
       "      <td>2016-12-07 15:20:34</td>\n",
       "      <td>2016-12-07 16:00:20</td>\n",
       "      <td>2016-12-07 16:00:20</td>\n",
       "      <td>Closed</td>\n",
       "      <td>Case Resolved -</td>\n",
       "      <td>DPW Ops Queue</td>\n",
       "      <td>Street and Sidewalk Cleaning</td>\n",
       "      <td>Hazardous Materials</td>\n",
       "      <td>Human Waste</td>\n",
       "      <td>401 ALABAMA ST, SAN FRANCISCO, CA, 94110</td>\n",
       "      <td>9.0</td>\n",
       "      <td>Mission</td>\n",
       "      <td>(37.763566099551, -122.412057986203)</td>\n",
       "      <td>Voice In</td>\n",
       "      <td>NaN</td>\n",
       "    </tr>\n",
       "    <tr>\n",
       "      <th>12</th>\n",
       "      <td>6605657</td>\n",
       "      <td>2016-12-07 15:16:07</td>\n",
       "      <td>2016-12-07 16:10:16</td>\n",
       "      <td>2016-12-07 16:10:16</td>\n",
       "      <td>Closed</td>\n",
       "      <td>Case Resolved -</td>\n",
       "      <td>DPW Ops Queue</td>\n",
       "      <td>Street and Sidewalk Cleaning</td>\n",
       "      <td>Hazardous Materials</td>\n",
       "      <td>Human Waste</td>\n",
       "      <td>Intersection of MARIPOSA ST and FLORIDA ST</td>\n",
       "      <td>9.0</td>\n",
       "      <td>Mission</td>\n",
       "      <td>(37.7629728271067, -122.41120690382)</td>\n",
       "      <td>Voice In</td>\n",
       "      <td>NaN</td>\n",
       "    </tr>\n",
       "    <tr>\n",
       "      <th>25</th>\n",
       "      <td>6604892</td>\n",
       "      <td>2016-12-07 12:17:15</td>\n",
       "      <td>2016-12-07 12:55:09</td>\n",
       "      <td>2016-12-07 12:55:09</td>\n",
       "      <td>Closed</td>\n",
       "      <td>Case Resolved -</td>\n",
       "      <td>DPW Ops Queue</td>\n",
       "      <td>Street and Sidewalk Cleaning</td>\n",
       "      <td>Hazardous Materials</td>\n",
       "      <td>Human Waste</td>\n",
       "      <td>Intersection of 17TH ST and FLORIDA ST</td>\n",
       "      <td>9.0</td>\n",
       "      <td>Mission</td>\n",
       "      <td>(37.7642514416934, -122.411330111097)</td>\n",
       "      <td>Open311</td>\n",
       "      <td>http://mobile311.sfgov.org/media/san_francisco/report/photos/58486e403da19793c74c2d47/report.jpg</td>\n",
       "    </tr>\n",
       "    <tr>\n",
       "      <th>32</th>\n",
       "      <td>6604407</td>\n",
       "      <td>2016-12-07 10:58:30</td>\n",
       "      <td>NaT</td>\n",
       "      <td>2016-12-07 10:58:30</td>\n",
       "      <td>Open</td>\n",
       "      <td>in progress</td>\n",
       "      <td>DPW Ops Queue</td>\n",
       "      <td>Street and Sidewalk Cleaning</td>\n",
       "      <td>Hazardous Materials</td>\n",
       "      <td>Human Waste</td>\n",
       "      <td>2761 16TH ST, SAN FRANCISCO, CA, 94103</td>\n",
       "      <td>9.0</td>\n",
       "      <td>Mission</td>\n",
       "      <td>(37.765312317273, -122.414434026033)</td>\n",
       "      <td>Open311</td>\n",
       "      <td>http://mobile311.sfgov.org/media/san_francisco/report/photos/58485bcb3da19793c74c27f0/report.jpg</td>\n",
       "    </tr>\n",
       "    <tr>\n",
       "      <th>37</th>\n",
       "      <td>6603700</td>\n",
       "      <td>2016-12-07 08:45:05</td>\n",
       "      <td>NaT</td>\n",
       "      <td>2016-12-07 08:45:05</td>\n",
       "      <td>Open</td>\n",
       "      <td>in progress</td>\n",
       "      <td>DPW Ops Queue</td>\n",
       "      <td>Street and Sidewalk Cleaning</td>\n",
       "      <td>Hazardous Materials</td>\n",
       "      <td>Human Waste</td>\n",
       "      <td>Intersection of 16TH ST and MISSION ST</td>\n",
       "      <td>9.0</td>\n",
       "      <td>Mission</td>\n",
       "      <td>(37.7650512510466, -122.419669041689)</td>\n",
       "      <td>Open311</td>\n",
       "      <td>http://mobile311.sfgov.org/media/san_francisco/report/photos/58483c853da19793c74c1fd3/photo_20161207_084354.jpg</td>\n",
       "    </tr>\n",
       "    <tr>\n",
       "      <th>57</th>\n",
       "      <td>6602438</td>\n",
       "      <td>2016-12-06 15:56:47</td>\n",
       "      <td>NaT</td>\n",
       "      <td>2016-12-06 15:56:47</td>\n",
       "      <td>Open</td>\n",
       "      <td>accepted</td>\n",
       "      <td>DPW Ops Queue</td>\n",
       "      <td>Street and Sidewalk Cleaning</td>\n",
       "      <td>Hazardous Materials</td>\n",
       "      <td>Human Waste</td>\n",
       "      <td>Intersection of 15TH ST and BRYANT ST</td>\n",
       "      <td>10.0</td>\n",
       "      <td>Mission</td>\n",
       "      <td>(37.7669034554932, -122.41060974884)</td>\n",
       "      <td>Web Self Service</td>\n",
       "      <td>NaN</td>\n",
       "    </tr>\n",
       "    <tr>\n",
       "      <th>71</th>\n",
       "      <td>6601493</td>\n",
       "      <td>2016-12-06 12:20:55</td>\n",
       "      <td>NaT</td>\n",
       "      <td>2016-12-06 12:20:55</td>\n",
       "      <td>Open</td>\n",
       "      <td>in progress</td>\n",
       "      <td>DPW Ops Queue</td>\n",
       "      <td>Street and Sidewalk Cleaning</td>\n",
       "      <td>Hazardous Materials</td>\n",
       "      <td>Human Waste</td>\n",
       "      <td>Intersection of 15TH ST and HARRISON ST</td>\n",
       "      <td>9.0</td>\n",
       "      <td>Mission</td>\n",
       "      <td>(37.766725305156, -122.413227026717)</td>\n",
       "      <td>Open311</td>\n",
       "      <td>http://mobile311.sfgov.org/media/san_francisco/report/photos/58471d9b3da19793c74c0207/report.jpg</td>\n",
       "    </tr>\n",
       "  </tbody>\n",
       "</table>\n",
       "</div>"
      ],
      "text/plain": [
       "     CaseID              Opened              Closed             Updated  \\\n",
       "3   6606485 2016-12-07 19:55:06                 NaT 2016-12-07 19:55:06   \n",
       "11  6605677 2016-12-07 15:20:34 2016-12-07 16:00:20 2016-12-07 16:00:20   \n",
       "12  6605657 2016-12-07 15:16:07 2016-12-07 16:10:16 2016-12-07 16:10:16   \n",
       "25  6604892 2016-12-07 12:17:15 2016-12-07 12:55:09 2016-12-07 12:55:09   \n",
       "32  6604407 2016-12-07 10:58:30                 NaT 2016-12-07 10:58:30   \n",
       "37  6603700 2016-12-07 08:45:05                 NaT 2016-12-07 08:45:05   \n",
       "57  6602438 2016-12-06 15:56:47                 NaT 2016-12-06 15:56:47   \n",
       "71  6601493 2016-12-06 12:20:55                 NaT 2016-12-06 12:20:55   \n",
       "\n",
       "    Status     Status Notes Responsible Agency                      Category  \\\n",
       "3     Open         accepted      DPW Ops Queue  Street and Sidewalk Cleaning   \n",
       "11  Closed  Case Resolved -      DPW Ops Queue  Street and Sidewalk Cleaning   \n",
       "12  Closed  Case Resolved -      DPW Ops Queue  Street and Sidewalk Cleaning   \n",
       "25  Closed  Case Resolved -      DPW Ops Queue  Street and Sidewalk Cleaning   \n",
       "32    Open      in progress      DPW Ops Queue  Street and Sidewalk Cleaning   \n",
       "37    Open      in progress      DPW Ops Queue  Street and Sidewalk Cleaning   \n",
       "57    Open         accepted      DPW Ops Queue  Street and Sidewalk Cleaning   \n",
       "71    Open      in progress      DPW Ops Queue  Street and Sidewalk Cleaning   \n",
       "\n",
       "           Request Type Request Details  \\\n",
       "3   Hazardous Materials     Human Waste   \n",
       "11  Hazardous Materials     Human Waste   \n",
       "12  Hazardous Materials     Human Waste   \n",
       "25  Hazardous Materials     Human Waste   \n",
       "32  Hazardous Materials     Human Waste   \n",
       "37  Hazardous Materials     Human Waste   \n",
       "57  Hazardous Materials     Human Waste   \n",
       "71  Hazardous Materials     Human Waste   \n",
       "\n",
       "                                       Address  Supervisor District  \\\n",
       "3   289 SAN JOSE AVE, SAN FRANCISCO, CA, 94110                  8.0   \n",
       "11    401 ALABAMA ST, SAN FRANCISCO, CA, 94110                  9.0   \n",
       "12  Intersection of MARIPOSA ST and FLORIDA ST                  9.0   \n",
       "25      Intersection of 17TH ST and FLORIDA ST                  9.0   \n",
       "32      2761 16TH ST, SAN FRANCISCO, CA, 94103                  9.0   \n",
       "37      Intersection of 16TH ST and MISSION ST                  9.0   \n",
       "57       Intersection of 15TH ST and BRYANT ST                 10.0   \n",
       "71     Intersection of 15TH ST and HARRISON ST                  9.0   \n",
       "\n",
       "   Neighborhood                                  Point            Source  \\\n",
       "3       Mission    (37.750655078038, -122.42138846194)           Open311   \n",
       "11      Mission   (37.763566099551, -122.412057986203)          Voice In   \n",
       "12      Mission   (37.7629728271067, -122.41120690382)          Voice In   \n",
       "25      Mission  (37.7642514416934, -122.411330111097)           Open311   \n",
       "32      Mission   (37.765312317273, -122.414434026033)           Open311   \n",
       "37      Mission  (37.7650512510466, -122.419669041689)           Open311   \n",
       "57      Mission   (37.7669034554932, -122.41060974884)  Web Self Service   \n",
       "71      Mission   (37.766725305156, -122.413227026717)           Open311   \n",
       "\n",
       "                                                                                                          Media URL  \n",
       "3                                                                                                               NaN  \n",
       "11                                                                                                              NaN  \n",
       "12                                                                                                              NaN  \n",
       "25                 http://mobile311.sfgov.org/media/san_francisco/report/photos/58486e403da19793c74c2d47/report.jpg  \n",
       "32                 http://mobile311.sfgov.org/media/san_francisco/report/photos/58485bcb3da19793c74c27f0/report.jpg  \n",
       "37  http://mobile311.sfgov.org/media/san_francisco/report/photos/58483c853da19793c74c1fd3/photo_20161207_084354.jpg  \n",
       "57                                                                                                              NaN  \n",
       "71                 http://mobile311.sfgov.org/media/san_francisco/report/photos/58471d9b3da19793c74c0207/report.jpg  "
      ]
     },
     "execution_count": 17,
     "metadata": {},
     "output_type": "execute_result"
    }
   ],
   "source": [
    "df[df.Neighborhood == 'Mission'].head(8)"
   ]
  },
  {
   "cell_type": "markdown",
   "metadata": {},
   "source": [
    "\n",
    "### Get rid of NaN entries and display images\n",
    "\n",
    "Need Help  https://youtu.be/2AFGPdNn4FM?t=8m"
   ]
  },
  {
   "cell_type": "code",
   "execution_count": 18,
   "metadata": {
    "collapsed": true
   },
   "outputs": [],
   "source": [
    "hl_images = df[df['Media URL'].notnull() ]['Media URL']\n"
   ]
  },
  {
   "cell_type": "code",
   "execution_count": 19,
   "metadata": {
    "collapsed": true
   },
   "outputs": [],
   "source": [
    "#hl_images = df[df['Media URL'].notnull() ]"
   ]
  },
  {
   "cell_type": "code",
   "execution_count": 20,
   "metadata": {
    "collapsed": true
   },
   "outputs": [
    {
     "data": {
      "text/plain": [
       "0                    http://mobile311.sfgov.org/media/san_francisco/report/photos/58490d663da19793c74c3854/report.jpg\n",
       "1     http://mobile311.sfgov.org/media/san_francisco/report/photos/584900d33da19793c74c3831/photo_20161207_223513.jpg\n",
       "15    http://mobile311.sfgov.org/media/san_francisco/report/photos/58488e5a3da19793c74c313d/photo_20161207_143336.jpg\n",
       "20                   http://mobile311.sfgov.org/media/san_francisco/report/photos/5848834a3da19793c74c2ffc/report.jpg\n",
       "Name: Media URL, dtype: object"
      ]
     },
     "execution_count": 20,
     "metadata": {},
     "output_type": "execute_result"
    }
   ],
   "source": [
    "hl_images.head(4)"
   ]
  },
  {
   "cell_type": "code",
   "execution_count": 29,
   "metadata": {
    "collapsed": false
   },
   "outputs": [
    {
     "name": "stdout",
     "output_type": "stream",
     "text": [
      "http://mobile311.sfgov.org/media/san_francisco/report/photos/58490d663da19793c74c3854/report.jpg\n"
     ]
    },
    {
     "ename": "FileNotFoundError",
     "evalue": "[Errno 2] No such file or directory: 'http://mobile311.sfgov.org/media/san_francisco/report/photos/58490d663da19793c74c3854/report.jpg'",
     "output_type": "error",
     "traceback": [
      "\u001b[0;31m---------------------------------------------------------------------------\u001b[0m",
      "\u001b[0;31mFileNotFoundError\u001b[0m                         Traceback (most recent call last)",
      "\u001b[0;32m<ipython-input-29-e212df75db4f>\u001b[0m in \u001b[0;36m<module>\u001b[0;34m()\u001b[0m\n\u001b[1;32m      1\u001b[0m \u001b[0mprint\u001b[0m\u001b[0;34m(\u001b[0m\u001b[0mhl_images\u001b[0m\u001b[0;34m[\u001b[0m\u001b[0;36m0\u001b[0m\u001b[0;34m]\u001b[0m\u001b[0;34m)\u001b[0m\u001b[0;34m\u001b[0m\u001b[0m\n\u001b[1;32m      2\u001b[0m \u001b[0;31m#Image.show(hl_images[0])\u001b[0m\u001b[0;34m\u001b[0m\u001b[0;34m\u001b[0m\u001b[0m\n\u001b[0;32m----> 3\u001b[0;31m \u001b[0mtheImage\u001b[0m \u001b[0;34m=\u001b[0m \u001b[0mImage\u001b[0m\u001b[0;34m.\u001b[0m\u001b[0mopen\u001b[0m\u001b[0;34m(\u001b[0m\u001b[0mhl_images\u001b[0m\u001b[0;34m[\u001b[0m\u001b[0;36m0\u001b[0m\u001b[0;34m]\u001b[0m\u001b[0;34m)\u001b[0m\u001b[0;34m\u001b[0m\u001b[0m\n\u001b[0m\u001b[1;32m      4\u001b[0m \u001b[0mtheImage\u001b[0m\u001b[0;34m.\u001b[0m\u001b[0mshow\u001b[0m\u001b[0;34m(\u001b[0m\u001b[0;34m)\u001b[0m\u001b[0;34m\u001b[0m\u001b[0m\n",
      "\u001b[0;32m/opt/conda/lib/python3.5/site-packages/PIL/Image.py\u001b[0m in \u001b[0;36mopen\u001b[0;34m(fp, mode)\u001b[0m\n\u001b[1;32m   2270\u001b[0m             \u001b[0mfilename\u001b[0m \u001b[0;34m=\u001b[0m \u001b[0mstr\u001b[0m\u001b[0;34m(\u001b[0m\u001b[0mfp\u001b[0m\u001b[0;34m.\u001b[0m\u001b[0mresolve\u001b[0m\u001b[0;34m(\u001b[0m\u001b[0;34m)\u001b[0m\u001b[0;34m)\u001b[0m\u001b[0;34m\u001b[0m\u001b[0m\n\u001b[1;32m   2271\u001b[0m     \u001b[0;32mif\u001b[0m \u001b[0mfilename\u001b[0m\u001b[0;34m:\u001b[0m\u001b[0;34m\u001b[0m\u001b[0m\n\u001b[0;32m-> 2272\u001b[0;31m         \u001b[0mfp\u001b[0m \u001b[0;34m=\u001b[0m \u001b[0mbuiltins\u001b[0m\u001b[0;34m.\u001b[0m\u001b[0mopen\u001b[0m\u001b[0;34m(\u001b[0m\u001b[0mfilename\u001b[0m\u001b[0;34m,\u001b[0m \u001b[0;34m\"rb\"\u001b[0m\u001b[0;34m)\u001b[0m\u001b[0;34m\u001b[0m\u001b[0m\n\u001b[0m\u001b[1;32m   2273\u001b[0m \u001b[0;34m\u001b[0m\u001b[0m\n\u001b[1;32m   2274\u001b[0m     \u001b[0;32mtry\u001b[0m\u001b[0;34m:\u001b[0m\u001b[0;34m\u001b[0m\u001b[0m\n",
      "\u001b[0;31mFileNotFoundError\u001b[0m: [Errno 2] No such file or directory: 'http://mobile311.sfgov.org/media/san_francisco/report/photos/58490d663da19793c74c3854/report.jpg'"
     ]
    }
   ],
   "source": [
    "print(hl_images[0])\n",
    "#Image.show(hl_images[0])\n",
    "theImage = Image.open(hl_images[0])\n",
    "theImage.show()"
   ]
  },
  {
   "cell_type": "code",
   "execution_count": null,
   "metadata": {
    "collapsed": true
   },
   "outputs": [],
   "source": []
  },
  {
   "cell_type": "code",
   "execution_count": null,
   "metadata": {
    "collapsed": true
   },
   "outputs": [],
   "source": []
  }
 ],
 "metadata": {
  "kernelspec": {
   "display_name": "Python 3",
   "language": "python",
   "name": "python3"
  },
  "language_info": {
   "codemirror_mode": {
    "name": "ipython",
    "version": 3
   },
   "file_extension": ".py",
   "mimetype": "text/x-python",
   "name": "python",
   "nbconvert_exporter": "python",
   "pygments_lexer": "ipython3",
   "version": "3.5.2"
  }
 },
 "nbformat": 4,
 "nbformat_minor": 1
}
