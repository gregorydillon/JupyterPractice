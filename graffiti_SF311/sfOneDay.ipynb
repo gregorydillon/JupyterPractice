{
 "cells": [
  {
   "cell_type": "markdown",
   "metadata": {},
   "source": [
    "\n",
    "\n",
    "Question to answer, geographically, how do the locations of encampments compare to the reports for behavior"
   ]
  },
  {
   "cell_type": "markdown",
   "metadata": {
    "collapsed": true
   },
   "source": [
    "The source of the information is from the San Francisco Open Data Portal\n",
    "On that portal, I've created a dataset of Encampments\n",
    "https://data.sfgov.org/profile/Gregory/xm4t-k5h4?q=encampment&sortBy=relevance&utf8=%E2%9C%93\n"
   ]
  },
  {
   "cell_type": "markdown",
   "metadata": {},
   "source": [
    "# San Francisco Graffiti with Video\n",
    "\n",
    "\n"
   ]
  },
  {
   "cell_type": "markdown",
   "metadata": {},
   "source": [
    "\n",
    "Import Libraries & get url\n"
   ]
  },
  {
   "cell_type": "code",
   "execution_count": 65,
   "metadata": {
    "collapsed": false
   },
   "outputs": [],
   "source": [
    "import numpy as np\n",
    "import pandas as pd\n",
    "import matplotlib.pyplot as plt\n",
    "\n",
    "%matplotlib inline\n",
    "\n",
    "\n"
   ]
  },
  {
   "cell_type": "markdown",
   "metadata": {},
   "source": [
    "## Get yesterday variable in bash and format it for url"
   ]
  },
  {
   "cell_type": "code",
   "execution_count": 66,
   "metadata": {
    "collapsed": false
   },
   "outputs": [
    {
     "name": "stdout",
     "output_type": "stream",
     "text": [
      "<class 'str'>\n",
      "'2016-12-09'\n"
     ]
    }
   ],
   "source": [
    "yesterday = !date -d \"yesterday 13:00 \" '+%Y-%m-%d'\n",
    "yesterday = str(yesterday)[1:-1]\n",
    "print(type(yesterday))\n",
    "print(yesterday)\n",
    "\n",
    "# date -d \"2 weeks ago\""
   ]
  },
  {
   "cell_type": "markdown",
   "metadata": {},
   "source": [
    "### get url"
   ]
  },
  {
   "cell_type": "code",
   "execution_count": 67,
   "metadata": {
    "collapsed": false
   },
   "outputs": [
    {
     "name": "stdout",
     "output_type": "stream",
     "text": [
      "https://data.sfgov.org/resource/rme2-xgvs.csv?$where=opened>='2016-12-09'\n"
     ]
    }
   ],
   "source": [
    "#url = 'https://data.sfgov.org/resource/gbya-e2d3.csv' // homeless\n",
    "#url = 'https://data.sfgov.org/resource/gbya-e2d3.csv'\n",
    "url = 'https://data.sfgov.org/resource/rme2-xgvs.csv'\n",
    "modify= \"?$where=opened\"\n",
    "operator = '>='\n",
    "#date format 'year-mm-dd'\n",
    "#startdate = \"'2016-12-09'\"\n",
    "startdate = yesterday\n",
    "url = url + modify + operator + str(startdate)\n",
    "print(url)\n"
   ]
  },
  {
   "cell_type": "code",
   "execution_count": 68,
   "metadata": {
    "collapsed": false
   },
   "outputs": [],
   "source": [
    "#df1 = pd.read_csv(url)\n",
    "#df2 = pd.read_csv(url2)\n",
    "#df =  pd.concat([df1,df2])"
   ]
  },
  {
   "cell_type": "markdown",
   "metadata": {},
   "source": [
    "## Set Display Column with wider so no problem with Media URL series"
   ]
  },
  {
   "cell_type": "code",
   "execution_count": 69,
   "metadata": {
    "collapsed": false
   },
   "outputs": [],
   "source": [
    "pd.options.display.max_colwidth=115"
   ]
  },
  {
   "cell_type": "markdown",
   "metadata": {},
   "source": [
    "## Setup to display images - working, work to do"
   ]
  },
  {
   "cell_type": "code",
   "execution_count": 70,
   "metadata": {
    "collapsed": false
   },
   "outputs": [],
   "source": [
    "from IPython.display import Image\n",
    "from IPython.core.display import HTML \n",
    "from IPython.core.display import Image, display\n",
    "\n"
   ]
  },
  {
   "cell_type": "markdown",
   "metadata": {},
   "source": [
    "## create data frame"
   ]
  },
  {
   "cell_type": "code",
   "execution_count": 71,
   "metadata": {
    "collapsed": true
   },
   "outputs": [],
   "source": [
    "df = pd.read_csv(url)"
   ]
  },
  {
   "cell_type": "code",
   "execution_count": 72,
   "metadata": {
    "collapsed": false
   },
   "outputs": [
    {
     "data": {
      "text/plain": [
       "(108, 16)"
      ]
     },
     "execution_count": 72,
     "metadata": {},
     "output_type": "execute_result"
    }
   ],
   "source": [
    "df.shape"
   ]
  },
  {
   "cell_type": "markdown",
   "metadata": {},
   "source": [
    "#### wow, 5 days > 1000 reports"
   ]
  },
  {
   "cell_type": "code",
   "execution_count": 73,
   "metadata": {
    "collapsed": false
   },
   "outputs": [
    {
     "data": {
      "text/html": [
       "<div>\n",
       "<table border=\"1\" class=\"dataframe\">\n",
       "  <thead>\n",
       "    <tr style=\"text-align: right;\">\n",
       "      <th></th>\n",
       "      <th>CaseID</th>\n",
       "      <th>Opened</th>\n",
       "      <th>Closed</th>\n",
       "      <th>Updated</th>\n",
       "      <th>Status</th>\n",
       "      <th>Status Notes</th>\n",
       "      <th>Responsible Agency</th>\n",
       "      <th>Category</th>\n",
       "      <th>Request Type</th>\n",
       "      <th>Request Details</th>\n",
       "      <th>Address</th>\n",
       "      <th>Supervisor District</th>\n",
       "      <th>Neighborhood</th>\n",
       "      <th>Point</th>\n",
       "      <th>Source</th>\n",
       "      <th>Media URL</th>\n",
       "    </tr>\n",
       "  </thead>\n",
       "  <tbody>\n",
       "    <tr>\n",
       "      <th>0</th>\n",
       "      <td>6613343</td>\n",
       "      <td>12/09/2016 08:05:46 PM</td>\n",
       "      <td>NaN</td>\n",
       "      <td>12/09/2016 08:05:46 PM</td>\n",
       "      <td>Open</td>\n",
       "      <td>accepted</td>\n",
       "      <td>DPW Ops Queue</td>\n",
       "      <td>Graffiti Private Property</td>\n",
       "      <td>Not_Offensive Graffiti on Private Property</td>\n",
       "      <td>Sidewalk_in_front_of_property - Not_Offensive</td>\n",
       "      <td>Intersection of 4TH AVE and BALBOA ST</td>\n",
       "      <td>1</td>\n",
       "      <td>Inner Richmond</td>\n",
       "      <td>(37.7773318868498, -122.461868072166)</td>\n",
       "      <td>Open311</td>\n",
       "      <td>http://mobile311.sfgov.org/media/san_francisco/report/photos/584b7f0a3da19793c74c75c7/report.jpg</td>\n",
       "    </tr>\n",
       "    <tr>\n",
       "      <th>1</th>\n",
       "      <td>6613328</td>\n",
       "      <td>12/09/2016 07:56:57 PM</td>\n",
       "      <td>12/09/2016 08:43:35 PM</td>\n",
       "      <td>12/09/2016 08:43:35 PM</td>\n",
       "      <td>Closed</td>\n",
       "      <td>Case is a Duplicate -</td>\n",
       "      <td>311 Supervisor Queue</td>\n",
       "      <td>Graffiti Public Property</td>\n",
       "      <td>Not_Offensive Graffiti on Public Property</td>\n",
       "      <td>Pole - Not_Offensive</td>\n",
       "      <td>945 GENEVA AVE, SAN FRANCISCO, CA, 94112</td>\n",
       "      <td>11</td>\n",
       "      <td>Excelsior</td>\n",
       "      <td>(37.716261032502, -122.440268419619)</td>\n",
       "      <td>Voice In</td>\n",
       "      <td>NaN</td>\n",
       "    </tr>\n",
       "    <tr>\n",
       "      <th>2</th>\n",
       "      <td>6613323</td>\n",
       "      <td>12/09/2016 07:52:11 PM</td>\n",
       "      <td>NaN</td>\n",
       "      <td>12/09/2016 07:53:54 PM</td>\n",
       "      <td>Open</td>\n",
       "      <td>accepted</td>\n",
       "      <td>DPW Ops Queue</td>\n",
       "      <td>Graffiti Public Property</td>\n",
       "      <td>Not_Offensive Graffiti on Public Property</td>\n",
       "      <td>Pole - Not_Offensive</td>\n",
       "      <td>952 GENEVA AVE, SAN FRANCISCO, CA, 94112</td>\n",
       "      <td>11</td>\n",
       "      <td>Crocker Amazon</td>\n",
       "      <td>(37.715905876824, -122.440384184241)</td>\n",
       "      <td>Voice In</td>\n",
       "      <td>NaN</td>\n",
       "    </tr>\n",
       "  </tbody>\n",
       "</table>\n",
       "</div>"
      ],
      "text/plain": [
       "    CaseID                  Opened                  Closed  \\\n",
       "0  6613343  12/09/2016 08:05:46 PM                     NaN   \n",
       "1  6613328  12/09/2016 07:56:57 PM  12/09/2016 08:43:35 PM   \n",
       "2  6613323  12/09/2016 07:52:11 PM                     NaN   \n",
       "\n",
       "                  Updated  Status           Status Notes  \\\n",
       "0  12/09/2016 08:05:46 PM    Open               accepted   \n",
       "1  12/09/2016 08:43:35 PM  Closed  Case is a Duplicate -   \n",
       "2  12/09/2016 07:53:54 PM    Open               accepted   \n",
       "\n",
       "     Responsible Agency                   Category  \\\n",
       "0         DPW Ops Queue  Graffiti Private Property   \n",
       "1  311 Supervisor Queue   Graffiti Public Property   \n",
       "2         DPW Ops Queue   Graffiti Public Property   \n",
       "\n",
       "                                 Request Type  \\\n",
       "0  Not_Offensive Graffiti on Private Property   \n",
       "1   Not_Offensive Graffiti on Public Property   \n",
       "2   Not_Offensive Graffiti on Public Property   \n",
       "\n",
       "                                 Request Details  \\\n",
       "0  Sidewalk_in_front_of_property - Not_Offensive   \n",
       "1                           Pole - Not_Offensive   \n",
       "2                           Pole - Not_Offensive   \n",
       "\n",
       "                                    Address  Supervisor District  \\\n",
       "0     Intersection of 4TH AVE and BALBOA ST                    1   \n",
       "1  945 GENEVA AVE, SAN FRANCISCO, CA, 94112                   11   \n",
       "2  952 GENEVA AVE, SAN FRANCISCO, CA, 94112                   11   \n",
       "\n",
       "     Neighborhood                                  Point    Source  \\\n",
       "0  Inner Richmond  (37.7773318868498, -122.461868072166)   Open311   \n",
       "1       Excelsior   (37.716261032502, -122.440268419619)  Voice In   \n",
       "2  Crocker Amazon   (37.715905876824, -122.440384184241)  Voice In   \n",
       "\n",
       "                                                                                          Media URL  \n",
       "0  http://mobile311.sfgov.org/media/san_francisco/report/photos/584b7f0a3da19793c74c75c7/report.jpg  \n",
       "1                                                                                               NaN  \n",
       "2                                                                                               NaN  "
      ]
     },
     "execution_count": 73,
     "metadata": {},
     "output_type": "execute_result"
    }
   ],
   "source": [
    "df.head(3)"
   ]
  },
  {
   "cell_type": "code",
   "execution_count": 74,
   "metadata": {
    "collapsed": false
   },
   "outputs": [],
   "source": [
    "df['Opened'] = pd.to_datetime(df['Opened'])\n",
    "df['Closed'] = pd.to_datetime(df['Closed'])\n",
    "df['Updated'] = pd.to_datetime(df['Updated'])"
   ]
  },
  {
   "cell_type": "code",
   "execution_count": 75,
   "metadata": {
    "collapsed": false
   },
   "outputs": [
    {
     "data": {
      "text/html": [
       "<div>\n",
       "<table border=\"1\" class=\"dataframe\">\n",
       "  <thead>\n",
       "    <tr style=\"text-align: right;\">\n",
       "      <th></th>\n",
       "      <th>CaseID</th>\n",
       "      <th>Opened</th>\n",
       "      <th>Closed</th>\n",
       "      <th>Updated</th>\n",
       "      <th>Status</th>\n",
       "      <th>Status Notes</th>\n",
       "      <th>Responsible Agency</th>\n",
       "      <th>Category</th>\n",
       "      <th>Request Type</th>\n",
       "      <th>Request Details</th>\n",
       "      <th>Address</th>\n",
       "      <th>Supervisor District</th>\n",
       "      <th>Neighborhood</th>\n",
       "      <th>Point</th>\n",
       "      <th>Source</th>\n",
       "      <th>Media URL</th>\n",
       "    </tr>\n",
       "  </thead>\n",
       "  <tbody>\n",
       "    <tr>\n",
       "      <th>0</th>\n",
       "      <td>6613343</td>\n",
       "      <td>2016-12-09 20:05:46</td>\n",
       "      <td>NaT</td>\n",
       "      <td>2016-12-09 20:05:46</td>\n",
       "      <td>Open</td>\n",
       "      <td>accepted</td>\n",
       "      <td>DPW Ops Queue</td>\n",
       "      <td>Graffiti Private Property</td>\n",
       "      <td>Not_Offensive Graffiti on Private Property</td>\n",
       "      <td>Sidewalk_in_front_of_property - Not_Offensive</td>\n",
       "      <td>Intersection of 4TH AVE and BALBOA ST</td>\n",
       "      <td>1</td>\n",
       "      <td>Inner Richmond</td>\n",
       "      <td>(37.7773318868498, -122.461868072166)</td>\n",
       "      <td>Open311</td>\n",
       "      <td>http://mobile311.sfgov.org/media/san_francisco/report/photos/584b7f0a3da19793c74c75c7/report.jpg</td>\n",
       "    </tr>\n",
       "    <tr>\n",
       "      <th>1</th>\n",
       "      <td>6613328</td>\n",
       "      <td>2016-12-09 19:56:57</td>\n",
       "      <td>2016-12-09 20:43:35</td>\n",
       "      <td>2016-12-09 20:43:35</td>\n",
       "      <td>Closed</td>\n",
       "      <td>Case is a Duplicate -</td>\n",
       "      <td>311 Supervisor Queue</td>\n",
       "      <td>Graffiti Public Property</td>\n",
       "      <td>Not_Offensive Graffiti on Public Property</td>\n",
       "      <td>Pole - Not_Offensive</td>\n",
       "      <td>945 GENEVA AVE, SAN FRANCISCO, CA, 94112</td>\n",
       "      <td>11</td>\n",
       "      <td>Excelsior</td>\n",
       "      <td>(37.716261032502, -122.440268419619)</td>\n",
       "      <td>Voice In</td>\n",
       "      <td>NaN</td>\n",
       "    </tr>\n",
       "    <tr>\n",
       "      <th>2</th>\n",
       "      <td>6613323</td>\n",
       "      <td>2016-12-09 19:52:11</td>\n",
       "      <td>NaT</td>\n",
       "      <td>2016-12-09 19:53:54</td>\n",
       "      <td>Open</td>\n",
       "      <td>accepted</td>\n",
       "      <td>DPW Ops Queue</td>\n",
       "      <td>Graffiti Public Property</td>\n",
       "      <td>Not_Offensive Graffiti on Public Property</td>\n",
       "      <td>Pole - Not_Offensive</td>\n",
       "      <td>952 GENEVA AVE, SAN FRANCISCO, CA, 94112</td>\n",
       "      <td>11</td>\n",
       "      <td>Crocker Amazon</td>\n",
       "      <td>(37.715905876824, -122.440384184241)</td>\n",
       "      <td>Voice In</td>\n",
       "      <td>NaN</td>\n",
       "    </tr>\n",
       "  </tbody>\n",
       "</table>\n",
       "</div>"
      ],
      "text/plain": [
       "    CaseID              Opened              Closed             Updated  \\\n",
       "0  6613343 2016-12-09 20:05:46                 NaT 2016-12-09 20:05:46   \n",
       "1  6613328 2016-12-09 19:56:57 2016-12-09 20:43:35 2016-12-09 20:43:35   \n",
       "2  6613323 2016-12-09 19:52:11                 NaT 2016-12-09 19:53:54   \n",
       "\n",
       "   Status           Status Notes    Responsible Agency  \\\n",
       "0    Open               accepted         DPW Ops Queue   \n",
       "1  Closed  Case is a Duplicate -  311 Supervisor Queue   \n",
       "2    Open               accepted         DPW Ops Queue   \n",
       "\n",
       "                    Category                                Request Type  \\\n",
       "0  Graffiti Private Property  Not_Offensive Graffiti on Private Property   \n",
       "1   Graffiti Public Property   Not_Offensive Graffiti on Public Property   \n",
       "2   Graffiti Public Property   Not_Offensive Graffiti on Public Property   \n",
       "\n",
       "                                 Request Details  \\\n",
       "0  Sidewalk_in_front_of_property - Not_Offensive   \n",
       "1                           Pole - Not_Offensive   \n",
       "2                           Pole - Not_Offensive   \n",
       "\n",
       "                                    Address  Supervisor District  \\\n",
       "0     Intersection of 4TH AVE and BALBOA ST                    1   \n",
       "1  945 GENEVA AVE, SAN FRANCISCO, CA, 94112                   11   \n",
       "2  952 GENEVA AVE, SAN FRANCISCO, CA, 94112                   11   \n",
       "\n",
       "     Neighborhood                                  Point    Source  \\\n",
       "0  Inner Richmond  (37.7773318868498, -122.461868072166)   Open311   \n",
       "1       Excelsior   (37.716261032502, -122.440268419619)  Voice In   \n",
       "2  Crocker Amazon   (37.715905876824, -122.440384184241)  Voice In   \n",
       "\n",
       "                                                                                          Media URL  \n",
       "0  http://mobile311.sfgov.org/media/san_francisco/report/photos/584b7f0a3da19793c74c75c7/report.jpg  \n",
       "1                                                                                               NaN  \n",
       "2                                                                                               NaN  "
      ]
     },
     "execution_count": 75,
     "metadata": {},
     "output_type": "execute_result"
    }
   ],
   "source": [
    "df.head(3)"
   ]
  },
  {
   "cell_type": "code",
   "execution_count": 76,
   "metadata": {
    "collapsed": false
   },
   "outputs": [
    {
     "name": "stderr",
     "output_type": "stream",
     "text": [
      "/home/gdillon/.local/lib/python3.5/site-packages/matplotlib/axes/_base.py:2782: UserWarning: Attempting to set identical left==right results\n",
      "in singular transformations; automatically expanding.\n",
      "left=9.0, right=9.0\n",
      "  'left=%s, right=%s') % (left, right))\n"
     ]
    },
    {
     "data": {
      "text/plain": [
       "<matplotlib.axes._subplots.AxesSubplot at 0x7f0d722f6b70>"
      ]
     },
     "execution_count": 76,
     "metadata": {},
     "output_type": "execute_result"
    },
    {
     "data": {
      "image/png": "[encoded data removed]",
      "text/plain": [
       "<matplotlib.figure.Figure at 0x7f0d72b0da58>"
      ]
     },
     "metadata": {},
     "output_type": "display_data"
    }
   ],
   "source": [
    "df.Closed.dt.day.value_counts().sort_index().plot()"
   ]
  },
  {
   "cell_type": "code",
   "execution_count": 77,
   "metadata": {
    "collapsed": false,
    "scrolled": true
   },
   "outputs": [
    {
     "name": "stderr",
     "output_type": "stream",
     "text": [
      "/home/gdillon/.local/lib/python3.5/site-packages/matplotlib/axes/_base.py:2782: UserWarning: Attempting to set identical left==right results\n",
      "in singular transformations; automatically expanding.\n",
      "left=9.0, right=9.0\n",
      "  'left=%s, right=%s') % (left, right))\n"
     ]
    },
    {
     "data": {
      "text/plain": [
       "<matplotlib.axes._subplots.AxesSubplot at 0x7f0d722a4470>"
      ]
     },
     "execution_count": 77,
     "metadata": {},
     "output_type": "execute_result"
    },
    {
     "data": {
      "image/png": "[encoded data removed]",
      "text/plain": [
       "<matplotlib.figure.Figure at 0x7f0d722d3a20>"
      ]
     },
     "metadata": {},
     "output_type": "display_data"
    }
   ],
   "source": [
    "df.Opened.dt.day.value_counts().sort_index().plot()"
   ]
  },
  {
   "cell_type": "code",
   "execution_count": 78,
   "metadata": {
    "collapsed": false
   },
   "outputs": [
    {
     "name": "stderr",
     "output_type": "stream",
     "text": [
      "/home/gdillon/.local/lib/python3.5/site-packages/matplotlib/axes/_base.py:2782: UserWarning: Attempting to set identical left==right results\n",
      "in singular transformations; automatically expanding.\n",
      "left=4.0, right=4.0\n",
      "  'left=%s, right=%s') % (left, right))\n"
     ]
    },
    {
     "data": {
      "text/plain": [
       "<matplotlib.axes._subplots.AxesSubplot at 0x7f0d7227d710>"
      ]
     },
     "execution_count": 78,
     "metadata": {},
     "output_type": "execute_result"
    },
    {
     "data": {
      "image/png": "[encoded data removed]",
      "text/plain": [
       "<matplotlib.figure.Figure at 0x7f0d72286048>"
      ]
     },
     "metadata": {},
     "output_type": "display_data"
    }
   ],
   "source": [
    "df.Closed.dt.weekday.value_counts().sort_index().plot()"
   ]
  },
  {
   "cell_type": "code",
   "execution_count": 79,
   "metadata": {
    "collapsed": false
   },
   "outputs": [
    {
     "data": {
      "text/plain": [
       "Index(['CaseID', 'Opened', 'Closed', 'Updated', 'Status', 'Status Notes',\n",
       "       'Responsible Agency', 'Category', 'Request Type', 'Request Details',\n",
       "       'Address', 'Supervisor District', 'Neighborhood', 'Point', 'Source',\n",
       "       'Media URL'],\n",
       "      dtype='object')"
      ]
     },
     "execution_count": 79,
     "metadata": {},
     "output_type": "execute_result"
    }
   ],
   "source": [
    "df.columns"
   ]
  },
  {
   "cell_type": "code",
   "execution_count": 80,
   "metadata": {
    "collapsed": false
   },
   "outputs": [
    {
     "data": {
      "text/plain": [
       "Building_commercial - Not_Offensive                 17\n",
       "Pole - Not_Offensive                                10\n",
       "Building_commercial - Offensive                     10\n",
       "Signal_box - Not_Offensive                           9\n",
       "Transit_Shelter_Platform - Not_Offensive             8\n",
       "City_receptacle - Not_Offensive                      7\n",
       "Mail_box - Offensive                                 6\n",
       "Mail_box - Not_Offensive                             6\n",
       "Parking_meter - Not_Offensive                        5\n",
       "Building_residential - Not_Offensive                 5\n",
       "Sidewalk_structure - Not_Offensive                   3\n",
       "Signal_box - Offensive                               3\n",
       "Fire_hydrant - Not_Offensive                         3\n",
       "Other_enter_additional_details_below - Offensive     3\n",
       "Fire_hydrant - Offensive                             2\n",
       "Street - Offensive                                   2\n",
       "Sidewalk_in_front_of_property - Not_Offensive        2\n",
       "Pole - Offensive                                     2\n",
       "Building_other - Offensive                           2\n",
       "Building_residential - Offensive                     1\n",
       "Sidewalk_in_front_of_property - Offensive            1\n",
       "Building_other - Not_Offensive                       1\n",
       "Name: Request Details, dtype: int64"
      ]
     },
     "execution_count": 80,
     "metadata": {},
     "output_type": "execute_result"
    }
   ],
   "source": [
    "\n",
    "df['Request Details'].value_counts()\n"
   ]
  },
  {
   "cell_type": "code",
   "execution_count": 81,
   "metadata": {
    "collapsed": false
   },
   "outputs": [
    {
     "data": {
      "text/plain": [
       "-1      1\n",
       " 1      3\n",
       " 2      3\n",
       " 3     25\n",
       " 4      1\n",
       " 5      7\n",
       " 6     21\n",
       " 7      1\n",
       " 8     10\n",
       " 9     26\n",
       " 10     7\n",
       " 11     3\n",
       "Name: Supervisor District, dtype: int64"
      ]
     },
     "execution_count": 81,
     "metadata": {},
     "output_type": "execute_result"
    }
   ],
   "source": [
    "df['Supervisor District'].value_counts().sort_index()\n",
    "\n"
   ]
  },
  {
   "cell_type": "code",
   "execution_count": 82,
   "metadata": {
    "collapsed": false
   },
   "outputs": [
    {
     "data": {
      "text/plain": [
       "Mission                     19\n",
       "Chinatown                   19\n",
       "Tenderloin                  11\n",
       "Potrero Hill                 8\n",
       "Civic Center                 7\n",
       "Nob Hill                     5\n",
       "Mission Dolores              5\n",
       "Lower Haight                 3\n",
       "South of Market              3\n",
       "Bernal Heights               3\n",
       "Mint Hill                    3\n",
       "Duboce Triangle              2\n",
       "Lower Nob Hill               2\n",
       "Inner Richmond               2\n",
       "Rincon Hill                  1\n",
       "Holly Park                   1\n",
       "Outer Mission                1\n",
       "Parkmerced                   1\n",
       "Marina                       1\n",
       "Crocker Amazon               1\n",
       "Excelsior                    1\n",
       "Aquatic Park / Ft. Mason     1\n",
       "South Beach                  1\n",
       "Upper Market                 1\n",
       "Outer Richmond               1\n",
       "Financial District           1\n",
       "Cathedral Hill               1\n",
       "Apparel City                 1\n",
       "Outer Sunset                 1\n",
       "Name: Neighborhood, dtype: int64"
      ]
     },
     "execution_count": 82,
     "metadata": {},
     "output_type": "execute_result"
    }
   ],
   "source": [
    "df.Neighborhood.value_counts()"
   ]
  },
  {
   "cell_type": "code",
   "execution_count": 83,
   "metadata": {
    "collapsed": false
   },
   "outputs": [
    {
     "data": {
      "text/html": [
       "<div>\n",
       "<table border=\"1\" class=\"dataframe\">\n",
       "  <thead>\n",
       "    <tr style=\"text-align: right;\">\n",
       "      <th></th>\n",
       "      <th>CaseID</th>\n",
       "      <th>Opened</th>\n",
       "      <th>Closed</th>\n",
       "      <th>Updated</th>\n",
       "      <th>Status</th>\n",
       "      <th>Status Notes</th>\n",
       "      <th>Responsible Agency</th>\n",
       "      <th>Category</th>\n",
       "      <th>Request Type</th>\n",
       "      <th>Request Details</th>\n",
       "      <th>Address</th>\n",
       "      <th>Supervisor District</th>\n",
       "      <th>Neighborhood</th>\n",
       "      <th>Point</th>\n",
       "      <th>Source</th>\n",
       "      <th>Media URL</th>\n",
       "    </tr>\n",
       "  </thead>\n",
       "  <tbody>\n",
       "    <tr>\n",
       "      <th>10</th>\n",
       "      <td>6612843</td>\n",
       "      <td>2016-12-09 16:22:18</td>\n",
       "      <td>NaT</td>\n",
       "      <td>2016-12-09 17:06:24</td>\n",
       "      <td>Open</td>\n",
       "      <td>open</td>\n",
       "      <td>DPW Ops Queue</td>\n",
       "      <td>Graffiti Public Property</td>\n",
       "      <td>Offensive Graffiti on Public Property</td>\n",
       "      <td>Other_enter_additional_details_below - Offensive</td>\n",
       "      <td>Intersection of 16TH ST and CALEDONIA ST</td>\n",
       "      <td>9</td>\n",
       "      <td>Mission</td>\n",
       "      <td>(37.7649478070053, -122.421381595319)</td>\n",
       "      <td>Open311</td>\n",
       "      <td>NaN</td>\n",
       "    </tr>\n",
       "    <tr>\n",
       "      <th>27</th>\n",
       "      <td>6612264</td>\n",
       "      <td>2016-12-09 14:29:40</td>\n",
       "      <td>NaT</td>\n",
       "      <td>2016-12-09 14:29:40</td>\n",
       "      <td>Open</td>\n",
       "      <td>Open</td>\n",
       "      <td>US Postal Service Maintenance Queue</td>\n",
       "      <td>Graffiti Public Property</td>\n",
       "      <td>Offensive Graffiti on Public Property</td>\n",
       "      <td>Mail_box - Offensive</td>\n",
       "      <td>Intersection of 18TH ST and MISSION ST</td>\n",
       "      <td>9</td>\n",
       "      <td>Mission</td>\n",
       "      <td>(37.7618358043403, -122.419359315196)</td>\n",
       "      <td>Open311</td>\n",
       "      <td>http://mobile311.sfgov.org/media/san_francisco/report/photos/584b30473da19793c74c6bf6/photo_20161209_142837.jpg</td>\n",
       "    </tr>\n",
       "    <tr>\n",
       "      <th>57</th>\n",
       "      <td>6611030</td>\n",
       "      <td>2016-12-09 10:10:13</td>\n",
       "      <td>NaT</td>\n",
       "      <td>2016-12-09 10:58:57</td>\n",
       "      <td>Open</td>\n",
       "      <td>accepted</td>\n",
       "      <td>DPW Ops Queue</td>\n",
       "      <td>Graffiti Private Property</td>\n",
       "      <td>Offensive Graffiti on Private Property</td>\n",
       "      <td>Building_commercial - Offensive</td>\n",
       "      <td>577 VALENCIA ST, SAN FRANCISCO, CA, 94110</td>\n",
       "      <td>9</td>\n",
       "      <td>Mission</td>\n",
       "      <td>(37.763689095375, -122.421587605718)</td>\n",
       "      <td>Open311</td>\n",
       "      <td>http://mobile311.sfgov.org/media/san_francisco/report/photos/584af3743da19793c74c61b5/report.jpg</td>\n",
       "    </tr>\n",
       "    <tr>\n",
       "      <th>60</th>\n",
       "      <td>6611008</td>\n",
       "      <td>2016-12-09 10:04:42</td>\n",
       "      <td>NaT</td>\n",
       "      <td>2016-12-09 10:58:53</td>\n",
       "      <td>Open</td>\n",
       "      <td>accepted</td>\n",
       "      <td>DPW Ops Queue</td>\n",
       "      <td>Graffiti Private Property</td>\n",
       "      <td>Not_Offensive Graffiti on Private Property</td>\n",
       "      <td>Building_commercial - Not_Offensive</td>\n",
       "      <td>3016 16TH ST, SAN FRANCISCO, CA, 94103</td>\n",
       "      <td>9</td>\n",
       "      <td>Mission</td>\n",
       "      <td>(37.765138960266, -122.420042041081)</td>\n",
       "      <td>Voice In</td>\n",
       "      <td>NaN</td>\n",
       "    </tr>\n",
       "    <tr>\n",
       "      <th>75</th>\n",
       "      <td>6610830</td>\n",
       "      <td>2016-12-09 09:37:06</td>\n",
       "      <td>NaT</td>\n",
       "      <td>2016-12-09 10:01:06</td>\n",
       "      <td>Open</td>\n",
       "      <td>accepted</td>\n",
       "      <td>DPW Ops Queue</td>\n",
       "      <td>Graffiti Public Property</td>\n",
       "      <td>Offensive Graffiti on Public Property</td>\n",
       "      <td>Pole - Offensive</td>\n",
       "      <td>Intersection of BAY SHORE BLVD ON RAMP and HWY 101 S ON RAMP</td>\n",
       "      <td>9</td>\n",
       "      <td>Mission</td>\n",
       "      <td>(37.7498544021639, -122.405623813695)</td>\n",
       "      <td>Open311</td>\n",
       "      <td>http://mobile311.sfgov.org/media/san_francisco/report/photos/584aebb43da19793c74c5f39/photo_20161209_093611.jpg</td>\n",
       "    </tr>\n",
       "    <tr>\n",
       "      <th>80</th>\n",
       "      <td>6610733</td>\n",
       "      <td>2016-12-09 09:22:21</td>\n",
       "      <td>NaT</td>\n",
       "      <td>2016-12-09 10:26:21</td>\n",
       "      <td>Open</td>\n",
       "      <td>accepted</td>\n",
       "      <td>DPW Ops Queue</td>\n",
       "      <td>Graffiti Private Property</td>\n",
       "      <td>Not_Offensive Graffiti on Private Property</td>\n",
       "      <td>Building_commercial - Not_Offensive</td>\n",
       "      <td>240 SHOTWELL ST, SAN FRANCISCO, CA, 94110</td>\n",
       "      <td>9</td>\n",
       "      <td>Mission</td>\n",
       "      <td>(37.764751154394, -122.416438535593)</td>\n",
       "      <td>Open311</td>\n",
       "      <td>http://mobile311.sfgov.org/media/san_francisco/report/photos/584ae83e3da19793c74c5db4/report.jpg</td>\n",
       "    </tr>\n",
       "    <tr>\n",
       "      <th>81</th>\n",
       "      <td>6610699</td>\n",
       "      <td>2016-12-09 09:18:54</td>\n",
       "      <td>NaT</td>\n",
       "      <td>2016-12-09 10:12:50</td>\n",
       "      <td>Open</td>\n",
       "      <td>accepted</td>\n",
       "      <td>DPW Ops Queue</td>\n",
       "      <td>Graffiti Private Property</td>\n",
       "      <td>Not_Offensive Graffiti on Private Property</td>\n",
       "      <td>Building_commercial - Not_Offensive</td>\n",
       "      <td>2000 FOLSOM ST, SAN FRANCISCO, CA, 94110</td>\n",
       "      <td>9</td>\n",
       "      <td>Mission</td>\n",
       "      <td>(37.765099046216, -122.415615517012)</td>\n",
       "      <td>Open311</td>\n",
       "      <td>http://mobile311.sfgov.org/media/san_francisco/report/photos/584ae76d3da19793c74c5ce3/report.jpg</td>\n",
       "    </tr>\n",
       "    <tr>\n",
       "      <th>89</th>\n",
       "      <td>6610469</td>\n",
       "      <td>2016-12-09 08:40:46</td>\n",
       "      <td>NaT</td>\n",
       "      <td>2016-12-09 08:40:46</td>\n",
       "      <td>Open</td>\n",
       "      <td>accepted</td>\n",
       "      <td>DPW Ops Queue</td>\n",
       "      <td>Graffiti Private Property</td>\n",
       "      <td>Not_Offensive Graffiti on Private Property</td>\n",
       "      <td>Building_commercial - Not_Offensive</td>\n",
       "      <td>Intersection of 19TH ST and LEXINGTON ST</td>\n",
       "      <td>9</td>\n",
       "      <td>Mission</td>\n",
       "      <td>(37.7601475157402, -122.420659554429)</td>\n",
       "      <td>Open311</td>\n",
       "      <td>http://mobile311.sfgov.org/media/san_francisco/report/photos/584ade833da19793c74c5a9d/photo_20161209_084030.jpg</td>\n",
       "    </tr>\n",
       "    <tr>\n",
       "      <th>90</th>\n",
       "      <td>6610462</td>\n",
       "      <td>2016-12-09 08:39:32</td>\n",
       "      <td>NaT</td>\n",
       "      <td>2016-12-09 10:07:17</td>\n",
       "      <td>Open</td>\n",
       "      <td>Open</td>\n",
       "      <td>PUC - Water - Graffiti Queue</td>\n",
       "      <td>Graffiti Public Property</td>\n",
       "      <td>Not_Offensive Graffiti on Public Property</td>\n",
       "      <td>Fire_hydrant - Not_Offensive</td>\n",
       "      <td>Intersection of 19TH ST and SAN CARLOS ST</td>\n",
       "      <td>9</td>\n",
       "      <td>Mission</td>\n",
       "      <td>(37.7601888876742, -122.419974854088)</td>\n",
       "      <td>Open311</td>\n",
       "      <td>http://mobile311.sfgov.org/media/san_francisco/report/photos/584ade393da19793c74c5a81/photo_20161209_083917.jpg</td>\n",
       "    </tr>\n",
       "    <tr>\n",
       "      <th>91</th>\n",
       "      <td>6610456</td>\n",
       "      <td>2016-12-09 08:38:10</td>\n",
       "      <td>NaT</td>\n",
       "      <td>2016-12-09 08:38:10</td>\n",
       "      <td>Open</td>\n",
       "      <td>accepted</td>\n",
       "      <td>DPW Ops Queue</td>\n",
       "      <td>Graffiti Private Property</td>\n",
       "      <td>Not_Offensive Graffiti on Private Property</td>\n",
       "      <td>Building_commercial - Not_Offensive</td>\n",
       "      <td>Intersection of 19TH ST and MISSION ST</td>\n",
       "      <td>9</td>\n",
       "      <td>Mission</td>\n",
       "      <td>(37.7602354682392, -122.419206209871)</td>\n",
       "      <td>Open311</td>\n",
       "      <td>http://mobile311.sfgov.org/media/san_francisco/report/photos/584adde43da19793c74c5a71/photo_20161209_083756.jpg</td>\n",
       "    </tr>\n",
       "    <tr>\n",
       "      <th>92</th>\n",
       "      <td>6610452</td>\n",
       "      <td>2016-12-09 08:36:56</td>\n",
       "      <td>2016-12-09 12:49:24</td>\n",
       "      <td>2016-12-09 12:49:24</td>\n",
       "      <td>Closed</td>\n",
       "      <td>Case Resolved - Pickup completed</td>\n",
       "      <td>Recology_Litter</td>\n",
       "      <td>Graffiti Public Property</td>\n",
       "      <td>Not_Offensive Graffiti on Public Property</td>\n",
       "      <td>City_receptacle - Not_Offensive</td>\n",
       "      <td>2268 MISSION ST, SAN FRANCISCO, CA, 94110</td>\n",
       "      <td>9</td>\n",
       "      <td>Mission</td>\n",
       "      <td>(37.760788268015, -122.419419430711)</td>\n",
       "      <td>Open311</td>\n",
       "      <td>http://mobile311.sfgov.org/media/san_francisco/report/photos/584add983da19793c74c5a67/photo_20161209_083625.jpg</td>\n",
       "    </tr>\n",
       "    <tr>\n",
       "      <th>93</th>\n",
       "      <td>6610449</td>\n",
       "      <td>2016-12-09 08:36:06</td>\n",
       "      <td>2016-12-09 12:49:21</td>\n",
       "      <td>2016-12-09 12:49:21</td>\n",
       "      <td>Closed</td>\n",
       "      <td>Case Resolved - Pickup completed</td>\n",
       "      <td>Recology_Litter</td>\n",
       "      <td>Graffiti Public Property</td>\n",
       "      <td>Not_Offensive Graffiti on Public Property</td>\n",
       "      <td>City_receptacle - Not_Offensive</td>\n",
       "      <td>2266 MISSION ST, SAN FRANCISCO, CA, 94110</td>\n",
       "      <td>9</td>\n",
       "      <td>Mission</td>\n",
       "      <td>(37.760770449948, -122.41932665748)</td>\n",
       "      <td>Open311</td>\n",
       "      <td>http://mobile311.sfgov.org/media/san_francisco/report/photos/584add673da19793c74c5a53/photo_20161209_083538.jpg</td>\n",
       "    </tr>\n",
       "    <tr>\n",
       "      <th>94</th>\n",
       "      <td>6610438</td>\n",
       "      <td>2016-12-09 08:34:23</td>\n",
       "      <td>2016-12-09 12:49:19</td>\n",
       "      <td>2016-12-09 12:49:19</td>\n",
       "      <td>Closed</td>\n",
       "      <td>Case Resolved - Pickup completed</td>\n",
       "      <td>Recology_Litter</td>\n",
       "      <td>Graffiti Public Property</td>\n",
       "      <td>Not_Offensive Graffiti on Public Property</td>\n",
       "      <td>City_receptacle - Not_Offensive</td>\n",
       "      <td>2240 MISSION ST, SAN FRANCISCO, CA, 94110</td>\n",
       "      <td>9</td>\n",
       "      <td>Mission</td>\n",
       "      <td>(37.761128819485, -122.419490268011)</td>\n",
       "      <td>Open311</td>\n",
       "      <td>http://mobile311.sfgov.org/media/san_francisco/report/photos/584adcff3da19793c74c5a1b/photo_20161209_083349.jpg</td>\n",
       "    </tr>\n",
       "    <tr>\n",
       "      <th>95</th>\n",
       "      <td>6610435</td>\n",
       "      <td>2016-12-09 08:33:39</td>\n",
       "      <td>2016-12-09 12:49:16</td>\n",
       "      <td>2016-12-09 12:49:16</td>\n",
       "      <td>Closed</td>\n",
       "      <td>Case Resolved - Pickup completed</td>\n",
       "      <td>Recology_Litter</td>\n",
       "      <td>Graffiti Public Property</td>\n",
       "      <td>Not_Offensive Graffiti on Public Property</td>\n",
       "      <td>City_receptacle - Not_Offensive</td>\n",
       "      <td>2234 MISSION ST, SAN FRANCISCO, CA, 94110</td>\n",
       "      <td>9</td>\n",
       "      <td>Mission</td>\n",
       "      <td>(37.761198299744, -122.419496919605)</td>\n",
       "      <td>Open311</td>\n",
       "      <td>http://mobile311.sfgov.org/media/san_francisco/report/photos/584adcd53da19793c74c5a11/photo_20161209_083312.jpg</td>\n",
       "    </tr>\n",
       "    <tr>\n",
       "      <th>96</th>\n",
       "      <td>6610420</td>\n",
       "      <td>2016-12-09 08:31:44</td>\n",
       "      <td>NaT</td>\n",
       "      <td>2016-12-09 08:31:44</td>\n",
       "      <td>Open</td>\n",
       "      <td>Open</td>\n",
       "      <td>US Postal Service Maintenance Queue</td>\n",
       "      <td>Graffiti Public Property</td>\n",
       "      <td>Not_Offensive Graffiti on Public Property</td>\n",
       "      <td>Mail_box - Not_Offensive</td>\n",
       "      <td>Intersection of 18TH ST and MISSION ST</td>\n",
       "      <td>9</td>\n",
       "      <td>Mission</td>\n",
       "      <td>(37.7618358043403, -122.419359315196)</td>\n",
       "      <td>Open311</td>\n",
       "      <td>http://mobile311.sfgov.org/media/san_francisco/report/photos/584adc5c3da19793c74c59dc/photo_20161209_083127.jpg</td>\n",
       "    </tr>\n",
       "    <tr>\n",
       "      <th>97</th>\n",
       "      <td>6610412</td>\n",
       "      <td>2016-12-09 08:29:18</td>\n",
       "      <td>2016-12-09 10:05:50</td>\n",
       "      <td>2016-12-09 10:05:50</td>\n",
       "      <td>Closed</td>\n",
       "      <td>Case Transferred - Case transferred please see new SR#6611008.</td>\n",
       "      <td>311 Supervisor Queue</td>\n",
       "      <td>Graffiti Public Property</td>\n",
       "      <td>Offensive Graffiti on Public Property</td>\n",
       "      <td>Other_enter_additional_details_below - Offensive</td>\n",
       "      <td>3016 16TH ST, SAN FRANCISCO, CA, 94103</td>\n",
       "      <td>9</td>\n",
       "      <td>Mission</td>\n",
       "      <td>(37.765138960266, -122.420042041081)</td>\n",
       "      <td>Open311</td>\n",
       "      <td>http://mobile311.sfgov.org/media/san_francisco/report/photos/584adbd23da19793c74c59cd/photo_20161209_082908.jpg</td>\n",
       "    </tr>\n",
       "    <tr>\n",
       "      <th>99</th>\n",
       "      <td>6610353</td>\n",
       "      <td>2016-12-09 08:10:34</td>\n",
       "      <td>NaT</td>\n",
       "      <td>2016-12-09 08:10:34</td>\n",
       "      <td>Open</td>\n",
       "      <td>Open</td>\n",
       "      <td>RPD NSA Queue</td>\n",
       "      <td>Graffiti Public Property</td>\n",
       "      <td>Not_Offensive Graffiti on Public Property</td>\n",
       "      <td>Signal_box - Not_Offensive</td>\n",
       "      <td>Alioto Mini Park, , SAN FRANCISCO, CA, 94110</td>\n",
       "      <td>9</td>\n",
       "      <td>Mission</td>\n",
       "      <td>(37.758902019, -122.4182171)</td>\n",
       "      <td>Open311</td>\n",
       "      <td>NaN</td>\n",
       "    </tr>\n",
       "    <tr>\n",
       "      <th>100</th>\n",
       "      <td>6610258</td>\n",
       "      <td>2016-12-09 07:12:03</td>\n",
       "      <td>NaT</td>\n",
       "      <td>2016-12-09 07:12:03</td>\n",
       "      <td>Open</td>\n",
       "      <td>accepted</td>\n",
       "      <td>DPW Ops Queue</td>\n",
       "      <td>Graffiti Private Property</td>\n",
       "      <td>Offensive Graffiti on Private Property</td>\n",
       "      <td>Building_residential - Offensive</td>\n",
       "      <td>443 VALENCIA ST, SAN FRANCISCO, CA, 94103</td>\n",
       "      <td>9</td>\n",
       "      <td>Mission</td>\n",
       "      <td>(37.765852033159, -122.421794755716)</td>\n",
       "      <td>Open311</td>\n",
       "      <td>NaN</td>\n",
       "    </tr>\n",
       "    <tr>\n",
       "      <th>101</th>\n",
       "      <td>6610256</td>\n",
       "      <td>2016-12-09 07:11:08</td>\n",
       "      <td>NaT</td>\n",
       "      <td>2016-12-09 07:11:08</td>\n",
       "      <td>Open</td>\n",
       "      <td>accepted</td>\n",
       "      <td>DPW Ops Queue</td>\n",
       "      <td>Graffiti Public Property</td>\n",
       "      <td>Offensive Graffiti on Public Property</td>\n",
       "      <td>Signal_box - Offensive</td>\n",
       "      <td>Intersection of 15TH ST and VALENCIA ST</td>\n",
       "      <td>9</td>\n",
       "      <td>Mission</td>\n",
       "      <td>(37.7665395633792, -122.422043889583)</td>\n",
       "      <td>Open311</td>\n",
       "      <td>NaN</td>\n",
       "    </tr>\n",
       "  </tbody>\n",
       "</table>\n",
       "</div>"
      ],
      "text/plain": [
       "      CaseID              Opened              Closed             Updated  \\\n",
       "10   6612843 2016-12-09 16:22:18                 NaT 2016-12-09 17:06:24   \n",
       "27   6612264 2016-12-09 14:29:40                 NaT 2016-12-09 14:29:40   \n",
       "57   6611030 2016-12-09 10:10:13                 NaT 2016-12-09 10:58:57   \n",
       "60   6611008 2016-12-09 10:04:42                 NaT 2016-12-09 10:58:53   \n",
       "75   6610830 2016-12-09 09:37:06                 NaT 2016-12-09 10:01:06   \n",
       "80   6610733 2016-12-09 09:22:21                 NaT 2016-12-09 10:26:21   \n",
       "81   6610699 2016-12-09 09:18:54                 NaT 2016-12-09 10:12:50   \n",
       "89   6610469 2016-12-09 08:40:46                 NaT 2016-12-09 08:40:46   \n",
       "90   6610462 2016-12-09 08:39:32                 NaT 2016-12-09 10:07:17   \n",
       "91   6610456 2016-12-09 08:38:10                 NaT 2016-12-09 08:38:10   \n",
       "92   6610452 2016-12-09 08:36:56 2016-12-09 12:49:24 2016-12-09 12:49:24   \n",
       "93   6610449 2016-12-09 08:36:06 2016-12-09 12:49:21 2016-12-09 12:49:21   \n",
       "94   6610438 2016-12-09 08:34:23 2016-12-09 12:49:19 2016-12-09 12:49:19   \n",
       "95   6610435 2016-12-09 08:33:39 2016-12-09 12:49:16 2016-12-09 12:49:16   \n",
       "96   6610420 2016-12-09 08:31:44                 NaT 2016-12-09 08:31:44   \n",
       "97   6610412 2016-12-09 08:29:18 2016-12-09 10:05:50 2016-12-09 10:05:50   \n",
       "99   6610353 2016-12-09 08:10:34                 NaT 2016-12-09 08:10:34   \n",
       "100  6610258 2016-12-09 07:12:03                 NaT 2016-12-09 07:12:03   \n",
       "101  6610256 2016-12-09 07:11:08                 NaT 2016-12-09 07:11:08   \n",
       "\n",
       "     Status                                                    Status Notes  \\\n",
       "10     Open                                                            open   \n",
       "27     Open                                                            Open   \n",
       "57     Open                                                        accepted   \n",
       "60     Open                                                        accepted   \n",
       "75     Open                                                        accepted   \n",
       "80     Open                                                        accepted   \n",
       "81     Open                                                        accepted   \n",
       "89     Open                                                        accepted   \n",
       "90     Open                                                            Open   \n",
       "91     Open                                                        accepted   \n",
       "92   Closed                                Case Resolved - Pickup completed   \n",
       "93   Closed                                Case Resolved - Pickup completed   \n",
       "94   Closed                                Case Resolved - Pickup completed   \n",
       "95   Closed                                Case Resolved - Pickup completed   \n",
       "96     Open                                                            Open   \n",
       "97   Closed  Case Transferred - Case transferred please see new SR#6611008.   \n",
       "99     Open                                                            Open   \n",
       "100    Open                                                        accepted   \n",
       "101    Open                                                        accepted   \n",
       "\n",
       "                      Responsible Agency                   Category  \\\n",
       "10                         DPW Ops Queue   Graffiti Public Property   \n",
       "27   US Postal Service Maintenance Queue   Graffiti Public Property   \n",
       "57                         DPW Ops Queue  Graffiti Private Property   \n",
       "60                         DPW Ops Queue  Graffiti Private Property   \n",
       "75                         DPW Ops Queue   Graffiti Public Property   \n",
       "80                         DPW Ops Queue  Graffiti Private Property   \n",
       "81                         DPW Ops Queue  Graffiti Private Property   \n",
       "89                         DPW Ops Queue  Graffiti Private Property   \n",
       "90          PUC - Water - Graffiti Queue   Graffiti Public Property   \n",
       "91                         DPW Ops Queue  Graffiti Private Property   \n",
       "92                       Recology_Litter   Graffiti Public Property   \n",
       "93                       Recology_Litter   Graffiti Public Property   \n",
       "94                       Recology_Litter   Graffiti Public Property   \n",
       "95                       Recology_Litter   Graffiti Public Property   \n",
       "96   US Postal Service Maintenance Queue   Graffiti Public Property   \n",
       "97                  311 Supervisor Queue   Graffiti Public Property   \n",
       "99                         RPD NSA Queue   Graffiti Public Property   \n",
       "100                        DPW Ops Queue  Graffiti Private Property   \n",
       "101                        DPW Ops Queue   Graffiti Public Property   \n",
       "\n",
       "                                   Request Type  \\\n",
       "10        Offensive Graffiti on Public Property   \n",
       "27        Offensive Graffiti on Public Property   \n",
       "57       Offensive Graffiti on Private Property   \n",
       "60   Not_Offensive Graffiti on Private Property   \n",
       "75        Offensive Graffiti on Public Property   \n",
       "80   Not_Offensive Graffiti on Private Property   \n",
       "81   Not_Offensive Graffiti on Private Property   \n",
       "89   Not_Offensive Graffiti on Private Property   \n",
       "90    Not_Offensive Graffiti on Public Property   \n",
       "91   Not_Offensive Graffiti on Private Property   \n",
       "92    Not_Offensive Graffiti on Public Property   \n",
       "93    Not_Offensive Graffiti on Public Property   \n",
       "94    Not_Offensive Graffiti on Public Property   \n",
       "95    Not_Offensive Graffiti on Public Property   \n",
       "96    Not_Offensive Graffiti on Public Property   \n",
       "97        Offensive Graffiti on Public Property   \n",
       "99    Not_Offensive Graffiti on Public Property   \n",
       "100      Offensive Graffiti on Private Property   \n",
       "101       Offensive Graffiti on Public Property   \n",
       "\n",
       "                                      Request Details  \\\n",
       "10   Other_enter_additional_details_below - Offensive   \n",
       "27                               Mail_box - Offensive   \n",
       "57                    Building_commercial - Offensive   \n",
       "60                Building_commercial - Not_Offensive   \n",
       "75                                   Pole - Offensive   \n",
       "80                Building_commercial - Not_Offensive   \n",
       "81                Building_commercial - Not_Offensive   \n",
       "89                Building_commercial - Not_Offensive   \n",
       "90                       Fire_hydrant - Not_Offensive   \n",
       "91                Building_commercial - Not_Offensive   \n",
       "92                    City_receptacle - Not_Offensive   \n",
       "93                    City_receptacle - Not_Offensive   \n",
       "94                    City_receptacle - Not_Offensive   \n",
       "95                    City_receptacle - Not_Offensive   \n",
       "96                           Mail_box - Not_Offensive   \n",
       "97   Other_enter_additional_details_below - Offensive   \n",
       "99                         Signal_box - Not_Offensive   \n",
       "100                  Building_residential - Offensive   \n",
       "101                            Signal_box - Offensive   \n",
       "\n",
       "                                                          Address  \\\n",
       "10                       Intersection of 16TH ST and CALEDONIA ST   \n",
       "27                         Intersection of 18TH ST and MISSION ST   \n",
       "57                      577 VALENCIA ST, SAN FRANCISCO, CA, 94110   \n",
       "60                         3016 16TH ST, SAN FRANCISCO, CA, 94103   \n",
       "75   Intersection of BAY SHORE BLVD ON RAMP and HWY 101 S ON RAMP   \n",
       "80                      240 SHOTWELL ST, SAN FRANCISCO, CA, 94110   \n",
       "81                       2000 FOLSOM ST, SAN FRANCISCO, CA, 94110   \n",
       "89                       Intersection of 19TH ST and LEXINGTON ST   \n",
       "90                      Intersection of 19TH ST and SAN CARLOS ST   \n",
       "91                         Intersection of 19TH ST and MISSION ST   \n",
       "92                      2268 MISSION ST, SAN FRANCISCO, CA, 94110   \n",
       "93                      2266 MISSION ST, SAN FRANCISCO, CA, 94110   \n",
       "94                      2240 MISSION ST, SAN FRANCISCO, CA, 94110   \n",
       "95                      2234 MISSION ST, SAN FRANCISCO, CA, 94110   \n",
       "96                         Intersection of 18TH ST and MISSION ST   \n",
       "97                         3016 16TH ST, SAN FRANCISCO, CA, 94103   \n",
       "99                   Alioto Mini Park, , SAN FRANCISCO, CA, 94110   \n",
       "100                     443 VALENCIA ST, SAN FRANCISCO, CA, 94103   \n",
       "101                       Intersection of 15TH ST and VALENCIA ST   \n",
       "\n",
       "     Supervisor District Neighborhood                                  Point  \\\n",
       "10                     9      Mission  (37.7649478070053, -122.421381595319)   \n",
       "27                     9      Mission  (37.7618358043403, -122.419359315196)   \n",
       "57                     9      Mission   (37.763689095375, -122.421587605718)   \n",
       "60                     9      Mission   (37.765138960266, -122.420042041081)   \n",
       "75                     9      Mission  (37.7498544021639, -122.405623813695)   \n",
       "80                     9      Mission   (37.764751154394, -122.416438535593)   \n",
       "81                     9      Mission   (37.765099046216, -122.415615517012)   \n",
       "89                     9      Mission  (37.7601475157402, -122.420659554429)   \n",
       "90                     9      Mission  (37.7601888876742, -122.419974854088)   \n",
       "91                     9      Mission  (37.7602354682392, -122.419206209871)   \n",
       "92                     9      Mission   (37.760788268015, -122.419419430711)   \n",
       "93                     9      Mission    (37.760770449948, -122.41932665748)   \n",
       "94                     9      Mission   (37.761128819485, -122.419490268011)   \n",
       "95                     9      Mission   (37.761198299744, -122.419496919605)   \n",
       "96                     9      Mission  (37.7618358043403, -122.419359315196)   \n",
       "97                     9      Mission   (37.765138960266, -122.420042041081)   \n",
       "99                     9      Mission           (37.758902019, -122.4182171)   \n",
       "100                    9      Mission   (37.765852033159, -122.421794755716)   \n",
       "101                    9      Mission  (37.7665395633792, -122.422043889583)   \n",
       "\n",
       "       Source  \\\n",
       "10    Open311   \n",
       "27    Open311   \n",
       "57    Open311   \n",
       "60   Voice In   \n",
       "75    Open311   \n",
       "80    Open311   \n",
       "81    Open311   \n",
       "89    Open311   \n",
       "90    Open311   \n",
       "91    Open311   \n",
       "92    Open311   \n",
       "93    Open311   \n",
       "94    Open311   \n",
       "95    Open311   \n",
       "96    Open311   \n",
       "97    Open311   \n",
       "99    Open311   \n",
       "100   Open311   \n",
       "101   Open311   \n",
       "\n",
       "                                                                                                           Media URL  \n",
       "10                                                                                                               NaN  \n",
       "27   http://mobile311.sfgov.org/media/san_francisco/report/photos/584b30473da19793c74c6bf6/photo_20161209_142837.jpg  \n",
       "57                  http://mobile311.sfgov.org/media/san_francisco/report/photos/584af3743da19793c74c61b5/report.jpg  \n",
       "60                                                                                                               NaN  \n",
       "75   http://mobile311.sfgov.org/media/san_francisco/report/photos/584aebb43da19793c74c5f39/photo_20161209_093611.jpg  \n",
       "80                  http://mobile311.sfgov.org/media/san_francisco/report/photos/584ae83e3da19793c74c5db4/report.jpg  \n",
       "81                  http://mobile311.sfgov.org/media/san_francisco/report/photos/584ae76d3da19793c74c5ce3/report.jpg  \n",
       "89   http://mobile311.sfgov.org/media/san_francisco/report/photos/584ade833da19793c74c5a9d/photo_20161209_084030.jpg  \n",
       "90   http://mobile311.sfgov.org/media/san_francisco/report/photos/584ade393da19793c74c5a81/photo_20161209_083917.jpg  \n",
       "91   http://mobile311.sfgov.org/media/san_francisco/report/photos/584adde43da19793c74c5a71/photo_20161209_083756.jpg  \n",
       "92   http://mobile311.sfgov.org/media/san_francisco/report/photos/584add983da19793c74c5a67/photo_20161209_083625.jpg  \n",
       "93   http://mobile311.sfgov.org/media/san_francisco/report/photos/584add673da19793c74c5a53/photo_20161209_083538.jpg  \n",
       "94   http://mobile311.sfgov.org/media/san_francisco/report/photos/584adcff3da19793c74c5a1b/photo_20161209_083349.jpg  \n",
       "95   http://mobile311.sfgov.org/media/san_francisco/report/photos/584adcd53da19793c74c5a11/photo_20161209_083312.jpg  \n",
       "96   http://mobile311.sfgov.org/media/san_francisco/report/photos/584adc5c3da19793c74c59dc/photo_20161209_083127.jpg  \n",
       "97   http://mobile311.sfgov.org/media/san_francisco/report/photos/584adbd23da19793c74c59cd/photo_20161209_082908.jpg  \n",
       "99                                                                                                               NaN  \n",
       "100                                                                                                              NaN  \n",
       "101                                                                                                              NaN  "
      ]
     },
     "execution_count": 83,
     "metadata": {},
     "output_type": "execute_result"
    }
   ],
   "source": [
    "df[df.Neighborhood == 'Mission']"
   ]
  },
  {
   "cell_type": "markdown",
   "metadata": {},
   "source": [
    "\n",
    "### Get rid of NaN entries and display images\n",
    "\n",
    "Need Help  https://youtu.be/2AFGPdNn4FM?t=8m"
   ]
  },
  {
   "cell_type": "code",
   "execution_count": 84,
   "metadata": {
    "collapsed": true
   },
   "outputs": [],
   "source": [
    "#hl_images = df[df['Media URL'].notnull() ]['Media URL']\n",
    "\n"
   ]
  },
  {
   "cell_type": "code",
   "execution_count": null,
   "metadata": {
    "collapsed": true
   },
   "outputs": [],
   "source": []
  },
  {
   "cell_type": "markdown",
   "metadata": {},
   "source": [
    "## limit the data frame to just one neighborhood or just one supervisor district"
   ]
  },
  {
   "cell_type": "code",
   "execution_count": 90,
   "metadata": {
    "collapsed": false
   },
   "outputs": [
    {
     "name": "stdout",
     "output_type": "stream",
     "text": [
      "0     http://mobile311.sfgov.org/media/san_francisco/report/photos/584b4ce03da19793c74c7253/photo_20161209_163240.jpg\n",
      "1     http://mobile311.sfgov.org/media/san_francisco/report/photos/584b49a13da19793c74c71a4/photo_20161209_161846.jpg\n",
      "2     http://mobile311.sfgov.org/media/san_francisco/report/photos/584b49673da19793c74c7186/photo_20161209_161746.jpg\n",
      "3                    http://mobile311.sfgov.org/media/san_francisco/report/photos/584b452a3da19793c74c70bd/report.jpg\n",
      "4     http://mobile311.sfgov.org/media/san_francisco/report/photos/584b42c33da19793c74c702d/photo_20161209_154911.jpg\n",
      "5                    http://mobile311.sfgov.org/media/san_francisco/report/photos/584b216f3da19793c74c6910/report.jpg\n",
      "6                    http://mobile311.sfgov.org/media/san_francisco/report/photos/584b1dcc3da19793c74c6891/report.jpg\n",
      "7                    http://mobile311.sfgov.org/media/san_francisco/report/photos/584b1d393da19793c74c6877/report.jpg\n",
      "8     http://mobile311.sfgov.org/media/san_francisco/report/photos/584afb4c3da19793c74c6350/photo_20161209_104309.jpg\n",
      "9     http://mobile311.sfgov.org/media/san_francisco/report/photos/584afa493da19793c74c6327/photo_20161209_103843.jpg\n",
      "10    http://mobile311.sfgov.org/media/san_francisco/report/photos/584af0d73da19793c74c6126/photo_20161209_095933.jpg\n",
      "11    http://mobile311.sfgov.org/media/san_francisco/report/photos/584af0073da19793c74c60e8/photo_20161209_095629.jpg\n",
      "12    http://mobile311.sfgov.org/media/san_francisco/report/photos/584aef4b3da19793c74c609e/photo_20161209_095313.jpg\n",
      "13    http://mobile311.sfgov.org/media/san_francisco/report/photos/584aedd33da19793c74c5fec/photo_20161209_094659.jpg\n",
      "14    http://mobile311.sfgov.org/media/san_francisco/report/photos/584aebd63da19793c74c5f4f/photo_20161209_093705.jpg\n",
      "15    http://mobile311.sfgov.org/media/san_francisco/report/photos/584aebbc3da19793c74c5f43/photo_20161209_093710.jpg\n",
      "16    http://mobile311.sfgov.org/media/san_francisco/report/photos/584aead73da19793c74c5ed7/photo_20161209_093423.jpg\n",
      "17    http://mobile311.sfgov.org/media/san_francisco/report/photos/584aea243da19793c74c5e9d/photo_20161209_093107.jpg\n",
      "18    http://mobile311.sfgov.org/media/san_francisco/report/photos/584ae6cc3da19793c74c5c9f/photo_20161209_091700.jpg\n",
      "19    http://mobile311.sfgov.org/media/san_francisco/report/photos/584ae63d3da19793c74c5c7a/photo_20161209_091442.jpg\n",
      "20    http://mobile311.sfgov.org/media/san_francisco/report/photos/584ae6053da19793c74c5c62/photo_20161209_091155.jpg\n",
      "21    http://mobile311.sfgov.org/media/san_francisco/report/photos/584ae5ef3da19793c74c5c56/photo_20161209_091328.jpg\n",
      "22    http://mobile311.sfgov.org/media/san_francisco/report/photos/584ae56b3da19793c74c5c12/photo_20161209_090949.jpg\n",
      "23    http://mobile311.sfgov.org/media/san_francisco/report/photos/584ae53e3da19793c74c5bfa/photo_20161209_090900.jpg\n",
      "24    http://mobile311.sfgov.org/media/san_francisco/report/photos/584ae51c3da19793c74c5bee/photo_20161209_090954.jpg\n",
      "Name: Media URL, dtype: object\n"
     ]
    }
   ],
   "source": [
    "\n",
    "peskin = df[df['Supervisor District']==3]['Media URL']\n",
    "peskin = peskin.reset_index(drop=True)\n",
    "print(peskin[:])\n"
   ]
  },
  {
   "cell_type": "code",
   "execution_count": 91,
   "metadata": {
    "collapsed": false
   },
   "outputs": [
    {
     "name": "stdout",
     "output_type": "stream",
     "text": [
      "0     http://mobile311.sfgov.org/media/san_francisco/report/photos/584b4ce03da19793c74c7253/photo_20161209_163240.jpg\n",
      "1     http://mobile311.sfgov.org/media/san_francisco/report/photos/584b49a13da19793c74c71a4/photo_20161209_161846.jpg\n",
      "2     http://mobile311.sfgov.org/media/san_francisco/report/photos/584b49673da19793c74c7186/photo_20161209_161746.jpg\n",
      "3                    http://mobile311.sfgov.org/media/san_francisco/report/photos/584b452a3da19793c74c70bd/report.jpg\n",
      "4     http://mobile311.sfgov.org/media/san_francisco/report/photos/584b42c33da19793c74c702d/photo_20161209_154911.jpg\n",
      "5                    http://mobile311.sfgov.org/media/san_francisco/report/photos/584b216f3da19793c74c6910/report.jpg\n",
      "6                    http://mobile311.sfgov.org/media/san_francisco/report/photos/584b1dcc3da19793c74c6891/report.jpg\n",
      "7                    http://mobile311.sfgov.org/media/san_francisco/report/photos/584b1d393da19793c74c6877/report.jpg\n",
      "8     http://mobile311.sfgov.org/media/san_francisco/report/photos/584afb4c3da19793c74c6350/photo_20161209_104309.jpg\n",
      "9     http://mobile311.sfgov.org/media/san_francisco/report/photos/584afa493da19793c74c6327/photo_20161209_103843.jpg\n",
      "10    http://mobile311.sfgov.org/media/san_francisco/report/photos/584af0d73da19793c74c6126/photo_20161209_095933.jpg\n",
      "11    http://mobile311.sfgov.org/media/san_francisco/report/photos/584af0073da19793c74c60e8/photo_20161209_095629.jpg\n",
      "12    http://mobile311.sfgov.org/media/san_francisco/report/photos/584aef4b3da19793c74c609e/photo_20161209_095313.jpg\n",
      "13    http://mobile311.sfgov.org/media/san_francisco/report/photos/584aedd33da19793c74c5fec/photo_20161209_094659.jpg\n",
      "14    http://mobile311.sfgov.org/media/san_francisco/report/photos/584aebd63da19793c74c5f4f/photo_20161209_093705.jpg\n",
      "15    http://mobile311.sfgov.org/media/san_francisco/report/photos/584aebbc3da19793c74c5f43/photo_20161209_093710.jpg\n",
      "16    http://mobile311.sfgov.org/media/san_francisco/report/photos/584aead73da19793c74c5ed7/photo_20161209_093423.jpg\n",
      "17    http://mobile311.sfgov.org/media/san_francisco/report/photos/584aea243da19793c74c5e9d/photo_20161209_093107.jpg\n",
      "18    http://mobile311.sfgov.org/media/san_francisco/report/photos/584ae6cc3da19793c74c5c9f/photo_20161209_091700.jpg\n",
      "19    http://mobile311.sfgov.org/media/san_francisco/report/photos/584ae63d3da19793c74c5c7a/photo_20161209_091442.jpg\n",
      "20    http://mobile311.sfgov.org/media/san_francisco/report/photos/584ae6053da19793c74c5c62/photo_20161209_091155.jpg\n",
      "21    http://mobile311.sfgov.org/media/san_francisco/report/photos/584ae5ef3da19793c74c5c56/photo_20161209_091328.jpg\n",
      "22    http://mobile311.sfgov.org/media/san_francisco/report/photos/584ae56b3da19793c74c5c12/photo_20161209_090949.jpg\n",
      "23    http://mobile311.sfgov.org/media/san_francisco/report/photos/584ae53e3da19793c74c5bfa/photo_20161209_090900.jpg\n",
      "24    http://mobile311.sfgov.org/media/san_francisco/report/photos/584ae51c3da19793c74c5bee/photo_20161209_090954.jpg\n",
      "Name: Media URL, dtype: object\n"
     ]
    }
   ],
   "source": [
    "print(peskin[:])"
   ]
  },
  {
   "cell_type": "code",
   "execution_count": null,
   "metadata": {
    "collapsed": true
   },
   "outputs": [],
   "source": []
  },
  {
   "cell_type": "code",
   "execution_count": 92,
   "metadata": {
    "collapsed": false
   },
   "outputs": [
    {
     "name": "stdout",
     "output_type": "stream",
     "text": [
      "0                    http://mobile311.sfgov.org/media/san_francisco/report/photos/584b7f0a3da19793c74c75c7/report.jpg\n",
      "1                    http://mobile311.sfgov.org/media/san_francisco/report/photos/584b53373da19793c74c7310/report.jpg\n",
      "2     http://mobile311.sfgov.org/media/san_francisco/report/photos/584b502a3da19793c74c72a4/photo_20161209_164442.jpg\n",
      "3     http://mobile311.sfgov.org/media/san_francisco/report/photos/584b4ce03da19793c74c7253/photo_20161209_163240.jpg\n",
      "4                    http://mobile311.sfgov.org/media/san_francisco/report/photos/584b4c1d3da19793c74c723a/report.jpg\n",
      "5     http://mobile311.sfgov.org/media/san_francisco/report/photos/584b49a13da19793c74c71a4/photo_20161209_161846.jpg\n",
      "6     http://mobile311.sfgov.org/media/san_francisco/report/photos/584b49673da19793c74c7186/photo_20161209_161746.jpg\n",
      "7                    http://mobile311.sfgov.org/media/san_francisco/report/photos/584b452a3da19793c74c70bd/report.jpg\n",
      "8     http://mobile311.sfgov.org/media/san_francisco/report/photos/584b42c33da19793c74c702d/photo_20161209_154911.jpg\n",
      "9                    http://mobile311.sfgov.org/media/san_francisco/report/photos/584b41723da19793c74c6ffc/report.jpg\n",
      "10                   http://mobile311.sfgov.org/media/san_francisco/report/photos/584b35ee3da19793c74c6d6b/report.jpg\n",
      "11                   http://mobile311.sfgov.org/media/san_francisco/report/photos/584b35b53da19793c74c6d5c/report.jpg\n",
      "12                   http://mobile311.sfgov.org/media/san_francisco/report/photos/584b35693da19793c74c6d46/report.jpg\n",
      "13                   http://mobile311.sfgov.org/media/san_francisco/report/photos/584b33bb3da19793c74c6cf2/report.jpg\n",
      "14                   http://mobile311.sfgov.org/media/san_francisco/report/photos/584b337f3da19793c74c6cc8/report.jpg\n",
      "15                   http://mobile311.sfgov.org/media/san_francisco/report/photos/584b33433da19793c74c6cb3/report.jpg\n",
      "16                   http://mobile311.sfgov.org/media/san_francisco/report/photos/584b31c43da19793c74c6c67/report.jpg\n",
      "17    http://mobile311.sfgov.org/media/san_francisco/report/photos/584b310f3da19793c74c6c1a/photo_20161209_143220.jpg\n",
      "18    http://mobile311.sfgov.org/media/san_francisco/report/photos/584b30473da19793c74c6bf6/photo_20161209_142837.jpg\n",
      "19                   http://mobile311.sfgov.org/media/san_francisco/report/photos/584b2e413da19793c74c6b59/report.jpg\n",
      "20    http://mobile311.sfgov.org/media/san_francisco/report/photos/584b2d803da19793c74c6b32/photo_20161209_141728.jpg\n",
      "21    http://mobile311.sfgov.org/media/san_francisco/report/photos/584b2b3f3da19793c74c6af0/photo_20161209_140750.jpg\n",
      "22    http://mobile311.sfgov.org/media/san_francisco/report/photos/584b2aba3da19793c74c6ace/photo_20161209_140519.jpg\n",
      "23    http://mobile311.sfgov.org/media/san_francisco/report/photos/584b2a4f3da19793c74c6ac4/photo_20161209_140353.jpg\n",
      "24    http://mobile311.sfgov.org/media/san_francisco/report/photos/584b29e63da19793c74c6aac/photo_20161209_140209.jpg\n",
      "25    http://mobile311.sfgov.org/media/san_francisco/report/photos/584b28fd3da19793c74c6a6b/photo_20161209_135644.jpg\n",
      "26    http://mobile311.sfgov.org/media/san_francisco/report/photos/584b25f23da19793c74c69e6/photo_20161209_134103.jpg\n",
      "27                   http://mobile311.sfgov.org/media/san_francisco/report/photos/584b216f3da19793c74c6910/report.jpg\n",
      "28                   http://mobile311.sfgov.org/media/san_francisco/report/photos/584b20d93da19793c74c68eb/report.jpg\n",
      "29                   http://mobile311.sfgov.org/media/san_francisco/report/photos/584b20773da19793c74c68e1/report.jpg\n",
      "                                                           ...                                                       \n",
      "56    http://mobile311.sfgov.org/media/san_francisco/report/photos/584aedd33da19793c74c5fec/photo_20161209_094659.jpg\n",
      "57    http://mobile311.sfgov.org/media/san_francisco/report/photos/584aed023da19793c74c5fba/photo_20161209_094158.jpg\n",
      "58    http://mobile311.sfgov.org/media/san_francisco/report/photos/584aebe33da19793c74c5f5b/photo_20161209_093732.jpg\n",
      "59    http://mobile311.sfgov.org/media/san_francisco/report/photos/584aebd63da19793c74c5f4f/photo_20161209_093705.jpg\n",
      "60    http://mobile311.sfgov.org/media/san_francisco/report/photos/584aebbc3da19793c74c5f43/photo_20161209_093710.jpg\n",
      "61    http://mobile311.sfgov.org/media/san_francisco/report/photos/584aebb43da19793c74c5f39/photo_20161209_093611.jpg\n",
      "62    http://mobile311.sfgov.org/media/san_francisco/report/photos/584aeb723da19793c74c5f22/photo_20161209_093517.jpg\n",
      "63    http://mobile311.sfgov.org/media/san_francisco/report/photos/584aead73da19793c74c5ed7/photo_20161209_093423.jpg\n",
      "64    http://mobile311.sfgov.org/media/san_francisco/report/photos/584aea243da19793c74c5e9d/photo_20161209_093107.jpg\n",
      "65                   http://mobile311.sfgov.org/media/san_francisco/report/photos/584ae83d3da19793c74c5da9/report.jpg\n",
      "66                   http://mobile311.sfgov.org/media/san_francisco/report/photos/584ae83e3da19793c74c5db4/report.jpg\n",
      "67                   http://mobile311.sfgov.org/media/san_francisco/report/photos/584ae76d3da19793c74c5ce3/report.jpg\n",
      "68    http://mobile311.sfgov.org/media/san_francisco/report/photos/584ae6cc3da19793c74c5c9f/photo_20161209_091700.jpg\n",
      "69    http://mobile311.sfgov.org/media/san_francisco/report/photos/584ae63d3da19793c74c5c7a/photo_20161209_091442.jpg\n",
      "70    http://mobile311.sfgov.org/media/san_francisco/report/photos/584ae6053da19793c74c5c62/photo_20161209_091155.jpg\n",
      "71    http://mobile311.sfgov.org/media/san_francisco/report/photos/584ae5ef3da19793c74c5c56/photo_20161209_091328.jpg\n",
      "72    http://mobile311.sfgov.org/media/san_francisco/report/photos/584ae56b3da19793c74c5c12/photo_20161209_090949.jpg\n",
      "73    http://mobile311.sfgov.org/media/san_francisco/report/photos/584ae53e3da19793c74c5bfa/photo_20161209_090900.jpg\n",
      "74    http://mobile311.sfgov.org/media/san_francisco/report/photos/584ae51c3da19793c74c5bee/photo_20161209_090954.jpg\n",
      "75    http://mobile311.sfgov.org/media/san_francisco/report/photos/584ade833da19793c74c5a9d/photo_20161209_084030.jpg\n",
      "76    http://mobile311.sfgov.org/media/san_francisco/report/photos/584ade393da19793c74c5a81/photo_20161209_083917.jpg\n",
      "77    http://mobile311.sfgov.org/media/san_francisco/report/photos/584adde43da19793c74c5a71/photo_20161209_083756.jpg\n",
      "78    http://mobile311.sfgov.org/media/san_francisco/report/photos/584add983da19793c74c5a67/photo_20161209_083625.jpg\n",
      "79    http://mobile311.sfgov.org/media/san_francisco/report/photos/584add673da19793c74c5a53/photo_20161209_083538.jpg\n",
      "80    http://mobile311.sfgov.org/media/san_francisco/report/photos/584adcff3da19793c74c5a1b/photo_20161209_083349.jpg\n",
      "81    http://mobile311.sfgov.org/media/san_francisco/report/photos/584adcd53da19793c74c5a11/photo_20161209_083312.jpg\n",
      "82    http://mobile311.sfgov.org/media/san_francisco/report/photos/584adc5c3da19793c74c59dc/photo_20161209_083127.jpg\n",
      "83    http://mobile311.sfgov.org/media/san_francisco/report/photos/584adbd23da19793c74c59cd/photo_20161209_082908.jpg\n",
      "84                   http://mobile311.sfgov.org/media/san_francisco/report/photos/584a65fd3da19793c74c55aa/report.jpg\n",
      "85                   http://mobile311.sfgov.org/media/san_francisco/report/photos/584a65b83da19793c74c55a0/report.jpg\n",
      "Name: Media URL, dtype: object\n"
     ]
    }
   ],
   "source": [
    "\n",
    "images = df[df['Media URL'].notnull() ]['Media URL']\n",
    "images = images.reset_index(drop=True)\n",
    "print(images[:])\n"
   ]
  },
  {
   "cell_type": "code",
   "execution_count": 47,
   "metadata": {
    "collapsed": false
   },
   "outputs": [
    {
     "data": {
      "text/plain": [
       "86"
      ]
     },
     "execution_count": 47,
     "metadata": {},
     "output_type": "execute_result"
    }
   ],
   "source": [
    "len(images)"
   ]
  },
  {
   "cell_type": "code",
   "execution_count": 27,
   "metadata": {
    "collapsed": false
   },
   "outputs": [
    {
     "data": {
      "text/plain": [
       "'http://mobile311.sfgov.org/media/san_francisco/report/photos/584b7f0a3da19793c74c75c7/report.jpg'"
      ]
     },
     "execution_count": 27,
     "metadata": {},
     "output_type": "execute_result"
    }
   ],
   "source": [
    "images[0]"
   ]
  },
  {
   "cell_type": "code",
   "execution_count": 28,
   "metadata": {
    "collapsed": false,
    "scrolled": false
   },
   "outputs": [
    {
     "name": "stdout",
     "output_type": "stream",
     "text": [
      "http://mobile311.sfgov.org/media/san_francisco/report/photos/584b2d803da19793c74c6b32/photo_20161209_141728.jpg\n"
     ]
    },
    {
     "data": {
      "image/jpeg": "[encoded data removed]",
      "text/plain": [
       "<IPython.core.display.Image object>"
      ]
     },
     "execution_count": 28,
     "metadata": {},
     "output_type": "execute_result"
    }
   ],
   "source": [
    "print(images[20])\n",
    "Image(images[20])\n"
   ]
  },
  {
   "cell_type": "code",
   "execution_count": 29,
   "metadata": {
    "collapsed": false
   },
   "outputs": [
    {
     "name": "stdout",
     "output_type": "stream",
     "text": [
      "/home/gdillon/JupyterPractice/graffiti_SF311\r\n"
     ]
    }
   ],
   "source": [
    "!pwd"
   ]
  },
  {
   "cell_type": "code",
   "execution_count": 93,
   "metadata": {
    "collapsed": false
   },
   "outputs": [],
   "source": [
    "peskin[:180].to_csv(\"./imagelist.txt\", index=False)"
   ]
  },
  {
   "cell_type": "code",
   "execution_count": 94,
   "metadata": {
    "collapsed": false
   },
   "outputs": [
    {
     "name": "stdout",
     "output_type": "stream",
     "text": [
      "rm: cannot remove '0*.jpg': No such file or directory\n",
      "--2016-12-10 23:56:48--  http://mobile311.sfgov.org/media/san_francisco/report/photos/584b4ce03da19793c74c7253/photo_20161209_163240.jpg\n",
      "Resolving mobile311.sfgov.org (mobile311.sfgov.org)... 54.144.250.241\n",
      "Connecting to mobile311.sfgov.org (mobile311.sfgov.org)|54.144.250.241|:80... connected.\n",
      "HTTP request sent, awaiting response... 200 OK\n",
      "Length: 80767 (79K) [image/jpeg]\n",
      "Saving to: 'photo_20161209_163240.jpg'\n",
      "\n",
      "photo_20161209_1632 100%[===================>]  78.87K  --.-KB/s    in 0.1s    \n",
      "\n",
      "2016-12-10 23:56:48 (760 KB/s) - 'photo_20161209_163240.jpg' saved [80767/80767]\n",
      "\n",
      "--2016-12-10 23:56:48--  http://mobile311.sfgov.org/media/san_francisco/report/photos/584b49a13da19793c74c71a4/photo_20161209_161846.jpg\n",
      "Reusing existing connection to mobile311.sfgov.org:80.\n",
      "HTTP request sent, awaiting response... 200 OK\n",
      "Length: 97353 (95K) [image/jpeg]\n",
      "Saving to: 'photo_20161209_161846.jpg'\n",
      "\n",
      "photo_20161209_1618 100%[===================>]  95.07K  --.-KB/s    in 0.04s   \n",
      "\n",
      "2016-12-10 23:56:48 (2.65 MB/s) - 'photo_20161209_161846.jpg' saved [97353/97353]\n",
      "\n",
      "--2016-12-10 23:56:48--  http://mobile311.sfgov.org/media/san_francisco/report/photos/584b49673da19793c74c7186/photo_20161209_161746.jpg\n",
      "Reusing existing connection to mobile311.sfgov.org:80.\n",
      "HTTP request sent, awaiting response... 200 OK\n",
      "Length: 57506 (56K) [image/jpeg]\n",
      "Saving to: 'photo_20161209_161746.jpg'\n",
      "\n",
      "photo_20161209_1617 100%[===================>]  56.16K  --.-KB/s    in 0s      \n",
      "\n",
      "2016-12-10 23:56:48 (111 MB/s) - 'photo_20161209_161746.jpg' saved [57506/57506]\n",
      "\n",
      "--2016-12-10 23:56:48--  http://mobile311.sfgov.org/media/san_francisco/report/photos/584b452a3da19793c74c70bd/report.jpg\n",
      "Reusing existing connection to mobile311.sfgov.org:80.\n",
      "HTTP request sent, awaiting response... 200 OK\n",
      "Length: 137276 (134K) [image/jpeg]\n",
      "Saving to: 'report.jpg'\n",
      "\n",
      "report.jpg          100%[===================>] 134.06K  --.-KB/s    in 0.04s   \n",
      "\n",
      "2016-12-10 23:56:48 (3.73 MB/s) - 'report.jpg' saved [137276/137276]\n",
      "\n",
      "--2016-12-10 23:56:48--  http://mobile311.sfgov.org/media/san_francisco/report/photos/584b42c33da19793c74c702d/photo_20161209_154911.jpg\n",
      "Reusing existing connection to mobile311.sfgov.org:80.\n",
      "HTTP request sent, awaiting response... 200 OK\n",
      "Length: 171834 (168K) [image/jpeg]\n",
      "Saving to: 'photo_20161209_154911.jpg'\n",
      "\n",
      "photo_20161209_1549 100%[===================>] 167.81K  --.-KB/s    in 0.03s   \n",
      "\n",
      "2016-12-10 23:56:48 (4.68 MB/s) - 'photo_20161209_154911.jpg' saved [171834/171834]\n",
      "\n",
      "--2016-12-10 23:56:48--  http://mobile311.sfgov.org/media/san_francisco/report/photos/584b216f3da19793c74c6910/report.jpg\n",
      "Reusing existing connection to mobile311.sfgov.org:80.\n",
      "HTTP request sent, awaiting response... 200 OK\n",
      "Length: 142205 (139K) [image/jpeg]\n",
      "Saving to: 'report.jpg.1'\n",
      "\n",
      "report.jpg.1        100%[===================>] 138.87K  --.-KB/s    in 0s      \n",
      "\n",
      "2016-12-10 23:56:48 (463 MB/s) - 'report.jpg.1' saved [142205/142205]\n",
      "\n",
      "--2016-12-10 23:56:48--  http://mobile311.sfgov.org/media/san_francisco/report/photos/584b1dcc3da19793c74c6891/report.jpg\n",
      "Reusing existing connection to mobile311.sfgov.org:80.\n",
      "HTTP request sent, awaiting response... 200 OK\n",
      "Length: 267218 (261K) [image/jpeg]\n",
      "Saving to: 'report.jpg.2'\n",
      "\n",
      "report.jpg.2        100%[===================>] 260.96K  --.-KB/s    in 0.03s   \n",
      "\n",
      "2016-12-10 23:56:48 (7.47 MB/s) - 'report.jpg.2' saved [267218/267218]\n",
      "\n",
      "--2016-12-10 23:56:48--  http://mobile311.sfgov.org/media/san_francisco/report/photos/584b1d393da19793c74c6877/report.jpg\n",
      "Reusing existing connection to mobile311.sfgov.org:80.\n",
      "HTTP request sent, awaiting response... 200 OK\n",
      "Length: 207853 (203K) [image/jpeg]\n",
      "Saving to: 'report.jpg.3'\n",
      "\n",
      "report.jpg.3        100%[===================>] 202.98K  --.-KB/s    in 0.002s  \n",
      "\n",
      "2016-12-10 23:56:48 (123 MB/s) - 'report.jpg.3' saved [207853/207853]\n",
      "\n",
      "--2016-12-10 23:56:48--  http://mobile311.sfgov.org/media/san_francisco/report/photos/584afb4c3da19793c74c6350/photo_20161209_104309.jpg\n",
      "Reusing existing connection to mobile311.sfgov.org:80.\n",
      "HTTP request sent, awaiting response... 200 OK\n",
      "Length: 97077 (95K) [image/jpeg]\n",
      "Saving to: 'photo_20161209_104309.jpg'\n",
      "\n",
      "photo_20161209_1043 100%[===================>]  94.80K  --.-KB/s    in 0.001s  \n",
      "\n",
      "2016-12-10 23:56:48 (134 MB/s) - 'photo_20161209_104309.jpg' saved [97077/97077]\n",
      "\n",
      "--2016-12-10 23:56:48--  http://mobile311.sfgov.org/media/san_francisco/report/photos/584afa493da19793c74c6327/photo_20161209_103843.jpg\n",
      "Reusing existing connection to mobile311.sfgov.org:80.\n",
      "HTTP request sent, awaiting response... 200 OK\n",
      "Length: 98348 (96K) [image/jpeg]\n",
      "Saving to: 'photo_20161209_103843.jpg'\n",
      "\n",
      "photo_20161209_1038 100%[===================>]  96.04K  --.-KB/s    in 0s      \n",
      "\n",
      "2016-12-10 23:56:48 (345 MB/s) - 'photo_20161209_103843.jpg' saved [98348/98348]\n",
      "\n",
      "--2016-12-10 23:56:48--  http://mobile311.sfgov.org/media/san_francisco/report/photos/584af0d73da19793c74c6126/photo_20161209_095933.jpg\n",
      "Reusing existing connection to mobile311.sfgov.org:80.\n",
      "HTTP request sent, awaiting response... 200 OK\n",
      "Length: 203749 (199K) [image/jpeg]\n",
      "Saving to: 'photo_20161209_095933.jpg'\n",
      "\n",
      "photo_20161209_0959 100%[===================>] 198.97K  --.-KB/s    in 0.001s  \n",
      "\n",
      "2016-12-10 23:56:49 (258 MB/s) - 'photo_20161209_095933.jpg' saved [203749/203749]\n",
      "\n",
      "--2016-12-10 23:56:49--  http://mobile311.sfgov.org/media/san_francisco/report/photos/584af0073da19793c74c60e8/photo_20161209_095629.jpg\n",
      "Reusing existing connection to mobile311.sfgov.org:80.\n",
      "HTTP request sent, awaiting response... 200 OK\n",
      "Length: 102132 (100K) [image/jpeg]\n",
      "Saving to: 'photo_20161209_095629.jpg'\n",
      "\n",
      "photo_20161209_0956 100%[===================>]  99.74K  --.-KB/s    in 0s      \n",
      "\n",
      "2016-12-10 23:56:49 (197 MB/s) - 'photo_20161209_095629.jpg' saved [102132/102132]\n",
      "\n",
      "--2016-12-10 23:56:49--  http://mobile311.sfgov.org/media/san_francisco/report/photos/584aef4b3da19793c74c609e/photo_20161209_095313.jpg\n",
      "Reusing existing connection to mobile311.sfgov.org:80.\n",
      "HTTP request sent, awaiting response... 200 OK\n",
      "Length: 75171 (73K) [image/jpeg]\n",
      "Saving to: 'photo_20161209_095313.jpg'\n",
      "\n",
      "photo_20161209_0953 100%[===================>]  73.41K  --.-KB/s    in 0s      \n",
      "\n",
      "2016-12-10 23:56:49 (439 MB/s) - 'photo_20161209_095313.jpg' saved [75171/75171]\n",
      "\n",
      "--2016-12-10 23:56:49--  http://mobile311.sfgov.org/media/san_francisco/report/photos/584aedd33da19793c74c5fec/photo_20161209_094659.jpg\n",
      "Reusing existing connection to mobile311.sfgov.org:80.\n",
      "HTTP request sent, awaiting response... 200 OK\n",
      "Length: 70230 (69K) [image/jpeg]\n",
      "Saving to: 'photo_20161209_094659.jpg'\n",
      "\n",
      "photo_20161209_0946 100%[===================>]  68.58K  --.-KB/s    in 0s      \n",
      "\n",
      "2016-12-10 23:56:49 (145 MB/s) - 'photo_20161209_094659.jpg' saved [70230/70230]\n",
      "\n",
      "--2016-12-10 23:56:49--  http://mobile311.sfgov.org/media/san_francisco/report/photos/584aebd63da19793c74c5f4f/photo_20161209_093705.jpg\n",
      "Reusing existing connection to mobile311.sfgov.org:80.\n",
      "HTTP request sent, awaiting response... 200 OK\n",
      "Length: 256404 (250K) [image/jpeg]\n",
      "Saving to: 'photo_20161209_093705.jpg'\n",
      "\n",
      "photo_20161209_0937 100%[===================>] 250.39K  --.-KB/s    in 0.001s  \n",
      "\n",
      "2016-12-10 23:56:49 (434 MB/s) - 'photo_20161209_093705.jpg' saved [256404/256404]\n",
      "\n",
      "--2016-12-10 23:56:49--  http://mobile311.sfgov.org/media/san_francisco/report/photos/584aebbc3da19793c74c5f43/photo_20161209_093710.jpg\n",
      "Reusing existing connection to mobile311.sfgov.org:80.\n",
      "HTTP request sent, awaiting response... 200 OK\n",
      "Length: 125962 (123K) [image/jpeg]\n",
      "Saving to: 'photo_20161209_093710.jpg'\n",
      "\n",
      "photo_20161209_0937 100%[===================>] 123.01K  --.-KB/s    in 0s      \n",
      "\n",
      "2016-12-10 23:56:49 (270 MB/s) - 'photo_20161209_093710.jpg' saved [125962/125962]\n",
      "\n",
      "--2016-12-10 23:56:49--  http://mobile311.sfgov.org/media/san_francisco/report/photos/584aead73da19793c74c5ed7/photo_20161209_093423.jpg\n",
      "Reusing existing connection to mobile311.sfgov.org:80.\n",
      "HTTP request sent, awaiting response... 200 OK\n",
      "Length: 42390 (41K) [image/jpeg]\n",
      "Saving to: 'photo_20161209_093423.jpg'\n",
      "\n",
      "photo_20161209_0934 100%[===================>]  41.40K  --.-KB/s    in 0s      \n",
      "\n",
      "2016-12-10 23:56:49 (289 MB/s) - 'photo_20161209_093423.jpg' saved [42390/42390]\n",
      "\n",
      "--2016-12-10 23:56:49--  http://mobile311.sfgov.org/media/san_francisco/report/photos/584aea243da19793c74c5e9d/photo_20161209_093107.jpg\n",
      "Reusing existing connection to mobile311.sfgov.org:80.\n",
      "HTTP request sent, awaiting response... 200 OK\n",
      "Length: 111069 (108K) [image/jpeg]\n",
      "Saving to: 'photo_20161209_093107.jpg'\n",
      "\n",
      "photo_20161209_0931 100%[===================>] 108.47K  --.-KB/s    in 0s      \n",
      "\n",
      "2016-12-10 23:56:49 (280 MB/s) - 'photo_20161209_093107.jpg' saved [111069/111069]\n",
      "\n",
      "--2016-12-10 23:56:49--  http://mobile311.sfgov.org/media/san_francisco/report/photos/584ae6cc3da19793c74c5c9f/photo_20161209_091700.jpg\n",
      "Reusing existing connection to mobile311.sfgov.org:80.\n",
      "HTTP request sent, awaiting response... 200 OK\n",
      "Length: 156037 (152K) [image/jpeg]\n",
      "Saving to: 'photo_20161209_091700.jpg'\n",
      "\n",
      "photo_20161209_0917 100%[===================>] 152.38K  --.-KB/s    in 0s      \n",
      "\n",
      "2016-12-10 23:56:49 (510 MB/s) - 'photo_20161209_091700.jpg' saved [156037/156037]\n",
      "\n",
      "--2016-12-10 23:56:49--  http://mobile311.sfgov.org/media/san_francisco/report/photos/584ae63d3da19793c74c5c7a/photo_20161209_091442.jpg\n",
      "Reusing existing connection to mobile311.sfgov.org:80.\n",
      "HTTP request sent, awaiting response... 200 OK\n",
      "Length: 132348 (129K) [image/jpeg]\n",
      "Saving to: 'photo_20161209_091442.jpg'\n",
      "\n",
      "photo_20161209_0914 100%[===================>] 129.25K  --.-KB/s    in 0.001s  \n",
      "\n",
      "2016-12-10 23:56:49 (123 MB/s) - 'photo_20161209_091442.jpg' saved [132348/132348]\n",
      "\n",
      "--2016-12-10 23:56:49--  http://mobile311.sfgov.org/media/san_francisco/report/photos/584ae6053da19793c74c5c62/photo_20161209_091155.jpg\n",
      "Reusing existing connection to mobile311.sfgov.org:80.\n",
      "HTTP request sent, awaiting response... 200 OK\n",
      "Length: 102295 (100K) [image/jpeg]\n",
      "Saving to: 'photo_20161209_091155.jpg'\n",
      "\n",
      "photo_20161209_0911 100%[===================>]  99.90K  --.-KB/s    in 0s      \n",
      "\n",
      "2016-12-10 23:56:49 (196 MB/s) - 'photo_20161209_091155.jpg' saved [102295/102295]\n",
      "\n",
      "--2016-12-10 23:56:49--  http://mobile311.sfgov.org/media/san_francisco/report/photos/584ae5ef3da19793c74c5c56/photo_20161209_091328.jpg\n",
      "Reusing existing connection to mobile311.sfgov.org:80.\n",
      "HTTP request sent, awaiting response... 200 OK\n",
      "Length: 173316 (169K) [image/jpeg]\n",
      "Saving to: 'photo_20161209_091328.jpg'\n",
      "\n",
      "photo_20161209_0913 100%[===================>] 169.25K  --.-KB/s    in 0s      \n",
      "\n",
      "2016-12-10 23:56:49 (332 MB/s) - 'photo_20161209_091328.jpg' saved [173316/173316]\n",
      "\n",
      "--2016-12-10 23:56:49--  http://mobile311.sfgov.org/media/san_francisco/report/photos/584ae56b3da19793c74c5c12/photo_20161209_090949.jpg\n",
      "Reusing existing connection to mobile311.sfgov.org:80.\n",
      "HTTP request sent, awaiting response... 200 OK\n",
      "Length: 110680 (108K) [image/jpeg]\n",
      "Saving to: 'photo_20161209_090949.jpg'\n",
      "\n",
      "photo_20161209_0909 100%[===================>] 108.09K  --.-KB/s    in 0.001s  \n",
      "\n",
      "2016-12-10 23:56:49 (114 MB/s) - 'photo_20161209_090949.jpg' saved [110680/110680]\n",
      "\n",
      "--2016-12-10 23:56:49--  http://mobile311.sfgov.org/media/san_francisco/report/photos/584ae53e3da19793c74c5bfa/photo_20161209_090900.jpg\n",
      "Reusing existing connection to mobile311.sfgov.org:80.\n",
      "HTTP request sent, awaiting response... 200 OK\n",
      "Length: 151566 (148K) [image/jpeg]\n",
      "Saving to: 'photo_20161209_090900.jpg'\n",
      "\n",
      "photo_20161209_0909 100%[===================>] 148.01K  --.-KB/s    in 0s      \n",
      "\n",
      "2016-12-10 23:56:49 (460 MB/s) - 'photo_20161209_090900.jpg' saved [151566/151566]\n",
      "\n",
      "--2016-12-10 23:56:49--  http://mobile311.sfgov.org/media/san_francisco/report/photos/584ae51c3da19793c74c5bee/photo_20161209_090954.jpg\n",
      "Reusing existing connection to mobile311.sfgov.org:80.\n",
      "HTTP request sent, awaiting response... 200 OK\n",
      "Length: 215024 (210K) [image/jpeg]\n",
      "Saving to: 'photo_20161209_090954.jpg'\n",
      "\n",
      "photo_20161209_0909 100%[===================>] 209.98K  --.-KB/s    in 0.001s  \n",
      "\n",
      "2016-12-10 23:56:49 (174 MB/s) - 'photo_20161209_090954.jpg' saved [215024/215024]\n",
      "\n",
      "FINISHED --2016-12-10 23:56:49--\n",
      "Total wall clock time: 1.5s\n",
      "Downloaded: 25 files, 3.2M in 0.3s (12.7 MB/s)\n",
      "ffmpeg version 2.8.8-0ubuntu0.16.04.1 Copyright (c) 2000-2016 the FFmpeg developers\n",
      "  built with gcc 5.4.0 (Ubuntu 5.4.0-6ubuntu1~16.04.2) 20160609\n",
      "  configuration: --prefix=/usr --extra-version=0ubuntu0.16.04.1 --build-suffix=-ffmpeg --toolchain=hardened --libdir=/usr/lib/x86_64-linux-gnu --incdir=/usr/include/x86_64-linux-gnu --cc=cc --cxx=g++ --enable-gpl --enable-shared --disable-stripping --disable-decoder=libopenjpeg --disable-decoder=libschroedinger --enable-avresample --enable-avisynth --enable-gnutls --enable-ladspa --enable-libass --enable-libbluray --enable-libbs2b --enable-libcaca --enable-libcdio --enable-libflite --enable-libfontconfig --enable-libfreetype --enable-libfribidi --enable-libgme --enable-libgsm --enable-libmodplug --enable-libmp3lame --enable-libopenjpeg --enable-libopus --enable-libpulse --enable-librtmp --enable-libschroedinger --enable-libshine --enable-libsnappy --enable-libsoxr --enable-libspeex --enable-libssh --enable-libtheora --enable-libtwolame --enable-libvorbis --enable-libvpx --enable-libwavpack --enable-libwebp --enable-libx265 --enable-libxvid --enable-libzvbi --enable-openal --enable-opengl --enable-x11grab --enable-libdc1394 --enable-libiec61883 --enable-libzmq --enable-frei0r --enable-libx264 --enable-libopencv\n",
      "  libavutil      54. 31.100 / 54. 31.100\n",
      "  libavcodec     56. 60.100 / 56. 60.100\n",
      "  libavformat    56. 40.101 / 56. 40.101\n",
      "  libavdevice    56.  4.100 / 56.  4.100\n",
      "  libavfilter     5. 40.101 /  5. 40.101\n",
      "  libavresample   2.  1.  0 /  2.  1.  0\n",
      "  libswscale      3.  1.101 /  3.  1.101\n",
      "  libswresample   1.  2.101 /  1.  2.101\n",
      "  libpostproc    53.  3.100 / 53.  3.100\n",
      "\u001b[0;36m[mjpeg @ 0x1814de0] \u001b[0mChangeing bps to 8\n",
      "Input #0, image2, from '%04d.jpg':\n",
      "  Duration: 00:00:25.00, start: 0.000000, bitrate: N/A\n",
      "    Stream #0:0: Video: mjpeg, yuvj420p(pc, bt470bg/unknown/unknown), 864x1536 [SAR 1:1 DAR 9:16], 1 fps, 1 tbr, 1 tbn, 1 tbc\n",
      "File '../video.webm' already exists. Overwrite ? [y/N] \u001b[1;34m[swscaler @ 0x189bc40] \u001b[0m\u001b[0;33mdeprecated pixel format used, make sure you did set range correctly\n",
      "\u001b[0m\u001b[1;36m[libvpx-vp9 @ 0x1816de0] \u001b[0mv1.5.0\n",
      "Output #0, webm, to '../video.webm':\n",
      "  Metadata:\n",
      "    encoder         : Lavf56.40.101\n",
      "    Stream #0:0: Video: vp9 (libvpx-vp9), yuv420p, 864x1536 [SAR 1:1 DAR 9:16], q=-1--1, 200 kb/s, 1 fps, 1k tbn, 1 tbc\n",
      "    Metadata:\n",
      "      encoder         : Lavc56.60.100 libvpx-vp9\n",
      "Stream mapping:\n",
      "  Stream #0:0 -> #0:0 (mjpeg (native) -> vp9 (libvpx-vp9))\n",
      "Press [q] to stop, [?] for help\n",
      "Input stream #0:0 frame changed from size:864x1536 fmt:yuvj420p to size:1536x864 fmt:yuvj420p\n",
      "\u001b[1;34m[swscaler @ 0x189bc40] \u001b[0m\u001b[0;33mdeprecated pixel format used, make sure you did set range correctly\n",
      "\u001b[0mInput stream #0:0 frame changed from size:1536x864 fmt:yuvj420p to size:864x1536 fmt:yuvj420p\n",
      "\u001b[1;34m[swscaler @ 0x189bc40] \u001b[0m\u001b[0;33mdeprecated pixel format used, make sure you did set range correctly\n",
      "\u001b[0mInput stream #0:0 frame changed from size:864x1536 fmt:yuvj420p to size:1152x1536 fmt:yuvj420p\n",
      "\u001b[1;34m[swscaler @ 0x189bc40] \u001b[0m\u001b[0;33mdeprecated pixel format used, make sure you did set range correctly\n",
      "\u001b[0mInput stream #0:0 frame changed from size:1152x1536 fmt:yuvj420p to size:1536x1152 fmt:yuvj420p\n",
      "\u001b[1;34m[swscaler @ 0x189bc40] \u001b[0m\u001b[0;33mdeprecated pixel format used, make sure you did set range correctly\n",
      "\u001b[0mInput stream #0:0 frame changed from size:1536x1152 fmt:yuvj420p to size:1152x1536 fmt:yuvj420p\n",
      "\u001b[1;34m[swscaler @ 0x189bc40] \u001b[0m\u001b[0;33mdeprecated pixel format used, make sure you did set range correctly\n",
      "frame=   25 fps=0.5 q=0.0 Lsize=     678kB time=00:00:25.00 bitrate= 222.0kbits/s    \n",
      "video:677kB audio:0kB subtitle:0kB other streams:0kB global headers:0kB muxing overhead: 0.105896%\n",
      "yes: standard output: Broken pipe\n"
     ]
    }
   ],
   "source": [
    "!yes| bash vidCreate.sh"
   ]
  },
  {
   "cell_type": "code",
   "execution_count": 28,
   "metadata": {
    "collapsed": false
   },
   "outputs": [
    {
     "data": {
      "text/plain": [
       "'\\nHad problems with this code, running standalone\\n\\n%cd assets/\\n!wget -i ../imagelist.txt\\n\\n!sleep 30\\n#%ls | gawk \\'BEGIN{ a=1 }{ printf \"mv \"%s\" %04d.jpg\\n\", $0, a++ }\\' | bash\\n#!sleep 10\\n#!convert -delay 50 *.jpg out.mp4\\n%cd ..\\n'"
      ]
     },
     "execution_count": 28,
     "metadata": {},
     "output_type": "execute_result"
    }
   ],
   "source": [
    "'''\n",
    "Had problems with this code, running standalone\n",
    "\n",
    "%cd assets/\n",
    "!wget -i ../imagelist.txt\n",
    "\n",
    "!sleep 30\n",
    "#%ls | gawk 'BEGIN{ a=1 }{ printf \"mv \\\"%s\\\" %04d.jpg\\n\", $0, a++ }' | bash\n",
    "#!sleep 10\n",
    "#!convert -delay 50 *.jpg out.mp4\n",
    "%cd ..\n",
    "'''"
   ]
  },
  {
   "cell_type": "code",
   "execution_count": 29,
   "metadata": {
    "collapsed": false,
    "scrolled": true
   },
   "outputs": [],
   "source": [
    "#!convert -delay 50 *.jpg out.mp4\n"
   ]
  },
  {
   "cell_type": "code",
   "execution_count": 30,
   "metadata": {
    "collapsed": false
   },
   "outputs": [
    {
     "name": "stdout",
     "output_type": "stream",
     "text": [
      "San+Francisco+Concerns-Homeless Aggressive behavior and well being.ipynb\r\n",
      "San+Francisco+Homeless Encampments.ipynb\r\n",
      "San+Francisco+Homeless+Data+Analysis (1).ipynb\r\n",
      "San+Francisco+Homeless+Data+Analysis.ipynb\r\n",
      "San+Francisco+Poop.ipynb\r\n",
      "assets\r\n",
      "gifCreate.sh\r\n",
      "gistfile1.txt\r\n",
      "imagelist.txt\r\n",
      "input\r\n",
      "sfOneDay.ipynb\r\n",
      "vidCreate.sh\r\n",
      "video.gif\r\n",
      "video.webm\r\n"
     ]
    }
   ],
   "source": [
    "!ls\n"
   ]
  },
  {
   "cell_type": "code",
   "execution_count": 31,
   "metadata": {
    "collapsed": false
   },
   "outputs": [
    {
     "data": {
      "image/png": "report2.jpg",
      "text/plain": [
       "<IPython.core.display.Image object>"
      ]
     },
     "execution_count": 31,
     "metadata": {},
     "output_type": "execute_result"
    }
   ],
   "source": [
    "Image('report2.jpg')"
   ]
  },
  {
   "cell_type": "code",
   "execution_count": null,
   "metadata": {
    "collapsed": true
   },
   "outputs": [],
   "source": []
  },
  {
   "cell_type": "code",
   "execution_count": null,
   "metadata": {
    "collapsed": true
   },
   "outputs": [],
   "source": []
  },
  {
   "cell_type": "code",
   "execution_count": null,
   "metadata": {
    "collapsed": true
   },
   "outputs": [],
   "source": []
  },
  {
   "cell_type": "code",
   "execution_count": null,
   "metadata": {
    "collapsed": true
   },
   "outputs": [],
   "source": []
  },
  {
   "cell_type": "code",
   "execution_count": null,
   "metadata": {
    "collapsed": true
   },
   "outputs": [],
   "source": []
  }
 ],
 "metadata": {
  "kernelspec": {
   "display_name": "Python 3",
   "language": "python",
   "name": "python3"
  },
  "language_info": {
   "codemirror_mode": {
    "name": "ipython",
    "version": 3
   },
   "file_extension": ".py",
   "mimetype": "text/x-python",
   "name": "python",
   "nbconvert_exporter": "python",
   "pygments_lexer": "ipython3",
   "version": "3.5.2"
  }
 },
 "nbformat": 4,
 "nbformat_minor": 1
}
