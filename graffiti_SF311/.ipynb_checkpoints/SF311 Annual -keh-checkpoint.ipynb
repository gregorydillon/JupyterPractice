{
 "cells": [
  {
   "cell_type": "markdown",
   "metadata": {},
   "source": [
    "# Annual"
   ]
  },
  {
   "cell_type": "markdown",
   "metadata": {},
   "source": [
    "# Make Sure the modules are installed\n",
    "\n"
   ]
  },
  {
   "cell_type": "markdown",
   "metadata": {},
   "source": [
    "# Import modules"
   ]
  },
  {
   "cell_type": "code",
   "execution_count": 1,
   "metadata": {
    "collapsed": false
   },
   "outputs": [],
   "source": [
    "%matplotlib inline\n",
    "import numpy as np\n",
    "import pandas as pd\n",
    "import matplotlib.pyplot as plt\n",
    "\n"
   ]
  },
  {
   "cell_type": "code",
   "execution_count": 2,
   "metadata": {
    "collapsed": false
   },
   "outputs": [
    {
     "name": "stdout",
     "output_type": "stream",
     "text": [
      "/home/gdillon/JupyterPractice/graffiti_SF311\r\n"
     ]
    }
   ],
   "source": [
    "!pwd"
   ]
  },
  {
   "cell_type": "markdown",
   "metadata": {
    "collapsed": true
   },
   "source": [
    "# produce viz of annual total 2009-2016\n",
    "because I'm using SQL type queery with count(*), this responds faster"
   ]
  },
  {
   "cell_type": "markdown",
   "metadata": {},
   "source": [
    "## api call for count of all by year"
   ]
  },
  {
   "cell_type": "code",
   "execution_count": 3,
   "metadata": {
    "collapsed": true
   },
   "outputs": [],
   "source": [
    "url = 'https://data.sfgov.org/resource/qer8-n8u9.csv?$select=date_trunc_y(opened)as%20year,%20count(*)&$order=year&$group=year'"
   ]
  },
  {
   "cell_type": "code",
   "execution_count": 4,
   "metadata": {
    "collapsed": false
   },
   "outputs": [
    {
     "data": {
      "text/html": [
       "<div>\n",
       "<table border=\"1\" class=\"dataframe\">\n",
       "  <thead>\n",
       "    <tr style=\"text-align: right;\">\n",
       "      <th></th>\n",
       "      <th>year</th>\n",
       "      <th>count</th>\n",
       "    </tr>\n",
       "  </thead>\n",
       "  <tbody>\n",
       "    <tr>\n",
       "      <th>1</th>\n",
       "      <td>01/01/2009 12:00:00 AM</td>\n",
       "      <td>32285</td>\n",
       "    </tr>\n",
       "    <tr>\n",
       "      <th>2</th>\n",
       "      <td>01/01/2010 12:00:00 AM</td>\n",
       "      <td>26769</td>\n",
       "    </tr>\n",
       "    <tr>\n",
       "      <th>3</th>\n",
       "      <td>01/01/2011 12:00:00 AM</td>\n",
       "      <td>25445</td>\n",
       "    </tr>\n",
       "    <tr>\n",
       "      <th>4</th>\n",
       "      <td>01/01/2012 12:00:00 AM</td>\n",
       "      <td>26254</td>\n",
       "    </tr>\n",
       "    <tr>\n",
       "      <th>5</th>\n",
       "      <td>01/01/2013 12:00:00 AM</td>\n",
       "      <td>35831</td>\n",
       "    </tr>\n",
       "    <tr>\n",
       "      <th>6</th>\n",
       "      <td>01/01/2014 12:00:00 AM</td>\n",
       "      <td>46808</td>\n",
       "    </tr>\n",
       "    <tr>\n",
       "      <th>7</th>\n",
       "      <td>01/01/2015 12:00:00 AM</td>\n",
       "      <td>57249</td>\n",
       "    </tr>\n",
       "    <tr>\n",
       "      <th>8</th>\n",
       "      <td>01/01/2016 12:00:00 AM</td>\n",
       "      <td>71651</td>\n",
       "    </tr>\n",
       "  </tbody>\n",
       "</table>\n",
       "</div>"
      ],
      "text/plain": [
       "                     year  count\n",
       "1  01/01/2009 12:00:00 AM  32285\n",
       "2  01/01/2010 12:00:00 AM  26769\n",
       "3  01/01/2011 12:00:00 AM  25445\n",
       "4  01/01/2012 12:00:00 AM  26254\n",
       "5  01/01/2013 12:00:00 AM  35831\n",
       "6  01/01/2014 12:00:00 AM  46808\n",
       "7  01/01/2015 12:00:00 AM  57249\n",
       "8  01/01/2016 12:00:00 AM  71651"
      ]
     },
     "execution_count": 4,
     "metadata": {},
     "output_type": "execute_result"
    }
   ],
   "source": [
    "df = pd.read_csv(url)\n",
    "df = df[1:]\n",
    "df"
   ]
  },
  {
   "cell_type": "code",
   "execution_count": null,
   "metadata": {
    "collapsed": true
   },
   "outputs": [],
   "source": []
  },
  {
   "cell_type": "code",
   "execution_count": 5,
   "metadata": {
    "collapsed": false
   },
   "outputs": [
    {
     "name": "stderr",
     "output_type": "stream",
     "text": [
      "/home/gdillon/.local/lib/python3.5/site-packages/ipykernel/__main__.py:1: FutureWarning: currently extract(expand=None) means expand=False (return Index/Series/DataFrame) but in a future version of pandas this will be changed to expand=True (return DataFrame)\n",
      "  if __name__ == '__main__':\n"
     ]
    },
    {
     "data": {
      "text/plain": [
       "1    2009\n",
       "2    2010\n",
       "3    2011\n",
       "4    2012\n",
       "5    2013\n",
       "6    2014\n",
       "7    2015\n",
       "8    2016\n",
       "Name: year, dtype: int64"
      ]
     },
     "execution_count": 5,
     "metadata": {},
     "output_type": "execute_result"
    }
   ],
   "source": [
    "df['year'].str.extract('(?P<year>\\d{4})').astype(int)\n"
   ]
  },
  {
   "cell_type": "code",
   "execution_count": 6,
   "metadata": {
    "collapsed": false
   },
   "outputs": [
    {
     "name": "stderr",
     "output_type": "stream",
     "text": [
      "/home/gdillon/.local/lib/python3.5/site-packages/ipykernel/__main__.py:1: FutureWarning: currently extract(expand=None) means expand=False (return Index/Series/DataFrame) but in a future version of pandas this will be changed to expand=True (return DataFrame)\n",
      "  if __name__ == '__main__':\n"
     ]
    },
    {
     "data": {
      "text/html": [
       "<div>\n",
       "<table border=\"1\" class=\"dataframe\">\n",
       "  <thead>\n",
       "    <tr style=\"text-align: right;\">\n",
       "      <th></th>\n",
       "      <th>year</th>\n",
       "      <th>count</th>\n",
       "    </tr>\n",
       "  </thead>\n",
       "  <tbody>\n",
       "    <tr>\n",
       "      <th>1</th>\n",
       "      <td>2009</td>\n",
       "      <td>32285</td>\n",
       "    </tr>\n",
       "    <tr>\n",
       "      <th>2</th>\n",
       "      <td>2010</td>\n",
       "      <td>26769</td>\n",
       "    </tr>\n",
       "    <tr>\n",
       "      <th>3</th>\n",
       "      <td>2011</td>\n",
       "      <td>25445</td>\n",
       "    </tr>\n",
       "    <tr>\n",
       "      <th>4</th>\n",
       "      <td>2012</td>\n",
       "      <td>26254</td>\n",
       "    </tr>\n",
       "    <tr>\n",
       "      <th>5</th>\n",
       "      <td>2013</td>\n",
       "      <td>35831</td>\n",
       "    </tr>\n",
       "    <tr>\n",
       "      <th>6</th>\n",
       "      <td>2014</td>\n",
       "      <td>46808</td>\n",
       "    </tr>\n",
       "    <tr>\n",
       "      <th>7</th>\n",
       "      <td>2015</td>\n",
       "      <td>57249</td>\n",
       "    </tr>\n",
       "    <tr>\n",
       "      <th>8</th>\n",
       "      <td>2016</td>\n",
       "      <td>71651</td>\n",
       "    </tr>\n",
       "  </tbody>\n",
       "</table>\n",
       "</div>"
      ],
      "text/plain": [
       "   year  count\n",
       "1  2009  32285\n",
       "2  2010  26769\n",
       "3  2011  25445\n",
       "4  2012  26254\n",
       "5  2013  35831\n",
       "6  2014  46808\n",
       "7  2015  57249\n",
       "8  2016  71651"
      ]
     },
     "execution_count": 6,
     "metadata": {},
     "output_type": "execute_result"
    }
   ],
   "source": [
    "df['year']=df['year'].str.extract('(?P<year>\\d{4})').astype(str)\n",
    "df['count']=df['count'].astype(int)\n",
    "df"
   ]
  },
  {
   "cell_type": "code",
   "execution_count": 14,
   "metadata": {
    "collapsed": false
   },
   "outputs": [
    {
     "data": {
      "text/html": [
       "\n",
       "    <div class=\"bk-root\">\n",
       "        <a href=\"http://bokeh.pydata.org\" target=\"_blank\" class=\"bk-logo bk-logo-small bk-logo-notebook\"></a>\n",
       "        <span id=\"8b08ec75-25c2-44b1-bf91-e285801457bd\">Loading BokehJS ...</span>\n",
       "    </div>"
      ]
     },
     "metadata": {},
     "output_type": "display_data"
    },
    {
     "data": {
      "application/javascript": [
       "\n",
       "(function(global) {\n",
       "  function now() {\n",
       "    return new Date();\n",
       "  }\n",
       "\n",
       "  var force = \"1\";\n",
       "\n",
       "  if (typeof (window._bokeh_onload_callbacks) === \"undefined\" || force !== \"\") {\n",
       "    window._bokeh_onload_callbacks = [];\n",
       "    window._bokeh_is_loading = undefined;\n",
       "  }\n",
       "\n",
       "\n",
       "  \n",
       "  if (typeof (window._bokeh_timeout) === \"undefined\" || force !== \"\") {\n",
       "    window._bokeh_timeout = Date.now() + 5000;\n",
       "    window._bokeh_failed_load = false;\n",
       "  }\n",
       "\n",
       "  var NB_LOAD_WARNING = {'data': {'text/html':\n",
       "     \"<div style='background-color: #fdd'>\\n\"+\n",
       "     \"<p>\\n\"+\n",
       "     \"BokehJS does not appear to have successfully loaded. If loading BokehJS from CDN, this \\n\"+\n",
       "     \"may be due to a slow or bad network connection. Possible fixes:\\n\"+\n",
       "     \"</p>\\n\"+\n",
       "     \"<ul>\\n\"+\n",
       "     \"<li>re-rerun `output_notebook()` to attempt to load from CDN again, or</li>\\n\"+\n",
       "     \"<li>use INLINE resources instead, as so:</li>\\n\"+\n",
       "     \"</ul>\\n\"+\n",
       "     \"<code>\\n\"+\n",
       "     \"from bokeh.resources import INLINE\\n\"+\n",
       "     \"output_notebook(resources=INLINE)\\n\"+\n",
       "     \"</code>\\n\"+\n",
       "     \"</div>\"}};\n",
       "\n",
       "  function display_loaded() {\n",
       "    if (window.Bokeh !== undefined) {\n",
       "      Bokeh.$(\"#8b08ec75-25c2-44b1-bf91-e285801457bd\").text(\"BokehJS successfully loaded.\");\n",
       "    } else if (Date.now() < window._bokeh_timeout) {\n",
       "      setTimeout(display_loaded, 100)\n",
       "    }\n",
       "  }\n",
       "\n",
       "  function run_callbacks() {\n",
       "    window._bokeh_onload_callbacks.forEach(function(callback) { callback() });\n",
       "    delete window._bokeh_onload_callbacks\n",
       "    console.info(\"Bokeh: all callbacks have finished\");\n",
       "  }\n",
       "\n",
       "  function load_libs(js_urls, callback) {\n",
       "    window._bokeh_onload_callbacks.push(callback);\n",
       "    if (window._bokeh_is_loading > 0) {\n",
       "      console.log(\"Bokeh: BokehJS is being loaded, scheduling callback at\", now());\n",
       "      return null;\n",
       "    }\n",
       "    if (js_urls == null || js_urls.length === 0) {\n",
       "      run_callbacks();\n",
       "      return null;\n",
       "    }\n",
       "    console.log(\"Bokeh: BokehJS not loaded, scheduling load and callback at\", now());\n",
       "    window._bokeh_is_loading = js_urls.length;\n",
       "    for (var i = 0; i < js_urls.length; i++) {\n",
       "      var url = js_urls[i];\n",
       "      var s = document.createElement('script');\n",
       "      s.src = url;\n",
       "      s.async = false;\n",
       "      s.onreadystatechange = s.onload = function() {\n",
       "        window._bokeh_is_loading--;\n",
       "        if (window._bokeh_is_loading === 0) {\n",
       "          console.log(\"Bokeh: all BokehJS libraries loaded\");\n",
       "          run_callbacks()\n",
       "        }\n",
       "      };\n",
       "      s.onerror = function() {\n",
       "        console.warn(\"failed to load library \" + url);\n",
       "      };\n",
       "      console.log(\"Bokeh: injecting script tag for BokehJS library: \", url);\n",
       "      document.getElementsByTagName(\"head\")[0].appendChild(s);\n",
       "    }\n",
       "  };var element = document.getElementById(\"8b08ec75-25c2-44b1-bf91-e285801457bd\");\n",
       "  if (element == null) {\n",
       "    console.log(\"Bokeh: ERROR: autoload.js configured with elementid '8b08ec75-25c2-44b1-bf91-e285801457bd' but no matching script tag was found. \")\n",
       "    return false;\n",
       "  }\n",
       "\n",
       "  var js_urls = ['https://cdn.pydata.org/bokeh/release/bokeh-0.12.3.min.js', 'https://cdn.pydata.org/bokeh/release/bokeh-widgets-0.12.3.min.js'];\n",
       "\n",
       "  var inline_js = [\n",
       "    function(Bokeh) {\n",
       "      Bokeh.set_log_level(\"info\");\n",
       "    },\n",
       "    \n",
       "    function(Bokeh) {\n",
       "      \n",
       "      Bokeh.$(\"#8b08ec75-25c2-44b1-bf91-e285801457bd\").text(\"BokehJS is loading...\");\n",
       "    },\n",
       "    function(Bokeh) {\n",
       "      console.log(\"Bokeh: injecting CSS: https://cdn.pydata.org/bokeh/release/bokeh-0.12.3.min.css\");\n",
       "      Bokeh.embed.inject_css(\"https://cdn.pydata.org/bokeh/release/bokeh-0.12.3.min.css\");\n",
       "      console.log(\"Bokeh: injecting CSS: https://cdn.pydata.org/bokeh/release/bokeh-widgets-0.12.3.min.css\");\n",
       "      Bokeh.embed.inject_css(\"https://cdn.pydata.org/bokeh/release/bokeh-widgets-0.12.3.min.css\");\n",
       "    }\n",
       "  ];\n",
       "\n",
       "  function run_inline_js() {\n",
       "    \n",
       "    if ((window.Bokeh !== undefined) || (force === \"1\")) {\n",
       "      for (var i = 0; i < inline_js.length; i++) {\n",
       "        inline_js[i](window.Bokeh);\n",
       "      }if (force === \"1\") {\n",
       "        display_loaded();\n",
       "      }} else if (Date.now() < window._bokeh_timeout) {\n",
       "      setTimeout(run_inline_js, 100);\n",
       "    } else if (!window._bokeh_failed_load) {\n",
       "      console.log(\"Bokeh: BokehJS failed to load within specified timeout.\");\n",
       "      window._bokeh_failed_load = true;\n",
       "    } else if (!force) {\n",
       "      var cell = $(\"#8b08ec75-25c2-44b1-bf91-e285801457bd\").parents('.cell').data().cell;\n",
       "      cell.output_area.append_execute_result(NB_LOAD_WARNING)\n",
       "    }\n",
       "\n",
       "  }\n",
       "\n",
       "  if (window._bokeh_is_loading === 0) {\n",
       "    console.log(\"Bokeh: BokehJS loaded, going straight to plotting\");\n",
       "    run_inline_js();\n",
       "  } else {\n",
       "    load_libs(js_urls, function() {\n",
       "      console.log(\"Bokeh: BokehJS plotting callback run at\", now());\n",
       "      run_inline_js();\n",
       "    });\n",
       "  }\n",
       "}(this));"
      ]
     },
     "metadata": {},
     "output_type": "display_data"
    }
   ],
   "source": [
    "from bokeh.charts import Bar, output_file, output_notebook\n",
    "from bokeh.layouts import row\n",
    "output_notebook()"
   ]
  },
  {
   "cell_type": "code",
   "execution_count": 15,
   "metadata": {
    "collapsed": false
   },
   "outputs": [
    {
     "data": {
      "text/html": [
       "\n",
       "\n",
       "    <div class=\"bk-root\">\n",
       "        <div class=\"plotdiv\" id=\"8484d826-2a9d-44e9-9f04-7b23b9c5bc96\"></div>\n",
       "    </div>\n",
       "<script type=\"text/javascript\">\n",
       "  \n",
       "  (function(global) {\n",
       "    function now() {\n",
       "      return new Date();\n",
       "    }\n",
       "  \n",
       "    var force = \"\";\n",
       "  \n",
       "    if (typeof (window._bokeh_onload_callbacks) === \"undefined\" || force !== \"\") {\n",
       "      window._bokeh_onload_callbacks = [];\n",
       "      window._bokeh_is_loading = undefined;\n",
       "    }\n",
       "  \n",
       "  \n",
       "    \n",
       "    if (typeof (window._bokeh_timeout) === \"undefined\" || force !== \"\") {\n",
       "      window._bokeh_timeout = Date.now() + 0;\n",
       "      window._bokeh_failed_load = false;\n",
       "    }\n",
       "  \n",
       "    var NB_LOAD_WARNING = {'data': {'text/html':\n",
       "       \"<div style='background-color: #fdd'>\\n\"+\n",
       "       \"<p>\\n\"+\n",
       "       \"BokehJS does not appear to have successfully loaded. If loading BokehJS from CDN, this \\n\"+\n",
       "       \"may be due to a slow or bad network connection. Possible fixes:\\n\"+\n",
       "       \"</p>\\n\"+\n",
       "       \"<ul>\\n\"+\n",
       "       \"<li>re-rerun `output_notebook()` to attempt to load from CDN again, or</li>\\n\"+\n",
       "       \"<li>use INLINE resources instead, as so:</li>\\n\"+\n",
       "       \"</ul>\\n\"+\n",
       "       \"<code>\\n\"+\n",
       "       \"from bokeh.resources import INLINE\\n\"+\n",
       "       \"output_notebook(resources=INLINE)\\n\"+\n",
       "       \"</code>\\n\"+\n",
       "       \"</div>\"}};\n",
       "  \n",
       "    function display_loaded() {\n",
       "      if (window.Bokeh !== undefined) {\n",
       "        Bokeh.$(\"#8484d826-2a9d-44e9-9f04-7b23b9c5bc96\").text(\"BokehJS successfully loaded.\");\n",
       "      } else if (Date.now() < window._bokeh_timeout) {\n",
       "        setTimeout(display_loaded, 100)\n",
       "      }\n",
       "    }\n",
       "  \n",
       "    function run_callbacks() {\n",
       "      window._bokeh_onload_callbacks.forEach(function(callback) { callback() });\n",
       "      delete window._bokeh_onload_callbacks\n",
       "      console.info(\"Bokeh: all callbacks have finished\");\n",
       "    }\n",
       "  \n",
       "    function load_libs(js_urls, callback) {\n",
       "      window._bokeh_onload_callbacks.push(callback);\n",
       "      if (window._bokeh_is_loading > 0) {\n",
       "        console.log(\"Bokeh: BokehJS is being loaded, scheduling callback at\", now());\n",
       "        return null;\n",
       "      }\n",
       "      if (js_urls == null || js_urls.length === 0) {\n",
       "        run_callbacks();\n",
       "        return null;\n",
       "      }\n",
       "      console.log(\"Bokeh: BokehJS not loaded, scheduling load and callback at\", now());\n",
       "      window._bokeh_is_loading = js_urls.length;\n",
       "      for (var i = 0; i < js_urls.length; i++) {\n",
       "        var url = js_urls[i];\n",
       "        var s = document.createElement('script');\n",
       "        s.src = url;\n",
       "        s.async = false;\n",
       "        s.onreadystatechange = s.onload = function() {\n",
       "          window._bokeh_is_loading--;\n",
       "          if (window._bokeh_is_loading === 0) {\n",
       "            console.log(\"Bokeh: all BokehJS libraries loaded\");\n",
       "            run_callbacks()\n",
       "          }\n",
       "        };\n",
       "        s.onerror = function() {\n",
       "          console.warn(\"failed to load library \" + url);\n",
       "        };\n",
       "        console.log(\"Bokeh: injecting script tag for BokehJS library: \", url);\n",
       "        document.getElementsByTagName(\"head\")[0].appendChild(s);\n",
       "      }\n",
       "    };var element = document.getElementById(\"8484d826-2a9d-44e9-9f04-7b23b9c5bc96\");\n",
       "    if (element == null) {\n",
       "      console.log(\"Bokeh: ERROR: autoload.js configured with elementid '8484d826-2a9d-44e9-9f04-7b23b9c5bc96' but no matching script tag was found. \")\n",
       "      return false;\n",
       "    }\n",
       "  \n",
       "    var js_urls = [];\n",
       "  \n",
       "    var inline_js = [\n",
       "      function(Bokeh) {\n",
       "        Bokeh.$(function() {\n",
       "            var docs_json = {\"48ba6c80-3e81-49a7-a3f1-4637224d3846\":{\"roots\":{\"references\":[{\"attributes\":{\"plot\":{\"id\":\"db9401a5-26ab-4461-952a-d7eb13acbf42\",\"subtype\":\"Chart\",\"type\":\"Plot\"}},\"id\":\"647d3a51-3ec7-44a0-aac5-a9bdb2932bf8\",\"type\":\"SaveTool\"},{\"attributes\":{\"label\":{\"value\":\"2014\"},\"renderers\":[{\"id\":\"99ccbb4e-9e39-4f1c-88a9-2225c6dc434e\",\"type\":\"GlyphRenderer\"}]},\"id\":\"a6f4d74a-ed96-4a73-ab05-ae1d661259d0\",\"type\":\"LegendItem\"},{\"attributes\":{\"fill_alpha\":{\"field\":\"fill_alpha\"},\"fill_color\":{\"field\":\"color\"},\"height\":{\"field\":\"height\",\"units\":\"data\"},\"line_color\":{\"field\":\"line_color\"},\"width\":{\"field\":\"width\",\"units\":\"data\"},\"x\":{\"field\":\"x\"},\"y\":{\"field\":\"y\"}},\"id\":\"98a67e4e-d47e-4a39-8139-4851f186df87\",\"type\":\"Rect\"},{\"attributes\":{\"data_source\":{\"id\":\"e3c3f2e0-f1ae-4798-ba06-6b8e718770b9\",\"type\":\"ColumnDataSource\"},\"glyph\":{\"id\":\"82924412-7e29-41b7-8034-734290326eae\",\"type\":\"Rect\"},\"hover_glyph\":null,\"nonselection_glyph\":null,\"selection_glyph\":null},\"id\":\"289ff8a7-6ff9-4f59-a25e-c2a1cf86e271\",\"type\":\"GlyphRenderer\"},{\"attributes\":{\"callback\":null,\"column_names\":[\"height\",\"line_color\",\"x\",\"label\",\"color\",\"width\",\"fill_alpha\",\"line_alpha\",\"y\"],\"data\":{\"chart_index\":[{\"year\":\"2012\"}],\"color\":[\"#f22c40\"],\"fill_alpha\":[0.8],\"height\":[26254.0],\"label\":[{\"year\":\"2012\"}],\"line_alpha\":[1.0],\"line_color\":[\"white\"],\"width\":[0.8],\"x\":[\"2012\"],\"y\":[13127.0],\"year\":[\"2012\"]}},\"id\":\"368d30ee-6445-489e-bacd-4bd2f8d93af1\",\"type\":\"ColumnDataSource\"},{\"attributes\":{\"plot\":{\"id\":\"db9401a5-26ab-4461-952a-d7eb13acbf42\",\"subtype\":\"Chart\",\"type\":\"Plot\"}},\"id\":\"fe9d98c8-1fc7-427e-b50b-7a9bb234d0ce\",\"type\":\"HelpTool\"},{\"attributes\":{\"plot\":{\"id\":\"db9401a5-26ab-4461-952a-d7eb13acbf42\",\"subtype\":\"Chart\",\"type\":\"Plot\"}},\"id\":\"ff3a006d-045b-4513-9f17-19e846e85dae\",\"type\":\"ResetTool\"},{\"attributes\":{\"below\":[{\"id\":\"a2914b81-2568-49fb-9085-7934e8c8c335\",\"type\":\"CategoricalAxis\"}],\"left\":[{\"id\":\"f9522726-2915-47b1-9c61-65fd3b75f8db\",\"type\":\"LinearAxis\"}],\"renderers\":[{\"id\":\"a2b0c1d6-a8e3-4487-a0cd-a583ed802809\",\"type\":\"BoxAnnotation\"},{\"id\":\"725b22a0-8e9f-46b8-bc77-2cf10e4db909\",\"type\":\"GlyphRenderer\"},{\"id\":\"289ff8a7-6ff9-4f59-a25e-c2a1cf86e271\",\"type\":\"GlyphRenderer\"},{\"id\":\"f8007810-6bfd-47ff-bcd6-2a2c089e27ad\",\"type\":\"GlyphRenderer\"},{\"id\":\"dc914975-8f20-4180-a959-c737e591b783\",\"type\":\"GlyphRenderer\"},{\"id\":\"eca05642-46fd-4384-be43-7ace1d81e5de\",\"type\":\"GlyphRenderer\"},{\"id\":\"99ccbb4e-9e39-4f1c-88a9-2225c6dc434e\",\"type\":\"GlyphRenderer\"},{\"id\":\"afd464c7-ccad-4716-8fa5-ddf0aaad4bd9\",\"type\":\"GlyphRenderer\"},{\"id\":\"ebd8cf07-19ed-43ee-970a-ed00a985b514\",\"type\":\"GlyphRenderer\"},{\"id\":\"28513ffe-091c-47db-bb01-5746b3f693c1\",\"type\":\"Legend\"},{\"id\":\"a2914b81-2568-49fb-9085-7934e8c8c335\",\"type\":\"CategoricalAxis\"},{\"id\":\"f9522726-2915-47b1-9c61-65fd3b75f8db\",\"type\":\"LinearAxis\"},{\"id\":\"58c798aa-287b-425b-9b77-026ed1480bc4\",\"type\":\"Grid\"}],\"title\":{\"id\":\"148b65c4-8f4a-449e-b20a-b6655ef9ddb9\",\"type\":\"Title\"},\"tool_events\":{\"id\":\"319a8949-8067-4cbe-a0af-c1cc7e519578\",\"type\":\"ToolEvents\"},\"toolbar\":{\"id\":\"0d07b473-a283-4422-8e96-9acf6e4017c0\",\"type\":\"Toolbar\"},\"x_mapper_type\":\"auto\",\"x_range\":{\"id\":\"ac49b6d0-b739-4bce-9dc4-c5f20313702b\",\"type\":\"FactorRange\"},\"y_mapper_type\":\"auto\",\"y_range\":{\"id\":\"0bff0348-ac2a-4e7f-a923-03c206b25521\",\"type\":\"Range1d\"}},\"id\":\"db9401a5-26ab-4461-952a-d7eb13acbf42\",\"subtype\":\"Chart\",\"type\":\"Plot\"},{\"attributes\":{\"active_drag\":\"auto\",\"active_scroll\":\"auto\",\"active_tap\":\"auto\",\"tools\":[{\"id\":\"d166ce77-3084-480c-9565-9d8ed1ba0a4b\",\"type\":\"PanTool\"},{\"id\":\"12c7cd12-4524-4ad1-bd92-d478d22177fa\",\"type\":\"WheelZoomTool\"},{\"id\":\"32f68f2f-3a8f-4973-b38f-76a130766171\",\"type\":\"BoxZoomTool\"},{\"id\":\"647d3a51-3ec7-44a0-aac5-a9bdb2932bf8\",\"type\":\"SaveTool\"},{\"id\":\"ff3a006d-045b-4513-9f17-19e846e85dae\",\"type\":\"ResetTool\"},{\"id\":\"fe9d98c8-1fc7-427e-b50b-7a9bb234d0ce\",\"type\":\"HelpTool\"}]},\"id\":\"0d07b473-a283-4422-8e96-9acf6e4017c0\",\"type\":\"Toolbar\"},{\"attributes\":{\"callback\":null,\"column_names\":[\"height\",\"line_color\",\"x\",\"label\",\"color\",\"width\",\"fill_alpha\",\"line_alpha\",\"y\"],\"data\":{\"chart_index\":[{\"year\":\"2015\"}],\"color\":[\"#f22c40\"],\"fill_alpha\":[0.8],\"height\":[57249.0],\"label\":[{\"year\":\"2015\"}],\"line_alpha\":[1.0],\"line_color\":[\"white\"],\"width\":[0.8],\"x\":[\"2015\"],\"y\":[28624.5],\"year\":[\"2015\"]}},\"id\":\"a960910c-fe0e-4373-b970-974e3533dcbf\",\"type\":\"ColumnDataSource\"},{\"attributes\":{\"bottom_units\":\"screen\",\"fill_alpha\":{\"value\":0.5},\"fill_color\":{\"value\":\"lightgrey\"},\"left_units\":\"screen\",\"level\":\"overlay\",\"line_alpha\":{\"value\":1.0},\"line_color\":{\"value\":\"black\"},\"line_dash\":[4,4],\"line_width\":{\"value\":2},\"plot\":null,\"render_mode\":\"css\",\"right_units\":\"screen\",\"top_units\":\"screen\"},\"id\":\"a2b0c1d6-a8e3-4487-a0cd-a583ed802809\",\"type\":\"BoxAnnotation\"},{\"attributes\":{\"axis_label\":\"Sum( Count )\",\"formatter\":{\"id\":\"395a03f4-f834-4086-b034-9e3c4c6736c6\",\"type\":\"BasicTickFormatter\"},\"plot\":{\"id\":\"db9401a5-26ab-4461-952a-d7eb13acbf42\",\"subtype\":\"Chart\",\"type\":\"Plot\"},\"ticker\":{\"id\":\"3591f6fa-4f90-4e55-86f3-ed3b7867b120\",\"type\":\"BasicTicker\"}},\"id\":\"f9522726-2915-47b1-9c61-65fd3b75f8db\",\"type\":\"LinearAxis\"},{\"attributes\":{\"label\":{\"value\":\"2012\"},\"renderers\":[{\"id\":\"dc914975-8f20-4180-a959-c737e591b783\",\"type\":\"GlyphRenderer\"}]},\"id\":\"6aa0b075-d1d1-4bc1-b36a-129564699163\",\"type\":\"LegendItem\"},{\"attributes\":{\"label\":{\"value\":\"2013\"},\"renderers\":[{\"id\":\"eca05642-46fd-4384-be43-7ace1d81e5de\",\"type\":\"GlyphRenderer\"}]},\"id\":\"28ca78e0-10cd-4028-b823-f29bf957670e\",\"type\":\"LegendItem\"},{\"attributes\":{\"data_source\":{\"id\":\"c91b750f-1d3e-45c4-a1ea-eadbbbcce358\",\"type\":\"ColumnDataSource\"},\"glyph\":{\"id\":\"83740011-c4f4-403f-a71d-721ad4315cfd\",\"type\":\"Rect\"},\"hover_glyph\":null,\"nonselection_glyph\":null,\"selection_glyph\":null},\"id\":\"ebd8cf07-19ed-43ee-970a-ed00a985b514\",\"type\":\"GlyphRenderer\"},{\"attributes\":{\"fill_alpha\":{\"field\":\"fill_alpha\"},\"fill_color\":{\"field\":\"color\"},\"height\":{\"field\":\"height\",\"units\":\"data\"},\"line_color\":{\"field\":\"line_color\"},\"width\":{\"field\":\"width\",\"units\":\"data\"},\"x\":{\"field\":\"x\"},\"y\":{\"field\":\"y\"}},\"id\":\"83740011-c4f4-403f-a71d-721ad4315cfd\",\"type\":\"Rect\"},{\"attributes\":{\"data_source\":{\"id\":\"b9734874-2b5a-4ae0-8707-b14ce520d89e\",\"type\":\"ColumnDataSource\"},\"glyph\":{\"id\":\"17e4d7ef-b505-4deb-997f-b53e23267003\",\"type\":\"Rect\"},\"hover_glyph\":null,\"nonselection_glyph\":null,\"selection_glyph\":null},\"id\":\"eca05642-46fd-4384-be43-7ace1d81e5de\",\"type\":\"GlyphRenderer\"},{\"attributes\":{\"callback\":null,\"factors\":[\"2009\",\"2010\",\"2011\",\"2012\",\"2013\",\"2014\",\"2015\",\"2016\"]},\"id\":\"ac49b6d0-b739-4bce-9dc4-c5f20313702b\",\"type\":\"FactorRange\"},{\"attributes\":{\"label\":{\"value\":\"2016\"},\"renderers\":[{\"id\":\"ebd8cf07-19ed-43ee-970a-ed00a985b514\",\"type\":\"GlyphRenderer\"}]},\"id\":\"5331fb35-b666-4cf0-b6f6-801a1ff066b4\",\"type\":\"LegendItem\"},{\"attributes\":{\"callback\":null,\"column_names\":[\"height\",\"line_color\",\"x\",\"label\",\"color\",\"width\",\"fill_alpha\",\"line_alpha\",\"y\"],\"data\":{\"chart_index\":[{\"year\":\"2011\"}],\"color\":[\"#f22c40\"],\"fill_alpha\":[0.8],\"height\":[25445.0],\"label\":[{\"year\":\"2011\"}],\"line_alpha\":[1.0],\"line_color\":[\"white\"],\"width\":[0.8],\"x\":[\"2011\"],\"y\":[12722.5],\"year\":[\"2011\"]}},\"id\":\"15f74f56-195e-42b8-a8f5-27a04a7837cb\",\"type\":\"ColumnDataSource\"},{\"attributes\":{\"label\":{\"value\":\"2015\"},\"renderers\":[{\"id\":\"afd464c7-ccad-4716-8fa5-ddf0aaad4bd9\",\"type\":\"GlyphRenderer\"}]},\"id\":\"e59ec684-6d33-4095-b899-6addef8fa07e\",\"type\":\"LegendItem\"},{\"attributes\":{\"data_source\":{\"id\":\"15f74f56-195e-42b8-a8f5-27a04a7837cb\",\"type\":\"ColumnDataSource\"},\"glyph\":{\"id\":\"ce625f0f-0e31-4131-8be5-a174f8f2ac60\",\"type\":\"Rect\"},\"hover_glyph\":null,\"nonselection_glyph\":null,\"selection_glyph\":null},\"id\":\"f8007810-6bfd-47ff-bcd6-2a2c089e27ad\",\"type\":\"GlyphRenderer\"},{\"attributes\":{\"plot\":{\"id\":\"db9401a5-26ab-4461-952a-d7eb13acbf42\",\"subtype\":\"Chart\",\"type\":\"Plot\"}},\"id\":\"d166ce77-3084-480c-9565-9d8ed1ba0a4b\",\"type\":\"PanTool\"},{\"attributes\":{\"callback\":null,\"column_names\":[\"height\",\"line_color\",\"x\",\"label\",\"color\",\"width\",\"fill_alpha\",\"line_alpha\",\"y\"],\"data\":{\"chart_index\":[{\"year\":\"2013\"}],\"color\":[\"#f22c40\"],\"fill_alpha\":[0.8],\"height\":[35831.0],\"label\":[{\"year\":\"2013\"}],\"line_alpha\":[1.0],\"line_color\":[\"white\"],\"width\":[0.8],\"x\":[\"2013\"],\"y\":[17915.5],\"year\":[\"2013\"]}},\"id\":\"b9734874-2b5a-4ae0-8707-b14ce520d89e\",\"type\":\"ColumnDataSource\"},{\"attributes\":{\"dimension\":1,\"plot\":{\"id\":\"db9401a5-26ab-4461-952a-d7eb13acbf42\",\"subtype\":\"Chart\",\"type\":\"Plot\"},\"ticker\":{\"id\":\"3591f6fa-4f90-4e55-86f3-ed3b7867b120\",\"type\":\"BasicTicker\"}},\"id\":\"58c798aa-287b-425b-9b77-026ed1480bc4\",\"type\":\"Grid\"},{\"attributes\":{},\"id\":\"3591f6fa-4f90-4e55-86f3-ed3b7867b120\",\"type\":\"BasicTicker\"},{\"attributes\":{\"label\":{\"value\":\"2009\"},\"renderers\":[{\"id\":\"725b22a0-8e9f-46b8-bc77-2cf10e4db909\",\"type\":\"GlyphRenderer\"}]},\"id\":\"933787b7-e26d-4871-990a-6b5f0b9b24d2\",\"type\":\"LegendItem\"},{\"attributes\":{\"callback\":null,\"column_names\":[\"height\",\"line_color\",\"x\",\"label\",\"color\",\"width\",\"fill_alpha\",\"line_alpha\",\"y\"],\"data\":{\"chart_index\":[{\"year\":\"2009\"}],\"color\":[\"#f22c40\"],\"fill_alpha\":[0.8],\"height\":[32285.0],\"label\":[{\"year\":\"2009\"}],\"line_alpha\":[1.0],\"line_color\":[\"white\"],\"width\":[0.8],\"x\":[\"2009\"],\"y\":[16142.5],\"year\":[\"2009\"]}},\"id\":\"5e184585-2320-4432-b8df-39dffbff28a0\",\"type\":\"ColumnDataSource\"},{\"attributes\":{},\"id\":\"319a8949-8067-4cbe-a0af-c1cc7e519578\",\"type\":\"ToolEvents\"},{\"attributes\":{\"axis_label\":\"Year\",\"formatter\":{\"id\":\"a5e32494-35c7-49d7-ba54-91ccea2a42d0\",\"type\":\"CategoricalTickFormatter\"},\"major_label_orientation\":0.7853981633974483,\"plot\":{\"id\":\"db9401a5-26ab-4461-952a-d7eb13acbf42\",\"subtype\":\"Chart\",\"type\":\"Plot\"},\"ticker\":{\"id\":\"e0b62dac-430b-4264-af9c-3a648d347b01\",\"type\":\"CategoricalTicker\"}},\"id\":\"a2914b81-2568-49fb-9085-7934e8c8c335\",\"type\":\"CategoricalAxis\"},{\"attributes\":{},\"id\":\"395a03f4-f834-4086-b034-9e3c4c6736c6\",\"type\":\"BasicTickFormatter\"},{\"attributes\":{\"data_source\":{\"id\":\"5e184585-2320-4432-b8df-39dffbff28a0\",\"type\":\"ColumnDataSource\"},\"glyph\":{\"id\":\"de900a91-3bdb-4474-93b5-fe8afe502206\",\"type\":\"Rect\"},\"hover_glyph\":null,\"nonselection_glyph\":null,\"selection_glyph\":null},\"id\":\"725b22a0-8e9f-46b8-bc77-2cf10e4db909\",\"type\":\"GlyphRenderer\"},{\"attributes\":{\"data_source\":{\"id\":\"5c36dcb0-f48d-4e0e-8235-339f4c2ce12a\",\"type\":\"ColumnDataSource\"},\"glyph\":{\"id\":\"98a67e4e-d47e-4a39-8139-4851f186df87\",\"type\":\"Rect\"},\"hover_glyph\":null,\"nonselection_glyph\":null,\"selection_glyph\":null},\"id\":\"99ccbb4e-9e39-4f1c-88a9-2225c6dc434e\",\"type\":\"GlyphRenderer\"},{\"attributes\":{\"fill_alpha\":{\"field\":\"fill_alpha\"},\"fill_color\":{\"field\":\"color\"},\"height\":{\"field\":\"height\",\"units\":\"data\"},\"line_color\":{\"field\":\"line_color\"},\"width\":{\"field\":\"width\",\"units\":\"data\"},\"x\":{\"field\":\"x\"},\"y\":{\"field\":\"y\"}},\"id\":\"ce625f0f-0e31-4131-8be5-a174f8f2ac60\",\"type\":\"Rect\"},{\"attributes\":{\"callback\":null,\"column_names\":[\"height\",\"line_color\",\"x\",\"label\",\"color\",\"width\",\"fill_alpha\",\"line_alpha\",\"y\"],\"data\":{\"chart_index\":[{\"year\":\"2014\"}],\"color\":[\"#f22c40\"],\"fill_alpha\":[0.8],\"height\":[46808.0],\"label\":[{\"year\":\"2014\"}],\"line_alpha\":[1.0],\"line_color\":[\"white\"],\"width\":[0.8],\"x\":[\"2014\"],\"y\":[23404.0],\"year\":[\"2014\"]}},\"id\":\"5c36dcb0-f48d-4e0e-8235-339f4c2ce12a\",\"type\":\"ColumnDataSource\"},{\"attributes\":{\"label\":{\"value\":\"2010\"},\"renderers\":[{\"id\":\"289ff8a7-6ff9-4f59-a25e-c2a1cf86e271\",\"type\":\"GlyphRenderer\"}]},\"id\":\"4c28b938-de6d-46a9-86fd-eacdd2d38748\",\"type\":\"LegendItem\"},{\"attributes\":{\"fill_alpha\":{\"field\":\"fill_alpha\"},\"fill_color\":{\"field\":\"color\"},\"height\":{\"field\":\"height\",\"units\":\"data\"},\"line_color\":{\"field\":\"line_color\"},\"width\":{\"field\":\"width\",\"units\":\"data\"},\"x\":{\"field\":\"x\"},\"y\":{\"field\":\"y\"}},\"id\":\"17e4d7ef-b505-4deb-997f-b53e23267003\",\"type\":\"Rect\"},{\"attributes\":{\"label\":{\"value\":\"2011\"},\"renderers\":[{\"id\":\"f8007810-6bfd-47ff-bcd6-2a2c089e27ad\",\"type\":\"GlyphRenderer\"}]},\"id\":\"c228d7bf-1ce7-4bd2-bd5e-1144da643fe6\",\"type\":\"LegendItem\"},{\"attributes\":{\"plot\":null,\"text\":null},\"id\":\"148b65c4-8f4a-449e-b20a-b6655ef9ddb9\",\"type\":\"Title\"},{\"attributes\":{},\"id\":\"a5e32494-35c7-49d7-ba54-91ccea2a42d0\",\"type\":\"CategoricalTickFormatter\"},{\"attributes\":{\"fill_alpha\":{\"field\":\"fill_alpha\"},\"fill_color\":{\"field\":\"color\"},\"height\":{\"field\":\"height\",\"units\":\"data\"},\"line_color\":{\"field\":\"line_color\"},\"width\":{\"field\":\"width\",\"units\":\"data\"},\"x\":{\"field\":\"x\"},\"y\":{\"field\":\"y\"}},\"id\":\"1ecdfdb0-987c-453a-b119-952f368e0401\",\"type\":\"Rect\"},{\"attributes\":{\"items\":[{\"id\":\"933787b7-e26d-4871-990a-6b5f0b9b24d2\",\"type\":\"LegendItem\"},{\"id\":\"4c28b938-de6d-46a9-86fd-eacdd2d38748\",\"type\":\"LegendItem\"},{\"id\":\"c228d7bf-1ce7-4bd2-bd5e-1144da643fe6\",\"type\":\"LegendItem\"},{\"id\":\"6aa0b075-d1d1-4bc1-b36a-129564699163\",\"type\":\"LegendItem\"},{\"id\":\"28ca78e0-10cd-4028-b823-f29bf957670e\",\"type\":\"LegendItem\"},{\"id\":\"a6f4d74a-ed96-4a73-ab05-ae1d661259d0\",\"type\":\"LegendItem\"},{\"id\":\"e59ec684-6d33-4095-b899-6addef8fa07e\",\"type\":\"LegendItem\"},{\"id\":\"5331fb35-b666-4cf0-b6f6-801a1ff066b4\",\"type\":\"LegendItem\"}],\"location\":\"top_left\",\"plot\":{\"id\":\"db9401a5-26ab-4461-952a-d7eb13acbf42\",\"subtype\":\"Chart\",\"type\":\"Plot\"}},\"id\":\"28513ffe-091c-47db-bb01-5746b3f693c1\",\"type\":\"Legend\"},{\"attributes\":{\"callback\":null,\"column_names\":[\"height\",\"line_color\",\"x\",\"label\",\"color\",\"width\",\"fill_alpha\",\"line_alpha\",\"y\"],\"data\":{\"chart_index\":[{\"year\":\"2016\"}],\"color\":[\"#f22c40\"],\"fill_alpha\":[0.8],\"height\":[71651.0],\"label\":[{\"year\":\"2016\"}],\"line_alpha\":[1.0],\"line_color\":[\"white\"],\"width\":[0.8],\"x\":[\"2016\"],\"y\":[35825.5],\"year\":[\"2016\"]}},\"id\":\"c91b750f-1d3e-45c4-a1ea-eadbbbcce358\",\"type\":\"ColumnDataSource\"},{\"attributes\":{\"data_source\":{\"id\":\"368d30ee-6445-489e-bacd-4bd2f8d93af1\",\"type\":\"ColumnDataSource\"},\"glyph\":{\"id\":\"1ecdfdb0-987c-453a-b119-952f368e0401\",\"type\":\"Rect\"},\"hover_glyph\":null,\"nonselection_glyph\":null,\"selection_glyph\":null},\"id\":\"dc914975-8f20-4180-a959-c737e591b783\",\"type\":\"GlyphRenderer\"},{\"attributes\":{\"children\":[{\"id\":\"db9401a5-26ab-4461-952a-d7eb13acbf42\",\"subtype\":\"Chart\",\"type\":\"Plot\"}]},\"id\":\"61c1c5a4-1099-488d-a50f-5a5f9b3aac2d\",\"type\":\"Row\"},{\"attributes\":{\"overlay\":{\"id\":\"a2b0c1d6-a8e3-4487-a0cd-a583ed802809\",\"type\":\"BoxAnnotation\"},\"plot\":{\"id\":\"db9401a5-26ab-4461-952a-d7eb13acbf42\",\"subtype\":\"Chart\",\"type\":\"Plot\"}},\"id\":\"32f68f2f-3a8f-4973-b38f-76a130766171\",\"type\":\"BoxZoomTool\"},{\"attributes\":{},\"id\":\"e0b62dac-430b-4264-af9c-3a648d347b01\",\"type\":\"CategoricalTicker\"},{\"attributes\":{\"fill_alpha\":{\"field\":\"fill_alpha\"},\"fill_color\":{\"field\":\"color\"},\"height\":{\"field\":\"height\",\"units\":\"data\"},\"line_color\":{\"field\":\"line_color\"},\"width\":{\"field\":\"width\",\"units\":\"data\"},\"x\":{\"field\":\"x\"},\"y\":{\"field\":\"y\"}},\"id\":\"f8a57055-e83b-498c-a2f2-8d4f9528fa67\",\"type\":\"Rect\"},{\"attributes\":{\"fill_alpha\":{\"field\":\"fill_alpha\"},\"fill_color\":{\"field\":\"color\"},\"height\":{\"field\":\"height\",\"units\":\"data\"},\"line_color\":{\"field\":\"line_color\"},\"width\":{\"field\":\"width\",\"units\":\"data\"},\"x\":{\"field\":\"x\"},\"y\":{\"field\":\"y\"}},\"id\":\"de900a91-3bdb-4474-93b5-fe8afe502206\",\"type\":\"Rect\"},{\"attributes\":{\"plot\":{\"id\":\"db9401a5-26ab-4461-952a-d7eb13acbf42\",\"subtype\":\"Chart\",\"type\":\"Plot\"}},\"id\":\"12c7cd12-4524-4ad1-bd92-d478d22177fa\",\"type\":\"WheelZoomTool\"},{\"attributes\":{\"fill_alpha\":{\"field\":\"fill_alpha\"},\"fill_color\":{\"field\":\"color\"},\"height\":{\"field\":\"height\",\"units\":\"data\"},\"line_color\":{\"field\":\"line_color\"},\"width\":{\"field\":\"width\",\"units\":\"data\"},\"x\":{\"field\":\"x\"},\"y\":{\"field\":\"y\"}},\"id\":\"82924412-7e29-41b7-8034-734290326eae\",\"type\":\"Rect\"},{\"attributes\":{\"data_source\":{\"id\":\"a960910c-fe0e-4373-b970-974e3533dcbf\",\"type\":\"ColumnDataSource\"},\"glyph\":{\"id\":\"f8a57055-e83b-498c-a2f2-8d4f9528fa67\",\"type\":\"Rect\"},\"hover_glyph\":null,\"nonselection_glyph\":null,\"selection_glyph\":null},\"id\":\"afd464c7-ccad-4716-8fa5-ddf0aaad4bd9\",\"type\":\"GlyphRenderer\"},{\"attributes\":{\"callback\":null,\"column_names\":[\"height\",\"line_color\",\"x\",\"label\",\"color\",\"width\",\"fill_alpha\",\"line_alpha\",\"y\"],\"data\":{\"chart_index\":[{\"year\":\"2010\"}],\"color\":[\"#f22c40\"],\"fill_alpha\":[0.8],\"height\":[26769.0],\"label\":[{\"year\":\"2010\"}],\"line_alpha\":[1.0],\"line_color\":[\"white\"],\"width\":[0.8],\"x\":[\"2010\"],\"y\":[13384.5],\"year\":[\"2010\"]}},\"id\":\"e3c3f2e0-f1ae-4798-ba06-6b8e718770b9\",\"type\":\"ColumnDataSource\"},{\"attributes\":{\"callback\":null,\"end\":75233.55},\"id\":\"0bff0348-ac2a-4e7f-a923-03c206b25521\",\"type\":\"Range1d\"}],\"root_ids\":[\"61c1c5a4-1099-488d-a50f-5a5f9b3aac2d\"]},\"title\":\"Bokeh Application\",\"version\":\"0.12.3\"}};\n",
       "            var render_items = [{\"docid\":\"48ba6c80-3e81-49a7-a3f1-4637224d3846\",\"elementid\":\"8484d826-2a9d-44e9-9f04-7b23b9c5bc96\",\"modelid\":\"61c1c5a4-1099-488d-a50f-5a5f9b3aac2d\"}];\n",
       "            \n",
       "            Bokeh.embed.embed_items(docs_json, render_items);\n",
       "        });\n",
       "      },\n",
       "      function(Bokeh) {\n",
       "      }\n",
       "    ];\n",
       "  \n",
       "    function run_inline_js() {\n",
       "      \n",
       "      if ((window.Bokeh !== undefined) || (force === \"1\")) {\n",
       "        for (var i = 0; i < inline_js.length; i++) {\n",
       "          inline_js[i](window.Bokeh);\n",
       "        }if (force === \"1\") {\n",
       "          display_loaded();\n",
       "        }} else if (Date.now() < window._bokeh_timeout) {\n",
       "        setTimeout(run_inline_js, 100);\n",
       "      } else if (!window._bokeh_failed_load) {\n",
       "        console.log(\"Bokeh: BokehJS failed to load within specified timeout.\");\n",
       "        window._bokeh_failed_load = true;\n",
       "      } else if (!force) {\n",
       "        var cell = $(\"#8484d826-2a9d-44e9-9f04-7b23b9c5bc96\").parents('.cell').data().cell;\n",
       "        cell.output_area.append_execute_result(NB_LOAD_WARNING)\n",
       "      }\n",
       "  \n",
       "    }\n",
       "  \n",
       "    if (window._bokeh_is_loading === 0) {\n",
       "      console.log(\"Bokeh: BokehJS loaded, going straight to plotting\");\n",
       "      run_inline_js();\n",
       "    } else {\n",
       "      load_libs(js_urls, function() {\n",
       "        console.log(\"Bokeh: BokehJS plotting callback run at\", now());\n",
       "        run_inline_js();\n",
       "      });\n",
       "    }\n",
       "  }(this));\n",
       "</script>"
      ]
     },
     "metadata": {},
     "output_type": "display_data"
    }
   ],
   "source": [
    "trend = Bar(df, values = 'count', label = 'year')\n",
    "show(row(trend))"
   ]
  },
  {
   "cell_type": "code",
   "execution_count": 16,
   "metadata": {
    "collapsed": false
   },
   "outputs": [
    {
     "data": {
      "text/html": [
       "<div>\n",
       "<table border=\"1\" class=\"dataframe\">\n",
       "  <thead>\n",
       "    <tr style=\"text-align: right;\">\n",
       "      <th></th>\n",
       "      <th>year</th>\n",
       "      <th>count</th>\n",
       "    </tr>\n",
       "  </thead>\n",
       "  <tbody>\n",
       "    <tr>\n",
       "      <th>4</th>\n",
       "      <td>2012</td>\n",
       "      <td>26254</td>\n",
       "    </tr>\n",
       "    <tr>\n",
       "      <th>5</th>\n",
       "      <td>2013</td>\n",
       "      <td>35831</td>\n",
       "    </tr>\n",
       "    <tr>\n",
       "      <th>6</th>\n",
       "      <td>2014</td>\n",
       "      <td>46808</td>\n",
       "    </tr>\n",
       "    <tr>\n",
       "      <th>7</th>\n",
       "      <td>2015</td>\n",
       "      <td>57249</td>\n",
       "    </tr>\n",
       "    <tr>\n",
       "      <th>8</th>\n",
       "      <td>2016</td>\n",
       "      <td>71651</td>\n",
       "    </tr>\n",
       "  </tbody>\n",
       "</table>\n",
       "</div>"
      ],
      "text/plain": [
       "   year  count\n",
       "4  2012  26254\n",
       "5  2013  35831\n",
       "6  2014  46808\n",
       "7  2015  57249\n",
       "8  2016  71651"
      ]
     },
     "execution_count": 16,
     "metadata": {},
     "output_type": "execute_result"
    }
   ],
   "source": [
    "df = df[3:]\n",
    "df"
   ]
  },
  {
   "cell_type": "code",
   "execution_count": 17,
   "metadata": {
    "collapsed": false
   },
   "outputs": [
    {
     "data": {
      "text/html": [
       "\n",
       "\n",
       "    <div class=\"bk-root\">\n",
       "        <div class=\"plotdiv\" id=\"83c6f259-8964-45a0-80dc-2ab80db337e5\"></div>\n",
       "    </div>\n",
       "<script type=\"text/javascript\">\n",
       "  \n",
       "  (function(global) {\n",
       "    function now() {\n",
       "      return new Date();\n",
       "    }\n",
       "  \n",
       "    var force = \"\";\n",
       "  \n",
       "    if (typeof (window._bokeh_onload_callbacks) === \"undefined\" || force !== \"\") {\n",
       "      window._bokeh_onload_callbacks = [];\n",
       "      window._bokeh_is_loading = undefined;\n",
       "    }\n",
       "  \n",
       "  \n",
       "    \n",
       "    if (typeof (window._bokeh_timeout) === \"undefined\" || force !== \"\") {\n",
       "      window._bokeh_timeout = Date.now() + 0;\n",
       "      window._bokeh_failed_load = false;\n",
       "    }\n",
       "  \n",
       "    var NB_LOAD_WARNING = {'data': {'text/html':\n",
       "       \"<div style='background-color: #fdd'>\\n\"+\n",
       "       \"<p>\\n\"+\n",
       "       \"BokehJS does not appear to have successfully loaded. If loading BokehJS from CDN, this \\n\"+\n",
       "       \"may be due to a slow or bad network connection. Possible fixes:\\n\"+\n",
       "       \"</p>\\n\"+\n",
       "       \"<ul>\\n\"+\n",
       "       \"<li>re-rerun `output_notebook()` to attempt to load from CDN again, or</li>\\n\"+\n",
       "       \"<li>use INLINE resources instead, as so:</li>\\n\"+\n",
       "       \"</ul>\\n\"+\n",
       "       \"<code>\\n\"+\n",
       "       \"from bokeh.resources import INLINE\\n\"+\n",
       "       \"output_notebook(resources=INLINE)\\n\"+\n",
       "       \"</code>\\n\"+\n",
       "       \"</div>\"}};\n",
       "  \n",
       "    function display_loaded() {\n",
       "      if (window.Bokeh !== undefined) {\n",
       "        Bokeh.$(\"#83c6f259-8964-45a0-80dc-2ab80db337e5\").text(\"BokehJS successfully loaded.\");\n",
       "      } else if (Date.now() < window._bokeh_timeout) {\n",
       "        setTimeout(display_loaded, 100)\n",
       "      }\n",
       "    }\n",
       "  \n",
       "    function run_callbacks() {\n",
       "      window._bokeh_onload_callbacks.forEach(function(callback) { callback() });\n",
       "      delete window._bokeh_onload_callbacks\n",
       "      console.info(\"Bokeh: all callbacks have finished\");\n",
       "    }\n",
       "  \n",
       "    function load_libs(js_urls, callback) {\n",
       "      window._bokeh_onload_callbacks.push(callback);\n",
       "      if (window._bokeh_is_loading > 0) {\n",
       "        console.log(\"Bokeh: BokehJS is being loaded, scheduling callback at\", now());\n",
       "        return null;\n",
       "      }\n",
       "      if (js_urls == null || js_urls.length === 0) {\n",
       "        run_callbacks();\n",
       "        return null;\n",
       "      }\n",
       "      console.log(\"Bokeh: BokehJS not loaded, scheduling load and callback at\", now());\n",
       "      window._bokeh_is_loading = js_urls.length;\n",
       "      for (var i = 0; i < js_urls.length; i++) {\n",
       "        var url = js_urls[i];\n",
       "        var s = document.createElement('script');\n",
       "        s.src = url;\n",
       "        s.async = false;\n",
       "        s.onreadystatechange = s.onload = function() {\n",
       "          window._bokeh_is_loading--;\n",
       "          if (window._bokeh_is_loading === 0) {\n",
       "            console.log(\"Bokeh: all BokehJS libraries loaded\");\n",
       "            run_callbacks()\n",
       "          }\n",
       "        };\n",
       "        s.onerror = function() {\n",
       "          console.warn(\"failed to load library \" + url);\n",
       "        };\n",
       "        console.log(\"Bokeh: injecting script tag for BokehJS library: \", url);\n",
       "        document.getElementsByTagName(\"head\")[0].appendChild(s);\n",
       "      }\n",
       "    };var element = document.getElementById(\"83c6f259-8964-45a0-80dc-2ab80db337e5\");\n",
       "    if (element == null) {\n",
       "      console.log(\"Bokeh: ERROR: autoload.js configured with elementid '83c6f259-8964-45a0-80dc-2ab80db337e5' but no matching script tag was found. \")\n",
       "      return false;\n",
       "    }\n",
       "  \n",
       "    var js_urls = [];\n",
       "  \n",
       "    var inline_js = [\n",
       "      function(Bokeh) {\n",
       "        Bokeh.$(function() {\n",
       "            var docs_json = {\"bb66d52a-50a0-4f28-8883-d625e999dd0b\":{\"roots\":{\"references\":[{\"attributes\":{\"axis_label\":\"Sum( Count )\",\"formatter\":{\"id\":\"5ac684b0-1cc2-4f82-bdb2-7a6c78ed489d\",\"type\":\"BasicTickFormatter\"},\"plot\":{\"id\":\"ce43578d-e5fc-4e7c-b491-854a25ba0831\",\"subtype\":\"Chart\",\"type\":\"Plot\"},\"ticker\":{\"id\":\"07f0ba59-847b-42c6-91d9-77a5787b436f\",\"type\":\"BasicTicker\"}},\"id\":\"8ce6f30c-edc1-4a5e-b890-5bb2c04453ba\",\"type\":\"LinearAxis\"},{\"attributes\":{\"fill_alpha\":{\"field\":\"fill_alpha\"},\"fill_color\":{\"field\":\"color\"},\"height\":{\"field\":\"height\",\"units\":\"data\"},\"line_color\":{\"field\":\"line_color\"},\"width\":{\"field\":\"width\",\"units\":\"data\"},\"x\":{\"field\":\"x\"},\"y\":{\"field\":\"y\"}},\"id\":\"42c800e0-3805-45fe-badc-625f53a7754b\",\"type\":\"Rect\"},{\"attributes\":{\"children\":[{\"id\":\"ce43578d-e5fc-4e7c-b491-854a25ba0831\",\"subtype\":\"Chart\",\"type\":\"Plot\"}]},\"id\":\"6fc16fff-bf0a-4db0-a1a5-01eaf8013d67\",\"type\":\"Row\"},{\"attributes\":{\"plot\":{\"id\":\"ce43578d-e5fc-4e7c-b491-854a25ba0831\",\"subtype\":\"Chart\",\"type\":\"Plot\"}},\"id\":\"5c0b452f-ce9f-4aee-ae22-1f56342b2d62\",\"type\":\"HelpTool\"},{\"attributes\":{},\"id\":\"5ac684b0-1cc2-4f82-bdb2-7a6c78ed489d\",\"type\":\"BasicTickFormatter\"},{\"attributes\":{\"data_source\":{\"id\":\"ae586b2b-cb83-4ffc-a0f0-0e8320c3095a\",\"type\":\"ColumnDataSource\"},\"glyph\":{\"id\":\"42c800e0-3805-45fe-badc-625f53a7754b\",\"type\":\"Rect\"},\"hover_glyph\":null,\"nonselection_glyph\":null,\"selection_glyph\":null},\"id\":\"85a9b222-a0d8-4496-ba52-ee61d80e7ed5\",\"type\":\"GlyphRenderer\"},{\"attributes\":{\"label\":{\"value\":\"2012\"},\"renderers\":[{\"id\":\"85a9b222-a0d8-4496-ba52-ee61d80e7ed5\",\"type\":\"GlyphRenderer\"}]},\"id\":\"34980668-6f20-4f7e-ac05-abfd2d78f2e3\",\"type\":\"LegendItem\"},{\"attributes\":{\"data_source\":{\"id\":\"3eb98639-6023-4296-87dc-e156f4f41806\",\"type\":\"ColumnDataSource\"},\"glyph\":{\"id\":\"28b1f03b-8eca-4150-a234-0d95c9a14e56\",\"type\":\"Rect\"},\"hover_glyph\":null,\"nonselection_glyph\":null,\"selection_glyph\":null},\"id\":\"c988ab5d-95fc-4bb3-8884-5dfa66c34d8f\",\"type\":\"GlyphRenderer\"},{\"attributes\":{\"callback\":null,\"column_names\":[\"height\",\"line_color\",\"x\",\"label\",\"color\",\"width\",\"fill_alpha\",\"line_alpha\",\"y\"],\"data\":{\"chart_index\":[{\"year\":\"2014\"}],\"color\":[\"#f22c40\"],\"fill_alpha\":[0.8],\"height\":[46808.0],\"label\":[{\"year\":\"2014\"}],\"line_alpha\":[1.0],\"line_color\":[\"white\"],\"width\":[0.8],\"x\":[\"2014\"],\"y\":[23404.0],\"year\":[\"2014\"]}},\"id\":\"c8358ef4-0ca9-49e2-8b4e-2b5c8e58eb71\",\"type\":\"ColumnDataSource\"},{\"attributes\":{\"callback\":null,\"column_names\":[\"height\",\"line_color\",\"x\",\"label\",\"color\",\"width\",\"fill_alpha\",\"line_alpha\",\"y\"],\"data\":{\"chart_index\":[{\"year\":\"2016\"}],\"color\":[\"#f22c40\"],\"fill_alpha\":[0.8],\"height\":[71651.0],\"label\":[{\"year\":\"2016\"}],\"line_alpha\":[1.0],\"line_color\":[\"white\"],\"width\":[0.8],\"x\":[\"2016\"],\"y\":[35825.5],\"year\":[\"2016\"]}},\"id\":\"a777e836-5562-4e55-9564-a7d8238299d7\",\"type\":\"ColumnDataSource\"},{\"attributes\":{\"label\":{\"value\":\"2014\"},\"renderers\":[{\"id\":\"54ce0db1-1fb2-477a-8936-849b958fe74e\",\"type\":\"GlyphRenderer\"}]},\"id\":\"c8d05723-a48c-4af6-b5db-8b85e924e7f2\",\"type\":\"LegendItem\"},{\"attributes\":{\"plot\":{\"id\":\"ce43578d-e5fc-4e7c-b491-854a25ba0831\",\"subtype\":\"Chart\",\"type\":\"Plot\"}},\"id\":\"3628f181-1769-4b52-9adb-77b132e1c3b4\",\"type\":\"PanTool\"},{\"attributes\":{\"bottom_units\":\"screen\",\"fill_alpha\":{\"value\":0.5},\"fill_color\":{\"value\":\"lightgrey\"},\"left_units\":\"screen\",\"level\":\"overlay\",\"line_alpha\":{\"value\":1.0},\"line_color\":{\"value\":\"black\"},\"line_dash\":[4,4],\"line_width\":{\"value\":2},\"plot\":null,\"render_mode\":\"css\",\"right_units\":\"screen\",\"top_units\":\"screen\"},\"id\":\"b050471b-e91b-4f3b-b374-4d1965c157a5\",\"type\":\"BoxAnnotation\"},{\"attributes\":{\"callback\":null,\"column_names\":[\"height\",\"line_color\",\"x\",\"label\",\"color\",\"width\",\"fill_alpha\",\"line_alpha\",\"y\"],\"data\":{\"chart_index\":[{\"year\":\"2012\"}],\"color\":[\"#f22c40\"],\"fill_alpha\":[0.8],\"height\":[26254.0],\"label\":[{\"year\":\"2012\"}],\"line_alpha\":[1.0],\"line_color\":[\"white\"],\"width\":[0.8],\"x\":[\"2012\"],\"y\":[13127.0],\"year\":[\"2012\"]}},\"id\":\"ae586b2b-cb83-4ffc-a0f0-0e8320c3095a\",\"type\":\"ColumnDataSource\"},{\"attributes\":{},\"id\":\"07f0ba59-847b-42c6-91d9-77a5787b436f\",\"type\":\"BasicTicker\"},{\"attributes\":{\"fill_alpha\":{\"field\":\"fill_alpha\"},\"fill_color\":{\"field\":\"color\"},\"height\":{\"field\":\"height\",\"units\":\"data\"},\"line_color\":{\"field\":\"line_color\"},\"width\":{\"field\":\"width\",\"units\":\"data\"},\"x\":{\"field\":\"x\"},\"y\":{\"field\":\"y\"}},\"id\":\"bf0a8495-c46b-439c-a0e3-d9c2d72e4dc2\",\"type\":\"Rect\"},{\"attributes\":{\"callback\":null,\"column_names\":[\"height\",\"line_color\",\"x\",\"label\",\"color\",\"width\",\"fill_alpha\",\"line_alpha\",\"y\"],\"data\":{\"chart_index\":[{\"year\":\"2015\"}],\"color\":[\"#f22c40\"],\"fill_alpha\":[0.8],\"height\":[57249.0],\"label\":[{\"year\":\"2015\"}],\"line_alpha\":[1.0],\"line_color\":[\"white\"],\"width\":[0.8],\"x\":[\"2015\"],\"y\":[28624.5],\"year\":[\"2015\"]}},\"id\":\"3eb98639-6023-4296-87dc-e156f4f41806\",\"type\":\"ColumnDataSource\"},{\"attributes\":{\"plot\":{\"id\":\"ce43578d-e5fc-4e7c-b491-854a25ba0831\",\"subtype\":\"Chart\",\"type\":\"Plot\"}},\"id\":\"277feddb-6325-4821-b8a1-0a74fec2cd46\",\"type\":\"ResetTool\"},{\"attributes\":{\"label\":{\"value\":\"2015\"},\"renderers\":[{\"id\":\"c988ab5d-95fc-4bb3-8884-5dfa66c34d8f\",\"type\":\"GlyphRenderer\"}]},\"id\":\"c58f66b5-1da1-4313-96bb-87658c64d78b\",\"type\":\"LegendItem\"},{\"attributes\":{\"fill_alpha\":{\"field\":\"fill_alpha\"},\"fill_color\":{\"field\":\"color\"},\"height\":{\"field\":\"height\",\"units\":\"data\"},\"line_color\":{\"field\":\"line_color\"},\"width\":{\"field\":\"width\",\"units\":\"data\"},\"x\":{\"field\":\"x\"},\"y\":{\"field\":\"y\"}},\"id\":\"45f01683-7319-4cb0-ac46-e31906da6b2f\",\"type\":\"Rect\"},{\"attributes\":{},\"id\":\"fc37ef7e-d1d4-4456-bd56-e1da0fdf010b\",\"type\":\"CategoricalTickFormatter\"},{\"attributes\":{\"callback\":null,\"factors\":[\"2012\",\"2013\",\"2014\",\"2015\",\"2016\"]},\"id\":\"5837c5ac-baed-4384-9eda-386c2cd3f871\",\"type\":\"FactorRange\"},{\"attributes\":{\"plot\":null,\"text\":null},\"id\":\"70920f29-36ee-486e-b762-282bd6c6bb73\",\"type\":\"Title\"},{\"attributes\":{\"fill_alpha\":{\"field\":\"fill_alpha\"},\"fill_color\":{\"field\":\"color\"},\"height\":{\"field\":\"height\",\"units\":\"data\"},\"line_color\":{\"field\":\"line_color\"},\"width\":{\"field\":\"width\",\"units\":\"data\"},\"x\":{\"field\":\"x\"},\"y\":{\"field\":\"y\"}},\"id\":\"28b1f03b-8eca-4150-a234-0d95c9a14e56\",\"type\":\"Rect\"},{\"attributes\":{\"callback\":null,\"end\":75233.55},\"id\":\"df26126b-abdf-40c2-98dc-456a503e3c79\",\"type\":\"Range1d\"},{\"attributes\":{\"data_source\":{\"id\":\"c8358ef4-0ca9-49e2-8b4e-2b5c8e58eb71\",\"type\":\"ColumnDataSource\"},\"glyph\":{\"id\":\"bf0a8495-c46b-439c-a0e3-d9c2d72e4dc2\",\"type\":\"Rect\"},\"hover_glyph\":null,\"nonselection_glyph\":null,\"selection_glyph\":null},\"id\":\"54ce0db1-1fb2-477a-8936-849b958fe74e\",\"type\":\"GlyphRenderer\"},{\"attributes\":{},\"id\":\"78cc69f1-4913-405c-b8b5-ba8578333f03\",\"type\":\"ToolEvents\"},{\"attributes\":{\"callback\":null,\"column_names\":[\"height\",\"line_color\",\"x\",\"label\",\"color\",\"width\",\"fill_alpha\",\"line_alpha\",\"y\"],\"data\":{\"chart_index\":[{\"year\":\"2013\"}],\"color\":[\"#f22c40\"],\"fill_alpha\":[0.8],\"height\":[35831.0],\"label\":[{\"year\":\"2013\"}],\"line_alpha\":[1.0],\"line_color\":[\"white\"],\"width\":[0.8],\"x\":[\"2013\"],\"y\":[17915.5],\"year\":[\"2013\"]}},\"id\":\"3434a03f-202d-4dd3-9e7e-54f3c26605f7\",\"type\":\"ColumnDataSource\"},{\"attributes\":{\"dimension\":1,\"plot\":{\"id\":\"ce43578d-e5fc-4e7c-b491-854a25ba0831\",\"subtype\":\"Chart\",\"type\":\"Plot\"},\"ticker\":{\"id\":\"07f0ba59-847b-42c6-91d9-77a5787b436f\",\"type\":\"BasicTicker\"}},\"id\":\"92873c9d-8629-430f-8cc2-d6c9143a8386\",\"type\":\"Grid\"},{\"attributes\":{\"axis_label\":\"Year\",\"formatter\":{\"id\":\"fc37ef7e-d1d4-4456-bd56-e1da0fdf010b\",\"type\":\"CategoricalTickFormatter\"},\"major_label_orientation\":0.7853981633974483,\"plot\":{\"id\":\"ce43578d-e5fc-4e7c-b491-854a25ba0831\",\"subtype\":\"Chart\",\"type\":\"Plot\"},\"ticker\":{\"id\":\"895f39d7-a515-4df1-834b-350893f6259c\",\"type\":\"CategoricalTicker\"}},\"id\":\"af2b913a-b255-417e-89ef-5730f0900778\",\"type\":\"CategoricalAxis\"},{\"attributes\":{\"plot\":{\"id\":\"ce43578d-e5fc-4e7c-b491-854a25ba0831\",\"subtype\":\"Chart\",\"type\":\"Plot\"}},\"id\":\"6a743453-fabc-49f2-af57-dfae4bc98e94\",\"type\":\"WheelZoomTool\"},{\"attributes\":{\"fill_alpha\":{\"field\":\"fill_alpha\"},\"fill_color\":{\"field\":\"color\"},\"height\":{\"field\":\"height\",\"units\":\"data\"},\"line_color\":{\"field\":\"line_color\"},\"width\":{\"field\":\"width\",\"units\":\"data\"},\"x\":{\"field\":\"x\"},\"y\":{\"field\":\"y\"}},\"id\":\"ddf56c84-7983-4f52-bdda-b0c8ecb4d451\",\"type\":\"Rect\"},{\"attributes\":{},\"id\":\"895f39d7-a515-4df1-834b-350893f6259c\",\"type\":\"CategoricalTicker\"},{\"attributes\":{\"below\":[{\"id\":\"af2b913a-b255-417e-89ef-5730f0900778\",\"type\":\"CategoricalAxis\"}],\"left\":[{\"id\":\"8ce6f30c-edc1-4a5e-b890-5bb2c04453ba\",\"type\":\"LinearAxis\"}],\"renderers\":[{\"id\":\"b050471b-e91b-4f3b-b374-4d1965c157a5\",\"type\":\"BoxAnnotation\"},{\"id\":\"85a9b222-a0d8-4496-ba52-ee61d80e7ed5\",\"type\":\"GlyphRenderer\"},{\"id\":\"8bc65070-8b95-4d2d-9eb8-12dbb5220b2f\",\"type\":\"GlyphRenderer\"},{\"id\":\"54ce0db1-1fb2-477a-8936-849b958fe74e\",\"type\":\"GlyphRenderer\"},{\"id\":\"c988ab5d-95fc-4bb3-8884-5dfa66c34d8f\",\"type\":\"GlyphRenderer\"},{\"id\":\"6c28b61d-eca8-4b9e-b0c2-8114a8f65ed0\",\"type\":\"GlyphRenderer\"},{\"id\":\"7f70d266-bfeb-4042-8a87-e7755960c901\",\"type\":\"Legend\"},{\"id\":\"af2b913a-b255-417e-89ef-5730f0900778\",\"type\":\"CategoricalAxis\"},{\"id\":\"8ce6f30c-edc1-4a5e-b890-5bb2c04453ba\",\"type\":\"LinearAxis\"},{\"id\":\"92873c9d-8629-430f-8cc2-d6c9143a8386\",\"type\":\"Grid\"}],\"title\":{\"id\":\"70920f29-36ee-486e-b762-282bd6c6bb73\",\"type\":\"Title\"},\"tool_events\":{\"id\":\"78cc69f1-4913-405c-b8b5-ba8578333f03\",\"type\":\"ToolEvents\"},\"toolbar\":{\"id\":\"ce9f8a8c-87e3-4c91-9eee-9f8fac1991d0\",\"type\":\"Toolbar\"},\"x_mapper_type\":\"auto\",\"x_range\":{\"id\":\"5837c5ac-baed-4384-9eda-386c2cd3f871\",\"type\":\"FactorRange\"},\"y_mapper_type\":\"auto\",\"y_range\":{\"id\":\"df26126b-abdf-40c2-98dc-456a503e3c79\",\"type\":\"Range1d\"}},\"id\":\"ce43578d-e5fc-4e7c-b491-854a25ba0831\",\"subtype\":\"Chart\",\"type\":\"Plot\"},{\"attributes\":{\"data_source\":{\"id\":\"a777e836-5562-4e55-9564-a7d8238299d7\",\"type\":\"ColumnDataSource\"},\"glyph\":{\"id\":\"ddf56c84-7983-4f52-bdda-b0c8ecb4d451\",\"type\":\"Rect\"},\"hover_glyph\":null,\"nonselection_glyph\":null,\"selection_glyph\":null},\"id\":\"6c28b61d-eca8-4b9e-b0c2-8114a8f65ed0\",\"type\":\"GlyphRenderer\"},{\"attributes\":{\"items\":[{\"id\":\"34980668-6f20-4f7e-ac05-abfd2d78f2e3\",\"type\":\"LegendItem\"},{\"id\":\"ee72e4ad-0de0-4d6a-97b3-6564acd71170\",\"type\":\"LegendItem\"},{\"id\":\"c8d05723-a48c-4af6-b5db-8b85e924e7f2\",\"type\":\"LegendItem\"},{\"id\":\"c58f66b5-1da1-4313-96bb-87658c64d78b\",\"type\":\"LegendItem\"},{\"id\":\"66c5f73c-0e60-4230-b78c-ba613d2436f9\",\"type\":\"LegendItem\"}],\"location\":\"top_left\",\"plot\":{\"id\":\"ce43578d-e5fc-4e7c-b491-854a25ba0831\",\"subtype\":\"Chart\",\"type\":\"Plot\"}},\"id\":\"7f70d266-bfeb-4042-8a87-e7755960c901\",\"type\":\"Legend\"},{\"attributes\":{\"overlay\":{\"id\":\"b050471b-e91b-4f3b-b374-4d1965c157a5\",\"type\":\"BoxAnnotation\"},\"plot\":{\"id\":\"ce43578d-e5fc-4e7c-b491-854a25ba0831\",\"subtype\":\"Chart\",\"type\":\"Plot\"}},\"id\":\"b98cc33e-7653-4e01-9040-5cbb484ed3a7\",\"type\":\"BoxZoomTool\"},{\"attributes\":{\"active_drag\":\"auto\",\"active_scroll\":\"auto\",\"active_tap\":\"auto\",\"tools\":[{\"id\":\"3628f181-1769-4b52-9adb-77b132e1c3b4\",\"type\":\"PanTool\"},{\"id\":\"6a743453-fabc-49f2-af57-dfae4bc98e94\",\"type\":\"WheelZoomTool\"},{\"id\":\"b98cc33e-7653-4e01-9040-5cbb484ed3a7\",\"type\":\"BoxZoomTool\"},{\"id\":\"6b3c96f5-c8cb-4e95-b2bd-e91387263496\",\"type\":\"SaveTool\"},{\"id\":\"277feddb-6325-4821-b8a1-0a74fec2cd46\",\"type\":\"ResetTool\"},{\"id\":\"5c0b452f-ce9f-4aee-ae22-1f56342b2d62\",\"type\":\"HelpTool\"}]},\"id\":\"ce9f8a8c-87e3-4c91-9eee-9f8fac1991d0\",\"type\":\"Toolbar\"},{\"attributes\":{\"data_source\":{\"id\":\"3434a03f-202d-4dd3-9e7e-54f3c26605f7\",\"type\":\"ColumnDataSource\"},\"glyph\":{\"id\":\"45f01683-7319-4cb0-ac46-e31906da6b2f\",\"type\":\"Rect\"},\"hover_glyph\":null,\"nonselection_glyph\":null,\"selection_glyph\":null},\"id\":\"8bc65070-8b95-4d2d-9eb8-12dbb5220b2f\",\"type\":\"GlyphRenderer\"},{\"attributes\":{\"label\":{\"value\":\"2013\"},\"renderers\":[{\"id\":\"8bc65070-8b95-4d2d-9eb8-12dbb5220b2f\",\"type\":\"GlyphRenderer\"}]},\"id\":\"ee72e4ad-0de0-4d6a-97b3-6564acd71170\",\"type\":\"LegendItem\"},{\"attributes\":{\"plot\":{\"id\":\"ce43578d-e5fc-4e7c-b491-854a25ba0831\",\"subtype\":\"Chart\",\"type\":\"Plot\"}},\"id\":\"6b3c96f5-c8cb-4e95-b2bd-e91387263496\",\"type\":\"SaveTool\"},{\"attributes\":{\"label\":{\"value\":\"2016\"},\"renderers\":[{\"id\":\"6c28b61d-eca8-4b9e-b0c2-8114a8f65ed0\",\"type\":\"GlyphRenderer\"}]},\"id\":\"66c5f73c-0e60-4230-b78c-ba613d2436f9\",\"type\":\"LegendItem\"}],\"root_ids\":[\"6fc16fff-bf0a-4db0-a1a5-01eaf8013d67\"]},\"title\":\"Bokeh Application\",\"version\":\"0.12.3\"}};\n",
       "            var render_items = [{\"docid\":\"bb66d52a-50a0-4f28-8883-d625e999dd0b\",\"elementid\":\"83c6f259-8964-45a0-80dc-2ab80db337e5\",\"modelid\":\"6fc16fff-bf0a-4db0-a1a5-01eaf8013d67\"}];\n",
       "            \n",
       "            Bokeh.embed.embed_items(docs_json, render_items);\n",
       "        });\n",
       "      },\n",
       "      function(Bokeh) {\n",
       "      }\n",
       "    ];\n",
       "  \n",
       "    function run_inline_js() {\n",
       "      \n",
       "      if ((window.Bokeh !== undefined) || (force === \"1\")) {\n",
       "        for (var i = 0; i < inline_js.length; i++) {\n",
       "          inline_js[i](window.Bokeh);\n",
       "        }if (force === \"1\") {\n",
       "          display_loaded();\n",
       "        }} else if (Date.now() < window._bokeh_timeout) {\n",
       "        setTimeout(run_inline_js, 100);\n",
       "      } else if (!window._bokeh_failed_load) {\n",
       "        console.log(\"Bokeh: BokehJS failed to load within specified timeout.\");\n",
       "        window._bokeh_failed_load = true;\n",
       "      } else if (!force) {\n",
       "        var cell = $(\"#83c6f259-8964-45a0-80dc-2ab80db337e5\").parents('.cell').data().cell;\n",
       "        cell.output_area.append_execute_result(NB_LOAD_WARNING)\n",
       "      }\n",
       "  \n",
       "    }\n",
       "  \n",
       "    if (window._bokeh_is_loading === 0) {\n",
       "      console.log(\"Bokeh: BokehJS loaded, going straight to plotting\");\n",
       "      run_inline_js();\n",
       "    } else {\n",
       "      load_libs(js_urls, function() {\n",
       "        console.log(\"Bokeh: BokehJS plotting callback run at\", now());\n",
       "        run_inline_js();\n",
       "      });\n",
       "    }\n",
       "  }(this));\n",
       "</script>"
      ]
     },
     "metadata": {},
     "output_type": "display_data"
    }
   ],
   "source": [
    "trend = Bar(df, values = 'count', label = 'year')\n",
    "show(row(trend))"
   ]
  },
  {
   "cell_type": "markdown",
   "metadata": {
    "collapsed": true
   },
   "source": [
    "# Analysis by Source, grab new dataframe by constructing SQL query to API"
   ]
  },
  {
   "cell_type": "code",
   "execution_count": null,
   "metadata": {
    "collapsed": true
   },
   "outputs": [],
   "source": [
    "url = 'https://data.sfgov.org/resource/qer8-n8u9.csv?$select=source,date_trunc_y(opened)as%20year,%20count(*)&$order=year&$group=year,source'"
   ]
  },
  {
   "cell_type": "code",
   "execution_count": null,
   "metadata": {
    "collapsed": false
   },
   "outputs": [],
   "source": [
    "print(url)"
   ]
  },
  {
   "cell_type": "code",
   "execution_count": null,
   "metadata": {
    "collapsed": false
   },
   "outputs": [],
   "source": [
    "df=pd.read_csv(url)\n",
    "df=df[18:]\n",
    "df"
   ]
  },
  {
   "cell_type": "code",
   "execution_count": null,
   "metadata": {
    "collapsed": false
   },
   "outputs": [],
   "source": [
    "pd.crosstab(df.source, df.Twitter, margins=True)\n"
   ]
  },
  {
   "cell_type": "code",
   "execution_count": null,
   "metadata": {
    "collapsed": false
   },
   "outputs": [],
   "source": [
    "df = pd.read_csv(url)\n",
    "df['count'].astype(int)\n",
    "df['year'].str.extract('(?P<year>\\d{4})').astype(str)\n",
    "df = df[18:]\n",
    "\n",
    "df"
   ]
  },
  {
   "cell_type": "code",
   "execution_count": null,
   "metadata": {
    "collapsed": false
   },
   "outputs": [],
   "source": []
  },
  {
   "cell_type": "code",
   "execution_count": null,
   "metadata": {
    "collapsed": true
   },
   "outputs": [],
   "source": [
    "x = ['2009','2010','2011','2012','2013','2014','2015','2016']"
   ]
  },
  {
   "cell_type": "code",
   "execution_count": null,
   "metadata": {
    "collapsed": false
   },
   "outputs": [],
   "source": [
    "import matplotlib.pyplot as plt\n",
    "\n",
    "#x = [1,2,3,4,5,6,7,8]\n",
    "#x = ['2008','2009','2010','2011','2012','2013','2014','2015','2016']\n",
    "\n",
    "#N = len(y)\n",
    "#x = range(N)\n",
    "#width = 1/1.5\n",
    "plt.bar(x, y )\n",
    "\n",
    "\n"
   ]
  },
  {
   "cell_type": "markdown",
   "metadata": {
    "collapsed": true
   },
   "source": [
    "#  I'm going to focus on the period from 2013 on because\n",
    "# That's when the upward trend in reports began with the \n",
    "# usage of the mobile app"
   ]
  },
  {
   "cell_type": "code",
   "execution_count": null,
   "metadata": {
    "collapsed": true
   },
   "outputs": [],
   "source": []
  },
  {
   "cell_type": "code",
   "execution_count": null,
   "metadata": {
    "collapsed": true
   },
   "outputs": [],
   "source": []
  },
  {
   "cell_type": "markdown",
   "metadata": {},
   "source": [
    "# Growth in reports (2013 to 2016)"
   ]
  },
  {
   "cell_type": "code",
   "execution_count": null,
   "metadata": {
    "collapsed": true
   },
   "outputs": [],
   "source": []
  },
  {
   "cell_type": "code",
   "execution_count": null,
   "metadata": {
    "collapsed": true
   },
   "outputs": [],
   "source": []
  },
  {
   "cell_type": "code",
   "execution_count": null,
   "metadata": {
    "collapsed": true
   },
   "outputs": [],
   "source": []
  },
  {
   "cell_type": "code",
   "execution_count": null,
   "metadata": {
    "collapsed": true
   },
   "outputs": [],
   "source": []
  },
  {
   "cell_type": "code",
   "execution_count": null,
   "metadata": {
    "collapsed": false
   },
   "outputs": [],
   "source": [
    "!date -d \"1 week ago 13:00\" '+%Y-%m-%d'"
   ]
  },
  {
   "cell_type": "markdown",
   "metadata": {},
   "source": [
    "This year and last year work"
   ]
  },
  {
   "cell_type": "code",
   "execution_count": null,
   "metadata": {
    "collapsed": false
   },
   "outputs": [],
   "source": [
    "annum = !date -d \"this year 13:00\" '+%Y-01-01'\n",
    "onorafter = str(annum)[1:-1]"
   ]
  },
  {
   "cell_type": "code",
   "execution_count": null,
   "metadata": {
    "collapsed": false
   },
   "outputs": [],
   "source": [
    "print(onorafter)"
   ]
  },
  {
   "cell_type": "markdown",
   "metadata": {},
   "source": [
    "## deal with the limits of Socrata"
   ]
  },
  {
   "cell_type": "code",
   "execution_count": null,
   "metadata": {
    "collapsed": false
   },
   "outputs": [],
   "source": [
    "#All Graffiti Currently Set for one year, but limit is 50, 000\n",
    "'''\n",
    "https://data.sfgov.org/resource/rme2-xgvs.json\n",
    "https://data.sfgov.org/resource/rme2-xgvs.json\n",
    "The graffiti_url is the target URL\n",
    "and could be swapped out, and the code should still run\n",
    "'''\n",
    "graffiti_url = 'https://data.sfgov.org/resource/rme2-xgvs.json'\n",
    "target_url=graffiti_url"
   ]
  },
  {
   "cell_type": "code",
   "execution_count": null,
   "metadata": {
    "collapsed": false
   },
   "outputs": [],
   "source": [
    "url0 = str(target_url)[:-4]+'csv'\n",
    "url0"
   ]
  },
  {
   "cell_type": "code",
   "execution_count": null,
   "metadata": {
    "collapsed": false
   },
   "outputs": [],
   "source": [
    "\n",
    "limit = '?$limit=50000'\n",
    "offset = '&$offset=50000'\n",
    "url1 = url0+limit\n",
    "print (url1)\n",
    "\n",
    "url2 = url1 + offset\n",
    "print (url2)"
   ]
  },
  {
   "cell_type": "code",
   "execution_count": null,
   "metadata": {
    "collapsed": false
   },
   "outputs": [],
   "source": [
    "#print(url2)\n",
    "where = '&$where='\n",
    "category = 'opened'\n",
    "start = '>='\n",
    "\n",
    "#date format 'year-mm-dd'\n",
    "onorafter = \"'2016-01-01'\"\n",
    "url2 = url2 + where + category + start + str(onorafter) \n",
    "print(url2)"
   ]
  },
  {
   "cell_type": "markdown",
   "metadata": {
    "collapsed": true
   },
   "source": [
    "# Concatenate or Vertically stack the two dataFrames"
   ]
  },
  {
   "cell_type": "code",
   "execution_count": null,
   "metadata": {
    "collapsed": false
   },
   "outputs": [],
   "source": [
    "df1  = pd.read_csv(url1)\n",
    "df2 = pd.read_csv(url2)"
   ]
  },
  {
   "cell_type": "code",
   "execution_count": null,
   "metadata": {
    "collapsed": false
   },
   "outputs": [],
   "source": [
    "frames = [df1,df2]"
   ]
  },
  {
   "cell_type": "code",
   "execution_count": null,
   "metadata": {
    "collapsed": false
   },
   "outputs": [],
   "source": [
    "df = pd.concat(frames)"
   ]
  },
  {
   "cell_type": "code",
   "execution_count": null,
   "metadata": {
    "collapsed": false
   },
   "outputs": [],
   "source": [
    "df.shape"
   ]
  },
  {
   "cell_type": "code",
   "execution_count": null,
   "metadata": {
    "collapsed": false
   },
   "outputs": [],
   "source": [
    "df.head(2)"
   ]
  },
  {
   "cell_type": "code",
   "execution_count": null,
   "metadata": {
    "collapsed": false
   },
   "outputs": [],
   "source": [
    "df.tail(1)"
   ]
  },
  {
   "cell_type": "markdown",
   "metadata": {},
   "source": [
    "# Convert the time series into pandas time version"
   ]
  },
  {
   "cell_type": "code",
   "execution_count": null,
   "metadata": {
    "collapsed": false
   },
   "outputs": [],
   "source": [
    "df.columns"
   ]
  },
  {
   "cell_type": "code",
   "execution_count": null,
   "metadata": {
    "collapsed": false
   },
   "outputs": [],
   "source": [
    "type(df.Opened)"
   ]
  },
  {
   "cell_type": "code",
   "execution_count": null,
   "metadata": {
    "collapsed": false
   },
   "outputs": [],
   "source": [
    "df['Opened'] = pd.to_datetime(df['Opened'])\n",
    "\n"
   ]
  },
  {
   "cell_type": "code",
   "execution_count": null,
   "metadata": {
    "collapsed": true
   },
   "outputs": [],
   "source": [
    "df['Closed'] = pd.to_datetime(df['Closed'])\n",
    "df['Updated'] = pd.to_datetime(df['Updated'])\n"
   ]
  },
  {
   "cell_type": "code",
   "execution_count": null,
   "metadata": {
    "collapsed": false
   },
   "outputs": [],
   "source": [
    "df['Opened'].head(2)"
   ]
  },
  {
   "cell_type": "code",
   "execution_count": null,
   "metadata": {
    "collapsed": false
   },
   "outputs": [],
   "source": [
    "df['Diff'] =(df.Closed-df.Opened).astype('timedelta64[D]')"
   ]
  },
  {
   "cell_type": "code",
   "execution_count": null,
   "metadata": {
    "collapsed": false
   },
   "outputs": [],
   "source": [
    "df.Diff.describe()"
   ]
  },
  {
   "cell_type": "code",
   "execution_count": null,
   "metadata": {
    "collapsed": false
   },
   "outputs": [],
   "source": [
    "df[df['Neighborhood' ]== \"Mission\"].head(85)"
   ]
  },
  {
   "cell_type": "code",
   "execution_count": null,
   "metadata": {
    "collapsed": false
   },
   "outputs": [],
   "source": [
    "df[df['Neighborhood' ]== \"Mission\"].describe()"
   ]
  },
  {
   "cell_type": "code",
   "execution_count": null,
   "metadata": {
    "collapsed": false
   },
   "outputs": [],
   "source": [
    "df['Responsible Agency'].value_counts()[:6]"
   ]
  },
  {
   "cell_type": "code",
   "execution_count": null,
   "metadata": {
    "collapsed": false
   },
   "outputs": [],
   "source": [
    "df[df['Responsible Agency'] == 'US Postal Service Maintenance Queue']['Diff'].describe()"
   ]
  },
  {
   "cell_type": "code",
   "execution_count": null,
   "metadata": {
    "collapsed": false
   },
   "outputs": [],
   "source": [
    "df[df['Responsible Agency'] == 'Clear Channel - Transit Queue']['Diff'].describe()"
   ]
  },
  {
   "cell_type": "code",
   "execution_count": null,
   "metadata": {
    "collapsed": false
   },
   "outputs": [],
   "source": [
    "df[df['Responsible Agency'] == 'DPW Ops Queue']['Diff'].describe()"
   ]
  },
  {
   "cell_type": "code",
   "execution_count": null,
   "metadata": {
    "collapsed": false
   },
   "outputs": [],
   "source": [
    "df[df['Category'] == 'Graffiti Private Property']['Diff'].describe()"
   ]
  },
  {
   "cell_type": "code",
   "execution_count": null,
   "metadata": {
    "collapsed": false
   },
   "outputs": [],
   "source": [
    "df[df['Category'] == 'Graffiti Public Property']['Diff'].describe()"
   ]
  },
  {
   "cell_type": "code",
   "execution_count": null,
   "metadata": {
    "collapsed": false
   },
   "outputs": [],
   "source": [
    "df['Source'].value_counts()"
   ]
  },
  {
   "cell_type": "code",
   "execution_count": null,
   "metadata": {
    "collapsed": false
   },
   "outputs": [],
   "source": [
    "df[df['Source'] == 'Open311']['Diff'].describe()"
   ]
  },
  {
   "cell_type": "code",
   "execution_count": null,
   "metadata": {
    "collapsed": false
   },
   "outputs": [],
   "source": [
    "df[df['Source'] == 'Voice In']['Diff'].describe()"
   ]
  },
  {
   "cell_type": "code",
   "execution_count": null,
   "metadata": {
    "collapsed": false
   },
   "outputs": [],
   "source": [
    "df[df['Source'] == 'Integrated Agency']['Diff'].describe()"
   ]
  },
  {
   "cell_type": "markdown",
   "metadata": {},
   "source": [
    "# Consider some exploratory statistics / reality checks"
   ]
  },
  {
   "cell_type": "code",
   "execution_count": null,
   "metadata": {
    "collapsed": false
   },
   "outputs": [],
   "source": [
    "source = df.Source.value_counts()\n",
    "print(type(source))\n",
    "\n",
    "\n",
    "print(source)"
   ]
  },
  {
   "cell_type": "code",
   "execution_count": null,
   "metadata": {
    "collapsed": false
   },
   "outputs": [],
   "source": [
    "type(source)"
   ]
  },
  {
   "cell_type": "code",
   "execution_count": null,
   "metadata": {
    "collapsed": false
   },
   "outputs": [],
   "source": [
    "label_list = source.index.tolist()\n",
    "print(label_list)"
   ]
  },
  {
   "cell_type": "code",
   "execution_count": null,
   "metadata": {
    "collapsed": false
   },
   "outputs": [],
   "source": [
    "source = source.tolist()\n",
    "source\n"
   ]
  },
  {
   "cell_type": "code",
   "execution_count": null,
   "metadata": {
    "collapsed": false
   },
   "outputs": [],
   "source": [
    "\n",
    "\n",
    "plt.axis(\"equal\")\n",
    "plt.pie(\n",
    "        source,\n",
    "        labels=label_list,\n",
    "        autopct=\"%1.1f%%\"\n",
    "        )\n",
    "plt.title(\"Graffiti Reports Submitted in 2016\")\n",
    "plt.show()"
   ]
  },
  {
   "cell_type": "code",
   "execution_count": null,
   "metadata": {
    "collapsed": false
   },
   "outputs": [],
   "source": [
    "df['Supervisor District'].value_counts().head(11)"
   ]
  },
  {
   "cell_type": "markdown",
   "metadata": {},
   "source": [
    "# Get list of Supervisor's'"
   ]
  },
  {
   "cell_type": "code",
   "execution_count": null,
   "metadata": {
    "collapsed": false
   },
   "outputs": [],
   "source": [
    "\n",
    "plt.rcdefaults()\n",
    "\n",
    "# Example data\n",
    "people = ('Tom', 'Dick', 'Harry', 'Slim', 'Jim')\n",
    "y_pos = np.arange(len(people))\n",
    "performance = 3 + 10 * np.random.rand(len(people))\n",
    "error = np.random.rand(len(people))\n",
    "\n",
    "plt.barh(y_pos, performance, xerr=error, align='center', alpha=0.4)\n",
    "plt.yticks(y_pos, people)\n",
    "plt.xlabel('Performance')\n",
    "plt.title('How fast do you want to go today?')\n",
    "\n",
    "plt.show()"
   ]
  },
  {
   "cell_type": "raw",
   "metadata": {},
   "source": [
    "\"\"\"\n",
    "Simple demo of a horizontal bar chart.\n",
    "\"\"\"\n",
    "import matplotlib.pyplot as plt\n",
    "plt.rcdefaults()\n",
    "import numpy as np\n",
    "import matplotlib.pyplot as plt\n",
    "\n",
    "\n",
    "# Example data\n",
    "people = ('Tom', 'Dick', 'Harry', 'Slim', 'Jim')\n",
    "y_pos = np.arange(len(people))\n",
    "performance = 3 + 10 * np.random.rand(len(people))\n",
    "error = np.random.rand(len(people))\n",
    "\n",
    "plt.barh(y_pos, performance, xerr=error, align='center', alpha=0.4)\n",
    "plt.yticks(y_pos, people)\n",
    "plt.xlabel('Performance')\n",
    "plt.title('How fast do you want to go today?')\n",
    "\n",
    "plt.show()"
   ]
  },
  {
   "cell_type": "code",
   "execution_count": null,
   "metadata": {
    "collapsed": false
   },
   "outputs": [],
   "source": [
    "\n",
    "fig, ax = plt.subplots(1)\n",
    "np.random.seed(14)\n",
    "n = 10\n",
    "plt.bar(ax, np.arange(n), np.abs(np.random.randn(n)), annotate=True, grid='y')\n",
    "fig.savefig('bar_prettyplotlib_grid_annotated.png')"
   ]
  },
  {
   "cell_type": "code",
   "execution_count": null,
   "metadata": {
    "collapsed": true
   },
   "outputs": [],
   "source": []
  },
  {
   "cell_type": "code",
   "execution_count": null,
   "metadata": {
    "collapsed": true
   },
   "outputs": [],
   "source": []
  },
  {
   "cell_type": "code",
   "execution_count": null,
   "metadata": {
    "collapsed": true
   },
   "outputs": [],
   "source": []
  },
  {
   "cell_type": "code",
   "execution_count": null,
   "metadata": {
    "collapsed": true
   },
   "outputs": [],
   "source": []
  },
  {
   "cell_type": "code",
   "execution_count": null,
   "metadata": {
    "collapsed": true
   },
   "outputs": [],
   "source": []
  },
  {
   "cell_type": "code",
   "execution_count": null,
   "metadata": {
    "collapsed": true
   },
   "outputs": [],
   "source": []
  },
  {
   "cell_type": "code",
   "execution_count": null,
   "metadata": {
    "collapsed": false
   },
   "outputs": [],
   "source": [
    "df['Status Notes'].value_counts().head(10)"
   ]
  },
  {
   "cell_type": "code",
   "execution_count": null,
   "metadata": {
    "collapsed": false
   },
   "outputs": [],
   "source": [
    "df['Status'].value_counts().head()"
   ]
  },
  {
   "cell_type": "code",
   "execution_count": null,
   "metadata": {
    "collapsed": false
   },
   "outputs": [],
   "source": [
    "df['Responsible Agency'].value_counts().head(4)"
   ]
  },
  {
   "cell_type": "code",
   "execution_count": null,
   "metadata": {
    "collapsed": false
   },
   "outputs": [],
   "source": [
    "df.Category.value_counts().head()"
   ]
  },
  {
   "cell_type": "code",
   "execution_count": null,
   "metadata": {
    "collapsed": false
   },
   "outputs": [],
   "source": [
    "df['Request Type'].value_counts().head(10)"
   ]
  },
  {
   "cell_type": "code",
   "execution_count": null,
   "metadata": {
    "collapsed": false
   },
   "outputs": [],
   "source": [
    "df['Request Details'].value_counts().head(20)"
   ]
  },
  {
   "cell_type": "code",
   "execution_count": null,
   "metadata": {
    "collapsed": false
   },
   "outputs": [],
   "source": [
    "df['Address'].value_counts().head(20)"
   ]
  },
  {
   "cell_type": "code",
   "execution_count": null,
   "metadata": {
    "collapsed": false
   },
   "outputs": [],
   "source": [
    "df['Source'].value_counts().head(6)"
   ]
  },
  {
   "cell_type": "code",
   "execution_count": null,
   "metadata": {
    "collapsed": false
   },
   "outputs": [],
   "source": [
    "df['Media URL'].describe()"
   ]
  },
  {
   "cell_type": "code",
   "execution_count": null,
   "metadata": {
    "collapsed": false
   },
   "outputs": [],
   "source": [
    "df['Point'].describe()"
   ]
  },
  {
   "cell_type": "code",
   "execution_count": null,
   "metadata": {
    "collapsed": true
   },
   "outputs": [],
   "source": [
    "\n",
    "\n",
    "\n"
   ]
  },
  {
   "cell_type": "markdown",
   "metadata": {
    "collapsed": true
   },
   "source": [
    "# Plot this.    Simple First\n"
   ]
  },
  {
   "cell_type": "code",
   "execution_count": null,
   "metadata": {
    "collapsed": true
   },
   "outputs": [],
   "source": [
    "#Plot by top responsible agency that is not DPW"
   ]
  },
  {
   "cell_type": "code",
   "execution_count": null,
   "metadata": {
    "collapsed": true
   },
   "outputs": [],
   "source": []
  },
  {
   "cell_type": "code",
   "execution_count": null,
   "metadata": {
    "collapsed": true
   },
   "outputs": [],
   "source": []
  },
  {
   "cell_type": "code",
   "execution_count": null,
   "metadata": {
    "collapsed": true
   },
   "outputs": [],
   "source": []
  },
  {
   "cell_type": "code",
   "execution_count": null,
   "metadata": {
    "collapsed": true
   },
   "outputs": [],
   "source": []
  },
  {
   "cell_type": "code",
   "execution_count": null,
   "metadata": {
    "collapsed": true
   },
   "outputs": [],
   "source": []
  },
  {
   "cell_type": "code",
   "execution_count": null,
   "metadata": {
    "collapsed": true
   },
   "outputs": [],
   "source": []
  },
  {
   "cell_type": "code",
   "execution_count": null,
   "metadata": {
    "collapsed": true
   },
   "outputs": [],
   "source": []
  },
  {
   "cell_type": "raw",
   "metadata": {
    "collapsed": false
   },
   "source": [
    "import pandas as pd\n",
    "\n",
    "urlX = 'https://data.sfgov.org/resource/rme2-xgvs.json'\n",
    "\n",
    "\n",
    "# load JSON as DataFrame\n",
    "json_data=pd.read_json(urlX).T\n",
    "\n",
    "# to CSV\n",
    "json_data.to_csv(\"geocoded.csv\")"
   ]
  },
  {
   "cell_type": "code",
   "execution_count": null,
   "metadata": {
    "collapsed": false
   },
   "outputs": [],
   "source": [
    "!pwd"
   ]
  },
  {
   "cell_type": "code",
   "execution_count": null,
   "metadata": {
    "collapsed": false
   },
   "outputs": [],
   "source": [
    "!ls"
   ]
  },
  {
   "cell_type": "code",
   "execution_count": null,
   "metadata": {
    "collapsed": false
   },
   "outputs": [],
   "source": [
    "!cat geocoded.csv"
   ]
  },
  {
   "cell_type": "code",
   "execution_count": null,
   "metadata": {
    "collapsed": true
   },
   "outputs": [],
   "source": []
  },
  {
   "cell_type": "markdown",
   "metadata": {},
   "source": [
    "# Start Plotting the simple items"
   ]
  },
  {
   "cell_type": "markdown",
   "metadata": {},
   "source": [
    "# Plot Responsible Agency non DPW"
   ]
  },
  {
   "cell_type": "code",
   "execution_count": null,
   "metadata": {
    "collapsed": false
   },
   "outputs": [],
   "source": [
    "respAgencyCount = df['Responsible Agency'].value_counts()"
   ]
  },
  {
   "cell_type": "code",
   "execution_count": null,
   "metadata": {
    "collapsed": true
   },
   "outputs": [],
   "source": [
    "respAgencyCount = respAgencyCount[1:27]"
   ]
  },
  {
   "cell_type": "code",
   "execution_count": null,
   "metadata": {
    "collapsed": false
   },
   "outputs": [],
   "source": [
    "respAgencyCount"
   ]
  },
  {
   "cell_type": "markdown",
   "metadata": {},
   "source": [
    "## minimally acceptable is to do pie / dpw vs all other\n",
    "### DPW share compared to prior years\n",
    "### Conclude, DPW doing a good job, how about the other departments\n",
    "### Bar Chart the top 5-6\n",
    "### Which of the top 5-6 are doing better.\n",
    "### can't give the most natural statistic, because "
   ]
  },
  {
   "cell_type": "code",
   "execution_count": null,
   "metadata": {
    "collapsed": true
   },
   "outputs": [],
   "source": []
  }
 ],
 "metadata": {
  "kernelspec": {
   "display_name": "Python 3",
   "language": "python",
   "name": "python3"
  },
  "language_info": {
   "codemirror_mode": {
    "name": "ipython",
    "version": 3
   },
   "file_extension": ".py",
   "mimetype": "text/x-python",
   "name": "python",
   "nbconvert_exporter": "python",
   "pygments_lexer": "ipython3",
   "version": "3.5.2"
  }
 },
 "nbformat": 4,
 "nbformat_minor": 1
}
