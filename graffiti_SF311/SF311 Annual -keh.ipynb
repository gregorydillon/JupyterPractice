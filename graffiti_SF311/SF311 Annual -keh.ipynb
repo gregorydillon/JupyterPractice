{
 "cells": [
  {
   "cell_type": "markdown",
   "metadata": {},
   "source": [
    "\n",
    "# Graffiti Annual  Numbers"
   ]
  },
  {
   "cell_type": "markdown",
   "metadata": {},
   "source": [
    "# Make Sure the modules are installed\n",
    "\n"
   ]
  },
  {
   "cell_type": "markdown",
   "metadata": {},
   "source": [
    "# Import modules"
   ]
  },
  {
   "cell_type": "code",
   "execution_count": 1,
   "metadata": {
    "collapsed": false
   },
   "outputs": [],
   "source": [
    "\n",
    "import numpy as np\n",
    "import pandas as pd\n",
    "\n",
    "\n"
   ]
  },
  {
   "cell_type": "code",
   "execution_count": 2,
   "metadata": {
    "collapsed": false
   },
   "outputs": [
    {
     "name": "stdout",
     "output_type": "stream",
     "text": [
      "/home/gdillon/JupyterPractice/graffiti_SF311\r\n"
     ]
    }
   ],
   "source": [
    "!pwd"
   ]
  },
  {
   "cell_type": "markdown",
   "metadata": {
    "collapsed": true
   },
   "source": [
    "# produce viz of annual total 2009-2016\n",
    "because I'm using SQL type queery with count(*), this responds faster"
   ]
  },
  {
   "cell_type": "markdown",
   "metadata": {},
   "source": [
    "## api call for count of all by year"
   ]
  },
  {
   "cell_type": "code",
   "execution_count": 3,
   "metadata": {
    "collapsed": true
   },
   "outputs": [],
   "source": [
    "url = 'https://data.sfgov.org/resource/qer8-n8u9.csv?$select=date_trunc_y(opened)as%20year,%20count(*)&$order=year&$group=year'"
   ]
  },
  {
   "cell_type": "code",
   "execution_count": 4,
   "metadata": {
    "collapsed": false
   },
   "outputs": [
    {
     "data": {
      "text/html": [
       "<div>\n",
       "<table border=\"1\" class=\"dataframe\">\n",
       "  <thead>\n",
       "    <tr style=\"text-align: right;\">\n",
       "      <th></th>\n",
       "      <th>year</th>\n",
       "      <th>count</th>\n",
       "    </tr>\n",
       "  </thead>\n",
       "  <tbody>\n",
       "    <tr>\n",
       "      <th>1</th>\n",
       "      <td>01/01/2009 12:00:00 AM</td>\n",
       "      <td>32285</td>\n",
       "    </tr>\n",
       "    <tr>\n",
       "      <th>2</th>\n",
       "      <td>01/01/2010 12:00:00 AM</td>\n",
       "      <td>26769</td>\n",
       "    </tr>\n",
       "    <tr>\n",
       "      <th>3</th>\n",
       "      <td>01/01/2011 12:00:00 AM</td>\n",
       "      <td>25445</td>\n",
       "    </tr>\n",
       "    <tr>\n",
       "      <th>4</th>\n",
       "      <td>01/01/2012 12:00:00 AM</td>\n",
       "      <td>26254</td>\n",
       "    </tr>\n",
       "    <tr>\n",
       "      <th>5</th>\n",
       "      <td>01/01/2013 12:00:00 AM</td>\n",
       "      <td>35831</td>\n",
       "    </tr>\n",
       "    <tr>\n",
       "      <th>6</th>\n",
       "      <td>01/01/2014 12:00:00 AM</td>\n",
       "      <td>46808</td>\n",
       "    </tr>\n",
       "    <tr>\n",
       "      <th>7</th>\n",
       "      <td>01/01/2015 12:00:00 AM</td>\n",
       "      <td>57249</td>\n",
       "    </tr>\n",
       "    <tr>\n",
       "      <th>8</th>\n",
       "      <td>01/01/2016 12:00:00 AM</td>\n",
       "      <td>72392</td>\n",
       "    </tr>\n",
       "  </tbody>\n",
       "</table>\n",
       "</div>"
      ],
      "text/plain": [
       "                     year  count\n",
       "1  01/01/2009 12:00:00 AM  32285\n",
       "2  01/01/2010 12:00:00 AM  26769\n",
       "3  01/01/2011 12:00:00 AM  25445\n",
       "4  01/01/2012 12:00:00 AM  26254\n",
       "5  01/01/2013 12:00:00 AM  35831\n",
       "6  01/01/2014 12:00:00 AM  46808\n",
       "7  01/01/2015 12:00:00 AM  57249\n",
       "8  01/01/2016 12:00:00 AM  72392"
      ]
     },
     "execution_count": 4,
     "metadata": {},
     "output_type": "execute_result"
    }
   ],
   "source": [
    "df = pd.read_csv(url)\n",
    "df = df[1:-1]\n",
    "df"
   ]
  },
  {
   "cell_type": "code",
   "execution_count": 5,
   "metadata": {
    "collapsed": false
   },
   "outputs": [
    {
     "name": "stderr",
     "output_type": "stream",
     "text": [
      "/home/gdillon/.local/lib/python3.5/site-packages/ipykernel/__main__.py:1: FutureWarning: currently extract(expand=None) means expand=False (return Index/Series/DataFrame) but in a future version of pandas this will be changed to expand=True (return DataFrame)\n",
      "  if __name__ == '__main__':\n"
     ]
    },
    {
     "data": {
      "text/html": [
       "<div>\n",
       "<table border=\"1\" class=\"dataframe\">\n",
       "  <thead>\n",
       "    <tr style=\"text-align: right;\">\n",
       "      <th></th>\n",
       "      <th>year</th>\n",
       "      <th>count</th>\n",
       "    </tr>\n",
       "  </thead>\n",
       "  <tbody>\n",
       "    <tr>\n",
       "      <th>1</th>\n",
       "      <td>2009</td>\n",
       "      <td>32285</td>\n",
       "    </tr>\n",
       "    <tr>\n",
       "      <th>2</th>\n",
       "      <td>2010</td>\n",
       "      <td>26769</td>\n",
       "    </tr>\n",
       "    <tr>\n",
       "      <th>3</th>\n",
       "      <td>2011</td>\n",
       "      <td>25445</td>\n",
       "    </tr>\n",
       "    <tr>\n",
       "      <th>4</th>\n",
       "      <td>2012</td>\n",
       "      <td>26254</td>\n",
       "    </tr>\n",
       "    <tr>\n",
       "      <th>5</th>\n",
       "      <td>2013</td>\n",
       "      <td>35831</td>\n",
       "    </tr>\n",
       "    <tr>\n",
       "      <th>6</th>\n",
       "      <td>2014</td>\n",
       "      <td>46808</td>\n",
       "    </tr>\n",
       "    <tr>\n",
       "      <th>7</th>\n",
       "      <td>2015</td>\n",
       "      <td>57249</td>\n",
       "    </tr>\n",
       "    <tr>\n",
       "      <th>8</th>\n",
       "      <td>2016</td>\n",
       "      <td>72392</td>\n",
       "    </tr>\n",
       "  </tbody>\n",
       "</table>\n",
       "</div>"
      ],
      "text/plain": [
       "   year  count\n",
       "1  2009  32285\n",
       "2  2010  26769\n",
       "3  2011  25445\n",
       "4  2012  26254\n",
       "5  2013  35831\n",
       "6  2014  46808\n",
       "7  2015  57249\n",
       "8  2016  72392"
      ]
     },
     "execution_count": 5,
     "metadata": {},
     "output_type": "execute_result"
    }
   ],
   "source": [
    "df['year']=df['year'].str.extract('(?P<year>\\d{4})').astype(str)\n",
    "df['count']=df['count'].astype(int)\n",
    "df"
   ]
  },
  {
   "cell_type": "code",
   "execution_count": 6,
   "metadata": {
    "collapsed": false
   },
   "outputs": [
    {
     "data": {
      "text/html": [
       "\n",
       "    <div class=\"bk-root\">\n",
       "        <a href=\"http://bokeh.pydata.org\" target=\"_blank\" class=\"bk-logo bk-logo-small bk-logo-notebook\"></a>\n",
       "        <span id=\"dbf1c6ba-c1af-41f9-be69-a25d44ef89e2\">Loading BokehJS ...</span>\n",
       "    </div>"
      ]
     },
     "metadata": {},
     "output_type": "display_data"
    },
    {
     "data": {
      "application/javascript": [
       "\n",
       "(function(global) {\n",
       "  function now() {\n",
       "    return new Date();\n",
       "  }\n",
       "\n",
       "  var force = \"1\";\n",
       "\n",
       "  if (typeof (window._bokeh_onload_callbacks) === \"undefined\" || force !== \"\") {\n",
       "    window._bokeh_onload_callbacks = [];\n",
       "    window._bokeh_is_loading = undefined;\n",
       "  }\n",
       "\n",
       "\n",
       "  \n",
       "  if (typeof (window._bokeh_timeout) === \"undefined\" || force !== \"\") {\n",
       "    window._bokeh_timeout = Date.now() + 5000;\n",
       "    window._bokeh_failed_load = false;\n",
       "  }\n",
       "\n",
       "  var NB_LOAD_WARNING = {'data': {'text/html':\n",
       "     \"<div style='background-color: #fdd'>\\n\"+\n",
       "     \"<p>\\n\"+\n",
       "     \"BokehJS does not appear to have successfully loaded. If loading BokehJS from CDN, this \\n\"+\n",
       "     \"may be due to a slow or bad network connection. Possible fixes:\\n\"+\n",
       "     \"</p>\\n\"+\n",
       "     \"<ul>\\n\"+\n",
       "     \"<li>re-rerun `output_notebook()` to attempt to load from CDN again, or</li>\\n\"+\n",
       "     \"<li>use INLINE resources instead, as so:</li>\\n\"+\n",
       "     \"</ul>\\n\"+\n",
       "     \"<code>\\n\"+\n",
       "     \"from bokeh.resources import INLINE\\n\"+\n",
       "     \"output_notebook(resources=INLINE)\\n\"+\n",
       "     \"</code>\\n\"+\n",
       "     \"</div>\"}};\n",
       "\n",
       "  function display_loaded() {\n",
       "    if (window.Bokeh !== undefined) {\n",
       "      Bokeh.$(\"#dbf1c6ba-c1af-41f9-be69-a25d44ef89e2\").text(\"BokehJS successfully loaded.\");\n",
       "    } else if (Date.now() < window._bokeh_timeout) {\n",
       "      setTimeout(display_loaded, 100)\n",
       "    }\n",
       "  }\n",
       "\n",
       "  function run_callbacks() {\n",
       "    window._bokeh_onload_callbacks.forEach(function(callback) { callback() });\n",
       "    delete window._bokeh_onload_callbacks\n",
       "    console.info(\"Bokeh: all callbacks have finished\");\n",
       "  }\n",
       "\n",
       "  function load_libs(js_urls, callback) {\n",
       "    window._bokeh_onload_callbacks.push(callback);\n",
       "    if (window._bokeh_is_loading > 0) {\n",
       "      console.log(\"Bokeh: BokehJS is being loaded, scheduling callback at\", now());\n",
       "      return null;\n",
       "    }\n",
       "    if (js_urls == null || js_urls.length === 0) {\n",
       "      run_callbacks();\n",
       "      return null;\n",
       "    }\n",
       "    console.log(\"Bokeh: BokehJS not loaded, scheduling load and callback at\", now());\n",
       "    window._bokeh_is_loading = js_urls.length;\n",
       "    for (var i = 0; i < js_urls.length; i++) {\n",
       "      var url = js_urls[i];\n",
       "      var s = document.createElement('script');\n",
       "      s.src = url;\n",
       "      s.async = false;\n",
       "      s.onreadystatechange = s.onload = function() {\n",
       "        window._bokeh_is_loading--;\n",
       "        if (window._bokeh_is_loading === 0) {\n",
       "          console.log(\"Bokeh: all BokehJS libraries loaded\");\n",
       "          run_callbacks()\n",
       "        }\n",
       "      };\n",
       "      s.onerror = function() {\n",
       "        console.warn(\"failed to load library \" + url);\n",
       "      };\n",
       "      console.log(\"Bokeh: injecting script tag for BokehJS library: \", url);\n",
       "      document.getElementsByTagName(\"head\")[0].appendChild(s);\n",
       "    }\n",
       "  };var element = document.getElementById(\"dbf1c6ba-c1af-41f9-be69-a25d44ef89e2\");\n",
       "  if (element == null) {\n",
       "    console.log(\"Bokeh: ERROR: autoload.js configured with elementid 'dbf1c6ba-c1af-41f9-be69-a25d44ef89e2' but no matching script tag was found. \")\n",
       "    return false;\n",
       "  }\n",
       "\n",
       "  var js_urls = ['https://cdn.pydata.org/bokeh/release/bokeh-0.12.3.min.js', 'https://cdn.pydata.org/bokeh/release/bokeh-widgets-0.12.3.min.js'];\n",
       "\n",
       "  var inline_js = [\n",
       "    function(Bokeh) {\n",
       "      Bokeh.set_log_level(\"info\");\n",
       "    },\n",
       "    \n",
       "    function(Bokeh) {\n",
       "      \n",
       "      Bokeh.$(\"#dbf1c6ba-c1af-41f9-be69-a25d44ef89e2\").text(\"BokehJS is loading...\");\n",
       "    },\n",
       "    function(Bokeh) {\n",
       "      console.log(\"Bokeh: injecting CSS: https://cdn.pydata.org/bokeh/release/bokeh-0.12.3.min.css\");\n",
       "      Bokeh.embed.inject_css(\"https://cdn.pydata.org/bokeh/release/bokeh-0.12.3.min.css\");\n",
       "      console.log(\"Bokeh: injecting CSS: https://cdn.pydata.org/bokeh/release/bokeh-widgets-0.12.3.min.css\");\n",
       "      Bokeh.embed.inject_css(\"https://cdn.pydata.org/bokeh/release/bokeh-widgets-0.12.3.min.css\");\n",
       "    }\n",
       "  ];\n",
       "\n",
       "  function run_inline_js() {\n",
       "    \n",
       "    if ((window.Bokeh !== undefined) || (force === \"1\")) {\n",
       "      for (var i = 0; i < inline_js.length; i++) {\n",
       "        inline_js[i](window.Bokeh);\n",
       "      }if (force === \"1\") {\n",
       "        display_loaded();\n",
       "      }} else if (Date.now() < window._bokeh_timeout) {\n",
       "      setTimeout(run_inline_js, 100);\n",
       "    } else if (!window._bokeh_failed_load) {\n",
       "      console.log(\"Bokeh: BokehJS failed to load within specified timeout.\");\n",
       "      window._bokeh_failed_load = true;\n",
       "    } else if (!force) {\n",
       "      var cell = $(\"#dbf1c6ba-c1af-41f9-be69-a25d44ef89e2\").parents('.cell').data().cell;\n",
       "      cell.output_area.append_execute_result(NB_LOAD_WARNING)\n",
       "    }\n",
       "\n",
       "  }\n",
       "\n",
       "  if (window._bokeh_is_loading === 0) {\n",
       "    console.log(\"Bokeh: BokehJS loaded, going straight to plotting\");\n",
       "    run_inline_js();\n",
       "  } else {\n",
       "    load_libs(js_urls, function() {\n",
       "      console.log(\"Bokeh: BokehJS plotting callback run at\", now());\n",
       "      run_inline_js();\n",
       "    });\n",
       "  }\n",
       "}(this));"
      ]
     },
     "metadata": {},
     "output_type": "display_data"
    }
   ],
   "source": [
    "from bokeh.charts import Bar, output_file, output_notebook, show\n",
    "from bokeh.layouts import row\n",
    "output_notebook()"
   ]
  },
  {
   "cell_type": "code",
   "execution_count": 7,
   "metadata": {
    "collapsed": false
   },
   "outputs": [
    {
     "data": {
      "text/html": [
       "\n",
       "    <div class=\"bk-root\">\n",
       "        <a href=\"http://bokeh.pydata.org\" target=\"_blank\" class=\"bk-logo bk-logo-small bk-logo-notebook\"></a>\n",
       "        <span id=\"967caab2-7f30-436b-bf31-4247c6f86849\">Loading BokehJS ...</span>\n",
       "    </div>"
      ]
     },
     "metadata": {},
     "output_type": "display_data"
    },
    {
     "data": {
      "application/javascript": [
       "\n",
       "(function(global) {\n",
       "  function now() {\n",
       "    return new Date();\n",
       "  }\n",
       "\n",
       "  var force = \"1\";\n",
       "\n",
       "  if (typeof (window._bokeh_onload_callbacks) === \"undefined\" || force !== \"\") {\n",
       "    window._bokeh_onload_callbacks = [];\n",
       "    window._bokeh_is_loading = undefined;\n",
       "  }\n",
       "\n",
       "\n",
       "  \n",
       "  if (typeof (window._bokeh_timeout) === \"undefined\" || force !== \"\") {\n",
       "    window._bokeh_timeout = Date.now() + 5000;\n",
       "    window._bokeh_failed_load = false;\n",
       "  }\n",
       "\n",
       "  var NB_LOAD_WARNING = {'data': {'text/html':\n",
       "     \"<div style='background-color: #fdd'>\\n\"+\n",
       "     \"<p>\\n\"+\n",
       "     \"BokehJS does not appear to have successfully loaded. If loading BokehJS from CDN, this \\n\"+\n",
       "     \"may be due to a slow or bad network connection. Possible fixes:\\n\"+\n",
       "     \"</p>\\n\"+\n",
       "     \"<ul>\\n\"+\n",
       "     \"<li>re-rerun `output_notebook()` to attempt to load from CDN again, or</li>\\n\"+\n",
       "     \"<li>use INLINE resources instead, as so:</li>\\n\"+\n",
       "     \"</ul>\\n\"+\n",
       "     \"<code>\\n\"+\n",
       "     \"from bokeh.resources import INLINE\\n\"+\n",
       "     \"output_notebook(resources=INLINE)\\n\"+\n",
       "     \"</code>\\n\"+\n",
       "     \"</div>\"}};\n",
       "\n",
       "  function display_loaded() {\n",
       "    if (window.Bokeh !== undefined) {\n",
       "      Bokeh.$(\"#967caab2-7f30-436b-bf31-4247c6f86849\").text(\"BokehJS successfully loaded.\");\n",
       "    } else if (Date.now() < window._bokeh_timeout) {\n",
       "      setTimeout(display_loaded, 100)\n",
       "    }\n",
       "  }\n",
       "\n",
       "  function run_callbacks() {\n",
       "    window._bokeh_onload_callbacks.forEach(function(callback) { callback() });\n",
       "    delete window._bokeh_onload_callbacks\n",
       "    console.info(\"Bokeh: all callbacks have finished\");\n",
       "  }\n",
       "\n",
       "  function load_libs(js_urls, callback) {\n",
       "    window._bokeh_onload_callbacks.push(callback);\n",
       "    if (window._bokeh_is_loading > 0) {\n",
       "      console.log(\"Bokeh: BokehJS is being loaded, scheduling callback at\", now());\n",
       "      return null;\n",
       "    }\n",
       "    if (js_urls == null || js_urls.length === 0) {\n",
       "      run_callbacks();\n",
       "      return null;\n",
       "    }\n",
       "    console.log(\"Bokeh: BokehJS not loaded, scheduling load and callback at\", now());\n",
       "    window._bokeh_is_loading = js_urls.length;\n",
       "    for (var i = 0; i < js_urls.length; i++) {\n",
       "      var url = js_urls[i];\n",
       "      var s = document.createElement('script');\n",
       "      s.src = url;\n",
       "      s.async = false;\n",
       "      s.onreadystatechange = s.onload = function() {\n",
       "        window._bokeh_is_loading--;\n",
       "        if (window._bokeh_is_loading === 0) {\n",
       "          console.log(\"Bokeh: all BokehJS libraries loaded\");\n",
       "          run_callbacks()\n",
       "        }\n",
       "      };\n",
       "      s.onerror = function() {\n",
       "        console.warn(\"failed to load library \" + url);\n",
       "      };\n",
       "      console.log(\"Bokeh: injecting script tag for BokehJS library: \", url);\n",
       "      document.getElementsByTagName(\"head\")[0].appendChild(s);\n",
       "    }\n",
       "  };var element = document.getElementById(\"967caab2-7f30-436b-bf31-4247c6f86849\");\n",
       "  if (element == null) {\n",
       "    console.log(\"Bokeh: ERROR: autoload.js configured with elementid '967caab2-7f30-436b-bf31-4247c6f86849' but no matching script tag was found. \")\n",
       "    return false;\n",
       "  }\n",
       "\n",
       "  var js_urls = ['https://cdn.pydata.org/bokeh/release/bokeh-0.12.3.min.js', 'https://cdn.pydata.org/bokeh/release/bokeh-widgets-0.12.3.min.js'];\n",
       "\n",
       "  var inline_js = [\n",
       "    function(Bokeh) {\n",
       "      Bokeh.set_log_level(\"info\");\n",
       "    },\n",
       "    \n",
       "    function(Bokeh) {\n",
       "      \n",
       "      Bokeh.$(\"#967caab2-7f30-436b-bf31-4247c6f86849\").text(\"BokehJS is loading...\");\n",
       "    },\n",
       "    function(Bokeh) {\n",
       "      console.log(\"Bokeh: injecting CSS: https://cdn.pydata.org/bokeh/release/bokeh-0.12.3.min.css\");\n",
       "      Bokeh.embed.inject_css(\"https://cdn.pydata.org/bokeh/release/bokeh-0.12.3.min.css\");\n",
       "      console.log(\"Bokeh: injecting CSS: https://cdn.pydata.org/bokeh/release/bokeh-widgets-0.12.3.min.css\");\n",
       "      Bokeh.embed.inject_css(\"https://cdn.pydata.org/bokeh/release/bokeh-widgets-0.12.3.min.css\");\n",
       "    }\n",
       "  ];\n",
       "\n",
       "  function run_inline_js() {\n",
       "    \n",
       "    if ((window.Bokeh !== undefined) || (force === \"1\")) {\n",
       "      for (var i = 0; i < inline_js.length; i++) {\n",
       "        inline_js[i](window.Bokeh);\n",
       "      }if (force === \"1\") {\n",
       "        display_loaded();\n",
       "      }} else if (Date.now() < window._bokeh_timeout) {\n",
       "      setTimeout(run_inline_js, 100);\n",
       "    } else if (!window._bokeh_failed_load) {\n",
       "      console.log(\"Bokeh: BokehJS failed to load within specified timeout.\");\n",
       "      window._bokeh_failed_load = true;\n",
       "    } else if (!force) {\n",
       "      var cell = $(\"#967caab2-7f30-436b-bf31-4247c6f86849\").parents('.cell').data().cell;\n",
       "      cell.output_area.append_execute_result(NB_LOAD_WARNING)\n",
       "    }\n",
       "\n",
       "  }\n",
       "\n",
       "  if (window._bokeh_is_loading === 0) {\n",
       "    console.log(\"Bokeh: BokehJS loaded, going straight to plotting\");\n",
       "    run_inline_js();\n",
       "  } else {\n",
       "    load_libs(js_urls, function() {\n",
       "      console.log(\"Bokeh: BokehJS plotting callback run at\", now());\n",
       "      run_inline_js();\n",
       "    });\n",
       "  }\n",
       "}(this));"
      ]
     },
     "metadata": {},
     "output_type": "display_data"
    },
    {
     "data": {
      "text/html": [
       "\n",
       "\n",
       "    <div class=\"bk-root\">\n",
       "        <div class=\"plotdiv\" id=\"eb67371a-bd8b-49a2-bdc9-02032e177647\"></div>\n",
       "    </div>\n",
       "<script type=\"text/javascript\">\n",
       "  \n",
       "  (function(global) {\n",
       "    function now() {\n",
       "      return new Date();\n",
       "    }\n",
       "  \n",
       "    var force = \"\";\n",
       "  \n",
       "    if (typeof (window._bokeh_onload_callbacks) === \"undefined\" || force !== \"\") {\n",
       "      window._bokeh_onload_callbacks = [];\n",
       "      window._bokeh_is_loading = undefined;\n",
       "    }\n",
       "  \n",
       "  \n",
       "    \n",
       "    if (typeof (window._bokeh_timeout) === \"undefined\" || force !== \"\") {\n",
       "      window._bokeh_timeout = Date.now() + 0;\n",
       "      window._bokeh_failed_load = false;\n",
       "    }\n",
       "  \n",
       "    var NB_LOAD_WARNING = {'data': {'text/html':\n",
       "       \"<div style='background-color: #fdd'>\\n\"+\n",
       "       \"<p>\\n\"+\n",
       "       \"BokehJS does not appear to have successfully loaded. If loading BokehJS from CDN, this \\n\"+\n",
       "       \"may be due to a slow or bad network connection. Possible fixes:\\n\"+\n",
       "       \"</p>\\n\"+\n",
       "       \"<ul>\\n\"+\n",
       "       \"<li>re-rerun `output_notebook()` to attempt to load from CDN again, or</li>\\n\"+\n",
       "       \"<li>use INLINE resources instead, as so:</li>\\n\"+\n",
       "       \"</ul>\\n\"+\n",
       "       \"<code>\\n\"+\n",
       "       \"from bokeh.resources import INLINE\\n\"+\n",
       "       \"output_notebook(resources=INLINE)\\n\"+\n",
       "       \"</code>\\n\"+\n",
       "       \"</div>\"}};\n",
       "  \n",
       "    function display_loaded() {\n",
       "      if (window.Bokeh !== undefined) {\n",
       "        Bokeh.$(\"#eb67371a-bd8b-49a2-bdc9-02032e177647\").text(\"BokehJS successfully loaded.\");\n",
       "      } else if (Date.now() < window._bokeh_timeout) {\n",
       "        setTimeout(display_loaded, 100)\n",
       "      }\n",
       "    }\n",
       "  \n",
       "    function run_callbacks() {\n",
       "      window._bokeh_onload_callbacks.forEach(function(callback) { callback() });\n",
       "      delete window._bokeh_onload_callbacks\n",
       "      console.info(\"Bokeh: all callbacks have finished\");\n",
       "    }\n",
       "  \n",
       "    function load_libs(js_urls, callback) {\n",
       "      window._bokeh_onload_callbacks.push(callback);\n",
       "      if (window._bokeh_is_loading > 0) {\n",
       "        console.log(\"Bokeh: BokehJS is being loaded, scheduling callback at\", now());\n",
       "        return null;\n",
       "      }\n",
       "      if (js_urls == null || js_urls.length === 0) {\n",
       "        run_callbacks();\n",
       "        return null;\n",
       "      }\n",
       "      console.log(\"Bokeh: BokehJS not loaded, scheduling load and callback at\", now());\n",
       "      window._bokeh_is_loading = js_urls.length;\n",
       "      for (var i = 0; i < js_urls.length; i++) {\n",
       "        var url = js_urls[i];\n",
       "        var s = document.createElement('script');\n",
       "        s.src = url;\n",
       "        s.async = false;\n",
       "        s.onreadystatechange = s.onload = function() {\n",
       "          window._bokeh_is_loading--;\n",
       "          if (window._bokeh_is_loading === 0) {\n",
       "            console.log(\"Bokeh: all BokehJS libraries loaded\");\n",
       "            run_callbacks()\n",
       "          }\n",
       "        };\n",
       "        s.onerror = function() {\n",
       "          console.warn(\"failed to load library \" + url);\n",
       "        };\n",
       "        console.log(\"Bokeh: injecting script tag for BokehJS library: \", url);\n",
       "        document.getElementsByTagName(\"head\")[0].appendChild(s);\n",
       "      }\n",
       "    };var element = document.getElementById(\"eb67371a-bd8b-49a2-bdc9-02032e177647\");\n",
       "    if (element == null) {\n",
       "      console.log(\"Bokeh: ERROR: autoload.js configured with elementid 'eb67371a-bd8b-49a2-bdc9-02032e177647' but no matching script tag was found. \")\n",
       "      return false;\n",
       "    }\n",
       "  \n",
       "    var js_urls = [];\n",
       "  \n",
       "    var inline_js = [\n",
       "      function(Bokeh) {\n",
       "        Bokeh.$(function() {\n",
       "            var docs_json = {\"7e5b18bb-6a73-4446-8014-b80af2f1f125\":{\"roots\":{\"references\":[{\"attributes\":{\"data_source\":{\"id\":\"890bae4c-784d-4c4a-8aef-51feb36f691d\",\"type\":\"ColumnDataSource\"},\"glyph\":{\"id\":\"2f7e50b0-1d1c-403e-933e-73f78603efb2\",\"type\":\"Rect\"},\"hover_glyph\":null,\"nonselection_glyph\":null,\"selection_glyph\":null},\"id\":\"eafe7187-4764-42a5-bc5c-731fd6ad6f4c\",\"type\":\"GlyphRenderer\"},{\"attributes\":{\"callback\":null,\"end\":76011.6},\"id\":\"ecf37f51-12cc-4cb2-9b9a-2e6d58ee20a5\",\"type\":\"Range1d\"},{\"attributes\":{},\"id\":\"05b5bb86-c715-47ff-8842-116140e864fd\",\"type\":\"BasicTicker\"},{\"attributes\":{\"fill_alpha\":{\"field\":\"fill_alpha\"},\"fill_color\":{\"field\":\"color\"},\"height\":{\"field\":\"height\",\"units\":\"data\"},\"line_color\":{\"field\":\"line_color\"},\"width\":{\"field\":\"width\",\"units\":\"data\"},\"x\":{\"field\":\"x\"},\"y\":{\"field\":\"y\"}},\"id\":\"415429a7-4335-4bfa-9e66-ffcb52a8f644\",\"type\":\"Rect\"},{\"attributes\":{\"label\":{\"value\":\"2016\"},\"renderers\":[{\"id\":\"559e1cc0-07cb-4e36-b9ea-7e2ec3dee181\",\"type\":\"GlyphRenderer\"}]},\"id\":\"fa6a6888-492c-44ad-8776-02d74d471428\",\"type\":\"LegendItem\"},{\"attributes\":{\"plot\":{\"id\":\"210ada45-02d4-4b83-9ac1-dd5fbc0a053f\",\"subtype\":\"Chart\",\"type\":\"Plot\"}},\"id\":\"3be7890e-650b-4255-a65b-b7212ec28737\",\"type\":\"ResetTool\"},{\"attributes\":{\"fill_alpha\":{\"field\":\"fill_alpha\"},\"fill_color\":{\"field\":\"color\"},\"height\":{\"field\":\"height\",\"units\":\"data\"},\"line_color\":{\"field\":\"line_color\"},\"width\":{\"field\":\"width\",\"units\":\"data\"},\"x\":{\"field\":\"x\"},\"y\":{\"field\":\"y\"}},\"id\":\"2f7e50b0-1d1c-403e-933e-73f78603efb2\",\"type\":\"Rect\"},{\"attributes\":{\"plot\":{\"id\":\"210ada45-02d4-4b83-9ac1-dd5fbc0a053f\",\"subtype\":\"Chart\",\"type\":\"Plot\"}},\"id\":\"5dce4016-daca-4ce0-9c59-98474a6f88c9\",\"type\":\"PanTool\"},{\"attributes\":{},\"id\":\"67ea46e3-0a69-4f32-8156-976d69ece72b\",\"type\":\"ToolEvents\"},{\"attributes\":{\"fill_alpha\":{\"field\":\"fill_alpha\"},\"fill_color\":{\"field\":\"color\"},\"height\":{\"field\":\"height\",\"units\":\"data\"},\"line_color\":{\"field\":\"line_color\"},\"width\":{\"field\":\"width\",\"units\":\"data\"},\"x\":{\"field\":\"x\"},\"y\":{\"field\":\"y\"}},\"id\":\"9bb3e184-ebdb-41f3-a825-d5da761478c7\",\"type\":\"Rect\"},{\"attributes\":{\"callback\":null,\"column_names\":[\"x\",\"height\",\"width\",\"fill_alpha\",\"line_alpha\",\"line_color\",\"label\",\"y\",\"color\"],\"data\":{\"chart_index\":[{\"year\":\"2011\"}],\"color\":[\"#f22c40\"],\"fill_alpha\":[0.8],\"height\":[25445.0],\"label\":[{\"year\":\"2011\"}],\"line_alpha\":[1.0],\"line_color\":[\"white\"],\"width\":[0.8],\"x\":[\"2011\"],\"y\":[12722.5],\"year\":[\"2011\"]}},\"id\":\"b0055fe7-e726-473c-bce4-01b766dce0c8\",\"type\":\"ColumnDataSource\"},{\"attributes\":{\"fill_alpha\":{\"field\":\"fill_alpha\"},\"fill_color\":{\"field\":\"color\"},\"height\":{\"field\":\"height\",\"units\":\"data\"},\"line_color\":{\"field\":\"line_color\"},\"width\":{\"field\":\"width\",\"units\":\"data\"},\"x\":{\"field\":\"x\"},\"y\":{\"field\":\"y\"}},\"id\":\"6738eb0f-8fdd-43fd-9378-65a9bf1f71a0\",\"type\":\"Rect\"},{\"attributes\":{\"plot\":{\"id\":\"210ada45-02d4-4b83-9ac1-dd5fbc0a053f\",\"subtype\":\"Chart\",\"type\":\"Plot\"}},\"id\":\"46217015-b703-46ee-ae44-23ae924d9f61\",\"type\":\"HelpTool\"},{\"attributes\":{\"callback\":null,\"column_names\":[\"x\",\"height\",\"width\",\"fill_alpha\",\"line_alpha\",\"line_color\",\"label\",\"y\",\"color\"],\"data\":{\"chart_index\":[{\"year\":\"2009\"}],\"color\":[\"#f22c40\"],\"fill_alpha\":[0.8],\"height\":[32285.0],\"label\":[{\"year\":\"2009\"}],\"line_alpha\":[1.0],\"line_color\":[\"white\"],\"width\":[0.8],\"x\":[\"2009\"],\"y\":[16142.5],\"year\":[\"2009\"]}},\"id\":\"0c8a4072-6ecd-4ecf-9c32-f27244f3e115\",\"type\":\"ColumnDataSource\"},{\"attributes\":{},\"id\":\"912c03c3-3137-4c66-a83d-e7f87c577547\",\"type\":\"CategoricalTickFormatter\"},{\"attributes\":{\"plot\":null,\"text\":\"Graffiti reported to SF311 by year\"},\"id\":\"b4de9ab7-eeeb-464a-8f05-e58bcf6e3522\",\"type\":\"Title\"},{\"attributes\":{\"callback\":null,\"column_names\":[\"x\",\"height\",\"width\",\"fill_alpha\",\"line_alpha\",\"line_color\",\"label\",\"y\",\"color\"],\"data\":{\"chart_index\":[{\"year\":\"2010\"}],\"color\":[\"#f22c40\"],\"fill_alpha\":[0.8],\"height\":[26769.0],\"label\":[{\"year\":\"2010\"}],\"line_alpha\":[1.0],\"line_color\":[\"white\"],\"width\":[0.8],\"x\":[\"2010\"],\"y\":[13384.5],\"year\":[\"2010\"]}},\"id\":\"bc53c345-de35-42d4-98ed-cc1e5346c379\",\"type\":\"ColumnDataSource\"},{\"attributes\":{\"callback\":null,\"factors\":[\"2009\",\"2010\",\"2011\",\"2012\",\"2013\",\"2014\",\"2015\",\"2016\"]},\"id\":\"6d89c957-81ff-486f-b686-1c4b946f332a\",\"type\":\"FactorRange\"},{\"attributes\":{\"fill_alpha\":{\"field\":\"fill_alpha\"},\"fill_color\":{\"field\":\"color\"},\"height\":{\"field\":\"height\",\"units\":\"data\"},\"line_color\":{\"field\":\"line_color\"},\"width\":{\"field\":\"width\",\"units\":\"data\"},\"x\":{\"field\":\"x\"},\"y\":{\"field\":\"y\"}},\"id\":\"9ca6b1d6-cf88-4c53-8bc2-6fe851d52b4b\",\"type\":\"Rect\"},{\"attributes\":{\"callback\":null,\"column_names\":[\"x\",\"height\",\"width\",\"fill_alpha\",\"line_alpha\",\"line_color\",\"label\",\"y\",\"color\"],\"data\":{\"chart_index\":[{\"year\":\"2015\"}],\"color\":[\"#f22c40\"],\"fill_alpha\":[0.8],\"height\":[57249.0],\"label\":[{\"year\":\"2015\"}],\"line_alpha\":[1.0],\"line_color\":[\"white\"],\"width\":[0.8],\"x\":[\"2015\"],\"y\":[28624.5],\"year\":[\"2015\"]}},\"id\":\"193ca947-1ddd-4ca2-9f32-162f68c44e10\",\"type\":\"ColumnDataSource\"},{\"attributes\":{\"label\":{\"value\":\"2011\"},\"renderers\":[{\"id\":\"8f706aaf-8336-4bd4-bfcf-99ddd5a6c9c0\",\"type\":\"GlyphRenderer\"}]},\"id\":\"18706cf2-2a05-4934-8c8f-1f58f37fab7a\",\"type\":\"LegendItem\"},{\"attributes\":{\"label\":{\"value\":\"2010\"},\"renderers\":[{\"id\":\"32f4e927-700c-4c45-a17f-94fb7d74b13e\",\"type\":\"GlyphRenderer\"}]},\"id\":\"b3f0b8dd-fada-4f8e-b37b-1f6b4bd570cd\",\"type\":\"LegendItem\"},{\"attributes\":{\"dimension\":1,\"plot\":{\"id\":\"210ada45-02d4-4b83-9ac1-dd5fbc0a053f\",\"subtype\":\"Chart\",\"type\":\"Plot\"},\"ticker\":{\"id\":\"05b5bb86-c715-47ff-8842-116140e864fd\",\"type\":\"BasicTicker\"}},\"id\":\"99770447-ae53-47b6-9832-9b366cca950d\",\"type\":\"Grid\"},{\"attributes\":{\"data_source\":{\"id\":\"b0055fe7-e726-473c-bce4-01b766dce0c8\",\"type\":\"ColumnDataSource\"},\"glyph\":{\"id\":\"9bb3e184-ebdb-41f3-a825-d5da761478c7\",\"type\":\"Rect\"},\"hover_glyph\":null,\"nonselection_glyph\":null,\"selection_glyph\":null},\"id\":\"8f706aaf-8336-4bd4-bfcf-99ddd5a6c9c0\",\"type\":\"GlyphRenderer\"},{\"attributes\":{},\"id\":\"a624f3be-521f-48a3-9550-5f63dcc81d0c\",\"type\":\"CategoricalTicker\"},{\"attributes\":{\"overlay\":{\"id\":\"260478f1-9e9c-4b49-836b-0bf7d2d26cc1\",\"type\":\"BoxAnnotation\"},\"plot\":{\"id\":\"210ada45-02d4-4b83-9ac1-dd5fbc0a053f\",\"subtype\":\"Chart\",\"type\":\"Plot\"}},\"id\":\"03f01986-ffe3-4c3d-81db-f3850e7a82ac\",\"type\":\"BoxZoomTool\"},{\"attributes\":{\"below\":[{\"id\":\"a5bb0d59-6e70-47cc-88c7-c10b29ffe911\",\"type\":\"CategoricalAxis\"}],\"left\":[{\"id\":\"50df646e-2c80-4dc6-bf5a-fe81639d522c\",\"type\":\"LinearAxis\"}],\"renderers\":[{\"id\":\"260478f1-9e9c-4b49-836b-0bf7d2d26cc1\",\"type\":\"BoxAnnotation\"},{\"id\":\"79c8dec0-2267-497b-9628-d45c870e7115\",\"type\":\"GlyphRenderer\"},{\"id\":\"32f4e927-700c-4c45-a17f-94fb7d74b13e\",\"type\":\"GlyphRenderer\"},{\"id\":\"8f706aaf-8336-4bd4-bfcf-99ddd5a6c9c0\",\"type\":\"GlyphRenderer\"},{\"id\":\"eafe7187-4764-42a5-bc5c-731fd6ad6f4c\",\"type\":\"GlyphRenderer\"},{\"id\":\"9c17363a-80b6-4929-a4b5-c90fd07448e3\",\"type\":\"GlyphRenderer\"},{\"id\":\"22320bbd-8886-49ba-8a75-4be9c5c8f771\",\"type\":\"GlyphRenderer\"},{\"id\":\"8d25a3f7-da2a-4403-b4be-f5fec26b8747\",\"type\":\"GlyphRenderer\"},{\"id\":\"559e1cc0-07cb-4e36-b9ea-7e2ec3dee181\",\"type\":\"GlyphRenderer\"},{\"id\":\"068d8616-01ec-4234-b791-412295fea6c4\",\"type\":\"Legend\"},{\"id\":\"a5bb0d59-6e70-47cc-88c7-c10b29ffe911\",\"type\":\"CategoricalAxis\"},{\"id\":\"50df646e-2c80-4dc6-bf5a-fe81639d522c\",\"type\":\"LinearAxis\"},{\"id\":\"99770447-ae53-47b6-9832-9b366cca950d\",\"type\":\"Grid\"}],\"title\":{\"id\":\"b4de9ab7-eeeb-464a-8f05-e58bcf6e3522\",\"type\":\"Title\"},\"tool_events\":{\"id\":\"67ea46e3-0a69-4f32-8156-976d69ece72b\",\"type\":\"ToolEvents\"},\"toolbar\":{\"id\":\"7f2358fc-fe1a-4c1f-8342-031893f97b46\",\"type\":\"Toolbar\"},\"x_mapper_type\":\"auto\",\"x_range\":{\"id\":\"6d89c957-81ff-486f-b686-1c4b946f332a\",\"type\":\"FactorRange\"},\"y_mapper_type\":\"auto\",\"y_range\":{\"id\":\"ecf37f51-12cc-4cb2-9b9a-2e6d58ee20a5\",\"type\":\"Range1d\"}},\"id\":\"210ada45-02d4-4b83-9ac1-dd5fbc0a053f\",\"subtype\":\"Chart\",\"type\":\"Plot\"},{\"attributes\":{\"label\":{\"value\":\"2009\"},\"renderers\":[{\"id\":\"79c8dec0-2267-497b-9628-d45c870e7115\",\"type\":\"GlyphRenderer\"}]},\"id\":\"59c42fb6-745d-4f06-85f9-a789fa970c03\",\"type\":\"LegendItem\"},{\"attributes\":{\"data_source\":{\"id\":\"0c8a4072-6ecd-4ecf-9c32-f27244f3e115\",\"type\":\"ColumnDataSource\"},\"glyph\":{\"id\":\"6738eb0f-8fdd-43fd-9378-65a9bf1f71a0\",\"type\":\"Rect\"},\"hover_glyph\":null,\"nonselection_glyph\":null,\"selection_glyph\":null},\"id\":\"79c8dec0-2267-497b-9628-d45c870e7115\",\"type\":\"GlyphRenderer\"},{\"attributes\":{\"data_source\":{\"id\":\"193ca947-1ddd-4ca2-9f32-162f68c44e10\",\"type\":\"ColumnDataSource\"},\"glyph\":{\"id\":\"e6d05ac4-e1d8-4c15-b6e6-b4b27c04e6a1\",\"type\":\"Rect\"},\"hover_glyph\":null,\"nonselection_glyph\":null,\"selection_glyph\":null},\"id\":\"8d25a3f7-da2a-4403-b4be-f5fec26b8747\",\"type\":\"GlyphRenderer\"},{\"attributes\":{\"label\":{\"value\":\"2013\"},\"renderers\":[{\"id\":\"9c17363a-80b6-4929-a4b5-c90fd07448e3\",\"type\":\"GlyphRenderer\"}]},\"id\":\"5c1f0656-739b-4eb1-84ce-e6153cf47b10\",\"type\":\"LegendItem\"},{\"attributes\":{\"data_source\":{\"id\":\"b25f8d9b-e1f0-4184-abe2-1dbced1bd34b\",\"type\":\"ColumnDataSource\"},\"glyph\":{\"id\":\"415429a7-4335-4bfa-9e66-ffcb52a8f644\",\"type\":\"Rect\"},\"hover_glyph\":null,\"nonselection_glyph\":null,\"selection_glyph\":null},\"id\":\"559e1cc0-07cb-4e36-b9ea-7e2ec3dee181\",\"type\":\"GlyphRenderer\"},{\"attributes\":{\"label\":{\"value\":\"2015\"},\"renderers\":[{\"id\":\"8d25a3f7-da2a-4403-b4be-f5fec26b8747\",\"type\":\"GlyphRenderer\"}]},\"id\":\"023cd4f5-7b76-4089-8f9e-d4a24924e7fd\",\"type\":\"LegendItem\"},{\"attributes\":{\"label\":{\"value\":\"2014\"},\"renderers\":[{\"id\":\"22320bbd-8886-49ba-8a75-4be9c5c8f771\",\"type\":\"GlyphRenderer\"}]},\"id\":\"aa702e93-9a80-403a-a26c-5bdcda5fe3e6\",\"type\":\"LegendItem\"},{\"attributes\":{\"items\":[{\"id\":\"59c42fb6-745d-4f06-85f9-a789fa970c03\",\"type\":\"LegendItem\"},{\"id\":\"b3f0b8dd-fada-4f8e-b37b-1f6b4bd570cd\",\"type\":\"LegendItem\"},{\"id\":\"18706cf2-2a05-4934-8c8f-1f58f37fab7a\",\"type\":\"LegendItem\"},{\"id\":\"3572e1bd-f151-4b7a-9c85-a7d36b0b300c\",\"type\":\"LegendItem\"},{\"id\":\"5c1f0656-739b-4eb1-84ce-e6153cf47b10\",\"type\":\"LegendItem\"},{\"id\":\"aa702e93-9a80-403a-a26c-5bdcda5fe3e6\",\"type\":\"LegendItem\"},{\"id\":\"023cd4f5-7b76-4089-8f9e-d4a24924e7fd\",\"type\":\"LegendItem\"},{\"id\":\"fa6a6888-492c-44ad-8776-02d74d471428\",\"type\":\"LegendItem\"}],\"location\":\"top_left\",\"plot\":{\"id\":\"210ada45-02d4-4b83-9ac1-dd5fbc0a053f\",\"subtype\":\"Chart\",\"type\":\"Plot\"}},\"id\":\"068d8616-01ec-4234-b791-412295fea6c4\",\"type\":\"Legend\"},{\"attributes\":{\"children\":[{\"id\":\"210ada45-02d4-4b83-9ac1-dd5fbc0a053f\",\"subtype\":\"Chart\",\"type\":\"Plot\"}]},\"id\":\"21068f46-ff48-43ae-9e0e-256850b002d3\",\"type\":\"Row\"},{\"attributes\":{\"label\":{\"value\":\"2012\"},\"renderers\":[{\"id\":\"eafe7187-4764-42a5-bc5c-731fd6ad6f4c\",\"type\":\"GlyphRenderer\"}]},\"id\":\"3572e1bd-f151-4b7a-9c85-a7d36b0b300c\",\"type\":\"LegendItem\"},{\"attributes\":{\"axis_label\":\"Sum( Count )\",\"formatter\":{\"id\":\"4788e5e5-342e-44c1-b9b3-3d679df313ef\",\"type\":\"BasicTickFormatter\"},\"plot\":{\"id\":\"210ada45-02d4-4b83-9ac1-dd5fbc0a053f\",\"subtype\":\"Chart\",\"type\":\"Plot\"},\"ticker\":{\"id\":\"05b5bb86-c715-47ff-8842-116140e864fd\",\"type\":\"BasicTicker\"}},\"id\":\"50df646e-2c80-4dc6-bf5a-fe81639d522c\",\"type\":\"LinearAxis\"},{\"attributes\":{\"callback\":null,\"column_names\":[\"x\",\"height\",\"width\",\"fill_alpha\",\"line_alpha\",\"line_color\",\"label\",\"y\",\"color\"],\"data\":{\"chart_index\":[{\"year\":\"2016\"}],\"color\":[\"#f22c40\"],\"fill_alpha\":[0.8],\"height\":[72392.0],\"label\":[{\"year\":\"2016\"}],\"line_alpha\":[1.0],\"line_color\":[\"white\"],\"width\":[0.8],\"x\":[\"2016\"],\"y\":[36196.0],\"year\":[\"2016\"]}},\"id\":\"b25f8d9b-e1f0-4184-abe2-1dbced1bd34b\",\"type\":\"ColumnDataSource\"},{\"attributes\":{\"plot\":{\"id\":\"210ada45-02d4-4b83-9ac1-dd5fbc0a053f\",\"subtype\":\"Chart\",\"type\":\"Plot\"}},\"id\":\"a56f140e-9db0-4c91-aa8e-92074d848fb4\",\"type\":\"WheelZoomTool\"},{\"attributes\":{\"data_source\":{\"id\":\"fc6354c3-d0b2-4225-a86b-c3c19d4c13a2\",\"type\":\"ColumnDataSource\"},\"glyph\":{\"id\":\"1facd698-efba-43bb-9c19-27c8575d5c8b\",\"type\":\"Rect\"},\"hover_glyph\":null,\"nonselection_glyph\":null,\"selection_glyph\":null},\"id\":\"22320bbd-8886-49ba-8a75-4be9c5c8f771\",\"type\":\"GlyphRenderer\"},{\"attributes\":{\"fill_alpha\":{\"field\":\"fill_alpha\"},\"fill_color\":{\"field\":\"color\"},\"height\":{\"field\":\"height\",\"units\":\"data\"},\"line_color\":{\"field\":\"line_color\"},\"width\":{\"field\":\"width\",\"units\":\"data\"},\"x\":{\"field\":\"x\"},\"y\":{\"field\":\"y\"}},\"id\":\"e6d05ac4-e1d8-4c15-b6e6-b4b27c04e6a1\",\"type\":\"Rect\"},{\"attributes\":{\"active_drag\":\"auto\",\"active_scroll\":\"auto\",\"active_tap\":\"auto\",\"tools\":[{\"id\":\"5dce4016-daca-4ce0-9c59-98474a6f88c9\",\"type\":\"PanTool\"},{\"id\":\"a56f140e-9db0-4c91-aa8e-92074d848fb4\",\"type\":\"WheelZoomTool\"},{\"id\":\"03f01986-ffe3-4c3d-81db-f3850e7a82ac\",\"type\":\"BoxZoomTool\"},{\"id\":\"42c389f5-918b-47f6-b538-c96cd21b595e\",\"type\":\"SaveTool\"},{\"id\":\"3be7890e-650b-4255-a65b-b7212ec28737\",\"type\":\"ResetTool\"},{\"id\":\"46217015-b703-46ee-ae44-23ae924d9f61\",\"type\":\"HelpTool\"}]},\"id\":\"7f2358fc-fe1a-4c1f-8342-031893f97b46\",\"type\":\"Toolbar\"},{\"attributes\":{\"axis_label\":\"Year\",\"formatter\":{\"id\":\"912c03c3-3137-4c66-a83d-e7f87c577547\",\"type\":\"CategoricalTickFormatter\"},\"major_label_orientation\":0.7853981633974483,\"plot\":{\"id\":\"210ada45-02d4-4b83-9ac1-dd5fbc0a053f\",\"subtype\":\"Chart\",\"type\":\"Plot\"},\"ticker\":{\"id\":\"a624f3be-521f-48a3-9550-5f63dcc81d0c\",\"type\":\"CategoricalTicker\"}},\"id\":\"a5bb0d59-6e70-47cc-88c7-c10b29ffe911\",\"type\":\"CategoricalAxis\"},{\"attributes\":{\"data_source\":{\"id\":\"bc53c345-de35-42d4-98ed-cc1e5346c379\",\"type\":\"ColumnDataSource\"},\"glyph\":{\"id\":\"c9e98f3d-3cc2-4c5e-bdc9-db7e6e297357\",\"type\":\"Rect\"},\"hover_glyph\":null,\"nonselection_glyph\":null,\"selection_glyph\":null},\"id\":\"32f4e927-700c-4c45-a17f-94fb7d74b13e\",\"type\":\"GlyphRenderer\"},{\"attributes\":{\"plot\":{\"id\":\"210ada45-02d4-4b83-9ac1-dd5fbc0a053f\",\"subtype\":\"Chart\",\"type\":\"Plot\"}},\"id\":\"42c389f5-918b-47f6-b538-c96cd21b595e\",\"type\":\"SaveTool\"},{\"attributes\":{\"bottom_units\":\"screen\",\"fill_alpha\":{\"value\":0.5},\"fill_color\":{\"value\":\"lightgrey\"},\"left_units\":\"screen\",\"level\":\"overlay\",\"line_alpha\":{\"value\":1.0},\"line_color\":{\"value\":\"black\"},\"line_dash\":[4,4],\"line_width\":{\"value\":2},\"plot\":null,\"render_mode\":\"css\",\"right_units\":\"screen\",\"top_units\":\"screen\"},\"id\":\"260478f1-9e9c-4b49-836b-0bf7d2d26cc1\",\"type\":\"BoxAnnotation\"},{\"attributes\":{\"callback\":null,\"column_names\":[\"x\",\"height\",\"width\",\"fill_alpha\",\"line_alpha\",\"line_color\",\"label\",\"y\",\"color\"],\"data\":{\"chart_index\":[{\"year\":\"2012\"}],\"color\":[\"#f22c40\"],\"fill_alpha\":[0.8],\"height\":[26254.0],\"label\":[{\"year\":\"2012\"}],\"line_alpha\":[1.0],\"line_color\":[\"white\"],\"width\":[0.8],\"x\":[\"2012\"],\"y\":[13127.0],\"year\":[\"2012\"]}},\"id\":\"890bae4c-784d-4c4a-8aef-51feb36f691d\",\"type\":\"ColumnDataSource\"},{\"attributes\":{\"fill_alpha\":{\"field\":\"fill_alpha\"},\"fill_color\":{\"field\":\"color\"},\"height\":{\"field\":\"height\",\"units\":\"data\"},\"line_color\":{\"field\":\"line_color\"},\"width\":{\"field\":\"width\",\"units\":\"data\"},\"x\":{\"field\":\"x\"},\"y\":{\"field\":\"y\"}},\"id\":\"1facd698-efba-43bb-9c19-27c8575d5c8b\",\"type\":\"Rect\"},{\"attributes\":{\"fill_alpha\":{\"field\":\"fill_alpha\"},\"fill_color\":{\"field\":\"color\"},\"height\":{\"field\":\"height\",\"units\":\"data\"},\"line_color\":{\"field\":\"line_color\"},\"width\":{\"field\":\"width\",\"units\":\"data\"},\"x\":{\"field\":\"x\"},\"y\":{\"field\":\"y\"}},\"id\":\"c9e98f3d-3cc2-4c5e-bdc9-db7e6e297357\",\"type\":\"Rect\"},{\"attributes\":{\"callback\":null,\"column_names\":[\"x\",\"height\",\"width\",\"fill_alpha\",\"line_alpha\",\"line_color\",\"label\",\"y\",\"color\"],\"data\":{\"chart_index\":[{\"year\":\"2014\"}],\"color\":[\"#f22c40\"],\"fill_alpha\":[0.8],\"height\":[46808.0],\"label\":[{\"year\":\"2014\"}],\"line_alpha\":[1.0],\"line_color\":[\"white\"],\"width\":[0.8],\"x\":[\"2014\"],\"y\":[23404.0],\"year\":[\"2014\"]}},\"id\":\"fc6354c3-d0b2-4225-a86b-c3c19d4c13a2\",\"type\":\"ColumnDataSource\"},{\"attributes\":{\"data_source\":{\"id\":\"fa9795af-446c-4cf7-9dd6-446445b494f5\",\"type\":\"ColumnDataSource\"},\"glyph\":{\"id\":\"9ca6b1d6-cf88-4c53-8bc2-6fe851d52b4b\",\"type\":\"Rect\"},\"hover_glyph\":null,\"nonselection_glyph\":null,\"selection_glyph\":null},\"id\":\"9c17363a-80b6-4929-a4b5-c90fd07448e3\",\"type\":\"GlyphRenderer\"},{\"attributes\":{},\"id\":\"4788e5e5-342e-44c1-b9b3-3d679df313ef\",\"type\":\"BasicTickFormatter\"},{\"attributes\":{\"callback\":null,\"column_names\":[\"x\",\"height\",\"width\",\"fill_alpha\",\"line_alpha\",\"line_color\",\"label\",\"y\",\"color\"],\"data\":{\"chart_index\":[{\"year\":\"2013\"}],\"color\":[\"#f22c40\"],\"fill_alpha\":[0.8],\"height\":[35831.0],\"label\":[{\"year\":\"2013\"}],\"line_alpha\":[1.0],\"line_color\":[\"white\"],\"width\":[0.8],\"x\":[\"2013\"],\"y\":[17915.5],\"year\":[\"2013\"]}},\"id\":\"fa9795af-446c-4cf7-9dd6-446445b494f5\",\"type\":\"ColumnDataSource\"}],\"root_ids\":[\"21068f46-ff48-43ae-9e0e-256850b002d3\"]},\"title\":\"Bokeh Application\",\"version\":\"0.12.3\"}};\n",
       "            var render_items = [{\"docid\":\"7e5b18bb-6a73-4446-8014-b80af2f1f125\",\"elementid\":\"eb67371a-bd8b-49a2-bdc9-02032e177647\",\"modelid\":\"21068f46-ff48-43ae-9e0e-256850b002d3\"}];\n",
       "            \n",
       "            Bokeh.embed.embed_items(docs_json, render_items);\n",
       "        });\n",
       "      },\n",
       "      function(Bokeh) {\n",
       "      }\n",
       "    ];\n",
       "  \n",
       "    function run_inline_js() {\n",
       "      \n",
       "      if ((window.Bokeh !== undefined) || (force === \"1\")) {\n",
       "        for (var i = 0; i < inline_js.length; i++) {\n",
       "          inline_js[i](window.Bokeh);\n",
       "        }if (force === \"1\") {\n",
       "          display_loaded();\n",
       "        }} else if (Date.now() < window._bokeh_timeout) {\n",
       "        setTimeout(run_inline_js, 100);\n",
       "      } else if (!window._bokeh_failed_load) {\n",
       "        console.log(\"Bokeh: BokehJS failed to load within specified timeout.\");\n",
       "        window._bokeh_failed_load = true;\n",
       "      } else if (!force) {\n",
       "        var cell = $(\"#eb67371a-bd8b-49a2-bdc9-02032e177647\").parents('.cell').data().cell;\n",
       "        cell.output_area.append_execute_result(NB_LOAD_WARNING)\n",
       "      }\n",
       "  \n",
       "    }\n",
       "  \n",
       "    if (window._bokeh_is_loading === 0) {\n",
       "      console.log(\"Bokeh: BokehJS loaded, going straight to plotting\");\n",
       "      run_inline_js();\n",
       "    } else {\n",
       "      load_libs(js_urls, function() {\n",
       "        console.log(\"Bokeh: BokehJS plotting callback run at\", now());\n",
       "        run_inline_js();\n",
       "      });\n",
       "    }\n",
       "  }(this));\n",
       "</script>"
      ]
     },
     "metadata": {},
     "output_type": "display_data"
    }
   ],
   "source": [
    "trend = Bar(df, values = 'count', label = 'year', title = 'Graffiti reported to SF311 by year')\n",
    "output_notebook()\n",
    "show(row(trend))"
   ]
  },
  {
   "cell_type": "code",
   "execution_count": 8,
   "metadata": {
    "collapsed": false
   },
   "outputs": [
    {
     "data": {
      "text/html": [
       "<div>\n",
       "<table border=\"1\" class=\"dataframe\">\n",
       "  <thead>\n",
       "    <tr style=\"text-align: right;\">\n",
       "      <th></th>\n",
       "      <th>year</th>\n",
       "      <th>count</th>\n",
       "    </tr>\n",
       "  </thead>\n",
       "  <tbody>\n",
       "    <tr>\n",
       "      <th>4</th>\n",
       "      <td>2012</td>\n",
       "      <td>26254</td>\n",
       "    </tr>\n",
       "    <tr>\n",
       "      <th>5</th>\n",
       "      <td>2013</td>\n",
       "      <td>35831</td>\n",
       "    </tr>\n",
       "    <tr>\n",
       "      <th>6</th>\n",
       "      <td>2014</td>\n",
       "      <td>46808</td>\n",
       "    </tr>\n",
       "    <tr>\n",
       "      <th>7</th>\n",
       "      <td>2015</td>\n",
       "      <td>57249</td>\n",
       "    </tr>\n",
       "  </tbody>\n",
       "</table>\n",
       "</div>"
      ],
      "text/plain": [
       "   year  count\n",
       "4  2012  26254\n",
       "5  2013  35831\n",
       "6  2014  46808\n",
       "7  2015  57249"
      ]
     },
     "execution_count": 8,
     "metadata": {},
     "output_type": "execute_result"
    }
   ],
   "source": [
    "df = df[3:-1]\n",
    "df"
   ]
  },
  {
   "cell_type": "code",
   "execution_count": 9,
   "metadata": {
    "collapsed": false
   },
   "outputs": [
    {
     "data": {
      "text/plain": [
       "RangeIndex(start=4, stop=8, step=1)"
      ]
     },
     "execution_count": 9,
     "metadata": {},
     "output_type": "execute_result"
    }
   ],
   "source": [
    "df.index"
   ]
  },
  {
   "cell_type": "code",
   "execution_count": 10,
   "metadata": {
    "collapsed": false
   },
   "outputs": [
    {
     "data": {
      "text/html": [
       "\n",
       "\n",
       "    <div class=\"bk-root\">\n",
       "        <div class=\"plotdiv\" id=\"ff48e1cf-230a-4659-8c26-a2474f13376a\"></div>\n",
       "    </div>\n",
       "<script type=\"text/javascript\">\n",
       "  \n",
       "  (function(global) {\n",
       "    function now() {\n",
       "      return new Date();\n",
       "    }\n",
       "  \n",
       "    var force = \"\";\n",
       "  \n",
       "    if (typeof (window._bokeh_onload_callbacks) === \"undefined\" || force !== \"\") {\n",
       "      window._bokeh_onload_callbacks = [];\n",
       "      window._bokeh_is_loading = undefined;\n",
       "    }\n",
       "  \n",
       "  \n",
       "    \n",
       "    if (typeof (window._bokeh_timeout) === \"undefined\" || force !== \"\") {\n",
       "      window._bokeh_timeout = Date.now() + 0;\n",
       "      window._bokeh_failed_load = false;\n",
       "    }\n",
       "  \n",
       "    var NB_LOAD_WARNING = {'data': {'text/html':\n",
       "       \"<div style='background-color: #fdd'>\\n\"+\n",
       "       \"<p>\\n\"+\n",
       "       \"BokehJS does not appear to have successfully loaded. If loading BokehJS from CDN, this \\n\"+\n",
       "       \"may be due to a slow or bad network connection. Possible fixes:\\n\"+\n",
       "       \"</p>\\n\"+\n",
       "       \"<ul>\\n\"+\n",
       "       \"<li>re-rerun `output_notebook()` to attempt to load from CDN again, or</li>\\n\"+\n",
       "       \"<li>use INLINE resources instead, as so:</li>\\n\"+\n",
       "       \"</ul>\\n\"+\n",
       "       \"<code>\\n\"+\n",
       "       \"from bokeh.resources import INLINE\\n\"+\n",
       "       \"output_notebook(resources=INLINE)\\n\"+\n",
       "       \"</code>\\n\"+\n",
       "       \"</div>\"}};\n",
       "  \n",
       "    function display_loaded() {\n",
       "      if (window.Bokeh !== undefined) {\n",
       "        Bokeh.$(\"#ff48e1cf-230a-4659-8c26-a2474f13376a\").text(\"BokehJS successfully loaded.\");\n",
       "      } else if (Date.now() < window._bokeh_timeout) {\n",
       "        setTimeout(display_loaded, 100)\n",
       "      }\n",
       "    }\n",
       "  \n",
       "    function run_callbacks() {\n",
       "      window._bokeh_onload_callbacks.forEach(function(callback) { callback() });\n",
       "      delete window._bokeh_onload_callbacks\n",
       "      console.info(\"Bokeh: all callbacks have finished\");\n",
       "    }\n",
       "  \n",
       "    function load_libs(js_urls, callback) {\n",
       "      window._bokeh_onload_callbacks.push(callback);\n",
       "      if (window._bokeh_is_loading > 0) {\n",
       "        console.log(\"Bokeh: BokehJS is being loaded, scheduling callback at\", now());\n",
       "        return null;\n",
       "      }\n",
       "      if (js_urls == null || js_urls.length === 0) {\n",
       "        run_callbacks();\n",
       "        return null;\n",
       "      }\n",
       "      console.log(\"Bokeh: BokehJS not loaded, scheduling load and callback at\", now());\n",
       "      window._bokeh_is_loading = js_urls.length;\n",
       "      for (var i = 0; i < js_urls.length; i++) {\n",
       "        var url = js_urls[i];\n",
       "        var s = document.createElement('script');\n",
       "        s.src = url;\n",
       "        s.async = false;\n",
       "        s.onreadystatechange = s.onload = function() {\n",
       "          window._bokeh_is_loading--;\n",
       "          if (window._bokeh_is_loading === 0) {\n",
       "            console.log(\"Bokeh: all BokehJS libraries loaded\");\n",
       "            run_callbacks()\n",
       "          }\n",
       "        };\n",
       "        s.onerror = function() {\n",
       "          console.warn(\"failed to load library \" + url);\n",
       "        };\n",
       "        console.log(\"Bokeh: injecting script tag for BokehJS library: \", url);\n",
       "        document.getElementsByTagName(\"head\")[0].appendChild(s);\n",
       "      }\n",
       "    };var element = document.getElementById(\"ff48e1cf-230a-4659-8c26-a2474f13376a\");\n",
       "    if (element == null) {\n",
       "      console.log(\"Bokeh: ERROR: autoload.js configured with elementid 'ff48e1cf-230a-4659-8c26-a2474f13376a' but no matching script tag was found. \")\n",
       "      return false;\n",
       "    }\n",
       "  \n",
       "    var js_urls = [];\n",
       "  \n",
       "    var inline_js = [\n",
       "      function(Bokeh) {\n",
       "        Bokeh.$(function() {\n",
       "            var docs_json = {\"ee3f3cbd-ccc5-4e87-975f-24312b56e97d\":{\"roots\":{\"references\":[{\"attributes\":{\"callback\":null,\"end\":60111.45},\"id\":\"bb7e8f03-4c89-4c86-9422-7c4c1ec2e546\",\"type\":\"Range1d\"},{\"attributes\":{\"label\":{\"value\":\"2012\"},\"renderers\":[{\"id\":\"48dde8fd-5feb-4d40-a9d7-1892dedb5478\",\"type\":\"GlyphRenderer\"}]},\"id\":\"d4092343-506a-478f-9a54-835ecfcf47a0\",\"type\":\"LegendItem\"},{\"attributes\":{\"bottom_units\":\"screen\",\"fill_alpha\":{\"value\":0.5},\"fill_color\":{\"value\":\"lightgrey\"},\"left_units\":\"screen\",\"level\":\"overlay\",\"line_alpha\":{\"value\":1.0},\"line_color\":{\"value\":\"black\"},\"line_dash\":[4,4],\"line_width\":{\"value\":2},\"plot\":null,\"render_mode\":\"css\",\"right_units\":\"screen\",\"top_units\":\"screen\"},\"id\":\"1db11444-76ed-4233-a1f1-722e43cf6c2b\",\"type\":\"BoxAnnotation\"},{\"attributes\":{\"fill_alpha\":{\"field\":\"fill_alpha\"},\"fill_color\":{\"field\":\"color\"},\"height\":{\"field\":\"height\",\"units\":\"data\"},\"line_color\":{\"field\":\"line_color\"},\"width\":{\"field\":\"width\",\"units\":\"data\"},\"x\":{\"field\":\"x\"},\"y\":{\"field\":\"y\"}},\"id\":\"e330f054-39b4-4b95-b985-c4f926f26f86\",\"type\":\"Rect\"},{\"attributes\":{\"children\":[{\"id\":\"a3e1cfc1-804e-47ff-9849-bc80ebef7773\",\"subtype\":\"Chart\",\"type\":\"Plot\"}]},\"id\":\"901ed580-0d69-43a7-919d-564b2b151155\",\"type\":\"Row\"},{\"attributes\":{\"plot\":{\"id\":\"a3e1cfc1-804e-47ff-9849-bc80ebef7773\",\"subtype\":\"Chart\",\"type\":\"Plot\"}},\"id\":\"bacf45da-3560-4d2d-a905-d4f0196b4ad3\",\"type\":\"WheelZoomTool\"},{\"attributes\":{\"fill_alpha\":{\"field\":\"fill_alpha\"},\"fill_color\":{\"field\":\"color\"},\"height\":{\"field\":\"height\",\"units\":\"data\"},\"line_color\":{\"field\":\"line_color\"},\"width\":{\"field\":\"width\",\"units\":\"data\"},\"x\":{\"field\":\"x\"},\"y\":{\"field\":\"y\"}},\"id\":\"77131ab7-3994-440f-95cb-28b8a27b67bb\",\"type\":\"Rect\"},{\"attributes\":{\"plot\":{\"id\":\"a3e1cfc1-804e-47ff-9849-bc80ebef7773\",\"subtype\":\"Chart\",\"type\":\"Plot\"}},\"id\":\"43e6ad10-2d1c-4ed4-a523-c62ae60efc09\",\"type\":\"ResetTool\"},{\"attributes\":{},\"id\":\"471ae984-f163-4bad-aee7-13fb10841192\",\"type\":\"ToolEvents\"},{\"attributes\":{\"data_source\":{\"id\":\"15c6091f-6889-40c5-90af-c1dd4d19bed0\",\"type\":\"ColumnDataSource\"},\"glyph\":{\"id\":\"77131ab7-3994-440f-95cb-28b8a27b67bb\",\"type\":\"Rect\"},\"hover_glyph\":null,\"nonselection_glyph\":null,\"selection_glyph\":null},\"id\":\"93289dbc-0fc6-4d6e-a07a-094d463745d1\",\"type\":\"GlyphRenderer\"},{\"attributes\":{\"active_drag\":\"auto\",\"active_scroll\":\"auto\",\"active_tap\":\"auto\",\"tools\":[{\"id\":\"50e9e311-589c-4f26-ad5d-597f73fd765b\",\"type\":\"PanTool\"},{\"id\":\"bacf45da-3560-4d2d-a905-d4f0196b4ad3\",\"type\":\"WheelZoomTool\"},{\"id\":\"48a635f7-3e21-423b-84ac-4927b1f73243\",\"type\":\"BoxZoomTool\"},{\"id\":\"84a6f3c6-de89-448a-99c1-347cbd29cd9e\",\"type\":\"SaveTool\"},{\"id\":\"43e6ad10-2d1c-4ed4-a523-c62ae60efc09\",\"type\":\"ResetTool\"},{\"id\":\"ebdb3677-ac2b-4376-98cc-226e290a7da7\",\"type\":\"HelpTool\"}]},\"id\":\"c90bac50-2acb-4c3a-9cd2-b1bc10e1b39b\",\"type\":\"Toolbar\"},{\"attributes\":{\"fill_alpha\":{\"field\":\"fill_alpha\"},\"fill_color\":{\"field\":\"color\"},\"height\":{\"field\":\"height\",\"units\":\"data\"},\"line_color\":{\"field\":\"line_color\"},\"width\":{\"field\":\"width\",\"units\":\"data\"},\"x\":{\"field\":\"x\"},\"y\":{\"field\":\"y\"}},\"id\":\"eaf4370b-5e76-4419-b2a3-7307eea99e89\",\"type\":\"Rect\"},{\"attributes\":{\"data_source\":{\"id\":\"34aa2c67-cdf7-4d76-8b07-68224f681309\",\"type\":\"ColumnDataSource\"},\"glyph\":{\"id\":\"c87a6cb2-6ff5-4ff7-a545-d002e3c05a3a\",\"type\":\"Rect\"},\"hover_glyph\":null,\"nonselection_glyph\":null,\"selection_glyph\":null},\"id\":\"b6b5c191-fccf-4556-a10c-ebbcf257c22b\",\"type\":\"GlyphRenderer\"},{\"attributes\":{\"fill_alpha\":{\"field\":\"fill_alpha\"},\"fill_color\":{\"field\":\"color\"},\"height\":{\"field\":\"height\",\"units\":\"data\"},\"line_color\":{\"field\":\"line_color\"},\"width\":{\"field\":\"width\",\"units\":\"data\"},\"x\":{\"field\":\"x\"},\"y\":{\"field\":\"y\"}},\"id\":\"c87a6cb2-6ff5-4ff7-a545-d002e3c05a3a\",\"type\":\"Rect\"},{\"attributes\":{},\"id\":\"7169417d-75b0-4497-bd5a-bdc81d236dfc\",\"type\":\"BasicTickFormatter\"},{\"attributes\":{\"plot\":{\"id\":\"a3e1cfc1-804e-47ff-9849-bc80ebef7773\",\"subtype\":\"Chart\",\"type\":\"Plot\"}},\"id\":\"ebdb3677-ac2b-4376-98cc-226e290a7da7\",\"type\":\"HelpTool\"},{\"attributes\":{\"callback\":null,\"column_names\":[\"x\",\"height\",\"width\",\"fill_alpha\",\"line_alpha\",\"line_color\",\"label\",\"y\",\"color\"],\"data\":{\"chart_index\":[{\"year\":\"2013\"}],\"color\":[\"#f22c40\"],\"fill_alpha\":[0.8],\"height\":[35831.0],\"label\":[{\"year\":\"2013\"}],\"line_alpha\":[1.0],\"line_color\":[\"white\"],\"width\":[0.8],\"x\":[\"2013\"],\"y\":[17915.5],\"year\":[\"2013\"]}},\"id\":\"15c6091f-6889-40c5-90af-c1dd4d19bed0\",\"type\":\"ColumnDataSource\"},{\"attributes\":{\"axis_label\":\"Sum( Count )\",\"formatter\":{\"id\":\"7169417d-75b0-4497-bd5a-bdc81d236dfc\",\"type\":\"BasicTickFormatter\"},\"plot\":{\"id\":\"a3e1cfc1-804e-47ff-9849-bc80ebef7773\",\"subtype\":\"Chart\",\"type\":\"Plot\"},\"ticker\":{\"id\":\"f5049514-4792-4424-a7f5-d3c0820225d4\",\"type\":\"BasicTicker\"}},\"id\":\"c615bddb-66d4-4007-b66b-f56a891290c6\",\"type\":\"LinearAxis\"},{\"attributes\":{\"data_source\":{\"id\":\"1df4fc8a-d404-4a20-a8a3-ceb72a95ff0a\",\"type\":\"ColumnDataSource\"},\"glyph\":{\"id\":\"e330f054-39b4-4b95-b985-c4f926f26f86\",\"type\":\"Rect\"},\"hover_glyph\":null,\"nonselection_glyph\":null,\"selection_glyph\":null},\"id\":\"48dde8fd-5feb-4d40-a9d7-1892dedb5478\",\"type\":\"GlyphRenderer\"},{\"attributes\":{},\"id\":\"99d6a5c1-818c-4bdd-9535-132dfa5aec99\",\"type\":\"CategoricalTicker\"},{\"attributes\":{\"plot\":{\"id\":\"a3e1cfc1-804e-47ff-9849-bc80ebef7773\",\"subtype\":\"Chart\",\"type\":\"Plot\"}},\"id\":\"50e9e311-589c-4f26-ad5d-597f73fd765b\",\"type\":\"PanTool\"},{\"attributes\":{\"label\":{\"value\":\"2015\"},\"renderers\":[{\"id\":\"64171a87-1f4f-470d-8c86-8f266cd75a20\",\"type\":\"GlyphRenderer\"}]},\"id\":\"161cbe3f-28b7-4624-b14d-22b239a53faa\",\"type\":\"LegendItem\"},{\"attributes\":{\"callback\":null,\"column_names\":[\"x\",\"height\",\"width\",\"fill_alpha\",\"line_alpha\",\"line_color\",\"label\",\"y\",\"color\"],\"data\":{\"chart_index\":[{\"year\":\"2015\"}],\"color\":[\"#f22c40\"],\"fill_alpha\":[0.8],\"height\":[57249.0],\"label\":[{\"year\":\"2015\"}],\"line_alpha\":[1.0],\"line_color\":[\"white\"],\"width\":[0.8],\"x\":[\"2015\"],\"y\":[28624.5],\"year\":[\"2015\"]}},\"id\":\"15872b3c-ef8f-4720-a22f-e789f2029fb5\",\"type\":\"ColumnDataSource\"},{\"attributes\":{\"plot\":{\"id\":\"a3e1cfc1-804e-47ff-9849-bc80ebef7773\",\"subtype\":\"Chart\",\"type\":\"Plot\"}},\"id\":\"84a6f3c6-de89-448a-99c1-347cbd29cd9e\",\"type\":\"SaveTool\"},{\"attributes\":{\"axis_label\":\"Year\",\"formatter\":{\"id\":\"03f8fe95-bf9a-4019-ac4f-09e4fff2860f\",\"type\":\"CategoricalTickFormatter\"},\"major_label_orientation\":0.7853981633974483,\"plot\":{\"id\":\"a3e1cfc1-804e-47ff-9849-bc80ebef7773\",\"subtype\":\"Chart\",\"type\":\"Plot\"},\"ticker\":{\"id\":\"99d6a5c1-818c-4bdd-9535-132dfa5aec99\",\"type\":\"CategoricalTicker\"}},\"id\":\"e3569ee2-cfa1-40e6-bc8a-ab395522ce0d\",\"type\":\"CategoricalAxis\"},{\"attributes\":{},\"id\":\"03f8fe95-bf9a-4019-ac4f-09e4fff2860f\",\"type\":\"CategoricalTickFormatter\"},{\"attributes\":{},\"id\":\"f5049514-4792-4424-a7f5-d3c0820225d4\",\"type\":\"BasicTicker\"},{\"attributes\":{\"label\":{\"value\":\"2013\"},\"renderers\":[{\"id\":\"93289dbc-0fc6-4d6e-a07a-094d463745d1\",\"type\":\"GlyphRenderer\"}]},\"id\":\"ad8b8886-c422-4b53-8cfe-23a6b77cfeb2\",\"type\":\"LegendItem\"},{\"attributes\":{\"callback\":null,\"column_names\":[\"x\",\"height\",\"width\",\"fill_alpha\",\"line_alpha\",\"line_color\",\"label\",\"y\",\"color\"],\"data\":{\"chart_index\":[{\"year\":\"2014\"}],\"color\":[\"#f22c40\"],\"fill_alpha\":[0.8],\"height\":[46808.0],\"label\":[{\"year\":\"2014\"}],\"line_alpha\":[1.0],\"line_color\":[\"white\"],\"width\":[0.8],\"x\":[\"2014\"],\"y\":[23404.0],\"year\":[\"2014\"]}},\"id\":\"34aa2c67-cdf7-4d76-8b07-68224f681309\",\"type\":\"ColumnDataSource\"},{\"attributes\":{\"items\":[{\"id\":\"d4092343-506a-478f-9a54-835ecfcf47a0\",\"type\":\"LegendItem\"},{\"id\":\"ad8b8886-c422-4b53-8cfe-23a6b77cfeb2\",\"type\":\"LegendItem\"},{\"id\":\"c56b866e-f8d5-4f8e-804f-efddf142cf90\",\"type\":\"LegendItem\"},{\"id\":\"161cbe3f-28b7-4624-b14d-22b239a53faa\",\"type\":\"LegendItem\"}],\"location\":\"top_left\",\"plot\":{\"id\":\"a3e1cfc1-804e-47ff-9849-bc80ebef7773\",\"subtype\":\"Chart\",\"type\":\"Plot\"}},\"id\":\"34ffcc7f-8992-4e1b-96fb-1e89d29e2826\",\"type\":\"Legend\"},{\"attributes\":{\"callback\":null,\"factors\":[\"2012\",\"2013\",\"2014\",\"2015\"]},\"id\":\"850d2d6c-4353-4192-9d0b-d177ac434294\",\"type\":\"FactorRange\"},{\"attributes\":{\"dimension\":1,\"plot\":{\"id\":\"a3e1cfc1-804e-47ff-9849-bc80ebef7773\",\"subtype\":\"Chart\",\"type\":\"Plot\"},\"ticker\":{\"id\":\"f5049514-4792-4424-a7f5-d3c0820225d4\",\"type\":\"BasicTicker\"}},\"id\":\"f59807db-d034-4073-b43b-ca3b2b227ca5\",\"type\":\"Grid\"},{\"attributes\":{\"overlay\":{\"id\":\"1db11444-76ed-4233-a1f1-722e43cf6c2b\",\"type\":\"BoxAnnotation\"},\"plot\":{\"id\":\"a3e1cfc1-804e-47ff-9849-bc80ebef7773\",\"subtype\":\"Chart\",\"type\":\"Plot\"}},\"id\":\"48a635f7-3e21-423b-84ac-4927b1f73243\",\"type\":\"BoxZoomTool\"},{\"attributes\":{\"label\":{\"value\":\"2014\"},\"renderers\":[{\"id\":\"b6b5c191-fccf-4556-a10c-ebbcf257c22b\",\"type\":\"GlyphRenderer\"}]},\"id\":\"c56b866e-f8d5-4f8e-804f-efddf142cf90\",\"type\":\"LegendItem\"},{\"attributes\":{\"plot\":null,\"text\":null},\"id\":\"f0f3d2dc-273b-48fa-b241-7e31859afd72\",\"type\":\"Title\"},{\"attributes\":{\"data_source\":{\"id\":\"15872b3c-ef8f-4720-a22f-e789f2029fb5\",\"type\":\"ColumnDataSource\"},\"glyph\":{\"id\":\"eaf4370b-5e76-4419-b2a3-7307eea99e89\",\"type\":\"Rect\"},\"hover_glyph\":null,\"nonselection_glyph\":null,\"selection_glyph\":null},\"id\":\"64171a87-1f4f-470d-8c86-8f266cd75a20\",\"type\":\"GlyphRenderer\"},{\"attributes\":{\"callback\":null,\"column_names\":[\"x\",\"height\",\"width\",\"fill_alpha\",\"line_alpha\",\"line_color\",\"label\",\"y\",\"color\"],\"data\":{\"chart_index\":[{\"year\":\"2012\"}],\"color\":[\"#f22c40\"],\"fill_alpha\":[0.8],\"height\":[26254.0],\"label\":[{\"year\":\"2012\"}],\"line_alpha\":[1.0],\"line_color\":[\"white\"],\"width\":[0.8],\"x\":[\"2012\"],\"y\":[13127.0],\"year\":[\"2012\"]}},\"id\":\"1df4fc8a-d404-4a20-a8a3-ceb72a95ff0a\",\"type\":\"ColumnDataSource\"},{\"attributes\":{\"below\":[{\"id\":\"e3569ee2-cfa1-40e6-bc8a-ab395522ce0d\",\"type\":\"CategoricalAxis\"}],\"left\":[{\"id\":\"c615bddb-66d4-4007-b66b-f56a891290c6\",\"type\":\"LinearAxis\"}],\"renderers\":[{\"id\":\"1db11444-76ed-4233-a1f1-722e43cf6c2b\",\"type\":\"BoxAnnotation\"},{\"id\":\"48dde8fd-5feb-4d40-a9d7-1892dedb5478\",\"type\":\"GlyphRenderer\"},{\"id\":\"93289dbc-0fc6-4d6e-a07a-094d463745d1\",\"type\":\"GlyphRenderer\"},{\"id\":\"b6b5c191-fccf-4556-a10c-ebbcf257c22b\",\"type\":\"GlyphRenderer\"},{\"id\":\"64171a87-1f4f-470d-8c86-8f266cd75a20\",\"type\":\"GlyphRenderer\"},{\"id\":\"34ffcc7f-8992-4e1b-96fb-1e89d29e2826\",\"type\":\"Legend\"},{\"id\":\"e3569ee2-cfa1-40e6-bc8a-ab395522ce0d\",\"type\":\"CategoricalAxis\"},{\"id\":\"c615bddb-66d4-4007-b66b-f56a891290c6\",\"type\":\"LinearAxis\"},{\"id\":\"f59807db-d034-4073-b43b-ca3b2b227ca5\",\"type\":\"Grid\"}],\"title\":{\"id\":\"f0f3d2dc-273b-48fa-b241-7e31859afd72\",\"type\":\"Title\"},\"tool_events\":{\"id\":\"471ae984-f163-4bad-aee7-13fb10841192\",\"type\":\"ToolEvents\"},\"toolbar\":{\"id\":\"c90bac50-2acb-4c3a-9cd2-b1bc10e1b39b\",\"type\":\"Toolbar\"},\"x_mapper_type\":\"auto\",\"x_range\":{\"id\":\"850d2d6c-4353-4192-9d0b-d177ac434294\",\"type\":\"FactorRange\"},\"y_mapper_type\":\"auto\",\"y_range\":{\"id\":\"bb7e8f03-4c89-4c86-9422-7c4c1ec2e546\",\"type\":\"Range1d\"}},\"id\":\"a3e1cfc1-804e-47ff-9849-bc80ebef7773\",\"subtype\":\"Chart\",\"type\":\"Plot\"}],\"root_ids\":[\"901ed580-0d69-43a7-919d-564b2b151155\"]},\"title\":\"Bokeh Application\",\"version\":\"0.12.3\"}};\n",
       "            var render_items = [{\"docid\":\"ee3f3cbd-ccc5-4e87-975f-24312b56e97d\",\"elementid\":\"ff48e1cf-230a-4659-8c26-a2474f13376a\",\"modelid\":\"901ed580-0d69-43a7-919d-564b2b151155\"}];\n",
       "            \n",
       "            Bokeh.embed.embed_items(docs_json, render_items);\n",
       "        });\n",
       "      },\n",
       "      function(Bokeh) {\n",
       "      }\n",
       "    ];\n",
       "  \n",
       "    function run_inline_js() {\n",
       "      \n",
       "      if ((window.Bokeh !== undefined) || (force === \"1\")) {\n",
       "        for (var i = 0; i < inline_js.length; i++) {\n",
       "          inline_js[i](window.Bokeh);\n",
       "        }if (force === \"1\") {\n",
       "          display_loaded();\n",
       "        }} else if (Date.now() < window._bokeh_timeout) {\n",
       "        setTimeout(run_inline_js, 100);\n",
       "      } else if (!window._bokeh_failed_load) {\n",
       "        console.log(\"Bokeh: BokehJS failed to load within specified timeout.\");\n",
       "        window._bokeh_failed_load = true;\n",
       "      } else if (!force) {\n",
       "        var cell = $(\"#ff48e1cf-230a-4659-8c26-a2474f13376a\").parents('.cell').data().cell;\n",
       "        cell.output_area.append_execute_result(NB_LOAD_WARNING)\n",
       "      }\n",
       "  \n",
       "    }\n",
       "  \n",
       "    if (window._bokeh_is_loading === 0) {\n",
       "      console.log(\"Bokeh: BokehJS loaded, going straight to plotting\");\n",
       "      run_inline_js();\n",
       "    } else {\n",
       "      load_libs(js_urls, function() {\n",
       "        console.log(\"Bokeh: BokehJS plotting callback run at\", now());\n",
       "        run_inline_js();\n",
       "      });\n",
       "    }\n",
       "  }(this));\n",
       "</script>"
      ]
     },
     "metadata": {},
     "output_type": "display_data"
    }
   ],
   "source": [
    "trend = Bar(df, values = 'count', label = 'year')\n",
    "show(row(trend))"
   ]
  },
  {
   "cell_type": "markdown",
   "metadata": {
    "collapsed": true
   },
   "source": [
    "# Analysis by Source, grab new dataframe by constructing SQL query to API"
   ]
  },
  {
   "cell_type": "code",
   "execution_count": 11,
   "metadata": {
    "collapsed": true
   },
   "outputs": [],
   "source": [
    "url = 'https://data.sfgov.org/resource/qer8-n8u9.csv?$select=source,date_trunc_y(opened)as%20year,%20count(*)&$order=year&$group=year,source'"
   ]
  },
  {
   "cell_type": "code",
   "execution_count": 12,
   "metadata": {
    "collapsed": false
   },
   "outputs": [
    {
     "name": "stdout",
     "output_type": "stream",
     "text": [
      "https://data.sfgov.org/resource/qer8-n8u9.csv?$select=source,date_trunc_y(opened)as%20year,%20count(*)&$order=year&$group=year,source\n"
     ]
    }
   ],
   "source": [
    "print(url)"
   ]
  },
  {
   "cell_type": "code",
   "execution_count": 13,
   "metadata": {
    "collapsed": false
   },
   "outputs": [
    {
     "name": "stderr",
     "output_type": "stream",
     "text": [
      "/home/gdillon/.local/lib/python3.5/site-packages/ipykernel/__main__.py:3: FutureWarning: currently extract(expand=None) means expand=False (return Index/Series/DataFrame) but in a future version of pandas this will be changed to expand=True (return DataFrame)\n",
      "  app.launch_new_instance()\n"
     ]
    },
    {
     "data": {
      "text/html": [
       "<div>\n",
       "<table border=\"1\" class=\"dataframe\">\n",
       "  <thead>\n",
       "    <tr style=\"text-align: right;\">\n",
       "      <th></th>\n",
       "      <th>Source</th>\n",
       "      <th>year</th>\n",
       "      <th>count</th>\n",
       "    </tr>\n",
       "  </thead>\n",
       "  <tbody>\n",
       "    <tr>\n",
       "      <th>18</th>\n",
       "      <td>Open311</td>\n",
       "      <td>2013</td>\n",
       "      <td>4030</td>\n",
       "    </tr>\n",
       "    <tr>\n",
       "      <th>19</th>\n",
       "      <td>Integrated Agency</td>\n",
       "      <td>2013</td>\n",
       "      <td>9666</td>\n",
       "    </tr>\n",
       "    <tr>\n",
       "      <th>20</th>\n",
       "      <td>Voice In</td>\n",
       "      <td>2013</td>\n",
       "      <td>9293</td>\n",
       "    </tr>\n",
       "    <tr>\n",
       "      <th>21</th>\n",
       "      <td>Web Self Service</td>\n",
       "      <td>2013</td>\n",
       "      <td>11330</td>\n",
       "    </tr>\n",
       "    <tr>\n",
       "      <th>22</th>\n",
       "      <td>Twitter</td>\n",
       "      <td>2013</td>\n",
       "      <td>1512</td>\n",
       "    </tr>\n",
       "    <tr>\n",
       "      <th>23</th>\n",
       "      <td>NaN</td>\n",
       "      <td>2014</td>\n",
       "      <td>5</td>\n",
       "    </tr>\n",
       "    <tr>\n",
       "      <th>24</th>\n",
       "      <td>Open311</td>\n",
       "      <td>2014</td>\n",
       "      <td>19813</td>\n",
       "    </tr>\n",
       "    <tr>\n",
       "      <th>25</th>\n",
       "      <td>Twitter</td>\n",
       "      <td>2014</td>\n",
       "      <td>2227</td>\n",
       "    </tr>\n",
       "    <tr>\n",
       "      <th>26</th>\n",
       "      <td>Web Self Service</td>\n",
       "      <td>2014</td>\n",
       "      <td>11769</td>\n",
       "    </tr>\n",
       "    <tr>\n",
       "      <th>27</th>\n",
       "      <td>Integrated Agency</td>\n",
       "      <td>2014</td>\n",
       "      <td>5493</td>\n",
       "    </tr>\n",
       "    <tr>\n",
       "      <th>28</th>\n",
       "      <td>Voice In</td>\n",
       "      <td>2014</td>\n",
       "      <td>7501</td>\n",
       "    </tr>\n",
       "    <tr>\n",
       "      <th>29</th>\n",
       "      <td>Other Department</td>\n",
       "      <td>2015</td>\n",
       "      <td>6</td>\n",
       "    </tr>\n",
       "    <tr>\n",
       "      <th>30</th>\n",
       "      <td>Open311</td>\n",
       "      <td>2015</td>\n",
       "      <td>38732</td>\n",
       "    </tr>\n",
       "    <tr>\n",
       "      <th>31</th>\n",
       "      <td>Voice In</td>\n",
       "      <td>2015</td>\n",
       "      <td>5636</td>\n",
       "    </tr>\n",
       "    <tr>\n",
       "      <th>32</th>\n",
       "      <td>Twitter</td>\n",
       "      <td>2015</td>\n",
       "      <td>202</td>\n",
       "    </tr>\n",
       "    <tr>\n",
       "      <th>33</th>\n",
       "      <td>Integrated Agency</td>\n",
       "      <td>2015</td>\n",
       "      <td>8530</td>\n",
       "    </tr>\n",
       "    <tr>\n",
       "      <th>34</th>\n",
       "      <td>Web Self Service</td>\n",
       "      <td>2015</td>\n",
       "      <td>4143</td>\n",
       "    </tr>\n",
       "    <tr>\n",
       "      <th>35</th>\n",
       "      <td>Twitter</td>\n",
       "      <td>2016</td>\n",
       "      <td>194</td>\n",
       "    </tr>\n",
       "    <tr>\n",
       "      <th>36</th>\n",
       "      <td>Integrated Agency</td>\n",
       "      <td>2016</td>\n",
       "      <td>7992</td>\n",
       "    </tr>\n",
       "    <tr>\n",
       "      <th>37</th>\n",
       "      <td>Voice In</td>\n",
       "      <td>2016</td>\n",
       "      <td>4390</td>\n",
       "    </tr>\n",
       "    <tr>\n",
       "      <th>38</th>\n",
       "      <td>Web Self Service</td>\n",
       "      <td>2016</td>\n",
       "      <td>4668</td>\n",
       "    </tr>\n",
       "    <tr>\n",
       "      <th>39</th>\n",
       "      <td>Open311</td>\n",
       "      <td>2016</td>\n",
       "      <td>55148</td>\n",
       "    </tr>\n",
       "  </tbody>\n",
       "</table>\n",
       "</div>"
      ],
      "text/plain": [
       "               Source  year  count\n",
       "18            Open311  2013   4030\n",
       "19  Integrated Agency  2013   9666\n",
       "20           Voice In  2013   9293\n",
       "21   Web Self Service  2013  11330\n",
       "22            Twitter  2013   1512\n",
       "23                NaN  2014      5\n",
       "24            Open311  2014  19813\n",
       "25            Twitter  2014   2227\n",
       "26   Web Self Service  2014  11769\n",
       "27  Integrated Agency  2014   5493\n",
       "28           Voice In  2014   7501\n",
       "29   Other Department  2015      6\n",
       "30            Open311  2015  38732\n",
       "31           Voice In  2015   5636\n",
       "32            Twitter  2015    202\n",
       "33  Integrated Agency  2015   8530\n",
       "34   Web Self Service  2015   4143\n",
       "35            Twitter  2016    194\n",
       "36  Integrated Agency  2016   7992\n",
       "37           Voice In  2016   4390\n",
       "38   Web Self Service  2016   4668\n",
       "39            Open311  2016  55148"
      ]
     },
     "execution_count": 13,
     "metadata": {},
     "output_type": "execute_result"
    }
   ],
   "source": [
    "df=pd.read_csv(url)\n",
    "df=df[18:]\n",
    "df['year']=df['year'].str.extract('(?P<year>\\d{4})').astype(str)\n",
    "df['count']=df['count'].astype(int)\n",
    "df=df[:-1]\n",
    "#df.head(3)\n",
    "df"
   ]
  },
  {
   "cell_type": "code",
   "execution_count": 14,
   "metadata": {
    "collapsed": false
   },
   "outputs": [
    {
     "data": {
      "text/html": [
       "<div>\n",
       "<table border=\"1\" class=\"dataframe\">\n",
       "  <thead>\n",
       "    <tr style=\"text-align: right;\">\n",
       "      <th>Source</th>\n",
       "      <th>Integrated Agency</th>\n",
       "      <th>Open311</th>\n",
       "      <th>Other Department</th>\n",
       "      <th>Twitter</th>\n",
       "      <th>Voice In</th>\n",
       "      <th>Web Self Service</th>\n",
       "    </tr>\n",
       "    <tr>\n",
       "      <th>year</th>\n",
       "      <th></th>\n",
       "      <th></th>\n",
       "      <th></th>\n",
       "      <th></th>\n",
       "      <th></th>\n",
       "      <th></th>\n",
       "    </tr>\n",
       "  </thead>\n",
       "  <tbody>\n",
       "    <tr>\n",
       "      <th>2013</th>\n",
       "      <td>9666.0</td>\n",
       "      <td>4030.0</td>\n",
       "      <td>NaN</td>\n",
       "      <td>1512.0</td>\n",
       "      <td>9293.0</td>\n",
       "      <td>11330.0</td>\n",
       "    </tr>\n",
       "    <tr>\n",
       "      <th>2014</th>\n",
       "      <td>5493.0</td>\n",
       "      <td>19813.0</td>\n",
       "      <td>NaN</td>\n",
       "      <td>2227.0</td>\n",
       "      <td>7501.0</td>\n",
       "      <td>11769.0</td>\n",
       "    </tr>\n",
       "    <tr>\n",
       "      <th>2015</th>\n",
       "      <td>8530.0</td>\n",
       "      <td>38732.0</td>\n",
       "      <td>6.0</td>\n",
       "      <td>202.0</td>\n",
       "      <td>5636.0</td>\n",
       "      <td>4143.0</td>\n",
       "    </tr>\n",
       "    <tr>\n",
       "      <th>2016</th>\n",
       "      <td>7992.0</td>\n",
       "      <td>55148.0</td>\n",
       "      <td>NaN</td>\n",
       "      <td>194.0</td>\n",
       "      <td>4390.0</td>\n",
       "      <td>4668.0</td>\n",
       "    </tr>\n",
       "  </tbody>\n",
       "</table>\n",
       "</div>"
      ],
      "text/plain": [
       "Source  Integrated Agency  Open311  Other Department  Twitter  Voice In  \\\n",
       "year                                                                      \n",
       "2013               9666.0   4030.0               NaN   1512.0    9293.0   \n",
       "2014               5493.0  19813.0               NaN   2227.0    7501.0   \n",
       "2015               8530.0  38732.0               6.0    202.0    5636.0   \n",
       "2016               7992.0  55148.0               NaN    194.0    4390.0   \n",
       "\n",
       "Source  Web Self Service  \n",
       "year                      \n",
       "2013             11330.0  \n",
       "2014             11769.0  \n",
       "2015              4143.0  \n",
       "2016              4668.0  "
      ]
     },
     "execution_count": 14,
     "metadata": {},
     "output_type": "execute_result"
    }
   ],
   "source": [
    "df2 =pd.pivot_table(\n",
    "  df,values='count',\n",
    "  index=['year'], \n",
    "  columns=['Source'],\n",
    "  aggfunc=np.sum) \n",
    "df2"
   ]
  },
  {
   "cell_type": "code",
   "execution_count": 15,
   "metadata": {
    "collapsed": false
   },
   "outputs": [
    {
     "data": {
      "text/html": [
       "<div>\n",
       "<table border=\"1\" class=\"dataframe\">\n",
       "  <thead>\n",
       "    <tr style=\"text-align: right;\">\n",
       "      <th>Source</th>\n",
       "      <th>Integrated Agency</th>\n",
       "      <th>Open311</th>\n",
       "      <th>Twitter</th>\n",
       "      <th>Voice In</th>\n",
       "      <th>Web Self Service</th>\n",
       "    </tr>\n",
       "    <tr>\n",
       "      <th>year</th>\n",
       "      <th></th>\n",
       "      <th></th>\n",
       "      <th></th>\n",
       "      <th></th>\n",
       "      <th></th>\n",
       "    </tr>\n",
       "  </thead>\n",
       "  <tbody>\n",
       "    <tr>\n",
       "      <th>2013</th>\n",
       "      <td>9666.0</td>\n",
       "      <td>4030.0</td>\n",
       "      <td>1512.0</td>\n",
       "      <td>9293.0</td>\n",
       "      <td>11330.0</td>\n",
       "    </tr>\n",
       "    <tr>\n",
       "      <th>2014</th>\n",
       "      <td>5493.0</td>\n",
       "      <td>19813.0</td>\n",
       "      <td>2227.0</td>\n",
       "      <td>7501.0</td>\n",
       "      <td>11769.0</td>\n",
       "    </tr>\n",
       "    <tr>\n",
       "      <th>2015</th>\n",
       "      <td>8530.0</td>\n",
       "      <td>38732.0</td>\n",
       "      <td>202.0</td>\n",
       "      <td>5636.0</td>\n",
       "      <td>4143.0</td>\n",
       "    </tr>\n",
       "    <tr>\n",
       "      <th>2016</th>\n",
       "      <td>7992.0</td>\n",
       "      <td>55148.0</td>\n",
       "      <td>194.0</td>\n",
       "      <td>4390.0</td>\n",
       "      <td>4668.0</td>\n",
       "    </tr>\n",
       "  </tbody>\n",
       "</table>\n",
       "</div>"
      ],
      "text/plain": [
       "Source  Integrated Agency  Open311  Twitter  Voice In  Web Self Service\n",
       "year                                                                   \n",
       "2013               9666.0   4030.0   1512.0    9293.0           11330.0\n",
       "2014               5493.0  19813.0   2227.0    7501.0           11769.0\n",
       "2015               8530.0  38732.0    202.0    5636.0            4143.0\n",
       "2016               7992.0  55148.0    194.0    4390.0            4668.0"
      ]
     },
     "execution_count": 15,
     "metadata": {},
     "output_type": "execute_result"
    }
   ],
   "source": [
    "\n",
    "df2.drop(df2.columns[[2]], axis=1, inplace=True)\n",
    "df2"
   ]
  },
  {
   "cell_type": "code",
   "execution_count": 16,
   "metadata": {
    "collapsed": false
   },
   "outputs": [
    {
     "data": {
      "text/plain": [
       "Index(['2013', '2014', '2015', '2016'], dtype='object', name='year')"
      ]
     },
     "execution_count": 16,
     "metadata": {},
     "output_type": "execute_result"
    }
   ],
   "source": [
    "df2.index"
   ]
  },
  {
   "cell_type": "markdown",
   "metadata": {},
   "source": [
    "example code from stackoverflow http://stackoverflow.com/questions/31520951/plotting-multiple-lines-with-bokeh-and-pandas"
   ]
  },
  {
   "cell_type": "code",
   "execution_count": 17,
   "metadata": {
    "collapsed": false,
    "scrolled": true
   },
   "outputs": [
    {
     "data": {
      "text/html": [
       "\n",
       "\n",
       "    <div class=\"bk-root\">\n",
       "        <div class=\"plotdiv\" id=\"9341be23-d401-4279-956d-65cbf1cc6b88\"></div>\n",
       "    </div>\n",
       "<script type=\"text/javascript\">\n",
       "  \n",
       "  (function(global) {\n",
       "    function now() {\n",
       "      return new Date();\n",
       "    }\n",
       "  \n",
       "    var force = \"\";\n",
       "  \n",
       "    if (typeof (window._bokeh_onload_callbacks) === \"undefined\" || force !== \"\") {\n",
       "      window._bokeh_onload_callbacks = [];\n",
       "      window._bokeh_is_loading = undefined;\n",
       "    }\n",
       "  \n",
       "  \n",
       "    \n",
       "    if (typeof (window._bokeh_timeout) === \"undefined\" || force !== \"\") {\n",
       "      window._bokeh_timeout = Date.now() + 0;\n",
       "      window._bokeh_failed_load = false;\n",
       "    }\n",
       "  \n",
       "    var NB_LOAD_WARNING = {'data': {'text/html':\n",
       "       \"<div style='background-color: #fdd'>\\n\"+\n",
       "       \"<p>\\n\"+\n",
       "       \"BokehJS does not appear to have successfully loaded. If loading BokehJS from CDN, this \\n\"+\n",
       "       \"may be due to a slow or bad network connection. Possible fixes:\\n\"+\n",
       "       \"</p>\\n\"+\n",
       "       \"<ul>\\n\"+\n",
       "       \"<li>re-rerun `output_notebook()` to attempt to load from CDN again, or</li>\\n\"+\n",
       "       \"<li>use INLINE resources instead, as so:</li>\\n\"+\n",
       "       \"</ul>\\n\"+\n",
       "       \"<code>\\n\"+\n",
       "       \"from bokeh.resources import INLINE\\n\"+\n",
       "       \"output_notebook(resources=INLINE)\\n\"+\n",
       "       \"</code>\\n\"+\n",
       "       \"</div>\"}};\n",
       "  \n",
       "    function display_loaded() {\n",
       "      if (window.Bokeh !== undefined) {\n",
       "        Bokeh.$(\"#9341be23-d401-4279-956d-65cbf1cc6b88\").text(\"BokehJS successfully loaded.\");\n",
       "      } else if (Date.now() < window._bokeh_timeout) {\n",
       "        setTimeout(display_loaded, 100)\n",
       "      }\n",
       "    }\n",
       "  \n",
       "    function run_callbacks() {\n",
       "      window._bokeh_onload_callbacks.forEach(function(callback) { callback() });\n",
       "      delete window._bokeh_onload_callbacks\n",
       "      console.info(\"Bokeh: all callbacks have finished\");\n",
       "    }\n",
       "  \n",
       "    function load_libs(js_urls, callback) {\n",
       "      window._bokeh_onload_callbacks.push(callback);\n",
       "      if (window._bokeh_is_loading > 0) {\n",
       "        console.log(\"Bokeh: BokehJS is being loaded, scheduling callback at\", now());\n",
       "        return null;\n",
       "      }\n",
       "      if (js_urls == null || js_urls.length === 0) {\n",
       "        run_callbacks();\n",
       "        return null;\n",
       "      }\n",
       "      console.log(\"Bokeh: BokehJS not loaded, scheduling load and callback at\", now());\n",
       "      window._bokeh_is_loading = js_urls.length;\n",
       "      for (var i = 0; i < js_urls.length; i++) {\n",
       "        var url = js_urls[i];\n",
       "        var s = document.createElement('script');\n",
       "        s.src = url;\n",
       "        s.async = false;\n",
       "        s.onreadystatechange = s.onload = function() {\n",
       "          window._bokeh_is_loading--;\n",
       "          if (window._bokeh_is_loading === 0) {\n",
       "            console.log(\"Bokeh: all BokehJS libraries loaded\");\n",
       "            run_callbacks()\n",
       "          }\n",
       "        };\n",
       "        s.onerror = function() {\n",
       "          console.warn(\"failed to load library \" + url);\n",
       "        };\n",
       "        console.log(\"Bokeh: injecting script tag for BokehJS library: \", url);\n",
       "        document.getElementsByTagName(\"head\")[0].appendChild(s);\n",
       "      }\n",
       "    };var element = document.getElementById(\"9341be23-d401-4279-956d-65cbf1cc6b88\");\n",
       "    if (element == null) {\n",
       "      console.log(\"Bokeh: ERROR: autoload.js configured with elementid '9341be23-d401-4279-956d-65cbf1cc6b88' but no matching script tag was found. \")\n",
       "      return false;\n",
       "    }\n",
       "  \n",
       "    var js_urls = [];\n",
       "  \n",
       "    var inline_js = [\n",
       "      function(Bokeh) {\n",
       "        Bokeh.$(function() {\n",
       "            var docs_json = {\"45075fd1-8923-4dfa-9e7d-bc2cc999048c\":{\"roots\":{\"references\":[{\"attributes\":{\"plot\":null,\"text\":\"line\"},\"id\":\"82a973d4-d9ea-4e47-a587-515d7be0ba18\",\"type\":\"Title\"},{\"attributes\":{\"plot\":{\"id\":\"91ee97eb-be6e-4e2b-b7c6-ad191ba1c63d\",\"subtype\":\"Chart\",\"type\":\"Plot\"}},\"id\":\"df841d4e-f7bf-4b4b-850e-aa41ef98567e\",\"type\":\"PanTool\"},{\"attributes\":{\"callback\":null,\"column_names\":[\"y_values\",\"x_values\"],\"data\":{\"chart_index\":[{\"series\":\"Web Self Service\"},{\"series\":\"Web Self Service\"},{\"series\":\"Web Self Service\"},{\"series\":\"Web Self Service\"}],\"series\":[\"Web Self Service\",\"Web Self Service\",\"Web Self Service\",\"Web Self Service\"],\"x_values\":[\"2013\",\"2014\",\"2015\",\"2016\"],\"y_values\":[11330.0,11769.0,4143.0,4668.0]}},\"id\":\"83080137-2bf1-40ac-8734-c22d74a5a692\",\"type\":\"ColumnDataSource\"},{\"attributes\":{\"line_color\":{\"value\":\"#df5320\"},\"line_width\":{\"value\":2},\"x\":{\"field\":\"x_values\"},\"y\":{\"field\":\"y_values\"}},\"id\":\"2e614b14-3900-4803-8919-6693c784c3f3\",\"type\":\"Line\"},{\"attributes\":{\"axis_label\":\"Reports to SF311 by Year\",\"formatter\":{\"id\":\"51666683-5d59-412f-ba32-24bec5943d7a\",\"type\":\"BasicTickFormatter\"},\"plot\":{\"id\":\"91ee97eb-be6e-4e2b-b7c6-ad191ba1c63d\",\"subtype\":\"Chart\",\"type\":\"Plot\"},\"ticker\":{\"id\":\"662264ce-1501-4387-b642-42df00137435\",\"type\":\"BasicTicker\"}},\"id\":\"3577b56c-8e5f-475b-b421-cc5f54cd23b6\",\"type\":\"LinearAxis\"},{\"attributes\":{\"line_color\":{\"value\":\"#00ad9c\"},\"line_width\":{\"value\":2},\"x\":{\"field\":\"x_values\"},\"y\":{\"field\":\"y_values\"}},\"id\":\"d3717d81-6150-44ea-ba42-524109c3bd3e\",\"type\":\"Line\"},{\"attributes\":{\"active_drag\":\"auto\",\"active_scroll\":\"auto\",\"active_tap\":\"auto\",\"tools\":[{\"id\":\"df841d4e-f7bf-4b4b-850e-aa41ef98567e\",\"type\":\"PanTool\"},{\"id\":\"4eec9f82-773a-409d-bb34-1175476cecda\",\"type\":\"WheelZoomTool\"},{\"id\":\"a22103a8-bc88-47b5-a381-390f995b0024\",\"type\":\"BoxZoomTool\"},{\"id\":\"cceec738-b230-4776-a632-f29a9776f48e\",\"type\":\"SaveTool\"},{\"id\":\"46738801-c24c-4f02-b974-6275005fb663\",\"type\":\"ResetTool\"},{\"id\":\"520d6c8f-dcab-40e3-8eb6-72e104fe20c0\",\"type\":\"HelpTool\"}]},\"id\":\"4524e8c4-69c1-47d6-8087-eff97415388b\",\"type\":\"Toolbar\"},{\"attributes\":{\"plot\":{\"id\":\"91ee97eb-be6e-4e2b-b7c6-ad191ba1c63d\",\"subtype\":\"Chart\",\"type\":\"Plot\"}},\"id\":\"4eec9f82-773a-409d-bb34-1175476cecda\",\"type\":\"WheelZoomTool\"},{\"attributes\":{\"callback\":null,\"end\":60643.4,\"start\":-5301.400000000001},\"id\":\"4f209980-c6d0-4a58-bf0c-4aa474405b23\",\"type\":\"Range1d\"},{\"attributes\":{\"axis_label\":\"index\",\"formatter\":{\"id\":\"8fec077a-7ab6-4e2e-b1c1-9619c60c18fc\",\"type\":\"CategoricalTickFormatter\"},\"major_label_orientation\":0.7853981633974483,\"plot\":{\"id\":\"91ee97eb-be6e-4e2b-b7c6-ad191ba1c63d\",\"subtype\":\"Chart\",\"type\":\"Plot\"},\"ticker\":{\"id\":\"8ba64ee4-b22d-4683-b2da-43307d53681c\",\"type\":\"CategoricalTicker\"}},\"id\":\"569ddcf8-3d18-4cbc-9868-d6bf00eeb2da\",\"type\":\"CategoricalAxis\"},{\"attributes\":{\"plot\":{\"id\":\"91ee97eb-be6e-4e2b-b7c6-ad191ba1c63d\",\"subtype\":\"Chart\",\"type\":\"Plot\"}},\"id\":\"cceec738-b230-4776-a632-f29a9776f48e\",\"type\":\"SaveTool\"},{\"attributes\":{\"data_source\":{\"id\":\"9bc88812-4860-4acc-864f-24ede76fad7b\",\"type\":\"ColumnDataSource\"},\"glyph\":{\"id\":\"c083ce32-1f56-41ce-9634-24758c6d4603\",\"type\":\"Line\"},\"hover_glyph\":null,\"nonselection_glyph\":null,\"selection_glyph\":null},\"id\":\"fd0f089d-2666-4bdc-ab68-220364eee5e3\",\"type\":\"GlyphRenderer\"},{\"attributes\":{},\"id\":\"662264ce-1501-4387-b642-42df00137435\",\"type\":\"BasicTicker\"},{\"attributes\":{},\"id\":\"8ba64ee4-b22d-4683-b2da-43307d53681c\",\"type\":\"CategoricalTicker\"},{\"attributes\":{\"callback\":null,\"column_names\":[\"y_values\",\"x_values\"],\"data\":{\"chart_index\":[{\"series\":\"Voice In\"},{\"series\":\"Voice In\"},{\"series\":\"Voice In\"},{\"series\":\"Voice In\"}],\"series\":[\"Voice In\",\"Voice In\",\"Voice In\",\"Voice In\"],\"x_values\":[\"2013\",\"2014\",\"2015\",\"2016\"],\"y_values\":[9293.0,7501.0,5636.0,4390.0]}},\"id\":\"ffa27d6d-5c90-44e2-a4fc-e377e87894aa\",\"type\":\"ColumnDataSource\"},{\"attributes\":{\"dimension\":1,\"plot\":{\"id\":\"91ee97eb-be6e-4e2b-b7c6-ad191ba1c63d\",\"subtype\":\"Chart\",\"type\":\"Plot\"},\"ticker\":{\"id\":\"662264ce-1501-4387-b642-42df00137435\",\"type\":\"BasicTicker\"}},\"id\":\"5c3c8af6-a6e7-41ae-b97f-8ed6a7e2425a\",\"type\":\"Grid\"},{\"attributes\":{\"overlay\":{\"id\":\"510e3c32-41a0-4d9b-9863-0d0bc826565f\",\"type\":\"BoxAnnotation\"},\"plot\":{\"id\":\"91ee97eb-be6e-4e2b-b7c6-ad191ba1c63d\",\"subtype\":\"Chart\",\"type\":\"Plot\"}},\"id\":\"a22103a8-bc88-47b5-a381-390f995b0024\",\"type\":\"BoxZoomTool\"},{\"attributes\":{\"label\":{\"value\":\"Open311\"},\"renderers\":[{\"id\":\"617ee740-bac6-4a95-9795-65804fac1773\",\"type\":\"GlyphRenderer\"}]},\"id\":\"9e556577-0f5f-4d1a-811d-de65abda686e\",\"type\":\"LegendItem\"},{\"attributes\":{\"callback\":null,\"column_names\":[\"y_values\",\"x_values\"],\"data\":{\"chart_index\":[{\"series\":\"Integrated Agency\"},{\"series\":\"Integrated Agency\"},{\"series\":\"Integrated Agency\"},{\"series\":\"Integrated Agency\"}],\"series\":[\"Integrated Agency\",\"Integrated Agency\",\"Integrated Agency\",\"Integrated Agency\"],\"x_values\":[\"2013\",\"2014\",\"2015\",\"2016\"],\"y_values\":[9666.0,5493.0,8530.0,7992.0]}},\"id\":\"c04309d5-9984-4876-968c-805f21ee9ead\",\"type\":\"ColumnDataSource\"},{\"attributes\":{\"plot\":{\"id\":\"91ee97eb-be6e-4e2b-b7c6-ad191ba1c63d\",\"subtype\":\"Chart\",\"type\":\"Plot\"},\"ticker\":{\"id\":\"8ba64ee4-b22d-4683-b2da-43307d53681c\",\"type\":\"CategoricalTicker\"}},\"id\":\"82e665b6-525c-4f13-89c6-4a67dd023995\",\"type\":\"Grid\"},{\"attributes\":{\"below\":[{\"id\":\"569ddcf8-3d18-4cbc-9868-d6bf00eeb2da\",\"type\":\"CategoricalAxis\"}],\"left\":[{\"id\":\"3577b56c-8e5f-475b-b421-cc5f54cd23b6\",\"type\":\"LinearAxis\"}],\"renderers\":[{\"id\":\"510e3c32-41a0-4d9b-9863-0d0bc826565f\",\"type\":\"BoxAnnotation\"},{\"id\":\"2212395a-1d9f-4759-881f-502fe7e7fbf5\",\"type\":\"GlyphRenderer\"},{\"id\":\"617ee740-bac6-4a95-9795-65804fac1773\",\"type\":\"GlyphRenderer\"},{\"id\":\"fd0f089d-2666-4bdc-ab68-220364eee5e3\",\"type\":\"GlyphRenderer\"},{\"id\":\"c0e28f9f-dfeb-4b0f-bc8e-5c05253af5db\",\"type\":\"GlyphRenderer\"},{\"id\":\"0eb811c7-b641-496f-a6f9-12f55ffb7a11\",\"type\":\"GlyphRenderer\"},{\"id\":\"4358e58b-0b65-4cbb-83f5-3f389172897c\",\"type\":\"Legend\"},{\"id\":\"569ddcf8-3d18-4cbc-9868-d6bf00eeb2da\",\"type\":\"CategoricalAxis\"},{\"id\":\"3577b56c-8e5f-475b-b421-cc5f54cd23b6\",\"type\":\"LinearAxis\"},{\"id\":\"82e665b6-525c-4f13-89c6-4a67dd023995\",\"type\":\"Grid\"},{\"id\":\"5c3c8af6-a6e7-41ae-b97f-8ed6a7e2425a\",\"type\":\"Grid\"}],\"title\":{\"id\":\"82a973d4-d9ea-4e47-a587-515d7be0ba18\",\"type\":\"Title\"},\"tool_events\":{\"id\":\"3a09ec32-bf69-489a-88ad-0e5a31ef9a48\",\"type\":\"ToolEvents\"},\"toolbar\":{\"id\":\"4524e8c4-69c1-47d6-8087-eff97415388b\",\"type\":\"Toolbar\"},\"x_mapper_type\":\"auto\",\"x_range\":{\"id\":\"9c29b657-c5af-4f94-b222-62da63ea3f53\",\"type\":\"FactorRange\"},\"y_mapper_type\":\"auto\",\"y_range\":{\"id\":\"4f209980-c6d0-4a58-bf0c-4aa474405b23\",\"type\":\"Range1d\"}},\"id\":\"91ee97eb-be6e-4e2b-b7c6-ad191ba1c63d\",\"subtype\":\"Chart\",\"type\":\"Plot\"},{\"attributes\":{\"label\":{\"value\":\"Voice In\"},\"renderers\":[{\"id\":\"c0e28f9f-dfeb-4b0f-bc8e-5c05253af5db\",\"type\":\"GlyphRenderer\"}]},\"id\":\"19a93a7c-c0d7-4090-b9a3-56a7b536bb65\",\"type\":\"LegendItem\"},{\"attributes\":{\"callback\":null,\"factors\":[\"2013\",\"2014\",\"2015\",\"2016\"]},\"id\":\"9c29b657-c5af-4f94-b222-62da63ea3f53\",\"type\":\"FactorRange\"},{\"attributes\":{\"line_color\":{\"value\":\"#407ee7\"},\"line_width\":{\"value\":2},\"x\":{\"field\":\"x_values\"},\"y\":{\"field\":\"y_values\"}},\"id\":\"c083ce32-1f56-41ce-9634-24758c6d4603\",\"type\":\"Line\"},{\"attributes\":{\"items\":[{\"id\":\"f6ed9cfa-bb9d-4a50-8d2c-d09f7981e56c\",\"type\":\"LegendItem\"},{\"id\":\"9e556577-0f5f-4d1a-811d-de65abda686e\",\"type\":\"LegendItem\"},{\"id\":\"20499a3a-11a1-4428-98c2-942e07a28bea\",\"type\":\"LegendItem\"},{\"id\":\"19a93a7c-c0d7-4090-b9a3-56a7b536bb65\",\"type\":\"LegendItem\"},{\"id\":\"49a32584-5bbf-4b8f-89af-49ab1843d8e1\",\"type\":\"LegendItem\"}],\"location\":\"top_left\",\"plot\":{\"id\":\"91ee97eb-be6e-4e2b-b7c6-ad191ba1c63d\",\"subtype\":\"Chart\",\"type\":\"Plot\"}},\"id\":\"4358e58b-0b65-4cbb-83f5-3f389172897c\",\"type\":\"Legend\"},{\"attributes\":{\"plot\":{\"id\":\"91ee97eb-be6e-4e2b-b7c6-ad191ba1c63d\",\"subtype\":\"Chart\",\"type\":\"Plot\"}},\"id\":\"520d6c8f-dcab-40e3-8eb6-72e104fe20c0\",\"type\":\"HelpTool\"},{\"attributes\":{\"plot\":{\"id\":\"91ee97eb-be6e-4e2b-b7c6-ad191ba1c63d\",\"subtype\":\"Chart\",\"type\":\"Plot\"}},\"id\":\"46738801-c24c-4f02-b974-6275005fb663\",\"type\":\"ResetTool\"},{\"attributes\":{\"label\":{\"value\":\"Web Self Service\"},\"renderers\":[{\"id\":\"0eb811c7-b641-496f-a6f9-12f55ffb7a11\",\"type\":\"GlyphRenderer\"}]},\"id\":\"49a32584-5bbf-4b8f-89af-49ab1843d8e1\",\"type\":\"LegendItem\"},{\"attributes\":{\"label\":{\"value\":\"Twitter\"},\"renderers\":[{\"id\":\"fd0f089d-2666-4bdc-ab68-220364eee5e3\",\"type\":\"GlyphRenderer\"}]},\"id\":\"20499a3a-11a1-4428-98c2-942e07a28bea\",\"type\":\"LegendItem\"},{\"attributes\":{\"data_source\":{\"id\":\"07febc4f-9d85-4226-99ea-671377eaed5c\",\"type\":\"ColumnDataSource\"},\"glyph\":{\"id\":\"f4b3d333-58f9-4b12-a935-464d20c53731\",\"type\":\"Line\"},\"hover_glyph\":null,\"nonselection_glyph\":null,\"selection_glyph\":null},\"id\":\"617ee740-bac6-4a95-9795-65804fac1773\",\"type\":\"GlyphRenderer\"},{\"attributes\":{\"data_source\":{\"id\":\"ffa27d6d-5c90-44e2-a4fc-e377e87894aa\",\"type\":\"ColumnDataSource\"},\"glyph\":{\"id\":\"2e614b14-3900-4803-8919-6693c784c3f3\",\"type\":\"Line\"},\"hover_glyph\":null,\"nonselection_glyph\":null,\"selection_glyph\":null},\"id\":\"c0e28f9f-dfeb-4b0f-bc8e-5c05253af5db\",\"type\":\"GlyphRenderer\"},{\"attributes\":{\"callback\":null,\"column_names\":[\"y_values\",\"x_values\"],\"data\":{\"chart_index\":[{\"series\":\"Twitter\"},{\"series\":\"Twitter\"},{\"series\":\"Twitter\"},{\"series\":\"Twitter\"}],\"series\":[\"Twitter\",\"Twitter\",\"Twitter\",\"Twitter\"],\"x_values\":[\"2013\",\"2014\",\"2015\",\"2016\"],\"y_values\":[1512.0,2227.0,202.0,194.0]}},\"id\":\"9bc88812-4860-4acc-864f-24ede76fad7b\",\"type\":\"ColumnDataSource\"},{\"attributes\":{\"data_source\":{\"id\":\"83080137-2bf1-40ac-8734-c22d74a5a692\",\"type\":\"ColumnDataSource\"},\"glyph\":{\"id\":\"d3717d81-6150-44ea-ba42-524109c3bd3e\",\"type\":\"Line\"},\"hover_glyph\":null,\"nonselection_glyph\":null,\"selection_glyph\":null},\"id\":\"0eb811c7-b641-496f-a6f9-12f55ffb7a11\",\"type\":\"GlyphRenderer\"},{\"attributes\":{},\"id\":\"51666683-5d59-412f-ba32-24bec5943d7a\",\"type\":\"BasicTickFormatter\"},{\"attributes\":{\"callback\":null,\"column_names\":[\"y_values\",\"x_values\"],\"data\":{\"chart_index\":[{\"series\":\"Open311\"},{\"series\":\"Open311\"},{\"series\":\"Open311\"},{\"series\":\"Open311\"}],\"series\":[\"Open311\",\"Open311\",\"Open311\",\"Open311\"],\"x_values\":[\"2013\",\"2014\",\"2015\",\"2016\"],\"y_values\":[4030.0,19813.0,38732.0,55148.0]}},\"id\":\"07febc4f-9d85-4226-99ea-671377eaed5c\",\"type\":\"ColumnDataSource\"},{\"attributes\":{},\"id\":\"8fec077a-7ab6-4e2e-b1c1-9619c60c18fc\",\"type\":\"CategoricalTickFormatter\"},{\"attributes\":{\"data_source\":{\"id\":\"c04309d5-9984-4876-968c-805f21ee9ead\",\"type\":\"ColumnDataSource\"},\"glyph\":{\"id\":\"0d56efed-9951-4f9e-9615-c2b24bf574d2\",\"type\":\"Line\"},\"hover_glyph\":null,\"nonselection_glyph\":null,\"selection_glyph\":null},\"id\":\"2212395a-1d9f-4759-881f-502fe7e7fbf5\",\"type\":\"GlyphRenderer\"},{\"attributes\":{\"bottom_units\":\"screen\",\"fill_alpha\":{\"value\":0.5},\"fill_color\":{\"value\":\"lightgrey\"},\"left_units\":\"screen\",\"level\":\"overlay\",\"line_alpha\":{\"value\":1.0},\"line_color\":{\"value\":\"black\"},\"line_dash\":[4,4],\"line_width\":{\"value\":2},\"plot\":null,\"render_mode\":\"css\",\"right_units\":\"screen\",\"top_units\":\"screen\"},\"id\":\"510e3c32-41a0-4d9b-9863-0d0bc826565f\",\"type\":\"BoxAnnotation\"},{\"attributes\":{\"line_color\":{\"value\":\"#f22c40\"},\"line_width\":{\"value\":2},\"x\":{\"field\":\"x_values\"},\"y\":{\"field\":\"y_values\"}},\"id\":\"0d56efed-9951-4f9e-9615-c2b24bf574d2\",\"type\":\"Line\"},{\"attributes\":{\"line_color\":{\"value\":\"#5ab738\"},\"line_width\":{\"value\":2},\"x\":{\"field\":\"x_values\"},\"y\":{\"field\":\"y_values\"}},\"id\":\"f4b3d333-58f9-4b12-a935-464d20c53731\",\"type\":\"Line\"},{\"attributes\":{\"label\":{\"value\":\"Integrated Agency\"},\"renderers\":[{\"id\":\"2212395a-1d9f-4759-881f-502fe7e7fbf5\",\"type\":\"GlyphRenderer\"}]},\"id\":\"f6ed9cfa-bb9d-4a50-8d2c-d09f7981e56c\",\"type\":\"LegendItem\"},{\"attributes\":{},\"id\":\"3a09ec32-bf69-489a-88ad-0e5a31ef9a48\",\"type\":\"ToolEvents\"}],\"root_ids\":[\"91ee97eb-be6e-4e2b-b7c6-ad191ba1c63d\"]},\"title\":\"Bokeh Application\",\"version\":\"0.12.3\"}};\n",
       "            var render_items = [{\"docid\":\"45075fd1-8923-4dfa-9e7d-bc2cc999048c\",\"elementid\":\"9341be23-d401-4279-956d-65cbf1cc6b88\",\"modelid\":\"91ee97eb-be6e-4e2b-b7c6-ad191ba1c63d\"}];\n",
       "            \n",
       "            Bokeh.embed.embed_items(docs_json, render_items);\n",
       "        });\n",
       "      },\n",
       "      function(Bokeh) {\n",
       "      }\n",
       "    ];\n",
       "  \n",
       "    function run_inline_js() {\n",
       "      \n",
       "      if ((window.Bokeh !== undefined) || (force === \"1\")) {\n",
       "        for (var i = 0; i < inline_js.length; i++) {\n",
       "          inline_js[i](window.Bokeh);\n",
       "        }if (force === \"1\") {\n",
       "          display_loaded();\n",
       "        }} else if (Date.now() < window._bokeh_timeout) {\n",
       "        setTimeout(run_inline_js, 100);\n",
       "      } else if (!window._bokeh_failed_load) {\n",
       "        console.log(\"Bokeh: BokehJS failed to load within specified timeout.\");\n",
       "        window._bokeh_failed_load = true;\n",
       "      } else if (!force) {\n",
       "        var cell = $(\"#9341be23-d401-4279-956d-65cbf1cc6b88\").parents('.cell').data().cell;\n",
       "        cell.output_area.append_execute_result(NB_LOAD_WARNING)\n",
       "      }\n",
       "  \n",
       "    }\n",
       "  \n",
       "    if (window._bokeh_is_loading === 0) {\n",
       "      console.log(\"Bokeh: BokehJS loaded, going straight to plotting\");\n",
       "      run_inline_js();\n",
       "    } else {\n",
       "      load_libs(js_urls, function() {\n",
       "        console.log(\"Bokeh: BokehJS plotting callback run at\", now());\n",
       "        run_inline_js();\n",
       "      });\n",
       "    }\n",
       "  }(this));\n",
       "</script>"
      ]
     },
     "metadata": {},
     "output_type": "display_data"
    }
   ],
   "source": [
    "import numpy as np\n",
    "from bokeh.charts import Line, output_file, show\n",
    "\n",
    "# (dict, OrderedDict, lists, arrays and DataFrames are valid inputs)\n",
    "#xyvalues = np.array([[2, 3, 7, 5, 26], [12, 33, 47, 15, 126], [22, 43, 10, 25, 26]])\n",
    "xyvalues = df2\n",
    "line = Line(xyvalues, title=\"line\", legend=\"top_left\", ylabel='Reports to SF311 by Year')\n",
    "\n",
    "output_file('line.html')\n",
    "show(line)"
   ]
  },
  {
   "cell_type": "code",
   "execution_count": null,
   "metadata": {
    "collapsed": true
   },
   "outputs": [],
   "source": []
  },
  {
   "cell_type": "markdown",
   "metadata": {
    "collapsed": true
   },
   "source": [
    "# Analysis by Source, grab new dataframe by constructing SQL query to API\n"
   ]
  },
  {
   "cell_type": "markdown",
   "metadata": {
    "collapsed": true
   },
   "source": [
    "# SQL the Responsible Agency"
   ]
  },
  {
   "cell_type": "code",
   "execution_count": 18,
   "metadata": {
    "collapsed": true
   },
   "outputs": [],
   "source": [
    "#url = 'https://data.sfgov.org/resource/qer8-n8u9.csv?$select=responsible_agency,date_trunc_y(opened)as%20year,%20count(*)&$order=year&$group=year,responsible_agency'#\n",
    "#url = 'https://data.sfgov.org/resource/qer8-n8u9.csv?$select=responsible_agency,date_trunc_y(opened)as%20year,%20count(*)&$order=year&$group=year,responsible_agency'\n",
    "url = 'https://data.sfgov.org/resource/qer8-n8u9.csv?$select=responsible_agency,category,date_trunc_y(opened)as%20year,%20count(*)&$order=year&$group=year,category,responsible_agency'"
   ]
  },
  {
   "cell_type": "code",
   "execution_count": 19,
   "metadata": {
    "collapsed": false
   },
   "outputs": [
    {
     "name": "stdout",
     "output_type": "stream",
     "text": [
      "https://data.sfgov.org/resource/qer8-n8u9.csv?$select=responsible_agency,category,date_trunc_y(opened)as%20year,%20count(*)&$order=year&$group=year,category,responsible_agency\n"
     ]
    }
   ],
   "source": [
    "print(url)"
   ]
  },
  {
   "cell_type": "code",
   "execution_count": 20,
   "metadata": {
    "collapsed": false
   },
   "outputs": [
    {
     "name": "stderr",
     "output_type": "stream",
     "text": [
      "/home/gdillon/.local/lib/python3.5/site-packages/ipykernel/__main__.py:3: FutureWarning: currently extract(expand=None) means expand=False (return Index/Series/DataFrame) but in a future version of pandas this will be changed to expand=True (return DataFrame)\n",
      "  app.launch_new_instance()\n"
     ]
    },
    {
     "data": {
      "text/html": [
       "<div>\n",
       "<table border=\"1\" class=\"dataframe\">\n",
       "  <thead>\n",
       "    <tr style=\"text-align: right;\">\n",
       "      <th></th>\n",
       "      <th>Responsible Agency</th>\n",
       "      <th>Category</th>\n",
       "      <th>year</th>\n",
       "      <th>count</th>\n",
       "    </tr>\n",
       "  </thead>\n",
       "  <tbody>\n",
       "    <tr>\n",
       "      <th>570</th>\n",
       "      <td>DPW BSM Queue</td>\n",
       "      <td>Graffiti Private Property</td>\n",
       "      <td>2016</td>\n",
       "      <td>260</td>\n",
       "    </tr>\n",
       "    <tr>\n",
       "      <th>571</th>\n",
       "      <td>SFMTA - Muni System Feedback Queue</td>\n",
       "      <td>Graffiti Public Property</td>\n",
       "      <td>2016</td>\n",
       "      <td>233</td>\n",
       "    </tr>\n",
       "    <tr>\n",
       "      <th>572</th>\n",
       "      <td>DPT Paint Shop Queue</td>\n",
       "      <td>Graffiti Private Property</td>\n",
       "      <td>2016</td>\n",
       "      <td>24</td>\n",
       "    </tr>\n",
       "    <tr>\n",
       "      <th>573</th>\n",
       "      <td>311 Service Request Queue - Hold</td>\n",
       "      <td>Graffiti Private Property</td>\n",
       "      <td>2016</td>\n",
       "      <td>76</td>\n",
       "    </tr>\n",
       "    <tr>\n",
       "      <th>574</th>\n",
       "      <td>Clear Channel - Transit Queue</td>\n",
       "      <td>Graffiti Private Property</td>\n",
       "      <td>2016</td>\n",
       "      <td>29</td>\n",
       "    </tr>\n",
       "    <tr>\n",
       "      <th>575</th>\n",
       "      <td>PUC - Water - Graffiti Queue</td>\n",
       "      <td>Graffiti Public Property</td>\n",
       "      <td>2016</td>\n",
       "      <td>473</td>\n",
       "    </tr>\n",
       "    <tr>\n",
       "      <th>576</th>\n",
       "      <td>DPT SignShop Unknown Queue</td>\n",
       "      <td>Graffiti Public Property</td>\n",
       "      <td>2016</td>\n",
       "      <td>30</td>\n",
       "    </tr>\n",
       "    <tr>\n",
       "      <th>577</th>\n",
       "      <td>DPT - Bicycle - G</td>\n",
       "      <td>Graffiti Public Property</td>\n",
       "      <td>2016</td>\n",
       "      <td>1</td>\n",
       "    </tr>\n",
       "    <tr>\n",
       "      <th>578</th>\n",
       "      <td>DPT SignShop 05 Queue</td>\n",
       "      <td>Graffiti Public Property</td>\n",
       "      <td>2016</td>\n",
       "      <td>459</td>\n",
       "    </tr>\n",
       "    <tr>\n",
       "      <th>579</th>\n",
       "      <td>DPT SignShop 02 Queue</td>\n",
       "      <td>Graffiti Public Property</td>\n",
       "      <td>2016</td>\n",
       "      <td>69</td>\n",
       "    </tr>\n",
       "    <tr>\n",
       "      <th>580</th>\n",
       "      <td>DPT SignShop 08 Queue</td>\n",
       "      <td>Graffiti Public Property</td>\n",
       "      <td>2016</td>\n",
       "      <td>286</td>\n",
       "    </tr>\n",
       "    <tr>\n",
       "      <th>581</th>\n",
       "      <td>311 Supervisor Queue</td>\n",
       "      <td>Graffiti Public Property</td>\n",
       "      <td>2016</td>\n",
       "      <td>1423</td>\n",
       "    </tr>\n",
       "    <tr>\n",
       "      <th>582</th>\n",
       "      <td>PG and E - Streetlights Queue</td>\n",
       "      <td>Graffiti Public Property</td>\n",
       "      <td>2016</td>\n",
       "      <td>105</td>\n",
       "    </tr>\n",
       "    <tr>\n",
       "      <th>583</th>\n",
       "      <td>Port Authority - G</td>\n",
       "      <td>Graffiti Private Property</td>\n",
       "      <td>2016</td>\n",
       "      <td>6</td>\n",
       "    </tr>\n",
       "    <tr>\n",
       "      <th>584</th>\n",
       "      <td>RPD Graffiti Queue</td>\n",
       "      <td>Graffiti Public Property</td>\n",
       "      <td>2016</td>\n",
       "      <td>142</td>\n",
       "    </tr>\n",
       "    <tr>\n",
       "      <th>585</th>\n",
       "      <td>DPT SignShop 01 Queue</td>\n",
       "      <td>Graffiti Public Property</td>\n",
       "      <td>2016</td>\n",
       "      <td>152</td>\n",
       "    </tr>\n",
       "    <tr>\n",
       "      <th>586</th>\n",
       "      <td>Clear Channel - Transit Queue</td>\n",
       "      <td>Graffiti Public Property</td>\n",
       "      <td>2016</td>\n",
       "      <td>3933</td>\n",
       "    </tr>\n",
       "    <tr>\n",
       "      <th>587</th>\n",
       "      <td>DPT Meter_Bike Queue</td>\n",
       "      <td>Graffiti Public Property</td>\n",
       "      <td>2016</td>\n",
       "      <td>3132</td>\n",
       "    </tr>\n",
       "    <tr>\n",
       "      <th>588</th>\n",
       "      <td>US Postal Service Maintenance Queue</td>\n",
       "      <td>Graffiti Public Property</td>\n",
       "      <td>2016</td>\n",
       "      <td>5242</td>\n",
       "    </tr>\n",
       "    <tr>\n",
       "      <th>589</th>\n",
       "      <td>DPW Ops Queue</td>\n",
       "      <td>Graffiti Private Property</td>\n",
       "      <td>2016</td>\n",
       "      <td>26730</td>\n",
       "    </tr>\n",
       "    <tr>\n",
       "      <th>590</th>\n",
       "      <td>DPW BSM Queue</td>\n",
       "      <td>Graffiti Public Property</td>\n",
       "      <td>2016</td>\n",
       "      <td>1913</td>\n",
       "    </tr>\n",
       "    <tr>\n",
       "      <th>591</th>\n",
       "      <td>311 Service Request Queue - Hold</td>\n",
       "      <td>Graffiti Public Property</td>\n",
       "      <td>2016</td>\n",
       "      <td>2190</td>\n",
       "    </tr>\n",
       "    <tr>\n",
       "      <th>592</th>\n",
       "      <td>DPT SignShop 03 Queue</td>\n",
       "      <td>Graffiti Public Property</td>\n",
       "      <td>2016</td>\n",
       "      <td>88</td>\n",
       "    </tr>\n",
       "    <tr>\n",
       "      <th>593</th>\n",
       "      <td>DPW Ops Queue</td>\n",
       "      <td>Graffiti Public Property</td>\n",
       "      <td>2016</td>\n",
       "      <td>21133</td>\n",
       "    </tr>\n",
       "  </tbody>\n",
       "</table>\n",
       "</div>"
      ],
      "text/plain": [
       "                      Responsible Agency                   Category  year  \\\n",
       "570                        DPW BSM Queue  Graffiti Private Property  2016   \n",
       "571   SFMTA - Muni System Feedback Queue   Graffiti Public Property  2016   \n",
       "572                 DPT Paint Shop Queue  Graffiti Private Property  2016   \n",
       "573     311 Service Request Queue - Hold  Graffiti Private Property  2016   \n",
       "574        Clear Channel - Transit Queue  Graffiti Private Property  2016   \n",
       "575         PUC - Water - Graffiti Queue   Graffiti Public Property  2016   \n",
       "576           DPT SignShop Unknown Queue   Graffiti Public Property  2016   \n",
       "577                    DPT - Bicycle - G   Graffiti Public Property  2016   \n",
       "578                DPT SignShop 05 Queue   Graffiti Public Property  2016   \n",
       "579                DPT SignShop 02 Queue   Graffiti Public Property  2016   \n",
       "580                DPT SignShop 08 Queue   Graffiti Public Property  2016   \n",
       "581                 311 Supervisor Queue   Graffiti Public Property  2016   \n",
       "582        PG and E - Streetlights Queue   Graffiti Public Property  2016   \n",
       "583                   Port Authority - G  Graffiti Private Property  2016   \n",
       "584                   RPD Graffiti Queue   Graffiti Public Property  2016   \n",
       "585                DPT SignShop 01 Queue   Graffiti Public Property  2016   \n",
       "586        Clear Channel - Transit Queue   Graffiti Public Property  2016   \n",
       "587                 DPT Meter_Bike Queue   Graffiti Public Property  2016   \n",
       "588  US Postal Service Maintenance Queue   Graffiti Public Property  2016   \n",
       "589                        DPW Ops Queue  Graffiti Private Property  2016   \n",
       "590                        DPW BSM Queue   Graffiti Public Property  2016   \n",
       "591     311 Service Request Queue - Hold   Graffiti Public Property  2016   \n",
       "592                DPT SignShop 03 Queue   Graffiti Public Property  2016   \n",
       "593                        DPW Ops Queue   Graffiti Public Property  2016   \n",
       "\n",
       "     count  \n",
       "570    260  \n",
       "571    233  \n",
       "572     24  \n",
       "573     76  \n",
       "574     29  \n",
       "575    473  \n",
       "576     30  \n",
       "577      1  \n",
       "578    459  \n",
       "579     69  \n",
       "580    286  \n",
       "581   1423  \n",
       "582    105  \n",
       "583      6  \n",
       "584    142  \n",
       "585    152  \n",
       "586   3933  \n",
       "587   3132  \n",
       "588   5242  \n",
       "589  26730  \n",
       "590   1913  \n",
       "591   2190  \n",
       "592     88  \n",
       "593  21133  "
      ]
     },
     "execution_count": 20,
     "metadata": {},
     "output_type": "execute_result"
    }
   ],
   "source": [
    "df=pd.read_csv(url)\n",
    "df=df[18:]\n",
    "df['year']=df['year'].str.extract('(?P<year>\\d{4})').astype(str)\n",
    "#df['count']=df['count'].astype(int)\n",
    "pd.to_numeric(df['count'])\n",
    "df=df[:-1]\n",
    "df.tail(24)"
   ]
  },
  {
   "cell_type": "code",
   "execution_count": 21,
   "metadata": {
    "collapsed": false
   },
   "outputs": [
    {
     "data": {
      "text/html": [
       "<div>\n",
       "<table border=\"1\" class=\"dataframe\">\n",
       "  <thead>\n",
       "    <tr style=\"text-align: right;\">\n",
       "      <th></th>\n",
       "      <th>Responsible Agency</th>\n",
       "      <th>Category</th>\n",
       "      <th>year</th>\n",
       "      <th>count</th>\n",
       "    </tr>\n",
       "  </thead>\n",
       "  <tbody>\n",
       "    <tr>\n",
       "      <th>421</th>\n",
       "      <td>DPT SignShop Surveyed - Area 1 Queue</td>\n",
       "      <td>Graffiti Public Property</td>\n",
       "      <td>2015</td>\n",
       "      <td>544</td>\n",
       "    </tr>\n",
       "    <tr>\n",
       "      <th>430</th>\n",
       "      <td>Clear Channel - Transit Queue</td>\n",
       "      <td>Graffiti Public Property</td>\n",
       "      <td>2015</td>\n",
       "      <td>2511</td>\n",
       "    </tr>\n",
       "    <tr>\n",
       "      <th>432</th>\n",
       "      <td>DPT Meter_Bike Queue</td>\n",
       "      <td>Graffiti Public Property</td>\n",
       "      <td>2015</td>\n",
       "      <td>3092</td>\n",
       "    </tr>\n",
       "    <tr>\n",
       "      <th>433</th>\n",
       "      <td>US Postal Service Maintenance Queue</td>\n",
       "      <td>Graffiti Public Property</td>\n",
       "      <td>2015</td>\n",
       "      <td>1624</td>\n",
       "    </tr>\n",
       "    <tr>\n",
       "      <th>586</th>\n",
       "      <td>Clear Channel - Transit Queue</td>\n",
       "      <td>Graffiti Public Property</td>\n",
       "      <td>2016</td>\n",
       "      <td>3933</td>\n",
       "    </tr>\n",
       "    <tr>\n",
       "      <th>587</th>\n",
       "      <td>DPT Meter_Bike Queue</td>\n",
       "      <td>Graffiti Public Property</td>\n",
       "      <td>2016</td>\n",
       "      <td>3132</td>\n",
       "    </tr>\n",
       "    <tr>\n",
       "      <th>588</th>\n",
       "      <td>US Postal Service Maintenance Queue</td>\n",
       "      <td>Graffiti Public Property</td>\n",
       "      <td>2016</td>\n",
       "      <td>5242</td>\n",
       "    </tr>\n",
       "  </tbody>\n",
       "</table>\n",
       "</div>"
      ],
      "text/plain": [
       "                       Responsible Agency                  Category  year  \\\n",
       "421  DPT SignShop Surveyed - Area 1 Queue  Graffiti Public Property  2015   \n",
       "430         Clear Channel - Transit Queue  Graffiti Public Property  2015   \n",
       "432                  DPT Meter_Bike Queue  Graffiti Public Property  2015   \n",
       "433   US Postal Service Maintenance Queue  Graffiti Public Property  2015   \n",
       "586         Clear Channel - Transit Queue  Graffiti Public Property  2016   \n",
       "587                  DPT Meter_Bike Queue  Graffiti Public Property  2016   \n",
       "588   US Postal Service Maintenance Queue  Graffiti Public Property  2016   \n",
       "\n",
       "     count  \n",
       "421    544  \n",
       "430   2511  \n",
       "432   3092  \n",
       "433   1624  \n",
       "586   3933  \n",
       "587   3132  \n",
       "588   5242  "
      ]
     },
     "execution_count": 21,
     "metadata": {},
     "output_type": "execute_result"
    }
   ],
   "source": [
    "df = df[df.Category == 'Graffiti Public Property']\n",
    "#df = df[df.year == '2016']\n",
    "df = df[(df.year == '2015') | (df.year == '2016')  ]\n",
    "df = df[df['count'] >=500]\n",
    "#df = df[df['Responsible Agency'].str.contains('DPT')]\n",
    "df = df[-df['Responsible Agency'].str.contains('311')]\n",
    "df = df[-df['Responsible Agency'].str.contains('PUC')]\n",
    "df = df[-df['Responsible Agency'].str.contains('DPW')]\n",
    "\n",
    "df"
   ]
  },
  {
   "cell_type": "code",
   "execution_count": 22,
   "metadata": {
    "collapsed": true
   },
   "outputs": [],
   "source": [
    "df['count'] = df['count'].apply(pd.to_numeric)"
   ]
  },
  {
   "cell_type": "code",
   "execution_count": 23,
   "metadata": {
    "collapsed": true
   },
   "outputs": [],
   "source": [
    "df = df[df['count'] >= 800]\n"
   ]
  },
  {
   "cell_type": "code",
   "execution_count": 24,
   "metadata": {
    "collapsed": false
   },
   "outputs": [
    {
     "data": {
      "text/html": [
       "<div>\n",
       "<table border=\"1\" class=\"dataframe\">\n",
       "  <thead>\n",
       "    <tr style=\"text-align: right;\">\n",
       "      <th>Responsible Agency</th>\n",
       "      <th>Clear Channel - Transit Queue</th>\n",
       "      <th>DPT Meter_Bike Queue</th>\n",
       "      <th>US Postal Service Maintenance Queue</th>\n",
       "    </tr>\n",
       "    <tr>\n",
       "      <th>year</th>\n",
       "      <th></th>\n",
       "      <th></th>\n",
       "      <th></th>\n",
       "    </tr>\n",
       "  </thead>\n",
       "  <tbody>\n",
       "    <tr>\n",
       "      <th>2015</th>\n",
       "      <td>2511</td>\n",
       "      <td>3092</td>\n",
       "      <td>1624</td>\n",
       "    </tr>\n",
       "    <tr>\n",
       "      <th>2016</th>\n",
       "      <td>3933</td>\n",
       "      <td>3132</td>\n",
       "      <td>5242</td>\n",
       "    </tr>\n",
       "  </tbody>\n",
       "</table>\n",
       "</div>"
      ],
      "text/plain": [
       "Responsible Agency  Clear Channel - Transit Queue  DPT Meter_Bike Queue  \\\n",
       "year                                                                      \n",
       "2015                                         2511                  3092   \n",
       "2016                                         3933                  3132   \n",
       "\n",
       "Responsible Agency  US Postal Service Maintenance Queue  \n",
       "year                                                     \n",
       "2015                                               1624  \n",
       "2016                                               5242  "
      ]
     },
     "execution_count": 24,
     "metadata": {},
     "output_type": "execute_result"
    }
   ],
   "source": [
    "df2 =pd.pivot_table(\n",
    "  df,values='count',\n",
    "  index=['year'], \n",
    "  columns=['Responsible Agency'],\n",
    "  aggfunc=np.sum) \n",
    "df2"
   ]
  },
  {
   "cell_type": "code",
   "execution_count": 25,
   "metadata": {
    "collapsed": false
   },
   "outputs": [
    {
     "data": {
      "text/plain": [
       "(6, 4)"
      ]
     },
     "execution_count": 25,
     "metadata": {},
     "output_type": "execute_result"
    }
   ],
   "source": [
    "df.shape"
   ]
  },
  {
   "cell_type": "code",
   "execution_count": 26,
   "metadata": {
    "collapsed": false
   },
   "outputs": [
    {
     "name": "stderr",
     "output_type": "stream",
     "text": [
      "INFO:bokeh.core.state:Session output file 'line.html' already exists, will be overwritten.\n"
     ]
    },
    {
     "data": {
      "text/html": [
       "\n",
       "\n",
       "    <div class=\"bk-root\">\n",
       "        <div class=\"plotdiv\" id=\"4a7a43c0-9f74-4680-9f8c-172c5c0846aa\"></div>\n",
       "    </div>\n",
       "<script type=\"text/javascript\">\n",
       "  \n",
       "  (function(global) {\n",
       "    function now() {\n",
       "      return new Date();\n",
       "    }\n",
       "  \n",
       "    var force = \"\";\n",
       "  \n",
       "    if (typeof (window._bokeh_onload_callbacks) === \"undefined\" || force !== \"\") {\n",
       "      window._bokeh_onload_callbacks = [];\n",
       "      window._bokeh_is_loading = undefined;\n",
       "    }\n",
       "  \n",
       "  \n",
       "    \n",
       "    if (typeof (window._bokeh_timeout) === \"undefined\" || force !== \"\") {\n",
       "      window._bokeh_timeout = Date.now() + 0;\n",
       "      window._bokeh_failed_load = false;\n",
       "    }\n",
       "  \n",
       "    var NB_LOAD_WARNING = {'data': {'text/html':\n",
       "       \"<div style='background-color: #fdd'>\\n\"+\n",
       "       \"<p>\\n\"+\n",
       "       \"BokehJS does not appear to have successfully loaded. If loading BokehJS from CDN, this \\n\"+\n",
       "       \"may be due to a slow or bad network connection. Possible fixes:\\n\"+\n",
       "       \"</p>\\n\"+\n",
       "       \"<ul>\\n\"+\n",
       "       \"<li>re-rerun `output_notebook()` to attempt to load from CDN again, or</li>\\n\"+\n",
       "       \"<li>use INLINE resources instead, as so:</li>\\n\"+\n",
       "       \"</ul>\\n\"+\n",
       "       \"<code>\\n\"+\n",
       "       \"from bokeh.resources import INLINE\\n\"+\n",
       "       \"output_notebook(resources=INLINE)\\n\"+\n",
       "       \"</code>\\n\"+\n",
       "       \"</div>\"}};\n",
       "  \n",
       "    function display_loaded() {\n",
       "      if (window.Bokeh !== undefined) {\n",
       "        Bokeh.$(\"#4a7a43c0-9f74-4680-9f8c-172c5c0846aa\").text(\"BokehJS successfully loaded.\");\n",
       "      } else if (Date.now() < window._bokeh_timeout) {\n",
       "        setTimeout(display_loaded, 100)\n",
       "      }\n",
       "    }\n",
       "  \n",
       "    function run_callbacks() {\n",
       "      window._bokeh_onload_callbacks.forEach(function(callback) { callback() });\n",
       "      delete window._bokeh_onload_callbacks\n",
       "      console.info(\"Bokeh: all callbacks have finished\");\n",
       "    }\n",
       "  \n",
       "    function load_libs(js_urls, callback) {\n",
       "      window._bokeh_onload_callbacks.push(callback);\n",
       "      if (window._bokeh_is_loading > 0) {\n",
       "        console.log(\"Bokeh: BokehJS is being loaded, scheduling callback at\", now());\n",
       "        return null;\n",
       "      }\n",
       "      if (js_urls == null || js_urls.length === 0) {\n",
       "        run_callbacks();\n",
       "        return null;\n",
       "      }\n",
       "      console.log(\"Bokeh: BokehJS not loaded, scheduling load and callback at\", now());\n",
       "      window._bokeh_is_loading = js_urls.length;\n",
       "      for (var i = 0; i < js_urls.length; i++) {\n",
       "        var url = js_urls[i];\n",
       "        var s = document.createElement('script');\n",
       "        s.src = url;\n",
       "        s.async = false;\n",
       "        s.onreadystatechange = s.onload = function() {\n",
       "          window._bokeh_is_loading--;\n",
       "          if (window._bokeh_is_loading === 0) {\n",
       "            console.log(\"Bokeh: all BokehJS libraries loaded\");\n",
       "            run_callbacks()\n",
       "          }\n",
       "        };\n",
       "        s.onerror = function() {\n",
       "          console.warn(\"failed to load library \" + url);\n",
       "        };\n",
       "        console.log(\"Bokeh: injecting script tag for BokehJS library: \", url);\n",
       "        document.getElementsByTagName(\"head\")[0].appendChild(s);\n",
       "      }\n",
       "    };var element = document.getElementById(\"4a7a43c0-9f74-4680-9f8c-172c5c0846aa\");\n",
       "    if (element == null) {\n",
       "      console.log(\"Bokeh: ERROR: autoload.js configured with elementid '4a7a43c0-9f74-4680-9f8c-172c5c0846aa' but no matching script tag was found. \")\n",
       "      return false;\n",
       "    }\n",
       "  \n",
       "    var js_urls = [];\n",
       "  \n",
       "    var inline_js = [\n",
       "      function(Bokeh) {\n",
       "        Bokeh.$(function() {\n",
       "            var docs_json = {\"77fdb149-38c7-44bd-851e-6526a1f24765\":{\"roots\":{\"references\":[{\"attributes\":{\"overlay\":{\"id\":\"d08889e6-2e50-4f80-8171-f8cb7042a6e1\",\"type\":\"BoxAnnotation\"},\"plot\":{\"id\":\"7712307a-ccbe-485d-8ed8-a22352c141c2\",\"subtype\":\"Chart\",\"type\":\"Plot\"}},\"id\":\"1178982a-01b8-4e0e-9255-177d0108cc26\",\"type\":\"BoxZoomTool\"},{\"attributes\":{\"data_source\":{\"id\":\"d8655dfc-5f36-45fd-91c5-93c0e963814a\",\"type\":\"ColumnDataSource\"},\"glyph\":{\"id\":\"7717b8f8-4720-440a-a4f0-87fa39ae9aba\",\"type\":\"Line\"},\"hover_glyph\":null,\"nonselection_glyph\":null,\"selection_glyph\":null},\"id\":\"94721148-4380-49bb-9035-6b6c6ef94390\",\"type\":\"GlyphRenderer\"},{\"attributes\":{\"label\":{\"value\":\"US Postal Service Maintenance Queue\"},\"renderers\":[{\"id\":\"94721148-4380-49bb-9035-6b6c6ef94390\",\"type\":\"GlyphRenderer\"}]},\"id\":\"6ce92b44-8631-4d84-8e24-002ff799b041\",\"type\":\"LegendItem\"},{\"attributes\":{\"axis_label\":\"Year to Year\",\"formatter\":{\"id\":\"7f5981be-837a-4ac1-b84e-d6305a4a1f90\",\"type\":\"CategoricalTickFormatter\"},\"major_label_orientation\":0.7853981633974483,\"plot\":{\"id\":\"7712307a-ccbe-485d-8ed8-a22352c141c2\",\"subtype\":\"Chart\",\"type\":\"Plot\"},\"ticker\":{\"id\":\"0b93a733-1f6d-440e-8c67-ec6ec4b33153\",\"type\":\"CategoricalTicker\"}},\"id\":\"03bdb4c5-4d11-4c63-9d9b-24b7dfffbe33\",\"type\":\"CategoricalAxis\"},{\"attributes\":{\"plot\":{\"id\":\"7712307a-ccbe-485d-8ed8-a22352c141c2\",\"subtype\":\"Chart\",\"type\":\"Plot\"},\"ticker\":{\"id\":\"0b93a733-1f6d-440e-8c67-ec6ec4b33153\",\"type\":\"CategoricalTicker\"}},\"id\":\"a83428a6-c406-4a01-b839-8e524142fc2a\",\"type\":\"Grid\"},{\"attributes\":{\"data_source\":{\"id\":\"74d1abdc-15d1-4fe4-a08d-a008c11d1edb\",\"type\":\"ColumnDataSource\"},\"glyph\":{\"id\":\"01674c0b-efff-4293-a8e5-dbb8b5ba722d\",\"type\":\"Line\"},\"hover_glyph\":null,\"nonselection_glyph\":null,\"selection_glyph\":null},\"id\":\"a77bd759-18b0-4367-be75-41a76461893f\",\"type\":\"GlyphRenderer\"},{\"attributes\":{\"items\":[{\"id\":\"fad6159d-bc43-4ac6-bd59-4c539a5783f1\",\"type\":\"LegendItem\"},{\"id\":\"d62f5de2-8de9-4839-ace4-6663b6430bb4\",\"type\":\"LegendItem\"},{\"id\":\"6ce92b44-8631-4d84-8e24-002ff799b041\",\"type\":\"LegendItem\"}],\"location\":\"top_left\",\"plot\":{\"id\":\"7712307a-ccbe-485d-8ed8-a22352c141c2\",\"subtype\":\"Chart\",\"type\":\"Plot\"}},\"id\":\"7a835662-059e-4e47-a377-524ef2771e57\",\"type\":\"Legend\"},{\"attributes\":{},\"id\":\"7f5981be-837a-4ac1-b84e-d6305a4a1f90\",\"type\":\"CategoricalTickFormatter\"},{\"attributes\":{\"plot\":{\"id\":\"7712307a-ccbe-485d-8ed8-a22352c141c2\",\"subtype\":\"Chart\",\"type\":\"Plot\"}},\"id\":\"3dbc2555-548b-4bdc-9d3d-a33f8f0c3f62\",\"type\":\"PanTool\"},{\"attributes\":{\"label\":{\"value\":\"DPT Meter_Bike Queue\"},\"renderers\":[{\"id\":\"a77bd759-18b0-4367-be75-41a76461893f\",\"type\":\"GlyphRenderer\"}]},\"id\":\"d62f5de2-8de9-4839-ace4-6663b6430bb4\",\"type\":\"LegendItem\"},{\"attributes\":{\"data_source\":{\"id\":\"e5496133-b654-4c7c-8435-736d46bd8e65\",\"type\":\"ColumnDataSource\"},\"glyph\":{\"id\":\"75f158fb-5332-46ca-a229-c3d967346882\",\"type\":\"Line\"},\"hover_glyph\":null,\"nonselection_glyph\":null,\"selection_glyph\":null},\"id\":\"a3b9401b-e140-4c80-a744-71d78638ed0c\",\"type\":\"GlyphRenderer\"},{\"attributes\":{\"callback\":null,\"factors\":[\"2015\",\"2016\"]},\"id\":\"1c2b3caf-697f-4978-bef6-4fe6a08763fd\",\"type\":\"FactorRange\"},{\"attributes\":{\"plot\":{\"id\":\"7712307a-ccbe-485d-8ed8-a22352c141c2\",\"subtype\":\"Chart\",\"type\":\"Plot\"}},\"id\":\"fafa6e15-c9d7-4178-89bc-89cdd9249e4d\",\"type\":\"ResetTool\"},{\"attributes\":{\"callback\":null,\"column_names\":[\"y_values\",\"x_values\"],\"data\":{\"chart_index\":[{\"series\":\"Clear Channel - Transit Queue\"},{\"series\":\"Clear Channel - Transit Queue\"}],\"series\":[\"Clear Channel - Transit Queue\",\"Clear Channel - Transit Queue\"],\"x_values\":[\"2015\",\"2016\"],\"y_values\":[2511,3933]}},\"id\":\"e5496133-b654-4c7c-8435-736d46bd8e65\",\"type\":\"ColumnDataSource\"},{\"attributes\":{},\"id\":\"d1c7c16f-f249-4ad3-be6f-91c4a8a44626\",\"type\":\"BasicTicker\"},{\"attributes\":{},\"id\":\"842e6da0-ac07-4af7-aa88-bf25b02ad86b\",\"type\":\"ToolEvents\"},{\"attributes\":{\"plot\":null,\"text\":\"line\"},\"id\":\"b7b7e103-5bf4-44bf-b2e6-927d864351a3\",\"type\":\"Title\"},{\"attributes\":{\"callback\":null,\"column_names\":[\"y_values\",\"x_values\"],\"data\":{\"chart_index\":[{\"series\":\"DPT Meter_Bike Queue\"},{\"series\":\"DPT Meter_Bike Queue\"}],\"series\":[\"DPT Meter_Bike Queue\",\"DPT Meter_Bike Queue\"],\"x_values\":[\"2015\",\"2016\"],\"y_values\":[3092,3132]}},\"id\":\"74d1abdc-15d1-4fe4-a08d-a008c11d1edb\",\"type\":\"ColumnDataSource\"},{\"attributes\":{\"dimension\":1,\"plot\":{\"id\":\"7712307a-ccbe-485d-8ed8-a22352c141c2\",\"subtype\":\"Chart\",\"type\":\"Plot\"},\"ticker\":{\"id\":\"d1c7c16f-f249-4ad3-be6f-91c4a8a44626\",\"type\":\"BasicTicker\"}},\"id\":\"85175232-7bb4-48d7-8887-9b1cb647a2e9\",\"type\":\"Grid\"},{\"attributes\":{\"plot\":{\"id\":\"7712307a-ccbe-485d-8ed8-a22352c141c2\",\"subtype\":\"Chart\",\"type\":\"Plot\"}},\"id\":\"4c5fe8bd-86d6-41ad-8b32-b71ce156d585\",\"type\":\"SaveTool\"},{\"attributes\":{\"line_color\":{\"value\":\"#f22c40\"},\"line_width\":{\"value\":2},\"x\":{\"field\":\"x_values\"},\"y\":{\"field\":\"y_values\"}},\"id\":\"75f158fb-5332-46ca-a229-c3d967346882\",\"type\":\"Line\"},{\"attributes\":{\"line_color\":{\"value\":\"#407ee7\"},\"line_width\":{\"value\":2},\"x\":{\"field\":\"x_values\"},\"y\":{\"field\":\"y_values\"}},\"id\":\"7717b8f8-4720-440a-a4f0-87fa39ae9aba\",\"type\":\"Line\"},{\"attributes\":{\"callback\":null,\"end\":5603.8,\"start\":1262.2},\"id\":\"3ad6f96e-10a4-4090-a164-c0e31d33e951\",\"type\":\"Range1d\"},{\"attributes\":{},\"id\":\"0b93a733-1f6d-440e-8c67-ec6ec4b33153\",\"type\":\"CategoricalTicker\"},{\"attributes\":{},\"id\":\"dbc419d4-47f3-4ab5-8dee-0bd3a9bb0930\",\"type\":\"BasicTickFormatter\"},{\"attributes\":{\"plot\":{\"id\":\"7712307a-ccbe-485d-8ed8-a22352c141c2\",\"subtype\":\"Chart\",\"type\":\"Plot\"}},\"id\":\"266e0007-57c1-468f-a4e9-aef176d569dc\",\"type\":\"WheelZoomTool\"},{\"attributes\":{\"below\":[{\"id\":\"03bdb4c5-4d11-4c63-9d9b-24b7dfffbe33\",\"type\":\"CategoricalAxis\"}],\"left\":[{\"id\":\"9f470c5a-6616-4a25-910e-1ea2e27c9da0\",\"type\":\"LinearAxis\"}],\"renderers\":[{\"id\":\"d08889e6-2e50-4f80-8171-f8cb7042a6e1\",\"type\":\"BoxAnnotation\"},{\"id\":\"a3b9401b-e140-4c80-a744-71d78638ed0c\",\"type\":\"GlyphRenderer\"},{\"id\":\"a77bd759-18b0-4367-be75-41a76461893f\",\"type\":\"GlyphRenderer\"},{\"id\":\"94721148-4380-49bb-9035-6b6c6ef94390\",\"type\":\"GlyphRenderer\"},{\"id\":\"7a835662-059e-4e47-a377-524ef2771e57\",\"type\":\"Legend\"},{\"id\":\"03bdb4c5-4d11-4c63-9d9b-24b7dfffbe33\",\"type\":\"CategoricalAxis\"},{\"id\":\"9f470c5a-6616-4a25-910e-1ea2e27c9da0\",\"type\":\"LinearAxis\"},{\"id\":\"a83428a6-c406-4a01-b839-8e524142fc2a\",\"type\":\"Grid\"},{\"id\":\"85175232-7bb4-48d7-8887-9b1cb647a2e9\",\"type\":\"Grid\"}],\"title\":{\"id\":\"b7b7e103-5bf4-44bf-b2e6-927d864351a3\",\"type\":\"Title\"},\"tool_events\":{\"id\":\"842e6da0-ac07-4af7-aa88-bf25b02ad86b\",\"type\":\"ToolEvents\"},\"toolbar\":{\"id\":\"8dea28d5-06d8-4694-9cdd-10bf89885a6f\",\"type\":\"Toolbar\"},\"x_mapper_type\":\"auto\",\"x_range\":{\"id\":\"1c2b3caf-697f-4978-bef6-4fe6a08763fd\",\"type\":\"FactorRange\"},\"y_mapper_type\":\"auto\",\"y_range\":{\"id\":\"3ad6f96e-10a4-4090-a164-c0e31d33e951\",\"type\":\"Range1d\"}},\"id\":\"7712307a-ccbe-485d-8ed8-a22352c141c2\",\"subtype\":\"Chart\",\"type\":\"Plot\"},{\"attributes\":{\"line_color\":{\"value\":\"#5ab738\"},\"line_width\":{\"value\":2},\"x\":{\"field\":\"x_values\"},\"y\":{\"field\":\"y_values\"}},\"id\":\"01674c0b-efff-4293-a8e5-dbb8b5ba722d\",\"type\":\"Line\"},{\"attributes\":{\"callback\":null,\"column_names\":[\"y_values\",\"x_values\"],\"data\":{\"chart_index\":[{\"series\":\"US Postal Service Maintenance Queue\"},{\"series\":\"US Postal Service Maintenance Queue\"}],\"series\":[\"US Postal Service Maintenance Queue\",\"US Postal Service Maintenance Queue\"],\"x_values\":[\"2015\",\"2016\"],\"y_values\":[1624,5242]}},\"id\":\"d8655dfc-5f36-45fd-91c5-93c0e963814a\",\"type\":\"ColumnDataSource\"},{\"attributes\":{\"plot\":{\"id\":\"7712307a-ccbe-485d-8ed8-a22352c141c2\",\"subtype\":\"Chart\",\"type\":\"Plot\"}},\"id\":\"cc46f378-35f9-4e61-ab39-556009484be3\",\"type\":\"HelpTool\"},{\"attributes\":{\"axis_label\":\"Non-DPW Big Agencies\",\"formatter\":{\"id\":\"dbc419d4-47f3-4ab5-8dee-0bd3a9bb0930\",\"type\":\"BasicTickFormatter\"},\"plot\":{\"id\":\"7712307a-ccbe-485d-8ed8-a22352c141c2\",\"subtype\":\"Chart\",\"type\":\"Plot\"},\"ticker\":{\"id\":\"d1c7c16f-f249-4ad3-be6f-91c4a8a44626\",\"type\":\"BasicTicker\"}},\"id\":\"9f470c5a-6616-4a25-910e-1ea2e27c9da0\",\"type\":\"LinearAxis\"},{\"attributes\":{\"label\":{\"value\":\"Clear Channel - Transit Queue\"},\"renderers\":[{\"id\":\"a3b9401b-e140-4c80-a744-71d78638ed0c\",\"type\":\"GlyphRenderer\"}]},\"id\":\"fad6159d-bc43-4ac6-bd59-4c539a5783f1\",\"type\":\"LegendItem\"},{\"attributes\":{\"active_drag\":\"auto\",\"active_scroll\":\"auto\",\"active_tap\":\"auto\",\"tools\":[{\"id\":\"3dbc2555-548b-4bdc-9d3d-a33f8f0c3f62\",\"type\":\"PanTool\"},{\"id\":\"266e0007-57c1-468f-a4e9-aef176d569dc\",\"type\":\"WheelZoomTool\"},{\"id\":\"1178982a-01b8-4e0e-9255-177d0108cc26\",\"type\":\"BoxZoomTool\"},{\"id\":\"4c5fe8bd-86d6-41ad-8b32-b71ce156d585\",\"type\":\"SaveTool\"},{\"id\":\"fafa6e15-c9d7-4178-89bc-89cdd9249e4d\",\"type\":\"ResetTool\"},{\"id\":\"cc46f378-35f9-4e61-ab39-556009484be3\",\"type\":\"HelpTool\"}]},\"id\":\"8dea28d5-06d8-4694-9cdd-10bf89885a6f\",\"type\":\"Toolbar\"},{\"attributes\":{\"bottom_units\":\"screen\",\"fill_alpha\":{\"value\":0.5},\"fill_color\":{\"value\":\"lightgrey\"},\"left_units\":\"screen\",\"level\":\"overlay\",\"line_alpha\":{\"value\":1.0},\"line_color\":{\"value\":\"black\"},\"line_dash\":[4,4],\"line_width\":{\"value\":2},\"plot\":null,\"render_mode\":\"css\",\"right_units\":\"screen\",\"top_units\":\"screen\"},\"id\":\"d08889e6-2e50-4f80-8171-f8cb7042a6e1\",\"type\":\"BoxAnnotation\"}],\"root_ids\":[\"7712307a-ccbe-485d-8ed8-a22352c141c2\"]},\"title\":\"Bokeh Application\",\"version\":\"0.12.3\"}};\n",
       "            var render_items = [{\"docid\":\"77fdb149-38c7-44bd-851e-6526a1f24765\",\"elementid\":\"4a7a43c0-9f74-4680-9f8c-172c5c0846aa\",\"modelid\":\"7712307a-ccbe-485d-8ed8-a22352c141c2\"}];\n",
       "            \n",
       "            Bokeh.embed.embed_items(docs_json, render_items);\n",
       "        });\n",
       "      },\n",
       "      function(Bokeh) {\n",
       "      }\n",
       "    ];\n",
       "  \n",
       "    function run_inline_js() {\n",
       "      \n",
       "      if ((window.Bokeh !== undefined) || (force === \"1\")) {\n",
       "        for (var i = 0; i < inline_js.length; i++) {\n",
       "          inline_js[i](window.Bokeh);\n",
       "        }if (force === \"1\") {\n",
       "          display_loaded();\n",
       "        }} else if (Date.now() < window._bokeh_timeout) {\n",
       "        setTimeout(run_inline_js, 100);\n",
       "      } else if (!window._bokeh_failed_load) {\n",
       "        console.log(\"Bokeh: BokehJS failed to load within specified timeout.\");\n",
       "        window._bokeh_failed_load = true;\n",
       "      } else if (!force) {\n",
       "        var cell = $(\"#4a7a43c0-9f74-4680-9f8c-172c5c0846aa\").parents('.cell').data().cell;\n",
       "        cell.output_area.append_execute_result(NB_LOAD_WARNING)\n",
       "      }\n",
       "  \n",
       "    }\n",
       "  \n",
       "    if (window._bokeh_is_loading === 0) {\n",
       "      console.log(\"Bokeh: BokehJS loaded, going straight to plotting\");\n",
       "      run_inline_js();\n",
       "    } else {\n",
       "      load_libs(js_urls, function() {\n",
       "        console.log(\"Bokeh: BokehJS plotting callback run at\", now());\n",
       "        run_inline_js();\n",
       "      });\n",
       "    }\n",
       "  }(this));\n",
       "</script>"
      ]
     },
     "metadata": {},
     "output_type": "display_data"
    }
   ],
   "source": [
    "import numpy as np\n",
    "from bokeh.charts import Line, output_file, show\n",
    "\n",
    "# (dict, OrderedDict, lists, arrays and DataFrames are valid inputs)\n",
    "#xyvalues = np.array([[2, 3, 7, 5, 26], [12, 33, 47, 15, 126], [22, 43, 10, 25, 26]])\n",
    "xyvalues = df2\n",
    "line = Line(xyvalues, title=\"line\", legend=\"top_left\", ylabel='Non-DPW Big Agencies', xlabel='Year to Year')\n",
    "\n",
    "output_file('line.html')\n",
    "show(line)"
   ]
  },
  {
   "cell_type": "code",
   "execution_count": null,
   "metadata": {
    "collapsed": true
   },
   "outputs": [],
   "source": []
  },
  {
   "cell_type": "markdown",
   "metadata": {
    "collapsed": true
   },
   "source": [
    "# Create Graph by Supervisor District"
   ]
  },
  {
   "cell_type": "code",
   "execution_count": 53,
   "metadata": {
    "collapsed": true
   },
   "outputs": [],
   "source": [
    "## Top 5 and Bottom 6 Separated"
   ]
  },
  {
   "cell_type": "markdown",
   "metadata": {},
   "source": [
    "### Construct API Endpoint with SQL like Query.   (similar to above)"
   ]
  },
  {
   "cell_type": "code",
   "execution_count": 76,
   "metadata": {
    "collapsed": true
   },
   "outputs": [],
   "source": [
    "#url = 'https://data.sfgov.org/resource/qer8-n8u9.csv?$select=responsible_agency,date_trunc_y(opened)as%20year,%20count(*)&$order=year&$group=year,responsible_agency'#\n",
    "#url = 'https://data.sfgov.org/resource/qer8-n8u9.csv?$select=responsible_agency,date_trunc_y(opened)as%20year,%20count(*)&$order=year&$group=year,responsible_agency'\n",
    "url = 'https://data.sfgov.org/resource/qer8-n8u9.csv?$select=supervisor_district,category,date_trunc_y(opened)as%20year,%20count(*)&$order=year&$group=year,category,supervisor_district'"
   ]
  },
  {
   "cell_type": "code",
   "execution_count": 77,
   "metadata": {
    "collapsed": false
   },
   "outputs": [
    {
     "name": "stderr",
     "output_type": "stream",
     "text": [
      "/home/gdillon/.local/lib/python3.5/site-packages/ipykernel/__main__.py:3: FutureWarning: currently extract(expand=None) means expand=False (return Index/Series/DataFrame) but in a future version of pandas this will be changed to expand=True (return DataFrame)\n",
      "  app.launch_new_instance()\n"
     ]
    },
    {
     "data": {
      "text/html": [
       "<div>\n",
       "<table border=\"1\" class=\"dataframe\">\n",
       "  <thead>\n",
       "    <tr style=\"text-align: right;\">\n",
       "      <th></th>\n",
       "      <th>Supervisor District</th>\n",
       "      <th>Category</th>\n",
       "      <th>year</th>\n",
       "      <th>count</th>\n",
       "    </tr>\n",
       "  </thead>\n",
       "  <tbody>\n",
       "    <tr>\n",
       "      <th>18</th>\n",
       "      <td>1.0</td>\n",
       "      <td>Graffiti Public Property</td>\n",
       "      <td>2008</td>\n",
       "      <td>306</td>\n",
       "    </tr>\n",
       "    <tr>\n",
       "      <th>19</th>\n",
       "      <td>7.0</td>\n",
       "      <td>Graffiti Private Property</td>\n",
       "      <td>2008</td>\n",
       "      <td>362</td>\n",
       "    </tr>\n",
       "    <tr>\n",
       "      <th>20</th>\n",
       "      <td>5.0</td>\n",
       "      <td>Graffiti Public Property</td>\n",
       "      <td>2008</td>\n",
       "      <td>476</td>\n",
       "    </tr>\n",
       "    <tr>\n",
       "      <th>21</th>\n",
       "      <td>5.0</td>\n",
       "      <td>Graffiti Private Property</td>\n",
       "      <td>2008</td>\n",
       "      <td>592</td>\n",
       "    </tr>\n",
       "    <tr>\n",
       "      <th>22</th>\n",
       "      <td>0.0</td>\n",
       "      <td>Graffiti Private Property</td>\n",
       "      <td>2009</td>\n",
       "      <td>2</td>\n",
       "    </tr>\n",
       "    <tr>\n",
       "      <th>23</th>\n",
       "      <td>10.0</td>\n",
       "      <td>Graffiti Public Property</td>\n",
       "      <td>2009</td>\n",
       "      <td>530</td>\n",
       "    </tr>\n",
       "    <tr>\n",
       "      <th>24</th>\n",
       "      <td>4.0</td>\n",
       "      <td>Graffiti Public Property</td>\n",
       "      <td>2009</td>\n",
       "      <td>391</td>\n",
       "    </tr>\n",
       "    <tr>\n",
       "      <th>25</th>\n",
       "      <td>1.0</td>\n",
       "      <td>Graffiti Public Property</td>\n",
       "      <td>2009</td>\n",
       "      <td>1679</td>\n",
       "    </tr>\n",
       "    <tr>\n",
       "      <th>26</th>\n",
       "      <td>8.0</td>\n",
       "      <td>Graffiti Private Property</td>\n",
       "      <td>2009</td>\n",
       "      <td>1149</td>\n",
       "    </tr>\n",
       "    <tr>\n",
       "      <th>27</th>\n",
       "      <td>11.0</td>\n",
       "      <td>Graffiti Public Property</td>\n",
       "      <td>2009</td>\n",
       "      <td>2068</td>\n",
       "    </tr>\n",
       "    <tr>\n",
       "      <th>28</th>\n",
       "      <td>10.0</td>\n",
       "      <td>Graffiti Private Property</td>\n",
       "      <td>2009</td>\n",
       "      <td>839</td>\n",
       "    </tr>\n",
       "    <tr>\n",
       "      <th>29</th>\n",
       "      <td>8.0</td>\n",
       "      <td>Graffiti Public Property</td>\n",
       "      <td>2009</td>\n",
       "      <td>1166</td>\n",
       "    </tr>\n",
       "    <tr>\n",
       "      <th>30</th>\n",
       "      <td>2.0</td>\n",
       "      <td>Graffiti Public Property</td>\n",
       "      <td>2009</td>\n",
       "      <td>1087</td>\n",
       "    </tr>\n",
       "    <tr>\n",
       "      <th>31</th>\n",
       "      <td>6.0</td>\n",
       "      <td>Graffiti Public Property</td>\n",
       "      <td>2009</td>\n",
       "      <td>907</td>\n",
       "    </tr>\n",
       "    <tr>\n",
       "      <th>32</th>\n",
       "      <td>7.0</td>\n",
       "      <td>Graffiti Public Property</td>\n",
       "      <td>2009</td>\n",
       "      <td>683</td>\n",
       "    </tr>\n",
       "    <tr>\n",
       "      <th>33</th>\n",
       "      <td>7.0</td>\n",
       "      <td>Graffiti Private Property</td>\n",
       "      <td>2009</td>\n",
       "      <td>671</td>\n",
       "    </tr>\n",
       "    <tr>\n",
       "      <th>34</th>\n",
       "      <td>5.0</td>\n",
       "      <td>Graffiti Private Property</td>\n",
       "      <td>2009</td>\n",
       "      <td>2028</td>\n",
       "    </tr>\n",
       "    <tr>\n",
       "      <th>35</th>\n",
       "      <td>1.0</td>\n",
       "      <td>Graffiti Private Property</td>\n",
       "      <td>2009</td>\n",
       "      <td>1336</td>\n",
       "    </tr>\n",
       "    <tr>\n",
       "      <th>36</th>\n",
       "      <td>4.0</td>\n",
       "      <td>Graffiti Private Property</td>\n",
       "      <td>2009</td>\n",
       "      <td>470</td>\n",
       "    </tr>\n",
       "    <tr>\n",
       "      <th>37</th>\n",
       "      <td>3.0</td>\n",
       "      <td>Graffiti Private Property</td>\n",
       "      <td>2009</td>\n",
       "      <td>2585</td>\n",
       "    </tr>\n",
       "    <tr>\n",
       "      <th>38</th>\n",
       "      <td>2.0</td>\n",
       "      <td>Graffiti Private Property</td>\n",
       "      <td>2009</td>\n",
       "      <td>456</td>\n",
       "    </tr>\n",
       "    <tr>\n",
       "      <th>39</th>\n",
       "      <td>11.0</td>\n",
       "      <td>Graffiti Private Property</td>\n",
       "      <td>2009</td>\n",
       "      <td>1643</td>\n",
       "    </tr>\n",
       "    <tr>\n",
       "      <th>40</th>\n",
       "      <td>9.0</td>\n",
       "      <td>Graffiti Public Property</td>\n",
       "      <td>2009</td>\n",
       "      <td>2664</td>\n",
       "    </tr>\n",
       "    <tr>\n",
       "      <th>41</th>\n",
       "      <td>3.0</td>\n",
       "      <td>Graffiti Public Property</td>\n",
       "      <td>2009</td>\n",
       "      <td>1482</td>\n",
       "    </tr>\n",
       "    <tr>\n",
       "      <th>42</th>\n",
       "      <td>6.0</td>\n",
       "      <td>Graffiti Private Property</td>\n",
       "      <td>2009</td>\n",
       "      <td>1769</td>\n",
       "    </tr>\n",
       "    <tr>\n",
       "      <th>43</th>\n",
       "      <td>5.0</td>\n",
       "      <td>Graffiti Public Property</td>\n",
       "      <td>2009</td>\n",
       "      <td>2686</td>\n",
       "    </tr>\n",
       "    <tr>\n",
       "      <th>44</th>\n",
       "      <td>9.0</td>\n",
       "      <td>Graffiti Private Property</td>\n",
       "      <td>2009</td>\n",
       "      <td>3994</td>\n",
       "    </tr>\n",
       "    <tr>\n",
       "      <th>45</th>\n",
       "      <td>0.0</td>\n",
       "      <td>Graffiti Public Property</td>\n",
       "      <td>2010</td>\n",
       "      <td>3</td>\n",
       "    </tr>\n",
       "    <tr>\n",
       "      <th>46</th>\n",
       "      <td>0.0</td>\n",
       "      <td>Graffiti Private Property</td>\n",
       "      <td>2010</td>\n",
       "      <td>2</td>\n",
       "    </tr>\n",
       "    <tr>\n",
       "      <th>47</th>\n",
       "      <td>3.0</td>\n",
       "      <td>Graffiti Private Property</td>\n",
       "      <td>2010</td>\n",
       "      <td>1081</td>\n",
       "    </tr>\n",
       "    <tr>\n",
       "      <th>...</th>\n",
       "      <td>...</td>\n",
       "      <td>...</td>\n",
       "      <td>...</td>\n",
       "      <td>...</td>\n",
       "    </tr>\n",
       "    <tr>\n",
       "      <th>185</th>\n",
       "      <td>9.0</td>\n",
       "      <td>Graffiti Private Property</td>\n",
       "      <td>2015</td>\n",
       "      <td>4139</td>\n",
       "    </tr>\n",
       "    <tr>\n",
       "      <th>186</th>\n",
       "      <td>0.0</td>\n",
       "      <td>Graffiti Private Property</td>\n",
       "      <td>2015</td>\n",
       "      <td>465</td>\n",
       "    </tr>\n",
       "    <tr>\n",
       "      <th>187</th>\n",
       "      <td>0.0</td>\n",
       "      <td>Graffiti Public Property</td>\n",
       "      <td>2015</td>\n",
       "      <td>166</td>\n",
       "    </tr>\n",
       "    <tr>\n",
       "      <th>188</th>\n",
       "      <td>0.0</td>\n",
       "      <td>Graffiti Public Property</td>\n",
       "      <td>2016</td>\n",
       "      <td>84</td>\n",
       "    </tr>\n",
       "    <tr>\n",
       "      <th>189</th>\n",
       "      <td>0.0</td>\n",
       "      <td>Graffiti Private Property</td>\n",
       "      <td>2016</td>\n",
       "      <td>656</td>\n",
       "    </tr>\n",
       "    <tr>\n",
       "      <th>190</th>\n",
       "      <td>-1.0</td>\n",
       "      <td>Graffiti Public Property</td>\n",
       "      <td>2016</td>\n",
       "      <td>10</td>\n",
       "    </tr>\n",
       "    <tr>\n",
       "      <th>191</th>\n",
       "      <td>10.0</td>\n",
       "      <td>Graffiti Private Property</td>\n",
       "      <td>2016</td>\n",
       "      <td>1520</td>\n",
       "    </tr>\n",
       "    <tr>\n",
       "      <th>192</th>\n",
       "      <td>2.0</td>\n",
       "      <td>Graffiti Private Property</td>\n",
       "      <td>2016</td>\n",
       "      <td>568</td>\n",
       "    </tr>\n",
       "    <tr>\n",
       "      <th>193</th>\n",
       "      <td>NaN</td>\n",
       "      <td>Graffiti Private Property</td>\n",
       "      <td>2016</td>\n",
       "      <td>33</td>\n",
       "    </tr>\n",
       "    <tr>\n",
       "      <th>194</th>\n",
       "      <td>NaN</td>\n",
       "      <td>Graffiti Public Property</td>\n",
       "      <td>2016</td>\n",
       "      <td>4</td>\n",
       "    </tr>\n",
       "    <tr>\n",
       "      <th>195</th>\n",
       "      <td>2.0</td>\n",
       "      <td>Graffiti Public Property</td>\n",
       "      <td>2016</td>\n",
       "      <td>1777</td>\n",
       "    </tr>\n",
       "    <tr>\n",
       "      <th>196</th>\n",
       "      <td>7.0</td>\n",
       "      <td>Graffiti Private Property</td>\n",
       "      <td>2016</td>\n",
       "      <td>297</td>\n",
       "    </tr>\n",
       "    <tr>\n",
       "      <th>197</th>\n",
       "      <td>10.0</td>\n",
       "      <td>Graffiti Public Property</td>\n",
       "      <td>2016</td>\n",
       "      <td>2418</td>\n",
       "    </tr>\n",
       "    <tr>\n",
       "      <th>198</th>\n",
       "      <td>1.0</td>\n",
       "      <td>Graffiti Private Property</td>\n",
       "      <td>2016</td>\n",
       "      <td>1387</td>\n",
       "    </tr>\n",
       "    <tr>\n",
       "      <th>199</th>\n",
       "      <td>11.0</td>\n",
       "      <td>Graffiti Private Property</td>\n",
       "      <td>2016</td>\n",
       "      <td>726</td>\n",
       "    </tr>\n",
       "    <tr>\n",
       "      <th>200</th>\n",
       "      <td>4.0</td>\n",
       "      <td>Graffiti Private Property</td>\n",
       "      <td>2016</td>\n",
       "      <td>366</td>\n",
       "    </tr>\n",
       "    <tr>\n",
       "      <th>201</th>\n",
       "      <td>8.0</td>\n",
       "      <td>Graffiti Private Property</td>\n",
       "      <td>2016</td>\n",
       "      <td>3015</td>\n",
       "    </tr>\n",
       "    <tr>\n",
       "      <th>202</th>\n",
       "      <td>9.0</td>\n",
       "      <td>Graffiti Private Property</td>\n",
       "      <td>2016</td>\n",
       "      <td>5631</td>\n",
       "    </tr>\n",
       "    <tr>\n",
       "      <th>203</th>\n",
       "      <td>9.0</td>\n",
       "      <td>Graffiti Public Property</td>\n",
       "      <td>2016</td>\n",
       "      <td>8350</td>\n",
       "    </tr>\n",
       "    <tr>\n",
       "      <th>204</th>\n",
       "      <td>7.0</td>\n",
       "      <td>Graffiti Public Property</td>\n",
       "      <td>2016</td>\n",
       "      <td>1000</td>\n",
       "    </tr>\n",
       "    <tr>\n",
       "      <th>205</th>\n",
       "      <td>4.0</td>\n",
       "      <td>Graffiti Public Property</td>\n",
       "      <td>2016</td>\n",
       "      <td>979</td>\n",
       "    </tr>\n",
       "    <tr>\n",
       "      <th>206</th>\n",
       "      <td>1.0</td>\n",
       "      <td>Graffiti Public Property</td>\n",
       "      <td>2016</td>\n",
       "      <td>3257</td>\n",
       "    </tr>\n",
       "    <tr>\n",
       "      <th>207</th>\n",
       "      <td>11.0</td>\n",
       "      <td>Graffiti Public Property</td>\n",
       "      <td>2016</td>\n",
       "      <td>1124</td>\n",
       "    </tr>\n",
       "    <tr>\n",
       "      <th>208</th>\n",
       "      <td>5.0</td>\n",
       "      <td>Graffiti Private Property</td>\n",
       "      <td>2016</td>\n",
       "      <td>3251</td>\n",
       "    </tr>\n",
       "    <tr>\n",
       "      <th>209</th>\n",
       "      <td>5.0</td>\n",
       "      <td>Graffiti Public Property</td>\n",
       "      <td>2016</td>\n",
       "      <td>8662</td>\n",
       "    </tr>\n",
       "    <tr>\n",
       "      <th>210</th>\n",
       "      <td>6.0</td>\n",
       "      <td>Graffiti Public Property</td>\n",
       "      <td>2016</td>\n",
       "      <td>5061</td>\n",
       "    </tr>\n",
       "    <tr>\n",
       "      <th>211</th>\n",
       "      <td>3.0</td>\n",
       "      <td>Graffiti Private Property</td>\n",
       "      <td>2016</td>\n",
       "      <td>5656</td>\n",
       "    </tr>\n",
       "    <tr>\n",
       "      <th>212</th>\n",
       "      <td>6.0</td>\n",
       "      <td>Graffiti Private Property</td>\n",
       "      <td>2016</td>\n",
       "      <td>4640</td>\n",
       "    </tr>\n",
       "    <tr>\n",
       "      <th>213</th>\n",
       "      <td>8.0</td>\n",
       "      <td>Graffiti Public Property</td>\n",
       "      <td>2016</td>\n",
       "      <td>5740</td>\n",
       "    </tr>\n",
       "    <tr>\n",
       "      <th>214</th>\n",
       "      <td>3.0</td>\n",
       "      <td>Graffiti Public Property</td>\n",
       "      <td>2016</td>\n",
       "      <td>6180</td>\n",
       "    </tr>\n",
       "  </tbody>\n",
       "</table>\n",
       "<p>197 rows × 4 columns</p>\n",
       "</div>"
      ],
      "text/plain": [
       "     Supervisor District                   Category  year  count\n",
       "18                   1.0   Graffiti Public Property  2008    306\n",
       "19                   7.0  Graffiti Private Property  2008    362\n",
       "20                   5.0   Graffiti Public Property  2008    476\n",
       "21                   5.0  Graffiti Private Property  2008    592\n",
       "22                   0.0  Graffiti Private Property  2009      2\n",
       "23                  10.0   Graffiti Public Property  2009    530\n",
       "24                   4.0   Graffiti Public Property  2009    391\n",
       "25                   1.0   Graffiti Public Property  2009   1679\n",
       "26                   8.0  Graffiti Private Property  2009   1149\n",
       "27                  11.0   Graffiti Public Property  2009   2068\n",
       "28                  10.0  Graffiti Private Property  2009    839\n",
       "29                   8.0   Graffiti Public Property  2009   1166\n",
       "30                   2.0   Graffiti Public Property  2009   1087\n",
       "31                   6.0   Graffiti Public Property  2009    907\n",
       "32                   7.0   Graffiti Public Property  2009    683\n",
       "33                   7.0  Graffiti Private Property  2009    671\n",
       "34                   5.0  Graffiti Private Property  2009   2028\n",
       "35                   1.0  Graffiti Private Property  2009   1336\n",
       "36                   4.0  Graffiti Private Property  2009    470\n",
       "37                   3.0  Graffiti Private Property  2009   2585\n",
       "38                   2.0  Graffiti Private Property  2009    456\n",
       "39                  11.0  Graffiti Private Property  2009   1643\n",
       "40                   9.0   Graffiti Public Property  2009   2664\n",
       "41                   3.0   Graffiti Public Property  2009   1482\n",
       "42                   6.0  Graffiti Private Property  2009   1769\n",
       "43                   5.0   Graffiti Public Property  2009   2686\n",
       "44                   9.0  Graffiti Private Property  2009   3994\n",
       "45                   0.0   Graffiti Public Property  2010      3\n",
       "46                   0.0  Graffiti Private Property  2010      2\n",
       "47                   3.0  Graffiti Private Property  2010   1081\n",
       "..                   ...                        ...   ...    ...\n",
       "185                  9.0  Graffiti Private Property  2015   4139\n",
       "186                  0.0  Graffiti Private Property  2015    465\n",
       "187                  0.0   Graffiti Public Property  2015    166\n",
       "188                  0.0   Graffiti Public Property  2016     84\n",
       "189                  0.0  Graffiti Private Property  2016    656\n",
       "190                 -1.0   Graffiti Public Property  2016     10\n",
       "191                 10.0  Graffiti Private Property  2016   1520\n",
       "192                  2.0  Graffiti Private Property  2016    568\n",
       "193                  NaN  Graffiti Private Property  2016     33\n",
       "194                  NaN   Graffiti Public Property  2016      4\n",
       "195                  2.0   Graffiti Public Property  2016   1777\n",
       "196                  7.0  Graffiti Private Property  2016    297\n",
       "197                 10.0   Graffiti Public Property  2016   2418\n",
       "198                  1.0  Graffiti Private Property  2016   1387\n",
       "199                 11.0  Graffiti Private Property  2016    726\n",
       "200                  4.0  Graffiti Private Property  2016    366\n",
       "201                  8.0  Graffiti Private Property  2016   3015\n",
       "202                  9.0  Graffiti Private Property  2016   5631\n",
       "203                  9.0   Graffiti Public Property  2016   8350\n",
       "204                  7.0   Graffiti Public Property  2016   1000\n",
       "205                  4.0   Graffiti Public Property  2016    979\n",
       "206                  1.0   Graffiti Public Property  2016   3257\n",
       "207                 11.0   Graffiti Public Property  2016   1124\n",
       "208                  5.0  Graffiti Private Property  2016   3251\n",
       "209                  5.0   Graffiti Public Property  2016   8662\n",
       "210                  6.0   Graffiti Public Property  2016   5061\n",
       "211                  3.0  Graffiti Private Property  2016   5656\n",
       "212                  6.0  Graffiti Private Property  2016   4640\n",
       "213                  8.0   Graffiti Public Property  2016   5740\n",
       "214                  3.0   Graffiti Public Property  2016   6180\n",
       "\n",
       "[197 rows x 4 columns]"
      ]
     },
     "execution_count": 77,
     "metadata": {},
     "output_type": "execute_result"
    }
   ],
   "source": [
    "df=pd.read_csv(url)\n",
    "df=df[18:]\n",
    "df['year']=df['year'].str.extract('(?P<year>\\d{4})').astype(str)\n",
    "df['count']=df['count'].astype(int)\n",
    "df=df[:-1]\n",
    "#df.head(3)\n",
    "df"
   ]
  },
  {
   "cell_type": "code",
   "execution_count": 78,
   "metadata": {
    "collapsed": false,
    "scrolled": true
   },
   "outputs": [
    {
     "data": {
      "text/html": [
       "<div>\n",
       "<table border=\"1\" class=\"dataframe\">\n",
       "  <thead>\n",
       "    <tr style=\"text-align: right;\">\n",
       "      <th>Supervisor District</th>\n",
       "      <th>-1.0</th>\n",
       "      <th>0.0</th>\n",
       "      <th>1.0</th>\n",
       "      <th>2.0</th>\n",
       "      <th>3.0</th>\n",
       "      <th>4.0</th>\n",
       "      <th>5.0</th>\n",
       "      <th>6.0</th>\n",
       "      <th>7.0</th>\n",
       "      <th>8.0</th>\n",
       "      <th>9.0</th>\n",
       "      <th>10.0</th>\n",
       "      <th>11.0</th>\n",
       "    </tr>\n",
       "    <tr>\n",
       "      <th>year</th>\n",
       "      <th></th>\n",
       "      <th></th>\n",
       "      <th></th>\n",
       "      <th></th>\n",
       "      <th></th>\n",
       "      <th></th>\n",
       "      <th></th>\n",
       "      <th></th>\n",
       "      <th></th>\n",
       "      <th></th>\n",
       "      <th></th>\n",
       "      <th></th>\n",
       "      <th></th>\n",
       "    </tr>\n",
       "  </thead>\n",
       "  <tbody>\n",
       "    <tr>\n",
       "      <th>2008</th>\n",
       "      <td>0</td>\n",
       "      <td>0</td>\n",
       "      <td>306</td>\n",
       "      <td>0</td>\n",
       "      <td>0</td>\n",
       "      <td>0</td>\n",
       "      <td>1068</td>\n",
       "      <td>0</td>\n",
       "      <td>362</td>\n",
       "      <td>0</td>\n",
       "      <td>0</td>\n",
       "      <td>0</td>\n",
       "      <td>0</td>\n",
       "    </tr>\n",
       "    <tr>\n",
       "      <th>2009</th>\n",
       "      <td>0</td>\n",
       "      <td>2</td>\n",
       "      <td>3015</td>\n",
       "      <td>1543</td>\n",
       "      <td>4067</td>\n",
       "      <td>861</td>\n",
       "      <td>4714</td>\n",
       "      <td>2676</td>\n",
       "      <td>1354</td>\n",
       "      <td>2315</td>\n",
       "      <td>6658</td>\n",
       "      <td>1369</td>\n",
       "      <td>3711</td>\n",
       "    </tr>\n",
       "    <tr>\n",
       "      <th>2010</th>\n",
       "      <td>0</td>\n",
       "      <td>5</td>\n",
       "      <td>3209</td>\n",
       "      <td>1370</td>\n",
       "      <td>1785</td>\n",
       "      <td>1465</td>\n",
       "      <td>5493</td>\n",
       "      <td>1913</td>\n",
       "      <td>926</td>\n",
       "      <td>2290</td>\n",
       "      <td>4821</td>\n",
       "      <td>951</td>\n",
       "      <td>2541</td>\n",
       "    </tr>\n",
       "    <tr>\n",
       "      <th>2011</th>\n",
       "      <td>0</td>\n",
       "      <td>6</td>\n",
       "      <td>3769</td>\n",
       "      <td>1320</td>\n",
       "      <td>1845</td>\n",
       "      <td>1241</td>\n",
       "      <td>5397</td>\n",
       "      <td>2483</td>\n",
       "      <td>1000</td>\n",
       "      <td>2592</td>\n",
       "      <td>3560</td>\n",
       "      <td>645</td>\n",
       "      <td>1587</td>\n",
       "    </tr>\n",
       "    <tr>\n",
       "      <th>2012</th>\n",
       "      <td>0</td>\n",
       "      <td>13</td>\n",
       "      <td>3223</td>\n",
       "      <td>1632</td>\n",
       "      <td>2957</td>\n",
       "      <td>741</td>\n",
       "      <td>5223</td>\n",
       "      <td>2664</td>\n",
       "      <td>670</td>\n",
       "      <td>2577</td>\n",
       "      <td>4401</td>\n",
       "      <td>845</td>\n",
       "      <td>1308</td>\n",
       "    </tr>\n",
       "    <tr>\n",
       "      <th>2013</th>\n",
       "      <td>0</td>\n",
       "      <td>22</td>\n",
       "      <td>3713</td>\n",
       "      <td>1667</td>\n",
       "      <td>3313</td>\n",
       "      <td>769</td>\n",
       "      <td>7023</td>\n",
       "      <td>4612</td>\n",
       "      <td>1038</td>\n",
       "      <td>3990</td>\n",
       "      <td>6310</td>\n",
       "      <td>1325</td>\n",
       "      <td>2049</td>\n",
       "    </tr>\n",
       "    <tr>\n",
       "      <th>2014</th>\n",
       "      <td>0</td>\n",
       "      <td>70</td>\n",
       "      <td>4742</td>\n",
       "      <td>2376</td>\n",
       "      <td>4179</td>\n",
       "      <td>1005</td>\n",
       "      <td>9497</td>\n",
       "      <td>6758</td>\n",
       "      <td>1032</td>\n",
       "      <td>6123</td>\n",
       "      <td>7455</td>\n",
       "      <td>1891</td>\n",
       "      <td>1680</td>\n",
       "    </tr>\n",
       "    <tr>\n",
       "      <th>2015</th>\n",
       "      <td>0</td>\n",
       "      <td>631</td>\n",
       "      <td>3914</td>\n",
       "      <td>2483</td>\n",
       "      <td>5563</td>\n",
       "      <td>1591</td>\n",
       "      <td>11421</td>\n",
       "      <td>7442</td>\n",
       "      <td>1165</td>\n",
       "      <td>6686</td>\n",
       "      <td>11290</td>\n",
       "      <td>3370</td>\n",
       "      <td>1693</td>\n",
       "    </tr>\n",
       "    <tr>\n",
       "      <th>2016</th>\n",
       "      <td>10</td>\n",
       "      <td>740</td>\n",
       "      <td>4644</td>\n",
       "      <td>2345</td>\n",
       "      <td>11836</td>\n",
       "      <td>1345</td>\n",
       "      <td>11913</td>\n",
       "      <td>9701</td>\n",
       "      <td>1297</td>\n",
       "      <td>8755</td>\n",
       "      <td>13981</td>\n",
       "      <td>3938</td>\n",
       "      <td>1850</td>\n",
       "    </tr>\n",
       "  </tbody>\n",
       "</table>\n",
       "</div>"
      ],
      "text/plain": [
       "Supervisor District  -1.0    0.0    1.0    2.0    3.0    4.0    5.0    6.0   \\\n",
       "year                                                                          \n",
       "2008                     0      0    306      0      0      0   1068      0   \n",
       "2009                     0      2   3015   1543   4067    861   4714   2676   \n",
       "2010                     0      5   3209   1370   1785   1465   5493   1913   \n",
       "2011                     0      6   3769   1320   1845   1241   5397   2483   \n",
       "2012                     0     13   3223   1632   2957    741   5223   2664   \n",
       "2013                     0     22   3713   1667   3313    769   7023   4612   \n",
       "2014                     0     70   4742   2376   4179   1005   9497   6758   \n",
       "2015                     0    631   3914   2483   5563   1591  11421   7442   \n",
       "2016                    10    740   4644   2345  11836   1345  11913   9701   \n",
       "\n",
       "Supervisor District   7.0    8.0    9.0    10.0   11.0  \n",
       "year                                                    \n",
       "2008                   362      0      0      0      0  \n",
       "2009                  1354   2315   6658   1369   3711  \n",
       "2010                   926   2290   4821    951   2541  \n",
       "2011                  1000   2592   3560    645   1587  \n",
       "2012                   670   2577   4401    845   1308  \n",
       "2013                  1038   3990   6310   1325   2049  \n",
       "2014                  1032   6123   7455   1891   1680  \n",
       "2015                  1165   6686  11290   3370   1693  \n",
       "2016                  1297   8755  13981   3938   1850  "
      ]
     },
     "execution_count": 78,
     "metadata": {},
     "output_type": "execute_result"
    }
   ],
   "source": [
    "df2 =pd.pivot_table(\n",
    "  df,values='count',\n",
    "  index=['year'], \n",
    "  columns=['Supervisor District'],\n",
    "  aggfunc=np.sum,\n",
    "  fill_value=0) \n",
    "df2"
   ]
  },
  {
   "cell_type": "code",
   "execution_count": 79,
   "metadata": {
    "collapsed": false
   },
   "outputs": [
    {
     "data": {
      "text/html": [
       "<div>\n",
       "<table border=\"1\" class=\"dataframe\">\n",
       "  <thead>\n",
       "    <tr style=\"text-align: right;\">\n",
       "      <th>Supervisor District</th>\n",
       "      <th>1.0</th>\n",
       "      <th>2.0</th>\n",
       "      <th>3.0</th>\n",
       "      <th>4.0</th>\n",
       "      <th>5.0</th>\n",
       "      <th>6.0</th>\n",
       "      <th>7.0</th>\n",
       "      <th>8.0</th>\n",
       "      <th>9.0</th>\n",
       "      <th>10.0</th>\n",
       "      <th>11.0</th>\n",
       "    </tr>\n",
       "    <tr>\n",
       "      <th>year</th>\n",
       "      <th></th>\n",
       "      <th></th>\n",
       "      <th></th>\n",
       "      <th></th>\n",
       "      <th></th>\n",
       "      <th></th>\n",
       "      <th></th>\n",
       "      <th></th>\n",
       "      <th></th>\n",
       "      <th></th>\n",
       "      <th></th>\n",
       "    </tr>\n",
       "  </thead>\n",
       "  <tbody>\n",
       "    <tr>\n",
       "      <th>2008</th>\n",
       "      <td>306</td>\n",
       "      <td>0</td>\n",
       "      <td>0</td>\n",
       "      <td>0</td>\n",
       "      <td>1068</td>\n",
       "      <td>0</td>\n",
       "      <td>362</td>\n",
       "      <td>0</td>\n",
       "      <td>0</td>\n",
       "      <td>0</td>\n",
       "      <td>0</td>\n",
       "    </tr>\n",
       "    <tr>\n",
       "      <th>2009</th>\n",
       "      <td>3015</td>\n",
       "      <td>1543</td>\n",
       "      <td>4067</td>\n",
       "      <td>861</td>\n",
       "      <td>4714</td>\n",
       "      <td>2676</td>\n",
       "      <td>1354</td>\n",
       "      <td>2315</td>\n",
       "      <td>6658</td>\n",
       "      <td>1369</td>\n",
       "      <td>3711</td>\n",
       "    </tr>\n",
       "    <tr>\n",
       "      <th>2010</th>\n",
       "      <td>3209</td>\n",
       "      <td>1370</td>\n",
       "      <td>1785</td>\n",
       "      <td>1465</td>\n",
       "      <td>5493</td>\n",
       "      <td>1913</td>\n",
       "      <td>926</td>\n",
       "      <td>2290</td>\n",
       "      <td>4821</td>\n",
       "      <td>951</td>\n",
       "      <td>2541</td>\n",
       "    </tr>\n",
       "    <tr>\n",
       "      <th>2011</th>\n",
       "      <td>3769</td>\n",
       "      <td>1320</td>\n",
       "      <td>1845</td>\n",
       "      <td>1241</td>\n",
       "      <td>5397</td>\n",
       "      <td>2483</td>\n",
       "      <td>1000</td>\n",
       "      <td>2592</td>\n",
       "      <td>3560</td>\n",
       "      <td>645</td>\n",
       "      <td>1587</td>\n",
       "    </tr>\n",
       "    <tr>\n",
       "      <th>2012</th>\n",
       "      <td>3223</td>\n",
       "      <td>1632</td>\n",
       "      <td>2957</td>\n",
       "      <td>741</td>\n",
       "      <td>5223</td>\n",
       "      <td>2664</td>\n",
       "      <td>670</td>\n",
       "      <td>2577</td>\n",
       "      <td>4401</td>\n",
       "      <td>845</td>\n",
       "      <td>1308</td>\n",
       "    </tr>\n",
       "    <tr>\n",
       "      <th>2013</th>\n",
       "      <td>3713</td>\n",
       "      <td>1667</td>\n",
       "      <td>3313</td>\n",
       "      <td>769</td>\n",
       "      <td>7023</td>\n",
       "      <td>4612</td>\n",
       "      <td>1038</td>\n",
       "      <td>3990</td>\n",
       "      <td>6310</td>\n",
       "      <td>1325</td>\n",
       "      <td>2049</td>\n",
       "    </tr>\n",
       "    <tr>\n",
       "      <th>2014</th>\n",
       "      <td>4742</td>\n",
       "      <td>2376</td>\n",
       "      <td>4179</td>\n",
       "      <td>1005</td>\n",
       "      <td>9497</td>\n",
       "      <td>6758</td>\n",
       "      <td>1032</td>\n",
       "      <td>6123</td>\n",
       "      <td>7455</td>\n",
       "      <td>1891</td>\n",
       "      <td>1680</td>\n",
       "    </tr>\n",
       "    <tr>\n",
       "      <th>2015</th>\n",
       "      <td>3914</td>\n",
       "      <td>2483</td>\n",
       "      <td>5563</td>\n",
       "      <td>1591</td>\n",
       "      <td>11421</td>\n",
       "      <td>7442</td>\n",
       "      <td>1165</td>\n",
       "      <td>6686</td>\n",
       "      <td>11290</td>\n",
       "      <td>3370</td>\n",
       "      <td>1693</td>\n",
       "    </tr>\n",
       "    <tr>\n",
       "      <th>2016</th>\n",
       "      <td>4644</td>\n",
       "      <td>2345</td>\n",
       "      <td>11836</td>\n",
       "      <td>1345</td>\n",
       "      <td>11913</td>\n",
       "      <td>9701</td>\n",
       "      <td>1297</td>\n",
       "      <td>8755</td>\n",
       "      <td>13981</td>\n",
       "      <td>3938</td>\n",
       "      <td>1850</td>\n",
       "    </tr>\n",
       "  </tbody>\n",
       "</table>\n",
       "</div>"
      ],
      "text/plain": [
       "Supervisor District  1.0   2.0    3.0   4.0    5.0   6.0   7.0   8.0    9.0   \\\n",
       "year                                                                           \n",
       "2008                  306     0      0     0   1068     0   362     0      0   \n",
       "2009                 3015  1543   4067   861   4714  2676  1354  2315   6658   \n",
       "2010                 3209  1370   1785  1465   5493  1913   926  2290   4821   \n",
       "2011                 3769  1320   1845  1241   5397  2483  1000  2592   3560   \n",
       "2012                 3223  1632   2957   741   5223  2664   670  2577   4401   \n",
       "2013                 3713  1667   3313   769   7023  4612  1038  3990   6310   \n",
       "2014                 4742  2376   4179  1005   9497  6758  1032  6123   7455   \n",
       "2015                 3914  2483   5563  1591  11421  7442  1165  6686  11290   \n",
       "2016                 4644  2345  11836  1345  11913  9701  1297  8755  13981   \n",
       "\n",
       "Supervisor District  10.0  11.0  \n",
       "year                             \n",
       "2008                    0     0  \n",
       "2009                 1369  3711  \n",
       "2010                  951  2541  \n",
       "2011                  645  1587  \n",
       "2012                  845  1308  \n",
       "2013                 1325  2049  \n",
       "2014                 1891  1680  \n",
       "2015                 3370  1693  \n",
       "2016                 3938  1850  "
      ]
     },
     "execution_count": 79,
     "metadata": {},
     "output_type": "execute_result"
    }
   ],
   "source": [
    "df2.drop(df2.columns[[0,1]], axis=1, inplace=True)\n",
    "\n",
    "\n",
    "df2\n"
   ]
  },
  {
   "cell_type": "code",
   "execution_count": 82,
   "metadata": {
    "collapsed": false
   },
   "outputs": [
    {
     "data": {
      "text/html": [
       "<div>\n",
       "<table border=\"1\" class=\"dataframe\">\n",
       "  <thead>\n",
       "    <tr style=\"text-align: right;\">\n",
       "      <th>Supervisor District</th>\n",
       "      <th>1.0</th>\n",
       "      <th>2.0</th>\n",
       "      <th>3.0</th>\n",
       "      <th>4.0</th>\n",
       "      <th>5.0</th>\n",
       "      <th>6.0</th>\n",
       "      <th>7.0</th>\n",
       "      <th>8.0</th>\n",
       "      <th>9.0</th>\n",
       "      <th>10.0</th>\n",
       "      <th>11.0</th>\n",
       "    </tr>\n",
       "    <tr>\n",
       "      <th>year</th>\n",
       "      <th></th>\n",
       "      <th></th>\n",
       "      <th></th>\n",
       "      <th></th>\n",
       "      <th></th>\n",
       "      <th></th>\n",
       "      <th></th>\n",
       "      <th></th>\n",
       "      <th></th>\n",
       "      <th></th>\n",
       "      <th></th>\n",
       "    </tr>\n",
       "  </thead>\n",
       "  <tbody>\n",
       "    <tr>\n",
       "      <th>2008</th>\n",
       "      <td>306</td>\n",
       "      <td>0</td>\n",
       "      <td>0</td>\n",
       "      <td>0</td>\n",
       "      <td>1068</td>\n",
       "      <td>0</td>\n",
       "      <td>362</td>\n",
       "      <td>0</td>\n",
       "      <td>0</td>\n",
       "      <td>0</td>\n",
       "      <td>0</td>\n",
       "    </tr>\n",
       "    <tr>\n",
       "      <th>2009</th>\n",
       "      <td>3015</td>\n",
       "      <td>1543</td>\n",
       "      <td>4067</td>\n",
       "      <td>861</td>\n",
       "      <td>4714</td>\n",
       "      <td>2676</td>\n",
       "      <td>1354</td>\n",
       "      <td>2315</td>\n",
       "      <td>6658</td>\n",
       "      <td>1369</td>\n",
       "      <td>3711</td>\n",
       "    </tr>\n",
       "    <tr>\n",
       "      <th>2010</th>\n",
       "      <td>3209</td>\n",
       "      <td>1370</td>\n",
       "      <td>1785</td>\n",
       "      <td>1465</td>\n",
       "      <td>5493</td>\n",
       "      <td>1913</td>\n",
       "      <td>926</td>\n",
       "      <td>2290</td>\n",
       "      <td>4821</td>\n",
       "      <td>951</td>\n",
       "      <td>2541</td>\n",
       "    </tr>\n",
       "    <tr>\n",
       "      <th>2011</th>\n",
       "      <td>3769</td>\n",
       "      <td>1320</td>\n",
       "      <td>1845</td>\n",
       "      <td>1241</td>\n",
       "      <td>5397</td>\n",
       "      <td>2483</td>\n",
       "      <td>1000</td>\n",
       "      <td>2592</td>\n",
       "      <td>3560</td>\n",
       "      <td>645</td>\n",
       "      <td>1587</td>\n",
       "    </tr>\n",
       "    <tr>\n",
       "      <th>2012</th>\n",
       "      <td>3223</td>\n",
       "      <td>1632</td>\n",
       "      <td>2957</td>\n",
       "      <td>741</td>\n",
       "      <td>5223</td>\n",
       "      <td>2664</td>\n",
       "      <td>670</td>\n",
       "      <td>2577</td>\n",
       "      <td>4401</td>\n",
       "      <td>845</td>\n",
       "      <td>1308</td>\n",
       "    </tr>\n",
       "    <tr>\n",
       "      <th>2013</th>\n",
       "      <td>3713</td>\n",
       "      <td>1667</td>\n",
       "      <td>3313</td>\n",
       "      <td>769</td>\n",
       "      <td>7023</td>\n",
       "      <td>4612</td>\n",
       "      <td>1038</td>\n",
       "      <td>3990</td>\n",
       "      <td>6310</td>\n",
       "      <td>1325</td>\n",
       "      <td>2049</td>\n",
       "    </tr>\n",
       "    <tr>\n",
       "      <th>2014</th>\n",
       "      <td>4742</td>\n",
       "      <td>2376</td>\n",
       "      <td>4179</td>\n",
       "      <td>1005</td>\n",
       "      <td>9497</td>\n",
       "      <td>6758</td>\n",
       "      <td>1032</td>\n",
       "      <td>6123</td>\n",
       "      <td>7455</td>\n",
       "      <td>1891</td>\n",
       "      <td>1680</td>\n",
       "    </tr>\n",
       "    <tr>\n",
       "      <th>2015</th>\n",
       "      <td>3914</td>\n",
       "      <td>2483</td>\n",
       "      <td>5563</td>\n",
       "      <td>1591</td>\n",
       "      <td>11421</td>\n",
       "      <td>7442</td>\n",
       "      <td>1165</td>\n",
       "      <td>6686</td>\n",
       "      <td>11290</td>\n",
       "      <td>3370</td>\n",
       "      <td>1693</td>\n",
       "    </tr>\n",
       "    <tr>\n",
       "      <th>2016</th>\n",
       "      <td>4644</td>\n",
       "      <td>2345</td>\n",
       "      <td>11836</td>\n",
       "      <td>1345</td>\n",
       "      <td>11913</td>\n",
       "      <td>9701</td>\n",
       "      <td>1297</td>\n",
       "      <td>8755</td>\n",
       "      <td>13981</td>\n",
       "      <td>3938</td>\n",
       "      <td>1850</td>\n",
       "    </tr>\n",
       "  </tbody>\n",
       "</table>\n",
       "</div>"
      ],
      "text/plain": [
       "Supervisor District  1.0   2.0    3.0   4.0    5.0   6.0   7.0   8.0    9.0   \\\n",
       "year                                                                           \n",
       "2008                  306     0      0     0   1068     0   362     0      0   \n",
       "2009                 3015  1543   4067   861   4714  2676  1354  2315   6658   \n",
       "2010                 3209  1370   1785  1465   5493  1913   926  2290   4821   \n",
       "2011                 3769  1320   1845  1241   5397  2483  1000  2592   3560   \n",
       "2012                 3223  1632   2957   741   5223  2664   670  2577   4401   \n",
       "2013                 3713  1667   3313   769   7023  4612  1038  3990   6310   \n",
       "2014                 4742  2376   4179  1005   9497  6758  1032  6123   7455   \n",
       "2015                 3914  2483   5563  1591  11421  7442  1165  6686  11290   \n",
       "2016                 4644  2345  11836  1345  11913  9701  1297  8755  13981   \n",
       "\n",
       "Supervisor District  10.0  11.0  \n",
       "year                             \n",
       "2008                    0     0  \n",
       "2009                 1369  3711  \n",
       "2010                  951  2541  \n",
       "2011                  645  1587  \n",
       "2012                  845  1308  \n",
       "2013                 1325  2049  \n",
       "2014                 1891  1680  \n",
       "2015                 3370  1693  \n",
       "2016                 3938  1850  "
      ]
     },
     "execution_count": 82,
     "metadata": {},
     "output_type": "execute_result"
    }
   ],
   "source": [
    "df2"
   ]
  },
  {
   "cell_type": "code",
   "execution_count": null,
   "metadata": {
    "collapsed": true
   },
   "outputs": [],
   "source": []
  },
  {
   "cell_type": "code",
   "execution_count": null,
   "metadata": {
    "collapsed": true
   },
   "outputs": [],
   "source": []
  },
  {
   "cell_type": "code",
   "execution_count": null,
   "metadata": {
    "collapsed": true
   },
   "outputs": [],
   "source": []
  },
  {
   "cell_type": "code",
   "execution_count": null,
   "metadata": {
    "collapsed": true
   },
   "outputs": [],
   "source": []
  },
  {
   "cell_type": "code",
   "execution_count": null,
   "metadata": {
    "collapsed": true
   },
   "outputs": [],
   "source": []
  },
  {
   "cell_type": "code",
   "execution_count": null,
   "metadata": {
    "collapsed": true
   },
   "outputs": [],
   "source": []
  },
  {
   "cell_type": "code",
   "execution_count": 30,
   "metadata": {
    "collapsed": false
   },
   "outputs": [
    {
     "ename": "NameError",
     "evalue": "name 'url2' is not defined",
     "output_type": "error",
     "traceback": [
      "\u001b[0;31m---------------------------------------------------------------------------\u001b[0m",
      "\u001b[0;31mNameError\u001b[0m                                 Traceback (most recent call last)",
      "\u001b[0;32m<ipython-input-30-b1cb144a52d9>\u001b[0m in \u001b[0;36m<module>\u001b[0;34m()\u001b[0m\n\u001b[1;32m      6\u001b[0m \u001b[0;31m#date format 'year-mm-dd'\u001b[0m\u001b[0;34m\u001b[0m\u001b[0;34m\u001b[0m\u001b[0m\n\u001b[1;32m      7\u001b[0m \u001b[0monorafter\u001b[0m \u001b[0;34m=\u001b[0m \u001b[0;34m\"'2016-01-01'\"\u001b[0m\u001b[0;34m\u001b[0m\u001b[0m\n\u001b[0;32m----> 8\u001b[0;31m \u001b[0murl2\u001b[0m \u001b[0;34m=\u001b[0m \u001b[0murl2\u001b[0m \u001b[0;34m+\u001b[0m \u001b[0mwhere\u001b[0m \u001b[0;34m+\u001b[0m \u001b[0mcategory\u001b[0m \u001b[0;34m+\u001b[0m \u001b[0mstart\u001b[0m \u001b[0;34m+\u001b[0m \u001b[0mstr\u001b[0m\u001b[0;34m(\u001b[0m\u001b[0monorafter\u001b[0m\u001b[0;34m)\u001b[0m\u001b[0;34m\u001b[0m\u001b[0m\n\u001b[0m\u001b[1;32m      9\u001b[0m \u001b[0mprint\u001b[0m\u001b[0;34m(\u001b[0m\u001b[0murl2\u001b[0m\u001b[0;34m)\u001b[0m\u001b[0;34m\u001b[0m\u001b[0m\n",
      "\u001b[0;31mNameError\u001b[0m: name 'url2' is not defined"
     ]
    }
   ],
   "source": [
    "# drop from url those prior to January 1\n",
    "where = '&$where='\n",
    "category = 'opened'\n",
    "start = '>='\n",
    "\n",
    "#date format 'year-mm-dd'\n",
    "onorafter = \"'2016-01-01'\"\n",
    "url2 = url2 + where + category + start + str(onorafter) \n",
    "print(url2)"
   ]
  },
  {
   "cell_type": "markdown",
   "metadata": {
    "collapsed": true
   },
   "source": [
    "# Concatenate or Vertically stack the two dataFrames"
   ]
  },
  {
   "cell_type": "code",
   "execution_count": null,
   "metadata": {
    "collapsed": false
   },
   "outputs": [],
   "source": [
    "df1  = pd.read_csv(url1)\n",
    "df2 = pd.read_csv(url2)\n",
    "df = pd.concat([df1,df2])\n",
    "df.shape\n"
   ]
  },
  {
   "cell_type": "code",
   "execution_count": null,
   "metadata": {
    "collapsed": false
   },
   "outputs": [],
   "source": [
    "# frames = [df1,df2]\n",
    "# df = pd.concat(frames)"
   ]
  },
  {
   "cell_type": "code",
   "execution_count": null,
   "metadata": {
    "collapsed": false
   },
   "outputs": [],
   "source": []
  },
  {
   "cell_type": "markdown",
   "metadata": {},
   "source": [
    "# Convert the time series into pandas time version"
   ]
  },
  {
   "cell_type": "code",
   "execution_count": null,
   "metadata": {
    "collapsed": false
   },
   "outputs": [],
   "source": [
    "df.columns"
   ]
  },
  {
   "cell_type": "code",
   "execution_count": null,
   "metadata": {
    "collapsed": false
   },
   "outputs": [],
   "source": [
    "type(df.Opened)"
   ]
  },
  {
   "cell_type": "code",
   "execution_count": null,
   "metadata": {
    "collapsed": false
   },
   "outputs": [],
   "source": [
    "df['Opened'] = pd.to_datetime(df['Opened']).dt.strftime('%Y-%m-%d')"
   ]
  },
  {
   "cell_type": "code",
   "execution_count": null,
   "metadata": {
    "collapsed": true
   },
   "outputs": [],
   "source": [
    "df['Closed'] = pd.to_datetime(df['Closed']).dt.strftime('%Y-%m-%d')\n",
    "df['Updated'] = pd.to_datetime(df['Updated']).dt.strftime('%Y-%m-%d')\n"
   ]
  },
  {
   "cell_type": "code",
   "execution_count": null,
   "metadata": {
    "collapsed": false
   },
   "outputs": [],
   "source": [
    "df.head(2)"
   ]
  },
  {
   "cell_type": "code",
   "execution_count": null,
   "metadata": {
    "collapsed": false
   },
   "outputs": [],
   "source": [
    "df.to_string(columns='Supervisor District')"
   ]
  },
  {
   "cell_type": "code",
   "execution_count": null,
   "metadata": {
    "collapsed": false
   },
   "outputs": [],
   "source": [
    "df.to_string(columns = 'Supervisor District')"
   ]
  },
  {
   "cell_type": "code",
   "execution_count": null,
   "metadata": {
    "collapsed": false
   },
   "outputs": [],
   "source": [
    "df['Diff'] =(df.Closed-df.Opened).astype('timedelta64[D]')\n"
   ]
  },
  {
   "cell_type": "code",
   "execution_count": null,
   "metadata": {
    "collapsed": false
   },
   "outputs": [],
   "source": [
    "type(df['Supervisor District'])"
   ]
  },
  {
   "cell_type": "code",
   "execution_count": null,
   "metadata": {
    "collapsed": false
   },
   "outputs": [],
   "source": [
    "df.Diff.describe()"
   ]
  },
  {
   "cell_type": "code",
   "execution_count": null,
   "metadata": {
    "collapsed": false
   },
   "outputs": [],
   "source": [
    "df[df['Neighborhood' ]== \"Mission\"].head(85)"
   ]
  },
  {
   "cell_type": "code",
   "execution_count": null,
   "metadata": {
    "collapsed": false
   },
   "outputs": [],
   "source": [
    "df[df['Neighborhood' ]== \"Mission\"].describe()"
   ]
  },
  {
   "cell_type": "code",
   "execution_count": null,
   "metadata": {
    "collapsed": false
   },
   "outputs": [],
   "source": [
    "df['Responsible Agency'].value_counts()[:6]"
   ]
  },
  {
   "cell_type": "code",
   "execution_count": null,
   "metadata": {
    "collapsed": false
   },
   "outputs": [],
   "source": [
    "df[df['Responsible Agency'] == 'US Postal Service Maintenance Queue']['Diff'].describe()"
   ]
  },
  {
   "cell_type": "code",
   "execution_count": null,
   "metadata": {
    "collapsed": false
   },
   "outputs": [],
   "source": [
    "df[df['Responsible Agency'] == 'Clear Channel - Transit Queue']['Diff'].describe()"
   ]
  },
  {
   "cell_type": "code",
   "execution_count": null,
   "metadata": {
    "collapsed": false
   },
   "outputs": [],
   "source": [
    "df[df['Responsible Agency'] == 'DPW Ops Queue']['Diff'].describe()"
   ]
  },
  {
   "cell_type": "code",
   "execution_count": null,
   "metadata": {
    "collapsed": false
   },
   "outputs": [],
   "source": [
    "df[df['Category'] == 'Graffiti Private Property']['Diff'].describe()"
   ]
  },
  {
   "cell_type": "code",
   "execution_count": null,
   "metadata": {
    "collapsed": false
   },
   "outputs": [],
   "source": [
    "df[df['Category'] == 'Graffiti Public Property']['Diff'].describe()"
   ]
  },
  {
   "cell_type": "code",
   "execution_count": null,
   "metadata": {
    "collapsed": false
   },
   "outputs": [],
   "source": [
    "df['Source'].value_counts()"
   ]
  },
  {
   "cell_type": "code",
   "execution_count": null,
   "metadata": {
    "collapsed": false
   },
   "outputs": [],
   "source": [
    "df[df['Source'] == 'Open311']['Diff'].describe()"
   ]
  },
  {
   "cell_type": "code",
   "execution_count": null,
   "metadata": {
    "collapsed": false
   },
   "outputs": [],
   "source": [
    "df[df['Source'] == 'Voice In']['Diff'].describe()"
   ]
  },
  {
   "cell_type": "code",
   "execution_count": null,
   "metadata": {
    "collapsed": false
   },
   "outputs": [],
   "source": [
    "df[df['Source'] == 'Integrated Agency']['Diff'].describe()"
   ]
  },
  {
   "cell_type": "markdown",
   "metadata": {},
   "source": [
    "# Consider some exploratory statistics / reality checks"
   ]
  },
  {
   "cell_type": "code",
   "execution_count": null,
   "metadata": {
    "collapsed": false
   },
   "outputs": [],
   "source": [
    "source = df.Source.value_counts()\n",
    "print(type(source))\n",
    "\n",
    "\n",
    "print(source)"
   ]
  },
  {
   "cell_type": "code",
   "execution_count": null,
   "metadata": {
    "collapsed": false
   },
   "outputs": [],
   "source": [
    "type(source)"
   ]
  },
  {
   "cell_type": "code",
   "execution_count": null,
   "metadata": {
    "collapsed": false
   },
   "outputs": [],
   "source": [
    "label_list = source.index.tolist()\n",
    "print(label_list)"
   ]
  },
  {
   "cell_type": "code",
   "execution_count": null,
   "metadata": {
    "collapsed": false
   },
   "outputs": [],
   "source": [
    "source = source.tolist()\n",
    "source\n"
   ]
  },
  {
   "cell_type": "code",
   "execution_count": null,
   "metadata": {
    "collapsed": false
   },
   "outputs": [],
   "source": [
    "\n",
    "\n",
    "plt.axis(\"equal\")\n",
    "plt.pie(\n",
    "        source,\n",
    "        labels=label_list,\n",
    "        autopct=\"%1.1f%%\"\n",
    "        )\n",
    "plt.title(\"Graffiti Reports Submitted in 2016\")\n",
    "plt.show()"
   ]
  },
  {
   "cell_type": "code",
   "execution_count": null,
   "metadata": {
    "collapsed": true
   },
   "outputs": [],
   "source": []
  },
  {
   "cell_type": "code",
   "execution_count": null,
   "metadata": {
    "collapsed": false
   },
   "outputs": [],
   "source": [
    "sups = df['Supervisor District'].value_counts().head(11)"
   ]
  },
  {
   "cell_type": "code",
   "execution_count": null,
   "metadata": {
    "collapsed": false
   },
   "outputs": [],
   "source": [
    "top = "
   ]
  },
  {
   "cell_type": "markdown",
   "metadata": {},
   "source": [
    "# Get list of Supervisor's'"
   ]
  },
  {
   "cell_type": "code",
   "execution_count": null,
   "metadata": {
    "collapsed": true
   },
   "outputs": [],
   "source": []
  },
  {
   "cell_type": "code",
   "execution_count": null,
   "metadata": {
    "collapsed": true
   },
   "outputs": [],
   "source": []
  },
  {
   "cell_type": "code",
   "execution_count": null,
   "metadata": {
    "collapsed": true
   },
   "outputs": [],
   "source": []
  },
  {
   "cell_type": "code",
   "execution_count": null,
   "metadata": {
    "collapsed": false
   },
   "outputs": [],
   "source": [
    "df['Status Notes'].value_counts().head(10)"
   ]
  },
  {
   "cell_type": "code",
   "execution_count": null,
   "metadata": {
    "collapsed": false
   },
   "outputs": [],
   "source": [
    "df['Status'].value_counts().head()"
   ]
  },
  {
   "cell_type": "code",
   "execution_count": null,
   "metadata": {
    "collapsed": false
   },
   "outputs": [],
   "source": [
    "df['Responsible Agency'].value_counts().head(8)"
   ]
  },
  {
   "cell_type": "code",
   "execution_count": null,
   "metadata": {
    "collapsed": false
   },
   "outputs": [],
   "source": [
    "df.Category.value_counts().head()"
   ]
  },
  {
   "cell_type": "code",
   "execution_count": null,
   "metadata": {
    "collapsed": false
   },
   "outputs": [],
   "source": [
    "df['Request Type'].value_counts().head(10)"
   ]
  },
  {
   "cell_type": "code",
   "execution_count": null,
   "metadata": {
    "collapsed": false
   },
   "outputs": [],
   "source": [
    "df['Request Details'].value_counts().head(20)"
   ]
  },
  {
   "cell_type": "code",
   "execution_count": null,
   "metadata": {
    "collapsed": false
   },
   "outputs": [],
   "source": [
    "df['Address'].value_counts().head(20)"
   ]
  },
  {
   "cell_type": "code",
   "execution_count": null,
   "metadata": {
    "collapsed": false
   },
   "outputs": [],
   "source": [
    "df['Source'].value_counts().head(6)"
   ]
  },
  {
   "cell_type": "code",
   "execution_count": null,
   "metadata": {
    "collapsed": false
   },
   "outputs": [],
   "source": [
    "df['Media URL'].describe()"
   ]
  },
  {
   "cell_type": "code",
   "execution_count": null,
   "metadata": {
    "collapsed": false
   },
   "outputs": [],
   "source": [
    "df['Point'].describe()"
   ]
  },
  {
   "cell_type": "code",
   "execution_count": null,
   "metadata": {
    "collapsed": true
   },
   "outputs": [],
   "source": [
    "\n",
    "\n",
    "\n"
   ]
  },
  {
   "cell_type": "markdown",
   "metadata": {
    "collapsed": true
   },
   "source": [
    "# Plot this.    Simple First\n"
   ]
  },
  {
   "cell_type": "code",
   "execution_count": null,
   "metadata": {
    "collapsed": true
   },
   "outputs": [],
   "source": [
    "#Plot by top responsible agency that is not DPW"
   ]
  },
  {
   "cell_type": "code",
   "execution_count": null,
   "metadata": {
    "collapsed": true
   },
   "outputs": [],
   "source": []
  },
  {
   "cell_type": "code",
   "execution_count": null,
   "metadata": {
    "collapsed": true
   },
   "outputs": [],
   "source": []
  },
  {
   "cell_type": "code",
   "execution_count": null,
   "metadata": {
    "collapsed": true
   },
   "outputs": [],
   "source": []
  },
  {
   "cell_type": "code",
   "execution_count": null,
   "metadata": {
    "collapsed": true
   },
   "outputs": [],
   "source": []
  },
  {
   "cell_type": "code",
   "execution_count": null,
   "metadata": {
    "collapsed": true
   },
   "outputs": [],
   "source": []
  },
  {
   "cell_type": "code",
   "execution_count": null,
   "metadata": {
    "collapsed": true
   },
   "outputs": [],
   "source": []
  },
  {
   "cell_type": "code",
   "execution_count": null,
   "metadata": {
    "collapsed": true
   },
   "outputs": [],
   "source": []
  },
  {
   "cell_type": "code",
   "execution_count": null,
   "metadata": {
    "collapsed": true
   },
   "outputs": [],
   "source": []
  },
  {
   "cell_type": "markdown",
   "metadata": {},
   "source": [
    "# Start Plotting the simple items"
   ]
  },
  {
   "cell_type": "markdown",
   "metadata": {},
   "source": [
    "# Plot Responsible Agency non DPW"
   ]
  },
  {
   "cell_type": "markdown",
   "metadata": {},
   "source": [
    "## minimally acceptable is to do pie / dpw vs all other\n",
    "### DPW share compared to prior years\n",
    "### Conclude, DPW doing a good job, how about the other departments\n",
    "### Bar Chart the top 5-6\n",
    "### Which of the top 5-6 are doing better.\n",
    "### can't give the most natural statistic, because "
   ]
  },
  {
   "cell_type": "code",
   "execution_count": null,
   "metadata": {
    "collapsed": true
   },
   "outputs": [],
   "source": []
  }
 ],
 "metadata": {
  "kernelspec": {
   "display_name": "Python 3",
   "language": "python",
   "name": "python3"
  },
  "language_info": {
   "codemirror_mode": {
    "name": "ipython",
    "version": 3
   },
   "file_extension": ".py",
   "mimetype": "text/x-python",
   "name": "python",
   "nbconvert_exporter": "python",
   "pygments_lexer": "ipython3",
   "version": "3.5.2"
  }
 },
 "nbformat": 4,
 "nbformat_minor": 1
}
