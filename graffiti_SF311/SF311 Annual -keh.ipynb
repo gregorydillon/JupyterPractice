{
 "cells": [
  {
   "cell_type": "markdown",
   "metadata": {},
   "source": [
    "# Annual"
   ]
  },
  {
   "cell_type": "markdown",
   "metadata": {},
   "source": [
    "# Make Sure the modules are installed\n",
    "\n"
   ]
  },
  {
   "cell_type": "markdown",
   "metadata": {},
   "source": [
    "# Import modules"
   ]
  },
  {
   "cell_type": "code",
   "execution_count": 191,
   "metadata": {
    "collapsed": false
   },
   "outputs": [],
   "source": [
    "%matplotlib inline\n",
    "import numpy as np\n",
    "import pandas as pd\n",
    "import matplotlib.pyplot as plt\n",
    "\n"
   ]
  },
  {
   "cell_type": "code",
   "execution_count": 192,
   "metadata": {
    "collapsed": false
   },
   "outputs": [
    {
     "name": "stdout",
     "output_type": "stream",
     "text": [
      "/home/gdillon/JupyterPractice/graffiti_SF311\r\n"
     ]
    }
   ],
   "source": [
    "!pwd"
   ]
  },
  {
   "cell_type": "markdown",
   "metadata": {
    "collapsed": true
   },
   "source": [
    "# produce viz of annual total 2009-2016\n",
    "because I'm using SQL type queery with count(*), this responds faster"
   ]
  },
  {
   "cell_type": "markdown",
   "metadata": {},
   "source": [
    "## api call for count of all by year"
   ]
  },
  {
   "cell_type": "code",
   "execution_count": 193,
   "metadata": {
    "collapsed": true
   },
   "outputs": [],
   "source": [
    "url = 'https://data.sfgov.org/resource/qer8-n8u9.csv?$select=date_trunc_y(opened)as%20year,%20count(*)&$order=year&$group=year'"
   ]
  },
  {
   "cell_type": "code",
   "execution_count": 194,
   "metadata": {
    "collapsed": false
   },
   "outputs": [
    {
     "data": {
      "text/html": [
       "<div>\n",
       "<table border=\"1\" class=\"dataframe\">\n",
       "  <thead>\n",
       "    <tr style=\"text-align: right;\">\n",
       "      <th></th>\n",
       "      <th>year</th>\n",
       "      <th>count</th>\n",
       "    </tr>\n",
       "  </thead>\n",
       "  <tbody>\n",
       "    <tr>\n",
       "      <th>1</th>\n",
       "      <td>01/01/2009 12:00:00 AM</td>\n",
       "      <td>32285</td>\n",
       "    </tr>\n",
       "    <tr>\n",
       "      <th>2</th>\n",
       "      <td>01/01/2010 12:00:00 AM</td>\n",
       "      <td>26769</td>\n",
       "    </tr>\n",
       "    <tr>\n",
       "      <th>3</th>\n",
       "      <td>01/01/2011 12:00:00 AM</td>\n",
       "      <td>25445</td>\n",
       "    </tr>\n",
       "    <tr>\n",
       "      <th>4</th>\n",
       "      <td>01/01/2012 12:00:00 AM</td>\n",
       "      <td>26254</td>\n",
       "    </tr>\n",
       "    <tr>\n",
       "      <th>5</th>\n",
       "      <td>01/01/2013 12:00:00 AM</td>\n",
       "      <td>35831</td>\n",
       "    </tr>\n",
       "    <tr>\n",
       "      <th>6</th>\n",
       "      <td>01/01/2014 12:00:00 AM</td>\n",
       "      <td>46808</td>\n",
       "    </tr>\n",
       "    <tr>\n",
       "      <th>7</th>\n",
       "      <td>01/01/2015 12:00:00 AM</td>\n",
       "      <td>57249</td>\n",
       "    </tr>\n",
       "    <tr>\n",
       "      <th>8</th>\n",
       "      <td>01/01/2016 12:00:00 AM</td>\n",
       "      <td>72392</td>\n",
       "    </tr>\n",
       "  </tbody>\n",
       "</table>\n",
       "</div>"
      ],
      "text/plain": [
       "                     year  count\n",
       "1  01/01/2009 12:00:00 AM  32285\n",
       "2  01/01/2010 12:00:00 AM  26769\n",
       "3  01/01/2011 12:00:00 AM  25445\n",
       "4  01/01/2012 12:00:00 AM  26254\n",
       "5  01/01/2013 12:00:00 AM  35831\n",
       "6  01/01/2014 12:00:00 AM  46808\n",
       "7  01/01/2015 12:00:00 AM  57249\n",
       "8  01/01/2016 12:00:00 AM  72392"
      ]
     },
     "execution_count": 194,
     "metadata": {},
     "output_type": "execute_result"
    }
   ],
   "source": [
    "df = pd.read_csv(url)\n",
    "df = df[1:-1]\n",
    "df"
   ]
  },
  {
   "cell_type": "code",
   "execution_count": null,
   "metadata": {
    "collapsed": true
   },
   "outputs": [],
   "source": []
  },
  {
   "cell_type": "code",
   "execution_count": 195,
   "metadata": {
    "collapsed": false
   },
   "outputs": [
    {
     "name": "stderr",
     "output_type": "stream",
     "text": [
      "/home/gdillon/.local/lib/python3.5/site-packages/ipykernel/__main__.py:1: FutureWarning: currently extract(expand=None) means expand=False (return Index/Series/DataFrame) but in a future version of pandas this will be changed to expand=True (return DataFrame)\n",
      "  if __name__ == '__main__':\n"
     ]
    },
    {
     "data": {
      "text/plain": [
       "1    2009\n",
       "2    2010\n",
       "3    2011\n",
       "4    2012\n",
       "5    2013\n",
       "6    2014\n",
       "7    2015\n",
       "8    2016\n",
       "Name: year, dtype: int64"
      ]
     },
     "execution_count": 195,
     "metadata": {},
     "output_type": "execute_result"
    }
   ],
   "source": [
    "df['year'].str.extract('(?P<year>\\d{4})').astype(int)\n"
   ]
  },
  {
   "cell_type": "code",
   "execution_count": 196,
   "metadata": {
    "collapsed": false
   },
   "outputs": [
    {
     "name": "stderr",
     "output_type": "stream",
     "text": [
      "/home/gdillon/.local/lib/python3.5/site-packages/ipykernel/__main__.py:1: FutureWarning: currently extract(expand=None) means expand=False (return Index/Series/DataFrame) but in a future version of pandas this will be changed to expand=True (return DataFrame)\n",
      "  if __name__ == '__main__':\n"
     ]
    },
    {
     "data": {
      "text/html": [
       "<div>\n",
       "<table border=\"1\" class=\"dataframe\">\n",
       "  <thead>\n",
       "    <tr style=\"text-align: right;\">\n",
       "      <th></th>\n",
       "      <th>year</th>\n",
       "      <th>count</th>\n",
       "    </tr>\n",
       "  </thead>\n",
       "  <tbody>\n",
       "    <tr>\n",
       "      <th>1</th>\n",
       "      <td>2009</td>\n",
       "      <td>32285</td>\n",
       "    </tr>\n",
       "    <tr>\n",
       "      <th>2</th>\n",
       "      <td>2010</td>\n",
       "      <td>26769</td>\n",
       "    </tr>\n",
       "    <tr>\n",
       "      <th>3</th>\n",
       "      <td>2011</td>\n",
       "      <td>25445</td>\n",
       "    </tr>\n",
       "    <tr>\n",
       "      <th>4</th>\n",
       "      <td>2012</td>\n",
       "      <td>26254</td>\n",
       "    </tr>\n",
       "    <tr>\n",
       "      <th>5</th>\n",
       "      <td>2013</td>\n",
       "      <td>35831</td>\n",
       "    </tr>\n",
       "    <tr>\n",
       "      <th>6</th>\n",
       "      <td>2014</td>\n",
       "      <td>46808</td>\n",
       "    </tr>\n",
       "    <tr>\n",
       "      <th>7</th>\n",
       "      <td>2015</td>\n",
       "      <td>57249</td>\n",
       "    </tr>\n",
       "    <tr>\n",
       "      <th>8</th>\n",
       "      <td>2016</td>\n",
       "      <td>72392</td>\n",
       "    </tr>\n",
       "  </tbody>\n",
       "</table>\n",
       "</div>"
      ],
      "text/plain": [
       "   year  count\n",
       "1  2009  32285\n",
       "2  2010  26769\n",
       "3  2011  25445\n",
       "4  2012  26254\n",
       "5  2013  35831\n",
       "6  2014  46808\n",
       "7  2015  57249\n",
       "8  2016  72392"
      ]
     },
     "execution_count": 196,
     "metadata": {},
     "output_type": "execute_result"
    }
   ],
   "source": [
    "df['year']=df['year'].str.extract('(?P<year>\\d{4})').astype(str)\n",
    "df['count']=df['count'].astype(int)\n",
    "df"
   ]
  },
  {
   "cell_type": "code",
   "execution_count": 197,
   "metadata": {
    "collapsed": false
   },
   "outputs": [
    {
     "data": {
      "text/html": [
       "\n",
       "    <div class=\"bk-root\">\n",
       "        <a href=\"http://bokeh.pydata.org\" target=\"_blank\" class=\"bk-logo bk-logo-small bk-logo-notebook\"></a>\n",
       "        <span id=\"91728dd0-1af5-48d3-bf3f-a200e39fbdf5\">Loading BokehJS ...</span>\n",
       "    </div>"
      ]
     },
     "metadata": {},
     "output_type": "display_data"
    },
    {
     "data": {
      "application/javascript": [
       "\n",
       "(function(global) {\n",
       "  function now() {\n",
       "    return new Date();\n",
       "  }\n",
       "\n",
       "  var force = \"1\";\n",
       "\n",
       "  if (typeof (window._bokeh_onload_callbacks) === \"undefined\" || force !== \"\") {\n",
       "    window._bokeh_onload_callbacks = [];\n",
       "    window._bokeh_is_loading = undefined;\n",
       "  }\n",
       "\n",
       "\n",
       "  \n",
       "  if (typeof (window._bokeh_timeout) === \"undefined\" || force !== \"\") {\n",
       "    window._bokeh_timeout = Date.now() + 5000;\n",
       "    window._bokeh_failed_load = false;\n",
       "  }\n",
       "\n",
       "  var NB_LOAD_WARNING = {'data': {'text/html':\n",
       "     \"<div style='background-color: #fdd'>\\n\"+\n",
       "     \"<p>\\n\"+\n",
       "     \"BokehJS does not appear to have successfully loaded. If loading BokehJS from CDN, this \\n\"+\n",
       "     \"may be due to a slow or bad network connection. Possible fixes:\\n\"+\n",
       "     \"</p>\\n\"+\n",
       "     \"<ul>\\n\"+\n",
       "     \"<li>re-rerun `output_notebook()` to attempt to load from CDN again, or</li>\\n\"+\n",
       "     \"<li>use INLINE resources instead, as so:</li>\\n\"+\n",
       "     \"</ul>\\n\"+\n",
       "     \"<code>\\n\"+\n",
       "     \"from bokeh.resources import INLINE\\n\"+\n",
       "     \"output_notebook(resources=INLINE)\\n\"+\n",
       "     \"</code>\\n\"+\n",
       "     \"</div>\"}};\n",
       "\n",
       "  function display_loaded() {\n",
       "    if (window.Bokeh !== undefined) {\n",
       "      Bokeh.$(\"#91728dd0-1af5-48d3-bf3f-a200e39fbdf5\").text(\"BokehJS successfully loaded.\");\n",
       "    } else if (Date.now() < window._bokeh_timeout) {\n",
       "      setTimeout(display_loaded, 100)\n",
       "    }\n",
       "  }\n",
       "\n",
       "  function run_callbacks() {\n",
       "    window._bokeh_onload_callbacks.forEach(function(callback) { callback() });\n",
       "    delete window._bokeh_onload_callbacks\n",
       "    console.info(\"Bokeh: all callbacks have finished\");\n",
       "  }\n",
       "\n",
       "  function load_libs(js_urls, callback) {\n",
       "    window._bokeh_onload_callbacks.push(callback);\n",
       "    if (window._bokeh_is_loading > 0) {\n",
       "      console.log(\"Bokeh: BokehJS is being loaded, scheduling callback at\", now());\n",
       "      return null;\n",
       "    }\n",
       "    if (js_urls == null || js_urls.length === 0) {\n",
       "      run_callbacks();\n",
       "      return null;\n",
       "    }\n",
       "    console.log(\"Bokeh: BokehJS not loaded, scheduling load and callback at\", now());\n",
       "    window._bokeh_is_loading = js_urls.length;\n",
       "    for (var i = 0; i < js_urls.length; i++) {\n",
       "      var url = js_urls[i];\n",
       "      var s = document.createElement('script');\n",
       "      s.src = url;\n",
       "      s.async = false;\n",
       "      s.onreadystatechange = s.onload = function() {\n",
       "        window._bokeh_is_loading--;\n",
       "        if (window._bokeh_is_loading === 0) {\n",
       "          console.log(\"Bokeh: all BokehJS libraries loaded\");\n",
       "          run_callbacks()\n",
       "        }\n",
       "      };\n",
       "      s.onerror = function() {\n",
       "        console.warn(\"failed to load library \" + url);\n",
       "      };\n",
       "      console.log(\"Bokeh: injecting script tag for BokehJS library: \", url);\n",
       "      document.getElementsByTagName(\"head\")[0].appendChild(s);\n",
       "    }\n",
       "  };var element = document.getElementById(\"91728dd0-1af5-48d3-bf3f-a200e39fbdf5\");\n",
       "  if (element == null) {\n",
       "    console.log(\"Bokeh: ERROR: autoload.js configured with elementid '91728dd0-1af5-48d3-bf3f-a200e39fbdf5' but no matching script tag was found. \")\n",
       "    return false;\n",
       "  }\n",
       "\n",
       "  var js_urls = ['https://cdn.pydata.org/bokeh/release/bokeh-0.12.3.min.js', 'https://cdn.pydata.org/bokeh/release/bokeh-widgets-0.12.3.min.js'];\n",
       "\n",
       "  var inline_js = [\n",
       "    function(Bokeh) {\n",
       "      Bokeh.set_log_level(\"info\");\n",
       "    },\n",
       "    \n",
       "    function(Bokeh) {\n",
       "      \n",
       "      Bokeh.$(\"#91728dd0-1af5-48d3-bf3f-a200e39fbdf5\").text(\"BokehJS is loading...\");\n",
       "    },\n",
       "    function(Bokeh) {\n",
       "      console.log(\"Bokeh: injecting CSS: https://cdn.pydata.org/bokeh/release/bokeh-0.12.3.min.css\");\n",
       "      Bokeh.embed.inject_css(\"https://cdn.pydata.org/bokeh/release/bokeh-0.12.3.min.css\");\n",
       "      console.log(\"Bokeh: injecting CSS: https://cdn.pydata.org/bokeh/release/bokeh-widgets-0.12.3.min.css\");\n",
       "      Bokeh.embed.inject_css(\"https://cdn.pydata.org/bokeh/release/bokeh-widgets-0.12.3.min.css\");\n",
       "    }\n",
       "  ];\n",
       "\n",
       "  function run_inline_js() {\n",
       "    \n",
       "    if ((window.Bokeh !== undefined) || (force === \"1\")) {\n",
       "      for (var i = 0; i < inline_js.length; i++) {\n",
       "        inline_js[i](window.Bokeh);\n",
       "      }if (force === \"1\") {\n",
       "        display_loaded();\n",
       "      }} else if (Date.now() < window._bokeh_timeout) {\n",
       "      setTimeout(run_inline_js, 100);\n",
       "    } else if (!window._bokeh_failed_load) {\n",
       "      console.log(\"Bokeh: BokehJS failed to load within specified timeout.\");\n",
       "      window._bokeh_failed_load = true;\n",
       "    } else if (!force) {\n",
       "      var cell = $(\"#91728dd0-1af5-48d3-bf3f-a200e39fbdf5\").parents('.cell').data().cell;\n",
       "      cell.output_area.append_execute_result(NB_LOAD_WARNING)\n",
       "    }\n",
       "\n",
       "  }\n",
       "\n",
       "  if (window._bokeh_is_loading === 0) {\n",
       "    console.log(\"Bokeh: BokehJS loaded, going straight to plotting\");\n",
       "    run_inline_js();\n",
       "  } else {\n",
       "    load_libs(js_urls, function() {\n",
       "      console.log(\"Bokeh: BokehJS plotting callback run at\", now());\n",
       "      run_inline_js();\n",
       "    });\n",
       "  }\n",
       "}(this));"
      ]
     },
     "metadata": {},
     "output_type": "display_data"
    }
   ],
   "source": [
    "from bokeh.charts import Bar, output_file, output_notebook\n",
    "from bokeh.layouts import row\n",
    "output_notebook()"
   ]
  },
  {
   "cell_type": "code",
   "execution_count": null,
   "metadata": {
    "collapsed": false
   },
   "outputs": [
    {
     "data": {
      "text/html": [
       "\n",
       "\n",
       "    <div class=\"bk-root\">\n",
       "        <div class=\"plotdiv\" id=\"46a8aeec-5d63-4cf9-a9b0-00d3c39708ae\"></div>\n",
       "    </div>\n",
       "<script type=\"text/javascript\">\n",
       "  \n",
       "  (function(global) {\n",
       "    function now() {\n",
       "      return new Date();\n",
       "    }\n",
       "  \n",
       "    var force = \"\";\n",
       "  \n",
       "    if (typeof (window._bokeh_onload_callbacks) === \"undefined\" || force !== \"\") {\n",
       "      window._bokeh_onload_callbacks = [];\n",
       "      window._bokeh_is_loading = undefined;\n",
       "    }\n",
       "  \n",
       "  \n",
       "    \n",
       "    if (typeof (window._bokeh_timeout) === \"undefined\" || force !== \"\") {\n",
       "      window._bokeh_timeout = Date.now() + 0;\n",
       "      window._bokeh_failed_load = false;\n",
       "    }\n",
       "  \n",
       "    var NB_LOAD_WARNING = {'data': {'text/html':\n",
       "       \"<div style='background-color: #fdd'>\\n\"+\n",
       "       \"<p>\\n\"+\n",
       "       \"BokehJS does not appear to have successfully loaded. If loading BokehJS from CDN, this \\n\"+\n",
       "       \"may be due to a slow or bad network connection. Possible fixes:\\n\"+\n",
       "       \"</p>\\n\"+\n",
       "       \"<ul>\\n\"+\n",
       "       \"<li>re-rerun `output_notebook()` to attempt to load from CDN again, or</li>\\n\"+\n",
       "       \"<li>use INLINE resources instead, as so:</li>\\n\"+\n",
       "       \"</ul>\\n\"+\n",
       "       \"<code>\\n\"+\n",
       "       \"from bokeh.resources import INLINE\\n\"+\n",
       "       \"output_notebook(resources=INLINE)\\n\"+\n",
       "       \"</code>\\n\"+\n",
       "       \"</div>\"}};\n",
       "  \n",
       "    function display_loaded() {\n",
       "      if (window.Bokeh !== undefined) {\n",
       "        Bokeh.$(\"#46a8aeec-5d63-4cf9-a9b0-00d3c39708ae\").text(\"BokehJS successfully loaded.\");\n",
       "      } else if (Date.now() < window._bokeh_timeout) {\n",
       "        setTimeout(display_loaded, 100)\n",
       "      }\n",
       "    }\n",
       "  \n",
       "    function run_callbacks() {\n",
       "      window._bokeh_onload_callbacks.forEach(function(callback) { callback() });\n",
       "      delete window._bokeh_onload_callbacks\n",
       "      console.info(\"Bokeh: all callbacks have finished\");\n",
       "    }\n",
       "  \n",
       "    function load_libs(js_urls, callback) {\n",
       "      window._bokeh_onload_callbacks.push(callback);\n",
       "      if (window._bokeh_is_loading > 0) {\n",
       "        console.log(\"Bokeh: BokehJS is being loaded, scheduling callback at\", now());\n",
       "        return null;\n",
       "      }\n",
       "      if (js_urls == null || js_urls.length === 0) {\n",
       "        run_callbacks();\n",
       "        return null;\n",
       "      }\n",
       "      console.log(\"Bokeh: BokehJS not loaded, scheduling load and callback at\", now());\n",
       "      window._bokeh_is_loading = js_urls.length;\n",
       "      for (var i = 0; i < js_urls.length; i++) {\n",
       "        var url = js_urls[i];\n",
       "        var s = document.createElement('script');\n",
       "        s.src = url;\n",
       "        s.async = false;\n",
       "        s.onreadystatechange = s.onload = function() {\n",
       "          window._bokeh_is_loading--;\n",
       "          if (window._bokeh_is_loading === 0) {\n",
       "            console.log(\"Bokeh: all BokehJS libraries loaded\");\n",
       "            run_callbacks()\n",
       "          }\n",
       "        };\n",
       "        s.onerror = function() {\n",
       "          console.warn(\"failed to load library \" + url);\n",
       "        };\n",
       "        console.log(\"Bokeh: injecting script tag for BokehJS library: \", url);\n",
       "        document.getElementsByTagName(\"head\")[0].appendChild(s);\n",
       "      }\n",
       "    };var element = document.getElementById(\"46a8aeec-5d63-4cf9-a9b0-00d3c39708ae\");\n",
       "    if (element == null) {\n",
       "      console.log(\"Bokeh: ERROR: autoload.js configured with elementid '46a8aeec-5d63-4cf9-a9b0-00d3c39708ae' but no matching script tag was found. \")\n",
       "      return false;\n",
       "    }\n",
       "  \n",
       "    var js_urls = [];\n",
       "  \n",
       "    var inline_js = [\n",
       "      function(Bokeh) {\n",
       "        Bokeh.$(function() {\n",
       "            var docs_json = {\"db5d6ed5-7033-4546-ac07-635b137a5fdf\":{\"roots\":{\"references\":[{\"attributes\":{\"label\":{\"value\":\"2012\"},\"renderers\":[{\"id\":\"e14c7729-ba2d-48a4-a0e1-543c939d9074\",\"type\":\"GlyphRenderer\"}]},\"id\":\"a0b3225f-553a-4881-a715-c92651a09166\",\"type\":\"LegendItem\"},{\"attributes\":{\"plot\":{\"id\":\"45792751-60d3-481d-8214-6d2bdd695b0b\",\"subtype\":\"Chart\",\"type\":\"Plot\"}},\"id\":\"bdb07cd3-7d02-4fd3-99ef-5496e7ad9a06\",\"type\":\"WheelZoomTool\"},{\"attributes\":{\"data_source\":{\"id\":\"010fd0aa-7fdd-40c8-af12-010be708f1cd\",\"type\":\"ColumnDataSource\"},\"glyph\":{\"id\":\"9a678ffc-e747-4577-942c-d1d14a00d7e9\",\"type\":\"Rect\"},\"hover_glyph\":null,\"nonselection_glyph\":null,\"selection_glyph\":null},\"id\":\"d3db7643-12bc-4ec9-9937-cd8969576cce\",\"type\":\"GlyphRenderer\"},{\"attributes\":{\"fill_alpha\":{\"field\":\"fill_alpha\"},\"fill_color\":{\"field\":\"color\"},\"height\":{\"field\":\"height\",\"units\":\"data\"},\"line_color\":{\"field\":\"line_color\"},\"width\":{\"field\":\"width\",\"units\":\"data\"},\"x\":{\"field\":\"x\"},\"y\":{\"field\":\"y\"}},\"id\":\"1542c471-82df-473f-8a41-bcded913a6c9\",\"type\":\"Rect\"},{\"attributes\":{\"data_source\":{\"id\":\"eea666f0-3bdd-4dfe-830e-50a1019d3a79\",\"type\":\"ColumnDataSource\"},\"glyph\":{\"id\":\"6ca31f6f-6b57-4219-98b9-26ab08fceada\",\"type\":\"Rect\"},\"hover_glyph\":null,\"nonselection_glyph\":null,\"selection_glyph\":null},\"id\":\"bc3610ab-69e9-409a-87a1-3c3c301a4c26\",\"type\":\"GlyphRenderer\"},{\"attributes\":{\"overlay\":{\"id\":\"119fcf3a-718c-476e-a01d-9a97bf1245ab\",\"type\":\"BoxAnnotation\"},\"plot\":{\"id\":\"45792751-60d3-481d-8214-6d2bdd695b0b\",\"subtype\":\"Chart\",\"type\":\"Plot\"}},\"id\":\"a3de256f-d5de-4f68-8f8f-95b5a0fec413\",\"type\":\"BoxZoomTool\"},{\"attributes\":{\"plot\":{\"id\":\"45792751-60d3-481d-8214-6d2bdd695b0b\",\"subtype\":\"Chart\",\"type\":\"Plot\"}},\"id\":\"0a61e8b0-0391-4a22-904e-f3db91efb121\",\"type\":\"ResetTool\"},{\"attributes\":{},\"id\":\"17568a8c-eb25-49fb-ba0b-d4e2dcf1af31\",\"type\":\"CategoricalTicker\"},{\"attributes\":{},\"id\":\"f1d12884-5706-40da-8cc6-18cde1130c64\",\"type\":\"ToolEvents\"},{\"attributes\":{\"active_drag\":\"auto\",\"active_scroll\":\"auto\",\"active_tap\":\"auto\",\"tools\":[{\"id\":\"e6873a44-2e14-4d1f-b122-4c9b6172a713\",\"type\":\"PanTool\"},{\"id\":\"bdb07cd3-7d02-4fd3-99ef-5496e7ad9a06\",\"type\":\"WheelZoomTool\"},{\"id\":\"a3de256f-d5de-4f68-8f8f-95b5a0fec413\",\"type\":\"BoxZoomTool\"},{\"id\":\"d377bfaa-68ac-418d-81ed-c4f7f79495ee\",\"type\":\"SaveTool\"},{\"id\":\"0a61e8b0-0391-4a22-904e-f3db91efb121\",\"type\":\"ResetTool\"},{\"id\":\"c8638bb4-4505-4ae3-8663-72204a879627\",\"type\":\"HelpTool\"}]},\"id\":\"97f7922f-4c1d-46e9-8ad4-e28369a41b70\",\"type\":\"Toolbar\"},{\"attributes\":{\"plot\":{\"id\":\"45792751-60d3-481d-8214-6d2bdd695b0b\",\"subtype\":\"Chart\",\"type\":\"Plot\"}},\"id\":\"c8638bb4-4505-4ae3-8663-72204a879627\",\"type\":\"HelpTool\"},{\"attributes\":{\"label\":{\"value\":\"2015\"},\"renderers\":[{\"id\":\"53054cae-f535-4492-a165-28993970ce47\",\"type\":\"GlyphRenderer\"}]},\"id\":\"80084dce-c2cc-4a96-aca7-3c73eb6b0a22\",\"type\":\"LegendItem\"},{\"attributes\":{\"callback\":null,\"column_names\":[\"height\",\"line_color\",\"x\",\"label\",\"color\",\"width\",\"fill_alpha\",\"line_alpha\",\"y\"],\"data\":{\"chart_index\":[{\"year\":\"2014\"}],\"color\":[\"#f22c40\"],\"fill_alpha\":[0.8],\"height\":[46808.0],\"label\":[{\"year\":\"2014\"}],\"line_alpha\":[1.0],\"line_color\":[\"white\"],\"width\":[0.8],\"x\":[\"2014\"],\"y\":[23404.0],\"year\":[\"2014\"]}},\"id\":\"eea666f0-3bdd-4dfe-830e-50a1019d3a79\",\"type\":\"ColumnDataSource\"},{\"attributes\":{\"data_source\":{\"id\":\"93677991-9693-4e41-b7fe-9a9fb7fdf5d8\",\"type\":\"ColumnDataSource\"},\"glyph\":{\"id\":\"1542c471-82df-473f-8a41-bcded913a6c9\",\"type\":\"Rect\"},\"hover_glyph\":null,\"nonselection_glyph\":null,\"selection_glyph\":null},\"id\":\"87b1057d-7f65-49cd-889b-4394837d16d4\",\"type\":\"GlyphRenderer\"},{\"attributes\":{\"fill_alpha\":{\"field\":\"fill_alpha\"},\"fill_color\":{\"field\":\"color\"},\"height\":{\"field\":\"height\",\"units\":\"data\"},\"line_color\":{\"field\":\"line_color\"},\"width\":{\"field\":\"width\",\"units\":\"data\"},\"x\":{\"field\":\"x\"},\"y\":{\"field\":\"y\"}},\"id\":\"7f0b46bc-52fc-4a74-8daf-ed5dbd1c73e4\",\"type\":\"Rect\"},{\"attributes\":{\"fill_alpha\":{\"field\":\"fill_alpha\"},\"fill_color\":{\"field\":\"color\"},\"height\":{\"field\":\"height\",\"units\":\"data\"},\"line_color\":{\"field\":\"line_color\"},\"width\":{\"field\":\"width\",\"units\":\"data\"},\"x\":{\"field\":\"x\"},\"y\":{\"field\":\"y\"}},\"id\":\"9cd93740-1665-4cf3-8a30-5081f4a0c6d9\",\"type\":\"Rect\"},{\"attributes\":{\"callback\":null,\"column_names\":[\"height\",\"line_color\",\"x\",\"label\",\"color\",\"width\",\"fill_alpha\",\"line_alpha\",\"y\"],\"data\":{\"chart_index\":[{\"year\":\"2013\"}],\"color\":[\"#f22c40\"],\"fill_alpha\":[0.8],\"height\":[35831.0],\"label\":[{\"year\":\"2013\"}],\"line_alpha\":[1.0],\"line_color\":[\"white\"],\"width\":[0.8],\"x\":[\"2013\"],\"y\":[17915.5],\"year\":[\"2013\"]}},\"id\":\"010fd0aa-7fdd-40c8-af12-010be708f1cd\",\"type\":\"ColumnDataSource\"},{\"attributes\":{},\"id\":\"62a245e1-a3b2-4f4d-ac85-e55a9c05d486\",\"type\":\"BasicTicker\"},{\"attributes\":{\"below\":[{\"id\":\"48641194-009c-437a-980d-d9f3594a731f\",\"type\":\"CategoricalAxis\"}],\"left\":[{\"id\":\"1260fee8-9c3f-40e7-bad1-b5f6a1afbe99\",\"type\":\"LinearAxis\"}],\"renderers\":[{\"id\":\"119fcf3a-718c-476e-a01d-9a97bf1245ab\",\"type\":\"BoxAnnotation\"},{\"id\":\"519b8bae-47cf-4d39-b652-d71b201e60fb\",\"type\":\"GlyphRenderer\"},{\"id\":\"87b1057d-7f65-49cd-889b-4394837d16d4\",\"type\":\"GlyphRenderer\"},{\"id\":\"053832df-17f3-4f58-83b5-a3eea6b2995f\",\"type\":\"GlyphRenderer\"},{\"id\":\"e14c7729-ba2d-48a4-a0e1-543c939d9074\",\"type\":\"GlyphRenderer\"},{\"id\":\"d3db7643-12bc-4ec9-9937-cd8969576cce\",\"type\":\"GlyphRenderer\"},{\"id\":\"bc3610ab-69e9-409a-87a1-3c3c301a4c26\",\"type\":\"GlyphRenderer\"},{\"id\":\"53054cae-f535-4492-a165-28993970ce47\",\"type\":\"GlyphRenderer\"},{\"id\":\"a7f265f6-cc95-4d5f-b93d-9ba9f8d36dc2\",\"type\":\"GlyphRenderer\"},{\"id\":\"ceda83b1-6dc5-435c-b600-c8a7586cb198\",\"type\":\"Legend\"},{\"id\":\"48641194-009c-437a-980d-d9f3594a731f\",\"type\":\"CategoricalAxis\"},{\"id\":\"1260fee8-9c3f-40e7-bad1-b5f6a1afbe99\",\"type\":\"LinearAxis\"},{\"id\":\"42282957-1ef6-4b51-a6b7-db100e37ebe6\",\"type\":\"Grid\"}],\"title\":{\"id\":\"71ae163b-d3fb-4b2c-8864-7a8a94e16a4b\",\"type\":\"Title\"},\"tool_events\":{\"id\":\"f1d12884-5706-40da-8cc6-18cde1130c64\",\"type\":\"ToolEvents\"},\"toolbar\":{\"id\":\"97f7922f-4c1d-46e9-8ad4-e28369a41b70\",\"type\":\"Toolbar\"},\"x_mapper_type\":\"auto\",\"x_range\":{\"id\":\"9c5d2608-f3aa-4519-8d59-60e9cdb8aba7\",\"type\":\"FactorRange\"},\"y_mapper_type\":\"auto\",\"y_range\":{\"id\":\"f72a52c2-18a1-4043-a243-ee1f8324c556\",\"type\":\"Range1d\"}},\"id\":\"45792751-60d3-481d-8214-6d2bdd695b0b\",\"subtype\":\"Chart\",\"type\":\"Plot\"},{\"attributes\":{\"label\":{\"value\":\"2011\"},\"renderers\":[{\"id\":\"053832df-17f3-4f58-83b5-a3eea6b2995f\",\"type\":\"GlyphRenderer\"}]},\"id\":\"2dabc66b-fc7b-422f-8133-55adf81e5de9\",\"type\":\"LegendItem\"},{\"attributes\":{\"axis_label\":\"Year\",\"formatter\":{\"id\":\"b443a568-d7b1-4d59-8464-3427984e9945\",\"type\":\"CategoricalTickFormatter\"},\"major_label_orientation\":0.7853981633974483,\"plot\":{\"id\":\"45792751-60d3-481d-8214-6d2bdd695b0b\",\"subtype\":\"Chart\",\"type\":\"Plot\"},\"ticker\":{\"id\":\"17568a8c-eb25-49fb-ba0b-d4e2dcf1af31\",\"type\":\"CategoricalTicker\"}},\"id\":\"48641194-009c-437a-980d-d9f3594a731f\",\"type\":\"CategoricalAxis\"},{\"attributes\":{\"label\":{\"value\":\"2010\"},\"renderers\":[{\"id\":\"87b1057d-7f65-49cd-889b-4394837d16d4\",\"type\":\"GlyphRenderer\"}]},\"id\":\"74ef5b6c-fbc8-4a64-9cbd-1f2de208690e\",\"type\":\"LegendItem\"},{\"attributes\":{\"data_source\":{\"id\":\"672a6faa-78f8-4606-99ab-5b4a96088cd7\",\"type\":\"ColumnDataSource\"},\"glyph\":{\"id\":\"7f0b46bc-52fc-4a74-8daf-ed5dbd1c73e4\",\"type\":\"Rect\"},\"hover_glyph\":null,\"nonselection_glyph\":null,\"selection_glyph\":null},\"id\":\"a7f265f6-cc95-4d5f-b93d-9ba9f8d36dc2\",\"type\":\"GlyphRenderer\"},{\"attributes\":{\"label\":{\"value\":\"2016\"},\"renderers\":[{\"id\":\"a7f265f6-cc95-4d5f-b93d-9ba9f8d36dc2\",\"type\":\"GlyphRenderer\"}]},\"id\":\"055fae0f-c03d-4b7b-98d3-76a2fdc364a4\",\"type\":\"LegendItem\"},{\"attributes\":{},\"id\":\"b443a568-d7b1-4d59-8464-3427984e9945\",\"type\":\"CategoricalTickFormatter\"},{\"attributes\":{\"label\":{\"value\":\"2014\"},\"renderers\":[{\"id\":\"bc3610ab-69e9-409a-87a1-3c3c301a4c26\",\"type\":\"GlyphRenderer\"}]},\"id\":\"69b116ea-2b23-4d23-9d2d-bfed7ad5c052\",\"type\":\"LegendItem\"},{\"attributes\":{\"callback\":null,\"end\":76011.6},\"id\":\"f72a52c2-18a1-4043-a243-ee1f8324c556\",\"type\":\"Range1d\"},{\"attributes\":{\"fill_alpha\":{\"field\":\"fill_alpha\"},\"fill_color\":{\"field\":\"color\"},\"height\":{\"field\":\"height\",\"units\":\"data\"},\"line_color\":{\"field\":\"line_color\"},\"width\":{\"field\":\"width\",\"units\":\"data\"},\"x\":{\"field\":\"x\"},\"y\":{\"field\":\"y\"}},\"id\":\"5906a5b6-a644-4873-bbff-fc7a9cc8b40d\",\"type\":\"Rect\"},{\"attributes\":{\"label\":{\"value\":\"2009\"},\"renderers\":[{\"id\":\"519b8bae-47cf-4d39-b652-d71b201e60fb\",\"type\":\"GlyphRenderer\"}]},\"id\":\"a7d8ff20-9cd0-4c87-a5c7-2d4d6ca5e85b\",\"type\":\"LegendItem\"},{\"attributes\":{\"callback\":null,\"column_names\":[\"height\",\"line_color\",\"x\",\"label\",\"color\",\"width\",\"fill_alpha\",\"line_alpha\",\"y\"],\"data\":{\"chart_index\":[{\"year\":\"2010\"}],\"color\":[\"#f22c40\"],\"fill_alpha\":[0.8],\"height\":[26769.0],\"label\":[{\"year\":\"2010\"}],\"line_alpha\":[1.0],\"line_color\":[\"white\"],\"width\":[0.8],\"x\":[\"2010\"],\"y\":[13384.5],\"year\":[\"2010\"]}},\"id\":\"93677991-9693-4e41-b7fe-9a9fb7fdf5d8\",\"type\":\"ColumnDataSource\"},{\"attributes\":{\"callback\":null,\"column_names\":[\"height\",\"line_color\",\"x\",\"label\",\"color\",\"width\",\"fill_alpha\",\"line_alpha\",\"y\"],\"data\":{\"chart_index\":[{\"year\":\"2016\"}],\"color\":[\"#f22c40\"],\"fill_alpha\":[0.8],\"height\":[72392.0],\"label\":[{\"year\":\"2016\"}],\"line_alpha\":[1.0],\"line_color\":[\"white\"],\"width\":[0.8],\"x\":[\"2016\"],\"y\":[36196.0],\"year\":[\"2016\"]}},\"id\":\"672a6faa-78f8-4606-99ab-5b4a96088cd7\",\"type\":\"ColumnDataSource\"},{\"attributes\":{\"data_source\":{\"id\":\"5e41a310-d115-47a0-95bd-07d46a2aeb45\",\"type\":\"ColumnDataSource\"},\"glyph\":{\"id\":\"9cd93740-1665-4cf3-8a30-5081f4a0c6d9\",\"type\":\"Rect\"},\"hover_glyph\":null,\"nonselection_glyph\":null,\"selection_glyph\":null},\"id\":\"053832df-17f3-4f58-83b5-a3eea6b2995f\",\"type\":\"GlyphRenderer\"},{\"attributes\":{\"fill_alpha\":{\"field\":\"fill_alpha\"},\"fill_color\":{\"field\":\"color\"},\"height\":{\"field\":\"height\",\"units\":\"data\"},\"line_color\":{\"field\":\"line_color\"},\"width\":{\"field\":\"width\",\"units\":\"data\"},\"x\":{\"field\":\"x\"},\"y\":{\"field\":\"y\"}},\"id\":\"ec5154d4-d62d-433f-bfc9-cb47f8612ec4\",\"type\":\"Rect\"},{\"attributes\":{\"callback\":null,\"column_names\":[\"height\",\"line_color\",\"x\",\"label\",\"color\",\"width\",\"fill_alpha\",\"line_alpha\",\"y\"],\"data\":{\"chart_index\":[{\"year\":\"2012\"}],\"color\":[\"#f22c40\"],\"fill_alpha\":[0.8],\"height\":[26254.0],\"label\":[{\"year\":\"2012\"}],\"line_alpha\":[1.0],\"line_color\":[\"white\"],\"width\":[0.8],\"x\":[\"2012\"],\"y\":[13127.0],\"year\":[\"2012\"]}},\"id\":\"a323c856-10d5-4bb7-bbb1-bcdc9918499b\",\"type\":\"ColumnDataSource\"},{\"attributes\":{\"bottom_units\":\"screen\",\"fill_alpha\":{\"value\":0.5},\"fill_color\":{\"value\":\"lightgrey\"},\"left_units\":\"screen\",\"level\":\"overlay\",\"line_alpha\":{\"value\":1.0},\"line_color\":{\"value\":\"black\"},\"line_dash\":[4,4],\"line_width\":{\"value\":2},\"plot\":null,\"render_mode\":\"css\",\"right_units\":\"screen\",\"top_units\":\"screen\"},\"id\":\"119fcf3a-718c-476e-a01d-9a97bf1245ab\",\"type\":\"BoxAnnotation\"},{\"attributes\":{\"callback\":null,\"column_names\":[\"height\",\"line_color\",\"x\",\"label\",\"color\",\"width\",\"fill_alpha\",\"line_alpha\",\"y\"],\"data\":{\"chart_index\":[{\"year\":\"2011\"}],\"color\":[\"#f22c40\"],\"fill_alpha\":[0.8],\"height\":[25445.0],\"label\":[{\"year\":\"2011\"}],\"line_alpha\":[1.0],\"line_color\":[\"white\"],\"width\":[0.8],\"x\":[\"2011\"],\"y\":[12722.5],\"year\":[\"2011\"]}},\"id\":\"5e41a310-d115-47a0-95bd-07d46a2aeb45\",\"type\":\"ColumnDataSource\"},{\"attributes\":{\"data_source\":{\"id\":\"6c738bda-65b4-4436-a9e7-31ff89d5b9f2\",\"type\":\"ColumnDataSource\"},\"glyph\":{\"id\":\"ec5154d4-d62d-433f-bfc9-cb47f8612ec4\",\"type\":\"Rect\"},\"hover_glyph\":null,\"nonselection_glyph\":null,\"selection_glyph\":null},\"id\":\"53054cae-f535-4492-a165-28993970ce47\",\"type\":\"GlyphRenderer\"},{\"attributes\":{\"fill_alpha\":{\"field\":\"fill_alpha\"},\"fill_color\":{\"field\":\"color\"},\"height\":{\"field\":\"height\",\"units\":\"data\"},\"line_color\":{\"field\":\"line_color\"},\"width\":{\"field\":\"width\",\"units\":\"data\"},\"x\":{\"field\":\"x\"},\"y\":{\"field\":\"y\"}},\"id\":\"9a678ffc-e747-4577-942c-d1d14a00d7e9\",\"type\":\"Rect\"},{\"attributes\":{\"plot\":{\"id\":\"45792751-60d3-481d-8214-6d2bdd695b0b\",\"subtype\":\"Chart\",\"type\":\"Plot\"}},\"id\":\"d377bfaa-68ac-418d-81ed-c4f7f79495ee\",\"type\":\"SaveTool\"},{\"attributes\":{\"axis_label\":\"Sum( Count )\",\"formatter\":{\"id\":\"797f83a5-bd80-4f15-ac59-173d4f4dfe71\",\"type\":\"BasicTickFormatter\"},\"plot\":{\"id\":\"45792751-60d3-481d-8214-6d2bdd695b0b\",\"subtype\":\"Chart\",\"type\":\"Plot\"},\"ticker\":{\"id\":\"62a245e1-a3b2-4f4d-ac85-e55a9c05d486\",\"type\":\"BasicTicker\"}},\"id\":\"1260fee8-9c3f-40e7-bad1-b5f6a1afbe99\",\"type\":\"LinearAxis\"},{\"attributes\":{\"plot\":null,\"text\":\"Graffiti reported to SF311 by year\"},\"id\":\"71ae163b-d3fb-4b2c-8864-7a8a94e16a4b\",\"type\":\"Title\"},{\"attributes\":{\"data_source\":{\"id\":\"a323c856-10d5-4bb7-bbb1-bcdc9918499b\",\"type\":\"ColumnDataSource\"},\"glyph\":{\"id\":\"5906a5b6-a644-4873-bbff-fc7a9cc8b40d\",\"type\":\"Rect\"},\"hover_glyph\":null,\"nonselection_glyph\":null,\"selection_glyph\":null},\"id\":\"e14c7729-ba2d-48a4-a0e1-543c939d9074\",\"type\":\"GlyphRenderer\"},{\"attributes\":{\"callback\":null,\"column_names\":[\"height\",\"line_color\",\"x\",\"label\",\"color\",\"width\",\"fill_alpha\",\"line_alpha\",\"y\"],\"data\":{\"chart_index\":[{\"year\":\"2015\"}],\"color\":[\"#f22c40\"],\"fill_alpha\":[0.8],\"height\":[57249.0],\"label\":[{\"year\":\"2015\"}],\"line_alpha\":[1.0],\"line_color\":[\"white\"],\"width\":[0.8],\"x\":[\"2015\"],\"y\":[28624.5],\"year\":[\"2015\"]}},\"id\":\"6c738bda-65b4-4436-a9e7-31ff89d5b9f2\",\"type\":\"ColumnDataSource\"},{\"attributes\":{\"label\":{\"value\":\"2013\"},\"renderers\":[{\"id\":\"d3db7643-12bc-4ec9-9937-cd8969576cce\",\"type\":\"GlyphRenderer\"}]},\"id\":\"62c089f3-5d20-472b-89dd-07c187273caa\",\"type\":\"LegendItem\"},{\"attributes\":{\"children\":[{\"id\":\"45792751-60d3-481d-8214-6d2bdd695b0b\",\"subtype\":\"Chart\",\"type\":\"Plot\"}]},\"id\":\"7520b266-b813-4edd-872d-3bb04863be26\",\"type\":\"Row\"},{\"attributes\":{\"items\":[{\"id\":\"a7d8ff20-9cd0-4c87-a5c7-2d4d6ca5e85b\",\"type\":\"LegendItem\"},{\"id\":\"74ef5b6c-fbc8-4a64-9cbd-1f2de208690e\",\"type\":\"LegendItem\"},{\"id\":\"2dabc66b-fc7b-422f-8133-55adf81e5de9\",\"type\":\"LegendItem\"},{\"id\":\"a0b3225f-553a-4881-a715-c92651a09166\",\"type\":\"LegendItem\"},{\"id\":\"62c089f3-5d20-472b-89dd-07c187273caa\",\"type\":\"LegendItem\"},{\"id\":\"69b116ea-2b23-4d23-9d2d-bfed7ad5c052\",\"type\":\"LegendItem\"},{\"id\":\"80084dce-c2cc-4a96-aca7-3c73eb6b0a22\",\"type\":\"LegendItem\"},{\"id\":\"055fae0f-c03d-4b7b-98d3-76a2fdc364a4\",\"type\":\"LegendItem\"}],\"location\":\"top_left\",\"plot\":{\"id\":\"45792751-60d3-481d-8214-6d2bdd695b0b\",\"subtype\":\"Chart\",\"type\":\"Plot\"}},\"id\":\"ceda83b1-6dc5-435c-b600-c8a7586cb198\",\"type\":\"Legend\"},{\"attributes\":{\"callback\":null,\"factors\":[\"2009\",\"2010\",\"2011\",\"2012\",\"2013\",\"2014\",\"2015\",\"2016\"]},\"id\":\"9c5d2608-f3aa-4519-8d59-60e9cdb8aba7\",\"type\":\"FactorRange\"},{\"attributes\":{},\"id\":\"797f83a5-bd80-4f15-ac59-173d4f4dfe71\",\"type\":\"BasicTickFormatter\"},{\"attributes\":{\"dimension\":1,\"plot\":{\"id\":\"45792751-60d3-481d-8214-6d2bdd695b0b\",\"subtype\":\"Chart\",\"type\":\"Plot\"},\"ticker\":{\"id\":\"62a245e1-a3b2-4f4d-ac85-e55a9c05d486\",\"type\":\"BasicTicker\"}},\"id\":\"42282957-1ef6-4b51-a6b7-db100e37ebe6\",\"type\":\"Grid\"},{\"attributes\":{\"plot\":{\"id\":\"45792751-60d3-481d-8214-6d2bdd695b0b\",\"subtype\":\"Chart\",\"type\":\"Plot\"}},\"id\":\"e6873a44-2e14-4d1f-b122-4c9b6172a713\",\"type\":\"PanTool\"},{\"attributes\":{\"fill_alpha\":{\"field\":\"fill_alpha\"},\"fill_color\":{\"field\":\"color\"},\"height\":{\"field\":\"height\",\"units\":\"data\"},\"line_color\":{\"field\":\"line_color\"},\"width\":{\"field\":\"width\",\"units\":\"data\"},\"x\":{\"field\":\"x\"},\"y\":{\"field\":\"y\"}},\"id\":\"6ca31f6f-6b57-4219-98b9-26ab08fceada\",\"type\":\"Rect\"},{\"attributes\":{\"fill_alpha\":{\"field\":\"fill_alpha\"},\"fill_color\":{\"field\":\"color\"},\"height\":{\"field\":\"height\",\"units\":\"data\"},\"line_color\":{\"field\":\"line_color\"},\"width\":{\"field\":\"width\",\"units\":\"data\"},\"x\":{\"field\":\"x\"},\"y\":{\"field\":\"y\"}},\"id\":\"eb2e782c-26db-44de-9f56-c8a4900cdf94\",\"type\":\"Rect\"},{\"attributes\":{\"data_source\":{\"id\":\"9aaca719-ecc3-4690-acd2-48702d06a585\",\"type\":\"ColumnDataSource\"},\"glyph\":{\"id\":\"eb2e782c-26db-44de-9f56-c8a4900cdf94\",\"type\":\"Rect\"},\"hover_glyph\":null,\"nonselection_glyph\":null,\"selection_glyph\":null},\"id\":\"519b8bae-47cf-4d39-b652-d71b201e60fb\",\"type\":\"GlyphRenderer\"},{\"attributes\":{\"callback\":null,\"column_names\":[\"height\",\"line_color\",\"x\",\"label\",\"color\",\"width\",\"fill_alpha\",\"line_alpha\",\"y\"],\"data\":{\"chart_index\":[{\"year\":\"2009\"}],\"color\":[\"#f22c40\"],\"fill_alpha\":[0.8],\"height\":[32285.0],\"label\":[{\"year\":\"2009\"}],\"line_alpha\":[1.0],\"line_color\":[\"white\"],\"width\":[0.8],\"x\":[\"2009\"],\"y\":[16142.5],\"year\":[\"2009\"]}},\"id\":\"9aaca719-ecc3-4690-acd2-48702d06a585\",\"type\":\"ColumnDataSource\"}],\"root_ids\":[\"7520b266-b813-4edd-872d-3bb04863be26\"]},\"title\":\"Bokeh Application\",\"version\":\"0.12.3\"}};\n",
       "            var render_items = [{\"docid\":\"db5d6ed5-7033-4546-ac07-635b137a5fdf\",\"elementid\":\"46a8aeec-5d63-4cf9-a9b0-00d3c39708ae\",\"modelid\":\"7520b266-b813-4edd-872d-3bb04863be26\"}];\n",
       "            \n",
       "            Bokeh.embed.embed_items(docs_json, render_items);\n",
       "        });\n",
       "      },\n",
       "      function(Bokeh) {\n",
       "      }\n",
       "    ];\n",
       "  \n",
       "    function run_inline_js() {\n",
       "      \n",
       "      if ((window.Bokeh !== undefined) || (force === \"1\")) {\n",
       "        for (var i = 0; i < inline_js.length; i++) {\n",
       "          inline_js[i](window.Bokeh);\n",
       "        }if (force === \"1\") {\n",
       "          display_loaded();\n",
       "        }} else if (Date.now() < window._bokeh_timeout) {\n",
       "        setTimeout(run_inline_js, 100);\n",
       "      } else if (!window._bokeh_failed_load) {\n",
       "        console.log(\"Bokeh: BokehJS failed to load within specified timeout.\");\n",
       "        window._bokeh_failed_load = true;\n",
       "      } else if (!force) {\n",
       "        var cell = $(\"#46a8aeec-5d63-4cf9-a9b0-00d3c39708ae\").parents('.cell').data().cell;\n",
       "        cell.output_area.append_execute_result(NB_LOAD_WARNING)\n",
       "      }\n",
       "  \n",
       "    }\n",
       "  \n",
       "    if (window._bokeh_is_loading === 0) {\n",
       "      console.log(\"Bokeh: BokehJS loaded, going straight to plotting\");\n",
       "      run_inline_js();\n",
       "    } else {\n",
       "      load_libs(js_urls, function() {\n",
       "        console.log(\"Bokeh: BokehJS plotting callback run at\", now());\n",
       "        run_inline_js();\n",
       "      });\n",
       "    }\n",
       "  }(this));\n",
       "</script>"
      ]
     },
     "metadata": {},
     "output_type": "display_data"
    }
   ],
   "source": [
    "trend = Bar(df, values = 'count', label = 'year', title = 'Graffiti reported to SF311 by year')\n",
    "show(row(trend))"
   ]
  },
  {
   "cell_type": "code",
   "execution_count": 92,
   "metadata": {
    "collapsed": false
   },
   "outputs": [
    {
     "data": {
      "text/html": [
       "<div>\n",
       "<table border=\"1\" class=\"dataframe\">\n",
       "  <thead>\n",
       "    <tr style=\"text-align: right;\">\n",
       "      <th></th>\n",
       "      <th>year</th>\n",
       "      <th>count</th>\n",
       "    </tr>\n",
       "  </thead>\n",
       "  <tbody>\n",
       "    <tr>\n",
       "      <th>7</th>\n",
       "      <td>2015</td>\n",
       "      <td>57249</td>\n",
       "    </tr>\n",
       "    <tr>\n",
       "      <th>8</th>\n",
       "      <td>2016</td>\n",
       "      <td>72392</td>\n",
       "    </tr>\n",
       "  </tbody>\n",
       "</table>\n",
       "</div>"
      ],
      "text/plain": [
       "   year  count\n",
       "7  2015  57249\n",
       "8  2016  72392"
      ]
     },
     "execution_count": 92,
     "metadata": {},
     "output_type": "execute_result"
    }
   ],
   "source": [
    "df = df[3:-1]\n",
    "df"
   ]
  },
  {
   "cell_type": "code",
   "execution_count": 93,
   "metadata": {
    "collapsed": false
   },
   "outputs": [
    {
     "data": {
      "text/html": [
       "\n",
       "\n",
       "    <div class=\"bk-root\">\n",
       "        <div class=\"plotdiv\" id=\"18b34f34-5828-46e1-9b1a-a43a2b4bfd9a\"></div>\n",
       "    </div>\n",
       "<script type=\"text/javascript\">\n",
       "  \n",
       "  (function(global) {\n",
       "    function now() {\n",
       "      return new Date();\n",
       "    }\n",
       "  \n",
       "    var force = \"\";\n",
       "  \n",
       "    if (typeof (window._bokeh_onload_callbacks) === \"undefined\" || force !== \"\") {\n",
       "      window._bokeh_onload_callbacks = [];\n",
       "      window._bokeh_is_loading = undefined;\n",
       "    }\n",
       "  \n",
       "  \n",
       "    \n",
       "    if (typeof (window._bokeh_timeout) === \"undefined\" || force !== \"\") {\n",
       "      window._bokeh_timeout = Date.now() + 0;\n",
       "      window._bokeh_failed_load = false;\n",
       "    }\n",
       "  \n",
       "    var NB_LOAD_WARNING = {'data': {'text/html':\n",
       "       \"<div style='background-color: #fdd'>\\n\"+\n",
       "       \"<p>\\n\"+\n",
       "       \"BokehJS does not appear to have successfully loaded. If loading BokehJS from CDN, this \\n\"+\n",
       "       \"may be due to a slow or bad network connection. Possible fixes:\\n\"+\n",
       "       \"</p>\\n\"+\n",
       "       \"<ul>\\n\"+\n",
       "       \"<li>re-rerun `output_notebook()` to attempt to load from CDN again, or</li>\\n\"+\n",
       "       \"<li>use INLINE resources instead, as so:</li>\\n\"+\n",
       "       \"</ul>\\n\"+\n",
       "       \"<code>\\n\"+\n",
       "       \"from bokeh.resources import INLINE\\n\"+\n",
       "       \"output_notebook(resources=INLINE)\\n\"+\n",
       "       \"</code>\\n\"+\n",
       "       \"</div>\"}};\n",
       "  \n",
       "    function display_loaded() {\n",
       "      if (window.Bokeh !== undefined) {\n",
       "        Bokeh.$(\"#18b34f34-5828-46e1-9b1a-a43a2b4bfd9a\").text(\"BokehJS successfully loaded.\");\n",
       "      } else if (Date.now() < window._bokeh_timeout) {\n",
       "        setTimeout(display_loaded, 100)\n",
       "      }\n",
       "    }\n",
       "  \n",
       "    function run_callbacks() {\n",
       "      window._bokeh_onload_callbacks.forEach(function(callback) { callback() });\n",
       "      delete window._bokeh_onload_callbacks\n",
       "      console.info(\"Bokeh: all callbacks have finished\");\n",
       "    }\n",
       "  \n",
       "    function load_libs(js_urls, callback) {\n",
       "      window._bokeh_onload_callbacks.push(callback);\n",
       "      if (window._bokeh_is_loading > 0) {\n",
       "        console.log(\"Bokeh: BokehJS is being loaded, scheduling callback at\", now());\n",
       "        return null;\n",
       "      }\n",
       "      if (js_urls == null || js_urls.length === 0) {\n",
       "        run_callbacks();\n",
       "        return null;\n",
       "      }\n",
       "      console.log(\"Bokeh: BokehJS not loaded, scheduling load and callback at\", now());\n",
       "      window._bokeh_is_loading = js_urls.length;\n",
       "      for (var i = 0; i < js_urls.length; i++) {\n",
       "        var url = js_urls[i];\n",
       "        var s = document.createElement('script');\n",
       "        s.src = url;\n",
       "        s.async = false;\n",
       "        s.onreadystatechange = s.onload = function() {\n",
       "          window._bokeh_is_loading--;\n",
       "          if (window._bokeh_is_loading === 0) {\n",
       "            console.log(\"Bokeh: all BokehJS libraries loaded\");\n",
       "            run_callbacks()\n",
       "          }\n",
       "        };\n",
       "        s.onerror = function() {\n",
       "          console.warn(\"failed to load library \" + url);\n",
       "        };\n",
       "        console.log(\"Bokeh: injecting script tag for BokehJS library: \", url);\n",
       "        document.getElementsByTagName(\"head\")[0].appendChild(s);\n",
       "      }\n",
       "    };var element = document.getElementById(\"18b34f34-5828-46e1-9b1a-a43a2b4bfd9a\");\n",
       "    if (element == null) {\n",
       "      console.log(\"Bokeh: ERROR: autoload.js configured with elementid '18b34f34-5828-46e1-9b1a-a43a2b4bfd9a' but no matching script tag was found. \")\n",
       "      return false;\n",
       "    }\n",
       "  \n",
       "    var js_urls = [];\n",
       "  \n",
       "    var inline_js = [\n",
       "      function(Bokeh) {\n",
       "        Bokeh.$(function() {\n",
       "            var docs_json = {\"7684d3e6-e39f-463b-b9d2-24a74e7f1e9b\":{\"roots\":{\"references\":[{\"attributes\":{\"callback\":null,\"end\":76011.6},\"id\":\"ea39fb64-cd73-4e9f-8b25-17ca7f1f2670\",\"type\":\"Range1d\"},{\"attributes\":{\"label\":{\"value\":\"2016\"},\"renderers\":[{\"id\":\"52e42398-6cda-4b18-9a8c-b869e3d25d7d\",\"type\":\"GlyphRenderer\"}]},\"id\":\"c96bb27d-edf9-4db6-9011-136b3acbba74\",\"type\":\"LegendItem\"},{\"attributes\":{},\"id\":\"71079ab7-089b-4c35-9bc0-93b26282a476\",\"type\":\"CategoricalTickFormatter\"},{\"attributes\":{\"fill_alpha\":{\"field\":\"fill_alpha\"},\"fill_color\":{\"field\":\"color\"},\"height\":{\"field\":\"height\",\"units\":\"data\"},\"line_color\":{\"field\":\"line_color\"},\"width\":{\"field\":\"width\",\"units\":\"data\"},\"x\":{\"field\":\"x\"},\"y\":{\"field\":\"y\"}},\"id\":\"e02fbc6f-2ef3-4ec3-978e-18fc73c4290d\",\"type\":\"Rect\"},{\"attributes\":{\"data_source\":{\"id\":\"295691ce-db6b-45bd-a879-070e284b1421\",\"type\":\"ColumnDataSource\"},\"glyph\":{\"id\":\"40d60f85-8673-4a83-8dd9-ed5bd35bb149\",\"type\":\"Rect\"},\"hover_glyph\":null,\"nonselection_glyph\":null,\"selection_glyph\":null},\"id\":\"2559385a-6b24-4f49-843c-33e739387791\",\"type\":\"GlyphRenderer\"},{\"attributes\":{\"callback\":null,\"column_names\":[\"height\",\"line_color\",\"x\",\"label\",\"color\",\"width\",\"fill_alpha\",\"line_alpha\",\"y\"],\"data\":{\"chart_index\":[{\"year\":\"2016\"}],\"color\":[\"#f22c40\"],\"fill_alpha\":[0.8],\"height\":[72392.0],\"label\":[{\"year\":\"2016\"}],\"line_alpha\":[1.0],\"line_color\":[\"white\"],\"width\":[0.8],\"x\":[\"2016\"],\"y\":[36196.0],\"year\":[\"2016\"]}},\"id\":\"30c5abb9-126b-4704-93e5-e55b162d46ac\",\"type\":\"ColumnDataSource\"},{\"attributes\":{},\"id\":\"66809894-eb89-4e97-a8ea-23a2b36edc50\",\"type\":\"BasicTicker\"},{\"attributes\":{},\"id\":\"f35bf086-6f59-4cab-b2a4-7719a7700db5\",\"type\":\"BasicTickFormatter\"},{\"attributes\":{\"plot\":{\"id\":\"5420e452-2aa1-40a8-b7cd-9d5ed6d8fdb8\",\"subtype\":\"Chart\",\"type\":\"Plot\"}},\"id\":\"068abb58-d0fe-4cbe-8bd9-eda8cb7c2493\",\"type\":\"HelpTool\"},{\"attributes\":{\"axis_label\":\"Year\",\"formatter\":{\"id\":\"71079ab7-089b-4c35-9bc0-93b26282a476\",\"type\":\"CategoricalTickFormatter\"},\"major_label_orientation\":0.7853981633974483,\"plot\":{\"id\":\"5420e452-2aa1-40a8-b7cd-9d5ed6d8fdb8\",\"subtype\":\"Chart\",\"type\":\"Plot\"},\"ticker\":{\"id\":\"9cc54144-b725-41f1-aab2-b5246ab7b951\",\"type\":\"CategoricalTicker\"}},\"id\":\"08bf1ba7-da39-4463-b281-c4d1f61a0b84\",\"type\":\"CategoricalAxis\"},{\"attributes\":{\"bottom_units\":\"screen\",\"fill_alpha\":{\"value\":0.5},\"fill_color\":{\"value\":\"lightgrey\"},\"left_units\":\"screen\",\"level\":\"overlay\",\"line_alpha\":{\"value\":1.0},\"line_color\":{\"value\":\"black\"},\"line_dash\":[4,4],\"line_width\":{\"value\":2},\"plot\":null,\"render_mode\":\"css\",\"right_units\":\"screen\",\"top_units\":\"screen\"},\"id\":\"be9d2662-5a6d-49af-933b-2c2c74f7d5f9\",\"type\":\"BoxAnnotation\"},{\"attributes\":{\"callback\":null,\"column_names\":[\"height\",\"line_color\",\"x\",\"label\",\"color\",\"width\",\"fill_alpha\",\"line_alpha\",\"y\"],\"data\":{\"chart_index\":[{\"year\":\"2015\"}],\"color\":[\"#f22c40\"],\"fill_alpha\":[0.8],\"height\":[57249.0],\"label\":[{\"year\":\"2015\"}],\"line_alpha\":[1.0],\"line_color\":[\"white\"],\"width\":[0.8],\"x\":[\"2015\"],\"y\":[28624.5],\"year\":[\"2015\"]}},\"id\":\"295691ce-db6b-45bd-a879-070e284b1421\",\"type\":\"ColumnDataSource\"},{\"attributes\":{},\"id\":\"9cc54144-b725-41f1-aab2-b5246ab7b951\",\"type\":\"CategoricalTicker\"},{\"attributes\":{\"active_drag\":\"auto\",\"active_scroll\":\"auto\",\"active_tap\":\"auto\",\"tools\":[{\"id\":\"9ae2a300-3387-42b3-bcd6-dcf4679ce38f\",\"type\":\"PanTool\"},{\"id\":\"cd81edf1-9e4f-4dda-858a-3a4753f05ddb\",\"type\":\"WheelZoomTool\"},{\"id\":\"37251ab4-aaff-48cb-ad80-6fee0d462f3f\",\"type\":\"BoxZoomTool\"},{\"id\":\"09904da9-f327-4c40-b00b-991ecf3d726d\",\"type\":\"SaveTool\"},{\"id\":\"1a204b23-25a8-40fd-af9d-1f3214d52d92\",\"type\":\"ResetTool\"},{\"id\":\"068abb58-d0fe-4cbe-8bd9-eda8cb7c2493\",\"type\":\"HelpTool\"}]},\"id\":\"ce71f6ff-ac71-4db4-a77c-7d26956cdfbf\",\"type\":\"Toolbar\"},{\"attributes\":{\"plot\":null,\"text\":null},\"id\":\"9eb2294a-caff-42b5-857d-cacea3cc33b9\",\"type\":\"Title\"},{\"attributes\":{\"plot\":{\"id\":\"5420e452-2aa1-40a8-b7cd-9d5ed6d8fdb8\",\"subtype\":\"Chart\",\"type\":\"Plot\"}},\"id\":\"1a204b23-25a8-40fd-af9d-1f3214d52d92\",\"type\":\"ResetTool\"},{\"attributes\":{\"dimension\":1,\"plot\":{\"id\":\"5420e452-2aa1-40a8-b7cd-9d5ed6d8fdb8\",\"subtype\":\"Chart\",\"type\":\"Plot\"},\"ticker\":{\"id\":\"66809894-eb89-4e97-a8ea-23a2b36edc50\",\"type\":\"BasicTicker\"}},\"id\":\"55e00713-c712-49d3-9cca-883722c1572d\",\"type\":\"Grid\"},{\"attributes\":{\"plot\":{\"id\":\"5420e452-2aa1-40a8-b7cd-9d5ed6d8fdb8\",\"subtype\":\"Chart\",\"type\":\"Plot\"}},\"id\":\"9ae2a300-3387-42b3-bcd6-dcf4679ce38f\",\"type\":\"PanTool\"},{\"attributes\":{\"children\":[{\"id\":\"5420e452-2aa1-40a8-b7cd-9d5ed6d8fdb8\",\"subtype\":\"Chart\",\"type\":\"Plot\"}]},\"id\":\"efe24efc-1239-4db9-8f58-176cbdd71fad\",\"type\":\"Row\"},{\"attributes\":{\"callback\":null,\"factors\":[\"2015\",\"2016\"]},\"id\":\"659e071f-e541-455c-84cb-7fd46b90bd80\",\"type\":\"FactorRange\"},{\"attributes\":{\"items\":[{\"id\":\"ee6c0b80-0602-4d6b-9310-44de9f803a3a\",\"type\":\"LegendItem\"},{\"id\":\"c96bb27d-edf9-4db6-9011-136b3acbba74\",\"type\":\"LegendItem\"}],\"location\":\"top_left\",\"plot\":{\"id\":\"5420e452-2aa1-40a8-b7cd-9d5ed6d8fdb8\",\"subtype\":\"Chart\",\"type\":\"Plot\"}},\"id\":\"3fd9e18c-7140-4421-b8a0-d0d3f985bb08\",\"type\":\"Legend\"},{\"attributes\":{\"axis_label\":\"Sum( Count )\",\"formatter\":{\"id\":\"f35bf086-6f59-4cab-b2a4-7719a7700db5\",\"type\":\"BasicTickFormatter\"},\"plot\":{\"id\":\"5420e452-2aa1-40a8-b7cd-9d5ed6d8fdb8\",\"subtype\":\"Chart\",\"type\":\"Plot\"},\"ticker\":{\"id\":\"66809894-eb89-4e97-a8ea-23a2b36edc50\",\"type\":\"BasicTicker\"}},\"id\":\"3a9ba182-7916-455d-befc-843b0013aa49\",\"type\":\"LinearAxis\"},{\"attributes\":{\"plot\":{\"id\":\"5420e452-2aa1-40a8-b7cd-9d5ed6d8fdb8\",\"subtype\":\"Chart\",\"type\":\"Plot\"}},\"id\":\"09904da9-f327-4c40-b00b-991ecf3d726d\",\"type\":\"SaveTool\"},{\"attributes\":{\"data_source\":{\"id\":\"30c5abb9-126b-4704-93e5-e55b162d46ac\",\"type\":\"ColumnDataSource\"},\"glyph\":{\"id\":\"e02fbc6f-2ef3-4ec3-978e-18fc73c4290d\",\"type\":\"Rect\"},\"hover_glyph\":null,\"nonselection_glyph\":null,\"selection_glyph\":null},\"id\":\"52e42398-6cda-4b18-9a8c-b869e3d25d7d\",\"type\":\"GlyphRenderer\"},{\"attributes\":{\"below\":[{\"id\":\"08bf1ba7-da39-4463-b281-c4d1f61a0b84\",\"type\":\"CategoricalAxis\"}],\"left\":[{\"id\":\"3a9ba182-7916-455d-befc-843b0013aa49\",\"type\":\"LinearAxis\"}],\"renderers\":[{\"id\":\"be9d2662-5a6d-49af-933b-2c2c74f7d5f9\",\"type\":\"BoxAnnotation\"},{\"id\":\"2559385a-6b24-4f49-843c-33e739387791\",\"type\":\"GlyphRenderer\"},{\"id\":\"52e42398-6cda-4b18-9a8c-b869e3d25d7d\",\"type\":\"GlyphRenderer\"},{\"id\":\"3fd9e18c-7140-4421-b8a0-d0d3f985bb08\",\"type\":\"Legend\"},{\"id\":\"08bf1ba7-da39-4463-b281-c4d1f61a0b84\",\"type\":\"CategoricalAxis\"},{\"id\":\"3a9ba182-7916-455d-befc-843b0013aa49\",\"type\":\"LinearAxis\"},{\"id\":\"55e00713-c712-49d3-9cca-883722c1572d\",\"type\":\"Grid\"}],\"title\":{\"id\":\"9eb2294a-caff-42b5-857d-cacea3cc33b9\",\"type\":\"Title\"},\"tool_events\":{\"id\":\"ed263628-0130-4548-a8a4-2edaad4a856e\",\"type\":\"ToolEvents\"},\"toolbar\":{\"id\":\"ce71f6ff-ac71-4db4-a77c-7d26956cdfbf\",\"type\":\"Toolbar\"},\"x_mapper_type\":\"auto\",\"x_range\":{\"id\":\"659e071f-e541-455c-84cb-7fd46b90bd80\",\"type\":\"FactorRange\"},\"y_mapper_type\":\"auto\",\"y_range\":{\"id\":\"ea39fb64-cd73-4e9f-8b25-17ca7f1f2670\",\"type\":\"Range1d\"}},\"id\":\"5420e452-2aa1-40a8-b7cd-9d5ed6d8fdb8\",\"subtype\":\"Chart\",\"type\":\"Plot\"},{\"attributes\":{\"fill_alpha\":{\"field\":\"fill_alpha\"},\"fill_color\":{\"field\":\"color\"},\"height\":{\"field\":\"height\",\"units\":\"data\"},\"line_color\":{\"field\":\"line_color\"},\"width\":{\"field\":\"width\",\"units\":\"data\"},\"x\":{\"field\":\"x\"},\"y\":{\"field\":\"y\"}},\"id\":\"40d60f85-8673-4a83-8dd9-ed5bd35bb149\",\"type\":\"Rect\"},{\"attributes\":{\"overlay\":{\"id\":\"be9d2662-5a6d-49af-933b-2c2c74f7d5f9\",\"type\":\"BoxAnnotation\"},\"plot\":{\"id\":\"5420e452-2aa1-40a8-b7cd-9d5ed6d8fdb8\",\"subtype\":\"Chart\",\"type\":\"Plot\"}},\"id\":\"37251ab4-aaff-48cb-ad80-6fee0d462f3f\",\"type\":\"BoxZoomTool\"},{\"attributes\":{\"label\":{\"value\":\"2015\"},\"renderers\":[{\"id\":\"2559385a-6b24-4f49-843c-33e739387791\",\"type\":\"GlyphRenderer\"}]},\"id\":\"ee6c0b80-0602-4d6b-9310-44de9f803a3a\",\"type\":\"LegendItem\"},{\"attributes\":{},\"id\":\"ed263628-0130-4548-a8a4-2edaad4a856e\",\"type\":\"ToolEvents\"},{\"attributes\":{\"plot\":{\"id\":\"5420e452-2aa1-40a8-b7cd-9d5ed6d8fdb8\",\"subtype\":\"Chart\",\"type\":\"Plot\"}},\"id\":\"cd81edf1-9e4f-4dda-858a-3a4753f05ddb\",\"type\":\"WheelZoomTool\"}],\"root_ids\":[\"efe24efc-1239-4db9-8f58-176cbdd71fad\"]},\"title\":\"Bokeh Application\",\"version\":\"0.12.3\"}};\n",
       "            var render_items = [{\"docid\":\"7684d3e6-e39f-463b-b9d2-24a74e7f1e9b\",\"elementid\":\"18b34f34-5828-46e1-9b1a-a43a2b4bfd9a\",\"modelid\":\"efe24efc-1239-4db9-8f58-176cbdd71fad\"}];\n",
       "            \n",
       "            Bokeh.embed.embed_items(docs_json, render_items);\n",
       "        });\n",
       "      },\n",
       "      function(Bokeh) {\n",
       "      }\n",
       "    ];\n",
       "  \n",
       "    function run_inline_js() {\n",
       "      \n",
       "      if ((window.Bokeh !== undefined) || (force === \"1\")) {\n",
       "        for (var i = 0; i < inline_js.length; i++) {\n",
       "          inline_js[i](window.Bokeh);\n",
       "        }if (force === \"1\") {\n",
       "          display_loaded();\n",
       "        }} else if (Date.now() < window._bokeh_timeout) {\n",
       "        setTimeout(run_inline_js, 100);\n",
       "      } else if (!window._bokeh_failed_load) {\n",
       "        console.log(\"Bokeh: BokehJS failed to load within specified timeout.\");\n",
       "        window._bokeh_failed_load = true;\n",
       "      } else if (!force) {\n",
       "        var cell = $(\"#18b34f34-5828-46e1-9b1a-a43a2b4bfd9a\").parents('.cell').data().cell;\n",
       "        cell.output_area.append_execute_result(NB_LOAD_WARNING)\n",
       "      }\n",
       "  \n",
       "    }\n",
       "  \n",
       "    if (window._bokeh_is_loading === 0) {\n",
       "      console.log(\"Bokeh: BokehJS loaded, going straight to plotting\");\n",
       "      run_inline_js();\n",
       "    } else {\n",
       "      load_libs(js_urls, function() {\n",
       "        console.log(\"Bokeh: BokehJS plotting callback run at\", now());\n",
       "        run_inline_js();\n",
       "      });\n",
       "    }\n",
       "  }(this));\n",
       "</script>"
      ]
     },
     "metadata": {},
     "output_type": "display_data"
    }
   ],
   "source": [
    "trend = Bar(df, values = 'count', label = 'year')\n",
    "show(row(trend))"
   ]
  },
  {
   "cell_type": "markdown",
   "metadata": {
    "collapsed": true
   },
   "source": [
    "# Analysis by Source, grab new dataframe by constructing SQL query to API"
   ]
  },
  {
   "cell_type": "code",
   "execution_count": 109,
   "metadata": {
    "collapsed": true
   },
   "outputs": [],
   "source": [
    "url = 'https://data.sfgov.org/resource/qer8-n8u9.csv?$select=source,date_trunc_y(opened)as%20year,%20count(*)&$order=year&$group=year,source'"
   ]
  },
  {
   "cell_type": "code",
   "execution_count": 110,
   "metadata": {
    "collapsed": false
   },
   "outputs": [
    {
     "name": "stdout",
     "output_type": "stream",
     "text": [
      "https://data.sfgov.org/resource/qer8-n8u9.csv?$select=source,date_trunc_y(opened)as%20year,%20count(*)&$order=year&$group=year,source\n"
     ]
    }
   ],
   "source": [
    "print(url)"
   ]
  },
  {
   "cell_type": "code",
   "execution_count": 113,
   "metadata": {
    "collapsed": false
   },
   "outputs": [
    {
     "name": "stderr",
     "output_type": "stream",
     "text": [
      "/home/gdillon/.local/lib/python3.5/site-packages/ipykernel/__main__.py:3: FutureWarning: currently extract(expand=None) means expand=False (return Index/Series/DataFrame) but in a future version of pandas this will be changed to expand=True (return DataFrame)\n",
      "  app.launch_new_instance()\n"
     ]
    }
   ],
   "source": [
    "df=pd.read_csv(url)\n",
    "df=df[18:]\n",
    "df['year']=df['year'].str.extract('(?P<year>\\d{4})').astype(str)\n",
    "df['count']=df['count'].astype(int)\n",
    "df=df[:-1]"
   ]
  },
  {
   "cell_type": "code",
   "execution_count": 115,
   "metadata": {
    "collapsed": false
   },
   "outputs": [
    {
     "data": {
      "text/html": [
       "<div>\n",
       "<table border=\"1\" class=\"dataframe\">\n",
       "  <thead>\n",
       "    <tr>\n",
       "      <th></th>\n",
       "      <th colspan=\"5\" halign=\"left\">count</th>\n",
       "    </tr>\n",
       "    <tr>\n",
       "      <th>Source</th>\n",
       "      <th>Integrated Agency</th>\n",
       "      <th>Open311</th>\n",
       "      <th>Twitter</th>\n",
       "      <th>Voice In</th>\n",
       "      <th>Web Self Service</th>\n",
       "    </tr>\n",
       "    <tr>\n",
       "      <th>year</th>\n",
       "      <th></th>\n",
       "      <th></th>\n",
       "      <th></th>\n",
       "      <th></th>\n",
       "      <th></th>\n",
       "    </tr>\n",
       "  </thead>\n",
       "  <tbody>\n",
       "    <tr>\n",
       "      <th>2013</th>\n",
       "      <td>9666</td>\n",
       "      <td>4030</td>\n",
       "      <td>1512</td>\n",
       "      <td>9293</td>\n",
       "      <td>11330</td>\n",
       "    </tr>\n",
       "    <tr>\n",
       "      <th>2014</th>\n",
       "      <td>5493</td>\n",
       "      <td>19813</td>\n",
       "      <td>2227</td>\n",
       "      <td>7501</td>\n",
       "      <td>11769</td>\n",
       "    </tr>\n",
       "    <tr>\n",
       "      <th>2015</th>\n",
       "      <td>8530</td>\n",
       "      <td>38732</td>\n",
       "      <td>202</td>\n",
       "      <td>5636</td>\n",
       "      <td>4143</td>\n",
       "    </tr>\n",
       "    <tr>\n",
       "      <th>2016</th>\n",
       "      <td>7992</td>\n",
       "      <td>55148</td>\n",
       "      <td>194</td>\n",
       "      <td>4390</td>\n",
       "      <td>4668</td>\n",
       "    </tr>\n",
       "  </tbody>\n",
       "</table>\n",
       "</div>"
      ],
      "text/plain": [
       "                   count                                          \n",
       "Source Integrated Agency Open311 Twitter Voice In Web Self Service\n",
       "year                                                              \n",
       "2013                9666    4030    1512     9293            11330\n",
       "2014                5493   19813    2227     7501            11769\n",
       "2015                8530   38732     202     5636             4143\n",
       "2016                7992   55148     194     4390             4668"
      ]
     },
     "execution_count": 115,
     "metadata": {},
     "output_type": "execute_result"
    }
   ],
   "source": [
    "df2 =    pd.pivot_table(df, \n",
    "                        values=['count'],\n",
    "                        index=['year'],\n",
    "                        columns=['Source'],\n",
    "                        aggfunc=np.sum,\n",
    "                        fill_value=0)\n",
    "df2=df2.drop(df2.columns[[2]], axis=1)\n",
    "df2"
   ]
  },
  {
   "cell_type": "markdown",
   "metadata": {},
   "source": [
    "example code from stackoverflow http://stackoverflow.com/questions/31520951/plotting-multiple-lines-with-bokeh-and-pandas"
   ]
  },
  {
   "cell_type": "code",
   "execution_count": 119,
   "metadata": {
    "collapsed": false
   },
   "outputs": [
    {
     "data": {
      "text/html": [
       "\n",
       "    <div class=\"bk-root\">\n",
       "        <a href=\"http://bokeh.pydata.org\" target=\"_blank\" class=\"bk-logo bk-logo-small bk-logo-notebook\"></a>\n",
       "        <span id=\"69715e76-a91a-471f-a054-ca9806ac2b5d\">Loading BokehJS ...</span>\n",
       "    </div>"
      ]
     },
     "metadata": {},
     "output_type": "display_data"
    },
    {
     "data": {
      "application/javascript": [
       "\n",
       "(function(global) {\n",
       "  function now() {\n",
       "    return new Date();\n",
       "  }\n",
       "\n",
       "  var force = \"1\";\n",
       "\n",
       "  if (typeof (window._bokeh_onload_callbacks) === \"undefined\" || force !== \"\") {\n",
       "    window._bokeh_onload_callbacks = [];\n",
       "    window._bokeh_is_loading = undefined;\n",
       "  }\n",
       "\n",
       "\n",
       "  \n",
       "  if (typeof (window._bokeh_timeout) === \"undefined\" || force !== \"\") {\n",
       "    window._bokeh_timeout = Date.now() + 5000;\n",
       "    window._bokeh_failed_load = false;\n",
       "  }\n",
       "\n",
       "  var NB_LOAD_WARNING = {'data': {'text/html':\n",
       "     \"<div style='background-color: #fdd'>\\n\"+\n",
       "     \"<p>\\n\"+\n",
       "     \"BokehJS does not appear to have successfully loaded. If loading BokehJS from CDN, this \\n\"+\n",
       "     \"may be due to a slow or bad network connection. Possible fixes:\\n\"+\n",
       "     \"</p>\\n\"+\n",
       "     \"<ul>\\n\"+\n",
       "     \"<li>re-rerun `output_notebook()` to attempt to load from CDN again, or</li>\\n\"+\n",
       "     \"<li>use INLINE resources instead, as so:</li>\\n\"+\n",
       "     \"</ul>\\n\"+\n",
       "     \"<code>\\n\"+\n",
       "     \"from bokeh.resources import INLINE\\n\"+\n",
       "     \"output_notebook(resources=INLINE)\\n\"+\n",
       "     \"</code>\\n\"+\n",
       "     \"</div>\"}};\n",
       "\n",
       "  function display_loaded() {\n",
       "    if (window.Bokeh !== undefined) {\n",
       "      Bokeh.$(\"#69715e76-a91a-471f-a054-ca9806ac2b5d\").text(\"BokehJS successfully loaded.\");\n",
       "    } else if (Date.now() < window._bokeh_timeout) {\n",
       "      setTimeout(display_loaded, 100)\n",
       "    }\n",
       "  }\n",
       "\n",
       "  function run_callbacks() {\n",
       "    window._bokeh_onload_callbacks.forEach(function(callback) { callback() });\n",
       "    delete window._bokeh_onload_callbacks\n",
       "    console.info(\"Bokeh: all callbacks have finished\");\n",
       "  }\n",
       "\n",
       "  function load_libs(js_urls, callback) {\n",
       "    window._bokeh_onload_callbacks.push(callback);\n",
       "    if (window._bokeh_is_loading > 0) {\n",
       "      console.log(\"Bokeh: BokehJS is being loaded, scheduling callback at\", now());\n",
       "      return null;\n",
       "    }\n",
       "    if (js_urls == null || js_urls.length === 0) {\n",
       "      run_callbacks();\n",
       "      return null;\n",
       "    }\n",
       "    console.log(\"Bokeh: BokehJS not loaded, scheduling load and callback at\", now());\n",
       "    window._bokeh_is_loading = js_urls.length;\n",
       "    for (var i = 0; i < js_urls.length; i++) {\n",
       "      var url = js_urls[i];\n",
       "      var s = document.createElement('script');\n",
       "      s.src = url;\n",
       "      s.async = false;\n",
       "      s.onreadystatechange = s.onload = function() {\n",
       "        window._bokeh_is_loading--;\n",
       "        if (window._bokeh_is_loading === 0) {\n",
       "          console.log(\"Bokeh: all BokehJS libraries loaded\");\n",
       "          run_callbacks()\n",
       "        }\n",
       "      };\n",
       "      s.onerror = function() {\n",
       "        console.warn(\"failed to load library \" + url);\n",
       "      };\n",
       "      console.log(\"Bokeh: injecting script tag for BokehJS library: \", url);\n",
       "      document.getElementsByTagName(\"head\")[0].appendChild(s);\n",
       "    }\n",
       "  };var element = document.getElementById(\"69715e76-a91a-471f-a054-ca9806ac2b5d\");\n",
       "  if (element == null) {\n",
       "    console.log(\"Bokeh: ERROR: autoload.js configured with elementid '69715e76-a91a-471f-a054-ca9806ac2b5d' but no matching script tag was found. \")\n",
       "    return false;\n",
       "  }\n",
       "\n",
       "  var js_urls = ['https://cdn.pydata.org/bokeh/release/bokeh-0.12.3.min.js', 'https://cdn.pydata.org/bokeh/release/bokeh-widgets-0.12.3.min.js'];\n",
       "\n",
       "  var inline_js = [\n",
       "    function(Bokeh) {\n",
       "      Bokeh.set_log_level(\"info\");\n",
       "    },\n",
       "    \n",
       "    function(Bokeh) {\n",
       "      \n",
       "      Bokeh.$(\"#69715e76-a91a-471f-a054-ca9806ac2b5d\").text(\"BokehJS is loading...\");\n",
       "    },\n",
       "    function(Bokeh) {\n",
       "      console.log(\"Bokeh: injecting CSS: https://cdn.pydata.org/bokeh/release/bokeh-0.12.3.min.css\");\n",
       "      Bokeh.embed.inject_css(\"https://cdn.pydata.org/bokeh/release/bokeh-0.12.3.min.css\");\n",
       "      console.log(\"Bokeh: injecting CSS: https://cdn.pydata.org/bokeh/release/bokeh-widgets-0.12.3.min.css\");\n",
       "      Bokeh.embed.inject_css(\"https://cdn.pydata.org/bokeh/release/bokeh-widgets-0.12.3.min.css\");\n",
       "    }\n",
       "  ];\n",
       "\n",
       "  function run_inline_js() {\n",
       "    \n",
       "    if ((window.Bokeh !== undefined) || (force === \"1\")) {\n",
       "      for (var i = 0; i < inline_js.length; i++) {\n",
       "        inline_js[i](window.Bokeh);\n",
       "      }if (force === \"1\") {\n",
       "        display_loaded();\n",
       "      }} else if (Date.now() < window._bokeh_timeout) {\n",
       "      setTimeout(run_inline_js, 100);\n",
       "    } else if (!window._bokeh_failed_load) {\n",
       "      console.log(\"Bokeh: BokehJS failed to load within specified timeout.\");\n",
       "      window._bokeh_failed_load = true;\n",
       "    } else if (!force) {\n",
       "      var cell = $(\"#69715e76-a91a-471f-a054-ca9806ac2b5d\").parents('.cell').data().cell;\n",
       "      cell.output_area.append_execute_result(NB_LOAD_WARNING)\n",
       "    }\n",
       "\n",
       "  }\n",
       "\n",
       "  if (window._bokeh_is_loading === 0) {\n",
       "    console.log(\"Bokeh: BokehJS loaded, going straight to plotting\");\n",
       "    run_inline_js();\n",
       "  } else {\n",
       "    load_libs(js_urls, function() {\n",
       "      console.log(\"Bokeh: BokehJS plotting callback run at\", now());\n",
       "      run_inline_js();\n",
       "    });\n",
       "  }\n",
       "}(this));"
      ]
     },
     "metadata": {},
     "output_type": "display_data"
    },
    {
     "data": {
      "text/html": [
       "\n",
       "\n",
       "    <div class=\"bk-root\">\n",
       "        <div class=\"plotdiv\" id=\"9f0a5a29-d28e-42e1-a4a8-2ea9018f9c54\"></div>\n",
       "    </div>\n",
       "<script type=\"text/javascript\">\n",
       "  \n",
       "  (function(global) {\n",
       "    function now() {\n",
       "      return new Date();\n",
       "    }\n",
       "  \n",
       "    var force = \"\";\n",
       "  \n",
       "    if (typeof (window._bokeh_onload_callbacks) === \"undefined\" || force !== \"\") {\n",
       "      window._bokeh_onload_callbacks = [];\n",
       "      window._bokeh_is_loading = undefined;\n",
       "    }\n",
       "  \n",
       "  \n",
       "    \n",
       "    if (typeof (window._bokeh_timeout) === \"undefined\" || force !== \"\") {\n",
       "      window._bokeh_timeout = Date.now() + 0;\n",
       "      window._bokeh_failed_load = false;\n",
       "    }\n",
       "  \n",
       "    var NB_LOAD_WARNING = {'data': {'text/html':\n",
       "       \"<div style='background-color: #fdd'>\\n\"+\n",
       "       \"<p>\\n\"+\n",
       "       \"BokehJS does not appear to have successfully loaded. If loading BokehJS from CDN, this \\n\"+\n",
       "       \"may be due to a slow or bad network connection. Possible fixes:\\n\"+\n",
       "       \"</p>\\n\"+\n",
       "       \"<ul>\\n\"+\n",
       "       \"<li>re-rerun `output_notebook()` to attempt to load from CDN again, or</li>\\n\"+\n",
       "       \"<li>use INLINE resources instead, as so:</li>\\n\"+\n",
       "       \"</ul>\\n\"+\n",
       "       \"<code>\\n\"+\n",
       "       \"from bokeh.resources import INLINE\\n\"+\n",
       "       \"output_notebook(resources=INLINE)\\n\"+\n",
       "       \"</code>\\n\"+\n",
       "       \"</div>\"}};\n",
       "  \n",
       "    function display_loaded() {\n",
       "      if (window.Bokeh !== undefined) {\n",
       "        Bokeh.$(\"#9f0a5a29-d28e-42e1-a4a8-2ea9018f9c54\").text(\"BokehJS successfully loaded.\");\n",
       "      } else if (Date.now() < window._bokeh_timeout) {\n",
       "        setTimeout(display_loaded, 100)\n",
       "      }\n",
       "    }\n",
       "  \n",
       "    function run_callbacks() {\n",
       "      window._bokeh_onload_callbacks.forEach(function(callback) { callback() });\n",
       "      delete window._bokeh_onload_callbacks\n",
       "      console.info(\"Bokeh: all callbacks have finished\");\n",
       "    }\n",
       "  \n",
       "    function load_libs(js_urls, callback) {\n",
       "      window._bokeh_onload_callbacks.push(callback);\n",
       "      if (window._bokeh_is_loading > 0) {\n",
       "        console.log(\"Bokeh: BokehJS is being loaded, scheduling callback at\", now());\n",
       "        return null;\n",
       "      }\n",
       "      if (js_urls == null || js_urls.length === 0) {\n",
       "        run_callbacks();\n",
       "        return null;\n",
       "      }\n",
       "      console.log(\"Bokeh: BokehJS not loaded, scheduling load and callback at\", now());\n",
       "      window._bokeh_is_loading = js_urls.length;\n",
       "      for (var i = 0; i < js_urls.length; i++) {\n",
       "        var url = js_urls[i];\n",
       "        var s = document.createElement('script');\n",
       "        s.src = url;\n",
       "        s.async = false;\n",
       "        s.onreadystatechange = s.onload = function() {\n",
       "          window._bokeh_is_loading--;\n",
       "          if (window._bokeh_is_loading === 0) {\n",
       "            console.log(\"Bokeh: all BokehJS libraries loaded\");\n",
       "            run_callbacks()\n",
       "          }\n",
       "        };\n",
       "        s.onerror = function() {\n",
       "          console.warn(\"failed to load library \" + url);\n",
       "        };\n",
       "        console.log(\"Bokeh: injecting script tag for BokehJS library: \", url);\n",
       "        document.getElementsByTagName(\"head\")[0].appendChild(s);\n",
       "      }\n",
       "    };var element = document.getElementById(\"9f0a5a29-d28e-42e1-a4a8-2ea9018f9c54\");\n",
       "    if (element == null) {\n",
       "      console.log(\"Bokeh: ERROR: autoload.js configured with elementid '9f0a5a29-d28e-42e1-a4a8-2ea9018f9c54' but no matching script tag was found. \")\n",
       "      return false;\n",
       "    }\n",
       "  \n",
       "    var js_urls = [];\n",
       "  \n",
       "    var inline_js = [\n",
       "      function(Bokeh) {\n",
       "        Bokeh.$(function() {\n",
       "            var docs_json = {\"28b5171f-dcfc-4131-9856-66b40ed29e05\":{\"roots\":{\"references\":[{\"attributes\":{\"days\":[1,8,15,22]},\"id\":\"b45af91f-3e61-4564-8644-da533522132f\",\"type\":\"DaysTicker\"},{\"attributes\":{},\"id\":\"90a379d4-fbbf-4aff-a126-9b9abcf92161\",\"type\":\"BasicTicker\"},{\"attributes\":{},\"id\":\"4a72dc52-482e-4eb8-9d43-3fbabd1e1358\",\"type\":\"DatetimeTickFormatter\"},{\"attributes\":{\"formatter\":{\"id\":\"6daca29e-16c8-40fd-97ba-eedecb328c39\",\"type\":\"BasicTickFormatter\"},\"plot\":{\"id\":\"b23190e8-777e-4ba9-ab2d-cabb35fc3265\",\"subtype\":\"Figure\",\"type\":\"Plot\"},\"ticker\":{\"id\":\"90a379d4-fbbf-4aff-a126-9b9abcf92161\",\"type\":\"BasicTicker\"}},\"id\":\"d0ba696c-d4e0-4acf-a6c5-bf3537adc6a3\",\"type\":\"LinearAxis\"},{\"attributes\":{\"months\":[0,1,2,3,4,5,6,7,8,9,10,11]},\"id\":\"fc4c964d-88bf-457f-9319-c1c086e72712\",\"type\":\"MonthsTicker\"},{\"attributes\":{\"months\":[0,2,4,6,8,10]},\"id\":\"7c156b44-94de-4ecd-bc43-bde8a7523006\",\"type\":\"MonthsTicker\"},{\"attributes\":{\"base\":24,\"mantissas\":[1,2,4,6,8,12],\"max_interval\":43200000.0,\"min_interval\":3600000.0,\"num_minor_ticks\":0},\"id\":\"b1935477-988e-4b6b-9267-14c1902f776b\",\"type\":\"AdaptiveTicker\"},{\"attributes\":{\"days\":[1,4,7,10,13,16,19,22,25,28]},\"id\":\"d57327a3-4cee-49ba-bd35-500978dcb713\",\"type\":\"DaysTicker\"},{\"attributes\":{\"line_alpha\":{\"value\":0.1},\"line_color\":{\"value\":\"#1f77b4\"},\"line_width\":{\"value\":5},\"xs\":{\"field\":\"xs\"},\"ys\":{\"field\":\"ys\"}},\"id\":\"a0d403c9-5f71-4929-8b21-127a1b86a8b3\",\"type\":\"MultiLine\"},{\"attributes\":{\"months\":[0,4,8]},\"id\":\"11d4fc2c-0abd-469e-a9fd-9b027801f042\",\"type\":\"MonthsTicker\"},{\"attributes\":{\"plot\":{\"id\":\"b23190e8-777e-4ba9-ab2d-cabb35fc3265\",\"subtype\":\"Figure\",\"type\":\"Plot\"}},\"id\":\"ff93524c-67ab-423f-8072-ca5b3281f381\",\"type\":\"ResetTool\"},{\"attributes\":{\"plot\":{\"id\":\"b23190e8-777e-4ba9-ab2d-cabb35fc3265\",\"subtype\":\"Figure\",\"type\":\"Plot\"}},\"id\":\"2f60ba41-beeb-4b3f-abad-dd29f2ea52f3\",\"type\":\"PanTool\"},{\"attributes\":{},\"id\":\"c53f830c-5b79-478a-9c9b-d356f3783327\",\"type\":\"ToolEvents\"},{\"attributes\":{\"bottom_units\":\"screen\",\"fill_alpha\":{\"value\":0.5},\"fill_color\":{\"value\":\"lightgrey\"},\"left_units\":\"screen\",\"level\":\"overlay\",\"line_alpha\":{\"value\":1.0},\"line_color\":{\"value\":\"black\"},\"line_dash\":[4,4],\"line_width\":{\"value\":2},\"plot\":null,\"render_mode\":\"css\",\"right_units\":\"screen\",\"top_units\":\"screen\"},\"id\":\"3fb817da-b773-4baa-af87-9d51be9a87c6\",\"type\":\"BoxAnnotation\"},{\"attributes\":{\"plot\":{\"id\":\"b23190e8-777e-4ba9-ab2d-cabb35fc3265\",\"subtype\":\"Figure\",\"type\":\"Plot\"}},\"id\":\"2945e833-7648-4f7f-a384-3362764399d1\",\"type\":\"HelpTool\"},{\"attributes\":{\"callback\":null,\"column_names\":[\"xs\",\"ys\",\"line_color\"],\"data\":{\"line_color\":[\"#5e4fa2\",\"#3288bd\",\"#66c2a5\",\"#abdda4\",\"#e6f598\"],\"xs\":[[\"2013\",\"2014\",\"2015\",\"2016\"],[\"2013\",\"2014\",\"2015\",\"2016\"],[\"2013\",\"2014\",\"2015\",\"2016\"],[\"2013\",\"2014\",\"2015\",\"2016\"],[\"2013\",\"2014\",\"2015\",\"2016\"]],\"ys\":[[9666,5493,8530,7992],[4030,19813,38732,55148],[1512,2227,202,194],[9293,7501,5636,4390],[11330,11769,4143,4668]]}},\"id\":\"0788289d-36bc-40f3-94a9-ac5f011ed397\",\"type\":\"ColumnDataSource\"},{\"attributes\":{\"below\":[{\"id\":\"5aa8f790-2efa-4e04-a727-d076eec669e2\",\"type\":\"DatetimeAxis\"}],\"left\":[{\"id\":\"d0ba696c-d4e0-4acf-a6c5-bf3537adc6a3\",\"type\":\"LinearAxis\"}],\"plot_height\":300,\"plot_width\":500,\"renderers\":[{\"id\":\"5aa8f790-2efa-4e04-a727-d076eec669e2\",\"type\":\"DatetimeAxis\"},{\"id\":\"376c5e48-49d6-40d9-aa21-36270e93b9f0\",\"type\":\"Grid\"},{\"id\":\"d0ba696c-d4e0-4acf-a6c5-bf3537adc6a3\",\"type\":\"LinearAxis\"},{\"id\":\"e2318cc1-69ef-4c2c-8591-5b4b3458dd8a\",\"type\":\"Grid\"},{\"id\":\"3fb817da-b773-4baa-af87-9d51be9a87c6\",\"type\":\"BoxAnnotation\"},{\"id\":\"b55ceb17-98fb-4e75-9dd8-89b9714f6857\",\"type\":\"GlyphRenderer\"}],\"title\":{\"id\":\"344263e7-a394-481d-a503-eb641f21647d\",\"type\":\"Title\"},\"tool_events\":{\"id\":\"c53f830c-5b79-478a-9c9b-d356f3783327\",\"type\":\"ToolEvents\"},\"toolbar\":{\"id\":\"a0a964b5-dd17-4891-83f2-83b1842a0042\",\"type\":\"Toolbar\"},\"x_range\":{\"id\":\"41e2bb40-62d9-46b9-9203-abd8cf2d830b\",\"type\":\"DataRange1d\"},\"y_range\":{\"id\":\"48d138d5-2566-43f6-8cd6-26a6d03e3834\",\"type\":\"DataRange1d\"}},\"id\":\"b23190e8-777e-4ba9-ab2d-cabb35fc3265\",\"subtype\":\"Figure\",\"type\":\"Plot\"},{\"attributes\":{\"days\":[1,2,3,4,5,6,7,8,9,10,11,12,13,14,15,16,17,18,19,20,21,22,23,24,25,26,27,28,29,30,31]},\"id\":\"d0cd3e91-20eb-4687-96f3-7996d08c43bf\",\"type\":\"DaysTicker\"},{\"attributes\":{\"line_color\":{\"field\":\"line_color\"},\"line_width\":{\"value\":5},\"xs\":{\"field\":\"xs\"},\"ys\":{\"field\":\"ys\"}},\"id\":\"80093e40-1201-4acf-b0a3-2b31aded65ca\",\"type\":\"MultiLine\"},{\"attributes\":{\"plot\":{\"id\":\"b23190e8-777e-4ba9-ab2d-cabb35fc3265\",\"subtype\":\"Figure\",\"type\":\"Plot\"},\"ticker\":{\"id\":\"1efa2d15-cefe-41d6-a2b4-5c1548f183c0\",\"type\":\"DatetimeTicker\"}},\"id\":\"376c5e48-49d6-40d9-aa21-36270e93b9f0\",\"type\":\"Grid\"},{\"attributes\":{},\"id\":\"6daca29e-16c8-40fd-97ba-eedecb328c39\",\"type\":\"BasicTickFormatter\"},{\"attributes\":{\"plot\":{\"id\":\"b23190e8-777e-4ba9-ab2d-cabb35fc3265\",\"subtype\":\"Figure\",\"type\":\"Plot\"}},\"id\":\"90ac217b-2c30-4f1d-8cf4-4dd57a03cade\",\"type\":\"WheelZoomTool\"},{\"attributes\":{\"base\":60,\"mantissas\":[1,2,5,10,15,20,30],\"max_interval\":1800000.0,\"min_interval\":1000.0,\"num_minor_ticks\":0},\"id\":\"4bf4195e-064b-4ff2-9fef-b879bcd4b087\",\"type\":\"AdaptiveTicker\"},{\"attributes\":{\"formatter\":{\"id\":\"4a72dc52-482e-4eb8-9d43-3fbabd1e1358\",\"type\":\"DatetimeTickFormatter\"},\"plot\":{\"id\":\"b23190e8-777e-4ba9-ab2d-cabb35fc3265\",\"subtype\":\"Figure\",\"type\":\"Plot\"},\"ticker\":{\"id\":\"1efa2d15-cefe-41d6-a2b4-5c1548f183c0\",\"type\":\"DatetimeTicker\"}},\"id\":\"5aa8f790-2efa-4e04-a727-d076eec669e2\",\"type\":\"DatetimeAxis\"},{\"attributes\":{\"plot\":{\"id\":\"b23190e8-777e-4ba9-ab2d-cabb35fc3265\",\"subtype\":\"Figure\",\"type\":\"Plot\"}},\"id\":\"c547811f-4ddf-476f-b220-5043d92b6737\",\"type\":\"SaveTool\"},{\"attributes\":{\"days\":[1,15]},\"id\":\"a3798cc9-fefa-46f0-bad8-c2515537f9f9\",\"type\":\"DaysTicker\"},{\"attributes\":{\"overlay\":{\"id\":\"3fb817da-b773-4baa-af87-9d51be9a87c6\",\"type\":\"BoxAnnotation\"},\"plot\":{\"id\":\"b23190e8-777e-4ba9-ab2d-cabb35fc3265\",\"subtype\":\"Figure\",\"type\":\"Plot\"}},\"id\":\"708ef4f8-6fb1-45bb-bea4-041bdd85560c\",\"type\":\"BoxZoomTool\"},{\"attributes\":{\"max_interval\":500.0,\"num_minor_ticks\":0},\"id\":\"6ae5f3d6-c62d-48ab-9b51-1ec555f7bc61\",\"type\":\"AdaptiveTicker\"},{\"attributes\":{\"months\":[0,6]},\"id\":\"81a78943-27e8-4779-836a-6b17ea51e6d2\",\"type\":\"MonthsTicker\"},{\"attributes\":{\"callback\":null},\"id\":\"41e2bb40-62d9-46b9-9203-abd8cf2d830b\",\"type\":\"DataRange1d\"},{\"attributes\":{\"active_drag\":\"auto\",\"active_scroll\":\"auto\",\"active_tap\":\"auto\",\"tools\":[{\"id\":\"2f60ba41-beeb-4b3f-abad-dd29f2ea52f3\",\"type\":\"PanTool\"},{\"id\":\"90ac217b-2c30-4f1d-8cf4-4dd57a03cade\",\"type\":\"WheelZoomTool\"},{\"id\":\"708ef4f8-6fb1-45bb-bea4-041bdd85560c\",\"type\":\"BoxZoomTool\"},{\"id\":\"c547811f-4ddf-476f-b220-5043d92b6737\",\"type\":\"SaveTool\"},{\"id\":\"ff93524c-67ab-423f-8072-ca5b3281f381\",\"type\":\"ResetTool\"},{\"id\":\"2945e833-7648-4f7f-a384-3362764399d1\",\"type\":\"HelpTool\"}]},\"id\":\"a0a964b5-dd17-4891-83f2-83b1842a0042\",\"type\":\"Toolbar\"},{\"attributes\":{\"dimension\":1,\"plot\":{\"id\":\"b23190e8-777e-4ba9-ab2d-cabb35fc3265\",\"subtype\":\"Figure\",\"type\":\"Plot\"},\"ticker\":{\"id\":\"90a379d4-fbbf-4aff-a126-9b9abcf92161\",\"type\":\"BasicTicker\"}},\"id\":\"e2318cc1-69ef-4c2c-8591-5b4b3458dd8a\",\"type\":\"Grid\"},{\"attributes\":{\"data_source\":{\"id\":\"0788289d-36bc-40f3-94a9-ac5f011ed397\",\"type\":\"ColumnDataSource\"},\"glyph\":{\"id\":\"80093e40-1201-4acf-b0a3-2b31aded65ca\",\"type\":\"MultiLine\"},\"hover_glyph\":null,\"nonselection_glyph\":{\"id\":\"a0d403c9-5f71-4929-8b21-127a1b86a8b3\",\"type\":\"MultiLine\"},\"selection_glyph\":null},\"id\":\"b55ceb17-98fb-4e75-9dd8-89b9714f6857\",\"type\":\"GlyphRenderer\"},{\"attributes\":{\"plot\":null,\"text\":null},\"id\":\"344263e7-a394-481d-a503-eb641f21647d\",\"type\":\"Title\"},{\"attributes\":{\"num_minor_ticks\":5},\"id\":\"1efa2d15-cefe-41d6-a2b4-5c1548f183c0\",\"type\":\"DatetimeTicker\"},{\"attributes\":{},\"id\":\"d4fc1ae2-c5b9-471a-bafb-bfe73c4ff370\",\"type\":\"YearsTicker\"},{\"attributes\":{\"callback\":null},\"id\":\"48d138d5-2566-43f6-8cd6-26a6d03e3834\",\"type\":\"DataRange1d\"}],\"root_ids\":[\"b23190e8-777e-4ba9-ab2d-cabb35fc3265\"]},\"title\":\"Bokeh Application\",\"version\":\"0.12.3\"}};\n",
       "            var render_items = [{\"docid\":\"28b5171f-dcfc-4131-9856-66b40ed29e05\",\"elementid\":\"9f0a5a29-d28e-42e1-a4a8-2ea9018f9c54\",\"modelid\":\"b23190e8-777e-4ba9-ab2d-cabb35fc3265\"}];\n",
       "            \n",
       "            Bokeh.embed.embed_items(docs_json, render_items);\n",
       "        });\n",
       "      },\n",
       "      function(Bokeh) {\n",
       "      }\n",
       "    ];\n",
       "  \n",
       "    function run_inline_js() {\n",
       "      \n",
       "      if ((window.Bokeh !== undefined) || (force === \"1\")) {\n",
       "        for (var i = 0; i < inline_js.length; i++) {\n",
       "          inline_js[i](window.Bokeh);\n",
       "        }if (force === \"1\") {\n",
       "          display_loaded();\n",
       "        }} else if (Date.now() < window._bokeh_timeout) {\n",
       "        setTimeout(run_inline_js, 100);\n",
       "      } else if (!window._bokeh_failed_load) {\n",
       "        console.log(\"Bokeh: BokehJS failed to load within specified timeout.\");\n",
       "        window._bokeh_failed_load = true;\n",
       "      } else if (!force) {\n",
       "        var cell = $(\"#9f0a5a29-d28e-42e1-a4a8-2ea9018f9c54\").parents('.cell').data().cell;\n",
       "        cell.output_area.append_execute_result(NB_LOAD_WARNING)\n",
       "      }\n",
       "  \n",
       "    }\n",
       "  \n",
       "    if (window._bokeh_is_loading === 0) {\n",
       "      console.log(\"Bokeh: BokehJS loaded, going straight to plotting\");\n",
       "      run_inline_js();\n",
       "    } else {\n",
       "      load_libs(js_urls, function() {\n",
       "        console.log(\"Bokeh: BokehJS plotting callback run at\", now());\n",
       "        run_inline_js();\n",
       "      });\n",
       "    }\n",
       "  }(this));\n",
       "</script>"
      ]
     },
     "metadata": {},
     "output_type": "display_data"
    }
   ],
   "source": [
    "from bokeh.palettes import Spectral11\n",
    "from bokeh.plotting import figure, show, output_file\n",
    "\n",
    "\n",
    "numlines=len(df2.columns)\n",
    "mypalette=Spectral11[0:numlines]\n",
    "\n",
    "p = figure(width=500, height=300, x_axis_type=\"datetime\") \n",
    "p.multi_line(xs=[df2.index.values]*numlines,\n",
    "                ys=[df2[name].values for name in df2],\n",
    "                line_color=mypalette,\n",
    "                line_width=5)\n",
    "output_notebook()\n",
    "show(p)"
   ]
  },
  {
   "cell_type": "markdown",
   "metadata": {
    "collapsed": true
   },
   "source": [
    "# The above graph needs labels for years and what the line represent.   But it shows that all the growth in reports is coming from the mobile app."
   ]
  },
  {
   "cell_type": "code",
   "execution_count": null,
   "metadata": {
    "collapsed": true
   },
   "outputs": [],
   "source": []
  },
  {
   "cell_type": "code",
   "execution_count": null,
   "metadata": {
    "collapsed": true
   },
   "outputs": [],
   "source": []
  },
  {
   "cell_type": "code",
   "execution_count": null,
   "metadata": {
    "collapsed": true
   },
   "outputs": [],
   "source": []
  },
  {
   "cell_type": "markdown",
   "metadata": {
    "collapsed": true
   },
   "source": [
    "# Grab url and begin pulling year of data"
   ]
  },
  {
   "cell_type": "code",
   "execution_count": 128,
   "metadata": {
    "collapsed": false
   },
   "outputs": [
    {
     "data": {
      "text/plain": [
       "'https://data.sfgov.org/resource/rme2-xgvs.csv'"
      ]
     },
     "execution_count": 128,
     "metadata": {},
     "output_type": "execute_result"
    }
   ],
   "source": [
    "url = 'https://data.sfgov.org/resource/rme2-xgvs.json'\n",
    "url = url[:-4]+'csv'\n",
    "url"
   ]
  },
  {
   "cell_type": "code",
   "execution_count": null,
   "metadata": {
    "collapsed": true
   },
   "outputs": [],
   "source": []
  },
  {
   "cell_type": "markdown",
   "metadata": {},
   "source": [
    "# Growth in reports (2013 to 2016)"
   ]
  },
  {
   "cell_type": "markdown",
   "metadata": {
    "collapsed": true
   },
   "source": [
    "### Code for dealing with Socrata limit of 50,000 api limit"
   ]
  },
  {
   "cell_type": "code",
   "execution_count": 129,
   "metadata": {
    "collapsed": false
   },
   "outputs": [
    {
     "name": "stdout",
     "output_type": "stream",
     "text": [
      "https://data.sfgov.org/resource/rme2-xgvs.csv?$limit=50000\n",
      "https://data.sfgov.org/resource/rme2-xgvs.csv?$limit=50000&$offset=50000\n"
     ]
    }
   ],
   "source": [
    "\n",
    "limit = '?$limit=50000'\n",
    "offset = '&$offset=50000'\n",
    "url1 = url+limit\n",
    "print (url1)\n",
    "\n",
    "url2 = url1 + offset\n",
    "print (url2)"
   ]
  },
  {
   "cell_type": "code",
   "execution_count": 130,
   "metadata": {
    "collapsed": false
   },
   "outputs": [
    {
     "name": "stdout",
     "output_type": "stream",
     "text": [
      "https://data.sfgov.org/resource/rme2-xgvs.csv?$limit=50000&$offset=50000&$where=opened>='2016-01-01'\n"
     ]
    }
   ],
   "source": [
    "# drop from url those prior to January 1\n",
    "where = '&$where='\n",
    "category = 'opened'\n",
    "start = '>='\n",
    "\n",
    "#date format 'year-mm-dd'\n",
    "onorafter = \"'2016-01-01'\"\n",
    "url2 = url2 + where + category + start + str(onorafter) \n",
    "print(url2)"
   ]
  },
  {
   "cell_type": "markdown",
   "metadata": {
    "collapsed": true
   },
   "source": [
    "# Concatenate or Vertically stack the two dataFrames"
   ]
  },
  {
   "cell_type": "code",
   "execution_count": 131,
   "metadata": {
    "collapsed": false
   },
   "outputs": [
    {
     "data": {
      "text/plain": [
       "(72392, 16)"
      ]
     },
     "execution_count": 131,
     "metadata": {},
     "output_type": "execute_result"
    }
   ],
   "source": [
    "df1  = pd.read_csv(url1)\n",
    "df2 = pd.read_csv(url2)\n",
    "df = pd.concat([df1,df2])\n",
    "df.shape\n"
   ]
  },
  {
   "cell_type": "code",
   "execution_count": 132,
   "metadata": {
    "collapsed": false
   },
   "outputs": [],
   "source": [
    "# frames = [df1,df2]\n",
    "# df = pd.concat(frames)"
   ]
  },
  {
   "cell_type": "code",
   "execution_count": null,
   "metadata": {
    "collapsed": false
   },
   "outputs": [],
   "source": []
  },
  {
   "cell_type": "markdown",
   "metadata": {},
   "source": [
    "# Convert the time series into pandas time version"
   ]
  },
  {
   "cell_type": "code",
   "execution_count": 133,
   "metadata": {
    "collapsed": false
   },
   "outputs": [
    {
     "data": {
      "text/plain": [
       "Index(['CaseID', 'Opened', 'Closed', 'Updated', 'Status', 'Status Notes',\n",
       "       'Responsible Agency', 'Category', 'Request Type', 'Request Details',\n",
       "       'Address', 'Supervisor District', 'Neighborhood', 'Point', 'Source',\n",
       "       'Media URL'],\n",
       "      dtype='object')"
      ]
     },
     "execution_count": 133,
     "metadata": {},
     "output_type": "execute_result"
    }
   ],
   "source": [
    "df.columns"
   ]
  },
  {
   "cell_type": "code",
   "execution_count": 134,
   "metadata": {
    "collapsed": false
   },
   "outputs": [
    {
     "data": {
      "text/plain": [
       "pandas.core.series.Series"
      ]
     },
     "execution_count": 134,
     "metadata": {},
     "output_type": "execute_result"
    }
   ],
   "source": [
    "type(df.Opened)"
   ]
  },
  {
   "cell_type": "code",
   "execution_count": 135,
   "metadata": {
    "collapsed": false
   },
   "outputs": [],
   "source": [
    "df['Opened'] = pd.to_datetime(df['Opened'])\n",
    "\n"
   ]
  },
  {
   "cell_type": "code",
   "execution_count": 136,
   "metadata": {
    "collapsed": true
   },
   "outputs": [],
   "source": [
    "df['Closed'] = pd.to_datetime(df['Closed'])\n",
    "df['Updated'] = pd.to_datetime(df['Updated'])\n"
   ]
  },
  {
   "cell_type": "code",
   "execution_count": 137,
   "metadata": {
    "collapsed": false
   },
   "outputs": [
    {
     "data": {
      "text/plain": [
       "0   2016-12-31 23:39:52\n",
       "1   2016-12-31 23:39:09\n",
       "Name: Opened, dtype: datetime64[ns]"
      ]
     },
     "execution_count": 137,
     "metadata": {},
     "output_type": "execute_result"
    }
   ],
   "source": [
    "df['Opened'].head(2)"
   ]
  },
  {
   "cell_type": "code",
   "execution_count": 138,
   "metadata": {
    "collapsed": false
   },
   "outputs": [],
   "source": [
    "df['Diff'] =(df.Closed-df.Opened).astype('timedelta64[D]')"
   ]
  },
  {
   "cell_type": "code",
   "execution_count": 187,
   "metadata": {
    "collapsed": false
   },
   "outputs": [
    {
     "data": {
      "text/plain": [
       "pandas.core.series.Series"
      ]
     },
     "execution_count": 187,
     "metadata": {},
     "output_type": "execute_result"
    }
   ],
   "source": [
    "type(df['Supervisor District'])"
   ]
  },
  {
   "cell_type": "code",
   "execution_count": 190,
   "metadata": {
    "collapsed": false
   },
   "outputs": [
    {
     "ename": "TypeError",
     "evalue": "astype() missing 1 required positional argument: 'dtype'",
     "output_type": "error",
     "traceback": [
      "\u001b[0;31m---------------------------------------------------------------------------\u001b[0m",
      "\u001b[0;31mTypeError\u001b[0m                                 Traceback (most recent call last)",
      "\u001b[0;32m<ipython-input-190-4c00ae15d26f>\u001b[0m in \u001b[0;36m<module>\u001b[0;34m()\u001b[0m\n\u001b[0;32m----> 1\u001b[0;31m \u001b[0mtype\u001b[0m\u001b[0;34m(\u001b[0m\u001b[0mdf\u001b[0m\u001b[0;34m[\u001b[0m\u001b[0;34m'Supervisor District'\u001b[0m\u001b[0;34m]\u001b[0m\u001b[0;34m)\u001b[0m\u001b[0;34m.\u001b[0m\u001b[0mastype\u001b[0m\u001b[0;34m(\u001b[0m\u001b[0;34m'int'\u001b[0m\u001b[0;34m)\u001b[0m\u001b[0;34m\u001b[0m\u001b[0m\n\u001b[0m",
      "\u001b[0;31mTypeError\u001b[0m: astype() missing 1 required positional argument: 'dtype'"
     ]
    }
   ],
   "source": [
    "type(df['Supervisor District']).astype('int')"
   ]
  },
  {
   "cell_type": "code",
   "execution_count": 139,
   "metadata": {
    "collapsed": false
   },
   "outputs": [
    {
     "data": {
      "text/plain": [
       "count    61079.000000\n",
       "mean        15.359109\n",
       "std         32.055670\n",
       "min         -1.000000\n",
       "25%          0.000000\n",
       "50%          4.000000\n",
       "75%         17.000000\n",
       "max        348.000000\n",
       "Name: Diff, dtype: float64"
      ]
     },
     "execution_count": 139,
     "metadata": {},
     "output_type": "execute_result"
    }
   ],
   "source": [
    "df.Diff.describe()"
   ]
  },
  {
   "cell_type": "code",
   "execution_count": 140,
   "metadata": {
    "collapsed": false
   },
   "outputs": [
    {
     "data": {
      "text/html": [
       "<div>\n",
       "<table border=\"1\" class=\"dataframe\">\n",
       "  <thead>\n",
       "    <tr style=\"text-align: right;\">\n",
       "      <th></th>\n",
       "      <th>CaseID</th>\n",
       "      <th>Opened</th>\n",
       "      <th>Closed</th>\n",
       "      <th>Updated</th>\n",
       "      <th>Status</th>\n",
       "      <th>Status Notes</th>\n",
       "      <th>Responsible Agency</th>\n",
       "      <th>Category</th>\n",
       "      <th>Request Type</th>\n",
       "      <th>Request Details</th>\n",
       "      <th>Address</th>\n",
       "      <th>Supervisor District</th>\n",
       "      <th>Neighborhood</th>\n",
       "      <th>Point</th>\n",
       "      <th>Source</th>\n",
       "      <th>Media URL</th>\n",
       "      <th>Diff</th>\n",
       "    </tr>\n",
       "  </thead>\n",
       "  <tbody>\n",
       "    <tr>\n",
       "      <th>59</th>\n",
       "      <td>6678507</td>\n",
       "      <td>2016-12-31 14:03:07</td>\n",
       "      <td>NaT</td>\n",
       "      <td>2016-12-31 14:03:07</td>\n",
       "      <td>Open</td>\n",
       "      <td>Open</td>\n",
       "      <td>Clear Channel - Transit Queue</td>\n",
       "      <td>Graffiti Public Property</td>\n",
       "      <td>Not_Offensive Graffiti on Public Property</td>\n",
       "      <td>Transit_Shelter_Platform - Not_Offensive</td>\n",
       "      <td>3490 18TH ST, SAN FRANCISCO, CA, 94110</td>\n",
       "      <td>9.0</td>\n",
       "      <td>Mission</td>\n",
       "      <td>(37.761845884718, -122.421381526681)</td>\n",
       "      <td>Open311</td>\n",
       "      <td>http://mobile311.sfgov.org/media/san_francisco...</td>\n",
       "      <td>NaN</td>\n",
       "    </tr>\n",
       "    <tr>\n",
       "      <th>60</th>\n",
       "      <td>6678506</td>\n",
       "      <td>2016-12-31 14:01:15</td>\n",
       "      <td>NaT</td>\n",
       "      <td>2016-12-31 20:32:49</td>\n",
       "      <td>Open</td>\n",
       "      <td>Open</td>\n",
       "      <td>311 Service Request Queue - Hold</td>\n",
       "      <td>Graffiti Public Property</td>\n",
       "      <td>Offensive Graffiti on Public Property</td>\n",
       "      <td>Other_enter_additional_details_below - Offensive</td>\n",
       "      <td>1855 FOLSOM ST, SAN FRANCISCO, CA, 94103</td>\n",
       "      <td>9.0</td>\n",
       "      <td>Mission</td>\n",
       "      <td>(37.767442202896, -122.413937389764)</td>\n",
       "      <td>Open311</td>\n",
       "      <td>http://mobile311.sfgov.org/media/san_francisco...</td>\n",
       "      <td>NaN</td>\n",
       "    </tr>\n",
       "    <tr>\n",
       "      <th>61</th>\n",
       "      <td>6678496</td>\n",
       "      <td>2016-12-31 13:49:21</td>\n",
       "      <td>NaT</td>\n",
       "      <td>2016-12-31 13:49:21</td>\n",
       "      <td>Open</td>\n",
       "      <td>accepted</td>\n",
       "      <td>DPW Ops Queue</td>\n",
       "      <td>Graffiti Private Property</td>\n",
       "      <td>Not_Offensive Graffiti on Private Property</td>\n",
       "      <td>Building_commercial - Not_Offensive</td>\n",
       "      <td>Intersection of 19TH ST and SAN CARLOS ST</td>\n",
       "      <td>9.0</td>\n",
       "      <td>Mission</td>\n",
       "      <td>(37.7601888876742, -122.419974854088)</td>\n",
       "      <td>Open311</td>\n",
       "      <td>http://mobile311.sfgov.org/media/san_francisco...</td>\n",
       "      <td>NaN</td>\n",
       "    </tr>\n",
       "    <tr>\n",
       "      <th>62</th>\n",
       "      <td>6678495</td>\n",
       "      <td>2016-12-31 13:48:37</td>\n",
       "      <td>NaT</td>\n",
       "      <td>2016-12-31 13:48:37</td>\n",
       "      <td>Open</td>\n",
       "      <td>Open</td>\n",
       "      <td>US Postal Service Maintenance Queue</td>\n",
       "      <td>Graffiti Public Property</td>\n",
       "      <td>Not_Offensive Graffiti on Public Property</td>\n",
       "      <td>Mail_box - Not_Offensive</td>\n",
       "      <td>Intersection of 19TH ST and LEXINGTON ST</td>\n",
       "      <td>9.0</td>\n",
       "      <td>Mission</td>\n",
       "      <td>(37.7601475157402, -122.420659554429)</td>\n",
       "      <td>Open311</td>\n",
       "      <td>http://mobile311.sfgov.org/media/san_francisco...</td>\n",
       "      <td>NaN</td>\n",
       "    </tr>\n",
       "    <tr>\n",
       "      <th>63</th>\n",
       "      <td>6678494</td>\n",
       "      <td>2016-12-31 13:48:00</td>\n",
       "      <td>NaT</td>\n",
       "      <td>2016-12-31 13:48:00</td>\n",
       "      <td>Open</td>\n",
       "      <td>accepted</td>\n",
       "      <td>DPW Ops Queue</td>\n",
       "      <td>Graffiti Private Property</td>\n",
       "      <td>Not_Offensive Graffiti on Private Property</td>\n",
       "      <td>Building_commercial - Not_Offensive</td>\n",
       "      <td>Intersection of 19TH ST and LEXINGTON ST</td>\n",
       "      <td>9.0</td>\n",
       "      <td>Mission</td>\n",
       "      <td>(37.7601475157402, -122.420659554429)</td>\n",
       "      <td>Open311</td>\n",
       "      <td>http://mobile311.sfgov.org/media/san_francisco...</td>\n",
       "      <td>NaN</td>\n",
       "    </tr>\n",
       "    <tr>\n",
       "      <th>64</th>\n",
       "      <td>6678489</td>\n",
       "      <td>2016-12-31 13:46:49</td>\n",
       "      <td>NaT</td>\n",
       "      <td>2016-12-31 13:59:05</td>\n",
       "      <td>Open</td>\n",
       "      <td>Open</td>\n",
       "      <td>311 Service Request Queue - Hold</td>\n",
       "      <td>Graffiti Public Property</td>\n",
       "      <td>Offensive Graffiti on Public Property</td>\n",
       "      <td>Other_enter_additional_details_below - Offensive</td>\n",
       "      <td>Intersection of 19TH ST and VALENCIA ST</td>\n",
       "      <td>8.0</td>\n",
       "      <td>Mission</td>\n",
       "      <td>(37.7601012510183, -122.421425091251)</td>\n",
       "      <td>Open311</td>\n",
       "      <td>http://mobile311.sfgov.org/media/san_francisco...</td>\n",
       "      <td>NaN</td>\n",
       "    </tr>\n",
       "    <tr>\n",
       "      <th>89</th>\n",
       "      <td>6678213</td>\n",
       "      <td>2016-12-31 11:41:15</td>\n",
       "      <td>NaT</td>\n",
       "      <td>2016-12-31 11:41:15</td>\n",
       "      <td>Open</td>\n",
       "      <td>accepted</td>\n",
       "      <td>DPW Ops Queue</td>\n",
       "      <td>Graffiti Private Property</td>\n",
       "      <td>Not_Offensive Graffiti on Private Property</td>\n",
       "      <td>Sidewalk_in_front_of_property - Not_Offensive</td>\n",
       "      <td>Intersection of 18TH ST and VALENCIA ST</td>\n",
       "      <td>9.0</td>\n",
       "      <td>Mission</td>\n",
       "      <td>(37.7617007549058, -122.421578568646)</td>\n",
       "      <td>Open311</td>\n",
       "      <td>http://mobile311.sfgov.org/media/san_francisco...</td>\n",
       "      <td>NaN</td>\n",
       "    </tr>\n",
       "    <tr>\n",
       "      <th>90</th>\n",
       "      <td>6678077</td>\n",
       "      <td>2016-12-31 10:39:45</td>\n",
       "      <td>NaT</td>\n",
       "      <td>2016-12-31 10:39:45</td>\n",
       "      <td>Open</td>\n",
       "      <td>accepted</td>\n",
       "      <td>DPW Ops Queue</td>\n",
       "      <td>Graffiti Public Property</td>\n",
       "      <td>Not_Offensive Graffiti on Public Property</td>\n",
       "      <td>Fire_Police_Callbox - Not_Offensive</td>\n",
       "      <td>Intersection of 16TH ST and MISSION ST</td>\n",
       "      <td>9.0</td>\n",
       "      <td>Mission</td>\n",
       "      <td>(37.7650512510466, -122.419669041689)</td>\n",
       "      <td>Open311</td>\n",
       "      <td>http://mobile311.sfgov.org/media/san_francisco...</td>\n",
       "      <td>NaN</td>\n",
       "    </tr>\n",
       "    <tr>\n",
       "      <th>91</th>\n",
       "      <td>6678053</td>\n",
       "      <td>2016-12-31 10:29:42</td>\n",
       "      <td>2016-12-31 11:25:21</td>\n",
       "      <td>2016-12-31 11:25:21</td>\n",
       "      <td>Closed</td>\n",
       "      <td>Case Resolved -</td>\n",
       "      <td>DPW Ops Queue</td>\n",
       "      <td>Graffiti Public Property</td>\n",
       "      <td>Not_Offensive Graffiti on Public Property</td>\n",
       "      <td>City_receptacle - Not_Offensive</td>\n",
       "      <td>Intersection of 24TH ST and MISSION ST</td>\n",
       "      <td>9.0</td>\n",
       "      <td>Mission</td>\n",
       "      <td>(37.7522394710724, -122.418445426677)</td>\n",
       "      <td>Open311</td>\n",
       "      <td>http://mobile311.sfgov.org/media/san_francisco...</td>\n",
       "      <td>0.0</td>\n",
       "    </tr>\n",
       "    <tr>\n",
       "      <th>92</th>\n",
       "      <td>6678049</td>\n",
       "      <td>2016-12-31 10:28:45</td>\n",
       "      <td>NaT</td>\n",
       "      <td>2016-12-31 10:29:27</td>\n",
       "      <td>Open</td>\n",
       "      <td>accepted</td>\n",
       "      <td>DPW Ops Queue</td>\n",
       "      <td>Graffiti Public Property</td>\n",
       "      <td>Offensive Graffiti on Public Property</td>\n",
       "      <td>Pole - Offensive</td>\n",
       "      <td>Intersection of 24TH ST and MISSION ST</td>\n",
       "      <td>9.0</td>\n",
       "      <td>Mission</td>\n",
       "      <td>(37.7522394710724, -122.418445426677)</td>\n",
       "      <td>Open311</td>\n",
       "      <td>http://mobile311.sfgov.org/media/san_francisco...</td>\n",
       "      <td>NaN</td>\n",
       "    </tr>\n",
       "    <tr>\n",
       "      <th>94</th>\n",
       "      <td>6678041</td>\n",
       "      <td>2016-12-31 10:26:51</td>\n",
       "      <td>NaT</td>\n",
       "      <td>2016-12-31 10:26:51</td>\n",
       "      <td>Open</td>\n",
       "      <td>Open</td>\n",
       "      <td>Clear Channel - Transit Queue</td>\n",
       "      <td>Graffiti Public Property</td>\n",
       "      <td>Not_Offensive Graffiti on Public Property</td>\n",
       "      <td>Transit_Shelter_Platform - Not_Offensive</td>\n",
       "      <td>2800 MISSION ST, SAN FRANCISCO, CA, 94110</td>\n",
       "      <td>9.0</td>\n",
       "      <td>Mission</td>\n",
       "      <td>(37.751986884404, -122.418615144485)</td>\n",
       "      <td>Open311</td>\n",
       "      <td>http://mobile311.sfgov.org/media/san_francisco...</td>\n",
       "      <td>NaN</td>\n",
       "    </tr>\n",
       "    <tr>\n",
       "      <th>96</th>\n",
       "      <td>6678036</td>\n",
       "      <td>2016-12-31 10:25:20</td>\n",
       "      <td>NaT</td>\n",
       "      <td>2016-12-31 10:25:20</td>\n",
       "      <td>Open</td>\n",
       "      <td>Open</td>\n",
       "      <td>US Postal Service Maintenance Queue</td>\n",
       "      <td>Graffiti Public Property</td>\n",
       "      <td>Not_Offensive Graffiti on Public Property</td>\n",
       "      <td>Mail_box - Not_Offensive</td>\n",
       "      <td>2850 24TH ST, SAN FRANCISCO, CA, 94110</td>\n",
       "      <td>9.0</td>\n",
       "      <td>Mission</td>\n",
       "      <td>(37.752912838924, -122.409377271758)</td>\n",
       "      <td>Open311</td>\n",
       "      <td>http://mobile311.sfgov.org/media/san_francisco...</td>\n",
       "      <td>NaN</td>\n",
       "    </tr>\n",
       "    <tr>\n",
       "      <th>97</th>\n",
       "      <td>6678023</td>\n",
       "      <td>2016-12-31 10:20:27</td>\n",
       "      <td>NaT</td>\n",
       "      <td>2016-12-31 10:41:20</td>\n",
       "      <td>Open</td>\n",
       "      <td>accepted</td>\n",
       "      <td>DPW Ops Queue</td>\n",
       "      <td>Graffiti Private Property</td>\n",
       "      <td>Not_Offensive Graffiti on Private Property</td>\n",
       "      <td>Building_commercial - Not_Offensive</td>\n",
       "      <td>2024 MISSION ST, SAN FRANCISCO, CA, 94110</td>\n",
       "      <td>9.0</td>\n",
       "      <td>Mission</td>\n",
       "      <td>(37.764625069428, -122.419697307801)</td>\n",
       "      <td>Open311</td>\n",
       "      <td>http://mobile311.sfgov.org/media/san_francisco...</td>\n",
       "      <td>NaN</td>\n",
       "    </tr>\n",
       "    <tr>\n",
       "      <th>98</th>\n",
       "      <td>6678017</td>\n",
       "      <td>2016-12-31 10:19:07</td>\n",
       "      <td>NaT</td>\n",
       "      <td>2016-12-31 10:19:07</td>\n",
       "      <td>Open</td>\n",
       "      <td>Open</td>\n",
       "      <td>Clear Channel - Transit Queue</td>\n",
       "      <td>Graffiti Public Property</td>\n",
       "      <td>Not_Offensive Graffiti on Public Property</td>\n",
       "      <td>Transit_Shelter_Platform - Not_Offensive</td>\n",
       "      <td>Intersection of 16TH ST and MISSION ST</td>\n",
       "      <td>9.0</td>\n",
       "      <td>Mission</td>\n",
       "      <td>(37.7650512510466, -122.419669041689)</td>\n",
       "      <td>Open311</td>\n",
       "      <td>http://mobile311.sfgov.org/media/san_francisco...</td>\n",
       "      <td>NaN</td>\n",
       "    </tr>\n",
       "    <tr>\n",
       "      <th>99</th>\n",
       "      <td>6677997</td>\n",
       "      <td>2016-12-31 10:08:14</td>\n",
       "      <td>NaT</td>\n",
       "      <td>2016-12-31 10:08:14</td>\n",
       "      <td>Open</td>\n",
       "      <td>Open</td>\n",
       "      <td>Clear Channel - Transit Queue</td>\n",
       "      <td>Graffiti Public Property</td>\n",
       "      <td>Not_Offensive Graffiti on Public Property</td>\n",
       "      <td>Transit_Shelter_Platform - Not_Offensive</td>\n",
       "      <td>Intersection of 16TH ST and BRYANT ST</td>\n",
       "      <td>10.0</td>\n",
       "      <td>Mission</td>\n",
       "      <td>(37.765605883717, -122.41048675405)</td>\n",
       "      <td>Open311</td>\n",
       "      <td>http://mobile311.sfgov.org/media/san_francisco...</td>\n",
       "      <td>NaN</td>\n",
       "    </tr>\n",
       "    <tr>\n",
       "      <th>115</th>\n",
       "      <td>6677803</td>\n",
       "      <td>2016-12-31 08:17:12</td>\n",
       "      <td>NaT</td>\n",
       "      <td>2016-12-31 08:17:12</td>\n",
       "      <td>Open</td>\n",
       "      <td>accepted</td>\n",
       "      <td>DPW Ops Queue</td>\n",
       "      <td>Graffiti Private Property</td>\n",
       "      <td>Not_Offensive Graffiti on Private Property</td>\n",
       "      <td>Building_residential - Not_Offensive</td>\n",
       "      <td>375 14TH ST, SAN FRANCISCO, CA, 94103</td>\n",
       "      <td>9.0</td>\n",
       "      <td>Mission</td>\n",
       "      <td>(37.768054628722, -122.421646499507)</td>\n",
       "      <td>Open311</td>\n",
       "      <td>http://mobile311.sfgov.org/media/san_francisco...</td>\n",
       "      <td>NaN</td>\n",
       "    </tr>\n",
       "    <tr>\n",
       "      <th>117</th>\n",
       "      <td>6677796</td>\n",
       "      <td>2016-12-31 08:12:02</td>\n",
       "      <td>NaT</td>\n",
       "      <td>2016-12-31 08:37:06</td>\n",
       "      <td>Open</td>\n",
       "      <td>accepted</td>\n",
       "      <td>DPW Ops Queue</td>\n",
       "      <td>Graffiti Public Property</td>\n",
       "      <td>Offensive Graffiti on Public Property</td>\n",
       "      <td>Other_enter_additional_details_below - Offensive</td>\n",
       "      <td>Intersection of 14TH ST and WOODWARD ST</td>\n",
       "      <td>9.0</td>\n",
       "      <td>Mission</td>\n",
       "      <td>(37.7682256768311, -122.420776732842)</td>\n",
       "      <td>Open311</td>\n",
       "      <td>http://mobile311.sfgov.org/media/san_francisco...</td>\n",
       "      <td>NaN</td>\n",
       "    </tr>\n",
       "    <tr>\n",
       "      <th>134</th>\n",
       "      <td>6677526</td>\n",
       "      <td>2016-12-31 00:26:19</td>\n",
       "      <td>NaT</td>\n",
       "      <td>2016-12-31 02:25:33</td>\n",
       "      <td>Open</td>\n",
       "      <td>open</td>\n",
       "      <td>DPW Ops Queue</td>\n",
       "      <td>Graffiti Public Property</td>\n",
       "      <td>Not_Offensive Graffiti on Public Property</td>\n",
       "      <td>Sidewalk_structure - Not_Offensive</td>\n",
       "      <td>Intersection of 24TH ST and ORANGE ALY</td>\n",
       "      <td>9.0</td>\n",
       "      <td>Mission</td>\n",
       "      <td>(37.7521391667461, -122.42008407763)</td>\n",
       "      <td>Open311</td>\n",
       "      <td>http://mobile311.sfgov.org/media/san_francisco...</td>\n",
       "      <td>NaN</td>\n",
       "    </tr>\n",
       "    <tr>\n",
       "      <th>135</th>\n",
       "      <td>6677445</td>\n",
       "      <td>2016-12-30 21:59:24</td>\n",
       "      <td>NaT</td>\n",
       "      <td>2016-12-30 21:59:24</td>\n",
       "      <td>Open</td>\n",
       "      <td>Open</td>\n",
       "      <td>US Postal Service Maintenance Queue</td>\n",
       "      <td>Graffiti Public Property</td>\n",
       "      <td>Not_Offensive Graffiti on Public Property</td>\n",
       "      <td>Mail_box - Not_Offensive</td>\n",
       "      <td>3350 24TH ST, SAN FRANCISCO, CA, 94110</td>\n",
       "      <td>9.0</td>\n",
       "      <td>Mission</td>\n",
       "      <td>(37.752283264037, -122.419724579665)</td>\n",
       "      <td>Open311</td>\n",
       "      <td>http://mobile311.sfgov.org/media/san_francisco...</td>\n",
       "      <td>NaN</td>\n",
       "    </tr>\n",
       "    <tr>\n",
       "      <th>136</th>\n",
       "      <td>6677346</td>\n",
       "      <td>2016-12-30 20:21:36</td>\n",
       "      <td>NaT</td>\n",
       "      <td>2016-12-30 20:37:10</td>\n",
       "      <td>Open</td>\n",
       "      <td>accepted</td>\n",
       "      <td>DPW Ops Queue</td>\n",
       "      <td>Graffiti Public Property</td>\n",
       "      <td>Not_Offensive Graffiti on Public Property</td>\n",
       "      <td>Sidewalk_structure - Not_Offensive</td>\n",
       "      <td>Intersection of 24TH ST and ORANGE ALY</td>\n",
       "      <td>9.0</td>\n",
       "      <td>Mission</td>\n",
       "      <td>(37.7521391667461, -122.42008407763)</td>\n",
       "      <td>Open311</td>\n",
       "      <td>http://mobile311.sfgov.org/media/san_francisco...</td>\n",
       "      <td>NaN</td>\n",
       "    </tr>\n",
       "    <tr>\n",
       "      <th>137</th>\n",
       "      <td>6677344</td>\n",
       "      <td>2016-12-30 20:18:30</td>\n",
       "      <td>NaT</td>\n",
       "      <td>2016-12-30 20:38:10</td>\n",
       "      <td>Open</td>\n",
       "      <td>accepted</td>\n",
       "      <td>DPW Ops Queue</td>\n",
       "      <td>Graffiti Private Property</td>\n",
       "      <td>Not_Offensive Graffiti on Private Property</td>\n",
       "      <td>Building_commercial - Not_Offensive</td>\n",
       "      <td>1200 VALENCIA ST, SAN FRANCISCO, CA, 94110</td>\n",
       "      <td>8.0</td>\n",
       "      <td>Mission</td>\n",
       "      <td>(37.753481118771, -122.420989971013)</td>\n",
       "      <td>Open311</td>\n",
       "      <td>http://mobile311.sfgov.org/media/san_francisco...</td>\n",
       "      <td>NaN</td>\n",
       "    </tr>\n",
       "    <tr>\n",
       "      <th>158</th>\n",
       "      <td>6676983</td>\n",
       "      <td>2016-12-30 16:53:43</td>\n",
       "      <td>NaT</td>\n",
       "      <td>2016-12-30 16:53:43</td>\n",
       "      <td>Open</td>\n",
       "      <td>accepted</td>\n",
       "      <td>DPW Ops Queue</td>\n",
       "      <td>Graffiti Private Property</td>\n",
       "      <td>Not_Offensive Graffiti on Private Property</td>\n",
       "      <td>Building_commercial - Not_Offensive</td>\n",
       "      <td>Intersection of 18TH ST and VALENCIA ST</td>\n",
       "      <td>9.0</td>\n",
       "      <td>Mission</td>\n",
       "      <td>(37.7617007549058, -122.421578568646)</td>\n",
       "      <td>Open311</td>\n",
       "      <td>http://mobile311.sfgov.org/media/san_francisco...</td>\n",
       "      <td>NaN</td>\n",
       "    </tr>\n",
       "    <tr>\n",
       "      <th>159</th>\n",
       "      <td>6676919</td>\n",
       "      <td>2016-12-30 16:35:24</td>\n",
       "      <td>NaT</td>\n",
       "      <td>2016-12-30 16:54:19</td>\n",
       "      <td>Open</td>\n",
       "      <td>accepted</td>\n",
       "      <td>DPW Ops Queue</td>\n",
       "      <td>Graffiti Private Property</td>\n",
       "      <td>Not_Offensive Graffiti on Private Property</td>\n",
       "      <td>Building_commercial - Not_Offensive</td>\n",
       "      <td>2191 MISSION ST, SAN FRANCISCO, CA, 94110</td>\n",
       "      <td>9.0</td>\n",
       "      <td>Mission</td>\n",
       "      <td>(37.762003712327, -122.419064566624)</td>\n",
       "      <td>Open311</td>\n",
       "      <td>http://mobile311.sfgov.org/media/san_francisco...</td>\n",
       "      <td>NaN</td>\n",
       "    </tr>\n",
       "    <tr>\n",
       "      <th>160</th>\n",
       "      <td>6676890</td>\n",
       "      <td>2016-12-30 16:25:32</td>\n",
       "      <td>NaT</td>\n",
       "      <td>2016-12-30 16:25:32</td>\n",
       "      <td>Open</td>\n",
       "      <td>Open</td>\n",
       "      <td>Clear Channel - Transit Queue</td>\n",
       "      <td>Graffiti Public Property</td>\n",
       "      <td>Not_Offensive Graffiti on Public Property</td>\n",
       "      <td>Transit_Shelter_Platform - Not_Offensive</td>\n",
       "      <td>Intersection of 18TH ST and MISSION ST</td>\n",
       "      <td>9.0</td>\n",
       "      <td>Mission</td>\n",
       "      <td>(37.7618358043403, -122.419359315196)</td>\n",
       "      <td>Open311</td>\n",
       "      <td>http://mobile311.sfgov.org/media/san_francisco...</td>\n",
       "      <td>NaN</td>\n",
       "    </tr>\n",
       "    <tr>\n",
       "      <th>161</th>\n",
       "      <td>6676851</td>\n",
       "      <td>2016-12-30 16:06:25</td>\n",
       "      <td>NaT</td>\n",
       "      <td>2016-12-30 16:06:25</td>\n",
       "      <td>Open</td>\n",
       "      <td>Open</td>\n",
       "      <td>Clear Channel - Transit Queue</td>\n",
       "      <td>Graffiti Public Property</td>\n",
       "      <td>Not_Offensive Graffiti on Public Property</td>\n",
       "      <td>Transit_Shelter_Platform - Not_Offensive</td>\n",
       "      <td>Intersection of 24TH ST and MISSION ST</td>\n",
       "      <td>9.0</td>\n",
       "      <td>Mission</td>\n",
       "      <td>(37.7522394710724, -122.418445426677)</td>\n",
       "      <td>Open311</td>\n",
       "      <td>http://mobile311.sfgov.org/media/san_francisco...</td>\n",
       "      <td>NaN</td>\n",
       "    </tr>\n",
       "    <tr>\n",
       "      <th>162</th>\n",
       "      <td>6676839</td>\n",
       "      <td>2016-12-30 16:00:52</td>\n",
       "      <td>NaT</td>\n",
       "      <td>2016-12-30 16:38:26</td>\n",
       "      <td>Open</td>\n",
       "      <td>accepted</td>\n",
       "      <td>DPW Ops Queue</td>\n",
       "      <td>Graffiti Private Property</td>\n",
       "      <td>Not_Offensive Graffiti on Private Property</td>\n",
       "      <td>Building_commercial - Not_Offensive</td>\n",
       "      <td>2434 MISSION ST, SAN FRANCISCO, CA, 94110</td>\n",
       "      <td>9.0</td>\n",
       "      <td>Mission</td>\n",
       "      <td>(37.758097361268, -122.419053848152)</td>\n",
       "      <td>Open311</td>\n",
       "      <td>http://mobile311.sfgov.org/media/san_francisco...</td>\n",
       "      <td>NaN</td>\n",
       "    </tr>\n",
       "    <tr>\n",
       "      <th>165</th>\n",
       "      <td>6676823</td>\n",
       "      <td>2016-12-30 15:58:06</td>\n",
       "      <td>2016-12-30 16:51:48</td>\n",
       "      <td>2016-12-30 16:51:48</td>\n",
       "      <td>Closed</td>\n",
       "      <td>Case is a Duplicate - Duplicate per BSES</td>\n",
       "      <td>311 Supervisor Queue</td>\n",
       "      <td>Graffiti Public Property</td>\n",
       "      <td>Not_Offensive Graffiti on Public Property</td>\n",
       "      <td>City_receptacle - Not_Offensive</td>\n",
       "      <td>Intersection of 20TH ST and MISSION ST</td>\n",
       "      <td>9.0</td>\n",
       "      <td>Mission</td>\n",
       "      <td>(37.7586326659361, -122.41905270146)</td>\n",
       "      <td>Open311</td>\n",
       "      <td>http://mobile311.sfgov.org/media/san_francisco...</td>\n",
       "      <td>0.0</td>\n",
       "    </tr>\n",
       "    <tr>\n",
       "      <th>166</th>\n",
       "      <td>6676819</td>\n",
       "      <td>2016-12-30 15:57:23</td>\n",
       "      <td>NaT</td>\n",
       "      <td>2016-12-30 15:57:23</td>\n",
       "      <td>Open</td>\n",
       "      <td>accepted</td>\n",
       "      <td>DPW Ops Queue</td>\n",
       "      <td>Graffiti Private Property</td>\n",
       "      <td>Not_Offensive Graffiti on Private Property</td>\n",
       "      <td>Building_commercial - Not_Offensive</td>\n",
       "      <td>Intersection of CATHERINE CT and MISSION ST</td>\n",
       "      <td>9.0</td>\n",
       "      <td>Mission</td>\n",
       "      <td>(37.7581998735518, -122.419011420479)</td>\n",
       "      <td>Open311</td>\n",
       "      <td>http://mobile311.sfgov.org/media/san_francisco...</td>\n",
       "      <td>NaN</td>\n",
       "    </tr>\n",
       "    <tr>\n",
       "      <th>167</th>\n",
       "      <td>6676817</td>\n",
       "      <td>2016-12-30 15:56:39</td>\n",
       "      <td>NaT</td>\n",
       "      <td>2016-12-30 15:56:39</td>\n",
       "      <td>Open</td>\n",
       "      <td>accepted</td>\n",
       "      <td>DPW Ops Queue</td>\n",
       "      <td>Graffiti Private Property</td>\n",
       "      <td>Not_Offensive Graffiti on Private Property</td>\n",
       "      <td>Building_commercial - Not_Offensive</td>\n",
       "      <td>Intersection of CATHERINE CT and MISSION ST</td>\n",
       "      <td>9.0</td>\n",
       "      <td>Mission</td>\n",
       "      <td>(37.7581998735518, -122.419011420479)</td>\n",
       "      <td>Open311</td>\n",
       "      <td>http://mobile311.sfgov.org/media/san_francisco...</td>\n",
       "      <td>NaN</td>\n",
       "    </tr>\n",
       "    <tr>\n",
       "      <th>168</th>\n",
       "      <td>6676812</td>\n",
       "      <td>2016-12-30 15:55:41</td>\n",
       "      <td>NaT</td>\n",
       "      <td>2016-12-30 16:23:36</td>\n",
       "      <td>Open</td>\n",
       "      <td>accepted</td>\n",
       "      <td>DPW Ops Queue</td>\n",
       "      <td>Graffiti Public Property</td>\n",
       "      <td>Not_Offensive Graffiti on Public Property</td>\n",
       "      <td>Signal_box - Not_Offensive</td>\n",
       "      <td>2386 MISSION ST, SAN FRANCISCO, CA, 94110</td>\n",
       "      <td>9.0</td>\n",
       "      <td>Mission</td>\n",
       "      <td>(37.758890709677, -122.419276001731)</td>\n",
       "      <td>Open311</td>\n",
       "      <td>http://mobile311.sfgov.org/media/san_francisco...</td>\n",
       "      <td>NaN</td>\n",
       "    </tr>\n",
       "    <tr>\n",
       "      <th>...</th>\n",
       "      <td>...</td>\n",
       "      <td>...</td>\n",
       "      <td>...</td>\n",
       "      <td>...</td>\n",
       "      <td>...</td>\n",
       "      <td>...</td>\n",
       "      <td>...</td>\n",
       "      <td>...</td>\n",
       "      <td>...</td>\n",
       "      <td>...</td>\n",
       "      <td>...</td>\n",
       "      <td>...</td>\n",
       "      <td>...</td>\n",
       "      <td>...</td>\n",
       "      <td>...</td>\n",
       "      <td>...</td>\n",
       "      <td>...</td>\n",
       "    </tr>\n",
       "    <tr>\n",
       "      <th>294</th>\n",
       "      <td>6675201</td>\n",
       "      <td>2016-12-30 10:14:32</td>\n",
       "      <td>NaT</td>\n",
       "      <td>2016-12-30 10:14:32</td>\n",
       "      <td>Open</td>\n",
       "      <td>Open</td>\n",
       "      <td>Clear Channel - Transit Queue</td>\n",
       "      <td>Graffiti Public Property</td>\n",
       "      <td>Not_Offensive Graffiti on Public Property</td>\n",
       "      <td>Transit_Shelter_Platform - Not_Offensive</td>\n",
       "      <td>112 SAN CARLOS ST, SAN FRANCISCO, CA, 94110</td>\n",
       "      <td>9.0</td>\n",
       "      <td>Mission</td>\n",
       "      <td>(37.761435850754, -122.420181140526)</td>\n",
       "      <td>Open311</td>\n",
       "      <td>http://mobile311.sfgov.org/media/san_francisco...</td>\n",
       "      <td>NaN</td>\n",
       "    </tr>\n",
       "    <tr>\n",
       "      <th>333</th>\n",
       "      <td>6674567</td>\n",
       "      <td>2016-12-30 07:37:49</td>\n",
       "      <td>NaT</td>\n",
       "      <td>2016-12-30 07:55:57</td>\n",
       "      <td>Open</td>\n",
       "      <td>in progress</td>\n",
       "      <td>DPW Ops Queue</td>\n",
       "      <td>Graffiti Public Property</td>\n",
       "      <td>Not_Offensive Graffiti on Public Property</td>\n",
       "      <td>City_receptacle - Not_Offensive</td>\n",
       "      <td>1789 MISSION ST, SAN FRANCISCO, CA, 94103</td>\n",
       "      <td>9.0</td>\n",
       "      <td>Mission</td>\n",
       "      <td>(37.768614044174, -122.419822993593)</td>\n",
       "      <td>Open311</td>\n",
       "      <td>http://mobile311.sfgov.org/media/san_francisco...</td>\n",
       "      <td>NaN</td>\n",
       "    </tr>\n",
       "    <tr>\n",
       "      <th>358</th>\n",
       "      <td>6673587</td>\n",
       "      <td>2016-12-29 15:53:47</td>\n",
       "      <td>NaT</td>\n",
       "      <td>2016-12-29 16:13:29</td>\n",
       "      <td>Open</td>\n",
       "      <td>open</td>\n",
       "      <td>DPW Ops Queue</td>\n",
       "      <td>Graffiti Public Property</td>\n",
       "      <td>Not_Offensive Graffiti on Public Property</td>\n",
       "      <td>Pole - Not_Offensive</td>\n",
       "      <td>1341 VALENCIA ST, SAN FRANCISCO, CA, 94110</td>\n",
       "      <td>9.0</td>\n",
       "      <td>Mission</td>\n",
       "      <td>(37.751393808023, -122.420410282049)</td>\n",
       "      <td>Voice In</td>\n",
       "      <td>NaN</td>\n",
       "      <td>NaN</td>\n",
       "    </tr>\n",
       "    <tr>\n",
       "      <th>359</th>\n",
       "      <td>6673584</td>\n",
       "      <td>2016-12-29 15:52:42</td>\n",
       "      <td>NaT</td>\n",
       "      <td>2016-12-29 15:52:42</td>\n",
       "      <td>Open</td>\n",
       "      <td>Open</td>\n",
       "      <td>US Postal Service Maintenance Queue</td>\n",
       "      <td>Graffiti Public Property</td>\n",
       "      <td>Not_Offensive Graffiti on Public Property</td>\n",
       "      <td>Mail_box - Not_Offensive</td>\n",
       "      <td>Intersection of 24TH ST and CAPP ST</td>\n",
       "      <td>9.0</td>\n",
       "      <td>Mission</td>\n",
       "      <td>(37.7523060680218, -122.417357711691)</td>\n",
       "      <td>Open311</td>\n",
       "      <td>http://mobile311.sfgov.org/media/san_francisco...</td>\n",
       "      <td>NaN</td>\n",
       "    </tr>\n",
       "    <tr>\n",
       "      <th>360</th>\n",
       "      <td>6673579</td>\n",
       "      <td>2016-12-29 15:51:24</td>\n",
       "      <td>NaT</td>\n",
       "      <td>2016-12-29 16:41:42</td>\n",
       "      <td>Open</td>\n",
       "      <td>Open</td>\n",
       "      <td>311 Service Request Queue - Hold</td>\n",
       "      <td>Graffiti Public Property</td>\n",
       "      <td>Offensive Graffiti on Public Property</td>\n",
       "      <td>Other_enter_additional_details_below - Offensive</td>\n",
       "      <td>911 CAPP ST, SAN FRANCISCO, CA, 94110</td>\n",
       "      <td>9.0</td>\n",
       "      <td>Mission</td>\n",
       "      <td>(37.752030187834, -122.417181219491)</td>\n",
       "      <td>Open311</td>\n",
       "      <td>http://mobile311.sfgov.org/media/san_francisco...</td>\n",
       "      <td>NaN</td>\n",
       "    </tr>\n",
       "    <tr>\n",
       "      <th>361</th>\n",
       "      <td>6673575</td>\n",
       "      <td>2016-12-29 15:50:35</td>\n",
       "      <td>NaT</td>\n",
       "      <td>2016-12-29 16:41:20</td>\n",
       "      <td>Open</td>\n",
       "      <td>Open</td>\n",
       "      <td>311 Service Request Queue - Hold</td>\n",
       "      <td>Graffiti Public Property</td>\n",
       "      <td>Offensive Graffiti on Public Property</td>\n",
       "      <td>Other_enter_additional_details_below - Offensive</td>\n",
       "      <td>Intersection of 24TH ST and CAPP ST</td>\n",
       "      <td>9.0</td>\n",
       "      <td>Mission</td>\n",
       "      <td>(37.7523060680218, -122.417357711691)</td>\n",
       "      <td>Open311</td>\n",
       "      <td>http://mobile311.sfgov.org/media/san_francisco...</td>\n",
       "      <td>NaN</td>\n",
       "    </tr>\n",
       "    <tr>\n",
       "      <th>363</th>\n",
       "      <td>6673511</td>\n",
       "      <td>2016-12-29 15:32:36</td>\n",
       "      <td>2016-12-31 05:26:31</td>\n",
       "      <td>2016-12-31 05:26:31</td>\n",
       "      <td>Closed</td>\n",
       "      <td>Case Resolved - Duplicate Complaint. - Duplica...</td>\n",
       "      <td>DPW BSM Queue</td>\n",
       "      <td>Graffiti Public Property</td>\n",
       "      <td>Not_Offensive Graffiti on Public Property</td>\n",
       "      <td>News_rack - Not_Offensive</td>\n",
       "      <td>2390 MISSION ST, SAN FRANCISCO, CA, 94110</td>\n",
       "      <td>9.0</td>\n",
       "      <td>Mission</td>\n",
       "      <td>(37.758777340379, -122.419226988296)</td>\n",
       "      <td>Open311</td>\n",
       "      <td>http://mobile311.sfgov.org/media/san_francisco...</td>\n",
       "      <td>1.0</td>\n",
       "    </tr>\n",
       "    <tr>\n",
       "      <th>364</th>\n",
       "      <td>6673506</td>\n",
       "      <td>2016-12-29 15:31:45</td>\n",
       "      <td>2016-12-31 05:26:51</td>\n",
       "      <td>2016-12-31 05:26:51</td>\n",
       "      <td>Closed</td>\n",
       "      <td>Case Resolved - Duplicate Complaint. - Duplica...</td>\n",
       "      <td>DPW BSM Queue</td>\n",
       "      <td>Graffiti Public Property</td>\n",
       "      <td>Not_Offensive Graffiti on Public Property</td>\n",
       "      <td>News_rack - Not_Offensive</td>\n",
       "      <td>Intersection of 20TH ST and MISSION ST</td>\n",
       "      <td>9.0</td>\n",
       "      <td>Mission</td>\n",
       "      <td>(37.7586326659361, -122.41905270146)</td>\n",
       "      <td>Open311</td>\n",
       "      <td>http://mobile311.sfgov.org/media/san_francisco...</td>\n",
       "      <td>1.0</td>\n",
       "    </tr>\n",
       "    <tr>\n",
       "      <th>365</th>\n",
       "      <td>6673501</td>\n",
       "      <td>2016-12-29 15:31:03</td>\n",
       "      <td>NaT</td>\n",
       "      <td>2016-12-29 15:31:03</td>\n",
       "      <td>Open</td>\n",
       "      <td>accepted</td>\n",
       "      <td>DPW Ops Queue</td>\n",
       "      <td>Graffiti Private Property</td>\n",
       "      <td>Not_Offensive Graffiti on Private Property</td>\n",
       "      <td>Building_commercial - Not_Offensive</td>\n",
       "      <td>Intersection of 20TH ST and MISSION ST</td>\n",
       "      <td>9.0</td>\n",
       "      <td>Mission</td>\n",
       "      <td>(37.7586326659361, -122.41905270146)</td>\n",
       "      <td>Open311</td>\n",
       "      <td>http://mobile311.sfgov.org/media/san_francisco...</td>\n",
       "      <td>NaN</td>\n",
       "    </tr>\n",
       "    <tr>\n",
       "      <th>366</th>\n",
       "      <td>6673493</td>\n",
       "      <td>2016-12-29 15:30:17</td>\n",
       "      <td>NaT</td>\n",
       "      <td>2016-12-29 15:30:17</td>\n",
       "      <td>Open</td>\n",
       "      <td>accepted</td>\n",
       "      <td>DPW Ops Queue</td>\n",
       "      <td>Graffiti Private Property</td>\n",
       "      <td>Not_Offensive Graffiti on Private Property</td>\n",
       "      <td>Building_commercial - Not_Offensive</td>\n",
       "      <td>Intersection of 20TH ST and MISSION ST</td>\n",
       "      <td>9.0</td>\n",
       "      <td>Mission</td>\n",
       "      <td>(37.7586326659361, -122.41905270146)</td>\n",
       "      <td>Open311</td>\n",
       "      <td>http://mobile311.sfgov.org/media/san_francisco...</td>\n",
       "      <td>NaN</td>\n",
       "    </tr>\n",
       "    <tr>\n",
       "      <th>408</th>\n",
       "      <td>6673163</td>\n",
       "      <td>2016-12-29 14:21:48</td>\n",
       "      <td>NaT</td>\n",
       "      <td>2016-12-29 14:45:38</td>\n",
       "      <td>Open</td>\n",
       "      <td>accepted</td>\n",
       "      <td>DPW Ops Queue</td>\n",
       "      <td>Graffiti Public Property</td>\n",
       "      <td>Not_Offensive Graffiti on Public Property</td>\n",
       "      <td>Pole - Not_Offensive</td>\n",
       "      <td>1380 VALENCIA ST, SAN FRANCISCO, CA, 94110</td>\n",
       "      <td>8.0</td>\n",
       "      <td>Mission</td>\n",
       "      <td>(37.750807892258, -122.420734023224)</td>\n",
       "      <td>Voice In</td>\n",
       "      <td>NaN</td>\n",
       "      <td>NaN</td>\n",
       "    </tr>\n",
       "    <tr>\n",
       "      <th>436</th>\n",
       "      <td>6673082</td>\n",
       "      <td>2016-12-29 14:09:26</td>\n",
       "      <td>NaT</td>\n",
       "      <td>2016-12-29 14:10:10</td>\n",
       "      <td>Open</td>\n",
       "      <td>accepted</td>\n",
       "      <td>DPW Ops Queue</td>\n",
       "      <td>Graffiti Public Property</td>\n",
       "      <td>Not_Offensive Graffiti on Public Property</td>\n",
       "      <td>Pole - Not_Offensive</td>\n",
       "      <td>1298 VALENCIA ST, SAN FRANCISCO, CA, 94110</td>\n",
       "      <td>8.0</td>\n",
       "      <td>Mission</td>\n",
       "      <td>(37.752315905907, -122.420878333367)</td>\n",
       "      <td>Voice In</td>\n",
       "      <td>NaN</td>\n",
       "      <td>NaN</td>\n",
       "    </tr>\n",
       "    <tr>\n",
       "      <th>441</th>\n",
       "      <td>6673072</td>\n",
       "      <td>2016-12-29 14:06:55</td>\n",
       "      <td>NaT</td>\n",
       "      <td>2016-12-29 14:29:38</td>\n",
       "      <td>Open</td>\n",
       "      <td>accepted</td>\n",
       "      <td>DPW Ops Queue</td>\n",
       "      <td>Graffiti Private Property</td>\n",
       "      <td>Not_Offensive Graffiti on Private Property</td>\n",
       "      <td>Building_commercial - Not_Offensive</td>\n",
       "      <td>1252 VALENCIA ST, SAN FRANCISCO, CA, 94110</td>\n",
       "      <td>8.0</td>\n",
       "      <td>Mission</td>\n",
       "      <td>(37.752819444975, -122.420888459001)</td>\n",
       "      <td>Voice In</td>\n",
       "      <td>NaN</td>\n",
       "      <td>NaN</td>\n",
       "    </tr>\n",
       "    <tr>\n",
       "      <th>484</th>\n",
       "      <td>6672482</td>\n",
       "      <td>2016-12-29 12:13:00</td>\n",
       "      <td>NaT</td>\n",
       "      <td>2016-12-29 12:13:00</td>\n",
       "      <td>Open</td>\n",
       "      <td>accepted</td>\n",
       "      <td>DPW Ops Queue</td>\n",
       "      <td>Graffiti Private Property</td>\n",
       "      <td>Not_Offensive Graffiti on Private Property</td>\n",
       "      <td>Building_other - Not_Offensive</td>\n",
       "      <td>1647 15TH ST, SAN FRANCISCO, CA, 94103</td>\n",
       "      <td>9.0</td>\n",
       "      <td>Mission</td>\n",
       "      <td>(37.766472172775, -122.420697448035)</td>\n",
       "      <td>Integrated Agency</td>\n",
       "      <td>NaN</td>\n",
       "      <td>NaN</td>\n",
       "    </tr>\n",
       "    <tr>\n",
       "      <th>487</th>\n",
       "      <td>6672434</td>\n",
       "      <td>2016-12-29 12:03:53</td>\n",
       "      <td>2016-12-29 12:59:58</td>\n",
       "      <td>2016-12-29 12:59:58</td>\n",
       "      <td>Closed</td>\n",
       "      <td>Scheduled -</td>\n",
       "      <td>Clear Channel - Transit Queue</td>\n",
       "      <td>Graffiti Public Property</td>\n",
       "      <td>Not_Offensive Graffiti on Public Property</td>\n",
       "      <td>Transit_Shelter_Platform - Not_Offensive</td>\n",
       "      <td>3471 18TH ST, SAN FRANCISCO, CA, 94110</td>\n",
       "      <td>9.0</td>\n",
       "      <td>Mission</td>\n",
       "      <td>(37.76162929523, -122.420944361714)</td>\n",
       "      <td>Open311</td>\n",
       "      <td>http://mobile311.sfgov.org/media/san_francisco...</td>\n",
       "      <td>0.0</td>\n",
       "    </tr>\n",
       "    <tr>\n",
       "      <th>491</th>\n",
       "      <td>6672329</td>\n",
       "      <td>2016-12-29 11:43:34</td>\n",
       "      <td>NaT</td>\n",
       "      <td>2016-12-29 12:12:50</td>\n",
       "      <td>Open</td>\n",
       "      <td>open</td>\n",
       "      <td>DPW Ops Queue</td>\n",
       "      <td>Graffiti Private Property</td>\n",
       "      <td>Not_Offensive Graffiti on Private Property</td>\n",
       "      <td>Building_commercial - Not_Offensive</td>\n",
       "      <td>2632 MISSION ST, SAN FRANCISCO, CA, 94110</td>\n",
       "      <td>9.0</td>\n",
       "      <td>Mission</td>\n",
       "      <td>(37.754844500462, -122.418850439191)</td>\n",
       "      <td>Open311</td>\n",
       "      <td>http://mobile311.sfgov.org/media/san_francisco...</td>\n",
       "      <td>NaN</td>\n",
       "    </tr>\n",
       "    <tr>\n",
       "      <th>492</th>\n",
       "      <td>6672323</td>\n",
       "      <td>2016-12-29 11:42:10</td>\n",
       "      <td>NaT</td>\n",
       "      <td>2016-12-29 12:12:52</td>\n",
       "      <td>Open</td>\n",
       "      <td>open</td>\n",
       "      <td>DPW Ops Queue</td>\n",
       "      <td>Graffiti Private Property</td>\n",
       "      <td>Not_Offensive Graffiti on Private Property</td>\n",
       "      <td>Building_commercial - Not_Offensive</td>\n",
       "      <td>2610 MISSION ST, SAN FRANCISCO, CA, 94110</td>\n",
       "      <td>9.0</td>\n",
       "      <td>Mission</td>\n",
       "      <td>(37.755165177393, -122.418919366318)</td>\n",
       "      <td>Open311</td>\n",
       "      <td>http://mobile311.sfgov.org/media/san_francisco...</td>\n",
       "      <td>NaN</td>\n",
       "    </tr>\n",
       "    <tr>\n",
       "      <th>493</th>\n",
       "      <td>6672317</td>\n",
       "      <td>2016-12-29 11:41:11</td>\n",
       "      <td>NaT</td>\n",
       "      <td>2016-12-29 11:41:11</td>\n",
       "      <td>Open</td>\n",
       "      <td>accepted</td>\n",
       "      <td>DPW Ops Queue</td>\n",
       "      <td>Graffiti Public Property</td>\n",
       "      <td>Not_Offensive Graffiti on Public Property</td>\n",
       "      <td>Fire_Police_Callbox - Not_Offensive</td>\n",
       "      <td>Intersection of 18TH ST and MISSION ST</td>\n",
       "      <td>9.0</td>\n",
       "      <td>Mission</td>\n",
       "      <td>(37.7618358043403, -122.419359315196)</td>\n",
       "      <td>Open311</td>\n",
       "      <td>http://mobile311.sfgov.org/media/san_francisco...</td>\n",
       "      <td>NaN</td>\n",
       "    </tr>\n",
       "    <tr>\n",
       "      <th>494</th>\n",
       "      <td>6672294</td>\n",
       "      <td>2016-12-29 11:37:12</td>\n",
       "      <td>2016-12-31 05:26:52</td>\n",
       "      <td>2016-12-31 05:26:52</td>\n",
       "      <td>Closed</td>\n",
       "      <td>Case Resolved - duplicate rfa- see 21284120 (s...</td>\n",
       "      <td>DPW BSM Queue</td>\n",
       "      <td>Graffiti Private Property</td>\n",
       "      <td>Not_Offensive Graffiti on Private Property</td>\n",
       "      <td>Building_commercial - Not_Offensive</td>\n",
       "      <td>2172 MISSION ST, SAN FRANCISCO, CA, 94110</td>\n",
       "      <td>9.0</td>\n",
       "      <td>Mission</td>\n",
       "      <td>(37.762253612186, -122.419559792544)</td>\n",
       "      <td>Open311</td>\n",
       "      <td>http://mobile311.sfgov.org/media/san_francisco...</td>\n",
       "      <td>1.0</td>\n",
       "    </tr>\n",
       "    <tr>\n",
       "      <th>495</th>\n",
       "      <td>6672274</td>\n",
       "      <td>2016-12-29 11:35:02</td>\n",
       "      <td>NaT</td>\n",
       "      <td>2016-12-29 11:35:02</td>\n",
       "      <td>Open</td>\n",
       "      <td>Open</td>\n",
       "      <td>US Postal Service Maintenance Queue</td>\n",
       "      <td>Graffiti Public Property</td>\n",
       "      <td>Not_Offensive Graffiti on Public Property</td>\n",
       "      <td>Mail_box - Not_Offensive</td>\n",
       "      <td>Intersection of 17TH ST and MISSION ST</td>\n",
       "      <td>9.0</td>\n",
       "      <td>Mission</td>\n",
       "      <td>(37.7634292697508, -122.419512595608)</td>\n",
       "      <td>Open311</td>\n",
       "      <td>http://mobile311.sfgov.org/media/san_francisco...</td>\n",
       "      <td>NaN</td>\n",
       "    </tr>\n",
       "    <tr>\n",
       "      <th>496</th>\n",
       "      <td>6672249</td>\n",
       "      <td>2016-12-29 11:29:22</td>\n",
       "      <td>NaT</td>\n",
       "      <td>2016-12-29 12:00:18</td>\n",
       "      <td>Open</td>\n",
       "      <td>accepted</td>\n",
       "      <td>DPW BSM Queue</td>\n",
       "      <td>Graffiti Private Property</td>\n",
       "      <td>Not_Offensive Graffiti on Private Property</td>\n",
       "      <td>Building_commercial - Not_Offensive</td>\n",
       "      <td>Intersection of 18TH ST and MISSION ST</td>\n",
       "      <td>9.0</td>\n",
       "      <td>Mission</td>\n",
       "      <td>(37.7618358043403, -122.419359315196)</td>\n",
       "      <td>Open311</td>\n",
       "      <td>http://mobile311.sfgov.org/media/san_francisco...</td>\n",
       "      <td>NaN</td>\n",
       "    </tr>\n",
       "    <tr>\n",
       "      <th>501</th>\n",
       "      <td>6672199</td>\n",
       "      <td>2016-12-29 11:19:56</td>\n",
       "      <td>NaT</td>\n",
       "      <td>2016-12-29 11:19:56</td>\n",
       "      <td>Open</td>\n",
       "      <td>accepted</td>\n",
       "      <td>DPW Ops Queue</td>\n",
       "      <td>Graffiti Private Property</td>\n",
       "      <td>Not_Offensive Graffiti on Private Property</td>\n",
       "      <td>Building_commercial - Not_Offensive</td>\n",
       "      <td>195 LEXINGTON ST, SAN FRANCISCO, CA, 94110</td>\n",
       "      <td>9.0</td>\n",
       "      <td>Mission</td>\n",
       "      <td>(37.760327182092, -122.420569260364)</td>\n",
       "      <td>Open311</td>\n",
       "      <td>NaN</td>\n",
       "      <td>NaN</td>\n",
       "    </tr>\n",
       "    <tr>\n",
       "      <th>503</th>\n",
       "      <td>6672191</td>\n",
       "      <td>2016-12-29 11:18:42</td>\n",
       "      <td>NaT</td>\n",
       "      <td>2016-12-29 11:18:42</td>\n",
       "      <td>Open</td>\n",
       "      <td>Open</td>\n",
       "      <td>US Postal Service Maintenance Queue</td>\n",
       "      <td>Graffiti Public Property</td>\n",
       "      <td>Not_Offensive Graffiti on Public Property</td>\n",
       "      <td>Mail_box - Not_Offensive</td>\n",
       "      <td>787 VALENCIA ST, SAN FRANCISCO, CA, 94110</td>\n",
       "      <td>9.0</td>\n",
       "      <td>Mission</td>\n",
       "      <td>(37.760396596336, -122.421272224834)</td>\n",
       "      <td>Open311</td>\n",
       "      <td>http://mobile311.sfgov.org/media/san_francisco...</td>\n",
       "      <td>NaN</td>\n",
       "    </tr>\n",
       "    <tr>\n",
       "      <th>506</th>\n",
       "      <td>6672183</td>\n",
       "      <td>2016-12-29 11:17:49</td>\n",
       "      <td>NaT</td>\n",
       "      <td>2016-12-29 11:17:49</td>\n",
       "      <td>Open</td>\n",
       "      <td>Open</td>\n",
       "      <td>US Postal Service Maintenance Queue</td>\n",
       "      <td>Graffiti Public Property</td>\n",
       "      <td>Not_Offensive Graffiti on Public Property</td>\n",
       "      <td>Mail_box - Not_Offensive</td>\n",
       "      <td>Intersection of 19TH ST and VALENCIA ST</td>\n",
       "      <td>8.0</td>\n",
       "      <td>Mission</td>\n",
       "      <td>(37.7601012510183, -122.421425091251)</td>\n",
       "      <td>Open311</td>\n",
       "      <td>http://mobile311.sfgov.org/media/san_francisco...</td>\n",
       "      <td>NaN</td>\n",
       "    </tr>\n",
       "    <tr>\n",
       "      <th>508</th>\n",
       "      <td>6672175</td>\n",
       "      <td>2016-12-29 11:17:03</td>\n",
       "      <td>NaT</td>\n",
       "      <td>2016-12-29 11:17:03</td>\n",
       "      <td>Open</td>\n",
       "      <td>accepted</td>\n",
       "      <td>DPW Ops Queue</td>\n",
       "      <td>Graffiti Private Property</td>\n",
       "      <td>Not_Offensive Graffiti on Private Property</td>\n",
       "      <td>Sidewalk_in_front_of_property - Not_Offensive</td>\n",
       "      <td>Intersection of 19TH ST and VALENCIA ST</td>\n",
       "      <td>8.0</td>\n",
       "      <td>Mission</td>\n",
       "      <td>(37.7601012510183, -122.421425091251)</td>\n",
       "      <td>Open311</td>\n",
       "      <td>http://mobile311.sfgov.org/media/san_francisco...</td>\n",
       "      <td>NaN</td>\n",
       "    </tr>\n",
       "    <tr>\n",
       "      <th>511</th>\n",
       "      <td>6672166</td>\n",
       "      <td>2016-12-29 11:16:05</td>\n",
       "      <td>NaT</td>\n",
       "      <td>2016-12-29 11:16:05</td>\n",
       "      <td>Open</td>\n",
       "      <td>accepted</td>\n",
       "      <td>DPW Ops Queue</td>\n",
       "      <td>Graffiti Public Property</td>\n",
       "      <td>Not_Offensive Graffiti on Public Property</td>\n",
       "      <td>Fire_Police_Callbox - Not_Offensive</td>\n",
       "      <td>Intersection of 19TH ST and VALENCIA ST</td>\n",
       "      <td>8.0</td>\n",
       "      <td>Mission</td>\n",
       "      <td>(37.7601012510183, -122.421425091251)</td>\n",
       "      <td>Open311</td>\n",
       "      <td>http://mobile311.sfgov.org/media/san_francisco...</td>\n",
       "      <td>NaN</td>\n",
       "    </tr>\n",
       "    <tr>\n",
       "      <th>514</th>\n",
       "      <td>6672162</td>\n",
       "      <td>2016-12-29 11:15:10</td>\n",
       "      <td>NaT</td>\n",
       "      <td>2016-12-29 12:11:35</td>\n",
       "      <td>Open</td>\n",
       "      <td>Open</td>\n",
       "      <td>311 Service Request Queue - Hold</td>\n",
       "      <td>Graffiti Public Property</td>\n",
       "      <td>Offensive Graffiti on Public Property</td>\n",
       "      <td>Other_enter_additional_details_below - Offensive</td>\n",
       "      <td>Intersection of 19TH ST and VALENCIA ST</td>\n",
       "      <td>8.0</td>\n",
       "      <td>Mission</td>\n",
       "      <td>(37.7601012510183, -122.421425091251)</td>\n",
       "      <td>Open311</td>\n",
       "      <td>http://mobile311.sfgov.org/media/san_francisco...</td>\n",
       "      <td>NaN</td>\n",
       "    </tr>\n",
       "    <tr>\n",
       "      <th>551</th>\n",
       "      <td>6671873</td>\n",
       "      <td>2016-12-29 10:31:23</td>\n",
       "      <td>NaT</td>\n",
       "      <td>2016-12-29 10:31:23</td>\n",
       "      <td>Open</td>\n",
       "      <td>accepted</td>\n",
       "      <td>DPW Ops Queue</td>\n",
       "      <td>Graffiti Private Property</td>\n",
       "      <td>Not_Offensive Graffiti on Private Property</td>\n",
       "      <td>Building_other - Not_Offensive</td>\n",
       "      <td>2595 FOLSOM ST, SAN FRANCISCO, CA, 94110</td>\n",
       "      <td>9.0</td>\n",
       "      <td>Mission</td>\n",
       "      <td>(37.755860359576, -122.414214122033)</td>\n",
       "      <td>Integrated Agency</td>\n",
       "      <td>NaN</td>\n",
       "      <td>NaN</td>\n",
       "    </tr>\n",
       "    <tr>\n",
       "      <th>557</th>\n",
       "      <td>6671763</td>\n",
       "      <td>2016-12-29 10:14:48</td>\n",
       "      <td>NaT</td>\n",
       "      <td>2016-12-29 10:41:10</td>\n",
       "      <td>Open</td>\n",
       "      <td>accepted</td>\n",
       "      <td>DPW Ops Queue</td>\n",
       "      <td>Graffiti Private Property</td>\n",
       "      <td>Offensive Graffiti on Private Property</td>\n",
       "      <td>Sidewalk_in_front_of_property - Offensive</td>\n",
       "      <td>2200 MISSION ST, SAN FRANCISCO, CA, 94110</td>\n",
       "      <td>9.0</td>\n",
       "      <td>Mission</td>\n",
       "      <td>(37.761619901592, -122.419537211913)</td>\n",
       "      <td>Web Self Service</td>\n",
       "      <td>NaN</td>\n",
       "      <td>NaN</td>\n",
       "    </tr>\n",
       "    <tr>\n",
       "      <th>581</th>\n",
       "      <td>6671429</td>\n",
       "      <td>2016-12-29 09:15:24</td>\n",
       "      <td>NaT</td>\n",
       "      <td>2016-12-29 09:15:24</td>\n",
       "      <td>Open</td>\n",
       "      <td>accepted</td>\n",
       "      <td>DPW Ops Queue</td>\n",
       "      <td>Graffiti Private Property</td>\n",
       "      <td>Not_Offensive Graffiti on Private Property</td>\n",
       "      <td>Building_other - Not_Offensive</td>\n",
       "      <td>2352 MISSION ST, SAN FRANCISCO, CA, 94110</td>\n",
       "      <td>9.0</td>\n",
       "      <td>Mission</td>\n",
       "      <td>(37.759415668788, -122.419288096519)</td>\n",
       "      <td>Integrated Agency</td>\n",
       "      <td>NaN</td>\n",
       "      <td>NaN</td>\n",
       "    </tr>\n",
       "  </tbody>\n",
       "</table>\n",
       "<p>85 rows × 17 columns</p>\n",
       "</div>"
      ],
      "text/plain": [
       "      CaseID              Opened              Closed             Updated  \\\n",
       "59   6678507 2016-12-31 14:03:07                 NaT 2016-12-31 14:03:07   \n",
       "60   6678506 2016-12-31 14:01:15                 NaT 2016-12-31 20:32:49   \n",
       "61   6678496 2016-12-31 13:49:21                 NaT 2016-12-31 13:49:21   \n",
       "62   6678495 2016-12-31 13:48:37                 NaT 2016-12-31 13:48:37   \n",
       "63   6678494 2016-12-31 13:48:00                 NaT 2016-12-31 13:48:00   \n",
       "64   6678489 2016-12-31 13:46:49                 NaT 2016-12-31 13:59:05   \n",
       "89   6678213 2016-12-31 11:41:15                 NaT 2016-12-31 11:41:15   \n",
       "90   6678077 2016-12-31 10:39:45                 NaT 2016-12-31 10:39:45   \n",
       "91   6678053 2016-12-31 10:29:42 2016-12-31 11:25:21 2016-12-31 11:25:21   \n",
       "92   6678049 2016-12-31 10:28:45                 NaT 2016-12-31 10:29:27   \n",
       "94   6678041 2016-12-31 10:26:51                 NaT 2016-12-31 10:26:51   \n",
       "96   6678036 2016-12-31 10:25:20                 NaT 2016-12-31 10:25:20   \n",
       "97   6678023 2016-12-31 10:20:27                 NaT 2016-12-31 10:41:20   \n",
       "98   6678017 2016-12-31 10:19:07                 NaT 2016-12-31 10:19:07   \n",
       "99   6677997 2016-12-31 10:08:14                 NaT 2016-12-31 10:08:14   \n",
       "115  6677803 2016-12-31 08:17:12                 NaT 2016-12-31 08:17:12   \n",
       "117  6677796 2016-12-31 08:12:02                 NaT 2016-12-31 08:37:06   \n",
       "134  6677526 2016-12-31 00:26:19                 NaT 2016-12-31 02:25:33   \n",
       "135  6677445 2016-12-30 21:59:24                 NaT 2016-12-30 21:59:24   \n",
       "136  6677346 2016-12-30 20:21:36                 NaT 2016-12-30 20:37:10   \n",
       "137  6677344 2016-12-30 20:18:30                 NaT 2016-12-30 20:38:10   \n",
       "158  6676983 2016-12-30 16:53:43                 NaT 2016-12-30 16:53:43   \n",
       "159  6676919 2016-12-30 16:35:24                 NaT 2016-12-30 16:54:19   \n",
       "160  6676890 2016-12-30 16:25:32                 NaT 2016-12-30 16:25:32   \n",
       "161  6676851 2016-12-30 16:06:25                 NaT 2016-12-30 16:06:25   \n",
       "162  6676839 2016-12-30 16:00:52                 NaT 2016-12-30 16:38:26   \n",
       "165  6676823 2016-12-30 15:58:06 2016-12-30 16:51:48 2016-12-30 16:51:48   \n",
       "166  6676819 2016-12-30 15:57:23                 NaT 2016-12-30 15:57:23   \n",
       "167  6676817 2016-12-30 15:56:39                 NaT 2016-12-30 15:56:39   \n",
       "168  6676812 2016-12-30 15:55:41                 NaT 2016-12-30 16:23:36   \n",
       "..       ...                 ...                 ...                 ...   \n",
       "294  6675201 2016-12-30 10:14:32                 NaT 2016-12-30 10:14:32   \n",
       "333  6674567 2016-12-30 07:37:49                 NaT 2016-12-30 07:55:57   \n",
       "358  6673587 2016-12-29 15:53:47                 NaT 2016-12-29 16:13:29   \n",
       "359  6673584 2016-12-29 15:52:42                 NaT 2016-12-29 15:52:42   \n",
       "360  6673579 2016-12-29 15:51:24                 NaT 2016-12-29 16:41:42   \n",
       "361  6673575 2016-12-29 15:50:35                 NaT 2016-12-29 16:41:20   \n",
       "363  6673511 2016-12-29 15:32:36 2016-12-31 05:26:31 2016-12-31 05:26:31   \n",
       "364  6673506 2016-12-29 15:31:45 2016-12-31 05:26:51 2016-12-31 05:26:51   \n",
       "365  6673501 2016-12-29 15:31:03                 NaT 2016-12-29 15:31:03   \n",
       "366  6673493 2016-12-29 15:30:17                 NaT 2016-12-29 15:30:17   \n",
       "408  6673163 2016-12-29 14:21:48                 NaT 2016-12-29 14:45:38   \n",
       "436  6673082 2016-12-29 14:09:26                 NaT 2016-12-29 14:10:10   \n",
       "441  6673072 2016-12-29 14:06:55                 NaT 2016-12-29 14:29:38   \n",
       "484  6672482 2016-12-29 12:13:00                 NaT 2016-12-29 12:13:00   \n",
       "487  6672434 2016-12-29 12:03:53 2016-12-29 12:59:58 2016-12-29 12:59:58   \n",
       "491  6672329 2016-12-29 11:43:34                 NaT 2016-12-29 12:12:50   \n",
       "492  6672323 2016-12-29 11:42:10                 NaT 2016-12-29 12:12:52   \n",
       "493  6672317 2016-12-29 11:41:11                 NaT 2016-12-29 11:41:11   \n",
       "494  6672294 2016-12-29 11:37:12 2016-12-31 05:26:52 2016-12-31 05:26:52   \n",
       "495  6672274 2016-12-29 11:35:02                 NaT 2016-12-29 11:35:02   \n",
       "496  6672249 2016-12-29 11:29:22                 NaT 2016-12-29 12:00:18   \n",
       "501  6672199 2016-12-29 11:19:56                 NaT 2016-12-29 11:19:56   \n",
       "503  6672191 2016-12-29 11:18:42                 NaT 2016-12-29 11:18:42   \n",
       "506  6672183 2016-12-29 11:17:49                 NaT 2016-12-29 11:17:49   \n",
       "508  6672175 2016-12-29 11:17:03                 NaT 2016-12-29 11:17:03   \n",
       "511  6672166 2016-12-29 11:16:05                 NaT 2016-12-29 11:16:05   \n",
       "514  6672162 2016-12-29 11:15:10                 NaT 2016-12-29 12:11:35   \n",
       "551  6671873 2016-12-29 10:31:23                 NaT 2016-12-29 10:31:23   \n",
       "557  6671763 2016-12-29 10:14:48                 NaT 2016-12-29 10:41:10   \n",
       "581  6671429 2016-12-29 09:15:24                 NaT 2016-12-29 09:15:24   \n",
       "\n",
       "     Status                                       Status Notes  \\\n",
       "59     Open                                               Open   \n",
       "60     Open                                               Open   \n",
       "61     Open                                           accepted   \n",
       "62     Open                                               Open   \n",
       "63     Open                                           accepted   \n",
       "64     Open                                               Open   \n",
       "89     Open                                           accepted   \n",
       "90     Open                                           accepted   \n",
       "91   Closed                                    Case Resolved -   \n",
       "92     Open                                           accepted   \n",
       "94     Open                                               Open   \n",
       "96     Open                                               Open   \n",
       "97     Open                                           accepted   \n",
       "98     Open                                               Open   \n",
       "99     Open                                               Open   \n",
       "115    Open                                           accepted   \n",
       "117    Open                                           accepted   \n",
       "134    Open                                               open   \n",
       "135    Open                                               Open   \n",
       "136    Open                                           accepted   \n",
       "137    Open                                           accepted   \n",
       "158    Open                                           accepted   \n",
       "159    Open                                           accepted   \n",
       "160    Open                                               Open   \n",
       "161    Open                                               Open   \n",
       "162    Open                                           accepted   \n",
       "165  Closed           Case is a Duplicate - Duplicate per BSES   \n",
       "166    Open                                           accepted   \n",
       "167    Open                                           accepted   \n",
       "168    Open                                           accepted   \n",
       "..      ...                                                ...   \n",
       "294    Open                                               Open   \n",
       "333    Open                                        in progress   \n",
       "358    Open                                               open   \n",
       "359    Open                                               Open   \n",
       "360    Open                                               Open   \n",
       "361    Open                                               Open   \n",
       "363  Closed  Case Resolved - Duplicate Complaint. - Duplica...   \n",
       "364  Closed  Case Resolved - Duplicate Complaint. - Duplica...   \n",
       "365    Open                                           accepted   \n",
       "366    Open                                           accepted   \n",
       "408    Open                                           accepted   \n",
       "436    Open                                           accepted   \n",
       "441    Open                                           accepted   \n",
       "484    Open                                           accepted   \n",
       "487  Closed                                        Scheduled -   \n",
       "491    Open                                               open   \n",
       "492    Open                                               open   \n",
       "493    Open                                           accepted   \n",
       "494  Closed  Case Resolved - duplicate rfa- see 21284120 (s...   \n",
       "495    Open                                               Open   \n",
       "496    Open                                           accepted   \n",
       "501    Open                                           accepted   \n",
       "503    Open                                               Open   \n",
       "506    Open                                               Open   \n",
       "508    Open                                           accepted   \n",
       "511    Open                                           accepted   \n",
       "514    Open                                               Open   \n",
       "551    Open                                           accepted   \n",
       "557    Open                                           accepted   \n",
       "581    Open                                           accepted   \n",
       "\n",
       "                      Responsible Agency                   Category  \\\n",
       "59         Clear Channel - Transit Queue   Graffiti Public Property   \n",
       "60      311 Service Request Queue - Hold   Graffiti Public Property   \n",
       "61                         DPW Ops Queue  Graffiti Private Property   \n",
       "62   US Postal Service Maintenance Queue   Graffiti Public Property   \n",
       "63                         DPW Ops Queue  Graffiti Private Property   \n",
       "64      311 Service Request Queue - Hold   Graffiti Public Property   \n",
       "89                         DPW Ops Queue  Graffiti Private Property   \n",
       "90                         DPW Ops Queue   Graffiti Public Property   \n",
       "91                         DPW Ops Queue   Graffiti Public Property   \n",
       "92                         DPW Ops Queue   Graffiti Public Property   \n",
       "94         Clear Channel - Transit Queue   Graffiti Public Property   \n",
       "96   US Postal Service Maintenance Queue   Graffiti Public Property   \n",
       "97                         DPW Ops Queue  Graffiti Private Property   \n",
       "98         Clear Channel - Transit Queue   Graffiti Public Property   \n",
       "99         Clear Channel - Transit Queue   Graffiti Public Property   \n",
       "115                        DPW Ops Queue  Graffiti Private Property   \n",
       "117                        DPW Ops Queue   Graffiti Public Property   \n",
       "134                        DPW Ops Queue   Graffiti Public Property   \n",
       "135  US Postal Service Maintenance Queue   Graffiti Public Property   \n",
       "136                        DPW Ops Queue   Graffiti Public Property   \n",
       "137                        DPW Ops Queue  Graffiti Private Property   \n",
       "158                        DPW Ops Queue  Graffiti Private Property   \n",
       "159                        DPW Ops Queue  Graffiti Private Property   \n",
       "160        Clear Channel - Transit Queue   Graffiti Public Property   \n",
       "161        Clear Channel - Transit Queue   Graffiti Public Property   \n",
       "162                        DPW Ops Queue  Graffiti Private Property   \n",
       "165                 311 Supervisor Queue   Graffiti Public Property   \n",
       "166                        DPW Ops Queue  Graffiti Private Property   \n",
       "167                        DPW Ops Queue  Graffiti Private Property   \n",
       "168                        DPW Ops Queue   Graffiti Public Property   \n",
       "..                                   ...                        ...   \n",
       "294        Clear Channel - Transit Queue   Graffiti Public Property   \n",
       "333                        DPW Ops Queue   Graffiti Public Property   \n",
       "358                        DPW Ops Queue   Graffiti Public Property   \n",
       "359  US Postal Service Maintenance Queue   Graffiti Public Property   \n",
       "360     311 Service Request Queue - Hold   Graffiti Public Property   \n",
       "361     311 Service Request Queue - Hold   Graffiti Public Property   \n",
       "363                        DPW BSM Queue   Graffiti Public Property   \n",
       "364                        DPW BSM Queue   Graffiti Public Property   \n",
       "365                        DPW Ops Queue  Graffiti Private Property   \n",
       "366                        DPW Ops Queue  Graffiti Private Property   \n",
       "408                        DPW Ops Queue   Graffiti Public Property   \n",
       "436                        DPW Ops Queue   Graffiti Public Property   \n",
       "441                        DPW Ops Queue  Graffiti Private Property   \n",
       "484                        DPW Ops Queue  Graffiti Private Property   \n",
       "487        Clear Channel - Transit Queue   Graffiti Public Property   \n",
       "491                        DPW Ops Queue  Graffiti Private Property   \n",
       "492                        DPW Ops Queue  Graffiti Private Property   \n",
       "493                        DPW Ops Queue   Graffiti Public Property   \n",
       "494                        DPW BSM Queue  Graffiti Private Property   \n",
       "495  US Postal Service Maintenance Queue   Graffiti Public Property   \n",
       "496                        DPW BSM Queue  Graffiti Private Property   \n",
       "501                        DPW Ops Queue  Graffiti Private Property   \n",
       "503  US Postal Service Maintenance Queue   Graffiti Public Property   \n",
       "506  US Postal Service Maintenance Queue   Graffiti Public Property   \n",
       "508                        DPW Ops Queue  Graffiti Private Property   \n",
       "511                        DPW Ops Queue   Graffiti Public Property   \n",
       "514     311 Service Request Queue - Hold   Graffiti Public Property   \n",
       "551                        DPW Ops Queue  Graffiti Private Property   \n",
       "557                        DPW Ops Queue  Graffiti Private Property   \n",
       "581                        DPW Ops Queue  Graffiti Private Property   \n",
       "\n",
       "                                   Request Type  \\\n",
       "59    Not_Offensive Graffiti on Public Property   \n",
       "60        Offensive Graffiti on Public Property   \n",
       "61   Not_Offensive Graffiti on Private Property   \n",
       "62    Not_Offensive Graffiti on Public Property   \n",
       "63   Not_Offensive Graffiti on Private Property   \n",
       "64        Offensive Graffiti on Public Property   \n",
       "89   Not_Offensive Graffiti on Private Property   \n",
       "90    Not_Offensive Graffiti on Public Property   \n",
       "91    Not_Offensive Graffiti on Public Property   \n",
       "92        Offensive Graffiti on Public Property   \n",
       "94    Not_Offensive Graffiti on Public Property   \n",
       "96    Not_Offensive Graffiti on Public Property   \n",
       "97   Not_Offensive Graffiti on Private Property   \n",
       "98    Not_Offensive Graffiti on Public Property   \n",
       "99    Not_Offensive Graffiti on Public Property   \n",
       "115  Not_Offensive Graffiti on Private Property   \n",
       "117       Offensive Graffiti on Public Property   \n",
       "134   Not_Offensive Graffiti on Public Property   \n",
       "135   Not_Offensive Graffiti on Public Property   \n",
       "136   Not_Offensive Graffiti on Public Property   \n",
       "137  Not_Offensive Graffiti on Private Property   \n",
       "158  Not_Offensive Graffiti on Private Property   \n",
       "159  Not_Offensive Graffiti on Private Property   \n",
       "160   Not_Offensive Graffiti on Public Property   \n",
       "161   Not_Offensive Graffiti on Public Property   \n",
       "162  Not_Offensive Graffiti on Private Property   \n",
       "165   Not_Offensive Graffiti on Public Property   \n",
       "166  Not_Offensive Graffiti on Private Property   \n",
       "167  Not_Offensive Graffiti on Private Property   \n",
       "168   Not_Offensive Graffiti on Public Property   \n",
       "..                                          ...   \n",
       "294   Not_Offensive Graffiti on Public Property   \n",
       "333   Not_Offensive Graffiti on Public Property   \n",
       "358   Not_Offensive Graffiti on Public Property   \n",
       "359   Not_Offensive Graffiti on Public Property   \n",
       "360       Offensive Graffiti on Public Property   \n",
       "361       Offensive Graffiti on Public Property   \n",
       "363   Not_Offensive Graffiti on Public Property   \n",
       "364   Not_Offensive Graffiti on Public Property   \n",
       "365  Not_Offensive Graffiti on Private Property   \n",
       "366  Not_Offensive Graffiti on Private Property   \n",
       "408   Not_Offensive Graffiti on Public Property   \n",
       "436   Not_Offensive Graffiti on Public Property   \n",
       "441  Not_Offensive Graffiti on Private Property   \n",
       "484  Not_Offensive Graffiti on Private Property   \n",
       "487   Not_Offensive Graffiti on Public Property   \n",
       "491  Not_Offensive Graffiti on Private Property   \n",
       "492  Not_Offensive Graffiti on Private Property   \n",
       "493   Not_Offensive Graffiti on Public Property   \n",
       "494  Not_Offensive Graffiti on Private Property   \n",
       "495   Not_Offensive Graffiti on Public Property   \n",
       "496  Not_Offensive Graffiti on Private Property   \n",
       "501  Not_Offensive Graffiti on Private Property   \n",
       "503   Not_Offensive Graffiti on Public Property   \n",
       "506   Not_Offensive Graffiti on Public Property   \n",
       "508  Not_Offensive Graffiti on Private Property   \n",
       "511   Not_Offensive Graffiti on Public Property   \n",
       "514       Offensive Graffiti on Public Property   \n",
       "551  Not_Offensive Graffiti on Private Property   \n",
       "557      Offensive Graffiti on Private Property   \n",
       "581  Not_Offensive Graffiti on Private Property   \n",
       "\n",
       "                                      Request Details  \\\n",
       "59           Transit_Shelter_Platform - Not_Offensive   \n",
       "60   Other_enter_additional_details_below - Offensive   \n",
       "61                Building_commercial - Not_Offensive   \n",
       "62                           Mail_box - Not_Offensive   \n",
       "63                Building_commercial - Not_Offensive   \n",
       "64   Other_enter_additional_details_below - Offensive   \n",
       "89      Sidewalk_in_front_of_property - Not_Offensive   \n",
       "90                Fire_Police_Callbox - Not_Offensive   \n",
       "91                    City_receptacle - Not_Offensive   \n",
       "92                                   Pole - Offensive   \n",
       "94           Transit_Shelter_Platform - Not_Offensive   \n",
       "96                           Mail_box - Not_Offensive   \n",
       "97                Building_commercial - Not_Offensive   \n",
       "98           Transit_Shelter_Platform - Not_Offensive   \n",
       "99           Transit_Shelter_Platform - Not_Offensive   \n",
       "115              Building_residential - Not_Offensive   \n",
       "117  Other_enter_additional_details_below - Offensive   \n",
       "134                Sidewalk_structure - Not_Offensive   \n",
       "135                          Mail_box - Not_Offensive   \n",
       "136                Sidewalk_structure - Not_Offensive   \n",
       "137               Building_commercial - Not_Offensive   \n",
       "158               Building_commercial - Not_Offensive   \n",
       "159               Building_commercial - Not_Offensive   \n",
       "160          Transit_Shelter_Platform - Not_Offensive   \n",
       "161          Transit_Shelter_Platform - Not_Offensive   \n",
       "162               Building_commercial - Not_Offensive   \n",
       "165                   City_receptacle - Not_Offensive   \n",
       "166               Building_commercial - Not_Offensive   \n",
       "167               Building_commercial - Not_Offensive   \n",
       "168                        Signal_box - Not_Offensive   \n",
       "..                                                ...   \n",
       "294          Transit_Shelter_Platform - Not_Offensive   \n",
       "333                   City_receptacle - Not_Offensive   \n",
       "358                              Pole - Not_Offensive   \n",
       "359                          Mail_box - Not_Offensive   \n",
       "360  Other_enter_additional_details_below - Offensive   \n",
       "361  Other_enter_additional_details_below - Offensive   \n",
       "363                         News_rack - Not_Offensive   \n",
       "364                         News_rack - Not_Offensive   \n",
       "365               Building_commercial - Not_Offensive   \n",
       "366               Building_commercial - Not_Offensive   \n",
       "408                              Pole - Not_Offensive   \n",
       "436                              Pole - Not_Offensive   \n",
       "441               Building_commercial - Not_Offensive   \n",
       "484                    Building_other - Not_Offensive   \n",
       "487          Transit_Shelter_Platform - Not_Offensive   \n",
       "491               Building_commercial - Not_Offensive   \n",
       "492               Building_commercial - Not_Offensive   \n",
       "493               Fire_Police_Callbox - Not_Offensive   \n",
       "494               Building_commercial - Not_Offensive   \n",
       "495                          Mail_box - Not_Offensive   \n",
       "496               Building_commercial - Not_Offensive   \n",
       "501               Building_commercial - Not_Offensive   \n",
       "503                          Mail_box - Not_Offensive   \n",
       "506                          Mail_box - Not_Offensive   \n",
       "508     Sidewalk_in_front_of_property - Not_Offensive   \n",
       "511               Fire_Police_Callbox - Not_Offensive   \n",
       "514  Other_enter_additional_details_below - Offensive   \n",
       "551                    Building_other - Not_Offensive   \n",
       "557         Sidewalk_in_front_of_property - Offensive   \n",
       "581                    Building_other - Not_Offensive   \n",
       "\n",
       "                                         Address  Supervisor District  \\\n",
       "59        3490 18TH ST, SAN FRANCISCO, CA, 94110                  9.0   \n",
       "60      1855 FOLSOM ST, SAN FRANCISCO, CA, 94103                  9.0   \n",
       "61     Intersection of 19TH ST and SAN CARLOS ST                  9.0   \n",
       "62      Intersection of 19TH ST and LEXINGTON ST                  9.0   \n",
       "63      Intersection of 19TH ST and LEXINGTON ST                  9.0   \n",
       "64       Intersection of 19TH ST and VALENCIA ST                  8.0   \n",
       "89       Intersection of 18TH ST and VALENCIA ST                  9.0   \n",
       "90        Intersection of 16TH ST and MISSION ST                  9.0   \n",
       "91        Intersection of 24TH ST and MISSION ST                  9.0   \n",
       "92        Intersection of 24TH ST and MISSION ST                  9.0   \n",
       "94     2800 MISSION ST, SAN FRANCISCO, CA, 94110                  9.0   \n",
       "96        2850 24TH ST, SAN FRANCISCO, CA, 94110                  9.0   \n",
       "97     2024 MISSION ST, SAN FRANCISCO, CA, 94110                  9.0   \n",
       "98        Intersection of 16TH ST and MISSION ST                  9.0   \n",
       "99         Intersection of 16TH ST and BRYANT ST                 10.0   \n",
       "115        375 14TH ST, SAN FRANCISCO, CA, 94103                  9.0   \n",
       "117      Intersection of 14TH ST and WOODWARD ST                  9.0   \n",
       "134       Intersection of 24TH ST and ORANGE ALY                  9.0   \n",
       "135       3350 24TH ST, SAN FRANCISCO, CA, 94110                  9.0   \n",
       "136       Intersection of 24TH ST and ORANGE ALY                  9.0   \n",
       "137   1200 VALENCIA ST, SAN FRANCISCO, CA, 94110                  8.0   \n",
       "158      Intersection of 18TH ST and VALENCIA ST                  9.0   \n",
       "159    2191 MISSION ST, SAN FRANCISCO, CA, 94110                  9.0   \n",
       "160       Intersection of 18TH ST and MISSION ST                  9.0   \n",
       "161       Intersection of 24TH ST and MISSION ST                  9.0   \n",
       "162    2434 MISSION ST, SAN FRANCISCO, CA, 94110                  9.0   \n",
       "165       Intersection of 20TH ST and MISSION ST                  9.0   \n",
       "166  Intersection of CATHERINE CT and MISSION ST                  9.0   \n",
       "167  Intersection of CATHERINE CT and MISSION ST                  9.0   \n",
       "168    2386 MISSION ST, SAN FRANCISCO, CA, 94110                  9.0   \n",
       "..                                           ...                  ...   \n",
       "294  112 SAN CARLOS ST, SAN FRANCISCO, CA, 94110                  9.0   \n",
       "333    1789 MISSION ST, SAN FRANCISCO, CA, 94103                  9.0   \n",
       "358   1341 VALENCIA ST, SAN FRANCISCO, CA, 94110                  9.0   \n",
       "359          Intersection of 24TH ST and CAPP ST                  9.0   \n",
       "360        911 CAPP ST, SAN FRANCISCO, CA, 94110                  9.0   \n",
       "361          Intersection of 24TH ST and CAPP ST                  9.0   \n",
       "363    2390 MISSION ST, SAN FRANCISCO, CA, 94110                  9.0   \n",
       "364       Intersection of 20TH ST and MISSION ST                  9.0   \n",
       "365       Intersection of 20TH ST and MISSION ST                  9.0   \n",
       "366       Intersection of 20TH ST and MISSION ST                  9.0   \n",
       "408   1380 VALENCIA ST, SAN FRANCISCO, CA, 94110                  8.0   \n",
       "436   1298 VALENCIA ST, SAN FRANCISCO, CA, 94110                  8.0   \n",
       "441   1252 VALENCIA ST, SAN FRANCISCO, CA, 94110                  8.0   \n",
       "484       1647 15TH ST, SAN FRANCISCO, CA, 94103                  9.0   \n",
       "487       3471 18TH ST, SAN FRANCISCO, CA, 94110                  9.0   \n",
       "491    2632 MISSION ST, SAN FRANCISCO, CA, 94110                  9.0   \n",
       "492    2610 MISSION ST, SAN FRANCISCO, CA, 94110                  9.0   \n",
       "493       Intersection of 18TH ST and MISSION ST                  9.0   \n",
       "494    2172 MISSION ST, SAN FRANCISCO, CA, 94110                  9.0   \n",
       "495       Intersection of 17TH ST and MISSION ST                  9.0   \n",
       "496       Intersection of 18TH ST and MISSION ST                  9.0   \n",
       "501   195 LEXINGTON ST, SAN FRANCISCO, CA, 94110                  9.0   \n",
       "503    787 VALENCIA ST, SAN FRANCISCO, CA, 94110                  9.0   \n",
       "506      Intersection of 19TH ST and VALENCIA ST                  8.0   \n",
       "508      Intersection of 19TH ST and VALENCIA ST                  8.0   \n",
       "511      Intersection of 19TH ST and VALENCIA ST                  8.0   \n",
       "514      Intersection of 19TH ST and VALENCIA ST                  8.0   \n",
       "551     2595 FOLSOM ST, SAN FRANCISCO, CA, 94110                  9.0   \n",
       "557    2200 MISSION ST, SAN FRANCISCO, CA, 94110                  9.0   \n",
       "581    2352 MISSION ST, SAN FRANCISCO, CA, 94110                  9.0   \n",
       "\n",
       "    Neighborhood                                  Point             Source  \\\n",
       "59       Mission   (37.761845884718, -122.421381526681)            Open311   \n",
       "60       Mission   (37.767442202896, -122.413937389764)            Open311   \n",
       "61       Mission  (37.7601888876742, -122.419974854088)            Open311   \n",
       "62       Mission  (37.7601475157402, -122.420659554429)            Open311   \n",
       "63       Mission  (37.7601475157402, -122.420659554429)            Open311   \n",
       "64       Mission  (37.7601012510183, -122.421425091251)            Open311   \n",
       "89       Mission  (37.7617007549058, -122.421578568646)            Open311   \n",
       "90       Mission  (37.7650512510466, -122.419669041689)            Open311   \n",
       "91       Mission  (37.7522394710724, -122.418445426677)            Open311   \n",
       "92       Mission  (37.7522394710724, -122.418445426677)            Open311   \n",
       "94       Mission   (37.751986884404, -122.418615144485)            Open311   \n",
       "96       Mission   (37.752912838924, -122.409377271758)            Open311   \n",
       "97       Mission   (37.764625069428, -122.419697307801)            Open311   \n",
       "98       Mission  (37.7650512510466, -122.419669041689)            Open311   \n",
       "99       Mission    (37.765605883717, -122.41048675405)            Open311   \n",
       "115      Mission   (37.768054628722, -122.421646499507)            Open311   \n",
       "117      Mission  (37.7682256768311, -122.420776732842)            Open311   \n",
       "134      Mission   (37.7521391667461, -122.42008407763)            Open311   \n",
       "135      Mission   (37.752283264037, -122.419724579665)            Open311   \n",
       "136      Mission   (37.7521391667461, -122.42008407763)            Open311   \n",
       "137      Mission   (37.753481118771, -122.420989971013)            Open311   \n",
       "158      Mission  (37.7617007549058, -122.421578568646)            Open311   \n",
       "159      Mission   (37.762003712327, -122.419064566624)            Open311   \n",
       "160      Mission  (37.7618358043403, -122.419359315196)            Open311   \n",
       "161      Mission  (37.7522394710724, -122.418445426677)            Open311   \n",
       "162      Mission   (37.758097361268, -122.419053848152)            Open311   \n",
       "165      Mission   (37.7586326659361, -122.41905270146)            Open311   \n",
       "166      Mission  (37.7581998735518, -122.419011420479)            Open311   \n",
       "167      Mission  (37.7581998735518, -122.419011420479)            Open311   \n",
       "168      Mission   (37.758890709677, -122.419276001731)            Open311   \n",
       "..           ...                                    ...                ...   \n",
       "294      Mission   (37.761435850754, -122.420181140526)            Open311   \n",
       "333      Mission   (37.768614044174, -122.419822993593)            Open311   \n",
       "358      Mission   (37.751393808023, -122.420410282049)           Voice In   \n",
       "359      Mission  (37.7523060680218, -122.417357711691)            Open311   \n",
       "360      Mission   (37.752030187834, -122.417181219491)            Open311   \n",
       "361      Mission  (37.7523060680218, -122.417357711691)            Open311   \n",
       "363      Mission   (37.758777340379, -122.419226988296)            Open311   \n",
       "364      Mission   (37.7586326659361, -122.41905270146)            Open311   \n",
       "365      Mission   (37.7586326659361, -122.41905270146)            Open311   \n",
       "366      Mission   (37.7586326659361, -122.41905270146)            Open311   \n",
       "408      Mission   (37.750807892258, -122.420734023224)           Voice In   \n",
       "436      Mission   (37.752315905907, -122.420878333367)           Voice In   \n",
       "441      Mission   (37.752819444975, -122.420888459001)           Voice In   \n",
       "484      Mission   (37.766472172775, -122.420697448035)  Integrated Agency   \n",
       "487      Mission    (37.76162929523, -122.420944361714)            Open311   \n",
       "491      Mission   (37.754844500462, -122.418850439191)            Open311   \n",
       "492      Mission   (37.755165177393, -122.418919366318)            Open311   \n",
       "493      Mission  (37.7618358043403, -122.419359315196)            Open311   \n",
       "494      Mission   (37.762253612186, -122.419559792544)            Open311   \n",
       "495      Mission  (37.7634292697508, -122.419512595608)            Open311   \n",
       "496      Mission  (37.7618358043403, -122.419359315196)            Open311   \n",
       "501      Mission   (37.760327182092, -122.420569260364)            Open311   \n",
       "503      Mission   (37.760396596336, -122.421272224834)            Open311   \n",
       "506      Mission  (37.7601012510183, -122.421425091251)            Open311   \n",
       "508      Mission  (37.7601012510183, -122.421425091251)            Open311   \n",
       "511      Mission  (37.7601012510183, -122.421425091251)            Open311   \n",
       "514      Mission  (37.7601012510183, -122.421425091251)            Open311   \n",
       "551      Mission   (37.755860359576, -122.414214122033)  Integrated Agency   \n",
       "557      Mission   (37.761619901592, -122.419537211913)   Web Self Service   \n",
       "581      Mission   (37.759415668788, -122.419288096519)  Integrated Agency   \n",
       "\n",
       "                                             Media URL  Diff  \n",
       "59   http://mobile311.sfgov.org/media/san_francisco...   NaN  \n",
       "60   http://mobile311.sfgov.org/media/san_francisco...   NaN  \n",
       "61   http://mobile311.sfgov.org/media/san_francisco...   NaN  \n",
       "62   http://mobile311.sfgov.org/media/san_francisco...   NaN  \n",
       "63   http://mobile311.sfgov.org/media/san_francisco...   NaN  \n",
       "64   http://mobile311.sfgov.org/media/san_francisco...   NaN  \n",
       "89   http://mobile311.sfgov.org/media/san_francisco...   NaN  \n",
       "90   http://mobile311.sfgov.org/media/san_francisco...   NaN  \n",
       "91   http://mobile311.sfgov.org/media/san_francisco...   0.0  \n",
       "92   http://mobile311.sfgov.org/media/san_francisco...   NaN  \n",
       "94   http://mobile311.sfgov.org/media/san_francisco...   NaN  \n",
       "96   http://mobile311.sfgov.org/media/san_francisco...   NaN  \n",
       "97   http://mobile311.sfgov.org/media/san_francisco...   NaN  \n",
       "98   http://mobile311.sfgov.org/media/san_francisco...   NaN  \n",
       "99   http://mobile311.sfgov.org/media/san_francisco...   NaN  \n",
       "115  http://mobile311.sfgov.org/media/san_francisco...   NaN  \n",
       "117  http://mobile311.sfgov.org/media/san_francisco...   NaN  \n",
       "134  http://mobile311.sfgov.org/media/san_francisco...   NaN  \n",
       "135  http://mobile311.sfgov.org/media/san_francisco...   NaN  \n",
       "136  http://mobile311.sfgov.org/media/san_francisco...   NaN  \n",
       "137  http://mobile311.sfgov.org/media/san_francisco...   NaN  \n",
       "158  http://mobile311.sfgov.org/media/san_francisco...   NaN  \n",
       "159  http://mobile311.sfgov.org/media/san_francisco...   NaN  \n",
       "160  http://mobile311.sfgov.org/media/san_francisco...   NaN  \n",
       "161  http://mobile311.sfgov.org/media/san_francisco...   NaN  \n",
       "162  http://mobile311.sfgov.org/media/san_francisco...   NaN  \n",
       "165  http://mobile311.sfgov.org/media/san_francisco...   0.0  \n",
       "166  http://mobile311.sfgov.org/media/san_francisco...   NaN  \n",
       "167  http://mobile311.sfgov.org/media/san_francisco...   NaN  \n",
       "168  http://mobile311.sfgov.org/media/san_francisco...   NaN  \n",
       "..                                                 ...   ...  \n",
       "294  http://mobile311.sfgov.org/media/san_francisco...   NaN  \n",
       "333  http://mobile311.sfgov.org/media/san_francisco...   NaN  \n",
       "358                                                NaN   NaN  \n",
       "359  http://mobile311.sfgov.org/media/san_francisco...   NaN  \n",
       "360  http://mobile311.sfgov.org/media/san_francisco...   NaN  \n",
       "361  http://mobile311.sfgov.org/media/san_francisco...   NaN  \n",
       "363  http://mobile311.sfgov.org/media/san_francisco...   1.0  \n",
       "364  http://mobile311.sfgov.org/media/san_francisco...   1.0  \n",
       "365  http://mobile311.sfgov.org/media/san_francisco...   NaN  \n",
       "366  http://mobile311.sfgov.org/media/san_francisco...   NaN  \n",
       "408                                                NaN   NaN  \n",
       "436                                                NaN   NaN  \n",
       "441                                                NaN   NaN  \n",
       "484                                                NaN   NaN  \n",
       "487  http://mobile311.sfgov.org/media/san_francisco...   0.0  \n",
       "491  http://mobile311.sfgov.org/media/san_francisco...   NaN  \n",
       "492  http://mobile311.sfgov.org/media/san_francisco...   NaN  \n",
       "493  http://mobile311.sfgov.org/media/san_francisco...   NaN  \n",
       "494  http://mobile311.sfgov.org/media/san_francisco...   1.0  \n",
       "495  http://mobile311.sfgov.org/media/san_francisco...   NaN  \n",
       "496  http://mobile311.sfgov.org/media/san_francisco...   NaN  \n",
       "501                                                NaN   NaN  \n",
       "503  http://mobile311.sfgov.org/media/san_francisco...   NaN  \n",
       "506  http://mobile311.sfgov.org/media/san_francisco...   NaN  \n",
       "508  http://mobile311.sfgov.org/media/san_francisco...   NaN  \n",
       "511  http://mobile311.sfgov.org/media/san_francisco...   NaN  \n",
       "514  http://mobile311.sfgov.org/media/san_francisco...   NaN  \n",
       "551                                                NaN   NaN  \n",
       "557                                                NaN   NaN  \n",
       "581                                                NaN   NaN  \n",
       "\n",
       "[85 rows x 17 columns]"
      ]
     },
     "execution_count": 140,
     "metadata": {},
     "output_type": "execute_result"
    }
   ],
   "source": [
    "df[df['Neighborhood' ]== \"Mission\"].head(85)"
   ]
  },
  {
   "cell_type": "code",
   "execution_count": 141,
   "metadata": {
    "collapsed": false
   },
   "outputs": [
    {
     "data": {
      "text/html": [
       "<div>\n",
       "<table border=\"1\" class=\"dataframe\">\n",
       "  <thead>\n",
       "    <tr style=\"text-align: right;\">\n",
       "      <th></th>\n",
       "      <th>CaseID</th>\n",
       "      <th>Supervisor District</th>\n",
       "      <th>Diff</th>\n",
       "    </tr>\n",
       "  </thead>\n",
       "  <tbody>\n",
       "    <tr>\n",
       "      <th>count</th>\n",
       "      <td>1.286600e+04</td>\n",
       "      <td>12866.000000</td>\n",
       "      <td>11079.000000</td>\n",
       "    </tr>\n",
       "    <tr>\n",
       "      <th>mean</th>\n",
       "      <td>5.987222e+06</td>\n",
       "      <td>8.984611</td>\n",
       "      <td>14.859915</td>\n",
       "    </tr>\n",
       "    <tr>\n",
       "      <th>std</th>\n",
       "      <td>3.862008e+05</td>\n",
       "      <td>0.267846</td>\n",
       "      <td>30.506770</td>\n",
       "    </tr>\n",
       "    <tr>\n",
       "      <th>min</th>\n",
       "      <td>5.421825e+06</td>\n",
       "      <td>6.000000</td>\n",
       "      <td>0.000000</td>\n",
       "    </tr>\n",
       "    <tr>\n",
       "      <th>25%</th>\n",
       "      <td>5.648125e+06</td>\n",
       "      <td>9.000000</td>\n",
       "      <td>0.000000</td>\n",
       "    </tr>\n",
       "    <tr>\n",
       "      <th>50%</th>\n",
       "      <td>5.943023e+06</td>\n",
       "      <td>9.000000</td>\n",
       "      <td>4.000000</td>\n",
       "    </tr>\n",
       "    <tr>\n",
       "      <th>75%</th>\n",
       "      <td>6.315516e+06</td>\n",
       "      <td>9.000000</td>\n",
       "      <td>15.000000</td>\n",
       "    </tr>\n",
       "    <tr>\n",
       "      <th>max</th>\n",
       "      <td>6.678507e+06</td>\n",
       "      <td>10.000000</td>\n",
       "      <td>346.000000</td>\n",
       "    </tr>\n",
       "  </tbody>\n",
       "</table>\n",
       "</div>"
      ],
      "text/plain": [
       "             CaseID  Supervisor District          Diff\n",
       "count  1.286600e+04         12866.000000  11079.000000\n",
       "mean   5.987222e+06             8.984611     14.859915\n",
       "std    3.862008e+05             0.267846     30.506770\n",
       "min    5.421825e+06             6.000000      0.000000\n",
       "25%    5.648125e+06             9.000000      0.000000\n",
       "50%    5.943023e+06             9.000000      4.000000\n",
       "75%    6.315516e+06             9.000000     15.000000\n",
       "max    6.678507e+06            10.000000    346.000000"
      ]
     },
     "execution_count": 141,
     "metadata": {},
     "output_type": "execute_result"
    }
   ],
   "source": [
    "df[df['Neighborhood' ]== \"Mission\"].describe()"
   ]
  },
  {
   "cell_type": "code",
   "execution_count": 142,
   "metadata": {
    "collapsed": false
   },
   "outputs": [
    {
     "data": {
      "text/plain": [
       "DPW Ops Queue                          47863\n",
       "US Postal Service Maintenance Queue     5277\n",
       "Clear Channel - Transit Queue           3962\n",
       "DPT Meter_Bike Queue                    3135\n",
       "311 Service Request Queue - Hold        2266\n",
       "DPW BSM Queue                           2173\n",
       "Name: Responsible Agency, dtype: int64"
      ]
     },
     "execution_count": 142,
     "metadata": {},
     "output_type": "execute_result"
    }
   ],
   "source": [
    "df['Responsible Agency'].value_counts()[:6]"
   ]
  },
  {
   "cell_type": "code",
   "execution_count": 143,
   "metadata": {
    "collapsed": false
   },
   "outputs": [
    {
     "data": {
      "text/plain": [
       "count    3621.000000\n",
       "mean       21.472798\n",
       "std        20.026409\n",
       "min         0.000000\n",
       "25%        10.000000\n",
       "50%        15.000000\n",
       "75%        26.000000\n",
       "max       119.000000\n",
       "Name: Diff, dtype: float64"
      ]
     },
     "execution_count": 143,
     "metadata": {},
     "output_type": "execute_result"
    }
   ],
   "source": [
    "df[df['Responsible Agency'] == 'US Postal Service Maintenance Queue']['Diff'].describe()"
   ]
  },
  {
   "cell_type": "code",
   "execution_count": 144,
   "metadata": {
    "collapsed": false
   },
   "outputs": [
    {
     "data": {
      "text/plain": [
       "count    3914.000000\n",
       "mean        1.669136\n",
       "std         4.863339\n",
       "min         0.000000\n",
       "25%         0.000000\n",
       "50%         0.000000\n",
       "75%         1.000000\n",
       "max       157.000000\n",
       "Name: Diff, dtype: float64"
      ]
     },
     "execution_count": 144,
     "metadata": {},
     "output_type": "execute_result"
    }
   ],
   "source": [
    "df[df['Responsible Agency'] == 'Clear Channel - Transit Queue']['Diff'].describe()"
   ]
  },
  {
   "cell_type": "code",
   "execution_count": 145,
   "metadata": {
    "collapsed": false
   },
   "outputs": [
    {
     "data": {
      "text/plain": [
       "count    39746.000000\n",
       "mean        13.476501\n",
       "std         26.017925\n",
       "min         -1.000000\n",
       "25%          0.000000\n",
       "50%          3.000000\n",
       "75%         17.000000\n",
       "max        279.000000\n",
       "Name: Diff, dtype: float64"
      ]
     },
     "execution_count": 145,
     "metadata": {},
     "output_type": "execute_result"
    }
   ],
   "source": [
    "df[df['Responsible Agency'] == 'DPW Ops Queue']['Diff'].describe()"
   ]
  },
  {
   "cell_type": "code",
   "execution_count": 146,
   "metadata": {
    "collapsed": false
   },
   "outputs": [
    {
     "data": {
      "text/plain": [
       "count    21006.000000\n",
       "mean        18.711844\n",
       "std         32.273863\n",
       "min         -1.000000\n",
       "25%          1.000000\n",
       "50%          5.000000\n",
       "75%         33.000000\n",
       "max        333.000000\n",
       "Name: Diff, dtype: float64"
      ]
     },
     "execution_count": 146,
     "metadata": {},
     "output_type": "execute_result"
    }
   ],
   "source": [
    "df[df['Category'] == 'Graffiti Private Property']['Diff'].describe()"
   ]
  },
  {
   "cell_type": "code",
   "execution_count": 147,
   "metadata": {
    "collapsed": false
   },
   "outputs": [
    {
     "data": {
      "text/plain": [
       "count    40073.000000\n",
       "mean        13.601627\n",
       "std         31.800200\n",
       "min          0.000000\n",
       "25%          0.000000\n",
       "50%          3.000000\n",
       "75%         12.000000\n",
       "max        348.000000\n",
       "Name: Diff, dtype: float64"
      ]
     },
     "execution_count": 147,
     "metadata": {},
     "output_type": "execute_result"
    }
   ],
   "source": [
    "df[df['Category'] == 'Graffiti Public Property']['Diff'].describe()"
   ]
  },
  {
   "cell_type": "code",
   "execution_count": 148,
   "metadata": {
    "collapsed": false
   },
   "outputs": [
    {
     "data": {
      "text/plain": [
       "Open311              55148\n",
       "Integrated Agency     7992\n",
       "Web Self Service      4668\n",
       "Voice In              4390\n",
       "Twitter                194\n",
       "Name: Source, dtype: int64"
      ]
     },
     "execution_count": 148,
     "metadata": {},
     "output_type": "execute_result"
    }
   ],
   "source": [
    "df['Source'].value_counts()"
   ]
  },
  {
   "cell_type": "code",
   "execution_count": 149,
   "metadata": {
    "collapsed": false
   },
   "outputs": [
    {
     "data": {
      "text/plain": [
       "count    49730.000000\n",
       "mean        14.198009\n",
       "std         30.651944\n",
       "min          0.000000\n",
       "25%          0.000000\n",
       "50%          3.000000\n",
       "75%         14.000000\n",
       "max        348.000000\n",
       "Name: Diff, dtype: float64"
      ]
     },
     "execution_count": 149,
     "metadata": {},
     "output_type": "execute_result"
    }
   ],
   "source": [
    "df[df['Source'] == 'Open311']['Diff'].describe()"
   ]
  },
  {
   "cell_type": "code",
   "execution_count": 150,
   "metadata": {
    "collapsed": false
   },
   "outputs": [
    {
     "data": {
      "text/plain": [
       "count    3915.000000\n",
       "mean       12.373436\n",
       "std        22.711359\n",
       "min         0.000000\n",
       "25%         0.000000\n",
       "50%         3.000000\n",
       "75%        14.000000\n",
       "max       315.000000\n",
       "Name: Diff, dtype: float64"
      ]
     },
     "execution_count": 150,
     "metadata": {},
     "output_type": "execute_result"
    }
   ],
   "source": [
    "df[df['Source'] == 'Voice In']['Diff'].describe()"
   ]
  },
  {
   "cell_type": "code",
   "execution_count": 151,
   "metadata": {
    "collapsed": false
   },
   "outputs": [
    {
     "data": {
      "text/plain": [
       "count    3282.000000\n",
       "mean       39.164229\n",
       "std        52.935707\n",
       "min        -1.000000\n",
       "25%        17.000000\n",
       "50%        36.000000\n",
       "75%        36.000000\n",
       "max       277.000000\n",
       "Name: Diff, dtype: float64"
      ]
     },
     "execution_count": 151,
     "metadata": {},
     "output_type": "execute_result"
    }
   ],
   "source": [
    "df[df['Source'] == 'Integrated Agency']['Diff'].describe()"
   ]
  },
  {
   "cell_type": "markdown",
   "metadata": {},
   "source": [
    "# Consider some exploratory statistics / reality checks"
   ]
  },
  {
   "cell_type": "code",
   "execution_count": 152,
   "metadata": {
    "collapsed": false
   },
   "outputs": [
    {
     "name": "stdout",
     "output_type": "stream",
     "text": [
      "<class 'pandas.core.series.Series'>\n",
      "Open311              55148\n",
      "Integrated Agency     7992\n",
      "Web Self Service      4668\n",
      "Voice In              4390\n",
      "Twitter                194\n",
      "Name: Source, dtype: int64\n"
     ]
    }
   ],
   "source": [
    "source = df.Source.value_counts()\n",
    "print(type(source))\n",
    "\n",
    "\n",
    "print(source)"
   ]
  },
  {
   "cell_type": "code",
   "execution_count": 153,
   "metadata": {
    "collapsed": false
   },
   "outputs": [
    {
     "data": {
      "text/plain": [
       "pandas.core.series.Series"
      ]
     },
     "execution_count": 153,
     "metadata": {},
     "output_type": "execute_result"
    }
   ],
   "source": [
    "type(source)"
   ]
  },
  {
   "cell_type": "code",
   "execution_count": 154,
   "metadata": {
    "collapsed": false
   },
   "outputs": [
    {
     "name": "stdout",
     "output_type": "stream",
     "text": [
      "['Open311', 'Integrated Agency', 'Web Self Service', 'Voice In', 'Twitter']\n"
     ]
    }
   ],
   "source": [
    "label_list = source.index.tolist()\n",
    "print(label_list)"
   ]
  },
  {
   "cell_type": "code",
   "execution_count": 155,
   "metadata": {
    "collapsed": false
   },
   "outputs": [
    {
     "data": {
      "text/plain": [
       "[55148, 7992, 4668, 4390, 194]"
      ]
     },
     "execution_count": 155,
     "metadata": {},
     "output_type": "execute_result"
    }
   ],
   "source": [
    "source = source.tolist()\n",
    "source\n"
   ]
  },
  {
   "cell_type": "code",
   "execution_count": 156,
   "metadata": {
    "collapsed": false
   },
   "outputs": [
    {
     "data": {
      "image/png": "[encoded data removed]",
      "text/plain": [
       "<matplotlib.figure.Figure at 0x7f0985839390>"
      ]
     },
     "metadata": {},
     "output_type": "display_data"
    }
   ],
   "source": [
    "\n",
    "\n",
    "plt.axis(\"equal\")\n",
    "plt.pie(\n",
    "        source,\n",
    "        labels=label_list,\n",
    "        autopct=\"%1.1f%%\"\n",
    "        )\n",
    "plt.title(\"Graffiti Reports Submitted in 2016\")\n",
    "plt.show()"
   ]
  },
  {
   "cell_type": "code",
   "execution_count": null,
   "metadata": {
    "collapsed": true
   },
   "outputs": [],
   "source": []
  },
  {
   "cell_type": "code",
   "execution_count": 179,
   "metadata": {
    "collapsed": false
   },
   "outputs": [],
   "source": [
    "sups = df['Supervisor District'].value_counts().head(11)"
   ]
  },
  {
   "cell_type": "code",
   "execution_count": 181,
   "metadata": {
    "collapsed": false
   },
   "outputs": [
    {
     "data": {
      "text/plain": [
       "9.0     13981\n",
       "5.0     11913\n",
       "3.0     11836\n",
       "6.0      9701\n",
       "8.0      8755\n",
       "1.0      4644\n",
       "10.0     3938\n",
       "2.0      2345\n",
       "11.0     1850\n",
       "4.0      1345\n",
       "7.0      1297\n",
       "Name: Supervisor District, dtype: int64"
      ]
     },
     "execution_count": 181,
     "metadata": {},
     "output_type": "execute_result"
    }
   ],
   "source": [
    "top = "
   ]
  },
  {
   "cell_type": "markdown",
   "metadata": {},
   "source": [
    "# Get list of Supervisor's'"
   ]
  },
  {
   "cell_type": "code",
   "execution_count": null,
   "metadata": {
    "collapsed": true
   },
   "outputs": [],
   "source": []
  },
  {
   "cell_type": "code",
   "execution_count": null,
   "metadata": {
    "collapsed": true
   },
   "outputs": [],
   "source": []
  },
  {
   "cell_type": "code",
   "execution_count": null,
   "metadata": {
    "collapsed": true
   },
   "outputs": [],
   "source": []
  },
  {
   "cell_type": "code",
   "execution_count": 160,
   "metadata": {
    "collapsed": false
   },
   "outputs": [
    {
     "data": {
      "text/plain": [
       "Case Resolved -                                                               11085\n",
       "accepted                                                                       7742\n",
       "Scheduled -                                                                    3999\n",
       "Open                                                                           2203\n",
       "Case Transferred - Per process - cases are closed 5 days after assignment.     2153\n",
       "Case Resolved - meter shop has closed this request                             1930\n",
       "Case is a Duplicate -                                                          1415\n",
       "Case Resolved - Graffiti removed                                               1221\n",
       "Case Completed - resolved:                                                     1128\n",
       "Case Completed - Case Resolved:                                                 863\n",
       "Name: Status Notes, dtype: int64"
      ]
     },
     "execution_count": 160,
     "metadata": {},
     "output_type": "execute_result"
    }
   ],
   "source": [
    "df['Status Notes'].value_counts().head(10)"
   ]
  },
  {
   "cell_type": "code",
   "execution_count": 161,
   "metadata": {
    "collapsed": false
   },
   "outputs": [
    {
     "data": {
      "text/plain": [
       "Closed    61079\n",
       "Open      11313\n",
       "Name: Status, dtype: int64"
      ]
     },
     "execution_count": 161,
     "metadata": {},
     "output_type": "execute_result"
    }
   ],
   "source": [
    "df['Status'].value_counts().head()"
   ]
  },
  {
   "cell_type": "code",
   "execution_count": 167,
   "metadata": {
    "collapsed": false
   },
   "outputs": [
    {
     "data": {
      "text/plain": [
       "DPW Ops Queue                          47863\n",
       "US Postal Service Maintenance Queue     5277\n",
       "Clear Channel - Transit Queue           3962\n",
       "DPT Meter_Bike Queue                    3135\n",
       "311 Service Request Queue - Hold        2266\n",
       "DPW BSM Queue                           2173\n",
       "PUC - Water - G                         1782\n",
       "311 Supervisor Queue                    1634\n",
       "Name: Responsible Agency, dtype: int64"
      ]
     },
     "execution_count": 167,
     "metadata": {},
     "output_type": "execute_result"
    }
   ],
   "source": [
    "df['Responsible Agency'].value_counts().head(8)"
   ]
  },
  {
   "cell_type": "code",
   "execution_count": 163,
   "metadata": {
    "collapsed": false
   },
   "outputs": [
    {
     "data": {
      "text/plain": [
       "Graffiti Public Property     44646\n",
       "Graffiti Private Property    27746\n",
       "Name: Category, dtype: int64"
      ]
     },
     "execution_count": 163,
     "metadata": {},
     "output_type": "execute_result"
    }
   ],
   "source": [
    "df.Category.value_counts().head()"
   ]
  },
  {
   "cell_type": "code",
   "execution_count": 164,
   "metadata": {
    "collapsed": false
   },
   "outputs": [
    {
     "data": {
      "text/plain": [
       "Not_Offensive Graffiti on Public Property                 26135\n",
       "Not_Offensive Graffiti on Private Property                22146\n",
       "Offensive Graffiti on Public Property                     18087\n",
       "Offensive Graffiti on Private Property                     5513\n",
       "offensive Graffiti on Public Property                       424\n",
       "Post_Abatement_Inspection Graffiti on Private Property       87\n",
       "Name: Request Type, dtype: int64"
      ]
     },
     "execution_count": 164,
     "metadata": {},
     "output_type": "execute_result"
    }
   ],
   "source": [
    "df['Request Type'].value_counts().head(10)"
   ]
  },
  {
   "cell_type": "code",
   "execution_count": 165,
   "metadata": {
    "collapsed": false
   },
   "outputs": [
    {
     "data": {
      "text/plain": [
       "Building_other - Not_Offensive                      8654\n",
       "Building_commercial - Not_Offensive                 7553\n",
       "Other_enter_additional_details_below - Offensive    7056\n",
       "Pole - Not_Offensive                                5532\n",
       "Sidewalk_in_front_of_property - Not_Offensive       3703\n",
       "Signal_box - Not_Offensive                          3641\n",
       "Mail_box - Not_Offensive                            3389\n",
       "Transit_Shelter_Platform - Not_Offensive            3133\n",
       "Pole - Offensive                                    2778\n",
       "Parking_meter - Not_Offensive                       2567\n",
       "Building_commercial - Offensive                     2479\n",
       "Building_residential - Not_Offensive                2236\n",
       "Sidewalk_in_front_of_property - Offensive           1648\n",
       "Mail_box - Offensive                                1620\n",
       "Signal_box - Offensive                              1524\n",
       "Fire_hydrant - Not_Offensive                        1425\n",
       "News_rack - Not_Offensive                           1339\n",
       "Sidewalk_structure - Not_Offensive                  1284\n",
       "City_receptacle - Not_Offensive                     1208\n",
       "Building_residential - Offensive                    1058\n",
       "Name: Request Details, dtype: int64"
      ]
     },
     "execution_count": 165,
     "metadata": {},
     "output_type": "execute_result"
    }
   ],
   "source": [
    "df['Request Details'].value_counts().head(20)"
   ]
  },
  {
   "cell_type": "code",
   "execution_count": null,
   "metadata": {
    "collapsed": false
   },
   "outputs": [],
   "source": [
    "df['Address'].value_counts().head(20)"
   ]
  },
  {
   "cell_type": "code",
   "execution_count": null,
   "metadata": {
    "collapsed": false
   },
   "outputs": [],
   "source": [
    "df['Source'].value_counts().head(6)"
   ]
  },
  {
   "cell_type": "code",
   "execution_count": null,
   "metadata": {
    "collapsed": false
   },
   "outputs": [],
   "source": [
    "df['Media URL'].describe()"
   ]
  },
  {
   "cell_type": "code",
   "execution_count": null,
   "metadata": {
    "collapsed": false
   },
   "outputs": [],
   "source": [
    "df['Point'].describe()"
   ]
  },
  {
   "cell_type": "code",
   "execution_count": null,
   "metadata": {
    "collapsed": true
   },
   "outputs": [],
   "source": [
    "\n",
    "\n",
    "\n"
   ]
  },
  {
   "cell_type": "markdown",
   "metadata": {
    "collapsed": true
   },
   "source": [
    "# Plot this.    Simple First\n"
   ]
  },
  {
   "cell_type": "code",
   "execution_count": null,
   "metadata": {
    "collapsed": true
   },
   "outputs": [],
   "source": [
    "#Plot by top responsible agency that is not DPW"
   ]
  },
  {
   "cell_type": "code",
   "execution_count": null,
   "metadata": {
    "collapsed": true
   },
   "outputs": [],
   "source": []
  },
  {
   "cell_type": "code",
   "execution_count": null,
   "metadata": {
    "collapsed": true
   },
   "outputs": [],
   "source": []
  },
  {
   "cell_type": "code",
   "execution_count": null,
   "metadata": {
    "collapsed": true
   },
   "outputs": [],
   "source": []
  },
  {
   "cell_type": "code",
   "execution_count": null,
   "metadata": {
    "collapsed": true
   },
   "outputs": [],
   "source": []
  },
  {
   "cell_type": "code",
   "execution_count": null,
   "metadata": {
    "collapsed": true
   },
   "outputs": [],
   "source": []
  },
  {
   "cell_type": "code",
   "execution_count": null,
   "metadata": {
    "collapsed": true
   },
   "outputs": [],
   "source": []
  },
  {
   "cell_type": "code",
   "execution_count": null,
   "metadata": {
    "collapsed": true
   },
   "outputs": [],
   "source": []
  },
  {
   "cell_type": "raw",
   "metadata": {
    "collapsed": false
   },
   "source": [
    "import pandas as pd\n",
    "\n",
    "urlX = 'https://data.sfgov.org/resource/rme2-xgvs.json'\n",
    "\n",
    "\n",
    "# load JSON as DataFrame\n",
    "json_data=pd.read_json(urlX).T\n",
    "\n",
    "# to CSV\n",
    "json_data.to_csv(\"geocoded.csv\")"
   ]
  },
  {
   "cell_type": "code",
   "execution_count": null,
   "metadata": {
    "collapsed": false
   },
   "outputs": [],
   "source": [
    "!pwd"
   ]
  },
  {
   "cell_type": "code",
   "execution_count": null,
   "metadata": {
    "collapsed": false
   },
   "outputs": [],
   "source": [
    "!ls"
   ]
  },
  {
   "cell_type": "code",
   "execution_count": null,
   "metadata": {
    "collapsed": false
   },
   "outputs": [],
   "source": [
    "!cat geocoded.csv"
   ]
  },
  {
   "cell_type": "code",
   "execution_count": null,
   "metadata": {
    "collapsed": true
   },
   "outputs": [],
   "source": []
  },
  {
   "cell_type": "markdown",
   "metadata": {},
   "source": [
    "# Start Plotting the simple items"
   ]
  },
  {
   "cell_type": "markdown",
   "metadata": {},
   "source": [
    "# Plot Responsible Agency non DPW"
   ]
  },
  {
   "cell_type": "code",
   "execution_count": null,
   "metadata": {
    "collapsed": false
   },
   "outputs": [],
   "source": [
    "respAgencyCount = df['Responsible Agency'].value_counts()"
   ]
  },
  {
   "cell_type": "code",
   "execution_count": null,
   "metadata": {
    "collapsed": true
   },
   "outputs": [],
   "source": [
    "respAgencyCount = respAgencyCount[1:27]"
   ]
  },
  {
   "cell_type": "code",
   "execution_count": null,
   "metadata": {
    "collapsed": false
   },
   "outputs": [],
   "source": [
    "respAgencyCount"
   ]
  },
  {
   "cell_type": "markdown",
   "metadata": {},
   "source": [
    "## minimally acceptable is to do pie / dpw vs all other\n",
    "### DPW share compared to prior years\n",
    "### Conclude, DPW doing a good job, how about the other departments\n",
    "### Bar Chart the top 5-6\n",
    "### Which of the top 5-6 are doing better.\n",
    "### can't give the most natural statistic, because "
   ]
  },
  {
   "cell_type": "code",
   "execution_count": null,
   "metadata": {
    "collapsed": true
   },
   "outputs": [],
   "source": []
  }
 ],
 "metadata": {
  "kernelspec": {
   "display_name": "Python 3",
   "language": "python",
   "name": "python3"
  },
  "language_info": {
   "codemirror_mode": {
    "name": "ipython",
    "version": 3
   },
   "file_extension": ".py",
   "mimetype": "text/x-python",
   "name": "python",
   "nbconvert_exporter": "python",
   "pygments_lexer": "ipython3",
   "version": "3.5.2"
  }
 },
 "nbformat": 4,
 "nbformat_minor": 1
}
