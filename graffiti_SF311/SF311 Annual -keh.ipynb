{
 "cells": [
  {
   "cell_type": "markdown",
   "metadata": {},
   "source": [
    "\n",
    "# Graffiti Annual  Numbers"
   ]
  },
  {
   "cell_type": "markdown",
   "metadata": {},
   "source": [
    "# Make Sure the modules are installed\n",
    "\n"
   ]
  },
  {
   "cell_type": "markdown",
   "metadata": {},
   "source": [
    "# Import modules"
   ]
  },
  {
   "cell_type": "code",
   "execution_count": 91,
   "metadata": {
    "collapsed": false
   },
   "outputs": [],
   "source": [
    "\n",
    "import numpy as np\n",
    "import pandas as pd\n",
    "\n",
    "\n"
   ]
  },
  {
   "cell_type": "code",
   "execution_count": 92,
   "metadata": {
    "collapsed": false
   },
   "outputs": [
    {
     "name": "stdout",
     "output_type": "stream",
     "text": [
      "/home/gdillon/JupyterPractice/graffiti_SF311\r\n"
     ]
    }
   ],
   "source": [
    "!pwd"
   ]
  },
  {
   "cell_type": "markdown",
   "metadata": {
    "collapsed": true
   },
   "source": [
    "# produce viz of annual total 2009-2016\n",
    "because I'm using SQL type queery with count(*), this responds faster"
   ]
  },
  {
   "cell_type": "markdown",
   "metadata": {},
   "source": [
    "## api call for count of all by year"
   ]
  },
  {
   "cell_type": "code",
   "execution_count": 93,
   "metadata": {
    "collapsed": true
   },
   "outputs": [],
   "source": [
    "url = 'https://data.sfgov.org/resource/qer8-n8u9.csv?$select=date_trunc_y(opened)as%20year,%20count(*)&$order=year&$group=year'"
   ]
  },
  {
   "cell_type": "code",
   "execution_count": 94,
   "metadata": {
    "collapsed": false
   },
   "outputs": [
    {
     "data": {
      "text/html": [
       "<div>\n",
       "<table border=\"1\" class=\"dataframe\">\n",
       "  <thead>\n",
       "    <tr style=\"text-align: right;\">\n",
       "      <th></th>\n",
       "      <th>year</th>\n",
       "      <th>count</th>\n",
       "    </tr>\n",
       "  </thead>\n",
       "  <tbody>\n",
       "    <tr>\n",
       "      <th>1</th>\n",
       "      <td>01/01/2009 12:00:00 AM</td>\n",
       "      <td>32285</td>\n",
       "    </tr>\n",
       "    <tr>\n",
       "      <th>2</th>\n",
       "      <td>01/01/2010 12:00:00 AM</td>\n",
       "      <td>26769</td>\n",
       "    </tr>\n",
       "    <tr>\n",
       "      <th>3</th>\n",
       "      <td>01/01/2011 12:00:00 AM</td>\n",
       "      <td>25445</td>\n",
       "    </tr>\n",
       "    <tr>\n",
       "      <th>4</th>\n",
       "      <td>01/01/2012 12:00:00 AM</td>\n",
       "      <td>26254</td>\n",
       "    </tr>\n",
       "    <tr>\n",
       "      <th>5</th>\n",
       "      <td>01/01/2013 12:00:00 AM</td>\n",
       "      <td>35831</td>\n",
       "    </tr>\n",
       "    <tr>\n",
       "      <th>6</th>\n",
       "      <td>01/01/2014 12:00:00 AM</td>\n",
       "      <td>46808</td>\n",
       "    </tr>\n",
       "    <tr>\n",
       "      <th>7</th>\n",
       "      <td>01/01/2015 12:00:00 AM</td>\n",
       "      <td>57249</td>\n",
       "    </tr>\n",
       "    <tr>\n",
       "      <th>8</th>\n",
       "      <td>01/01/2016 12:00:00 AM</td>\n",
       "      <td>72392</td>\n",
       "    </tr>\n",
       "  </tbody>\n",
       "</table>\n",
       "</div>"
      ],
      "text/plain": [
       "                     year  count\n",
       "1  01/01/2009 12:00:00 AM  32285\n",
       "2  01/01/2010 12:00:00 AM  26769\n",
       "3  01/01/2011 12:00:00 AM  25445\n",
       "4  01/01/2012 12:00:00 AM  26254\n",
       "5  01/01/2013 12:00:00 AM  35831\n",
       "6  01/01/2014 12:00:00 AM  46808\n",
       "7  01/01/2015 12:00:00 AM  57249\n",
       "8  01/01/2016 12:00:00 AM  72392"
      ]
     },
     "execution_count": 94,
     "metadata": {},
     "output_type": "execute_result"
    }
   ],
   "source": [
    "df = pd.read_csv(url)\n",
    "df = df[1:-1]\n",
    "df"
   ]
  },
  {
   "cell_type": "code",
   "execution_count": 95,
   "metadata": {
    "collapsed": false
   },
   "outputs": [
    {
     "name": "stderr",
     "output_type": "stream",
     "text": [
      "/home/gdillon/.local/lib/python3.5/site-packages/ipykernel/__main__.py:1: FutureWarning: currently extract(expand=None) means expand=False (return Index/Series/DataFrame) but in a future version of pandas this will be changed to expand=True (return DataFrame)\n",
      "  if __name__ == '__main__':\n"
     ]
    },
    {
     "data": {
      "text/html": [
       "<div>\n",
       "<table border=\"1\" class=\"dataframe\">\n",
       "  <thead>\n",
       "    <tr style=\"text-align: right;\">\n",
       "      <th></th>\n",
       "      <th>year</th>\n",
       "      <th>count</th>\n",
       "    </tr>\n",
       "  </thead>\n",
       "  <tbody>\n",
       "    <tr>\n",
       "      <th>1</th>\n",
       "      <td>2009</td>\n",
       "      <td>32285</td>\n",
       "    </tr>\n",
       "    <tr>\n",
       "      <th>2</th>\n",
       "      <td>2010</td>\n",
       "      <td>26769</td>\n",
       "    </tr>\n",
       "    <tr>\n",
       "      <th>3</th>\n",
       "      <td>2011</td>\n",
       "      <td>25445</td>\n",
       "    </tr>\n",
       "    <tr>\n",
       "      <th>4</th>\n",
       "      <td>2012</td>\n",
       "      <td>26254</td>\n",
       "    </tr>\n",
       "    <tr>\n",
       "      <th>5</th>\n",
       "      <td>2013</td>\n",
       "      <td>35831</td>\n",
       "    </tr>\n",
       "    <tr>\n",
       "      <th>6</th>\n",
       "      <td>2014</td>\n",
       "      <td>46808</td>\n",
       "    </tr>\n",
       "    <tr>\n",
       "      <th>7</th>\n",
       "      <td>2015</td>\n",
       "      <td>57249</td>\n",
       "    </tr>\n",
       "    <tr>\n",
       "      <th>8</th>\n",
       "      <td>2016</td>\n",
       "      <td>72392</td>\n",
       "    </tr>\n",
       "  </tbody>\n",
       "</table>\n",
       "</div>"
      ],
      "text/plain": [
       "   year  count\n",
       "1  2009  32285\n",
       "2  2010  26769\n",
       "3  2011  25445\n",
       "4  2012  26254\n",
       "5  2013  35831\n",
       "6  2014  46808\n",
       "7  2015  57249\n",
       "8  2016  72392"
      ]
     },
     "execution_count": 95,
     "metadata": {},
     "output_type": "execute_result"
    }
   ],
   "source": [
    "df['year']=df['year'].str.extract('(?P<year>\\d{4})').astype(str)\n",
    "df['count']=df['count'].astype(int)\n",
    "df"
   ]
  },
  {
   "cell_type": "code",
   "execution_count": 96,
   "metadata": {
    "collapsed": false
   },
   "outputs": [
    {
     "data": {
      "text/html": [
       "\n",
       "    <div class=\"bk-root\">\n",
       "        <a href=\"http://bokeh.pydata.org\" target=\"_blank\" class=\"bk-logo bk-logo-small bk-logo-notebook\"></a>\n",
       "        <span id=\"86a58e89-3b0f-4812-852a-b7e75fe0cae7\">Loading BokehJS ...</span>\n",
       "    </div>"
      ]
     },
     "metadata": {},
     "output_type": "display_data"
    },
    {
     "data": {
      "application/javascript": [
       "\n",
       "(function(global) {\n",
       "  function now() {\n",
       "    return new Date();\n",
       "  }\n",
       "\n",
       "  var force = \"1\";\n",
       "\n",
       "  if (typeof (window._bokeh_onload_callbacks) === \"undefined\" || force !== \"\") {\n",
       "    window._bokeh_onload_callbacks = [];\n",
       "    window._bokeh_is_loading = undefined;\n",
       "  }\n",
       "\n",
       "\n",
       "  \n",
       "  if (typeof (window._bokeh_timeout) === \"undefined\" || force !== \"\") {\n",
       "    window._bokeh_timeout = Date.now() + 5000;\n",
       "    window._bokeh_failed_load = false;\n",
       "  }\n",
       "\n",
       "  var NB_LOAD_WARNING = {'data': {'text/html':\n",
       "     \"<div style='background-color: #fdd'>\\n\"+\n",
       "     \"<p>\\n\"+\n",
       "     \"BokehJS does not appear to have successfully loaded. If loading BokehJS from CDN, this \\n\"+\n",
       "     \"may be due to a slow or bad network connection. Possible fixes:\\n\"+\n",
       "     \"</p>\\n\"+\n",
       "     \"<ul>\\n\"+\n",
       "     \"<li>re-rerun `output_notebook()` to attempt to load from CDN again, or</li>\\n\"+\n",
       "     \"<li>use INLINE resources instead, as so:</li>\\n\"+\n",
       "     \"</ul>\\n\"+\n",
       "     \"<code>\\n\"+\n",
       "     \"from bokeh.resources import INLINE\\n\"+\n",
       "     \"output_notebook(resources=INLINE)\\n\"+\n",
       "     \"</code>\\n\"+\n",
       "     \"</div>\"}};\n",
       "\n",
       "  function display_loaded() {\n",
       "    if (window.Bokeh !== undefined) {\n",
       "      Bokeh.$(\"#86a58e89-3b0f-4812-852a-b7e75fe0cae7\").text(\"BokehJS successfully loaded.\");\n",
       "    } else if (Date.now() < window._bokeh_timeout) {\n",
       "      setTimeout(display_loaded, 100)\n",
       "    }\n",
       "  }\n",
       "\n",
       "  function run_callbacks() {\n",
       "    window._bokeh_onload_callbacks.forEach(function(callback) { callback() });\n",
       "    delete window._bokeh_onload_callbacks\n",
       "    console.info(\"Bokeh: all callbacks have finished\");\n",
       "  }\n",
       "\n",
       "  function load_libs(js_urls, callback) {\n",
       "    window._bokeh_onload_callbacks.push(callback);\n",
       "    if (window._bokeh_is_loading > 0) {\n",
       "      console.log(\"Bokeh: BokehJS is being loaded, scheduling callback at\", now());\n",
       "      return null;\n",
       "    }\n",
       "    if (js_urls == null || js_urls.length === 0) {\n",
       "      run_callbacks();\n",
       "      return null;\n",
       "    }\n",
       "    console.log(\"Bokeh: BokehJS not loaded, scheduling load and callback at\", now());\n",
       "    window._bokeh_is_loading = js_urls.length;\n",
       "    for (var i = 0; i < js_urls.length; i++) {\n",
       "      var url = js_urls[i];\n",
       "      var s = document.createElement('script');\n",
       "      s.src = url;\n",
       "      s.async = false;\n",
       "      s.onreadystatechange = s.onload = function() {\n",
       "        window._bokeh_is_loading--;\n",
       "        if (window._bokeh_is_loading === 0) {\n",
       "          console.log(\"Bokeh: all BokehJS libraries loaded\");\n",
       "          run_callbacks()\n",
       "        }\n",
       "      };\n",
       "      s.onerror = function() {\n",
       "        console.warn(\"failed to load library \" + url);\n",
       "      };\n",
       "      console.log(\"Bokeh: injecting script tag for BokehJS library: \", url);\n",
       "      document.getElementsByTagName(\"head\")[0].appendChild(s);\n",
       "    }\n",
       "  };var element = document.getElementById(\"86a58e89-3b0f-4812-852a-b7e75fe0cae7\");\n",
       "  if (element == null) {\n",
       "    console.log(\"Bokeh: ERROR: autoload.js configured with elementid '86a58e89-3b0f-4812-852a-b7e75fe0cae7' but no matching script tag was found. \")\n",
       "    return false;\n",
       "  }\n",
       "\n",
       "  var js_urls = ['https://cdn.pydata.org/bokeh/release/bokeh-0.12.3.min.js', 'https://cdn.pydata.org/bokeh/release/bokeh-widgets-0.12.3.min.js'];\n",
       "\n",
       "  var inline_js = [\n",
       "    function(Bokeh) {\n",
       "      Bokeh.set_log_level(\"info\");\n",
       "    },\n",
       "    \n",
       "    function(Bokeh) {\n",
       "      \n",
       "      Bokeh.$(\"#86a58e89-3b0f-4812-852a-b7e75fe0cae7\").text(\"BokehJS is loading...\");\n",
       "    },\n",
       "    function(Bokeh) {\n",
       "      console.log(\"Bokeh: injecting CSS: https://cdn.pydata.org/bokeh/release/bokeh-0.12.3.min.css\");\n",
       "      Bokeh.embed.inject_css(\"https://cdn.pydata.org/bokeh/release/bokeh-0.12.3.min.css\");\n",
       "      console.log(\"Bokeh: injecting CSS: https://cdn.pydata.org/bokeh/release/bokeh-widgets-0.12.3.min.css\");\n",
       "      Bokeh.embed.inject_css(\"https://cdn.pydata.org/bokeh/release/bokeh-widgets-0.12.3.min.css\");\n",
       "    }\n",
       "  ];\n",
       "\n",
       "  function run_inline_js() {\n",
       "    \n",
       "    if ((window.Bokeh !== undefined) || (force === \"1\")) {\n",
       "      for (var i = 0; i < inline_js.length; i++) {\n",
       "        inline_js[i](window.Bokeh);\n",
       "      }if (force === \"1\") {\n",
       "        display_loaded();\n",
       "      }} else if (Date.now() < window._bokeh_timeout) {\n",
       "      setTimeout(run_inline_js, 100);\n",
       "    } else if (!window._bokeh_failed_load) {\n",
       "      console.log(\"Bokeh: BokehJS failed to load within specified timeout.\");\n",
       "      window._bokeh_failed_load = true;\n",
       "    } else if (!force) {\n",
       "      var cell = $(\"#86a58e89-3b0f-4812-852a-b7e75fe0cae7\").parents('.cell').data().cell;\n",
       "      cell.output_area.append_execute_result(NB_LOAD_WARNING)\n",
       "    }\n",
       "\n",
       "  }\n",
       "\n",
       "  if (window._bokeh_is_loading === 0) {\n",
       "    console.log(\"Bokeh: BokehJS loaded, going straight to plotting\");\n",
       "    run_inline_js();\n",
       "  } else {\n",
       "    load_libs(js_urls, function() {\n",
       "      console.log(\"Bokeh: BokehJS plotting callback run at\", now());\n",
       "      run_inline_js();\n",
       "    });\n",
       "  }\n",
       "}(this));"
      ]
     },
     "metadata": {},
     "output_type": "display_data"
    }
   ],
   "source": [
    "from bokeh.charts import Bar, output_file, output_notebook\n",
    "from bokeh.layouts import row\n",
    "output_notebook()"
   ]
  },
  {
   "cell_type": "code",
   "execution_count": 97,
   "metadata": {
    "collapsed": false
   },
   "outputs": [
    {
     "data": {
      "text/html": [
       "\n",
       "    <div class=\"bk-root\">\n",
       "        <a href=\"http://bokeh.pydata.org\" target=\"_blank\" class=\"bk-logo bk-logo-small bk-logo-notebook\"></a>\n",
       "        <span id=\"bdc92d51-76d2-4dff-83c8-08ebcc626960\">Loading BokehJS ...</span>\n",
       "    </div>"
      ]
     },
     "metadata": {},
     "output_type": "display_data"
    },
    {
     "data": {
      "application/javascript": [
       "\n",
       "(function(global) {\n",
       "  function now() {\n",
       "    return new Date();\n",
       "  }\n",
       "\n",
       "  var force = \"1\";\n",
       "\n",
       "  if (typeof (window._bokeh_onload_callbacks) === \"undefined\" || force !== \"\") {\n",
       "    window._bokeh_onload_callbacks = [];\n",
       "    window._bokeh_is_loading = undefined;\n",
       "  }\n",
       "\n",
       "\n",
       "  \n",
       "  if (typeof (window._bokeh_timeout) === \"undefined\" || force !== \"\") {\n",
       "    window._bokeh_timeout = Date.now() + 5000;\n",
       "    window._bokeh_failed_load = false;\n",
       "  }\n",
       "\n",
       "  var NB_LOAD_WARNING = {'data': {'text/html':\n",
       "     \"<div style='background-color: #fdd'>\\n\"+\n",
       "     \"<p>\\n\"+\n",
       "     \"BokehJS does not appear to have successfully loaded. If loading BokehJS from CDN, this \\n\"+\n",
       "     \"may be due to a slow or bad network connection. Possible fixes:\\n\"+\n",
       "     \"</p>\\n\"+\n",
       "     \"<ul>\\n\"+\n",
       "     \"<li>re-rerun `output_notebook()` to attempt to load from CDN again, or</li>\\n\"+\n",
       "     \"<li>use INLINE resources instead, as so:</li>\\n\"+\n",
       "     \"</ul>\\n\"+\n",
       "     \"<code>\\n\"+\n",
       "     \"from bokeh.resources import INLINE\\n\"+\n",
       "     \"output_notebook(resources=INLINE)\\n\"+\n",
       "     \"</code>\\n\"+\n",
       "     \"</div>\"}};\n",
       "\n",
       "  function display_loaded() {\n",
       "    if (window.Bokeh !== undefined) {\n",
       "      Bokeh.$(\"#bdc92d51-76d2-4dff-83c8-08ebcc626960\").text(\"BokehJS successfully loaded.\");\n",
       "    } else if (Date.now() < window._bokeh_timeout) {\n",
       "      setTimeout(display_loaded, 100)\n",
       "    }\n",
       "  }\n",
       "\n",
       "  function run_callbacks() {\n",
       "    window._bokeh_onload_callbacks.forEach(function(callback) { callback() });\n",
       "    delete window._bokeh_onload_callbacks\n",
       "    console.info(\"Bokeh: all callbacks have finished\");\n",
       "  }\n",
       "\n",
       "  function load_libs(js_urls, callback) {\n",
       "    window._bokeh_onload_callbacks.push(callback);\n",
       "    if (window._bokeh_is_loading > 0) {\n",
       "      console.log(\"Bokeh: BokehJS is being loaded, scheduling callback at\", now());\n",
       "      return null;\n",
       "    }\n",
       "    if (js_urls == null || js_urls.length === 0) {\n",
       "      run_callbacks();\n",
       "      return null;\n",
       "    }\n",
       "    console.log(\"Bokeh: BokehJS not loaded, scheduling load and callback at\", now());\n",
       "    window._bokeh_is_loading = js_urls.length;\n",
       "    for (var i = 0; i < js_urls.length; i++) {\n",
       "      var url = js_urls[i];\n",
       "      var s = document.createElement('script');\n",
       "      s.src = url;\n",
       "      s.async = false;\n",
       "      s.onreadystatechange = s.onload = function() {\n",
       "        window._bokeh_is_loading--;\n",
       "        if (window._bokeh_is_loading === 0) {\n",
       "          console.log(\"Bokeh: all BokehJS libraries loaded\");\n",
       "          run_callbacks()\n",
       "        }\n",
       "      };\n",
       "      s.onerror = function() {\n",
       "        console.warn(\"failed to load library \" + url);\n",
       "      };\n",
       "      console.log(\"Bokeh: injecting script tag for BokehJS library: \", url);\n",
       "      document.getElementsByTagName(\"head\")[0].appendChild(s);\n",
       "    }\n",
       "  };var element = document.getElementById(\"bdc92d51-76d2-4dff-83c8-08ebcc626960\");\n",
       "  if (element == null) {\n",
       "    console.log(\"Bokeh: ERROR: autoload.js configured with elementid 'bdc92d51-76d2-4dff-83c8-08ebcc626960' but no matching script tag was found. \")\n",
       "    return false;\n",
       "  }\n",
       "\n",
       "  var js_urls = ['https://cdn.pydata.org/bokeh/release/bokeh-0.12.3.min.js', 'https://cdn.pydata.org/bokeh/release/bokeh-widgets-0.12.3.min.js'];\n",
       "\n",
       "  var inline_js = [\n",
       "    function(Bokeh) {\n",
       "      Bokeh.set_log_level(\"info\");\n",
       "    },\n",
       "    \n",
       "    function(Bokeh) {\n",
       "      \n",
       "      Bokeh.$(\"#bdc92d51-76d2-4dff-83c8-08ebcc626960\").text(\"BokehJS is loading...\");\n",
       "    },\n",
       "    function(Bokeh) {\n",
       "      console.log(\"Bokeh: injecting CSS: https://cdn.pydata.org/bokeh/release/bokeh-0.12.3.min.css\");\n",
       "      Bokeh.embed.inject_css(\"https://cdn.pydata.org/bokeh/release/bokeh-0.12.3.min.css\");\n",
       "      console.log(\"Bokeh: injecting CSS: https://cdn.pydata.org/bokeh/release/bokeh-widgets-0.12.3.min.css\");\n",
       "      Bokeh.embed.inject_css(\"https://cdn.pydata.org/bokeh/release/bokeh-widgets-0.12.3.min.css\");\n",
       "    }\n",
       "  ];\n",
       "\n",
       "  function run_inline_js() {\n",
       "    \n",
       "    if ((window.Bokeh !== undefined) || (force === \"1\")) {\n",
       "      for (var i = 0; i < inline_js.length; i++) {\n",
       "        inline_js[i](window.Bokeh);\n",
       "      }if (force === \"1\") {\n",
       "        display_loaded();\n",
       "      }} else if (Date.now() < window._bokeh_timeout) {\n",
       "      setTimeout(run_inline_js, 100);\n",
       "    } else if (!window._bokeh_failed_load) {\n",
       "      console.log(\"Bokeh: BokehJS failed to load within specified timeout.\");\n",
       "      window._bokeh_failed_load = true;\n",
       "    } else if (!force) {\n",
       "      var cell = $(\"#bdc92d51-76d2-4dff-83c8-08ebcc626960\").parents('.cell').data().cell;\n",
       "      cell.output_area.append_execute_result(NB_LOAD_WARNING)\n",
       "    }\n",
       "\n",
       "  }\n",
       "\n",
       "  if (window._bokeh_is_loading === 0) {\n",
       "    console.log(\"Bokeh: BokehJS loaded, going straight to plotting\");\n",
       "    run_inline_js();\n",
       "  } else {\n",
       "    load_libs(js_urls, function() {\n",
       "      console.log(\"Bokeh: BokehJS plotting callback run at\", now());\n",
       "      run_inline_js();\n",
       "    });\n",
       "  }\n",
       "}(this));"
      ]
     },
     "metadata": {},
     "output_type": "display_data"
    },
    {
     "data": {
      "text/html": [
       "\n",
       "\n",
       "    <div class=\"bk-root\">\n",
       "        <div class=\"plotdiv\" id=\"9af165cd-96af-4c6e-a6ce-2dfa24bb8990\"></div>\n",
       "    </div>\n",
       "<script type=\"text/javascript\">\n",
       "  \n",
       "  (function(global) {\n",
       "    function now() {\n",
       "      return new Date();\n",
       "    }\n",
       "  \n",
       "    var force = \"\";\n",
       "  \n",
       "    if (typeof (window._bokeh_onload_callbacks) === \"undefined\" || force !== \"\") {\n",
       "      window._bokeh_onload_callbacks = [];\n",
       "      window._bokeh_is_loading = undefined;\n",
       "    }\n",
       "  \n",
       "  \n",
       "    \n",
       "    if (typeof (window._bokeh_timeout) === \"undefined\" || force !== \"\") {\n",
       "      window._bokeh_timeout = Date.now() + 0;\n",
       "      window._bokeh_failed_load = false;\n",
       "    }\n",
       "  \n",
       "    var NB_LOAD_WARNING = {'data': {'text/html':\n",
       "       \"<div style='background-color: #fdd'>\\n\"+\n",
       "       \"<p>\\n\"+\n",
       "       \"BokehJS does not appear to have successfully loaded. If loading BokehJS from CDN, this \\n\"+\n",
       "       \"may be due to a slow or bad network connection. Possible fixes:\\n\"+\n",
       "       \"</p>\\n\"+\n",
       "       \"<ul>\\n\"+\n",
       "       \"<li>re-rerun `output_notebook()` to attempt to load from CDN again, or</li>\\n\"+\n",
       "       \"<li>use INLINE resources instead, as so:</li>\\n\"+\n",
       "       \"</ul>\\n\"+\n",
       "       \"<code>\\n\"+\n",
       "       \"from bokeh.resources import INLINE\\n\"+\n",
       "       \"output_notebook(resources=INLINE)\\n\"+\n",
       "       \"</code>\\n\"+\n",
       "       \"</div>\"}};\n",
       "  \n",
       "    function display_loaded() {\n",
       "      if (window.Bokeh !== undefined) {\n",
       "        Bokeh.$(\"#9af165cd-96af-4c6e-a6ce-2dfa24bb8990\").text(\"BokehJS successfully loaded.\");\n",
       "      } else if (Date.now() < window._bokeh_timeout) {\n",
       "        setTimeout(display_loaded, 100)\n",
       "      }\n",
       "    }\n",
       "  \n",
       "    function run_callbacks() {\n",
       "      window._bokeh_onload_callbacks.forEach(function(callback) { callback() });\n",
       "      delete window._bokeh_onload_callbacks\n",
       "      console.info(\"Bokeh: all callbacks have finished\");\n",
       "    }\n",
       "  \n",
       "    function load_libs(js_urls, callback) {\n",
       "      window._bokeh_onload_callbacks.push(callback);\n",
       "      if (window._bokeh_is_loading > 0) {\n",
       "        console.log(\"Bokeh: BokehJS is being loaded, scheduling callback at\", now());\n",
       "        return null;\n",
       "      }\n",
       "      if (js_urls == null || js_urls.length === 0) {\n",
       "        run_callbacks();\n",
       "        return null;\n",
       "      }\n",
       "      console.log(\"Bokeh: BokehJS not loaded, scheduling load and callback at\", now());\n",
       "      window._bokeh_is_loading = js_urls.length;\n",
       "      for (var i = 0; i < js_urls.length; i++) {\n",
       "        var url = js_urls[i];\n",
       "        var s = document.createElement('script');\n",
       "        s.src = url;\n",
       "        s.async = false;\n",
       "        s.onreadystatechange = s.onload = function() {\n",
       "          window._bokeh_is_loading--;\n",
       "          if (window._bokeh_is_loading === 0) {\n",
       "            console.log(\"Bokeh: all BokehJS libraries loaded\");\n",
       "            run_callbacks()\n",
       "          }\n",
       "        };\n",
       "        s.onerror = function() {\n",
       "          console.warn(\"failed to load library \" + url);\n",
       "        };\n",
       "        console.log(\"Bokeh: injecting script tag for BokehJS library: \", url);\n",
       "        document.getElementsByTagName(\"head\")[0].appendChild(s);\n",
       "      }\n",
       "    };var element = document.getElementById(\"9af165cd-96af-4c6e-a6ce-2dfa24bb8990\");\n",
       "    if (element == null) {\n",
       "      console.log(\"Bokeh: ERROR: autoload.js configured with elementid '9af165cd-96af-4c6e-a6ce-2dfa24bb8990' but no matching script tag was found. \")\n",
       "      return false;\n",
       "    }\n",
       "  \n",
       "    var js_urls = [];\n",
       "  \n",
       "    var inline_js = [\n",
       "      function(Bokeh) {\n",
       "        Bokeh.$(function() {\n",
       "            var docs_json = {\"0102d1b9-0adb-43c2-9a46-7fdaa6ad0aaa\":{\"roots\":{\"references\":[{\"attributes\":{\"data_source\":{\"id\":\"574dac64-3852-4bdf-a316-9a231c9d470a\",\"type\":\"ColumnDataSource\"},\"glyph\":{\"id\":\"7b3ccd93-6d7b-42b6-8da3-32e0d1639cf8\",\"type\":\"Rect\"},\"hover_glyph\":null,\"nonselection_glyph\":null,\"selection_glyph\":null},\"id\":\"48177de6-2f28-4d89-8a62-5eb22a27f149\",\"type\":\"GlyphRenderer\"},{\"attributes\":{\"data_source\":{\"id\":\"ffd1f2f4-c179-4ab2-ad48-b8b67e1cf000\",\"type\":\"ColumnDataSource\"},\"glyph\":{\"id\":\"761a5434-5ecf-4bd8-9dfd-c5fcf0f5ebaa\",\"type\":\"Rect\"},\"hover_glyph\":null,\"nonselection_glyph\":null,\"selection_glyph\":null},\"id\":\"7e038b68-3971-4ee0-abc2-5acfee60db5d\",\"type\":\"GlyphRenderer\"},{\"attributes\":{},\"id\":\"3dd2ca15-5745-48de-99f6-f34081137aa3\",\"type\":\"CategoricalTicker\"},{\"attributes\":{\"fill_alpha\":{\"field\":\"fill_alpha\"},\"fill_color\":{\"field\":\"color\"},\"height\":{\"field\":\"height\",\"units\":\"data\"},\"line_color\":{\"field\":\"line_color\"},\"width\":{\"field\":\"width\",\"units\":\"data\"},\"x\":{\"field\":\"x\"},\"y\":{\"field\":\"y\"}},\"id\":\"b36324ab-12d6-4f7c-b403-d9cbbb1000cb\",\"type\":\"Rect\"},{\"attributes\":{\"data_source\":{\"id\":\"9ba802c0-2cec-43ac-9af5-8a6a5adef0c6\",\"type\":\"ColumnDataSource\"},\"glyph\":{\"id\":\"5e8590ee-da5b-434f-981d-75d800956753\",\"type\":\"Rect\"},\"hover_glyph\":null,\"nonselection_glyph\":null,\"selection_glyph\":null},\"id\":\"9693a859-b0ce-4078-b7ad-463d9f6fc712\",\"type\":\"GlyphRenderer\"},{\"attributes\":{\"data_source\":{\"id\":\"18920b91-67db-4ad3-88a4-e621279c73b9\",\"type\":\"ColumnDataSource\"},\"glyph\":{\"id\":\"2a33746f-574d-473f-b5c1-1ffe16598e72\",\"type\":\"Rect\"},\"hover_glyph\":null,\"nonselection_glyph\":null,\"selection_glyph\":null},\"id\":\"d11a8cbf-ebbe-439b-b9ed-371b98feff9c\",\"type\":\"GlyphRenderer\"},{\"attributes\":{\"fill_alpha\":{\"field\":\"fill_alpha\"},\"fill_color\":{\"field\":\"color\"},\"height\":{\"field\":\"height\",\"units\":\"data\"},\"line_color\":{\"field\":\"line_color\"},\"width\":{\"field\":\"width\",\"units\":\"data\"},\"x\":{\"field\":\"x\"},\"y\":{\"field\":\"y\"}},\"id\":\"98f0f94e-d8ce-4e0f-96fa-f110440eb61b\",\"type\":\"Rect\"},{\"attributes\":{\"children\":[{\"id\":\"70abfac7-bd5f-4123-9336-60df5f129f78\",\"subtype\":\"Chart\",\"type\":\"Plot\"}]},\"id\":\"6d6c9f46-d397-4c56-9980-b5cb7ae47b9e\",\"type\":\"Row\"},{\"attributes\":{\"overlay\":{\"id\":\"d039c0cc-55a3-4495-aefc-2ca8314f2a72\",\"type\":\"BoxAnnotation\"},\"plot\":{\"id\":\"70abfac7-bd5f-4123-9336-60df5f129f78\",\"subtype\":\"Chart\",\"type\":\"Plot\"}},\"id\":\"e082eac9-eecd-4064-96dc-07e109d5a8cf\",\"type\":\"BoxZoomTool\"},{\"attributes\":{\"active_drag\":\"auto\",\"active_scroll\":\"auto\",\"active_tap\":\"auto\",\"tools\":[{\"id\":\"e00d1cb4-82df-4c49-ae58-b50947bfaefb\",\"type\":\"PanTool\"},{\"id\":\"93f85d70-2f08-4107-8078-e1602a14c903\",\"type\":\"WheelZoomTool\"},{\"id\":\"e082eac9-eecd-4064-96dc-07e109d5a8cf\",\"type\":\"BoxZoomTool\"},{\"id\":\"cc7f9ae9-09b4-4a5a-b6ba-874ab9549562\",\"type\":\"SaveTool\"},{\"id\":\"2c394fbb-a83d-41f9-b196-2974e1894a3f\",\"type\":\"ResetTool\"},{\"id\":\"05420b6c-78ab-451e-a015-a00b23de57d6\",\"type\":\"HelpTool\"}]},\"id\":\"7e5ef28d-2ed0-403c-9169-c7b9cdb58ffa\",\"type\":\"Toolbar\"},{\"attributes\":{\"axis_label\":\"Sum( Count )\",\"formatter\":{\"id\":\"e1b2dea4-3615-4449-99d0-9118d2bd0196\",\"type\":\"BasicTickFormatter\"},\"plot\":{\"id\":\"70abfac7-bd5f-4123-9336-60df5f129f78\",\"subtype\":\"Chart\",\"type\":\"Plot\"},\"ticker\":{\"id\":\"6a412c90-39c9-4526-b4c7-bb4248eafb40\",\"type\":\"BasicTicker\"}},\"id\":\"2973a7bf-6643-4897-8942-f71e8971bd43\",\"type\":\"LinearAxis\"},{\"attributes\":{\"callback\":null,\"end\":76011.6},\"id\":\"30f6d535-5c20-4c16-96fb-f88192289e24\",\"type\":\"Range1d\"},{\"attributes\":{\"label\":{\"value\":\"2015\"},\"renderers\":[{\"id\":\"48177de6-2f28-4d89-8a62-5eb22a27f149\",\"type\":\"GlyphRenderer\"}]},\"id\":\"9747c655-0244-4c4e-9f8b-bdc2c308a152\",\"type\":\"LegendItem\"},{\"attributes\":{\"fill_alpha\":{\"field\":\"fill_alpha\"},\"fill_color\":{\"field\":\"color\"},\"height\":{\"field\":\"height\",\"units\":\"data\"},\"line_color\":{\"field\":\"line_color\"},\"width\":{\"field\":\"width\",\"units\":\"data\"},\"x\":{\"field\":\"x\"},\"y\":{\"field\":\"y\"}},\"id\":\"7b3ccd93-6d7b-42b6-8da3-32e0d1639cf8\",\"type\":\"Rect\"},{\"attributes\":{\"label\":{\"value\":\"2013\"},\"renderers\":[{\"id\":\"7e038b68-3971-4ee0-abc2-5acfee60db5d\",\"type\":\"GlyphRenderer\"}]},\"id\":\"e9fefe25-74d9-465d-b683-4474c1539bbc\",\"type\":\"LegendItem\"},{\"attributes\":{\"bottom_units\":\"screen\",\"fill_alpha\":{\"value\":0.5},\"fill_color\":{\"value\":\"lightgrey\"},\"left_units\":\"screen\",\"level\":\"overlay\",\"line_alpha\":{\"value\":1.0},\"line_color\":{\"value\":\"black\"},\"line_dash\":[4,4],\"line_width\":{\"value\":2},\"plot\":null,\"render_mode\":\"css\",\"right_units\":\"screen\",\"top_units\":\"screen\"},\"id\":\"d039c0cc-55a3-4495-aefc-2ca8314f2a72\",\"type\":\"BoxAnnotation\"},{\"attributes\":{\"callback\":null,\"column_names\":[\"height\",\"x\",\"width\",\"line_color\",\"label\",\"y\",\"line_alpha\",\"fill_alpha\",\"color\"],\"data\":{\"chart_index\":[{\"year\":\"2016\"}],\"color\":[\"#f22c40\"],\"fill_alpha\":[0.8],\"height\":[72392.0],\"label\":[{\"year\":\"2016\"}],\"line_alpha\":[1.0],\"line_color\":[\"white\"],\"width\":[0.8],\"x\":[\"2016\"],\"y\":[36196.0],\"year\":[\"2016\"]}},\"id\":\"a9895a0b-6a36-40bc-925d-6a7a16cf2ae5\",\"type\":\"ColumnDataSource\"},{\"attributes\":{\"label\":{\"value\":\"2010\"},\"renderers\":[{\"id\":\"9693a859-b0ce-4078-b7ad-463d9f6fc712\",\"type\":\"GlyphRenderer\"}]},\"id\":\"b2dad75f-1646-49a5-8250-fb19212d4244\",\"type\":\"LegendItem\"},{\"attributes\":{\"items\":[{\"id\":\"e8fce11e-e09e-451c-acb7-fb69e01a80c7\",\"type\":\"LegendItem\"},{\"id\":\"b2dad75f-1646-49a5-8250-fb19212d4244\",\"type\":\"LegendItem\"},{\"id\":\"e5890e20-0d0e-4e58-847f-0617af4dc3a5\",\"type\":\"LegendItem\"},{\"id\":\"451616e3-2820-49f9-8283-0cbc54efc3c1\",\"type\":\"LegendItem\"},{\"id\":\"e9fefe25-74d9-465d-b683-4474c1539bbc\",\"type\":\"LegendItem\"},{\"id\":\"530c8c1d-6a5b-4e13-9603-d4302b947c7b\",\"type\":\"LegendItem\"},{\"id\":\"9747c655-0244-4c4e-9f8b-bdc2c308a152\",\"type\":\"LegendItem\"},{\"id\":\"6de5b8c5-44e2-46bf-a78e-d105dca72756\",\"type\":\"LegendItem\"}],\"location\":\"top_left\",\"plot\":{\"id\":\"70abfac7-bd5f-4123-9336-60df5f129f78\",\"subtype\":\"Chart\",\"type\":\"Plot\"}},\"id\":\"f67cdee0-e547-45fc-9436-2e00085f5093\",\"type\":\"Legend\"},{\"attributes\":{\"label\":{\"value\":\"2014\"},\"renderers\":[{\"id\":\"caf328dd-05bf-469d-957b-968ee3d60112\",\"type\":\"GlyphRenderer\"}]},\"id\":\"530c8c1d-6a5b-4e13-9603-d4302b947c7b\",\"type\":\"LegendItem\"},{\"attributes\":{\"plot\":{\"id\":\"70abfac7-bd5f-4123-9336-60df5f129f78\",\"subtype\":\"Chart\",\"type\":\"Plot\"}},\"id\":\"cc7f9ae9-09b4-4a5a-b6ba-874ab9549562\",\"type\":\"SaveTool\"},{\"attributes\":{},\"id\":\"c813ed9e-5e6d-441d-9694-aaf0e3475de0\",\"type\":\"ToolEvents\"},{\"attributes\":{\"callback\":null,\"column_names\":[\"height\",\"x\",\"width\",\"line_color\",\"label\",\"y\",\"line_alpha\",\"fill_alpha\",\"color\"],\"data\":{\"chart_index\":[{\"year\":\"2013\"}],\"color\":[\"#f22c40\"],\"fill_alpha\":[0.8],\"height\":[35831.0],\"label\":[{\"year\":\"2013\"}],\"line_alpha\":[1.0],\"line_color\":[\"white\"],\"width\":[0.8],\"x\":[\"2013\"],\"y\":[17915.5],\"year\":[\"2013\"]}},\"id\":\"ffd1f2f4-c179-4ab2-ad48-b8b67e1cf000\",\"type\":\"ColumnDataSource\"},{\"attributes\":{\"callback\":null,\"column_names\":[\"height\",\"x\",\"width\",\"line_color\",\"label\",\"y\",\"line_alpha\",\"fill_alpha\",\"color\"],\"data\":{\"chart_index\":[{\"year\":\"2009\"}],\"color\":[\"#f22c40\"],\"fill_alpha\":[0.8],\"height\":[32285.0],\"label\":[{\"year\":\"2009\"}],\"line_alpha\":[1.0],\"line_color\":[\"white\"],\"width\":[0.8],\"x\":[\"2009\"],\"y\":[16142.5],\"year\":[\"2009\"]}},\"id\":\"33b51a8f-3bbc-4227-a51b-3734abb4dc8f\",\"type\":\"ColumnDataSource\"},{\"attributes\":{\"callback\":null,\"factors\":[\"2009\",\"2010\",\"2011\",\"2012\",\"2013\",\"2014\",\"2015\",\"2016\"]},\"id\":\"8f87a840-86e7-4379-b338-46c0f506cc86\",\"type\":\"FactorRange\"},{\"attributes\":{\"axis_label\":\"Year\",\"formatter\":{\"id\":\"a04ce684-e35f-4102-969a-58c1df828140\",\"type\":\"CategoricalTickFormatter\"},\"major_label_orientation\":0.7853981633974483,\"plot\":{\"id\":\"70abfac7-bd5f-4123-9336-60df5f129f78\",\"subtype\":\"Chart\",\"type\":\"Plot\"},\"ticker\":{\"id\":\"3dd2ca15-5745-48de-99f6-f34081137aa3\",\"type\":\"CategoricalTicker\"}},\"id\":\"b0ec14b1-67df-4e24-b9ea-0e6bc2b01f29\",\"type\":\"CategoricalAxis\"},{\"attributes\":{\"label\":{\"value\":\"2011\"},\"renderers\":[{\"id\":\"d11a8cbf-ebbe-439b-b9ed-371b98feff9c\",\"type\":\"GlyphRenderer\"}]},\"id\":\"e5890e20-0d0e-4e58-847f-0617af4dc3a5\",\"type\":\"LegendItem\"},{\"attributes\":{\"callback\":null,\"column_names\":[\"height\",\"x\",\"width\",\"line_color\",\"label\",\"y\",\"line_alpha\",\"fill_alpha\",\"color\"],\"data\":{\"chart_index\":[{\"year\":\"2014\"}],\"color\":[\"#f22c40\"],\"fill_alpha\":[0.8],\"height\":[46808.0],\"label\":[{\"year\":\"2014\"}],\"line_alpha\":[1.0],\"line_color\":[\"white\"],\"width\":[0.8],\"x\":[\"2014\"],\"y\":[23404.0],\"year\":[\"2014\"]}},\"id\":\"03eb1037-be2b-4393-b90f-470b14757472\",\"type\":\"ColumnDataSource\"},{\"attributes\":{\"callback\":null,\"column_names\":[\"height\",\"x\",\"width\",\"line_color\",\"label\",\"y\",\"line_alpha\",\"fill_alpha\",\"color\"],\"data\":{\"chart_index\":[{\"year\":\"2015\"}],\"color\":[\"#f22c40\"],\"fill_alpha\":[0.8],\"height\":[57249.0],\"label\":[{\"year\":\"2015\"}],\"line_alpha\":[1.0],\"line_color\":[\"white\"],\"width\":[0.8],\"x\":[\"2015\"],\"y\":[28624.5],\"year\":[\"2015\"]}},\"id\":\"574dac64-3852-4bdf-a316-9a231c9d470a\",\"type\":\"ColumnDataSource\"},{\"attributes\":{\"label\":{\"value\":\"2012\"},\"renderers\":[{\"id\":\"f86f17ea-7f26-467b-ba96-b7abc93a6d36\",\"type\":\"GlyphRenderer\"}]},\"id\":\"451616e3-2820-49f9-8283-0cbc54efc3c1\",\"type\":\"LegendItem\"},{\"attributes\":{\"plot\":{\"id\":\"70abfac7-bd5f-4123-9336-60df5f129f78\",\"subtype\":\"Chart\",\"type\":\"Plot\"}},\"id\":\"2c394fbb-a83d-41f9-b196-2974e1894a3f\",\"type\":\"ResetTool\"},{\"attributes\":{\"callback\":null,\"column_names\":[\"height\",\"x\",\"width\",\"line_color\",\"label\",\"y\",\"line_alpha\",\"fill_alpha\",\"color\"],\"data\":{\"chart_index\":[{\"year\":\"2012\"}],\"color\":[\"#f22c40\"],\"fill_alpha\":[0.8],\"height\":[26254.0],\"label\":[{\"year\":\"2012\"}],\"line_alpha\":[1.0],\"line_color\":[\"white\"],\"width\":[0.8],\"x\":[\"2012\"],\"y\":[13127.0],\"year\":[\"2012\"]}},\"id\":\"9112ecd9-abd7-4b02-b6c3-fa2b27a972de\",\"type\":\"ColumnDataSource\"},{\"attributes\":{\"data_source\":{\"id\":\"a9895a0b-6a36-40bc-925d-6a7a16cf2ae5\",\"type\":\"ColumnDataSource\"},\"glyph\":{\"id\":\"c5842bd6-2cbb-4da6-9d84-da3d724ce2ac\",\"type\":\"Rect\"},\"hover_glyph\":null,\"nonselection_glyph\":null,\"selection_glyph\":null},\"id\":\"c6bddf94-0bf3-43e5-8eed-24c0d9c2e0d1\",\"type\":\"GlyphRenderer\"},{\"attributes\":{\"fill_alpha\":{\"field\":\"fill_alpha\"},\"fill_color\":{\"field\":\"color\"},\"height\":{\"field\":\"height\",\"units\":\"data\"},\"line_color\":{\"field\":\"line_color\"},\"width\":{\"field\":\"width\",\"units\":\"data\"},\"x\":{\"field\":\"x\"},\"y\":{\"field\":\"y\"}},\"id\":\"c5842bd6-2cbb-4da6-9d84-da3d724ce2ac\",\"type\":\"Rect\"},{\"attributes\":{\"fill_alpha\":{\"field\":\"fill_alpha\"},\"fill_color\":{\"field\":\"color\"},\"height\":{\"field\":\"height\",\"units\":\"data\"},\"line_color\":{\"field\":\"line_color\"},\"width\":{\"field\":\"width\",\"units\":\"data\"},\"x\":{\"field\":\"x\"},\"y\":{\"field\":\"y\"}},\"id\":\"5e8590ee-da5b-434f-981d-75d800956753\",\"type\":\"Rect\"},{\"attributes\":{\"plot\":{\"id\":\"70abfac7-bd5f-4123-9336-60df5f129f78\",\"subtype\":\"Chart\",\"type\":\"Plot\"}},\"id\":\"05420b6c-78ab-451e-a015-a00b23de57d6\",\"type\":\"HelpTool\"},{\"attributes\":{},\"id\":\"a04ce684-e35f-4102-969a-58c1df828140\",\"type\":\"CategoricalTickFormatter\"},{\"attributes\":{\"label\":{\"value\":\"2016\"},\"renderers\":[{\"id\":\"c6bddf94-0bf3-43e5-8eed-24c0d9c2e0d1\",\"type\":\"GlyphRenderer\"}]},\"id\":\"6de5b8c5-44e2-46bf-a78e-d105dca72756\",\"type\":\"LegendItem\"},{\"attributes\":{\"plot\":{\"id\":\"70abfac7-bd5f-4123-9336-60df5f129f78\",\"subtype\":\"Chart\",\"type\":\"Plot\"}},\"id\":\"93f85d70-2f08-4107-8078-e1602a14c903\",\"type\":\"WheelZoomTool\"},{\"attributes\":{\"data_source\":{\"id\":\"9112ecd9-abd7-4b02-b6c3-fa2b27a972de\",\"type\":\"ColumnDataSource\"},\"glyph\":{\"id\":\"b36324ab-12d6-4f7c-b403-d9cbbb1000cb\",\"type\":\"Rect\"},\"hover_glyph\":null,\"nonselection_glyph\":null,\"selection_glyph\":null},\"id\":\"f86f17ea-7f26-467b-ba96-b7abc93a6d36\",\"type\":\"GlyphRenderer\"},{\"attributes\":{\"plot\":null,\"text\":\"Graffiti reported to SF311 by year\"},\"id\":\"c63c1a14-6061-454e-8277-9592a8c973d1\",\"type\":\"Title\"},{\"attributes\":{\"callback\":null,\"column_names\":[\"height\",\"x\",\"width\",\"line_color\",\"label\",\"y\",\"line_alpha\",\"fill_alpha\",\"color\"],\"data\":{\"chart_index\":[{\"year\":\"2011\"}],\"color\":[\"#f22c40\"],\"fill_alpha\":[0.8],\"height\":[25445.0],\"label\":[{\"year\":\"2011\"}],\"line_alpha\":[1.0],\"line_color\":[\"white\"],\"width\":[0.8],\"x\":[\"2011\"],\"y\":[12722.5],\"year\":[\"2011\"]}},\"id\":\"18920b91-67db-4ad3-88a4-e621279c73b9\",\"type\":\"ColumnDataSource\"},{\"attributes\":{\"below\":[{\"id\":\"b0ec14b1-67df-4e24-b9ea-0e6bc2b01f29\",\"type\":\"CategoricalAxis\"}],\"left\":[{\"id\":\"2973a7bf-6643-4897-8942-f71e8971bd43\",\"type\":\"LinearAxis\"}],\"renderers\":[{\"id\":\"d039c0cc-55a3-4495-aefc-2ca8314f2a72\",\"type\":\"BoxAnnotation\"},{\"id\":\"57a0657f-0ff4-4d1a-98ff-b1aa8e42d9e7\",\"type\":\"GlyphRenderer\"},{\"id\":\"9693a859-b0ce-4078-b7ad-463d9f6fc712\",\"type\":\"GlyphRenderer\"},{\"id\":\"d11a8cbf-ebbe-439b-b9ed-371b98feff9c\",\"type\":\"GlyphRenderer\"},{\"id\":\"f86f17ea-7f26-467b-ba96-b7abc93a6d36\",\"type\":\"GlyphRenderer\"},{\"id\":\"7e038b68-3971-4ee0-abc2-5acfee60db5d\",\"type\":\"GlyphRenderer\"},{\"id\":\"caf328dd-05bf-469d-957b-968ee3d60112\",\"type\":\"GlyphRenderer\"},{\"id\":\"48177de6-2f28-4d89-8a62-5eb22a27f149\",\"type\":\"GlyphRenderer\"},{\"id\":\"c6bddf94-0bf3-43e5-8eed-24c0d9c2e0d1\",\"type\":\"GlyphRenderer\"},{\"id\":\"f67cdee0-e547-45fc-9436-2e00085f5093\",\"type\":\"Legend\"},{\"id\":\"b0ec14b1-67df-4e24-b9ea-0e6bc2b01f29\",\"type\":\"CategoricalAxis\"},{\"id\":\"2973a7bf-6643-4897-8942-f71e8971bd43\",\"type\":\"LinearAxis\"},{\"id\":\"2f82da79-13f8-4a09-9d1a-826b0de61826\",\"type\":\"Grid\"}],\"title\":{\"id\":\"c63c1a14-6061-454e-8277-9592a8c973d1\",\"type\":\"Title\"},\"tool_events\":{\"id\":\"c813ed9e-5e6d-441d-9694-aaf0e3475de0\",\"type\":\"ToolEvents\"},\"toolbar\":{\"id\":\"7e5ef28d-2ed0-403c-9169-c7b9cdb58ffa\",\"type\":\"Toolbar\"},\"x_mapper_type\":\"auto\",\"x_range\":{\"id\":\"8f87a840-86e7-4379-b338-46c0f506cc86\",\"type\":\"FactorRange\"},\"y_mapper_type\":\"auto\",\"y_range\":{\"id\":\"30f6d535-5c20-4c16-96fb-f88192289e24\",\"type\":\"Range1d\"}},\"id\":\"70abfac7-bd5f-4123-9336-60df5f129f78\",\"subtype\":\"Chart\",\"type\":\"Plot\"},{\"attributes\":{\"dimension\":1,\"plot\":{\"id\":\"70abfac7-bd5f-4123-9336-60df5f129f78\",\"subtype\":\"Chart\",\"type\":\"Plot\"},\"ticker\":{\"id\":\"6a412c90-39c9-4526-b4c7-bb4248eafb40\",\"type\":\"BasicTicker\"}},\"id\":\"2f82da79-13f8-4a09-9d1a-826b0de61826\",\"type\":\"Grid\"},{\"attributes\":{\"label\":{\"value\":\"2009\"},\"renderers\":[{\"id\":\"57a0657f-0ff4-4d1a-98ff-b1aa8e42d9e7\",\"type\":\"GlyphRenderer\"}]},\"id\":\"e8fce11e-e09e-451c-acb7-fb69e01a80c7\",\"type\":\"LegendItem\"},{\"attributes\":{\"data_source\":{\"id\":\"03eb1037-be2b-4393-b90f-470b14757472\",\"type\":\"ColumnDataSource\"},\"glyph\":{\"id\":\"98f0f94e-d8ce-4e0f-96fa-f110440eb61b\",\"type\":\"Rect\"},\"hover_glyph\":null,\"nonselection_glyph\":null,\"selection_glyph\":null},\"id\":\"caf328dd-05bf-469d-957b-968ee3d60112\",\"type\":\"GlyphRenderer\"},{\"attributes\":{\"fill_alpha\":{\"field\":\"fill_alpha\"},\"fill_color\":{\"field\":\"color\"},\"height\":{\"field\":\"height\",\"units\":\"data\"},\"line_color\":{\"field\":\"line_color\"},\"width\":{\"field\":\"width\",\"units\":\"data\"},\"x\":{\"field\":\"x\"},\"y\":{\"field\":\"y\"}},\"id\":\"2a33746f-574d-473f-b5c1-1ffe16598e72\",\"type\":\"Rect\"},{\"attributes\":{\"data_source\":{\"id\":\"33b51a8f-3bbc-4227-a51b-3734abb4dc8f\",\"type\":\"ColumnDataSource\"},\"glyph\":{\"id\":\"5fe298a2-c32e-4242-ad98-bfc51d62c6d5\",\"type\":\"Rect\"},\"hover_glyph\":null,\"nonselection_glyph\":null,\"selection_glyph\":null},\"id\":\"57a0657f-0ff4-4d1a-98ff-b1aa8e42d9e7\",\"type\":\"GlyphRenderer\"},{\"attributes\":{},\"id\":\"6a412c90-39c9-4526-b4c7-bb4248eafb40\",\"type\":\"BasicTicker\"},{\"attributes\":{},\"id\":\"e1b2dea4-3615-4449-99d0-9118d2bd0196\",\"type\":\"BasicTickFormatter\"},{\"attributes\":{\"callback\":null,\"column_names\":[\"height\",\"x\",\"width\",\"line_color\",\"label\",\"y\",\"line_alpha\",\"fill_alpha\",\"color\"],\"data\":{\"chart_index\":[{\"year\":\"2010\"}],\"color\":[\"#f22c40\"],\"fill_alpha\":[0.8],\"height\":[26769.0],\"label\":[{\"year\":\"2010\"}],\"line_alpha\":[1.0],\"line_color\":[\"white\"],\"width\":[0.8],\"x\":[\"2010\"],\"y\":[13384.5],\"year\":[\"2010\"]}},\"id\":\"9ba802c0-2cec-43ac-9af5-8a6a5adef0c6\",\"type\":\"ColumnDataSource\"},{\"attributes\":{\"plot\":{\"id\":\"70abfac7-bd5f-4123-9336-60df5f129f78\",\"subtype\":\"Chart\",\"type\":\"Plot\"}},\"id\":\"e00d1cb4-82df-4c49-ae58-b50947bfaefb\",\"type\":\"PanTool\"},{\"attributes\":{\"fill_alpha\":{\"field\":\"fill_alpha\"},\"fill_color\":{\"field\":\"color\"},\"height\":{\"field\":\"height\",\"units\":\"data\"},\"line_color\":{\"field\":\"line_color\"},\"width\":{\"field\":\"width\",\"units\":\"data\"},\"x\":{\"field\":\"x\"},\"y\":{\"field\":\"y\"}},\"id\":\"761a5434-5ecf-4bd8-9dfd-c5fcf0f5ebaa\",\"type\":\"Rect\"},{\"attributes\":{\"fill_alpha\":{\"field\":\"fill_alpha\"},\"fill_color\":{\"field\":\"color\"},\"height\":{\"field\":\"height\",\"units\":\"data\"},\"line_color\":{\"field\":\"line_color\"},\"width\":{\"field\":\"width\",\"units\":\"data\"},\"x\":{\"field\":\"x\"},\"y\":{\"field\":\"y\"}},\"id\":\"5fe298a2-c32e-4242-ad98-bfc51d62c6d5\",\"type\":\"Rect\"}],\"root_ids\":[\"6d6c9f46-d397-4c56-9980-b5cb7ae47b9e\"]},\"title\":\"Bokeh Application\",\"version\":\"0.12.3\"}};\n",
       "            var render_items = [{\"docid\":\"0102d1b9-0adb-43c2-9a46-7fdaa6ad0aaa\",\"elementid\":\"9af165cd-96af-4c6e-a6ce-2dfa24bb8990\",\"modelid\":\"6d6c9f46-d397-4c56-9980-b5cb7ae47b9e\"}];\n",
       "            \n",
       "            Bokeh.embed.embed_items(docs_json, render_items);\n",
       "        });\n",
       "      },\n",
       "      function(Bokeh) {\n",
       "      }\n",
       "    ];\n",
       "  \n",
       "    function run_inline_js() {\n",
       "      \n",
       "      if ((window.Bokeh !== undefined) || (force === \"1\")) {\n",
       "        for (var i = 0; i < inline_js.length; i++) {\n",
       "          inline_js[i](window.Bokeh);\n",
       "        }if (force === \"1\") {\n",
       "          display_loaded();\n",
       "        }} else if (Date.now() < window._bokeh_timeout) {\n",
       "        setTimeout(run_inline_js, 100);\n",
       "      } else if (!window._bokeh_failed_load) {\n",
       "        console.log(\"Bokeh: BokehJS failed to load within specified timeout.\");\n",
       "        window._bokeh_failed_load = true;\n",
       "      } else if (!force) {\n",
       "        var cell = $(\"#9af165cd-96af-4c6e-a6ce-2dfa24bb8990\").parents('.cell').data().cell;\n",
       "        cell.output_area.append_execute_result(NB_LOAD_WARNING)\n",
       "      }\n",
       "  \n",
       "    }\n",
       "  \n",
       "    if (window._bokeh_is_loading === 0) {\n",
       "      console.log(\"Bokeh: BokehJS loaded, going straight to plotting\");\n",
       "      run_inline_js();\n",
       "    } else {\n",
       "      load_libs(js_urls, function() {\n",
       "        console.log(\"Bokeh: BokehJS plotting callback run at\", now());\n",
       "        run_inline_js();\n",
       "      });\n",
       "    }\n",
       "  }(this));\n",
       "</script>"
      ]
     },
     "metadata": {},
     "output_type": "display_data"
    }
   ],
   "source": [
    "trend = Bar(df, values = 'count', label = 'year', title = 'Graffiti reported to SF311 by year')\n",
    "output_notebook()\n",
    "show(row(trend))"
   ]
  },
  {
   "cell_type": "code",
   "execution_count": 167,
   "metadata": {
    "collapsed": false
   },
   "outputs": [
    {
     "data": {
      "text/html": [
       "<div>\n",
       "<table border=\"1\" class=\"dataframe\">\n",
       "  <thead>\n",
       "    <tr style=\"text-align: right;\">\n",
       "      <th></th>\n",
       "      <th>Source</th>\n",
       "      <th>year</th>\n",
       "      <th>count</th>\n",
       "    </tr>\n",
       "  </thead>\n",
       "  <tbody>\n",
       "    <tr>\n",
       "      <th>21</th>\n",
       "      <td>Web Self Service</td>\n",
       "      <td>2013</td>\n",
       "      <td>11330</td>\n",
       "    </tr>\n",
       "    <tr>\n",
       "      <th>22</th>\n",
       "      <td>Twitter</td>\n",
       "      <td>2013</td>\n",
       "      <td>1512</td>\n",
       "    </tr>\n",
       "    <tr>\n",
       "      <th>23</th>\n",
       "      <td>NaN</td>\n",
       "      <td>2014</td>\n",
       "      <td>5</td>\n",
       "    </tr>\n",
       "    <tr>\n",
       "      <th>24</th>\n",
       "      <td>Open311</td>\n",
       "      <td>2014</td>\n",
       "      <td>19813</td>\n",
       "    </tr>\n",
       "    <tr>\n",
       "      <th>25</th>\n",
       "      <td>Twitter</td>\n",
       "      <td>2014</td>\n",
       "      <td>2227</td>\n",
       "    </tr>\n",
       "    <tr>\n",
       "      <th>26</th>\n",
       "      <td>Web Self Service</td>\n",
       "      <td>2014</td>\n",
       "      <td>11769</td>\n",
       "    </tr>\n",
       "    <tr>\n",
       "      <th>27</th>\n",
       "      <td>Integrated Agency</td>\n",
       "      <td>2014</td>\n",
       "      <td>5493</td>\n",
       "    </tr>\n",
       "    <tr>\n",
       "      <th>28</th>\n",
       "      <td>Voice In</td>\n",
       "      <td>2014</td>\n",
       "      <td>7501</td>\n",
       "    </tr>\n",
       "    <tr>\n",
       "      <th>29</th>\n",
       "      <td>Other Department</td>\n",
       "      <td>2015</td>\n",
       "      <td>6</td>\n",
       "    </tr>\n",
       "    <tr>\n",
       "      <th>30</th>\n",
       "      <td>Open311</td>\n",
       "      <td>2015</td>\n",
       "      <td>38732</td>\n",
       "    </tr>\n",
       "    <tr>\n",
       "      <th>31</th>\n",
       "      <td>Voice In</td>\n",
       "      <td>2015</td>\n",
       "      <td>5636</td>\n",
       "    </tr>\n",
       "    <tr>\n",
       "      <th>32</th>\n",
       "      <td>Twitter</td>\n",
       "      <td>2015</td>\n",
       "      <td>202</td>\n",
       "    </tr>\n",
       "    <tr>\n",
       "      <th>33</th>\n",
       "      <td>Integrated Agency</td>\n",
       "      <td>2015</td>\n",
       "      <td>8530</td>\n",
       "    </tr>\n",
       "    <tr>\n",
       "      <th>34</th>\n",
       "      <td>Web Self Service</td>\n",
       "      <td>2015</td>\n",
       "      <td>4143</td>\n",
       "    </tr>\n",
       "    <tr>\n",
       "      <th>35</th>\n",
       "      <td>Twitter</td>\n",
       "      <td>2016</td>\n",
       "      <td>194</td>\n",
       "    </tr>\n",
       "    <tr>\n",
       "      <th>36</th>\n",
       "      <td>Integrated Agency</td>\n",
       "      <td>2016</td>\n",
       "      <td>7992</td>\n",
       "    </tr>\n",
       "    <tr>\n",
       "      <th>37</th>\n",
       "      <td>Voice In</td>\n",
       "      <td>2016</td>\n",
       "      <td>4390</td>\n",
       "    </tr>\n",
       "    <tr>\n",
       "      <th>38</th>\n",
       "      <td>Web Self Service</td>\n",
       "      <td>2016</td>\n",
       "      <td>4668</td>\n",
       "    </tr>\n",
       "  </tbody>\n",
       "</table>\n",
       "</div>"
      ],
      "text/plain": [
       "               Source  year  count\n",
       "21   Web Self Service  2013  11330\n",
       "22            Twitter  2013   1512\n",
       "23                NaN  2014      5\n",
       "24            Open311  2014  19813\n",
       "25            Twitter  2014   2227\n",
       "26   Web Self Service  2014  11769\n",
       "27  Integrated Agency  2014   5493\n",
       "28           Voice In  2014   7501\n",
       "29   Other Department  2015      6\n",
       "30            Open311  2015  38732\n",
       "31           Voice In  2015   5636\n",
       "32            Twitter  2015    202\n",
       "33  Integrated Agency  2015   8530\n",
       "34   Web Self Service  2015   4143\n",
       "35            Twitter  2016    194\n",
       "36  Integrated Agency  2016   7992\n",
       "37           Voice In  2016   4390\n",
       "38   Web Self Service  2016   4668"
      ]
     },
     "execution_count": 167,
     "metadata": {},
     "output_type": "execute_result"
    }
   ],
   "source": [
    "df = df[3:-1]\n",
    "df"
   ]
  },
  {
   "cell_type": "code",
   "execution_count": 169,
   "metadata": {
    "collapsed": false
   },
   "outputs": [
    {
     "data": {
      "text/plain": [
       "RangeIndex(start=21, stop=39, step=1)"
      ]
     },
     "execution_count": 169,
     "metadata": {},
     "output_type": "execute_result"
    }
   ],
   "source": [
    "df.index"
   ]
  },
  {
   "cell_type": "code",
   "execution_count": 99,
   "metadata": {
    "collapsed": false
   },
   "outputs": [
    {
     "data": {
      "text/html": [
       "\n",
       "\n",
       "    <div class=\"bk-root\">\n",
       "        <div class=\"plotdiv\" id=\"2e81401f-99d7-4126-b59c-f497cc29c455\"></div>\n",
       "    </div>\n",
       "<script type=\"text/javascript\">\n",
       "  \n",
       "  (function(global) {\n",
       "    function now() {\n",
       "      return new Date();\n",
       "    }\n",
       "  \n",
       "    var force = \"\";\n",
       "  \n",
       "    if (typeof (window._bokeh_onload_callbacks) === \"undefined\" || force !== \"\") {\n",
       "      window._bokeh_onload_callbacks = [];\n",
       "      window._bokeh_is_loading = undefined;\n",
       "    }\n",
       "  \n",
       "  \n",
       "    \n",
       "    if (typeof (window._bokeh_timeout) === \"undefined\" || force !== \"\") {\n",
       "      window._bokeh_timeout = Date.now() + 0;\n",
       "      window._bokeh_failed_load = false;\n",
       "    }\n",
       "  \n",
       "    var NB_LOAD_WARNING = {'data': {'text/html':\n",
       "       \"<div style='background-color: #fdd'>\\n\"+\n",
       "       \"<p>\\n\"+\n",
       "       \"BokehJS does not appear to have successfully loaded. If loading BokehJS from CDN, this \\n\"+\n",
       "       \"may be due to a slow or bad network connection. Possible fixes:\\n\"+\n",
       "       \"</p>\\n\"+\n",
       "       \"<ul>\\n\"+\n",
       "       \"<li>re-rerun `output_notebook()` to attempt to load from CDN again, or</li>\\n\"+\n",
       "       \"<li>use INLINE resources instead, as so:</li>\\n\"+\n",
       "       \"</ul>\\n\"+\n",
       "       \"<code>\\n\"+\n",
       "       \"from bokeh.resources import INLINE\\n\"+\n",
       "       \"output_notebook(resources=INLINE)\\n\"+\n",
       "       \"</code>\\n\"+\n",
       "       \"</div>\"}};\n",
       "  \n",
       "    function display_loaded() {\n",
       "      if (window.Bokeh !== undefined) {\n",
       "        Bokeh.$(\"#2e81401f-99d7-4126-b59c-f497cc29c455\").text(\"BokehJS successfully loaded.\");\n",
       "      } else if (Date.now() < window._bokeh_timeout) {\n",
       "        setTimeout(display_loaded, 100)\n",
       "      }\n",
       "    }\n",
       "  \n",
       "    function run_callbacks() {\n",
       "      window._bokeh_onload_callbacks.forEach(function(callback) { callback() });\n",
       "      delete window._bokeh_onload_callbacks\n",
       "      console.info(\"Bokeh: all callbacks have finished\");\n",
       "    }\n",
       "  \n",
       "    function load_libs(js_urls, callback) {\n",
       "      window._bokeh_onload_callbacks.push(callback);\n",
       "      if (window._bokeh_is_loading > 0) {\n",
       "        console.log(\"Bokeh: BokehJS is being loaded, scheduling callback at\", now());\n",
       "        return null;\n",
       "      }\n",
       "      if (js_urls == null || js_urls.length === 0) {\n",
       "        run_callbacks();\n",
       "        return null;\n",
       "      }\n",
       "      console.log(\"Bokeh: BokehJS not loaded, scheduling load and callback at\", now());\n",
       "      window._bokeh_is_loading = js_urls.length;\n",
       "      for (var i = 0; i < js_urls.length; i++) {\n",
       "        var url = js_urls[i];\n",
       "        var s = document.createElement('script');\n",
       "        s.src = url;\n",
       "        s.async = false;\n",
       "        s.onreadystatechange = s.onload = function() {\n",
       "          window._bokeh_is_loading--;\n",
       "          if (window._bokeh_is_loading === 0) {\n",
       "            console.log(\"Bokeh: all BokehJS libraries loaded\");\n",
       "            run_callbacks()\n",
       "          }\n",
       "        };\n",
       "        s.onerror = function() {\n",
       "          console.warn(\"failed to load library \" + url);\n",
       "        };\n",
       "        console.log(\"Bokeh: injecting script tag for BokehJS library: \", url);\n",
       "        document.getElementsByTagName(\"head\")[0].appendChild(s);\n",
       "      }\n",
       "    };var element = document.getElementById(\"2e81401f-99d7-4126-b59c-f497cc29c455\");\n",
       "    if (element == null) {\n",
       "      console.log(\"Bokeh: ERROR: autoload.js configured with elementid '2e81401f-99d7-4126-b59c-f497cc29c455' but no matching script tag was found. \")\n",
       "      return false;\n",
       "    }\n",
       "  \n",
       "    var js_urls = [];\n",
       "  \n",
       "    var inline_js = [\n",
       "      function(Bokeh) {\n",
       "        Bokeh.$(function() {\n",
       "            var docs_json = {\"3ab9c43c-f5a9-47eb-a5ab-4168659abf7d\":{\"roots\":{\"references\":[{\"attributes\":{\"plot\":{\"id\":\"80fa30a9-6445-4957-b706-f1e03be04952\",\"subtype\":\"Chart\",\"type\":\"Plot\"}},\"id\":\"c85fa418-2e83-4f2b-a04f-8d36da6193be\",\"type\":\"HelpTool\"},{\"attributes\":{\"items\":[{\"id\":\"7e0edab5-1ec1-492a-a6cc-64e36f1ebf8f\",\"type\":\"LegendItem\"},{\"id\":\"71c26597-fb3e-4f47-9d1a-9347a54ad94e\",\"type\":\"LegendItem\"},{\"id\":\"2d8a6158-020c-445a-adef-205155654406\",\"type\":\"LegendItem\"},{\"id\":\"6cb05cbb-c697-488c-906f-eac058f635c8\",\"type\":\"LegendItem\"}],\"location\":\"top_left\",\"plot\":{\"id\":\"80fa30a9-6445-4957-b706-f1e03be04952\",\"subtype\":\"Chart\",\"type\":\"Plot\"}},\"id\":\"ba6699bd-4b85-4240-8715-ad0467b12ddd\",\"type\":\"Legend\"},{\"attributes\":{\"callback\":null,\"column_names\":[\"height\",\"x\",\"width\",\"line_color\",\"label\",\"y\",\"line_alpha\",\"fill_alpha\",\"color\"],\"data\":{\"chart_index\":[{\"year\":\"2014\"}],\"color\":[\"#f22c40\"],\"fill_alpha\":[0.8],\"height\":[46808.0],\"label\":[{\"year\":\"2014\"}],\"line_alpha\":[1.0],\"line_color\":[\"white\"],\"width\":[0.8],\"x\":[\"2014\"],\"y\":[23404.0],\"year\":[\"2014\"]}},\"id\":\"398510b6-5312-46b8-bb0e-a1cde355329d\",\"type\":\"ColumnDataSource\"},{\"attributes\":{\"callback\":null,\"column_names\":[\"height\",\"x\",\"width\",\"line_color\",\"label\",\"y\",\"line_alpha\",\"fill_alpha\",\"color\"],\"data\":{\"chart_index\":[{\"year\":\"2012\"}],\"color\":[\"#f22c40\"],\"fill_alpha\":[0.8],\"height\":[26254.0],\"label\":[{\"year\":\"2012\"}],\"line_alpha\":[1.0],\"line_color\":[\"white\"],\"width\":[0.8],\"x\":[\"2012\"],\"y\":[13127.0],\"year\":[\"2012\"]}},\"id\":\"aefcedfe-ea39-4ef5-b7c7-c52fb4e32c55\",\"type\":\"ColumnDataSource\"},{\"attributes\":{\"data_source\":{\"id\":\"aefcedfe-ea39-4ef5-b7c7-c52fb4e32c55\",\"type\":\"ColumnDataSource\"},\"glyph\":{\"id\":\"e5a350d1-5896-4afb-9dc9-2c04924413e4\",\"type\":\"Rect\"},\"hover_glyph\":null,\"nonselection_glyph\":null,\"selection_glyph\":null},\"id\":\"aac6deee-fa42-4be4-a06f-1ef663ef2cbe\",\"type\":\"GlyphRenderer\"},{\"attributes\":{},\"id\":\"5e56ae4b-943b-40bc-abf8-9152ffc84a56\",\"type\":\"ToolEvents\"},{\"attributes\":{\"plot\":{\"id\":\"80fa30a9-6445-4957-b706-f1e03be04952\",\"subtype\":\"Chart\",\"type\":\"Plot\"}},\"id\":\"217b46ad-e455-496c-9bcb-136fafa4192d\",\"type\":\"SaveTool\"},{\"attributes\":{\"callback\":null,\"column_names\":[\"height\",\"x\",\"width\",\"line_color\",\"label\",\"y\",\"line_alpha\",\"fill_alpha\",\"color\"],\"data\":{\"chart_index\":[{\"year\":\"2015\"}],\"color\":[\"#f22c40\"],\"fill_alpha\":[0.8],\"height\":[57249.0],\"label\":[{\"year\":\"2015\"}],\"line_alpha\":[1.0],\"line_color\":[\"white\"],\"width\":[0.8],\"x\":[\"2015\"],\"y\":[28624.5],\"year\":[\"2015\"]}},\"id\":\"99434c85-782b-4fd5-b587-12b7db12fbee\",\"type\":\"ColumnDataSource\"},{\"attributes\":{\"plot\":{\"id\":\"80fa30a9-6445-4957-b706-f1e03be04952\",\"subtype\":\"Chart\",\"type\":\"Plot\"}},\"id\":\"67c96f12-1ab1-43ff-9df1-0cdc57862e68\",\"type\":\"WheelZoomTool\"},{\"attributes\":{},\"id\":\"75f118ed-63c5-4ccb-9497-f9f273bf0c65\",\"type\":\"CategoricalTicker\"},{\"attributes\":{\"axis_label\":\"Sum( Count )\",\"formatter\":{\"id\":\"db1b53b5-7403-4dfe-8a92-131758069089\",\"type\":\"BasicTickFormatter\"},\"plot\":{\"id\":\"80fa30a9-6445-4957-b706-f1e03be04952\",\"subtype\":\"Chart\",\"type\":\"Plot\"},\"ticker\":{\"id\":\"16f04438-0f66-4e69-b46e-a86a37de5e17\",\"type\":\"BasicTicker\"}},\"id\":\"27f3d38c-0a4e-43f8-9986-30c234643018\",\"type\":\"LinearAxis\"},{\"attributes\":{},\"id\":\"f7193656-b39b-4dc4-a3c5-e95064073c71\",\"type\":\"CategoricalTickFormatter\"},{\"attributes\":{\"label\":{\"value\":\"2013\"},\"renderers\":[{\"id\":\"bda03234-c2c6-4d21-a4a5-1430bf50d033\",\"type\":\"GlyphRenderer\"}]},\"id\":\"71c26597-fb3e-4f47-9d1a-9347a54ad94e\",\"type\":\"LegendItem\"},{\"attributes\":{\"active_drag\":\"auto\",\"active_scroll\":\"auto\",\"active_tap\":\"auto\",\"tools\":[{\"id\":\"dc685d99-faa3-45c9-b841-e2709ab5c43d\",\"type\":\"PanTool\"},{\"id\":\"67c96f12-1ab1-43ff-9df1-0cdc57862e68\",\"type\":\"WheelZoomTool\"},{\"id\":\"43b9cf52-9f6a-4866-8102-9d1e389c87d9\",\"type\":\"BoxZoomTool\"},{\"id\":\"217b46ad-e455-496c-9bcb-136fafa4192d\",\"type\":\"SaveTool\"},{\"id\":\"24222ae9-6d3d-4eaf-b80c-23dd0866d5db\",\"type\":\"ResetTool\"},{\"id\":\"c85fa418-2e83-4f2b-a04f-8d36da6193be\",\"type\":\"HelpTool\"}]},\"id\":\"ab37e020-8019-4b09-adce-44159042c7d8\",\"type\":\"Toolbar\"},{\"attributes\":{\"plot\":{\"id\":\"80fa30a9-6445-4957-b706-f1e03be04952\",\"subtype\":\"Chart\",\"type\":\"Plot\"}},\"id\":\"24222ae9-6d3d-4eaf-b80c-23dd0866d5db\",\"type\":\"ResetTool\"},{\"attributes\":{\"bottom_units\":\"screen\",\"fill_alpha\":{\"value\":0.5},\"fill_color\":{\"value\":\"lightgrey\"},\"left_units\":\"screen\",\"level\":\"overlay\",\"line_alpha\":{\"value\":1.0},\"line_color\":{\"value\":\"black\"},\"line_dash\":[4,4],\"line_width\":{\"value\":2},\"plot\":null,\"render_mode\":\"css\",\"right_units\":\"screen\",\"top_units\":\"screen\"},\"id\":\"cadd3ca9-d4ed-486f-8f24-4a7aaba4ec5e\",\"type\":\"BoxAnnotation\"},{\"attributes\":{\"overlay\":{\"id\":\"cadd3ca9-d4ed-486f-8f24-4a7aaba4ec5e\",\"type\":\"BoxAnnotation\"},\"plot\":{\"id\":\"80fa30a9-6445-4957-b706-f1e03be04952\",\"subtype\":\"Chart\",\"type\":\"Plot\"}},\"id\":\"43b9cf52-9f6a-4866-8102-9d1e389c87d9\",\"type\":\"BoxZoomTool\"},{\"attributes\":{\"fill_alpha\":{\"field\":\"fill_alpha\"},\"fill_color\":{\"field\":\"color\"},\"height\":{\"field\":\"height\",\"units\":\"data\"},\"line_color\":{\"field\":\"line_color\"},\"width\":{\"field\":\"width\",\"units\":\"data\"},\"x\":{\"field\":\"x\"},\"y\":{\"field\":\"y\"}},\"id\":\"a994a780-7909-42ac-81c4-fe4b195423d1\",\"type\":\"Rect\"},{\"attributes\":{\"data_source\":{\"id\":\"88bd2fe3-bdab-4ecc-a86a-826db2ba73d2\",\"type\":\"ColumnDataSource\"},\"glyph\":{\"id\":\"9ffca325-adeb-48c2-ba6f-d6412e7c54de\",\"type\":\"Rect\"},\"hover_glyph\":null,\"nonselection_glyph\":null,\"selection_glyph\":null},\"id\":\"bda03234-c2c6-4d21-a4a5-1430bf50d033\",\"type\":\"GlyphRenderer\"},{\"attributes\":{\"fill_alpha\":{\"field\":\"fill_alpha\"},\"fill_color\":{\"field\":\"color\"},\"height\":{\"field\":\"height\",\"units\":\"data\"},\"line_color\":{\"field\":\"line_color\"},\"width\":{\"field\":\"width\",\"units\":\"data\"},\"x\":{\"field\":\"x\"},\"y\":{\"field\":\"y\"}},\"id\":\"e5a350d1-5896-4afb-9dc9-2c04924413e4\",\"type\":\"Rect\"},{\"attributes\":{},\"id\":\"db1b53b5-7403-4dfe-8a92-131758069089\",\"type\":\"BasicTickFormatter\"},{\"attributes\":{},\"id\":\"16f04438-0f66-4e69-b46e-a86a37de5e17\",\"type\":\"BasicTicker\"},{\"attributes\":{\"callback\":null,\"column_names\":[\"height\",\"x\",\"width\",\"line_color\",\"label\",\"y\",\"line_alpha\",\"fill_alpha\",\"color\"],\"data\":{\"chart_index\":[{\"year\":\"2013\"}],\"color\":[\"#f22c40\"],\"fill_alpha\":[0.8],\"height\":[35831.0],\"label\":[{\"year\":\"2013\"}],\"line_alpha\":[1.0],\"line_color\":[\"white\"],\"width\":[0.8],\"x\":[\"2013\"],\"y\":[17915.5],\"year\":[\"2013\"]}},\"id\":\"88bd2fe3-bdab-4ecc-a86a-826db2ba73d2\",\"type\":\"ColumnDataSource\"},{\"attributes\":{\"label\":{\"value\":\"2015\"},\"renderers\":[{\"id\":\"3e88f8ad-7ace-4439-a168-74a6c9a8dc0b\",\"type\":\"GlyphRenderer\"}]},\"id\":\"6cb05cbb-c697-488c-906f-eac058f635c8\",\"type\":\"LegendItem\"},{\"attributes\":{\"data_source\":{\"id\":\"398510b6-5312-46b8-bb0e-a1cde355329d\",\"type\":\"ColumnDataSource\"},\"glyph\":{\"id\":\"a994a780-7909-42ac-81c4-fe4b195423d1\",\"type\":\"Rect\"},\"hover_glyph\":null,\"nonselection_glyph\":null,\"selection_glyph\":null},\"id\":\"5d1883a3-70ae-45d0-8aa1-76de68b29be8\",\"type\":\"GlyphRenderer\"},{\"attributes\":{\"dimension\":1,\"plot\":{\"id\":\"80fa30a9-6445-4957-b706-f1e03be04952\",\"subtype\":\"Chart\",\"type\":\"Plot\"},\"ticker\":{\"id\":\"16f04438-0f66-4e69-b46e-a86a37de5e17\",\"type\":\"BasicTicker\"}},\"id\":\"341e8b7e-022b-49fd-8999-41bfdf6da105\",\"type\":\"Grid\"},{\"attributes\":{\"axis_label\":\"Year\",\"formatter\":{\"id\":\"f7193656-b39b-4dc4-a3c5-e95064073c71\",\"type\":\"CategoricalTickFormatter\"},\"major_label_orientation\":0.7853981633974483,\"plot\":{\"id\":\"80fa30a9-6445-4957-b706-f1e03be04952\",\"subtype\":\"Chart\",\"type\":\"Plot\"},\"ticker\":{\"id\":\"75f118ed-63c5-4ccb-9497-f9f273bf0c65\",\"type\":\"CategoricalTicker\"}},\"id\":\"260b14d5-cd87-48c5-b7b8-78a3f01768db\",\"type\":\"CategoricalAxis\"},{\"attributes\":{\"fill_alpha\":{\"field\":\"fill_alpha\"},\"fill_color\":{\"field\":\"color\"},\"height\":{\"field\":\"height\",\"units\":\"data\"},\"line_color\":{\"field\":\"line_color\"},\"width\":{\"field\":\"width\",\"units\":\"data\"},\"x\":{\"field\":\"x\"},\"y\":{\"field\":\"y\"}},\"id\":\"9ffca325-adeb-48c2-ba6f-d6412e7c54de\",\"type\":\"Rect\"},{\"attributes\":{\"plot\":null,\"text\":null},\"id\":\"edfd5c94-8069-4f9b-bb5a-971f82ec3130\",\"type\":\"Title\"},{\"attributes\":{\"children\":[{\"id\":\"80fa30a9-6445-4957-b706-f1e03be04952\",\"subtype\":\"Chart\",\"type\":\"Plot\"}]},\"id\":\"89b22293-4411-4857-aef7-0ce7d9be9a21\",\"type\":\"Row\"},{\"attributes\":{\"data_source\":{\"id\":\"99434c85-782b-4fd5-b587-12b7db12fbee\",\"type\":\"ColumnDataSource\"},\"glyph\":{\"id\":\"c90a2d78-5aaf-4ac2-b463-428e14458e87\",\"type\":\"Rect\"},\"hover_glyph\":null,\"nonselection_glyph\":null,\"selection_glyph\":null},\"id\":\"3e88f8ad-7ace-4439-a168-74a6c9a8dc0b\",\"type\":\"GlyphRenderer\"},{\"attributes\":{\"below\":[{\"id\":\"260b14d5-cd87-48c5-b7b8-78a3f01768db\",\"type\":\"CategoricalAxis\"}],\"left\":[{\"id\":\"27f3d38c-0a4e-43f8-9986-30c234643018\",\"type\":\"LinearAxis\"}],\"renderers\":[{\"id\":\"cadd3ca9-d4ed-486f-8f24-4a7aaba4ec5e\",\"type\":\"BoxAnnotation\"},{\"id\":\"aac6deee-fa42-4be4-a06f-1ef663ef2cbe\",\"type\":\"GlyphRenderer\"},{\"id\":\"bda03234-c2c6-4d21-a4a5-1430bf50d033\",\"type\":\"GlyphRenderer\"},{\"id\":\"5d1883a3-70ae-45d0-8aa1-76de68b29be8\",\"type\":\"GlyphRenderer\"},{\"id\":\"3e88f8ad-7ace-4439-a168-74a6c9a8dc0b\",\"type\":\"GlyphRenderer\"},{\"id\":\"ba6699bd-4b85-4240-8715-ad0467b12ddd\",\"type\":\"Legend\"},{\"id\":\"260b14d5-cd87-48c5-b7b8-78a3f01768db\",\"type\":\"CategoricalAxis\"},{\"id\":\"27f3d38c-0a4e-43f8-9986-30c234643018\",\"type\":\"LinearAxis\"},{\"id\":\"341e8b7e-022b-49fd-8999-41bfdf6da105\",\"type\":\"Grid\"}],\"title\":{\"id\":\"edfd5c94-8069-4f9b-bb5a-971f82ec3130\",\"type\":\"Title\"},\"tool_events\":{\"id\":\"5e56ae4b-943b-40bc-abf8-9152ffc84a56\",\"type\":\"ToolEvents\"},\"toolbar\":{\"id\":\"ab37e020-8019-4b09-adce-44159042c7d8\",\"type\":\"Toolbar\"},\"x_mapper_type\":\"auto\",\"x_range\":{\"id\":\"80c5f650-579d-401f-b0ef-e119cc2ce7b1\",\"type\":\"FactorRange\"},\"y_mapper_type\":\"auto\",\"y_range\":{\"id\":\"0d0d96dc-1c41-4a48-9dbe-1a4aeeebb5f3\",\"type\":\"Range1d\"}},\"id\":\"80fa30a9-6445-4957-b706-f1e03be04952\",\"subtype\":\"Chart\",\"type\":\"Plot\"},{\"attributes\":{\"fill_alpha\":{\"field\":\"fill_alpha\"},\"fill_color\":{\"field\":\"color\"},\"height\":{\"field\":\"height\",\"units\":\"data\"},\"line_color\":{\"field\":\"line_color\"},\"width\":{\"field\":\"width\",\"units\":\"data\"},\"x\":{\"field\":\"x\"},\"y\":{\"field\":\"y\"}},\"id\":\"c90a2d78-5aaf-4ac2-b463-428e14458e87\",\"type\":\"Rect\"},{\"attributes\":{\"plot\":{\"id\":\"80fa30a9-6445-4957-b706-f1e03be04952\",\"subtype\":\"Chart\",\"type\":\"Plot\"}},\"id\":\"dc685d99-faa3-45c9-b841-e2709ab5c43d\",\"type\":\"PanTool\"},{\"attributes\":{\"label\":{\"value\":\"2014\"},\"renderers\":[{\"id\":\"5d1883a3-70ae-45d0-8aa1-76de68b29be8\",\"type\":\"GlyphRenderer\"}]},\"id\":\"2d8a6158-020c-445a-adef-205155654406\",\"type\":\"LegendItem\"},{\"attributes\":{\"label\":{\"value\":\"2012\"},\"renderers\":[{\"id\":\"aac6deee-fa42-4be4-a06f-1ef663ef2cbe\",\"type\":\"GlyphRenderer\"}]},\"id\":\"7e0edab5-1ec1-492a-a6cc-64e36f1ebf8f\",\"type\":\"LegendItem\"},{\"attributes\":{\"callback\":null,\"end\":60111.45},\"id\":\"0d0d96dc-1c41-4a48-9dbe-1a4aeeebb5f3\",\"type\":\"Range1d\"},{\"attributes\":{\"callback\":null,\"factors\":[\"2012\",\"2013\",\"2014\",\"2015\"]},\"id\":\"80c5f650-579d-401f-b0ef-e119cc2ce7b1\",\"type\":\"FactorRange\"}],\"root_ids\":[\"89b22293-4411-4857-aef7-0ce7d9be9a21\"]},\"title\":\"Bokeh Application\",\"version\":\"0.12.3\"}};\n",
       "            var render_items = [{\"docid\":\"3ab9c43c-f5a9-47eb-a5ab-4168659abf7d\",\"elementid\":\"2e81401f-99d7-4126-b59c-f497cc29c455\",\"modelid\":\"89b22293-4411-4857-aef7-0ce7d9be9a21\"}];\n",
       "            \n",
       "            Bokeh.embed.embed_items(docs_json, render_items);\n",
       "        });\n",
       "      },\n",
       "      function(Bokeh) {\n",
       "      }\n",
       "    ];\n",
       "  \n",
       "    function run_inline_js() {\n",
       "      \n",
       "      if ((window.Bokeh !== undefined) || (force === \"1\")) {\n",
       "        for (var i = 0; i < inline_js.length; i++) {\n",
       "          inline_js[i](window.Bokeh);\n",
       "        }if (force === \"1\") {\n",
       "          display_loaded();\n",
       "        }} else if (Date.now() < window._bokeh_timeout) {\n",
       "        setTimeout(run_inline_js, 100);\n",
       "      } else if (!window._bokeh_failed_load) {\n",
       "        console.log(\"Bokeh: BokehJS failed to load within specified timeout.\");\n",
       "        window._bokeh_failed_load = true;\n",
       "      } else if (!force) {\n",
       "        var cell = $(\"#2e81401f-99d7-4126-b59c-f497cc29c455\").parents('.cell').data().cell;\n",
       "        cell.output_area.append_execute_result(NB_LOAD_WARNING)\n",
       "      }\n",
       "  \n",
       "    }\n",
       "  \n",
       "    if (window._bokeh_is_loading === 0) {\n",
       "      console.log(\"Bokeh: BokehJS loaded, going straight to plotting\");\n",
       "      run_inline_js();\n",
       "    } else {\n",
       "      load_libs(js_urls, function() {\n",
       "        console.log(\"Bokeh: BokehJS plotting callback run at\", now());\n",
       "        run_inline_js();\n",
       "      });\n",
       "    }\n",
       "  }(this));\n",
       "</script>"
      ]
     },
     "metadata": {},
     "output_type": "display_data"
    }
   ],
   "source": [
    "trend = Bar(df, values = 'count', label = 'year')\n",
    "show(row(trend))"
   ]
  },
  {
   "cell_type": "markdown",
   "metadata": {
    "collapsed": true
   },
   "source": [
    "# Analysis by Source, grab new dataframe by constructing SQL query to API"
   ]
  },
  {
   "cell_type": "code",
   "execution_count": 221,
   "metadata": {
    "collapsed": true
   },
   "outputs": [],
   "source": [
    "url = 'https://data.sfgov.org/resource/qer8-n8u9.csv?$select=source,date_trunc_y(opened)as%20year,%20count(*)&$order=year&$group=year,source'"
   ]
  },
  {
   "cell_type": "code",
   "execution_count": 222,
   "metadata": {
    "collapsed": false
   },
   "outputs": [
    {
     "name": "stdout",
     "output_type": "stream",
     "text": [
      "https://data.sfgov.org/resource/qer8-n8u9.csv?$select=source,date_trunc_y(opened)as%20year,%20count(*)&$order=year&$group=year,source\n"
     ]
    }
   ],
   "source": [
    "print(url)"
   ]
  },
  {
   "cell_type": "code",
   "execution_count": 223,
   "metadata": {
    "collapsed": false
   },
   "outputs": [
    {
     "name": "stderr",
     "output_type": "stream",
     "text": [
      "/home/gdillon/.local/lib/python3.5/site-packages/ipykernel/__main__.py:3: FutureWarning: currently extract(expand=None) means expand=False (return Index/Series/DataFrame) but in a future version of pandas this will be changed to expand=True (return DataFrame)\n",
      "  app.launch_new_instance()\n"
     ]
    },
    {
     "data": {
      "text/html": [
       "<div>\n",
       "<table border=\"1\" class=\"dataframe\">\n",
       "  <thead>\n",
       "    <tr style=\"text-align: right;\">\n",
       "      <th></th>\n",
       "      <th>Source</th>\n",
       "      <th>year</th>\n",
       "      <th>count</th>\n",
       "    </tr>\n",
       "  </thead>\n",
       "  <tbody>\n",
       "    <tr>\n",
       "      <th>18</th>\n",
       "      <td>Open311</td>\n",
       "      <td>2013</td>\n",
       "      <td>4030</td>\n",
       "    </tr>\n",
       "    <tr>\n",
       "      <th>19</th>\n",
       "      <td>Integrated Agency</td>\n",
       "      <td>2013</td>\n",
       "      <td>9666</td>\n",
       "    </tr>\n",
       "    <tr>\n",
       "      <th>20</th>\n",
       "      <td>Voice In</td>\n",
       "      <td>2013</td>\n",
       "      <td>9293</td>\n",
       "    </tr>\n",
       "    <tr>\n",
       "      <th>21</th>\n",
       "      <td>Web Self Service</td>\n",
       "      <td>2013</td>\n",
       "      <td>11330</td>\n",
       "    </tr>\n",
       "    <tr>\n",
       "      <th>22</th>\n",
       "      <td>Twitter</td>\n",
       "      <td>2013</td>\n",
       "      <td>1512</td>\n",
       "    </tr>\n",
       "    <tr>\n",
       "      <th>23</th>\n",
       "      <td>NaN</td>\n",
       "      <td>2014</td>\n",
       "      <td>5</td>\n",
       "    </tr>\n",
       "    <tr>\n",
       "      <th>24</th>\n",
       "      <td>Open311</td>\n",
       "      <td>2014</td>\n",
       "      <td>19813</td>\n",
       "    </tr>\n",
       "    <tr>\n",
       "      <th>25</th>\n",
       "      <td>Twitter</td>\n",
       "      <td>2014</td>\n",
       "      <td>2227</td>\n",
       "    </tr>\n",
       "    <tr>\n",
       "      <th>26</th>\n",
       "      <td>Web Self Service</td>\n",
       "      <td>2014</td>\n",
       "      <td>11769</td>\n",
       "    </tr>\n",
       "    <tr>\n",
       "      <th>27</th>\n",
       "      <td>Integrated Agency</td>\n",
       "      <td>2014</td>\n",
       "      <td>5493</td>\n",
       "    </tr>\n",
       "    <tr>\n",
       "      <th>28</th>\n",
       "      <td>Voice In</td>\n",
       "      <td>2014</td>\n",
       "      <td>7501</td>\n",
       "    </tr>\n",
       "    <tr>\n",
       "      <th>29</th>\n",
       "      <td>Other Department</td>\n",
       "      <td>2015</td>\n",
       "      <td>6</td>\n",
       "    </tr>\n",
       "    <tr>\n",
       "      <th>30</th>\n",
       "      <td>Open311</td>\n",
       "      <td>2015</td>\n",
       "      <td>38732</td>\n",
       "    </tr>\n",
       "    <tr>\n",
       "      <th>31</th>\n",
       "      <td>Voice In</td>\n",
       "      <td>2015</td>\n",
       "      <td>5636</td>\n",
       "    </tr>\n",
       "    <tr>\n",
       "      <th>32</th>\n",
       "      <td>Twitter</td>\n",
       "      <td>2015</td>\n",
       "      <td>202</td>\n",
       "    </tr>\n",
       "    <tr>\n",
       "      <th>33</th>\n",
       "      <td>Integrated Agency</td>\n",
       "      <td>2015</td>\n",
       "      <td>8530</td>\n",
       "    </tr>\n",
       "    <tr>\n",
       "      <th>34</th>\n",
       "      <td>Web Self Service</td>\n",
       "      <td>2015</td>\n",
       "      <td>4143</td>\n",
       "    </tr>\n",
       "    <tr>\n",
       "      <th>35</th>\n",
       "      <td>Twitter</td>\n",
       "      <td>2016</td>\n",
       "      <td>194</td>\n",
       "    </tr>\n",
       "    <tr>\n",
       "      <th>36</th>\n",
       "      <td>Integrated Agency</td>\n",
       "      <td>2016</td>\n",
       "      <td>7992</td>\n",
       "    </tr>\n",
       "    <tr>\n",
       "      <th>37</th>\n",
       "      <td>Voice In</td>\n",
       "      <td>2016</td>\n",
       "      <td>4390</td>\n",
       "    </tr>\n",
       "    <tr>\n",
       "      <th>38</th>\n",
       "      <td>Web Self Service</td>\n",
       "      <td>2016</td>\n",
       "      <td>4668</td>\n",
       "    </tr>\n",
       "    <tr>\n",
       "      <th>39</th>\n",
       "      <td>Open311</td>\n",
       "      <td>2016</td>\n",
       "      <td>55148</td>\n",
       "    </tr>\n",
       "  </tbody>\n",
       "</table>\n",
       "</div>"
      ],
      "text/plain": [
       "               Source  year  count\n",
       "18            Open311  2013   4030\n",
       "19  Integrated Agency  2013   9666\n",
       "20           Voice In  2013   9293\n",
       "21   Web Self Service  2013  11330\n",
       "22            Twitter  2013   1512\n",
       "23                NaN  2014      5\n",
       "24            Open311  2014  19813\n",
       "25            Twitter  2014   2227\n",
       "26   Web Self Service  2014  11769\n",
       "27  Integrated Agency  2014   5493\n",
       "28           Voice In  2014   7501\n",
       "29   Other Department  2015      6\n",
       "30            Open311  2015  38732\n",
       "31           Voice In  2015   5636\n",
       "32            Twitter  2015    202\n",
       "33  Integrated Agency  2015   8530\n",
       "34   Web Self Service  2015   4143\n",
       "35            Twitter  2016    194\n",
       "36  Integrated Agency  2016   7992\n",
       "37           Voice In  2016   4390\n",
       "38   Web Self Service  2016   4668\n",
       "39            Open311  2016  55148"
      ]
     },
     "execution_count": 223,
     "metadata": {},
     "output_type": "execute_result"
    }
   ],
   "source": [
    "df=pd.read_csv(url)\n",
    "df=df[18:]\n",
    "df['year']=df['year'].str.extract('(?P<year>\\d{4})').astype(str)\n",
    "df['count']=df['count'].astype(int)\n",
    "df=df[:-1]\n",
    "#df.head(3)\n",
    "df"
   ]
  },
  {
   "cell_type": "code",
   "execution_count": 224,
   "metadata": {
    "collapsed": false
   },
   "outputs": [
    {
     "data": {
      "text/html": [
       "<div>\n",
       "<table border=\"1\" class=\"dataframe\">\n",
       "  <thead>\n",
       "    <tr style=\"text-align: right;\">\n",
       "      <th>Source</th>\n",
       "      <th>Integrated Agency</th>\n",
       "      <th>Open311</th>\n",
       "      <th>Other Department</th>\n",
       "      <th>Twitter</th>\n",
       "      <th>Voice In</th>\n",
       "      <th>Web Self Service</th>\n",
       "    </tr>\n",
       "    <tr>\n",
       "      <th>year</th>\n",
       "      <th></th>\n",
       "      <th></th>\n",
       "      <th></th>\n",
       "      <th></th>\n",
       "      <th></th>\n",
       "      <th></th>\n",
       "    </tr>\n",
       "  </thead>\n",
       "  <tbody>\n",
       "    <tr>\n",
       "      <th>2013</th>\n",
       "      <td>9666.0</td>\n",
       "      <td>4030.0</td>\n",
       "      <td>NaN</td>\n",
       "      <td>1512.0</td>\n",
       "      <td>9293.0</td>\n",
       "      <td>11330.0</td>\n",
       "    </tr>\n",
       "    <tr>\n",
       "      <th>2014</th>\n",
       "      <td>5493.0</td>\n",
       "      <td>19813.0</td>\n",
       "      <td>NaN</td>\n",
       "      <td>2227.0</td>\n",
       "      <td>7501.0</td>\n",
       "      <td>11769.0</td>\n",
       "    </tr>\n",
       "    <tr>\n",
       "      <th>2015</th>\n",
       "      <td>8530.0</td>\n",
       "      <td>38732.0</td>\n",
       "      <td>6.0</td>\n",
       "      <td>202.0</td>\n",
       "      <td>5636.0</td>\n",
       "      <td>4143.0</td>\n",
       "    </tr>\n",
       "    <tr>\n",
       "      <th>2016</th>\n",
       "      <td>7992.0</td>\n",
       "      <td>55148.0</td>\n",
       "      <td>NaN</td>\n",
       "      <td>194.0</td>\n",
       "      <td>4390.0</td>\n",
       "      <td>4668.0</td>\n",
       "    </tr>\n",
       "  </tbody>\n",
       "</table>\n",
       "</div>"
      ],
      "text/plain": [
       "Source  Integrated Agency  Open311  Other Department  Twitter  Voice In  \\\n",
       "year                                                                      \n",
       "2013               9666.0   4030.0               NaN   1512.0    9293.0   \n",
       "2014               5493.0  19813.0               NaN   2227.0    7501.0   \n",
       "2015               8530.0  38732.0               6.0    202.0    5636.0   \n",
       "2016               7992.0  55148.0               NaN    194.0    4390.0   \n",
       "\n",
       "Source  Web Self Service  \n",
       "year                      \n",
       "2013             11330.0  \n",
       "2014             11769.0  \n",
       "2015              4143.0  \n",
       "2016              4668.0  "
      ]
     },
     "execution_count": 224,
     "metadata": {},
     "output_type": "execute_result"
    }
   ],
   "source": [
    "df2 =pd.pivot_table(\n",
    "  df,values='count',\n",
    "  index=['year'], \n",
    "  columns=['Source'],\n",
    "  aggfunc=np.sum) \n",
    "df2"
   ]
  },
  {
   "cell_type": "code",
   "execution_count": 225,
   "metadata": {
    "collapsed": false
   },
   "outputs": [
    {
     "data": {
      "text/html": [
       "<div>\n",
       "<table border=\"1\" class=\"dataframe\">\n",
       "  <thead>\n",
       "    <tr style=\"text-align: right;\">\n",
       "      <th>Source</th>\n",
       "      <th>Integrated Agency</th>\n",
       "      <th>Open311</th>\n",
       "      <th>Twitter</th>\n",
       "      <th>Voice In</th>\n",
       "      <th>Web Self Service</th>\n",
       "    </tr>\n",
       "    <tr>\n",
       "      <th>year</th>\n",
       "      <th></th>\n",
       "      <th></th>\n",
       "      <th></th>\n",
       "      <th></th>\n",
       "      <th></th>\n",
       "    </tr>\n",
       "  </thead>\n",
       "  <tbody>\n",
       "    <tr>\n",
       "      <th>2013</th>\n",
       "      <td>9666.0</td>\n",
       "      <td>4030.0</td>\n",
       "      <td>1512.0</td>\n",
       "      <td>9293.0</td>\n",
       "      <td>11330.0</td>\n",
       "    </tr>\n",
       "    <tr>\n",
       "      <th>2014</th>\n",
       "      <td>5493.0</td>\n",
       "      <td>19813.0</td>\n",
       "      <td>2227.0</td>\n",
       "      <td>7501.0</td>\n",
       "      <td>11769.0</td>\n",
       "    </tr>\n",
       "    <tr>\n",
       "      <th>2015</th>\n",
       "      <td>8530.0</td>\n",
       "      <td>38732.0</td>\n",
       "      <td>202.0</td>\n",
       "      <td>5636.0</td>\n",
       "      <td>4143.0</td>\n",
       "    </tr>\n",
       "    <tr>\n",
       "      <th>2016</th>\n",
       "      <td>7992.0</td>\n",
       "      <td>55148.0</td>\n",
       "      <td>194.0</td>\n",
       "      <td>4390.0</td>\n",
       "      <td>4668.0</td>\n",
       "    </tr>\n",
       "  </tbody>\n",
       "</table>\n",
       "</div>"
      ],
      "text/plain": [
       "Source  Integrated Agency  Open311  Twitter  Voice In  Web Self Service\n",
       "year                                                                   \n",
       "2013               9666.0   4030.0   1512.0    9293.0           11330.0\n",
       "2014               5493.0  19813.0   2227.0    7501.0           11769.0\n",
       "2015               8530.0  38732.0    202.0    5636.0            4143.0\n",
       "2016               7992.0  55148.0    194.0    4390.0            4668.0"
      ]
     },
     "execution_count": 225,
     "metadata": {},
     "output_type": "execute_result"
    }
   ],
   "source": [
    "\n",
    "df2.drop(df2.columns[[2]], axis=1, inplace=True)\n",
    "df2"
   ]
  },
  {
   "cell_type": "code",
   "execution_count": 226,
   "metadata": {
    "collapsed": false
   },
   "outputs": [
    {
     "data": {
      "text/plain": [
       "Index(['2013', '2014', '2015', '2016'], dtype='object', name='year')"
      ]
     },
     "execution_count": 226,
     "metadata": {},
     "output_type": "execute_result"
    }
   ],
   "source": [
    "df2.index"
   ]
  },
  {
   "cell_type": "markdown",
   "metadata": {},
   "source": [
    "example code from stackoverflow http://stackoverflow.com/questions/31520951/plotting-multiple-lines-with-bokeh-and-pandas"
   ]
  },
  {
   "cell_type": "code",
   "execution_count": 228,
   "metadata": {
    "collapsed": false
   },
   "outputs": [
    {
     "name": "stderr",
     "output_type": "stream",
     "text": [
      "INFO:bokeh.core.state:Session output file 'line.html' already exists, will be overwritten.\n"
     ]
    },
    {
     "data": {
      "text/html": [
       "\n",
       "\n",
       "    <div class=\"bk-root\">\n",
       "        <div class=\"plotdiv\" id=\"e91e8c21-c8cb-4ce6-9bad-d88a81660ca0\"></div>\n",
       "    </div>\n",
       "<script type=\"text/javascript\">\n",
       "  \n",
       "  (function(global) {\n",
       "    function now() {\n",
       "      return new Date();\n",
       "    }\n",
       "  \n",
       "    var force = \"\";\n",
       "  \n",
       "    if (typeof (window._bokeh_onload_callbacks) === \"undefined\" || force !== \"\") {\n",
       "      window._bokeh_onload_callbacks = [];\n",
       "      window._bokeh_is_loading = undefined;\n",
       "    }\n",
       "  \n",
       "  \n",
       "    \n",
       "    if (typeof (window._bokeh_timeout) === \"undefined\" || force !== \"\") {\n",
       "      window._bokeh_timeout = Date.now() + 0;\n",
       "      window._bokeh_failed_load = false;\n",
       "    }\n",
       "  \n",
       "    var NB_LOAD_WARNING = {'data': {'text/html':\n",
       "       \"<div style='background-color: #fdd'>\\n\"+\n",
       "       \"<p>\\n\"+\n",
       "       \"BokehJS does not appear to have successfully loaded. If loading BokehJS from CDN, this \\n\"+\n",
       "       \"may be due to a slow or bad network connection. Possible fixes:\\n\"+\n",
       "       \"</p>\\n\"+\n",
       "       \"<ul>\\n\"+\n",
       "       \"<li>re-rerun `output_notebook()` to attempt to load from CDN again, or</li>\\n\"+\n",
       "       \"<li>use INLINE resources instead, as so:</li>\\n\"+\n",
       "       \"</ul>\\n\"+\n",
       "       \"<code>\\n\"+\n",
       "       \"from bokeh.resources import INLINE\\n\"+\n",
       "       \"output_notebook(resources=INLINE)\\n\"+\n",
       "       \"</code>\\n\"+\n",
       "       \"</div>\"}};\n",
       "  \n",
       "    function display_loaded() {\n",
       "      if (window.Bokeh !== undefined) {\n",
       "        Bokeh.$(\"#e91e8c21-c8cb-4ce6-9bad-d88a81660ca0\").text(\"BokehJS successfully loaded.\");\n",
       "      } else if (Date.now() < window._bokeh_timeout) {\n",
       "        setTimeout(display_loaded, 100)\n",
       "      }\n",
       "    }\n",
       "  \n",
       "    function run_callbacks() {\n",
       "      window._bokeh_onload_callbacks.forEach(function(callback) { callback() });\n",
       "      delete window._bokeh_onload_callbacks\n",
       "      console.info(\"Bokeh: all callbacks have finished\");\n",
       "    }\n",
       "  \n",
       "    function load_libs(js_urls, callback) {\n",
       "      window._bokeh_onload_callbacks.push(callback);\n",
       "      if (window._bokeh_is_loading > 0) {\n",
       "        console.log(\"Bokeh: BokehJS is being loaded, scheduling callback at\", now());\n",
       "        return null;\n",
       "      }\n",
       "      if (js_urls == null || js_urls.length === 0) {\n",
       "        run_callbacks();\n",
       "        return null;\n",
       "      }\n",
       "      console.log(\"Bokeh: BokehJS not loaded, scheduling load and callback at\", now());\n",
       "      window._bokeh_is_loading = js_urls.length;\n",
       "      for (var i = 0; i < js_urls.length; i++) {\n",
       "        var url = js_urls[i];\n",
       "        var s = document.createElement('script');\n",
       "        s.src = url;\n",
       "        s.async = false;\n",
       "        s.onreadystatechange = s.onload = function() {\n",
       "          window._bokeh_is_loading--;\n",
       "          if (window._bokeh_is_loading === 0) {\n",
       "            console.log(\"Bokeh: all BokehJS libraries loaded\");\n",
       "            run_callbacks()\n",
       "          }\n",
       "        };\n",
       "        s.onerror = function() {\n",
       "          console.warn(\"failed to load library \" + url);\n",
       "        };\n",
       "        console.log(\"Bokeh: injecting script tag for BokehJS library: \", url);\n",
       "        document.getElementsByTagName(\"head\")[0].appendChild(s);\n",
       "      }\n",
       "    };var element = document.getElementById(\"e91e8c21-c8cb-4ce6-9bad-d88a81660ca0\");\n",
       "    if (element == null) {\n",
       "      console.log(\"Bokeh: ERROR: autoload.js configured with elementid 'e91e8c21-c8cb-4ce6-9bad-d88a81660ca0' but no matching script tag was found. \")\n",
       "      return false;\n",
       "    }\n",
       "  \n",
       "    var js_urls = [];\n",
       "  \n",
       "    var inline_js = [\n",
       "      function(Bokeh) {\n",
       "        Bokeh.$(function() {\n",
       "            var docs_json = {\"cbae981b-3fb7-4475-9abe-d3fe00834f50\":{\"roots\":{\"references\":[{\"attributes\":{\"line_color\":{\"value\":\"#5ab738\"},\"line_width\":{\"value\":2},\"x\":{\"field\":\"x_values\"},\"y\":{\"field\":\"y_values\"}},\"id\":\"935c3078-2802-4471-85b6-f7cefbcac770\",\"type\":\"Line\"},{\"attributes\":{\"callback\":null,\"column_names\":[\"y_values\",\"x_values\"],\"data\":{\"chart_index\":[{\"series\":\"Voice In\"},{\"series\":\"Voice In\"},{\"series\":\"Voice In\"},{\"series\":\"Voice In\"}],\"series\":[\"Voice In\",\"Voice In\",\"Voice In\",\"Voice In\"],\"x_values\":[\"2013\",\"2014\",\"2015\",\"2016\"],\"y_values\":[9293.0,7501.0,5636.0,4390.0]}},\"id\":\"76ae6a66-441a-4ca6-94f4-efa03cf21976\",\"type\":\"ColumnDataSource\"},{\"attributes\":{\"line_color\":{\"value\":\"#00ad9c\"},\"line_width\":{\"value\":2},\"x\":{\"field\":\"x_values\"},\"y\":{\"field\":\"y_values\"}},\"id\":\"f277100d-3c4b-4512-9253-67300dff54a7\",\"type\":\"Line\"},{\"attributes\":{\"data_source\":{\"id\":\"7b2f355a-7ac9-44bc-8d1d-8a5448fce165\",\"type\":\"ColumnDataSource\"},\"glyph\":{\"id\":\"935c3078-2802-4471-85b6-f7cefbcac770\",\"type\":\"Line\"},\"hover_glyph\":null,\"nonselection_glyph\":null,\"selection_glyph\":null},\"id\":\"5fe8ee95-6c41-4681-a4f9-ec42728080a6\",\"type\":\"GlyphRenderer\"},{\"attributes\":{\"data_source\":{\"id\":\"a14f271f-822e-4e26-b70b-cff53d9e4fbf\",\"type\":\"ColumnDataSource\"},\"glyph\":{\"id\":\"574043c1-83fb-4a5f-8412-2f512a864827\",\"type\":\"Line\"},\"hover_glyph\":null,\"nonselection_glyph\":null,\"selection_glyph\":null},\"id\":\"d95c4379-8579-4cc6-8daa-bb6c97233ca0\",\"type\":\"GlyphRenderer\"},{\"attributes\":{},\"id\":\"7fcd4462-684b-4ce9-989c-f93a3d1b59c6\",\"type\":\"ToolEvents\"},{\"attributes\":{\"dimension\":1,\"plot\":{\"id\":\"287d9093-984f-4653-8c1e-0da2a6341a09\",\"subtype\":\"Chart\",\"type\":\"Plot\"},\"ticker\":{\"id\":\"d005201b-e253-492b-bcd3-fc9cb7bb07a9\",\"type\":\"BasicTicker\"}},\"id\":\"00d03430-da59-482f-85b3-18c93439af57\",\"type\":\"Grid\"},{\"attributes\":{\"callback\":null,\"column_names\":[\"y_values\",\"x_values\"],\"data\":{\"chart_index\":[{\"series\":\"Twitter\"},{\"series\":\"Twitter\"},{\"series\":\"Twitter\"},{\"series\":\"Twitter\"}],\"series\":[\"Twitter\",\"Twitter\",\"Twitter\",\"Twitter\"],\"x_values\":[\"2013\",\"2014\",\"2015\",\"2016\"],\"y_values\":[1512.0,2227.0,202.0,194.0]}},\"id\":\"a14f271f-822e-4e26-b70b-cff53d9e4fbf\",\"type\":\"ColumnDataSource\"},{\"attributes\":{\"callback\":null,\"end\":60643.4,\"start\":-5301.400000000001},\"id\":\"e7c024c6-eebc-45eb-9c0a-9e65a06c4454\",\"type\":\"Range1d\"},{\"attributes\":{\"axis_label\":\"index\",\"formatter\":{\"id\":\"ba7160db-2d75-4315-b2ec-0b7c33eea79c\",\"type\":\"CategoricalTickFormatter\"},\"major_label_orientation\":0.7853981633974483,\"plot\":{\"id\":\"287d9093-984f-4653-8c1e-0da2a6341a09\",\"subtype\":\"Chart\",\"type\":\"Plot\"},\"ticker\":{\"id\":\"e8f18332-8cc6-43a8-b293-dcc0122e7539\",\"type\":\"CategoricalTicker\"}},\"id\":\"1c217c36-6bfc-4ff0-a80f-1b121618ba10\",\"type\":\"CategoricalAxis\"},{\"attributes\":{\"line_color\":{\"value\":\"#df5320\"},\"line_width\":{\"value\":2},\"x\":{\"field\":\"x_values\"},\"y\":{\"field\":\"y_values\"}},\"id\":\"027671a6-d80d-464d-a8e7-efc86860ed7d\",\"type\":\"Line\"},{\"attributes\":{},\"id\":\"e8f18332-8cc6-43a8-b293-dcc0122e7539\",\"type\":\"CategoricalTicker\"},{\"attributes\":{\"label\":{\"value\":\"Twitter\"},\"renderers\":[{\"id\":\"d95c4379-8579-4cc6-8daa-bb6c97233ca0\",\"type\":\"GlyphRenderer\"}]},\"id\":\"f829dee0-17e1-4acd-926a-94000eefb9b2\",\"type\":\"LegendItem\"},{\"attributes\":{\"plot\":{\"id\":\"287d9093-984f-4653-8c1e-0da2a6341a09\",\"subtype\":\"Chart\",\"type\":\"Plot\"}},\"id\":\"aafcc025-2666-4d05-b09f-077fb7cd6c19\",\"type\":\"HelpTool\"},{\"attributes\":{\"bottom_units\":\"screen\",\"fill_alpha\":{\"value\":0.5},\"fill_color\":{\"value\":\"lightgrey\"},\"left_units\":\"screen\",\"level\":\"overlay\",\"line_alpha\":{\"value\":1.0},\"line_color\":{\"value\":\"black\"},\"line_dash\":[4,4],\"line_width\":{\"value\":2},\"plot\":null,\"render_mode\":\"css\",\"right_units\":\"screen\",\"top_units\":\"screen\"},\"id\":\"9d0c2b48-94d0-4284-ab1d-214e7bb32ad3\",\"type\":\"BoxAnnotation\"},{\"attributes\":{\"items\":[{\"id\":\"27399c31-c981-4c99-978b-edd7fadf543e\",\"type\":\"LegendItem\"},{\"id\":\"52b21e80-05ab-40fc-9b1d-78bf014343e7\",\"type\":\"LegendItem\"},{\"id\":\"f829dee0-17e1-4acd-926a-94000eefb9b2\",\"type\":\"LegendItem\"},{\"id\":\"ea136824-60ac-40cf-a42b-3731dc75092d\",\"type\":\"LegendItem\"},{\"id\":\"2dfa19a5-e9a9-479a-9516-7b3867c94602\",\"type\":\"LegendItem\"}],\"location\":\"top_left\",\"plot\":{\"id\":\"287d9093-984f-4653-8c1e-0da2a6341a09\",\"subtype\":\"Chart\",\"type\":\"Plot\"}},\"id\":\"fc2271ef-3861-407d-858f-e82a71c23e31\",\"type\":\"Legend\"},{\"attributes\":{\"data_source\":{\"id\":\"10d3dbb0-c692-4f7d-beeb-887ba263bdc7\",\"type\":\"ColumnDataSource\"},\"glyph\":{\"id\":\"f277100d-3c4b-4512-9253-67300dff54a7\",\"type\":\"Line\"},\"hover_glyph\":null,\"nonselection_glyph\":null,\"selection_glyph\":null},\"id\":\"750e5e01-1e04-491b-8d87-b7ab7b63f17e\",\"type\":\"GlyphRenderer\"},{\"attributes\":{\"label\":{\"value\":\"Voice In\"},\"renderers\":[{\"id\":\"ce59c44c-d9f8-4002-9469-8bac1a6bbe32\",\"type\":\"GlyphRenderer\"}]},\"id\":\"ea136824-60ac-40cf-a42b-3731dc75092d\",\"type\":\"LegendItem\"},{\"attributes\":{\"active_drag\":\"auto\",\"active_scroll\":\"auto\",\"active_tap\":\"auto\",\"tools\":[{\"id\":\"e874a638-bf76-408a-a472-8b98cb5e7f79\",\"type\":\"PanTool\"},{\"id\":\"18fd73ba-5500-41e8-a601-82aa62ec73f7\",\"type\":\"WheelZoomTool\"},{\"id\":\"f329502f-953a-423a-8904-2a5f30599f84\",\"type\":\"BoxZoomTool\"},{\"id\":\"8251ac3b-6e20-4e27-808d-8e35238cf052\",\"type\":\"SaveTool\"},{\"id\":\"77159fdd-ac8b-4dbf-b216-e7c1484a0472\",\"type\":\"ResetTool\"},{\"id\":\"aafcc025-2666-4d05-b09f-077fb7cd6c19\",\"type\":\"HelpTool\"}]},\"id\":\"55cdbf70-1dad-4fea-a5dd-306cfd4c938b\",\"type\":\"Toolbar\"},{\"attributes\":{\"data_source\":{\"id\":\"5690983d-1c18-43cf-af4d-8693bd80979c\",\"type\":\"ColumnDataSource\"},\"glyph\":{\"id\":\"708bea10-521f-4310-94cf-d4ffb98c894e\",\"type\":\"Line\"},\"hover_glyph\":null,\"nonselection_glyph\":null,\"selection_glyph\":null},\"id\":\"a19b2385-88c7-4b46-b0bf-1a0e9a0490ee\",\"type\":\"GlyphRenderer\"},{\"attributes\":{},\"id\":\"d005201b-e253-492b-bcd3-fc9cb7bb07a9\",\"type\":\"BasicTicker\"},{\"attributes\":{\"line_color\":{\"value\":\"#407ee7\"},\"line_width\":{\"value\":2},\"x\":{\"field\":\"x_values\"},\"y\":{\"field\":\"y_values\"}},\"id\":\"574043c1-83fb-4a5f-8412-2f512a864827\",\"type\":\"Line\"},{\"attributes\":{\"label\":{\"value\":\"Integrated Agency\"},\"renderers\":[{\"id\":\"a19b2385-88c7-4b46-b0bf-1a0e9a0490ee\",\"type\":\"GlyphRenderer\"}]},\"id\":\"27399c31-c981-4c99-978b-edd7fadf543e\",\"type\":\"LegendItem\"},{\"attributes\":{\"plot\":{\"id\":\"287d9093-984f-4653-8c1e-0da2a6341a09\",\"subtype\":\"Chart\",\"type\":\"Plot\"},\"ticker\":{\"id\":\"e8f18332-8cc6-43a8-b293-dcc0122e7539\",\"type\":\"CategoricalTicker\"}},\"id\":\"9d710e16-03c8-4fa3-bc43-66c61edc9d4f\",\"type\":\"Grid\"},{\"attributes\":{\"callback\":null,\"column_names\":[\"y_values\",\"x_values\"],\"data\":{\"chart_index\":[{\"series\":\"Web Self Service\"},{\"series\":\"Web Self Service\"},{\"series\":\"Web Self Service\"},{\"series\":\"Web Self Service\"}],\"series\":[\"Web Self Service\",\"Web Self Service\",\"Web Self Service\",\"Web Self Service\"],\"x_values\":[\"2013\",\"2014\",\"2015\",\"2016\"],\"y_values\":[11330.0,11769.0,4143.0,4668.0]}},\"id\":\"10d3dbb0-c692-4f7d-beeb-887ba263bdc7\",\"type\":\"ColumnDataSource\"},{\"attributes\":{\"axis_label\":\"Reports to SF311 by Year\",\"formatter\":{\"id\":\"8fc49909-f331-483b-8e2b-8847d0f6563b\",\"type\":\"BasicTickFormatter\"},\"plot\":{\"id\":\"287d9093-984f-4653-8c1e-0da2a6341a09\",\"subtype\":\"Chart\",\"type\":\"Plot\"},\"ticker\":{\"id\":\"d005201b-e253-492b-bcd3-fc9cb7bb07a9\",\"type\":\"BasicTicker\"}},\"id\":\"6fbe15f4-d8a3-4b45-9330-d9116988cf17\",\"type\":\"LinearAxis\"},{\"attributes\":{\"below\":[{\"id\":\"1c217c36-6bfc-4ff0-a80f-1b121618ba10\",\"type\":\"CategoricalAxis\"}],\"left\":[{\"id\":\"6fbe15f4-d8a3-4b45-9330-d9116988cf17\",\"type\":\"LinearAxis\"}],\"renderers\":[{\"id\":\"9d0c2b48-94d0-4284-ab1d-214e7bb32ad3\",\"type\":\"BoxAnnotation\"},{\"id\":\"a19b2385-88c7-4b46-b0bf-1a0e9a0490ee\",\"type\":\"GlyphRenderer\"},{\"id\":\"5fe8ee95-6c41-4681-a4f9-ec42728080a6\",\"type\":\"GlyphRenderer\"},{\"id\":\"d95c4379-8579-4cc6-8daa-bb6c97233ca0\",\"type\":\"GlyphRenderer\"},{\"id\":\"ce59c44c-d9f8-4002-9469-8bac1a6bbe32\",\"type\":\"GlyphRenderer\"},{\"id\":\"750e5e01-1e04-491b-8d87-b7ab7b63f17e\",\"type\":\"GlyphRenderer\"},{\"id\":\"fc2271ef-3861-407d-858f-e82a71c23e31\",\"type\":\"Legend\"},{\"id\":\"1c217c36-6bfc-4ff0-a80f-1b121618ba10\",\"type\":\"CategoricalAxis\"},{\"id\":\"6fbe15f4-d8a3-4b45-9330-d9116988cf17\",\"type\":\"LinearAxis\"},{\"id\":\"9d710e16-03c8-4fa3-bc43-66c61edc9d4f\",\"type\":\"Grid\"},{\"id\":\"00d03430-da59-482f-85b3-18c93439af57\",\"type\":\"Grid\"}],\"title\":{\"id\":\"8dc39745-9b55-47c9-b54c-7f362d88065c\",\"type\":\"Title\"},\"tool_events\":{\"id\":\"7fcd4462-684b-4ce9-989c-f93a3d1b59c6\",\"type\":\"ToolEvents\"},\"toolbar\":{\"id\":\"55cdbf70-1dad-4fea-a5dd-306cfd4c938b\",\"type\":\"Toolbar\"},\"x_mapper_type\":\"auto\",\"x_range\":{\"id\":\"54ed0da8-be87-4371-986e-a5b30b35c400\",\"type\":\"FactorRange\"},\"y_mapper_type\":\"auto\",\"y_range\":{\"id\":\"e7c024c6-eebc-45eb-9c0a-9e65a06c4454\",\"type\":\"Range1d\"}},\"id\":\"287d9093-984f-4653-8c1e-0da2a6341a09\",\"subtype\":\"Chart\",\"type\":\"Plot\"},{\"attributes\":{},\"id\":\"ba7160db-2d75-4315-b2ec-0b7c33eea79c\",\"type\":\"CategoricalTickFormatter\"},{\"attributes\":{\"plot\":{\"id\":\"287d9093-984f-4653-8c1e-0da2a6341a09\",\"subtype\":\"Chart\",\"type\":\"Plot\"}},\"id\":\"77159fdd-ac8b-4dbf-b216-e7c1484a0472\",\"type\":\"ResetTool\"},{\"attributes\":{\"plot\":{\"id\":\"287d9093-984f-4653-8c1e-0da2a6341a09\",\"subtype\":\"Chart\",\"type\":\"Plot\"}},\"id\":\"18fd73ba-5500-41e8-a601-82aa62ec73f7\",\"type\":\"WheelZoomTool\"},{\"attributes\":{\"overlay\":{\"id\":\"9d0c2b48-94d0-4284-ab1d-214e7bb32ad3\",\"type\":\"BoxAnnotation\"},\"plot\":{\"id\":\"287d9093-984f-4653-8c1e-0da2a6341a09\",\"subtype\":\"Chart\",\"type\":\"Plot\"}},\"id\":\"f329502f-953a-423a-8904-2a5f30599f84\",\"type\":\"BoxZoomTool\"},{\"attributes\":{\"plot\":{\"id\":\"287d9093-984f-4653-8c1e-0da2a6341a09\",\"subtype\":\"Chart\",\"type\":\"Plot\"}},\"id\":\"8251ac3b-6e20-4e27-808d-8e35238cf052\",\"type\":\"SaveTool\"},{\"attributes\":{},\"id\":\"8fc49909-f331-483b-8e2b-8847d0f6563b\",\"type\":\"BasicTickFormatter\"},{\"attributes\":{\"plot\":{\"id\":\"287d9093-984f-4653-8c1e-0da2a6341a09\",\"subtype\":\"Chart\",\"type\":\"Plot\"}},\"id\":\"e874a638-bf76-408a-a472-8b98cb5e7f79\",\"type\":\"PanTool\"},{\"attributes\":{\"callback\":null,\"factors\":[\"2013\",\"2014\",\"2015\",\"2016\"]},\"id\":\"54ed0da8-be87-4371-986e-a5b30b35c400\",\"type\":\"FactorRange\"},{\"attributes\":{\"label\":{\"value\":\"Web Self Service\"},\"renderers\":[{\"id\":\"750e5e01-1e04-491b-8d87-b7ab7b63f17e\",\"type\":\"GlyphRenderer\"}]},\"id\":\"2dfa19a5-e9a9-479a-9516-7b3867c94602\",\"type\":\"LegendItem\"},{\"attributes\":{\"label\":{\"value\":\"Open311\"},\"renderers\":[{\"id\":\"5fe8ee95-6c41-4681-a4f9-ec42728080a6\",\"type\":\"GlyphRenderer\"}]},\"id\":\"52b21e80-05ab-40fc-9b1d-78bf014343e7\",\"type\":\"LegendItem\"},{\"attributes\":{\"data_source\":{\"id\":\"76ae6a66-441a-4ca6-94f4-efa03cf21976\",\"type\":\"ColumnDataSource\"},\"glyph\":{\"id\":\"027671a6-d80d-464d-a8e7-efc86860ed7d\",\"type\":\"Line\"},\"hover_glyph\":null,\"nonselection_glyph\":null,\"selection_glyph\":null},\"id\":\"ce59c44c-d9f8-4002-9469-8bac1a6bbe32\",\"type\":\"GlyphRenderer\"},{\"attributes\":{\"callback\":null,\"column_names\":[\"y_values\",\"x_values\"],\"data\":{\"chart_index\":[{\"series\":\"Open311\"},{\"series\":\"Open311\"},{\"series\":\"Open311\"},{\"series\":\"Open311\"}],\"series\":[\"Open311\",\"Open311\",\"Open311\",\"Open311\"],\"x_values\":[\"2013\",\"2014\",\"2015\",\"2016\"],\"y_values\":[4030.0,19813.0,38732.0,55148.0]}},\"id\":\"7b2f355a-7ac9-44bc-8d1d-8a5448fce165\",\"type\":\"ColumnDataSource\"},{\"attributes\":{\"line_color\":{\"value\":\"#f22c40\"},\"line_width\":{\"value\":2},\"x\":{\"field\":\"x_values\"},\"y\":{\"field\":\"y_values\"}},\"id\":\"708bea10-521f-4310-94cf-d4ffb98c894e\",\"type\":\"Line\"},{\"attributes\":{\"callback\":null,\"column_names\":[\"y_values\",\"x_values\"],\"data\":{\"chart_index\":[{\"series\":\"Integrated Agency\"},{\"series\":\"Integrated Agency\"},{\"series\":\"Integrated Agency\"},{\"series\":\"Integrated Agency\"}],\"series\":[\"Integrated Agency\",\"Integrated Agency\",\"Integrated Agency\",\"Integrated Agency\"],\"x_values\":[\"2013\",\"2014\",\"2015\",\"2016\"],\"y_values\":[9666.0,5493.0,8530.0,7992.0]}},\"id\":\"5690983d-1c18-43cf-af4d-8693bd80979c\",\"type\":\"ColumnDataSource\"},{\"attributes\":{\"plot\":null,\"text\":\"line\"},\"id\":\"8dc39745-9b55-47c9-b54c-7f362d88065c\",\"type\":\"Title\"}],\"root_ids\":[\"287d9093-984f-4653-8c1e-0da2a6341a09\"]},\"title\":\"Bokeh Application\",\"version\":\"0.12.3\"}};\n",
       "            var render_items = [{\"docid\":\"cbae981b-3fb7-4475-9abe-d3fe00834f50\",\"elementid\":\"e91e8c21-c8cb-4ce6-9bad-d88a81660ca0\",\"modelid\":\"287d9093-984f-4653-8c1e-0da2a6341a09\"}];\n",
       "            \n",
       "            Bokeh.embed.embed_items(docs_json, render_items);\n",
       "        });\n",
       "      },\n",
       "      function(Bokeh) {\n",
       "      }\n",
       "    ];\n",
       "  \n",
       "    function run_inline_js() {\n",
       "      \n",
       "      if ((window.Bokeh !== undefined) || (force === \"1\")) {\n",
       "        for (var i = 0; i < inline_js.length; i++) {\n",
       "          inline_js[i](window.Bokeh);\n",
       "        }if (force === \"1\") {\n",
       "          display_loaded();\n",
       "        }} else if (Date.now() < window._bokeh_timeout) {\n",
       "        setTimeout(run_inline_js, 100);\n",
       "      } else if (!window._bokeh_failed_load) {\n",
       "        console.log(\"Bokeh: BokehJS failed to load within specified timeout.\");\n",
       "        window._bokeh_failed_load = true;\n",
       "      } else if (!force) {\n",
       "        var cell = $(\"#e91e8c21-c8cb-4ce6-9bad-d88a81660ca0\").parents('.cell').data().cell;\n",
       "        cell.output_area.append_execute_result(NB_LOAD_WARNING)\n",
       "      }\n",
       "  \n",
       "    }\n",
       "  \n",
       "    if (window._bokeh_is_loading === 0) {\n",
       "      console.log(\"Bokeh: BokehJS loaded, going straight to plotting\");\n",
       "      run_inline_js();\n",
       "    } else {\n",
       "      load_libs(js_urls, function() {\n",
       "        console.log(\"Bokeh: BokehJS plotting callback run at\", now());\n",
       "        run_inline_js();\n",
       "      });\n",
       "    }\n",
       "  }(this));\n",
       "</script>"
      ]
     },
     "metadata": {},
     "output_type": "display_data"
    }
   ],
   "source": [
    "import numpy as np\n",
    "from bokeh.charts import Line, output_file, show\n",
    "\n",
    "# (dict, OrderedDict, lists, arrays and DataFrames are valid inputs)\n",
    "#xyvalues = np.array([[2, 3, 7, 5, 26], [12, 33, 47, 15, 126], [22, 43, 10, 25, 26]])\n",
    "xyvalues = df2\n",
    "line = Line(xyvalues, title=\"line\", legend=\"top_left\", ylabel='Reports to SF311 by Year')\n",
    "\n",
    "output_file('line.html')\n",
    "show(line)"
   ]
  },
  {
   "cell_type": "code",
   "execution_count": 110,
   "metadata": {
    "collapsed": false
   },
   "outputs": [
    {
     "ename": "ValueError",
     "evalue": "expected an element of either Column Name or Column String or List(Column Name or Column String), got [('count', 'Integrated Agency'), ('count', 'Open311'), ('count', 'Twitter'), ('count', 'Voice In'), ('count', 'Web Self Service')]",
     "output_type": "error",
     "traceback": [
      "\u001b[0;31m---------------------------------------------------------------------------\u001b[0m",
      "\u001b[0;31mValueError\u001b[0m                                Traceback (most recent call last)",
      "\u001b[0;32m<ipython-input-110-d5a070b459d9>\u001b[0m in \u001b[0;36m<module>\u001b[0;34m()\u001b[0m\n\u001b[1;32m      4\u001b[0m \u001b[0;34m\u001b[0m\u001b[0m\n\u001b[1;32m      5\u001b[0m line1 = Line(df2, title=\"Line Chart\", legend=\"top_left\",\n\u001b[0;32m----> 6\u001b[0;31m              xlabel='Source', ylabel='count')\n\u001b[0m\u001b[1;32m      7\u001b[0m \u001b[0;34m\u001b[0m\u001b[0m\n\u001b[1;32m      8\u001b[0m \u001b[0;34m\u001b[0m\u001b[0m\n",
      "\u001b[0;32m/usr/local/lib/python3.5/dist-packages/bokeh/charts/builders/line_builder.py\u001b[0m in \u001b[0;36mLine\u001b[0;34m(data, x, y, **kws)\u001b[0m\n\u001b[1;32m     88\u001b[0m     \u001b[0mkws\u001b[0m\u001b[0;34m[\u001b[0m\u001b[0;34m'x'\u001b[0m\u001b[0;34m]\u001b[0m \u001b[0;34m=\u001b[0m \u001b[0mx\u001b[0m\u001b[0;34m\u001b[0m\u001b[0m\n\u001b[1;32m     89\u001b[0m     \u001b[0mkws\u001b[0m\u001b[0;34m[\u001b[0m\u001b[0;34m'y'\u001b[0m\u001b[0;34m]\u001b[0m \u001b[0;34m=\u001b[0m \u001b[0my\u001b[0m\u001b[0;34m\u001b[0m\u001b[0m\n\u001b[0;32m---> 90\u001b[0;31m     \u001b[0;32mreturn\u001b[0m \u001b[0mcreate_and_build\u001b[0m\u001b[0;34m(\u001b[0m\u001b[0mLineBuilder\u001b[0m\u001b[0;34m,\u001b[0m \u001b[0mdata\u001b[0m\u001b[0;34m,\u001b[0m \u001b[0;34m**\u001b[0m\u001b[0mkws\u001b[0m\u001b[0;34m)\u001b[0m\u001b[0;34m\u001b[0m\u001b[0m\n\u001b[0m\u001b[1;32m     91\u001b[0m \u001b[0;34m\u001b[0m\u001b[0m\n\u001b[1;32m     92\u001b[0m \u001b[0;34m\u001b[0m\u001b[0m\n",
      "\u001b[0;32m/usr/local/lib/python3.5/dist-packages/bokeh/charts/builder.py\u001b[0m in \u001b[0;36mcreate_and_build\u001b[0;34m(builder_class, *data, **kws)\u001b[0m\n\u001b[1;32m     66\u001b[0m     \u001b[0;31m# create the new builder\u001b[0m\u001b[0;34m\u001b[0m\u001b[0;34m\u001b[0m\u001b[0m\n\u001b[1;32m     67\u001b[0m     \u001b[0mbuilder_kws\u001b[0m \u001b[0;34m=\u001b[0m \u001b[0;34m{\u001b[0m\u001b[0mk\u001b[0m\u001b[0;34m:\u001b[0m \u001b[0mv\u001b[0m \u001b[0;32mfor\u001b[0m \u001b[0mk\u001b[0m\u001b[0;34m,\u001b[0m \u001b[0mv\u001b[0m \u001b[0;32min\u001b[0m \u001b[0mkws\u001b[0m\u001b[0;34m.\u001b[0m\u001b[0mitems\u001b[0m\u001b[0;34m(\u001b[0m\u001b[0;34m)\u001b[0m \u001b[0;32mif\u001b[0m \u001b[0mk\u001b[0m \u001b[0;32min\u001b[0m \u001b[0mbuilder_props\u001b[0m\u001b[0;34m}\u001b[0m\u001b[0;34m\u001b[0m\u001b[0m\n\u001b[0;32m---> 68\u001b[0;31m     \u001b[0mbuilder\u001b[0m \u001b[0;34m=\u001b[0m \u001b[0mbuilder_class\u001b[0m\u001b[0;34m(\u001b[0m\u001b[0;34m*\u001b[0m\u001b[0mdata\u001b[0m\u001b[0;34m,\u001b[0m \u001b[0;34m**\u001b[0m\u001b[0mbuilder_kws\u001b[0m\u001b[0;34m)\u001b[0m\u001b[0;34m\u001b[0m\u001b[0m\n\u001b[0m\u001b[1;32m     69\u001b[0m \u001b[0;34m\u001b[0m\u001b[0m\n\u001b[1;32m     70\u001b[0m     \u001b[0;31m# create a chart to return, since there isn't one already\u001b[0m\u001b[0;34m\u001b[0m\u001b[0;34m\u001b[0m\u001b[0m\n",
      "\u001b[0;32m/usr/local/lib/python3.5/dist-packages/bokeh/charts/builder.py\u001b[0m in \u001b[0;36m__init__\u001b[0;34m(self, *args, **kws)\u001b[0m\n\u001b[1;32m    292\u001b[0m             \u001b[0;31m# make sure that the builder dimensions have access to the chart data source\u001b[0m\u001b[0;34m\u001b[0m\u001b[0;34m\u001b[0m\u001b[0m\n\u001b[1;32m    293\u001b[0m             \u001b[0;32mfor\u001b[0m \u001b[0mdim\u001b[0m \u001b[0;32min\u001b[0m \u001b[0mself\u001b[0m\u001b[0;34m.\u001b[0m\u001b[0mdimensions\u001b[0m\u001b[0;34m:\u001b[0m\u001b[0;34m\u001b[0m\u001b[0m\n\u001b[0;32m--> 294\u001b[0;31m                 \u001b[0mgetattr\u001b[0m\u001b[0;34m(\u001b[0m\u001b[0mgetattr\u001b[0m\u001b[0;34m(\u001b[0m\u001b[0mself\u001b[0m\u001b[0;34m,\u001b[0m \u001b[0mdim\u001b[0m\u001b[0;34m)\u001b[0m\u001b[0;34m,\u001b[0m \u001b[0;34m'set_data'\u001b[0m\u001b[0;34m)\u001b[0m\u001b[0;34m(\u001b[0m\u001b[0mdata\u001b[0m\u001b[0;34m)\u001b[0m\u001b[0;34m\u001b[0m\u001b[0m\n\u001b[0m\u001b[1;32m    295\u001b[0m \u001b[0;34m\u001b[0m\u001b[0m\n\u001b[1;32m    296\u001b[0m             \u001b[0;31m# handle input attrs and ensure attrs have access to data\u001b[0m\u001b[0;34m\u001b[0m\u001b[0;34m\u001b[0m\u001b[0m\n",
      "\u001b[0;32m/usr/local/lib/python3.5/dist-packages/bokeh/charts/properties.py\u001b[0m in \u001b[0;36mset_data\u001b[0;34m(self, data)\u001b[0m\n\u001b[1;32m    170\u001b[0m             \u001b[0mdata\u001b[0m \u001b[0;34m(\u001b[0m\u001b[0;31m`\u001b[0m\u001b[0mChartDataSource\u001b[0m\u001b[0;31m`\u001b[0m\u001b[0;34m)\u001b[0m\u001b[0;34m:\u001b[0m \u001b[0mthe\u001b[0m \u001b[0mdata\u001b[0m \u001b[0msource\u001b[0m \u001b[0massociated\u001b[0m \u001b[0;32mwith\u001b[0m \u001b[0mthe\u001b[0m \u001b[0mchart\u001b[0m\u001b[0;34m\u001b[0m\u001b[0m\n\u001b[1;32m    171\u001b[0m         \"\"\"\n\u001b[0;32m--> 172\u001b[0;31m         \u001b[0mself\u001b[0m\u001b[0;34m.\u001b[0m\u001b[0mselection\u001b[0m \u001b[0;34m=\u001b[0m \u001b[0mdata\u001b[0m\u001b[0;34m[\u001b[0m\u001b[0mself\u001b[0m\u001b[0;34m.\u001b[0m\u001b[0mname\u001b[0m\u001b[0;34m]\u001b[0m\u001b[0;34m\u001b[0m\u001b[0m\n\u001b[0m\u001b[1;32m    173\u001b[0m         \u001b[0mself\u001b[0m\u001b[0;34m.\u001b[0m\u001b[0m_chart_source\u001b[0m \u001b[0;34m=\u001b[0m \u001b[0mdata\u001b[0m\u001b[0;34m\u001b[0m\u001b[0m\n\u001b[1;32m    174\u001b[0m         \u001b[0mself\u001b[0m\u001b[0;34m.\u001b[0m\u001b[0m_data\u001b[0m \u001b[0;34m=\u001b[0m \u001b[0mdata\u001b[0m\u001b[0;34m.\u001b[0m\u001b[0mdf\u001b[0m\u001b[0;34m\u001b[0m\u001b[0m\n",
      "\u001b[0;32m/usr/local/lib/python3.5/dist-packages/bokeh/core/properties.py\u001b[0m in \u001b[0;36m__setattr__\u001b[0;34m(self, name, value)\u001b[0m\n\u001b[1;32m    730\u001b[0m \u001b[0;34m\u001b[0m\u001b[0m\n\u001b[1;32m    731\u001b[0m         \u001b[0;32mif\u001b[0m \u001b[0mname\u001b[0m \u001b[0;32min\u001b[0m \u001b[0mprops\u001b[0m \u001b[0;32mor\u001b[0m \u001b[0mname\u001b[0m \u001b[0;32min\u001b[0m \u001b[0mdeprecated\u001b[0m\u001b[0;34m:\u001b[0m\u001b[0;34m\u001b[0m\u001b[0m\n\u001b[0;32m--> 732\u001b[0;31m             \u001b[0msuper\u001b[0m\u001b[0;34m(\u001b[0m\u001b[0mHasProps\u001b[0m\u001b[0;34m,\u001b[0m \u001b[0mself\u001b[0m\u001b[0;34m)\u001b[0m\u001b[0;34m.\u001b[0m\u001b[0m__setattr__\u001b[0m\u001b[0;34m(\u001b[0m\u001b[0mname\u001b[0m\u001b[0;34m,\u001b[0m \u001b[0mvalue\u001b[0m\u001b[0;34m)\u001b[0m\u001b[0;34m\u001b[0m\u001b[0m\n\u001b[0m\u001b[1;32m    733\u001b[0m         \u001b[0;32melse\u001b[0m\u001b[0;34m:\u001b[0m\u001b[0;34m\u001b[0m\u001b[0m\n\u001b[1;32m    734\u001b[0m             \u001b[0mmatches\u001b[0m\u001b[0;34m,\u001b[0m \u001b[0mtext\u001b[0m \u001b[0;34m=\u001b[0m \u001b[0mdifflib\u001b[0m\u001b[0;34m.\u001b[0m\u001b[0mget_close_matches\u001b[0m\u001b[0;34m(\u001b[0m\u001b[0mname\u001b[0m\u001b[0;34m.\u001b[0m\u001b[0mlower\u001b[0m\u001b[0;34m(\u001b[0m\u001b[0;34m)\u001b[0m\u001b[0;34m,\u001b[0m \u001b[0mprops\u001b[0m\u001b[0;34m)\u001b[0m\u001b[0;34m,\u001b[0m \u001b[0;34m\"similar\"\u001b[0m\u001b[0;34m\u001b[0m\u001b[0m\n",
      "\u001b[0;32m/usr/local/lib/python3.5/dist-packages/bokeh/core/properties.py\u001b[0m in \u001b[0;36m__set__\u001b[0;34m(self, obj, value)\u001b[0m\n\u001b[1;32m    457\u001b[0m             raise RuntimeError(\"Cannot set a property value '%s' on a %s instance before HasProps.__init__\" %\n\u001b[1;32m    458\u001b[0m                                (self.name, obj.__class__.__name__))\n\u001b[0;32m--> 459\u001b[0;31m         \u001b[0mvalue\u001b[0m \u001b[0;34m=\u001b[0m \u001b[0mself\u001b[0m\u001b[0;34m.\u001b[0m\u001b[0mdescriptor\u001b[0m\u001b[0;34m.\u001b[0m\u001b[0mprepare_value\u001b[0m\u001b[0;34m(\u001b[0m\u001b[0mobj\u001b[0m\u001b[0;34m.\u001b[0m\u001b[0m__class__\u001b[0m\u001b[0;34m,\u001b[0m \u001b[0mself\u001b[0m\u001b[0;34m.\u001b[0m\u001b[0mname\u001b[0m\u001b[0;34m,\u001b[0m \u001b[0mvalue\u001b[0m\u001b[0;34m)\u001b[0m\u001b[0;34m\u001b[0m\u001b[0m\n\u001b[0m\u001b[1;32m    460\u001b[0m \u001b[0;34m\u001b[0m\u001b[0m\n\u001b[1;32m    461\u001b[0m         \u001b[0mold\u001b[0m \u001b[0;34m=\u001b[0m \u001b[0mself\u001b[0m\u001b[0;34m.\u001b[0m\u001b[0m__get__\u001b[0m\u001b[0;34m(\u001b[0m\u001b[0mobj\u001b[0m\u001b[0;34m)\u001b[0m\u001b[0;34m\u001b[0m\u001b[0m\n",
      "\u001b[0;32m/usr/local/lib/python3.5/dist-packages/bokeh/core/properties.py\u001b[0m in \u001b[0;36mprepare_value\u001b[0;34m(self, cls, name, value)\u001b[0m\n\u001b[1;32m    274\u001b[0m                     \u001b[0;32mbreak\u001b[0m\u001b[0;34m\u001b[0m\u001b[0m\n\u001b[1;32m    275\u001b[0m             \u001b[0;32melse\u001b[0m\u001b[0;34m:\u001b[0m\u001b[0;34m\u001b[0m\u001b[0m\n\u001b[0;32m--> 276\u001b[0;31m                 \u001b[0;32mraise\u001b[0m \u001b[0me\u001b[0m\u001b[0;34m\u001b[0m\u001b[0m\n\u001b[0m\u001b[1;32m    277\u001b[0m         \u001b[0;32melse\u001b[0m\u001b[0;34m:\u001b[0m\u001b[0;34m\u001b[0m\u001b[0m\n\u001b[1;32m    278\u001b[0m             \u001b[0mvalue\u001b[0m \u001b[0;34m=\u001b[0m \u001b[0mself\u001b[0m\u001b[0;34m.\u001b[0m\u001b[0mtransform\u001b[0m\u001b[0;34m(\u001b[0m\u001b[0mvalue\u001b[0m\u001b[0;34m)\u001b[0m\u001b[0;34m\u001b[0m\u001b[0m\n",
      "\u001b[0;32m/usr/local/lib/python3.5/dist-packages/bokeh/core/properties.py\u001b[0m in \u001b[0;36mprepare_value\u001b[0;34m(self, cls, name, value)\u001b[0m\n\u001b[1;32m    267\u001b[0m     \u001b[0;32mdef\u001b[0m \u001b[0mprepare_value\u001b[0m\u001b[0;34m(\u001b[0m\u001b[0mself\u001b[0m\u001b[0;34m,\u001b[0m \u001b[0mcls\u001b[0m\u001b[0;34m,\u001b[0m \u001b[0mname\u001b[0m\u001b[0;34m,\u001b[0m \u001b[0mvalue\u001b[0m\u001b[0;34m)\u001b[0m\u001b[0;34m:\u001b[0m\u001b[0;34m\u001b[0m\u001b[0m\n\u001b[1;32m    268\u001b[0m         \u001b[0;32mtry\u001b[0m\u001b[0;34m:\u001b[0m\u001b[0;34m\u001b[0m\u001b[0m\n\u001b[0;32m--> 269\u001b[0;31m             \u001b[0mself\u001b[0m\u001b[0;34m.\u001b[0m\u001b[0mvalidate\u001b[0m\u001b[0;34m(\u001b[0m\u001b[0mvalue\u001b[0m\u001b[0;34m)\u001b[0m\u001b[0;34m\u001b[0m\u001b[0m\n\u001b[0m\u001b[1;32m    270\u001b[0m         \u001b[0;32mexcept\u001b[0m \u001b[0mValueError\u001b[0m \u001b[0;32mas\u001b[0m \u001b[0me\u001b[0m\u001b[0;34m:\u001b[0m\u001b[0;34m\u001b[0m\u001b[0m\n\u001b[1;32m    271\u001b[0m             \u001b[0;32mfor\u001b[0m \u001b[0mtp\u001b[0m\u001b[0;34m,\u001b[0m \u001b[0mconverter\u001b[0m \u001b[0;32min\u001b[0m \u001b[0mself\u001b[0m\u001b[0;34m.\u001b[0m\u001b[0malternatives\u001b[0m\u001b[0;34m:\u001b[0m\u001b[0;34m\u001b[0m\u001b[0m\n",
      "\u001b[0;32m/usr/local/lib/python3.5/dist-packages/bokeh/core/properties.py\u001b[0m in \u001b[0;36mvalidate\u001b[0;34m(self, value)\u001b[0m\n\u001b[1;32m   1374\u001b[0m \u001b[0;34m\u001b[0m\u001b[0m\n\u001b[1;32m   1375\u001b[0m         \u001b[0;32mif\u001b[0m \u001b[0;32mnot\u001b[0m \u001b[0;34m(\u001b[0m\u001b[0mvalue\u001b[0m \u001b[0;32mis\u001b[0m \u001b[0;32mNone\u001b[0m \u001b[0;32mor\u001b[0m \u001b[0many\u001b[0m\u001b[0;34m(\u001b[0m\u001b[0mparam\u001b[0m\u001b[0;34m.\u001b[0m\u001b[0mis_valid\u001b[0m\u001b[0;34m(\u001b[0m\u001b[0mvalue\u001b[0m\u001b[0;34m)\u001b[0m \u001b[0;32mfor\u001b[0m \u001b[0mparam\u001b[0m \u001b[0;32min\u001b[0m \u001b[0mself\u001b[0m\u001b[0;34m.\u001b[0m\u001b[0mtype_params\u001b[0m\u001b[0;34m)\u001b[0m\u001b[0;34m)\u001b[0m\u001b[0;34m:\u001b[0m\u001b[0;34m\u001b[0m\u001b[0m\n\u001b[0;32m-> 1376\u001b[0;31m             \u001b[0;32mraise\u001b[0m \u001b[0mValueError\u001b[0m\u001b[0;34m(\u001b[0m\u001b[0;34m\"expected an element of either %s, got %r\"\u001b[0m \u001b[0;34m%\u001b[0m \u001b[0;34m(\u001b[0m\u001b[0mnice_join\u001b[0m\u001b[0;34m(\u001b[0m\u001b[0mself\u001b[0m\u001b[0;34m.\u001b[0m\u001b[0mtype_params\u001b[0m\u001b[0;34m)\u001b[0m\u001b[0;34m,\u001b[0m \u001b[0mvalue\u001b[0m\u001b[0;34m)\u001b[0m\u001b[0;34m)\u001b[0m\u001b[0;34m\u001b[0m\u001b[0m\n\u001b[0m\u001b[1;32m   1377\u001b[0m \u001b[0;34m\u001b[0m\u001b[0m\n\u001b[1;32m   1378\u001b[0m     \u001b[0;32mdef\u001b[0m \u001b[0mtransform\u001b[0m\u001b[0;34m(\u001b[0m\u001b[0mself\u001b[0m\u001b[0;34m,\u001b[0m \u001b[0mvalue\u001b[0m\u001b[0;34m)\u001b[0m\u001b[0;34m:\u001b[0m\u001b[0;34m\u001b[0m\u001b[0m\n",
      "\u001b[0;31mValueError\u001b[0m: expected an element of either Column Name or Column String or List(Column Name or Column String), got [('count', 'Integrated Agency'), ('count', 'Open311'), ('count', 'Twitter'), ('count', 'Voice In'), ('count', 'Web Self Service')]"
     ]
    }
   ],
   "source": [
    "from bokeh.palettes import Spectral11\n",
    "from bokeh.charts import Line, show, output_file, output_notebook\n",
    "\n",
    "\n",
    "line1 = Line(df2, title=\"Line Chart\", legend=\"top_left\",\n",
    "             xlabel='Source', ylabel='count')\n",
    "\n",
    "\n",
    "\n",
    "\n",
    "output_notebook()\n",
    "show(p)"
   ]
  },
  {
   "cell_type": "markdown",
   "metadata": {
    "collapsed": true
   },
   "source": [
    "# The above graph needs labels for years and what the line represent.   But it shows that all the growth in reports is coming from the mobile app."
   ]
  },
  {
   "cell_type": "code",
   "execution_count": null,
   "metadata": {
    "collapsed": true
   },
   "outputs": [],
   "source": []
  },
  {
   "cell_type": "code",
   "execution_count": null,
   "metadata": {
    "collapsed": true
   },
   "outputs": [],
   "source": []
  },
  {
   "cell_type": "code",
   "execution_count": null,
   "metadata": {
    "collapsed": true
   },
   "outputs": [],
   "source": []
  },
  {
   "cell_type": "markdown",
   "metadata": {
    "collapsed": true
   },
   "source": [
    "# Grab url and begin pulling year of data"
   ]
  },
  {
   "cell_type": "code",
   "execution_count": null,
   "metadata": {
    "collapsed": false
   },
   "outputs": [],
   "source": [
    "url = 'https://data.sfgov.org/resource/rme2-xgvs.json'\n",
    "url = url[:-4]+'csv'\n",
    "url"
   ]
  },
  {
   "cell_type": "code",
   "execution_count": null,
   "metadata": {
    "collapsed": true
   },
   "outputs": [],
   "source": []
  },
  {
   "cell_type": "markdown",
   "metadata": {},
   "source": [
    "# Growth in reports (2013 to 2016)"
   ]
  },
  {
   "cell_type": "markdown",
   "metadata": {
    "collapsed": true
   },
   "source": [
    "### Code for dealing with Socrata limit of 50,000 api limit"
   ]
  },
  {
   "cell_type": "code",
   "execution_count": null,
   "metadata": {
    "collapsed": false
   },
   "outputs": [],
   "source": [
    "\n",
    "limit = '?$limit=50000'\n",
    "offset = '&$offset=50000'\n",
    "url1 = url+limit\n",
    "print (url1)\n",
    "\n",
    "url2 = url1 + offset\n",
    "print (url2)"
   ]
  },
  {
   "cell_type": "code",
   "execution_count": null,
   "metadata": {
    "collapsed": false
   },
   "outputs": [],
   "source": [
    "# drop from url those prior to January 1\n",
    "where = '&$where='\n",
    "category = 'opened'\n",
    "start = '>='\n",
    "\n",
    "#date format 'year-mm-dd'\n",
    "onorafter = \"'2016-01-01'\"\n",
    "url2 = url2 + where + category + start + str(onorafter) \n",
    "print(url2)"
   ]
  },
  {
   "cell_type": "markdown",
   "metadata": {
    "collapsed": true
   },
   "source": [
    "# Concatenate or Vertically stack the two dataFrames"
   ]
  },
  {
   "cell_type": "code",
   "execution_count": null,
   "metadata": {
    "collapsed": false
   },
   "outputs": [],
   "source": [
    "df1  = pd.read_csv(url1)\n",
    "df2 = pd.read_csv(url2)\n",
    "df = pd.concat([df1,df2])\n",
    "df.shape\n"
   ]
  },
  {
   "cell_type": "code",
   "execution_count": null,
   "metadata": {
    "collapsed": false
   },
   "outputs": [],
   "source": [
    "# frames = [df1,df2]\n",
    "# df = pd.concat(frames)"
   ]
  },
  {
   "cell_type": "code",
   "execution_count": null,
   "metadata": {
    "collapsed": false
   },
   "outputs": [],
   "source": []
  },
  {
   "cell_type": "markdown",
   "metadata": {},
   "source": [
    "# Convert the time series into pandas time version"
   ]
  },
  {
   "cell_type": "code",
   "execution_count": null,
   "metadata": {
    "collapsed": false
   },
   "outputs": [],
   "source": [
    "df.columns"
   ]
  },
  {
   "cell_type": "code",
   "execution_count": null,
   "metadata": {
    "collapsed": false
   },
   "outputs": [],
   "source": [
    "type(df.Opened)"
   ]
  },
  {
   "cell_type": "code",
   "execution_count": null,
   "metadata": {
    "collapsed": false
   },
   "outputs": [],
   "source": [
    "df['Opened'] = pd.to_datetime(df['Opened']).dt.strftime('%Y-%m-%d')"
   ]
  },
  {
   "cell_type": "code",
   "execution_count": null,
   "metadata": {
    "collapsed": true
   },
   "outputs": [],
   "source": [
    "df['Closed'] = pd.to_datetime(df['Closed']).dt.strftime('%Y-%m-%d')\n",
    "df['Updated'] = pd.to_datetime(df['Updated']).dt.strftime('%Y-%m-%d')\n"
   ]
  },
  {
   "cell_type": "code",
   "execution_count": null,
   "metadata": {
    "collapsed": false
   },
   "outputs": [],
   "source": [
    "df.head(2)"
   ]
  },
  {
   "cell_type": "code",
   "execution_count": null,
   "metadata": {
    "collapsed": false
   },
   "outputs": [],
   "source": [
    "df.to_string(columns='Supervisor District')"
   ]
  },
  {
   "cell_type": "code",
   "execution_count": null,
   "metadata": {
    "collapsed": false
   },
   "outputs": [],
   "source": [
    "df.to_string(columns = 'Supervisor District')"
   ]
  },
  {
   "cell_type": "code",
   "execution_count": null,
   "metadata": {
    "collapsed": false
   },
   "outputs": [],
   "source": [
    "df['Diff'] =(df.Closed-df.Opened).astype('timedelta64[D]')\n"
   ]
  },
  {
   "cell_type": "code",
   "execution_count": null,
   "metadata": {
    "collapsed": false
   },
   "outputs": [],
   "source": [
    "type(df['Supervisor District'])"
   ]
  },
  {
   "cell_type": "code",
   "execution_count": null,
   "metadata": {
    "collapsed": false
   },
   "outputs": [],
   "source": [
    "df.Diff.describe()"
   ]
  },
  {
   "cell_type": "code",
   "execution_count": null,
   "metadata": {
    "collapsed": false
   },
   "outputs": [],
   "source": [
    "df[df['Neighborhood' ]== \"Mission\"].head(85)"
   ]
  },
  {
   "cell_type": "code",
   "execution_count": null,
   "metadata": {
    "collapsed": false
   },
   "outputs": [],
   "source": [
    "df[df['Neighborhood' ]== \"Mission\"].describe()"
   ]
  },
  {
   "cell_type": "code",
   "execution_count": null,
   "metadata": {
    "collapsed": false
   },
   "outputs": [],
   "source": [
    "df['Responsible Agency'].value_counts()[:6]"
   ]
  },
  {
   "cell_type": "code",
   "execution_count": null,
   "metadata": {
    "collapsed": false
   },
   "outputs": [],
   "source": [
    "df[df['Responsible Agency'] == 'US Postal Service Maintenance Queue']['Diff'].describe()"
   ]
  },
  {
   "cell_type": "code",
   "execution_count": null,
   "metadata": {
    "collapsed": false
   },
   "outputs": [],
   "source": [
    "df[df['Responsible Agency'] == 'Clear Channel - Transit Queue']['Diff'].describe()"
   ]
  },
  {
   "cell_type": "code",
   "execution_count": null,
   "metadata": {
    "collapsed": false
   },
   "outputs": [],
   "source": [
    "df[df['Responsible Agency'] == 'DPW Ops Queue']['Diff'].describe()"
   ]
  },
  {
   "cell_type": "code",
   "execution_count": null,
   "metadata": {
    "collapsed": false
   },
   "outputs": [],
   "source": [
    "df[df['Category'] == 'Graffiti Private Property']['Diff'].describe()"
   ]
  },
  {
   "cell_type": "code",
   "execution_count": null,
   "metadata": {
    "collapsed": false
   },
   "outputs": [],
   "source": [
    "df[df['Category'] == 'Graffiti Public Property']['Diff'].describe()"
   ]
  },
  {
   "cell_type": "code",
   "execution_count": null,
   "metadata": {
    "collapsed": false
   },
   "outputs": [],
   "source": [
    "df['Source'].value_counts()"
   ]
  },
  {
   "cell_type": "code",
   "execution_count": null,
   "metadata": {
    "collapsed": false
   },
   "outputs": [],
   "source": [
    "df[df['Source'] == 'Open311']['Diff'].describe()"
   ]
  },
  {
   "cell_type": "code",
   "execution_count": null,
   "metadata": {
    "collapsed": false
   },
   "outputs": [],
   "source": [
    "df[df['Source'] == 'Voice In']['Diff'].describe()"
   ]
  },
  {
   "cell_type": "code",
   "execution_count": null,
   "metadata": {
    "collapsed": false
   },
   "outputs": [],
   "source": [
    "df[df['Source'] == 'Integrated Agency']['Diff'].describe()"
   ]
  },
  {
   "cell_type": "markdown",
   "metadata": {},
   "source": [
    "# Consider some exploratory statistics / reality checks"
   ]
  },
  {
   "cell_type": "code",
   "execution_count": null,
   "metadata": {
    "collapsed": false
   },
   "outputs": [],
   "source": [
    "source = df.Source.value_counts()\n",
    "print(type(source))\n",
    "\n",
    "\n",
    "print(source)"
   ]
  },
  {
   "cell_type": "code",
   "execution_count": null,
   "metadata": {
    "collapsed": false
   },
   "outputs": [],
   "source": [
    "type(source)"
   ]
  },
  {
   "cell_type": "code",
   "execution_count": null,
   "metadata": {
    "collapsed": false
   },
   "outputs": [],
   "source": [
    "label_list = source.index.tolist()\n",
    "print(label_list)"
   ]
  },
  {
   "cell_type": "code",
   "execution_count": null,
   "metadata": {
    "collapsed": false
   },
   "outputs": [],
   "source": [
    "source = source.tolist()\n",
    "source\n"
   ]
  },
  {
   "cell_type": "code",
   "execution_count": null,
   "metadata": {
    "collapsed": false
   },
   "outputs": [],
   "source": [
    "\n",
    "\n",
    "plt.axis(\"equal\")\n",
    "plt.pie(\n",
    "        source,\n",
    "        labels=label_list,\n",
    "        autopct=\"%1.1f%%\"\n",
    "        )\n",
    "plt.title(\"Graffiti Reports Submitted in 2016\")\n",
    "plt.show()"
   ]
  },
  {
   "cell_type": "code",
   "execution_count": null,
   "metadata": {
    "collapsed": true
   },
   "outputs": [],
   "source": []
  },
  {
   "cell_type": "code",
   "execution_count": null,
   "metadata": {
    "collapsed": false
   },
   "outputs": [],
   "source": [
    "sups = df['Supervisor District'].value_counts().head(11)"
   ]
  },
  {
   "cell_type": "code",
   "execution_count": null,
   "metadata": {
    "collapsed": false
   },
   "outputs": [],
   "source": [
    "top = "
   ]
  },
  {
   "cell_type": "markdown",
   "metadata": {},
   "source": [
    "# Get list of Supervisor's'"
   ]
  },
  {
   "cell_type": "code",
   "execution_count": null,
   "metadata": {
    "collapsed": true
   },
   "outputs": [],
   "source": []
  },
  {
   "cell_type": "code",
   "execution_count": null,
   "metadata": {
    "collapsed": true
   },
   "outputs": [],
   "source": []
  },
  {
   "cell_type": "code",
   "execution_count": null,
   "metadata": {
    "collapsed": true
   },
   "outputs": [],
   "source": []
  },
  {
   "cell_type": "code",
   "execution_count": null,
   "metadata": {
    "collapsed": false
   },
   "outputs": [],
   "source": [
    "df['Status Notes'].value_counts().head(10)"
   ]
  },
  {
   "cell_type": "code",
   "execution_count": null,
   "metadata": {
    "collapsed": false
   },
   "outputs": [],
   "source": [
    "df['Status'].value_counts().head()"
   ]
  },
  {
   "cell_type": "code",
   "execution_count": null,
   "metadata": {
    "collapsed": false
   },
   "outputs": [],
   "source": [
    "df['Responsible Agency'].value_counts().head(8)"
   ]
  },
  {
   "cell_type": "code",
   "execution_count": null,
   "metadata": {
    "collapsed": false
   },
   "outputs": [],
   "source": [
    "df.Category.value_counts().head()"
   ]
  },
  {
   "cell_type": "code",
   "execution_count": null,
   "metadata": {
    "collapsed": false
   },
   "outputs": [],
   "source": [
    "df['Request Type'].value_counts().head(10)"
   ]
  },
  {
   "cell_type": "code",
   "execution_count": null,
   "metadata": {
    "collapsed": false
   },
   "outputs": [],
   "source": [
    "df['Request Details'].value_counts().head(20)"
   ]
  },
  {
   "cell_type": "code",
   "execution_count": null,
   "metadata": {
    "collapsed": false
   },
   "outputs": [],
   "source": [
    "df['Address'].value_counts().head(20)"
   ]
  },
  {
   "cell_type": "code",
   "execution_count": null,
   "metadata": {
    "collapsed": false
   },
   "outputs": [],
   "source": [
    "df['Source'].value_counts().head(6)"
   ]
  },
  {
   "cell_type": "code",
   "execution_count": null,
   "metadata": {
    "collapsed": false
   },
   "outputs": [],
   "source": [
    "df['Media URL'].describe()"
   ]
  },
  {
   "cell_type": "code",
   "execution_count": null,
   "metadata": {
    "collapsed": false
   },
   "outputs": [],
   "source": [
    "df['Point'].describe()"
   ]
  },
  {
   "cell_type": "code",
   "execution_count": null,
   "metadata": {
    "collapsed": true
   },
   "outputs": [],
   "source": [
    "\n",
    "\n",
    "\n"
   ]
  },
  {
   "cell_type": "markdown",
   "metadata": {
    "collapsed": true
   },
   "source": [
    "# Plot this.    Simple First\n"
   ]
  },
  {
   "cell_type": "code",
   "execution_count": null,
   "metadata": {
    "collapsed": true
   },
   "outputs": [],
   "source": [
    "#Plot by top responsible agency that is not DPW"
   ]
  },
  {
   "cell_type": "code",
   "execution_count": null,
   "metadata": {
    "collapsed": true
   },
   "outputs": [],
   "source": []
  },
  {
   "cell_type": "code",
   "execution_count": null,
   "metadata": {
    "collapsed": true
   },
   "outputs": [],
   "source": []
  },
  {
   "cell_type": "code",
   "execution_count": null,
   "metadata": {
    "collapsed": true
   },
   "outputs": [],
   "source": []
  },
  {
   "cell_type": "code",
   "execution_count": null,
   "metadata": {
    "collapsed": true
   },
   "outputs": [],
   "source": []
  },
  {
   "cell_type": "code",
   "execution_count": null,
   "metadata": {
    "collapsed": true
   },
   "outputs": [],
   "source": []
  },
  {
   "cell_type": "code",
   "execution_count": null,
   "metadata": {
    "collapsed": true
   },
   "outputs": [],
   "source": []
  },
  {
   "cell_type": "code",
   "execution_count": null,
   "metadata": {
    "collapsed": true
   },
   "outputs": [],
   "source": []
  },
  {
   "cell_type": "raw",
   "metadata": {
    "collapsed": false
   },
   "source": [
    "import pandas as pd\n",
    "\n",
    "urlX = 'https://data.sfgov.org/resource/rme2-xgvs.json'\n",
    "\n",
    "\n",
    "# load JSON as DataFrame\n",
    "json_data=pd.read_json(urlX).T\n",
    "\n",
    "# to CSV\n",
    "json_data.to_csv(\"geocoded.csv\")"
   ]
  },
  {
   "cell_type": "code",
   "execution_count": null,
   "metadata": {
    "collapsed": false
   },
   "outputs": [],
   "source": [
    "!pwd"
   ]
  },
  {
   "cell_type": "code",
   "execution_count": null,
   "metadata": {
    "collapsed": false
   },
   "outputs": [],
   "source": [
    "!ls"
   ]
  },
  {
   "cell_type": "code",
   "execution_count": null,
   "metadata": {
    "collapsed": false
   },
   "outputs": [],
   "source": [
    "!cat geocoded.csv"
   ]
  },
  {
   "cell_type": "code",
   "execution_count": null,
   "metadata": {
    "collapsed": true
   },
   "outputs": [],
   "source": []
  },
  {
   "cell_type": "markdown",
   "metadata": {},
   "source": [
    "# Start Plotting the simple items"
   ]
  },
  {
   "cell_type": "markdown",
   "metadata": {},
   "source": [
    "# Plot Responsible Agency non DPW"
   ]
  },
  {
   "cell_type": "code",
   "execution_count": null,
   "metadata": {
    "collapsed": false
   },
   "outputs": [],
   "source": [
    "respAgencyCount = df['Responsible Agency'].value_counts()"
   ]
  },
  {
   "cell_type": "code",
   "execution_count": null,
   "metadata": {
    "collapsed": true
   },
   "outputs": [],
   "source": [
    "respAgencyCount = respAgencyCount[1:27]"
   ]
  },
  {
   "cell_type": "code",
   "execution_count": null,
   "metadata": {
    "collapsed": false
   },
   "outputs": [],
   "source": [
    "respAgencyCount"
   ]
  },
  {
   "cell_type": "markdown",
   "metadata": {},
   "source": [
    "## minimally acceptable is to do pie / dpw vs all other\n",
    "### DPW share compared to prior years\n",
    "### Conclude, DPW doing a good job, how about the other departments\n",
    "### Bar Chart the top 5-6\n",
    "### Which of the top 5-6 are doing better.\n",
    "### can't give the most natural statistic, because "
   ]
  },
  {
   "cell_type": "code",
   "execution_count": null,
   "metadata": {
    "collapsed": true
   },
   "outputs": [],
   "source": []
  }
 ],
 "metadata": {
  "kernelspec": {
   "display_name": "Python 3",
   "language": "python",
   "name": "python3"
  },
  "language_info": {
   "codemirror_mode": {
    "name": "ipython",
    "version": 3
   },
   "file_extension": ".py",
   "mimetype": "text/x-python",
   "name": "python",
   "nbconvert_exporter": "python",
   "pygments_lexer": "ipython3",
   "version": "3.5.2"
  }
 },
 "nbformat": 4,
 "nbformat_minor": 1
}
