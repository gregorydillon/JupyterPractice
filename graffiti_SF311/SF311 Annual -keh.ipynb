{
 "cells": [
  {
   "cell_type": "markdown",
   "metadata": {},
   "source": [
    "\n",
    "# Graffiti Annual  Numbers"
   ]
  },
  {
   "cell_type": "markdown",
   "metadata": {},
   "source": [
    "# Make Sure the modules are installed\n",
    "\n"
   ]
  },
  {
   "cell_type": "markdown",
   "metadata": {},
   "source": [
    "# Import modules"
   ]
  },
  {
   "cell_type": "code",
   "execution_count": 229,
   "metadata": {
    "collapsed": false
   },
   "outputs": [],
   "source": [
    "\n",
    "import numpy as np\n",
    "import pandas as pd\n",
    "\n",
    "\n"
   ]
  },
  {
   "cell_type": "code",
   "execution_count": 230,
   "metadata": {
    "collapsed": false
   },
   "outputs": [
    {
     "name": "stdout",
     "output_type": "stream",
     "text": [
      "/home/gdillon/JupyterPractice/graffiti_SF311\r\n"
     ]
    }
   ],
   "source": [
    "!pwd"
   ]
  },
  {
   "cell_type": "markdown",
   "metadata": {
    "collapsed": true
   },
   "source": [
    "# produce viz of annual total 2009-2016\n",
    "because I'm using SQL type queery with count(*), this responds faster"
   ]
  },
  {
   "cell_type": "markdown",
   "metadata": {},
   "source": [
    "## api call for count of all by year"
   ]
  },
  {
   "cell_type": "code",
   "execution_count": 231,
   "metadata": {
    "collapsed": true
   },
   "outputs": [],
   "source": [
    "url = 'https://data.sfgov.org/resource/qer8-n8u9.csv?$select=date_trunc_y(opened)as%20year,%20count(*)&$order=year&$group=year'"
   ]
  },
  {
   "cell_type": "code",
   "execution_count": 232,
   "metadata": {
    "collapsed": false
   },
   "outputs": [
    {
     "data": {
      "text/html": [
       "<div>\n",
       "<table border=\"1\" class=\"dataframe\">\n",
       "  <thead>\n",
       "    <tr style=\"text-align: right;\">\n",
       "      <th></th>\n",
       "      <th>year</th>\n",
       "      <th>count</th>\n",
       "    </tr>\n",
       "  </thead>\n",
       "  <tbody>\n",
       "    <tr>\n",
       "      <th>1</th>\n",
       "      <td>01/01/2009 12:00:00 AM</td>\n",
       "      <td>32285</td>\n",
       "    </tr>\n",
       "    <tr>\n",
       "      <th>2</th>\n",
       "      <td>01/01/2010 12:00:00 AM</td>\n",
       "      <td>26769</td>\n",
       "    </tr>\n",
       "    <tr>\n",
       "      <th>3</th>\n",
       "      <td>01/01/2011 12:00:00 AM</td>\n",
       "      <td>25445</td>\n",
       "    </tr>\n",
       "    <tr>\n",
       "      <th>4</th>\n",
       "      <td>01/01/2012 12:00:00 AM</td>\n",
       "      <td>26254</td>\n",
       "    </tr>\n",
       "    <tr>\n",
       "      <th>5</th>\n",
       "      <td>01/01/2013 12:00:00 AM</td>\n",
       "      <td>35831</td>\n",
       "    </tr>\n",
       "    <tr>\n",
       "      <th>6</th>\n",
       "      <td>01/01/2014 12:00:00 AM</td>\n",
       "      <td>46808</td>\n",
       "    </tr>\n",
       "    <tr>\n",
       "      <th>7</th>\n",
       "      <td>01/01/2015 12:00:00 AM</td>\n",
       "      <td>57249</td>\n",
       "    </tr>\n",
       "    <tr>\n",
       "      <th>8</th>\n",
       "      <td>01/01/2016 12:00:00 AM</td>\n",
       "      <td>72392</td>\n",
       "    </tr>\n",
       "  </tbody>\n",
       "</table>\n",
       "</div>"
      ],
      "text/plain": [
       "                     year  count\n",
       "1  01/01/2009 12:00:00 AM  32285\n",
       "2  01/01/2010 12:00:00 AM  26769\n",
       "3  01/01/2011 12:00:00 AM  25445\n",
       "4  01/01/2012 12:00:00 AM  26254\n",
       "5  01/01/2013 12:00:00 AM  35831\n",
       "6  01/01/2014 12:00:00 AM  46808\n",
       "7  01/01/2015 12:00:00 AM  57249\n",
       "8  01/01/2016 12:00:00 AM  72392"
      ]
     },
     "execution_count": 232,
     "metadata": {},
     "output_type": "execute_result"
    }
   ],
   "source": [
    "df = pd.read_csv(url)\n",
    "df = df[1:-1]\n",
    "df"
   ]
  },
  {
   "cell_type": "code",
   "execution_count": 233,
   "metadata": {
    "collapsed": false
   },
   "outputs": [
    {
     "name": "stderr",
     "output_type": "stream",
     "text": [
      "/home/gdillon/.local/lib/python3.5/site-packages/ipykernel/__main__.py:1: FutureWarning: currently extract(expand=None) means expand=False (return Index/Series/DataFrame) but in a future version of pandas this will be changed to expand=True (return DataFrame)\n",
      "  if __name__ == '__main__':\n"
     ]
    },
    {
     "data": {
      "text/html": [
       "<div>\n",
       "<table border=\"1\" class=\"dataframe\">\n",
       "  <thead>\n",
       "    <tr style=\"text-align: right;\">\n",
       "      <th></th>\n",
       "      <th>year</th>\n",
       "      <th>count</th>\n",
       "    </tr>\n",
       "  </thead>\n",
       "  <tbody>\n",
       "    <tr>\n",
       "      <th>1</th>\n",
       "      <td>2009</td>\n",
       "      <td>32285</td>\n",
       "    </tr>\n",
       "    <tr>\n",
       "      <th>2</th>\n",
       "      <td>2010</td>\n",
       "      <td>26769</td>\n",
       "    </tr>\n",
       "    <tr>\n",
       "      <th>3</th>\n",
       "      <td>2011</td>\n",
       "      <td>25445</td>\n",
       "    </tr>\n",
       "    <tr>\n",
       "      <th>4</th>\n",
       "      <td>2012</td>\n",
       "      <td>26254</td>\n",
       "    </tr>\n",
       "    <tr>\n",
       "      <th>5</th>\n",
       "      <td>2013</td>\n",
       "      <td>35831</td>\n",
       "    </tr>\n",
       "    <tr>\n",
       "      <th>6</th>\n",
       "      <td>2014</td>\n",
       "      <td>46808</td>\n",
       "    </tr>\n",
       "    <tr>\n",
       "      <th>7</th>\n",
       "      <td>2015</td>\n",
       "      <td>57249</td>\n",
       "    </tr>\n",
       "    <tr>\n",
       "      <th>8</th>\n",
       "      <td>2016</td>\n",
       "      <td>72392</td>\n",
       "    </tr>\n",
       "  </tbody>\n",
       "</table>\n",
       "</div>"
      ],
      "text/plain": [
       "   year  count\n",
       "1  2009  32285\n",
       "2  2010  26769\n",
       "3  2011  25445\n",
       "4  2012  26254\n",
       "5  2013  35831\n",
       "6  2014  46808\n",
       "7  2015  57249\n",
       "8  2016  72392"
      ]
     },
     "execution_count": 233,
     "metadata": {},
     "output_type": "execute_result"
    }
   ],
   "source": [
    "df['year']=df['year'].str.extract('(?P<year>\\d{4})').astype(str)\n",
    "df['count']=df['count'].astype(int)\n",
    "df"
   ]
  },
  {
   "cell_type": "code",
   "execution_count": 234,
   "metadata": {
    "collapsed": false
   },
   "outputs": [
    {
     "data": {
      "text/html": [
       "\n",
       "    <div class=\"bk-root\">\n",
       "        <a href=\"http://bokeh.pydata.org\" target=\"_blank\" class=\"bk-logo bk-logo-small bk-logo-notebook\"></a>\n",
       "        <span id=\"e5f5baed-1768-4955-957d-d6be0c9d8d98\">Loading BokehJS ...</span>\n",
       "    </div>"
      ]
     },
     "metadata": {},
     "output_type": "display_data"
    },
    {
     "data": {
      "application/javascript": [
       "\n",
       "(function(global) {\n",
       "  function now() {\n",
       "    return new Date();\n",
       "  }\n",
       "\n",
       "  var force = \"1\";\n",
       "\n",
       "  if (typeof (window._bokeh_onload_callbacks) === \"undefined\" || force !== \"\") {\n",
       "    window._bokeh_onload_callbacks = [];\n",
       "    window._bokeh_is_loading = undefined;\n",
       "  }\n",
       "\n",
       "\n",
       "  \n",
       "  if (typeof (window._bokeh_timeout) === \"undefined\" || force !== \"\") {\n",
       "    window._bokeh_timeout = Date.now() + 5000;\n",
       "    window._bokeh_failed_load = false;\n",
       "  }\n",
       "\n",
       "  var NB_LOAD_WARNING = {'data': {'text/html':\n",
       "     \"<div style='background-color: #fdd'>\\n\"+\n",
       "     \"<p>\\n\"+\n",
       "     \"BokehJS does not appear to have successfully loaded. If loading BokehJS from CDN, this \\n\"+\n",
       "     \"may be due to a slow or bad network connection. Possible fixes:\\n\"+\n",
       "     \"</p>\\n\"+\n",
       "     \"<ul>\\n\"+\n",
       "     \"<li>re-rerun `output_notebook()` to attempt to load from CDN again, or</li>\\n\"+\n",
       "     \"<li>use INLINE resources instead, as so:</li>\\n\"+\n",
       "     \"</ul>\\n\"+\n",
       "     \"<code>\\n\"+\n",
       "     \"from bokeh.resources import INLINE\\n\"+\n",
       "     \"output_notebook(resources=INLINE)\\n\"+\n",
       "     \"</code>\\n\"+\n",
       "     \"</div>\"}};\n",
       "\n",
       "  function display_loaded() {\n",
       "    if (window.Bokeh !== undefined) {\n",
       "      Bokeh.$(\"#e5f5baed-1768-4955-957d-d6be0c9d8d98\").text(\"BokehJS successfully loaded.\");\n",
       "    } else if (Date.now() < window._bokeh_timeout) {\n",
       "      setTimeout(display_loaded, 100)\n",
       "    }\n",
       "  }\n",
       "\n",
       "  function run_callbacks() {\n",
       "    window._bokeh_onload_callbacks.forEach(function(callback) { callback() });\n",
       "    delete window._bokeh_onload_callbacks\n",
       "    console.info(\"Bokeh: all callbacks have finished\");\n",
       "  }\n",
       "\n",
       "  function load_libs(js_urls, callback) {\n",
       "    window._bokeh_onload_callbacks.push(callback);\n",
       "    if (window._bokeh_is_loading > 0) {\n",
       "      console.log(\"Bokeh: BokehJS is being loaded, scheduling callback at\", now());\n",
       "      return null;\n",
       "    }\n",
       "    if (js_urls == null || js_urls.length === 0) {\n",
       "      run_callbacks();\n",
       "      return null;\n",
       "    }\n",
       "    console.log(\"Bokeh: BokehJS not loaded, scheduling load and callback at\", now());\n",
       "    window._bokeh_is_loading = js_urls.length;\n",
       "    for (var i = 0; i < js_urls.length; i++) {\n",
       "      var url = js_urls[i];\n",
       "      var s = document.createElement('script');\n",
       "      s.src = url;\n",
       "      s.async = false;\n",
       "      s.onreadystatechange = s.onload = function() {\n",
       "        window._bokeh_is_loading--;\n",
       "        if (window._bokeh_is_loading === 0) {\n",
       "          console.log(\"Bokeh: all BokehJS libraries loaded\");\n",
       "          run_callbacks()\n",
       "        }\n",
       "      };\n",
       "      s.onerror = function() {\n",
       "        console.warn(\"failed to load library \" + url);\n",
       "      };\n",
       "      console.log(\"Bokeh: injecting script tag for BokehJS library: \", url);\n",
       "      document.getElementsByTagName(\"head\")[0].appendChild(s);\n",
       "    }\n",
       "  };var element = document.getElementById(\"e5f5baed-1768-4955-957d-d6be0c9d8d98\");\n",
       "  if (element == null) {\n",
       "    console.log(\"Bokeh: ERROR: autoload.js configured with elementid 'e5f5baed-1768-4955-957d-d6be0c9d8d98' but no matching script tag was found. \")\n",
       "    return false;\n",
       "  }\n",
       "\n",
       "  var js_urls = ['https://cdn.pydata.org/bokeh/release/bokeh-0.12.3.min.js', 'https://cdn.pydata.org/bokeh/release/bokeh-widgets-0.12.3.min.js'];\n",
       "\n",
       "  var inline_js = [\n",
       "    function(Bokeh) {\n",
       "      Bokeh.set_log_level(\"info\");\n",
       "    },\n",
       "    \n",
       "    function(Bokeh) {\n",
       "      \n",
       "      Bokeh.$(\"#e5f5baed-1768-4955-957d-d6be0c9d8d98\").text(\"BokehJS is loading...\");\n",
       "    },\n",
       "    function(Bokeh) {\n",
       "      console.log(\"Bokeh: injecting CSS: https://cdn.pydata.org/bokeh/release/bokeh-0.12.3.min.css\");\n",
       "      Bokeh.embed.inject_css(\"https://cdn.pydata.org/bokeh/release/bokeh-0.12.3.min.css\");\n",
       "      console.log(\"Bokeh: injecting CSS: https://cdn.pydata.org/bokeh/release/bokeh-widgets-0.12.3.min.css\");\n",
       "      Bokeh.embed.inject_css(\"https://cdn.pydata.org/bokeh/release/bokeh-widgets-0.12.3.min.css\");\n",
       "    }\n",
       "  ];\n",
       "\n",
       "  function run_inline_js() {\n",
       "    \n",
       "    if ((window.Bokeh !== undefined) || (force === \"1\")) {\n",
       "      for (var i = 0; i < inline_js.length; i++) {\n",
       "        inline_js[i](window.Bokeh);\n",
       "      }if (force === \"1\") {\n",
       "        display_loaded();\n",
       "      }} else if (Date.now() < window._bokeh_timeout) {\n",
       "      setTimeout(run_inline_js, 100);\n",
       "    } else if (!window._bokeh_failed_load) {\n",
       "      console.log(\"Bokeh: BokehJS failed to load within specified timeout.\");\n",
       "      window._bokeh_failed_load = true;\n",
       "    } else if (!force) {\n",
       "      var cell = $(\"#e5f5baed-1768-4955-957d-d6be0c9d8d98\").parents('.cell').data().cell;\n",
       "      cell.output_area.append_execute_result(NB_LOAD_WARNING)\n",
       "    }\n",
       "\n",
       "  }\n",
       "\n",
       "  if (window._bokeh_is_loading === 0) {\n",
       "    console.log(\"Bokeh: BokehJS loaded, going straight to plotting\");\n",
       "    run_inline_js();\n",
       "  } else {\n",
       "    load_libs(js_urls, function() {\n",
       "      console.log(\"Bokeh: BokehJS plotting callback run at\", now());\n",
       "      run_inline_js();\n",
       "    });\n",
       "  }\n",
       "}(this));"
      ]
     },
     "metadata": {},
     "output_type": "display_data"
    }
   ],
   "source": [
    "from bokeh.charts import Bar, output_file, output_notebook\n",
    "from bokeh.layouts import row\n",
    "output_notebook()"
   ]
  },
  {
   "cell_type": "code",
   "execution_count": 235,
   "metadata": {
    "collapsed": false
   },
   "outputs": [
    {
     "data": {
      "text/html": [
       "\n",
       "    <div class=\"bk-root\">\n",
       "        <a href=\"http://bokeh.pydata.org\" target=\"_blank\" class=\"bk-logo bk-logo-small bk-logo-notebook\"></a>\n",
       "        <span id=\"aaa49a01-7760-4e39-b23b-daf118262193\">Loading BokehJS ...</span>\n",
       "    </div>"
      ]
     },
     "metadata": {},
     "output_type": "display_data"
    },
    {
     "data": {
      "application/javascript": [
       "\n",
       "(function(global) {\n",
       "  function now() {\n",
       "    return new Date();\n",
       "  }\n",
       "\n",
       "  var force = \"1\";\n",
       "\n",
       "  if (typeof (window._bokeh_onload_callbacks) === \"undefined\" || force !== \"\") {\n",
       "    window._bokeh_onload_callbacks = [];\n",
       "    window._bokeh_is_loading = undefined;\n",
       "  }\n",
       "\n",
       "\n",
       "  \n",
       "  if (typeof (window._bokeh_timeout) === \"undefined\" || force !== \"\") {\n",
       "    window._bokeh_timeout = Date.now() + 5000;\n",
       "    window._bokeh_failed_load = false;\n",
       "  }\n",
       "\n",
       "  var NB_LOAD_WARNING = {'data': {'text/html':\n",
       "     \"<div style='background-color: #fdd'>\\n\"+\n",
       "     \"<p>\\n\"+\n",
       "     \"BokehJS does not appear to have successfully loaded. If loading BokehJS from CDN, this \\n\"+\n",
       "     \"may be due to a slow or bad network connection. Possible fixes:\\n\"+\n",
       "     \"</p>\\n\"+\n",
       "     \"<ul>\\n\"+\n",
       "     \"<li>re-rerun `output_notebook()` to attempt to load from CDN again, or</li>\\n\"+\n",
       "     \"<li>use INLINE resources instead, as so:</li>\\n\"+\n",
       "     \"</ul>\\n\"+\n",
       "     \"<code>\\n\"+\n",
       "     \"from bokeh.resources import INLINE\\n\"+\n",
       "     \"output_notebook(resources=INLINE)\\n\"+\n",
       "     \"</code>\\n\"+\n",
       "     \"</div>\"}};\n",
       "\n",
       "  function display_loaded() {\n",
       "    if (window.Bokeh !== undefined) {\n",
       "      Bokeh.$(\"#aaa49a01-7760-4e39-b23b-daf118262193\").text(\"BokehJS successfully loaded.\");\n",
       "    } else if (Date.now() < window._bokeh_timeout) {\n",
       "      setTimeout(display_loaded, 100)\n",
       "    }\n",
       "  }\n",
       "\n",
       "  function run_callbacks() {\n",
       "    window._bokeh_onload_callbacks.forEach(function(callback) { callback() });\n",
       "    delete window._bokeh_onload_callbacks\n",
       "    console.info(\"Bokeh: all callbacks have finished\");\n",
       "  }\n",
       "\n",
       "  function load_libs(js_urls, callback) {\n",
       "    window._bokeh_onload_callbacks.push(callback);\n",
       "    if (window._bokeh_is_loading > 0) {\n",
       "      console.log(\"Bokeh: BokehJS is being loaded, scheduling callback at\", now());\n",
       "      return null;\n",
       "    }\n",
       "    if (js_urls == null || js_urls.length === 0) {\n",
       "      run_callbacks();\n",
       "      return null;\n",
       "    }\n",
       "    console.log(\"Bokeh: BokehJS not loaded, scheduling load and callback at\", now());\n",
       "    window._bokeh_is_loading = js_urls.length;\n",
       "    for (var i = 0; i < js_urls.length; i++) {\n",
       "      var url = js_urls[i];\n",
       "      var s = document.createElement('script');\n",
       "      s.src = url;\n",
       "      s.async = false;\n",
       "      s.onreadystatechange = s.onload = function() {\n",
       "        window._bokeh_is_loading--;\n",
       "        if (window._bokeh_is_loading === 0) {\n",
       "          console.log(\"Bokeh: all BokehJS libraries loaded\");\n",
       "          run_callbacks()\n",
       "        }\n",
       "      };\n",
       "      s.onerror = function() {\n",
       "        console.warn(\"failed to load library \" + url);\n",
       "      };\n",
       "      console.log(\"Bokeh: injecting script tag for BokehJS library: \", url);\n",
       "      document.getElementsByTagName(\"head\")[0].appendChild(s);\n",
       "    }\n",
       "  };var element = document.getElementById(\"aaa49a01-7760-4e39-b23b-daf118262193\");\n",
       "  if (element == null) {\n",
       "    console.log(\"Bokeh: ERROR: autoload.js configured with elementid 'aaa49a01-7760-4e39-b23b-daf118262193' but no matching script tag was found. \")\n",
       "    return false;\n",
       "  }\n",
       "\n",
       "  var js_urls = ['https://cdn.pydata.org/bokeh/release/bokeh-0.12.3.min.js', 'https://cdn.pydata.org/bokeh/release/bokeh-widgets-0.12.3.min.js'];\n",
       "\n",
       "  var inline_js = [\n",
       "    function(Bokeh) {\n",
       "      Bokeh.set_log_level(\"info\");\n",
       "    },\n",
       "    \n",
       "    function(Bokeh) {\n",
       "      \n",
       "      Bokeh.$(\"#aaa49a01-7760-4e39-b23b-daf118262193\").text(\"BokehJS is loading...\");\n",
       "    },\n",
       "    function(Bokeh) {\n",
       "      console.log(\"Bokeh: injecting CSS: https://cdn.pydata.org/bokeh/release/bokeh-0.12.3.min.css\");\n",
       "      Bokeh.embed.inject_css(\"https://cdn.pydata.org/bokeh/release/bokeh-0.12.3.min.css\");\n",
       "      console.log(\"Bokeh: injecting CSS: https://cdn.pydata.org/bokeh/release/bokeh-widgets-0.12.3.min.css\");\n",
       "      Bokeh.embed.inject_css(\"https://cdn.pydata.org/bokeh/release/bokeh-widgets-0.12.3.min.css\");\n",
       "    }\n",
       "  ];\n",
       "\n",
       "  function run_inline_js() {\n",
       "    \n",
       "    if ((window.Bokeh !== undefined) || (force === \"1\")) {\n",
       "      for (var i = 0; i < inline_js.length; i++) {\n",
       "        inline_js[i](window.Bokeh);\n",
       "      }if (force === \"1\") {\n",
       "        display_loaded();\n",
       "      }} else if (Date.now() < window._bokeh_timeout) {\n",
       "      setTimeout(run_inline_js, 100);\n",
       "    } else if (!window._bokeh_failed_load) {\n",
       "      console.log(\"Bokeh: BokehJS failed to load within specified timeout.\");\n",
       "      window._bokeh_failed_load = true;\n",
       "    } else if (!force) {\n",
       "      var cell = $(\"#aaa49a01-7760-4e39-b23b-daf118262193\").parents('.cell').data().cell;\n",
       "      cell.output_area.append_execute_result(NB_LOAD_WARNING)\n",
       "    }\n",
       "\n",
       "  }\n",
       "\n",
       "  if (window._bokeh_is_loading === 0) {\n",
       "    console.log(\"Bokeh: BokehJS loaded, going straight to plotting\");\n",
       "    run_inline_js();\n",
       "  } else {\n",
       "    load_libs(js_urls, function() {\n",
       "      console.log(\"Bokeh: BokehJS plotting callback run at\", now());\n",
       "      run_inline_js();\n",
       "    });\n",
       "  }\n",
       "}(this));"
      ]
     },
     "metadata": {},
     "output_type": "display_data"
    },
    {
     "data": {
      "text/html": [
       "\n",
       "\n",
       "    <div class=\"bk-root\">\n",
       "        <div class=\"plotdiv\" id=\"fbff6be9-03b9-456f-9e20-1daa80e4aeb2\"></div>\n",
       "    </div>\n",
       "<script type=\"text/javascript\">\n",
       "  \n",
       "  (function(global) {\n",
       "    function now() {\n",
       "      return new Date();\n",
       "    }\n",
       "  \n",
       "    var force = \"\";\n",
       "  \n",
       "    if (typeof (window._bokeh_onload_callbacks) === \"undefined\" || force !== \"\") {\n",
       "      window._bokeh_onload_callbacks = [];\n",
       "      window._bokeh_is_loading = undefined;\n",
       "    }\n",
       "  \n",
       "  \n",
       "    \n",
       "    if (typeof (window._bokeh_timeout) === \"undefined\" || force !== \"\") {\n",
       "      window._bokeh_timeout = Date.now() + 0;\n",
       "      window._bokeh_failed_load = false;\n",
       "    }\n",
       "  \n",
       "    var NB_LOAD_WARNING = {'data': {'text/html':\n",
       "       \"<div style='background-color: #fdd'>\\n\"+\n",
       "       \"<p>\\n\"+\n",
       "       \"BokehJS does not appear to have successfully loaded. If loading BokehJS from CDN, this \\n\"+\n",
       "       \"may be due to a slow or bad network connection. Possible fixes:\\n\"+\n",
       "       \"</p>\\n\"+\n",
       "       \"<ul>\\n\"+\n",
       "       \"<li>re-rerun `output_notebook()` to attempt to load from CDN again, or</li>\\n\"+\n",
       "       \"<li>use INLINE resources instead, as so:</li>\\n\"+\n",
       "       \"</ul>\\n\"+\n",
       "       \"<code>\\n\"+\n",
       "       \"from bokeh.resources import INLINE\\n\"+\n",
       "       \"output_notebook(resources=INLINE)\\n\"+\n",
       "       \"</code>\\n\"+\n",
       "       \"</div>\"}};\n",
       "  \n",
       "    function display_loaded() {\n",
       "      if (window.Bokeh !== undefined) {\n",
       "        Bokeh.$(\"#fbff6be9-03b9-456f-9e20-1daa80e4aeb2\").text(\"BokehJS successfully loaded.\");\n",
       "      } else if (Date.now() < window._bokeh_timeout) {\n",
       "        setTimeout(display_loaded, 100)\n",
       "      }\n",
       "    }\n",
       "  \n",
       "    function run_callbacks() {\n",
       "      window._bokeh_onload_callbacks.forEach(function(callback) { callback() });\n",
       "      delete window._bokeh_onload_callbacks\n",
       "      console.info(\"Bokeh: all callbacks have finished\");\n",
       "    }\n",
       "  \n",
       "    function load_libs(js_urls, callback) {\n",
       "      window._bokeh_onload_callbacks.push(callback);\n",
       "      if (window._bokeh_is_loading > 0) {\n",
       "        console.log(\"Bokeh: BokehJS is being loaded, scheduling callback at\", now());\n",
       "        return null;\n",
       "      }\n",
       "      if (js_urls == null || js_urls.length === 0) {\n",
       "        run_callbacks();\n",
       "        return null;\n",
       "      }\n",
       "      console.log(\"Bokeh: BokehJS not loaded, scheduling load and callback at\", now());\n",
       "      window._bokeh_is_loading = js_urls.length;\n",
       "      for (var i = 0; i < js_urls.length; i++) {\n",
       "        var url = js_urls[i];\n",
       "        var s = document.createElement('script');\n",
       "        s.src = url;\n",
       "        s.async = false;\n",
       "        s.onreadystatechange = s.onload = function() {\n",
       "          window._bokeh_is_loading--;\n",
       "          if (window._bokeh_is_loading === 0) {\n",
       "            console.log(\"Bokeh: all BokehJS libraries loaded\");\n",
       "            run_callbacks()\n",
       "          }\n",
       "        };\n",
       "        s.onerror = function() {\n",
       "          console.warn(\"failed to load library \" + url);\n",
       "        };\n",
       "        console.log(\"Bokeh: injecting script tag for BokehJS library: \", url);\n",
       "        document.getElementsByTagName(\"head\")[0].appendChild(s);\n",
       "      }\n",
       "    };var element = document.getElementById(\"fbff6be9-03b9-456f-9e20-1daa80e4aeb2\");\n",
       "    if (element == null) {\n",
       "      console.log(\"Bokeh: ERROR: autoload.js configured with elementid 'fbff6be9-03b9-456f-9e20-1daa80e4aeb2' but no matching script tag was found. \")\n",
       "      return false;\n",
       "    }\n",
       "  \n",
       "    var js_urls = [];\n",
       "  \n",
       "    var inline_js = [\n",
       "      function(Bokeh) {\n",
       "        Bokeh.$(function() {\n",
       "            var docs_json = {\"44f8038b-5c31-4247-8b80-67d2924a1820\":{\"roots\":{\"references\":[{\"attributes\":{\"plot\":{\"id\":\"8494b168-8294-479b-92fc-2c29f3de0a1e\",\"subtype\":\"Chart\",\"type\":\"Plot\"}},\"id\":\"0e213e56-b29b-4a45-9cdd-7aa8ea13bff9\",\"type\":\"SaveTool\"},{\"attributes\":{\"active_drag\":\"auto\",\"active_scroll\":\"auto\",\"active_tap\":\"auto\",\"tools\":[{\"id\":\"a4bb2033-a4aa-4860-b548-6b522a9433b9\",\"type\":\"PanTool\"},{\"id\":\"c9419ac1-29a8-4996-93a2-9cb5f7274a6e\",\"type\":\"WheelZoomTool\"},{\"id\":\"e858da3a-421e-47a9-a472-03044e21869d\",\"type\":\"BoxZoomTool\"},{\"id\":\"0e213e56-b29b-4a45-9cdd-7aa8ea13bff9\",\"type\":\"SaveTool\"},{\"id\":\"3415807c-6d95-422a-9dd9-525f4ca37c66\",\"type\":\"ResetTool\"},{\"id\":\"55582c6d-0fac-4b5f-851e-6d87f19d876a\",\"type\":\"HelpTool\"}]},\"id\":\"1120ceb1-fc00-48c6-9a51-d8f9080a4a3e\",\"type\":\"Toolbar\"},{\"attributes\":{\"fill_alpha\":{\"field\":\"fill_alpha\"},\"fill_color\":{\"field\":\"color\"},\"height\":{\"field\":\"height\",\"units\":\"data\"},\"line_color\":{\"field\":\"line_color\"},\"width\":{\"field\":\"width\",\"units\":\"data\"},\"x\":{\"field\":\"x\"},\"y\":{\"field\":\"y\"}},\"id\":\"03b0018a-9612-42eb-bb96-278d9e20f7fc\",\"type\":\"Rect\"},{\"attributes\":{\"label\":{\"value\":\"2011\"},\"renderers\":[{\"id\":\"db816fc3-9243-435f-9142-0f091648d32d\",\"type\":\"GlyphRenderer\"}]},\"id\":\"3428d5c4-793d-4c50-af2f-beaf6bb86f9e\",\"type\":\"LegendItem\"},{\"attributes\":{\"plot\":{\"id\":\"8494b168-8294-479b-92fc-2c29f3de0a1e\",\"subtype\":\"Chart\",\"type\":\"Plot\"}},\"id\":\"a4bb2033-a4aa-4860-b548-6b522a9433b9\",\"type\":\"PanTool\"},{\"attributes\":{},\"id\":\"aeb1e007-fb07-4deb-9fb5-5dc8f70c431b\",\"type\":\"CategoricalTicker\"},{\"attributes\":{\"callback\":null,\"column_names\":[\"height\",\"x\",\"width\",\"line_color\",\"label\",\"y\",\"line_alpha\",\"fill_alpha\",\"color\"],\"data\":{\"chart_index\":[{\"year\":\"2015\"}],\"color\":[\"#f22c40\"],\"fill_alpha\":[0.8],\"height\":[57249.0],\"label\":[{\"year\":\"2015\"}],\"line_alpha\":[1.0],\"line_color\":[\"white\"],\"width\":[0.8],\"x\":[\"2015\"],\"y\":[28624.5],\"year\":[\"2015\"]}},\"id\":\"a11d8817-ff6a-4d97-be97-9fb2bced6943\",\"type\":\"ColumnDataSource\"},{\"attributes\":{\"below\":[{\"id\":\"d1f61812-6e9f-42d2-af04-858b1b235874\",\"type\":\"CategoricalAxis\"}],\"left\":[{\"id\":\"b82b63e5-0582-400c-85fb-bd840eba5e3d\",\"type\":\"LinearAxis\"}],\"renderers\":[{\"id\":\"851fd207-fdf1-46fa-b90c-f021823142ab\",\"type\":\"BoxAnnotation\"},{\"id\":\"9bdd4a4e-0ecd-4ec3-bd50-06f5360121fb\",\"type\":\"GlyphRenderer\"},{\"id\":\"bac7bd24-d100-4c84-b765-1e920c996fbb\",\"type\":\"GlyphRenderer\"},{\"id\":\"db816fc3-9243-435f-9142-0f091648d32d\",\"type\":\"GlyphRenderer\"},{\"id\":\"a6c77d77-c30a-4554-a919-49c8e8a6bc05\",\"type\":\"GlyphRenderer\"},{\"id\":\"f22252b6-f466-4052-a4bd-f893575e5d2e\",\"type\":\"GlyphRenderer\"},{\"id\":\"81541e7a-a975-46c9-8d53-ce0f59add865\",\"type\":\"GlyphRenderer\"},{\"id\":\"aec5cf5e-bfa3-46e5-a14c-191d2c249675\",\"type\":\"GlyphRenderer\"},{\"id\":\"72809ef4-51fb-433a-aa77-84d19e44a265\",\"type\":\"GlyphRenderer\"},{\"id\":\"ae400687-068a-4a88-90c5-7d3ff45794ff\",\"type\":\"Legend\"},{\"id\":\"d1f61812-6e9f-42d2-af04-858b1b235874\",\"type\":\"CategoricalAxis\"},{\"id\":\"b82b63e5-0582-400c-85fb-bd840eba5e3d\",\"type\":\"LinearAxis\"},{\"id\":\"94a0e445-a447-4436-91cf-750e336d10dc\",\"type\":\"Grid\"}],\"title\":{\"id\":\"b12d3084-b6b8-4c78-8528-707fc206e20a\",\"type\":\"Title\"},\"tool_events\":{\"id\":\"25dd613e-c066-479f-98b5-7a0293170551\",\"type\":\"ToolEvents\"},\"toolbar\":{\"id\":\"1120ceb1-fc00-48c6-9a51-d8f9080a4a3e\",\"type\":\"Toolbar\"},\"x_mapper_type\":\"auto\",\"x_range\":{\"id\":\"8042b4a2-957b-47a9-a1e6-d47a9d882a96\",\"type\":\"FactorRange\"},\"y_mapper_type\":\"auto\",\"y_range\":{\"id\":\"b8e6ca0c-b152-40c9-9c74-7042c948ada0\",\"type\":\"Range1d\"}},\"id\":\"8494b168-8294-479b-92fc-2c29f3de0a1e\",\"subtype\":\"Chart\",\"type\":\"Plot\"},{\"attributes\":{\"data_source\":{\"id\":\"8f291146-582c-4d3e-b07e-61b5c1ea0059\",\"type\":\"ColumnDataSource\"},\"glyph\":{\"id\":\"03b0018a-9612-42eb-bb96-278d9e20f7fc\",\"type\":\"Rect\"},\"hover_glyph\":null,\"nonselection_glyph\":null,\"selection_glyph\":null},\"id\":\"a6c77d77-c30a-4554-a919-49c8e8a6bc05\",\"type\":\"GlyphRenderer\"},{\"attributes\":{\"callback\":null,\"column_names\":[\"height\",\"x\",\"width\",\"line_color\",\"label\",\"y\",\"line_alpha\",\"fill_alpha\",\"color\"],\"data\":{\"chart_index\":[{\"year\":\"2010\"}],\"color\":[\"#f22c40\"],\"fill_alpha\":[0.8],\"height\":[26769.0],\"label\":[{\"year\":\"2010\"}],\"line_alpha\":[1.0],\"line_color\":[\"white\"],\"width\":[0.8],\"x\":[\"2010\"],\"y\":[13384.5],\"year\":[\"2010\"]}},\"id\":\"f38fcb25-09ab-48dd-8695-2a77b1f6e01d\",\"type\":\"ColumnDataSource\"},{\"attributes\":{\"overlay\":{\"id\":\"851fd207-fdf1-46fa-b90c-f021823142ab\",\"type\":\"BoxAnnotation\"},\"plot\":{\"id\":\"8494b168-8294-479b-92fc-2c29f3de0a1e\",\"subtype\":\"Chart\",\"type\":\"Plot\"}},\"id\":\"e858da3a-421e-47a9-a472-03044e21869d\",\"type\":\"BoxZoomTool\"},{\"attributes\":{\"label\":{\"value\":\"2014\"},\"renderers\":[{\"id\":\"81541e7a-a975-46c9-8d53-ce0f59add865\",\"type\":\"GlyphRenderer\"}]},\"id\":\"fce942dc-fdd9-44fb-8ed3-2e7036541fce\",\"type\":\"LegendItem\"},{\"attributes\":{\"label\":{\"value\":\"2016\"},\"renderers\":[{\"id\":\"72809ef4-51fb-433a-aa77-84d19e44a265\",\"type\":\"GlyphRenderer\"}]},\"id\":\"088ac648-5b06-4494-9254-adcd09f7b72c\",\"type\":\"LegendItem\"},{\"attributes\":{\"plot\":{\"id\":\"8494b168-8294-479b-92fc-2c29f3de0a1e\",\"subtype\":\"Chart\",\"type\":\"Plot\"}},\"id\":\"3415807c-6d95-422a-9dd9-525f4ca37c66\",\"type\":\"ResetTool\"},{\"attributes\":{\"fill_alpha\":{\"field\":\"fill_alpha\"},\"fill_color\":{\"field\":\"color\"},\"height\":{\"field\":\"height\",\"units\":\"data\"},\"line_color\":{\"field\":\"line_color\"},\"width\":{\"field\":\"width\",\"units\":\"data\"},\"x\":{\"field\":\"x\"},\"y\":{\"field\":\"y\"}},\"id\":\"f1f5fae2-10a5-48a2-90c0-de8fb2fc0d44\",\"type\":\"Rect\"},{\"attributes\":{\"fill_alpha\":{\"field\":\"fill_alpha\"},\"fill_color\":{\"field\":\"color\"},\"height\":{\"field\":\"height\",\"units\":\"data\"},\"line_color\":{\"field\":\"line_color\"},\"width\":{\"field\":\"width\",\"units\":\"data\"},\"x\":{\"field\":\"x\"},\"y\":{\"field\":\"y\"}},\"id\":\"c11ebd9a-a084-4230-9239-85e4d7e4998e\",\"type\":\"Rect\"},{\"attributes\":{\"label\":{\"value\":\"2012\"},\"renderers\":[{\"id\":\"a6c77d77-c30a-4554-a919-49c8e8a6bc05\",\"type\":\"GlyphRenderer\"}]},\"id\":\"0ad7f205-9e3f-4871-9725-ced887972a4c\",\"type\":\"LegendItem\"},{\"attributes\":{\"callback\":null,\"column_names\":[\"height\",\"x\",\"width\",\"line_color\",\"label\",\"y\",\"line_alpha\",\"fill_alpha\",\"color\"],\"data\":{\"chart_index\":[{\"year\":\"2016\"}],\"color\":[\"#f22c40\"],\"fill_alpha\":[0.8],\"height\":[72392.0],\"label\":[{\"year\":\"2016\"}],\"line_alpha\":[1.0],\"line_color\":[\"white\"],\"width\":[0.8],\"x\":[\"2016\"],\"y\":[36196.0],\"year\":[\"2016\"]}},\"id\":\"0b46b34b-bde2-4c15-8653-09609d55da11\",\"type\":\"ColumnDataSource\"},{\"attributes\":{\"bottom_units\":\"screen\",\"fill_alpha\":{\"value\":0.5},\"fill_color\":{\"value\":\"lightgrey\"},\"left_units\":\"screen\",\"level\":\"overlay\",\"line_alpha\":{\"value\":1.0},\"line_color\":{\"value\":\"black\"},\"line_dash\":[4,4],\"line_width\":{\"value\":2},\"plot\":null,\"render_mode\":\"css\",\"right_units\":\"screen\",\"top_units\":\"screen\"},\"id\":\"851fd207-fdf1-46fa-b90c-f021823142ab\",\"type\":\"BoxAnnotation\"},{\"attributes\":{\"children\":[{\"id\":\"8494b168-8294-479b-92fc-2c29f3de0a1e\",\"subtype\":\"Chart\",\"type\":\"Plot\"}]},\"id\":\"1c87ad1a-4738-4385-b0c5-5873af972c81\",\"type\":\"Row\"},{\"attributes\":{\"label\":{\"value\":\"2013\"},\"renderers\":[{\"id\":\"f22252b6-f466-4052-a4bd-f893575e5d2e\",\"type\":\"GlyphRenderer\"}]},\"id\":\"26330448-cffd-4e3c-bf2e-ab94c3fc84e6\",\"type\":\"LegendItem\"},{\"attributes\":{\"axis_label\":\"Sum( Count )\",\"formatter\":{\"id\":\"c4fc391a-ca7e-40b5-af05-14aac706009a\",\"type\":\"BasicTickFormatter\"},\"plot\":{\"id\":\"8494b168-8294-479b-92fc-2c29f3de0a1e\",\"subtype\":\"Chart\",\"type\":\"Plot\"},\"ticker\":{\"id\":\"01af9cde-259b-486c-8a84-59a597bddce6\",\"type\":\"BasicTicker\"}},\"id\":\"b82b63e5-0582-400c-85fb-bd840eba5e3d\",\"type\":\"LinearAxis\"},{\"attributes\":{\"data_source\":{\"id\":\"0e16c85e-820e-4375-be10-e7bf08830268\",\"type\":\"ColumnDataSource\"},\"glyph\":{\"id\":\"f1f5fae2-10a5-48a2-90c0-de8fb2fc0d44\",\"type\":\"Rect\"},\"hover_glyph\":null,\"nonselection_glyph\":null,\"selection_glyph\":null},\"id\":\"db816fc3-9243-435f-9142-0f091648d32d\",\"type\":\"GlyphRenderer\"},{\"attributes\":{\"fill_alpha\":{\"field\":\"fill_alpha\"},\"fill_color\":{\"field\":\"color\"},\"height\":{\"field\":\"height\",\"units\":\"data\"},\"line_color\":{\"field\":\"line_color\"},\"width\":{\"field\":\"width\",\"units\":\"data\"},\"x\":{\"field\":\"x\"},\"y\":{\"field\":\"y\"}},\"id\":\"2a351b6e-017e-438c-88ac-394960229d59\",\"type\":\"Rect\"},{\"attributes\":{\"data_source\":{\"id\":\"f38fcb25-09ab-48dd-8695-2a77b1f6e01d\",\"type\":\"ColumnDataSource\"},\"glyph\":{\"id\":\"f9180e97-0dbd-4b96-ab92-4ae85e400764\",\"type\":\"Rect\"},\"hover_glyph\":null,\"nonselection_glyph\":null,\"selection_glyph\":null},\"id\":\"bac7bd24-d100-4c84-b765-1e920c996fbb\",\"type\":\"GlyphRenderer\"},{\"attributes\":{\"label\":{\"value\":\"2015\"},\"renderers\":[{\"id\":\"aec5cf5e-bfa3-46e5-a14c-191d2c249675\",\"type\":\"GlyphRenderer\"}]},\"id\":\"7a301d8e-3448-4a0f-a9d5-5422f892e3dd\",\"type\":\"LegendItem\"},{\"attributes\":{\"callback\":null,\"end\":76011.6},\"id\":\"b8e6ca0c-b152-40c9-9c74-7042c948ada0\",\"type\":\"Range1d\"},{\"attributes\":{},\"id\":\"c4fc391a-ca7e-40b5-af05-14aac706009a\",\"type\":\"BasicTickFormatter\"},{\"attributes\":{\"fill_alpha\":{\"field\":\"fill_alpha\"},\"fill_color\":{\"field\":\"color\"},\"height\":{\"field\":\"height\",\"units\":\"data\"},\"line_color\":{\"field\":\"line_color\"},\"width\":{\"field\":\"width\",\"units\":\"data\"},\"x\":{\"field\":\"x\"},\"y\":{\"field\":\"y\"}},\"id\":\"5e0cca37-a2a3-43fd-8eec-3833694b182d\",\"type\":\"Rect\"},{\"attributes\":{\"data_source\":{\"id\":\"e7afa0b9-9d40-4660-ba93-e9a694170edf\",\"type\":\"ColumnDataSource\"},\"glyph\":{\"id\":\"7423669b-7014-4649-8ea2-06ad4779971d\",\"type\":\"Rect\"},\"hover_glyph\":null,\"nonselection_glyph\":null,\"selection_glyph\":null},\"id\":\"f22252b6-f466-4052-a4bd-f893575e5d2e\",\"type\":\"GlyphRenderer\"},{\"attributes\":{\"label\":{\"value\":\"2009\"},\"renderers\":[{\"id\":\"9bdd4a4e-0ecd-4ec3-bd50-06f5360121fb\",\"type\":\"GlyphRenderer\"}]},\"id\":\"1f91fffd-692b-4bcb-a599-2571067475e5\",\"type\":\"LegendItem\"},{\"attributes\":{\"callback\":null,\"column_names\":[\"height\",\"x\",\"width\",\"line_color\",\"label\",\"y\",\"line_alpha\",\"fill_alpha\",\"color\"],\"data\":{\"chart_index\":[{\"year\":\"2011\"}],\"color\":[\"#f22c40\"],\"fill_alpha\":[0.8],\"height\":[25445.0],\"label\":[{\"year\":\"2011\"}],\"line_alpha\":[1.0],\"line_color\":[\"white\"],\"width\":[0.8],\"x\":[\"2011\"],\"y\":[12722.5],\"year\":[\"2011\"]}},\"id\":\"0e16c85e-820e-4375-be10-e7bf08830268\",\"type\":\"ColumnDataSource\"},{\"attributes\":{\"dimension\":1,\"plot\":{\"id\":\"8494b168-8294-479b-92fc-2c29f3de0a1e\",\"subtype\":\"Chart\",\"type\":\"Plot\"},\"ticker\":{\"id\":\"01af9cde-259b-486c-8a84-59a597bddce6\",\"type\":\"BasicTicker\"}},\"id\":\"94a0e445-a447-4436-91cf-750e336d10dc\",\"type\":\"Grid\"},{\"attributes\":{\"label\":{\"value\":\"2010\"},\"renderers\":[{\"id\":\"bac7bd24-d100-4c84-b765-1e920c996fbb\",\"type\":\"GlyphRenderer\"}]},\"id\":\"224fdd42-5477-4773-8d7c-798d19def75f\",\"type\":\"LegendItem\"},{\"attributes\":{\"fill_alpha\":{\"field\":\"fill_alpha\"},\"fill_color\":{\"field\":\"color\"},\"height\":{\"field\":\"height\",\"units\":\"data\"},\"line_color\":{\"field\":\"line_color\"},\"width\":{\"field\":\"width\",\"units\":\"data\"},\"x\":{\"field\":\"x\"},\"y\":{\"field\":\"y\"}},\"id\":\"f9180e97-0dbd-4b96-ab92-4ae85e400764\",\"type\":\"Rect\"},{\"attributes\":{\"items\":[{\"id\":\"1f91fffd-692b-4bcb-a599-2571067475e5\",\"type\":\"LegendItem\"},{\"id\":\"224fdd42-5477-4773-8d7c-798d19def75f\",\"type\":\"LegendItem\"},{\"id\":\"3428d5c4-793d-4c50-af2f-beaf6bb86f9e\",\"type\":\"LegendItem\"},{\"id\":\"0ad7f205-9e3f-4871-9725-ced887972a4c\",\"type\":\"LegendItem\"},{\"id\":\"26330448-cffd-4e3c-bf2e-ab94c3fc84e6\",\"type\":\"LegendItem\"},{\"id\":\"fce942dc-fdd9-44fb-8ed3-2e7036541fce\",\"type\":\"LegendItem\"},{\"id\":\"7a301d8e-3448-4a0f-a9d5-5422f892e3dd\",\"type\":\"LegendItem\"},{\"id\":\"088ac648-5b06-4494-9254-adcd09f7b72c\",\"type\":\"LegendItem\"}],\"location\":\"top_left\",\"plot\":{\"id\":\"8494b168-8294-479b-92fc-2c29f3de0a1e\",\"subtype\":\"Chart\",\"type\":\"Plot\"}},\"id\":\"ae400687-068a-4a88-90c5-7d3ff45794ff\",\"type\":\"Legend\"},{\"attributes\":{\"data_source\":{\"id\":\"a11d8817-ff6a-4d97-be97-9fb2bced6943\",\"type\":\"ColumnDataSource\"},\"glyph\":{\"id\":\"2a351b6e-017e-438c-88ac-394960229d59\",\"type\":\"Rect\"},\"hover_glyph\":null,\"nonselection_glyph\":null,\"selection_glyph\":null},\"id\":\"aec5cf5e-bfa3-46e5-a14c-191d2c249675\",\"type\":\"GlyphRenderer\"},{\"attributes\":{},\"id\":\"25dd613e-c066-479f-98b5-7a0293170551\",\"type\":\"ToolEvents\"},{\"attributes\":{\"plot\":{\"id\":\"8494b168-8294-479b-92fc-2c29f3de0a1e\",\"subtype\":\"Chart\",\"type\":\"Plot\"}},\"id\":\"55582c6d-0fac-4b5f-851e-6d87f19d876a\",\"type\":\"HelpTool\"},{\"attributes\":{\"data_source\":{\"id\":\"794f76d9-fd31-4992-b179-6b2459b2205f\",\"type\":\"ColumnDataSource\"},\"glyph\":{\"id\":\"5e0cca37-a2a3-43fd-8eec-3833694b182d\",\"type\":\"Rect\"},\"hover_glyph\":null,\"nonselection_glyph\":null,\"selection_glyph\":null},\"id\":\"9bdd4a4e-0ecd-4ec3-bd50-06f5360121fb\",\"type\":\"GlyphRenderer\"},{\"attributes\":{\"plot\":null,\"text\":\"Graffiti reported to SF311 by year\"},\"id\":\"b12d3084-b6b8-4c78-8528-707fc206e20a\",\"type\":\"Title\"},{\"attributes\":{\"callback\":null,\"column_names\":[\"height\",\"x\",\"width\",\"line_color\",\"label\",\"y\",\"line_alpha\",\"fill_alpha\",\"color\"],\"data\":{\"chart_index\":[{\"year\":\"2014\"}],\"color\":[\"#f22c40\"],\"fill_alpha\":[0.8],\"height\":[46808.0],\"label\":[{\"year\":\"2014\"}],\"line_alpha\":[1.0],\"line_color\":[\"white\"],\"width\":[0.8],\"x\":[\"2014\"],\"y\":[23404.0],\"year\":[\"2014\"]}},\"id\":\"da5055ea-e4bd-4070-98f4-3f6618f18df3\",\"type\":\"ColumnDataSource\"},{\"attributes\":{},\"id\":\"0e39a913-5c16-4e39-b78f-64aa008722c6\",\"type\":\"CategoricalTickFormatter\"},{\"attributes\":{\"data_source\":{\"id\":\"0b46b34b-bde2-4c15-8653-09609d55da11\",\"type\":\"ColumnDataSource\"},\"glyph\":{\"id\":\"c11ebd9a-a084-4230-9239-85e4d7e4998e\",\"type\":\"Rect\"},\"hover_glyph\":null,\"nonselection_glyph\":null,\"selection_glyph\":null},\"id\":\"72809ef4-51fb-433a-aa77-84d19e44a265\",\"type\":\"GlyphRenderer\"},{\"attributes\":{\"callback\":null,\"column_names\":[\"height\",\"x\",\"width\",\"line_color\",\"label\",\"y\",\"line_alpha\",\"fill_alpha\",\"color\"],\"data\":{\"chart_index\":[{\"year\":\"2009\"}],\"color\":[\"#f22c40\"],\"fill_alpha\":[0.8],\"height\":[32285.0],\"label\":[{\"year\":\"2009\"}],\"line_alpha\":[1.0],\"line_color\":[\"white\"],\"width\":[0.8],\"x\":[\"2009\"],\"y\":[16142.5],\"year\":[\"2009\"]}},\"id\":\"794f76d9-fd31-4992-b179-6b2459b2205f\",\"type\":\"ColumnDataSource\"},{\"attributes\":{\"fill_alpha\":{\"field\":\"fill_alpha\"},\"fill_color\":{\"field\":\"color\"},\"height\":{\"field\":\"height\",\"units\":\"data\"},\"line_color\":{\"field\":\"line_color\"},\"width\":{\"field\":\"width\",\"units\":\"data\"},\"x\":{\"field\":\"x\"},\"y\":{\"field\":\"y\"}},\"id\":\"7423669b-7014-4649-8ea2-06ad4779971d\",\"type\":\"Rect\"},{\"attributes\":{\"callback\":null,\"factors\":[\"2009\",\"2010\",\"2011\",\"2012\",\"2013\",\"2014\",\"2015\",\"2016\"]},\"id\":\"8042b4a2-957b-47a9-a1e6-d47a9d882a96\",\"type\":\"FactorRange\"},{\"attributes\":{\"fill_alpha\":{\"field\":\"fill_alpha\"},\"fill_color\":{\"field\":\"color\"},\"height\":{\"field\":\"height\",\"units\":\"data\"},\"line_color\":{\"field\":\"line_color\"},\"width\":{\"field\":\"width\",\"units\":\"data\"},\"x\":{\"field\":\"x\"},\"y\":{\"field\":\"y\"}},\"id\":\"4532cf0e-b9b7-4234-bf14-bb93083a906f\",\"type\":\"Rect\"},{\"attributes\":{\"callback\":null,\"column_names\":[\"height\",\"x\",\"width\",\"line_color\",\"label\",\"y\",\"line_alpha\",\"fill_alpha\",\"color\"],\"data\":{\"chart_index\":[{\"year\":\"2012\"}],\"color\":[\"#f22c40\"],\"fill_alpha\":[0.8],\"height\":[26254.0],\"label\":[{\"year\":\"2012\"}],\"line_alpha\":[1.0],\"line_color\":[\"white\"],\"width\":[0.8],\"x\":[\"2012\"],\"y\":[13127.0],\"year\":[\"2012\"]}},\"id\":\"8f291146-582c-4d3e-b07e-61b5c1ea0059\",\"type\":\"ColumnDataSource\"},{\"attributes\":{\"callback\":null,\"column_names\":[\"height\",\"x\",\"width\",\"line_color\",\"label\",\"y\",\"line_alpha\",\"fill_alpha\",\"color\"],\"data\":{\"chart_index\":[{\"year\":\"2013\"}],\"color\":[\"#f22c40\"],\"fill_alpha\":[0.8],\"height\":[35831.0],\"label\":[{\"year\":\"2013\"}],\"line_alpha\":[1.0],\"line_color\":[\"white\"],\"width\":[0.8],\"x\":[\"2013\"],\"y\":[17915.5],\"year\":[\"2013\"]}},\"id\":\"e7afa0b9-9d40-4660-ba93-e9a694170edf\",\"type\":\"ColumnDataSource\"},{\"attributes\":{},\"id\":\"01af9cde-259b-486c-8a84-59a597bddce6\",\"type\":\"BasicTicker\"},{\"attributes\":{\"axis_label\":\"Year\",\"formatter\":{\"id\":\"0e39a913-5c16-4e39-b78f-64aa008722c6\",\"type\":\"CategoricalTickFormatter\"},\"major_label_orientation\":0.7853981633974483,\"plot\":{\"id\":\"8494b168-8294-479b-92fc-2c29f3de0a1e\",\"subtype\":\"Chart\",\"type\":\"Plot\"},\"ticker\":{\"id\":\"aeb1e007-fb07-4deb-9fb5-5dc8f70c431b\",\"type\":\"CategoricalTicker\"}},\"id\":\"d1f61812-6e9f-42d2-af04-858b1b235874\",\"type\":\"CategoricalAxis\"},{\"attributes\":{\"data_source\":{\"id\":\"da5055ea-e4bd-4070-98f4-3f6618f18df3\",\"type\":\"ColumnDataSource\"},\"glyph\":{\"id\":\"4532cf0e-b9b7-4234-bf14-bb93083a906f\",\"type\":\"Rect\"},\"hover_glyph\":null,\"nonselection_glyph\":null,\"selection_glyph\":null},\"id\":\"81541e7a-a975-46c9-8d53-ce0f59add865\",\"type\":\"GlyphRenderer\"},{\"attributes\":{\"plot\":{\"id\":\"8494b168-8294-479b-92fc-2c29f3de0a1e\",\"subtype\":\"Chart\",\"type\":\"Plot\"}},\"id\":\"c9419ac1-29a8-4996-93a2-9cb5f7274a6e\",\"type\":\"WheelZoomTool\"}],\"root_ids\":[\"1c87ad1a-4738-4385-b0c5-5873af972c81\"]},\"title\":\"Bokeh Application\",\"version\":\"0.12.3\"}};\n",
       "            var render_items = [{\"docid\":\"44f8038b-5c31-4247-8b80-67d2924a1820\",\"elementid\":\"fbff6be9-03b9-456f-9e20-1daa80e4aeb2\",\"modelid\":\"1c87ad1a-4738-4385-b0c5-5873af972c81\"}];\n",
       "            \n",
       "            Bokeh.embed.embed_items(docs_json, render_items);\n",
       "        });\n",
       "      },\n",
       "      function(Bokeh) {\n",
       "      }\n",
       "    ];\n",
       "  \n",
       "    function run_inline_js() {\n",
       "      \n",
       "      if ((window.Bokeh !== undefined) || (force === \"1\")) {\n",
       "        for (var i = 0; i < inline_js.length; i++) {\n",
       "          inline_js[i](window.Bokeh);\n",
       "        }if (force === \"1\") {\n",
       "          display_loaded();\n",
       "        }} else if (Date.now() < window._bokeh_timeout) {\n",
       "        setTimeout(run_inline_js, 100);\n",
       "      } else if (!window._bokeh_failed_load) {\n",
       "        console.log(\"Bokeh: BokehJS failed to load within specified timeout.\");\n",
       "        window._bokeh_failed_load = true;\n",
       "      } else if (!force) {\n",
       "        var cell = $(\"#fbff6be9-03b9-456f-9e20-1daa80e4aeb2\").parents('.cell').data().cell;\n",
       "        cell.output_area.append_execute_result(NB_LOAD_WARNING)\n",
       "      }\n",
       "  \n",
       "    }\n",
       "  \n",
       "    if (window._bokeh_is_loading === 0) {\n",
       "      console.log(\"Bokeh: BokehJS loaded, going straight to plotting\");\n",
       "      run_inline_js();\n",
       "    } else {\n",
       "      load_libs(js_urls, function() {\n",
       "        console.log(\"Bokeh: BokehJS plotting callback run at\", now());\n",
       "        run_inline_js();\n",
       "      });\n",
       "    }\n",
       "  }(this));\n",
       "</script>"
      ]
     },
     "metadata": {},
     "output_type": "display_data"
    }
   ],
   "source": [
    "trend = Bar(df, values = 'count', label = 'year', title = 'Graffiti reported to SF311 by year')\n",
    "output_notebook()\n",
    "show(row(trend))"
   ]
  },
  {
   "cell_type": "code",
   "execution_count": 236,
   "metadata": {
    "collapsed": false
   },
   "outputs": [
    {
     "data": {
      "text/html": [
       "<div>\n",
       "<table border=\"1\" class=\"dataframe\">\n",
       "  <thead>\n",
       "    <tr style=\"text-align: right;\">\n",
       "      <th></th>\n",
       "      <th>year</th>\n",
       "      <th>count</th>\n",
       "    </tr>\n",
       "  </thead>\n",
       "  <tbody>\n",
       "    <tr>\n",
       "      <th>4</th>\n",
       "      <td>2012</td>\n",
       "      <td>26254</td>\n",
       "    </tr>\n",
       "    <tr>\n",
       "      <th>5</th>\n",
       "      <td>2013</td>\n",
       "      <td>35831</td>\n",
       "    </tr>\n",
       "    <tr>\n",
       "      <th>6</th>\n",
       "      <td>2014</td>\n",
       "      <td>46808</td>\n",
       "    </tr>\n",
       "    <tr>\n",
       "      <th>7</th>\n",
       "      <td>2015</td>\n",
       "      <td>57249</td>\n",
       "    </tr>\n",
       "  </tbody>\n",
       "</table>\n",
       "</div>"
      ],
      "text/plain": [
       "   year  count\n",
       "4  2012  26254\n",
       "5  2013  35831\n",
       "6  2014  46808\n",
       "7  2015  57249"
      ]
     },
     "execution_count": 236,
     "metadata": {},
     "output_type": "execute_result"
    }
   ],
   "source": [
    "df = df[3:-1]\n",
    "df"
   ]
  },
  {
   "cell_type": "code",
   "execution_count": 237,
   "metadata": {
    "collapsed": false
   },
   "outputs": [
    {
     "data": {
      "text/plain": [
       "RangeIndex(start=4, stop=8, step=1)"
      ]
     },
     "execution_count": 237,
     "metadata": {},
     "output_type": "execute_result"
    }
   ],
   "source": [
    "df.index"
   ]
  },
  {
   "cell_type": "code",
   "execution_count": 238,
   "metadata": {
    "collapsed": false
   },
   "outputs": [
    {
     "data": {
      "text/html": [
       "\n",
       "\n",
       "    <div class=\"bk-root\">\n",
       "        <div class=\"plotdiv\" id=\"df3431be-e330-4438-ade9-e54925955169\"></div>\n",
       "    </div>\n",
       "<script type=\"text/javascript\">\n",
       "  \n",
       "  (function(global) {\n",
       "    function now() {\n",
       "      return new Date();\n",
       "    }\n",
       "  \n",
       "    var force = \"\";\n",
       "  \n",
       "    if (typeof (window._bokeh_onload_callbacks) === \"undefined\" || force !== \"\") {\n",
       "      window._bokeh_onload_callbacks = [];\n",
       "      window._bokeh_is_loading = undefined;\n",
       "    }\n",
       "  \n",
       "  \n",
       "    \n",
       "    if (typeof (window._bokeh_timeout) === \"undefined\" || force !== \"\") {\n",
       "      window._bokeh_timeout = Date.now() + 0;\n",
       "      window._bokeh_failed_load = false;\n",
       "    }\n",
       "  \n",
       "    var NB_LOAD_WARNING = {'data': {'text/html':\n",
       "       \"<div style='background-color: #fdd'>\\n\"+\n",
       "       \"<p>\\n\"+\n",
       "       \"BokehJS does not appear to have successfully loaded. If loading BokehJS from CDN, this \\n\"+\n",
       "       \"may be due to a slow or bad network connection. Possible fixes:\\n\"+\n",
       "       \"</p>\\n\"+\n",
       "       \"<ul>\\n\"+\n",
       "       \"<li>re-rerun `output_notebook()` to attempt to load from CDN again, or</li>\\n\"+\n",
       "       \"<li>use INLINE resources instead, as so:</li>\\n\"+\n",
       "       \"</ul>\\n\"+\n",
       "       \"<code>\\n\"+\n",
       "       \"from bokeh.resources import INLINE\\n\"+\n",
       "       \"output_notebook(resources=INLINE)\\n\"+\n",
       "       \"</code>\\n\"+\n",
       "       \"</div>\"}};\n",
       "  \n",
       "    function display_loaded() {\n",
       "      if (window.Bokeh !== undefined) {\n",
       "        Bokeh.$(\"#df3431be-e330-4438-ade9-e54925955169\").text(\"BokehJS successfully loaded.\");\n",
       "      } else if (Date.now() < window._bokeh_timeout) {\n",
       "        setTimeout(display_loaded, 100)\n",
       "      }\n",
       "    }\n",
       "  \n",
       "    function run_callbacks() {\n",
       "      window._bokeh_onload_callbacks.forEach(function(callback) { callback() });\n",
       "      delete window._bokeh_onload_callbacks\n",
       "      console.info(\"Bokeh: all callbacks have finished\");\n",
       "    }\n",
       "  \n",
       "    function load_libs(js_urls, callback) {\n",
       "      window._bokeh_onload_callbacks.push(callback);\n",
       "      if (window._bokeh_is_loading > 0) {\n",
       "        console.log(\"Bokeh: BokehJS is being loaded, scheduling callback at\", now());\n",
       "        return null;\n",
       "      }\n",
       "      if (js_urls == null || js_urls.length === 0) {\n",
       "        run_callbacks();\n",
       "        return null;\n",
       "      }\n",
       "      console.log(\"Bokeh: BokehJS not loaded, scheduling load and callback at\", now());\n",
       "      window._bokeh_is_loading = js_urls.length;\n",
       "      for (var i = 0; i < js_urls.length; i++) {\n",
       "        var url = js_urls[i];\n",
       "        var s = document.createElement('script');\n",
       "        s.src = url;\n",
       "        s.async = false;\n",
       "        s.onreadystatechange = s.onload = function() {\n",
       "          window._bokeh_is_loading--;\n",
       "          if (window._bokeh_is_loading === 0) {\n",
       "            console.log(\"Bokeh: all BokehJS libraries loaded\");\n",
       "            run_callbacks()\n",
       "          }\n",
       "        };\n",
       "        s.onerror = function() {\n",
       "          console.warn(\"failed to load library \" + url);\n",
       "        };\n",
       "        console.log(\"Bokeh: injecting script tag for BokehJS library: \", url);\n",
       "        document.getElementsByTagName(\"head\")[0].appendChild(s);\n",
       "      }\n",
       "    };var element = document.getElementById(\"df3431be-e330-4438-ade9-e54925955169\");\n",
       "    if (element == null) {\n",
       "      console.log(\"Bokeh: ERROR: autoload.js configured with elementid 'df3431be-e330-4438-ade9-e54925955169' but no matching script tag was found. \")\n",
       "      return false;\n",
       "    }\n",
       "  \n",
       "    var js_urls = [];\n",
       "  \n",
       "    var inline_js = [\n",
       "      function(Bokeh) {\n",
       "        Bokeh.$(function() {\n",
       "            var docs_json = {\"98288073-5b58-4a9b-a5f0-d87f105147da\":{\"roots\":{\"references\":[{\"attributes\":{\"fill_alpha\":{\"field\":\"fill_alpha\"},\"fill_color\":{\"field\":\"color\"},\"height\":{\"field\":\"height\",\"units\":\"data\"},\"line_color\":{\"field\":\"line_color\"},\"width\":{\"field\":\"width\",\"units\":\"data\"},\"x\":{\"field\":\"x\"},\"y\":{\"field\":\"y\"}},\"id\":\"7fef1574-d4b7-430e-a6cb-7459b430fb82\",\"type\":\"Rect\"},{\"attributes\":{\"plot\":{\"id\":\"93de3fc2-4e7d-4718-8abe-71be375bf997\",\"subtype\":\"Chart\",\"type\":\"Plot\"}},\"id\":\"bf22d110-a039-4941-bc7a-76b8c8f48bd1\",\"type\":\"PanTool\"},{\"attributes\":{},\"id\":\"ad089d12-002d-4754-96f5-d1128cd2f966\",\"type\":\"BasicTicker\"},{\"attributes\":{},\"id\":\"c12d1d1d-25d1-4f81-9b11-ae014da82e0c\",\"type\":\"BasicTickFormatter\"},{\"attributes\":{\"plot\":{\"id\":\"93de3fc2-4e7d-4718-8abe-71be375bf997\",\"subtype\":\"Chart\",\"type\":\"Plot\"}},\"id\":\"98bef473-5222-41b1-ac78-597e2d1cdaa7\",\"type\":\"HelpTool\"},{\"attributes\":{\"children\":[{\"id\":\"93de3fc2-4e7d-4718-8abe-71be375bf997\",\"subtype\":\"Chart\",\"type\":\"Plot\"}]},\"id\":\"9ab896d8-7338-4081-b325-54b87c5c503c\",\"type\":\"Row\"},{\"attributes\":{\"plot\":{\"id\":\"93de3fc2-4e7d-4718-8abe-71be375bf997\",\"subtype\":\"Chart\",\"type\":\"Plot\"}},\"id\":\"c9e08927-e104-4b86-8ab1-6be758366d0d\",\"type\":\"WheelZoomTool\"},{\"attributes\":{\"callback\":null,\"column_names\":[\"height\",\"x\",\"width\",\"line_color\",\"label\",\"y\",\"line_alpha\",\"fill_alpha\",\"color\"],\"data\":{\"chart_index\":[{\"year\":\"2015\"}],\"color\":[\"#f22c40\"],\"fill_alpha\":[0.8],\"height\":[57249.0],\"label\":[{\"year\":\"2015\"}],\"line_alpha\":[1.0],\"line_color\":[\"white\"],\"width\":[0.8],\"x\":[\"2015\"],\"y\":[28624.5],\"year\":[\"2015\"]}},\"id\":\"c0d908d5-c69d-4211-a343-5693567c0d10\",\"type\":\"ColumnDataSource\"},{\"attributes\":{\"plot\":null,\"text\":null},\"id\":\"cad9c419-3d4a-4ded-98cd-62a4424d863f\",\"type\":\"Title\"},{\"attributes\":{\"callback\":null,\"end\":60111.45},\"id\":\"d028b598-c362-407d-a6c3-06b69bcde807\",\"type\":\"Range1d\"},{\"attributes\":{\"callback\":null,\"column_names\":[\"height\",\"x\",\"width\",\"line_color\",\"label\",\"y\",\"line_alpha\",\"fill_alpha\",\"color\"],\"data\":{\"chart_index\":[{\"year\":\"2013\"}],\"color\":[\"#f22c40\"],\"fill_alpha\":[0.8],\"height\":[35831.0],\"label\":[{\"year\":\"2013\"}],\"line_alpha\":[1.0],\"line_color\":[\"white\"],\"width\":[0.8],\"x\":[\"2013\"],\"y\":[17915.5],\"year\":[\"2013\"]}},\"id\":\"5a61d29c-f735-4c2e-9d8b-d04c0dad14ef\",\"type\":\"ColumnDataSource\"},{\"attributes\":{\"axis_label\":\"Year\",\"formatter\":{\"id\":\"616fc13e-1bdc-4275-958b-647a28ca6c31\",\"type\":\"CategoricalTickFormatter\"},\"major_label_orientation\":0.7853981633974483,\"plot\":{\"id\":\"93de3fc2-4e7d-4718-8abe-71be375bf997\",\"subtype\":\"Chart\",\"type\":\"Plot\"},\"ticker\":{\"id\":\"6c201ba4-0688-49da-85b1-9043de230802\",\"type\":\"CategoricalTicker\"}},\"id\":\"bc952ec4-4ca9-4068-a036-4fa7923af11d\",\"type\":\"CategoricalAxis\"},{\"attributes\":{\"callback\":null,\"column_names\":[\"height\",\"x\",\"width\",\"line_color\",\"label\",\"y\",\"line_alpha\",\"fill_alpha\",\"color\"],\"data\":{\"chart_index\":[{\"year\":\"2012\"}],\"color\":[\"#f22c40\"],\"fill_alpha\":[0.8],\"height\":[26254.0],\"label\":[{\"year\":\"2012\"}],\"line_alpha\":[1.0],\"line_color\":[\"white\"],\"width\":[0.8],\"x\":[\"2012\"],\"y\":[13127.0],\"year\":[\"2012\"]}},\"id\":\"ec580fb1-cde1-43a0-a5ed-e619929cf86b\",\"type\":\"ColumnDataSource\"},{\"attributes\":{\"label\":{\"value\":\"2013\"},\"renderers\":[{\"id\":\"95d12e8a-59ca-4456-8a93-ab84d838d614\",\"type\":\"GlyphRenderer\"}]},\"id\":\"dc234bb1-de06-4d2e-90f4-17a8bda90893\",\"type\":\"LegendItem\"},{\"attributes\":{\"data_source\":{\"id\":\"c0d908d5-c69d-4211-a343-5693567c0d10\",\"type\":\"ColumnDataSource\"},\"glyph\":{\"id\":\"56bbed6c-fba2-40ea-92ea-5af0a06f4ab3\",\"type\":\"Rect\"},\"hover_glyph\":null,\"nonselection_glyph\":null,\"selection_glyph\":null},\"id\":\"1f23217e-7c3d-425b-9506-3b36e5697d59\",\"type\":\"GlyphRenderer\"},{\"attributes\":{\"items\":[{\"id\":\"d3b3a2ee-a2d7-4db4-a48e-eed55045227c\",\"type\":\"LegendItem\"},{\"id\":\"dc234bb1-de06-4d2e-90f4-17a8bda90893\",\"type\":\"LegendItem\"},{\"id\":\"6cc83046-a81d-4980-8dff-35f369cf789e\",\"type\":\"LegendItem\"},{\"id\":\"af04b905-ad37-48cb-9c5c-3fc062f6d6e7\",\"type\":\"LegendItem\"}],\"location\":\"top_left\",\"plot\":{\"id\":\"93de3fc2-4e7d-4718-8abe-71be375bf997\",\"subtype\":\"Chart\",\"type\":\"Plot\"}},\"id\":\"7d59111d-3ca2-4a44-a570-4688dc4e5c99\",\"type\":\"Legend\"},{\"attributes\":{},\"id\":\"27f87785-c7eb-4f2f-8827-9f891040aa52\",\"type\":\"ToolEvents\"},{\"attributes\":{\"data_source\":{\"id\":\"ec580fb1-cde1-43a0-a5ed-e619929cf86b\",\"type\":\"ColumnDataSource\"},\"glyph\":{\"id\":\"7fef1574-d4b7-430e-a6cb-7459b430fb82\",\"type\":\"Rect\"},\"hover_glyph\":null,\"nonselection_glyph\":null,\"selection_glyph\":null},\"id\":\"88300618-1af1-44cf-b122-9b59e0153af5\",\"type\":\"GlyphRenderer\"},{\"attributes\":{\"fill_alpha\":{\"field\":\"fill_alpha\"},\"fill_color\":{\"field\":\"color\"},\"height\":{\"field\":\"height\",\"units\":\"data\"},\"line_color\":{\"field\":\"line_color\"},\"width\":{\"field\":\"width\",\"units\":\"data\"},\"x\":{\"field\":\"x\"},\"y\":{\"field\":\"y\"}},\"id\":\"6c474714-db84-4ae9-81d4-c020292534ac\",\"type\":\"Rect\"},{\"attributes\":{\"overlay\":{\"id\":\"d770d4e3-f300-4f9e-81da-05df3012b57f\",\"type\":\"BoxAnnotation\"},\"plot\":{\"id\":\"93de3fc2-4e7d-4718-8abe-71be375bf997\",\"subtype\":\"Chart\",\"type\":\"Plot\"}},\"id\":\"5e1497d9-5406-4fc2-a631-01dd002cd0bd\",\"type\":\"BoxZoomTool\"},{\"attributes\":{},\"id\":\"616fc13e-1bdc-4275-958b-647a28ca6c31\",\"type\":\"CategoricalTickFormatter\"},{\"attributes\":{},\"id\":\"6c201ba4-0688-49da-85b1-9043de230802\",\"type\":\"CategoricalTicker\"},{\"attributes\":{\"data_source\":{\"id\":\"cca83024-62e8-4051-9202-97ad0d420e6b\",\"type\":\"ColumnDataSource\"},\"glyph\":{\"id\":\"6c474714-db84-4ae9-81d4-c020292534ac\",\"type\":\"Rect\"},\"hover_glyph\":null,\"nonselection_glyph\":null,\"selection_glyph\":null},\"id\":\"2895a87d-0047-4e9e-9d9c-eef6709f82d3\",\"type\":\"GlyphRenderer\"},{\"attributes\":{\"active_drag\":\"auto\",\"active_scroll\":\"auto\",\"active_tap\":\"auto\",\"tools\":[{\"id\":\"bf22d110-a039-4941-bc7a-76b8c8f48bd1\",\"type\":\"PanTool\"},{\"id\":\"c9e08927-e104-4b86-8ab1-6be758366d0d\",\"type\":\"WheelZoomTool\"},{\"id\":\"5e1497d9-5406-4fc2-a631-01dd002cd0bd\",\"type\":\"BoxZoomTool\"},{\"id\":\"f2fd4a13-b5e3-4cd3-8664-8fca5c92a50d\",\"type\":\"SaveTool\"},{\"id\":\"26044f75-a536-4071-bc31-fe5cd0065b10\",\"type\":\"ResetTool\"},{\"id\":\"98bef473-5222-41b1-ac78-597e2d1cdaa7\",\"type\":\"HelpTool\"}]},\"id\":\"baf84a1e-37bc-45e4-99e6-612ea334a322\",\"type\":\"Toolbar\"},{\"attributes\":{\"callback\":null,\"column_names\":[\"height\",\"x\",\"width\",\"line_color\",\"label\",\"y\",\"line_alpha\",\"fill_alpha\",\"color\"],\"data\":{\"chart_index\":[{\"year\":\"2014\"}],\"color\":[\"#f22c40\"],\"fill_alpha\":[0.8],\"height\":[46808.0],\"label\":[{\"year\":\"2014\"}],\"line_alpha\":[1.0],\"line_color\":[\"white\"],\"width\":[0.8],\"x\":[\"2014\"],\"y\":[23404.0],\"year\":[\"2014\"]}},\"id\":\"cca83024-62e8-4051-9202-97ad0d420e6b\",\"type\":\"ColumnDataSource\"},{\"attributes\":{\"fill_alpha\":{\"field\":\"fill_alpha\"},\"fill_color\":{\"field\":\"color\"},\"height\":{\"field\":\"height\",\"units\":\"data\"},\"line_color\":{\"field\":\"line_color\"},\"width\":{\"field\":\"width\",\"units\":\"data\"},\"x\":{\"field\":\"x\"},\"y\":{\"field\":\"y\"}},\"id\":\"bbe0e45c-d7ec-4773-a837-f5fa3fd9f6bc\",\"type\":\"Rect\"},{\"attributes\":{\"dimension\":1,\"plot\":{\"id\":\"93de3fc2-4e7d-4718-8abe-71be375bf997\",\"subtype\":\"Chart\",\"type\":\"Plot\"},\"ticker\":{\"id\":\"ad089d12-002d-4754-96f5-d1128cd2f966\",\"type\":\"BasicTicker\"}},\"id\":\"e1900535-e128-4d44-ac41-f0ffd07be508\",\"type\":\"Grid\"},{\"attributes\":{\"data_source\":{\"id\":\"5a61d29c-f735-4c2e-9d8b-d04c0dad14ef\",\"type\":\"ColumnDataSource\"},\"glyph\":{\"id\":\"bbe0e45c-d7ec-4773-a837-f5fa3fd9f6bc\",\"type\":\"Rect\"},\"hover_glyph\":null,\"nonselection_glyph\":null,\"selection_glyph\":null},\"id\":\"95d12e8a-59ca-4456-8a93-ab84d838d614\",\"type\":\"GlyphRenderer\"},{\"attributes\":{\"below\":[{\"id\":\"bc952ec4-4ca9-4068-a036-4fa7923af11d\",\"type\":\"CategoricalAxis\"}],\"left\":[{\"id\":\"98d00e04-058a-48a8-8921-fb4bab3ad607\",\"type\":\"LinearAxis\"}],\"renderers\":[{\"id\":\"d770d4e3-f300-4f9e-81da-05df3012b57f\",\"type\":\"BoxAnnotation\"},{\"id\":\"88300618-1af1-44cf-b122-9b59e0153af5\",\"type\":\"GlyphRenderer\"},{\"id\":\"95d12e8a-59ca-4456-8a93-ab84d838d614\",\"type\":\"GlyphRenderer\"},{\"id\":\"2895a87d-0047-4e9e-9d9c-eef6709f82d3\",\"type\":\"GlyphRenderer\"},{\"id\":\"1f23217e-7c3d-425b-9506-3b36e5697d59\",\"type\":\"GlyphRenderer\"},{\"id\":\"7d59111d-3ca2-4a44-a570-4688dc4e5c99\",\"type\":\"Legend\"},{\"id\":\"bc952ec4-4ca9-4068-a036-4fa7923af11d\",\"type\":\"CategoricalAxis\"},{\"id\":\"98d00e04-058a-48a8-8921-fb4bab3ad607\",\"type\":\"LinearAxis\"},{\"id\":\"e1900535-e128-4d44-ac41-f0ffd07be508\",\"type\":\"Grid\"}],\"title\":{\"id\":\"cad9c419-3d4a-4ded-98cd-62a4424d863f\",\"type\":\"Title\"},\"tool_events\":{\"id\":\"27f87785-c7eb-4f2f-8827-9f891040aa52\",\"type\":\"ToolEvents\"},\"toolbar\":{\"id\":\"baf84a1e-37bc-45e4-99e6-612ea334a322\",\"type\":\"Toolbar\"},\"x_mapper_type\":\"auto\",\"x_range\":{\"id\":\"8b16045b-fc0f-42c4-9de1-9ea39e7c1b80\",\"type\":\"FactorRange\"},\"y_mapper_type\":\"auto\",\"y_range\":{\"id\":\"d028b598-c362-407d-a6c3-06b69bcde807\",\"type\":\"Range1d\"}},\"id\":\"93de3fc2-4e7d-4718-8abe-71be375bf997\",\"subtype\":\"Chart\",\"type\":\"Plot\"},{\"attributes\":{\"label\":{\"value\":\"2014\"},\"renderers\":[{\"id\":\"2895a87d-0047-4e9e-9d9c-eef6709f82d3\",\"type\":\"GlyphRenderer\"}]},\"id\":\"6cc83046-a81d-4980-8dff-35f369cf789e\",\"type\":\"LegendItem\"},{\"attributes\":{\"label\":{\"value\":\"2012\"},\"renderers\":[{\"id\":\"88300618-1af1-44cf-b122-9b59e0153af5\",\"type\":\"GlyphRenderer\"}]},\"id\":\"d3b3a2ee-a2d7-4db4-a48e-eed55045227c\",\"type\":\"LegendItem\"},{\"attributes\":{\"plot\":{\"id\":\"93de3fc2-4e7d-4718-8abe-71be375bf997\",\"subtype\":\"Chart\",\"type\":\"Plot\"}},\"id\":\"f2fd4a13-b5e3-4cd3-8664-8fca5c92a50d\",\"type\":\"SaveTool\"},{\"attributes\":{\"label\":{\"value\":\"2015\"},\"renderers\":[{\"id\":\"1f23217e-7c3d-425b-9506-3b36e5697d59\",\"type\":\"GlyphRenderer\"}]},\"id\":\"af04b905-ad37-48cb-9c5c-3fc062f6d6e7\",\"type\":\"LegendItem\"},{\"attributes\":{\"bottom_units\":\"screen\",\"fill_alpha\":{\"value\":0.5},\"fill_color\":{\"value\":\"lightgrey\"},\"left_units\":\"screen\",\"level\":\"overlay\",\"line_alpha\":{\"value\":1.0},\"line_color\":{\"value\":\"black\"},\"line_dash\":[4,4],\"line_width\":{\"value\":2},\"plot\":null,\"render_mode\":\"css\",\"right_units\":\"screen\",\"top_units\":\"screen\"},\"id\":\"d770d4e3-f300-4f9e-81da-05df3012b57f\",\"type\":\"BoxAnnotation\"},{\"attributes\":{\"callback\":null,\"factors\":[\"2012\",\"2013\",\"2014\",\"2015\"]},\"id\":\"8b16045b-fc0f-42c4-9de1-9ea39e7c1b80\",\"type\":\"FactorRange\"},{\"attributes\":{\"plot\":{\"id\":\"93de3fc2-4e7d-4718-8abe-71be375bf997\",\"subtype\":\"Chart\",\"type\":\"Plot\"}},\"id\":\"26044f75-a536-4071-bc31-fe5cd0065b10\",\"type\":\"ResetTool\"},{\"attributes\":{\"axis_label\":\"Sum( Count )\",\"formatter\":{\"id\":\"c12d1d1d-25d1-4f81-9b11-ae014da82e0c\",\"type\":\"BasicTickFormatter\"},\"plot\":{\"id\":\"93de3fc2-4e7d-4718-8abe-71be375bf997\",\"subtype\":\"Chart\",\"type\":\"Plot\"},\"ticker\":{\"id\":\"ad089d12-002d-4754-96f5-d1128cd2f966\",\"type\":\"BasicTicker\"}},\"id\":\"98d00e04-058a-48a8-8921-fb4bab3ad607\",\"type\":\"LinearAxis\"},{\"attributes\":{\"fill_alpha\":{\"field\":\"fill_alpha\"},\"fill_color\":{\"field\":\"color\"},\"height\":{\"field\":\"height\",\"units\":\"data\"},\"line_color\":{\"field\":\"line_color\"},\"width\":{\"field\":\"width\",\"units\":\"data\"},\"x\":{\"field\":\"x\"},\"y\":{\"field\":\"y\"}},\"id\":\"56bbed6c-fba2-40ea-92ea-5af0a06f4ab3\",\"type\":\"Rect\"}],\"root_ids\":[\"9ab896d8-7338-4081-b325-54b87c5c503c\"]},\"title\":\"Bokeh Application\",\"version\":\"0.12.3\"}};\n",
       "            var render_items = [{\"docid\":\"98288073-5b58-4a9b-a5f0-d87f105147da\",\"elementid\":\"df3431be-e330-4438-ade9-e54925955169\",\"modelid\":\"9ab896d8-7338-4081-b325-54b87c5c503c\"}];\n",
       "            \n",
       "            Bokeh.embed.embed_items(docs_json, render_items);\n",
       "        });\n",
       "      },\n",
       "      function(Bokeh) {\n",
       "      }\n",
       "    ];\n",
       "  \n",
       "    function run_inline_js() {\n",
       "      \n",
       "      if ((window.Bokeh !== undefined) || (force === \"1\")) {\n",
       "        for (var i = 0; i < inline_js.length; i++) {\n",
       "          inline_js[i](window.Bokeh);\n",
       "        }if (force === \"1\") {\n",
       "          display_loaded();\n",
       "        }} else if (Date.now() < window._bokeh_timeout) {\n",
       "        setTimeout(run_inline_js, 100);\n",
       "      } else if (!window._bokeh_failed_load) {\n",
       "        console.log(\"Bokeh: BokehJS failed to load within specified timeout.\");\n",
       "        window._bokeh_failed_load = true;\n",
       "      } else if (!force) {\n",
       "        var cell = $(\"#df3431be-e330-4438-ade9-e54925955169\").parents('.cell').data().cell;\n",
       "        cell.output_area.append_execute_result(NB_LOAD_WARNING)\n",
       "      }\n",
       "  \n",
       "    }\n",
       "  \n",
       "    if (window._bokeh_is_loading === 0) {\n",
       "      console.log(\"Bokeh: BokehJS loaded, going straight to plotting\");\n",
       "      run_inline_js();\n",
       "    } else {\n",
       "      load_libs(js_urls, function() {\n",
       "        console.log(\"Bokeh: BokehJS plotting callback run at\", now());\n",
       "        run_inline_js();\n",
       "      });\n",
       "    }\n",
       "  }(this));\n",
       "</script>"
      ]
     },
     "metadata": {},
     "output_type": "display_data"
    }
   ],
   "source": [
    "trend = Bar(df, values = 'count', label = 'year')\n",
    "show(row(trend))"
   ]
  },
  {
   "cell_type": "markdown",
   "metadata": {
    "collapsed": true
   },
   "source": [
    "# Analysis by Source, grab new dataframe by constructing SQL query to API"
   ]
  },
  {
   "cell_type": "code",
   "execution_count": 239,
   "metadata": {
    "collapsed": true
   },
   "outputs": [],
   "source": [
    "url = 'https://data.sfgov.org/resource/qer8-n8u9.csv?$select=source,date_trunc_y(opened)as%20year,%20count(*)&$order=year&$group=year,source'"
   ]
  },
  {
   "cell_type": "code",
   "execution_count": 240,
   "metadata": {
    "collapsed": false
   },
   "outputs": [
    {
     "name": "stdout",
     "output_type": "stream",
     "text": [
      "https://data.sfgov.org/resource/qer8-n8u9.csv?$select=source,date_trunc_y(opened)as%20year,%20count(*)&$order=year&$group=year,source\n"
     ]
    }
   ],
   "source": [
    "print(url)"
   ]
  },
  {
   "cell_type": "code",
   "execution_count": 241,
   "metadata": {
    "collapsed": false
   },
   "outputs": [
    {
     "name": "stderr",
     "output_type": "stream",
     "text": [
      "/home/gdillon/.local/lib/python3.5/site-packages/ipykernel/__main__.py:3: FutureWarning: currently extract(expand=None) means expand=False (return Index/Series/DataFrame) but in a future version of pandas this will be changed to expand=True (return DataFrame)\n",
      "  app.launch_new_instance()\n"
     ]
    },
    {
     "data": {
      "text/html": [
       "<div>\n",
       "<table border=\"1\" class=\"dataframe\">\n",
       "  <thead>\n",
       "    <tr style=\"text-align: right;\">\n",
       "      <th></th>\n",
       "      <th>Source</th>\n",
       "      <th>year</th>\n",
       "      <th>count</th>\n",
       "    </tr>\n",
       "  </thead>\n",
       "  <tbody>\n",
       "    <tr>\n",
       "      <th>18</th>\n",
       "      <td>Open311</td>\n",
       "      <td>2013</td>\n",
       "      <td>4030</td>\n",
       "    </tr>\n",
       "    <tr>\n",
       "      <th>19</th>\n",
       "      <td>Integrated Agency</td>\n",
       "      <td>2013</td>\n",
       "      <td>9666</td>\n",
       "    </tr>\n",
       "    <tr>\n",
       "      <th>20</th>\n",
       "      <td>Voice In</td>\n",
       "      <td>2013</td>\n",
       "      <td>9293</td>\n",
       "    </tr>\n",
       "    <tr>\n",
       "      <th>21</th>\n",
       "      <td>Web Self Service</td>\n",
       "      <td>2013</td>\n",
       "      <td>11330</td>\n",
       "    </tr>\n",
       "    <tr>\n",
       "      <th>22</th>\n",
       "      <td>Twitter</td>\n",
       "      <td>2013</td>\n",
       "      <td>1512</td>\n",
       "    </tr>\n",
       "    <tr>\n",
       "      <th>23</th>\n",
       "      <td>NaN</td>\n",
       "      <td>2014</td>\n",
       "      <td>5</td>\n",
       "    </tr>\n",
       "    <tr>\n",
       "      <th>24</th>\n",
       "      <td>Open311</td>\n",
       "      <td>2014</td>\n",
       "      <td>19813</td>\n",
       "    </tr>\n",
       "    <tr>\n",
       "      <th>25</th>\n",
       "      <td>Twitter</td>\n",
       "      <td>2014</td>\n",
       "      <td>2227</td>\n",
       "    </tr>\n",
       "    <tr>\n",
       "      <th>26</th>\n",
       "      <td>Web Self Service</td>\n",
       "      <td>2014</td>\n",
       "      <td>11769</td>\n",
       "    </tr>\n",
       "    <tr>\n",
       "      <th>27</th>\n",
       "      <td>Integrated Agency</td>\n",
       "      <td>2014</td>\n",
       "      <td>5493</td>\n",
       "    </tr>\n",
       "    <tr>\n",
       "      <th>28</th>\n",
       "      <td>Voice In</td>\n",
       "      <td>2014</td>\n",
       "      <td>7501</td>\n",
       "    </tr>\n",
       "    <tr>\n",
       "      <th>29</th>\n",
       "      <td>Other Department</td>\n",
       "      <td>2015</td>\n",
       "      <td>6</td>\n",
       "    </tr>\n",
       "    <tr>\n",
       "      <th>30</th>\n",
       "      <td>Open311</td>\n",
       "      <td>2015</td>\n",
       "      <td>38732</td>\n",
       "    </tr>\n",
       "    <tr>\n",
       "      <th>31</th>\n",
       "      <td>Voice In</td>\n",
       "      <td>2015</td>\n",
       "      <td>5636</td>\n",
       "    </tr>\n",
       "    <tr>\n",
       "      <th>32</th>\n",
       "      <td>Twitter</td>\n",
       "      <td>2015</td>\n",
       "      <td>202</td>\n",
       "    </tr>\n",
       "    <tr>\n",
       "      <th>33</th>\n",
       "      <td>Integrated Agency</td>\n",
       "      <td>2015</td>\n",
       "      <td>8530</td>\n",
       "    </tr>\n",
       "    <tr>\n",
       "      <th>34</th>\n",
       "      <td>Web Self Service</td>\n",
       "      <td>2015</td>\n",
       "      <td>4143</td>\n",
       "    </tr>\n",
       "    <tr>\n",
       "      <th>35</th>\n",
       "      <td>Twitter</td>\n",
       "      <td>2016</td>\n",
       "      <td>194</td>\n",
       "    </tr>\n",
       "    <tr>\n",
       "      <th>36</th>\n",
       "      <td>Integrated Agency</td>\n",
       "      <td>2016</td>\n",
       "      <td>7992</td>\n",
       "    </tr>\n",
       "    <tr>\n",
       "      <th>37</th>\n",
       "      <td>Voice In</td>\n",
       "      <td>2016</td>\n",
       "      <td>4390</td>\n",
       "    </tr>\n",
       "    <tr>\n",
       "      <th>38</th>\n",
       "      <td>Web Self Service</td>\n",
       "      <td>2016</td>\n",
       "      <td>4668</td>\n",
       "    </tr>\n",
       "    <tr>\n",
       "      <th>39</th>\n",
       "      <td>Open311</td>\n",
       "      <td>2016</td>\n",
       "      <td>55148</td>\n",
       "    </tr>\n",
       "  </tbody>\n",
       "</table>\n",
       "</div>"
      ],
      "text/plain": [
       "               Source  year  count\n",
       "18            Open311  2013   4030\n",
       "19  Integrated Agency  2013   9666\n",
       "20           Voice In  2013   9293\n",
       "21   Web Self Service  2013  11330\n",
       "22            Twitter  2013   1512\n",
       "23                NaN  2014      5\n",
       "24            Open311  2014  19813\n",
       "25            Twitter  2014   2227\n",
       "26   Web Self Service  2014  11769\n",
       "27  Integrated Agency  2014   5493\n",
       "28           Voice In  2014   7501\n",
       "29   Other Department  2015      6\n",
       "30            Open311  2015  38732\n",
       "31           Voice In  2015   5636\n",
       "32            Twitter  2015    202\n",
       "33  Integrated Agency  2015   8530\n",
       "34   Web Self Service  2015   4143\n",
       "35            Twitter  2016    194\n",
       "36  Integrated Agency  2016   7992\n",
       "37           Voice In  2016   4390\n",
       "38   Web Self Service  2016   4668\n",
       "39            Open311  2016  55148"
      ]
     },
     "execution_count": 241,
     "metadata": {},
     "output_type": "execute_result"
    }
   ],
   "source": [
    "df=pd.read_csv(url)\n",
    "df=df[18:]\n",
    "df['year']=df['year'].str.extract('(?P<year>\\d{4})').astype(str)\n",
    "df['count']=df['count'].astype(int)\n",
    "df=df[:-1]\n",
    "#df.head(3)\n",
    "df"
   ]
  },
  {
   "cell_type": "code",
   "execution_count": 242,
   "metadata": {
    "collapsed": false
   },
   "outputs": [
    {
     "data": {
      "text/html": [
       "<div>\n",
       "<table border=\"1\" class=\"dataframe\">\n",
       "  <thead>\n",
       "    <tr style=\"text-align: right;\">\n",
       "      <th>Source</th>\n",
       "      <th>Integrated Agency</th>\n",
       "      <th>Open311</th>\n",
       "      <th>Other Department</th>\n",
       "      <th>Twitter</th>\n",
       "      <th>Voice In</th>\n",
       "      <th>Web Self Service</th>\n",
       "    </tr>\n",
       "    <tr>\n",
       "      <th>year</th>\n",
       "      <th></th>\n",
       "      <th></th>\n",
       "      <th></th>\n",
       "      <th></th>\n",
       "      <th></th>\n",
       "      <th></th>\n",
       "    </tr>\n",
       "  </thead>\n",
       "  <tbody>\n",
       "    <tr>\n",
       "      <th>2013</th>\n",
       "      <td>9666.0</td>\n",
       "      <td>4030.0</td>\n",
       "      <td>NaN</td>\n",
       "      <td>1512.0</td>\n",
       "      <td>9293.0</td>\n",
       "      <td>11330.0</td>\n",
       "    </tr>\n",
       "    <tr>\n",
       "      <th>2014</th>\n",
       "      <td>5493.0</td>\n",
       "      <td>19813.0</td>\n",
       "      <td>NaN</td>\n",
       "      <td>2227.0</td>\n",
       "      <td>7501.0</td>\n",
       "      <td>11769.0</td>\n",
       "    </tr>\n",
       "    <tr>\n",
       "      <th>2015</th>\n",
       "      <td>8530.0</td>\n",
       "      <td>38732.0</td>\n",
       "      <td>6.0</td>\n",
       "      <td>202.0</td>\n",
       "      <td>5636.0</td>\n",
       "      <td>4143.0</td>\n",
       "    </tr>\n",
       "    <tr>\n",
       "      <th>2016</th>\n",
       "      <td>7992.0</td>\n",
       "      <td>55148.0</td>\n",
       "      <td>NaN</td>\n",
       "      <td>194.0</td>\n",
       "      <td>4390.0</td>\n",
       "      <td>4668.0</td>\n",
       "    </tr>\n",
       "  </tbody>\n",
       "</table>\n",
       "</div>"
      ],
      "text/plain": [
       "Source  Integrated Agency  Open311  Other Department  Twitter  Voice In  \\\n",
       "year                                                                      \n",
       "2013               9666.0   4030.0               NaN   1512.0    9293.0   \n",
       "2014               5493.0  19813.0               NaN   2227.0    7501.0   \n",
       "2015               8530.0  38732.0               6.0    202.0    5636.0   \n",
       "2016               7992.0  55148.0               NaN    194.0    4390.0   \n",
       "\n",
       "Source  Web Self Service  \n",
       "year                      \n",
       "2013             11330.0  \n",
       "2014             11769.0  \n",
       "2015              4143.0  \n",
       "2016              4668.0  "
      ]
     },
     "execution_count": 242,
     "metadata": {},
     "output_type": "execute_result"
    }
   ],
   "source": [
    "df2 =pd.pivot_table(\n",
    "  df,values='count',\n",
    "  index=['year'], \n",
    "  columns=['Source'],\n",
    "  aggfunc=np.sum) \n",
    "df2"
   ]
  },
  {
   "cell_type": "code",
   "execution_count": 243,
   "metadata": {
    "collapsed": false
   },
   "outputs": [
    {
     "data": {
      "text/html": [
       "<div>\n",
       "<table border=\"1\" class=\"dataframe\">\n",
       "  <thead>\n",
       "    <tr style=\"text-align: right;\">\n",
       "      <th>Source</th>\n",
       "      <th>Integrated Agency</th>\n",
       "      <th>Open311</th>\n",
       "      <th>Twitter</th>\n",
       "      <th>Voice In</th>\n",
       "      <th>Web Self Service</th>\n",
       "    </tr>\n",
       "    <tr>\n",
       "      <th>year</th>\n",
       "      <th></th>\n",
       "      <th></th>\n",
       "      <th></th>\n",
       "      <th></th>\n",
       "      <th></th>\n",
       "    </tr>\n",
       "  </thead>\n",
       "  <tbody>\n",
       "    <tr>\n",
       "      <th>2013</th>\n",
       "      <td>9666.0</td>\n",
       "      <td>4030.0</td>\n",
       "      <td>1512.0</td>\n",
       "      <td>9293.0</td>\n",
       "      <td>11330.0</td>\n",
       "    </tr>\n",
       "    <tr>\n",
       "      <th>2014</th>\n",
       "      <td>5493.0</td>\n",
       "      <td>19813.0</td>\n",
       "      <td>2227.0</td>\n",
       "      <td>7501.0</td>\n",
       "      <td>11769.0</td>\n",
       "    </tr>\n",
       "    <tr>\n",
       "      <th>2015</th>\n",
       "      <td>8530.0</td>\n",
       "      <td>38732.0</td>\n",
       "      <td>202.0</td>\n",
       "      <td>5636.0</td>\n",
       "      <td>4143.0</td>\n",
       "    </tr>\n",
       "    <tr>\n",
       "      <th>2016</th>\n",
       "      <td>7992.0</td>\n",
       "      <td>55148.0</td>\n",
       "      <td>194.0</td>\n",
       "      <td>4390.0</td>\n",
       "      <td>4668.0</td>\n",
       "    </tr>\n",
       "  </tbody>\n",
       "</table>\n",
       "</div>"
      ],
      "text/plain": [
       "Source  Integrated Agency  Open311  Twitter  Voice In  Web Self Service\n",
       "year                                                                   \n",
       "2013               9666.0   4030.0   1512.0    9293.0           11330.0\n",
       "2014               5493.0  19813.0   2227.0    7501.0           11769.0\n",
       "2015               8530.0  38732.0    202.0    5636.0            4143.0\n",
       "2016               7992.0  55148.0    194.0    4390.0            4668.0"
      ]
     },
     "execution_count": 243,
     "metadata": {},
     "output_type": "execute_result"
    }
   ],
   "source": [
    "\n",
    "df2.drop(df2.columns[[2]], axis=1, inplace=True)\n",
    "df2"
   ]
  },
  {
   "cell_type": "code",
   "execution_count": 244,
   "metadata": {
    "collapsed": false
   },
   "outputs": [
    {
     "data": {
      "text/plain": [
       "Index(['2013', '2014', '2015', '2016'], dtype='object', name='year')"
      ]
     },
     "execution_count": 244,
     "metadata": {},
     "output_type": "execute_result"
    }
   ],
   "source": [
    "df2.index"
   ]
  },
  {
   "cell_type": "markdown",
   "metadata": {},
   "source": [
    "example code from stackoverflow http://stackoverflow.com/questions/31520951/plotting-multiple-lines-with-bokeh-and-pandas"
   ]
  },
  {
   "cell_type": "code",
   "execution_count": 245,
   "metadata": {
    "collapsed": false,
    "scrolled": true
   },
   "outputs": [
    {
     "name": "stderr",
     "output_type": "stream",
     "text": [
      "INFO:bokeh.core.state:Session output file 'line.html' already exists, will be overwritten.\n"
     ]
    },
    {
     "data": {
      "text/html": [
       "\n",
       "\n",
       "    <div class=\"bk-root\">\n",
       "        <div class=\"plotdiv\" id=\"456ff79b-2754-4a12-ac53-2f2730351518\"></div>\n",
       "    </div>\n",
       "<script type=\"text/javascript\">\n",
       "  \n",
       "  (function(global) {\n",
       "    function now() {\n",
       "      return new Date();\n",
       "    }\n",
       "  \n",
       "    var force = \"\";\n",
       "  \n",
       "    if (typeof (window._bokeh_onload_callbacks) === \"undefined\" || force !== \"\") {\n",
       "      window._bokeh_onload_callbacks = [];\n",
       "      window._bokeh_is_loading = undefined;\n",
       "    }\n",
       "  \n",
       "  \n",
       "    \n",
       "    if (typeof (window._bokeh_timeout) === \"undefined\" || force !== \"\") {\n",
       "      window._bokeh_timeout = Date.now() + 0;\n",
       "      window._bokeh_failed_load = false;\n",
       "    }\n",
       "  \n",
       "    var NB_LOAD_WARNING = {'data': {'text/html':\n",
       "       \"<div style='background-color: #fdd'>\\n\"+\n",
       "       \"<p>\\n\"+\n",
       "       \"BokehJS does not appear to have successfully loaded. If loading BokehJS from CDN, this \\n\"+\n",
       "       \"may be due to a slow or bad network connection. Possible fixes:\\n\"+\n",
       "       \"</p>\\n\"+\n",
       "       \"<ul>\\n\"+\n",
       "       \"<li>re-rerun `output_notebook()` to attempt to load from CDN again, or</li>\\n\"+\n",
       "       \"<li>use INLINE resources instead, as so:</li>\\n\"+\n",
       "       \"</ul>\\n\"+\n",
       "       \"<code>\\n\"+\n",
       "       \"from bokeh.resources import INLINE\\n\"+\n",
       "       \"output_notebook(resources=INLINE)\\n\"+\n",
       "       \"</code>\\n\"+\n",
       "       \"</div>\"}};\n",
       "  \n",
       "    function display_loaded() {\n",
       "      if (window.Bokeh !== undefined) {\n",
       "        Bokeh.$(\"#456ff79b-2754-4a12-ac53-2f2730351518\").text(\"BokehJS successfully loaded.\");\n",
       "      } else if (Date.now() < window._bokeh_timeout) {\n",
       "        setTimeout(display_loaded, 100)\n",
       "      }\n",
       "    }\n",
       "  \n",
       "    function run_callbacks() {\n",
       "      window._bokeh_onload_callbacks.forEach(function(callback) { callback() });\n",
       "      delete window._bokeh_onload_callbacks\n",
       "      console.info(\"Bokeh: all callbacks have finished\");\n",
       "    }\n",
       "  \n",
       "    function load_libs(js_urls, callback) {\n",
       "      window._bokeh_onload_callbacks.push(callback);\n",
       "      if (window._bokeh_is_loading > 0) {\n",
       "        console.log(\"Bokeh: BokehJS is being loaded, scheduling callback at\", now());\n",
       "        return null;\n",
       "      }\n",
       "      if (js_urls == null || js_urls.length === 0) {\n",
       "        run_callbacks();\n",
       "        return null;\n",
       "      }\n",
       "      console.log(\"Bokeh: BokehJS not loaded, scheduling load and callback at\", now());\n",
       "      window._bokeh_is_loading = js_urls.length;\n",
       "      for (var i = 0; i < js_urls.length; i++) {\n",
       "        var url = js_urls[i];\n",
       "        var s = document.createElement('script');\n",
       "        s.src = url;\n",
       "        s.async = false;\n",
       "        s.onreadystatechange = s.onload = function() {\n",
       "          window._bokeh_is_loading--;\n",
       "          if (window._bokeh_is_loading === 0) {\n",
       "            console.log(\"Bokeh: all BokehJS libraries loaded\");\n",
       "            run_callbacks()\n",
       "          }\n",
       "        };\n",
       "        s.onerror = function() {\n",
       "          console.warn(\"failed to load library \" + url);\n",
       "        };\n",
       "        console.log(\"Bokeh: injecting script tag for BokehJS library: \", url);\n",
       "        document.getElementsByTagName(\"head\")[0].appendChild(s);\n",
       "      }\n",
       "    };var element = document.getElementById(\"456ff79b-2754-4a12-ac53-2f2730351518\");\n",
       "    if (element == null) {\n",
       "      console.log(\"Bokeh: ERROR: autoload.js configured with elementid '456ff79b-2754-4a12-ac53-2f2730351518' but no matching script tag was found. \")\n",
       "      return false;\n",
       "    }\n",
       "  \n",
       "    var js_urls = [];\n",
       "  \n",
       "    var inline_js = [\n",
       "      function(Bokeh) {\n",
       "        Bokeh.$(function() {\n",
       "            var docs_json = {\"de545747-ddd3-4d04-95d1-1c7dbd496e7d\":{\"roots\":{\"references\":[{\"attributes\":{\"axis_label\":\"index\",\"formatter\":{\"id\":\"1ef9faec-89a3-47a1-bdf7-d8c0075ae2e2\",\"type\":\"CategoricalTickFormatter\"},\"major_label_orientation\":0.7853981633974483,\"plot\":{\"id\":\"40ed1875-9fa0-4d07-8bd5-652e977141f2\",\"subtype\":\"Chart\",\"type\":\"Plot\"},\"ticker\":{\"id\":\"d6b571ba-efdb-4cc8-80e3-7e0bcfad9a6f\",\"type\":\"CategoricalTicker\"}},\"id\":\"1d08e7d4-a6bf-4f1d-85bc-fce19b332623\",\"type\":\"CategoricalAxis\"},{\"attributes\":{\"bottom_units\":\"screen\",\"fill_alpha\":{\"value\":0.5},\"fill_color\":{\"value\":\"lightgrey\"},\"left_units\":\"screen\",\"level\":\"overlay\",\"line_alpha\":{\"value\":1.0},\"line_color\":{\"value\":\"black\"},\"line_dash\":[4,4],\"line_width\":{\"value\":2},\"plot\":null,\"render_mode\":\"css\",\"right_units\":\"screen\",\"top_units\":\"screen\"},\"id\":\"8f53bdec-73bf-4197-8be2-34469f00df95\",\"type\":\"BoxAnnotation\"},{\"attributes\":{\"line_color\":{\"value\":\"#407ee7\"},\"line_width\":{\"value\":2},\"x\":{\"field\":\"x_values\"},\"y\":{\"field\":\"y_values\"}},\"id\":\"4db86f23-7a36-455c-b13d-dc10a0465a00\",\"type\":\"Line\"},{\"attributes\":{\"active_drag\":\"auto\",\"active_scroll\":\"auto\",\"active_tap\":\"auto\",\"tools\":[{\"id\":\"053e23c1-35c8-414b-9950-fd8e6667ffdc\",\"type\":\"PanTool\"},{\"id\":\"82ee5c34-ca41-455b-bec4-0957253e3948\",\"type\":\"WheelZoomTool\"},{\"id\":\"0b68a92a-e655-48d2-9c55-b84b8303ffb9\",\"type\":\"BoxZoomTool\"},{\"id\":\"92ec528d-c057-41b2-8266-b9c8e9f53d7c\",\"type\":\"SaveTool\"},{\"id\":\"15b3025b-b985-4adb-9c6d-b9226c5435b8\",\"type\":\"ResetTool\"},{\"id\":\"3a959349-5d02-45d5-96ee-18d52a6e4250\",\"type\":\"HelpTool\"}]},\"id\":\"c4067332-8c18-479e-8ef3-68a950716ca3\",\"type\":\"Toolbar\"},{\"attributes\":{},\"id\":\"1ef9faec-89a3-47a1-bdf7-d8c0075ae2e2\",\"type\":\"CategoricalTickFormatter\"},{\"attributes\":{\"line_color\":{\"value\":\"#df5320\"},\"line_width\":{\"value\":2},\"x\":{\"field\":\"x_values\"},\"y\":{\"field\":\"y_values\"}},\"id\":\"6cddc3d1-d5b2-4541-999d-7e8cb35ab319\",\"type\":\"Line\"},{\"attributes\":{\"plot\":{\"id\":\"40ed1875-9fa0-4d07-8bd5-652e977141f2\",\"subtype\":\"Chart\",\"type\":\"Plot\"},\"ticker\":{\"id\":\"d6b571ba-efdb-4cc8-80e3-7e0bcfad9a6f\",\"type\":\"CategoricalTicker\"}},\"id\":\"1a6853bc-ded8-4005-857e-ead864076621\",\"type\":\"Grid\"},{\"attributes\":{\"line_color\":{\"value\":\"#f22c40\"},\"line_width\":{\"value\":2},\"x\":{\"field\":\"x_values\"},\"y\":{\"field\":\"y_values\"}},\"id\":\"7bd067d3-975d-4236-b296-a3d48137574f\",\"type\":\"Line\"},{\"attributes\":{\"callback\":null,\"factors\":[\"2013\",\"2014\",\"2015\",\"2016\"]},\"id\":\"f003a72b-67a2-4709-bc48-551e6f5203d3\",\"type\":\"FactorRange\"},{\"attributes\":{\"label\":{\"value\":\"Twitter\"},\"renderers\":[{\"id\":\"63f1c7de-58ad-4060-aaf8-a11438de5fbd\",\"type\":\"GlyphRenderer\"}]},\"id\":\"442591b4-24d6-4a52-9816-8b8c4bc90f3a\",\"type\":\"LegendItem\"},{\"attributes\":{},\"id\":\"13aef858-ed4f-441d-83d8-cf989243c7bd\",\"type\":\"ToolEvents\"},{\"attributes\":{\"label\":{\"value\":\"Voice In\"},\"renderers\":[{\"id\":\"ace6e518-1dcb-4415-8c64-c7da661d93a8\",\"type\":\"GlyphRenderer\"}]},\"id\":\"ef7bafd6-ff25-4972-9426-c168cded6e34\",\"type\":\"LegendItem\"},{\"attributes\":{\"line_color\":{\"value\":\"#5ab738\"},\"line_width\":{\"value\":2},\"x\":{\"field\":\"x_values\"},\"y\":{\"field\":\"y_values\"}},\"id\":\"3eee5397-9a2b-47ea-a5e5-681a0d167741\",\"type\":\"Line\"},{\"attributes\":{\"callback\":null,\"column_names\":[\"y_values\",\"x_values\"],\"data\":{\"chart_index\":[{\"series\":\"Web Self Service\"},{\"series\":\"Web Self Service\"},{\"series\":\"Web Self Service\"},{\"series\":\"Web Self Service\"}],\"series\":[\"Web Self Service\",\"Web Self Service\",\"Web Self Service\",\"Web Self Service\"],\"x_values\":[\"2013\",\"2014\",\"2015\",\"2016\"],\"y_values\":[11330.0,11769.0,4143.0,4668.0]}},\"id\":\"c9f7bf7e-da2a-4bca-bb9e-491396d18bbf\",\"type\":\"ColumnDataSource\"},{\"attributes\":{},\"id\":\"d6b571ba-efdb-4cc8-80e3-7e0bcfad9a6f\",\"type\":\"CategoricalTicker\"},{\"attributes\":{\"dimension\":1,\"plot\":{\"id\":\"40ed1875-9fa0-4d07-8bd5-652e977141f2\",\"subtype\":\"Chart\",\"type\":\"Plot\"},\"ticker\":{\"id\":\"087f4e0f-c976-4b81-9a1c-f0b414e01a14\",\"type\":\"BasicTicker\"}},\"id\":\"81fb809a-134a-44b5-8e1d-d6a12a79583e\",\"type\":\"Grid\"},{\"attributes\":{\"callback\":null,\"column_names\":[\"y_values\",\"x_values\"],\"data\":{\"chart_index\":[{\"series\":\"Voice In\"},{\"series\":\"Voice In\"},{\"series\":\"Voice In\"},{\"series\":\"Voice In\"}],\"series\":[\"Voice In\",\"Voice In\",\"Voice In\",\"Voice In\"],\"x_values\":[\"2013\",\"2014\",\"2015\",\"2016\"],\"y_values\":[9293.0,7501.0,5636.0,4390.0]}},\"id\":\"eda7a3bc-8307-4cb0-929b-136e2ea280bb\",\"type\":\"ColumnDataSource\"},{\"attributes\":{\"plot\":{\"id\":\"40ed1875-9fa0-4d07-8bd5-652e977141f2\",\"subtype\":\"Chart\",\"type\":\"Plot\"}},\"id\":\"053e23c1-35c8-414b-9950-fd8e6667ffdc\",\"type\":\"PanTool\"},{\"attributes\":{\"callback\":null,\"column_names\":[\"y_values\",\"x_values\"],\"data\":{\"chart_index\":[{\"series\":\"Twitter\"},{\"series\":\"Twitter\"},{\"series\":\"Twitter\"},{\"series\":\"Twitter\"}],\"series\":[\"Twitter\",\"Twitter\",\"Twitter\",\"Twitter\"],\"x_values\":[\"2013\",\"2014\",\"2015\",\"2016\"],\"y_values\":[1512.0,2227.0,202.0,194.0]}},\"id\":\"4f65da58-13f4-44d1-8e55-7df421ec5fcc\",\"type\":\"ColumnDataSource\"},{\"attributes\":{\"overlay\":{\"id\":\"8f53bdec-73bf-4197-8be2-34469f00df95\",\"type\":\"BoxAnnotation\"},\"plot\":{\"id\":\"40ed1875-9fa0-4d07-8bd5-652e977141f2\",\"subtype\":\"Chart\",\"type\":\"Plot\"}},\"id\":\"0b68a92a-e655-48d2-9c55-b84b8303ffb9\",\"type\":\"BoxZoomTool\"},{\"attributes\":{\"plot\":{\"id\":\"40ed1875-9fa0-4d07-8bd5-652e977141f2\",\"subtype\":\"Chart\",\"type\":\"Plot\"}},\"id\":\"92ec528d-c057-41b2-8266-b9c8e9f53d7c\",\"type\":\"SaveTool\"},{\"attributes\":{\"plot\":{\"id\":\"40ed1875-9fa0-4d07-8bd5-652e977141f2\",\"subtype\":\"Chart\",\"type\":\"Plot\"}},\"id\":\"82ee5c34-ca41-455b-bec4-0957253e3948\",\"type\":\"WheelZoomTool\"},{\"attributes\":{\"callback\":null,\"end\":60643.4,\"start\":-5301.400000000001},\"id\":\"67e19208-20ac-4e7b-a25c-0b748db50abf\",\"type\":\"Range1d\"},{\"attributes\":{},\"id\":\"eb88890c-7a7f-4b95-81e1-1c7138565632\",\"type\":\"BasicTickFormatter\"},{\"attributes\":{\"below\":[{\"id\":\"1d08e7d4-a6bf-4f1d-85bc-fce19b332623\",\"type\":\"CategoricalAxis\"}],\"left\":[{\"id\":\"d04f0904-a123-4f6f-951d-3772310857c5\",\"type\":\"LinearAxis\"}],\"renderers\":[{\"id\":\"8f53bdec-73bf-4197-8be2-34469f00df95\",\"type\":\"BoxAnnotation\"},{\"id\":\"bc2a16e2-cb63-4639-b05b-1b284efb9ab9\",\"type\":\"GlyphRenderer\"},{\"id\":\"7901305b-8b28-4ca7-9324-6c859c274f28\",\"type\":\"GlyphRenderer\"},{\"id\":\"63f1c7de-58ad-4060-aaf8-a11438de5fbd\",\"type\":\"GlyphRenderer\"},{\"id\":\"ace6e518-1dcb-4415-8c64-c7da661d93a8\",\"type\":\"GlyphRenderer\"},{\"id\":\"ae5e7756-ea19-4e74-8fa0-5fc7d457b956\",\"type\":\"GlyphRenderer\"},{\"id\":\"349896b7-3f53-45e1-9046-3680756bcc87\",\"type\":\"Legend\"},{\"id\":\"1d08e7d4-a6bf-4f1d-85bc-fce19b332623\",\"type\":\"CategoricalAxis\"},{\"id\":\"d04f0904-a123-4f6f-951d-3772310857c5\",\"type\":\"LinearAxis\"},{\"id\":\"1a6853bc-ded8-4005-857e-ead864076621\",\"type\":\"Grid\"},{\"id\":\"81fb809a-134a-44b5-8e1d-d6a12a79583e\",\"type\":\"Grid\"}],\"title\":{\"id\":\"19c65ef6-18ea-4c9f-a47f-6a0cf359c985\",\"type\":\"Title\"},\"tool_events\":{\"id\":\"13aef858-ed4f-441d-83d8-cf989243c7bd\",\"type\":\"ToolEvents\"},\"toolbar\":{\"id\":\"c4067332-8c18-479e-8ef3-68a950716ca3\",\"type\":\"Toolbar\"},\"x_mapper_type\":\"auto\",\"x_range\":{\"id\":\"f003a72b-67a2-4709-bc48-551e6f5203d3\",\"type\":\"FactorRange\"},\"y_mapper_type\":\"auto\",\"y_range\":{\"id\":\"67e19208-20ac-4e7b-a25c-0b748db50abf\",\"type\":\"Range1d\"}},\"id\":\"40ed1875-9fa0-4d07-8bd5-652e977141f2\",\"subtype\":\"Chart\",\"type\":\"Plot\"},{\"attributes\":{\"plot\":{\"id\":\"40ed1875-9fa0-4d07-8bd5-652e977141f2\",\"subtype\":\"Chart\",\"type\":\"Plot\"}},\"id\":\"3a959349-5d02-45d5-96ee-18d52a6e4250\",\"type\":\"HelpTool\"},{\"attributes\":{\"data_source\":{\"id\":\"eda7a3bc-8307-4cb0-929b-136e2ea280bb\",\"type\":\"ColumnDataSource\"},\"glyph\":{\"id\":\"6cddc3d1-d5b2-4541-999d-7e8cb35ab319\",\"type\":\"Line\"},\"hover_glyph\":null,\"nonselection_glyph\":null,\"selection_glyph\":null},\"id\":\"ace6e518-1dcb-4415-8c64-c7da661d93a8\",\"type\":\"GlyphRenderer\"},{\"attributes\":{},\"id\":\"087f4e0f-c976-4b81-9a1c-f0b414e01a14\",\"type\":\"BasicTicker\"},{\"attributes\":{\"axis_label\":\"Reports to SF311 by Year\",\"formatter\":{\"id\":\"eb88890c-7a7f-4b95-81e1-1c7138565632\",\"type\":\"BasicTickFormatter\"},\"plot\":{\"id\":\"40ed1875-9fa0-4d07-8bd5-652e977141f2\",\"subtype\":\"Chart\",\"type\":\"Plot\"},\"ticker\":{\"id\":\"087f4e0f-c976-4b81-9a1c-f0b414e01a14\",\"type\":\"BasicTicker\"}},\"id\":\"d04f0904-a123-4f6f-951d-3772310857c5\",\"type\":\"LinearAxis\"},{\"attributes\":{\"label\":{\"value\":\"Integrated Agency\"},\"renderers\":[{\"id\":\"bc2a16e2-cb63-4639-b05b-1b284efb9ab9\",\"type\":\"GlyphRenderer\"}]},\"id\":\"9b1ce286-c4e7-4ba3-b3d2-fc883bd427ee\",\"type\":\"LegendItem\"},{\"attributes\":{\"data_source\":{\"id\":\"c9f7bf7e-da2a-4bca-bb9e-491396d18bbf\",\"type\":\"ColumnDataSource\"},\"glyph\":{\"id\":\"f9b42e0b-e083-4e5f-b5ac-ae444b14ba56\",\"type\":\"Line\"},\"hover_glyph\":null,\"nonselection_glyph\":null,\"selection_glyph\":null},\"id\":\"ae5e7756-ea19-4e74-8fa0-5fc7d457b956\",\"type\":\"GlyphRenderer\"},{\"attributes\":{\"data_source\":{\"id\":\"cb11ae76-d4ee-47a4-a8e8-3aa6488c0dc9\",\"type\":\"ColumnDataSource\"},\"glyph\":{\"id\":\"7bd067d3-975d-4236-b296-a3d48137574f\",\"type\":\"Line\"},\"hover_glyph\":null,\"nonselection_glyph\":null,\"selection_glyph\":null},\"id\":\"bc2a16e2-cb63-4639-b05b-1b284efb9ab9\",\"type\":\"GlyphRenderer\"},{\"attributes\":{\"items\":[{\"id\":\"9b1ce286-c4e7-4ba3-b3d2-fc883bd427ee\",\"type\":\"LegendItem\"},{\"id\":\"20eb25fa-09ef-4cba-8e86-a1b831fcb9c8\",\"type\":\"LegendItem\"},{\"id\":\"442591b4-24d6-4a52-9816-8b8c4bc90f3a\",\"type\":\"LegendItem\"},{\"id\":\"ef7bafd6-ff25-4972-9426-c168cded6e34\",\"type\":\"LegendItem\"},{\"id\":\"2e526bba-5a05-4de1-a773-a412b8b2db7f\",\"type\":\"LegendItem\"}],\"location\":\"top_left\",\"plot\":{\"id\":\"40ed1875-9fa0-4d07-8bd5-652e977141f2\",\"subtype\":\"Chart\",\"type\":\"Plot\"}},\"id\":\"349896b7-3f53-45e1-9046-3680756bcc87\",\"type\":\"Legend\"},{\"attributes\":{\"plot\":{\"id\":\"40ed1875-9fa0-4d07-8bd5-652e977141f2\",\"subtype\":\"Chart\",\"type\":\"Plot\"}},\"id\":\"15b3025b-b985-4adb-9c6d-b9226c5435b8\",\"type\":\"ResetTool\"},{\"attributes\":{\"line_color\":{\"value\":\"#00ad9c\"},\"line_width\":{\"value\":2},\"x\":{\"field\":\"x_values\"},\"y\":{\"field\":\"y_values\"}},\"id\":\"f9b42e0b-e083-4e5f-b5ac-ae444b14ba56\",\"type\":\"Line\"},{\"attributes\":{\"callback\":null,\"column_names\":[\"y_values\",\"x_values\"],\"data\":{\"chart_index\":[{\"series\":\"Open311\"},{\"series\":\"Open311\"},{\"series\":\"Open311\"},{\"series\":\"Open311\"}],\"series\":[\"Open311\",\"Open311\",\"Open311\",\"Open311\"],\"x_values\":[\"2013\",\"2014\",\"2015\",\"2016\"],\"y_values\":[4030.0,19813.0,38732.0,55148.0]}},\"id\":\"00f21785-e74f-4411-ae9a-7a71bac1dbf9\",\"type\":\"ColumnDataSource\"},{\"attributes\":{\"data_source\":{\"id\":\"00f21785-e74f-4411-ae9a-7a71bac1dbf9\",\"type\":\"ColumnDataSource\"},\"glyph\":{\"id\":\"3eee5397-9a2b-47ea-a5e5-681a0d167741\",\"type\":\"Line\"},\"hover_glyph\":null,\"nonselection_glyph\":null,\"selection_glyph\":null},\"id\":\"7901305b-8b28-4ca7-9324-6c859c274f28\",\"type\":\"GlyphRenderer\"},{\"attributes\":{\"data_source\":{\"id\":\"4f65da58-13f4-44d1-8e55-7df421ec5fcc\",\"type\":\"ColumnDataSource\"},\"glyph\":{\"id\":\"4db86f23-7a36-455c-b13d-dc10a0465a00\",\"type\":\"Line\"},\"hover_glyph\":null,\"nonselection_glyph\":null,\"selection_glyph\":null},\"id\":\"63f1c7de-58ad-4060-aaf8-a11438de5fbd\",\"type\":\"GlyphRenderer\"},{\"attributes\":{\"label\":{\"value\":\"Open311\"},\"renderers\":[{\"id\":\"7901305b-8b28-4ca7-9324-6c859c274f28\",\"type\":\"GlyphRenderer\"}]},\"id\":\"20eb25fa-09ef-4cba-8e86-a1b831fcb9c8\",\"type\":\"LegendItem\"},{\"attributes\":{\"plot\":null,\"text\":\"line\"},\"id\":\"19c65ef6-18ea-4c9f-a47f-6a0cf359c985\",\"type\":\"Title\"},{\"attributes\":{\"label\":{\"value\":\"Web Self Service\"},\"renderers\":[{\"id\":\"ae5e7756-ea19-4e74-8fa0-5fc7d457b956\",\"type\":\"GlyphRenderer\"}]},\"id\":\"2e526bba-5a05-4de1-a773-a412b8b2db7f\",\"type\":\"LegendItem\"},{\"attributes\":{\"callback\":null,\"column_names\":[\"y_values\",\"x_values\"],\"data\":{\"chart_index\":[{\"series\":\"Integrated Agency\"},{\"series\":\"Integrated Agency\"},{\"series\":\"Integrated Agency\"},{\"series\":\"Integrated Agency\"}],\"series\":[\"Integrated Agency\",\"Integrated Agency\",\"Integrated Agency\",\"Integrated Agency\"],\"x_values\":[\"2013\",\"2014\",\"2015\",\"2016\"],\"y_values\":[9666.0,5493.0,8530.0,7992.0]}},\"id\":\"cb11ae76-d4ee-47a4-a8e8-3aa6488c0dc9\",\"type\":\"ColumnDataSource\"}],\"root_ids\":[\"40ed1875-9fa0-4d07-8bd5-652e977141f2\"]},\"title\":\"Bokeh Application\",\"version\":\"0.12.3\"}};\n",
       "            var render_items = [{\"docid\":\"de545747-ddd3-4d04-95d1-1c7dbd496e7d\",\"elementid\":\"456ff79b-2754-4a12-ac53-2f2730351518\",\"modelid\":\"40ed1875-9fa0-4d07-8bd5-652e977141f2\"}];\n",
       "            \n",
       "            Bokeh.embed.embed_items(docs_json, render_items);\n",
       "        });\n",
       "      },\n",
       "      function(Bokeh) {\n",
       "      }\n",
       "    ];\n",
       "  \n",
       "    function run_inline_js() {\n",
       "      \n",
       "      if ((window.Bokeh !== undefined) || (force === \"1\")) {\n",
       "        for (var i = 0; i < inline_js.length; i++) {\n",
       "          inline_js[i](window.Bokeh);\n",
       "        }if (force === \"1\") {\n",
       "          display_loaded();\n",
       "        }} else if (Date.now() < window._bokeh_timeout) {\n",
       "        setTimeout(run_inline_js, 100);\n",
       "      } else if (!window._bokeh_failed_load) {\n",
       "        console.log(\"Bokeh: BokehJS failed to load within specified timeout.\");\n",
       "        window._bokeh_failed_load = true;\n",
       "      } else if (!force) {\n",
       "        var cell = $(\"#456ff79b-2754-4a12-ac53-2f2730351518\").parents('.cell').data().cell;\n",
       "        cell.output_area.append_execute_result(NB_LOAD_WARNING)\n",
       "      }\n",
       "  \n",
       "    }\n",
       "  \n",
       "    if (window._bokeh_is_loading === 0) {\n",
       "      console.log(\"Bokeh: BokehJS loaded, going straight to plotting\");\n",
       "      run_inline_js();\n",
       "    } else {\n",
       "      load_libs(js_urls, function() {\n",
       "        console.log(\"Bokeh: BokehJS plotting callback run at\", now());\n",
       "        run_inline_js();\n",
       "      });\n",
       "    }\n",
       "  }(this));\n",
       "</script>"
      ]
     },
     "metadata": {},
     "output_type": "display_data"
    }
   ],
   "source": [
    "import numpy as np\n",
    "from bokeh.charts import Line, output_file, show\n",
    "\n",
    "# (dict, OrderedDict, lists, arrays and DataFrames are valid inputs)\n",
    "#xyvalues = np.array([[2, 3, 7, 5, 26], [12, 33, 47, 15, 126], [22, 43, 10, 25, 26]])\n",
    "xyvalues = df2\n",
    "line = Line(xyvalues, title=\"line\", legend=\"top_left\", ylabel='Reports to SF311 by Year')\n",
    "\n",
    "output_file('line.html')\n",
    "show(line)"
   ]
  },
  {
   "cell_type": "code",
   "execution_count": null,
   "metadata": {
    "collapsed": true
   },
   "outputs": [],
   "source": []
  },
  {
   "cell_type": "markdown",
   "metadata": {
    "collapsed": true
   },
   "source": [
    "# Analysis by Source, grab new dataframe by constructing SQL query to API\n"
   ]
  },
  {
   "cell_type": "markdown",
   "metadata": {
    "collapsed": true
   },
   "source": [
    "# SQL the Responsible Agency"
   ]
  },
  {
   "cell_type": "code",
   "execution_count": 247,
   "metadata": {
    "collapsed": true
   },
   "outputs": [],
   "source": [
    "#url = 'https://data.sfgov.org/resource/qer8-n8u9.csv?$select=responsible_agency,date_trunc_y(opened)as%20year,%20count(*)&$order=year&$group=year,responsible_agency'#\n",
    "#url = 'https://data.sfgov.org/resource/qer8-n8u9.csv?$select=responsible_agency,date_trunc_y(opened)as%20year,%20count(*)&$order=year&$group=year,responsible_agency'\n",
    "url = 'https://data.sfgov.org/resource/qer8-n8u9.csv?$select=responsible_agency,category,date_trunc_y(opened)as%20year,%20count(*)&$order=year&$group=year,category,responsible_agency'"
   ]
  },
  {
   "cell_type": "code",
   "execution_count": 249,
   "metadata": {
    "collapsed": false
   },
   "outputs": [
    {
     "name": "stdout",
     "output_type": "stream",
     "text": [
      "https://data.sfgov.org/resource/qer8-n8u9.csv?$select=responsible_agency,category,date_trunc_y(opened)as%20year,%20count(*)&$order=year&$group=year,category,responsible_agency\n"
     ]
    }
   ],
   "source": [
    "print(url)"
   ]
  },
  {
   "cell_type": "code",
   "execution_count": 250,
   "metadata": {
    "collapsed": false
   },
   "outputs": [
    {
     "name": "stderr",
     "output_type": "stream",
     "text": [
      "/home/gdillon/.local/lib/python3.5/site-packages/ipykernel/__main__.py:3: FutureWarning: currently extract(expand=None) means expand=False (return Index/Series/DataFrame) but in a future version of pandas this will be changed to expand=True (return DataFrame)\n",
      "  app.launch_new_instance()\n"
     ]
    },
    {
     "data": {
      "text/html": [
       "<div>\n",
       "<table border=\"1\" class=\"dataframe\">\n",
       "  <thead>\n",
       "    <tr style=\"text-align: right;\">\n",
       "      <th></th>\n",
       "      <th>Responsible Agency</th>\n",
       "      <th>Category</th>\n",
       "      <th>year</th>\n",
       "      <th>count</th>\n",
       "    </tr>\n",
       "  </thead>\n",
       "  <tbody>\n",
       "    <tr>\n",
       "      <th>570</th>\n",
       "      <td>DPW BSM Queue</td>\n",
       "      <td>Graffiti Private Property</td>\n",
       "      <td>2016</td>\n",
       "      <td>260</td>\n",
       "    </tr>\n",
       "    <tr>\n",
       "      <th>571</th>\n",
       "      <td>SFMTA - Muni System Feedback Queue</td>\n",
       "      <td>Graffiti Public Property</td>\n",
       "      <td>2016</td>\n",
       "      <td>233</td>\n",
       "    </tr>\n",
       "    <tr>\n",
       "      <th>572</th>\n",
       "      <td>DPT Paint Shop Queue</td>\n",
       "      <td>Graffiti Private Property</td>\n",
       "      <td>2016</td>\n",
       "      <td>24</td>\n",
       "    </tr>\n",
       "    <tr>\n",
       "      <th>573</th>\n",
       "      <td>311 Service Request Queue - Hold</td>\n",
       "      <td>Graffiti Private Property</td>\n",
       "      <td>2016</td>\n",
       "      <td>76</td>\n",
       "    </tr>\n",
       "    <tr>\n",
       "      <th>574</th>\n",
       "      <td>Clear Channel - Transit Queue</td>\n",
       "      <td>Graffiti Private Property</td>\n",
       "      <td>2016</td>\n",
       "      <td>29</td>\n",
       "    </tr>\n",
       "    <tr>\n",
       "      <th>575</th>\n",
       "      <td>PUC - Water - Graffiti Queue</td>\n",
       "      <td>Graffiti Public Property</td>\n",
       "      <td>2016</td>\n",
       "      <td>473</td>\n",
       "    </tr>\n",
       "    <tr>\n",
       "      <th>576</th>\n",
       "      <td>DPT SignShop Unknown Queue</td>\n",
       "      <td>Graffiti Public Property</td>\n",
       "      <td>2016</td>\n",
       "      <td>30</td>\n",
       "    </tr>\n",
       "    <tr>\n",
       "      <th>577</th>\n",
       "      <td>DPT - Bicycle - G</td>\n",
       "      <td>Graffiti Public Property</td>\n",
       "      <td>2016</td>\n",
       "      <td>1</td>\n",
       "    </tr>\n",
       "    <tr>\n",
       "      <th>578</th>\n",
       "      <td>DPT SignShop 05 Queue</td>\n",
       "      <td>Graffiti Public Property</td>\n",
       "      <td>2016</td>\n",
       "      <td>459</td>\n",
       "    </tr>\n",
       "    <tr>\n",
       "      <th>579</th>\n",
       "      <td>DPT SignShop 02 Queue</td>\n",
       "      <td>Graffiti Public Property</td>\n",
       "      <td>2016</td>\n",
       "      <td>69</td>\n",
       "    </tr>\n",
       "    <tr>\n",
       "      <th>580</th>\n",
       "      <td>DPT SignShop 08 Queue</td>\n",
       "      <td>Graffiti Public Property</td>\n",
       "      <td>2016</td>\n",
       "      <td>286</td>\n",
       "    </tr>\n",
       "    <tr>\n",
       "      <th>581</th>\n",
       "      <td>311 Supervisor Queue</td>\n",
       "      <td>Graffiti Public Property</td>\n",
       "      <td>2016</td>\n",
       "      <td>1423</td>\n",
       "    </tr>\n",
       "    <tr>\n",
       "      <th>582</th>\n",
       "      <td>PG and E - Streetlights Queue</td>\n",
       "      <td>Graffiti Public Property</td>\n",
       "      <td>2016</td>\n",
       "      <td>105</td>\n",
       "    </tr>\n",
       "    <tr>\n",
       "      <th>583</th>\n",
       "      <td>Port Authority - G</td>\n",
       "      <td>Graffiti Private Property</td>\n",
       "      <td>2016</td>\n",
       "      <td>6</td>\n",
       "    </tr>\n",
       "    <tr>\n",
       "      <th>584</th>\n",
       "      <td>RPD Graffiti Queue</td>\n",
       "      <td>Graffiti Public Property</td>\n",
       "      <td>2016</td>\n",
       "      <td>142</td>\n",
       "    </tr>\n",
       "    <tr>\n",
       "      <th>585</th>\n",
       "      <td>DPT SignShop 01 Queue</td>\n",
       "      <td>Graffiti Public Property</td>\n",
       "      <td>2016</td>\n",
       "      <td>152</td>\n",
       "    </tr>\n",
       "    <tr>\n",
       "      <th>586</th>\n",
       "      <td>Clear Channel - Transit Queue</td>\n",
       "      <td>Graffiti Public Property</td>\n",
       "      <td>2016</td>\n",
       "      <td>3933</td>\n",
       "    </tr>\n",
       "    <tr>\n",
       "      <th>587</th>\n",
       "      <td>DPT Meter_Bike Queue</td>\n",
       "      <td>Graffiti Public Property</td>\n",
       "      <td>2016</td>\n",
       "      <td>3132</td>\n",
       "    </tr>\n",
       "    <tr>\n",
       "      <th>588</th>\n",
       "      <td>US Postal Service Maintenance Queue</td>\n",
       "      <td>Graffiti Public Property</td>\n",
       "      <td>2016</td>\n",
       "      <td>5242</td>\n",
       "    </tr>\n",
       "    <tr>\n",
       "      <th>589</th>\n",
       "      <td>DPW Ops Queue</td>\n",
       "      <td>Graffiti Private Property</td>\n",
       "      <td>2016</td>\n",
       "      <td>26730</td>\n",
       "    </tr>\n",
       "    <tr>\n",
       "      <th>590</th>\n",
       "      <td>DPW BSM Queue</td>\n",
       "      <td>Graffiti Public Property</td>\n",
       "      <td>2016</td>\n",
       "      <td>1913</td>\n",
       "    </tr>\n",
       "    <tr>\n",
       "      <th>591</th>\n",
       "      <td>311 Service Request Queue - Hold</td>\n",
       "      <td>Graffiti Public Property</td>\n",
       "      <td>2016</td>\n",
       "      <td>2190</td>\n",
       "    </tr>\n",
       "    <tr>\n",
       "      <th>592</th>\n",
       "      <td>DPT SignShop 03 Queue</td>\n",
       "      <td>Graffiti Public Property</td>\n",
       "      <td>2016</td>\n",
       "      <td>88</td>\n",
       "    </tr>\n",
       "    <tr>\n",
       "      <th>593</th>\n",
       "      <td>DPW Ops Queue</td>\n",
       "      <td>Graffiti Public Property</td>\n",
       "      <td>2016</td>\n",
       "      <td>21133</td>\n",
       "    </tr>\n",
       "  </tbody>\n",
       "</table>\n",
       "</div>"
      ],
      "text/plain": [
       "                      Responsible Agency                   Category  year  \\\n",
       "570                        DPW BSM Queue  Graffiti Private Property  2016   \n",
       "571   SFMTA - Muni System Feedback Queue   Graffiti Public Property  2016   \n",
       "572                 DPT Paint Shop Queue  Graffiti Private Property  2016   \n",
       "573     311 Service Request Queue - Hold  Graffiti Private Property  2016   \n",
       "574        Clear Channel - Transit Queue  Graffiti Private Property  2016   \n",
       "575         PUC - Water - Graffiti Queue   Graffiti Public Property  2016   \n",
       "576           DPT SignShop Unknown Queue   Graffiti Public Property  2016   \n",
       "577                    DPT - Bicycle - G   Graffiti Public Property  2016   \n",
       "578                DPT SignShop 05 Queue   Graffiti Public Property  2016   \n",
       "579                DPT SignShop 02 Queue   Graffiti Public Property  2016   \n",
       "580                DPT SignShop 08 Queue   Graffiti Public Property  2016   \n",
       "581                 311 Supervisor Queue   Graffiti Public Property  2016   \n",
       "582        PG and E - Streetlights Queue   Graffiti Public Property  2016   \n",
       "583                   Port Authority - G  Graffiti Private Property  2016   \n",
       "584                   RPD Graffiti Queue   Graffiti Public Property  2016   \n",
       "585                DPT SignShop 01 Queue   Graffiti Public Property  2016   \n",
       "586        Clear Channel - Transit Queue   Graffiti Public Property  2016   \n",
       "587                 DPT Meter_Bike Queue   Graffiti Public Property  2016   \n",
       "588  US Postal Service Maintenance Queue   Graffiti Public Property  2016   \n",
       "589                        DPW Ops Queue  Graffiti Private Property  2016   \n",
       "590                        DPW BSM Queue   Graffiti Public Property  2016   \n",
       "591     311 Service Request Queue - Hold   Graffiti Public Property  2016   \n",
       "592                DPT SignShop 03 Queue   Graffiti Public Property  2016   \n",
       "593                        DPW Ops Queue   Graffiti Public Property  2016   \n",
       "\n",
       "     count  \n",
       "570    260  \n",
       "571    233  \n",
       "572     24  \n",
       "573     76  \n",
       "574     29  \n",
       "575    473  \n",
       "576     30  \n",
       "577      1  \n",
       "578    459  \n",
       "579     69  \n",
       "580    286  \n",
       "581   1423  \n",
       "582    105  \n",
       "583      6  \n",
       "584    142  \n",
       "585    152  \n",
       "586   3933  \n",
       "587   3132  \n",
       "588   5242  \n",
       "589  26730  \n",
       "590   1913  \n",
       "591   2190  \n",
       "592     88  \n",
       "593  21133  "
      ]
     },
     "execution_count": 250,
     "metadata": {},
     "output_type": "execute_result"
    }
   ],
   "source": [
    "df=pd.read_csv(url)\n",
    "df=df[18:]\n",
    "df['year']=df['year'].str.extract('(?P<year>\\d{4})').astype(str)\n",
    "#df['count']=df['count'].astype(int)\n",
    "pd.to_numeric(df['count'])\n",
    "df=df[:-1]\n",
    "df.tail(24)"
   ]
  },
  {
   "cell_type": "code",
   "execution_count": 257,
   "metadata": {
    "collapsed": false
   },
   "outputs": [
    {
     "data": {
      "text/html": [
       "<div>\n",
       "<table border=\"1\" class=\"dataframe\">\n",
       "  <thead>\n",
       "    <tr style=\"text-align: right;\">\n",
       "      <th></th>\n",
       "      <th>Responsible Agency</th>\n",
       "      <th>Category</th>\n",
       "      <th>year</th>\n",
       "      <th>count</th>\n",
       "    </tr>\n",
       "  </thead>\n",
       "  <tbody>\n",
       "    <tr>\n",
       "      <th>430</th>\n",
       "      <td>Clear Channel - Transit Queue</td>\n",
       "      <td>Graffiti Public Property</td>\n",
       "      <td>2015</td>\n",
       "      <td>2511</td>\n",
       "    </tr>\n",
       "    <tr>\n",
       "      <th>432</th>\n",
       "      <td>DPT Meter_Bike Queue</td>\n",
       "      <td>Graffiti Public Property</td>\n",
       "      <td>2015</td>\n",
       "      <td>3092</td>\n",
       "    </tr>\n",
       "    <tr>\n",
       "      <th>433</th>\n",
       "      <td>US Postal Service Maintenance Queue</td>\n",
       "      <td>Graffiti Public Property</td>\n",
       "      <td>2015</td>\n",
       "      <td>1624</td>\n",
       "    </tr>\n",
       "    <tr>\n",
       "      <th>586</th>\n",
       "      <td>Clear Channel - Transit Queue</td>\n",
       "      <td>Graffiti Public Property</td>\n",
       "      <td>2016</td>\n",
       "      <td>3933</td>\n",
       "    </tr>\n",
       "    <tr>\n",
       "      <th>587</th>\n",
       "      <td>DPT Meter_Bike Queue</td>\n",
       "      <td>Graffiti Public Property</td>\n",
       "      <td>2016</td>\n",
       "      <td>3132</td>\n",
       "    </tr>\n",
       "    <tr>\n",
       "      <th>588</th>\n",
       "      <td>US Postal Service Maintenance Queue</td>\n",
       "      <td>Graffiti Public Property</td>\n",
       "      <td>2016</td>\n",
       "      <td>5242</td>\n",
       "    </tr>\n",
       "  </tbody>\n",
       "</table>\n",
       "</div>"
      ],
      "text/plain": [
       "                      Responsible Agency                  Category  year  \\\n",
       "430        Clear Channel - Transit Queue  Graffiti Public Property  2015   \n",
       "432                 DPT Meter_Bike Queue  Graffiti Public Property  2015   \n",
       "433  US Postal Service Maintenance Queue  Graffiti Public Property  2015   \n",
       "586        Clear Channel - Transit Queue  Graffiti Public Property  2016   \n",
       "587                 DPT Meter_Bike Queue  Graffiti Public Property  2016   \n",
       "588  US Postal Service Maintenance Queue  Graffiti Public Property  2016   \n",
       "\n",
       "     count  \n",
       "430   2511  \n",
       "432   3092  \n",
       "433   1624  \n",
       "586   3933  \n",
       "587   3132  \n",
       "588   5242  "
      ]
     },
     "execution_count": 257,
     "metadata": {},
     "output_type": "execute_result"
    }
   ],
   "source": [
    "df = df[df.Category == 'Graffiti Public Property']\n",
    "#df = df[df.year == '2016']\n",
    "df = df[(df.year == '2015') | (df.year == '2016')  ]\n",
    "df = df[df['count'] >=500]\n",
    "#df = df[df['Responsible Agency'].str.contains('DPT')]\n",
    "df = df[-df['Responsible Agency'].str.contains('311')]\n",
    "df = df[-df['Responsible Agency'].str.contains('PUC')]\n",
    "df = df[-df['Responsible Agency'].str.contains('DPW')]\n",
    "\n",
    "df"
   ]
  },
  {
   "cell_type": "code",
   "execution_count": 258,
   "metadata": {
    "collapsed": true
   },
   "outputs": [],
   "source": [
    "df['count'] = df['count'].apply(pd.to_numeric)"
   ]
  },
  {
   "cell_type": "code",
   "execution_count": 259,
   "metadata": {
    "collapsed": true
   },
   "outputs": [],
   "source": [
    "df = df[df['count'] >= 800]\n"
   ]
  },
  {
   "cell_type": "code",
   "execution_count": 260,
   "metadata": {
    "collapsed": false
   },
   "outputs": [
    {
     "data": {
      "text/html": [
       "<div>\n",
       "<table border=\"1\" class=\"dataframe\">\n",
       "  <thead>\n",
       "    <tr style=\"text-align: right;\">\n",
       "      <th>Responsible Agency</th>\n",
       "      <th>Clear Channel - Transit Queue</th>\n",
       "      <th>DPT Meter_Bike Queue</th>\n",
       "      <th>US Postal Service Maintenance Queue</th>\n",
       "    </tr>\n",
       "    <tr>\n",
       "      <th>year</th>\n",
       "      <th></th>\n",
       "      <th></th>\n",
       "      <th></th>\n",
       "    </tr>\n",
       "  </thead>\n",
       "  <tbody>\n",
       "    <tr>\n",
       "      <th>2015</th>\n",
       "      <td>2511</td>\n",
       "      <td>3092</td>\n",
       "      <td>1624</td>\n",
       "    </tr>\n",
       "    <tr>\n",
       "      <th>2016</th>\n",
       "      <td>3933</td>\n",
       "      <td>3132</td>\n",
       "      <td>5242</td>\n",
       "    </tr>\n",
       "  </tbody>\n",
       "</table>\n",
       "</div>"
      ],
      "text/plain": [
       "Responsible Agency  Clear Channel - Transit Queue  DPT Meter_Bike Queue  \\\n",
       "year                                                                      \n",
       "2015                                         2511                  3092   \n",
       "2016                                         3933                  3132   \n",
       "\n",
       "Responsible Agency  US Postal Service Maintenance Queue  \n",
       "year                                                     \n",
       "2015                                               1624  \n",
       "2016                                               5242  "
      ]
     },
     "execution_count": 260,
     "metadata": {},
     "output_type": "execute_result"
    }
   ],
   "source": [
    "df2 =pd.pivot_table(\n",
    "  df,values='count',\n",
    "  index=['year'], \n",
    "  columns=['Responsible Agency'],\n",
    "  aggfunc=np.sum) \n",
    "df2"
   ]
  },
  {
   "cell_type": "code",
   "execution_count": 261,
   "metadata": {
    "collapsed": false
   },
   "outputs": [
    {
     "ename": "SyntaxError",
     "evalue": "invalid syntax (<ipython-input-261-d230d845cd15>, line 1)",
     "output_type": "error",
     "traceback": [
      "\u001b[0;36m  File \u001b[0;32m\"<ipython-input-261-d230d845cd15>\"\u001b[0;36m, line \u001b[0;32m1\u001b[0m\n\u001b[0;31m    df.\u001b[0m\n\u001b[0m       ^\u001b[0m\n\u001b[0;31mSyntaxError\u001b[0m\u001b[0;31m:\u001b[0m invalid syntax\n"
     ]
    }
   ],
   "source": [
    "df."
   ]
  },
  {
   "cell_type": "code",
   "execution_count": 264,
   "metadata": {
    "collapsed": false
   },
   "outputs": [
    {
     "name": "stderr",
     "output_type": "stream",
     "text": [
      "INFO:bokeh.core.state:Session output file 'line.html' already exists, will be overwritten.\n"
     ]
    },
    {
     "data": {
      "text/html": [
       "\n",
       "\n",
       "    <div class=\"bk-root\">\n",
       "        <div class=\"plotdiv\" id=\"95163b8c-48c1-4f61-9de0-ea1ff6b543a3\"></div>\n",
       "    </div>\n",
       "<script type=\"text/javascript\">\n",
       "  \n",
       "  (function(global) {\n",
       "    function now() {\n",
       "      return new Date();\n",
       "    }\n",
       "  \n",
       "    var force = \"\";\n",
       "  \n",
       "    if (typeof (window._bokeh_onload_callbacks) === \"undefined\" || force !== \"\") {\n",
       "      window._bokeh_onload_callbacks = [];\n",
       "      window._bokeh_is_loading = undefined;\n",
       "    }\n",
       "  \n",
       "  \n",
       "    \n",
       "    if (typeof (window._bokeh_timeout) === \"undefined\" || force !== \"\") {\n",
       "      window._bokeh_timeout = Date.now() + 0;\n",
       "      window._bokeh_failed_load = false;\n",
       "    }\n",
       "  \n",
       "    var NB_LOAD_WARNING = {'data': {'text/html':\n",
       "       \"<div style='background-color: #fdd'>\\n\"+\n",
       "       \"<p>\\n\"+\n",
       "       \"BokehJS does not appear to have successfully loaded. If loading BokehJS from CDN, this \\n\"+\n",
       "       \"may be due to a slow or bad network connection. Possible fixes:\\n\"+\n",
       "       \"</p>\\n\"+\n",
       "       \"<ul>\\n\"+\n",
       "       \"<li>re-rerun `output_notebook()` to attempt to load from CDN again, or</li>\\n\"+\n",
       "       \"<li>use INLINE resources instead, as so:</li>\\n\"+\n",
       "       \"</ul>\\n\"+\n",
       "       \"<code>\\n\"+\n",
       "       \"from bokeh.resources import INLINE\\n\"+\n",
       "       \"output_notebook(resources=INLINE)\\n\"+\n",
       "       \"</code>\\n\"+\n",
       "       \"</div>\"}};\n",
       "  \n",
       "    function display_loaded() {\n",
       "      if (window.Bokeh !== undefined) {\n",
       "        Bokeh.$(\"#95163b8c-48c1-4f61-9de0-ea1ff6b543a3\").text(\"BokehJS successfully loaded.\");\n",
       "      } else if (Date.now() < window._bokeh_timeout) {\n",
       "        setTimeout(display_loaded, 100)\n",
       "      }\n",
       "    }\n",
       "  \n",
       "    function run_callbacks() {\n",
       "      window._bokeh_onload_callbacks.forEach(function(callback) { callback() });\n",
       "      delete window._bokeh_onload_callbacks\n",
       "      console.info(\"Bokeh: all callbacks have finished\");\n",
       "    }\n",
       "  \n",
       "    function load_libs(js_urls, callback) {\n",
       "      window._bokeh_onload_callbacks.push(callback);\n",
       "      if (window._bokeh_is_loading > 0) {\n",
       "        console.log(\"Bokeh: BokehJS is being loaded, scheduling callback at\", now());\n",
       "        return null;\n",
       "      }\n",
       "      if (js_urls == null || js_urls.length === 0) {\n",
       "        run_callbacks();\n",
       "        return null;\n",
       "      }\n",
       "      console.log(\"Bokeh: BokehJS not loaded, scheduling load and callback at\", now());\n",
       "      window._bokeh_is_loading = js_urls.length;\n",
       "      for (var i = 0; i < js_urls.length; i++) {\n",
       "        var url = js_urls[i];\n",
       "        var s = document.createElement('script');\n",
       "        s.src = url;\n",
       "        s.async = false;\n",
       "        s.onreadystatechange = s.onload = function() {\n",
       "          window._bokeh_is_loading--;\n",
       "          if (window._bokeh_is_loading === 0) {\n",
       "            console.log(\"Bokeh: all BokehJS libraries loaded\");\n",
       "            run_callbacks()\n",
       "          }\n",
       "        };\n",
       "        s.onerror = function() {\n",
       "          console.warn(\"failed to load library \" + url);\n",
       "        };\n",
       "        console.log(\"Bokeh: injecting script tag for BokehJS library: \", url);\n",
       "        document.getElementsByTagName(\"head\")[0].appendChild(s);\n",
       "      }\n",
       "    };var element = document.getElementById(\"95163b8c-48c1-4f61-9de0-ea1ff6b543a3\");\n",
       "    if (element == null) {\n",
       "      console.log(\"Bokeh: ERROR: autoload.js configured with elementid '95163b8c-48c1-4f61-9de0-ea1ff6b543a3' but no matching script tag was found. \")\n",
       "      return false;\n",
       "    }\n",
       "  \n",
       "    var js_urls = [];\n",
       "  \n",
       "    var inline_js = [\n",
       "      function(Bokeh) {\n",
       "        Bokeh.$(function() {\n",
       "            var docs_json = {\"ff1870f5-f39b-4e6a-a938-a73a87fbba5d\":{\"roots\":{\"references\":[{\"attributes\":{\"dimension\":1,\"plot\":{\"id\":\"f738b351-0610-49bd-a6e0-a9c213abc11a\",\"subtype\":\"Chart\",\"type\":\"Plot\"},\"ticker\":{\"id\":\"91d99dc9-1e97-4369-90f8-8df5fcc9d171\",\"type\":\"BasicTicker\"}},\"id\":\"bace1c54-3323-4f73-a52d-0846c82d6e54\",\"type\":\"Grid\"},{\"attributes\":{\"active_drag\":\"auto\",\"active_scroll\":\"auto\",\"active_tap\":\"auto\",\"tools\":[{\"id\":\"ff0ae7d1-6b75-43be-bb7a-009e5a20d91a\",\"type\":\"PanTool\"},{\"id\":\"ed945092-7639-442a-845a-5f92a109dcd9\",\"type\":\"WheelZoomTool\"},{\"id\":\"4668ca93-5476-450e-b050-e056176cbe6d\",\"type\":\"BoxZoomTool\"},{\"id\":\"0d5ef961-0fae-4825-9763-44d1ce17c274\",\"type\":\"SaveTool\"},{\"id\":\"bc3cecfd-4037-4d73-91e3-5e35524e2946\",\"type\":\"ResetTool\"},{\"id\":\"cbf05547-e075-4e10-8fc3-079828f309a8\",\"type\":\"HelpTool\"}]},\"id\":\"ed949a7a-2f17-436b-b54f-6a6bbb1d6738\",\"type\":\"Toolbar\"},{\"attributes\":{\"callback\":null,\"column_names\":[\"y_values\",\"x_values\"],\"data\":{\"chart_index\":[{\"series\":\"Clear Channel - Transit Queue\"},{\"series\":\"Clear Channel - Transit Queue\"}],\"series\":[\"Clear Channel - Transit Queue\",\"Clear Channel - Transit Queue\"],\"x_values\":[\"2015\",\"2016\"],\"y_values\":[2511,3933]}},\"id\":\"993e96b2-63e6-4754-916f-e8377e92d642\",\"type\":\"ColumnDataSource\"},{\"attributes\":{\"items\":[{\"id\":\"b5d2af37-d59d-4c5d-bd7e-3ad75d50fc3f\",\"type\":\"LegendItem\"},{\"id\":\"9740aa5a-8699-4126-84e5-1aa63115275c\",\"type\":\"LegendItem\"},{\"id\":\"10a00aef-49c5-4b9a-b4fa-dc2b7928caa3\",\"type\":\"LegendItem\"}],\"location\":\"top_left\",\"plot\":{\"id\":\"f738b351-0610-49bd-a6e0-a9c213abc11a\",\"subtype\":\"Chart\",\"type\":\"Plot\"}},\"id\":\"ce22c867-531c-433f-9ebf-98c9d13fbcbb\",\"type\":\"Legend\"},{\"attributes\":{\"plot\":{\"id\":\"f738b351-0610-49bd-a6e0-a9c213abc11a\",\"subtype\":\"Chart\",\"type\":\"Plot\"}},\"id\":\"bc3cecfd-4037-4d73-91e3-5e35524e2946\",\"type\":\"ResetTool\"},{\"attributes\":{\"data_source\":{\"id\":\"993e96b2-63e6-4754-916f-e8377e92d642\",\"type\":\"ColumnDataSource\"},\"glyph\":{\"id\":\"cd5b551b-c068-4dec-94e1-2864a36607ee\",\"type\":\"Line\"},\"hover_glyph\":null,\"nonselection_glyph\":null,\"selection_glyph\":null},\"id\":\"b9610116-cef3-403a-9762-8d611db208d1\",\"type\":\"GlyphRenderer\"},{\"attributes\":{\"label\":{\"value\":\"Clear Channel - Transit Queue\"},\"renderers\":[{\"id\":\"b9610116-cef3-403a-9762-8d611db208d1\",\"type\":\"GlyphRenderer\"}]},\"id\":\"b5d2af37-d59d-4c5d-bd7e-3ad75d50fc3f\",\"type\":\"LegendItem\"},{\"attributes\":{},\"id\":\"52b00aaf-7a11-48a7-9c12-f0b89c1c90bb\",\"type\":\"CategoricalTicker\"},{\"attributes\":{},\"id\":\"0bb23ccc-2436-4f9c-bd01-b0e648986296\",\"type\":\"BasicTickFormatter\"},{\"attributes\":{\"plot\":null,\"text\":\"line\"},\"id\":\"43768265-5bc8-49ae-934b-428c3f8d8d19\",\"type\":\"Title\"},{\"attributes\":{\"label\":{\"value\":\"DPT Meter_Bike Queue\"},\"renderers\":[{\"id\":\"f7654aee-1077-4348-8659-cb4b5f40b79d\",\"type\":\"GlyphRenderer\"}]},\"id\":\"9740aa5a-8699-4126-84e5-1aa63115275c\",\"type\":\"LegendItem\"},{\"attributes\":{\"overlay\":{\"id\":\"2741cfe3-1ca0-47ee-8cf3-7228d823be9d\",\"type\":\"BoxAnnotation\"},\"plot\":{\"id\":\"f738b351-0610-49bd-a6e0-a9c213abc11a\",\"subtype\":\"Chart\",\"type\":\"Plot\"}},\"id\":\"4668ca93-5476-450e-b050-e056176cbe6d\",\"type\":\"BoxZoomTool\"},{\"attributes\":{\"callback\":null,\"factors\":[\"2015\",\"2016\"]},\"id\":\"6acdc199-159a-4025-8c25-e6904ed3b5f5\",\"type\":\"FactorRange\"},{\"attributes\":{\"label\":{\"value\":\"US Postal Service Maintenance Queue\"},\"renderers\":[{\"id\":\"0ba16f62-dc9e-4925-b893-c7091dff35af\",\"type\":\"GlyphRenderer\"}]},\"id\":\"10a00aef-49c5-4b9a-b4fa-dc2b7928caa3\",\"type\":\"LegendItem\"},{\"attributes\":{\"line_color\":{\"value\":\"#407ee7\"},\"line_width\":{\"value\":2},\"x\":{\"field\":\"x_values\"},\"y\":{\"field\":\"y_values\"}},\"id\":\"469c8e4f-7010-43e5-a1bb-0aa30d772852\",\"type\":\"Line\"},{\"attributes\":{\"callback\":null,\"end\":5603.8,\"start\":1262.2},\"id\":\"de7111a2-fe71-461d-9cc5-e201c3cc0161\",\"type\":\"Range1d\"},{\"attributes\":{\"line_color\":{\"value\":\"#f22c40\"},\"line_width\":{\"value\":2},\"x\":{\"field\":\"x_values\"},\"y\":{\"field\":\"y_values\"}},\"id\":\"cd5b551b-c068-4dec-94e1-2864a36607ee\",\"type\":\"Line\"},{\"attributes\":{\"line_color\":{\"value\":\"#5ab738\"},\"line_width\":{\"value\":2},\"x\":{\"field\":\"x_values\"},\"y\":{\"field\":\"y_values\"}},\"id\":\"4a07d67f-ee5e-4abb-9a39-2d771dfae1c3\",\"type\":\"Line\"},{\"attributes\":{\"plot\":{\"id\":\"f738b351-0610-49bd-a6e0-a9c213abc11a\",\"subtype\":\"Chart\",\"type\":\"Plot\"}},\"id\":\"ed945092-7639-442a-845a-5f92a109dcd9\",\"type\":\"WheelZoomTool\"},{\"attributes\":{\"callback\":null,\"column_names\":[\"y_values\",\"x_values\"],\"data\":{\"chart_index\":[{\"series\":\"US Postal Service Maintenance Queue\"},{\"series\":\"US Postal Service Maintenance Queue\"}],\"series\":[\"US Postal Service Maintenance Queue\",\"US Postal Service Maintenance Queue\"],\"x_values\":[\"2015\",\"2016\"],\"y_values\":[1624,5242]}},\"id\":\"5df521e5-ee16-443d-b4b2-50f4d86caa67\",\"type\":\"ColumnDataSource\"},{\"attributes\":{},\"id\":\"91d99dc9-1e97-4369-90f8-8df5fcc9d171\",\"type\":\"BasicTicker\"},{\"attributes\":{\"bottom_units\":\"screen\",\"fill_alpha\":{\"value\":0.5},\"fill_color\":{\"value\":\"lightgrey\"},\"left_units\":\"screen\",\"level\":\"overlay\",\"line_alpha\":{\"value\":1.0},\"line_color\":{\"value\":\"black\"},\"line_dash\":[4,4],\"line_width\":{\"value\":2},\"plot\":null,\"render_mode\":\"css\",\"right_units\":\"screen\",\"top_units\":\"screen\"},\"id\":\"2741cfe3-1ca0-47ee-8cf3-7228d823be9d\",\"type\":\"BoxAnnotation\"},{\"attributes\":{\"axis_label\":\"Year to Year\",\"formatter\":{\"id\":\"2358a724-5216-4617-8c34-c6a4549c80b3\",\"type\":\"CategoricalTickFormatter\"},\"major_label_orientation\":0.7853981633974483,\"plot\":{\"id\":\"f738b351-0610-49bd-a6e0-a9c213abc11a\",\"subtype\":\"Chart\",\"type\":\"Plot\"},\"ticker\":{\"id\":\"52b00aaf-7a11-48a7-9c12-f0b89c1c90bb\",\"type\":\"CategoricalTicker\"}},\"id\":\"fc614ea5-0c09-4450-81b3-21fd43fcdb28\",\"type\":\"CategoricalAxis\"},{\"attributes\":{\"plot\":{\"id\":\"f738b351-0610-49bd-a6e0-a9c213abc11a\",\"subtype\":\"Chart\",\"type\":\"Plot\"}},\"id\":\"ff0ae7d1-6b75-43be-bb7a-009e5a20d91a\",\"type\":\"PanTool\"},{\"attributes\":{\"data_source\":{\"id\":\"5df521e5-ee16-443d-b4b2-50f4d86caa67\",\"type\":\"ColumnDataSource\"},\"glyph\":{\"id\":\"469c8e4f-7010-43e5-a1bb-0aa30d772852\",\"type\":\"Line\"},\"hover_glyph\":null,\"nonselection_glyph\":null,\"selection_glyph\":null},\"id\":\"0ba16f62-dc9e-4925-b893-c7091dff35af\",\"type\":\"GlyphRenderer\"},{\"attributes\":{\"callback\":null,\"column_names\":[\"y_values\",\"x_values\"],\"data\":{\"chart_index\":[{\"series\":\"DPT Meter_Bike Queue\"},{\"series\":\"DPT Meter_Bike Queue\"}],\"series\":[\"DPT Meter_Bike Queue\",\"DPT Meter_Bike Queue\"],\"x_values\":[\"2015\",\"2016\"],\"y_values\":[3092,3132]}},\"id\":\"8e8871f8-c731-42ca-aa9f-27facfb2255e\",\"type\":\"ColumnDataSource\"},{\"attributes\":{},\"id\":\"bfadec72-b234-4943-a9c9-4ef41d8718ce\",\"type\":\"ToolEvents\"},{\"attributes\":{\"plot\":{\"id\":\"f738b351-0610-49bd-a6e0-a9c213abc11a\",\"subtype\":\"Chart\",\"type\":\"Plot\"}},\"id\":\"cbf05547-e075-4e10-8fc3-079828f309a8\",\"type\":\"HelpTool\"},{\"attributes\":{\"axis_label\":\"Non-DPW Big Agencies\",\"formatter\":{\"id\":\"0bb23ccc-2436-4f9c-bd01-b0e648986296\",\"type\":\"BasicTickFormatter\"},\"plot\":{\"id\":\"f738b351-0610-49bd-a6e0-a9c213abc11a\",\"subtype\":\"Chart\",\"type\":\"Plot\"},\"ticker\":{\"id\":\"91d99dc9-1e97-4369-90f8-8df5fcc9d171\",\"type\":\"BasicTicker\"}},\"id\":\"92542ef8-031c-457b-9135-a6067af49106\",\"type\":\"LinearAxis\"},{\"attributes\":{\"plot\":{\"id\":\"f738b351-0610-49bd-a6e0-a9c213abc11a\",\"subtype\":\"Chart\",\"type\":\"Plot\"}},\"id\":\"0d5ef961-0fae-4825-9763-44d1ce17c274\",\"type\":\"SaveTool\"},{\"attributes\":{\"data_source\":{\"id\":\"8e8871f8-c731-42ca-aa9f-27facfb2255e\",\"type\":\"ColumnDataSource\"},\"glyph\":{\"id\":\"4a07d67f-ee5e-4abb-9a39-2d771dfae1c3\",\"type\":\"Line\"},\"hover_glyph\":null,\"nonselection_glyph\":null,\"selection_glyph\":null},\"id\":\"f7654aee-1077-4348-8659-cb4b5f40b79d\",\"type\":\"GlyphRenderer\"},{\"attributes\":{},\"id\":\"2358a724-5216-4617-8c34-c6a4549c80b3\",\"type\":\"CategoricalTickFormatter\"},{\"attributes\":{\"plot\":{\"id\":\"f738b351-0610-49bd-a6e0-a9c213abc11a\",\"subtype\":\"Chart\",\"type\":\"Plot\"},\"ticker\":{\"id\":\"52b00aaf-7a11-48a7-9c12-f0b89c1c90bb\",\"type\":\"CategoricalTicker\"}},\"id\":\"8a37d826-f571-4e06-b4a3-93141be7758c\",\"type\":\"Grid\"},{\"attributes\":{\"below\":[{\"id\":\"fc614ea5-0c09-4450-81b3-21fd43fcdb28\",\"type\":\"CategoricalAxis\"}],\"left\":[{\"id\":\"92542ef8-031c-457b-9135-a6067af49106\",\"type\":\"LinearAxis\"}],\"renderers\":[{\"id\":\"2741cfe3-1ca0-47ee-8cf3-7228d823be9d\",\"type\":\"BoxAnnotation\"},{\"id\":\"b9610116-cef3-403a-9762-8d611db208d1\",\"type\":\"GlyphRenderer\"},{\"id\":\"f7654aee-1077-4348-8659-cb4b5f40b79d\",\"type\":\"GlyphRenderer\"},{\"id\":\"0ba16f62-dc9e-4925-b893-c7091dff35af\",\"type\":\"GlyphRenderer\"},{\"id\":\"ce22c867-531c-433f-9ebf-98c9d13fbcbb\",\"type\":\"Legend\"},{\"id\":\"fc614ea5-0c09-4450-81b3-21fd43fcdb28\",\"type\":\"CategoricalAxis\"},{\"id\":\"92542ef8-031c-457b-9135-a6067af49106\",\"type\":\"LinearAxis\"},{\"id\":\"8a37d826-f571-4e06-b4a3-93141be7758c\",\"type\":\"Grid\"},{\"id\":\"bace1c54-3323-4f73-a52d-0846c82d6e54\",\"type\":\"Grid\"}],\"title\":{\"id\":\"43768265-5bc8-49ae-934b-428c3f8d8d19\",\"type\":\"Title\"},\"tool_events\":{\"id\":\"bfadec72-b234-4943-a9c9-4ef41d8718ce\",\"type\":\"ToolEvents\"},\"toolbar\":{\"id\":\"ed949a7a-2f17-436b-b54f-6a6bbb1d6738\",\"type\":\"Toolbar\"},\"x_mapper_type\":\"auto\",\"x_range\":{\"id\":\"6acdc199-159a-4025-8c25-e6904ed3b5f5\",\"type\":\"FactorRange\"},\"y_mapper_type\":\"auto\",\"y_range\":{\"id\":\"de7111a2-fe71-461d-9cc5-e201c3cc0161\",\"type\":\"Range1d\"}},\"id\":\"f738b351-0610-49bd-a6e0-a9c213abc11a\",\"subtype\":\"Chart\",\"type\":\"Plot\"}],\"root_ids\":[\"f738b351-0610-49bd-a6e0-a9c213abc11a\"]},\"title\":\"Bokeh Application\",\"version\":\"0.12.3\"}};\n",
       "            var render_items = [{\"docid\":\"ff1870f5-f39b-4e6a-a938-a73a87fbba5d\",\"elementid\":\"95163b8c-48c1-4f61-9de0-ea1ff6b543a3\",\"modelid\":\"f738b351-0610-49bd-a6e0-a9c213abc11a\"}];\n",
       "            \n",
       "            Bokeh.embed.embed_items(docs_json, render_items);\n",
       "        });\n",
       "      },\n",
       "      function(Bokeh) {\n",
       "      }\n",
       "    ];\n",
       "  \n",
       "    function run_inline_js() {\n",
       "      \n",
       "      if ((window.Bokeh !== undefined) || (force === \"1\")) {\n",
       "        for (var i = 0; i < inline_js.length; i++) {\n",
       "          inline_js[i](window.Bokeh);\n",
       "        }if (force === \"1\") {\n",
       "          display_loaded();\n",
       "        }} else if (Date.now() < window._bokeh_timeout) {\n",
       "        setTimeout(run_inline_js, 100);\n",
       "      } else if (!window._bokeh_failed_load) {\n",
       "        console.log(\"Bokeh: BokehJS failed to load within specified timeout.\");\n",
       "        window._bokeh_failed_load = true;\n",
       "      } else if (!force) {\n",
       "        var cell = $(\"#95163b8c-48c1-4f61-9de0-ea1ff6b543a3\").parents('.cell').data().cell;\n",
       "        cell.output_area.append_execute_result(NB_LOAD_WARNING)\n",
       "      }\n",
       "  \n",
       "    }\n",
       "  \n",
       "    if (window._bokeh_is_loading === 0) {\n",
       "      console.log(\"Bokeh: BokehJS loaded, going straight to plotting\");\n",
       "      run_inline_js();\n",
       "    } else {\n",
       "      load_libs(js_urls, function() {\n",
       "        console.log(\"Bokeh: BokehJS plotting callback run at\", now());\n",
       "        run_inline_js();\n",
       "      });\n",
       "    }\n",
       "  }(this));\n",
       "</script>"
      ]
     },
     "metadata": {},
     "output_type": "display_data"
    }
   ],
   "source": [
    "import numpy as np\n",
    "from bokeh.charts import Line, output_file, show\n",
    "\n",
    "# (dict, OrderedDict, lists, arrays and DataFrames are valid inputs)\n",
    "#xyvalues = np.array([[2, 3, 7, 5, 26], [12, 33, 47, 15, 126], [22, 43, 10, 25, 26]])\n",
    "xyvalues = df2\n",
    "line = Line(xyvalues, title=\"line\", legend=\"top_left\", ylabel='Non-DPW Big Agencies', xlabel='Year to Year')\n",
    "\n",
    "output_file('line.html')\n",
    "show(line)"
   ]
  },
  {
   "cell_type": "code",
   "execution_count": null,
   "metadata": {
    "collapsed": true
   },
   "outputs": [],
   "source": []
  },
  {
   "cell_type": "code",
   "execution_count": null,
   "metadata": {
    "collapsed": true
   },
   "outputs": [],
   "source": []
  },
  {
   "cell_type": "code",
   "execution_count": null,
   "metadata": {
    "collapsed": true
   },
   "outputs": [],
   "source": []
  },
  {
   "cell_type": "code",
   "execution_count": null,
   "metadata": {
    "collapsed": false
   },
   "outputs": [],
   "source": [
    "# drop from url those prior to January 1\n",
    "where = '&$where='\n",
    "category = 'opened'\n",
    "start = '>='\n",
    "\n",
    "#date format 'year-mm-dd'\n",
    "onorafter = \"'2016-01-01'\"\n",
    "url2 = url2 + where + category + start + str(onorafter) \n",
    "print(url2)"
   ]
  },
  {
   "cell_type": "markdown",
   "metadata": {
    "collapsed": true
   },
   "source": [
    "# Concatenate or Vertically stack the two dataFrames"
   ]
  },
  {
   "cell_type": "code",
   "execution_count": null,
   "metadata": {
    "collapsed": false
   },
   "outputs": [],
   "source": [
    "df1  = pd.read_csv(url1)\n",
    "df2 = pd.read_csv(url2)\n",
    "df = pd.concat([df1,df2])\n",
    "df.shape\n"
   ]
  },
  {
   "cell_type": "code",
   "execution_count": null,
   "metadata": {
    "collapsed": false
   },
   "outputs": [],
   "source": [
    "# frames = [df1,df2]\n",
    "# df = pd.concat(frames)"
   ]
  },
  {
   "cell_type": "code",
   "execution_count": null,
   "metadata": {
    "collapsed": false
   },
   "outputs": [],
   "source": []
  },
  {
   "cell_type": "markdown",
   "metadata": {},
   "source": [
    "# Convert the time series into pandas time version"
   ]
  },
  {
   "cell_type": "code",
   "execution_count": null,
   "metadata": {
    "collapsed": false
   },
   "outputs": [],
   "source": [
    "df.columns"
   ]
  },
  {
   "cell_type": "code",
   "execution_count": null,
   "metadata": {
    "collapsed": false
   },
   "outputs": [],
   "source": [
    "type(df.Opened)"
   ]
  },
  {
   "cell_type": "code",
   "execution_count": null,
   "metadata": {
    "collapsed": false
   },
   "outputs": [],
   "source": [
    "df['Opened'] = pd.to_datetime(df['Opened']).dt.strftime('%Y-%m-%d')"
   ]
  },
  {
   "cell_type": "code",
   "execution_count": null,
   "metadata": {
    "collapsed": true
   },
   "outputs": [],
   "source": [
    "df['Closed'] = pd.to_datetime(df['Closed']).dt.strftime('%Y-%m-%d')\n",
    "df['Updated'] = pd.to_datetime(df['Updated']).dt.strftime('%Y-%m-%d')\n"
   ]
  },
  {
   "cell_type": "code",
   "execution_count": null,
   "metadata": {
    "collapsed": false
   },
   "outputs": [],
   "source": [
    "df.head(2)"
   ]
  },
  {
   "cell_type": "code",
   "execution_count": null,
   "metadata": {
    "collapsed": false
   },
   "outputs": [],
   "source": [
    "df.to_string(columns='Supervisor District')"
   ]
  },
  {
   "cell_type": "code",
   "execution_count": null,
   "metadata": {
    "collapsed": false
   },
   "outputs": [],
   "source": [
    "df.to_string(columns = 'Supervisor District')"
   ]
  },
  {
   "cell_type": "code",
   "execution_count": null,
   "metadata": {
    "collapsed": false
   },
   "outputs": [],
   "source": [
    "df['Diff'] =(df.Closed-df.Opened).astype('timedelta64[D]')\n"
   ]
  },
  {
   "cell_type": "code",
   "execution_count": null,
   "metadata": {
    "collapsed": false
   },
   "outputs": [],
   "source": [
    "type(df['Supervisor District'])"
   ]
  },
  {
   "cell_type": "code",
   "execution_count": null,
   "metadata": {
    "collapsed": false
   },
   "outputs": [],
   "source": [
    "df.Diff.describe()"
   ]
  },
  {
   "cell_type": "code",
   "execution_count": null,
   "metadata": {
    "collapsed": false
   },
   "outputs": [],
   "source": [
    "df[df['Neighborhood' ]== \"Mission\"].head(85)"
   ]
  },
  {
   "cell_type": "code",
   "execution_count": null,
   "metadata": {
    "collapsed": false
   },
   "outputs": [],
   "source": [
    "df[df['Neighborhood' ]== \"Mission\"].describe()"
   ]
  },
  {
   "cell_type": "code",
   "execution_count": null,
   "metadata": {
    "collapsed": false
   },
   "outputs": [],
   "source": [
    "df['Responsible Agency'].value_counts()[:6]"
   ]
  },
  {
   "cell_type": "code",
   "execution_count": null,
   "metadata": {
    "collapsed": false
   },
   "outputs": [],
   "source": [
    "df[df['Responsible Agency'] == 'US Postal Service Maintenance Queue']['Diff'].describe()"
   ]
  },
  {
   "cell_type": "code",
   "execution_count": null,
   "metadata": {
    "collapsed": false
   },
   "outputs": [],
   "source": [
    "df[df['Responsible Agency'] == 'Clear Channel - Transit Queue']['Diff'].describe()"
   ]
  },
  {
   "cell_type": "code",
   "execution_count": null,
   "metadata": {
    "collapsed": false
   },
   "outputs": [],
   "source": [
    "df[df['Responsible Agency'] == 'DPW Ops Queue']['Diff'].describe()"
   ]
  },
  {
   "cell_type": "code",
   "execution_count": null,
   "metadata": {
    "collapsed": false
   },
   "outputs": [],
   "source": [
    "df[df['Category'] == 'Graffiti Private Property']['Diff'].describe()"
   ]
  },
  {
   "cell_type": "code",
   "execution_count": null,
   "metadata": {
    "collapsed": false
   },
   "outputs": [],
   "source": [
    "df[df['Category'] == 'Graffiti Public Property']['Diff'].describe()"
   ]
  },
  {
   "cell_type": "code",
   "execution_count": null,
   "metadata": {
    "collapsed": false
   },
   "outputs": [],
   "source": [
    "df['Source'].value_counts()"
   ]
  },
  {
   "cell_type": "code",
   "execution_count": null,
   "metadata": {
    "collapsed": false
   },
   "outputs": [],
   "source": [
    "df[df['Source'] == 'Open311']['Diff'].describe()"
   ]
  },
  {
   "cell_type": "code",
   "execution_count": null,
   "metadata": {
    "collapsed": false
   },
   "outputs": [],
   "source": [
    "df[df['Source'] == 'Voice In']['Diff'].describe()"
   ]
  },
  {
   "cell_type": "code",
   "execution_count": null,
   "metadata": {
    "collapsed": false
   },
   "outputs": [],
   "source": [
    "df[df['Source'] == 'Integrated Agency']['Diff'].describe()"
   ]
  },
  {
   "cell_type": "markdown",
   "metadata": {},
   "source": [
    "# Consider some exploratory statistics / reality checks"
   ]
  },
  {
   "cell_type": "code",
   "execution_count": null,
   "metadata": {
    "collapsed": false
   },
   "outputs": [],
   "source": [
    "source = df.Source.value_counts()\n",
    "print(type(source))\n",
    "\n",
    "\n",
    "print(source)"
   ]
  },
  {
   "cell_type": "code",
   "execution_count": null,
   "metadata": {
    "collapsed": false
   },
   "outputs": [],
   "source": [
    "type(source)"
   ]
  },
  {
   "cell_type": "code",
   "execution_count": null,
   "metadata": {
    "collapsed": false
   },
   "outputs": [],
   "source": [
    "label_list = source.index.tolist()\n",
    "print(label_list)"
   ]
  },
  {
   "cell_type": "code",
   "execution_count": null,
   "metadata": {
    "collapsed": false
   },
   "outputs": [],
   "source": [
    "source = source.tolist()\n",
    "source\n"
   ]
  },
  {
   "cell_type": "code",
   "execution_count": null,
   "metadata": {
    "collapsed": false
   },
   "outputs": [],
   "source": [
    "\n",
    "\n",
    "plt.axis(\"equal\")\n",
    "plt.pie(\n",
    "        source,\n",
    "        labels=label_list,\n",
    "        autopct=\"%1.1f%%\"\n",
    "        )\n",
    "plt.title(\"Graffiti Reports Submitted in 2016\")\n",
    "plt.show()"
   ]
  },
  {
   "cell_type": "code",
   "execution_count": null,
   "metadata": {
    "collapsed": true
   },
   "outputs": [],
   "source": []
  },
  {
   "cell_type": "code",
   "execution_count": null,
   "metadata": {
    "collapsed": false
   },
   "outputs": [],
   "source": [
    "sups = df['Supervisor District'].value_counts().head(11)"
   ]
  },
  {
   "cell_type": "code",
   "execution_count": null,
   "metadata": {
    "collapsed": false
   },
   "outputs": [],
   "source": [
    "top = "
   ]
  },
  {
   "cell_type": "markdown",
   "metadata": {},
   "source": [
    "# Get list of Supervisor's'"
   ]
  },
  {
   "cell_type": "code",
   "execution_count": null,
   "metadata": {
    "collapsed": true
   },
   "outputs": [],
   "source": []
  },
  {
   "cell_type": "code",
   "execution_count": null,
   "metadata": {
    "collapsed": true
   },
   "outputs": [],
   "source": []
  },
  {
   "cell_type": "code",
   "execution_count": null,
   "metadata": {
    "collapsed": true
   },
   "outputs": [],
   "source": []
  },
  {
   "cell_type": "code",
   "execution_count": null,
   "metadata": {
    "collapsed": false
   },
   "outputs": [],
   "source": [
    "df['Status Notes'].value_counts().head(10)"
   ]
  },
  {
   "cell_type": "code",
   "execution_count": null,
   "metadata": {
    "collapsed": false
   },
   "outputs": [],
   "source": [
    "df['Status'].value_counts().head()"
   ]
  },
  {
   "cell_type": "code",
   "execution_count": null,
   "metadata": {
    "collapsed": false
   },
   "outputs": [],
   "source": [
    "df['Responsible Agency'].value_counts().head(8)"
   ]
  },
  {
   "cell_type": "code",
   "execution_count": null,
   "metadata": {
    "collapsed": false
   },
   "outputs": [],
   "source": [
    "df.Category.value_counts().head()"
   ]
  },
  {
   "cell_type": "code",
   "execution_count": null,
   "metadata": {
    "collapsed": false
   },
   "outputs": [],
   "source": [
    "df['Request Type'].value_counts().head(10)"
   ]
  },
  {
   "cell_type": "code",
   "execution_count": null,
   "metadata": {
    "collapsed": false
   },
   "outputs": [],
   "source": [
    "df['Request Details'].value_counts().head(20)"
   ]
  },
  {
   "cell_type": "code",
   "execution_count": null,
   "metadata": {
    "collapsed": false
   },
   "outputs": [],
   "source": [
    "df['Address'].value_counts().head(20)"
   ]
  },
  {
   "cell_type": "code",
   "execution_count": null,
   "metadata": {
    "collapsed": false
   },
   "outputs": [],
   "source": [
    "df['Source'].value_counts().head(6)"
   ]
  },
  {
   "cell_type": "code",
   "execution_count": null,
   "metadata": {
    "collapsed": false
   },
   "outputs": [],
   "source": [
    "df['Media URL'].describe()"
   ]
  },
  {
   "cell_type": "code",
   "execution_count": null,
   "metadata": {
    "collapsed": false
   },
   "outputs": [],
   "source": [
    "df['Point'].describe()"
   ]
  },
  {
   "cell_type": "code",
   "execution_count": null,
   "metadata": {
    "collapsed": true
   },
   "outputs": [],
   "source": [
    "\n",
    "\n",
    "\n"
   ]
  },
  {
   "cell_type": "markdown",
   "metadata": {
    "collapsed": true
   },
   "source": [
    "# Plot this.    Simple First\n"
   ]
  },
  {
   "cell_type": "code",
   "execution_count": null,
   "metadata": {
    "collapsed": true
   },
   "outputs": [],
   "source": [
    "#Plot by top responsible agency that is not DPW"
   ]
  },
  {
   "cell_type": "code",
   "execution_count": null,
   "metadata": {
    "collapsed": true
   },
   "outputs": [],
   "source": []
  },
  {
   "cell_type": "code",
   "execution_count": null,
   "metadata": {
    "collapsed": true
   },
   "outputs": [],
   "source": []
  },
  {
   "cell_type": "code",
   "execution_count": null,
   "metadata": {
    "collapsed": true
   },
   "outputs": [],
   "source": []
  },
  {
   "cell_type": "code",
   "execution_count": null,
   "metadata": {
    "collapsed": true
   },
   "outputs": [],
   "source": []
  },
  {
   "cell_type": "code",
   "execution_count": null,
   "metadata": {
    "collapsed": true
   },
   "outputs": [],
   "source": []
  },
  {
   "cell_type": "code",
   "execution_count": null,
   "metadata": {
    "collapsed": true
   },
   "outputs": [],
   "source": []
  },
  {
   "cell_type": "code",
   "execution_count": null,
   "metadata": {
    "collapsed": true
   },
   "outputs": [],
   "source": []
  },
  {
   "cell_type": "code",
   "execution_count": null,
   "metadata": {
    "collapsed": true
   },
   "outputs": [],
   "source": []
  },
  {
   "cell_type": "markdown",
   "metadata": {},
   "source": [
    "# Start Plotting the simple items"
   ]
  },
  {
   "cell_type": "markdown",
   "metadata": {},
   "source": [
    "# Plot Responsible Agency non DPW"
   ]
  },
  {
   "cell_type": "markdown",
   "metadata": {},
   "source": [
    "## minimally acceptable is to do pie / dpw vs all other\n",
    "### DPW share compared to prior years\n",
    "### Conclude, DPW doing a good job, how about the other departments\n",
    "### Bar Chart the top 5-6\n",
    "### Which of the top 5-6 are doing better.\n",
    "### can't give the most natural statistic, because "
   ]
  },
  {
   "cell_type": "code",
   "execution_count": null,
   "metadata": {
    "collapsed": true
   },
   "outputs": [],
   "source": []
  }
 ],
 "metadata": {
  "kernelspec": {
   "display_name": "Python 3",
   "language": "python",
   "name": "python3"
  },
  "language_info": {
   "codemirror_mode": {
    "name": "ipython",
    "version": 3
   },
   "file_extension": ".py",
   "mimetype": "text/x-python",
   "name": "python",
   "nbconvert_exporter": "python",
   "pygments_lexer": "ipython3",
   "version": "3.5.2"
  }
 },
 "nbformat": 4,
 "nbformat_minor": 1
}
