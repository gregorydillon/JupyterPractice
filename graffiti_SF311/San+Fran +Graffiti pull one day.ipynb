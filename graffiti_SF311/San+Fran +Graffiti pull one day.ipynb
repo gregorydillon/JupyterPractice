{
 "cells": [
  {
   "cell_type": "markdown",
   "metadata": {},
   "source": [
    "\n",
    "\n",
    "Question to answer, geographically, how do the locations of encampments compare to the reports for behavior"
   ]
  },
  {
   "cell_type": "markdown",
   "metadata": {
    "collapsed": true
   },
   "source": [
    "The source of the information is from the San Francisco Open Data Portal\n",
    "On that portal, I've created a dataset of Encampments\n",
    "https://data.sfgov.org/profile/Gregory/xm4t-k5h4?q=encampment&sortBy=relevance&utf8=%E2%9C%93\n"
   ]
  },
  {
   "cell_type": "markdown",
   "metadata": {},
   "source": [
    "# San Francisco Graffiti with Video\n",
    "\n",
    "\n"
   ]
  },
  {
   "cell_type": "markdown",
   "metadata": {},
   "source": [
    "\n",
    "Import Libraries & get url\n"
   ]
  },
  {
   "cell_type": "markdown",
   "metadata": {},
   "source": [
    "### get url"
   ]
  },
  {
   "cell_type": "code",
   "execution_count": 61,
   "metadata": {
    "collapsed": false
   },
   "outputs": [
    {
     "name": "stdout",
     "output_type": "stream",
     "text": [
      "https://data.sfgov.org/resource/rme2-xgvs.csv?$where=opened>='2016-12-08'\n"
     ]
    }
   ],
   "source": [
    "#url = 'https://data.sfgov.org/resource/gbya-e2d3.csv' // homeless\n",
    "url = 'https://data.sfgov.org/resource/rme2-xgvs.csv'\n",
    "modify= \"?$where=opened\"\n",
    "operator = '>='\n",
    "#date format 'year-mm-dd'\n",
    "startdate = \"'2016-12-08'\"\n",
    "url = url + modify + operator + str(startdate)\n",
    "print(url)\n"
   ]
  },
  {
   "cell_type": "code",
   "execution_count": 62,
   "metadata": {
    "collapsed": false
   },
   "outputs": [],
   "source": [
    "#df1 = pd.read_csv(url)\n",
    "#df2 = pd.read_csv(url2)\n",
    "#df =  pd.concat([df1,df2])"
   ]
  },
  {
   "cell_type": "code",
   "execution_count": 63,
   "metadata": {
    "collapsed": false
   },
   "outputs": [],
   "source": [
    "import numpy as np\n",
    "import pandas as pd\n",
    "import matplotlib.pyplot as plt\n",
    "\n",
    "%matplotlib inline\n",
    "\n",
    "\n"
   ]
  },
  {
   "cell_type": "markdown",
   "metadata": {},
   "source": [
    "## Set Display Column with wider so no problem with Media URL series"
   ]
  },
  {
   "cell_type": "code",
   "execution_count": 64,
   "metadata": {
    "collapsed": false
   },
   "outputs": [],
   "source": [
    "pd.options.display.max_colwidth=115"
   ]
  },
  {
   "cell_type": "markdown",
   "metadata": {},
   "source": [
    "## Setup to display images - working, work to do"
   ]
  },
  {
   "cell_type": "code",
   "execution_count": 65,
   "metadata": {
    "collapsed": false
   },
   "outputs": [],
   "source": [
    "from IPython.display import Image\n",
    "from IPython.core.display import HTML \n",
    "from IPython.core.display import Image, display\n",
    "\n"
   ]
  },
  {
   "cell_type": "markdown",
   "metadata": {},
   "source": [
    "## create data frame"
   ]
  },
  {
   "cell_type": "code",
   "execution_count": 66,
   "metadata": {
    "collapsed": true
   },
   "outputs": [],
   "source": [
    "df = pd.read_csv(url)"
   ]
  },
  {
   "cell_type": "code",
   "execution_count": 67,
   "metadata": {
    "collapsed": false
   },
   "outputs": [
    {
     "data": {
      "text/plain": [
       "(91, 16)"
      ]
     },
     "execution_count": 67,
     "metadata": {},
     "output_type": "execute_result"
    }
   ],
   "source": [
    "df.shape"
   ]
  },
  {
   "cell_type": "markdown",
   "metadata": {},
   "source": [
    "#### wow, 5 days > 1000 reports"
   ]
  },
  {
   "cell_type": "code",
   "execution_count": 68,
   "metadata": {
    "collapsed": false
   },
   "outputs": [
    {
     "data": {
      "text/html": [
       "<div>\n",
       "<table border=\"1\" class=\"dataframe\">\n",
       "  <thead>\n",
       "    <tr style=\"text-align: right;\">\n",
       "      <th></th>\n",
       "      <th>CaseID</th>\n",
       "      <th>Opened</th>\n",
       "      <th>Closed</th>\n",
       "      <th>Updated</th>\n",
       "      <th>Status</th>\n",
       "      <th>Status Notes</th>\n",
       "      <th>Responsible Agency</th>\n",
       "      <th>Category</th>\n",
       "      <th>Request Type</th>\n",
       "      <th>Request Details</th>\n",
       "      <th>Address</th>\n",
       "      <th>Supervisor District</th>\n",
       "      <th>Neighborhood</th>\n",
       "      <th>Point</th>\n",
       "      <th>Source</th>\n",
       "      <th>Media URL</th>\n",
       "    </tr>\n",
       "  </thead>\n",
       "  <tbody>\n",
       "    <tr>\n",
       "      <th>0</th>\n",
       "      <td>6610037</td>\n",
       "      <td>12/09/2016 12:06:31 AM</td>\n",
       "      <td>NaN</td>\n",
       "      <td>12/09/2016 12:06:31 AM</td>\n",
       "      <td>Open</td>\n",
       "      <td>accepted</td>\n",
       "      <td>DPT Meter_Bike Queue</td>\n",
       "      <td>Graffiti Public Property</td>\n",
       "      <td>Not_Offensive Graffiti on Public Property</td>\n",
       "      <td>Parking_meter - Not_Offensive</td>\n",
       "      <td>289 FELL ST, SAN FRANCISCO, CA, 94102</td>\n",
       "      <td>5</td>\n",
       "      <td>Civic Center</td>\n",
       "      <td>(37.775745700859, -122.422340168166)</td>\n",
       "      <td>Open311</td>\n",
       "      <td>http://mobile311.sfgov.org/media/san_francisco/report/photos/584a65fd3da19793c74c55aa/report.jpg</td>\n",
       "    </tr>\n",
       "    <tr>\n",
       "      <th>1</th>\n",
       "      <td>6610036</td>\n",
       "      <td>12/09/2016 12:05:27 AM</td>\n",
       "      <td>NaN</td>\n",
       "      <td>12/09/2016 12:05:27 AM</td>\n",
       "      <td>Open</td>\n",
       "      <td>accepted</td>\n",
       "      <td>DPT Meter_Bike Queue</td>\n",
       "      <td>Graffiti Public Property</td>\n",
       "      <td>Not_Offensive Graffiti on Public Property</td>\n",
       "      <td>Parking_meter - Not_Offensive</td>\n",
       "      <td>280 FELL ST, SAN FRANCISCO, CA, 94102</td>\n",
       "      <td>5</td>\n",
       "      <td>Civic Center</td>\n",
       "      <td>(37.776102204386, -122.422451594666)</td>\n",
       "      <td>Open311</td>\n",
       "      <td>http://mobile311.sfgov.org/media/san_francisco/report/photos/584a65b83da19793c74c55a0/report.jpg</td>\n",
       "    </tr>\n",
       "    <tr>\n",
       "      <th>2</th>\n",
       "      <td>6610018</td>\n",
       "      <td>12/08/2016 11:09:29 PM</td>\n",
       "      <td>NaN</td>\n",
       "      <td>12/09/2016 12:41:03 AM</td>\n",
       "      <td>Open</td>\n",
       "      <td>Open</td>\n",
       "      <td>PUC - Water - Graffiti Queue</td>\n",
       "      <td>Graffiti Public Property</td>\n",
       "      <td>Not_Offensive Graffiti on Public Property</td>\n",
       "      <td>Fire_hydrant - Not_Offensive</td>\n",
       "      <td>Intersection of GEARY ST and JONES ST</td>\n",
       "      <td>6</td>\n",
       "      <td>Lower Nob Hill</td>\n",
       "      <td>(37.7867296545835, -122.413161270099)</td>\n",
       "      <td>Open311</td>\n",
       "      <td>http://mobile311.sfgov.org/media/san_francisco/report/photos/584a589b3da19793c74c5557/report.jpg</td>\n",
       "    </tr>\n",
       "  </tbody>\n",
       "</table>\n",
       "</div>"
      ],
      "text/plain": [
       "    CaseID                  Opened Closed                 Updated Status  \\\n",
       "0  6610037  12/09/2016 12:06:31 AM    NaN  12/09/2016 12:06:31 AM   Open   \n",
       "1  6610036  12/09/2016 12:05:27 AM    NaN  12/09/2016 12:05:27 AM   Open   \n",
       "2  6610018  12/08/2016 11:09:29 PM    NaN  12/09/2016 12:41:03 AM   Open   \n",
       "\n",
       "  Status Notes            Responsible Agency                  Category  \\\n",
       "0     accepted          DPT Meter_Bike Queue  Graffiti Public Property   \n",
       "1     accepted          DPT Meter_Bike Queue  Graffiti Public Property   \n",
       "2         Open  PUC - Water - Graffiti Queue  Graffiti Public Property   \n",
       "\n",
       "                                Request Type                Request Details  \\\n",
       "0  Not_Offensive Graffiti on Public Property  Parking_meter - Not_Offensive   \n",
       "1  Not_Offensive Graffiti on Public Property  Parking_meter - Not_Offensive   \n",
       "2  Not_Offensive Graffiti on Public Property   Fire_hydrant - Not_Offensive   \n",
       "\n",
       "                                 Address  Supervisor District    Neighborhood  \\\n",
       "0  289 FELL ST, SAN FRANCISCO, CA, 94102                    5    Civic Center   \n",
       "1  280 FELL ST, SAN FRANCISCO, CA, 94102                    5    Civic Center   \n",
       "2  Intersection of GEARY ST and JONES ST                    6  Lower Nob Hill   \n",
       "\n",
       "                                   Point   Source  \\\n",
       "0   (37.775745700859, -122.422340168166)  Open311   \n",
       "1   (37.776102204386, -122.422451594666)  Open311   \n",
       "2  (37.7867296545835, -122.413161270099)  Open311   \n",
       "\n",
       "                                                                                          Media URL  \n",
       "0  http://mobile311.sfgov.org/media/san_francisco/report/photos/584a65fd3da19793c74c55aa/report.jpg  \n",
       "1  http://mobile311.sfgov.org/media/san_francisco/report/photos/584a65b83da19793c74c55a0/report.jpg  \n",
       "2  http://mobile311.sfgov.org/media/san_francisco/report/photos/584a589b3da19793c74c5557/report.jpg  "
      ]
     },
     "execution_count": 68,
     "metadata": {},
     "output_type": "execute_result"
    }
   ],
   "source": [
    "df.head(3)"
   ]
  },
  {
   "cell_type": "code",
   "execution_count": 69,
   "metadata": {
    "collapsed": false
   },
   "outputs": [],
   "source": [
    "df['Opened'] = pd.to_datetime(df['Opened'])\n",
    "df['Closed'] = pd.to_datetime(df['Closed'])\n",
    "df['Updated'] = pd.to_datetime(df['Updated'])"
   ]
  },
  {
   "cell_type": "code",
   "execution_count": 70,
   "metadata": {
    "collapsed": false
   },
   "outputs": [
    {
     "data": {
      "text/html": [
       "<div>\n",
       "<table border=\"1\" class=\"dataframe\">\n",
       "  <thead>\n",
       "    <tr style=\"text-align: right;\">\n",
       "      <th></th>\n",
       "      <th>CaseID</th>\n",
       "      <th>Opened</th>\n",
       "      <th>Closed</th>\n",
       "      <th>Updated</th>\n",
       "      <th>Status</th>\n",
       "      <th>Status Notes</th>\n",
       "      <th>Responsible Agency</th>\n",
       "      <th>Category</th>\n",
       "      <th>Request Type</th>\n",
       "      <th>Request Details</th>\n",
       "      <th>Address</th>\n",
       "      <th>Supervisor District</th>\n",
       "      <th>Neighborhood</th>\n",
       "      <th>Point</th>\n",
       "      <th>Source</th>\n",
       "      <th>Media URL</th>\n",
       "    </tr>\n",
       "  </thead>\n",
       "  <tbody>\n",
       "    <tr>\n",
       "      <th>0</th>\n",
       "      <td>6610037</td>\n",
       "      <td>2016-12-09 00:06:31</td>\n",
       "      <td>NaT</td>\n",
       "      <td>2016-12-09 00:06:31</td>\n",
       "      <td>Open</td>\n",
       "      <td>accepted</td>\n",
       "      <td>DPT Meter_Bike Queue</td>\n",
       "      <td>Graffiti Public Property</td>\n",
       "      <td>Not_Offensive Graffiti on Public Property</td>\n",
       "      <td>Parking_meter - Not_Offensive</td>\n",
       "      <td>289 FELL ST, SAN FRANCISCO, CA, 94102</td>\n",
       "      <td>5</td>\n",
       "      <td>Civic Center</td>\n",
       "      <td>(37.775745700859, -122.422340168166)</td>\n",
       "      <td>Open311</td>\n",
       "      <td>http://mobile311.sfgov.org/media/san_francisco/report/photos/584a65fd3da19793c74c55aa/report.jpg</td>\n",
       "    </tr>\n",
       "    <tr>\n",
       "      <th>1</th>\n",
       "      <td>6610036</td>\n",
       "      <td>2016-12-09 00:05:27</td>\n",
       "      <td>NaT</td>\n",
       "      <td>2016-12-09 00:05:27</td>\n",
       "      <td>Open</td>\n",
       "      <td>accepted</td>\n",
       "      <td>DPT Meter_Bike Queue</td>\n",
       "      <td>Graffiti Public Property</td>\n",
       "      <td>Not_Offensive Graffiti on Public Property</td>\n",
       "      <td>Parking_meter - Not_Offensive</td>\n",
       "      <td>280 FELL ST, SAN FRANCISCO, CA, 94102</td>\n",
       "      <td>5</td>\n",
       "      <td>Civic Center</td>\n",
       "      <td>(37.776102204386, -122.422451594666)</td>\n",
       "      <td>Open311</td>\n",
       "      <td>http://mobile311.sfgov.org/media/san_francisco/report/photos/584a65b83da19793c74c55a0/report.jpg</td>\n",
       "    </tr>\n",
       "    <tr>\n",
       "      <th>2</th>\n",
       "      <td>6610018</td>\n",
       "      <td>2016-12-08 23:09:29</td>\n",
       "      <td>NaT</td>\n",
       "      <td>2016-12-09 00:41:03</td>\n",
       "      <td>Open</td>\n",
       "      <td>Open</td>\n",
       "      <td>PUC - Water - Graffiti Queue</td>\n",
       "      <td>Graffiti Public Property</td>\n",
       "      <td>Not_Offensive Graffiti on Public Property</td>\n",
       "      <td>Fire_hydrant - Not_Offensive</td>\n",
       "      <td>Intersection of GEARY ST and JONES ST</td>\n",
       "      <td>6</td>\n",
       "      <td>Lower Nob Hill</td>\n",
       "      <td>(37.7867296545835, -122.413161270099)</td>\n",
       "      <td>Open311</td>\n",
       "      <td>http://mobile311.sfgov.org/media/san_francisco/report/photos/584a589b3da19793c74c5557/report.jpg</td>\n",
       "    </tr>\n",
       "  </tbody>\n",
       "</table>\n",
       "</div>"
      ],
      "text/plain": [
       "    CaseID              Opened Closed             Updated Status Status Notes  \\\n",
       "0  6610037 2016-12-09 00:06:31    NaT 2016-12-09 00:06:31   Open     accepted   \n",
       "1  6610036 2016-12-09 00:05:27    NaT 2016-12-09 00:05:27   Open     accepted   \n",
       "2  6610018 2016-12-08 23:09:29    NaT 2016-12-09 00:41:03   Open         Open   \n",
       "\n",
       "             Responsible Agency                  Category  \\\n",
       "0          DPT Meter_Bike Queue  Graffiti Public Property   \n",
       "1          DPT Meter_Bike Queue  Graffiti Public Property   \n",
       "2  PUC - Water - Graffiti Queue  Graffiti Public Property   \n",
       "\n",
       "                                Request Type                Request Details  \\\n",
       "0  Not_Offensive Graffiti on Public Property  Parking_meter - Not_Offensive   \n",
       "1  Not_Offensive Graffiti on Public Property  Parking_meter - Not_Offensive   \n",
       "2  Not_Offensive Graffiti on Public Property   Fire_hydrant - Not_Offensive   \n",
       "\n",
       "                                 Address  Supervisor District    Neighborhood  \\\n",
       "0  289 FELL ST, SAN FRANCISCO, CA, 94102                    5    Civic Center   \n",
       "1  280 FELL ST, SAN FRANCISCO, CA, 94102                    5    Civic Center   \n",
       "2  Intersection of GEARY ST and JONES ST                    6  Lower Nob Hill   \n",
       "\n",
       "                                   Point   Source  \\\n",
       "0   (37.775745700859, -122.422340168166)  Open311   \n",
       "1   (37.776102204386, -122.422451594666)  Open311   \n",
       "2  (37.7867296545835, -122.413161270099)  Open311   \n",
       "\n",
       "                                                                                          Media URL  \n",
       "0  http://mobile311.sfgov.org/media/san_francisco/report/photos/584a65fd3da19793c74c55aa/report.jpg  \n",
       "1  http://mobile311.sfgov.org/media/san_francisco/report/photos/584a65b83da19793c74c55a0/report.jpg  \n",
       "2  http://mobile311.sfgov.org/media/san_francisco/report/photos/584a589b3da19793c74c5557/report.jpg  "
      ]
     },
     "execution_count": 70,
     "metadata": {},
     "output_type": "execute_result"
    }
   ],
   "source": [
    "df.head(3)"
   ]
  },
  {
   "cell_type": "code",
   "execution_count": 71,
   "metadata": {
    "collapsed": false
   },
   "outputs": [
    {
     "name": "stderr",
     "output_type": "stream",
     "text": [
      "/home/gdillon/.local/lib/python3.5/site-packages/matplotlib/axes/_base.py:2782: UserWarning: Attempting to set identical left==right results\n",
      "in singular transformations; automatically expanding.\n",
      "left=8.0, right=8.0\n",
      "  'left=%s, right=%s') % (left, right))\n"
     ]
    },
    {
     "data": {
      "text/plain": [
       "<matplotlib.axes._subplots.AxesSubplot at 0x7f6cfba11f98>"
      ]
     },
     "execution_count": 71,
     "metadata": {},
     "output_type": "execute_result"
    },
    {
     "data": {
      "image/png": "[encoded data removed]",
      "text/plain": [
       "<matplotlib.figure.Figure at 0x7f6cf8657518>"
      ]
     },
     "metadata": {},
     "output_type": "display_data"
    }
   ],
   "source": [
    "df.Closed.dt.day.value_counts().sort_index().plot()"
   ]
  },
  {
   "cell_type": "code",
   "execution_count": 72,
   "metadata": {
    "collapsed": false,
    "scrolled": true
   },
   "outputs": [
    {
     "data": {
      "text/plain": [
       "<matplotlib.axes._subplots.AxesSubplot at 0x7f6cf867fb00>"
      ]
     },
     "execution_count": 72,
     "metadata": {},
     "output_type": "execute_result"
    },
    {
     "data": {
      "image/png": "[encoded data removed]",
      "text/plain": [
       "<matplotlib.figure.Figure at 0x7f6cf85fddd8>"
      ]
     },
     "metadata": {},
     "output_type": "display_data"
    }
   ],
   "source": [
    "df.Opened.dt.day.value_counts().sort_index().plot()"
   ]
  },
  {
   "cell_type": "code",
   "execution_count": 73,
   "metadata": {
    "collapsed": false
   },
   "outputs": [
    {
     "name": "stderr",
     "output_type": "stream",
     "text": [
      "/home/gdillon/.local/lib/python3.5/site-packages/matplotlib/axes/_base.py:2782: UserWarning: Attempting to set identical left==right results\n",
      "in singular transformations; automatically expanding.\n",
      "left=3.0, right=3.0\n",
      "  'left=%s, right=%s') % (left, right))\n"
     ]
    },
    {
     "data": {
      "text/plain": [
       "<matplotlib.axes._subplots.AxesSubplot at 0x7f6cf85a62e8>"
      ]
     },
     "execution_count": 73,
     "metadata": {},
     "output_type": "execute_result"
    },
    {
     "data": {
      "image/png": "[encoded data removed]",
      "text/plain": [
       "<matplotlib.figure.Figure at 0x7f6cf85ab3c8>"
      ]
     },
     "metadata": {},
     "output_type": "display_data"
    }
   ],
   "source": [
    "df.Closed.dt.weekday.value_counts().sort_index().plot()"
   ]
  },
  {
   "cell_type": "code",
   "execution_count": 74,
   "metadata": {
    "collapsed": false
   },
   "outputs": [
    {
     "data": {
      "text/plain": [
       "Index(['CaseID', 'Opened', 'Closed', 'Updated', 'Status', 'Status Notes',\n",
       "       'Responsible Agency', 'Category', 'Request Type', 'Request Details',\n",
       "       'Address', 'Supervisor District', 'Neighborhood', 'Point', 'Source',\n",
       "       'Media URL'],\n",
       "      dtype='object')"
      ]
     },
     "execution_count": 74,
     "metadata": {},
     "output_type": "execute_result"
    }
   ],
   "source": [
    "df.columns"
   ]
  },
  {
   "cell_type": "code",
   "execution_count": 75,
   "metadata": {
    "collapsed": false
   },
   "outputs": [
    {
     "data": {
      "text/plain": [
       "Building_commercial - Not_Offensive                 11\n",
       "Mail_box - Not_Offensive                             9\n",
       "Pole - Not_Offensive                                 8\n",
       "Parking_meter - Not_Offensive                        7\n",
       "Other_enter_additional_details_below - Offensive     7\n",
       "Signal_box - Not_Offensive                           6\n",
       "Transit_Shelter_Platform - Not_Offensive             6\n",
       "Sidewalk_structure - Not_Offensive                   5\n",
       "Building_residential - Not_Offensive                 4\n",
       "Sidewalk_in_front_of_property - Not_Offensive        4\n",
       "Building_residential - Offensive                     3\n",
       "Sidewalk_in_front_of_property - Offensive            3\n",
       "Mail_box - Offensive                                 3\n",
       "Building_other - Not_Offensive                       3\n",
       "Fire_hydrant - Not_Offensive                         3\n",
       "Signal_box - Offensive                               2\n",
       "Sign - Not_Offensive                                 2\n",
       "Fire_hydrant - Offensive                             1\n",
       "Transit_Shelter_Platform - Offensive                 1\n",
       "Fire_Police_Callbox - Offensive                      1\n",
       "Street - Not_Offensive                               1\n",
       "Building_commercial - Offensive                      1\n",
       "Name: Request Details, dtype: int64"
      ]
     },
     "execution_count": 75,
     "metadata": {},
     "output_type": "execute_result"
    }
   ],
   "source": [
    "\n",
    "df['Request Details'].value_counts()\n"
   ]
  },
  {
   "cell_type": "code",
   "execution_count": 76,
   "metadata": {
    "collapsed": false
   },
   "outputs": [
    {
     "data": {
      "text/plain": [
       "1      2\n",
       "3     13\n",
       "4      1\n",
       "5      6\n",
       "6     21\n",
       "8     16\n",
       "9     25\n",
       "10     7\n",
       "Name: Supervisor District, dtype: int64"
      ]
     },
     "execution_count": 76,
     "metadata": {},
     "output_type": "execute_result"
    }
   ],
   "source": [
    "df['Supervisor District'].value_counts().sort_index()\n",
    "\n"
   ]
  },
  {
   "cell_type": "code",
   "execution_count": 77,
   "metadata": {
    "collapsed": false
   },
   "outputs": [
    {
     "data": {
      "text/plain": [
       "Mission                    21\n",
       "Mission Dolores            11\n",
       "South of Market            10\n",
       "Chinatown                   7\n",
       "Civic Center                5\n",
       "Nob Hill                    4\n",
       "Tenderloin                  3\n",
       "Potrero Hill                3\n",
       "Mission Bay                 3\n",
       "Bernal Heights              2\n",
       "Lower Nob Hill              2\n",
       "Japantown                   2\n",
       "Castro                      2\n",
       "Bret Harte                  1\n",
       "Central Waterfront          1\n",
       "Inner Richmond              1\n",
       "Downtown / Union Square     1\n",
       "Dolores Heights             1\n",
       "Golden Gate Park            1\n",
       "North Beach                 1\n",
       "Lower Pacific Heights       1\n",
       "Parkside                    1\n",
       "Portola                     1\n",
       "Buena Vista                 1\n",
       "Name: Neighborhood, dtype: int64"
      ]
     },
     "execution_count": 77,
     "metadata": {},
     "output_type": "execute_result"
    }
   ],
   "source": [
    "df.Neighborhood.value_counts()"
   ]
  },
  {
   "cell_type": "code",
   "execution_count": 78,
   "metadata": {
    "collapsed": false
   },
   "outputs": [
    {
     "data": {
      "text/html": [
       "<div>\n",
       "<table border=\"1\" class=\"dataframe\">\n",
       "  <thead>\n",
       "    <tr style=\"text-align: right;\">\n",
       "      <th></th>\n",
       "      <th>CaseID</th>\n",
       "      <th>Opened</th>\n",
       "      <th>Closed</th>\n",
       "      <th>Updated</th>\n",
       "      <th>Status</th>\n",
       "      <th>Status Notes</th>\n",
       "      <th>Responsible Agency</th>\n",
       "      <th>Category</th>\n",
       "      <th>Request Type</th>\n",
       "      <th>Request Details</th>\n",
       "      <th>Address</th>\n",
       "      <th>Supervisor District</th>\n",
       "      <th>Neighborhood</th>\n",
       "      <th>Point</th>\n",
       "      <th>Source</th>\n",
       "      <th>Media URL</th>\n",
       "    </tr>\n",
       "  </thead>\n",
       "  <tbody>\n",
       "    <tr>\n",
       "      <th>8</th>\n",
       "      <td>6609677</td>\n",
       "      <td>2016-12-08 18:11:16</td>\n",
       "      <td>NaT</td>\n",
       "      <td>2016-12-08 18:38:52</td>\n",
       "      <td>Open</td>\n",
       "      <td>accepted</td>\n",
       "      <td>DPW Ops Queue</td>\n",
       "      <td>Graffiti Public Property</td>\n",
       "      <td>Not_Offensive Graffiti on Public Property</td>\n",
       "      <td>Pole - Not_Offensive</td>\n",
       "      <td>3201 24TH ST, SAN FRANCISCO, CA, 94110</td>\n",
       "      <td>9</td>\n",
       "      <td>Mission</td>\n",
       "      <td>(37.752227503636, -122.416538722883)</td>\n",
       "      <td>Web Self Service</td>\n",
       "      <td>NaN</td>\n",
       "    </tr>\n",
       "    <tr>\n",
       "      <th>9</th>\n",
       "      <td>6609675</td>\n",
       "      <td>2016-12-08 18:10:40</td>\n",
       "      <td>NaT</td>\n",
       "      <td>2016-12-08 18:10:40</td>\n",
       "      <td>Open</td>\n",
       "      <td>Open</td>\n",
       "      <td>US Postal Service Maintenance Queue</td>\n",
       "      <td>Graffiti Public Property</td>\n",
       "      <td>Not_Offensive Graffiti on Public Property</td>\n",
       "      <td>Mail_box - Not_Offensive</td>\n",
       "      <td>3201 24TH ST, SAN FRANCISCO, CA, 94110</td>\n",
       "      <td>9</td>\n",
       "      <td>Mission</td>\n",
       "      <td>(37.752227503636, -122.416538722883)</td>\n",
       "      <td>Web Self Service</td>\n",
       "      <td>NaN</td>\n",
       "    </tr>\n",
       "    <tr>\n",
       "      <th>26</th>\n",
       "      <td>6609389</td>\n",
       "      <td>2016-12-08 16:22:14</td>\n",
       "      <td>NaT</td>\n",
       "      <td>2016-12-08 17:55:19</td>\n",
       "      <td>Open</td>\n",
       "      <td>accepted</td>\n",
       "      <td>DPW Ops Queue</td>\n",
       "      <td>Graffiti Public Property</td>\n",
       "      <td>Not_Offensive Graffiti on Public Property</td>\n",
       "      <td>Signal_box - Not_Offensive</td>\n",
       "      <td>Intersection of CAPP ST and 20TH ST</td>\n",
       "      <td>9</td>\n",
       "      <td>Mission</td>\n",
       "      <td>(37.7586981701086, -122.417964865069)</td>\n",
       "      <td>Open311</td>\n",
       "      <td>http://mobile311.sfgov.org/media/san_francisco/report/photos/5849f92aa19793c74c4ff7/photo_20161208_162157.jpg</td>\n",
       "    </tr>\n",
       "    <tr>\n",
       "      <th>31</th>\n",
       "      <td>6609379</td>\n",
       "      <td>2016-12-08 16:20:05</td>\n",
       "      <td>NaT</td>\n",
       "      <td>2016-12-08 17:43:07</td>\n",
       "      <td>Open</td>\n",
       "      <td>open</td>\n",
       "      <td>DPW Ops Queue</td>\n",
       "      <td>Graffiti Public Property</td>\n",
       "      <td>Not_Offensive Graffiti on Public Property</td>\n",
       "      <td>Pole - Not_Offensive</td>\n",
       "      <td>Intersection of 14TH ST and JULIAN AVE</td>\n",
       "      <td>9</td>\n",
       "      <td>Mission</td>\n",
       "      <td>(37.7681993877703, -122.421209982613)</td>\n",
       "      <td>Open311</td>\n",
       "      <td>http://mobile311.sfgov.org/media/san_francisco/report/photos/5849f8a619793c74c4fab/report.jpg</td>\n",
       "    </tr>\n",
       "    <tr>\n",
       "      <th>32</th>\n",
       "      <td>6609376</td>\n",
       "      <td>2016-12-08 16:19:20</td>\n",
       "      <td>NaT</td>\n",
       "      <td>2016-12-08 16:19:20</td>\n",
       "      <td>Open</td>\n",
       "      <td>accepted</td>\n",
       "      <td>DPW Ops Queue</td>\n",
       "      <td>Graffiti Public Property</td>\n",
       "      <td>Offensive Graffiti on Public Property</td>\n",
       "      <td>Signal_box - Offensive</td>\n",
       "      <td>Intersection of 14TH ST and MISSION ST</td>\n",
       "      <td>9</td>\n",
       "      <td>Mission</td>\n",
       "      <td>(37.7682735201071, -122.419981393661)</td>\n",
       "      <td>Open311</td>\n",
       "      <td>http://mobile311.sfgov.org/media/san_francisco/report/photos/5849f87a3da19793c74c4f8a/report.jpg</td>\n",
       "    </tr>\n",
       "    <tr>\n",
       "      <th>34</th>\n",
       "      <td>6609365</td>\n",
       "      <td>2016-12-08 16:17:32</td>\n",
       "      <td>NaT</td>\n",
       "      <td>2016-12-08 18:36:53</td>\n",
       "      <td>Open</td>\n",
       "      <td>Open</td>\n",
       "      <td>311 Service Request Queue - Hold</td>\n",
       "      <td>Graffiti Public Property</td>\n",
       "      <td>Offensive Graffiti on Public Property</td>\n",
       "      <td>Other_enter_additional_details_below - Offensive</td>\n",
       "      <td>138 ERIE ST, SAN FRANCISCO, CA, 94103</td>\n",
       "      <td>9</td>\n",
       "      <td>Mission</td>\n",
       "      <td>(37.769639638601, -122.417985282022)</td>\n",
       "      <td>Open311</td>\n",
       "      <td>http://mobile311.sfgov.org/media/san_francisco/report/photos/5849f8093da19793c74c4f4b/report.jpg</td>\n",
       "    </tr>\n",
       "    <tr>\n",
       "      <th>35</th>\n",
       "      <td>6609358</td>\n",
       "      <td>2016-12-08 16:16:53</td>\n",
       "      <td>NaT</td>\n",
       "      <td>2016-12-08 17:41:55</td>\n",
       "      <td>Open</td>\n",
       "      <td>Open</td>\n",
       "      <td>DPT SignShop 09 Queue</td>\n",
       "      <td>Graffiti Public Property</td>\n",
       "      <td>Not_Offensive Graffiti on Public Property</td>\n",
       "      <td>Sign - Not_Offensive</td>\n",
       "      <td>Intersection of ERIE ST and SOUTH VAN NESS AVE</td>\n",
       "      <td>9</td>\n",
       "      <td>Mission</td>\n",
       "      <td>(37.7691984845021, -122.417783028218)</td>\n",
       "      <td>Open311</td>\n",
       "      <td>http://mobile311.sfgov.org/media/san_francisco/report/photos/5849f7e73da19793c4c4f29/report.jpg</td>\n",
       "    </tr>\n",
       "    <tr>\n",
       "      <th>39</th>\n",
       "      <td>6609181</td>\n",
       "      <td>2016-12-08 15:32:05</td>\n",
       "      <td>NaT</td>\n",
       "      <td>2016-12-08 15:32:05</td>\n",
       "      <td>Open</td>\n",
       "      <td>accepted</td>\n",
       "      <td>DPT Meter_Bike Queue</td>\n",
       "      <td>Graffiti Public Property</td>\n",
       "      <td>Not_Offensive Graffiti on Public Property</td>\n",
       "      <td>Parking_meter - Not_Offensive</td>\n",
       "      <td>Intersection of 24TH ST and SHOTWELL ST</td>\n",
       "      <td>9</td>\n",
       "      <td>Mission</td>\n",
       "      <td>(37.7524396693588, -122.415172254237)</td>\n",
       "      <td>Open311</td>\n",
       "      <td>http://mobile311.sfgov.org/media/san_francisco/report/photos/5849ed633da19793c74c4de4/report.jpg</td>\n",
       "    </tr>\n",
       "  </tbody>\n",
       "</table>\n",
       "</div>"
      ],
      "text/plain": [
       "     CaseID              Opened Closed             Updated Status  \\\n",
       "8   6609677 2016-12-08 18:11:16    NaT 2016-12-08 18:38:52   Open   \n",
       "9   6609675 2016-12-08 18:10:40    NaT 2016-12-08 18:10:40   Open   \n",
       "26  6609389 2016-12-08 16:22:14    NaT 2016-12-08 17:55:19   Open   \n",
       "31  6609379 2016-12-08 16:20:05    NaT 2016-12-08 17:43:07   Open   \n",
       "32  6609376 2016-12-08 16:19:20    NaT 2016-12-08 16:19:20   Open   \n",
       "34  6609365 2016-12-08 16:17:32    NaT 2016-12-08 18:36:53   Open   \n",
       "35  6609358 2016-12-08 16:16:53    NaT 2016-12-08 17:41:55   Open   \n",
       "39  6609181 2016-12-08 15:32:05    NaT 2016-12-08 15:32:05   Open   \n",
       "\n",
       "   Status Notes                   Responsible Agency  \\\n",
       "8      accepted                        DPW Ops Queue   \n",
       "9          Open  US Postal Service Maintenance Queue   \n",
       "26     accepted                        DPW Ops Queue   \n",
       "31         open                        DPW Ops Queue   \n",
       "32     accepted                        DPW Ops Queue   \n",
       "34         Open     311 Service Request Queue - Hold   \n",
       "35         Open                DPT SignShop 09 Queue   \n",
       "39     accepted                 DPT Meter_Bike Queue   \n",
       "\n",
       "                    Category                               Request Type  \\\n",
       "8   Graffiti Public Property  Not_Offensive Graffiti on Public Property   \n",
       "9   Graffiti Public Property  Not_Offensive Graffiti on Public Property   \n",
       "26  Graffiti Public Property  Not_Offensive Graffiti on Public Property   \n",
       "31  Graffiti Public Property  Not_Offensive Graffiti on Public Property   \n",
       "32  Graffiti Public Property      Offensive Graffiti on Public Property   \n",
       "34  Graffiti Public Property      Offensive Graffiti on Public Property   \n",
       "35  Graffiti Public Property  Not_Offensive Graffiti on Public Property   \n",
       "39  Graffiti Public Property  Not_Offensive Graffiti on Public Property   \n",
       "\n",
       "                                     Request Details  \\\n",
       "8                               Pole - Not_Offensive   \n",
       "9                           Mail_box - Not_Offensive   \n",
       "26                        Signal_box - Not_Offensive   \n",
       "31                              Pole - Not_Offensive   \n",
       "32                            Signal_box - Offensive   \n",
       "34  Other_enter_additional_details_below - Offensive   \n",
       "35                              Sign - Not_Offensive   \n",
       "39                     Parking_meter - Not_Offensive   \n",
       "\n",
       "                                           Address  Supervisor District  \\\n",
       "8           3201 24TH ST, SAN FRANCISCO, CA, 94110                    9   \n",
       "9           3201 24TH ST, SAN FRANCISCO, CA, 94110                    9   \n",
       "26             Intersection of CAPP ST and 20TH ST                    9   \n",
       "31          Intersection of 14TH ST and JULIAN AVE                    9   \n",
       "32          Intersection of 14TH ST and MISSION ST                    9   \n",
       "34           138 ERIE ST, SAN FRANCISCO, CA, 94103                    9   \n",
       "35  Intersection of ERIE ST and SOUTH VAN NESS AVE                    9   \n",
       "39         Intersection of 24TH ST and SHOTWELL ST                    9   \n",
       "\n",
       "   Neighborhood                                  Point            Source  \\\n",
       "8       Mission   (37.752227503636, -122.416538722883)  Web Self Service   \n",
       "9       Mission   (37.752227503636, -122.416538722883)  Web Self Service   \n",
       "26      Mission  (37.7586981701086, -122.417964865069)           Open311   \n",
       "31      Mission  (37.7681993877703, -122.421209982613)           Open311   \n",
       "32      Mission  (37.7682735201071, -122.419981393661)           Open311   \n",
       "34      Mission   (37.769639638601, -122.417985282022)           Open311   \n",
       "35      Mission  (37.7691984845021, -122.417783028218)           Open311   \n",
       "39      Mission  (37.7524396693588, -122.415172254237)           Open311   \n",
       "\n",
       "                                                                                                        Media URL  \n",
       "8                                                                                                             NaN  \n",
       "9                                                                                                             NaN  \n",
       "26  http://mobile311.sfgov.org/media/san_francisco/report/photos/5849f92aa19793c74c4ff7/photo_20161208_162157.jpg  \n",
       "31                  http://mobile311.sfgov.org/media/san_francisco/report/photos/5849f8a619793c74c4fab/report.jpg  \n",
       "32               http://mobile311.sfgov.org/media/san_francisco/report/photos/5849f87a3da19793c74c4f8a/report.jpg  \n",
       "34               http://mobile311.sfgov.org/media/san_francisco/report/photos/5849f8093da19793c74c4f4b/report.jpg  \n",
       "35                http://mobile311.sfgov.org/media/san_francisco/report/photos/5849f7e73da19793c4c4f29/report.jpg  \n",
       "39               http://mobile311.sfgov.org/media/san_francisco/report/photos/5849ed633da19793c74c4de4/report.jpg  "
      ]
     },
     "execution_count": 78,
     "metadata": {},
     "output_type": "execute_result"
    }
   ],
   "source": [
    "df[df.Neighborhood == 'Mission'].head(8)"
   ]
  },
  {
   "cell_type": "markdown",
   "metadata": {},
   "source": [
    "\n",
    "### Get rid of NaN entries and display images\n",
    "\n",
    "Need Help  https://youtu.be/2AFGPdNn4FM?t=8m"
   ]
  },
  {
   "cell_type": "code",
   "execution_count": 79,
   "metadata": {
    "collapsed": true
   },
   "outputs": [],
   "source": [
    "#hl_images = df[df['Media URL'].notnull() ]['Media URL']\n"
   ]
  },
  {
   "cell_type": "code",
   "execution_count": 81,
   "metadata": {
    "collapsed": false
   },
   "outputs": [
    {
     "name": "stdout",
     "output_type": "stream",
     "text": [
      "0    http://mobile311.sfgov.org/media/san_francisco/report/photos/584a65fd3da19793c74c55aa/report.jpg\n",
      "1    http://mobile311.sfgov.org/media/san_francisco/report/photos/584a65b83da19793c74c55a0/report.jpg\n",
      "2    http://mobile311.sfgov.org/media/san_francisco/report/photos/584a589b3da19793c74c5557/report.jpg\n",
      "Name: Media URL, dtype: object\n"
     ]
    }
   ],
   "source": [
    "\n",
    "images = df[df['Media URL'].notnull() ]['Media URL']\n",
    "images = images.reset_index(drop=True)\n",
    "print(images[:3])\n"
   ]
  },
  {
   "cell_type": "code",
   "execution_count": 82,
   "metadata": {
    "collapsed": false
   },
   "outputs": [
    {
     "data": {
      "text/plain": [
       "'http://mobile311.sfgov.org/media/san_francisco/report/photos/584a65fd3da19793c74c55aa/report.jpg'"
      ]
     },
     "execution_count": 82,
     "metadata": {},
     "output_type": "execute_result"
    }
   ],
   "source": [
    "images[0]"
   ]
  },
  {
   "cell_type": "code",
   "execution_count": 83,
   "metadata": {
    "collapsed": false,
    "scrolled": true
   },
   "outputs": [
    {
     "name": "stdout",
     "output_type": "stream",
     "text": [
      "http://mobile311.sfgov.org/media/san_francisco/report/photos/584a65fd3da19793c74c55aa/report.jpg\n"
     ]
    },
    {
     "data": {
      "image/jpeg": "[encoded data removed]",
      "text/plain": [
       "<IPython.core.display.Image object>"
      ]
     },
     "execution_count": 83,
     "metadata": {},
     "output_type": "execute_result"
    }
   ],
   "source": [
    "print(images[0])\n",
    "Image(images[0])\n"
   ]
  },
  {
   "cell_type": "code",
   "execution_count": 84,
   "metadata": {
    "collapsed": false
   },
   "outputs": [
    {
     "name": "stdout",
     "output_type": "stream",
     "text": [
      "/home/gdillon/JupyterPractice/graffiti_SF311\r\n"
     ]
    }
   ],
   "source": [
    "!pwd"
   ]
  },
  {
   "cell_type": "code",
   "execution_count": 85,
   "metadata": {
    "collapsed": false
   },
   "outputs": [],
   "source": [
    "images[:80].to_csv(\"./imagelist.txt\", index=False)"
   ]
  },
  {
   "cell_type": "code",
   "execution_count": 54,
   "metadata": {
    "collapsed": false
   },
   "outputs": [
    {
     "name": "stdout",
     "output_type": "stream",
     "text": [
      "/home/gdillon/JupyterPractice/graffiti_SF311/assets\n",
      "--2016-12-09 12:24:39--  http://mobile311.sfgov.org/media/san_francisco/report/photos/584903753da19793c74c3848/report.jpg\n",
      "Resolving mobile311.sfgov.org (mobile311.sfgov.org)... 54.144.250.241\n",
      "Connecting to mobile311.sfgov.org (mobile311.sfgov.org)|54.144.250.241|:80... connected.\n",
      "HTTP request sent, awaiting response... 200 OK\n",
      "Length: 322478 (315K) [image/jpeg]\n",
      "Saving to: 'report.jpg'\n",
      "\n",
      "report.jpg          100%[===================>] 314.92K  1.31MB/s    in 0.2s    \n",
      "\n",
      "2016-12-09 12:24:39 (1.31 MB/s) - 'report.jpg' saved [322478/322478]\n",
      "\n",
      "--2016-12-09 12:24:39--  http://mobile311.sfgov.org/media/san_francisco/report/photos/5839d3633da18eff3daa3174/report.jpg\n",
      "Reusing existing connection to mobile311.sfgov.org:80.\n",
      "HTTP request sent, awaiting response... 200 OK\n",
      "Length: 122845 (120K) [image/jpeg]\n",
      "Saving to: 'report.jpg.1'\n",
      "\n",
      "report.jpg.1        100%[===================>] 119.97K  --.-KB/s    in 0.001s  \n",
      "\n",
      "2016-12-09 12:24:39 (149 MB/s) - 'report.jpg.1' saved [122845/122845]\n",
      "\n",
      "--2016-12-09 12:24:39--  http://mobile311.sfgov.org/media/san_francisco/report/photos/584746153da19793c74c0afb/report.jpg\n",
      "Reusing existing connection to mobile311.sfgov.org:80.\n",
      "HTTP request sent, awaiting response... 200 OK\n",
      "Length: 107420 (105K) [image/jpeg]\n",
      "Saving to: 'report.jpg.2'\n",
      "\n",
      "report.jpg.2        100%[===================>] 104.90K  --.-KB/s    in 0s      \n",
      "\n",
      "2016-12-09 12:24:39 (215 MB/s) - 'report.jpg.2' saved [107420/107420]\n",
      "\n",
      "--2016-12-09 12:24:39--  http://mobile311.sfgov.org/media/san_francisco/report/photos/584746653da19793c74c0b05/report.jpg\n",
      "Reusing existing connection to mobile311.sfgov.org:80.\n",
      "HTTP request sent, awaiting response... 200 OK\n",
      "Length: 194746 (190K) [image/jpeg]\n",
      "Saving to: 'report.jpg.3'\n",
      "\n",
      "report.jpg.3        100%[===================>] 190.18K  --.-KB/s    in 0.03s   \n",
      "\n",
      "2016-12-09 12:24:40 (5.34 MB/s) - 'report.jpg.3' saved [194746/194746]\n",
      "\n",
      "--2016-12-09 12:24:40--  http://mobile311.sfgov.org/media/san_francisco/report/photos/584746993da19793c74c0b1a/report.jpg\n",
      "Reusing existing connection to mobile311.sfgov.org:80.\n",
      "HTTP request sent, awaiting response... 200 OK\n",
      "Length: 179868 (176K) [image/jpeg]\n",
      "Saving to: 'report.jpg.4'\n",
      "\n",
      "report.jpg.4        100%[===================>] 175.65K  --.-KB/s    in 0s      \n",
      "\n",
      "2016-12-09 12:24:40 (365 MB/s) - 'report.jpg.4' saved [179868/179868]\n",
      "\n",
      "--2016-12-09 12:24:40--  http://mobile311.sfgov.org/media/san_francisco/report/photos/584747613da19793c74c0b51/report.jpg\n",
      "Reusing existing connection to mobile311.sfgov.org:80.\n",
      "HTTP request sent, awaiting response... 200 OK\n",
      "Length: 162108 (158K) [image/jpeg]\n",
      "Saving to: 'report.jpg.5'\n",
      "\n",
      "report.jpg.5        100%[===================>] 158.31K  --.-KB/s    in 0.001s  \n",
      "\n",
      "2016-12-09 12:24:40 (139 MB/s) - 'report.jpg.5' saved [162108/162108]\n",
      "\n",
      "--2016-12-09 12:24:40--  http://mobile311.sfgov.org/media/san_francisco/report/photos/584747783da19793c74c0b67/report.jpg\n",
      "Reusing existing connection to mobile311.sfgov.org:80.\n",
      "HTTP request sent, awaiting response... 200 OK\n",
      "Length: 147722 (144K) [image/jpeg]\n",
      "Saving to: 'report.jpg.6'\n",
      "\n",
      "report.jpg.6        100%[===================>] 144.26K  --.-KB/s    in 0s      \n",
      "\n",
      "2016-12-09 12:24:40 (359 MB/s) - 'report.jpg.6' saved [147722/147722]\n",
      "\n",
      "--2016-12-09 12:24:40--  http://mobile311.sfgov.org/media/san_francisco/report/photos/5848b3533da19793c74c3555/report.jpg\n",
      "Reusing existing connection to mobile311.sfgov.org:80.\n",
      "HTTP request sent, awaiting response... 200 OK\n",
      "Length: 218865 (214K) [image/jpeg]\n",
      "Saving to: 'report.jpg.7'\n",
      "\n",
      "report.jpg.7        100%[===================>] 213.74K  --.-KB/s    in 0.001s  \n",
      "\n",
      "2016-12-09 12:24:40 (294 MB/s) - 'report.jpg.7' saved [218865/218865]\n",
      "\n",
      "--2016-12-09 12:24:40--  http://mobile311.sfgov.org/media/san_francisco/report/photos/5848b3493da19793c74c354b/report.jpg\n",
      "Reusing existing connection to mobile311.sfgov.org:80.\n",
      "HTTP request sent, awaiting response... 200 OK\n",
      "Length: 162116 (158K) [image/jpeg]\n",
      "Saving to: 'report.jpg.8'\n",
      "\n",
      "report.jpg.8        100%[===================>] 158.32K  --.-KB/s    in 0.001s  \n",
      "\n",
      "2016-12-09 12:24:40 (138 MB/s) - 'report.jpg.8' saved [162116/162116]\n",
      "\n",
      "--2016-12-09 12:24:40--  http://mobile311.sfgov.org/media/san_francisco/report/photos/5848afe93da19793c74c352e/report.jpg\n",
      "Reusing existing connection to mobile311.sfgov.org:80.\n",
      "HTTP request sent, awaiting response... 200 OK\n",
      "Length: 150832 (147K) [image/jpeg]\n",
      "Saving to: 'report.jpg.9'\n",
      "\n",
      "report.jpg.9        100%[===================>] 147.30K  --.-KB/s    in 0s      \n",
      "\n",
      "2016-12-09 12:24:40 (313 MB/s) - 'report.jpg.9' saved [150832/150832]\n",
      "\n",
      "--2016-12-09 12:24:40--  http://mobile311.sfgov.org/media/san_francisco/report/photos/5848ad3a3da19793c74c34aa/report.jpg\n",
      "Reusing existing connection to mobile311.sfgov.org:80.\n",
      "HTTP request sent, awaiting response... 200 OK\n",
      "Length: 227002 (222K) [image/jpeg]\n",
      "Saving to: 'report.jpg.10'\n",
      "\n",
      "report.jpg.10       100%[===================>] 221.68K  --.-KB/s    in 0s      \n",
      "\n",
      "2016-12-09 12:24:40 (506 MB/s) - 'report.jpg.10' saved [227002/227002]\n",
      "\n",
      "--2016-12-09 12:24:40--  http://mobile311.sfgov.org/media/san_francisco/report/photos/5848ad1f3da19793c74c349f/report.jpg\n",
      "Reusing existing connection to mobile311.sfgov.org:80.\n",
      "HTTP request sent, awaiting response... 200 OK\n",
      "Length: 141811 (138K) [image/jpeg]\n",
      "Saving to: 'report.jpg.11'\n",
      "\n",
      "report.jpg.11       100%[===================>] 138.49K  --.-KB/s    in 0.001s  \n",
      "\n",
      "2016-12-09 12:24:40 (144 MB/s) - 'report.jpg.11' saved [141811/141811]\n",
      "\n",
      "--2016-12-09 12:24:40--  http://mobile311.sfgov.org/media/san_francisco/report/photos/5848966c3da19793c74c31f7/report.jpg\n",
      "Reusing existing connection to mobile311.sfgov.org:80.\n",
      "HTTP request sent, awaiting response... 200 OK\n",
      "Length: 160003 (156K) [image/jpeg]\n",
      "Saving to: 'report.jpg.12'\n",
      "\n",
      "report.jpg.12       100%[===================>] 156.25K  --.-KB/s    in 0.001s  \n",
      "\n",
      "2016-12-09 12:24:40 (131 MB/s) - 'report.jpg.12' saved [160003/160003]\n",
      "\n",
      "--2016-12-09 12:24:40--  http://mobile311.sfgov.org/media/san_francisco/report/photos/58488f5c3da19793c74c3174/photo_20161207_143755.jpg\n",
      "Reusing existing connection to mobile311.sfgov.org:80.\n",
      "HTTP request sent, awaiting response... 200 OK\n",
      "Length: 142960 (140K) [image/jpeg]\n",
      "Saving to: 'photo_20161207_143755.jpg'\n",
      "\n",
      "photo_20161207_1437 100%[===================>] 139.61K  --.-KB/s    in 0.001s  \n",
      "\n",
      "2016-12-09 12:24:40 (117 MB/s) - 'photo_20161207_143755.jpg' saved [142960/142960]\n",
      "\n",
      "--2016-12-09 12:24:40--  http://mobile311.sfgov.org/media/san_francisco/report/photos/584886b83da19793c74c3072/report.jpg\n",
      "Reusing existing connection to mobile311.sfgov.org:80.\n",
      "HTTP request sent, awaiting response... 200 OK\n",
      "Length: 306011 (299K) [image/jpeg]\n",
      "Saving to: 'report.jpg.13'\n",
      "\n",
      "report.jpg.13       100%[===================>] 298.84K  --.-KB/s    in 0.001s  \n",
      "\n",
      "2016-12-09 12:24:40 (411 MB/s) - 'report.jpg.13' saved [306011/306011]\n",
      "\n",
      "--2016-12-09 12:24:40--  http://mobile311.sfgov.org/media/san_francisco/report/photos/58487a1a3da19793c74c2e99/photo_20161207_130652.jpg\n",
      "Reusing existing connection to mobile311.sfgov.org:80.\n",
      "HTTP request sent, awaiting response... 200 OK\n",
      "Length: 193838 (189K) [image/jpeg]\n",
      "Saving to: 'photo_20161207_130652.jpg'\n",
      "\n",
      "photo_20161207_1306 100%[===================>] 189.29K  --.-KB/s    in 0.001s  \n",
      "\n",
      "2016-12-09 12:24:40 (127 MB/s) - 'photo_20161207_130652.jpg' saved [193838/193838]\n",
      "\n",
      "--2016-12-09 12:24:40--  http://mobile311.sfgov.org/media/san_francisco/report/photos/584879bc3da19793c74c2e83/report.jpg\n",
      "Reusing existing connection to mobile311.sfgov.org:80.\n",
      "HTTP request sent, awaiting response... 200 OK\n",
      "Length: 233812 (228K) [image/jpeg]\n",
      "Saving to: 'report.jpg.14'\n",
      "\n",
      "report.jpg.14       100%[===================>] 228.33K  --.-KB/s    in 0.002s  \n",
      "\n",
      "2016-12-09 12:24:40 (136 MB/s) - 'report.jpg.14' saved [233812/233812]\n",
      "\n",
      "--2016-12-09 12:24:40--  http://mobile311.sfgov.org/media/san_francisco/report/photos/584871fb3da19793c74c2dde/photo_20161207_123247.jpg\n",
      "Reusing existing connection to mobile311.sfgov.org:80.\n",
      "HTTP request sent, awaiting response... 200 OK\n",
      "Length: 250591 (245K) [image/jpeg]\n",
      "Saving to: 'photo_20161207_123247.jpg'\n",
      "\n",
      "photo_20161207_1232 100%[===================>] 244.72K  --.-KB/s    in 0.002s  \n",
      "\n",
      "2016-12-09 12:24:40 (146 MB/s) - 'photo_20161207_123247.jpg' saved [250591/250591]\n",
      "\n",
      "--2016-12-09 12:24:40--  http://mobile311.sfgov.org/media/san_francisco/report/photos/58486f2e3da19793c74c2d76/photo_20161207_122047.jpg\n",
      "Reusing existing connection to mobile311.sfgov.org:80.\n",
      "HTTP request sent, awaiting response... 200 OK\n",
      "Length: 187823 (183K) [image/jpeg]\n",
      "Saving to: 'photo_20161207_122047.jpg'\n",
      "\n",
      "photo_20161207_1220 100%[===================>] 183.42K  --.-KB/s    in 0.001s  \n",
      "\n",
      "2016-12-09 12:24:40 (133 MB/s) - 'photo_20161207_122047.jpg' saved [187823/187823]\n",
      "\n",
      "--2016-12-09 12:24:40--  http://mobile311.sfgov.org/media/san_francisco/report/photos/58486ef23da19793c74c2d61/photo_20161207_121941.jpg\n",
      "Reusing existing connection to mobile311.sfgov.org:80.\n",
      "HTTP request sent, awaiting response... 200 OK\n",
      "Length: 141909 (139K) [image/jpeg]\n",
      "Saving to: 'photo_20161207_121941.jpg'\n",
      "\n",
      "photo_20161207_1219 100%[===================>] 138.58K  --.-KB/s    in 0.001s  \n",
      "\n",
      "2016-12-09 12:24:40 (221 MB/s) - 'photo_20161207_121941.jpg' saved [141909/141909]\n",
      "\n",
      "--2016-12-09 12:24:40--  http://mobile311.sfgov.org/media/san_francisco/report/photos/58486e7a3da19793c74c2d52/photo_20161207_121739.jpg\n",
      "Reusing existing connection to mobile311.sfgov.org:80.\n",
      "HTTP request sent, awaiting response... 200 OK\n",
      "Length: 99489 (97K) [image/jpeg]\n",
      "Saving to: 'photo_20161207_121739.jpg'\n",
      "\n",
      "photo_20161207_1217 100%[===================>]  97.16K  --.-KB/s    in 0.001s  \n",
      "\n",
      "2016-12-09 12:24:40 (108 MB/s) - 'photo_20161207_121739.jpg' saved [99489/99489]\n",
      "\n",
      "--2016-12-09 12:24:40--  http://mobile311.sfgov.org/media/san_francisco/report/photos/58486cbb3da19793c74c2cfe/photo_20161207_121022.jpg\n",
      "Reusing existing connection to mobile311.sfgov.org:80.\n",
      "HTTP request sent, awaiting response... 200 OK\n",
      "Length: 229338 (224K) [image/jpeg]\n",
      "Saving to: 'photo_20161207_121022.jpg'\n",
      "\n",
      "photo_20161207_1210 100%[===================>] 223.96K  --.-KB/s    in 0.003s  \n",
      "\n",
      "2016-12-09 12:24:40 (73.8 MB/s) - 'photo_20161207_121022.jpg' saved [229338/229338]\n",
      "\n",
      "--2016-12-09 12:24:40--  http://mobile311.sfgov.org/media/san_francisco/report/photos/58486c2b3da19793c74c2cc4/photo_20161207_120754.jpg\n",
      "Reusing existing connection to mobile311.sfgov.org:80.\n",
      "HTTP request sent, awaiting response... 200 OK\n",
      "Length: 153191 (150K) [image/jpeg]\n",
      "Saving to: 'photo_20161207_120754.jpg'\n",
      "\n",
      "photo_20161207_1207 100%[===================>] 149.60K  --.-KB/s    in 0.001s  \n",
      "\n",
      "2016-12-09 12:24:40 (243 MB/s) - 'photo_20161207_120754.jpg' saved [153191/153191]\n",
      "\n",
      "--2016-12-09 12:24:40--  http://mobile311.sfgov.org/media/san_francisco/report/photos/58486b883da19793c74c2cb6/report.jpg\n",
      "Reusing existing connection to mobile311.sfgov.org:80.\n",
      "HTTP request sent, awaiting response... 200 OK\n",
      "Length: 211541 (207K) [image/jpeg]\n",
      "Saving to: 'report.jpg.15'\n",
      "\n",
      "report.jpg.15       100%[===================>] 206.58K  --.-KB/s    in 0.002s  \n",
      "\n",
      "2016-12-09 12:24:40 (123 MB/s) - 'report.jpg.15' saved [211541/211541]\n",
      "\n",
      "--2016-12-09 12:24:40--  http://mobile311.sfgov.org/media/san_francisco/report/photos/58486a8a3da19793c74c2c89/photo_20161207_120001.jpg\n",
      "Reusing existing connection to mobile311.sfgov.org:80.\n",
      "HTTP request sent, awaiting response... 200 OK\n",
      "Length: 148903 (145K) [image/jpeg]\n",
      "Saving to: 'photo_20161207_120001.jpg'\n",
      "\n",
      "photo_20161207_1200 100%[===================>] 145.41K  --.-KB/s    in 0s      \n",
      "\n",
      "2016-12-09 12:24:40 (360 MB/s) - 'photo_20161207_120001.jpg' saved [148903/148903]\n",
      "\n",
      "--2016-12-09 12:24:40--  http://mobile311.sfgov.org/media/san_francisco/report/photos/58486a5d3da19793c74c2c73/photo_20161207_120014.jpg\n",
      "Reusing existing connection to mobile311.sfgov.org:80.\n",
      "HTTP request sent, awaiting response... 200 OK\n",
      "Length: 249290 (243K) [image/jpeg]\n",
      "Saving to: 'photo_20161207_120014.jpg'\n",
      "\n",
      "photo_20161207_1200 100%[===================>] 243.45K  --.-KB/s    in 0.001s  \n",
      "\n",
      "2016-12-09 12:24:41 (182 MB/s) - 'photo_20161207_120014.jpg' saved [249290/249290]\n",
      "\n",
      "--2016-12-09 12:24:41--  http://mobile311.sfgov.org/media/san_francisco/report/photos/584868063da19793c74c2c36/photo_20161207_113933.jpg\n",
      "Reusing existing connection to mobile311.sfgov.org:80.\n",
      "HTTP request sent, awaiting response... 200 OK\n",
      "Length: 126448 (123K) [image/jpeg]\n",
      "Saving to: 'photo_20161207_113933.jpg'\n",
      "\n",
      "photo_20161207_1139 100%[===================>] 123.48K  --.-KB/s    in 0.001s  \n",
      "\n",
      "2016-12-09 12:24:41 (108 MB/s) - 'photo_20161207_113933.jpg' saved [126448/126448]\n",
      "\n",
      "--2016-12-09 12:24:41--  http://mobile311.sfgov.org/media/san_francisco/report/photos/584867db3da19793c74c2c25/photo_20161207_114935.jpg\n",
      "Reusing existing connection to mobile311.sfgov.org:80.\n",
      "HTTP request sent, awaiting response... 200 OK\n",
      "Length: 216768 (212K) [image/jpeg]\n",
      "Saving to: 'photo_20161207_114935.jpg'\n",
      "\n",
      "photo_20161207_1149 100%[===================>] 211.69K  --.-KB/s    in 0.002s  \n",
      "\n",
      "2016-12-09 12:24:41 (104 MB/s) - 'photo_20161207_114935.jpg' saved [216768/216768]\n",
      "\n",
      "--2016-12-09 12:24:41--  http://mobile311.sfgov.org/media/san_francisco/report/photos/5848679c3da19793c74c2c0f/photo_20161207_114832.jpg\n",
      "Reusing existing connection to mobile311.sfgov.org:80.\n",
      "HTTP request sent, awaiting response... 200 OK\n",
      "Length: 246538 (241K) [image/jpeg]\n",
      "Saving to: 'photo_20161207_114832.jpg'\n",
      "\n",
      "photo_20161207_1148 100%[===================>] 240.76K  --.-KB/s    in 0.002s  \n",
      "\n",
      "2016-12-09 12:24:41 (134 MB/s) - 'photo_20161207_114832.jpg' saved [246538/246538]\n",
      "\n",
      "--2016-12-09 12:24:41--  http://mobile311.sfgov.org/media/san_francisco/report/photos/584866f73da19793c74c2bf4/photo_20161207_114549.jpg\n",
      "Reusing existing connection to mobile311.sfgov.org:80.\n",
      "HTTP request sent, awaiting response... 200 OK\n",
      "Length: 201404 (197K) [image/jpeg]\n",
      "Saving to: 'photo_20161207_114549.jpg'\n",
      "\n",
      "photo_20161207_1145 100%[===================>] 196.68K  --.-KB/s    in 0.001s  \n",
      "\n",
      "2016-12-09 12:24:41 (220 MB/s) - 'photo_20161207_114549.jpg' saved [201404/201404]\n",
      "\n",
      "--2016-12-09 12:24:41--  http://mobile311.sfgov.org/media/san_francisco/report/photos/584866133da19793c74c2bba/photo_20161207_114141.jpg\n",
      "Reusing existing connection to mobile311.sfgov.org:80.\n",
      "HTTP request sent, awaiting response... 200 OK\n",
      "Length: 146582 (143K) [image/jpeg]\n",
      "Saving to: 'photo_20161207_114141.jpg'\n",
      "\n",
      "photo_20161207_1141 100%[===================>] 143.15K  --.-KB/s    in 0.001s  \n",
      "\n",
      "2016-12-09 12:24:41 (250 MB/s) - 'photo_20161207_114141.jpg' saved [146582/146582]\n",
      "\n",
      "--2016-12-09 12:24:41--  http://mobile311.sfgov.org/media/san_francisco/report/photos/584865be3da19793c74c2bad/photo_20161207_114032.jpg\n",
      "Reusing existing connection to mobile311.sfgov.org:80.\n",
      "HTTP request sent, awaiting response... 200 OK\n",
      "Length: 222482 (217K) [image/jpeg]\n",
      "Saving to: 'photo_20161207_114032.jpg'\n",
      "\n",
      "photo_20161207_1140 100%[===================>] 217.27K  --.-KB/s    in 0.001s  \n",
      "\n",
      "2016-12-09 12:24:41 (333 MB/s) - 'photo_20161207_114032.jpg' saved [222482/222482]\n",
      "\n",
      "--2016-12-09 12:24:41--  http://mobile311.sfgov.org/media/san_francisco/report/photos/5848658d3da19793c74c2b95/photo_20161207_113926.jpg\n",
      "Reusing existing connection to mobile311.sfgov.org:80.\n",
      "HTTP request sent, awaiting response... 200 OK\n",
      "Length: 166768 (163K) [image/jpeg]\n",
      "Saving to: 'photo_20161207_113926.jpg'\n",
      "\n",
      "photo_20161207_1139 100%[===================>] 162.86K  --.-KB/s    in 0s      \n",
      "\n",
      "2016-12-09 12:24:41 (373 MB/s) - 'photo_20161207_113926.jpg' saved [166768/166768]\n",
      "\n",
      "--2016-12-09 12:24:41--  http://mobile311.sfgov.org/media/san_francisco/report/photos/5848655b3da19793c74c2b7e/photo_20161207_113823.jpg\n",
      "Reusing existing connection to mobile311.sfgov.org:80.\n",
      "HTTP request sent, awaiting response... 200 OK\n",
      "Length: 100066 (98K) [image/jpeg]\n",
      "Saving to: 'photo_20161207_113823.jpg'\n",
      "\n",
      "photo_20161207_1138 100%[===================>]  97.72K  --.-KB/s    in 0s      \n",
      "\n",
      "2016-12-09 12:24:41 (299 MB/s) - 'photo_20161207_113823.jpg' saved [100066/100066]\n",
      "\n",
      "--2016-12-09 12:24:41--  http://mobile311.sfgov.org/media/san_francisco/report/photos/584865463da19793c74c2b69/photo_20161207_113813.jpg\n",
      "Reusing existing connection to mobile311.sfgov.org:80.\n",
      "HTTP request sent, awaiting response... 200 OK\n",
      "Length: 156900 (153K) [image/jpeg]\n",
      "Saving to: 'photo_20161207_113813.jpg'\n",
      "\n",
      "photo_20161207_1138 100%[===================>] 153.22K  --.-KB/s    in 0.001s  \n",
      "\n",
      "2016-12-09 12:24:41 (299 MB/s) - 'photo_20161207_113813.jpg' saved [156900/156900]\n",
      "\n",
      "--2016-12-09 12:24:41--  http://mobile311.sfgov.org/media/san_francisco/report/photos/5848653b3da19793c74c2b5d/photo_20161207_113810.jpg\n",
      "Reusing existing connection to mobile311.sfgov.org:80.\n",
      "HTTP request sent, awaiting response... 200 OK\n",
      "Length: 282517 (276K) [image/jpeg]\n",
      "Saving to: 'photo_20161207_113810.jpg'\n",
      "\n",
      "photo_20161207_1138 100%[===================>] 275.90K  --.-KB/s    in 0.001s  \n",
      "\n",
      "2016-12-09 12:24:41 (355 MB/s) - 'photo_20161207_113810.jpg' saved [282517/282517]\n",
      "\n",
      "--2016-12-09 12:24:41--  http://mobile311.sfgov.org/media/san_francisco/report/photos/5848651a3da19793c74c2b50/photo_20161207_113718.jpg\n",
      "Reusing existing connection to mobile311.sfgov.org:80.\n",
      "HTTP request sent, awaiting response... 200 OK\n",
      "Length: 100066 (98K) [image/jpeg]\n",
      "Saving to: 'photo_20161207_113718.jpg'\n",
      "\n",
      "photo_20161207_1137 100%[===================>]  97.72K  --.-KB/s    in 0s      \n",
      "\n",
      "2016-12-09 12:24:41 (248 MB/s) - 'photo_20161207_113718.jpg' saved [100066/100066]\n",
      "\n",
      "--2016-12-09 12:24:41--  http://mobile311.sfgov.org/media/san_francisco/report/photos/584864ea3da19793c74c2b3a/photo_20161207_113646.jpg\n",
      "Reusing existing connection to mobile311.sfgov.org:80.\n",
      "HTTP request sent, awaiting response... 200 OK\n",
      "Length: 215484 (210K) [image/jpeg]\n",
      "Saving to: 'photo_20161207_113646.jpg'\n",
      "\n",
      "photo_20161207_1136 100%[===================>] 210.43K  --.-KB/s    in 0.002s  \n",
      "\n",
      "2016-12-09 12:24:41 (130 MB/s) - 'photo_20161207_113646.jpg' saved [215484/215484]\n",
      "\n",
      "--2016-12-09 12:24:41--  http://mobile311.sfgov.org/media/san_francisco/report/photos/584864d93da19793c74c2b30/photo_20161207_113626.jpg\n",
      "Reusing existing connection to mobile311.sfgov.org:80.\n",
      "HTTP request sent, awaiting response... 200 OK\n",
      "Length: 111651 (109K) [image/jpeg]\n",
      "Saving to: 'photo_20161207_113626.jpg'\n",
      "\n",
      "photo_20161207_1136 100%[===================>] 109.03K  --.-KB/s    in 0.001s  \n",
      "\n",
      "2016-12-09 12:24:41 (89.0 MB/s) - 'photo_20161207_113626.jpg' saved [111651/111651]\n",
      "\n",
      "--2016-12-09 12:24:41--  http://mobile311.sfgov.org/media/san_francisco/report/photos/584864b03da19793c74c2b24/photo_20161207_113555.jpg\n",
      "Reusing existing connection to mobile311.sfgov.org:80.\n",
      "HTTP request sent, awaiting response... 200 OK\n",
      "Length: 242563 (237K) [image/jpeg]\n",
      "Saving to: 'photo_20161207_113555.jpg'\n",
      "\n",
      "photo_20161207_1135 100%[===================>] 236.88K  --.-KB/s    in 0.002s  \n",
      "\n",
      "2016-12-09 12:24:41 (101 MB/s) - 'photo_20161207_113555.jpg' saved [242563/242563]\n",
      "\n",
      "--2016-12-09 12:24:41--  http://mobile311.sfgov.org/media/san_francisco/report/photos/584864a33da19793c74c2b18/photo_20161207_113550.jpg\n",
      "Reusing existing connection to mobile311.sfgov.org:80.\n",
      "HTTP request sent, awaiting response... 200 OK\n",
      "Length: 287204 (280K) [image/jpeg]\n",
      "Saving to: 'photo_20161207_113550.jpg'\n",
      "\n",
      "photo_20161207_1135 100%[===================>] 280.47K  --.-KB/s    in 0.002s  \n",
      "\n",
      "2016-12-09 12:24:41 (123 MB/s) - 'photo_20161207_113550.jpg' saved [287204/287204]\n",
      "\n",
      "--2016-12-09 12:24:41--  http://mobile311.sfgov.org/media/san_francisco/report/photos/584864a13da19793c74c2b0e/photo_20161207_113540.jpg\n",
      "Reusing existing connection to mobile311.sfgov.org:80.\n",
      "HTTP request sent, awaiting response... 200 OK\n",
      "Length: 208047 (203K) [image/jpeg]\n",
      "Saving to: 'photo_20161207_113540.jpg'\n",
      "\n",
      "photo_20161207_1135 100%[===================>] 203.17K  --.-KB/s    in 0.001s  \n",
      "\n",
      "2016-12-09 12:24:41 (147 MB/s) - 'photo_20161207_113540.jpg' saved [208047/208047]\n",
      "\n",
      "--2016-12-09 12:24:41--  http://mobile311.sfgov.org/media/san_francisco/report/photos/5848646c3da19793c74c2b02/photo_20161207_113456.jpg\n",
      "Reusing existing connection to mobile311.sfgov.org:80.\n",
      "HTTP request sent, awaiting response... 200 OK\n",
      "Length: 216272 (211K) [image/jpeg]\n",
      "Saving to: 'photo_20161207_113456.jpg'\n",
      "\n",
      "photo_20161207_1134 100%[===================>] 211.20K  --.-KB/s    in 0.002s  \n",
      "\n",
      "2016-12-09 12:24:41 (115 MB/s) - 'photo_20161207_113456.jpg' saved [216272/216272]\n",
      "\n",
      "--2016-12-09 12:24:41--  http://mobile311.sfgov.org/media/san_francisco/report/photos/584864643da19793c74c2af8/photo_20161207_113430.jpg\n",
      "Reusing existing connection to mobile311.sfgov.org:80.\n",
      "HTTP request sent, awaiting response... 200 OK\n",
      "Length: 123387 (120K) [image/jpeg]\n",
      "Saving to: 'photo_20161207_113430.jpg'\n",
      "\n",
      "photo_20161207_1134 100%[===================>] 120.50K  --.-KB/s    in 0.001s  \n",
      "\n",
      "2016-12-09 12:24:41 (207 MB/s) - 'photo_20161207_113430.jpg' saved [123387/123387]\n",
      "\n",
      "--2016-12-09 12:24:41--  http://mobile311.sfgov.org/media/san_francisco/report/photos/584864523da19793c74c2aec/photo_20161207_113404.jpg\n",
      "Reusing existing connection to mobile311.sfgov.org:80.\n",
      "HTTP request sent, awaiting response... 200 OK\n",
      "Length: 146339 (143K) [image/jpeg]\n",
      "Saving to: 'photo_20161207_113404.jpg'\n",
      "\n",
      "photo_20161207_1134 100%[===================>] 142.91K  --.-KB/s    in 0s      \n",
      "\n",
      "2016-12-09 12:24:41 (363 MB/s) - 'photo_20161207_113404.jpg' saved [146339/146339]\n",
      "\n",
      "--2016-12-09 12:24:41--  http://mobile311.sfgov.org/media/san_francisco/report/photos/5848642b3da19793c74c2acd/photo_20161207_113333.jpg\n",
      "Reusing existing connection to mobile311.sfgov.org:80.\n",
      "HTTP request sent, awaiting response... 200 OK\n",
      "Length: 111750 (109K) [image/jpeg]\n",
      "Saving to: 'photo_20161207_113333.jpg'\n",
      "\n",
      "photo_20161207_1133 100%[===================>] 109.13K  --.-KB/s    in 0s      \n",
      "\n",
      "2016-12-09 12:24:41 (355 MB/s) - 'photo_20161207_113333.jpg' saved [111750/111750]\n",
      "\n",
      "--2016-12-09 12:24:41--  http://mobile311.sfgov.org/media/san_francisco/report/photos/584863e93da19793c74c2aa5/report.jpg\n",
      "Reusing existing connection to mobile311.sfgov.org:80.\n",
      "HTTP request sent, awaiting response... 200 OK\n",
      "Length: 282292 (276K) [image/jpeg]\n",
      "Saving to: 'report.jpg.16'\n",
      "\n",
      "report.jpg.16       100%[===================>] 275.68K  --.-KB/s    in 0.001s  \n",
      "\n",
      "2016-12-09 12:24:41 (338 MB/s) - 'report.jpg.16' saved [282292/282292]\n",
      "\n",
      "--2016-12-09 12:24:41--  http://mobile311.sfgov.org/media/san_francisco/report/photos/584863e13da19793c74c2a99/report.jpg\n",
      "Reusing existing connection to mobile311.sfgov.org:80.\n",
      "HTTP request sent, awaiting response... 200 OK\n",
      "Length: 171881 (168K) [image/jpeg]\n",
      "Saving to: 'report.jpg.17'\n",
      "\n",
      "report.jpg.17       100%[===================>] 167.85K  --.-KB/s    in 0.001s  \n",
      "\n",
      "2016-12-09 12:24:41 (262 MB/s) - 'report.jpg.17' saved [171881/171881]\n",
      "\n",
      "--2016-12-09 12:24:41--  http://mobile311.sfgov.org/media/san_francisco/report/photos/584863243da19793c74c2a81/photo_20161207_112901.jpg\n",
      "Reusing existing connection to mobile311.sfgov.org:80.\n",
      "HTTP request sent, awaiting response... 200 OK\n",
      "Length: 78215 (76K) [image/jpeg]\n",
      "Saving to: 'photo_20161207_112901.jpg'\n",
      "\n",
      "photo_20161207_1129 100%[===================>]  76.38K  --.-KB/s    in 0s      \n",
      "\n",
      "2016-12-09 12:24:42 (190 MB/s) - 'photo_20161207_112901.jpg' saved [78215/78215]\n",
      "\n",
      "--2016-12-09 12:24:42--  http://mobile311.sfgov.org/media/san_francisco/report/photos/584862b23da19793c74c2a56/photo_20161207_112720.jpg\n",
      "Reusing existing connection to mobile311.sfgov.org:80.\n",
      "HTTP request sent, awaiting response... 200 OK\n",
      "Length: 108504 (106K) [image/jpeg]\n",
      "Saving to: 'photo_20161207_112720.jpg'\n",
      "\n",
      "photo_20161207_1127 100%[===================>] 105.96K  --.-KB/s    in 0.001s  \n",
      "\n",
      "2016-12-09 12:24:42 (72.1 MB/s) - 'photo_20161207_112720.jpg' saved [108504/108504]\n",
      "\n",
      "--2016-12-09 12:24:42--  http://mobile311.sfgov.org/media/san_francisco/report/photos/584860c13da19793c74c29c0/photo_20161207_111907.jpg\n",
      "Reusing existing connection to mobile311.sfgov.org:80.\n",
      "HTTP request sent, awaiting response... 200 OK\n",
      "Length: 195608 (191K) [image/jpeg]\n",
      "Saving to: 'photo_20161207_111907.jpg'\n",
      "\n",
      "photo_20161207_1119 100%[===================>] 191.02K  --.-KB/s    in 0.002s  \n",
      "\n",
      "2016-12-09 12:24:42 (76.8 MB/s) - 'photo_20161207_111907.jpg' saved [195608/195608]\n",
      "\n",
      "--2016-12-09 12:24:42--  http://mobile311.sfgov.org/media/san_francisco/report/photos/584860613da19793c74c29ab/photo_20161207_111731.jpg\n",
      "Reusing existing connection to mobile311.sfgov.org:80.\n",
      "HTTP request sent, awaiting response... 200 OK\n",
      "Length: 159692 (156K) [image/jpeg]\n",
      "Saving to: 'photo_20161207_111731.jpg'\n",
      "\n",
      "photo_20161207_1117 100%[===================>] 155.95K  --.-KB/s    in 0.002s  \n",
      "\n",
      "2016-12-09 12:24:42 (90.6 MB/s) - 'photo_20161207_111731.jpg' saved [159692/159692]\n",
      "\n",
      "--2016-12-09 12:24:42--  http://mobile311.sfgov.org/media/san_francisco/report/photos/58485f683da19793c74c2987/photo_20161207_111322.jpg\n",
      "Reusing existing connection to mobile311.sfgov.org:80.\n",
      "HTTP request sent, awaiting response... 200 OK\n",
      "Length: 136526 (133K) [image/jpeg]\n",
      "Saving to: 'photo_20161207_111322.jpg'\n",
      "\n",
      "photo_20161207_1113 100%[===================>] 133.33K  --.-KB/s    in 0.001s  \n",
      "\n",
      "2016-12-09 12:24:42 (102 MB/s) - 'photo_20161207_111322.jpg' saved [136526/136526]\n",
      "\n",
      "--2016-12-09 12:24:42--  http://mobile311.sfgov.org/media/san_francisco/report/photos/58485ed43da19793c74c2932/report.jpg\n",
      "Reusing existing connection to mobile311.sfgov.org:80.\n",
      "HTTP request sent, awaiting response... 200 OK\n",
      "Length: 325647 (318K) [image/jpeg]\n",
      "Saving to: 'report.jpg.18'\n",
      "\n",
      "report.jpg.18       100%[===================>] 318.01K  --.-KB/s    in 0.003s  \n",
      "\n",
      "2016-12-09 12:24:42 (94.2 MB/s) - 'report.jpg.18' saved [325647/325647]\n",
      "\n",
      "--2016-12-09 12:24:42--  http://mobile311.sfgov.org/media/san_francisco/report/photos/58485e9e3da19793c74c2914/report.jpg\n",
      "Reusing existing connection to mobile311.sfgov.org:80.\n",
      "HTTP request sent, awaiting response... 200 OK\n",
      "Length: 185941 (182K) [image/jpeg]\n",
      "Saving to: 'report.jpg.19'\n",
      "\n",
      "report.jpg.19       100%[===================>] 181.58K  --.-KB/s    in 0.001s  \n",
      "\n",
      "2016-12-09 12:24:42 (122 MB/s) - 'report.jpg.19' saved [185941/185941]\n",
      "\n",
      "--2016-12-09 12:24:42--  http://mobile311.sfgov.org/media/san_francisco/report/photos/58485e653da19793c74c28f0/report.jpg\n",
      "Reusing existing connection to mobile311.sfgov.org:80.\n",
      "HTTP request sent, awaiting response... 200 OK\n",
      "Length: 126621 (124K) [image/jpeg]\n",
      "Saving to: 'report.jpg.20'\n",
      "\n",
      "report.jpg.20       100%[===================>] 123.65K  --.-KB/s    in 0.001s  \n",
      "\n",
      "2016-12-09 12:24:42 (119 MB/s) - 'report.jpg.20' saved [126621/126621]\n",
      "\n",
      "--2016-12-09 12:24:42--  http://mobile311.sfgov.org/media/san_francisco/report/photos/58485e603da19793c74c28e4/photo_20161207_110856.jpg\n",
      "Reusing existing connection to mobile311.sfgov.org:80.\n",
      "HTTP request sent, awaiting response... 200 OK\n",
      "Length: 170956 (167K) [image/jpeg]\n",
      "Saving to: 'photo_20161207_110856.jpg'\n",
      "\n",
      "photo_20161207_1108 100%[===================>] 166.95K  --.-KB/s    in 0.001s  \n",
      "\n",
      "2016-12-09 12:24:42 (223 MB/s) - 'photo_20161207_110856.jpg' saved [170956/170956]\n",
      "\n",
      "--2016-12-09 12:24:42--  http://mobile311.sfgov.org/media/san_francisco/report/photos/58485e413da19793c74c28d2/report.jpg\n",
      "Reusing existing connection to mobile311.sfgov.org:80.\n",
      "HTTP request sent, awaiting response... 200 OK\n",
      "Length: 290163 (283K) [image/jpeg]\n",
      "Saving to: 'report.jpg.21'\n",
      "\n",
      "report.jpg.21       100%[===================>] 283.36K  --.-KB/s    in 0.001s  \n",
      "\n",
      "2016-12-09 12:24:42 (490 MB/s) - 'report.jpg.21' saved [290163/290163]\n",
      "\n",
      "--2016-12-09 12:24:42--  http://mobile311.sfgov.org/media/san_francisco/report/photos/58485dac3da19793c74c28af/report.jpg\n",
      "Reusing existing connection to mobile311.sfgov.org:80.\n",
      "HTTP request sent, awaiting response... 200 OK\n",
      "Length: 320477 (313K) [image/jpeg]\n",
      "Saving to: 'report.jpg.22'\n",
      "\n",
      "report.jpg.22       100%[===================>] 312.97K  --.-KB/s    in 0.001s  \n",
      "\n",
      "2016-12-09 12:24:42 (476 MB/s) - 'report.jpg.22' saved [320477/320477]\n",
      "\n",
      "--2016-12-09 12:24:42--  http://mobile311.sfgov.org/media/san_francisco/report/photos/58485d033da19793c74c2866/photo_20161207_110314.jpg\n",
      "Reusing existing connection to mobile311.sfgov.org:80.\n",
      "HTTP request sent, awaiting response... 200 OK\n",
      "Length: 267531 (261K) [image/jpeg]\n",
      "Saving to: 'photo_20161207_110314.jpg'\n",
      "\n",
      "photo_20161207_1103 100%[===================>] 261.26K  --.-KB/s    in 0.001s  \n",
      "\n",
      "2016-12-09 12:24:42 (207 MB/s) - 'photo_20161207_110314.jpg' saved [267531/267531]\n",
      "\n",
      "--2016-12-09 12:24:42--  http://mobile311.sfgov.org/media/san_francisco/report/photos/58485c5e3da19793c74c282c/photo_20161207_110032.jpg\n",
      "Reusing existing connection to mobile311.sfgov.org:80.\n",
      "HTTP request sent, awaiting response... 200 OK\n",
      "Length: 205683 (201K) [image/jpeg]\n",
      "Saving to: 'photo_20161207_110032.jpg'\n",
      "\n",
      "photo_20161207_1100 100%[===================>] 200.86K  --.-KB/s    in 0.002s  \n",
      "\n",
      "2016-12-09 12:24:42 (116 MB/s) - 'photo_20161207_110032.jpg' saved [205683/205683]\n",
      "\n",
      "--2016-12-09 12:24:42--  http://mobile311.sfgov.org/media/san_francisco/report/photos/58485c3d3da19793c74c2814/report.jpg\n",
      "Reusing existing connection to mobile311.sfgov.org:80.\n",
      "HTTP request sent, awaiting response... 200 OK\n",
      "Length: 433002 (423K) [image/jpeg]\n",
      "Saving to: 'report.jpg.23'\n",
      "\n",
      "report.jpg.23       100%[===================>] 422.85K  --.-KB/s    in 0.001s  \n",
      "\n",
      "2016-12-09 12:24:42 (390 MB/s) - 'report.jpg.23' saved [433002/433002]\n",
      "\n",
      "--2016-12-09 12:24:42--  http://mobile311.sfgov.org/media/san_francisco/report/photos/58485b5d3da19793c74c27d8/photo_20161207_105612.jpg\n",
      "Reusing existing connection to mobile311.sfgov.org:80.\n",
      "HTTP request sent, awaiting response... 200 OK\n",
      "Length: 173921 (170K) [image/jpeg]\n",
      "Saving to: 'photo_20161207_105612.jpg'\n",
      "\n",
      "photo_20161207_1056 100%[===================>] 169.84K  --.-KB/s    in 0.001s  \n",
      "\n",
      "2016-12-09 12:24:42 (305 MB/s) - 'photo_20161207_105612.jpg' saved [173921/173921]\n",
      "\n",
      "--2016-12-09 12:24:42--  http://mobile311.sfgov.org/media/san_francisco/report/photos/58485b0d3da19793c74c27c0/photo_20161207_105448.jpg\n",
      "Reusing existing connection to mobile311.sfgov.org:80.\n",
      "HTTP request sent, awaiting response... 200 OK\n",
      "Length: 326830 (319K) [image/jpeg]\n",
      "Saving to: 'photo_20161207_105448.jpg'\n",
      "\n",
      "photo_20161207_1054 100%[===================>] 319.17K  --.-KB/s    in 0.001s  \n",
      "\n",
      "2016-12-09 12:24:42 (350 MB/s) - 'photo_20161207_105448.jpg' saved [326830/326830]\n",
      "\n",
      "--2016-12-09 12:24:42--  http://mobile311.sfgov.org/media/san_francisco/report/photos/58485a023da19793c74c2777/photo_20161207_105020.jpg\n",
      "Reusing existing connection to mobile311.sfgov.org:80.\n",
      "HTTP request sent, awaiting response... 200 OK\n",
      "Length: 228886 (224K) [image/jpeg]\n",
      "Saving to: 'photo_20161207_105020.jpg'\n",
      "\n",
      "photo_20161207_1050 100%[===================>] 223.52K  --.-KB/s    in 0.001s  \n",
      "\n",
      "2016-12-09 12:24:42 (396 MB/s) - 'photo_20161207_105020.jpg' saved [228886/228886]\n",
      "\n",
      "--2016-12-09 12:24:42--  http://mobile311.sfgov.org/media/san_francisco/report/photos/5848599d3da19793c74c276b/photo_20161207_104842.jpg\n",
      "Reusing existing connection to mobile311.sfgov.org:80.\n",
      "HTTP request sent, awaiting response... 200 OK\n",
      "Length: 297153 (290K) [image/jpeg]\n",
      "Saving to: 'photo_20161207_104842.jpg'\n",
      "\n",
      "photo_20161207_1048 100%[===================>] 290.19K  --.-KB/s    in 0.001s  \n",
      "\n",
      "2016-12-09 12:24:42 (343 MB/s) - 'photo_20161207_104842.jpg' saved [297153/297153]\n",
      "\n",
      "--2016-12-09 12:24:42--  http://mobile311.sfgov.org/media/san_francisco/report/photos/5848595a3da19793c74c2736/report.jpg\n",
      "Reusing existing connection to mobile311.sfgov.org:80.\n",
      "HTTP request sent, awaiting response... 200 OK\n",
      "Length: 468760 (458K) [image/jpeg]\n",
      "Saving to: 'report.jpg.24'\n",
      "\n",
      "report.jpg.24       100%[===================>] 457.77K  --.-KB/s    in 0.002s  \n",
      "\n",
      "2016-12-09 12:24:42 (228 MB/s) - 'report.jpg.24' saved [468760/468760]\n",
      "\n",
      "--2016-12-09 12:24:42--  http://mobile311.sfgov.org/media/san_francisco/report/photos/584859243da19793c74c2729/photo_20161207_104632.jpg\n",
      "Reusing existing connection to mobile311.sfgov.org:80.\n",
      "HTTP request sent, awaiting response... 200 OK\n",
      "Length: 244437 (239K) [image/jpeg]\n",
      "Saving to: 'photo_20161207_104632.jpg'\n",
      "\n",
      "photo_20161207_1046 100%[===================>] 238.71K  --.-KB/s    in 0.001s  \n",
      "\n",
      "2016-12-09 12:24:42 (364 MB/s) - 'photo_20161207_104632.jpg' saved [244437/244437]\n",
      "\n",
      "--2016-12-09 12:24:42--  http://mobile311.sfgov.org/media/san_francisco/report/photos/5848584b3da19793c74c26da/report.jpg\n",
      "Reusing existing connection to mobile311.sfgov.org:80.\n",
      "HTTP request sent, awaiting response... 200 OK\n",
      "Length: 522253 (510K) [image/jpeg]\n",
      "Saving to: 'report.jpg.25'\n",
      "\n",
      "report.jpg.25       100%[===================>] 510.01K  --.-KB/s    in 0.002s  \n",
      "\n",
      "2016-12-09 12:24:42 (324 MB/s) - 'report.jpg.25' saved [522253/522253]\n",
      "\n",
      "--2016-12-09 12:24:42--  http://mobile311.sfgov.org/media/san_francisco/report/photos/584857d73da19793c74c26be/photo_20161207_104111.jpg\n",
      "Reusing existing connection to mobile311.sfgov.org:80.\n",
      "HTTP request sent, awaiting response... 200 OK\n",
      "Length: 185294 (181K) [image/jpeg]\n",
      "Saving to: 'photo_20161207_104111.jpg'\n",
      "\n",
      "photo_20161207_1041 100%[===================>] 180.95K  --.-KB/s    in 0s      \n",
      "\n",
      "2016-12-09 12:24:43 (396 MB/s) - 'photo_20161207_104111.jpg' saved [185294/185294]\n",
      "\n",
      "--2016-12-09 12:24:43--  http://mobile311.sfgov.org/media/san_francisco/report/photos/5848554c3da19793c74c25b5/report.jpg\n",
      "Reusing existing connection to mobile311.sfgov.org:80.\n",
      "HTTP request sent, awaiting response... 200 OK\n",
      "Length: 415025 (405K) [image/jpeg]\n",
      "Saving to: 'report.jpg.26'\n",
      "\n",
      "report.jpg.26       100%[===================>] 405.30K  --.-KB/s    in 0.001s  \n",
      "\n",
      "2016-12-09 12:24:43 (401 MB/s) - 'report.jpg.26' saved [415025/415025]\n",
      "\n",
      "--2016-12-09 12:24:43--  http://mobile311.sfgov.org/media/san_francisco/report/photos/584854913da19793c74c2575/report.jpg\n",
      "Reusing existing connection to mobile311.sfgov.org:80.\n",
      "HTTP request sent, awaiting response... 200 OK\n",
      "Length: 572303 (559K) [image/jpeg]\n",
      "Saving to: 'report.jpg.27'\n",
      "\n",
      "report.jpg.27       100%[===================>] 558.89K  --.-KB/s    in 0.002s  \n",
      "\n",
      "2016-12-09 12:24:43 (297 MB/s) - 'report.jpg.27' saved [572303/572303]\n",
      "\n",
      "--2016-12-09 12:24:43--  http://mobile311.sfgov.org/media/san_francisco/report/photos/5848548c3da19793c74c255d/report.jpg\n",
      "Reusing existing connection to mobile311.sfgov.org:80.\n",
      "HTTP request sent, awaiting response... 200 OK\n",
      "Length: 327377 (320K) [image/jpeg]\n",
      "Saving to: 'report.jpg.28'\n",
      "\n",
      "report.jpg.28       100%[===================>] 319.70K  --.-KB/s    in 0.001s  \n",
      "\n",
      "2016-12-09 12:24:43 (380 MB/s) - 'report.jpg.28' saved [327377/327377]\n",
      "\n",
      "--2016-12-09 12:24:43--  http://mobile311.sfgov.org/media/san_francisco/report/photos/5848545b3da19793c74c254c/photo_20161207_102558.jpg\n",
      "Reusing existing connection to mobile311.sfgov.org:80.\n",
      "HTTP request sent, awaiting response... 200 OK\n",
      "Length: 196219 (192K) [image/jpeg]\n",
      "Saving to: 'photo_20161207_102558.jpg'\n",
      "\n",
      "photo_20161207_1025 100%[===================>] 191.62K  --.-KB/s    in 0.001s  \n",
      "\n",
      "2016-12-09 12:24:43 (144 MB/s) - 'photo_20161207_102558.jpg' saved [196219/196219]\n",
      "\n",
      "--2016-12-09 12:24:43--  http://mobile311.sfgov.org/media/san_francisco/report/photos/584851933da19793c74c247b/photo_20161207_101422.jpg\n",
      "Reusing existing connection to mobile311.sfgov.org:80.\n",
      "HTTP request sent, awaiting response... 200 OK\n",
      "Length: 239287 (234K) [image/jpeg]\n",
      "Saving to: 'photo_20161207_101422.jpg'\n",
      "\n",
      "photo_20161207_1014 100%[===================>] 233.68K  --.-KB/s    in 0.003s  \n",
      "\n",
      "2016-12-09 12:24:43 (86.7 MB/s) - 'photo_20161207_101422.jpg' saved [239287/239287]\n",
      "\n",
      "--2016-12-09 12:24:43--  http://mobile311.sfgov.org/media/san_francisco/report/photos/584851743da19793c74c2471/report.jpg\n",
      "Reusing existing connection to mobile311.sfgov.org:80.\n",
      "HTTP request sent, awaiting response... 200 OK\n",
      "Length: 183440 (179K) [image/jpeg]\n",
      "Saving to: 'report.jpg.29'\n",
      "\n",
      "report.jpg.29       100%[===================>] 179.14K  --.-KB/s    in 0s      \n",
      "\n",
      "2016-12-09 12:24:43 (384 MB/s) - 'report.jpg.29' saved [183440/183440]\n",
      "\n",
      "--2016-12-09 12:24:43--  http://mobile311.sfgov.org/media/san_francisco/report/photos/584838513da19793c74c1e02/photo_20161207_082629.jpg\n",
      "Reusing existing connection to mobile311.sfgov.org:80.\n",
      "HTTP request sent, awaiting response... 200 OK\n",
      "Length: 96432 (94K) [image/jpeg]\n",
      "Saving to: 'photo_20161207_082629.jpg'\n",
      "\n",
      "photo_20161207_0826 100%[===================>]  94.17K  --.-KB/s    in 0s      \n",
      "\n",
      "2016-12-09 12:24:43 (392 MB/s) - 'photo_20161207_082629.jpg' saved [96432/96432]\n",
      "\n",
      "--2016-12-09 12:24:43--  http://mobile311.sfgov.org/media/san_francisco/report/photos/5848516b3da19793c74c2465/report.jpg\n",
      "Reusing existing connection to mobile311.sfgov.org:80.\n",
      "HTTP request sent, awaiting response... 200 OK\n",
      "Length: 413236 (404K) [image/jpeg]\n",
      "Saving to: 'report.jpg.30'\n",
      "\n",
      "report.jpg.30       100%[===================>] 403.55K  --.-KB/s    in 0.004s  \n",
      "\n",
      "2016-12-09 12:24:43 (111 MB/s) - 'report.jpg.30' saved [413236/413236]\n",
      "\n",
      "--2016-12-09 12:24:43--  http://mobile311.sfgov.org/media/san_francisco/report/photos/584851293da19793c74c2443/report.jpg\n",
      "Reusing existing connection to mobile311.sfgov.org:80.\n",
      "HTTP request sent, awaiting response... 200 OK\n",
      "Length: 422630 (413K) [image/jpeg]\n",
      "Saving to: 'report.jpg.31'\n",
      "\n",
      "report.jpg.31       100%[===================>] 412.72K  --.-KB/s    in 0.002s  \n",
      "\n",
      "2016-12-09 12:24:43 (246 MB/s) - 'report.jpg.31' saved [422630/422630]\n",
      "\n",
      "--2016-12-09 12:24:43--  http://mobile311.sfgov.org/media/san_francisco/report/photos/584851093da19793c74c2439/report.jpg\n",
      "Reusing existing connection to mobile311.sfgov.org:80.\n",
      "HTTP request sent, awaiting response... 200 OK\n",
      "Length: 298425 (291K) [image/jpeg]\n",
      "Saving to: 'report.jpg.32'\n",
      "\n",
      "report.jpg.32       100%[===================>] 291.43K  --.-KB/s    in 0.001s  \n",
      "\n",
      "2016-12-09 12:24:43 (298 MB/s) - 'report.jpg.32' saved [298425/298425]\n",
      "\n",
      "FINISHED --2016-12-09 12:24:43--\n",
      "Total wall clock time: 4.1s\n",
      "Downloaded: 80 files, 17M in 0.4s (47.0 MB/s)\n",
      "/home/gdillon/JupyterPractice/graffiti_SF311\n"
     ]
    }
   ],
   "source": [
    "\n",
    "%cd assets/\n",
    "!wget -i ../imagelist.txt\n",
    "\n",
    "!sleep 30\n",
    "#%ls | gawk 'BEGIN{ a=1 }{ printf \"mv \\\"%s\\\" %04d.jpg\\n\", $0, a++ }' | bash\n",
    "#!sleep 10\n",
    "#!convert -delay 50 *.jpg out.mp4\n",
    "%cd ..\n"
   ]
  },
  {
   "cell_type": "code",
   "execution_count": 26,
   "metadata": {
    "collapsed": false,
    "scrolled": true
   },
   "outputs": [],
   "source": [
    "#!convert -delay 50 *.jpg out.mp4\n"
   ]
  },
  {
   "cell_type": "code",
   "execution_count": 27,
   "metadata": {
    "collapsed": false
   },
   "outputs": [
    {
     "name": "stdout",
     "output_type": "stream",
     "text": [
      "San+Fran +Graffiti pull one day.ipynb\t assets\t\tpipevid.sh\r\n",
      "San+Francisco+Graffiti with Video.ipynb  imagelist.txt\r\n"
     ]
    }
   ],
   "source": [
    "!ls\n"
   ]
  },
  {
   "cell_type": "code",
   "execution_count": 28,
   "metadata": {
    "collapsed": false
   },
   "outputs": [
    {
     "data": {
      "image/png": "report2.jpg",
      "text/plain": [
       "<IPython.core.display.Image object>"
      ]
     },
     "execution_count": 28,
     "metadata": {},
     "output_type": "execute_result"
    }
   ],
   "source": [
    "Image('report2.jpg')"
   ]
  },
  {
   "cell_type": "code",
   "execution_count": null,
   "metadata": {
    "collapsed": true
   },
   "outputs": [],
   "source": []
  },
  {
   "cell_type": "code",
   "execution_count": null,
   "metadata": {
    "collapsed": true
   },
   "outputs": [],
   "source": []
  },
  {
   "cell_type": "code",
   "execution_count": null,
   "metadata": {
    "collapsed": true
   },
   "outputs": [],
   "source": []
  },
  {
   "cell_type": "code",
   "execution_count": null,
   "metadata": {
    "collapsed": true
   },
   "outputs": [],
   "source": []
  },
  {
   "cell_type": "code",
   "execution_count": null,
   "metadata": {
    "collapsed": true
   },
   "outputs": [],
   "source": []
  }
 ],
 "metadata": {
  "kernelspec": {
   "display_name": "Python 3",
   "language": "python",
   "name": "python3"
  },
  "language_info": {
   "codemirror_mode": {
    "name": "ipython",
    "version": 3
   },
   "file_extension": ".py",
   "mimetype": "text/x-python",
   "name": "python",
   "nbconvert_exporter": "python",
   "pygments_lexer": "ipython3",
   "version": "3.5.2"
  }
 },
 "nbformat": 4,
 "nbformat_minor": 1
}
