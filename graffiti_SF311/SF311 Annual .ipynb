{
 "cells": [
  {
   "cell_type": "markdown",
   "metadata": {},
   "source": [
    "# Annual"
   ]
  },
  {
   "cell_type": "markdown",
   "metadata": {},
   "source": [
    "# Make Sure the modules are installed\n",
    "\n"
   ]
  },
  {
   "cell_type": "code",
   "execution_count": null,
   "metadata": {
    "collapsed": true
   },
   "outputs": [],
   "source": []
  },
  {
   "cell_type": "markdown",
   "metadata": {},
   "source": [
    "# Import modules"
   ]
  },
  {
   "cell_type": "code",
   "execution_count": 13,
   "metadata": {
    "collapsed": false
   },
   "outputs": [],
   "source": [
    "%matplotlib inline\n",
    "import numpy as np\n",
    "import pandas as pd\n",
    "import matplotlib.pyplot as plt\n",
    "\n"
   ]
  },
  {
   "cell_type": "code",
   "execution_count": 14,
   "metadata": {
    "collapsed": false
   },
   "outputs": [
    {
     "name": "stdout",
     "output_type": "stream",
     "text": [
      "/home/gdillon/JupyterPractice/graffiti_SF311\r\n"
     ]
    }
   ],
   "source": [
    "!pwd"
   ]
  },
  {
   "cell_type": "markdown",
   "metadata": {
    "collapsed": true
   },
   "source": [
    "# produce viz of annual total 2009-2016\n",
    "because I'm using SQL type queery with count(*), this responds faster"
   ]
  },
  {
   "cell_type": "markdown",
   "metadata": {},
   "source": [
    "## api call for count of all by year"
   ]
  },
  {
   "cell_type": "code",
   "execution_count": 15,
   "metadata": {
    "collapsed": true
   },
   "outputs": [],
   "source": [
    "url = 'https://data.sfgov.org/resource/qer8-n8u9.csv?$select=date_trunc_y(opened)as%20year,%20count(*)&$order=year&$group=year'"
   ]
  },
  {
   "cell_type": "code",
   "execution_count": 16,
   "metadata": {
    "collapsed": false
   },
   "outputs": [
    {
     "data": {
      "text/html": [
       "<div>\n",
       "<table border=\"1\" class=\"dataframe\">\n",
       "  <thead>\n",
       "    <tr style=\"text-align: right;\">\n",
       "      <th></th>\n",
       "      <th>year</th>\n",
       "      <th>count</th>\n",
       "    </tr>\n",
       "  </thead>\n",
       "  <tbody>\n",
       "    <tr>\n",
       "      <th>1</th>\n",
       "      <td>01/01/2009 12:00:00 AM</td>\n",
       "      <td>32285</td>\n",
       "    </tr>\n",
       "    <tr>\n",
       "      <th>2</th>\n",
       "      <td>01/01/2010 12:00:00 AM</td>\n",
       "      <td>26769</td>\n",
       "    </tr>\n",
       "    <tr>\n",
       "      <th>3</th>\n",
       "      <td>01/01/2011 12:00:00 AM</td>\n",
       "      <td>25445</td>\n",
       "    </tr>\n",
       "    <tr>\n",
       "      <th>4</th>\n",
       "      <td>01/01/2012 12:00:00 AM</td>\n",
       "      <td>26254</td>\n",
       "    </tr>\n",
       "    <tr>\n",
       "      <th>5</th>\n",
       "      <td>01/01/2013 12:00:00 AM</td>\n",
       "      <td>35831</td>\n",
       "    </tr>\n",
       "    <tr>\n",
       "      <th>6</th>\n",
       "      <td>01/01/2014 12:00:00 AM</td>\n",
       "      <td>46808</td>\n",
       "    </tr>\n",
       "    <tr>\n",
       "      <th>7</th>\n",
       "      <td>01/01/2015 12:00:00 AM</td>\n",
       "      <td>57249</td>\n",
       "    </tr>\n",
       "    <tr>\n",
       "      <th>8</th>\n",
       "      <td>01/01/2016 12:00:00 AM</td>\n",
       "      <td>71651</td>\n",
       "    </tr>\n",
       "  </tbody>\n",
       "</table>\n",
       "</div>"
      ],
      "text/plain": [
       "                     year  count\n",
       "1  01/01/2009 12:00:00 AM  32285\n",
       "2  01/01/2010 12:00:00 AM  26769\n",
       "3  01/01/2011 12:00:00 AM  25445\n",
       "4  01/01/2012 12:00:00 AM  26254\n",
       "5  01/01/2013 12:00:00 AM  35831\n",
       "6  01/01/2014 12:00:00 AM  46808\n",
       "7  01/01/2015 12:00:00 AM  57249\n",
       "8  01/01/2016 12:00:00 AM  71651"
      ]
     },
     "execution_count": 16,
     "metadata": {},
     "output_type": "execute_result"
    }
   ],
   "source": [
    "df = pd.read_csv(url)\n",
    "df = df[1:]\n",
    "df"
   ]
  },
  {
   "cell_type": "code",
   "execution_count": 5,
   "metadata": {
    "collapsed": false
   },
   "outputs": [
    {
     "name": "stderr",
     "output_type": "stream",
     "text": [
      "/home/gdillon/.local/lib/python3.5/site-packages/ipykernel/__main__.py:1: FutureWarning: currently extract(expand=None) means expand=False (return Index/Series/DataFrame) but in a future version of pandas this will be changed to expand=True (return DataFrame)\n",
      "  if __name__ == '__main__':\n"
     ]
    },
    {
     "data": {
      "text/plain": [
       "1    2009\n",
       "2    2010\n",
       "3    2011\n",
       "4    2012\n",
       "5    2013\n",
       "6    2014\n",
       "7    2015\n",
       "8    2016\n",
       "Name: year, dtype: int64"
      ]
     },
     "execution_count": 5,
     "metadata": {},
     "output_type": "execute_result"
    }
   ],
   "source": [
    "df['year'].str.extract('(?P<year>\\d{4})').astype(int)\n"
   ]
  },
  {
   "cell_type": "code",
   "execution_count": 6,
   "metadata": {
    "collapsed": false
   },
   "outputs": [
    {
     "name": "stdout",
     "output_type": "stream",
     "text": [
      "['2009', '2010', '2011', '2012', '2013', '2014', '2015', '2016']\n",
      "[32285, 26769, 25445, 26254, 35831, 46808, 57249, 71559]\n"
     ]
    },
    {
     "name": "stderr",
     "output_type": "stream",
     "text": [
      "/home/gdillon/.local/lib/python3.5/site-packages/ipykernel/__main__.py:1: FutureWarning: currently extract(expand=None) means expand=False (return Index/Series/DataFrame) but in a future version of pandas this will be changed to expand=True (return DataFrame)\n",
      "  if __name__ == '__main__':\n"
     ]
    }
   ],
   "source": [
    "df['year']=df['year'].str.extract('(?P<year>\\d{4})').astype(str)\n",
    "df['count']=df['count'].astype(int)\n",
    "years = df['year'].tolist()\n",
    "print(years)\n",
    "srn = df['count'].tolist()\n",
    "print(srn)\n"
   ]
  },
  {
   "cell_type": "code",
   "execution_count": 7,
   "metadata": {
    "collapsed": false
   },
   "outputs": [
    {
     "data": {
      "text/plain": [
       "<Container object of 8 artists>"
      ]
     },
     "execution_count": 7,
     "metadata": {},
     "output_type": "execute_result"
    },
    {
     "data": {
      "image/png": "[encoded data removed]",
      "text/plain": [
       "<matplotlib.figure.Figure at 0x7f7cd9804b38>"
      ]
     },
     "metadata": {},
     "output_type": "display_data"
    }
   ],
   "source": [
    "import matplotlib.pyplot as plt\n",
    "\n",
    "\n",
    "#x = range(N)\n",
    "width = 1/1.5\n",
    "plt.bar(years, srn )\n"
   ]
  },
  {
   "cell_type": "code",
   "execution_count": 8,
   "metadata": {
    "collapsed": false
   },
   "outputs": [
    {
     "data": {
      "text/html": [
       "<div>\n",
       "<table border=\"1\" class=\"dataframe\">\n",
       "  <thead>\n",
       "    <tr style=\"text-align: right;\">\n",
       "      <th></th>\n",
       "      <th>year</th>\n",
       "      <th>count</th>\n",
       "    </tr>\n",
       "  </thead>\n",
       "  <tbody>\n",
       "    <tr>\n",
       "      <th>4</th>\n",
       "      <td>2012</td>\n",
       "      <td>26254</td>\n",
       "    </tr>\n",
       "    <tr>\n",
       "      <th>5</th>\n",
       "      <td>2013</td>\n",
       "      <td>35831</td>\n",
       "    </tr>\n",
       "    <tr>\n",
       "      <th>6</th>\n",
       "      <td>2014</td>\n",
       "      <td>46808</td>\n",
       "    </tr>\n",
       "    <tr>\n",
       "      <th>7</th>\n",
       "      <td>2015</td>\n",
       "      <td>57249</td>\n",
       "    </tr>\n",
       "    <tr>\n",
       "      <th>8</th>\n",
       "      <td>2016</td>\n",
       "      <td>71559</td>\n",
       "    </tr>\n",
       "  </tbody>\n",
       "</table>\n",
       "</div>"
      ],
      "text/plain": [
       "   year  count\n",
       "4  2012  26254\n",
       "5  2013  35831\n",
       "6  2014  46808\n",
       "7  2015  57249\n",
       "8  2016  71559"
      ]
     },
     "execution_count": 8,
     "metadata": {},
     "output_type": "execute_result"
    }
   ],
   "source": [
    "df = df[3:]\n",
    "df"
   ]
  },
  {
   "cell_type": "code",
   "execution_count": 9,
   "metadata": {
    "collapsed": false
   },
   "outputs": [
    {
     "name": "stdout",
     "output_type": "stream",
     "text": [
      "['2012', '2013', '2014', '2015', '2016']\n",
      "[26254, 35831, 46808, 57249, 71559]\n"
     ]
    },
    {
     "data": {
      "text/plain": [
       "<Container object of 5 artists>"
      ]
     },
     "execution_count": 9,
     "metadata": {},
     "output_type": "execute_result"
    },
    {
     "data": {
      "image/png": "[encoded data removed]",
      "text/plain": [
       "<matplotlib.figure.Figure at 0x7f7cd933c358>"
      ]
     },
     "metadata": {},
     "output_type": "display_data"
    }
   ],
   "source": [
    "\n",
    "years = df['year'].tolist()\n",
    "print(years)\n",
    "srn = df['count'].tolist()\n",
    "print(srn)\n",
    "width = 1/1.5\n",
    "plt.bar(years, srn )"
   ]
  },
  {
   "cell_type": "code",
   "execution_count": null,
   "metadata": {
    "collapsed": true
   },
   "outputs": [],
   "source": []
  },
  {
   "cell_type": "code",
   "execution_count": null,
   "metadata": {
    "collapsed": true
   },
   "outputs": [],
   "source": []
  },
  {
   "cell_type": "code",
   "execution_count": null,
   "metadata": {
    "collapsed": true
   },
   "outputs": [],
   "source": []
  },
  {
   "cell_type": "code",
   "execution_count": null,
   "metadata": {
    "collapsed": true
   },
   "outputs": [],
   "source": []
  },
  {
   "cell_type": "code",
   "execution_count": null,
   "metadata": {
    "collapsed": true
   },
   "outputs": [],
   "source": []
  },
  {
   "cell_type": "code",
   "execution_count": 10,
   "metadata": {
    "collapsed": true
   },
   "outputs": [],
   "source": [
    "url = 'https://data.sfgov.org/resource/qer8-n8u9.csv?$select=source,date_trunc_y(opened)as%20year,%20count(*)&$order=year&$group=year,source'"
   ]
  },
  {
   "cell_type": "code",
   "execution_count": 11,
   "metadata": {
    "collapsed": false
   },
   "outputs": [
    {
     "name": "stdout",
     "output_type": "stream",
     "text": [
      "https://data.sfgov.org/resource/qer8-n8u9.csv?$select=source,date_trunc_y(opened)as%20year,%20count(*)&$order=year&$group=year,source\n"
     ]
    }
   ],
   "source": [
    "print(url)"
   ]
  },
  {
   "cell_type": "code",
   "execution_count": 12,
   "metadata": {
    "collapsed": false
   },
   "outputs": [
    {
     "data": {
      "text/html": [
       "<div>\n",
       "<table border=\"1\" class=\"dataframe\">\n",
       "  <thead>\n",
       "    <tr style=\"text-align: right;\">\n",
       "      <th></th>\n",
       "      <th>Source</th>\n",
       "      <th>year</th>\n",
       "      <th>count</th>\n",
       "    </tr>\n",
       "  </thead>\n",
       "  <tbody>\n",
       "    <tr>\n",
       "      <th>18</th>\n",
       "      <td>Open311</td>\n",
       "      <td>01/01/2013 12:00:00 AM</td>\n",
       "      <td>4030</td>\n",
       "    </tr>\n",
       "    <tr>\n",
       "      <th>19</th>\n",
       "      <td>Integrated Agency</td>\n",
       "      <td>01/01/2013 12:00:00 AM</td>\n",
       "      <td>9666</td>\n",
       "    </tr>\n",
       "    <tr>\n",
       "      <th>20</th>\n",
       "      <td>Voice In</td>\n",
       "      <td>01/01/2013 12:00:00 AM</td>\n",
       "      <td>9293</td>\n",
       "    </tr>\n",
       "    <tr>\n",
       "      <th>21</th>\n",
       "      <td>Web Self Service</td>\n",
       "      <td>01/01/2013 12:00:00 AM</td>\n",
       "      <td>11330</td>\n",
       "    </tr>\n",
       "    <tr>\n",
       "      <th>22</th>\n",
       "      <td>Twitter</td>\n",
       "      <td>01/01/2013 12:00:00 AM</td>\n",
       "      <td>1512</td>\n",
       "    </tr>\n",
       "    <tr>\n",
       "      <th>23</th>\n",
       "      <td>NaN</td>\n",
       "      <td>01/01/2014 12:00:00 AM</td>\n",
       "      <td>5</td>\n",
       "    </tr>\n",
       "    <tr>\n",
       "      <th>24</th>\n",
       "      <td>Open311</td>\n",
       "      <td>01/01/2014 12:00:00 AM</td>\n",
       "      <td>19813</td>\n",
       "    </tr>\n",
       "    <tr>\n",
       "      <th>25</th>\n",
       "      <td>Twitter</td>\n",
       "      <td>01/01/2014 12:00:00 AM</td>\n",
       "      <td>2227</td>\n",
       "    </tr>\n",
       "    <tr>\n",
       "      <th>26</th>\n",
       "      <td>Web Self Service</td>\n",
       "      <td>01/01/2014 12:00:00 AM</td>\n",
       "      <td>11769</td>\n",
       "    </tr>\n",
       "    <tr>\n",
       "      <th>27</th>\n",
       "      <td>Integrated Agency</td>\n",
       "      <td>01/01/2014 12:00:00 AM</td>\n",
       "      <td>5493</td>\n",
       "    </tr>\n",
       "    <tr>\n",
       "      <th>28</th>\n",
       "      <td>Voice In</td>\n",
       "      <td>01/01/2014 12:00:00 AM</td>\n",
       "      <td>7501</td>\n",
       "    </tr>\n",
       "    <tr>\n",
       "      <th>29</th>\n",
       "      <td>Other Department</td>\n",
       "      <td>01/01/2015 12:00:00 AM</td>\n",
       "      <td>6</td>\n",
       "    </tr>\n",
       "    <tr>\n",
       "      <th>30</th>\n",
       "      <td>Open311</td>\n",
       "      <td>01/01/2015 12:00:00 AM</td>\n",
       "      <td>38732</td>\n",
       "    </tr>\n",
       "    <tr>\n",
       "      <th>31</th>\n",
       "      <td>Voice In</td>\n",
       "      <td>01/01/2015 12:00:00 AM</td>\n",
       "      <td>5636</td>\n",
       "    </tr>\n",
       "    <tr>\n",
       "      <th>32</th>\n",
       "      <td>Twitter</td>\n",
       "      <td>01/01/2015 12:00:00 AM</td>\n",
       "      <td>202</td>\n",
       "    </tr>\n",
       "    <tr>\n",
       "      <th>33</th>\n",
       "      <td>Integrated Agency</td>\n",
       "      <td>01/01/2015 12:00:00 AM</td>\n",
       "      <td>8530</td>\n",
       "    </tr>\n",
       "    <tr>\n",
       "      <th>34</th>\n",
       "      <td>Web Self Service</td>\n",
       "      <td>01/01/2015 12:00:00 AM</td>\n",
       "      <td>4143</td>\n",
       "    </tr>\n",
       "    <tr>\n",
       "      <th>35</th>\n",
       "      <td>Twitter</td>\n",
       "      <td>01/01/2016 12:00:00 AM</td>\n",
       "      <td>194</td>\n",
       "    </tr>\n",
       "    <tr>\n",
       "      <th>36</th>\n",
       "      <td>Integrated Agency</td>\n",
       "      <td>01/01/2016 12:00:00 AM</td>\n",
       "      <td>7951</td>\n",
       "    </tr>\n",
       "    <tr>\n",
       "      <th>37</th>\n",
       "      <td>Voice In</td>\n",
       "      <td>01/01/2016 12:00:00 AM</td>\n",
       "      <td>4329</td>\n",
       "    </tr>\n",
       "    <tr>\n",
       "      <th>38</th>\n",
       "      <td>Web Self Service</td>\n",
       "      <td>01/01/2016 12:00:00 AM</td>\n",
       "      <td>4541</td>\n",
       "    </tr>\n",
       "    <tr>\n",
       "      <th>39</th>\n",
       "      <td>Open311</td>\n",
       "      <td>01/01/2016 12:00:00 AM</td>\n",
       "      <td>54544</td>\n",
       "    </tr>\n",
       "  </tbody>\n",
       "</table>\n",
       "</div>"
      ],
      "text/plain": [
       "               Source                    year  count\n",
       "18            Open311  01/01/2013 12:00:00 AM   4030\n",
       "19  Integrated Agency  01/01/2013 12:00:00 AM   9666\n",
       "20           Voice In  01/01/2013 12:00:00 AM   9293\n",
       "21   Web Self Service  01/01/2013 12:00:00 AM  11330\n",
       "22            Twitter  01/01/2013 12:00:00 AM   1512\n",
       "23                NaN  01/01/2014 12:00:00 AM      5\n",
       "24            Open311  01/01/2014 12:00:00 AM  19813\n",
       "25            Twitter  01/01/2014 12:00:00 AM   2227\n",
       "26   Web Self Service  01/01/2014 12:00:00 AM  11769\n",
       "27  Integrated Agency  01/01/2014 12:00:00 AM   5493\n",
       "28           Voice In  01/01/2014 12:00:00 AM   7501\n",
       "29   Other Department  01/01/2015 12:00:00 AM      6\n",
       "30            Open311  01/01/2015 12:00:00 AM  38732\n",
       "31           Voice In  01/01/2015 12:00:00 AM   5636\n",
       "32            Twitter  01/01/2015 12:00:00 AM    202\n",
       "33  Integrated Agency  01/01/2015 12:00:00 AM   8530\n",
       "34   Web Self Service  01/01/2015 12:00:00 AM   4143\n",
       "35            Twitter  01/01/2016 12:00:00 AM    194\n",
       "36  Integrated Agency  01/01/2016 12:00:00 AM   7951\n",
       "37           Voice In  01/01/2016 12:00:00 AM   4329\n",
       "38   Web Self Service  01/01/2016 12:00:00 AM   4541\n",
       "39            Open311  01/01/2016 12:00:00 AM  54544"
      ]
     },
     "execution_count": 12,
     "metadata": {},
     "output_type": "execute_result"
    }
   ],
   "source": [
    "df=pd.read_csv(url)\n",
    "df=df[18:]\n",
    "df"
   ]
  },
  {
   "cell_type": "code",
   "execution_count": 13,
   "metadata": {
    "collapsed": false
   },
   "outputs": [
    {
     "ename": "AttributeError",
     "evalue": "'DataFrame' object has no attribute 'source'",
     "output_type": "error",
     "traceback": [
      "\u001b[0;31m---------------------------------------------------------------------------\u001b[0m",
      "\u001b[0;31mAttributeError\u001b[0m                            Traceback (most recent call last)",
      "\u001b[0;32m<ipython-input-13-dce0765d8ccd>\u001b[0m in \u001b[0;36m<module>\u001b[0;34m()\u001b[0m\n\u001b[0;32m----> 1\u001b[0;31m \u001b[0mpd\u001b[0m\u001b[0;34m.\u001b[0m\u001b[0mcrosstab\u001b[0m\u001b[0;34m(\u001b[0m\u001b[0mdf\u001b[0m\u001b[0;34m.\u001b[0m\u001b[0msource\u001b[0m\u001b[0;34m,\u001b[0m \u001b[0mdf\u001b[0m\u001b[0;34m.\u001b[0m\u001b[0mTwitter\u001b[0m\u001b[0;34m,\u001b[0m \u001b[0mmargins\u001b[0m\u001b[0;34m=\u001b[0m\u001b[0;32mTrue\u001b[0m\u001b[0;34m)\u001b[0m\u001b[0;34m\u001b[0m\u001b[0m\n\u001b[0m",
      "\u001b[0;32m/home/gdillon/.local/lib/python3.5/site-packages/pandas/core/generic.py\u001b[0m in \u001b[0;36m__getattr__\u001b[0;34m(self, name)\u001b[0m\n\u001b[1;32m   2742\u001b[0m             \u001b[0;32mif\u001b[0m \u001b[0mname\u001b[0m \u001b[0;32min\u001b[0m \u001b[0mself\u001b[0m\u001b[0;34m.\u001b[0m\u001b[0m_info_axis\u001b[0m\u001b[0;34m:\u001b[0m\u001b[0;34m\u001b[0m\u001b[0m\n\u001b[1;32m   2743\u001b[0m                 \u001b[0;32mreturn\u001b[0m \u001b[0mself\u001b[0m\u001b[0;34m[\u001b[0m\u001b[0mname\u001b[0m\u001b[0;34m]\u001b[0m\u001b[0;34m\u001b[0m\u001b[0m\n\u001b[0;32m-> 2744\u001b[0;31m             \u001b[0;32mreturn\u001b[0m \u001b[0mobject\u001b[0m\u001b[0;34m.\u001b[0m\u001b[0m__getattribute__\u001b[0m\u001b[0;34m(\u001b[0m\u001b[0mself\u001b[0m\u001b[0;34m,\u001b[0m \u001b[0mname\u001b[0m\u001b[0;34m)\u001b[0m\u001b[0;34m\u001b[0m\u001b[0m\n\u001b[0m\u001b[1;32m   2745\u001b[0m \u001b[0;34m\u001b[0m\u001b[0m\n\u001b[1;32m   2746\u001b[0m     \u001b[0;32mdef\u001b[0m \u001b[0m__setattr__\u001b[0m\u001b[0;34m(\u001b[0m\u001b[0mself\u001b[0m\u001b[0;34m,\u001b[0m \u001b[0mname\u001b[0m\u001b[0;34m,\u001b[0m \u001b[0mvalue\u001b[0m\u001b[0;34m)\u001b[0m\u001b[0;34m:\u001b[0m\u001b[0;34m\u001b[0m\u001b[0m\n",
      "\u001b[0;31mAttributeError\u001b[0m: 'DataFrame' object has no attribute 'source'"
     ]
    }
   ],
   "source": [
    "pd.crosstab(df.source, df.Twitter, margins=True)\n"
   ]
  },
  {
   "cell_type": "code",
   "execution_count": 14,
   "metadata": {
    "collapsed": false
   },
   "outputs": [
    {
     "name": "stderr",
     "output_type": "stream",
     "text": [
      "/home/gdillon/.local/lib/python3.5/site-packages/ipykernel/__main__.py:3: FutureWarning: currently extract(expand=None) means expand=False (return Index/Series/DataFrame) but in a future version of pandas this will be changed to expand=True (return DataFrame)\n",
      "  app.launch_new_instance()\n"
     ]
    },
    {
     "data": {
      "text/html": [
       "<div>\n",
       "<table border=\"1\" class=\"dataframe\">\n",
       "  <thead>\n",
       "    <tr style=\"text-align: right;\">\n",
       "      <th></th>\n",
       "      <th>Source</th>\n",
       "      <th>year</th>\n",
       "      <th>count</th>\n",
       "    </tr>\n",
       "  </thead>\n",
       "  <tbody>\n",
       "    <tr>\n",
       "      <th>18</th>\n",
       "      <td>Open311</td>\n",
       "      <td>01/01/2013 12:00:00 AM</td>\n",
       "      <td>4030</td>\n",
       "    </tr>\n",
       "    <tr>\n",
       "      <th>19</th>\n",
       "      <td>Integrated Agency</td>\n",
       "      <td>01/01/2013 12:00:00 AM</td>\n",
       "      <td>9666</td>\n",
       "    </tr>\n",
       "    <tr>\n",
       "      <th>20</th>\n",
       "      <td>Voice In</td>\n",
       "      <td>01/01/2013 12:00:00 AM</td>\n",
       "      <td>9293</td>\n",
       "    </tr>\n",
       "    <tr>\n",
       "      <th>21</th>\n",
       "      <td>Web Self Service</td>\n",
       "      <td>01/01/2013 12:00:00 AM</td>\n",
       "      <td>11330</td>\n",
       "    </tr>\n",
       "    <tr>\n",
       "      <th>22</th>\n",
       "      <td>Twitter</td>\n",
       "      <td>01/01/2013 12:00:00 AM</td>\n",
       "      <td>1512</td>\n",
       "    </tr>\n",
       "    <tr>\n",
       "      <th>23</th>\n",
       "      <td>NaN</td>\n",
       "      <td>01/01/2014 12:00:00 AM</td>\n",
       "      <td>5</td>\n",
       "    </tr>\n",
       "    <tr>\n",
       "      <th>24</th>\n",
       "      <td>Open311</td>\n",
       "      <td>01/01/2014 12:00:00 AM</td>\n",
       "      <td>19813</td>\n",
       "    </tr>\n",
       "    <tr>\n",
       "      <th>25</th>\n",
       "      <td>Twitter</td>\n",
       "      <td>01/01/2014 12:00:00 AM</td>\n",
       "      <td>2227</td>\n",
       "    </tr>\n",
       "    <tr>\n",
       "      <th>26</th>\n",
       "      <td>Web Self Service</td>\n",
       "      <td>01/01/2014 12:00:00 AM</td>\n",
       "      <td>11769</td>\n",
       "    </tr>\n",
       "    <tr>\n",
       "      <th>27</th>\n",
       "      <td>Integrated Agency</td>\n",
       "      <td>01/01/2014 12:00:00 AM</td>\n",
       "      <td>5493</td>\n",
       "    </tr>\n",
       "    <tr>\n",
       "      <th>28</th>\n",
       "      <td>Voice In</td>\n",
       "      <td>01/01/2014 12:00:00 AM</td>\n",
       "      <td>7501</td>\n",
       "    </tr>\n",
       "    <tr>\n",
       "      <th>29</th>\n",
       "      <td>Other Department</td>\n",
       "      <td>01/01/2015 12:00:00 AM</td>\n",
       "      <td>6</td>\n",
       "    </tr>\n",
       "    <tr>\n",
       "      <th>30</th>\n",
       "      <td>Open311</td>\n",
       "      <td>01/01/2015 12:00:00 AM</td>\n",
       "      <td>38732</td>\n",
       "    </tr>\n",
       "    <tr>\n",
       "      <th>31</th>\n",
       "      <td>Voice In</td>\n",
       "      <td>01/01/2015 12:00:00 AM</td>\n",
       "      <td>5636</td>\n",
       "    </tr>\n",
       "    <tr>\n",
       "      <th>32</th>\n",
       "      <td>Twitter</td>\n",
       "      <td>01/01/2015 12:00:00 AM</td>\n",
       "      <td>202</td>\n",
       "    </tr>\n",
       "    <tr>\n",
       "      <th>33</th>\n",
       "      <td>Integrated Agency</td>\n",
       "      <td>01/01/2015 12:00:00 AM</td>\n",
       "      <td>8530</td>\n",
       "    </tr>\n",
       "    <tr>\n",
       "      <th>34</th>\n",
       "      <td>Web Self Service</td>\n",
       "      <td>01/01/2015 12:00:00 AM</td>\n",
       "      <td>4143</td>\n",
       "    </tr>\n",
       "    <tr>\n",
       "      <th>35</th>\n",
       "      <td>Twitter</td>\n",
       "      <td>01/01/2016 12:00:00 AM</td>\n",
       "      <td>194</td>\n",
       "    </tr>\n",
       "    <tr>\n",
       "      <th>36</th>\n",
       "      <td>Web Self Service</td>\n",
       "      <td>01/01/2016 12:00:00 AM</td>\n",
       "      <td>4536</td>\n",
       "    </tr>\n",
       "    <tr>\n",
       "      <th>37</th>\n",
       "      <td>Integrated Agency</td>\n",
       "      <td>01/01/2016 12:00:00 AM</td>\n",
       "      <td>7946</td>\n",
       "    </tr>\n",
       "    <tr>\n",
       "      <th>38</th>\n",
       "      <td>Voice In</td>\n",
       "      <td>01/01/2016 12:00:00 AM</td>\n",
       "      <td>4319</td>\n",
       "    </tr>\n",
       "    <tr>\n",
       "      <th>39</th>\n",
       "      <td>Open311</td>\n",
       "      <td>01/01/2016 12:00:00 AM</td>\n",
       "      <td>54393</td>\n",
       "    </tr>\n",
       "  </tbody>\n",
       "</table>\n",
       "</div>"
      ],
      "text/plain": [
       "               Source                    year  count\n",
       "18            Open311  01/01/2013 12:00:00 AM   4030\n",
       "19  Integrated Agency  01/01/2013 12:00:00 AM   9666\n",
       "20           Voice In  01/01/2013 12:00:00 AM   9293\n",
       "21   Web Self Service  01/01/2013 12:00:00 AM  11330\n",
       "22            Twitter  01/01/2013 12:00:00 AM   1512\n",
       "23                NaN  01/01/2014 12:00:00 AM      5\n",
       "24            Open311  01/01/2014 12:00:00 AM  19813\n",
       "25            Twitter  01/01/2014 12:00:00 AM   2227\n",
       "26   Web Self Service  01/01/2014 12:00:00 AM  11769\n",
       "27  Integrated Agency  01/01/2014 12:00:00 AM   5493\n",
       "28           Voice In  01/01/2014 12:00:00 AM   7501\n",
       "29   Other Department  01/01/2015 12:00:00 AM      6\n",
       "30            Open311  01/01/2015 12:00:00 AM  38732\n",
       "31           Voice In  01/01/2015 12:00:00 AM   5636\n",
       "32            Twitter  01/01/2015 12:00:00 AM    202\n",
       "33  Integrated Agency  01/01/2015 12:00:00 AM   8530\n",
       "34   Web Self Service  01/01/2015 12:00:00 AM   4143\n",
       "35            Twitter  01/01/2016 12:00:00 AM    194\n",
       "36   Web Self Service  01/01/2016 12:00:00 AM   4536\n",
       "37  Integrated Agency  01/01/2016 12:00:00 AM   7946\n",
       "38           Voice In  01/01/2016 12:00:00 AM   4319\n",
       "39            Open311  01/01/2016 12:00:00 AM  54393"
      ]
     },
     "execution_count": 14,
     "metadata": {},
     "output_type": "execute_result"
    }
   ],
   "source": [
    "df = pd.read_csv(url)\n",
    "df['count'].astype(int)\n",
    "df['year'].str.extract('(?P<year>\\d{4})').astype(str)\n",
    "df = df[18:]\n",
    "\n",
    "df"
   ]
  },
  {
   "cell_type": "code",
   "execution_count": null,
   "metadata": {
    "collapsed": false
   },
   "outputs": [],
   "source": []
  },
  {
   "cell_type": "code",
   "execution_count": 15,
   "metadata": {
    "collapsed": true
   },
   "outputs": [],
   "source": [
    "x = ['2009','2010','2011','2012','2013','2014','2015','2016']"
   ]
  },
  {
   "cell_type": "code",
   "execution_count": 16,
   "metadata": {
    "collapsed": false
   },
   "outputs": [
    {
     "ename": "NameError",
     "evalue": "name 'y' is not defined",
     "output_type": "error",
     "traceback": [
      "\u001b[0;31m---------------------------------------------------------------------------\u001b[0m",
      "\u001b[0;31mNameError\u001b[0m                                 Traceback (most recent call last)",
      "\u001b[0;32m<ipython-input-16-81624088e924>\u001b[0m in \u001b[0;36m<module>\u001b[0;34m()\u001b[0m\n\u001b[1;32m      7\u001b[0m \u001b[0;31m#x = range(N)\u001b[0m\u001b[0;34m\u001b[0m\u001b[0;34m\u001b[0m\u001b[0m\n\u001b[1;32m      8\u001b[0m \u001b[0;31m#width = 1/1.5\u001b[0m\u001b[0;34m\u001b[0m\u001b[0;34m\u001b[0m\u001b[0m\n\u001b[0;32m----> 9\u001b[0;31m \u001b[0mplt\u001b[0m\u001b[0;34m.\u001b[0m\u001b[0mbar\u001b[0m\u001b[0;34m(\u001b[0m\u001b[0mx\u001b[0m\u001b[0;34m,\u001b[0m \u001b[0my\u001b[0m \u001b[0;34m)\u001b[0m\u001b[0;34m\u001b[0m\u001b[0m\n\u001b[0m\u001b[1;32m     10\u001b[0m \u001b[0;34m\u001b[0m\u001b[0m\n\u001b[1;32m     11\u001b[0m \u001b[0;34m\u001b[0m\u001b[0m\n",
      "\u001b[0;31mNameError\u001b[0m: name 'y' is not defined"
     ]
    }
   ],
   "source": [
    "import matplotlib.pyplot as plt\n",
    "\n",
    "#x = [1,2,3,4,5,6,7,8]\n",
    "#x = ['2008','2009','2010','2011','2012','2013','2014','2015','2016']\n",
    "\n",
    "#N = len(y)\n",
    "#x = range(N)\n",
    "#width = 1/1.5\n",
    "plt.bar(x, y )\n",
    "\n",
    "\n"
   ]
  },
  {
   "cell_type": "markdown",
   "metadata": {
    "collapsed": true
   },
   "source": [
    "#  I'm going to focus on the period from 2013 on because\n",
    "# That's when the upward trend in reports began with the \n",
    "# usage of the mobile app"
   ]
  },
  {
   "cell_type": "code",
   "execution_count": null,
   "metadata": {
    "collapsed": true
   },
   "outputs": [],
   "source": []
  },
  {
   "cell_type": "code",
   "execution_count": null,
   "metadata": {
    "collapsed": true
   },
   "outputs": [],
   "source": []
  },
  {
   "cell_type": "markdown",
   "metadata": {},
   "source": [
    "# Growth in reports (2013 to 2016)"
   ]
  },
  {
   "cell_type": "code",
   "execution_count": null,
   "metadata": {
    "collapsed": true
   },
   "outputs": [],
   "source": []
  },
  {
   "cell_type": "code",
   "execution_count": null,
   "metadata": {
    "collapsed": true
   },
   "outputs": [],
   "source": []
  },
  {
   "cell_type": "code",
   "execution_count": null,
   "metadata": {
    "collapsed": true
   },
   "outputs": [],
   "source": []
  },
  {
   "cell_type": "code",
   "execution_count": null,
   "metadata": {
    "collapsed": true
   },
   "outputs": [],
   "source": []
  },
  {
   "cell_type": "code",
   "execution_count": 17,
   "metadata": {
    "collapsed": false
   },
   "outputs": [
    {
     "name": "stdout",
     "output_type": "stream",
     "text": [
      "2016-12-17\r\n"
     ]
    }
   ],
   "source": [
    "!date -d \"1 week ago 13:00\" '+%Y-%m-%d'"
   ]
  },
  {
   "cell_type": "markdown",
   "metadata": {},
   "source": [
    "This year and last year work"
   ]
  },
  {
   "cell_type": "code",
   "execution_count": 18,
   "metadata": {
    "collapsed": false
   },
   "outputs": [],
   "source": [
    "annum = !date -d \"this year 13:00\" '+%Y-01-01'\n",
    "onorafter = str(annum)[1:-1]"
   ]
  },
  {
   "cell_type": "code",
   "execution_count": 19,
   "metadata": {
    "collapsed": false
   },
   "outputs": [
    {
     "name": "stdout",
     "output_type": "stream",
     "text": [
      "'2016-01-01'\n"
     ]
    }
   ],
   "source": [
    "print(onorafter)"
   ]
  },
  {
   "cell_type": "markdown",
   "metadata": {},
   "source": [
    "## deal with the limits of Socrata"
   ]
  },
  {
   "cell_type": "code",
   "execution_count": 20,
   "metadata": {
    "collapsed": false
   },
   "outputs": [],
   "source": [
    "#All Graffiti Currently Set for one year, but limit is 50, 000\n",
    "'''\n",
    "https://data.sfgov.org/resource/rme2-xgvs.json\n",
    "https://data.sfgov.org/resource/rme2-xgvs.json\n",
    "The graffiti_url is the target URL\n",
    "and could be swapped out, and the code should still run\n",
    "'''\n",
    "graffiti_url = 'https://data.sfgov.org/resource/rme2-xgvs.json'\n",
    "target_url=graffiti_url"
   ]
  },
  {
   "cell_type": "code",
   "execution_count": 21,
   "metadata": {
    "collapsed": false
   },
   "outputs": [
    {
     "data": {
      "text/plain": [
       "'https://data.sfgov.org/resource/rme2-xgvs.csv'"
      ]
     },
     "execution_count": 21,
     "metadata": {},
     "output_type": "execute_result"
    }
   ],
   "source": [
    "url0 = str(target_url)[:-4]+'csv'\n",
    "url0"
   ]
  },
  {
   "cell_type": "code",
   "execution_count": 22,
   "metadata": {
    "collapsed": false
   },
   "outputs": [
    {
     "name": "stdout",
     "output_type": "stream",
     "text": [
      "https://data.sfgov.org/resource/rme2-xgvs.csv?$limit=50000\n",
      "https://data.sfgov.org/resource/rme2-xgvs.csv?$limit=50000&$offset=50000\n"
     ]
    }
   ],
   "source": [
    "\n",
    "limit = '?$limit=50000'\n",
    "offset = '&$offset=50000'\n",
    "url1 = url0+limit\n",
    "print (url1)\n",
    "\n",
    "url2 = url1 + offset\n",
    "print (url2)"
   ]
  },
  {
   "cell_type": "code",
   "execution_count": 23,
   "metadata": {
    "collapsed": false
   },
   "outputs": [
    {
     "name": "stdout",
     "output_type": "stream",
     "text": [
      "https://data.sfgov.org/resource/rme2-xgvs.csv?$limit=50000&$offset=50000&$where=opened>='2016-01-01'\n"
     ]
    }
   ],
   "source": [
    "#print(url2)\n",
    "where = '&$where='\n",
    "category = 'opened'\n",
    "start = '>='\n",
    "\n",
    "#date format 'year-mm-dd'\n",
    "onorafter = \"'2016-01-01'\"\n",
    "url2 = url2 + where + category + start + str(onorafter) \n",
    "print(url2)"
   ]
  },
  {
   "cell_type": "markdown",
   "metadata": {
    "collapsed": true
   },
   "source": [
    "# Concatenate or Vertically stack the two dataFrames"
   ]
  },
  {
   "cell_type": "code",
   "execution_count": null,
   "metadata": {
    "collapsed": false
   },
   "outputs": [],
   "source": [
    "df1  = pd.read_csv(url1)\n",
    "df2 = pd.read_csv(url2)"
   ]
  },
  {
   "cell_type": "code",
   "execution_count": null,
   "metadata": {
    "collapsed": false
   },
   "outputs": [],
   "source": [
    "frames = [df1,df2]"
   ]
  },
  {
   "cell_type": "code",
   "execution_count": 134,
   "metadata": {
    "collapsed": false
   },
   "outputs": [],
   "source": [
    "df = pd.concat(frames)"
   ]
  },
  {
   "cell_type": "code",
   "execution_count": 135,
   "metadata": {
    "collapsed": false
   },
   "outputs": [
    {
     "data": {
      "text/plain": [
       "(70391, 16)"
      ]
     },
     "execution_count": 135,
     "metadata": {},
     "output_type": "execute_result"
    }
   ],
   "source": [
    "df.shape"
   ]
  },
  {
   "cell_type": "code",
   "execution_count": 136,
   "metadata": {
    "collapsed": false
   },
   "outputs": [
    {
     "data": {
      "text/html": [
       "<div>\n",
       "<table border=\"1\" class=\"dataframe\">\n",
       "  <thead>\n",
       "    <tr style=\"text-align: right;\">\n",
       "      <th></th>\n",
       "      <th>CaseID</th>\n",
       "      <th>Opened</th>\n",
       "      <th>Closed</th>\n",
       "      <th>Updated</th>\n",
       "      <th>Status</th>\n",
       "      <th>Status Notes</th>\n",
       "      <th>Responsible Agency</th>\n",
       "      <th>Category</th>\n",
       "      <th>Request Type</th>\n",
       "      <th>Request Details</th>\n",
       "      <th>Address</th>\n",
       "      <th>Supervisor District</th>\n",
       "      <th>Neighborhood</th>\n",
       "      <th>Point</th>\n",
       "      <th>Source</th>\n",
       "      <th>Media URL</th>\n",
       "    </tr>\n",
       "  </thead>\n",
       "  <tbody>\n",
       "    <tr>\n",
       "      <th>0</th>\n",
       "      <td>6633066</td>\n",
       "      <td>12/15/2016 07:28:31 PM</td>\n",
       "      <td>NaN</td>\n",
       "      <td>12/15/2016 08:08:54 PM</td>\n",
       "      <td>Open</td>\n",
       "      <td>accepted</td>\n",
       "      <td>DPW Ops Queue</td>\n",
       "      <td>Graffiti Private Property</td>\n",
       "      <td>Not_Offensive Graffiti on Private Property</td>\n",
       "      <td>Building_commercial - Not_Offensive</td>\n",
       "      <td>1263 MISSION ST, SAN FRANCISCO, CA, 94103</td>\n",
       "      <td>6.0</td>\n",
       "      <td>South of Market</td>\n",
       "      <td>(37.776545040358, -122.414049853039)</td>\n",
       "      <td>Open311</td>\n",
       "      <td>http://mobile311.sfgov.org/media/san_francisco...</td>\n",
       "    </tr>\n",
       "    <tr>\n",
       "      <th>1</th>\n",
       "      <td>6632969</td>\n",
       "      <td>12/15/2016 06:23:52 PM</td>\n",
       "      <td>NaN</td>\n",
       "      <td>12/15/2016 06:27:52 PM</td>\n",
       "      <td>Open</td>\n",
       "      <td>accepted</td>\n",
       "      <td>DPW Ops Queue</td>\n",
       "      <td>Graffiti Public Property</td>\n",
       "      <td>Not_Offensive Graffiti on Public Property</td>\n",
       "      <td>Signal_box - Not_Offensive</td>\n",
       "      <td>Intersection of 20TH ST and FLORIDA ST</td>\n",
       "      <td>9.0</td>\n",
       "      <td>Mission</td>\n",
       "      <td>(37.7591338604323, -122.410758686679)</td>\n",
       "      <td>Open311</td>\n",
       "      <td>http://mobile311.sfgov.org/media/san_francisco...</td>\n",
       "    </tr>\n",
       "  </tbody>\n",
       "</table>\n",
       "</div>"
      ],
      "text/plain": [
       "    CaseID                  Opened Closed                 Updated Status  \\\n",
       "0  6633066  12/15/2016 07:28:31 PM    NaN  12/15/2016 08:08:54 PM   Open   \n",
       "1  6632969  12/15/2016 06:23:52 PM    NaN  12/15/2016 06:27:52 PM   Open   \n",
       "\n",
       "  Status Notes Responsible Agency                   Category  \\\n",
       "0     accepted      DPW Ops Queue  Graffiti Private Property   \n",
       "1     accepted      DPW Ops Queue   Graffiti Public Property   \n",
       "\n",
       "                                 Request Type  \\\n",
       "0  Not_Offensive Graffiti on Private Property   \n",
       "1   Not_Offensive Graffiti on Public Property   \n",
       "\n",
       "                       Request Details  \\\n",
       "0  Building_commercial - Not_Offensive   \n",
       "1           Signal_box - Not_Offensive   \n",
       "\n",
       "                                     Address  Supervisor District  \\\n",
       "0  1263 MISSION ST, SAN FRANCISCO, CA, 94103                  6.0   \n",
       "1     Intersection of 20TH ST and FLORIDA ST                  9.0   \n",
       "\n",
       "      Neighborhood                                  Point   Source  \\\n",
       "0  South of Market   (37.776545040358, -122.414049853039)  Open311   \n",
       "1          Mission  (37.7591338604323, -122.410758686679)  Open311   \n",
       "\n",
       "                                           Media URL  \n",
       "0  http://mobile311.sfgov.org/media/san_francisco...  \n",
       "1  http://mobile311.sfgov.org/media/san_francisco...  "
      ]
     },
     "execution_count": 136,
     "metadata": {},
     "output_type": "execute_result"
    }
   ],
   "source": [
    "df.head(2)"
   ]
  },
  {
   "cell_type": "code",
   "execution_count": 137,
   "metadata": {
    "collapsed": false
   },
   "outputs": [
    {
     "data": {
      "text/html": [
       "<div>\n",
       "<table border=\"1\" class=\"dataframe\">\n",
       "  <thead>\n",
       "    <tr style=\"text-align: right;\">\n",
       "      <th></th>\n",
       "      <th>CaseID</th>\n",
       "      <th>Opened</th>\n",
       "      <th>Closed</th>\n",
       "      <th>Updated</th>\n",
       "      <th>Status</th>\n",
       "      <th>Status Notes</th>\n",
       "      <th>Responsible Agency</th>\n",
       "      <th>Category</th>\n",
       "      <th>Request Type</th>\n",
       "      <th>Request Details</th>\n",
       "      <th>Address</th>\n",
       "      <th>Supervisor District</th>\n",
       "      <th>Neighborhood</th>\n",
       "      <th>Point</th>\n",
       "      <th>Source</th>\n",
       "      <th>Media URL</th>\n",
       "    </tr>\n",
       "  </thead>\n",
       "  <tbody>\n",
       "    <tr>\n",
       "      <th>20390</th>\n",
       "      <td>5421825</td>\n",
       "      <td>01/01/2016 01:59:36 AM</td>\n",
       "      <td>03/25/2016 03:07:10 PM</td>\n",
       "      <td>03/25/2016 03:07:10 PM</td>\n",
       "      <td>Closed</td>\n",
       "      <td>Case Resolved -</td>\n",
       "      <td>SFMTA - Muni System Feedback Queue</td>\n",
       "      <td>Graffiti Public Property</td>\n",
       "      <td>Offensive Graffiti on Public Property</td>\n",
       "      <td>Other_enter_additional_details_below - Offensive</td>\n",
       "      <td>501 YORK ST, SAN FRANCISCO, CA, 94110</td>\n",
       "      <td>10.0</td>\n",
       "      <td>Mission</td>\n",
       "      <td>(37.762920097989, -122.409087128107)</td>\n",
       "      <td>Open311</td>\n",
       "      <td>http://mobile311.sfgov.org/media/san_francisco...</td>\n",
       "    </tr>\n",
       "  </tbody>\n",
       "</table>\n",
       "</div>"
      ],
      "text/plain": [
       "        CaseID                  Opened                  Closed  \\\n",
       "20390  5421825  01/01/2016 01:59:36 AM  03/25/2016 03:07:10 PM   \n",
       "\n",
       "                      Updated  Status     Status Notes  \\\n",
       "20390  03/25/2016 03:07:10 PM  Closed  Case Resolved -   \n",
       "\n",
       "                       Responsible Agency                  Category  \\\n",
       "20390  SFMTA - Muni System Feedback Queue  Graffiti Public Property   \n",
       "\n",
       "                                Request Type  \\\n",
       "20390  Offensive Graffiti on Public Property   \n",
       "\n",
       "                                        Request Details  \\\n",
       "20390  Other_enter_additional_details_below - Offensive   \n",
       "\n",
       "                                     Address  Supervisor District  \\\n",
       "20390  501 YORK ST, SAN FRANCISCO, CA, 94110                 10.0   \n",
       "\n",
       "      Neighborhood                                 Point   Source  \\\n",
       "20390      Mission  (37.762920097989, -122.409087128107)  Open311   \n",
       "\n",
       "                                               Media URL  \n",
       "20390  http://mobile311.sfgov.org/media/san_francisco...  "
      ]
     },
     "execution_count": 137,
     "metadata": {},
     "output_type": "execute_result"
    }
   ],
   "source": [
    "df.tail(1)"
   ]
  },
  {
   "cell_type": "markdown",
   "metadata": {},
   "source": [
    "# Convert the time series into pandas time version"
   ]
  },
  {
   "cell_type": "code",
   "execution_count": 138,
   "metadata": {
    "collapsed": false
   },
   "outputs": [
    {
     "data": {
      "text/plain": [
       "Index(['CaseID', 'Opened', 'Closed', 'Updated', 'Status', 'Status Notes',\n",
       "       'Responsible Agency', 'Category', 'Request Type', 'Request Details',\n",
       "       'Address', 'Supervisor District', 'Neighborhood', 'Point', 'Source',\n",
       "       'Media URL'],\n",
       "      dtype='object')"
      ]
     },
     "execution_count": 138,
     "metadata": {},
     "output_type": "execute_result"
    }
   ],
   "source": [
    "df.columns"
   ]
  },
  {
   "cell_type": "code",
   "execution_count": 141,
   "metadata": {
    "collapsed": false
   },
   "outputs": [
    {
     "data": {
      "text/plain": [
       "pandas.core.series.Series"
      ]
     },
     "execution_count": 141,
     "metadata": {},
     "output_type": "execute_result"
    }
   ],
   "source": [
    "type(df.Opened)"
   ]
  },
  {
   "cell_type": "code",
   "execution_count": 150,
   "metadata": {
    "collapsed": false
   },
   "outputs": [],
   "source": [
    "df['Opened'] = pd.to_datetime(df['Opened'])\n",
    "\n"
   ]
  },
  {
   "cell_type": "code",
   "execution_count": 152,
   "metadata": {
    "collapsed": true
   },
   "outputs": [],
   "source": [
    "df['Closed'] = pd.to_datetime(df['Closed'])\n",
    "df['Updated'] = pd.to_datetime(df['Updated'])\n"
   ]
  },
  {
   "cell_type": "code",
   "execution_count": 153,
   "metadata": {
    "collapsed": false
   },
   "outputs": [
    {
     "data": {
      "text/plain": [
       "0   2016-12-15 19:28:31\n",
       "1   2016-12-15 18:23:52\n",
       "Name: Opened, dtype: datetime64[ns]"
      ]
     },
     "execution_count": 153,
     "metadata": {},
     "output_type": "execute_result"
    }
   ],
   "source": [
    "df['Opened'].head(2)"
   ]
  },
  {
   "cell_type": "code",
   "execution_count": 160,
   "metadata": {
    "collapsed": false
   },
   "outputs": [],
   "source": [
    "df['Diff'] =(df.Closed-df.Opened).astype('timedelta64[D]')"
   ]
  },
  {
   "cell_type": "code",
   "execution_count": 162,
   "metadata": {
    "collapsed": false
   },
   "outputs": [
    {
     "data": {
      "text/plain": [
       "count    58909.000000\n",
       "mean        15.105994\n",
       "std         31.697894\n",
       "min         -1.000000\n",
       "25%          0.000000\n",
       "50%          3.000000\n",
       "75%         17.000000\n",
       "max        345.000000\n",
       "Name: Diff, dtype: float64"
      ]
     },
     "execution_count": 162,
     "metadata": {},
     "output_type": "execute_result"
    }
   ],
   "source": [
    "df.Diff.describe()"
   ]
  },
  {
   "cell_type": "code",
   "execution_count": 173,
   "metadata": {
    "collapsed": false
   },
   "outputs": [
    {
     "data": {
      "text/html": [
       "<div>\n",
       "<table border=\"1\" class=\"dataframe\">\n",
       "  <thead>\n",
       "    <tr style=\"text-align: right;\">\n",
       "      <th></th>\n",
       "      <th>CaseID</th>\n",
       "      <th>Opened</th>\n",
       "      <th>Closed</th>\n",
       "      <th>Updated</th>\n",
       "      <th>Status</th>\n",
       "      <th>Status Notes</th>\n",
       "      <th>Responsible Agency</th>\n",
       "      <th>Category</th>\n",
       "      <th>Request Type</th>\n",
       "      <th>Request Details</th>\n",
       "      <th>Address</th>\n",
       "      <th>Supervisor District</th>\n",
       "      <th>Neighborhood</th>\n",
       "      <th>Point</th>\n",
       "      <th>Source</th>\n",
       "      <th>Media URL</th>\n",
       "      <th>time</th>\n",
       "      <th>Diff</th>\n",
       "    </tr>\n",
       "  </thead>\n",
       "  <tbody>\n",
       "    <tr>\n",
       "      <th>1</th>\n",
       "      <td>6632969</td>\n",
       "      <td>2016-12-15 18:23:52</td>\n",
       "      <td>NaT</td>\n",
       "      <td>2016-12-15 18:27:52</td>\n",
       "      <td>Open</td>\n",
       "      <td>accepted</td>\n",
       "      <td>DPW Ops Queue</td>\n",
       "      <td>Graffiti Public Property</td>\n",
       "      <td>Not_Offensive Graffiti on Public Property</td>\n",
       "      <td>Signal_box - Not_Offensive</td>\n",
       "      <td>Intersection of 20TH ST and FLORIDA ST</td>\n",
       "      <td>9.0</td>\n",
       "      <td>Mission</td>\n",
       "      <td>(37.7591338604323, -122.410758686679)</td>\n",
       "      <td>Open311</td>\n",
       "      <td>http://mobile311.sfgov.org/media/san_francisco...</td>\n",
       "      <td>2016-12-15 18:23:52</td>\n",
       "      <td>NaN</td>\n",
       "    </tr>\n",
       "    <tr>\n",
       "      <th>2</th>\n",
       "      <td>6632939</td>\n",
       "      <td>2016-12-15 18:06:45</td>\n",
       "      <td>NaT</td>\n",
       "      <td>2016-12-15 19:09:11</td>\n",
       "      <td>Open</td>\n",
       "      <td>accepted</td>\n",
       "      <td>DPW Ops Queue</td>\n",
       "      <td>Graffiti Private Property</td>\n",
       "      <td>Not_Offensive Graffiti on Private Property</td>\n",
       "      <td>Building_residential - Not_Offensive</td>\n",
       "      <td>2701 FOLSOM ST, SAN FRANCISCO, CA, 94110</td>\n",
       "      <td>9.0</td>\n",
       "      <td>Mission</td>\n",
       "      <td>(37.753980359532, -122.414036033345)</td>\n",
       "      <td>Open311</td>\n",
       "      <td>http://mobile311.sfgov.org/media/san_francisco...</td>\n",
       "      <td>2016-12-15 18:06:45</td>\n",
       "      <td>NaN</td>\n",
       "    </tr>\n",
       "    <tr>\n",
       "      <th>4</th>\n",
       "      <td>6632864</td>\n",
       "      <td>2016-12-15 17:30:31</td>\n",
       "      <td>NaT</td>\n",
       "      <td>2016-12-15 17:30:31</td>\n",
       "      <td>Open</td>\n",
       "      <td>accepted</td>\n",
       "      <td>DPW Ops Queue</td>\n",
       "      <td>Graffiti Private Property</td>\n",
       "      <td>Offensive Graffiti on Private Property</td>\n",
       "      <td>Building_residential - Offensive</td>\n",
       "      <td>Intersection of 18TH ST and SAN CARLOS ST</td>\n",
       "      <td>9.0</td>\n",
       "      <td>Mission</td>\n",
       "      <td>(37.7617892171553, -122.420128321734)</td>\n",
       "      <td>Open311</td>\n",
       "      <td>http://mobile311.sfgov.org/media/san_francisco...</td>\n",
       "      <td>2016-12-15 17:30:31</td>\n",
       "      <td>NaN</td>\n",
       "    </tr>\n",
       "    <tr>\n",
       "      <th>7</th>\n",
       "      <td>6632192</td>\n",
       "      <td>2016-12-15 14:46:44</td>\n",
       "      <td>NaT</td>\n",
       "      <td>2016-12-15 16:55:40</td>\n",
       "      <td>Open</td>\n",
       "      <td>accepted</td>\n",
       "      <td>DPW Ops Queue</td>\n",
       "      <td>Graffiti Private Property</td>\n",
       "      <td>Offensive Graffiti on Private Property</td>\n",
       "      <td>Building_commercial - Offensive</td>\n",
       "      <td>3149 24TH ST, SAN FRANCISCO, CA, 94110</td>\n",
       "      <td>9.0</td>\n",
       "      <td>Mission</td>\n",
       "      <td>(37.75240055061, -122.415135717521)</td>\n",
       "      <td>Open311</td>\n",
       "      <td>http://mobile311.sfgov.org/media/san_francisco...</td>\n",
       "      <td>2016-12-15 14:46:44</td>\n",
       "      <td>NaN</td>\n",
       "    </tr>\n",
       "    <tr>\n",
       "      <th>8</th>\n",
       "      <td>6632185</td>\n",
       "      <td>2016-12-15 14:45:41</td>\n",
       "      <td>NaT</td>\n",
       "      <td>2016-12-15 16:55:39</td>\n",
       "      <td>Open</td>\n",
       "      <td>accepted</td>\n",
       "      <td>DPW Ops Queue</td>\n",
       "      <td>Graffiti Private Property</td>\n",
       "      <td>Offensive Graffiti on Private Property</td>\n",
       "      <td>Building_residential - Offensive</td>\n",
       "      <td>3173 24TH ST, SAN FRANCISCO, CA, 94110</td>\n",
       "      <td>9.0</td>\n",
       "      <td>Mission</td>\n",
       "      <td>(37.7522517601, -122.415646797574)</td>\n",
       "      <td>Open311</td>\n",
       "      <td>http://mobile311.sfgov.org/media/san_francisco...</td>\n",
       "      <td>2016-12-15 14:45:41</td>\n",
       "      <td>NaN</td>\n",
       "    </tr>\n",
       "    <tr>\n",
       "      <th>9</th>\n",
       "      <td>6632173</td>\n",
       "      <td>2016-12-15 14:42:34</td>\n",
       "      <td>NaT</td>\n",
       "      <td>2016-12-15 19:15:58</td>\n",
       "      <td>Open</td>\n",
       "      <td>Open</td>\n",
       "      <td>311 Service Request Queue - Hold</td>\n",
       "      <td>Graffiti Public Property</td>\n",
       "      <td>Offensive Graffiti on Public Property</td>\n",
       "      <td>Other_enter_additional_details_below - Offensive</td>\n",
       "      <td>1308 SOUTH VAN NESS AVE, SAN FRANCISCO, CA, 94110</td>\n",
       "      <td>9.0</td>\n",
       "      <td>Mission</td>\n",
       "      <td>(37.752124257518, -122.416579206991)</td>\n",
       "      <td>Open311</td>\n",
       "      <td>http://mobile311.sfgov.org/media/san_francisco...</td>\n",
       "      <td>2016-12-15 14:42:34</td>\n",
       "      <td>NaN</td>\n",
       "    </tr>\n",
       "    <tr>\n",
       "      <th>10</th>\n",
       "      <td>6632163</td>\n",
       "      <td>2016-12-15 14:39:52</td>\n",
       "      <td>NaT</td>\n",
       "      <td>2016-12-15 16:55:38</td>\n",
       "      <td>Open</td>\n",
       "      <td>accepted</td>\n",
       "      <td>DPW Ops Queue</td>\n",
       "      <td>Graffiti Public Property</td>\n",
       "      <td>Offensive Graffiti on Public Property</td>\n",
       "      <td>Bike_rack - Offensive</td>\n",
       "      <td>2807 MISSION ST, SAN FRANCISCO, CA, 94110</td>\n",
       "      <td>9.0</td>\n",
       "      <td>Mission</td>\n",
       "      <td>(37.752086884874, -122.418244876226)</td>\n",
       "      <td>Open311</td>\n",
       "      <td>http://mobile311.sfgov.org/media/san_francisco...</td>\n",
       "      <td>2016-12-15 14:39:52</td>\n",
       "      <td>NaN</td>\n",
       "    </tr>\n",
       "    <tr>\n",
       "      <th>11</th>\n",
       "      <td>6632161</td>\n",
       "      <td>2016-12-15 14:39:33</td>\n",
       "      <td>NaT</td>\n",
       "      <td>2016-12-15 16:55:36</td>\n",
       "      <td>Open</td>\n",
       "      <td>open</td>\n",
       "      <td>DPW Ops Queue</td>\n",
       "      <td>Graffiti Public Property</td>\n",
       "      <td>Not_Offensive Graffiti on Public Property</td>\n",
       "      <td>Pole - Not_Offensive</td>\n",
       "      <td>2807 MISSION ST, SAN FRANCISCO, CA, 94110</td>\n",
       "      <td>9.0</td>\n",
       "      <td>Mission</td>\n",
       "      <td>(37.752086884874, -122.418244876226)</td>\n",
       "      <td>Open311</td>\n",
       "      <td>http://mobile311.sfgov.org/media/san_francisco...</td>\n",
       "      <td>2016-12-15 14:39:33</td>\n",
       "      <td>NaN</td>\n",
       "    </tr>\n",
       "    <tr>\n",
       "      <th>12</th>\n",
       "      <td>6632160</td>\n",
       "      <td>2016-12-15 14:39:17</td>\n",
       "      <td>NaT</td>\n",
       "      <td>2016-12-15 16:55:35</td>\n",
       "      <td>Open</td>\n",
       "      <td>accepted</td>\n",
       "      <td>DPW Ops Queue</td>\n",
       "      <td>Graffiti Public Property</td>\n",
       "      <td>Offensive Graffiti on Public Property</td>\n",
       "      <td>Bike_rack - Offensive</td>\n",
       "      <td>2807 MISSION ST, SAN FRANCISCO, CA, 94110</td>\n",
       "      <td>9.0</td>\n",
       "      <td>Mission</td>\n",
       "      <td>(37.752086884874, -122.418244876226)</td>\n",
       "      <td>Open311</td>\n",
       "      <td>http://mobile311.sfgov.org/media/san_francisco...</td>\n",
       "      <td>2016-12-15 14:39:17</td>\n",
       "      <td>NaN</td>\n",
       "    </tr>\n",
       "    <tr>\n",
       "      <th>14</th>\n",
       "      <td>6631965</td>\n",
       "      <td>2016-12-15 13:45:09</td>\n",
       "      <td>NaT</td>\n",
       "      <td>2016-12-15 14:14:56</td>\n",
       "      <td>Open</td>\n",
       "      <td>accepted</td>\n",
       "      <td>DPW Ops Queue</td>\n",
       "      <td>Graffiti Public Property</td>\n",
       "      <td>Not_Offensive Graffiti on Public Property</td>\n",
       "      <td>Sidewalk_structure - Not_Offensive</td>\n",
       "      <td>Intersection of 24TH ST and MISSION ST</td>\n",
       "      <td>9.0</td>\n",
       "      <td>Mission</td>\n",
       "      <td>(37.7522394710724, -122.418445426677)</td>\n",
       "      <td>Open311</td>\n",
       "      <td>http://mobile311.sfgov.org/media/san_francisco...</td>\n",
       "      <td>2016-12-15 13:45:09</td>\n",
       "      <td>NaN</td>\n",
       "    </tr>\n",
       "    <tr>\n",
       "      <th>15</th>\n",
       "      <td>6631961</td>\n",
       "      <td>2016-12-15 13:44:41</td>\n",
       "      <td>NaT</td>\n",
       "      <td>2016-12-15 13:44:41</td>\n",
       "      <td>Open</td>\n",
       "      <td>accepted</td>\n",
       "      <td>DPW Ops Queue</td>\n",
       "      <td>Graffiti Private Property</td>\n",
       "      <td>Offensive Graffiti on Private Property</td>\n",
       "      <td>Sidewalk_in_front_of_property - Offensive</td>\n",
       "      <td>Intersection of 24TH ST and LILAC ST</td>\n",
       "      <td>9.0</td>\n",
       "      <td>Mission</td>\n",
       "      <td>(37.7522712511524, -122.417876793921)</td>\n",
       "      <td>Open311</td>\n",
       "      <td>http://mobile311.sfgov.org/media/san_francisco...</td>\n",
       "      <td>2016-12-15 13:44:41</td>\n",
       "      <td>NaN</td>\n",
       "    </tr>\n",
       "    <tr>\n",
       "      <th>16</th>\n",
       "      <td>6631955</td>\n",
       "      <td>2016-12-15 13:43:55</td>\n",
       "      <td>NaT</td>\n",
       "      <td>2016-12-15 14:18:12</td>\n",
       "      <td>Open</td>\n",
       "      <td>accepted</td>\n",
       "      <td>DPW Ops Queue</td>\n",
       "      <td>Graffiti Public Property</td>\n",
       "      <td>Not_Offensive Graffiti on Public Property</td>\n",
       "      <td>Pole - Not_Offensive</td>\n",
       "      <td>Intersection of 24TH ST and LILAC ST</td>\n",
       "      <td>9.0</td>\n",
       "      <td>Mission</td>\n",
       "      <td>(37.7522712511524, -122.417876793921)</td>\n",
       "      <td>Open311</td>\n",
       "      <td>http://mobile311.sfgov.org/media/san_francisco...</td>\n",
       "      <td>2016-12-15 13:43:55</td>\n",
       "      <td>NaN</td>\n",
       "    </tr>\n",
       "    <tr>\n",
       "      <th>17</th>\n",
       "      <td>6631950</td>\n",
       "      <td>2016-12-15 13:43:17</td>\n",
       "      <td>NaT</td>\n",
       "      <td>2016-12-15 19:19:08</td>\n",
       "      <td>Open</td>\n",
       "      <td>Open</td>\n",
       "      <td>311 Service Request Queue - Hold</td>\n",
       "      <td>Graffiti Public Property</td>\n",
       "      <td>Offensive Graffiti on Public Property</td>\n",
       "      <td>Other_enter_additional_details_below - Offensive</td>\n",
       "      <td>894 CAPP ST, SAN FRANCISCO, CA, 94110</td>\n",
       "      <td>9.0</td>\n",
       "      <td>Mission</td>\n",
       "      <td>(37.752407401922, -122.417519108649)</td>\n",
       "      <td>Open311</td>\n",
       "      <td>http://mobile311.sfgov.org/media/san_francisco...</td>\n",
       "      <td>2016-12-15 13:43:17</td>\n",
       "      <td>NaN</td>\n",
       "    </tr>\n",
       "    <tr>\n",
       "      <th>18</th>\n",
       "      <td>6631944</td>\n",
       "      <td>2016-12-15 13:41:40</td>\n",
       "      <td>2016-12-15 16:50:04</td>\n",
       "      <td>2016-12-15 16:50:04</td>\n",
       "      <td>Closed</td>\n",
       "      <td>Case Resolved - meter shop has closed this req...</td>\n",
       "      <td>DPT Meter_Bike Queue</td>\n",
       "      <td>Graffiti Public Property</td>\n",
       "      <td>Offensive Graffiti on Public Property</td>\n",
       "      <td>Parking_meter - Offensive</td>\n",
       "      <td>Intersection of 24TH ST and CYPRESS ST</td>\n",
       "      <td>9.0</td>\n",
       "      <td>Mission</td>\n",
       "      <td>(37.7523366918592, -122.416826066215)</td>\n",
       "      <td>Open311</td>\n",
       "      <td>http://mobile311.sfgov.org/media/san_francisco...</td>\n",
       "      <td>2016-12-15 13:41:40</td>\n",
       "      <td>0.0</td>\n",
       "    </tr>\n",
       "    <tr>\n",
       "      <th>19</th>\n",
       "      <td>6631941</td>\n",
       "      <td>2016-12-15 13:41:08</td>\n",
       "      <td>NaT</td>\n",
       "      <td>2016-12-15 13:41:08</td>\n",
       "      <td>Open</td>\n",
       "      <td>Open</td>\n",
       "      <td>US Postal Service Maintenance Queue</td>\n",
       "      <td>Graffiti Public Property</td>\n",
       "      <td>Offensive Graffiti on Public Property</td>\n",
       "      <td>Mail_box - Offensive</td>\n",
       "      <td>1308 SOUTH VAN NESS AVE, SAN FRANCISCO, CA, 94110</td>\n",
       "      <td>9.0</td>\n",
       "      <td>Mission</td>\n",
       "      <td>(37.752124257518, -122.416579206991)</td>\n",
       "      <td>Open311</td>\n",
       "      <td>http://mobile311.sfgov.org/media/san_francisco...</td>\n",
       "      <td>2016-12-15 13:41:08</td>\n",
       "      <td>NaN</td>\n",
       "    </tr>\n",
       "    <tr>\n",
       "      <th>20</th>\n",
       "      <td>6631936</td>\n",
       "      <td>2016-12-15 13:40:43</td>\n",
       "      <td>NaT</td>\n",
       "      <td>2016-12-15 14:19:43</td>\n",
       "      <td>Open</td>\n",
       "      <td>accepted</td>\n",
       "      <td>DPW Ops Queue</td>\n",
       "      <td>Graffiti Public Property</td>\n",
       "      <td>Not_Offensive Graffiti on Public Property</td>\n",
       "      <td>Signal_box - Not_Offensive</td>\n",
       "      <td>Intersection of 24TH ST and SOUTH VAN NESS AVE</td>\n",
       "      <td>9.0</td>\n",
       "      <td>Mission</td>\n",
       "      <td>(37.7523727280327, -122.416265499131)</td>\n",
       "      <td>Open311</td>\n",
       "      <td>http://mobile311.sfgov.org/media/san_francisco...</td>\n",
       "      <td>2016-12-15 13:40:43</td>\n",
       "      <td>NaN</td>\n",
       "    </tr>\n",
       "    <tr>\n",
       "      <th>21</th>\n",
       "      <td>6631933</td>\n",
       "      <td>2016-12-15 13:40:18</td>\n",
       "      <td>NaT</td>\n",
       "      <td>2016-12-15 16:40:16</td>\n",
       "      <td>Open</td>\n",
       "      <td>accepted</td>\n",
       "      <td>DPW Ops Queue</td>\n",
       "      <td>Graffiti Private Property</td>\n",
       "      <td>Offensive Graffiti on Private Property</td>\n",
       "      <td>Sidewalk_in_front_of_property - Offensive</td>\n",
       "      <td>3195 24TH ST, SAN FRANCISCO, CA, 94110</td>\n",
       "      <td>9.0</td>\n",
       "      <td>Mission</td>\n",
       "      <td>(37.752263558863, -122.415949157112)</td>\n",
       "      <td>Open311</td>\n",
       "      <td>http://mobile311.sfgov.org/media/san_francisco...</td>\n",
       "      <td>2016-12-15 13:40:18</td>\n",
       "      <td>NaN</td>\n",
       "    </tr>\n",
       "    <tr>\n",
       "      <th>22</th>\n",
       "      <td>6631929</td>\n",
       "      <td>2016-12-15 13:39:30</td>\n",
       "      <td>NaT</td>\n",
       "      <td>2016-12-15 16:24:24</td>\n",
       "      <td>Open</td>\n",
       "      <td>accepted</td>\n",
       "      <td>DPW Ops Queue</td>\n",
       "      <td>Graffiti Private Property</td>\n",
       "      <td>Offensive Graffiti on Private Property</td>\n",
       "      <td>Building_commercial - Offensive</td>\n",
       "      <td>3163 24TH ST, SAN FRANCISCO, CA, 94110</td>\n",
       "      <td>9.0</td>\n",
       "      <td>Mission</td>\n",
       "      <td>(37.752312886792, -122.415443169141)</td>\n",
       "      <td>Open311</td>\n",
       "      <td>http://mobile311.sfgov.org/media/san_francisco...</td>\n",
       "      <td>2016-12-15 13:39:30</td>\n",
       "      <td>NaN</td>\n",
       "    </tr>\n",
       "    <tr>\n",
       "      <th>23</th>\n",
       "      <td>6631922</td>\n",
       "      <td>2016-12-15 13:38:15</td>\n",
       "      <td>NaT</td>\n",
       "      <td>2016-12-15 13:38:15</td>\n",
       "      <td>Open</td>\n",
       "      <td>Open</td>\n",
       "      <td>US Postal Service Maintenance Queue</td>\n",
       "      <td>Graffiti Public Property</td>\n",
       "      <td>Offensive Graffiti on Public Property</td>\n",
       "      <td>Mail_box - Offensive</td>\n",
       "      <td>3149 24TH ST, SAN FRANCISCO, CA, 94110</td>\n",
       "      <td>9.0</td>\n",
       "      <td>Mission</td>\n",
       "      <td>(37.75240055061, -122.415135717521)</td>\n",
       "      <td>Open311</td>\n",
       "      <td>http://mobile311.sfgov.org/media/san_francisco...</td>\n",
       "      <td>2016-12-15 13:38:15</td>\n",
       "      <td>NaN</td>\n",
       "    </tr>\n",
       "    <tr>\n",
       "      <th>25</th>\n",
       "      <td>6631842</td>\n",
       "      <td>2016-12-15 13:14:58</td>\n",
       "      <td>NaT</td>\n",
       "      <td>2016-12-15 13:14:58</td>\n",
       "      <td>Open</td>\n",
       "      <td>accepted</td>\n",
       "      <td>DPW Ops Queue</td>\n",
       "      <td>Graffiti Private Property</td>\n",
       "      <td>Not_Offensive Graffiti on Private Property</td>\n",
       "      <td>Building_other - Not_Offensive</td>\n",
       "      <td>3075 23RD ST, SAN FRANCISCO, CA, 94110</td>\n",
       "      <td>9.0</td>\n",
       "      <td>Mission</td>\n",
       "      <td>(37.754013648053, -122.41368121943)</td>\n",
       "      <td>Integrated Agency</td>\n",
       "      <td>NaN</td>\n",
       "      <td>2016-12-15 13:14:58</td>\n",
       "      <td>NaN</td>\n",
       "    </tr>\n",
       "    <tr>\n",
       "      <th>26</th>\n",
       "      <td>6631841</td>\n",
       "      <td>2016-12-15 13:14:57</td>\n",
       "      <td>NaT</td>\n",
       "      <td>2016-12-15 13:14:57</td>\n",
       "      <td>Open</td>\n",
       "      <td>accepted</td>\n",
       "      <td>DPW Ops Queue</td>\n",
       "      <td>Graffiti Private Property</td>\n",
       "      <td>Not_Offensive Graffiti on Private Property</td>\n",
       "      <td>Building_other - Not_Offensive</td>\n",
       "      <td>3055 23RD ST, SAN FRANCISCO, CA, 94110</td>\n",
       "      <td>9.0</td>\n",
       "      <td>Mission</td>\n",
       "      <td>(37.754035279065, -122.413321507792)</td>\n",
       "      <td>Integrated Agency</td>\n",
       "      <td>NaN</td>\n",
       "      <td>2016-12-15 13:14:57</td>\n",
       "      <td>NaN</td>\n",
       "    </tr>\n",
       "    <tr>\n",
       "      <th>42</th>\n",
       "      <td>6631037</td>\n",
       "      <td>2016-12-15 10:18:18</td>\n",
       "      <td>NaT</td>\n",
       "      <td>2016-12-15 10:18:18</td>\n",
       "      <td>Open</td>\n",
       "      <td>accepted</td>\n",
       "      <td>DPW Ops Queue</td>\n",
       "      <td>Graffiti Private Property</td>\n",
       "      <td>Not_Offensive Graffiti on Private Property</td>\n",
       "      <td>Building_other - Not_Offensive</td>\n",
       "      <td>2970 24TH ST, SAN FRANCISCO, CA, 94110</td>\n",
       "      <td>9.0</td>\n",
       "      <td>Mission</td>\n",
       "      <td>(37.752781553943, -122.411550796508)</td>\n",
       "      <td>Integrated Agency</td>\n",
       "      <td>NaN</td>\n",
       "      <td>2016-12-15 10:18:18</td>\n",
       "      <td>NaN</td>\n",
       "    </tr>\n",
       "    <tr>\n",
       "      <th>48</th>\n",
       "      <td>6630982</td>\n",
       "      <td>2016-12-15 10:09:01</td>\n",
       "      <td>NaT</td>\n",
       "      <td>2016-12-15 14:55:11</td>\n",
       "      <td>Open</td>\n",
       "      <td>open</td>\n",
       "      <td>DPW BSM Queue</td>\n",
       "      <td>Graffiti Private Property</td>\n",
       "      <td>Not_Offensive Graffiti on Private Property</td>\n",
       "      <td>Building_commercial - Not_Offensive</td>\n",
       "      <td>2172 MISSION ST, SAN FRANCISCO, CA, 94110</td>\n",
       "      <td>9.0</td>\n",
       "      <td>Mission</td>\n",
       "      <td>(37.762253612186, -122.419559792544)</td>\n",
       "      <td>Open311</td>\n",
       "      <td>http://mobile311.sfgov.org/media/san_francisco...</td>\n",
       "      <td>2016-12-15 10:09:01</td>\n",
       "      <td>NaN</td>\n",
       "    </tr>\n",
       "    <tr>\n",
       "      <th>50</th>\n",
       "      <td>6630974</td>\n",
       "      <td>2016-12-15 10:06:56</td>\n",
       "      <td>NaT</td>\n",
       "      <td>2016-12-15 10:18:14</td>\n",
       "      <td>Open</td>\n",
       "      <td>open</td>\n",
       "      <td>DPW Ops Queue</td>\n",
       "      <td>Graffiti Private Property</td>\n",
       "      <td>Not_Offensive Graffiti on Private Property</td>\n",
       "      <td>Building_commercial - Not_Offensive</td>\n",
       "      <td>2178 MISSION ST, SAN FRANCISCO, CA, 94110</td>\n",
       "      <td>9.0</td>\n",
       "      <td>Mission</td>\n",
       "      <td>(37.762143667238, -122.419587357347)</td>\n",
       "      <td>Open311</td>\n",
       "      <td>http://mobile311.sfgov.org/media/san_francisco...</td>\n",
       "      <td>2016-12-15 10:06:56</td>\n",
       "      <td>NaN</td>\n",
       "    </tr>\n",
       "    <tr>\n",
       "      <th>74</th>\n",
       "      <td>6630666</td>\n",
       "      <td>2016-12-15 09:14:02</td>\n",
       "      <td>NaT</td>\n",
       "      <td>2016-12-15 09:14:03</td>\n",
       "      <td>Open</td>\n",
       "      <td>accepted</td>\n",
       "      <td>DPW Ops Queue</td>\n",
       "      <td>Graffiti Private Property</td>\n",
       "      <td>Not_Offensive Graffiti on Private Property</td>\n",
       "      <td>Building_other - Not_Offensive</td>\n",
       "      <td>3047 24TH ST, SAN FRANCISCO, CA, 94110</td>\n",
       "      <td>9.0</td>\n",
       "      <td>Mission</td>\n",
       "      <td>(37.752518792718, -122.412974583321)</td>\n",
       "      <td>Integrated Agency</td>\n",
       "      <td>NaN</td>\n",
       "      <td>2016-12-15 09:14:02</td>\n",
       "      <td>NaN</td>\n",
       "    </tr>\n",
       "    <tr>\n",
       "      <th>75</th>\n",
       "      <td>6630665</td>\n",
       "      <td>2016-12-15 09:14:01</td>\n",
       "      <td>NaT</td>\n",
       "      <td>2016-12-15 09:14:01</td>\n",
       "      <td>Open</td>\n",
       "      <td>accepted</td>\n",
       "      <td>DPW Ops Queue</td>\n",
       "      <td>Graffiti Private Property</td>\n",
       "      <td>Not_Offensive Graffiti on Private Property</td>\n",
       "      <td>Building_other - Not_Offensive</td>\n",
       "      <td>2819 FOLSOM ST, SAN FRANCISCO, CA, 94110</td>\n",
       "      <td>9.0</td>\n",
       "      <td>Mission</td>\n",
       "      <td>(37.752169169516, -122.413868103992)</td>\n",
       "      <td>Integrated Agency</td>\n",
       "      <td>NaN</td>\n",
       "      <td>2016-12-15 09:14:01</td>\n",
       "      <td>NaN</td>\n",
       "    </tr>\n",
       "    <tr>\n",
       "      <th>90</th>\n",
       "      <td>6630430</td>\n",
       "      <td>2016-12-15 08:36:33</td>\n",
       "      <td>NaT</td>\n",
       "      <td>2016-12-15 08:41:30</td>\n",
       "      <td>Open</td>\n",
       "      <td>Open</td>\n",
       "      <td>311 Supervisor Queue</td>\n",
       "      <td>Graffiti Public Property</td>\n",
       "      <td>Offensive Graffiti on Public Property</td>\n",
       "      <td>Other_enter_additional_details_below - Offensive</td>\n",
       "      <td>727 VALENCIA ST, SAN FRANCISCO, CA, 94110</td>\n",
       "      <td>9.0</td>\n",
       "      <td>Mission</td>\n",
       "      <td>(37.761156817383, -122.421345097659)</td>\n",
       "      <td>Open311</td>\n",
       "      <td>http://mobile311.sfgov.org/media/san_francisco...</td>\n",
       "      <td>2016-12-15 08:36:33</td>\n",
       "      <td>NaN</td>\n",
       "    </tr>\n",
       "    <tr>\n",
       "      <th>91</th>\n",
       "      <td>6630415</td>\n",
       "      <td>2016-12-15 08:33:51</td>\n",
       "      <td>NaT</td>\n",
       "      <td>2016-12-15 09:46:02</td>\n",
       "      <td>Open</td>\n",
       "      <td>accepted</td>\n",
       "      <td>DPW Ops Queue</td>\n",
       "      <td>Graffiti Public Property</td>\n",
       "      <td>Not_Offensive Graffiti on Public Property</td>\n",
       "      <td>Signal_box - Not_Offensive</td>\n",
       "      <td>Intersection of 18TH ST and SAN CARLOS ST</td>\n",
       "      <td>9.0</td>\n",
       "      <td>Mission</td>\n",
       "      <td>(37.7617892171553, -122.420128321734)</td>\n",
       "      <td>Open311</td>\n",
       "      <td>http://mobile311.sfgov.org/media/san_francisco...</td>\n",
       "      <td>2016-12-15 08:33:51</td>\n",
       "      <td>NaN</td>\n",
       "    </tr>\n",
       "    <tr>\n",
       "      <th>92</th>\n",
       "      <td>6630408</td>\n",
       "      <td>2016-12-15 08:31:36</td>\n",
       "      <td>NaT</td>\n",
       "      <td>2016-12-15 08:58:55</td>\n",
       "      <td>Open</td>\n",
       "      <td>accepted</td>\n",
       "      <td>DPW Ops Queue</td>\n",
       "      <td>Graffiti Public Property</td>\n",
       "      <td>Not_Offensive Graffiti on Public Property</td>\n",
       "      <td>Bike_rack - Not_Offensive</td>\n",
       "      <td>2246 MISSION ST, SAN FRANCISCO, CA, 94110</td>\n",
       "      <td>9.0</td>\n",
       "      <td>Mission</td>\n",
       "      <td>(37.761061038647, -122.419445617105)</td>\n",
       "      <td>Open311</td>\n",
       "      <td>http://mobile311.sfgov.org/media/san_francisco...</td>\n",
       "      <td>2016-12-15 08:31:36</td>\n",
       "      <td>NaN</td>\n",
       "    </tr>\n",
       "    <tr>\n",
       "      <th>93</th>\n",
       "      <td>6630400</td>\n",
       "      <td>2016-12-15 08:30:32</td>\n",
       "      <td>NaT</td>\n",
       "      <td>2016-12-15 08:58:54</td>\n",
       "      <td>Open</td>\n",
       "      <td>open</td>\n",
       "      <td>DPW Ops Queue</td>\n",
       "      <td>Graffiti Public Property</td>\n",
       "      <td>Offensive Graffiti on Public Property</td>\n",
       "      <td>Bike_rack - Offensive</td>\n",
       "      <td>2246 MISSION ST, SAN FRANCISCO, CA, 94110</td>\n",
       "      <td>9.0</td>\n",
       "      <td>Mission</td>\n",
       "      <td>(37.761061038647, -122.419445617105)</td>\n",
       "      <td>Open311</td>\n",
       "      <td>http://mobile311.sfgov.org/media/san_francisco...</td>\n",
       "      <td>2016-12-15 08:30:32</td>\n",
       "      <td>NaN</td>\n",
       "    </tr>\n",
       "    <tr>\n",
       "      <th>...</th>\n",
       "      <td>...</td>\n",
       "      <td>...</td>\n",
       "      <td>...</td>\n",
       "      <td>...</td>\n",
       "      <td>...</td>\n",
       "      <td>...</td>\n",
       "      <td>...</td>\n",
       "      <td>...</td>\n",
       "      <td>...</td>\n",
       "      <td>...</td>\n",
       "      <td>...</td>\n",
       "      <td>...</td>\n",
       "      <td>...</td>\n",
       "      <td>...</td>\n",
       "      <td>...</td>\n",
       "      <td>...</td>\n",
       "      <td>...</td>\n",
       "      <td>...</td>\n",
       "    </tr>\n",
       "    <tr>\n",
       "      <th>199</th>\n",
       "      <td>6628507</td>\n",
       "      <td>2016-12-14 13:38:50</td>\n",
       "      <td>NaT</td>\n",
       "      <td>2016-12-14 15:11:13</td>\n",
       "      <td>Open</td>\n",
       "      <td>Open</td>\n",
       "      <td>311 Service Request Queue - Hold</td>\n",
       "      <td>Graffiti Public Property</td>\n",
       "      <td>Offensive Graffiti on Public Property</td>\n",
       "      <td>Other_enter_additional_details_below - Offensive</td>\n",
       "      <td>Intersection of 24TH ST and SOUTH VAN NESS AVE</td>\n",
       "      <td>9.0</td>\n",
       "      <td>Mission</td>\n",
       "      <td>(37.7523727280327, -122.416265499131)</td>\n",
       "      <td>Open311</td>\n",
       "      <td>http://mobile311.sfgov.org/media/san_francisco...</td>\n",
       "      <td>2016-12-14 13:38:50</td>\n",
       "      <td>NaN</td>\n",
       "    </tr>\n",
       "    <tr>\n",
       "      <th>201</th>\n",
       "      <td>6628496</td>\n",
       "      <td>2016-12-14 13:37:13</td>\n",
       "      <td>NaT</td>\n",
       "      <td>2016-12-14 15:23:52</td>\n",
       "      <td>Open</td>\n",
       "      <td>accepted</td>\n",
       "      <td>DPW Ops Queue</td>\n",
       "      <td>Graffiti Public Property</td>\n",
       "      <td>Not_Offensive Graffiti on Public Property</td>\n",
       "      <td>Signal_box - Not_Offensive</td>\n",
       "      <td>Intersection of 24TH ST and SOUTH VAN NESS AVE</td>\n",
       "      <td>9.0</td>\n",
       "      <td>Mission</td>\n",
       "      <td>(37.7523727280327, -122.416265499131)</td>\n",
       "      <td>Open311</td>\n",
       "      <td>http://mobile311.sfgov.org/media/san_francisco...</td>\n",
       "      <td>2016-12-14 13:37:13</td>\n",
       "      <td>NaN</td>\n",
       "    </tr>\n",
       "    <tr>\n",
       "      <th>216</th>\n",
       "      <td>6628380</td>\n",
       "      <td>2016-12-14 13:10:28</td>\n",
       "      <td>NaT</td>\n",
       "      <td>2016-12-14 13:13:25</td>\n",
       "      <td>Open</td>\n",
       "      <td>accepted</td>\n",
       "      <td>DPW Ops Queue</td>\n",
       "      <td>Graffiti Public Property</td>\n",
       "      <td>Offensive Graffiti on Public Property</td>\n",
       "      <td>Pole - Offensive</td>\n",
       "      <td>2899 24TH ST, SAN FRANCISCO, CA, 94110</td>\n",
       "      <td>9.0</td>\n",
       "      <td>Mission</td>\n",
       "      <td>(37.752699631121, -122.410034375477)</td>\n",
       "      <td>Open311</td>\n",
       "      <td>http://mobile311.sfgov.org/media/san_francisco...</td>\n",
       "      <td>2016-12-14 13:10:28</td>\n",
       "      <td>NaN</td>\n",
       "    </tr>\n",
       "    <tr>\n",
       "      <th>218</th>\n",
       "      <td>6628377</td>\n",
       "      <td>2016-12-14 13:10:06</td>\n",
       "      <td>NaT</td>\n",
       "      <td>2016-12-14 13:31:03</td>\n",
       "      <td>Open</td>\n",
       "      <td>accepted</td>\n",
       "      <td>DPW Ops Queue</td>\n",
       "      <td>Graffiti Private Property</td>\n",
       "      <td>Offensive Graffiti on Private Property</td>\n",
       "      <td>Building_other - Offensive</td>\n",
       "      <td>2899 24TH ST, SAN FRANCISCO, CA, 94110</td>\n",
       "      <td>9.0</td>\n",
       "      <td>Mission</td>\n",
       "      <td>(37.752699631121, -122.410034375477)</td>\n",
       "      <td>Open311</td>\n",
       "      <td>http://mobile311.sfgov.org/media/san_francisco...</td>\n",
       "      <td>2016-12-14 13:10:06</td>\n",
       "      <td>NaN</td>\n",
       "    </tr>\n",
       "    <tr>\n",
       "      <th>219</th>\n",
       "      <td>6628362</td>\n",
       "      <td>2016-12-14 13:08:33</td>\n",
       "      <td>NaT</td>\n",
       "      <td>2016-12-14 13:31:04</td>\n",
       "      <td>Open</td>\n",
       "      <td>open</td>\n",
       "      <td>DPW Ops Queue</td>\n",
       "      <td>Graffiti Private Property</td>\n",
       "      <td>Offensive Graffiti on Private Property</td>\n",
       "      <td>Building_other - Offensive</td>\n",
       "      <td>3039 24TH ST, SAN FRANCISCO, CA, 94110</td>\n",
       "      <td>9.0</td>\n",
       "      <td>Mission</td>\n",
       "      <td>(37.752475789139, -122.412748938783)</td>\n",
       "      <td>Open311</td>\n",
       "      <td>http://mobile311.sfgov.org/media/san_francisco...</td>\n",
       "      <td>2016-12-14 13:08:33</td>\n",
       "      <td>NaN</td>\n",
       "    </tr>\n",
       "    <tr>\n",
       "      <th>221</th>\n",
       "      <td>6628356</td>\n",
       "      <td>2016-12-14 13:07:20</td>\n",
       "      <td>NaT</td>\n",
       "      <td>2016-12-14 13:12:36</td>\n",
       "      <td>Open</td>\n",
       "      <td>Open</td>\n",
       "      <td>311 Service Request Queue - Hold</td>\n",
       "      <td>Graffiti Public Property</td>\n",
       "      <td>Offensive Graffiti on Public Property</td>\n",
       "      <td>Other_enter_additional_details_below - Offensive</td>\n",
       "      <td>Intersection of 24TH ST and TREAT AVE</td>\n",
       "      <td>9.0</td>\n",
       "      <td>Mission</td>\n",
       "      <td>(37.7525728208692, -122.412995081497)</td>\n",
       "      <td>Open311</td>\n",
       "      <td>http://mobile311.sfgov.org/media/san_francisco...</td>\n",
       "      <td>2016-12-14 13:07:20</td>\n",
       "      <td>NaN</td>\n",
       "    </tr>\n",
       "    <tr>\n",
       "      <th>222</th>\n",
       "      <td>6628354</td>\n",
       "      <td>2016-12-14 13:07:06</td>\n",
       "      <td>NaT</td>\n",
       "      <td>2016-12-14 13:07:06</td>\n",
       "      <td>Open</td>\n",
       "      <td>Open</td>\n",
       "      <td>US Postal Service Maintenance Queue</td>\n",
       "      <td>Graffiti Public Property</td>\n",
       "      <td>Offensive Graffiti on Public Property</td>\n",
       "      <td>Mail_box - Offensive</td>\n",
       "      <td>Intersection of 24TH ST and TREAT AVE</td>\n",
       "      <td>9.0</td>\n",
       "      <td>Mission</td>\n",
       "      <td>(37.7525728208692, -122.412995081497)</td>\n",
       "      <td>Open311</td>\n",
       "      <td>http://mobile311.sfgov.org/media/san_francisco...</td>\n",
       "      <td>2016-12-14 13:07:06</td>\n",
       "      <td>NaN</td>\n",
       "    </tr>\n",
       "    <tr>\n",
       "      <th>224</th>\n",
       "      <td>6628346</td>\n",
       "      <td>2016-12-14 13:06:21</td>\n",
       "      <td>NaT</td>\n",
       "      <td>2016-12-14 13:31:01</td>\n",
       "      <td>Open</td>\n",
       "      <td>accepted</td>\n",
       "      <td>DPW Ops Queue</td>\n",
       "      <td>Graffiti Private Property</td>\n",
       "      <td>Offensive Graffiti on Private Property</td>\n",
       "      <td>Building_commercial - Offensive</td>\n",
       "      <td>3049 24TH ST, SAN FRANCISCO, CA, 94110</td>\n",
       "      <td>9.0</td>\n",
       "      <td>Mission</td>\n",
       "      <td>(37.752429274045, -122.413238981762)</td>\n",
       "      <td>Open311</td>\n",
       "      <td>http://mobile311.sfgov.org/media/san_francisco...</td>\n",
       "      <td>2016-12-14 13:06:21</td>\n",
       "      <td>NaN</td>\n",
       "    </tr>\n",
       "    <tr>\n",
       "      <th>226</th>\n",
       "      <td>6628335</td>\n",
       "      <td>2016-12-14 13:04:49</td>\n",
       "      <td>NaT</td>\n",
       "      <td>2016-12-14 13:16:11</td>\n",
       "      <td>Open</td>\n",
       "      <td>accepted</td>\n",
       "      <td>DPW Ops Queue</td>\n",
       "      <td>Graffiti Public Property</td>\n",
       "      <td>Offensive Graffiti on Public Property</td>\n",
       "      <td>Pole - Offensive</td>\n",
       "      <td>Intersection of 24TH ST and LUCKY ST</td>\n",
       "      <td>9.0</td>\n",
       "      <td>Mission</td>\n",
       "      <td>(37.7525379726793, -122.413517279998)</td>\n",
       "      <td>Open311</td>\n",
       "      <td>http://mobile311.sfgov.org/media/san_francisco...</td>\n",
       "      <td>2016-12-14 13:04:49</td>\n",
       "      <td>NaN</td>\n",
       "    </tr>\n",
       "    <tr>\n",
       "      <th>227</th>\n",
       "      <td>6628329</td>\n",
       "      <td>2016-12-14 13:03:55</td>\n",
       "      <td>NaT</td>\n",
       "      <td>2016-12-14 13:31:00</td>\n",
       "      <td>Open</td>\n",
       "      <td>open</td>\n",
       "      <td>DPW Ops Queue</td>\n",
       "      <td>Graffiti Private Property</td>\n",
       "      <td>Offensive Graffiti on Private Property</td>\n",
       "      <td>Building_commercial - Offensive</td>\n",
       "      <td>2801 FOLSOM ST, SAN FRANCISCO, CA, 94110</td>\n",
       "      <td>9.0</td>\n",
       "      <td>Mission</td>\n",
       "      <td>(37.752356724939, -122.413885869267)</td>\n",
       "      <td>Open311</td>\n",
       "      <td>http://mobile311.sfgov.org/media/san_francisco...</td>\n",
       "      <td>2016-12-14 13:03:55</td>\n",
       "      <td>NaN</td>\n",
       "    </tr>\n",
       "    <tr>\n",
       "      <th>228</th>\n",
       "      <td>6628325</td>\n",
       "      <td>2016-12-14 13:03:08</td>\n",
       "      <td>NaT</td>\n",
       "      <td>2016-12-14 13:03:08</td>\n",
       "      <td>Open</td>\n",
       "      <td>Open</td>\n",
       "      <td>US Postal Service Maintenance Queue</td>\n",
       "      <td>Graffiti Public Property</td>\n",
       "      <td>Offensive Graffiti on Public Property</td>\n",
       "      <td>Mail_box - Offensive</td>\n",
       "      <td>2806 FOLSOM ST, SAN FRANCISCO, CA, 94110</td>\n",
       "      <td>9.0</td>\n",
       "      <td>Mission</td>\n",
       "      <td>(37.752343885428, -122.414264400063)</td>\n",
       "      <td>Open311</td>\n",
       "      <td>http://mobile311.sfgov.org/media/san_francisco...</td>\n",
       "      <td>2016-12-14 13:03:08</td>\n",
       "      <td>NaN</td>\n",
       "    </tr>\n",
       "    <tr>\n",
       "      <th>231</th>\n",
       "      <td>6628308</td>\n",
       "      <td>2016-12-14 13:00:55</td>\n",
       "      <td>NaT</td>\n",
       "      <td>2016-12-14 13:00:55</td>\n",
       "      <td>Open</td>\n",
       "      <td>accepted</td>\n",
       "      <td>DPT Meter_Bike Queue</td>\n",
       "      <td>Graffiti Public Property</td>\n",
       "      <td>Not_Offensive Graffiti on Public Property</td>\n",
       "      <td>Parking_meter - Not_Offensive</td>\n",
       "      <td>Intersection of 24TH ST and CYPRESS ST</td>\n",
       "      <td>9.0</td>\n",
       "      <td>Mission</td>\n",
       "      <td>(37.7523366918592, -122.416826066215)</td>\n",
       "      <td>Open311</td>\n",
       "      <td>http://mobile311.sfgov.org/media/san_francisco...</td>\n",
       "      <td>2016-12-14 13:00:55</td>\n",
       "      <td>NaN</td>\n",
       "    </tr>\n",
       "    <tr>\n",
       "      <th>252</th>\n",
       "      <td>6627686</td>\n",
       "      <td>2016-12-14 11:08:23</td>\n",
       "      <td>NaT</td>\n",
       "      <td>2016-12-14 11:17:09</td>\n",
       "      <td>Open</td>\n",
       "      <td>accepted</td>\n",
       "      <td>DPW Ops Queue</td>\n",
       "      <td>Graffiti Public Property</td>\n",
       "      <td>Offensive Graffiti on Public Property</td>\n",
       "      <td>Fire_Police_Callbox - Offensive</td>\n",
       "      <td>2806 FOLSOM ST, SAN FRANCISCO, CA, 94110</td>\n",
       "      <td>9.0</td>\n",
       "      <td>Mission</td>\n",
       "      <td>(37.752343885428, -122.414264400063)</td>\n",
       "      <td>Open311</td>\n",
       "      <td>http://mobile311.sfgov.org/media/san_francisco...</td>\n",
       "      <td>2016-12-14 11:08:23</td>\n",
       "      <td>NaN</td>\n",
       "    </tr>\n",
       "    <tr>\n",
       "      <th>253</th>\n",
       "      <td>6627685</td>\n",
       "      <td>2016-12-14 11:08:08</td>\n",
       "      <td>NaT</td>\n",
       "      <td>2016-12-14 11:21:45</td>\n",
       "      <td>Open</td>\n",
       "      <td>accepted</td>\n",
       "      <td>DPW Ops Queue</td>\n",
       "      <td>Graffiti Public Property</td>\n",
       "      <td>Not_Offensive Graffiti on Public Property</td>\n",
       "      <td>Pole - Not_Offensive</td>\n",
       "      <td>Intersection of 24TH ST and FOLSOM ST</td>\n",
       "      <td>9.0</td>\n",
       "      <td>Mission</td>\n",
       "      <td>(37.7525059390554, -122.414085909585)</td>\n",
       "      <td>Open311</td>\n",
       "      <td>http://mobile311.sfgov.org/media/san_francisco...</td>\n",
       "      <td>2016-12-14 11:08:08</td>\n",
       "      <td>NaN</td>\n",
       "    </tr>\n",
       "    <tr>\n",
       "      <th>268</th>\n",
       "      <td>6627454</td>\n",
       "      <td>2016-12-14 10:28:05</td>\n",
       "      <td>NaT</td>\n",
       "      <td>2016-12-14 10:28:05</td>\n",
       "      <td>Open</td>\n",
       "      <td>new</td>\n",
       "      <td>US Postal Service Maintenance Queue</td>\n",
       "      <td>Graffiti Public Property</td>\n",
       "      <td>Offensive Graffiti on Public Property</td>\n",
       "      <td>Mail_box - Offensive</td>\n",
       "      <td>Intersection of BRYANT ST and 23RD ST</td>\n",
       "      <td>9.0</td>\n",
       "      <td>Mission</td>\n",
       "      <td>(37.7543983949677, -122.409253356364)</td>\n",
       "      <td>Integrated Agency</td>\n",
       "      <td>NaN</td>\n",
       "      <td>2016-12-14 10:28:05</td>\n",
       "      <td>NaN</td>\n",
       "    </tr>\n",
       "    <tr>\n",
       "      <th>274</th>\n",
       "      <td>6627254</td>\n",
       "      <td>2016-12-14 09:54:44</td>\n",
       "      <td>NaT</td>\n",
       "      <td>2016-12-14 10:07:09</td>\n",
       "      <td>Open</td>\n",
       "      <td>Open</td>\n",
       "      <td>311 Service Request Queue - Hold</td>\n",
       "      <td>Graffiti Public Property</td>\n",
       "      <td>Offensive Graffiti on Public Property</td>\n",
       "      <td>Other_enter_additional_details_below - Offensive</td>\n",
       "      <td>Intersection of 17TH ST and MISSION ST</td>\n",
       "      <td>9.0</td>\n",
       "      <td>Mission</td>\n",
       "      <td>(37.7634292697508, -122.419512595608)</td>\n",
       "      <td>Open311</td>\n",
       "      <td>http://mobile311.sfgov.org/media/san_francisco...</td>\n",
       "      <td>2016-12-14 09:54:44</td>\n",
       "      <td>NaN</td>\n",
       "    </tr>\n",
       "    <tr>\n",
       "      <th>278</th>\n",
       "      <td>6627203</td>\n",
       "      <td>2016-12-14 09:45:43</td>\n",
       "      <td>NaT</td>\n",
       "      <td>2016-12-14 09:45:43</td>\n",
       "      <td>Open</td>\n",
       "      <td>accepted</td>\n",
       "      <td>DPW Ops Queue</td>\n",
       "      <td>Graffiti Private Property</td>\n",
       "      <td>Offensive Graffiti on Private Property</td>\n",
       "      <td>Building_residential - Offensive</td>\n",
       "      <td>36 HOFF ST, SAN FRANCISCO, CA, 94110</td>\n",
       "      <td>9.0</td>\n",
       "      <td>Mission</td>\n",
       "      <td>(37.764384806834, -122.42062030643)</td>\n",
       "      <td>Open311</td>\n",
       "      <td>http://mobile311.sfgov.org/media/san_francisco...</td>\n",
       "      <td>2016-12-14 09:45:43</td>\n",
       "      <td>NaN</td>\n",
       "    </tr>\n",
       "    <tr>\n",
       "      <th>279</th>\n",
       "      <td>6627200</td>\n",
       "      <td>2016-12-14 09:45:19</td>\n",
       "      <td>NaT</td>\n",
       "      <td>2016-12-14 09:50:19</td>\n",
       "      <td>Open</td>\n",
       "      <td>accepted</td>\n",
       "      <td>DPW Ops Queue</td>\n",
       "      <td>Graffiti Public Property</td>\n",
       "      <td>Not_Offensive Graffiti on Public Property</td>\n",
       "      <td>Sidewalk_structure - Not_Offensive</td>\n",
       "      <td>36 HOFF ST, SAN FRANCISCO, CA, 94110</td>\n",
       "      <td>9.0</td>\n",
       "      <td>Mission</td>\n",
       "      <td>(37.764384806834, -122.42062030643)</td>\n",
       "      <td>Open311</td>\n",
       "      <td>http://mobile311.sfgov.org/media/san_francisco...</td>\n",
       "      <td>2016-12-14 09:45:19</td>\n",
       "      <td>NaN</td>\n",
       "    </tr>\n",
       "    <tr>\n",
       "      <th>281</th>\n",
       "      <td>6627194</td>\n",
       "      <td>2016-12-14 09:43:54</td>\n",
       "      <td>NaT</td>\n",
       "      <td>2016-12-14 10:16:17</td>\n",
       "      <td>Open</td>\n",
       "      <td>open</td>\n",
       "      <td>DPW Ops Queue</td>\n",
       "      <td>Graffiti Public Property</td>\n",
       "      <td>Not_Offensive Graffiti on Public Property</td>\n",
       "      <td>Pole - Not_Offensive</td>\n",
       "      <td>3338 17TH ST, SAN FRANCISCO, CA, 94110</td>\n",
       "      <td>9.0</td>\n",
       "      <td>Mission</td>\n",
       "      <td>(37.763461012193, -122.420677979025)</td>\n",
       "      <td>Open311</td>\n",
       "      <td>http://mobile311.sfgov.org/media/san_francisco...</td>\n",
       "      <td>2016-12-14 09:43:54</td>\n",
       "      <td>NaN</td>\n",
       "    </tr>\n",
       "    <tr>\n",
       "      <th>282</th>\n",
       "      <td>6627187</td>\n",
       "      <td>2016-12-14 09:43:09</td>\n",
       "      <td>NaT</td>\n",
       "      <td>2016-12-14 10:16:16</td>\n",
       "      <td>Open</td>\n",
       "      <td>accepted</td>\n",
       "      <td>DPW Ops Queue</td>\n",
       "      <td>Graffiti Public Property</td>\n",
       "      <td>Not_Offensive Graffiti on Public Property</td>\n",
       "      <td>Pole - Not_Offensive</td>\n",
       "      <td>3388 17TH ST, SAN FRANCISCO, CA, 94110</td>\n",
       "      <td>9.0</td>\n",
       "      <td>Mission</td>\n",
       "      <td>(37.76344035281, -122.421019947123)</td>\n",
       "      <td>Open311</td>\n",
       "      <td>http://mobile311.sfgov.org/media/san_francisco...</td>\n",
       "      <td>2016-12-14 09:43:09</td>\n",
       "      <td>NaN</td>\n",
       "    </tr>\n",
       "    <tr>\n",
       "      <th>283</th>\n",
       "      <td>6627184</td>\n",
       "      <td>2016-12-14 09:42:52</td>\n",
       "      <td>NaT</td>\n",
       "      <td>2016-12-14 09:42:52</td>\n",
       "      <td>Open</td>\n",
       "      <td>accepted</td>\n",
       "      <td>DPW Ops Queue</td>\n",
       "      <td>Graffiti Private Property</td>\n",
       "      <td>Offensive Graffiti on Private Property</td>\n",
       "      <td>Building_commercial - Offensive</td>\n",
       "      <td>3388 17TH ST, SAN FRANCISCO, CA, 94110</td>\n",
       "      <td>9.0</td>\n",
       "      <td>Mission</td>\n",
       "      <td>(37.76344035281, -122.421019947123)</td>\n",
       "      <td>Open311</td>\n",
       "      <td>http://mobile311.sfgov.org/media/san_francisco...</td>\n",
       "      <td>2016-12-14 09:42:52</td>\n",
       "      <td>NaN</td>\n",
       "    </tr>\n",
       "    <tr>\n",
       "      <th>284</th>\n",
       "      <td>6627129</td>\n",
       "      <td>2016-12-14 09:34:54</td>\n",
       "      <td>2016-12-15 01:12:10</td>\n",
       "      <td>2016-12-15 01:12:10</td>\n",
       "      <td>Closed</td>\n",
       "      <td>Case Resolved - Duplicate RFA. Refer to RFA# 2...</td>\n",
       "      <td>DPW BSM Queue</td>\n",
       "      <td>Graffiti Private Property</td>\n",
       "      <td>Not_Offensive Graffiti on Private Property</td>\n",
       "      <td>Building_commercial - Not_Offensive</td>\n",
       "      <td>2172 MISSION ST, SAN FRANCISCO, CA, 94110</td>\n",
       "      <td>9.0</td>\n",
       "      <td>Mission</td>\n",
       "      <td>(37.762253612186, -122.419559792544)</td>\n",
       "      <td>Open311</td>\n",
       "      <td>http://mobile311.sfgov.org/media/san_francisco...</td>\n",
       "      <td>2016-12-14 09:34:54</td>\n",
       "      <td>0.0</td>\n",
       "    </tr>\n",
       "    <tr>\n",
       "      <th>285</th>\n",
       "      <td>6627123</td>\n",
       "      <td>2016-12-14 09:34:03</td>\n",
       "      <td>NaT</td>\n",
       "      <td>2016-12-14 09:34:03</td>\n",
       "      <td>Open</td>\n",
       "      <td>accepted</td>\n",
       "      <td>DPW Ops Queue</td>\n",
       "      <td>Graffiti Private Property</td>\n",
       "      <td>Not_Offensive Graffiti on Private Property</td>\n",
       "      <td>Building_commercial - Not_Offensive</td>\n",
       "      <td>2191 MISSION ST, SAN FRANCISCO, CA, 94110</td>\n",
       "      <td>9.0</td>\n",
       "      <td>Mission</td>\n",
       "      <td>(37.762003712327, -122.419064566624)</td>\n",
       "      <td>Open311</td>\n",
       "      <td>http://mobile311.sfgov.org/media/san_francisco...</td>\n",
       "      <td>2016-12-14 09:34:03</td>\n",
       "      <td>NaN</td>\n",
       "    </tr>\n",
       "    <tr>\n",
       "      <th>286</th>\n",
       "      <td>6627114</td>\n",
       "      <td>2016-12-14 09:32:21</td>\n",
       "      <td>NaT</td>\n",
       "      <td>2016-12-14 09:32:21</td>\n",
       "      <td>Open</td>\n",
       "      <td>Open</td>\n",
       "      <td>US Postal Service Maintenance Queue</td>\n",
       "      <td>Graffiti Public Property</td>\n",
       "      <td>Not_Offensive Graffiti on Public Property</td>\n",
       "      <td>Mail_box - Not_Offensive</td>\n",
       "      <td>Intersection of 18TH ST and MISSION ST</td>\n",
       "      <td>9.0</td>\n",
       "      <td>Mission</td>\n",
       "      <td>(37.7618358043403, -122.419359315196)</td>\n",
       "      <td>Open311</td>\n",
       "      <td>http://mobile311.sfgov.org/media/san_francisco...</td>\n",
       "      <td>2016-12-14 09:32:21</td>\n",
       "      <td>NaN</td>\n",
       "    </tr>\n",
       "    <tr>\n",
       "      <th>287</th>\n",
       "      <td>6627104</td>\n",
       "      <td>2016-12-14 09:30:53</td>\n",
       "      <td>2016-12-15 08:25:39</td>\n",
       "      <td>2016-12-15 08:25:39</td>\n",
       "      <td>Closed</td>\n",
       "      <td>Case is Invalid - NOT A STREETLIGHT ISSUE / NO...</td>\n",
       "      <td>PG and E - Streetlights Queue</td>\n",
       "      <td>Graffiti Public Property</td>\n",
       "      <td>Offensive Graffiti on Public Property</td>\n",
       "      <td>Other_enter_additional_details_below - Offensive</td>\n",
       "      <td>Intersection of 18TH ST and SAN CARLOS ST</td>\n",
       "      <td>9.0</td>\n",
       "      <td>Mission</td>\n",
       "      <td>(37.7617892171553, -122.420128321734)</td>\n",
       "      <td>Open311</td>\n",
       "      <td>http://mobile311.sfgov.org/media/san_francisco...</td>\n",
       "      <td>2016-12-14 09:30:53</td>\n",
       "      <td>0.0</td>\n",
       "    </tr>\n",
       "    <tr>\n",
       "      <th>288</th>\n",
       "      <td>6627097</td>\n",
       "      <td>2016-12-14 09:30:06</td>\n",
       "      <td>NaT</td>\n",
       "      <td>2016-12-14 09:35:30</td>\n",
       "      <td>Open</td>\n",
       "      <td>Open</td>\n",
       "      <td>311 Service Request Queue - Hold</td>\n",
       "      <td>Graffiti Public Property</td>\n",
       "      <td>Offensive Graffiti on Public Property</td>\n",
       "      <td>Other_enter_additional_details_below - Offensive</td>\n",
       "      <td>Intersection of 18TH ST and SAN CARLOS ST</td>\n",
       "      <td>9.0</td>\n",
       "      <td>Mission</td>\n",
       "      <td>(37.7617892171553, -122.420128321734)</td>\n",
       "      <td>Open311</td>\n",
       "      <td>http://mobile311.sfgov.org/media/san_francisco...</td>\n",
       "      <td>2016-12-14 09:30:06</td>\n",
       "      <td>NaN</td>\n",
       "    </tr>\n",
       "    <tr>\n",
       "      <th>291</th>\n",
       "      <td>6626734</td>\n",
       "      <td>2016-12-14 08:26:09</td>\n",
       "      <td>NaT</td>\n",
       "      <td>2016-12-14 08:42:48</td>\n",
       "      <td>Open</td>\n",
       "      <td>accepted</td>\n",
       "      <td>DPW Ops Queue</td>\n",
       "      <td>Graffiti Public Property</td>\n",
       "      <td>Not_Offensive Graffiti on Public Property</td>\n",
       "      <td>City_receptacle - Not_Offensive</td>\n",
       "      <td>237 ALABAMA ST, SAN FRANCISCO, CA, 94103</td>\n",
       "      <td>9.0</td>\n",
       "      <td>Mission</td>\n",
       "      <td>(37.766219545495, -122.411999315253)</td>\n",
       "      <td>Open311</td>\n",
       "      <td>http://mobile311.sfgov.org/media/san_francisco...</td>\n",
       "      <td>2016-12-14 08:26:09</td>\n",
       "      <td>NaN</td>\n",
       "    </tr>\n",
       "    <tr>\n",
       "      <th>296</th>\n",
       "      <td>6626504</td>\n",
       "      <td>2016-12-14 07:01:33</td>\n",
       "      <td>NaT</td>\n",
       "      <td>2016-12-14 07:01:36</td>\n",
       "      <td>Open</td>\n",
       "      <td>Open</td>\n",
       "      <td>US Postal Service Maintenance Queue</td>\n",
       "      <td>Graffiti Public Property</td>\n",
       "      <td>Offensive Graffiti on Public Property</td>\n",
       "      <td>Mail_box - Offensive</td>\n",
       "      <td>3227 21ST ST, SAN FRANCISCO, CA, 94110</td>\n",
       "      <td>9.0</td>\n",
       "      <td>Mission</td>\n",
       "      <td>(37.756889946944, -122.419487191856)</td>\n",
       "      <td>Open311</td>\n",
       "      <td>http://mobile311.sfgov.org/media/san_francisco...</td>\n",
       "      <td>2016-12-14 07:01:33</td>\n",
       "      <td>NaN</td>\n",
       "    </tr>\n",
       "    <tr>\n",
       "      <th>305</th>\n",
       "      <td>6625766</td>\n",
       "      <td>2016-12-13 17:09:56</td>\n",
       "      <td>NaT</td>\n",
       "      <td>2016-12-13 17:09:56</td>\n",
       "      <td>Open</td>\n",
       "      <td>Open</td>\n",
       "      <td>US Postal Service Maintenance Queue</td>\n",
       "      <td>Graffiti Public Property</td>\n",
       "      <td>Not_Offensive Graffiti on Public Property</td>\n",
       "      <td>Mail_box - Not_Offensive</td>\n",
       "      <td>305 SOUTH VAN NESS AVE, SAN FRANCISCO, CA, 94103</td>\n",
       "      <td>9.0</td>\n",
       "      <td>Mission</td>\n",
       "      <td>(37.768257987614, -122.417473219081)</td>\n",
       "      <td>Open311</td>\n",
       "      <td>http://mobile311.sfgov.org/media/san_francisco...</td>\n",
       "      <td>2016-12-13 17:09:56</td>\n",
       "      <td>NaN</td>\n",
       "    </tr>\n",
       "    <tr>\n",
       "      <th>306</th>\n",
       "      <td>6625752</td>\n",
       "      <td>2016-12-13 17:07:16</td>\n",
       "      <td>NaT</td>\n",
       "      <td>2016-12-13 17:25:59</td>\n",
       "      <td>Open</td>\n",
       "      <td>accepted</td>\n",
       "      <td>DPW Ops Queue</td>\n",
       "      <td>Graffiti Public Property</td>\n",
       "      <td>Not_Offensive Graffiti on Public Property</td>\n",
       "      <td>Pole - Not_Offensive</td>\n",
       "      <td>429 SOUTH VAN NESS AVE, SAN FRANCISCO, CA, 94103</td>\n",
       "      <td>9.0</td>\n",
       "      <td>Mission</td>\n",
       "      <td>(37.766346926433, -122.417416934391)</td>\n",
       "      <td>Open311</td>\n",
       "      <td>http://mobile311.sfgov.org/media/san_francisco...</td>\n",
       "      <td>2016-12-13 17:07:16</td>\n",
       "      <td>NaN</td>\n",
       "    </tr>\n",
       "  </tbody>\n",
       "</table>\n",
       "<p>85 rows × 18 columns</p>\n",
       "</div>"
      ],
      "text/plain": [
       "      CaseID              Opened              Closed             Updated  \\\n",
       "1    6632969 2016-12-15 18:23:52                 NaT 2016-12-15 18:27:52   \n",
       "2    6632939 2016-12-15 18:06:45                 NaT 2016-12-15 19:09:11   \n",
       "4    6632864 2016-12-15 17:30:31                 NaT 2016-12-15 17:30:31   \n",
       "7    6632192 2016-12-15 14:46:44                 NaT 2016-12-15 16:55:40   \n",
       "8    6632185 2016-12-15 14:45:41                 NaT 2016-12-15 16:55:39   \n",
       "9    6632173 2016-12-15 14:42:34                 NaT 2016-12-15 19:15:58   \n",
       "10   6632163 2016-12-15 14:39:52                 NaT 2016-12-15 16:55:38   \n",
       "11   6632161 2016-12-15 14:39:33                 NaT 2016-12-15 16:55:36   \n",
       "12   6632160 2016-12-15 14:39:17                 NaT 2016-12-15 16:55:35   \n",
       "14   6631965 2016-12-15 13:45:09                 NaT 2016-12-15 14:14:56   \n",
       "15   6631961 2016-12-15 13:44:41                 NaT 2016-12-15 13:44:41   \n",
       "16   6631955 2016-12-15 13:43:55                 NaT 2016-12-15 14:18:12   \n",
       "17   6631950 2016-12-15 13:43:17                 NaT 2016-12-15 19:19:08   \n",
       "18   6631944 2016-12-15 13:41:40 2016-12-15 16:50:04 2016-12-15 16:50:04   \n",
       "19   6631941 2016-12-15 13:41:08                 NaT 2016-12-15 13:41:08   \n",
       "20   6631936 2016-12-15 13:40:43                 NaT 2016-12-15 14:19:43   \n",
       "21   6631933 2016-12-15 13:40:18                 NaT 2016-12-15 16:40:16   \n",
       "22   6631929 2016-12-15 13:39:30                 NaT 2016-12-15 16:24:24   \n",
       "23   6631922 2016-12-15 13:38:15                 NaT 2016-12-15 13:38:15   \n",
       "25   6631842 2016-12-15 13:14:58                 NaT 2016-12-15 13:14:58   \n",
       "26   6631841 2016-12-15 13:14:57                 NaT 2016-12-15 13:14:57   \n",
       "42   6631037 2016-12-15 10:18:18                 NaT 2016-12-15 10:18:18   \n",
       "48   6630982 2016-12-15 10:09:01                 NaT 2016-12-15 14:55:11   \n",
       "50   6630974 2016-12-15 10:06:56                 NaT 2016-12-15 10:18:14   \n",
       "74   6630666 2016-12-15 09:14:02                 NaT 2016-12-15 09:14:03   \n",
       "75   6630665 2016-12-15 09:14:01                 NaT 2016-12-15 09:14:01   \n",
       "90   6630430 2016-12-15 08:36:33                 NaT 2016-12-15 08:41:30   \n",
       "91   6630415 2016-12-15 08:33:51                 NaT 2016-12-15 09:46:02   \n",
       "92   6630408 2016-12-15 08:31:36                 NaT 2016-12-15 08:58:55   \n",
       "93   6630400 2016-12-15 08:30:32                 NaT 2016-12-15 08:58:54   \n",
       "..       ...                 ...                 ...                 ...   \n",
       "199  6628507 2016-12-14 13:38:50                 NaT 2016-12-14 15:11:13   \n",
       "201  6628496 2016-12-14 13:37:13                 NaT 2016-12-14 15:23:52   \n",
       "216  6628380 2016-12-14 13:10:28                 NaT 2016-12-14 13:13:25   \n",
       "218  6628377 2016-12-14 13:10:06                 NaT 2016-12-14 13:31:03   \n",
       "219  6628362 2016-12-14 13:08:33                 NaT 2016-12-14 13:31:04   \n",
       "221  6628356 2016-12-14 13:07:20                 NaT 2016-12-14 13:12:36   \n",
       "222  6628354 2016-12-14 13:07:06                 NaT 2016-12-14 13:07:06   \n",
       "224  6628346 2016-12-14 13:06:21                 NaT 2016-12-14 13:31:01   \n",
       "226  6628335 2016-12-14 13:04:49                 NaT 2016-12-14 13:16:11   \n",
       "227  6628329 2016-12-14 13:03:55                 NaT 2016-12-14 13:31:00   \n",
       "228  6628325 2016-12-14 13:03:08                 NaT 2016-12-14 13:03:08   \n",
       "231  6628308 2016-12-14 13:00:55                 NaT 2016-12-14 13:00:55   \n",
       "252  6627686 2016-12-14 11:08:23                 NaT 2016-12-14 11:17:09   \n",
       "253  6627685 2016-12-14 11:08:08                 NaT 2016-12-14 11:21:45   \n",
       "268  6627454 2016-12-14 10:28:05                 NaT 2016-12-14 10:28:05   \n",
       "274  6627254 2016-12-14 09:54:44                 NaT 2016-12-14 10:07:09   \n",
       "278  6627203 2016-12-14 09:45:43                 NaT 2016-12-14 09:45:43   \n",
       "279  6627200 2016-12-14 09:45:19                 NaT 2016-12-14 09:50:19   \n",
       "281  6627194 2016-12-14 09:43:54                 NaT 2016-12-14 10:16:17   \n",
       "282  6627187 2016-12-14 09:43:09                 NaT 2016-12-14 10:16:16   \n",
       "283  6627184 2016-12-14 09:42:52                 NaT 2016-12-14 09:42:52   \n",
       "284  6627129 2016-12-14 09:34:54 2016-12-15 01:12:10 2016-12-15 01:12:10   \n",
       "285  6627123 2016-12-14 09:34:03                 NaT 2016-12-14 09:34:03   \n",
       "286  6627114 2016-12-14 09:32:21                 NaT 2016-12-14 09:32:21   \n",
       "287  6627104 2016-12-14 09:30:53 2016-12-15 08:25:39 2016-12-15 08:25:39   \n",
       "288  6627097 2016-12-14 09:30:06                 NaT 2016-12-14 09:35:30   \n",
       "291  6626734 2016-12-14 08:26:09                 NaT 2016-12-14 08:42:48   \n",
       "296  6626504 2016-12-14 07:01:33                 NaT 2016-12-14 07:01:36   \n",
       "305  6625766 2016-12-13 17:09:56                 NaT 2016-12-13 17:09:56   \n",
       "306  6625752 2016-12-13 17:07:16                 NaT 2016-12-13 17:25:59   \n",
       "\n",
       "     Status                                       Status Notes  \\\n",
       "1      Open                                           accepted   \n",
       "2      Open                                           accepted   \n",
       "4      Open                                           accepted   \n",
       "7      Open                                           accepted   \n",
       "8      Open                                           accepted   \n",
       "9      Open                                               Open   \n",
       "10     Open                                           accepted   \n",
       "11     Open                                               open   \n",
       "12     Open                                           accepted   \n",
       "14     Open                                           accepted   \n",
       "15     Open                                           accepted   \n",
       "16     Open                                           accepted   \n",
       "17     Open                                               Open   \n",
       "18   Closed  Case Resolved - meter shop has closed this req...   \n",
       "19     Open                                               Open   \n",
       "20     Open                                           accepted   \n",
       "21     Open                                           accepted   \n",
       "22     Open                                           accepted   \n",
       "23     Open                                               Open   \n",
       "25     Open                                           accepted   \n",
       "26     Open                                           accepted   \n",
       "42     Open                                           accepted   \n",
       "48     Open                                               open   \n",
       "50     Open                                               open   \n",
       "74     Open                                           accepted   \n",
       "75     Open                                           accepted   \n",
       "90     Open                                               Open   \n",
       "91     Open                                           accepted   \n",
       "92     Open                                           accepted   \n",
       "93     Open                                               open   \n",
       "..      ...                                                ...   \n",
       "199    Open                                               Open   \n",
       "201    Open                                           accepted   \n",
       "216    Open                                           accepted   \n",
       "218    Open                                           accepted   \n",
       "219    Open                                               open   \n",
       "221    Open                                               Open   \n",
       "222    Open                                               Open   \n",
       "224    Open                                           accepted   \n",
       "226    Open                                           accepted   \n",
       "227    Open                                               open   \n",
       "228    Open                                               Open   \n",
       "231    Open                                           accepted   \n",
       "252    Open                                           accepted   \n",
       "253    Open                                           accepted   \n",
       "268    Open                                                new   \n",
       "274    Open                                               Open   \n",
       "278    Open                                           accepted   \n",
       "279    Open                                           accepted   \n",
       "281    Open                                               open   \n",
       "282    Open                                           accepted   \n",
       "283    Open                                           accepted   \n",
       "284  Closed  Case Resolved - Duplicate RFA. Refer to RFA# 2...   \n",
       "285    Open                                           accepted   \n",
       "286    Open                                               Open   \n",
       "287  Closed  Case is Invalid - NOT A STREETLIGHT ISSUE / NO...   \n",
       "288    Open                                               Open   \n",
       "291    Open                                           accepted   \n",
       "296    Open                                               Open   \n",
       "305    Open                                               Open   \n",
       "306    Open                                           accepted   \n",
       "\n",
       "                      Responsible Agency                   Category  \\\n",
       "1                          DPW Ops Queue   Graffiti Public Property   \n",
       "2                          DPW Ops Queue  Graffiti Private Property   \n",
       "4                          DPW Ops Queue  Graffiti Private Property   \n",
       "7                          DPW Ops Queue  Graffiti Private Property   \n",
       "8                          DPW Ops Queue  Graffiti Private Property   \n",
       "9       311 Service Request Queue - Hold   Graffiti Public Property   \n",
       "10                         DPW Ops Queue   Graffiti Public Property   \n",
       "11                         DPW Ops Queue   Graffiti Public Property   \n",
       "12                         DPW Ops Queue   Graffiti Public Property   \n",
       "14                         DPW Ops Queue   Graffiti Public Property   \n",
       "15                         DPW Ops Queue  Graffiti Private Property   \n",
       "16                         DPW Ops Queue   Graffiti Public Property   \n",
       "17      311 Service Request Queue - Hold   Graffiti Public Property   \n",
       "18                  DPT Meter_Bike Queue   Graffiti Public Property   \n",
       "19   US Postal Service Maintenance Queue   Graffiti Public Property   \n",
       "20                         DPW Ops Queue   Graffiti Public Property   \n",
       "21                         DPW Ops Queue  Graffiti Private Property   \n",
       "22                         DPW Ops Queue  Graffiti Private Property   \n",
       "23   US Postal Service Maintenance Queue   Graffiti Public Property   \n",
       "25                         DPW Ops Queue  Graffiti Private Property   \n",
       "26                         DPW Ops Queue  Graffiti Private Property   \n",
       "42                         DPW Ops Queue  Graffiti Private Property   \n",
       "48                         DPW BSM Queue  Graffiti Private Property   \n",
       "50                         DPW Ops Queue  Graffiti Private Property   \n",
       "74                         DPW Ops Queue  Graffiti Private Property   \n",
       "75                         DPW Ops Queue  Graffiti Private Property   \n",
       "90                  311 Supervisor Queue   Graffiti Public Property   \n",
       "91                         DPW Ops Queue   Graffiti Public Property   \n",
       "92                         DPW Ops Queue   Graffiti Public Property   \n",
       "93                         DPW Ops Queue   Graffiti Public Property   \n",
       "..                                   ...                        ...   \n",
       "199     311 Service Request Queue - Hold   Graffiti Public Property   \n",
       "201                        DPW Ops Queue   Graffiti Public Property   \n",
       "216                        DPW Ops Queue   Graffiti Public Property   \n",
       "218                        DPW Ops Queue  Graffiti Private Property   \n",
       "219                        DPW Ops Queue  Graffiti Private Property   \n",
       "221     311 Service Request Queue - Hold   Graffiti Public Property   \n",
       "222  US Postal Service Maintenance Queue   Graffiti Public Property   \n",
       "224                        DPW Ops Queue  Graffiti Private Property   \n",
       "226                        DPW Ops Queue   Graffiti Public Property   \n",
       "227                        DPW Ops Queue  Graffiti Private Property   \n",
       "228  US Postal Service Maintenance Queue   Graffiti Public Property   \n",
       "231                 DPT Meter_Bike Queue   Graffiti Public Property   \n",
       "252                        DPW Ops Queue   Graffiti Public Property   \n",
       "253                        DPW Ops Queue   Graffiti Public Property   \n",
       "268  US Postal Service Maintenance Queue   Graffiti Public Property   \n",
       "274     311 Service Request Queue - Hold   Graffiti Public Property   \n",
       "278                        DPW Ops Queue  Graffiti Private Property   \n",
       "279                        DPW Ops Queue   Graffiti Public Property   \n",
       "281                        DPW Ops Queue   Graffiti Public Property   \n",
       "282                        DPW Ops Queue   Graffiti Public Property   \n",
       "283                        DPW Ops Queue  Graffiti Private Property   \n",
       "284                        DPW BSM Queue  Graffiti Private Property   \n",
       "285                        DPW Ops Queue  Graffiti Private Property   \n",
       "286  US Postal Service Maintenance Queue   Graffiti Public Property   \n",
       "287        PG and E - Streetlights Queue   Graffiti Public Property   \n",
       "288     311 Service Request Queue - Hold   Graffiti Public Property   \n",
       "291                        DPW Ops Queue   Graffiti Public Property   \n",
       "296  US Postal Service Maintenance Queue   Graffiti Public Property   \n",
       "305  US Postal Service Maintenance Queue   Graffiti Public Property   \n",
       "306                        DPW Ops Queue   Graffiti Public Property   \n",
       "\n",
       "                                   Request Type  \\\n",
       "1     Not_Offensive Graffiti on Public Property   \n",
       "2    Not_Offensive Graffiti on Private Property   \n",
       "4        Offensive Graffiti on Private Property   \n",
       "7        Offensive Graffiti on Private Property   \n",
       "8        Offensive Graffiti on Private Property   \n",
       "9         Offensive Graffiti on Public Property   \n",
       "10        Offensive Graffiti on Public Property   \n",
       "11    Not_Offensive Graffiti on Public Property   \n",
       "12        Offensive Graffiti on Public Property   \n",
       "14    Not_Offensive Graffiti on Public Property   \n",
       "15       Offensive Graffiti on Private Property   \n",
       "16    Not_Offensive Graffiti on Public Property   \n",
       "17        Offensive Graffiti on Public Property   \n",
       "18        Offensive Graffiti on Public Property   \n",
       "19        Offensive Graffiti on Public Property   \n",
       "20    Not_Offensive Graffiti on Public Property   \n",
       "21       Offensive Graffiti on Private Property   \n",
       "22       Offensive Graffiti on Private Property   \n",
       "23        Offensive Graffiti on Public Property   \n",
       "25   Not_Offensive Graffiti on Private Property   \n",
       "26   Not_Offensive Graffiti on Private Property   \n",
       "42   Not_Offensive Graffiti on Private Property   \n",
       "48   Not_Offensive Graffiti on Private Property   \n",
       "50   Not_Offensive Graffiti on Private Property   \n",
       "74   Not_Offensive Graffiti on Private Property   \n",
       "75   Not_Offensive Graffiti on Private Property   \n",
       "90        Offensive Graffiti on Public Property   \n",
       "91    Not_Offensive Graffiti on Public Property   \n",
       "92    Not_Offensive Graffiti on Public Property   \n",
       "93        Offensive Graffiti on Public Property   \n",
       "..                                          ...   \n",
       "199       Offensive Graffiti on Public Property   \n",
       "201   Not_Offensive Graffiti on Public Property   \n",
       "216       Offensive Graffiti on Public Property   \n",
       "218      Offensive Graffiti on Private Property   \n",
       "219      Offensive Graffiti on Private Property   \n",
       "221       Offensive Graffiti on Public Property   \n",
       "222       Offensive Graffiti on Public Property   \n",
       "224      Offensive Graffiti on Private Property   \n",
       "226       Offensive Graffiti on Public Property   \n",
       "227      Offensive Graffiti on Private Property   \n",
       "228       Offensive Graffiti on Public Property   \n",
       "231   Not_Offensive Graffiti on Public Property   \n",
       "252       Offensive Graffiti on Public Property   \n",
       "253   Not_Offensive Graffiti on Public Property   \n",
       "268       Offensive Graffiti on Public Property   \n",
       "274       Offensive Graffiti on Public Property   \n",
       "278      Offensive Graffiti on Private Property   \n",
       "279   Not_Offensive Graffiti on Public Property   \n",
       "281   Not_Offensive Graffiti on Public Property   \n",
       "282   Not_Offensive Graffiti on Public Property   \n",
       "283      Offensive Graffiti on Private Property   \n",
       "284  Not_Offensive Graffiti on Private Property   \n",
       "285  Not_Offensive Graffiti on Private Property   \n",
       "286   Not_Offensive Graffiti on Public Property   \n",
       "287       Offensive Graffiti on Public Property   \n",
       "288       Offensive Graffiti on Public Property   \n",
       "291   Not_Offensive Graffiti on Public Property   \n",
       "296       Offensive Graffiti on Public Property   \n",
       "305   Not_Offensive Graffiti on Public Property   \n",
       "306   Not_Offensive Graffiti on Public Property   \n",
       "\n",
       "                                      Request Details  \\\n",
       "1                          Signal_box - Not_Offensive   \n",
       "2                Building_residential - Not_Offensive   \n",
       "4                    Building_residential - Offensive   \n",
       "7                     Building_commercial - Offensive   \n",
       "8                    Building_residential - Offensive   \n",
       "9    Other_enter_additional_details_below - Offensive   \n",
       "10                              Bike_rack - Offensive   \n",
       "11                               Pole - Not_Offensive   \n",
       "12                              Bike_rack - Offensive   \n",
       "14                 Sidewalk_structure - Not_Offensive   \n",
       "15          Sidewalk_in_front_of_property - Offensive   \n",
       "16                               Pole - Not_Offensive   \n",
       "17   Other_enter_additional_details_below - Offensive   \n",
       "18                          Parking_meter - Offensive   \n",
       "19                               Mail_box - Offensive   \n",
       "20                         Signal_box - Not_Offensive   \n",
       "21          Sidewalk_in_front_of_property - Offensive   \n",
       "22                    Building_commercial - Offensive   \n",
       "23                               Mail_box - Offensive   \n",
       "25                     Building_other - Not_Offensive   \n",
       "26                     Building_other - Not_Offensive   \n",
       "42                     Building_other - Not_Offensive   \n",
       "48                Building_commercial - Not_Offensive   \n",
       "50                Building_commercial - Not_Offensive   \n",
       "74                     Building_other - Not_Offensive   \n",
       "75                     Building_other - Not_Offensive   \n",
       "90   Other_enter_additional_details_below - Offensive   \n",
       "91                         Signal_box - Not_Offensive   \n",
       "92                          Bike_rack - Not_Offensive   \n",
       "93                              Bike_rack - Offensive   \n",
       "..                                                ...   \n",
       "199  Other_enter_additional_details_below - Offensive   \n",
       "201                        Signal_box - Not_Offensive   \n",
       "216                                  Pole - Offensive   \n",
       "218                        Building_other - Offensive   \n",
       "219                        Building_other - Offensive   \n",
       "221  Other_enter_additional_details_below - Offensive   \n",
       "222                              Mail_box - Offensive   \n",
       "224                   Building_commercial - Offensive   \n",
       "226                                  Pole - Offensive   \n",
       "227                   Building_commercial - Offensive   \n",
       "228                              Mail_box - Offensive   \n",
       "231                     Parking_meter - Not_Offensive   \n",
       "252                   Fire_Police_Callbox - Offensive   \n",
       "253                              Pole - Not_Offensive   \n",
       "268                              Mail_box - Offensive   \n",
       "274  Other_enter_additional_details_below - Offensive   \n",
       "278                  Building_residential - Offensive   \n",
       "279                Sidewalk_structure - Not_Offensive   \n",
       "281                              Pole - Not_Offensive   \n",
       "282                              Pole - Not_Offensive   \n",
       "283                   Building_commercial - Offensive   \n",
       "284               Building_commercial - Not_Offensive   \n",
       "285               Building_commercial - Not_Offensive   \n",
       "286                          Mail_box - Not_Offensive   \n",
       "287  Other_enter_additional_details_below - Offensive   \n",
       "288  Other_enter_additional_details_below - Offensive   \n",
       "291                   City_receptacle - Not_Offensive   \n",
       "296                              Mail_box - Offensive   \n",
       "305                          Mail_box - Not_Offensive   \n",
       "306                              Pole - Not_Offensive   \n",
       "\n",
       "                                               Address  Supervisor District  \\\n",
       "1               Intersection of 20TH ST and FLORIDA ST                  9.0   \n",
       "2             2701 FOLSOM ST, SAN FRANCISCO, CA, 94110                  9.0   \n",
       "4            Intersection of 18TH ST and SAN CARLOS ST                  9.0   \n",
       "7               3149 24TH ST, SAN FRANCISCO, CA, 94110                  9.0   \n",
       "8               3173 24TH ST, SAN FRANCISCO, CA, 94110                  9.0   \n",
       "9    1308 SOUTH VAN NESS AVE, SAN FRANCISCO, CA, 94110                  9.0   \n",
       "10           2807 MISSION ST, SAN FRANCISCO, CA, 94110                  9.0   \n",
       "11           2807 MISSION ST, SAN FRANCISCO, CA, 94110                  9.0   \n",
       "12           2807 MISSION ST, SAN FRANCISCO, CA, 94110                  9.0   \n",
       "14              Intersection of 24TH ST and MISSION ST                  9.0   \n",
       "15                Intersection of 24TH ST and LILAC ST                  9.0   \n",
       "16                Intersection of 24TH ST and LILAC ST                  9.0   \n",
       "17               894 CAPP ST, SAN FRANCISCO, CA, 94110                  9.0   \n",
       "18              Intersection of 24TH ST and CYPRESS ST                  9.0   \n",
       "19   1308 SOUTH VAN NESS AVE, SAN FRANCISCO, CA, 94110                  9.0   \n",
       "20      Intersection of 24TH ST and SOUTH VAN NESS AVE                  9.0   \n",
       "21              3195 24TH ST, SAN FRANCISCO, CA, 94110                  9.0   \n",
       "22              3163 24TH ST, SAN FRANCISCO, CA, 94110                  9.0   \n",
       "23              3149 24TH ST, SAN FRANCISCO, CA, 94110                  9.0   \n",
       "25              3075 23RD ST, SAN FRANCISCO, CA, 94110                  9.0   \n",
       "26              3055 23RD ST, SAN FRANCISCO, CA, 94110                  9.0   \n",
       "42              2970 24TH ST, SAN FRANCISCO, CA, 94110                  9.0   \n",
       "48           2172 MISSION ST, SAN FRANCISCO, CA, 94110                  9.0   \n",
       "50           2178 MISSION ST, SAN FRANCISCO, CA, 94110                  9.0   \n",
       "74              3047 24TH ST, SAN FRANCISCO, CA, 94110                  9.0   \n",
       "75            2819 FOLSOM ST, SAN FRANCISCO, CA, 94110                  9.0   \n",
       "90           727 VALENCIA ST, SAN FRANCISCO, CA, 94110                  9.0   \n",
       "91           Intersection of 18TH ST and SAN CARLOS ST                  9.0   \n",
       "92           2246 MISSION ST, SAN FRANCISCO, CA, 94110                  9.0   \n",
       "93           2246 MISSION ST, SAN FRANCISCO, CA, 94110                  9.0   \n",
       "..                                                 ...                  ...   \n",
       "199     Intersection of 24TH ST and SOUTH VAN NESS AVE                  9.0   \n",
       "201     Intersection of 24TH ST and SOUTH VAN NESS AVE                  9.0   \n",
       "216             2899 24TH ST, SAN FRANCISCO, CA, 94110                  9.0   \n",
       "218             2899 24TH ST, SAN FRANCISCO, CA, 94110                  9.0   \n",
       "219             3039 24TH ST, SAN FRANCISCO, CA, 94110                  9.0   \n",
       "221              Intersection of 24TH ST and TREAT AVE                  9.0   \n",
       "222              Intersection of 24TH ST and TREAT AVE                  9.0   \n",
       "224             3049 24TH ST, SAN FRANCISCO, CA, 94110                  9.0   \n",
       "226               Intersection of 24TH ST and LUCKY ST                  9.0   \n",
       "227           2801 FOLSOM ST, SAN FRANCISCO, CA, 94110                  9.0   \n",
       "228           2806 FOLSOM ST, SAN FRANCISCO, CA, 94110                  9.0   \n",
       "231             Intersection of 24TH ST and CYPRESS ST                  9.0   \n",
       "252           2806 FOLSOM ST, SAN FRANCISCO, CA, 94110                  9.0   \n",
       "253              Intersection of 24TH ST and FOLSOM ST                  9.0   \n",
       "268              Intersection of BRYANT ST and 23RD ST                  9.0   \n",
       "274             Intersection of 17TH ST and MISSION ST                  9.0   \n",
       "278               36 HOFF ST, SAN FRANCISCO, CA, 94110                  9.0   \n",
       "279               36 HOFF ST, SAN FRANCISCO, CA, 94110                  9.0   \n",
       "281             3338 17TH ST, SAN FRANCISCO, CA, 94110                  9.0   \n",
       "282             3388 17TH ST, SAN FRANCISCO, CA, 94110                  9.0   \n",
       "283             3388 17TH ST, SAN FRANCISCO, CA, 94110                  9.0   \n",
       "284          2172 MISSION ST, SAN FRANCISCO, CA, 94110                  9.0   \n",
       "285          2191 MISSION ST, SAN FRANCISCO, CA, 94110                  9.0   \n",
       "286             Intersection of 18TH ST and MISSION ST                  9.0   \n",
       "287          Intersection of 18TH ST and SAN CARLOS ST                  9.0   \n",
       "288          Intersection of 18TH ST and SAN CARLOS ST                  9.0   \n",
       "291           237 ALABAMA ST, SAN FRANCISCO, CA, 94103                  9.0   \n",
       "296             3227 21ST ST, SAN FRANCISCO, CA, 94110                  9.0   \n",
       "305   305 SOUTH VAN NESS AVE, SAN FRANCISCO, CA, 94103                  9.0   \n",
       "306   429 SOUTH VAN NESS AVE, SAN FRANCISCO, CA, 94103                  9.0   \n",
       "\n",
       "    Neighborhood                                  Point             Source  \\\n",
       "1        Mission  (37.7591338604323, -122.410758686679)            Open311   \n",
       "2        Mission   (37.753980359532, -122.414036033345)            Open311   \n",
       "4        Mission  (37.7617892171553, -122.420128321734)            Open311   \n",
       "7        Mission    (37.75240055061, -122.415135717521)            Open311   \n",
       "8        Mission     (37.7522517601, -122.415646797574)            Open311   \n",
       "9        Mission   (37.752124257518, -122.416579206991)            Open311   \n",
       "10       Mission   (37.752086884874, -122.418244876226)            Open311   \n",
       "11       Mission   (37.752086884874, -122.418244876226)            Open311   \n",
       "12       Mission   (37.752086884874, -122.418244876226)            Open311   \n",
       "14       Mission  (37.7522394710724, -122.418445426677)            Open311   \n",
       "15       Mission  (37.7522712511524, -122.417876793921)            Open311   \n",
       "16       Mission  (37.7522712511524, -122.417876793921)            Open311   \n",
       "17       Mission   (37.752407401922, -122.417519108649)            Open311   \n",
       "18       Mission  (37.7523366918592, -122.416826066215)            Open311   \n",
       "19       Mission   (37.752124257518, -122.416579206991)            Open311   \n",
       "20       Mission  (37.7523727280327, -122.416265499131)            Open311   \n",
       "21       Mission   (37.752263558863, -122.415949157112)            Open311   \n",
       "22       Mission   (37.752312886792, -122.415443169141)            Open311   \n",
       "23       Mission    (37.75240055061, -122.415135717521)            Open311   \n",
       "25       Mission    (37.754013648053, -122.41368121943)  Integrated Agency   \n",
       "26       Mission   (37.754035279065, -122.413321507792)  Integrated Agency   \n",
       "42       Mission   (37.752781553943, -122.411550796508)  Integrated Agency   \n",
       "48       Mission   (37.762253612186, -122.419559792544)            Open311   \n",
       "50       Mission   (37.762143667238, -122.419587357347)            Open311   \n",
       "74       Mission   (37.752518792718, -122.412974583321)  Integrated Agency   \n",
       "75       Mission   (37.752169169516, -122.413868103992)  Integrated Agency   \n",
       "90       Mission   (37.761156817383, -122.421345097659)            Open311   \n",
       "91       Mission  (37.7617892171553, -122.420128321734)            Open311   \n",
       "92       Mission   (37.761061038647, -122.419445617105)            Open311   \n",
       "93       Mission   (37.761061038647, -122.419445617105)            Open311   \n",
       "..           ...                                    ...                ...   \n",
       "199      Mission  (37.7523727280327, -122.416265499131)            Open311   \n",
       "201      Mission  (37.7523727280327, -122.416265499131)            Open311   \n",
       "216      Mission   (37.752699631121, -122.410034375477)            Open311   \n",
       "218      Mission   (37.752699631121, -122.410034375477)            Open311   \n",
       "219      Mission   (37.752475789139, -122.412748938783)            Open311   \n",
       "221      Mission  (37.7525728208692, -122.412995081497)            Open311   \n",
       "222      Mission  (37.7525728208692, -122.412995081497)            Open311   \n",
       "224      Mission   (37.752429274045, -122.413238981762)            Open311   \n",
       "226      Mission  (37.7525379726793, -122.413517279998)            Open311   \n",
       "227      Mission   (37.752356724939, -122.413885869267)            Open311   \n",
       "228      Mission   (37.752343885428, -122.414264400063)            Open311   \n",
       "231      Mission  (37.7523366918592, -122.416826066215)            Open311   \n",
       "252      Mission   (37.752343885428, -122.414264400063)            Open311   \n",
       "253      Mission  (37.7525059390554, -122.414085909585)            Open311   \n",
       "268      Mission  (37.7543983949677, -122.409253356364)  Integrated Agency   \n",
       "274      Mission  (37.7634292697508, -122.419512595608)            Open311   \n",
       "278      Mission    (37.764384806834, -122.42062030643)            Open311   \n",
       "279      Mission    (37.764384806834, -122.42062030643)            Open311   \n",
       "281      Mission   (37.763461012193, -122.420677979025)            Open311   \n",
       "282      Mission    (37.76344035281, -122.421019947123)            Open311   \n",
       "283      Mission    (37.76344035281, -122.421019947123)            Open311   \n",
       "284      Mission   (37.762253612186, -122.419559792544)            Open311   \n",
       "285      Mission   (37.762003712327, -122.419064566624)            Open311   \n",
       "286      Mission  (37.7618358043403, -122.419359315196)            Open311   \n",
       "287      Mission  (37.7617892171553, -122.420128321734)            Open311   \n",
       "288      Mission  (37.7617892171553, -122.420128321734)            Open311   \n",
       "291      Mission   (37.766219545495, -122.411999315253)            Open311   \n",
       "296      Mission   (37.756889946944, -122.419487191856)            Open311   \n",
       "305      Mission   (37.768257987614, -122.417473219081)            Open311   \n",
       "306      Mission   (37.766346926433, -122.417416934391)            Open311   \n",
       "\n",
       "                                             Media URL                time  \\\n",
       "1    http://mobile311.sfgov.org/media/san_francisco... 2016-12-15 18:23:52   \n",
       "2    http://mobile311.sfgov.org/media/san_francisco... 2016-12-15 18:06:45   \n",
       "4    http://mobile311.sfgov.org/media/san_francisco... 2016-12-15 17:30:31   \n",
       "7    http://mobile311.sfgov.org/media/san_francisco... 2016-12-15 14:46:44   \n",
       "8    http://mobile311.sfgov.org/media/san_francisco... 2016-12-15 14:45:41   \n",
       "9    http://mobile311.sfgov.org/media/san_francisco... 2016-12-15 14:42:34   \n",
       "10   http://mobile311.sfgov.org/media/san_francisco... 2016-12-15 14:39:52   \n",
       "11   http://mobile311.sfgov.org/media/san_francisco... 2016-12-15 14:39:33   \n",
       "12   http://mobile311.sfgov.org/media/san_francisco... 2016-12-15 14:39:17   \n",
       "14   http://mobile311.sfgov.org/media/san_francisco... 2016-12-15 13:45:09   \n",
       "15   http://mobile311.sfgov.org/media/san_francisco... 2016-12-15 13:44:41   \n",
       "16   http://mobile311.sfgov.org/media/san_francisco... 2016-12-15 13:43:55   \n",
       "17   http://mobile311.sfgov.org/media/san_francisco... 2016-12-15 13:43:17   \n",
       "18   http://mobile311.sfgov.org/media/san_francisco... 2016-12-15 13:41:40   \n",
       "19   http://mobile311.sfgov.org/media/san_francisco... 2016-12-15 13:41:08   \n",
       "20   http://mobile311.sfgov.org/media/san_francisco... 2016-12-15 13:40:43   \n",
       "21   http://mobile311.sfgov.org/media/san_francisco... 2016-12-15 13:40:18   \n",
       "22   http://mobile311.sfgov.org/media/san_francisco... 2016-12-15 13:39:30   \n",
       "23   http://mobile311.sfgov.org/media/san_francisco... 2016-12-15 13:38:15   \n",
       "25                                                 NaN 2016-12-15 13:14:58   \n",
       "26                                                 NaN 2016-12-15 13:14:57   \n",
       "42                                                 NaN 2016-12-15 10:18:18   \n",
       "48   http://mobile311.sfgov.org/media/san_francisco... 2016-12-15 10:09:01   \n",
       "50   http://mobile311.sfgov.org/media/san_francisco... 2016-12-15 10:06:56   \n",
       "74                                                 NaN 2016-12-15 09:14:02   \n",
       "75                                                 NaN 2016-12-15 09:14:01   \n",
       "90   http://mobile311.sfgov.org/media/san_francisco... 2016-12-15 08:36:33   \n",
       "91   http://mobile311.sfgov.org/media/san_francisco... 2016-12-15 08:33:51   \n",
       "92   http://mobile311.sfgov.org/media/san_francisco... 2016-12-15 08:31:36   \n",
       "93   http://mobile311.sfgov.org/media/san_francisco... 2016-12-15 08:30:32   \n",
       "..                                                 ...                 ...   \n",
       "199  http://mobile311.sfgov.org/media/san_francisco... 2016-12-14 13:38:50   \n",
       "201  http://mobile311.sfgov.org/media/san_francisco... 2016-12-14 13:37:13   \n",
       "216  http://mobile311.sfgov.org/media/san_francisco... 2016-12-14 13:10:28   \n",
       "218  http://mobile311.sfgov.org/media/san_francisco... 2016-12-14 13:10:06   \n",
       "219  http://mobile311.sfgov.org/media/san_francisco... 2016-12-14 13:08:33   \n",
       "221  http://mobile311.sfgov.org/media/san_francisco... 2016-12-14 13:07:20   \n",
       "222  http://mobile311.sfgov.org/media/san_francisco... 2016-12-14 13:07:06   \n",
       "224  http://mobile311.sfgov.org/media/san_francisco... 2016-12-14 13:06:21   \n",
       "226  http://mobile311.sfgov.org/media/san_francisco... 2016-12-14 13:04:49   \n",
       "227  http://mobile311.sfgov.org/media/san_francisco... 2016-12-14 13:03:55   \n",
       "228  http://mobile311.sfgov.org/media/san_francisco... 2016-12-14 13:03:08   \n",
       "231  http://mobile311.sfgov.org/media/san_francisco... 2016-12-14 13:00:55   \n",
       "252  http://mobile311.sfgov.org/media/san_francisco... 2016-12-14 11:08:23   \n",
       "253  http://mobile311.sfgov.org/media/san_francisco... 2016-12-14 11:08:08   \n",
       "268                                                NaN 2016-12-14 10:28:05   \n",
       "274  http://mobile311.sfgov.org/media/san_francisco... 2016-12-14 09:54:44   \n",
       "278  http://mobile311.sfgov.org/media/san_francisco... 2016-12-14 09:45:43   \n",
       "279  http://mobile311.sfgov.org/media/san_francisco... 2016-12-14 09:45:19   \n",
       "281  http://mobile311.sfgov.org/media/san_francisco... 2016-12-14 09:43:54   \n",
       "282  http://mobile311.sfgov.org/media/san_francisco... 2016-12-14 09:43:09   \n",
       "283  http://mobile311.sfgov.org/media/san_francisco... 2016-12-14 09:42:52   \n",
       "284  http://mobile311.sfgov.org/media/san_francisco... 2016-12-14 09:34:54   \n",
       "285  http://mobile311.sfgov.org/media/san_francisco... 2016-12-14 09:34:03   \n",
       "286  http://mobile311.sfgov.org/media/san_francisco... 2016-12-14 09:32:21   \n",
       "287  http://mobile311.sfgov.org/media/san_francisco... 2016-12-14 09:30:53   \n",
       "288  http://mobile311.sfgov.org/media/san_francisco... 2016-12-14 09:30:06   \n",
       "291  http://mobile311.sfgov.org/media/san_francisco... 2016-12-14 08:26:09   \n",
       "296  http://mobile311.sfgov.org/media/san_francisco... 2016-12-14 07:01:33   \n",
       "305  http://mobile311.sfgov.org/media/san_francisco... 2016-12-13 17:09:56   \n",
       "306  http://mobile311.sfgov.org/media/san_francisco... 2016-12-13 17:07:16   \n",
       "\n",
       "     Diff  \n",
       "1     NaN  \n",
       "2     NaN  \n",
       "4     NaN  \n",
       "7     NaN  \n",
       "8     NaN  \n",
       "9     NaN  \n",
       "10    NaN  \n",
       "11    NaN  \n",
       "12    NaN  \n",
       "14    NaN  \n",
       "15    NaN  \n",
       "16    NaN  \n",
       "17    NaN  \n",
       "18    0.0  \n",
       "19    NaN  \n",
       "20    NaN  \n",
       "21    NaN  \n",
       "22    NaN  \n",
       "23    NaN  \n",
       "25    NaN  \n",
       "26    NaN  \n",
       "42    NaN  \n",
       "48    NaN  \n",
       "50    NaN  \n",
       "74    NaN  \n",
       "75    NaN  \n",
       "90    NaN  \n",
       "91    NaN  \n",
       "92    NaN  \n",
       "93    NaN  \n",
       "..    ...  \n",
       "199   NaN  \n",
       "201   NaN  \n",
       "216   NaN  \n",
       "218   NaN  \n",
       "219   NaN  \n",
       "221   NaN  \n",
       "222   NaN  \n",
       "224   NaN  \n",
       "226   NaN  \n",
       "227   NaN  \n",
       "228   NaN  \n",
       "231   NaN  \n",
       "252   NaN  \n",
       "253   NaN  \n",
       "268   NaN  \n",
       "274   NaN  \n",
       "278   NaN  \n",
       "279   NaN  \n",
       "281   NaN  \n",
       "282   NaN  \n",
       "283   NaN  \n",
       "284   0.0  \n",
       "285   NaN  \n",
       "286   NaN  \n",
       "287   0.0  \n",
       "288   NaN  \n",
       "291   NaN  \n",
       "296   NaN  \n",
       "305   NaN  \n",
       "306   NaN  \n",
       "\n",
       "[85 rows x 18 columns]"
      ]
     },
     "execution_count": 173,
     "metadata": {},
     "output_type": "execute_result"
    }
   ],
   "source": [
    "df[df['Neighborhood' ]== \"Mission\"].head(85)"
   ]
  },
  {
   "cell_type": "code",
   "execution_count": 178,
   "metadata": {
    "collapsed": false
   },
   "outputs": [
    {
     "data": {
      "text/html": [
       "<div>\n",
       "<table border=\"1\" class=\"dataframe\">\n",
       "  <thead>\n",
       "    <tr style=\"text-align: right;\">\n",
       "      <th></th>\n",
       "      <th>CaseID</th>\n",
       "      <th>Supervisor District</th>\n",
       "      <th>Diff</th>\n",
       "    </tr>\n",
       "  </thead>\n",
       "  <tbody>\n",
       "    <tr>\n",
       "      <th>count</th>\n",
       "      <td>1.235000e+04</td>\n",
       "      <td>12350.000000</td>\n",
       "      <td>10625.000000</td>\n",
       "    </tr>\n",
       "    <tr>\n",
       "      <th>mean</th>\n",
       "      <td>5.959355e+06</td>\n",
       "      <td>8.987449</td>\n",
       "      <td>14.974776</td>\n",
       "    </tr>\n",
       "    <tr>\n",
       "      <th>std</th>\n",
       "      <td>3.687978e+05</td>\n",
       "      <td>0.264365</td>\n",
       "      <td>30.532605</td>\n",
       "    </tr>\n",
       "    <tr>\n",
       "      <th>min</th>\n",
       "      <td>5.421825e+06</td>\n",
       "      <td>6.000000</td>\n",
       "      <td>0.000000</td>\n",
       "    </tr>\n",
       "    <tr>\n",
       "      <th>25%</th>\n",
       "      <td>5.636899e+06</td>\n",
       "      <td>9.000000</td>\n",
       "      <td>0.000000</td>\n",
       "    </tr>\n",
       "    <tr>\n",
       "      <th>50%</th>\n",
       "      <td>5.902392e+06</td>\n",
       "      <td>9.000000</td>\n",
       "      <td>3.000000</td>\n",
       "    </tr>\n",
       "  </tbody>\n",
       "</table>\n",
       "</div>"
      ],
      "text/plain": [
       "             CaseID  Supervisor District          Diff\n",
       "count  1.235000e+04         12350.000000  10625.000000\n",
       "mean   5.959355e+06             8.987449     14.974776\n",
       "std    3.687978e+05             0.264365     30.532605\n",
       "min    5.421825e+06             6.000000      0.000000\n",
       "25%    5.636899e+06             9.000000      0.000000\n",
       "50%    5.902392e+06             9.000000      3.000000"
      ]
     },
     "execution_count": 178,
     "metadata": {},
     "output_type": "execute_result"
    }
   ],
   "source": [
    "df[df['Neighborhood' ]== \"Mission\"].describe()"
   ]
  },
  {
   "cell_type": "code",
   "execution_count": 180,
   "metadata": {
    "collapsed": false
   },
   "outputs": [
    {
     "data": {
      "text/plain": [
       "DPW Ops Queue                          46572\n",
       "US Postal Service Maintenance Queue     5088\n",
       "Clear Channel - Transit Queue           3806\n",
       "DPT Meter_Bike Queue                    3070\n",
       "311 Service Request Queue - Hold        2176\n",
       "DPW BSM Queue                           2126\n",
       "Name: Responsible Agency, dtype: int64"
      ]
     },
     "execution_count": 180,
     "metadata": {},
     "output_type": "execute_result"
    }
   ],
   "source": [
    "df['Responsible Agency'].value_counts()[:6]"
   ]
  },
  {
   "cell_type": "code",
   "execution_count": 171,
   "metadata": {
    "collapsed": false
   },
   "outputs": [
    {
     "data": {
      "text/plain": [
       "count    3556.000000\n",
       "mean       21.644544\n",
       "std        20.153411\n",
       "min         0.000000\n",
       "25%        10.000000\n",
       "50%        15.000000\n",
       "75%        26.000000\n",
       "max       119.000000\n",
       "Name: Diff, dtype: float64"
      ]
     },
     "execution_count": 171,
     "metadata": {},
     "output_type": "execute_result"
    }
   ],
   "source": [
    "df[df['Responsible Agency'] == 'US Postal Service Maintenance Queue']['Diff'].describe()"
   ]
  },
  {
   "cell_type": "code",
   "execution_count": 181,
   "metadata": {
    "collapsed": false
   },
   "outputs": [
    {
     "data": {
      "text/plain": [
       "count    3780.000000\n",
       "mean        1.712169\n",
       "std         4.939508\n",
       "min         0.000000\n",
       "25%         0.000000\n",
       "50%         0.000000\n",
       "75%         1.000000\n",
       "max       157.000000\n",
       "Name: Diff, dtype: float64"
      ]
     },
     "execution_count": 181,
     "metadata": {},
     "output_type": "execute_result"
    }
   ],
   "source": [
    "df[df['Responsible Agency'] == 'Clear Channel - Transit Queue']['Diff'].describe()"
   ]
  },
  {
   "cell_type": "code",
   "execution_count": 182,
   "metadata": {
    "collapsed": false
   },
   "outputs": [
    {
     "data": {
      "text/plain": [
       "count    38517.000000\n",
       "mean        13.541761\n",
       "std         26.218089\n",
       "min         -1.000000\n",
       "25%          0.000000\n",
       "50%          3.000000\n",
       "75%         18.000000\n",
       "max        277.000000\n",
       "Name: Diff, dtype: float64"
      ]
     },
     "execution_count": 182,
     "metadata": {},
     "output_type": "execute_result"
    }
   ],
   "source": [
    "df[df['Responsible Agency'] == 'DPW Ops Queue']['Diff'].describe()"
   ]
  },
  {
   "cell_type": "code",
   "execution_count": 184,
   "metadata": {
    "collapsed": false
   },
   "outputs": [
    {
     "data": {
      "text/plain": [
       "count    20360.000000\n",
       "mean        18.794646\n",
       "std         32.563743\n",
       "min         -1.000000\n",
       "25%          1.000000\n",
       "50%          5.000000\n",
       "75%         33.000000\n",
       "max        333.000000\n",
       "Name: Diff, dtype: float64"
      ]
     },
     "execution_count": 184,
     "metadata": {},
     "output_type": "execute_result"
    }
   ],
   "source": [
    "df[df['Category'] == 'Graffiti Private Property']['Diff'].describe()"
   ]
  },
  {
   "cell_type": "code",
   "execution_count": 185,
   "metadata": {
    "collapsed": false
   },
   "outputs": [
    {
     "data": {
      "text/plain": [
       "count    38549.000000\n",
       "mean        13.157799\n",
       "std         31.055016\n",
       "min          0.000000\n",
       "25%          0.000000\n",
       "50%          2.000000\n",
       "75%         12.000000\n",
       "max        345.000000\n",
       "Name: Diff, dtype: float64"
      ]
     },
     "execution_count": 185,
     "metadata": {},
     "output_type": "execute_result"
    }
   ],
   "source": [
    "df[df['Category'] == 'Graffiti Public Property']['Diff'].describe()"
   ]
  },
  {
   "cell_type": "code",
   "execution_count": 186,
   "metadata": {
    "collapsed": false
   },
   "outputs": [
    {
     "data": {
      "text/plain": [
       "Open311              53582\n",
       "Integrated Agency     7880\n",
       "Web Self Service      4515\n",
       "Voice In              4222\n",
       "Twitter                192\n",
       "Name: Source, dtype: int64"
      ]
     },
     "execution_count": 186,
     "metadata": {},
     "output_type": "execute_result"
    }
   ],
   "source": [
    "df['Source'].value_counts()"
   ]
  },
  {
   "cell_type": "code",
   "execution_count": 187,
   "metadata": {
    "collapsed": false
   },
   "outputs": [
    {
     "data": {
      "text/plain": [
       "count    47936.000000\n",
       "mean        13.954523\n",
       "std         30.267981\n",
       "min          0.000000\n",
       "25%          0.000000\n",
       "50%          3.000000\n",
       "75%         14.000000\n",
       "max        345.000000\n",
       "Name: Diff, dtype: float64"
      ]
     },
     "execution_count": 187,
     "metadata": {},
     "output_type": "execute_result"
    }
   ],
   "source": [
    "df[df['Source'] == 'Open311']['Diff'].describe()"
   ]
  },
  {
   "cell_type": "code",
   "execution_count": 188,
   "metadata": {
    "collapsed": false
   },
   "outputs": [
    {
     "data": {
      "text/plain": [
       "count    3786.000000\n",
       "mean       12.463550\n",
       "std        22.913216\n",
       "min         0.000000\n",
       "25%         0.000000\n",
       "50%         2.000000\n",
       "75%        14.000000\n",
       "max       315.000000\n",
       "Name: Diff, dtype: float64"
      ]
     },
     "execution_count": 188,
     "metadata": {},
     "output_type": "execute_result"
    }
   ],
   "source": [
    "df[df['Source'] == 'Voice In']['Diff'].describe()"
   ]
  },
  {
   "cell_type": "code",
   "execution_count": 189,
   "metadata": {
    "collapsed": false
   },
   "outputs": [
    {
     "data": {
      "text/plain": [
       "count    3280.000000\n",
       "mean       39.177744\n",
       "std        52.948925\n",
       "min        -1.000000\n",
       "25%        17.000000\n",
       "50%        36.000000\n",
       "75%        36.000000\n",
       "max       277.000000\n",
       "Name: Diff, dtype: float64"
      ]
     },
     "execution_count": 189,
     "metadata": {},
     "output_type": "execute_result"
    }
   ],
   "source": [
    "df[df['Source'] == 'Integrated Agency']['Diff'].describe()"
   ]
  },
  {
   "cell_type": "markdown",
   "metadata": {},
   "source": [
    "# Consider some exploratory statistics / reality checks"
   ]
  },
  {
   "cell_type": "code",
   "execution_count": null,
   "metadata": {
    "collapsed": false
   },
   "outputs": [],
   "source": [
    "source = df.Source.value_counts()\n",
    "print(type(source))\n",
    "\n",
    "\n",
    "print(source)"
   ]
  },
  {
   "cell_type": "code",
   "execution_count": null,
   "metadata": {
    "collapsed": false
   },
   "outputs": [],
   "source": [
    "type(source)"
   ]
  },
  {
   "cell_type": "code",
   "execution_count": null,
   "metadata": {
    "collapsed": false
   },
   "outputs": [],
   "source": [
    "label_list = source.index.tolist()\n",
    "print(label_list)"
   ]
  },
  {
   "cell_type": "code",
   "execution_count": null,
   "metadata": {
    "collapsed": false
   },
   "outputs": [],
   "source": [
    "source = source.tolist()\n",
    "source\n"
   ]
  },
  {
   "cell_type": "code",
   "execution_count": null,
   "metadata": {
    "collapsed": false
   },
   "outputs": [],
   "source": [
    "\n",
    "\n",
    "plt.axis(\"equal\")\n",
    "plt.pie(\n",
    "        source,\n",
    "        labels=label_list,\n",
    "        autopct=\"%1.1f%%\"\n",
    "        )\n",
    "plt.title(\"Graffiti Reports Submitted in 2016\")\n",
    "plt.show()"
   ]
  },
  {
   "cell_type": "code",
   "execution_count": null,
   "metadata": {
    "collapsed": false
   },
   "outputs": [],
   "source": [
    "df['Supervisor District'].value_counts().head(11)"
   ]
  },
  {
   "cell_type": "markdown",
   "metadata": {},
   "source": [
    "# Get list of Supervisor's'"
   ]
  },
  {
   "cell_type": "code",
   "execution_count": null,
   "metadata": {
    "collapsed": false
   },
   "outputs": [],
   "source": [
    "\n",
    "plt.rcdefaults()\n",
    "\n",
    "# Example data\n",
    "people = ('Tom', 'Dick', 'Harry', 'Slim', 'Jim')\n",
    "y_pos = np.arange(len(people))\n",
    "performance = 3 + 10 * np.random.rand(len(people))\n",
    "error = np.random.rand(len(people))\n",
    "\n",
    "plt.barh(y_pos, performance, xerr=error, align='center', alpha=0.4)\n",
    "plt.yticks(y_pos, people)\n",
    "plt.xlabel('Performance')\n",
    "plt.title('How fast do you want to go today?')\n",
    "\n",
    "plt.show()"
   ]
  },
  {
   "cell_type": "raw",
   "metadata": {},
   "source": [
    "\"\"\"\n",
    "Simple demo of a horizontal bar chart.\n",
    "\"\"\"\n",
    "import matplotlib.pyplot as plt\n",
    "plt.rcdefaults()\n",
    "import numpy as np\n",
    "import matplotlib.pyplot as plt\n",
    "\n",
    "\n",
    "# Example data\n",
    "people = ('Tom', 'Dick', 'Harry', 'Slim', 'Jim')\n",
    "y_pos = np.arange(len(people))\n",
    "performance = 3 + 10 * np.random.rand(len(people))\n",
    "error = np.random.rand(len(people))\n",
    "\n",
    "plt.barh(y_pos, performance, xerr=error, align='center', alpha=0.4)\n",
    "plt.yticks(y_pos, people)\n",
    "plt.xlabel('Performance')\n",
    "plt.title('How fast do you want to go today?')\n",
    "\n",
    "plt.show()"
   ]
  },
  {
   "cell_type": "code",
   "execution_count": null,
   "metadata": {
    "collapsed": false
   },
   "outputs": [],
   "source": [
    "\n",
    "fig, ax = plt.subplots(1)\n",
    "np.random.seed(14)\n",
    "n = 10\n",
    "plt.bar(ax, np.arange(n), np.abs(np.random.randn(n)), annotate=True, grid='y')\n",
    "fig.savefig('bar_prettyplotlib_grid_annotated.png')"
   ]
  },
  {
   "cell_type": "code",
   "execution_count": null,
   "metadata": {
    "collapsed": true
   },
   "outputs": [],
   "source": []
  },
  {
   "cell_type": "code",
   "execution_count": null,
   "metadata": {
    "collapsed": true
   },
   "outputs": [],
   "source": []
  },
  {
   "cell_type": "code",
   "execution_count": null,
   "metadata": {
    "collapsed": true
   },
   "outputs": [],
   "source": []
  },
  {
   "cell_type": "code",
   "execution_count": null,
   "metadata": {
    "collapsed": true
   },
   "outputs": [],
   "source": []
  },
  {
   "cell_type": "code",
   "execution_count": null,
   "metadata": {
    "collapsed": true
   },
   "outputs": [],
   "source": []
  },
  {
   "cell_type": "code",
   "execution_count": null,
   "metadata": {
    "collapsed": true
   },
   "outputs": [],
   "source": []
  },
  {
   "cell_type": "code",
   "execution_count": null,
   "metadata": {
    "collapsed": false
   },
   "outputs": [],
   "source": [
    "df['Status Notes'].value_counts().head(10)"
   ]
  },
  {
   "cell_type": "code",
   "execution_count": null,
   "metadata": {
    "collapsed": false
   },
   "outputs": [],
   "source": [
    "df['Status'].value_counts().head()"
   ]
  },
  {
   "cell_type": "code",
   "execution_count": null,
   "metadata": {
    "collapsed": false
   },
   "outputs": [],
   "source": [
    "df['Responsible Agency'].value_counts().head(4)"
   ]
  },
  {
   "cell_type": "code",
   "execution_count": null,
   "metadata": {
    "collapsed": false
   },
   "outputs": [],
   "source": [
    "df.Category.value_counts().head()"
   ]
  },
  {
   "cell_type": "code",
   "execution_count": null,
   "metadata": {
    "collapsed": false
   },
   "outputs": [],
   "source": [
    "df['Request Type'].value_counts().head(10)"
   ]
  },
  {
   "cell_type": "code",
   "execution_count": null,
   "metadata": {
    "collapsed": false
   },
   "outputs": [],
   "source": [
    "df['Request Details'].value_counts().head(20)"
   ]
  },
  {
   "cell_type": "code",
   "execution_count": null,
   "metadata": {
    "collapsed": false
   },
   "outputs": [],
   "source": [
    "df['Address'].value_counts().head(20)"
   ]
  },
  {
   "cell_type": "code",
   "execution_count": null,
   "metadata": {
    "collapsed": false
   },
   "outputs": [],
   "source": [
    "df['Source'].value_counts().head(6)"
   ]
  },
  {
   "cell_type": "code",
   "execution_count": null,
   "metadata": {
    "collapsed": false
   },
   "outputs": [],
   "source": [
    "df['Media URL'].describe()"
   ]
  },
  {
   "cell_type": "code",
   "execution_count": null,
   "metadata": {
    "collapsed": false
   },
   "outputs": [],
   "source": [
    "df['Point'].describe()"
   ]
  },
  {
   "cell_type": "code",
   "execution_count": null,
   "metadata": {
    "collapsed": true
   },
   "outputs": [],
   "source": [
    "\n",
    "\n",
    "\n"
   ]
  },
  {
   "cell_type": "markdown",
   "metadata": {
    "collapsed": true
   },
   "source": [
    "# Plot this.    Simple First\n"
   ]
  },
  {
   "cell_type": "code",
   "execution_count": null,
   "metadata": {
    "collapsed": true
   },
   "outputs": [],
   "source": [
    "#Plot by top responsible agency that is not DPW"
   ]
  },
  {
   "cell_type": "code",
   "execution_count": null,
   "metadata": {
    "collapsed": true
   },
   "outputs": [],
   "source": []
  },
  {
   "cell_type": "code",
   "execution_count": null,
   "metadata": {
    "collapsed": true
   },
   "outputs": [],
   "source": []
  },
  {
   "cell_type": "code",
   "execution_count": null,
   "metadata": {
    "collapsed": true
   },
   "outputs": [],
   "source": []
  },
  {
   "cell_type": "code",
   "execution_count": null,
   "metadata": {
    "collapsed": true
   },
   "outputs": [],
   "source": []
  },
  {
   "cell_type": "code",
   "execution_count": null,
   "metadata": {
    "collapsed": true
   },
   "outputs": [],
   "source": []
  },
  {
   "cell_type": "code",
   "execution_count": null,
   "metadata": {
    "collapsed": true
   },
   "outputs": [],
   "source": []
  },
  {
   "cell_type": "code",
   "execution_count": null,
   "metadata": {
    "collapsed": true
   },
   "outputs": [],
   "source": []
  },
  {
   "cell_type": "raw",
   "metadata": {
    "collapsed": false
   },
   "source": [
    "import pandas as pd\n",
    "\n",
    "urlX = 'https://data.sfgov.org/resource/rme2-xgvs.json'\n",
    "\n",
    "\n",
    "# load JSON as DataFrame\n",
    "json_data=pd.read_json(urlX).T\n",
    "\n",
    "# to CSV\n",
    "json_data.to_csv(\"geocoded.csv\")"
   ]
  },
  {
   "cell_type": "code",
   "execution_count": null,
   "metadata": {
    "collapsed": false
   },
   "outputs": [],
   "source": [
    "!pwd"
   ]
  },
  {
   "cell_type": "code",
   "execution_count": null,
   "metadata": {
    "collapsed": false
   },
   "outputs": [],
   "source": [
    "!ls"
   ]
  },
  {
   "cell_type": "code",
   "execution_count": null,
   "metadata": {
    "collapsed": false
   },
   "outputs": [],
   "source": [
    "!cat geocoded.csv"
   ]
  },
  {
   "cell_type": "code",
   "execution_count": null,
   "metadata": {
    "collapsed": true
   },
   "outputs": [],
   "source": []
  },
  {
   "cell_type": "markdown",
   "metadata": {},
   "source": [
    "# Start Plotting the simple items"
   ]
  },
  {
   "cell_type": "markdown",
   "metadata": {},
   "source": [
    "# Plot Responsible Agency non DPW"
   ]
  },
  {
   "cell_type": "code",
   "execution_count": null,
   "metadata": {
    "collapsed": false
   },
   "outputs": [],
   "source": [
    "respAgencyCount = df['Responsible Agency'].value_counts()"
   ]
  },
  {
   "cell_type": "code",
   "execution_count": null,
   "metadata": {
    "collapsed": true
   },
   "outputs": [],
   "source": [
    "respAgencyCount = respAgencyCount[1:27]"
   ]
  },
  {
   "cell_type": "code",
   "execution_count": null,
   "metadata": {
    "collapsed": false
   },
   "outputs": [],
   "source": [
    "respAgencyCount"
   ]
  },
  {
   "cell_type": "markdown",
   "metadata": {},
   "source": [
    "## minimally acceptable is to do pie / dpw vs all other\n",
    "### DPW share compared to prior years\n",
    "### Conclude, DPW doing a good job, how about the other departments\n",
    "### Bar Chart the top 5-6\n",
    "### Which of the top 5-6 are doing better.\n",
    "### can't give the most natural statistic, because "
   ]
  },
  {
   "cell_type": "code",
   "execution_count": null,
   "metadata": {
    "collapsed": true
   },
   "outputs": [],
   "source": []
  }
 ],
 "metadata": {
  "kernelspec": {
   "display_name": "Python 3",
   "language": "python",
   "name": "python3"
  },
  "language_info": {
   "codemirror_mode": {
    "name": "ipython",
    "version": 3
   },
   "file_extension": ".py",
   "mimetype": "text/x-python",
   "name": "python",
   "nbconvert_exporter": "python",
   "pygments_lexer": "ipython3",
   "version": "3.5.2"
  }
 },
 "nbformat": 4,
 "nbformat_minor": 1
}
