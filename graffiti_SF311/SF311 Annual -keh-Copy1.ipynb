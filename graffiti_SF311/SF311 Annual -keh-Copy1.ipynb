{
 "cells": [
  {
   "cell_type": "markdown",
   "metadata": {},
   "source": [
    "# Annual"
   ]
  },
  {
   "cell_type": "markdown",
   "metadata": {},
   "source": [
    "# Make Sure the modules are installed\n",
    "\n"
   ]
  },
  {
   "cell_type": "markdown",
   "metadata": {},
   "source": [
    "# Import modules"
   ]
  },
  {
   "cell_type": "code",
   "execution_count": 201,
   "metadata": {
    "collapsed": false
   },
   "outputs": [],
   "source": [
    "#%matplotlib inline\n",
    "import numpy as np\n",
    "import pandas as pd\n",
    "#import matplotlib.pyplot as plt\n",
    "\n"
   ]
  },
  {
   "cell_type": "code",
   "execution_count": 202,
   "metadata": {
    "collapsed": false
   },
   "outputs": [
    {
     "name": "stdout",
     "output_type": "stream",
     "text": [
      "/home/gdillon/JupyterPractice/graffiti_SF311\r\n"
     ]
    }
   ],
   "source": [
    "!pwd"
   ]
  },
  {
   "cell_type": "markdown",
   "metadata": {
    "collapsed": true
   },
   "source": [
    "# produce viz of annual total 2009-2016\n",
    "because I'm using SQL type queery with count(*), this responds faster"
   ]
  },
  {
   "cell_type": "markdown",
   "metadata": {},
   "source": [
    "## api call for count of all by year"
   ]
  },
  {
   "cell_type": "code",
   "execution_count": 203,
   "metadata": {
    "collapsed": true
   },
   "outputs": [],
   "source": [
    "url = 'https://data.sfgov.org/resource/qer8-n8u9.csv?$select=date_trunc_y(opened)as%20year,%20count(*)&$order=year&$group=year'"
   ]
  },
  {
   "cell_type": "code",
   "execution_count": 204,
   "metadata": {
    "collapsed": false
   },
   "outputs": [
    {
     "data": {
      "text/html": [
       "<div>\n",
       "<table border=\"1\" class=\"dataframe\">\n",
       "  <thead>\n",
       "    <tr style=\"text-align: right;\">\n",
       "      <th></th>\n",
       "      <th>year</th>\n",
       "      <th>count</th>\n",
       "    </tr>\n",
       "  </thead>\n",
       "  <tbody>\n",
       "    <tr>\n",
       "      <th>1</th>\n",
       "      <td>01/01/2009 12:00:00 AM</td>\n",
       "      <td>32285</td>\n",
       "    </tr>\n",
       "    <tr>\n",
       "      <th>2</th>\n",
       "      <td>01/01/2010 12:00:00 AM</td>\n",
       "      <td>26769</td>\n",
       "    </tr>\n",
       "    <tr>\n",
       "      <th>3</th>\n",
       "      <td>01/01/2011 12:00:00 AM</td>\n",
       "      <td>25445</td>\n",
       "    </tr>\n",
       "    <tr>\n",
       "      <th>4</th>\n",
       "      <td>01/01/2012 12:00:00 AM</td>\n",
       "      <td>26254</td>\n",
       "    </tr>\n",
       "    <tr>\n",
       "      <th>5</th>\n",
       "      <td>01/01/2013 12:00:00 AM</td>\n",
       "      <td>35831</td>\n",
       "    </tr>\n",
       "    <tr>\n",
       "      <th>6</th>\n",
       "      <td>01/01/2014 12:00:00 AM</td>\n",
       "      <td>46808</td>\n",
       "    </tr>\n",
       "    <tr>\n",
       "      <th>7</th>\n",
       "      <td>01/01/2015 12:00:00 AM</td>\n",
       "      <td>57249</td>\n",
       "    </tr>\n",
       "    <tr>\n",
       "      <th>8</th>\n",
       "      <td>01/01/2016 12:00:00 AM</td>\n",
       "      <td>72392</td>\n",
       "    </tr>\n",
       "  </tbody>\n",
       "</table>\n",
       "</div>"
      ],
      "text/plain": [
       "                     year  count\n",
       "1  01/01/2009 12:00:00 AM  32285\n",
       "2  01/01/2010 12:00:00 AM  26769\n",
       "3  01/01/2011 12:00:00 AM  25445\n",
       "4  01/01/2012 12:00:00 AM  26254\n",
       "5  01/01/2013 12:00:00 AM  35831\n",
       "6  01/01/2014 12:00:00 AM  46808\n",
       "7  01/01/2015 12:00:00 AM  57249\n",
       "8  01/01/2016 12:00:00 AM  72392"
      ]
     },
     "execution_count": 204,
     "metadata": {},
     "output_type": "execute_result"
    }
   ],
   "source": [
    "df = pd.read_csv(url)\n",
    "df = df[1:-1]\n",
    "df"
   ]
  },
  {
   "cell_type": "code",
   "execution_count": 205,
   "metadata": {
    "collapsed": false
   },
   "outputs": [
    {
     "name": "stderr",
     "output_type": "stream",
     "text": [
      "/home/gdillon/.local/lib/python3.5/site-packages/ipykernel/__main__.py:1: FutureWarning: currently extract(expand=None) means expand=False (return Index/Series/DataFrame) but in a future version of pandas this will be changed to expand=True (return DataFrame)\n",
      "  if __name__ == '__main__':\n"
     ]
    },
    {
     "data": {
      "text/html": [
       "<div>\n",
       "<table border=\"1\" class=\"dataframe\">\n",
       "  <thead>\n",
       "    <tr style=\"text-align: right;\">\n",
       "      <th></th>\n",
       "      <th>year</th>\n",
       "      <th>count</th>\n",
       "    </tr>\n",
       "  </thead>\n",
       "  <tbody>\n",
       "    <tr>\n",
       "      <th>1</th>\n",
       "      <td>2009</td>\n",
       "      <td>32285</td>\n",
       "    </tr>\n",
       "    <tr>\n",
       "      <th>2</th>\n",
       "      <td>2010</td>\n",
       "      <td>26769</td>\n",
       "    </tr>\n",
       "    <tr>\n",
       "      <th>3</th>\n",
       "      <td>2011</td>\n",
       "      <td>25445</td>\n",
       "    </tr>\n",
       "    <tr>\n",
       "      <th>4</th>\n",
       "      <td>2012</td>\n",
       "      <td>26254</td>\n",
       "    </tr>\n",
       "    <tr>\n",
       "      <th>5</th>\n",
       "      <td>2013</td>\n",
       "      <td>35831</td>\n",
       "    </tr>\n",
       "    <tr>\n",
       "      <th>6</th>\n",
       "      <td>2014</td>\n",
       "      <td>46808</td>\n",
       "    </tr>\n",
       "    <tr>\n",
       "      <th>7</th>\n",
       "      <td>2015</td>\n",
       "      <td>57249</td>\n",
       "    </tr>\n",
       "    <tr>\n",
       "      <th>8</th>\n",
       "      <td>2016</td>\n",
       "      <td>72392</td>\n",
       "    </tr>\n",
       "  </tbody>\n",
       "</table>\n",
       "</div>"
      ],
      "text/plain": [
       "   year  count\n",
       "1  2009  32285\n",
       "2  2010  26769\n",
       "3  2011  25445\n",
       "4  2012  26254\n",
       "5  2013  35831\n",
       "6  2014  46808\n",
       "7  2015  57249\n",
       "8  2016  72392"
      ]
     },
     "execution_count": 205,
     "metadata": {},
     "output_type": "execute_result"
    }
   ],
   "source": [
    "df['year']=df['year'].str.extract('(?P<year>\\d{4})').astype(str)\n",
    "df['count']=df['count'].astype(int)\n",
    "df"
   ]
  },
  {
   "cell_type": "code",
   "execution_count": 206,
   "metadata": {
    "collapsed": false
   },
   "outputs": [],
   "source": [
    "from bokeh.charts import Bar, output_file, output_notebook, show\n",
    "from bokeh.layouts import row\n",
    "#output_notebook()"
   ]
  },
  {
   "cell_type": "code",
   "execution_count": 207,
   "metadata": {
    "collapsed": false
   },
   "outputs": [
    {
     "data": {
      "text/html": [
       "\n",
       "    <div class=\"bk-root\">\n",
       "        <a href=\"http://bokeh.pydata.org\" target=\"_blank\" class=\"bk-logo bk-logo-small bk-logo-notebook\"></a>\n",
       "        <span id=\"a8213e41-e891-4aa4-a2f3-41133dcd715e\">Loading BokehJS ...</span>\n",
       "    </div>"
      ]
     },
     "metadata": {},
     "output_type": "display_data"
    },
    {
     "data": {
      "application/javascript": [
       "\n",
       "(function(global) {\n",
       "  function now() {\n",
       "    return new Date();\n",
       "  }\n",
       "\n",
       "  var force = \"1\";\n",
       "\n",
       "  if (typeof (window._bokeh_onload_callbacks) === \"undefined\" || force !== \"\") {\n",
       "    window._bokeh_onload_callbacks = [];\n",
       "    window._bokeh_is_loading = undefined;\n",
       "  }\n",
       "\n",
       "\n",
       "  \n",
       "  if (typeof (window._bokeh_timeout) === \"undefined\" || force !== \"\") {\n",
       "    window._bokeh_timeout = Date.now() + 5000;\n",
       "    window._bokeh_failed_load = false;\n",
       "  }\n",
       "\n",
       "  var NB_LOAD_WARNING = {'data': {'text/html':\n",
       "     \"<div style='background-color: #fdd'>\\n\"+\n",
       "     \"<p>\\n\"+\n",
       "     \"BokehJS does not appear to have successfully loaded. If loading BokehJS from CDN, this \\n\"+\n",
       "     \"may be due to a slow or bad network connection. Possible fixes:\\n\"+\n",
       "     \"</p>\\n\"+\n",
       "     \"<ul>\\n\"+\n",
       "     \"<li>re-rerun `output_notebook()` to attempt to load from CDN again, or</li>\\n\"+\n",
       "     \"<li>use INLINE resources instead, as so:</li>\\n\"+\n",
       "     \"</ul>\\n\"+\n",
       "     \"<code>\\n\"+\n",
       "     \"from bokeh.resources import INLINE\\n\"+\n",
       "     \"output_notebook(resources=INLINE)\\n\"+\n",
       "     \"</code>\\n\"+\n",
       "     \"</div>\"}};\n",
       "\n",
       "  function display_loaded() {\n",
       "    if (window.Bokeh !== undefined) {\n",
       "      Bokeh.$(\"#a8213e41-e891-4aa4-a2f3-41133dcd715e\").text(\"BokehJS successfully loaded.\");\n",
       "    } else if (Date.now() < window._bokeh_timeout) {\n",
       "      setTimeout(display_loaded, 100)\n",
       "    }\n",
       "  }\n",
       "\n",
       "  function run_callbacks() {\n",
       "    window._bokeh_onload_callbacks.forEach(function(callback) { callback() });\n",
       "    delete window._bokeh_onload_callbacks\n",
       "    console.info(\"Bokeh: all callbacks have finished\");\n",
       "  }\n",
       "\n",
       "  function load_libs(js_urls, callback) {\n",
       "    window._bokeh_onload_callbacks.push(callback);\n",
       "    if (window._bokeh_is_loading > 0) {\n",
       "      console.log(\"Bokeh: BokehJS is being loaded, scheduling callback at\", now());\n",
       "      return null;\n",
       "    }\n",
       "    if (js_urls == null || js_urls.length === 0) {\n",
       "      run_callbacks();\n",
       "      return null;\n",
       "    }\n",
       "    console.log(\"Bokeh: BokehJS not loaded, scheduling load and callback at\", now());\n",
       "    window._bokeh_is_loading = js_urls.length;\n",
       "    for (var i = 0; i < js_urls.length; i++) {\n",
       "      var url = js_urls[i];\n",
       "      var s = document.createElement('script');\n",
       "      s.src = url;\n",
       "      s.async = false;\n",
       "      s.onreadystatechange = s.onload = function() {\n",
       "        window._bokeh_is_loading--;\n",
       "        if (window._bokeh_is_loading === 0) {\n",
       "          console.log(\"Bokeh: all BokehJS libraries loaded\");\n",
       "          run_callbacks()\n",
       "        }\n",
       "      };\n",
       "      s.onerror = function() {\n",
       "        console.warn(\"failed to load library \" + url);\n",
       "      };\n",
       "      console.log(\"Bokeh: injecting script tag for BokehJS library: \", url);\n",
       "      document.getElementsByTagName(\"head\")[0].appendChild(s);\n",
       "    }\n",
       "  };var element = document.getElementById(\"a8213e41-e891-4aa4-a2f3-41133dcd715e\");\n",
       "  if (element == null) {\n",
       "    console.log(\"Bokeh: ERROR: autoload.js configured with elementid 'a8213e41-e891-4aa4-a2f3-41133dcd715e' but no matching script tag was found. \")\n",
       "    return false;\n",
       "  }\n",
       "\n",
       "  var js_urls = ['https://cdn.pydata.org/bokeh/release/bokeh-0.12.3.min.js', 'https://cdn.pydata.org/bokeh/release/bokeh-widgets-0.12.3.min.js'];\n",
       "\n",
       "  var inline_js = [\n",
       "    function(Bokeh) {\n",
       "      Bokeh.set_log_level(\"info\");\n",
       "    },\n",
       "    \n",
       "    function(Bokeh) {\n",
       "      \n",
       "      Bokeh.$(\"#a8213e41-e891-4aa4-a2f3-41133dcd715e\").text(\"BokehJS is loading...\");\n",
       "    },\n",
       "    function(Bokeh) {\n",
       "      console.log(\"Bokeh: injecting CSS: https://cdn.pydata.org/bokeh/release/bokeh-0.12.3.min.css\");\n",
       "      Bokeh.embed.inject_css(\"https://cdn.pydata.org/bokeh/release/bokeh-0.12.3.min.css\");\n",
       "      console.log(\"Bokeh: injecting CSS: https://cdn.pydata.org/bokeh/release/bokeh-widgets-0.12.3.min.css\");\n",
       "      Bokeh.embed.inject_css(\"https://cdn.pydata.org/bokeh/release/bokeh-widgets-0.12.3.min.css\");\n",
       "    }\n",
       "  ];\n",
       "\n",
       "  function run_inline_js() {\n",
       "    \n",
       "    if ((window.Bokeh !== undefined) || (force === \"1\")) {\n",
       "      for (var i = 0; i < inline_js.length; i++) {\n",
       "        inline_js[i](window.Bokeh);\n",
       "      }if (force === \"1\") {\n",
       "        display_loaded();\n",
       "      }} else if (Date.now() < window._bokeh_timeout) {\n",
       "      setTimeout(run_inline_js, 100);\n",
       "    } else if (!window._bokeh_failed_load) {\n",
       "      console.log(\"Bokeh: BokehJS failed to load within specified timeout.\");\n",
       "      window._bokeh_failed_load = true;\n",
       "    } else if (!force) {\n",
       "      var cell = $(\"#a8213e41-e891-4aa4-a2f3-41133dcd715e\").parents('.cell').data().cell;\n",
       "      cell.output_area.append_execute_result(NB_LOAD_WARNING)\n",
       "    }\n",
       "\n",
       "  }\n",
       "\n",
       "  if (window._bokeh_is_loading === 0) {\n",
       "    console.log(\"Bokeh: BokehJS loaded, going straight to plotting\");\n",
       "    run_inline_js();\n",
       "  } else {\n",
       "    load_libs(js_urls, function() {\n",
       "      console.log(\"Bokeh: BokehJS plotting callback run at\", now());\n",
       "      run_inline_js();\n",
       "    });\n",
       "  }\n",
       "}(this));"
      ]
     },
     "metadata": {},
     "output_type": "display_data"
    },
    {
     "data": {
      "text/html": [
       "\n",
       "\n",
       "    <div class=\"bk-root\">\n",
       "        <div class=\"plotdiv\" id=\"a2e9c726-08b7-4a64-9d53-10f34e903479\"></div>\n",
       "    </div>\n",
       "<script type=\"text/javascript\">\n",
       "  \n",
       "  (function(global) {\n",
       "    function now() {\n",
       "      return new Date();\n",
       "    }\n",
       "  \n",
       "    var force = \"\";\n",
       "  \n",
       "    if (typeof (window._bokeh_onload_callbacks) === \"undefined\" || force !== \"\") {\n",
       "      window._bokeh_onload_callbacks = [];\n",
       "      window._bokeh_is_loading = undefined;\n",
       "    }\n",
       "  \n",
       "  \n",
       "    \n",
       "    if (typeof (window._bokeh_timeout) === \"undefined\" || force !== \"\") {\n",
       "      window._bokeh_timeout = Date.now() + 0;\n",
       "      window._bokeh_failed_load = false;\n",
       "    }\n",
       "  \n",
       "    var NB_LOAD_WARNING = {'data': {'text/html':\n",
       "       \"<div style='background-color: #fdd'>\\n\"+\n",
       "       \"<p>\\n\"+\n",
       "       \"BokehJS does not appear to have successfully loaded. If loading BokehJS from CDN, this \\n\"+\n",
       "       \"may be due to a slow or bad network connection. Possible fixes:\\n\"+\n",
       "       \"</p>\\n\"+\n",
       "       \"<ul>\\n\"+\n",
       "       \"<li>re-rerun `output_notebook()` to attempt to load from CDN again, or</li>\\n\"+\n",
       "       \"<li>use INLINE resources instead, as so:</li>\\n\"+\n",
       "       \"</ul>\\n\"+\n",
       "       \"<code>\\n\"+\n",
       "       \"from bokeh.resources import INLINE\\n\"+\n",
       "       \"output_notebook(resources=INLINE)\\n\"+\n",
       "       \"</code>\\n\"+\n",
       "       \"</div>\"}};\n",
       "  \n",
       "    function display_loaded() {\n",
       "      if (window.Bokeh !== undefined) {\n",
       "        Bokeh.$(\"#a2e9c726-08b7-4a64-9d53-10f34e903479\").text(\"BokehJS successfully loaded.\");\n",
       "      } else if (Date.now() < window._bokeh_timeout) {\n",
       "        setTimeout(display_loaded, 100)\n",
       "      }\n",
       "    }\n",
       "  \n",
       "    function run_callbacks() {\n",
       "      window._bokeh_onload_callbacks.forEach(function(callback) { callback() });\n",
       "      delete window._bokeh_onload_callbacks\n",
       "      console.info(\"Bokeh: all callbacks have finished\");\n",
       "    }\n",
       "  \n",
       "    function load_libs(js_urls, callback) {\n",
       "      window._bokeh_onload_callbacks.push(callback);\n",
       "      if (window._bokeh_is_loading > 0) {\n",
       "        console.log(\"Bokeh: BokehJS is being loaded, scheduling callback at\", now());\n",
       "        return null;\n",
       "      }\n",
       "      if (js_urls == null || js_urls.length === 0) {\n",
       "        run_callbacks();\n",
       "        return null;\n",
       "      }\n",
       "      console.log(\"Bokeh: BokehJS not loaded, scheduling load and callback at\", now());\n",
       "      window._bokeh_is_loading = js_urls.length;\n",
       "      for (var i = 0; i < js_urls.length; i++) {\n",
       "        var url = js_urls[i];\n",
       "        var s = document.createElement('script');\n",
       "        s.src = url;\n",
       "        s.async = false;\n",
       "        s.onreadystatechange = s.onload = function() {\n",
       "          window._bokeh_is_loading--;\n",
       "          if (window._bokeh_is_loading === 0) {\n",
       "            console.log(\"Bokeh: all BokehJS libraries loaded\");\n",
       "            run_callbacks()\n",
       "          }\n",
       "        };\n",
       "        s.onerror = function() {\n",
       "          console.warn(\"failed to load library \" + url);\n",
       "        };\n",
       "        console.log(\"Bokeh: injecting script tag for BokehJS library: \", url);\n",
       "        document.getElementsByTagName(\"head\")[0].appendChild(s);\n",
       "      }\n",
       "    };var element = document.getElementById(\"a2e9c726-08b7-4a64-9d53-10f34e903479\");\n",
       "    if (element == null) {\n",
       "      console.log(\"Bokeh: ERROR: autoload.js configured with elementid 'a2e9c726-08b7-4a64-9d53-10f34e903479' but no matching script tag was found. \")\n",
       "      return false;\n",
       "    }\n",
       "  \n",
       "    var js_urls = [];\n",
       "  \n",
       "    var inline_js = [\n",
       "      function(Bokeh) {\n",
       "        Bokeh.$(function() {\n",
       "            var docs_json = {\"f384cf70-f071-4143-93e1-7cdc41f053f6\":{\"roots\":{\"references\":[{\"attributes\":{},\"id\":\"028c2f87-6bb6-465e-a622-eda9619286de\",\"type\":\"ToolEvents\"},{\"attributes\":{\"fill_alpha\":{\"field\":\"fill_alpha\"},\"fill_color\":{\"field\":\"color\"},\"height\":{\"field\":\"height\",\"units\":\"data\"},\"line_color\":{\"field\":\"line_color\"},\"width\":{\"field\":\"width\",\"units\":\"data\"},\"x\":{\"field\":\"x\"},\"y\":{\"field\":\"y\"}},\"id\":\"055a500d-64ee-4448-8edb-b19db802f808\",\"type\":\"Rect\"},{\"attributes\":{\"bottom_units\":\"screen\",\"fill_alpha\":{\"value\":0.5},\"fill_color\":{\"value\":\"lightgrey\"},\"left_units\":\"screen\",\"level\":\"overlay\",\"line_alpha\":{\"value\":1.0},\"line_color\":{\"value\":\"black\"},\"line_dash\":[4,4],\"line_width\":{\"value\":2},\"plot\":null,\"render_mode\":\"css\",\"right_units\":\"screen\",\"top_units\":\"screen\"},\"id\":\"16412749-e2cf-4789-9aae-6a9cd29747da\",\"type\":\"BoxAnnotation\"},{\"attributes\":{\"data_source\":{\"id\":\"3aec91a1-6266-4fe2-a52a-71395c83f7fe\",\"type\":\"ColumnDataSource\"},\"glyph\":{\"id\":\"785aa346-0351-4528-8f06-8963c38189ad\",\"type\":\"Rect\"},\"hover_glyph\":null,\"nonselection_glyph\":null,\"selection_glyph\":null},\"id\":\"77ff6f2d-d59f-4293-a0d3-0ac610833bc9\",\"type\":\"GlyphRenderer\"},{\"attributes\":{\"plot\":{\"id\":\"e55e774e-0fcf-4de2-8ac9-1447ee81ec1a\",\"subtype\":\"Chart\",\"type\":\"Plot\"}},\"id\":\"c0691ec7-350d-46b4-962f-e5bded772740\",\"type\":\"ResetTool\"},{\"attributes\":{\"data_source\":{\"id\":\"674eba8e-5b3e-4cc9-8fdd-a826c70b1802\",\"type\":\"ColumnDataSource\"},\"glyph\":{\"id\":\"9dacb36e-c160-4467-97c3-48da1f2e69dc\",\"type\":\"Rect\"},\"hover_glyph\":null,\"nonselection_glyph\":null,\"selection_glyph\":null},\"id\":\"aa61ccb9-b335-4f25-b3d7-14f80d1c1113\",\"type\":\"GlyphRenderer\"},{\"attributes\":{\"label\":{\"value\":\"2013\"},\"renderers\":[{\"id\":\"2f4f2ff6-ec5a-4d94-ba8d-44b6bc8b3f35\",\"type\":\"GlyphRenderer\"}]},\"id\":\"4a042f0a-4259-4f9d-a8ac-ab272f67cd27\",\"type\":\"LegendItem\"},{\"attributes\":{\"callback\":null,\"column_names\":[\"x\",\"height\",\"width\",\"y\",\"line_alpha\",\"label\",\"color\",\"line_color\",\"fill_alpha\"],\"data\":{\"chart_index\":[{\"year\":\"2010\"}],\"color\":[\"#f22c40\"],\"fill_alpha\":[0.8],\"height\":[26769.0],\"label\":[{\"year\":\"2010\"}],\"line_alpha\":[1.0],\"line_color\":[\"white\"],\"width\":[0.8],\"x\":[\"2010\"],\"y\":[13384.5],\"year\":[\"2010\"]}},\"id\":\"674eba8e-5b3e-4cc9-8fdd-a826c70b1802\",\"type\":\"ColumnDataSource\"},{\"attributes\":{\"callback\":null,\"column_names\":[\"x\",\"height\",\"width\",\"y\",\"line_alpha\",\"label\",\"color\",\"line_color\",\"fill_alpha\"],\"data\":{\"chart_index\":[{\"year\":\"2014\"}],\"color\":[\"#f22c40\"],\"fill_alpha\":[0.8],\"height\":[46808.0],\"label\":[{\"year\":\"2014\"}],\"line_alpha\":[1.0],\"line_color\":[\"white\"],\"width\":[0.8],\"x\":[\"2014\"],\"y\":[23404.0],\"year\":[\"2014\"]}},\"id\":\"d8900218-4dbf-4ced-a847-6f05527df112\",\"type\":\"ColumnDataSource\"},{\"attributes\":{\"label\":{\"value\":\"2014\"},\"renderers\":[{\"id\":\"441db23d-4f09-4f05-85b6-77a55f2ca066\",\"type\":\"GlyphRenderer\"}]},\"id\":\"f21e92cb-7905-4e90-8051-bf41990390c6\",\"type\":\"LegendItem\"},{\"attributes\":{\"plot\":{\"id\":\"e55e774e-0fcf-4de2-8ac9-1447ee81ec1a\",\"subtype\":\"Chart\",\"type\":\"Plot\"}},\"id\":\"36f1faf8-d3ef-4149-a0b5-1262aca9d21b\",\"type\":\"SaveTool\"},{\"attributes\":{\"plot\":null,\"text\":\"Graffiti reported to SF311 by year\"},\"id\":\"0c27e0ea-1534-419c-b253-dd4028c9577f\",\"type\":\"Title\"},{\"attributes\":{\"plot\":{\"id\":\"e55e774e-0fcf-4de2-8ac9-1447ee81ec1a\",\"subtype\":\"Chart\",\"type\":\"Plot\"}},\"id\":\"43a8fd3b-d7e7-49d1-9892-e202eb129bdf\",\"type\":\"WheelZoomTool\"},{\"attributes\":{\"label\":{\"value\":\"2012\"},\"renderers\":[{\"id\":\"b86c07d5-6038-4dae-b618-67aa03d67304\",\"type\":\"GlyphRenderer\"}]},\"id\":\"6a7b627d-c245-44ef-b57e-92a971024835\",\"type\":\"LegendItem\"},{\"attributes\":{\"callback\":null,\"factors\":[\"2009\",\"2010\",\"2011\",\"2012\",\"2013\",\"2014\",\"2015\",\"2016\"]},\"id\":\"73f60c43-3cc1-4e70-884a-a01a695987fe\",\"type\":\"FactorRange\"},{\"attributes\":{\"callback\":null,\"column_names\":[\"x\",\"height\",\"width\",\"y\",\"line_alpha\",\"label\",\"color\",\"line_color\",\"fill_alpha\"],\"data\":{\"chart_index\":[{\"year\":\"2012\"}],\"color\":[\"#f22c40\"],\"fill_alpha\":[0.8],\"height\":[26254.0],\"label\":[{\"year\":\"2012\"}],\"line_alpha\":[1.0],\"line_color\":[\"white\"],\"width\":[0.8],\"x\":[\"2012\"],\"y\":[13127.0],\"year\":[\"2012\"]}},\"id\":\"e404e4b0-5fd7-4e3f-b571-943163e03678\",\"type\":\"ColumnDataSource\"},{\"attributes\":{\"fill_alpha\":{\"field\":\"fill_alpha\"},\"fill_color\":{\"field\":\"color\"},\"height\":{\"field\":\"height\",\"units\":\"data\"},\"line_color\":{\"field\":\"line_color\"},\"width\":{\"field\":\"width\",\"units\":\"data\"},\"x\":{\"field\":\"x\"},\"y\":{\"field\":\"y\"}},\"id\":\"1207c6c3-2a21-448a-a52b-92b44e17ed91\",\"type\":\"Rect\"},{\"attributes\":{\"data_source\":{\"id\":\"e404e4b0-5fd7-4e3f-b571-943163e03678\",\"type\":\"ColumnDataSource\"},\"glyph\":{\"id\":\"1207c6c3-2a21-448a-a52b-92b44e17ed91\",\"type\":\"Rect\"},\"hover_glyph\":null,\"nonselection_glyph\":null,\"selection_glyph\":null},\"id\":\"b86c07d5-6038-4dae-b618-67aa03d67304\",\"type\":\"GlyphRenderer\"},{\"attributes\":{\"label\":{\"value\":\"2011\"},\"renderers\":[{\"id\":\"77ff6f2d-d59f-4293-a0d3-0ac610833bc9\",\"type\":\"GlyphRenderer\"}]},\"id\":\"aacd8e1f-b1c8-40dd-91fd-0ee054bd285f\",\"type\":\"LegendItem\"},{\"attributes\":{\"fill_alpha\":{\"field\":\"fill_alpha\"},\"fill_color\":{\"field\":\"color\"},\"height\":{\"field\":\"height\",\"units\":\"data\"},\"line_color\":{\"field\":\"line_color\"},\"width\":{\"field\":\"width\",\"units\":\"data\"},\"x\":{\"field\":\"x\"},\"y\":{\"field\":\"y\"}},\"id\":\"1c1721f4-8295-4d44-9f12-b44a86f9aa5e\",\"type\":\"Rect\"},{\"attributes\":{\"data_source\":{\"id\":\"318cf3b1-a3dd-44d5-a364-038e3dabfc26\",\"type\":\"ColumnDataSource\"},\"glyph\":{\"id\":\"055a500d-64ee-4448-8edb-b19db802f808\",\"type\":\"Rect\"},\"hover_glyph\":null,\"nonselection_glyph\":null,\"selection_glyph\":null},\"id\":\"01a2bc83-8b09-423a-825e-fde487de769c\",\"type\":\"GlyphRenderer\"},{\"attributes\":{\"plot\":{\"id\":\"e55e774e-0fcf-4de2-8ac9-1447ee81ec1a\",\"subtype\":\"Chart\",\"type\":\"Plot\"}},\"id\":\"df718418-3d72-4e27-93c1-a27e8bc420be\",\"type\":\"HelpTool\"},{\"attributes\":{\"axis_label\":\"Sum( Count )\",\"formatter\":{\"id\":\"957f494e-8499-4e52-99dd-3dd8cb3104d0\",\"type\":\"BasicTickFormatter\"},\"plot\":{\"id\":\"e55e774e-0fcf-4de2-8ac9-1447ee81ec1a\",\"subtype\":\"Chart\",\"type\":\"Plot\"},\"ticker\":{\"id\":\"c89b0327-4ccd-4ed7-8772-fb2e8d7b37d6\",\"type\":\"BasicTicker\"}},\"id\":\"b0f170fa-b5d7-41c5-95db-7fcc97b9efe0\",\"type\":\"LinearAxis\"},{\"attributes\":{\"label\":{\"value\":\"2016\"},\"renderers\":[{\"id\":\"314c0084-9ccc-4ad7-8a31-ea9c5c96f22b\",\"type\":\"GlyphRenderer\"}]},\"id\":\"be0dfe8b-a01e-431f-9915-14dd9da9fd07\",\"type\":\"LegendItem\"},{\"attributes\":{\"data_source\":{\"id\":\"d8900218-4dbf-4ced-a847-6f05527df112\",\"type\":\"ColumnDataSource\"},\"glyph\":{\"id\":\"3f925ac6-ec6f-4c9d-93e8-4561ce2e7b13\",\"type\":\"Rect\"},\"hover_glyph\":null,\"nonselection_glyph\":null,\"selection_glyph\":null},\"id\":\"441db23d-4f09-4f05-85b6-77a55f2ca066\",\"type\":\"GlyphRenderer\"},{\"attributes\":{\"label\":{\"value\":\"2015\"},\"renderers\":[{\"id\":\"01a2bc83-8b09-423a-825e-fde487de769c\",\"type\":\"GlyphRenderer\"}]},\"id\":\"41c704dc-9060-4e66-ae76-b1d640d728d4\",\"type\":\"LegendItem\"},{\"attributes\":{\"callback\":null,\"column_names\":[\"x\",\"height\",\"width\",\"y\",\"line_alpha\",\"label\",\"color\",\"line_color\",\"fill_alpha\"],\"data\":{\"chart_index\":[{\"year\":\"2013\"}],\"color\":[\"#f22c40\"],\"fill_alpha\":[0.8],\"height\":[35831.0],\"label\":[{\"year\":\"2013\"}],\"line_alpha\":[1.0],\"line_color\":[\"white\"],\"width\":[0.8],\"x\":[\"2013\"],\"y\":[17915.5],\"year\":[\"2013\"]}},\"id\":\"2b48680a-3926-4e7a-934e-14457c6bedb4\",\"type\":\"ColumnDataSource\"},{\"attributes\":{\"active_drag\":\"auto\",\"active_scroll\":\"auto\",\"active_tap\":\"auto\",\"tools\":[{\"id\":\"4fcfa19e-b3fc-48cc-8dee-7c700fc82a10\",\"type\":\"PanTool\"},{\"id\":\"43a8fd3b-d7e7-49d1-9892-e202eb129bdf\",\"type\":\"WheelZoomTool\"},{\"id\":\"b90dfc42-b34b-49fd-87d3-5474298f3265\",\"type\":\"BoxZoomTool\"},{\"id\":\"36f1faf8-d3ef-4149-a0b5-1262aca9d21b\",\"type\":\"SaveTool\"},{\"id\":\"c0691ec7-350d-46b4-962f-e5bded772740\",\"type\":\"ResetTool\"},{\"id\":\"df718418-3d72-4e27-93c1-a27e8bc420be\",\"type\":\"HelpTool\"}]},\"id\":\"6bb46d19-21c0-4531-8f93-40b97b280019\",\"type\":\"Toolbar\"},{\"attributes\":{\"fill_alpha\":{\"field\":\"fill_alpha\"},\"fill_color\":{\"field\":\"color\"},\"height\":{\"field\":\"height\",\"units\":\"data\"},\"line_color\":{\"field\":\"line_color\"},\"width\":{\"field\":\"width\",\"units\":\"data\"},\"x\":{\"field\":\"x\"},\"y\":{\"field\":\"y\"}},\"id\":\"785aa346-0351-4528-8f06-8963c38189ad\",\"type\":\"Rect\"},{\"attributes\":{\"callback\":null,\"end\":76011.6},\"id\":\"48f06939-9c0b-4738-88a5-3a1ebdb87cad\",\"type\":\"Range1d\"},{\"attributes\":{\"items\":[{\"id\":\"e0a0619c-5963-4e3c-b551-b644e37605d9\",\"type\":\"LegendItem\"},{\"id\":\"f82f3b38-4840-4f1b-9f0c-eea8c9d3a366\",\"type\":\"LegendItem\"},{\"id\":\"aacd8e1f-b1c8-40dd-91fd-0ee054bd285f\",\"type\":\"LegendItem\"},{\"id\":\"6a7b627d-c245-44ef-b57e-92a971024835\",\"type\":\"LegendItem\"},{\"id\":\"4a042f0a-4259-4f9d-a8ac-ab272f67cd27\",\"type\":\"LegendItem\"},{\"id\":\"f21e92cb-7905-4e90-8051-bf41990390c6\",\"type\":\"LegendItem\"},{\"id\":\"41c704dc-9060-4e66-ae76-b1d640d728d4\",\"type\":\"LegendItem\"},{\"id\":\"be0dfe8b-a01e-431f-9915-14dd9da9fd07\",\"type\":\"LegendItem\"}],\"location\":\"top_left\",\"plot\":{\"id\":\"e55e774e-0fcf-4de2-8ac9-1447ee81ec1a\",\"subtype\":\"Chart\",\"type\":\"Plot\"}},\"id\":\"d65f646a-053c-4aae-858b-9fdaffe674f5\",\"type\":\"Legend\"},{\"attributes\":{\"fill_alpha\":{\"field\":\"fill_alpha\"},\"fill_color\":{\"field\":\"color\"},\"height\":{\"field\":\"height\",\"units\":\"data\"},\"line_color\":{\"field\":\"line_color\"},\"width\":{\"field\":\"width\",\"units\":\"data\"},\"x\":{\"field\":\"x\"},\"y\":{\"field\":\"y\"}},\"id\":\"f9722708-4891-434b-9f78-e647ebb51987\",\"type\":\"Rect\"},{\"attributes\":{\"fill_alpha\":{\"field\":\"fill_alpha\"},\"fill_color\":{\"field\":\"color\"},\"height\":{\"field\":\"height\",\"units\":\"data\"},\"line_color\":{\"field\":\"line_color\"},\"width\":{\"field\":\"width\",\"units\":\"data\"},\"x\":{\"field\":\"x\"},\"y\":{\"field\":\"y\"}},\"id\":\"3f925ac6-ec6f-4c9d-93e8-4561ce2e7b13\",\"type\":\"Rect\"},{\"attributes\":{},\"id\":\"957f494e-8499-4e52-99dd-3dd8cb3104d0\",\"type\":\"BasicTickFormatter\"},{\"attributes\":{\"children\":[{\"id\":\"e55e774e-0fcf-4de2-8ac9-1447ee81ec1a\",\"subtype\":\"Chart\",\"type\":\"Plot\"}]},\"id\":\"98b10612-e24d-4104-a1e9-46b7ee1c0682\",\"type\":\"Row\"},{\"attributes\":{\"axis_label\":\"Year\",\"formatter\":{\"id\":\"abed44cf-d048-45c3-a6d9-34f3c0883db1\",\"type\":\"CategoricalTickFormatter\"},\"major_label_orientation\":0.7853981633974483,\"plot\":{\"id\":\"e55e774e-0fcf-4de2-8ac9-1447ee81ec1a\",\"subtype\":\"Chart\",\"type\":\"Plot\"},\"ticker\":{\"id\":\"6ffaf5c2-4299-4bbd-9807-a00b492ffb9d\",\"type\":\"CategoricalTicker\"}},\"id\":\"01188707-cd04-481e-a7fe-07ad110d9b82\",\"type\":\"CategoricalAxis\"},{\"attributes\":{\"fill_alpha\":{\"field\":\"fill_alpha\"},\"fill_color\":{\"field\":\"color\"},\"height\":{\"field\":\"height\",\"units\":\"data\"},\"line_color\":{\"field\":\"line_color\"},\"width\":{\"field\":\"width\",\"units\":\"data\"},\"x\":{\"field\":\"x\"},\"y\":{\"field\":\"y\"}},\"id\":\"9dacb36e-c160-4467-97c3-48da1f2e69dc\",\"type\":\"Rect\"},{\"attributes\":{\"data_source\":{\"id\":\"2b48680a-3926-4e7a-934e-14457c6bedb4\",\"type\":\"ColumnDataSource\"},\"glyph\":{\"id\":\"f9722708-4891-434b-9f78-e647ebb51987\",\"type\":\"Rect\"},\"hover_glyph\":null,\"nonselection_glyph\":null,\"selection_glyph\":null},\"id\":\"2f4f2ff6-ec5a-4d94-ba8d-44b6bc8b3f35\",\"type\":\"GlyphRenderer\"},{\"attributes\":{},\"id\":\"abed44cf-d048-45c3-a6d9-34f3c0883db1\",\"type\":\"CategoricalTickFormatter\"},{\"attributes\":{\"data_source\":{\"id\":\"812387c1-5670-4c35-ba9d-3bcfeb88af8c\",\"type\":\"ColumnDataSource\"},\"glyph\":{\"id\":\"1c1721f4-8295-4d44-9f12-b44a86f9aa5e\",\"type\":\"Rect\"},\"hover_glyph\":null,\"nonselection_glyph\":null,\"selection_glyph\":null},\"id\":\"4fcbd696-1e04-4b74-b95d-4d405fcc11bb\",\"type\":\"GlyphRenderer\"},{\"attributes\":{\"label\":{\"value\":\"2010\"},\"renderers\":[{\"id\":\"aa61ccb9-b335-4f25-b3d7-14f80d1c1113\",\"type\":\"GlyphRenderer\"}]},\"id\":\"f82f3b38-4840-4f1b-9f0c-eea8c9d3a366\",\"type\":\"LegendItem\"},{\"attributes\":{\"plot\":{\"id\":\"e55e774e-0fcf-4de2-8ac9-1447ee81ec1a\",\"subtype\":\"Chart\",\"type\":\"Plot\"}},\"id\":\"4fcfa19e-b3fc-48cc-8dee-7c700fc82a10\",\"type\":\"PanTool\"},{\"attributes\":{\"dimension\":1,\"plot\":{\"id\":\"e55e774e-0fcf-4de2-8ac9-1447ee81ec1a\",\"subtype\":\"Chart\",\"type\":\"Plot\"},\"ticker\":{\"id\":\"c89b0327-4ccd-4ed7-8772-fb2e8d7b37d6\",\"type\":\"BasicTicker\"}},\"id\":\"ee287814-92d2-432b-aec0-4284131bdbf0\",\"type\":\"Grid\"},{\"attributes\":{},\"id\":\"6ffaf5c2-4299-4bbd-9807-a00b492ffb9d\",\"type\":\"CategoricalTicker\"},{\"attributes\":{\"overlay\":{\"id\":\"16412749-e2cf-4789-9aae-6a9cd29747da\",\"type\":\"BoxAnnotation\"},\"plot\":{\"id\":\"e55e774e-0fcf-4de2-8ac9-1447ee81ec1a\",\"subtype\":\"Chart\",\"type\":\"Plot\"}},\"id\":\"b90dfc42-b34b-49fd-87d3-5474298f3265\",\"type\":\"BoxZoomTool\"},{\"attributes\":{\"callback\":null,\"column_names\":[\"x\",\"height\",\"width\",\"y\",\"line_alpha\",\"label\",\"color\",\"line_color\",\"fill_alpha\"],\"data\":{\"chart_index\":[{\"year\":\"2009\"}],\"color\":[\"#f22c40\"],\"fill_alpha\":[0.8],\"height\":[32285.0],\"label\":[{\"year\":\"2009\"}],\"line_alpha\":[1.0],\"line_color\":[\"white\"],\"width\":[0.8],\"x\":[\"2009\"],\"y\":[16142.5],\"year\":[\"2009\"]}},\"id\":\"812387c1-5670-4c35-ba9d-3bcfeb88af8c\",\"type\":\"ColumnDataSource\"},{\"attributes\":{\"callback\":null,\"column_names\":[\"x\",\"height\",\"width\",\"y\",\"line_alpha\",\"label\",\"color\",\"line_color\",\"fill_alpha\"],\"data\":{\"chart_index\":[{\"year\":\"2015\"}],\"color\":[\"#f22c40\"],\"fill_alpha\":[0.8],\"height\":[57249.0],\"label\":[{\"year\":\"2015\"}],\"line_alpha\":[1.0],\"line_color\":[\"white\"],\"width\":[0.8],\"x\":[\"2015\"],\"y\":[28624.5],\"year\":[\"2015\"]}},\"id\":\"318cf3b1-a3dd-44d5-a364-038e3dabfc26\",\"type\":\"ColumnDataSource\"},{\"attributes\":{\"below\":[{\"id\":\"01188707-cd04-481e-a7fe-07ad110d9b82\",\"type\":\"CategoricalAxis\"}],\"left\":[{\"id\":\"b0f170fa-b5d7-41c5-95db-7fcc97b9efe0\",\"type\":\"LinearAxis\"}],\"renderers\":[{\"id\":\"16412749-e2cf-4789-9aae-6a9cd29747da\",\"type\":\"BoxAnnotation\"},{\"id\":\"4fcbd696-1e04-4b74-b95d-4d405fcc11bb\",\"type\":\"GlyphRenderer\"},{\"id\":\"aa61ccb9-b335-4f25-b3d7-14f80d1c1113\",\"type\":\"GlyphRenderer\"},{\"id\":\"77ff6f2d-d59f-4293-a0d3-0ac610833bc9\",\"type\":\"GlyphRenderer\"},{\"id\":\"b86c07d5-6038-4dae-b618-67aa03d67304\",\"type\":\"GlyphRenderer\"},{\"id\":\"2f4f2ff6-ec5a-4d94-ba8d-44b6bc8b3f35\",\"type\":\"GlyphRenderer\"},{\"id\":\"441db23d-4f09-4f05-85b6-77a55f2ca066\",\"type\":\"GlyphRenderer\"},{\"id\":\"01a2bc83-8b09-423a-825e-fde487de769c\",\"type\":\"GlyphRenderer\"},{\"id\":\"314c0084-9ccc-4ad7-8a31-ea9c5c96f22b\",\"type\":\"GlyphRenderer\"},{\"id\":\"d65f646a-053c-4aae-858b-9fdaffe674f5\",\"type\":\"Legend\"},{\"id\":\"01188707-cd04-481e-a7fe-07ad110d9b82\",\"type\":\"CategoricalAxis\"},{\"id\":\"b0f170fa-b5d7-41c5-95db-7fcc97b9efe0\",\"type\":\"LinearAxis\"},{\"id\":\"ee287814-92d2-432b-aec0-4284131bdbf0\",\"type\":\"Grid\"}],\"title\":{\"id\":\"0c27e0ea-1534-419c-b253-dd4028c9577f\",\"type\":\"Title\"},\"tool_events\":{\"id\":\"028c2f87-6bb6-465e-a622-eda9619286de\",\"type\":\"ToolEvents\"},\"toolbar\":{\"id\":\"6bb46d19-21c0-4531-8f93-40b97b280019\",\"type\":\"Toolbar\"},\"x_mapper_type\":\"auto\",\"x_range\":{\"id\":\"73f60c43-3cc1-4e70-884a-a01a695987fe\",\"type\":\"FactorRange\"},\"y_mapper_type\":\"auto\",\"y_range\":{\"id\":\"48f06939-9c0b-4738-88a5-3a1ebdb87cad\",\"type\":\"Range1d\"}},\"id\":\"e55e774e-0fcf-4de2-8ac9-1447ee81ec1a\",\"subtype\":\"Chart\",\"type\":\"Plot\"},{\"attributes\":{\"label\":{\"value\":\"2009\"},\"renderers\":[{\"id\":\"4fcbd696-1e04-4b74-b95d-4d405fcc11bb\",\"type\":\"GlyphRenderer\"}]},\"id\":\"e0a0619c-5963-4e3c-b551-b644e37605d9\",\"type\":\"LegendItem\"},{\"attributes\":{},\"id\":\"c89b0327-4ccd-4ed7-8772-fb2e8d7b37d6\",\"type\":\"BasicTicker\"},{\"attributes\":{\"data_source\":{\"id\":\"098c030d-658b-4c52-9608-86ade925be1e\",\"type\":\"ColumnDataSource\"},\"glyph\":{\"id\":\"251a515c-8251-4895-860b-cdc2de367755\",\"type\":\"Rect\"},\"hover_glyph\":null,\"nonselection_glyph\":null,\"selection_glyph\":null},\"id\":\"314c0084-9ccc-4ad7-8a31-ea9c5c96f22b\",\"type\":\"GlyphRenderer\"},{\"attributes\":{\"callback\":null,\"column_names\":[\"x\",\"height\",\"width\",\"y\",\"line_alpha\",\"label\",\"color\",\"line_color\",\"fill_alpha\"],\"data\":{\"chart_index\":[{\"year\":\"2011\"}],\"color\":[\"#f22c40\"],\"fill_alpha\":[0.8],\"height\":[25445.0],\"label\":[{\"year\":\"2011\"}],\"line_alpha\":[1.0],\"line_color\":[\"white\"],\"width\":[0.8],\"x\":[\"2011\"],\"y\":[12722.5],\"year\":[\"2011\"]}},\"id\":\"3aec91a1-6266-4fe2-a52a-71395c83f7fe\",\"type\":\"ColumnDataSource\"},{\"attributes\":{\"fill_alpha\":{\"field\":\"fill_alpha\"},\"fill_color\":{\"field\":\"color\"},\"height\":{\"field\":\"height\",\"units\":\"data\"},\"line_color\":{\"field\":\"line_color\"},\"width\":{\"field\":\"width\",\"units\":\"data\"},\"x\":{\"field\":\"x\"},\"y\":{\"field\":\"y\"}},\"id\":\"251a515c-8251-4895-860b-cdc2de367755\",\"type\":\"Rect\"},{\"attributes\":{\"callback\":null,\"column_names\":[\"x\",\"height\",\"width\",\"y\",\"line_alpha\",\"label\",\"color\",\"line_color\",\"fill_alpha\"],\"data\":{\"chart_index\":[{\"year\":\"2016\"}],\"color\":[\"#f22c40\"],\"fill_alpha\":[0.8],\"height\":[72392.0],\"label\":[{\"year\":\"2016\"}],\"line_alpha\":[1.0],\"line_color\":[\"white\"],\"width\":[0.8],\"x\":[\"2016\"],\"y\":[36196.0],\"year\":[\"2016\"]}},\"id\":\"098c030d-658b-4c52-9608-86ade925be1e\",\"type\":\"ColumnDataSource\"}],\"root_ids\":[\"98b10612-e24d-4104-a1e9-46b7ee1c0682\"]},\"title\":\"Bokeh Application\",\"version\":\"0.12.3\"}};\n",
       "            var render_items = [{\"docid\":\"f384cf70-f071-4143-93e1-7cdc41f053f6\",\"elementid\":\"a2e9c726-08b7-4a64-9d53-10f34e903479\",\"modelid\":\"98b10612-e24d-4104-a1e9-46b7ee1c0682\"}];\n",
       "            \n",
       "            Bokeh.embed.embed_items(docs_json, render_items);\n",
       "        });\n",
       "      },\n",
       "      function(Bokeh) {\n",
       "      }\n",
       "    ];\n",
       "  \n",
       "    function run_inline_js() {\n",
       "      \n",
       "      if ((window.Bokeh !== undefined) || (force === \"1\")) {\n",
       "        for (var i = 0; i < inline_js.length; i++) {\n",
       "          inline_js[i](window.Bokeh);\n",
       "        }if (force === \"1\") {\n",
       "          display_loaded();\n",
       "        }} else if (Date.now() < window._bokeh_timeout) {\n",
       "        setTimeout(run_inline_js, 100);\n",
       "      } else if (!window._bokeh_failed_load) {\n",
       "        console.log(\"Bokeh: BokehJS failed to load within specified timeout.\");\n",
       "        window._bokeh_failed_load = true;\n",
       "      } else if (!force) {\n",
       "        var cell = $(\"#a2e9c726-08b7-4a64-9d53-10f34e903479\").parents('.cell').data().cell;\n",
       "        cell.output_area.append_execute_result(NB_LOAD_WARNING)\n",
       "      }\n",
       "  \n",
       "    }\n",
       "  \n",
       "    if (window._bokeh_is_loading === 0) {\n",
       "      console.log(\"Bokeh: BokehJS loaded, going straight to plotting\");\n",
       "      run_inline_js();\n",
       "    } else {\n",
       "      load_libs(js_urls, function() {\n",
       "        console.log(\"Bokeh: BokehJS plotting callback run at\", now());\n",
       "        run_inline_js();\n",
       "      });\n",
       "    }\n",
       "  }(this));\n",
       "</script>"
      ]
     },
     "metadata": {},
     "output_type": "display_data"
    }
   ],
   "source": [
    "trend = Bar(df, values = 'count', label = 'year', title = 'Graffiti reported to SF311 by year')\n",
    "output_notebook()\n",
    "show(row(trend))"
   ]
  },
  {
   "cell_type": "code",
   "execution_count": 208,
   "metadata": {
    "collapsed": false
   },
   "outputs": [
    {
     "data": {
      "text/html": [
       "<div>\n",
       "<table border=\"1\" class=\"dataframe\">\n",
       "  <thead>\n",
       "    <tr style=\"text-align: right;\">\n",
       "      <th></th>\n",
       "      <th>year</th>\n",
       "      <th>count</th>\n",
       "    </tr>\n",
       "  </thead>\n",
       "  <tbody>\n",
       "    <tr>\n",
       "      <th>4</th>\n",
       "      <td>2012</td>\n",
       "      <td>26254</td>\n",
       "    </tr>\n",
       "    <tr>\n",
       "      <th>5</th>\n",
       "      <td>2013</td>\n",
       "      <td>35831</td>\n",
       "    </tr>\n",
       "    <tr>\n",
       "      <th>6</th>\n",
       "      <td>2014</td>\n",
       "      <td>46808</td>\n",
       "    </tr>\n",
       "    <tr>\n",
       "      <th>7</th>\n",
       "      <td>2015</td>\n",
       "      <td>57249</td>\n",
       "    </tr>\n",
       "  </tbody>\n",
       "</table>\n",
       "</div>"
      ],
      "text/plain": [
       "   year  count\n",
       "4  2012  26254\n",
       "5  2013  35831\n",
       "6  2014  46808\n",
       "7  2015  57249"
      ]
     },
     "execution_count": 208,
     "metadata": {},
     "output_type": "execute_result"
    }
   ],
   "source": [
    "df = df[3:-1]\n",
    "df"
   ]
  },
  {
   "cell_type": "code",
   "execution_count": 209,
   "metadata": {
    "collapsed": false
   },
   "outputs": [
    {
     "data": {
      "text/html": [
       "\n",
       "    <div class=\"bk-root\">\n",
       "        <a href=\"http://bokeh.pydata.org\" target=\"_blank\" class=\"bk-logo bk-logo-small bk-logo-notebook\"></a>\n",
       "        <span id=\"b16e6a1d-780c-4320-b447-c933f46f873a\">Loading BokehJS ...</span>\n",
       "    </div>"
      ]
     },
     "metadata": {},
     "output_type": "display_data"
    },
    {
     "data": {
      "application/javascript": [
       "\n",
       "(function(global) {\n",
       "  function now() {\n",
       "    return new Date();\n",
       "  }\n",
       "\n",
       "  var force = \"1\";\n",
       "\n",
       "  if (typeof (window._bokeh_onload_callbacks) === \"undefined\" || force !== \"\") {\n",
       "    window._bokeh_onload_callbacks = [];\n",
       "    window._bokeh_is_loading = undefined;\n",
       "  }\n",
       "\n",
       "\n",
       "  \n",
       "  if (typeof (window._bokeh_timeout) === \"undefined\" || force !== \"\") {\n",
       "    window._bokeh_timeout = Date.now() + 5000;\n",
       "    window._bokeh_failed_load = false;\n",
       "  }\n",
       "\n",
       "  var NB_LOAD_WARNING = {'data': {'text/html':\n",
       "     \"<div style='background-color: #fdd'>\\n\"+\n",
       "     \"<p>\\n\"+\n",
       "     \"BokehJS does not appear to have successfully loaded. If loading BokehJS from CDN, this \\n\"+\n",
       "     \"may be due to a slow or bad network connection. Possible fixes:\\n\"+\n",
       "     \"</p>\\n\"+\n",
       "     \"<ul>\\n\"+\n",
       "     \"<li>re-rerun `output_notebook()` to attempt to load from CDN again, or</li>\\n\"+\n",
       "     \"<li>use INLINE resources instead, as so:</li>\\n\"+\n",
       "     \"</ul>\\n\"+\n",
       "     \"<code>\\n\"+\n",
       "     \"from bokeh.resources import INLINE\\n\"+\n",
       "     \"output_notebook(resources=INLINE)\\n\"+\n",
       "     \"</code>\\n\"+\n",
       "     \"</div>\"}};\n",
       "\n",
       "  function display_loaded() {\n",
       "    if (window.Bokeh !== undefined) {\n",
       "      Bokeh.$(\"#b16e6a1d-780c-4320-b447-c933f46f873a\").text(\"BokehJS successfully loaded.\");\n",
       "    } else if (Date.now() < window._bokeh_timeout) {\n",
       "      setTimeout(display_loaded, 100)\n",
       "    }\n",
       "  }\n",
       "\n",
       "  function run_callbacks() {\n",
       "    window._bokeh_onload_callbacks.forEach(function(callback) { callback() });\n",
       "    delete window._bokeh_onload_callbacks\n",
       "    console.info(\"Bokeh: all callbacks have finished\");\n",
       "  }\n",
       "\n",
       "  function load_libs(js_urls, callback) {\n",
       "    window._bokeh_onload_callbacks.push(callback);\n",
       "    if (window._bokeh_is_loading > 0) {\n",
       "      console.log(\"Bokeh: BokehJS is being loaded, scheduling callback at\", now());\n",
       "      return null;\n",
       "    }\n",
       "    if (js_urls == null || js_urls.length === 0) {\n",
       "      run_callbacks();\n",
       "      return null;\n",
       "    }\n",
       "    console.log(\"Bokeh: BokehJS not loaded, scheduling load and callback at\", now());\n",
       "    window._bokeh_is_loading = js_urls.length;\n",
       "    for (var i = 0; i < js_urls.length; i++) {\n",
       "      var url = js_urls[i];\n",
       "      var s = document.createElement('script');\n",
       "      s.src = url;\n",
       "      s.async = false;\n",
       "      s.onreadystatechange = s.onload = function() {\n",
       "        window._bokeh_is_loading--;\n",
       "        if (window._bokeh_is_loading === 0) {\n",
       "          console.log(\"Bokeh: all BokehJS libraries loaded\");\n",
       "          run_callbacks()\n",
       "        }\n",
       "      };\n",
       "      s.onerror = function() {\n",
       "        console.warn(\"failed to load library \" + url);\n",
       "      };\n",
       "      console.log(\"Bokeh: injecting script tag for BokehJS library: \", url);\n",
       "      document.getElementsByTagName(\"head\")[0].appendChild(s);\n",
       "    }\n",
       "  };var element = document.getElementById(\"b16e6a1d-780c-4320-b447-c933f46f873a\");\n",
       "  if (element == null) {\n",
       "    console.log(\"Bokeh: ERROR: autoload.js configured with elementid 'b16e6a1d-780c-4320-b447-c933f46f873a' but no matching script tag was found. \")\n",
       "    return false;\n",
       "  }\n",
       "\n",
       "  var js_urls = ['https://cdn.pydata.org/bokeh/release/bokeh-0.12.3.min.js', 'https://cdn.pydata.org/bokeh/release/bokeh-widgets-0.12.3.min.js'];\n",
       "\n",
       "  var inline_js = [\n",
       "    function(Bokeh) {\n",
       "      Bokeh.set_log_level(\"info\");\n",
       "    },\n",
       "    \n",
       "    function(Bokeh) {\n",
       "      \n",
       "      Bokeh.$(\"#b16e6a1d-780c-4320-b447-c933f46f873a\").text(\"BokehJS is loading...\");\n",
       "    },\n",
       "    function(Bokeh) {\n",
       "      console.log(\"Bokeh: injecting CSS: https://cdn.pydata.org/bokeh/release/bokeh-0.12.3.min.css\");\n",
       "      Bokeh.embed.inject_css(\"https://cdn.pydata.org/bokeh/release/bokeh-0.12.3.min.css\");\n",
       "      console.log(\"Bokeh: injecting CSS: https://cdn.pydata.org/bokeh/release/bokeh-widgets-0.12.3.min.css\");\n",
       "      Bokeh.embed.inject_css(\"https://cdn.pydata.org/bokeh/release/bokeh-widgets-0.12.3.min.css\");\n",
       "    }\n",
       "  ];\n",
       "\n",
       "  function run_inline_js() {\n",
       "    \n",
       "    if ((window.Bokeh !== undefined) || (force === \"1\")) {\n",
       "      for (var i = 0; i < inline_js.length; i++) {\n",
       "        inline_js[i](window.Bokeh);\n",
       "      }if (force === \"1\") {\n",
       "        display_loaded();\n",
       "      }} else if (Date.now() < window._bokeh_timeout) {\n",
       "      setTimeout(run_inline_js, 100);\n",
       "    } else if (!window._bokeh_failed_load) {\n",
       "      console.log(\"Bokeh: BokehJS failed to load within specified timeout.\");\n",
       "      window._bokeh_failed_load = true;\n",
       "    } else if (!force) {\n",
       "      var cell = $(\"#b16e6a1d-780c-4320-b447-c933f46f873a\").parents('.cell').data().cell;\n",
       "      cell.output_area.append_execute_result(NB_LOAD_WARNING)\n",
       "    }\n",
       "\n",
       "  }\n",
       "\n",
       "  if (window._bokeh_is_loading === 0) {\n",
       "    console.log(\"Bokeh: BokehJS loaded, going straight to plotting\");\n",
       "    run_inline_js();\n",
       "  } else {\n",
       "    load_libs(js_urls, function() {\n",
       "      console.log(\"Bokeh: BokehJS plotting callback run at\", now());\n",
       "      run_inline_js();\n",
       "    });\n",
       "  }\n",
       "}(this));"
      ]
     },
     "metadata": {},
     "output_type": "display_data"
    },
    {
     "data": {
      "text/html": [
       "\n",
       "\n",
       "    <div class=\"bk-root\">\n",
       "        <div class=\"plotdiv\" id=\"0a6bc92a-8fe3-428a-9d56-e5d956eef945\"></div>\n",
       "    </div>\n",
       "<script type=\"text/javascript\">\n",
       "  \n",
       "  (function(global) {\n",
       "    function now() {\n",
       "      return new Date();\n",
       "    }\n",
       "  \n",
       "    var force = \"\";\n",
       "  \n",
       "    if (typeof (window._bokeh_onload_callbacks) === \"undefined\" || force !== \"\") {\n",
       "      window._bokeh_onload_callbacks = [];\n",
       "      window._bokeh_is_loading = undefined;\n",
       "    }\n",
       "  \n",
       "  \n",
       "    \n",
       "    if (typeof (window._bokeh_timeout) === \"undefined\" || force !== \"\") {\n",
       "      window._bokeh_timeout = Date.now() + 0;\n",
       "      window._bokeh_failed_load = false;\n",
       "    }\n",
       "  \n",
       "    var NB_LOAD_WARNING = {'data': {'text/html':\n",
       "       \"<div style='background-color: #fdd'>\\n\"+\n",
       "       \"<p>\\n\"+\n",
       "       \"BokehJS does not appear to have successfully loaded. If loading BokehJS from CDN, this \\n\"+\n",
       "       \"may be due to a slow or bad network connection. Possible fixes:\\n\"+\n",
       "       \"</p>\\n\"+\n",
       "       \"<ul>\\n\"+\n",
       "       \"<li>re-rerun `output_notebook()` to attempt to load from CDN again, or</li>\\n\"+\n",
       "       \"<li>use INLINE resources instead, as so:</li>\\n\"+\n",
       "       \"</ul>\\n\"+\n",
       "       \"<code>\\n\"+\n",
       "       \"from bokeh.resources import INLINE\\n\"+\n",
       "       \"output_notebook(resources=INLINE)\\n\"+\n",
       "       \"</code>\\n\"+\n",
       "       \"</div>\"}};\n",
       "  \n",
       "    function display_loaded() {\n",
       "      if (window.Bokeh !== undefined) {\n",
       "        Bokeh.$(\"#0a6bc92a-8fe3-428a-9d56-e5d956eef945\").text(\"BokehJS successfully loaded.\");\n",
       "      } else if (Date.now() < window._bokeh_timeout) {\n",
       "        setTimeout(display_loaded, 100)\n",
       "      }\n",
       "    }\n",
       "  \n",
       "    function run_callbacks() {\n",
       "      window._bokeh_onload_callbacks.forEach(function(callback) { callback() });\n",
       "      delete window._bokeh_onload_callbacks\n",
       "      console.info(\"Bokeh: all callbacks have finished\");\n",
       "    }\n",
       "  \n",
       "    function load_libs(js_urls, callback) {\n",
       "      window._bokeh_onload_callbacks.push(callback);\n",
       "      if (window._bokeh_is_loading > 0) {\n",
       "        console.log(\"Bokeh: BokehJS is being loaded, scheduling callback at\", now());\n",
       "        return null;\n",
       "      }\n",
       "      if (js_urls == null || js_urls.length === 0) {\n",
       "        run_callbacks();\n",
       "        return null;\n",
       "      }\n",
       "      console.log(\"Bokeh: BokehJS not loaded, scheduling load and callback at\", now());\n",
       "      window._bokeh_is_loading = js_urls.length;\n",
       "      for (var i = 0; i < js_urls.length; i++) {\n",
       "        var url = js_urls[i];\n",
       "        var s = document.createElement('script');\n",
       "        s.src = url;\n",
       "        s.async = false;\n",
       "        s.onreadystatechange = s.onload = function() {\n",
       "          window._bokeh_is_loading--;\n",
       "          if (window._bokeh_is_loading === 0) {\n",
       "            console.log(\"Bokeh: all BokehJS libraries loaded\");\n",
       "            run_callbacks()\n",
       "          }\n",
       "        };\n",
       "        s.onerror = function() {\n",
       "          console.warn(\"failed to load library \" + url);\n",
       "        };\n",
       "        console.log(\"Bokeh: injecting script tag for BokehJS library: \", url);\n",
       "        document.getElementsByTagName(\"head\")[0].appendChild(s);\n",
       "      }\n",
       "    };var element = document.getElementById(\"0a6bc92a-8fe3-428a-9d56-e5d956eef945\");\n",
       "    if (element == null) {\n",
       "      console.log(\"Bokeh: ERROR: autoload.js configured with elementid '0a6bc92a-8fe3-428a-9d56-e5d956eef945' but no matching script tag was found. \")\n",
       "      return false;\n",
       "    }\n",
       "  \n",
       "    var js_urls = [];\n",
       "  \n",
       "    var inline_js = [\n",
       "      function(Bokeh) {\n",
       "        Bokeh.$(function() {\n",
       "            var docs_json = {\"c0b5b332-5d81-4b52-8b2c-ecb3691591a0\":{\"roots\":{\"references\":[{\"attributes\":{\"fill_alpha\":{\"field\":\"fill_alpha\"},\"fill_color\":{\"field\":\"color\"},\"height\":{\"field\":\"height\",\"units\":\"data\"},\"line_color\":{\"field\":\"line_color\"},\"width\":{\"field\":\"width\",\"units\":\"data\"},\"x\":{\"field\":\"x\"},\"y\":{\"field\":\"y\"}},\"id\":\"6c46d9bb-414c-44bf-bc00-47468451094d\",\"type\":\"Rect\"},{\"attributes\":{\"plot\":{\"id\":\"91f669ea-61ef-4eee-a994-9dcdf6500aeb\",\"subtype\":\"Chart\",\"type\":\"Plot\"}},\"id\":\"2f1a8300-b1e5-4573-a2c2-a4e6be719958\",\"type\":\"HelpTool\"},{\"attributes\":{\"fill_alpha\":{\"field\":\"fill_alpha\"},\"fill_color\":{\"field\":\"color\"},\"height\":{\"field\":\"height\",\"units\":\"data\"},\"line_color\":{\"field\":\"line_color\"},\"width\":{\"field\":\"width\",\"units\":\"data\"},\"x\":{\"field\":\"x\"},\"y\":{\"field\":\"y\"}},\"id\":\"f7ab076d-ed18-41bd-929d-2e89765c761d\",\"type\":\"Rect\"},{\"attributes\":{\"callback\":null,\"column_names\":[\"x\",\"height\",\"width\",\"y\",\"line_alpha\",\"label\",\"color\",\"line_color\",\"fill_alpha\"],\"data\":{\"chart_index\":[{\"year\":\"2014\"}],\"color\":[\"#f22c40\"],\"fill_alpha\":[0.8],\"height\":[46808.0],\"label\":[{\"year\":\"2014\"}],\"line_alpha\":[1.0],\"line_color\":[\"white\"],\"width\":[0.8],\"x\":[\"2014\"],\"y\":[23404.0],\"year\":[\"2014\"]}},\"id\":\"5d5e1df8-8e90-4785-af97-6f9db9f2ecbb\",\"type\":\"ColumnDataSource\"},{\"attributes\":{\"callback\":null,\"column_names\":[\"x\",\"height\",\"width\",\"y\",\"line_alpha\",\"label\",\"color\",\"line_color\",\"fill_alpha\"],\"data\":{\"chart_index\":[{\"year\":\"2015\"}],\"color\":[\"#f22c40\"],\"fill_alpha\":[0.8],\"height\":[57249.0],\"label\":[{\"year\":\"2015\"}],\"line_alpha\":[1.0],\"line_color\":[\"white\"],\"width\":[0.8],\"x\":[\"2015\"],\"y\":[28624.5],\"year\":[\"2015\"]}},\"id\":\"78767871-fe42-4d0c-8538-e5f2dce873f9\",\"type\":\"ColumnDataSource\"},{\"attributes\":{\"plot\":{\"id\":\"91f669ea-61ef-4eee-a994-9dcdf6500aeb\",\"subtype\":\"Chart\",\"type\":\"Plot\"}},\"id\":\"5ac62c6b-00da-413c-a80d-63f65f991cb7\",\"type\":\"SaveTool\"},{\"attributes\":{},\"id\":\"84338996-1bd5-4429-ac13-583e706fb51d\",\"type\":\"ToolEvents\"},{\"attributes\":{\"axis_label\":\"Sum( Count )\",\"formatter\":{\"id\":\"7748de3f-2b7f-449c-87ce-a236efc81dd4\",\"type\":\"BasicTickFormatter\"},\"plot\":{\"id\":\"91f669ea-61ef-4eee-a994-9dcdf6500aeb\",\"subtype\":\"Chart\",\"type\":\"Plot\"},\"ticker\":{\"id\":\"e1e203a0-5f41-4c44-a329-2fb861af308e\",\"type\":\"BasicTicker\"}},\"id\":\"d98a8b26-2a6d-4b10-b764-f172816b86c5\",\"type\":\"LinearAxis\"},{\"attributes\":{},\"id\":\"7748de3f-2b7f-449c-87ce-a236efc81dd4\",\"type\":\"BasicTickFormatter\"},{\"attributes\":{\"callback\":null,\"factors\":[\"2012\",\"2013\",\"2014\",\"2015\"]},\"id\":\"841d161c-40c3-41e2-abcf-92ebd1e9405c\",\"type\":\"FactorRange\"},{\"attributes\":{\"callback\":null,\"end\":60111.45},\"id\":\"50e8917b-5fb6-4e95-8d03-23aa99be72bb\",\"type\":\"Range1d\"},{\"attributes\":{\"data_source\":{\"id\":\"0624cc01-842b-4c96-b117-dfcd1492d227\",\"type\":\"ColumnDataSource\"},\"glyph\":{\"id\":\"f7ab076d-ed18-41bd-929d-2e89765c761d\",\"type\":\"Rect\"},\"hover_glyph\":null,\"nonselection_glyph\":null,\"selection_glyph\":null},\"id\":\"7c91dfa7-1f72-483f-bdcc-65f80620f0db\",\"type\":\"GlyphRenderer\"},{\"attributes\":{\"bottom_units\":\"screen\",\"fill_alpha\":{\"value\":0.5},\"fill_color\":{\"value\":\"lightgrey\"},\"left_units\":\"screen\",\"level\":\"overlay\",\"line_alpha\":{\"value\":1.0},\"line_color\":{\"value\":\"black\"},\"line_dash\":[4,4],\"line_width\":{\"value\":2},\"plot\":null,\"render_mode\":\"css\",\"right_units\":\"screen\",\"top_units\":\"screen\"},\"id\":\"5c212460-1e06-470f-b43d-38f4c6bc716c\",\"type\":\"BoxAnnotation\"},{\"attributes\":{\"children\":[{\"id\":\"91f669ea-61ef-4eee-a994-9dcdf6500aeb\",\"subtype\":\"Chart\",\"type\":\"Plot\"}]},\"id\":\"1929c603-6956-457c-aea5-0289e01b09df\",\"type\":\"Row\"},{\"attributes\":{\"active_drag\":\"auto\",\"active_scroll\":\"auto\",\"active_tap\":\"auto\",\"tools\":[{\"id\":\"b931e1df-8352-4448-9c14-720b3b50f5f3\",\"type\":\"PanTool\"},{\"id\":\"fca945b9-f0c7-43d1-816a-44562907540e\",\"type\":\"WheelZoomTool\"},{\"id\":\"18c8a089-bed1-44e4-955d-3a7e8c8c7118\",\"type\":\"BoxZoomTool\"},{\"id\":\"5ac62c6b-00da-413c-a80d-63f65f991cb7\",\"type\":\"SaveTool\"},{\"id\":\"488ee3ad-75f2-4030-a673-6f0024a06e6d\",\"type\":\"ResetTool\"},{\"id\":\"2f1a8300-b1e5-4573-a2c2-a4e6be719958\",\"type\":\"HelpTool\"}]},\"id\":\"8cc28513-d958-4704-990c-ddb0d78d96b4\",\"type\":\"Toolbar\"},{\"attributes\":{\"items\":[{\"id\":\"f3e04840-ec0a-4acf-b8e9-86891f2aa206\",\"type\":\"LegendItem\"},{\"id\":\"93e226b4-130d-4274-b531-ee5b55cd9a26\",\"type\":\"LegendItem\"},{\"id\":\"52ec7d1b-7622-4f0a-8a62-9e10c84ce5dc\",\"type\":\"LegendItem\"},{\"id\":\"98f8696a-0cd4-4c0a-b55c-e42cb2675667\",\"type\":\"LegendItem\"}],\"location\":\"top_left\",\"plot\":{\"id\":\"91f669ea-61ef-4eee-a994-9dcdf6500aeb\",\"subtype\":\"Chart\",\"type\":\"Plot\"}},\"id\":\"27858f1e-f386-4768-85cb-5109c40c31aa\",\"type\":\"Legend\"},{\"attributes\":{\"plot\":{\"id\":\"91f669ea-61ef-4eee-a994-9dcdf6500aeb\",\"subtype\":\"Chart\",\"type\":\"Plot\"}},\"id\":\"488ee3ad-75f2-4030-a673-6f0024a06e6d\",\"type\":\"ResetTool\"},{\"attributes\":{\"label\":{\"value\":\"2015\"},\"renderers\":[{\"id\":\"b6ed76e9-3442-4a04-a684-5680e1bd346c\",\"type\":\"GlyphRenderer\"}]},\"id\":\"98f8696a-0cd4-4c0a-b55c-e42cb2675667\",\"type\":\"LegendItem\"},{\"attributes\":{\"plot\":{\"id\":\"91f669ea-61ef-4eee-a994-9dcdf6500aeb\",\"subtype\":\"Chart\",\"type\":\"Plot\"}},\"id\":\"b931e1df-8352-4448-9c14-720b3b50f5f3\",\"type\":\"PanTool\"},{\"attributes\":{\"data_source\":{\"id\":\"78767871-fe42-4d0c-8538-e5f2dce873f9\",\"type\":\"ColumnDataSource\"},\"glyph\":{\"id\":\"6c46d9bb-414c-44bf-bc00-47468451094d\",\"type\":\"Rect\"},\"hover_glyph\":null,\"nonselection_glyph\":null,\"selection_glyph\":null},\"id\":\"b6ed76e9-3442-4a04-a684-5680e1bd346c\",\"type\":\"GlyphRenderer\"},{\"attributes\":{},\"id\":\"e1e203a0-5f41-4c44-a329-2fb861af308e\",\"type\":\"BasicTicker\"},{\"attributes\":{},\"id\":\"c287f6f7-a47a-4eb6-915c-886d616a5d87\",\"type\":\"CategoricalTickFormatter\"},{\"attributes\":{\"below\":[{\"id\":\"c190f63e-172f-4b16-9bec-1f1a5eec60b8\",\"type\":\"CategoricalAxis\"}],\"left\":[{\"id\":\"d98a8b26-2a6d-4b10-b764-f172816b86c5\",\"type\":\"LinearAxis\"}],\"renderers\":[{\"id\":\"5c212460-1e06-470f-b43d-38f4c6bc716c\",\"type\":\"BoxAnnotation\"},{\"id\":\"7c91dfa7-1f72-483f-bdcc-65f80620f0db\",\"type\":\"GlyphRenderer\"},{\"id\":\"8d82ad89-342c-46bd-b39a-427d92ea1e8d\",\"type\":\"GlyphRenderer\"},{\"id\":\"259171ba-5a59-4670-8867-5b472383f188\",\"type\":\"GlyphRenderer\"},{\"id\":\"b6ed76e9-3442-4a04-a684-5680e1bd346c\",\"type\":\"GlyphRenderer\"},{\"id\":\"27858f1e-f386-4768-85cb-5109c40c31aa\",\"type\":\"Legend\"},{\"id\":\"c190f63e-172f-4b16-9bec-1f1a5eec60b8\",\"type\":\"CategoricalAxis\"},{\"id\":\"d98a8b26-2a6d-4b10-b764-f172816b86c5\",\"type\":\"LinearAxis\"},{\"id\":\"57b41b76-57a0-4b9d-9265-0761a6f6504e\",\"type\":\"Grid\"}],\"title\":{\"id\":\"156f9218-5a0e-4a02-b5f7-3f6a3306544c\",\"type\":\"Title\"},\"tool_events\":{\"id\":\"84338996-1bd5-4429-ac13-583e706fb51d\",\"type\":\"ToolEvents\"},\"toolbar\":{\"id\":\"8cc28513-d958-4704-990c-ddb0d78d96b4\",\"type\":\"Toolbar\"},\"x_mapper_type\":\"auto\",\"x_range\":{\"id\":\"841d161c-40c3-41e2-abcf-92ebd1e9405c\",\"type\":\"FactorRange\"},\"y_mapper_type\":\"auto\",\"y_range\":{\"id\":\"50e8917b-5fb6-4e95-8d03-23aa99be72bb\",\"type\":\"Range1d\"}},\"id\":\"91f669ea-61ef-4eee-a994-9dcdf6500aeb\",\"subtype\":\"Chart\",\"type\":\"Plot\"},{\"attributes\":{\"axis_label\":\"Year\",\"formatter\":{\"id\":\"c287f6f7-a47a-4eb6-915c-886d616a5d87\",\"type\":\"CategoricalTickFormatter\"},\"major_label_orientation\":0.7853981633974483,\"plot\":{\"id\":\"91f669ea-61ef-4eee-a994-9dcdf6500aeb\",\"subtype\":\"Chart\",\"type\":\"Plot\"},\"ticker\":{\"id\":\"14da71aa-63bb-40a0-8bfb-22fd7855c59d\",\"type\":\"CategoricalTicker\"}},\"id\":\"c190f63e-172f-4b16-9bec-1f1a5eec60b8\",\"type\":\"CategoricalAxis\"},{\"attributes\":{\"callback\":null,\"column_names\":[\"x\",\"height\",\"width\",\"y\",\"line_alpha\",\"label\",\"color\",\"line_color\",\"fill_alpha\"],\"data\":{\"chart_index\":[{\"year\":\"2013\"}],\"color\":[\"#f22c40\"],\"fill_alpha\":[0.8],\"height\":[35831.0],\"label\":[{\"year\":\"2013\"}],\"line_alpha\":[1.0],\"line_color\":[\"white\"],\"width\":[0.8],\"x\":[\"2013\"],\"y\":[17915.5],\"year\":[\"2013\"]}},\"id\":\"953fddd9-d86e-4b00-ba0f-738cd6054070\",\"type\":\"ColumnDataSource\"},{\"attributes\":{\"label\":{\"value\":\"2012\"},\"renderers\":[{\"id\":\"7c91dfa7-1f72-483f-bdcc-65f80620f0db\",\"type\":\"GlyphRenderer\"}]},\"id\":\"f3e04840-ec0a-4acf-b8e9-86891f2aa206\",\"type\":\"LegendItem\"},{\"attributes\":{\"fill_alpha\":{\"field\":\"fill_alpha\"},\"fill_color\":{\"field\":\"color\"},\"height\":{\"field\":\"height\",\"units\":\"data\"},\"line_color\":{\"field\":\"line_color\"},\"width\":{\"field\":\"width\",\"units\":\"data\"},\"x\":{\"field\":\"x\"},\"y\":{\"field\":\"y\"}},\"id\":\"53f102c9-a844-4299-9836-3c6ad6cb733f\",\"type\":\"Rect\"},{\"attributes\":{\"callback\":null,\"column_names\":[\"x\",\"height\",\"width\",\"y\",\"line_alpha\",\"label\",\"color\",\"line_color\",\"fill_alpha\"],\"data\":{\"chart_index\":[{\"year\":\"2012\"}],\"color\":[\"#f22c40\"],\"fill_alpha\":[0.8],\"height\":[26254.0],\"label\":[{\"year\":\"2012\"}],\"line_alpha\":[1.0],\"line_color\":[\"white\"],\"width\":[0.8],\"x\":[\"2012\"],\"y\":[13127.0],\"year\":[\"2012\"]}},\"id\":\"0624cc01-842b-4c96-b117-dfcd1492d227\",\"type\":\"ColumnDataSource\"},{\"attributes\":{\"overlay\":{\"id\":\"5c212460-1e06-470f-b43d-38f4c6bc716c\",\"type\":\"BoxAnnotation\"},\"plot\":{\"id\":\"91f669ea-61ef-4eee-a994-9dcdf6500aeb\",\"subtype\":\"Chart\",\"type\":\"Plot\"}},\"id\":\"18c8a089-bed1-44e4-955d-3a7e8c8c7118\",\"type\":\"BoxZoomTool\"},{\"attributes\":{},\"id\":\"14da71aa-63bb-40a0-8bfb-22fd7855c59d\",\"type\":\"CategoricalTicker\"},{\"attributes\":{\"fill_alpha\":{\"field\":\"fill_alpha\"},\"fill_color\":{\"field\":\"color\"},\"height\":{\"field\":\"height\",\"units\":\"data\"},\"line_color\":{\"field\":\"line_color\"},\"width\":{\"field\":\"width\",\"units\":\"data\"},\"x\":{\"field\":\"x\"},\"y\":{\"field\":\"y\"}},\"id\":\"f2f3b7d8-4e08-4e19-96dc-1f1f79b2976f\",\"type\":\"Rect\"},{\"attributes\":{\"data_source\":{\"id\":\"5d5e1df8-8e90-4785-af97-6f9db9f2ecbb\",\"type\":\"ColumnDataSource\"},\"glyph\":{\"id\":\"f2f3b7d8-4e08-4e19-96dc-1f1f79b2976f\",\"type\":\"Rect\"},\"hover_glyph\":null,\"nonselection_glyph\":null,\"selection_glyph\":null},\"id\":\"259171ba-5a59-4670-8867-5b472383f188\",\"type\":\"GlyphRenderer\"},{\"attributes\":{\"plot\":{\"id\":\"91f669ea-61ef-4eee-a994-9dcdf6500aeb\",\"subtype\":\"Chart\",\"type\":\"Plot\"}},\"id\":\"fca945b9-f0c7-43d1-816a-44562907540e\",\"type\":\"WheelZoomTool\"},{\"attributes\":{\"plot\":null,\"text\":null},\"id\":\"156f9218-5a0e-4a02-b5f7-3f6a3306544c\",\"type\":\"Title\"},{\"attributes\":{\"dimension\":1,\"plot\":{\"id\":\"91f669ea-61ef-4eee-a994-9dcdf6500aeb\",\"subtype\":\"Chart\",\"type\":\"Plot\"},\"ticker\":{\"id\":\"e1e203a0-5f41-4c44-a329-2fb861af308e\",\"type\":\"BasicTicker\"}},\"id\":\"57b41b76-57a0-4b9d-9265-0761a6f6504e\",\"type\":\"Grid\"},{\"attributes\":{\"label\":{\"value\":\"2014\"},\"renderers\":[{\"id\":\"259171ba-5a59-4670-8867-5b472383f188\",\"type\":\"GlyphRenderer\"}]},\"id\":\"52ec7d1b-7622-4f0a-8a62-9e10c84ce5dc\",\"type\":\"LegendItem\"},{\"attributes\":{\"label\":{\"value\":\"2013\"},\"renderers\":[{\"id\":\"8d82ad89-342c-46bd-b39a-427d92ea1e8d\",\"type\":\"GlyphRenderer\"}]},\"id\":\"93e226b4-130d-4274-b531-ee5b55cd9a26\",\"type\":\"LegendItem\"},{\"attributes\":{\"data_source\":{\"id\":\"953fddd9-d86e-4b00-ba0f-738cd6054070\",\"type\":\"ColumnDataSource\"},\"glyph\":{\"id\":\"53f102c9-a844-4299-9836-3c6ad6cb733f\",\"type\":\"Rect\"},\"hover_glyph\":null,\"nonselection_glyph\":null,\"selection_glyph\":null},\"id\":\"8d82ad89-342c-46bd-b39a-427d92ea1e8d\",\"type\":\"GlyphRenderer\"}],\"root_ids\":[\"1929c603-6956-457c-aea5-0289e01b09df\"]},\"title\":\"Bokeh Application\",\"version\":\"0.12.3\"}};\n",
       "            var render_items = [{\"docid\":\"c0b5b332-5d81-4b52-8b2c-ecb3691591a0\",\"elementid\":\"0a6bc92a-8fe3-428a-9d56-e5d956eef945\",\"modelid\":\"1929c603-6956-457c-aea5-0289e01b09df\"}];\n",
       "            \n",
       "            Bokeh.embed.embed_items(docs_json, render_items);\n",
       "        });\n",
       "      },\n",
       "      function(Bokeh) {\n",
       "      }\n",
       "    ];\n",
       "  \n",
       "    function run_inline_js() {\n",
       "      \n",
       "      if ((window.Bokeh !== undefined) || (force === \"1\")) {\n",
       "        for (var i = 0; i < inline_js.length; i++) {\n",
       "          inline_js[i](window.Bokeh);\n",
       "        }if (force === \"1\") {\n",
       "          display_loaded();\n",
       "        }} else if (Date.now() < window._bokeh_timeout) {\n",
       "        setTimeout(run_inline_js, 100);\n",
       "      } else if (!window._bokeh_failed_load) {\n",
       "        console.log(\"Bokeh: BokehJS failed to load within specified timeout.\");\n",
       "        window._bokeh_failed_load = true;\n",
       "      } else if (!force) {\n",
       "        var cell = $(\"#0a6bc92a-8fe3-428a-9d56-e5d956eef945\").parents('.cell').data().cell;\n",
       "        cell.output_area.append_execute_result(NB_LOAD_WARNING)\n",
       "      }\n",
       "  \n",
       "    }\n",
       "  \n",
       "    if (window._bokeh_is_loading === 0) {\n",
       "      console.log(\"Bokeh: BokehJS loaded, going straight to plotting\");\n",
       "      run_inline_js();\n",
       "    } else {\n",
       "      load_libs(js_urls, function() {\n",
       "        console.log(\"Bokeh: BokehJS plotting callback run at\", now());\n",
       "        run_inline_js();\n",
       "      });\n",
       "    }\n",
       "  }(this));\n",
       "</script>"
      ]
     },
     "metadata": {},
     "output_type": "display_data"
    }
   ],
   "source": [
    "trend = Bar(df, values = 'count', label = 'year')\n",
    "output_notebook()\n",
    "show(row(trend))"
   ]
  },
  {
   "cell_type": "markdown",
   "metadata": {
    "collapsed": true
   },
   "source": [
    "# Analysis by Source, grab new dataframe by constructing SQL query to API"
   ]
  },
  {
   "cell_type": "markdown",
   "metadata": {},
   "source": [
    "# SQL the Responsible Agency"
   ]
  },
  {
   "cell_type": "code",
   "execution_count": 218,
   "metadata": {
    "collapsed": true
   },
   "outputs": [],
   "source": [
    "#url = 'https://data.sfgov.org/resource/qer8-n8u9.csv?$select=responsible_agency,date_trunc_y(opened)as%20year,%20count(*)&$order=year&$group=year,responsible_agency'#\n",
    "#url = 'https://data.sfgov.org/resource/qer8-n8u9.csv?$select=responsible_agency,date_trunc_y(opened)as%20year,%20count(*)&$order=year&$group=year,responsible_agency'\n",
    "url = 'https://data.sfgov.org/resource/qer8-n8u9.csv?$select=responsible_agency,category,date_trunc_y(opened)as%20year,%20count(*)&$order=year&$group=year,category,responsible_agency'"
   ]
  },
  {
   "cell_type": "code",
   "execution_count": 219,
   "metadata": {
    "collapsed": false
   },
   "outputs": [
    {
     "name": "stdout",
     "output_type": "stream",
     "text": [
      "https://data.sfgov.org/resource/qer8-n8u9.csv?$select=responsible_agency,category,date_trunc_y(opened)as%20year,%20count(*)&$order=year&$group=year,category,responsible_agency\n"
     ]
    }
   ],
   "source": [
    "print(url)"
   ]
  },
  {
   "cell_type": "code",
   "execution_count": 220,
   "metadata": {
    "collapsed": false
   },
   "outputs": [
    {
     "name": "stderr",
     "output_type": "stream",
     "text": [
      "/home/gdillon/.local/lib/python3.5/site-packages/ipykernel/__main__.py:3: FutureWarning: currently extract(expand=None) means expand=False (return Index/Series/DataFrame) but in a future version of pandas this will be changed to expand=True (return DataFrame)\n",
      "  app.launch_new_instance()\n"
     ]
    },
    {
     "data": {
      "text/html": [
       "<div>\n",
       "<table border=\"1\" class=\"dataframe\">\n",
       "  <thead>\n",
       "    <tr style=\"text-align: right;\">\n",
       "      <th></th>\n",
       "      <th>Responsible Agency</th>\n",
       "      <th>Category</th>\n",
       "      <th>year</th>\n",
       "      <th>count</th>\n",
       "    </tr>\n",
       "  </thead>\n",
       "  <tbody>\n",
       "    <tr>\n",
       "      <th>570</th>\n",
       "      <td>DPW BSM Queue</td>\n",
       "      <td>Graffiti Private Property</td>\n",
       "      <td>2016</td>\n",
       "      <td>260</td>\n",
       "    </tr>\n",
       "    <tr>\n",
       "      <th>571</th>\n",
       "      <td>SFMTA - Muni System Feedback Queue</td>\n",
       "      <td>Graffiti Public Property</td>\n",
       "      <td>2016</td>\n",
       "      <td>233</td>\n",
       "    </tr>\n",
       "    <tr>\n",
       "      <th>572</th>\n",
       "      <td>DPT Paint Shop Queue</td>\n",
       "      <td>Graffiti Private Property</td>\n",
       "      <td>2016</td>\n",
       "      <td>24</td>\n",
       "    </tr>\n",
       "    <tr>\n",
       "      <th>573</th>\n",
       "      <td>311 Service Request Queue - Hold</td>\n",
       "      <td>Graffiti Private Property</td>\n",
       "      <td>2016</td>\n",
       "      <td>76</td>\n",
       "    </tr>\n",
       "    <tr>\n",
       "      <th>574</th>\n",
       "      <td>Clear Channel - Transit Queue</td>\n",
       "      <td>Graffiti Private Property</td>\n",
       "      <td>2016</td>\n",
       "      <td>29</td>\n",
       "    </tr>\n",
       "    <tr>\n",
       "      <th>575</th>\n",
       "      <td>PUC - Water - Graffiti Queue</td>\n",
       "      <td>Graffiti Public Property</td>\n",
       "      <td>2016</td>\n",
       "      <td>473</td>\n",
       "    </tr>\n",
       "    <tr>\n",
       "      <th>576</th>\n",
       "      <td>DPT SignShop Unknown Queue</td>\n",
       "      <td>Graffiti Public Property</td>\n",
       "      <td>2016</td>\n",
       "      <td>30</td>\n",
       "    </tr>\n",
       "    <tr>\n",
       "      <th>577</th>\n",
       "      <td>DPT - Bicycle - G</td>\n",
       "      <td>Graffiti Public Property</td>\n",
       "      <td>2016</td>\n",
       "      <td>1</td>\n",
       "    </tr>\n",
       "    <tr>\n",
       "      <th>578</th>\n",
       "      <td>DPT SignShop 05 Queue</td>\n",
       "      <td>Graffiti Public Property</td>\n",
       "      <td>2016</td>\n",
       "      <td>459</td>\n",
       "    </tr>\n",
       "    <tr>\n",
       "      <th>579</th>\n",
       "      <td>DPT SignShop 02 Queue</td>\n",
       "      <td>Graffiti Public Property</td>\n",
       "      <td>2016</td>\n",
       "      <td>69</td>\n",
       "    </tr>\n",
       "    <tr>\n",
       "      <th>580</th>\n",
       "      <td>DPT SignShop 08 Queue</td>\n",
       "      <td>Graffiti Public Property</td>\n",
       "      <td>2016</td>\n",
       "      <td>286</td>\n",
       "    </tr>\n",
       "    <tr>\n",
       "      <th>581</th>\n",
       "      <td>311 Supervisor Queue</td>\n",
       "      <td>Graffiti Public Property</td>\n",
       "      <td>2016</td>\n",
       "      <td>1423</td>\n",
       "    </tr>\n",
       "    <tr>\n",
       "      <th>582</th>\n",
       "      <td>PG and E - Streetlights Queue</td>\n",
       "      <td>Graffiti Public Property</td>\n",
       "      <td>2016</td>\n",
       "      <td>105</td>\n",
       "    </tr>\n",
       "    <tr>\n",
       "      <th>583</th>\n",
       "      <td>Port Authority - G</td>\n",
       "      <td>Graffiti Private Property</td>\n",
       "      <td>2016</td>\n",
       "      <td>6</td>\n",
       "    </tr>\n",
       "    <tr>\n",
       "      <th>584</th>\n",
       "      <td>RPD Graffiti Queue</td>\n",
       "      <td>Graffiti Public Property</td>\n",
       "      <td>2016</td>\n",
       "      <td>142</td>\n",
       "    </tr>\n",
       "    <tr>\n",
       "      <th>585</th>\n",
       "      <td>DPT SignShop 01 Queue</td>\n",
       "      <td>Graffiti Public Property</td>\n",
       "      <td>2016</td>\n",
       "      <td>152</td>\n",
       "    </tr>\n",
       "    <tr>\n",
       "      <th>586</th>\n",
       "      <td>Clear Channel - Transit Queue</td>\n",
       "      <td>Graffiti Public Property</td>\n",
       "      <td>2016</td>\n",
       "      <td>3933</td>\n",
       "    </tr>\n",
       "    <tr>\n",
       "      <th>587</th>\n",
       "      <td>DPT Meter_Bike Queue</td>\n",
       "      <td>Graffiti Public Property</td>\n",
       "      <td>2016</td>\n",
       "      <td>3132</td>\n",
       "    </tr>\n",
       "    <tr>\n",
       "      <th>588</th>\n",
       "      <td>US Postal Service Maintenance Queue</td>\n",
       "      <td>Graffiti Public Property</td>\n",
       "      <td>2016</td>\n",
       "      <td>5242</td>\n",
       "    </tr>\n",
       "    <tr>\n",
       "      <th>589</th>\n",
       "      <td>DPW Ops Queue</td>\n",
       "      <td>Graffiti Private Property</td>\n",
       "      <td>2016</td>\n",
       "      <td>26730</td>\n",
       "    </tr>\n",
       "    <tr>\n",
       "      <th>590</th>\n",
       "      <td>DPW BSM Queue</td>\n",
       "      <td>Graffiti Public Property</td>\n",
       "      <td>2016</td>\n",
       "      <td>1913</td>\n",
       "    </tr>\n",
       "    <tr>\n",
       "      <th>591</th>\n",
       "      <td>311 Service Request Queue - Hold</td>\n",
       "      <td>Graffiti Public Property</td>\n",
       "      <td>2016</td>\n",
       "      <td>2190</td>\n",
       "    </tr>\n",
       "    <tr>\n",
       "      <th>592</th>\n",
       "      <td>DPT SignShop 03 Queue</td>\n",
       "      <td>Graffiti Public Property</td>\n",
       "      <td>2016</td>\n",
       "      <td>88</td>\n",
       "    </tr>\n",
       "    <tr>\n",
       "      <th>593</th>\n",
       "      <td>DPW Ops Queue</td>\n",
       "      <td>Graffiti Public Property</td>\n",
       "      <td>2016</td>\n",
       "      <td>21133</td>\n",
       "    </tr>\n",
       "  </tbody>\n",
       "</table>\n",
       "</div>"
      ],
      "text/plain": [
       "                      Responsible Agency                   Category  year  \\\n",
       "570                        DPW BSM Queue  Graffiti Private Property  2016   \n",
       "571   SFMTA - Muni System Feedback Queue   Graffiti Public Property  2016   \n",
       "572                 DPT Paint Shop Queue  Graffiti Private Property  2016   \n",
       "573     311 Service Request Queue - Hold  Graffiti Private Property  2016   \n",
       "574        Clear Channel - Transit Queue  Graffiti Private Property  2016   \n",
       "575         PUC - Water - Graffiti Queue   Graffiti Public Property  2016   \n",
       "576           DPT SignShop Unknown Queue   Graffiti Public Property  2016   \n",
       "577                    DPT - Bicycle - G   Graffiti Public Property  2016   \n",
       "578                DPT SignShop 05 Queue   Graffiti Public Property  2016   \n",
       "579                DPT SignShop 02 Queue   Graffiti Public Property  2016   \n",
       "580                DPT SignShop 08 Queue   Graffiti Public Property  2016   \n",
       "581                 311 Supervisor Queue   Graffiti Public Property  2016   \n",
       "582        PG and E - Streetlights Queue   Graffiti Public Property  2016   \n",
       "583                   Port Authority - G  Graffiti Private Property  2016   \n",
       "584                   RPD Graffiti Queue   Graffiti Public Property  2016   \n",
       "585                DPT SignShop 01 Queue   Graffiti Public Property  2016   \n",
       "586        Clear Channel - Transit Queue   Graffiti Public Property  2016   \n",
       "587                 DPT Meter_Bike Queue   Graffiti Public Property  2016   \n",
       "588  US Postal Service Maintenance Queue   Graffiti Public Property  2016   \n",
       "589                        DPW Ops Queue  Graffiti Private Property  2016   \n",
       "590                        DPW BSM Queue   Graffiti Public Property  2016   \n",
       "591     311 Service Request Queue - Hold   Graffiti Public Property  2016   \n",
       "592                DPT SignShop 03 Queue   Graffiti Public Property  2016   \n",
       "593                        DPW Ops Queue   Graffiti Public Property  2016   \n",
       "\n",
       "     count  \n",
       "570    260  \n",
       "571    233  \n",
       "572     24  \n",
       "573     76  \n",
       "574     29  \n",
       "575    473  \n",
       "576     30  \n",
       "577      1  \n",
       "578    459  \n",
       "579     69  \n",
       "580    286  \n",
       "581   1423  \n",
       "582    105  \n",
       "583      6  \n",
       "584    142  \n",
       "585    152  \n",
       "586   3933  \n",
       "587   3132  \n",
       "588   5242  \n",
       "589  26730  \n",
       "590   1913  \n",
       "591   2190  \n",
       "592     88  \n",
       "593  21133  "
      ]
     },
     "execution_count": 220,
     "metadata": {},
     "output_type": "execute_result"
    }
   ],
   "source": [
    "df=pd.read_csv(url)\n",
    "df=df[18:]\n",
    "df['year']=df['year'].str.extract('(?P<year>\\d{4})').astype(str)\n",
    "#df['count']=df['count'].astype(int)\n",
    "pd.to_numeric(df['count'])\n",
    "df=df[:-1]\n",
    "df.tail(24)"
   ]
  },
  {
   "cell_type": "code",
   "execution_count": 213,
   "metadata": {
    "collapsed": false
   },
   "outputs": [
    {
     "data": {
      "text/html": [
       "<div>\n",
       "<table border=\"1\" class=\"dataframe\">\n",
       "  <thead>\n",
       "    <tr style=\"text-align: right;\">\n",
       "      <th></th>\n",
       "      <th>Responsible Agency</th>\n",
       "      <th>Category</th>\n",
       "      <th>year</th>\n",
       "      <th>count</th>\n",
       "    </tr>\n",
       "  </thead>\n",
       "  <tbody>\n",
       "    <tr>\n",
       "      <th>421</th>\n",
       "      <td>DPT SignShop Surveyed - Area 1 Queue</td>\n",
       "      <td>Graffiti Public Property</td>\n",
       "      <td>2015</td>\n",
       "      <td>544</td>\n",
       "    </tr>\n",
       "    <tr>\n",
       "      <th>429</th>\n",
       "      <td>DPW BSM Queue</td>\n",
       "      <td>Graffiti Public Property</td>\n",
       "      <td>2015</td>\n",
       "      <td>1943</td>\n",
       "    </tr>\n",
       "    <tr>\n",
       "      <th>430</th>\n",
       "      <td>Clear Channel - Transit Queue</td>\n",
       "      <td>Graffiti Public Property</td>\n",
       "      <td>2015</td>\n",
       "      <td>2511</td>\n",
       "    </tr>\n",
       "    <tr>\n",
       "      <th>432</th>\n",
       "      <td>DPT Meter_Bike Queue</td>\n",
       "      <td>Graffiti Public Property</td>\n",
       "      <td>2015</td>\n",
       "      <td>3092</td>\n",
       "    </tr>\n",
       "    <tr>\n",
       "      <th>433</th>\n",
       "      <td>US Postal Service Maintenance Queue</td>\n",
       "      <td>Graffiti Public Property</td>\n",
       "      <td>2015</td>\n",
       "      <td>1624</td>\n",
       "    </tr>\n",
       "    <tr>\n",
       "      <th>437</th>\n",
       "      <td>DPW Ops Queue</td>\n",
       "      <td>Graffiti Public Property</td>\n",
       "      <td>2015</td>\n",
       "      <td>17699</td>\n",
       "    </tr>\n",
       "    <tr>\n",
       "      <th>586</th>\n",
       "      <td>Clear Channel - Transit Queue</td>\n",
       "      <td>Graffiti Public Property</td>\n",
       "      <td>2016</td>\n",
       "      <td>3933</td>\n",
       "    </tr>\n",
       "    <tr>\n",
       "      <th>587</th>\n",
       "      <td>DPT Meter_Bike Queue</td>\n",
       "      <td>Graffiti Public Property</td>\n",
       "      <td>2016</td>\n",
       "      <td>3132</td>\n",
       "    </tr>\n",
       "    <tr>\n",
       "      <th>588</th>\n",
       "      <td>US Postal Service Maintenance Queue</td>\n",
       "      <td>Graffiti Public Property</td>\n",
       "      <td>2016</td>\n",
       "      <td>5242</td>\n",
       "    </tr>\n",
       "    <tr>\n",
       "      <th>590</th>\n",
       "      <td>DPW BSM Queue</td>\n",
       "      <td>Graffiti Public Property</td>\n",
       "      <td>2016</td>\n",
       "      <td>1913</td>\n",
       "    </tr>\n",
       "    <tr>\n",
       "      <th>593</th>\n",
       "      <td>DPW Ops Queue</td>\n",
       "      <td>Graffiti Public Property</td>\n",
       "      <td>2016</td>\n",
       "      <td>21133</td>\n",
       "    </tr>\n",
       "  </tbody>\n",
       "</table>\n",
       "</div>"
      ],
      "text/plain": [
       "                       Responsible Agency                  Category  year  \\\n",
       "421  DPT SignShop Surveyed - Area 1 Queue  Graffiti Public Property  2015   \n",
       "429                         DPW BSM Queue  Graffiti Public Property  2015   \n",
       "430         Clear Channel - Transit Queue  Graffiti Public Property  2015   \n",
       "432                  DPT Meter_Bike Queue  Graffiti Public Property  2015   \n",
       "433   US Postal Service Maintenance Queue  Graffiti Public Property  2015   \n",
       "437                         DPW Ops Queue  Graffiti Public Property  2015   \n",
       "586         Clear Channel - Transit Queue  Graffiti Public Property  2016   \n",
       "587                  DPT Meter_Bike Queue  Graffiti Public Property  2016   \n",
       "588   US Postal Service Maintenance Queue  Graffiti Public Property  2016   \n",
       "590                         DPW BSM Queue  Graffiti Public Property  2016   \n",
       "593                         DPW Ops Queue  Graffiti Public Property  2016   \n",
       "\n",
       "     count  \n",
       "421    544  \n",
       "429   1943  \n",
       "430   2511  \n",
       "432   3092  \n",
       "433   1624  \n",
       "437  17699  \n",
       "586   3933  \n",
       "587   3132  \n",
       "588   5242  \n",
       "590   1913  \n",
       "593  21133  "
      ]
     },
     "execution_count": 213,
     "metadata": {},
     "output_type": "execute_result"
    }
   ],
   "source": [
    "df = df[df.Category == 'Graffiti Public Property']\n",
    "#df = df[df.year == '2016']\n",
    "df = df[(df.year == '2015') | (df.year == '2016')  ]\n",
    "df = df[df['count'] >=500]\n",
    "#df = df[df['Responsible Agency'].str.contains('DPT')]\n",
    "df = df[-df['Responsible Agency'].str.contains('311')]\n",
    "df = df[-df['Responsible Agency'].str.contains('PUC')]\n",
    "df"
   ]
  },
  {
   "cell_type": "code",
   "execution_count": 214,
   "metadata": {
    "collapsed": false
   },
   "outputs": [],
   "source": [
    "df['count'] = df['count'].apply(pd.to_numeric)"
   ]
  },
  {
   "cell_type": "code",
   "execution_count": 215,
   "metadata": {
    "collapsed": false
   },
   "outputs": [],
   "source": [
    "df = df[df['count'] >= 800]\n"
   ]
  },
  {
   "cell_type": "code",
   "execution_count": 216,
   "metadata": {
    "collapsed": false
   },
   "outputs": [
    {
     "data": {
      "text/html": [
       "<div>\n",
       "<table border=\"1\" class=\"dataframe\">\n",
       "  <thead>\n",
       "    <tr>\n",
       "      <th></th>\n",
       "      <th colspan=\"5\" halign=\"left\">count</th>\n",
       "    </tr>\n",
       "    <tr>\n",
       "      <th>Responsible Agency</th>\n",
       "      <th>Clear Channel - Transit Queue</th>\n",
       "      <th>DPT Meter_Bike Queue</th>\n",
       "      <th>DPW BSM Queue</th>\n",
       "      <th>DPW Ops Queue</th>\n",
       "      <th>US Postal Service Maintenance Queue</th>\n",
       "    </tr>\n",
       "    <tr>\n",
       "      <th>year</th>\n",
       "      <th></th>\n",
       "      <th></th>\n",
       "      <th></th>\n",
       "      <th></th>\n",
       "      <th></th>\n",
       "    </tr>\n",
       "  </thead>\n",
       "  <tbody>\n",
       "    <tr>\n",
       "      <th>2015</th>\n",
       "      <td>2511</td>\n",
       "      <td>3092</td>\n",
       "      <td>1943</td>\n",
       "      <td>17699</td>\n",
       "      <td>1624</td>\n",
       "    </tr>\n",
       "    <tr>\n",
       "      <th>2016</th>\n",
       "      <td>3933</td>\n",
       "      <td>3132</td>\n",
       "      <td>1913</td>\n",
       "      <td>21133</td>\n",
       "      <td>5242</td>\n",
       "    </tr>\n",
       "  </tbody>\n",
       "</table>\n",
       "</div>"
      ],
      "text/plain": [
       "                                           count                       \\\n",
       "Responsible Agency Clear Channel - Transit Queue DPT Meter_Bike Queue   \n",
       "year                                                                    \n",
       "2015                                        2511                 3092   \n",
       "2016                                        3933                 3132   \n",
       "\n",
       "                                                \\\n",
       "Responsible Agency DPW BSM Queue DPW Ops Queue   \n",
       "year                                             \n",
       "2015                        1943         17699   \n",
       "2016                        1913         21133   \n",
       "\n",
       "                                                        \n",
       "Responsible Agency US Postal Service Maintenance Queue  \n",
       "year                                                    \n",
       "2015                                              1624  \n",
       "2016                                              5242  "
      ]
     },
     "execution_count": 216,
     "metadata": {},
     "output_type": "execute_result"
    }
   ],
   "source": [
    "df2 =    pd.pivot_table(df, \n",
    "                        values=['count'],\n",
    "                        index=['year'],\n",
    "                        columns=['Responsible Agency'],\n",
    "                        aggfunc=np.sum,\n",
    "                        fill_value=0)\n",
    "#df2=df2.drop(df2.columns[[2]], axis=1)\n",
    "df2"
   ]
  },
  {
   "cell_type": "markdown",
   "metadata": {},
   "source": [
    "example code from stackoverflow http://stackoverflow.com/questions/31520951/plotting-multiple-lines-with-bokeh-and-pandas"
   ]
  },
  {
   "cell_type": "code",
   "execution_count": 217,
   "metadata": {
    "collapsed": false
   },
   "outputs": [
    {
     "data": {
      "text/html": [
       "\n",
       "    <div class=\"bk-root\">\n",
       "        <a href=\"http://bokeh.pydata.org\" target=\"_blank\" class=\"bk-logo bk-logo-small bk-logo-notebook\"></a>\n",
       "        <span id=\"bbba3ed3-80f4-4bcf-8c47-fd9a68275665\">Loading BokehJS ...</span>\n",
       "    </div>"
      ]
     },
     "metadata": {},
     "output_type": "display_data"
    },
    {
     "data": {
      "application/javascript": [
       "\n",
       "(function(global) {\n",
       "  function now() {\n",
       "    return new Date();\n",
       "  }\n",
       "\n",
       "  var force = \"1\";\n",
       "\n",
       "  if (typeof (window._bokeh_onload_callbacks) === \"undefined\" || force !== \"\") {\n",
       "    window._bokeh_onload_callbacks = [];\n",
       "    window._bokeh_is_loading = undefined;\n",
       "  }\n",
       "\n",
       "\n",
       "  \n",
       "  if (typeof (window._bokeh_timeout) === \"undefined\" || force !== \"\") {\n",
       "    window._bokeh_timeout = Date.now() + 5000;\n",
       "    window._bokeh_failed_load = false;\n",
       "  }\n",
       "\n",
       "  var NB_LOAD_WARNING = {'data': {'text/html':\n",
       "     \"<div style='background-color: #fdd'>\\n\"+\n",
       "     \"<p>\\n\"+\n",
       "     \"BokehJS does not appear to have successfully loaded. If loading BokehJS from CDN, this \\n\"+\n",
       "     \"may be due to a slow or bad network connection. Possible fixes:\\n\"+\n",
       "     \"</p>\\n\"+\n",
       "     \"<ul>\\n\"+\n",
       "     \"<li>re-rerun `output_notebook()` to attempt to load from CDN again, or</li>\\n\"+\n",
       "     \"<li>use INLINE resources instead, as so:</li>\\n\"+\n",
       "     \"</ul>\\n\"+\n",
       "     \"<code>\\n\"+\n",
       "     \"from bokeh.resources import INLINE\\n\"+\n",
       "     \"output_notebook(resources=INLINE)\\n\"+\n",
       "     \"</code>\\n\"+\n",
       "     \"</div>\"}};\n",
       "\n",
       "  function display_loaded() {\n",
       "    if (window.Bokeh !== undefined) {\n",
       "      Bokeh.$(\"#bbba3ed3-80f4-4bcf-8c47-fd9a68275665\").text(\"BokehJS successfully loaded.\");\n",
       "    } else if (Date.now() < window._bokeh_timeout) {\n",
       "      setTimeout(display_loaded, 100)\n",
       "    }\n",
       "  }\n",
       "\n",
       "  function run_callbacks() {\n",
       "    window._bokeh_onload_callbacks.forEach(function(callback) { callback() });\n",
       "    delete window._bokeh_onload_callbacks\n",
       "    console.info(\"Bokeh: all callbacks have finished\");\n",
       "  }\n",
       "\n",
       "  function load_libs(js_urls, callback) {\n",
       "    window._bokeh_onload_callbacks.push(callback);\n",
       "    if (window._bokeh_is_loading > 0) {\n",
       "      console.log(\"Bokeh: BokehJS is being loaded, scheduling callback at\", now());\n",
       "      return null;\n",
       "    }\n",
       "    if (js_urls == null || js_urls.length === 0) {\n",
       "      run_callbacks();\n",
       "      return null;\n",
       "    }\n",
       "    console.log(\"Bokeh: BokehJS not loaded, scheduling load and callback at\", now());\n",
       "    window._bokeh_is_loading = js_urls.length;\n",
       "    for (var i = 0; i < js_urls.length; i++) {\n",
       "      var url = js_urls[i];\n",
       "      var s = document.createElement('script');\n",
       "      s.src = url;\n",
       "      s.async = false;\n",
       "      s.onreadystatechange = s.onload = function() {\n",
       "        window._bokeh_is_loading--;\n",
       "        if (window._bokeh_is_loading === 0) {\n",
       "          console.log(\"Bokeh: all BokehJS libraries loaded\");\n",
       "          run_callbacks()\n",
       "        }\n",
       "      };\n",
       "      s.onerror = function() {\n",
       "        console.warn(\"failed to load library \" + url);\n",
       "      };\n",
       "      console.log(\"Bokeh: injecting script tag for BokehJS library: \", url);\n",
       "      document.getElementsByTagName(\"head\")[0].appendChild(s);\n",
       "    }\n",
       "  };var element = document.getElementById(\"bbba3ed3-80f4-4bcf-8c47-fd9a68275665\");\n",
       "  if (element == null) {\n",
       "    console.log(\"Bokeh: ERROR: autoload.js configured with elementid 'bbba3ed3-80f4-4bcf-8c47-fd9a68275665' but no matching script tag was found. \")\n",
       "    return false;\n",
       "  }\n",
       "\n",
       "  var js_urls = ['https://cdn.pydata.org/bokeh/release/bokeh-0.12.3.min.js', 'https://cdn.pydata.org/bokeh/release/bokeh-widgets-0.12.3.min.js'];\n",
       "\n",
       "  var inline_js = [\n",
       "    function(Bokeh) {\n",
       "      Bokeh.set_log_level(\"info\");\n",
       "    },\n",
       "    \n",
       "    function(Bokeh) {\n",
       "      \n",
       "      Bokeh.$(\"#bbba3ed3-80f4-4bcf-8c47-fd9a68275665\").text(\"BokehJS is loading...\");\n",
       "    },\n",
       "    function(Bokeh) {\n",
       "      console.log(\"Bokeh: injecting CSS: https://cdn.pydata.org/bokeh/release/bokeh-0.12.3.min.css\");\n",
       "      Bokeh.embed.inject_css(\"https://cdn.pydata.org/bokeh/release/bokeh-0.12.3.min.css\");\n",
       "      console.log(\"Bokeh: injecting CSS: https://cdn.pydata.org/bokeh/release/bokeh-widgets-0.12.3.min.css\");\n",
       "      Bokeh.embed.inject_css(\"https://cdn.pydata.org/bokeh/release/bokeh-widgets-0.12.3.min.css\");\n",
       "    }\n",
       "  ];\n",
       "\n",
       "  function run_inline_js() {\n",
       "    \n",
       "    if ((window.Bokeh !== undefined) || (force === \"1\")) {\n",
       "      for (var i = 0; i < inline_js.length; i++) {\n",
       "        inline_js[i](window.Bokeh);\n",
       "      }if (force === \"1\") {\n",
       "        display_loaded();\n",
       "      }} else if (Date.now() < window._bokeh_timeout) {\n",
       "      setTimeout(run_inline_js, 100);\n",
       "    } else if (!window._bokeh_failed_load) {\n",
       "      console.log(\"Bokeh: BokehJS failed to load within specified timeout.\");\n",
       "      window._bokeh_failed_load = true;\n",
       "    } else if (!force) {\n",
       "      var cell = $(\"#bbba3ed3-80f4-4bcf-8c47-fd9a68275665\").parents('.cell').data().cell;\n",
       "      cell.output_area.append_execute_result(NB_LOAD_WARNING)\n",
       "    }\n",
       "\n",
       "  }\n",
       "\n",
       "  if (window._bokeh_is_loading === 0) {\n",
       "    console.log(\"Bokeh: BokehJS loaded, going straight to plotting\");\n",
       "    run_inline_js();\n",
       "  } else {\n",
       "    load_libs(js_urls, function() {\n",
       "      console.log(\"Bokeh: BokehJS plotting callback run at\", now());\n",
       "      run_inline_js();\n",
       "    });\n",
       "  }\n",
       "}(this));"
      ]
     },
     "metadata": {},
     "output_type": "display_data"
    },
    {
     "data": {
      "text/html": [
       "\n",
       "\n",
       "    <div class=\"bk-root\">\n",
       "        <div class=\"plotdiv\" id=\"c3cd7706-ddbd-4ad3-9c07-155bb004f9fe\"></div>\n",
       "    </div>\n",
       "<script type=\"text/javascript\">\n",
       "  \n",
       "  (function(global) {\n",
       "    function now() {\n",
       "      return new Date();\n",
       "    }\n",
       "  \n",
       "    var force = \"\";\n",
       "  \n",
       "    if (typeof (window._bokeh_onload_callbacks) === \"undefined\" || force !== \"\") {\n",
       "      window._bokeh_onload_callbacks = [];\n",
       "      window._bokeh_is_loading = undefined;\n",
       "    }\n",
       "  \n",
       "  \n",
       "    \n",
       "    if (typeof (window._bokeh_timeout) === \"undefined\" || force !== \"\") {\n",
       "      window._bokeh_timeout = Date.now() + 0;\n",
       "      window._bokeh_failed_load = false;\n",
       "    }\n",
       "  \n",
       "    var NB_LOAD_WARNING = {'data': {'text/html':\n",
       "       \"<div style='background-color: #fdd'>\\n\"+\n",
       "       \"<p>\\n\"+\n",
       "       \"BokehJS does not appear to have successfully loaded. If loading BokehJS from CDN, this \\n\"+\n",
       "       \"may be due to a slow or bad network connection. Possible fixes:\\n\"+\n",
       "       \"</p>\\n\"+\n",
       "       \"<ul>\\n\"+\n",
       "       \"<li>re-rerun `output_notebook()` to attempt to load from CDN again, or</li>\\n\"+\n",
       "       \"<li>use INLINE resources instead, as so:</li>\\n\"+\n",
       "       \"</ul>\\n\"+\n",
       "       \"<code>\\n\"+\n",
       "       \"from bokeh.resources import INLINE\\n\"+\n",
       "       \"output_notebook(resources=INLINE)\\n\"+\n",
       "       \"</code>\\n\"+\n",
       "       \"</div>\"}};\n",
       "  \n",
       "    function display_loaded() {\n",
       "      if (window.Bokeh !== undefined) {\n",
       "        Bokeh.$(\"#c3cd7706-ddbd-4ad3-9c07-155bb004f9fe\").text(\"BokehJS successfully loaded.\");\n",
       "      } else if (Date.now() < window._bokeh_timeout) {\n",
       "        setTimeout(display_loaded, 100)\n",
       "      }\n",
       "    }\n",
       "  \n",
       "    function run_callbacks() {\n",
       "      window._bokeh_onload_callbacks.forEach(function(callback) { callback() });\n",
       "      delete window._bokeh_onload_callbacks\n",
       "      console.info(\"Bokeh: all callbacks have finished\");\n",
       "    }\n",
       "  \n",
       "    function load_libs(js_urls, callback) {\n",
       "      window._bokeh_onload_callbacks.push(callback);\n",
       "      if (window._bokeh_is_loading > 0) {\n",
       "        console.log(\"Bokeh: BokehJS is being loaded, scheduling callback at\", now());\n",
       "        return null;\n",
       "      }\n",
       "      if (js_urls == null || js_urls.length === 0) {\n",
       "        run_callbacks();\n",
       "        return null;\n",
       "      }\n",
       "      console.log(\"Bokeh: BokehJS not loaded, scheduling load and callback at\", now());\n",
       "      window._bokeh_is_loading = js_urls.length;\n",
       "      for (var i = 0; i < js_urls.length; i++) {\n",
       "        var url = js_urls[i];\n",
       "        var s = document.createElement('script');\n",
       "        s.src = url;\n",
       "        s.async = false;\n",
       "        s.onreadystatechange = s.onload = function() {\n",
       "          window._bokeh_is_loading--;\n",
       "          if (window._bokeh_is_loading === 0) {\n",
       "            console.log(\"Bokeh: all BokehJS libraries loaded\");\n",
       "            run_callbacks()\n",
       "          }\n",
       "        };\n",
       "        s.onerror = function() {\n",
       "          console.warn(\"failed to load library \" + url);\n",
       "        };\n",
       "        console.log(\"Bokeh: injecting script tag for BokehJS library: \", url);\n",
       "        document.getElementsByTagName(\"head\")[0].appendChild(s);\n",
       "      }\n",
       "    };var element = document.getElementById(\"c3cd7706-ddbd-4ad3-9c07-155bb004f9fe\");\n",
       "    if (element == null) {\n",
       "      console.log(\"Bokeh: ERROR: autoload.js configured with elementid 'c3cd7706-ddbd-4ad3-9c07-155bb004f9fe' but no matching script tag was found. \")\n",
       "      return false;\n",
       "    }\n",
       "  \n",
       "    var js_urls = [];\n",
       "  \n",
       "    var inline_js = [\n",
       "      function(Bokeh) {\n",
       "        Bokeh.$(function() {\n",
       "            var docs_json = {\"bd4179f5-1292-4a5f-b139-06bbb232d20d\":{\"roots\":{\"references\":[{\"attributes\":{},\"id\":\"27b58a3a-626b-41f0-a7c5-ea16045f7229\",\"type\":\"BasicTicker\"},{\"attributes\":{\"months\":[0,2,4,6,8,10]},\"id\":\"8060ae03-2ced-44b2-b617-fe0822d36887\",\"type\":\"MonthsTicker\"},{\"attributes\":{\"months\":[0,6]},\"id\":\"a85de8c1-4c21-42a6-bcd1-61dcd37eb678\",\"type\":\"MonthsTicker\"},{\"attributes\":{\"callback\":null},\"id\":\"d674bd5d-52ec-448c-b5ff-ddb9d480efc9\",\"type\":\"DataRange1d\"},{\"attributes\":{\"callback\":null,\"column_names\":[\"ys\",\"xs\",\"line_color\"],\"data\":{\"line_color\":[\"#5e4fa2\",\"#3288bd\",\"#66c2a5\",\"#abdda4\",\"#e6f598\"],\"xs\":[[\"2015\",\"2016\"],[\"2015\",\"2016\"],[\"2015\",\"2016\"],[\"2015\",\"2016\"],[\"2015\",\"2016\"]],\"ys\":[[2511,3933],[3092,3132],[1943,1913],[17699,21133],[1624,5242]]}},\"id\":\"a513d2e4-3ded-42ab-82d3-d5dbe9173ec8\",\"type\":\"ColumnDataSource\"},{\"attributes\":{\"data_source\":{\"id\":\"a513d2e4-3ded-42ab-82d3-d5dbe9173ec8\",\"type\":\"ColumnDataSource\"},\"glyph\":{\"id\":\"764f8ffd-66fe-4f90-a5f4-edfdbb4e7799\",\"type\":\"MultiLine\"},\"hover_glyph\":null,\"nonselection_glyph\":{\"id\":\"19f264d7-e118-491d-a5f6-2d56ccd47b2b\",\"type\":\"MultiLine\"},\"selection_glyph\":null},\"id\":\"5c2880ea-bb31-4f93-ba61-933a2db31468\",\"type\":\"GlyphRenderer\"},{\"attributes\":{},\"id\":\"a7e0e19e-744c-449a-92e3-b14d41a68305\",\"type\":\"BasicTickFormatter\"},{\"attributes\":{\"plot\":{\"id\":\"c3c710ef-871d-4dab-a599-a1b7cd77f800\",\"subtype\":\"Figure\",\"type\":\"Plot\"}},\"id\":\"cfb5ed6f-9727-492b-baaa-9a69a6a76ac0\",\"type\":\"SaveTool\"},{\"attributes\":{\"below\":[{\"id\":\"00cc12ff-39f3-458d-bfd8-36375bb2d181\",\"type\":\"DatetimeAxis\"}],\"left\":[{\"id\":\"76fdb48d-476c-430d-8d6a-cd41e9452da9\",\"type\":\"LinearAxis\"}],\"plot_height\":300,\"plot_width\":500,\"renderers\":[{\"id\":\"00cc12ff-39f3-458d-bfd8-36375bb2d181\",\"type\":\"DatetimeAxis\"},{\"id\":\"a38f9e1b-c218-4e5a-ae71-cf3ae94cbe1c\",\"type\":\"Grid\"},{\"id\":\"76fdb48d-476c-430d-8d6a-cd41e9452da9\",\"type\":\"LinearAxis\"},{\"id\":\"d091148f-df73-4500-a489-72194fcdbe27\",\"type\":\"Grid\"},{\"id\":\"7c8e8601-474d-49b4-896b-eb9c32c378a9\",\"type\":\"BoxAnnotation\"},{\"id\":\"5c2880ea-bb31-4f93-ba61-933a2db31468\",\"type\":\"GlyphRenderer\"}],\"title\":{\"id\":\"cb76b54e-376f-4d22-851e-df8d37e05f45\",\"type\":\"Title\"},\"tool_events\":{\"id\":\"44b508aa-29ce-4479-9e4f-e7fa808a410b\",\"type\":\"ToolEvents\"},\"toolbar\":{\"id\":\"f64de0e7-bc0b-41e6-bf3e-4e076584ac23\",\"type\":\"Toolbar\"},\"x_range\":{\"id\":\"3e48ebb0-2cf2-474e-9ef0-3ef7a8ced9d8\",\"type\":\"DataRange1d\"},\"y_range\":{\"id\":\"d674bd5d-52ec-448c-b5ff-ddb9d480efc9\",\"type\":\"DataRange1d\"}},\"id\":\"c3c710ef-871d-4dab-a599-a1b7cd77f800\",\"subtype\":\"Figure\",\"type\":\"Plot\"},{\"attributes\":{\"days\":[1,15]},\"id\":\"71694111-9f0c-4a1c-a352-bb8d0523c527\",\"type\":\"DaysTicker\"},{\"attributes\":{\"bottom_units\":\"screen\",\"fill_alpha\":{\"value\":0.5},\"fill_color\":{\"value\":\"lightgrey\"},\"left_units\":\"screen\",\"level\":\"overlay\",\"line_alpha\":{\"value\":1.0},\"line_color\":{\"value\":\"black\"},\"line_dash\":[4,4],\"line_width\":{\"value\":2},\"plot\":null,\"render_mode\":\"css\",\"right_units\":\"screen\",\"top_units\":\"screen\"},\"id\":\"7c8e8601-474d-49b4-896b-eb9c32c378a9\",\"type\":\"BoxAnnotation\"},{\"attributes\":{\"months\":[0,1,2,3,4,5,6,7,8,9,10,11]},\"id\":\"c22cef35-64d6-4278-b477-cb303630b200\",\"type\":\"MonthsTicker\"},{\"attributes\":{\"max_interval\":500.0,\"num_minor_ticks\":0},\"id\":\"9fb24654-0b84-46a4-8b21-c423df7b667f\",\"type\":\"AdaptiveTicker\"},{\"attributes\":{\"formatter\":{\"id\":\"a7e0e19e-744c-449a-92e3-b14d41a68305\",\"type\":\"BasicTickFormatter\"},\"plot\":{\"id\":\"c3c710ef-871d-4dab-a599-a1b7cd77f800\",\"subtype\":\"Figure\",\"type\":\"Plot\"},\"ticker\":{\"id\":\"27b58a3a-626b-41f0-a7c5-ea16045f7229\",\"type\":\"BasicTicker\"}},\"id\":\"76fdb48d-476c-430d-8d6a-cd41e9452da9\",\"type\":\"LinearAxis\"},{\"attributes\":{\"line_color\":{\"field\":\"line_color\"},\"line_width\":{\"value\":5},\"xs\":{\"field\":\"xs\"},\"ys\":{\"field\":\"ys\"}},\"id\":\"764f8ffd-66fe-4f90-a5f4-edfdbb4e7799\",\"type\":\"MultiLine\"},{\"attributes\":{\"plot\":{\"id\":\"c3c710ef-871d-4dab-a599-a1b7cd77f800\",\"subtype\":\"Figure\",\"type\":\"Plot\"}},\"id\":\"de4b729d-d7a6-48e1-9691-6643a729d9ae\",\"type\":\"PanTool\"},{\"attributes\":{\"plot\":{\"id\":\"c3c710ef-871d-4dab-a599-a1b7cd77f800\",\"subtype\":\"Figure\",\"type\":\"Plot\"}},\"id\":\"4179d810-5c00-4c87-8172-0c23ce0bac03\",\"type\":\"ResetTool\"},{\"attributes\":{\"dimension\":1,\"plot\":{\"id\":\"c3c710ef-871d-4dab-a599-a1b7cd77f800\",\"subtype\":\"Figure\",\"type\":\"Plot\"},\"ticker\":{\"id\":\"27b58a3a-626b-41f0-a7c5-ea16045f7229\",\"type\":\"BasicTicker\"}},\"id\":\"d091148f-df73-4500-a489-72194fcdbe27\",\"type\":\"Grid\"},{\"attributes\":{\"days\":[1,4,7,10,13,16,19,22,25,28]},\"id\":\"ddcbf0ff-ce88-4606-8129-b2fe54bb0afb\",\"type\":\"DaysTicker\"},{\"attributes\":{\"plot\":{\"id\":\"c3c710ef-871d-4dab-a599-a1b7cd77f800\",\"subtype\":\"Figure\",\"type\":\"Plot\"},\"ticker\":{\"id\":\"867fc459-049e-4929-9a74-166d4b761350\",\"type\":\"DatetimeTicker\"}},\"id\":\"a38f9e1b-c218-4e5a-ae71-cf3ae94cbe1c\",\"type\":\"Grid\"},{\"attributes\":{\"line_alpha\":{\"value\":0.1},\"line_color\":{\"value\":\"#1f77b4\"},\"line_width\":{\"value\":5},\"xs\":{\"field\":\"xs\"},\"ys\":{\"field\":\"ys\"}},\"id\":\"19f264d7-e118-491d-a5f6-2d56ccd47b2b\",\"type\":\"MultiLine\"},{\"attributes\":{\"plot\":{\"id\":\"c3c710ef-871d-4dab-a599-a1b7cd77f800\",\"subtype\":\"Figure\",\"type\":\"Plot\"}},\"id\":\"f0b6d0f0-3fcf-499f-8609-0524d828a43b\",\"type\":\"HelpTool\"},{\"attributes\":{\"base\":60,\"mantissas\":[1,2,5,10,15,20,30],\"max_interval\":1800000.0,\"min_interval\":1000.0,\"num_minor_ticks\":0},\"id\":\"1e0e9143-e44f-46de-a2f2-1d1e704d2de3\",\"type\":\"AdaptiveTicker\"},{\"attributes\":{\"num_minor_ticks\":5},\"id\":\"867fc459-049e-4929-9a74-166d4b761350\",\"type\":\"DatetimeTicker\"},{\"attributes\":{\"callback\":null},\"id\":\"3e48ebb0-2cf2-474e-9ef0-3ef7a8ced9d8\",\"type\":\"DataRange1d\"},{\"attributes\":{},\"id\":\"e1bb5ea5-cd9a-4fe5-9623-8831d0c1ca42\",\"type\":\"DatetimeTickFormatter\"},{\"attributes\":{\"plot\":null,\"text\":null},\"id\":\"cb76b54e-376f-4d22-851e-df8d37e05f45\",\"type\":\"Title\"},{\"attributes\":{\"days\":[1,2,3,4,5,6,7,8,9,10,11,12,13,14,15,16,17,18,19,20,21,22,23,24,25,26,27,28,29,30,31]},\"id\":\"573e8a1a-1f6f-41bf-a5ed-bd0273745853\",\"type\":\"DaysTicker\"},{\"attributes\":{},\"id\":\"7448e410-75da-4403-8bf1-5e57d7904e67\",\"type\":\"YearsTicker\"},{\"attributes\":{\"plot\":{\"id\":\"c3c710ef-871d-4dab-a599-a1b7cd77f800\",\"subtype\":\"Figure\",\"type\":\"Plot\"}},\"id\":\"6125fb61-87e0-4ff1-b48e-fb2da3c957e9\",\"type\":\"WheelZoomTool\"},{\"attributes\":{},\"id\":\"44b508aa-29ce-4479-9e4f-e7fa808a410b\",\"type\":\"ToolEvents\"},{\"attributes\":{\"formatter\":{\"id\":\"e1bb5ea5-cd9a-4fe5-9623-8831d0c1ca42\",\"type\":\"DatetimeTickFormatter\"},\"plot\":{\"id\":\"c3c710ef-871d-4dab-a599-a1b7cd77f800\",\"subtype\":\"Figure\",\"type\":\"Plot\"},\"ticker\":{\"id\":\"867fc459-049e-4929-9a74-166d4b761350\",\"type\":\"DatetimeTicker\"}},\"id\":\"00cc12ff-39f3-458d-bfd8-36375bb2d181\",\"type\":\"DatetimeAxis\"},{\"attributes\":{\"active_drag\":\"auto\",\"active_scroll\":\"auto\",\"active_tap\":\"auto\",\"tools\":[{\"id\":\"de4b729d-d7a6-48e1-9691-6643a729d9ae\",\"type\":\"PanTool\"},{\"id\":\"6125fb61-87e0-4ff1-b48e-fb2da3c957e9\",\"type\":\"WheelZoomTool\"},{\"id\":\"31bcc899-81fa-4789-97a2-bfd718bfbe8d\",\"type\":\"BoxZoomTool\"},{\"id\":\"cfb5ed6f-9727-492b-baaa-9a69a6a76ac0\",\"type\":\"SaveTool\"},{\"id\":\"4179d810-5c00-4c87-8172-0c23ce0bac03\",\"type\":\"ResetTool\"},{\"id\":\"f0b6d0f0-3fcf-499f-8609-0524d828a43b\",\"type\":\"HelpTool\"}]},\"id\":\"f64de0e7-bc0b-41e6-bf3e-4e076584ac23\",\"type\":\"Toolbar\"},{\"attributes\":{\"base\":24,\"mantissas\":[1,2,4,6,8,12],\"max_interval\":43200000.0,\"min_interval\":3600000.0,\"num_minor_ticks\":0},\"id\":\"08377a5a-d3e0-4fdc-95b0-5dce785d4921\",\"type\":\"AdaptiveTicker\"},{\"attributes\":{\"overlay\":{\"id\":\"7c8e8601-474d-49b4-896b-eb9c32c378a9\",\"type\":\"BoxAnnotation\"},\"plot\":{\"id\":\"c3c710ef-871d-4dab-a599-a1b7cd77f800\",\"subtype\":\"Figure\",\"type\":\"Plot\"}},\"id\":\"31bcc899-81fa-4789-97a2-bfd718bfbe8d\",\"type\":\"BoxZoomTool\"},{\"attributes\":{\"months\":[0,4,8]},\"id\":\"9f206779-1449-482d-8acd-dd315ddeef28\",\"type\":\"MonthsTicker\"},{\"attributes\":{\"days\":[1,8,15,22]},\"id\":\"ff9c3e94-20a2-4fc6-9266-bf50927e5c93\",\"type\":\"DaysTicker\"}],\"root_ids\":[\"c3c710ef-871d-4dab-a599-a1b7cd77f800\"]},\"title\":\"Bokeh Application\",\"version\":\"0.12.3\"}};\n",
       "            var render_items = [{\"docid\":\"bd4179f5-1292-4a5f-b139-06bbb232d20d\",\"elementid\":\"c3cd7706-ddbd-4ad3-9c07-155bb004f9fe\",\"modelid\":\"c3c710ef-871d-4dab-a599-a1b7cd77f800\"}];\n",
       "            \n",
       "            Bokeh.embed.embed_items(docs_json, render_items);\n",
       "        });\n",
       "      },\n",
       "      function(Bokeh) {\n",
       "      }\n",
       "    ];\n",
       "  \n",
       "    function run_inline_js() {\n",
       "      \n",
       "      if ((window.Bokeh !== undefined) || (force === \"1\")) {\n",
       "        for (var i = 0; i < inline_js.length; i++) {\n",
       "          inline_js[i](window.Bokeh);\n",
       "        }if (force === \"1\") {\n",
       "          display_loaded();\n",
       "        }} else if (Date.now() < window._bokeh_timeout) {\n",
       "        setTimeout(run_inline_js, 100);\n",
       "      } else if (!window._bokeh_failed_load) {\n",
       "        console.log(\"Bokeh: BokehJS failed to load within specified timeout.\");\n",
       "        window._bokeh_failed_load = true;\n",
       "      } else if (!force) {\n",
       "        var cell = $(\"#c3cd7706-ddbd-4ad3-9c07-155bb004f9fe\").parents('.cell').data().cell;\n",
       "        cell.output_area.append_execute_result(NB_LOAD_WARNING)\n",
       "      }\n",
       "  \n",
       "    }\n",
       "  \n",
       "    if (window._bokeh_is_loading === 0) {\n",
       "      console.log(\"Bokeh: BokehJS loaded, going straight to plotting\");\n",
       "      run_inline_js();\n",
       "    } else {\n",
       "      load_libs(js_urls, function() {\n",
       "        console.log(\"Bokeh: BokehJS plotting callback run at\", now());\n",
       "        run_inline_js();\n",
       "      });\n",
       "    }\n",
       "  }(this));\n",
       "</script>"
      ]
     },
     "metadata": {},
     "output_type": "display_data"
    }
   ],
   "source": [
    "from bokeh.palettes import Spectral11\n",
    "from bokeh.plotting import figure, show, output_file\n",
    "\n",
    "\n",
    "numlines=len(df2.columns)\n",
    "mypalette=Spectral11[0:numlines]\n",
    "\n",
    "p = figure(width=500, height=300, x_axis_type=\"datetime\") \n",
    "p.multi_line(xs=[df2.index.values]*numlines,\n",
    "                ys=[df2[name].values for name in df2],\n",
    "                line_color=mypalette,\n",
    "                line_width=5)\n",
    "output_notebook()\n",
    "show(p)"
   ]
  },
  {
   "cell_type": "markdown",
   "metadata": {
    "collapsed": true
   },
   "source": [
    "# The above graph needs labels for years and what the line represent.   But it shows that all the growth in reports is coming from the mobile app."
   ]
  },
  {
   "cell_type": "code",
   "execution_count": null,
   "metadata": {
    "collapsed": true
   },
   "outputs": [],
   "source": []
  },
  {
   "cell_type": "code",
   "execution_count": null,
   "metadata": {
    "collapsed": true
   },
   "outputs": [],
   "source": []
  },
  {
   "cell_type": "code",
   "execution_count": null,
   "metadata": {
    "collapsed": true
   },
   "outputs": [],
   "source": []
  },
  {
   "cell_type": "markdown",
   "metadata": {
    "collapsed": true
   },
   "source": [
    "# Grab url and begin pulling year of data"
   ]
  },
  {
   "cell_type": "code",
   "execution_count": null,
   "metadata": {
    "collapsed": false
   },
   "outputs": [],
   "source": [
    "url = 'https://data.sfgov.org/resource/rme2-xgvs.json'\n",
    "url = url[:-4]+'csv'\n",
    "url"
   ]
  },
  {
   "cell_type": "code",
   "execution_count": null,
   "metadata": {
    "collapsed": true
   },
   "outputs": [],
   "source": []
  },
  {
   "cell_type": "markdown",
   "metadata": {},
   "source": [
    "# Growth in reports (2013 to 2016)"
   ]
  },
  {
   "cell_type": "markdown",
   "metadata": {
    "collapsed": true
   },
   "source": [
    "### Code for dealing with Socrata limit of 50,000 api limit"
   ]
  },
  {
   "cell_type": "code",
   "execution_count": null,
   "metadata": {
    "collapsed": false
   },
   "outputs": [],
   "source": [
    "\n",
    "limit = '?$limit=50000'\n",
    "offset = '&$offset=50000'\n",
    "url1 = url+limit\n",
    "print (url1)\n",
    "\n",
    "url2 = url1 + offset\n",
    "print (url2)"
   ]
  },
  {
   "cell_type": "code",
   "execution_count": null,
   "metadata": {
    "collapsed": false
   },
   "outputs": [],
   "source": [
    "# drop from url those prior to January 1\n",
    "where = '&$where='\n",
    "category = 'opened'\n",
    "start = '>='\n",
    "\n",
    "#date format 'year-mm-dd'\n",
    "onorafter = \"'2016-01-01'\"\n",
    "url2 = url2 + where + category + start + str(onorafter) \n",
    "print(url2)"
   ]
  },
  {
   "cell_type": "markdown",
   "metadata": {
    "collapsed": true
   },
   "source": [
    "# Concatenate or Vertically stack the two dataFrames"
   ]
  },
  {
   "cell_type": "code",
   "execution_count": null,
   "metadata": {
    "collapsed": false
   },
   "outputs": [],
   "source": [
    "df1  = pd.read_csv(url1)\n",
    "df2 = pd.read_csv(url2)\n",
    "df = pd.concat([df1,df2])\n",
    "df.shape\n"
   ]
  },
  {
   "cell_type": "code",
   "execution_count": null,
   "metadata": {
    "collapsed": false
   },
   "outputs": [],
   "source": [
    "# frames = [df1,df2]\n",
    "# df = pd.concat(frames)"
   ]
  },
  {
   "cell_type": "code",
   "execution_count": null,
   "metadata": {
    "collapsed": false
   },
   "outputs": [],
   "source": []
  },
  {
   "cell_type": "markdown",
   "metadata": {},
   "source": [
    "# Convert the time series into pandas time version"
   ]
  },
  {
   "cell_type": "code",
   "execution_count": null,
   "metadata": {
    "collapsed": false
   },
   "outputs": [],
   "source": [
    "df.columns"
   ]
  },
  {
   "cell_type": "code",
   "execution_count": null,
   "metadata": {
    "collapsed": false
   },
   "outputs": [],
   "source": [
    "type(df.Opened)"
   ]
  },
  {
   "cell_type": "code",
   "execution_count": null,
   "metadata": {
    "collapsed": false
   },
   "outputs": [],
   "source": [
    "df['Opened'] = pd.to_datetime(df['Opened']).dt.strftime('%Y-%m-%d')"
   ]
  },
  {
   "cell_type": "code",
   "execution_count": null,
   "metadata": {
    "collapsed": true
   },
   "outputs": [],
   "source": [
    "df['Closed'] = pd.to_datetime(df['Closed']).dt.strftime('%Y-%m-%d')\n",
    "df['Updated'] = pd.to_datetime(df['Updated']).dt.strftime('%Y-%m-%d')\n"
   ]
  },
  {
   "cell_type": "code",
   "execution_count": null,
   "metadata": {
    "collapsed": false
   },
   "outputs": [],
   "source": [
    "df.head(2)"
   ]
  },
  {
   "cell_type": "code",
   "execution_count": null,
   "metadata": {
    "collapsed": false
   },
   "outputs": [],
   "source": [
    "df.to_string(columns='Supervisor District')"
   ]
  },
  {
   "cell_type": "code",
   "execution_count": null,
   "metadata": {
    "collapsed": false
   },
   "outputs": [],
   "source": [
    "df.to_string(columns = 'Supervisor District')"
   ]
  },
  {
   "cell_type": "code",
   "execution_count": null,
   "metadata": {
    "collapsed": false
   },
   "outputs": [],
   "source": [
    "df['Diff'] =(df.Closed-df.Opened).astype('timedelta64[D]')\n"
   ]
  },
  {
   "cell_type": "code",
   "execution_count": null,
   "metadata": {
    "collapsed": false
   },
   "outputs": [],
   "source": [
    "type(df['Supervisor District'])"
   ]
  },
  {
   "cell_type": "code",
   "execution_count": null,
   "metadata": {
    "collapsed": false
   },
   "outputs": [],
   "source": [
    "df.Diff.describe()"
   ]
  },
  {
   "cell_type": "code",
   "execution_count": null,
   "metadata": {
    "collapsed": false
   },
   "outputs": [],
   "source": [
    "df[df['Neighborhood' ]== \"Mission\"].head(85)"
   ]
  },
  {
   "cell_type": "code",
   "execution_count": null,
   "metadata": {
    "collapsed": false
   },
   "outputs": [],
   "source": [
    "df[df['Neighborhood' ]== \"Mission\"].describe()"
   ]
  },
  {
   "cell_type": "code",
   "execution_count": null,
   "metadata": {
    "collapsed": false
   },
   "outputs": [],
   "source": [
    "df['Responsible Agency'].value_counts()[:6]"
   ]
  },
  {
   "cell_type": "code",
   "execution_count": null,
   "metadata": {
    "collapsed": false
   },
   "outputs": [],
   "source": [
    "df[df['Responsible Agency'] == 'US Postal Service Maintenance Queue']['Diff'].describe()"
   ]
  },
  {
   "cell_type": "code",
   "execution_count": null,
   "metadata": {
    "collapsed": false
   },
   "outputs": [],
   "source": [
    "df[df['Responsible Agency'] == 'Clear Channel - Transit Queue']['Diff'].describe()"
   ]
  },
  {
   "cell_type": "code",
   "execution_count": null,
   "metadata": {
    "collapsed": false
   },
   "outputs": [],
   "source": [
    "df[df['Responsible Agency'] == 'DPW Ops Queue']['Diff'].describe()"
   ]
  },
  {
   "cell_type": "code",
   "execution_count": null,
   "metadata": {
    "collapsed": false
   },
   "outputs": [],
   "source": [
    "df[df['Category'] == 'Graffiti Private Property']['Diff'].describe()"
   ]
  },
  {
   "cell_type": "code",
   "execution_count": null,
   "metadata": {
    "collapsed": false
   },
   "outputs": [],
   "source": [
    "df[df['Category'] == 'Graffiti Public Property']['Diff'].describe()"
   ]
  },
  {
   "cell_type": "code",
   "execution_count": null,
   "metadata": {
    "collapsed": false
   },
   "outputs": [],
   "source": [
    "df['Source'].value_counts()"
   ]
  },
  {
   "cell_type": "code",
   "execution_count": null,
   "metadata": {
    "collapsed": false
   },
   "outputs": [],
   "source": [
    "df[df['Source'] == 'Open311']['Diff'].describe()"
   ]
  },
  {
   "cell_type": "code",
   "execution_count": null,
   "metadata": {
    "collapsed": false
   },
   "outputs": [],
   "source": [
    "df[df['Source'] == 'Voice In']['Diff'].describe()"
   ]
  },
  {
   "cell_type": "code",
   "execution_count": null,
   "metadata": {
    "collapsed": false
   },
   "outputs": [],
   "source": [
    "df[df['Source'] == 'Integrated Agency']['Diff'].describe()"
   ]
  },
  {
   "cell_type": "markdown",
   "metadata": {},
   "source": [
    "# Consider some exploratory statistics / reality checks"
   ]
  },
  {
   "cell_type": "code",
   "execution_count": null,
   "metadata": {
    "collapsed": false
   },
   "outputs": [],
   "source": [
    "source = df.Source.value_counts()\n",
    "print(type(source))\n",
    "\n",
    "\n",
    "print(source)"
   ]
  },
  {
   "cell_type": "code",
   "execution_count": null,
   "metadata": {
    "collapsed": false
   },
   "outputs": [],
   "source": [
    "type(source)"
   ]
  },
  {
   "cell_type": "code",
   "execution_count": null,
   "metadata": {
    "collapsed": false
   },
   "outputs": [],
   "source": [
    "label_list = source.index.tolist()\n",
    "print(label_list)"
   ]
  },
  {
   "cell_type": "code",
   "execution_count": null,
   "metadata": {
    "collapsed": false
   },
   "outputs": [],
   "source": [
    "source = source.tolist()\n",
    "source\n"
   ]
  },
  {
   "cell_type": "code",
   "execution_count": null,
   "metadata": {
    "collapsed": false
   },
   "outputs": [],
   "source": [
    "\n",
    "\n",
    "plt.axis(\"equal\")\n",
    "plt.pie(\n",
    "        source,\n",
    "        labels=label_list,\n",
    "        autopct=\"%1.1f%%\"\n",
    "        )\n",
    "plt.title(\"Graffiti Reports Submitted in 2016\")\n",
    "plt.show()"
   ]
  },
  {
   "cell_type": "code",
   "execution_count": null,
   "metadata": {
    "collapsed": true
   },
   "outputs": [],
   "source": []
  },
  {
   "cell_type": "code",
   "execution_count": null,
   "metadata": {
    "collapsed": false
   },
   "outputs": [],
   "source": [
    "sups = df['Supervisor District'].value_counts().head(11)"
   ]
  },
  {
   "cell_type": "code",
   "execution_count": null,
   "metadata": {
    "collapsed": false
   },
   "outputs": [],
   "source": [
    "top = "
   ]
  },
  {
   "cell_type": "markdown",
   "metadata": {},
   "source": [
    "# Get list of Supervisor's'"
   ]
  },
  {
   "cell_type": "code",
   "execution_count": null,
   "metadata": {
    "collapsed": true
   },
   "outputs": [],
   "source": []
  },
  {
   "cell_type": "code",
   "execution_count": null,
   "metadata": {
    "collapsed": true
   },
   "outputs": [],
   "source": []
  },
  {
   "cell_type": "code",
   "execution_count": null,
   "metadata": {
    "collapsed": true
   },
   "outputs": [],
   "source": []
  },
  {
   "cell_type": "code",
   "execution_count": null,
   "metadata": {
    "collapsed": false
   },
   "outputs": [],
   "source": [
    "df['Status Notes'].value_counts().head(10)"
   ]
  },
  {
   "cell_type": "code",
   "execution_count": null,
   "metadata": {
    "collapsed": false
   },
   "outputs": [],
   "source": [
    "df['Status'].value_counts().head()"
   ]
  },
  {
   "cell_type": "code",
   "execution_count": null,
   "metadata": {
    "collapsed": false
   },
   "outputs": [],
   "source": [
    "df['Responsible Agency'].value_counts().head(8)"
   ]
  },
  {
   "cell_type": "code",
   "execution_count": null,
   "metadata": {
    "collapsed": false
   },
   "outputs": [],
   "source": [
    "df.Category.value_counts().head()"
   ]
  },
  {
   "cell_type": "code",
   "execution_count": null,
   "metadata": {
    "collapsed": false
   },
   "outputs": [],
   "source": [
    "df['Request Type'].value_counts().head(10)"
   ]
  },
  {
   "cell_type": "code",
   "execution_count": null,
   "metadata": {
    "collapsed": false
   },
   "outputs": [],
   "source": [
    "df['Request Details'].value_counts().head(20)"
   ]
  },
  {
   "cell_type": "code",
   "execution_count": null,
   "metadata": {
    "collapsed": false
   },
   "outputs": [],
   "source": [
    "df['Address'].value_counts().head(20)"
   ]
  },
  {
   "cell_type": "code",
   "execution_count": null,
   "metadata": {
    "collapsed": false
   },
   "outputs": [],
   "source": [
    "df['Source'].value_counts().head(6)"
   ]
  },
  {
   "cell_type": "code",
   "execution_count": null,
   "metadata": {
    "collapsed": false
   },
   "outputs": [],
   "source": [
    "df['Media URL'].describe()"
   ]
  },
  {
   "cell_type": "code",
   "execution_count": null,
   "metadata": {
    "collapsed": false
   },
   "outputs": [],
   "source": [
    "df['Point'].describe()"
   ]
  },
  {
   "cell_type": "code",
   "execution_count": null,
   "metadata": {
    "collapsed": true
   },
   "outputs": [],
   "source": [
    "\n",
    "\n",
    "\n"
   ]
  },
  {
   "cell_type": "markdown",
   "metadata": {
    "collapsed": true
   },
   "source": [
    "# Plot this.    Simple First\n"
   ]
  },
  {
   "cell_type": "code",
   "execution_count": null,
   "metadata": {
    "collapsed": true
   },
   "outputs": [],
   "source": [
    "#Plot by top responsible agency that is not DPW"
   ]
  },
  {
   "cell_type": "code",
   "execution_count": null,
   "metadata": {
    "collapsed": true
   },
   "outputs": [],
   "source": []
  },
  {
   "cell_type": "code",
   "execution_count": null,
   "metadata": {
    "collapsed": true
   },
   "outputs": [],
   "source": []
  },
  {
   "cell_type": "code",
   "execution_count": null,
   "metadata": {
    "collapsed": true
   },
   "outputs": [],
   "source": []
  },
  {
   "cell_type": "code",
   "execution_count": null,
   "metadata": {
    "collapsed": true
   },
   "outputs": [],
   "source": []
  },
  {
   "cell_type": "code",
   "execution_count": null,
   "metadata": {
    "collapsed": true
   },
   "outputs": [],
   "source": []
  },
  {
   "cell_type": "code",
   "execution_count": null,
   "metadata": {
    "collapsed": true
   },
   "outputs": [],
   "source": []
  },
  {
   "cell_type": "code",
   "execution_count": null,
   "metadata": {
    "collapsed": true
   },
   "outputs": [],
   "source": []
  },
  {
   "cell_type": "raw",
   "metadata": {
    "collapsed": false
   },
   "source": [
    "import pandas as pd\n",
    "\n",
    "urlX = 'https://data.sfgov.org/resource/rme2-xgvs.json'\n",
    "\n",
    "\n",
    "# load JSON as DataFrame\n",
    "json_data=pd.read_json(urlX).T\n",
    "\n",
    "# to CSV\n",
    "json_data.to_csv(\"geocoded.csv\")"
   ]
  },
  {
   "cell_type": "code",
   "execution_count": null,
   "metadata": {
    "collapsed": false
   },
   "outputs": [],
   "source": [
    "!pwd"
   ]
  },
  {
   "cell_type": "code",
   "execution_count": null,
   "metadata": {
    "collapsed": false
   },
   "outputs": [],
   "source": [
    "!ls"
   ]
  },
  {
   "cell_type": "code",
   "execution_count": null,
   "metadata": {
    "collapsed": false
   },
   "outputs": [],
   "source": [
    "!cat geocoded.csv"
   ]
  },
  {
   "cell_type": "code",
   "execution_count": null,
   "metadata": {
    "collapsed": true
   },
   "outputs": [],
   "source": []
  },
  {
   "cell_type": "markdown",
   "metadata": {},
   "source": [
    "# Start Plotting the simple items"
   ]
  },
  {
   "cell_type": "markdown",
   "metadata": {},
   "source": [
    "# Plot Responsible Agency non DPW"
   ]
  },
  {
   "cell_type": "code",
   "execution_count": null,
   "metadata": {
    "collapsed": false
   },
   "outputs": [],
   "source": [
    "respAgencyCount = df['Responsible Agency'].value_counts()"
   ]
  },
  {
   "cell_type": "code",
   "execution_count": null,
   "metadata": {
    "collapsed": true
   },
   "outputs": [],
   "source": [
    "respAgencyCount = respAgencyCount[1:27]"
   ]
  },
  {
   "cell_type": "code",
   "execution_count": null,
   "metadata": {
    "collapsed": false
   },
   "outputs": [],
   "source": [
    "respAgencyCount"
   ]
  },
  {
   "cell_type": "markdown",
   "metadata": {},
   "source": [
    "## minimally acceptable is to do pie / dpw vs all other\n",
    "### DPW share compared to prior years\n",
    "### Conclude, DPW doing a good job, how about the other departments\n",
    "### Bar Chart the top 5-6\n",
    "### Which of the top 5-6 are doing better.\n",
    "### can't give the most natural statistic, because "
   ]
  },
  {
   "cell_type": "code",
   "execution_count": null,
   "metadata": {
    "collapsed": true
   },
   "outputs": [],
   "source": []
  }
 ],
 "metadata": {
  "kernelspec": {
   "display_name": "Python 3",
   "language": "python",
   "name": "python3"
  },
  "language_info": {
   "codemirror_mode": {
    "name": "ipython",
    "version": 3
   },
   "file_extension": ".py",
   "mimetype": "text/x-python",
   "name": "python",
   "nbconvert_exporter": "python",
   "pygments_lexer": "ipython3",
   "version": "3.5.2"
  }
 },
 "nbformat": 4,
 "nbformat_minor": 1
}
